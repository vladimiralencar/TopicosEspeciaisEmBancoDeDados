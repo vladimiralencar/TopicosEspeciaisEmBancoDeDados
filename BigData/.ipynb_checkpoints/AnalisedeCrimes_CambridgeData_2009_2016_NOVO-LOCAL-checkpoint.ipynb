{
 "cells": [
  {
   "cell_type": "code",
   "execution_count": 1,
   "id": "wpATWskv8xIn",
   "metadata": {
    "id": "wpATWskv8xIn"
   },
   "outputs": [],
   "source": [
    "import pandas as pd"
   ]
  },
  {
   "cell_type": "markdown",
   "id": "Hn_lysnzlrsK",
   "metadata": {
    "id": "Hn_lysnzlrsK"
   },
   "source": [
    "#"
   ]
  },
  {
   "cell_type": "markdown",
   "id": "C6-fEDPMls4_",
   "metadata": {
    "id": "C6-fEDPMls4_"
   },
   "source": [
    "# Dataset sem as coordenadas geográficas"
   ]
  },
  {
   "cell_type": "code",
   "execution_count": null,
   "id": "h1mJASCR8xIq",
   "metadata": {
    "id": "h1mJASCR8xIq"
   },
   "outputs": [],
   "source": [
    "!pip install -q geopandas\n",
    "!pip install -q geopy\n",
    "# https://towardsdatascience.com/geocode-with-python-161ec1e62b89"
   ]
  },
  {
   "cell_type": "code",
   "execution_count": null,
   "id": "gm-bWNbA8xIr",
   "metadata": {
    "colab": {
     "base_uri": "https://localhost:8080/"
    },
    "id": "gm-bWNbA8xIr",
    "outputId": "1766fc5a-378e-4a12-e82d-74efe12eaf5c"
   },
   "outputs": [
    {
     "name": "stdout",
     "output_type": "stream",
     "text": [
      "ls: cannot access '*.csv': No such file or directory\n"
     ]
    }
   ],
   "source": [
    "!ls -ilah *.csv"
   ]
  },
  {
   "cell_type": "code",
   "execution_count": null,
   "id": "JweYNgj284DR",
   "metadata": {
    "colab": {
     "base_uri": "https://localhost:8080/",
     "height": 52
    },
    "id": "JweYNgj284DR",
    "outputId": "decac463-7e88-4dda-9ce2-ac1fa5af237d"
   },
   "outputs": [
    {
     "data": {
      "application/vnd.google.colaboratory.intrinsic+json": {
       "type": "string"
      },
      "text/plain": [
       "'https://raw.githubusercontent.com/vladimiralencar/Alunos-UEPB-TopicosEspeciaisEmBancoDeDados/master/Clusterizacao/Cambridge%20Crime%20Data%202009-2016.csv'"
      ]
     },
     "execution_count": 4,
     "metadata": {
      "tags": []
     },
     "output_type": "execute_result"
    }
   ],
   "source": [
    "url = 'https://raw.githubusercontent.com/vladimiralencar/Alunos-UEPB-TopicosEspeciaisEmBancoDeDados/master/Clusterizacao/Cambridge%20Crime%20Data%202009-2016.csv'\n",
    "url"
   ]
  },
  {
   "cell_type": "code",
   "execution_count": null,
   "id": "oxsNKZa88xIr",
   "metadata": {
    "colab": {
     "base_uri": "https://localhost:8080/",
     "height": 323
    },
    "id": "oxsNKZa88xIr",
    "outputId": "f34058a4-bf27-49c4-91b4-39f757546648"
   },
   "outputs": [
    {
     "name": "stdout",
     "output_type": "stream",
     "text": [
      "56014\n"
     ]
    },
    {
     "data": {
      "text/html": [
       "<div>\n",
       "<style scoped>\n",
       "    .dataframe tbody tr th:only-of-type {\n",
       "        vertical-align: middle;\n",
       "    }\n",
       "\n",
       "    .dataframe tbody tr th {\n",
       "        vertical-align: top;\n",
       "    }\n",
       "\n",
       "    .dataframe thead th {\n",
       "        text-align: right;\n",
       "    }\n",
       "</style>\n",
       "<table border=\"1\" class=\"dataframe\">\n",
       "  <thead>\n",
       "    <tr style=\"text-align: right;\">\n",
       "      <th></th>\n",
       "      <th>File Number</th>\n",
       "      <th>Date of Report</th>\n",
       "      <th>Crime Date Time</th>\n",
       "      <th>Crime</th>\n",
       "      <th>Reporting Area</th>\n",
       "      <th>Neighborhood</th>\n",
       "      <th>Location</th>\n",
       "    </tr>\n",
       "  </thead>\n",
       "  <tbody>\n",
       "    <tr>\n",
       "      <th>0</th>\n",
       "      <td>2009-00002</td>\n",
       "      <td>01/01/2009 12:39:00 AM</td>\n",
       "      <td>1/1/09 0:39</td>\n",
       "      <td>Simple Assault</td>\n",
       "      <td>504.0</td>\n",
       "      <td>Cambridgeport</td>\n",
       "      <td>400 Massachusetts Avenue, Cambridge, MA</td>\n",
       "    </tr>\n",
       "    <tr>\n",
       "      <th>1</th>\n",
       "      <td>2009-00003</td>\n",
       "      <td>01/01/2009 01:34:00 AM</td>\n",
       "      <td>1/1/09 1:34</td>\n",
       "      <td>Simple Assault</td>\n",
       "      <td>610.0</td>\n",
       "      <td>Mid-Cambridge</td>\n",
       "      <td>200 HAMPSHIRE STREET, Cambridge, MA</td>\n",
       "    </tr>\n",
       "    <tr>\n",
       "      <th>2</th>\n",
       "      <td>2009-00004</td>\n",
       "      <td>01/01/2009 01:43:00 AM</td>\n",
       "      <td>01/01/2009 02:20 - 02:35</td>\n",
       "      <td>Aggravated Assault</td>\n",
       "      <td>708.0</td>\n",
       "      <td>Riverside</td>\n",
       "      <td>DUNSTER STREET &amp; MOUNT AUBURN STREET, Cambridg...</td>\n",
       "    </tr>\n",
       "    <tr>\n",
       "      <th>3</th>\n",
       "      <td>2009-00005</td>\n",
       "      <td>01/01/2009 02:27:00 AM</td>\n",
       "      <td>01/01/2009 02:20 - 02:45</td>\n",
       "      <td>Simple Assault</td>\n",
       "      <td>105.0</td>\n",
       "      <td>East Cambridge</td>\n",
       "      <td>100 SCIARAPPA STREET, Cambridge, MA</td>\n",
       "    </tr>\n",
       "    <tr>\n",
       "      <th>4</th>\n",
       "      <td>2009-00006</td>\n",
       "      <td>01/01/2009 02:34:00 AM</td>\n",
       "      <td>01/01/2009 02:15 - 02:35</td>\n",
       "      <td>Disorderly</td>\n",
       "      <td>708.0</td>\n",
       "      <td>Riverside</td>\n",
       "      <td>1200 Massachusetts Avenue, Cambridge, MA</td>\n",
       "    </tr>\n",
       "  </tbody>\n",
       "</table>\n",
       "</div>"
      ],
      "text/plain": [
       "  File Number  ...                                           Location\n",
       "0  2009-00002  ...            400 Massachusetts Avenue, Cambridge, MA\n",
       "1  2009-00003  ...                200 HAMPSHIRE STREET, Cambridge, MA\n",
       "2  2009-00004  ...  DUNSTER STREET & MOUNT AUBURN STREET, Cambridg...\n",
       "3  2009-00005  ...                100 SCIARAPPA STREET, Cambridge, MA\n",
       "4  2009-00006  ...           1200 Massachusetts Avenue, Cambridge, MA\n",
       "\n",
       "[5 rows x 7 columns]"
      ]
     },
     "execution_count": 5,
     "metadata": {
      "tags": []
     },
     "output_type": "execute_result"
    }
   ],
   "source": [
    "f = 'Cambridge Crime Data 2009-2016.csv'\n",
    "f = url\n",
    "df = pd.read_csv(f)\n",
    "print(len(df))\n",
    "df.head()"
   ]
  },
  {
   "cell_type": "code",
   "execution_count": null,
   "id": "Gj_kG2rTQM25",
   "metadata": {
    "colab": {
     "base_uri": "https://localhost:8080/"
    },
    "id": "Gj_kG2rTQM25",
    "outputId": "899abd7b-ba87-4493-f604-376bf153c05e"
   },
   "outputs": [
    {
     "name": "stdout",
     "output_type": "stream",
     "text": [
      "<class 'pandas.core.frame.DataFrame'>\n",
      "RangeIndex: 56014 entries, 0 to 56013\n",
      "Data columns (total 7 columns):\n",
      " #   Column           Non-Null Count  Dtype  \n",
      "---  ------           --------------  -----  \n",
      " 0   File Number      56014 non-null  object \n",
      " 1   Date of Report   56014 non-null  object \n",
      " 2   Crime Date Time  56014 non-null  object \n",
      " 3   Crime            56014 non-null  object \n",
      " 4   Reporting Area   56012 non-null  float64\n",
      " 5   Neighborhood     56012 non-null  object \n",
      " 6   Location         55931 non-null  object \n",
      "dtypes: float64(1), object(6)\n",
      "memory usage: 3.0+ MB\n"
     ]
    }
   ],
   "source": [
    "df.info()"
   ]
  },
  {
   "cell_type": "code",
   "execution_count": null,
   "id": "0d9hQXUv8xIs",
   "metadata": {
    "colab": {
     "base_uri": "https://localhost:8080/"
    },
    "id": "0d9hQXUv8xIs",
    "outputId": "fbee70b0-8a9c-4ed3-e0dc-bdeb8c91604c"
   },
   "outputs": [
    {
     "name": "stdout",
     "output_type": "stream",
     "text": [
      "Latitude = 48.85614465, Longitude = 2.297820393322227\n"
     ]
    }
   ],
   "source": [
    "import geopandas\n",
    "import geopy\n",
    "from geopy.geocoders import Nominatim\n",
    "\n",
    "user_agent = ['myGeocoder', 'http']\n",
    "locator = Nominatim(user_agent=user_agent[0])\n",
    "location = locator.geocode('Champ de Mars, Paris, France')\n",
    "print('Latitude = {}, Longitude = {}'.format(location.latitude, location.longitude))"
   ]
  },
  {
   "cell_type": "code",
   "execution_count": null,
   "id": "g0U7pxMtQdEl",
   "metadata": {
    "colab": {
     "base_uri": "https://localhost:8080/"
    },
    "id": "g0U7pxMtQdEl",
    "outputId": "0de54f2f-fa01-4684-a764-4849b794e0c6"
   },
   "outputs": [
    {
     "name": "stdout",
     "output_type": "stream",
     "text": [
      "Latitude = -7.2098379999999995, Longitude = -35.915795853829195\n"
     ]
    }
   ],
   "source": [
    "import geopandas\n",
    "import geopy\n",
    "from geopy.geocoders import Nominatim\n",
    "\n",
    "user_agent = ['myGeocoder', 'http']\n",
    "locator = Nominatim(user_agent=user_agent[0])\n",
    "location = locator.geocode('Rua Baraúnas, 351, Paraiba, Brazil')\n",
    "print('Latitude = {}, Longitude = {}'.format(location.latitude, location.longitude))"
   ]
  },
  {
   "cell_type": "code",
   "execution_count": null,
   "id": "Y1tZJhJK8xIt",
   "metadata": {
    "id": "Y1tZJhJK8xIt"
   },
   "outputs": [],
   "source": [
    "#df1000 = df[:1000]\n",
    "#print(len(df1000))\n",
    "#df = df1000.copy()\n",
    "#df1000.head()"
   ]
  },
  {
   "cell_type": "code",
   "execution_count": null,
   "id": "LRKukYog8xIu",
   "metadata": {
    "id": "LRKukYog8xIu"
   },
   "outputs": [],
   "source": [
    "# Wall time: 8min 29s - min_delay_seconds = 0.01\n",
    "# Wall time: 8min 29s - min_delay_seconds = 0\n",
    "# Wall time: 8min 19s"
   ]
  },
  {
   "cell_type": "code",
   "execution_count": null,
   "id": "IZ67gWwV8xIu",
   "metadata": {
    "colab": {
     "base_uri": "https://localhost:8080/"
    },
    "id": "IZ67gWwV8xIu",
    "outputId": "16211a0d-6024-4eb8-db1c-6f175830be82"
   },
   "outputs": [
    {
     "name": "stderr",
     "output_type": "stream",
     "text": [
      "RateLimiter caught an error, retrying (0/2 tries). Called with (*('100 WASHINGTON STREET, Cambridge, MA',), **{}).\n",
      "Traceback (most recent call last):\n",
      "  File \"/usr/lib/python3.7/urllib/request.py\", line 1350, in do_open\n",
      "    encode_chunked=req.has_header('Transfer-encoding'))\n",
      "  File \"/usr/lib/python3.7/http/client.py\", line 1277, in request\n",
      "    self._send_request(method, url, body, headers, encode_chunked)\n",
      "  File \"/usr/lib/python3.7/http/client.py\", line 1323, in _send_request\n",
      "    self.endheaders(body, encode_chunked=encode_chunked)\n",
      "  File \"/usr/lib/python3.7/http/client.py\", line 1272, in endheaders\n",
      "    self._send_output(message_body, encode_chunked=encode_chunked)\n",
      "  File \"/usr/lib/python3.7/http/client.py\", line 1032, in _send_output\n",
      "    self.send(msg)\n",
      "  File \"/usr/lib/python3.7/http/client.py\", line 972, in send\n",
      "    self.connect()\n",
      "  File \"/usr/lib/python3.7/http/client.py\", line 1439, in connect\n",
      "    super().connect()\n",
      "  File \"/usr/lib/python3.7/http/client.py\", line 944, in connect\n",
      "    (self.host,self.port), self.timeout, self.source_address)\n",
      "  File \"/usr/lib/python3.7/socket.py\", line 728, in create_connection\n",
      "    raise err\n",
      "  File \"/usr/lib/python3.7/socket.py\", line 716, in create_connection\n",
      "    sock.connect(sa)\n",
      "OSError: [Errno 99] Cannot assign requested address\n",
      "\n",
      "During handling of the above exception, another exception occurred:\n",
      "\n",
      "Traceback (most recent call last):\n",
      "  File \"/usr/local/lib/python3.7/dist-packages/geopy/geocoders/base.py\", line 344, in _call_geocoder\n",
      "    page = requester(req, timeout=timeout, **kwargs)\n",
      "  File \"/usr/lib/python3.7/urllib/request.py\", line 525, in open\n",
      "    response = self._open(req, data)\n",
      "  File \"/usr/lib/python3.7/urllib/request.py\", line 543, in _open\n",
      "    '_open', req)\n",
      "  File \"/usr/lib/python3.7/urllib/request.py\", line 503, in _call_chain\n",
      "    result = func(*args)\n",
      "  File \"/usr/lib/python3.7/urllib/request.py\", line 1393, in https_open\n",
      "    context=self._context, check_hostname=self._check_hostname)\n",
      "  File \"/usr/lib/python3.7/urllib/request.py\", line 1352, in do_open\n",
      "    raise URLError(err)\n",
      "urllib.error.URLError: <urlopen error [Errno 99] Cannot assign requested address>\n",
      "\n",
      "During handling of the above exception, another exception occurred:\n",
      "\n",
      "Traceback (most recent call last):\n",
      "  File \"/usr/local/lib/python3.7/dist-packages/geopy/extra/rate_limiter.py\", line 130, in __call__\n",
      "    return self.func(*args, **kwargs)\n",
      "  File \"/usr/local/lib/python3.7/dist-packages/geopy/geocoders/osm.py\", line 307, in geocode\n",
      "    self._call_geocoder(url, timeout=timeout), exactly_one\n",
      "  File \"/usr/local/lib/python3.7/dist-packages/geopy/geocoders/base.py\", line 375, in _call_geocoder\n",
      "    raise GeocoderServiceError(message)\n",
      "geopy.exc.GeocoderServiceError: [Errno 99] Cannot assign requested address\n",
      "RateLimiter caught an error, retrying (0/2 tries). Called with (*('0 JFK ST, Cambridge, MA',), **{}).\n",
      "Traceback (most recent call last):\n",
      "  File \"/usr/local/lib/python3.7/dist-packages/geopy/geocoders/base.py\", line 344, in _call_geocoder\n",
      "    page = requester(req, timeout=timeout, **kwargs)\n",
      "  File \"/usr/lib/python3.7/urllib/request.py\", line 531, in open\n",
      "    response = meth(req, response)\n",
      "  File \"/usr/lib/python3.7/urllib/request.py\", line 641, in http_response\n",
      "    'http', request, response, code, msg, hdrs)\n",
      "  File \"/usr/lib/python3.7/urllib/request.py\", line 569, in error\n",
      "    return self._call_chain(*args)\n",
      "  File \"/usr/lib/python3.7/urllib/request.py\", line 503, in _call_chain\n",
      "    result = func(*args)\n",
      "  File \"/usr/lib/python3.7/urllib/request.py\", line 649, in http_error_default\n",
      "    raise HTTPError(req.full_url, code, msg, hdrs, fp)\n",
      "urllib.error.HTTPError: HTTP Error 500: Internal Server Error\n",
      "\n",
      "During handling of the above exception, another exception occurred:\n",
      "\n",
      "Traceback (most recent call last):\n",
      "  File \"/usr/local/lib/python3.7/dist-packages/geopy/geocoders/base.py\", line 362, in _call_geocoder\n",
      "    raise ERROR_CODE_MAP[code](message)\n",
      "KeyError: 500\n",
      "\n",
      "During handling of the above exception, another exception occurred:\n",
      "\n",
      "Traceback (most recent call last):\n",
      "  File \"/usr/local/lib/python3.7/dist-packages/geopy/extra/rate_limiter.py\", line 130, in __call__\n",
      "    return self.func(*args, **kwargs)\n",
      "  File \"/usr/local/lib/python3.7/dist-packages/geopy/geocoders/osm.py\", line 307, in geocode\n",
      "    self._call_geocoder(url, timeout=timeout), exactly_one\n",
      "  File \"/usr/local/lib/python3.7/dist-packages/geopy/geocoders/base.py\", line 364, in _call_geocoder\n",
      "    raise GeocoderServiceError(message)\n",
      "geopy.exc.GeocoderServiceError: HTTP Error 500: Internal Server Error\n"
     ]
    },
    {
     "name": "stdout",
     "output_type": "stream",
     "text": [
      "CPU times: user 5min 25s, sys: 1min 1s, total: 6min 26s\n",
      "Wall time: 7h 46min 57s\n"
     ]
    }
   ],
   "source": [
    "%%time\n",
    "def criar_latitude_longitude():\n",
    "  from geopy.extra.rate_limiter import RateLimiter\n",
    "\n",
    "  # 1 - conveneint function to delay between geocoding calls\n",
    "  min_delay_seconds = 0 # 0.01 #1\n",
    "  geocode = RateLimiter(locator.geocode, min_delay_seconds= min_delay_seconds)\n",
    "  # 2- - create location column\n",
    "  df['location'] = df['Location'].apply(geocode)\n",
    "  # 3 - create longitude, laatitude and altitude from location column (returns tuple)\n",
    "  df['point'] = df['location'].apply(lambda loc: tuple(loc.point) if loc else None)\n",
    "  # 4 - split point column into latitude, longitude and altitude columns\n",
    "  df[['latitude', 'longitude', 'altitude']] = pd.DataFrame(df['point'].tolist(), index=df.index)\n",
    "\n",
    "# Tempo de Execucao em 56.014 Pontos\n",
    "# CPU times: user 5min 25s, sys: 1min 1s, total: 6min 26s\n",
    "# Wall time: 7h 46min 57s\n",
    "# criar_latitude_longitude()\n",
    "\n",
    "df.head()"
   ]
  },
  {
   "cell_type": "markdown",
   "id": "VMAUd2vX1hv0",
   "metadata": {
    "id": "VMAUd2vX1hv0"
   },
   "source": [
    "# Tempo de Execucao em 56.014 Pontos\n",
    "# CPU times: user 5min 25s, sys: 1min 1s, total: 6min 26s\n",
    "# Wall time: 7h 46min 57s"
   ]
  },
  {
   "cell_type": "markdown",
   "id": "huWJJCIintka",
   "metadata": {
    "id": "huWJJCIintka"
   },
   "source": [
    "##\n",
    "## Dataset com Coordenadas (Latitude, Longitude)"
   ]
  },
  {
   "cell_type": "code",
   "execution_count": 1,
   "id": "dofOQQsEBR7j",
   "metadata": {
    "colab": {
     "base_uri": "https://localhost:8080/"
    },
    "id": "dofOQQsEBR7j",
    "outputId": "b0007eee-175f-418d-8ea8-a5ee058764ed"
   },
   "outputs": [
    {
     "name": "stdout",
     "output_type": "stream",
     "text": [
      "CPU times: user 2 µs, sys: 0 ns, total: 2 µs\n",
      "Wall time: 4.77 µs\n"
     ]
    }
   ],
   "source": [
    "%%time\n",
    "#df.to_csv('cambridge_crimes-2009-2016.csv', index=False)\n",
    "#from google.colab import files\n",
    "#files.download('cambridge_crimes-2009-2016.csv')"
   ]
  },
  {
   "cell_type": "code",
   "execution_count": 2,
   "id": "Jzb32MIb1MP7",
   "metadata": {
    "colab": {
     "base_uri": "https://localhost:8080/",
     "height": 35
    },
    "id": "Jzb32MIb1MP7",
    "outputId": "1c167385-cf1b-428f-a9cf-567ad5f05392"
   },
   "outputs": [
    {
     "data": {
      "application/vnd.google.colaboratory.intrinsic+json": {
       "type": "string"
      },
      "text/plain": [
       "'https://raw.githubusercontent.com/vladimiralencar/Alunos-UEPB-TopicosEspeciaisEmBancoDeDados/master/Clusterizacao/cambridge_crimes-2009-2016.csv'"
      ]
     },
     "execution_count": 2,
     "metadata": {
      "tags": []
     },
     "output_type": "execute_result"
    }
   ],
   "source": [
    "url = 'https://raw.githubusercontent.com/vladimiralencar/Alunos-UEPB-TopicosEspeciaisEmBancoDeDados/master/Clusterizacao/cambridge_crimes-2009-2016.csv'\n",
    "url"
   ]
  },
  {
   "cell_type": "code",
   "execution_count": 3,
   "id": "qJ6H99PcmxBY",
   "metadata": {
    "colab": {
     "base_uri": "https://localhost:8080/",
     "height": 408
    },
    "id": "qJ6H99PcmxBY",
    "outputId": "5d3f177b-1b50-4097-84f2-7cde727a863b"
   },
   "outputs": [
    {
     "data": {
      "text/html": [
       "<div>\n",
       "<style scoped>\n",
       "    .dataframe tbody tr th:only-of-type {\n",
       "        vertical-align: middle;\n",
       "    }\n",
       "\n",
       "    .dataframe tbody tr th {\n",
       "        vertical-align: top;\n",
       "    }\n",
       "\n",
       "    .dataframe thead th {\n",
       "        text-align: right;\n",
       "    }\n",
       "</style>\n",
       "<table border=\"1\" class=\"dataframe\">\n",
       "  <thead>\n",
       "    <tr style=\"text-align: right;\">\n",
       "      <th></th>\n",
       "      <th>File Number</th>\n",
       "      <th>Date of Report</th>\n",
       "      <th>Crime Date Time</th>\n",
       "      <th>Crime</th>\n",
       "      <th>Reporting Area</th>\n",
       "      <th>Neighborhood</th>\n",
       "      <th>Location</th>\n",
       "      <th>location</th>\n",
       "      <th>point</th>\n",
       "      <th>latitude</th>\n",
       "      <th>longitude</th>\n",
       "      <th>altitude</th>\n",
       "    </tr>\n",
       "  </thead>\n",
       "  <tbody>\n",
       "    <tr>\n",
       "      <th>0</th>\n",
       "      <td>2009-00002</td>\n",
       "      <td>01/01/2009 12:39:00 AM</td>\n",
       "      <td>1/1/09 0:39</td>\n",
       "      <td>Simple Assault</td>\n",
       "      <td>504.0</td>\n",
       "      <td>Cambridgeport</td>\n",
       "      <td>400 Massachusetts Avenue, Cambridge, MA</td>\n",
       "      <td>Salvation Army, 400;402;408;410, Massachusetts...</td>\n",
       "      <td>(42.3630154, -71.1004712375628, 0.0)</td>\n",
       "      <td>42.363015</td>\n",
       "      <td>-71.100471</td>\n",
       "      <td>0.0</td>\n",
       "    </tr>\n",
       "    <tr>\n",
       "      <th>1</th>\n",
       "      <td>2009-00003</td>\n",
       "      <td>01/01/2009 01:34:00 AM</td>\n",
       "      <td>1/1/09 1:34</td>\n",
       "      <td>Simple Assault</td>\n",
       "      <td>610.0</td>\n",
       "      <td>Mid-Cambridge</td>\n",
       "      <td>200 HAMPSHIRE STREET, Cambridge, MA</td>\n",
       "      <td>200, Hampshire Street, Inman Square, Cambridge...</td>\n",
       "      <td>(42.37310542857143, -71.10022985714286, 0.0)</td>\n",
       "      <td>42.373105</td>\n",
       "      <td>-71.100230</td>\n",
       "      <td>0.0</td>\n",
       "    </tr>\n",
       "    <tr>\n",
       "      <th>2</th>\n",
       "      <td>2009-00004</td>\n",
       "      <td>01/01/2009 01:43:00 AM</td>\n",
       "      <td>01/01/2009 02:20 - 02:35</td>\n",
       "      <td>Aggravated Assault</td>\n",
       "      <td>708.0</td>\n",
       "      <td>Riverside</td>\n",
       "      <td>DUNSTER STREET &amp; MOUNT AUBURN STREET, Cambridg...</td>\n",
       "      <td>NaN</td>\n",
       "      <td>NaN</td>\n",
       "      <td>NaN</td>\n",
       "      <td>NaN</td>\n",
       "      <td>NaN</td>\n",
       "    </tr>\n",
       "    <tr>\n",
       "      <th>3</th>\n",
       "      <td>2009-00005</td>\n",
       "      <td>01/01/2009 02:27:00 AM</td>\n",
       "      <td>01/01/2009 02:20 - 02:45</td>\n",
       "      <td>Simple Assault</td>\n",
       "      <td>105.0</td>\n",
       "      <td>East Cambridge</td>\n",
       "      <td>100 SCIARAPPA STREET, Cambridge, MA</td>\n",
       "      <td>98;100, Sciarappa Street, East Cambridge, Camb...</td>\n",
       "      <td>(42.3689698, -71.08185434938909, 0.0)</td>\n",
       "      <td>42.368970</td>\n",
       "      <td>-71.081854</td>\n",
       "      <td>0.0</td>\n",
       "    </tr>\n",
       "    <tr>\n",
       "      <th>4</th>\n",
       "      <td>2009-00006</td>\n",
       "      <td>01/01/2009 02:34:00 AM</td>\n",
       "      <td>01/01/2009 02:15 - 02:35</td>\n",
       "      <td>Disorderly</td>\n",
       "      <td>708.0</td>\n",
       "      <td>Riverside</td>\n",
       "      <td>1200 Massachusetts Avenue, Cambridge, MA</td>\n",
       "      <td>Massachusetts Avenue, Cambridgeport, Cambridge...</td>\n",
       "      <td>(42.3570345, -71.0925253, 0.0)</td>\n",
       "      <td>42.357034</td>\n",
       "      <td>-71.092525</td>\n",
       "      <td>0.0</td>\n",
       "    </tr>\n",
       "  </tbody>\n",
       "</table>\n",
       "</div>"
      ],
      "text/plain": [
       "  File Number          Date of Report  ...  longitude altitude\n",
       "0  2009-00002  01/01/2009 12:39:00 AM  ... -71.100471      0.0\n",
       "1  2009-00003  01/01/2009 01:34:00 AM  ... -71.100230      0.0\n",
       "2  2009-00004  01/01/2009 01:43:00 AM  ...        NaN      NaN\n",
       "3  2009-00005  01/01/2009 02:27:00 AM  ... -71.081854      0.0\n",
       "4  2009-00006  01/01/2009 02:34:00 AM  ... -71.092525      0.0\n",
       "\n",
       "[5 rows x 12 columns]"
      ]
     },
     "execution_count": 3,
     "metadata": {
      "tags": []
     },
     "output_type": "execute_result"
    }
   ],
   "source": [
    "import pandas as pd\n",
    "df = pd.read_csv(url)\n",
    "df.head()"
   ]
  },
  {
   "cell_type": "code",
   "execution_count": 4,
   "id": "0daRcYHTm8Wd",
   "metadata": {
    "colab": {
     "base_uri": "https://localhost:8080/",
     "height": 425
    },
    "id": "0daRcYHTm8Wd",
    "outputId": "a39fb887-a66b-4510-ad1e-3668acd4ff9d"
   },
   "outputs": [
    {
     "name": "stdout",
     "output_type": "stream",
     "text": [
      "56014\n",
      "47944\n"
     ]
    },
    {
     "data": {
      "text/html": [
       "<div>\n",
       "<style scoped>\n",
       "    .dataframe tbody tr th:only-of-type {\n",
       "        vertical-align: middle;\n",
       "    }\n",
       "\n",
       "    .dataframe tbody tr th {\n",
       "        vertical-align: top;\n",
       "    }\n",
       "\n",
       "    .dataframe thead th {\n",
       "        text-align: right;\n",
       "    }\n",
       "</style>\n",
       "<table border=\"1\" class=\"dataframe\">\n",
       "  <thead>\n",
       "    <tr style=\"text-align: right;\">\n",
       "      <th></th>\n",
       "      <th>File Number</th>\n",
       "      <th>Date of Report</th>\n",
       "      <th>Crime Date Time</th>\n",
       "      <th>Crime</th>\n",
       "      <th>Reporting Area</th>\n",
       "      <th>Neighborhood</th>\n",
       "      <th>Location</th>\n",
       "      <th>location</th>\n",
       "      <th>point</th>\n",
       "      <th>latitude</th>\n",
       "      <th>longitude</th>\n",
       "      <th>altitude</th>\n",
       "    </tr>\n",
       "  </thead>\n",
       "  <tbody>\n",
       "    <tr>\n",
       "      <th>0</th>\n",
       "      <td>2009-00002</td>\n",
       "      <td>01/01/2009 12:39:00 AM</td>\n",
       "      <td>1/1/09 0:39</td>\n",
       "      <td>Simple Assault</td>\n",
       "      <td>504.0</td>\n",
       "      <td>Cambridgeport</td>\n",
       "      <td>400 Massachusetts Avenue, Cambridge, MA</td>\n",
       "      <td>Salvation Army, 400;402;408;410, Massachusetts...</td>\n",
       "      <td>(42.3630154, -71.1004712375628, 0.0)</td>\n",
       "      <td>42.363015</td>\n",
       "      <td>-71.100471</td>\n",
       "      <td>0.0</td>\n",
       "    </tr>\n",
       "    <tr>\n",
       "      <th>1</th>\n",
       "      <td>2009-00003</td>\n",
       "      <td>01/01/2009 01:34:00 AM</td>\n",
       "      <td>1/1/09 1:34</td>\n",
       "      <td>Simple Assault</td>\n",
       "      <td>610.0</td>\n",
       "      <td>Mid-Cambridge</td>\n",
       "      <td>200 HAMPSHIRE STREET, Cambridge, MA</td>\n",
       "      <td>200, Hampshire Street, Inman Square, Cambridge...</td>\n",
       "      <td>(42.37310542857143, -71.10022985714286, 0.0)</td>\n",
       "      <td>42.373105</td>\n",
       "      <td>-71.100230</td>\n",
       "      <td>0.0</td>\n",
       "    </tr>\n",
       "    <tr>\n",
       "      <th>3</th>\n",
       "      <td>2009-00005</td>\n",
       "      <td>01/01/2009 02:27:00 AM</td>\n",
       "      <td>01/01/2009 02:20 - 02:45</td>\n",
       "      <td>Simple Assault</td>\n",
       "      <td>105.0</td>\n",
       "      <td>East Cambridge</td>\n",
       "      <td>100 SCIARAPPA STREET, Cambridge, MA</td>\n",
       "      <td>98;100, Sciarappa Street, East Cambridge, Camb...</td>\n",
       "      <td>(42.3689698, -71.08185434938909, 0.0)</td>\n",
       "      <td>42.368970</td>\n",
       "      <td>-71.081854</td>\n",
       "      <td>0.0</td>\n",
       "    </tr>\n",
       "    <tr>\n",
       "      <th>4</th>\n",
       "      <td>2009-00006</td>\n",
       "      <td>01/01/2009 02:34:00 AM</td>\n",
       "      <td>01/01/2009 02:15 - 02:35</td>\n",
       "      <td>Disorderly</td>\n",
       "      <td>708.0</td>\n",
       "      <td>Riverside</td>\n",
       "      <td>1200 Massachusetts Avenue, Cambridge, MA</td>\n",
       "      <td>Massachusetts Avenue, Cambridgeport, Cambridge...</td>\n",
       "      <td>(42.3570345, -71.0925253, 0.0)</td>\n",
       "      <td>42.357034</td>\n",
       "      <td>-71.092525</td>\n",
       "      <td>0.0</td>\n",
       "    </tr>\n",
       "    <tr>\n",
       "      <th>5</th>\n",
       "      <td>2009-00007</td>\n",
       "      <td>01/01/2009 02:45:00 AM</td>\n",
       "      <td>1/1/09 2:45</td>\n",
       "      <td>Missing Person</td>\n",
       "      <td>507.0</td>\n",
       "      <td>Cambridgeport</td>\n",
       "      <td>0 WOODROW WILSON COURT, Cambridge, MA</td>\n",
       "      <td>Woodrow Wilson Court, Cambridgeport, Cambridge...</td>\n",
       "      <td>(42.3615507, -71.1093003, 0.0)</td>\n",
       "      <td>42.361551</td>\n",
       "      <td>-71.109300</td>\n",
       "      <td>0.0</td>\n",
       "    </tr>\n",
       "  </tbody>\n",
       "</table>\n",
       "</div>"
      ],
      "text/plain": [
       "  File Number          Date of Report  ...  longitude altitude\n",
       "0  2009-00002  01/01/2009 12:39:00 AM  ... -71.100471      0.0\n",
       "1  2009-00003  01/01/2009 01:34:00 AM  ... -71.100230      0.0\n",
       "3  2009-00005  01/01/2009 02:27:00 AM  ... -71.081854      0.0\n",
       "4  2009-00006  01/01/2009 02:34:00 AM  ... -71.092525      0.0\n",
       "5  2009-00007  01/01/2009 02:45:00 AM  ... -71.109300      0.0\n",
       "\n",
       "[5 rows x 12 columns]"
      ]
     },
     "execution_count": 4,
     "metadata": {
      "tags": []
     },
     "output_type": "execute_result"
    }
   ],
   "source": [
    "print(len(df))\n",
    "df = df.dropna()\n",
    "print(len(df))\n",
    "df.head()"
   ]
  },
  {
   "cell_type": "markdown",
   "id": "hzc-IaKv8xIx",
   "metadata": {
    "id": "hzc-IaKv8xIx"
   },
   "source": [
    "# Plotar Mapa"
   ]
  },
  {
   "cell_type": "code",
   "execution_count": 2,
   "id": "Ntbbc9fwOcF5",
   "metadata": {
    "id": "Ntbbc9fwOcF5"
   },
   "outputs": [],
   "source": [
    "#!pip install folium"
   ]
  },
  {
   "cell_type": "code",
   "execution_count": 9,
   "id": "RGiCe02aQM5S",
   "metadata": {
    "colab": {
     "base_uri": "https://localhost:8080/",
     "height": 17
    },
    "id": "RGiCe02aQM5S",
    "outputId": "ce59a52d-8214-4572-bf9f-34ac9e336ca8"
   },
   "outputs": [
    {
     "data": {
      "application/javascript": [
       "function ClickConnect(){\n",
       "console.log(\"Working\"); \n",
       "document.querySelector(\"paper-icon-button\").click()\n",
       "}\n",
       "Const myjob = setInterval(ClickConnect, 60000)\n",
       "clearInterval(myjob)"
      ],
      "text/plain": [
       "<IPython.core.display.Javascript object>"
      ]
     },
     "metadata": {
      "tags": []
     },
     "output_type": "display_data"
    }
   ],
   "source": [
    "%%javascript\n",
    "function ClickConnect(){\n",
    "console.log(\"Working\"); \n",
    "document.querySelector(\"paper-icon-button\").click()\n",
    "}\n",
    "Const myjob = setInterval(ClickConnect, 60000)\n",
    "clearInterval(myjob)"
   ]
  },
  {
   "cell_type": "code",
   "execution_count": 10,
   "id": "l8J74-7boE_B",
   "metadata": {
    "id": "l8J74-7boE_B"
   },
   "outputs": [],
   "source": [
    "lat = 42.363015\n",
    "lon = -71.100471\n",
    "location = [59.338315,18.089960]\n",
    "\n",
    "url = 'https://raw.githubusercontent.com/vladimiralencar/Alunos-UEPB-TopicosEspeciaisEmBancoDeDados/master/Clusterizacao/cambridge_crimes-2009-2016.csv'\n",
    "url\n",
    "\n",
    "import pandas as pd\n",
    "\n",
    "df = pd.read_csv(url)\n",
    "\n",
    "df = df.dropna()\n",
    "\n",
    "import folium\n",
    "\n",
    "map1 = folium.Map(\n",
    "    location=[lat, lon],\n",
    "    #tiles='cartodbpositron',\n",
    "    zoom_start=12,\n",
    ")\n",
    "#df.apply(lambda row:folium.CircleMarker(location=[row[\"latitude\"], row[\"longitude\"]]).add_to(map1), axis=1)\n",
    "for index, row in df.iterrows():\n",
    "    folium.CircleMarker(location=[row[\"latitude\"], row[\"longitude\"]]).add_to(map1)\n",
    "map1\n"
   ]
  },
  {
   "cell_type": "code",
   "execution_count": null,
   "id": "qjDg3Wp0p0bd",
   "metadata": {
    "id": "qjDg3Wp0p0bd"
   },
   "outputs": [],
   "source": [
    "import folium\n",
    "\n",
    "map1 = folium.Map(\n",
    "    location=[lat, lon],\n",
    "    #tiles='cartodbpositron',\n",
    "    zoom_start=12,\n",
    ")\n",
    "df.apply(lambda row:folium.CircleMarker(location=[row[\"latitude\"], row[\"longitude\"]]).add_to(map1), axis=1)\n",
    "map1"
   ]
  },
  {
   "cell_type": "code",
   "execution_count": null,
   "id": "InZ1QG8upLdo",
   "metadata": {
    "colab": {
     "base_uri": "https://localhost:8080/",
     "height": 391
    },
    "id": "InZ1QG8upLdo",
    "outputId": "e0c08a72-3f03-4794-8c19-8697acb4d5c0"
   },
   "outputs": [
    {
     "data": {
      "text/html": [
       "<div>\n",
       "<style scoped>\n",
       "    .dataframe tbody tr th:only-of-type {\n",
       "        vertical-align: middle;\n",
       "    }\n",
       "\n",
       "    .dataframe tbody tr th {\n",
       "        vertical-align: top;\n",
       "    }\n",
       "\n",
       "    .dataframe thead th {\n",
       "        text-align: right;\n",
       "    }\n",
       "</style>\n",
       "<table border=\"1\" class=\"dataframe\">\n",
       "  <thead>\n",
       "    <tr style=\"text-align: right;\">\n",
       "      <th></th>\n",
       "      <th>File Number</th>\n",
       "      <th>Date of Report</th>\n",
       "      <th>Crime Date Time</th>\n",
       "      <th>Crime</th>\n",
       "      <th>Reporting Area</th>\n",
       "      <th>Neighborhood</th>\n",
       "      <th>Location</th>\n",
       "      <th>location</th>\n",
       "      <th>point</th>\n",
       "      <th>latitude</th>\n",
       "      <th>longitude</th>\n",
       "      <th>altitude</th>\n",
       "    </tr>\n",
       "  </thead>\n",
       "  <tbody>\n",
       "    <tr>\n",
       "      <th>0</th>\n",
       "      <td>2009-00002</td>\n",
       "      <td>01/01/2009 12:39:00 AM</td>\n",
       "      <td>1/1/09 0:39</td>\n",
       "      <td>Simple Assault</td>\n",
       "      <td>504.0</td>\n",
       "      <td>Cambridgeport</td>\n",
       "      <td>400 Massachusetts Avenue, Cambridge, MA</td>\n",
       "      <td>Salvation Army, 400;402;408;410, Massachusetts...</td>\n",
       "      <td>(42.3630154, -71.1004712375628, 0.0)</td>\n",
       "      <td>42.363015</td>\n",
       "      <td>-71.100471</td>\n",
       "      <td>0.0</td>\n",
       "    </tr>\n",
       "    <tr>\n",
       "      <th>1</th>\n",
       "      <td>2009-00003</td>\n",
       "      <td>01/01/2009 01:34:00 AM</td>\n",
       "      <td>1/1/09 1:34</td>\n",
       "      <td>Simple Assault</td>\n",
       "      <td>610.0</td>\n",
       "      <td>Mid-Cambridge</td>\n",
       "      <td>200 HAMPSHIRE STREET, Cambridge, MA</td>\n",
       "      <td>200, Hampshire Street, Inman Square, Cambridge...</td>\n",
       "      <td>(42.37310542857143, -71.10022985714286, 0.0)</td>\n",
       "      <td>42.373105</td>\n",
       "      <td>-71.100230</td>\n",
       "      <td>0.0</td>\n",
       "    </tr>\n",
       "    <tr>\n",
       "      <th>3</th>\n",
       "      <td>2009-00005</td>\n",
       "      <td>01/01/2009 02:27:00 AM</td>\n",
       "      <td>01/01/2009 02:20 - 02:45</td>\n",
       "      <td>Simple Assault</td>\n",
       "      <td>105.0</td>\n",
       "      <td>East Cambridge</td>\n",
       "      <td>100 SCIARAPPA STREET, Cambridge, MA</td>\n",
       "      <td>98;100, Sciarappa Street, East Cambridge, Camb...</td>\n",
       "      <td>(42.3689698, -71.08185434938909, 0.0)</td>\n",
       "      <td>42.368970</td>\n",
       "      <td>-71.081854</td>\n",
       "      <td>0.0</td>\n",
       "    </tr>\n",
       "    <tr>\n",
       "      <th>4</th>\n",
       "      <td>2009-00006</td>\n",
       "      <td>01/01/2009 02:34:00 AM</td>\n",
       "      <td>01/01/2009 02:15 - 02:35</td>\n",
       "      <td>Disorderly</td>\n",
       "      <td>708.0</td>\n",
       "      <td>Riverside</td>\n",
       "      <td>1200 Massachusetts Avenue, Cambridge, MA</td>\n",
       "      <td>Massachusetts Avenue, Cambridgeport, Cambridge...</td>\n",
       "      <td>(42.3570345, -71.0925253, 0.0)</td>\n",
       "      <td>42.357034</td>\n",
       "      <td>-71.092525</td>\n",
       "      <td>0.0</td>\n",
       "    </tr>\n",
       "    <tr>\n",
       "      <th>5</th>\n",
       "      <td>2009-00007</td>\n",
       "      <td>01/01/2009 02:45:00 AM</td>\n",
       "      <td>1/1/09 2:45</td>\n",
       "      <td>Missing Person</td>\n",
       "      <td>507.0</td>\n",
       "      <td>Cambridgeport</td>\n",
       "      <td>0 WOODROW WILSON COURT, Cambridge, MA</td>\n",
       "      <td>Woodrow Wilson Court, Cambridgeport, Cambridge...</td>\n",
       "      <td>(42.3615507, -71.1093003, 0.0)</td>\n",
       "      <td>42.361551</td>\n",
       "      <td>-71.109300</td>\n",
       "      <td>0.0</td>\n",
       "    </tr>\n",
       "  </tbody>\n",
       "</table>\n",
       "</div>"
      ],
      "text/plain": [
       "  File Number          Date of Report  ...  longitude altitude\n",
       "0  2009-00002  01/01/2009 12:39:00 AM  ... -71.100471      0.0\n",
       "1  2009-00003  01/01/2009 01:34:00 AM  ... -71.100230      0.0\n",
       "3  2009-00005  01/01/2009 02:27:00 AM  ... -71.081854      0.0\n",
       "4  2009-00006  01/01/2009 02:34:00 AM  ... -71.092525      0.0\n",
       "5  2009-00007  01/01/2009 02:45:00 AM  ... -71.109300      0.0\n",
       "\n",
       "[5 rows x 12 columns]"
      ]
     },
     "execution_count": 3,
     "metadata": {
      "tags": []
     },
     "output_type": "execute_result"
    }
   ],
   "source": [
    "df.head()"
   ]
  },
  {
   "cell_type": "code",
   "execution_count": null,
   "id": "Z3gYt9za8xIx",
   "metadata": {
    "id": "Z3gYt9za8xIx"
   },
   "outputs": [],
   "source": [
    "lat = 42.363015\n",
    "lon = -71.100471\n",
    "location = [59.338315,18.089960]\n",
    "\n",
    "def plotar_mapa():\n",
    "  import folium\n",
    "\n",
    "  map1 = folium.Map(\n",
    "      location=[lat, lon],\n",
    "      tiles='cartodbpositron',\n",
    "      zoom_start=12,\n",
    "  )\n",
    "  df.apply(lambda row:folium.CircleMarker(location=[row[\"latitude\"], row[\"longitude\"]]).add_to(map1), axis=1)\n",
    "  return map1\n",
    "\n",
    "#map1 = plotar_mapa()\n",
    "#map1"
   ]
  },
  {
   "cell_type": "markdown",
   "id": "DCJBejYJ8xIy",
   "metadata": {
    "id": "DCJBejYJ8xIy"
   },
   "source": [
    "# Estatística Descritiva"
   ]
  },
  {
   "cell_type": "code",
   "execution_count": null,
   "id": "S4sLeS3r8xIy",
   "metadata": {
    "colab": {
     "base_uri": "https://localhost:8080/"
    },
    "id": "S4sLeS3r8xIy",
    "outputId": "0d59f625-ca4c-4a89-9cae-7ea9409e2a4d"
   },
   "outputs": [
    {
     "data": {
      "text/plain": [
       "Larceny from MV           3854\n",
       "Domestic Dispute          3572\n",
       "Hit and Run               3359\n",
       "Mal. Dest. Property       3127\n",
       "Simple Assault            2824\n",
       "Larceny from Building     2738\n",
       "Shoplifting               2639\n",
       "Housebreak                2595\n",
       "Forgery                   2478\n",
       "Larceny of Bicycle        2402\n",
       "Warrant Arrest            1996\n",
       "Larceny from Person       1966\n",
       "Larceny from Residence    1706\n",
       "Threats                   1517\n",
       "Aggravated Assault        1402\n",
       "Flim Flam                  913\n",
       "Missing Person             911\n",
       "Auto Theft                 909\n",
       "Harassment                 763\n",
       "Commercial Break           566\n",
       "Admin Error                502\n",
       "Street Robbery             446\n",
       "Drugs                      442\n",
       "Phone Calls                434\n",
       "Violation of R.O.          359\n",
       "Trespassing                341\n",
       "Accident                   314\n",
       "Suspicious Package         292\n",
       "Disorderly                 244\n",
       "Larceny of Plate           223\n",
       "Larceny (Misc)             216\n",
       "OUI                        183\n",
       "Commercial Robbery         177\n",
       "Indecent Exposure          159\n",
       "Larceny of Services        150\n",
       "Taxi Violation             145\n",
       "Drinking in Public         142\n",
       "Counterfeiting             132\n",
       "Rec. Stol. Property        118\n",
       "Embezzlement               111\n",
       "Violation of H.O.          110\n",
       "Weapon Violations           68\n",
       "Arson                       66\n",
       "Annoying & Accosting        59\n",
       "Peeping & Spying            44\n",
       "Noise Complaint             42\n",
       "Liquor Possession/Sale      38\n",
       "Sex Offender Violation      36\n",
       "Kidnapping                  30\n",
       "Extortion/Blackmail         29\n",
       "Stalking                    20\n",
       "Homicide                    17\n",
       "Prostitution                16\n",
       "Gambling                     2\n",
       "Name: Crime, dtype: int64"
      ]
     },
     "execution_count": 4,
     "metadata": {
      "tags": []
     },
     "output_type": "execute_result"
    }
   ],
   "source": [
    "df.Crime.value_counts()"
   ]
  },
  {
   "cell_type": "code",
   "execution_count": null,
   "id": "fsr0Ohkq8xIy",
   "metadata": {
    "id": "fsr0Ohkq8xIy"
   },
   "outputs": [],
   "source": [
    "df.Neighborhood.value_counts()"
   ]
  },
  {
   "cell_type": "code",
   "execution_count": null,
   "id": "N5OEJw1c8xIz",
   "metadata": {
    "id": "N5OEJw1c8xIz"
   },
   "outputs": [],
   "source": [
    "df['bairro']  = pd.Categorical(df.Neighborhood).codes\n",
    "df['tipo_crime'] = pd.Categorical(df.Crime).codes\n",
    "df['localizacao'] = pd.Categorical(df.Location).codes\n",
    "df.head()"
   ]
  },
  {
   "cell_type": "code",
   "execution_count": null,
   "id": "z9Ec7V1L8xIz",
   "metadata": {
    "id": "z9Ec7V1L8xIz"
   },
   "outputs": [],
   "source": [
    "import seaborn as sns\n",
    "sns.scatterplot(  df.bairro, df.tipo_crime)"
   ]
  },
  {
   "cell_type": "code",
   "execution_count": null,
   "id": "pTL_lKfi8xIz",
   "metadata": {
    "id": "pTL_lKfi8xIz"
   },
   "outputs": [],
   "source": [
    "import seaborn as sns\n",
    "sns.scatterplot( df.localizacao,  df.tipo_crime)"
   ]
  },
  {
   "cell_type": "code",
   "execution_count": null,
   "id": "xvq-4xup8xI0",
   "metadata": {
    "id": "xvq-4xup8xI0"
   },
   "outputs": [],
   "source": [
    "df.head()"
   ]
  },
  {
   "cell_type": "code",
   "execution_count": null,
   "id": "UiDvMmt08xI0",
   "metadata": {
    "id": "UiDvMmt08xI0"
   },
   "outputs": [],
   "source": [
    "df['Reporting Area'].unique()"
   ]
  },
  {
   "cell_type": "code",
   "execution_count": null,
   "id": "_3wdEMXt8xI0",
   "metadata": {
    "id": "_3wdEMXt8xI0"
   },
   "outputs": [],
   "source": [
    "df.Location.value_counts()"
   ]
  },
  {
   "cell_type": "code",
   "execution_count": null,
   "id": "OiyWfdrV8xI1",
   "metadata": {
    "id": "OiyWfdrV8xI1"
   },
   "outputs": [],
   "source": [
    "df.info()"
   ]
  },
  {
   "cell_type": "code",
   "execution_count": null,
   "id": "USJRidLW8xI1",
   "metadata": {
    "id": "USJRidLW8xI1"
   },
   "outputs": [],
   "source": [
    "len(df)"
   ]
  },
  {
   "cell_type": "code",
   "execution_count": null,
   "id": "_-50tYBw8xI1",
   "metadata": {
    "id": "_-50tYBw8xI1"
   },
   "outputs": [],
   "source": [
    "df.Crime.value_counts()[:20].sum()"
   ]
  },
  {
   "cell_type": "code",
   "execution_count": null,
   "id": "cvVnhapY8xI1",
   "metadata": {
    "id": "cvVnhapY8xI1"
   },
   "outputs": [],
   "source": [
    "df.Crime.value_counts()[:15].sum()"
   ]
  },
  {
   "cell_type": "code",
   "execution_count": null,
   "id": "0_VpBG2o8xI2",
   "metadata": {
    "id": "0_VpBG2o8xI2"
   },
   "outputs": [],
   "source": [
    "df.Crime.value_counts()[:15]"
   ]
  },
  {
   "cell_type": "code",
   "execution_count": null,
   "id": "nnCfkxWX8xI2",
   "metadata": {
    "id": "nnCfkxWX8xI2"
   },
   "outputs": [],
   "source": [
    "crimes = list(df.Crime.value_counts()[:15].index)\n",
    "crimes"
   ]
  },
  {
   "cell_type": "code",
   "execution_count": null,
   "id": "mKj3h_rh8xI2",
   "metadata": {
    "id": "mKj3h_rh8xI2"
   },
   "outputs": [],
   "source": [
    "df2 = df[df.Crime.str.contains('|'.join(crimes))]\n",
    "len(df2)"
   ]
  },
  {
   "cell_type": "code",
   "execution_count": null,
   "id": "mbrMt3_s8xI3",
   "metadata": {
    "id": "mbrMt3_s8xI3"
   },
   "outputs": [],
   "source": [
    "df2.head()"
   ]
  },
  {
   "cell_type": "code",
   "execution_count": null,
   "id": "sVK7aEw18xI3",
   "metadata": {
    "id": "sVK7aEw18xI3"
   },
   "outputs": [],
   "source": [
    "import seaborn as sns\n",
    "sns.scatterplot(  df2.tipo_crime, df2.localizacao)"
   ]
  },
  {
   "cell_type": "code",
   "execution_count": null,
   "id": "RX-tEvvY8xI3",
   "metadata": {
    "id": "RX-tEvvY8xI3"
   },
   "outputs": [],
   "source": [
    "df2['Reporting Area'].unique()"
   ]
  },
  {
   "cell_type": "code",
   "execution_count": null,
   "id": "N1yyusAz8xI3",
   "metadata": {
    "id": "N1yyusAz8xI3"
   },
   "outputs": [],
   "source": [
    "s = df2['Reporting Area'].unique()\n",
    "s2 = s.astype(int)\n",
    "s2"
   ]
  },
  {
   "cell_type": "code",
   "execution_count": null,
   "id": "ob4FOqah8xI4",
   "metadata": {
    "id": "ob4FOqah8xI4"
   },
   "outputs": [],
   "source": [
    "len(s2)"
   ]
  },
  {
   "cell_type": "code",
   "execution_count": null,
   "id": "VduVMXmm8xI4",
   "metadata": {
    "id": "VduVMXmm8xI4"
   },
   "outputs": [],
   "source": [
    "df2 = df.fillna(0)\n",
    "df2['area'] = df2['Reporting Area'].astype(int)\n",
    "df2.head()"
   ]
  },
  {
   "cell_type": "code",
   "execution_count": null,
   "id": "5goRvO488xI4",
   "metadata": {
    "id": "5goRvO488xI4"
   },
   "outputs": [],
   "source": [
    "df2.area.value_counts()[:10]"
   ]
  },
  {
   "cell_type": "code",
   "execution_count": null,
   "id": "2nYJk2CR8xI5",
   "metadata": {
    "id": "2nYJk2CR8xI5"
   },
   "outputs": [],
   "source": [
    "sns.scatterplot(  df2.area,  df2.tipo_crime)"
   ]
  },
  {
   "cell_type": "code",
   "execution_count": null,
   "id": "byuemhzn8xI5",
   "metadata": {
    "id": "byuemhzn8xI5"
   },
   "outputs": [],
   "source": [
    "df2.info()"
   ]
  },
  {
   "cell_type": "code",
   "execution_count": null,
   "id": "Z8mhIuwO8xI5",
   "metadata": {
    "id": "Z8mhIuwO8xI5"
   },
   "outputs": [],
   "source": [
    "df2.head()"
   ]
  },
  {
   "cell_type": "code",
   "execution_count": null,
   "id": "qH6YyoHA8xI5",
   "metadata": {
    "id": "qH6YyoHA8xI5"
   },
   "outputs": [],
   "source": [
    "df2['data_crime'] = pd.to_datetime(df2['Crime Date Time'], infer_datetime_format=True, errors='coerce')\n",
    "#  format='%d/%m/%Y H:M') #, errors='coerce')\n",
    "#del df2['datad']\n",
    "df2.head()"
   ]
  },
  {
   "cell_type": "code",
   "execution_count": null,
   "id": "LtUWH2io8xI6",
   "metadata": {
    "id": "LtUWH2io8xI6"
   },
   "outputs": [],
   "source": [
    "#del df2['datad']\n",
    "df2.head()"
   ]
  },
  {
   "cell_type": "code",
   "execution_count": null,
   "id": "62xl9yqd8xI6",
   "metadata": {
    "id": "62xl9yqd8xI6"
   },
   "outputs": [],
   "source": [
    "from datetime import datetime\n",
    "import re\n",
    "\n",
    "def extrair_data(row):\n",
    "    \n",
    "    x = row['Crime Date Time']\n",
    "    \n",
    "    data = re.search(\"([0-9]{2}\\/[0-9]{2}\\/[0-9]{4})\", x) #.group(0)\n",
    "    hora = re.search(\"([0-9]{2}\\:[0-9]{2})\", x) #.group(0)\n",
    "    \n",
    "    data_crime = data\n",
    "    \n",
    "    if data is not None:\n",
    "        data = data.group(0)\n",
    "        data_crime = data\n",
    "        if hora is not None:\n",
    "            hora = hora.group(0)\n",
    "        else:\n",
    "            hora = '00:00'\n",
    "        data_crime = data + ' ' + hora\n",
    "        data_crime = datetime.strptime(data_crime, '%m/%d/%Y %H:%M')\n",
    "    return data_crime\n",
    "    \n",
    "df2['data_crime'] = df2.apply( extrair_data, axis=1 )  \n",
    "df2.head()                                                                        "
   ]
  },
  {
   "cell_type": "code",
   "execution_count": null,
   "id": "xgeJLXRY8xI7",
   "metadata": {
    "id": "xgeJLXRY8xI7"
   },
   "outputs": [],
   "source": [
    "df2.data_crime.isna().sum(), len(df2)"
   ]
  },
  {
   "cell_type": "code",
   "execution_count": null,
   "id": "LnWv5xXk8xI7",
   "metadata": {
    "id": "LnWv5xXk8xI7"
   },
   "outputs": [],
   "source": [
    "df3 = df2[ ~ df2.data_crime.isna()  ]\n",
    "\n",
    "print(len(df3))\n",
    "df3.head()"
   ]
  },
  {
   "cell_type": "code",
   "execution_count": null,
   "id": "2U2DhTsq8xI7",
   "metadata": {
    "id": "2U2DhTsq8xI7"
   },
   "outputs": [],
   "source": [
    "df3.data_crime.isna().sum()"
   ]
  },
  {
   "cell_type": "code",
   "execution_count": null,
   "id": "z8oN9IcZ8xI8",
   "metadata": {
    "id": "z8oN9IcZ8xI8"
   },
   "outputs": [],
   "source": [
    "len(df3)"
   ]
  },
  {
   "cell_type": "code",
   "execution_count": null,
   "id": "OT1_SssY8xI8",
   "metadata": {
    "id": "OT1_SssY8xI8"
   },
   "outputs": [],
   "source": [
    "%%time\n",
    "sns.set(rc={'figure.figsize':(12,8)})\n",
    "sns.lineplot(x = 'data_crime', y = 'tipo_crime', data = df3)"
   ]
  },
  {
   "cell_type": "code",
   "execution_count": null,
   "id": "mrpIQ57-8xI8",
   "metadata": {
    "id": "mrpIQ57-8xI8"
   },
   "outputs": [],
   "source": [
    "df3.data_crime.describe()"
   ]
  },
  {
   "cell_type": "code",
   "execution_count": null,
   "id": "FFu-Tf5Z8xI8",
   "metadata": {
    "id": "FFu-Tf5Z8xI8"
   },
   "outputs": [],
   "source": [
    "len(df3.tipo_crime.unique())"
   ]
  },
  {
   "cell_type": "code",
   "execution_count": null,
   "id": "bvrlQAZ48xI9",
   "metadata": {
    "id": "bvrlQAZ48xI9"
   },
   "outputs": [],
   "source": [
    "df3.Crime.value_counts()"
   ]
  },
  {
   "cell_type": "code",
   "execution_count": null,
   "id": "UpIViSju8xI9",
   "metadata": {
    "id": "UpIViSju8xI9"
   },
   "outputs": [],
   "source": [
    "dfc = df3[ df3.Crime == 'Hit and Run']\n",
    "len(dfc)"
   ]
  },
  {
   "cell_type": "code",
   "execution_count": null,
   "id": "hFzT9iZ_8xI9",
   "metadata": {
    "id": "hFzT9iZ_8xI9"
   },
   "outputs": [],
   "source": [
    "sns.set(rc={'figure.figsize':(12,8)})\n",
    "sns.distplot(dfc.data_crime)"
   ]
  },
  {
   "cell_type": "code",
   "execution_count": null,
   "id": "PyhAufft8xI-",
   "metadata": {
    "id": "PyhAufft8xI-"
   },
   "outputs": [],
   "source": [
    "df4 = df3.copy()\n",
    "df4.set_index('data_crime', inplace=True)\n",
    "df4.resample('Y').size().plot.bar()"
   ]
  },
  {
   "cell_type": "code",
   "execution_count": null,
   "id": "RcqQ5oQA8xI-",
   "metadata": {
    "id": "RcqQ5oQA8xI-"
   },
   "outputs": [],
   "source": [
    "# Janela de 2010 para 2016\n",
    "data_atual = '2010-01-01'\n",
    "data_crime_atual = datetime.strptime(data_atual, '%Y-%m-%d')\n",
    "\n",
    "df5 =  df3.copy()\n",
    "df6 = df5[ df5.data_crime >= data_crime_atual ]\n",
    "len(df4), len(df5), len(df6)"
   ]
  },
  {
   "cell_type": "code",
   "execution_count": null,
   "id": "LNYk_Ark8xI-",
   "metadata": {
    "id": "LNYk_Ark8xI-"
   },
   "outputs": [],
   "source": [
    "df7 = df6.copy()\n",
    "df7.set_index('data_crime', inplace=True)\n",
    "df7.resample('Y').size().plot.bar()"
   ]
  },
  {
   "cell_type": "code",
   "execution_count": null,
   "id": "Uo1niB4U8xI_",
   "metadata": {
    "id": "Uo1niB4U8xI_"
   },
   "outputs": [],
   "source": [
    "df6.data_crime.describe()"
   ]
  },
  {
   "cell_type": "code",
   "execution_count": null,
   "id": "-qHJQQVg8xI_",
   "metadata": {
    "id": "-qHJQQVg8xI_"
   },
   "outputs": [],
   "source": [
    "data_atual = '2015-09-30'\n",
    "data_crime_atual = datetime.strptime(data_atual, '%Y-%m-%d')\n",
    "\n",
    "df8 =  df6.copy()\n",
    "df8 = df8[ df8.data_crime >= data_crime_atual ]\n",
    "len(df8)"
   ]
  },
  {
   "cell_type": "code",
   "execution_count": null,
   "id": "hUFNvpbj8xI_",
   "metadata": {
    "id": "hUFNvpbj8xI_"
   },
   "outputs": [],
   "source": [
    "df9 = df8.copy()\n",
    "df9.set_index('data_crime', inplace=True)\n",
    "df9.resample('M').size().plot.bar()"
   ]
  },
  {
   "cell_type": "code",
   "execution_count": null,
   "id": "gviglad-8xJA",
   "metadata": {
    "id": "gviglad-8xJA"
   },
   "outputs": [],
   "source": [
    "#df9 = df8.copy()\n",
    "#df9.set_index('data_crime', inplace=True)\n",
    "#df9.resample('D').size().plot.bar()"
   ]
  },
  {
   "cell_type": "code",
   "execution_count": null,
   "id": "tfBJh_AX8xJA",
   "metadata": {
    "id": "tfBJh_AX8xJA"
   },
   "outputs": [],
   "source": [
    "#df9 = df8.copy()\n",
    "#df9.set_index('data_crime', inplace=True)\n",
    "#df9.resample('H').size().plot.bar()"
   ]
  },
  {
   "cell_type": "code",
   "execution_count": null,
   "id": "zFSpSY-e8xJA",
   "metadata": {
    "id": "zFSpSY-e8xJA"
   },
   "outputs": [],
   "source": []
  },
  {
   "cell_type": "code",
   "execution_count": null,
   "id": "942S_xfM8xJA",
   "metadata": {
    "id": "942S_xfM8xJA"
   },
   "outputs": [],
   "source": [
    "# Comportamento do roubo por hora \n",
    "\n",
    "dfc = df3[ df3.Crime == 'Hit and Run']\n",
    "len(dfc)"
   ]
  },
  {
   "cell_type": "code",
   "execution_count": null,
   "id": "ZQ0KM8RE8xJB",
   "metadata": {
    "id": "ZQ0KM8RE8xJB"
   },
   "outputs": [],
   "source": [
    "df = dfc.copy()\n",
    "df['hora'] = dfc.data_crime.apply(lambda x : x.hour)\n",
    "df.head()"
   ]
  },
  {
   "cell_type": "code",
   "execution_count": null,
   "id": "pIk36i5y8xJB",
   "metadata": {
    "id": "pIk36i5y8xJB"
   },
   "outputs": [],
   "source": [
    "hora_roubo = df.hora.value_counts().to_frame().reset_index()\n",
    "#hora_roubo.index = 'horario'\n",
    "\n",
    "hora_roubo.columns = [ 'hora', 'Hit and Run']\n",
    "hora_roubo.head()"
   ]
  },
  {
   "cell_type": "code",
   "execution_count": null,
   "id": "PWA3WyAT8xJB",
   "metadata": {
    "id": "PWA3WyAT8xJB"
   },
   "outputs": [],
   "source": [
    "df_roubo = hora_roubo.sort_values(by='hora', ascending=False).reset_index(drop=True)\n",
    "df_roubo"
   ]
  },
  {
   "cell_type": "code",
   "execution_count": null,
   "id": "qGPVqhOT8xJC",
   "metadata": {
    "id": "qGPVqhOT8xJC"
   },
   "outputs": [],
   "source": [
    "sns.lineplot(x = 'Hit and Run', y='hora', data=df_roubo)"
   ]
  },
  {
   "cell_type": "code",
   "execution_count": null,
   "id": "iwYYCMCF8xJC",
   "metadata": {
    "id": "iwYYCMCF8xJC"
   },
   "outputs": [],
   "source": [
    "sns.lineplot(y = 'Hit and Run', x='hora', data=df_roubo)"
   ]
  },
  {
   "cell_type": "code",
   "execution_count": null,
   "id": "wU-3vD8h8xJC",
   "metadata": {
    "id": "wU-3vD8h8xJC"
   },
   "outputs": [],
   "source": [
    "df_roubo.plot() #kind = 'barh')"
   ]
  },
  {
   "cell_type": "code",
   "execution_count": null,
   "id": "zr3gyGIb8xJD",
   "metadata": {
    "id": "zr3gyGIb8xJD"
   },
   "outputs": [],
   "source": []
  }
 ],
 "metadata": {
  "colab": {
   "collapsed_sections": [],
   "machine_shape": "hm",
   "name": "AnalisedeCrimes-CambridgeData-2009-2016-NOVO.ipynb",
   "provenance": []
  },
  "kernelspec": {
   "display_name": "Python 3",
   "language": "python",
   "name": "python3"
  },
  "language_info": {
   "codemirror_mode": {
    "name": "ipython",
    "version": 3
   },
   "file_extension": ".py",
   "mimetype": "text/x-python",
   "name": "python",
   "nbconvert_exporter": "python",
   "pygments_lexer": "ipython3",
   "version": "3.8.5"
  }
 },
 "nbformat": 4,
 "nbformat_minor": 5
}
