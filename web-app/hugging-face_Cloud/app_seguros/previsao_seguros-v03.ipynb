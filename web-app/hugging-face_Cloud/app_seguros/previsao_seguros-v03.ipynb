{
 "cells": [
  {
   "cell_type": "markdown",
   "metadata": {},
   "source": [
    "# Previsão de Seguro Médico - Plano de Seguro"
   ]
  },
  {
   "cell_type": "code",
   "execution_count": 1,
   "metadata": {
    "_cell_guid": "b1076dfc-b9ad-4769-8c92-a6c4dae69d19",
    "_uuid": "8f2839f25d086af736a60e9eeb907d3b93b6e0e5",
    "execution": {
     "iopub.execute_input": "2023-05-28T12:38:40.155240Z",
     "iopub.status.busy": "2023-05-28T12:38:40.154900Z",
     "iopub.status.idle": "2023-05-28T12:38:40.166537Z",
     "shell.execute_reply": "2023-05-28T12:38:40.164579Z",
     "shell.execute_reply.started": "2023-05-28T12:38:40.155212Z"
    }
   },
   "outputs": [],
   "source": [
    "import numpy as np # linear algebra\n",
    "import pandas as pd # data processing, CSV file I/O (e.g. pd.read_csv)\n",
    "\n",
    "import warnings\n",
    "warnings.filterwarnings(\"ignore\", category=FutureWarning)"
   ]
  },
  {
   "cell_type": "code",
   "execution_count": 2,
   "metadata": {
    "execution": {
     "iopub.execute_input": "2023-05-28T12:38:40.169601Z",
     "iopub.status.busy": "2023-05-28T12:38:40.169091Z",
     "iopub.status.idle": "2023-05-28T12:38:40.193381Z",
     "shell.execute_reply": "2023-05-28T12:38:40.192257Z",
     "shell.execute_reply.started": "2023-05-28T12:38:40.169566Z"
    }
   },
   "outputs": [
    {
     "name": "stdout",
     "output_type": "stream",
     "text": [
      "1338\n"
     ]
    },
    {
     "data": {
      "text/html": [
       "<div>\n",
       "<style scoped>\n",
       "    .dataframe tbody tr th:only-of-type {\n",
       "        vertical-align: middle;\n",
       "    }\n",
       "\n",
       "    .dataframe tbody tr th {\n",
       "        vertical-align: top;\n",
       "    }\n",
       "\n",
       "    .dataframe thead th {\n",
       "        text-align: right;\n",
       "    }\n",
       "</style>\n",
       "<table border=\"1\" class=\"dataframe\">\n",
       "  <thead>\n",
       "    <tr style=\"text-align: right;\">\n",
       "      <th></th>\n",
       "      <th>idade</th>\n",
       "      <th>sexo</th>\n",
       "      <th>IMC</th>\n",
       "      <th>num_filhos</th>\n",
       "      <th>fumante</th>\n",
       "      <th>regiao</th>\n",
       "      <th>valor_seguro</th>\n",
       "    </tr>\n",
       "  </thead>\n",
       "  <tbody>\n",
       "    <tr>\n",
       "      <th>0</th>\n",
       "      <td>19</td>\n",
       "      <td>Feminino</td>\n",
       "      <td>27.900</td>\n",
       "      <td>0</td>\n",
       "      <td>sim</td>\n",
       "      <td>sul</td>\n",
       "      <td>16884.92400</td>\n",
       "    </tr>\n",
       "    <tr>\n",
       "      <th>1</th>\n",
       "      <td>18</td>\n",
       "      <td>Masculino</td>\n",
       "      <td>33.770</td>\n",
       "      <td>1</td>\n",
       "      <td>nao</td>\n",
       "      <td>sudeste</td>\n",
       "      <td>1725.55230</td>\n",
       "    </tr>\n",
       "    <tr>\n",
       "      <th>2</th>\n",
       "      <td>28</td>\n",
       "      <td>Masculino</td>\n",
       "      <td>33.000</td>\n",
       "      <td>3</td>\n",
       "      <td>nao</td>\n",
       "      <td>sudeste</td>\n",
       "      <td>4449.46200</td>\n",
       "    </tr>\n",
       "    <tr>\n",
       "      <th>3</th>\n",
       "      <td>33</td>\n",
       "      <td>Masculino</td>\n",
       "      <td>22.705</td>\n",
       "      <td>0</td>\n",
       "      <td>nao</td>\n",
       "      <td>Norte</td>\n",
       "      <td>21984.47061</td>\n",
       "    </tr>\n",
       "    <tr>\n",
       "      <th>4</th>\n",
       "      <td>32</td>\n",
       "      <td>Masculino</td>\n",
       "      <td>28.880</td>\n",
       "      <td>0</td>\n",
       "      <td>nao</td>\n",
       "      <td>Norte</td>\n",
       "      <td>3866.85520</td>\n",
       "    </tr>\n",
       "  </tbody>\n",
       "</table>\n",
       "</div>"
      ],
      "text/plain": [
       "   idade       sexo     IMC  num_filhos fumante   regiao  valor_seguro\n",
       "0     19   Feminino  27.900           0     sim      sul   16884.92400\n",
       "1     18  Masculino  33.770           1     nao  sudeste    1725.55230\n",
       "2     28  Masculino  33.000           3     nao  sudeste    4449.46200\n",
       "3     33  Masculino  22.705           0     nao    Norte   21984.47061\n",
       "4     32  Masculino  28.880           0     nao    Norte    3866.85520"
      ]
     },
     "execution_count": 2,
     "metadata": {},
     "output_type": "execute_result"
    }
   ],
   "source": [
    "# Medical Cost Personal Datasets\n",
    "url = 'seguros.csv'\n",
    "df = pd.read_csv(url)\n",
    "print(len(df))\n",
    "df.head()"
   ]
  },
  {
   "cell_type": "markdown",
   "metadata": {},
   "source": [
    "# Análise Descritiva"
   ]
  },
  {
   "cell_type": "code",
   "execution_count": 3,
   "metadata": {},
   "outputs": [
    {
     "data": {
      "text/html": [
       "<div>\n",
       "<style scoped>\n",
       "    .dataframe tbody tr th:only-of-type {\n",
       "        vertical-align: middle;\n",
       "    }\n",
       "\n",
       "    .dataframe tbody tr th {\n",
       "        vertical-align: top;\n",
       "    }\n",
       "\n",
       "    .dataframe thead th {\n",
       "        text-align: right;\n",
       "    }\n",
       "</style>\n",
       "<table border=\"1\" class=\"dataframe\">\n",
       "  <thead>\n",
       "    <tr style=\"text-align: right;\">\n",
       "      <th></th>\n",
       "      <th>count</th>\n",
       "      <th>mean</th>\n",
       "      <th>std</th>\n",
       "      <th>min</th>\n",
       "      <th>25%</th>\n",
       "      <th>50%</th>\n",
       "      <th>75%</th>\n",
       "      <th>max</th>\n",
       "    </tr>\n",
       "  </thead>\n",
       "  <tbody>\n",
       "    <tr>\n",
       "      <th>idade</th>\n",
       "      <td>1338.0</td>\n",
       "      <td>39.207025</td>\n",
       "      <td>14.049960</td>\n",
       "      <td>18.0000</td>\n",
       "      <td>27.00000</td>\n",
       "      <td>39.000</td>\n",
       "      <td>51.000000</td>\n",
       "      <td>64.00000</td>\n",
       "    </tr>\n",
       "    <tr>\n",
       "      <th>IMC</th>\n",
       "      <td>1338.0</td>\n",
       "      <td>30.663397</td>\n",
       "      <td>6.098187</td>\n",
       "      <td>15.9600</td>\n",
       "      <td>26.29625</td>\n",
       "      <td>30.400</td>\n",
       "      <td>34.693750</td>\n",
       "      <td>53.13000</td>\n",
       "    </tr>\n",
       "    <tr>\n",
       "      <th>num_filhos</th>\n",
       "      <td>1338.0</td>\n",
       "      <td>1.094918</td>\n",
       "      <td>1.205493</td>\n",
       "      <td>0.0000</td>\n",
       "      <td>0.00000</td>\n",
       "      <td>1.000</td>\n",
       "      <td>2.000000</td>\n",
       "      <td>5.00000</td>\n",
       "    </tr>\n",
       "    <tr>\n",
       "      <th>valor_seguro</th>\n",
       "      <td>1338.0</td>\n",
       "      <td>13270.422265</td>\n",
       "      <td>12110.011237</td>\n",
       "      <td>1121.8739</td>\n",
       "      <td>4740.28715</td>\n",
       "      <td>9382.033</td>\n",
       "      <td>16639.912515</td>\n",
       "      <td>63770.42801</td>\n",
       "    </tr>\n",
       "  </tbody>\n",
       "</table>\n",
       "</div>"
      ],
      "text/plain": [
       "               count          mean           std        min         25%  \\\n",
       "idade         1338.0     39.207025     14.049960    18.0000    27.00000   \n",
       "IMC           1338.0     30.663397      6.098187    15.9600    26.29625   \n",
       "num_filhos    1338.0      1.094918      1.205493     0.0000     0.00000   \n",
       "valor_seguro  1338.0  13270.422265  12110.011237  1121.8739  4740.28715   \n",
       "\n",
       "                   50%           75%          max  \n",
       "idade           39.000     51.000000     64.00000  \n",
       "IMC             30.400     34.693750     53.13000  \n",
       "num_filhos       1.000      2.000000      5.00000  \n",
       "valor_seguro  9382.033  16639.912515  63770.42801  "
      ]
     },
     "execution_count": 3,
     "metadata": {},
     "output_type": "execute_result"
    }
   ],
   "source": [
    "df.describe().T"
   ]
  },
  {
   "cell_type": "code",
   "execution_count": 4,
   "metadata": {},
   "outputs": [
    {
     "data": {
      "text/plain": [
       "Masculino    676\n",
       "Feminino     662\n",
       "Name: sexo, dtype: int64"
      ]
     },
     "execution_count": 4,
     "metadata": {},
     "output_type": "execute_result"
    }
   ],
   "source": [
    "df.sexo.value_counts()"
   ]
  },
  {
   "cell_type": "code",
   "execution_count": 5,
   "metadata": {},
   "outputs": [
    {
     "data": {
      "text/plain": [
       "nao    1064\n",
       "sim     274\n",
       "Name: fumante, dtype: int64"
      ]
     },
     "execution_count": 5,
     "metadata": {},
     "output_type": "execute_result"
    }
   ],
   "source": [
    "df.fumante.value_counts()"
   ]
  },
  {
   "cell_type": "code",
   "execution_count": 6,
   "metadata": {},
   "outputs": [
    {
     "data": {
      "text/plain": [
       "sudeste     364\n",
       "sul         325\n",
       "Norte       325\n",
       "Nordeste    324\n",
       "Name: regiao, dtype: int64"
      ]
     },
     "execution_count": 6,
     "metadata": {},
     "output_type": "execute_result"
    }
   ],
   "source": [
    "df.regiao.value_counts()"
   ]
  },
  {
   "cell_type": "code",
   "execution_count": 7,
   "metadata": {},
   "outputs": [
    {
     "data": {
      "text/html": [
       "<div>\n",
       "<style scoped>\n",
       "    .dataframe tbody tr th:only-of-type {\n",
       "        vertical-align: middle;\n",
       "    }\n",
       "\n",
       "    .dataframe tbody tr th {\n",
       "        vertical-align: top;\n",
       "    }\n",
       "\n",
       "    .dataframe thead th {\n",
       "        text-align: right;\n",
       "    }\n",
       "</style>\n",
       "<table border=\"1\" class=\"dataframe\">\n",
       "  <thead>\n",
       "    <tr style=\"text-align: right;\">\n",
       "      <th></th>\n",
       "      <th>idade</th>\n",
       "      <th>IMC</th>\n",
       "      <th>num_filhos</th>\n",
       "      <th>valor_seguro</th>\n",
       "    </tr>\n",
       "  </thead>\n",
       "  <tbody>\n",
       "    <tr>\n",
       "      <th>idade</th>\n",
       "      <td>1.000000</td>\n",
       "      <td>0.109272</td>\n",
       "      <td>0.042469</td>\n",
       "      <td>0.299008</td>\n",
       "    </tr>\n",
       "    <tr>\n",
       "      <th>IMC</th>\n",
       "      <td>0.109272</td>\n",
       "      <td>1.000000</td>\n",
       "      <td>0.012759</td>\n",
       "      <td>0.198341</td>\n",
       "    </tr>\n",
       "    <tr>\n",
       "      <th>num_filhos</th>\n",
       "      <td>0.042469</td>\n",
       "      <td>0.012759</td>\n",
       "      <td>1.000000</td>\n",
       "      <td>0.067998</td>\n",
       "    </tr>\n",
       "    <tr>\n",
       "      <th>valor_seguro</th>\n",
       "      <td>0.299008</td>\n",
       "      <td>0.198341</td>\n",
       "      <td>0.067998</td>\n",
       "      <td>1.000000</td>\n",
       "    </tr>\n",
       "  </tbody>\n",
       "</table>\n",
       "</div>"
      ],
      "text/plain": [
       "                 idade       IMC  num_filhos  valor_seguro\n",
       "idade         1.000000  0.109272    0.042469      0.299008\n",
       "IMC           0.109272  1.000000    0.012759      0.198341\n",
       "num_filhos    0.042469  0.012759    1.000000      0.067998\n",
       "valor_seguro  0.299008  0.198341    0.067998      1.000000"
      ]
     },
     "execution_count": 7,
     "metadata": {},
     "output_type": "execute_result"
    }
   ],
   "source": [
    "df.corr()"
   ]
  },
  {
   "cell_type": "markdown",
   "metadata": {},
   "source": [
    "# Transformacão de Dados"
   ]
  },
  {
   "cell_type": "code",
   "execution_count": 8,
   "metadata": {
    "execution": {
     "iopub.execute_input": "2023-05-28T12:38:40.329695Z",
     "iopub.status.busy": "2023-05-28T12:38:40.329362Z",
     "iopub.status.idle": "2023-05-28T12:38:40.337320Z",
     "shell.execute_reply": "2023-05-28T12:38:40.336025Z",
     "shell.execute_reply.started": "2023-05-28T12:38:40.329668Z"
    }
   },
   "outputs": [
    {
     "data": {
      "text/plain": [
       "{'sexo': {'Feminino': 0, 'Masculino': 1}}"
      ]
     },
     "execution_count": 8,
     "metadata": {},
     "output_type": "execute_result"
    }
   ],
   "source": [
    "dict_categorias = {}\n",
    "\n",
    "dict_categorias['sexo'] = {\n",
    "        'Feminino': 0,\n",
    "        'Masculino': 1\n",
    "}\n",
    "dict_categorias"
   ]
  },
  {
   "cell_type": "code",
   "execution_count": 9,
   "metadata": {
    "execution": {
     "iopub.execute_input": "2023-05-28T12:38:40.339595Z",
     "iopub.status.busy": "2023-05-28T12:38:40.339173Z",
     "iopub.status.idle": "2023-05-28T12:38:40.355247Z",
     "shell.execute_reply": "2023-05-28T12:38:40.353808Z",
     "shell.execute_reply.started": "2023-05-28T12:38:40.339562Z"
    }
   },
   "outputs": [
    {
     "data": {
      "text/plain": [
       "{'Feminino': 0, 'Masculino': 1}"
      ]
     },
     "execution_count": 9,
     "metadata": {},
     "output_type": "execute_result"
    }
   ],
   "source": [
    "dict_categorias['sexo']"
   ]
  },
  {
   "cell_type": "code",
   "execution_count": 10,
   "metadata": {
    "execution": {
     "iopub.execute_input": "2023-05-28T12:38:40.357617Z",
     "iopub.status.busy": "2023-05-28T12:38:40.356694Z",
     "iopub.status.idle": "2023-05-28T12:38:40.371232Z",
     "shell.execute_reply": "2023-05-28T12:38:40.369784Z",
     "shell.execute_reply.started": "2023-05-28T12:38:40.357571Z"
    }
   },
   "outputs": [
    {
     "data": {
      "text/plain": [
       "1"
      ]
     },
     "execution_count": 10,
     "metadata": {},
     "output_type": "execute_result"
    }
   ],
   "source": [
    "dict_categorias['sexo']['Masculino']"
   ]
  },
  {
   "cell_type": "code",
   "execution_count": 11,
   "metadata": {
    "execution": {
     "iopub.execute_input": "2023-05-28T12:38:40.373565Z",
     "iopub.status.busy": "2023-05-28T12:38:40.373173Z",
     "iopub.status.idle": "2023-05-28T12:38:40.392942Z",
     "shell.execute_reply": "2023-05-28T12:38:40.392065Z",
     "shell.execute_reply.started": "2023-05-28T12:38:40.373533Z"
    }
   },
   "outputs": [
    {
     "data": {
      "text/html": [
       "<div>\n",
       "<style scoped>\n",
       "    .dataframe tbody tr th:only-of-type {\n",
       "        vertical-align: middle;\n",
       "    }\n",
       "\n",
       "    .dataframe tbody tr th {\n",
       "        vertical-align: top;\n",
       "    }\n",
       "\n",
       "    .dataframe thead th {\n",
       "        text-align: right;\n",
       "    }\n",
       "</style>\n",
       "<table border=\"1\" class=\"dataframe\">\n",
       "  <thead>\n",
       "    <tr style=\"text-align: right;\">\n",
       "      <th></th>\n",
       "      <th>idade</th>\n",
       "      <th>sexo</th>\n",
       "      <th>IMC</th>\n",
       "      <th>num_filhos</th>\n",
       "      <th>fumante</th>\n",
       "      <th>regiao</th>\n",
       "      <th>valor_seguro</th>\n",
       "    </tr>\n",
       "  </thead>\n",
       "  <tbody>\n",
       "    <tr>\n",
       "      <th>0</th>\n",
       "      <td>19</td>\n",
       "      <td>0</td>\n",
       "      <td>27.900</td>\n",
       "      <td>0</td>\n",
       "      <td>sim</td>\n",
       "      <td>sul</td>\n",
       "      <td>16884.92400</td>\n",
       "    </tr>\n",
       "    <tr>\n",
       "      <th>1</th>\n",
       "      <td>18</td>\n",
       "      <td>1</td>\n",
       "      <td>33.770</td>\n",
       "      <td>1</td>\n",
       "      <td>nao</td>\n",
       "      <td>sudeste</td>\n",
       "      <td>1725.55230</td>\n",
       "    </tr>\n",
       "    <tr>\n",
       "      <th>2</th>\n",
       "      <td>28</td>\n",
       "      <td>1</td>\n",
       "      <td>33.000</td>\n",
       "      <td>3</td>\n",
       "      <td>nao</td>\n",
       "      <td>sudeste</td>\n",
       "      <td>4449.46200</td>\n",
       "    </tr>\n",
       "    <tr>\n",
       "      <th>3</th>\n",
       "      <td>33</td>\n",
       "      <td>1</td>\n",
       "      <td>22.705</td>\n",
       "      <td>0</td>\n",
       "      <td>nao</td>\n",
       "      <td>Norte</td>\n",
       "      <td>21984.47061</td>\n",
       "    </tr>\n",
       "    <tr>\n",
       "      <th>4</th>\n",
       "      <td>32</td>\n",
       "      <td>1</td>\n",
       "      <td>28.880</td>\n",
       "      <td>0</td>\n",
       "      <td>nao</td>\n",
       "      <td>Norte</td>\n",
       "      <td>3866.85520</td>\n",
       "    </tr>\n",
       "  </tbody>\n",
       "</table>\n",
       "</div>"
      ],
      "text/plain": [
       "   idade  sexo     IMC  num_filhos fumante   regiao  valor_seguro\n",
       "0     19     0  27.900           0     sim      sul   16884.92400\n",
       "1     18     1  33.770           1     nao  sudeste    1725.55230\n",
       "2     28     1  33.000           3     nao  sudeste    4449.46200\n",
       "3     33     1  22.705           0     nao    Norte   21984.47061\n",
       "4     32     1  28.880           0     nao    Norte    3866.85520"
      ]
     },
     "execution_count": 11,
     "metadata": {},
     "output_type": "execute_result"
    }
   ],
   "source": [
    "df['sexo'] = df.sexo.map(dict_categorias['sexo'])\n",
    "df.head()"
   ]
  },
  {
   "cell_type": "code",
   "execution_count": 12,
   "metadata": {
    "execution": {
     "iopub.execute_input": "2023-05-28T12:38:40.394860Z",
     "iopub.status.busy": "2023-05-28T12:38:40.394511Z",
     "iopub.status.idle": "2023-05-28T12:38:40.402353Z",
     "shell.execute_reply": "2023-05-28T12:38:40.400964Z",
     "shell.execute_reply.started": "2023-05-28T12:38:40.394829Z"
    }
   },
   "outputs": [
    {
     "data": {
      "text/plain": [
       "{'sexo': {'Feminino': 0, 'Masculino': 1}, 'fumante': {'nao': 0, 'sim': 1}}"
      ]
     },
     "execution_count": 12,
     "metadata": {},
     "output_type": "execute_result"
    }
   ],
   "source": [
    "dict_categorias['fumante'] = {\n",
    "        'nao': 0,\n",
    "        'sim': 1\n",
    "}\n",
    "dict_categorias"
   ]
  },
  {
   "cell_type": "code",
   "execution_count": 13,
   "metadata": {
    "execution": {
     "iopub.execute_input": "2023-05-28T12:38:40.404398Z",
     "iopub.status.busy": "2023-05-28T12:38:40.403892Z",
     "iopub.status.idle": "2023-05-28T12:38:40.426604Z",
     "shell.execute_reply": "2023-05-28T12:38:40.424637Z",
     "shell.execute_reply.started": "2023-05-28T12:38:40.404359Z"
    }
   },
   "outputs": [
    {
     "data": {
      "text/html": [
       "<div>\n",
       "<style scoped>\n",
       "    .dataframe tbody tr th:only-of-type {\n",
       "        vertical-align: middle;\n",
       "    }\n",
       "\n",
       "    .dataframe tbody tr th {\n",
       "        vertical-align: top;\n",
       "    }\n",
       "\n",
       "    .dataframe thead th {\n",
       "        text-align: right;\n",
       "    }\n",
       "</style>\n",
       "<table border=\"1\" class=\"dataframe\">\n",
       "  <thead>\n",
       "    <tr style=\"text-align: right;\">\n",
       "      <th></th>\n",
       "      <th>idade</th>\n",
       "      <th>sexo</th>\n",
       "      <th>IMC</th>\n",
       "      <th>num_filhos</th>\n",
       "      <th>fumante</th>\n",
       "      <th>regiao</th>\n",
       "      <th>valor_seguro</th>\n",
       "    </tr>\n",
       "  </thead>\n",
       "  <tbody>\n",
       "    <tr>\n",
       "      <th>0</th>\n",
       "      <td>19</td>\n",
       "      <td>0</td>\n",
       "      <td>27.900</td>\n",
       "      <td>0</td>\n",
       "      <td>1</td>\n",
       "      <td>sul</td>\n",
       "      <td>16884.92400</td>\n",
       "    </tr>\n",
       "    <tr>\n",
       "      <th>1</th>\n",
       "      <td>18</td>\n",
       "      <td>1</td>\n",
       "      <td>33.770</td>\n",
       "      <td>1</td>\n",
       "      <td>0</td>\n",
       "      <td>sudeste</td>\n",
       "      <td>1725.55230</td>\n",
       "    </tr>\n",
       "    <tr>\n",
       "      <th>2</th>\n",
       "      <td>28</td>\n",
       "      <td>1</td>\n",
       "      <td>33.000</td>\n",
       "      <td>3</td>\n",
       "      <td>0</td>\n",
       "      <td>sudeste</td>\n",
       "      <td>4449.46200</td>\n",
       "    </tr>\n",
       "    <tr>\n",
       "      <th>3</th>\n",
       "      <td>33</td>\n",
       "      <td>1</td>\n",
       "      <td>22.705</td>\n",
       "      <td>0</td>\n",
       "      <td>0</td>\n",
       "      <td>Norte</td>\n",
       "      <td>21984.47061</td>\n",
       "    </tr>\n",
       "    <tr>\n",
       "      <th>4</th>\n",
       "      <td>32</td>\n",
       "      <td>1</td>\n",
       "      <td>28.880</td>\n",
       "      <td>0</td>\n",
       "      <td>0</td>\n",
       "      <td>Norte</td>\n",
       "      <td>3866.85520</td>\n",
       "    </tr>\n",
       "  </tbody>\n",
       "</table>\n",
       "</div>"
      ],
      "text/plain": [
       "   idade  sexo     IMC  num_filhos  fumante   regiao  valor_seguro\n",
       "0     19     0  27.900           0        1      sul   16884.92400\n",
       "1     18     1  33.770           1        0  sudeste    1725.55230\n",
       "2     28     1  33.000           3        0  sudeste    4449.46200\n",
       "3     33     1  22.705           0        0    Norte   21984.47061\n",
       "4     32     1  28.880           0        0    Norte    3866.85520"
      ]
     },
     "execution_count": 13,
     "metadata": {},
     "output_type": "execute_result"
    }
   ],
   "source": [
    "df['fumante'] = df.fumante.map(dict_categorias['fumante'])\n",
    "df.head()"
   ]
  },
  {
   "cell_type": "code",
   "execution_count": 14,
   "metadata": {
    "execution": {
     "iopub.execute_input": "2023-05-28T12:38:40.429227Z",
     "iopub.status.busy": "2023-05-28T12:38:40.428213Z",
     "iopub.status.idle": "2023-05-28T12:38:40.435678Z",
     "shell.execute_reply": "2023-05-28T12:38:40.434638Z",
     "shell.execute_reply.started": "2023-05-28T12:38:40.429195Z"
    }
   },
   "outputs": [
    {
     "data": {
      "text/plain": [
       "array(['sul', 'sudeste', 'Norte', 'Nordeste'], dtype=object)"
      ]
     },
     "execution_count": 14,
     "metadata": {},
     "output_type": "execute_result"
    }
   ],
   "source": [
    "df.regiao.unique()"
   ]
  },
  {
   "cell_type": "code",
   "execution_count": 15,
   "metadata": {
    "execution": {
     "iopub.execute_input": "2023-05-28T12:38:40.437071Z",
     "iopub.status.busy": "2023-05-28T12:38:40.436794Z",
     "iopub.status.idle": "2023-05-28T12:38:40.453816Z",
     "shell.execute_reply": "2023-05-28T12:38:40.451964Z",
     "shell.execute_reply.started": "2023-05-28T12:38:40.437049Z"
    }
   },
   "outputs": [
    {
     "data": {
      "text/plain": [
       "{'sexo': {'Feminino': 0, 'Masculino': 1},\n",
       " 'fumante': {'nao': 0, 'sim': 1},\n",
       " 'regiao': {'sul': 0, 'sudeste': 1, 'Norte': 2, 'Nordeste': 3}}"
      ]
     },
     "execution_count": 15,
     "metadata": {},
     "output_type": "execute_result"
    }
   ],
   "source": [
    "dict_categorias['regiao'] = {\n",
    "        'sul' : 0, \n",
    "        'sudeste': 1, \n",
    "        'Norte': 2, \n",
    "        'Nordeste': 3\n",
    "}\n",
    "dict_categorias"
   ]
  },
  {
   "cell_type": "code",
   "execution_count": 16,
   "metadata": {
    "execution": {
     "iopub.execute_input": "2023-05-28T12:39:13.984619Z",
     "iopub.status.busy": "2023-05-28T12:39:13.984160Z",
     "iopub.status.idle": "2023-05-28T12:39:14.002458Z",
     "shell.execute_reply": "2023-05-28T12:39:14.001128Z",
     "shell.execute_reply.started": "2023-05-28T12:39:13.984581Z"
    }
   },
   "outputs": [
    {
     "data": {
      "text/html": [
       "<div>\n",
       "<style scoped>\n",
       "    .dataframe tbody tr th:only-of-type {\n",
       "        vertical-align: middle;\n",
       "    }\n",
       "\n",
       "    .dataframe tbody tr th {\n",
       "        vertical-align: top;\n",
       "    }\n",
       "\n",
       "    .dataframe thead th {\n",
       "        text-align: right;\n",
       "    }\n",
       "</style>\n",
       "<table border=\"1\" class=\"dataframe\">\n",
       "  <thead>\n",
       "    <tr style=\"text-align: right;\">\n",
       "      <th></th>\n",
       "      <th>idade</th>\n",
       "      <th>sexo</th>\n",
       "      <th>IMC</th>\n",
       "      <th>num_filhos</th>\n",
       "      <th>fumante</th>\n",
       "      <th>regiao</th>\n",
       "      <th>valor_seguro</th>\n",
       "    </tr>\n",
       "  </thead>\n",
       "  <tbody>\n",
       "    <tr>\n",
       "      <th>0</th>\n",
       "      <td>19</td>\n",
       "      <td>0</td>\n",
       "      <td>27.900</td>\n",
       "      <td>0</td>\n",
       "      <td>1</td>\n",
       "      <td>0</td>\n",
       "      <td>16884.92400</td>\n",
       "    </tr>\n",
       "    <tr>\n",
       "      <th>1</th>\n",
       "      <td>18</td>\n",
       "      <td>1</td>\n",
       "      <td>33.770</td>\n",
       "      <td>1</td>\n",
       "      <td>0</td>\n",
       "      <td>1</td>\n",
       "      <td>1725.55230</td>\n",
       "    </tr>\n",
       "    <tr>\n",
       "      <th>2</th>\n",
       "      <td>28</td>\n",
       "      <td>1</td>\n",
       "      <td>33.000</td>\n",
       "      <td>3</td>\n",
       "      <td>0</td>\n",
       "      <td>1</td>\n",
       "      <td>4449.46200</td>\n",
       "    </tr>\n",
       "    <tr>\n",
       "      <th>3</th>\n",
       "      <td>33</td>\n",
       "      <td>1</td>\n",
       "      <td>22.705</td>\n",
       "      <td>0</td>\n",
       "      <td>0</td>\n",
       "      <td>2</td>\n",
       "      <td>21984.47061</td>\n",
       "    </tr>\n",
       "    <tr>\n",
       "      <th>4</th>\n",
       "      <td>32</td>\n",
       "      <td>1</td>\n",
       "      <td>28.880</td>\n",
       "      <td>0</td>\n",
       "      <td>0</td>\n",
       "      <td>2</td>\n",
       "      <td>3866.85520</td>\n",
       "    </tr>\n",
       "  </tbody>\n",
       "</table>\n",
       "</div>"
      ],
      "text/plain": [
       "   idade  sexo     IMC  num_filhos  fumante  regiao  valor_seguro\n",
       "0     19     0  27.900           0        1       0   16884.92400\n",
       "1     18     1  33.770           1        0       1    1725.55230\n",
       "2     28     1  33.000           3        0       1    4449.46200\n",
       "3     33     1  22.705           0        0       2   21984.47061\n",
       "4     32     1  28.880           0        0       2    3866.85520"
      ]
     },
     "execution_count": 16,
     "metadata": {},
     "output_type": "execute_result"
    }
   ],
   "source": [
    "df['regiao'] = df.regiao.map(dict_categorias['regiao'])\n",
    "df.head()"
   ]
  },
  {
   "cell_type": "markdown",
   "metadata": {},
   "source": [
    "# construção do modelo"
   ]
  },
  {
   "cell_type": "code",
   "execution_count": 18,
   "metadata": {
    "execution": {
     "iopub.execute_input": "2023-05-28T12:41:01.848412Z",
     "iopub.status.busy": "2023-05-28T12:41:01.847977Z",
     "iopub.status.idle": "2023-05-28T12:41:02.101803Z",
     "shell.execute_reply": "2023-05-28T12:41:02.100504Z",
     "shell.execute_reply.started": "2023-05-28T12:41:01.848378Z"
    }
   },
   "outputs": [],
   "source": [
    "from sklearn import linear_model\n",
    "modelo = linear_model.LinearRegression()"
   ]
  },
  {
   "cell_type": "code",
   "execution_count": 19,
   "metadata": {
    "execution": {
     "iopub.execute_input": "2023-05-28T12:41:09.695752Z",
     "iopub.status.busy": "2023-05-28T12:41:09.695249Z",
     "iopub.status.idle": "2023-05-28T12:41:09.704311Z",
     "shell.execute_reply": "2023-05-28T12:41:09.702935Z",
     "shell.execute_reply.started": "2023-05-28T12:41:09.695700Z"
    }
   },
   "outputs": [
    {
     "data": {
      "text/plain": [
       "1338"
      ]
     },
     "execution_count": 19,
     "metadata": {},
     "output_type": "execute_result"
    }
   ],
   "source": [
    "len(df)"
   ]
  },
  {
   "cell_type": "markdown",
   "metadata": {},
   "source": [
    "# X e y"
   ]
  },
  {
   "cell_type": "code",
   "execution_count": 20,
   "metadata": {
    "execution": {
     "iopub.execute_input": "2023-05-28T12:44:44.686401Z",
     "iopub.status.busy": "2023-05-28T12:44:44.686004Z",
     "iopub.status.idle": "2023-05-28T12:44:44.701786Z",
     "shell.execute_reply": "2023-05-28T12:44:44.700422Z",
     "shell.execute_reply.started": "2023-05-28T12:44:44.686370Z"
    }
   },
   "outputs": [
    {
     "data": {
      "text/html": [
       "<div>\n",
       "<style scoped>\n",
       "    .dataframe tbody tr th:only-of-type {\n",
       "        vertical-align: middle;\n",
       "    }\n",
       "\n",
       "    .dataframe tbody tr th {\n",
       "        vertical-align: top;\n",
       "    }\n",
       "\n",
       "    .dataframe thead th {\n",
       "        text-align: right;\n",
       "    }\n",
       "</style>\n",
       "<table border=\"1\" class=\"dataframe\">\n",
       "  <thead>\n",
       "    <tr style=\"text-align: right;\">\n",
       "      <th></th>\n",
       "      <th>idade</th>\n",
       "      <th>sexo</th>\n",
       "      <th>IMC</th>\n",
       "      <th>num_filhos</th>\n",
       "      <th>fumante</th>\n",
       "      <th>regiao</th>\n",
       "    </tr>\n",
       "  </thead>\n",
       "  <tbody>\n",
       "    <tr>\n",
       "      <th>0</th>\n",
       "      <td>19</td>\n",
       "      <td>0</td>\n",
       "      <td>27.900</td>\n",
       "      <td>0</td>\n",
       "      <td>1</td>\n",
       "      <td>0</td>\n",
       "    </tr>\n",
       "    <tr>\n",
       "      <th>1</th>\n",
       "      <td>18</td>\n",
       "      <td>1</td>\n",
       "      <td>33.770</td>\n",
       "      <td>1</td>\n",
       "      <td>0</td>\n",
       "      <td>1</td>\n",
       "    </tr>\n",
       "    <tr>\n",
       "      <th>2</th>\n",
       "      <td>28</td>\n",
       "      <td>1</td>\n",
       "      <td>33.000</td>\n",
       "      <td>3</td>\n",
       "      <td>0</td>\n",
       "      <td>1</td>\n",
       "    </tr>\n",
       "    <tr>\n",
       "      <th>3</th>\n",
       "      <td>33</td>\n",
       "      <td>1</td>\n",
       "      <td>22.705</td>\n",
       "      <td>0</td>\n",
       "      <td>0</td>\n",
       "      <td>2</td>\n",
       "    </tr>\n",
       "    <tr>\n",
       "      <th>4</th>\n",
       "      <td>32</td>\n",
       "      <td>1</td>\n",
       "      <td>28.880</td>\n",
       "      <td>0</td>\n",
       "      <td>0</td>\n",
       "      <td>2</td>\n",
       "    </tr>\n",
       "  </tbody>\n",
       "</table>\n",
       "</div>"
      ],
      "text/plain": [
       "   idade  sexo     IMC  num_filhos  fumante  regiao\n",
       "0     19     0  27.900           0        1       0\n",
       "1     18     1  33.770           1        0       1\n",
       "2     28     1  33.000           3        0       1\n",
       "3     33     1  22.705           0        0       2\n",
       "4     32     1  28.880           0        0       2"
      ]
     },
     "execution_count": 20,
     "metadata": {},
     "output_type": "execute_result"
    }
   ],
   "source": [
    "X = df[ ['idade', 'sexo', 'IMC', 'num_filhos', 'fumante', 'regiao'] ]\n",
    "X.head()"
   ]
  },
  {
   "cell_type": "code",
   "execution_count": 21,
   "metadata": {
    "execution": {
     "iopub.execute_input": "2023-05-28T12:44:55.057453Z",
     "iopub.status.busy": "2023-05-28T12:44:55.056802Z",
     "iopub.status.idle": "2023-05-28T12:44:55.067928Z",
     "shell.execute_reply": "2023-05-28T12:44:55.066806Z",
     "shell.execute_reply.started": "2023-05-28T12:44:55.057412Z"
    }
   },
   "outputs": [
    {
     "data": {
      "text/plain": [
       "0    16884.92400\n",
       "1     1725.55230\n",
       "2     4449.46200\n",
       "3    21984.47061\n",
       "4     3866.85520\n",
       "Name: valor_seguro, dtype: float64"
      ]
     },
     "execution_count": 21,
     "metadata": {},
     "output_type": "execute_result"
    }
   ],
   "source": [
    "y = df['valor_seguro']\n",
    "y.head()"
   ]
  },
  {
   "cell_type": "code",
   "execution_count": 23,
   "metadata": {
    "execution": {
     "iopub.execute_input": "2023-05-28T12:46:14.021320Z",
     "iopub.status.busy": "2023-05-28T12:46:14.020918Z",
     "iopub.status.idle": "2023-05-28T12:46:14.034329Z",
     "shell.execute_reply": "2023-05-28T12:46:14.032510Z",
     "shell.execute_reply.started": "2023-05-28T12:46:14.021285Z"
    }
   },
   "outputs": [
    {
     "data": {
      "text/plain": [
       "(1070, 268)"
      ]
     },
     "execution_count": 23,
     "metadata": {},
     "output_type": "execute_result"
    }
   ],
   "source": [
    "from sklearn.model_selection import train_test_split\n",
    "\n",
    "X_train, X_test, y_train, y_test = train_test_split(X, y, test_size=0.20, random_state=42)\n",
    "len(X_train), len(X_test)"
   ]
  },
  {
   "cell_type": "markdown",
   "metadata": {},
   "source": [
    "## converte em matrizes"
   ]
  },
  {
   "cell_type": "code",
   "execution_count": 24,
   "metadata": {
    "execution": {
     "iopub.execute_input": "2023-05-28T12:47:40.169892Z",
     "iopub.status.busy": "2023-05-28T12:47:40.169309Z",
     "iopub.status.idle": "2023-05-28T12:47:40.179966Z",
     "shell.execute_reply": "2023-05-28T12:47:40.178683Z",
     "shell.execute_reply.started": "2023-05-28T12:47:40.169849Z"
    }
   },
   "outputs": [
    {
     "data": {
      "text/plain": [
       "array([[46.   ,  0.   , 19.95 ,  2.   ,  0.   ,  2.   ],\n",
       "       [47.   ,  0.   , 24.32 ,  0.   ,  0.   ,  3.   ],\n",
       "       [52.   ,  0.   , 24.86 ,  0.   ,  0.   ,  1.   ],\n",
       "       ...,\n",
       "       [58.   ,  1.   , 25.175,  0.   ,  0.   ,  3.   ],\n",
       "       [37.   ,  0.   , 47.6  ,  2.   ,  1.   ,  0.   ],\n",
       "       [55.   ,  1.   , 29.9  ,  0.   ,  0.   ,  0.   ]])"
      ]
     },
     "execution_count": 24,
     "metadata": {},
     "output_type": "execute_result"
    }
   ],
   "source": [
    "X_train_mat = X_train.to_numpy()\n",
    "X_train_mat"
   ]
  },
  {
   "cell_type": "code",
   "execution_count": 25,
   "metadata": {
    "execution": {
     "iopub.execute_input": "2023-05-28T12:48:11.621770Z",
     "iopub.status.busy": "2023-05-28T12:48:11.621322Z",
     "iopub.status.idle": "2023-05-28T12:48:11.630190Z",
     "shell.execute_reply": "2023-05-28T12:48:11.628763Z",
     "shell.execute_reply.started": "2023-05-28T12:48:11.621734Z"
    }
   },
   "outputs": [
    {
     "data": {
      "text/plain": [
       "array([ 9193.8385 ,  8534.6718 , 27117.99378,  8596.8278 , 12475.3513 ,\n",
       "       13405.3903 ,  2150.469  , 13747.87235,  6610.1097 , 39047.285  ])"
      ]
     },
     "execution_count": 25,
     "metadata": {},
     "output_type": "execute_result"
    }
   ],
   "source": [
    "y_train_mat = y_train.to_numpy()\n",
    "y_train_mat[:10]"
   ]
  },
  {
   "cell_type": "code",
   "execution_count": 26,
   "metadata": {},
   "outputs": [],
   "source": [
    "# Fit do modelo - Treinamento"
   ]
  },
  {
   "cell_type": "code",
   "execution_count": 27,
   "metadata": {
    "execution": {
     "iopub.execute_input": "2023-05-28T12:48:59.127327Z",
     "iopub.status.busy": "2023-05-28T12:48:59.126954Z",
     "iopub.status.idle": "2023-05-28T12:48:59.166222Z",
     "shell.execute_reply": "2023-05-28T12:48:59.165108Z",
     "shell.execute_reply.started": "2023-05-28T12:48:59.127298Z"
    }
   },
   "outputs": [
    {
     "data": {
      "text/html": [
       "<style>#sk-container-id-1 {color: black;background-color: white;}#sk-container-id-1 pre{padding: 0;}#sk-container-id-1 div.sk-toggleable {background-color: white;}#sk-container-id-1 label.sk-toggleable__label {cursor: pointer;display: block;width: 100%;margin-bottom: 0;padding: 0.3em;box-sizing: border-box;text-align: center;}#sk-container-id-1 label.sk-toggleable__label-arrow:before {content: \"▸\";float: left;margin-right: 0.25em;color: #696969;}#sk-container-id-1 label.sk-toggleable__label-arrow:hover:before {color: black;}#sk-container-id-1 div.sk-estimator:hover label.sk-toggleable__label-arrow:before {color: black;}#sk-container-id-1 div.sk-toggleable__content {max-height: 0;max-width: 0;overflow: hidden;text-align: left;background-color: #f0f8ff;}#sk-container-id-1 div.sk-toggleable__content pre {margin: 0.2em;color: black;border-radius: 0.25em;background-color: #f0f8ff;}#sk-container-id-1 input.sk-toggleable__control:checked~div.sk-toggleable__content {max-height: 200px;max-width: 100%;overflow: auto;}#sk-container-id-1 input.sk-toggleable__control:checked~label.sk-toggleable__label-arrow:before {content: \"▾\";}#sk-container-id-1 div.sk-estimator input.sk-toggleable__control:checked~label.sk-toggleable__label {background-color: #d4ebff;}#sk-container-id-1 div.sk-label input.sk-toggleable__control:checked~label.sk-toggleable__label {background-color: #d4ebff;}#sk-container-id-1 input.sk-hidden--visually {border: 0;clip: rect(1px 1px 1px 1px);clip: rect(1px, 1px, 1px, 1px);height: 1px;margin: -1px;overflow: hidden;padding: 0;position: absolute;width: 1px;}#sk-container-id-1 div.sk-estimator {font-family: monospace;background-color: #f0f8ff;border: 1px dotted black;border-radius: 0.25em;box-sizing: border-box;margin-bottom: 0.5em;}#sk-container-id-1 div.sk-estimator:hover {background-color: #d4ebff;}#sk-container-id-1 div.sk-parallel-item::after {content: \"\";width: 100%;border-bottom: 1px solid gray;flex-grow: 1;}#sk-container-id-1 div.sk-label:hover label.sk-toggleable__label {background-color: #d4ebff;}#sk-container-id-1 div.sk-serial::before {content: \"\";position: absolute;border-left: 1px solid gray;box-sizing: border-box;top: 0;bottom: 0;left: 50%;z-index: 0;}#sk-container-id-1 div.sk-serial {display: flex;flex-direction: column;align-items: center;background-color: white;padding-right: 0.2em;padding-left: 0.2em;position: relative;}#sk-container-id-1 div.sk-item {position: relative;z-index: 1;}#sk-container-id-1 div.sk-parallel {display: flex;align-items: stretch;justify-content: center;background-color: white;position: relative;}#sk-container-id-1 div.sk-item::before, #sk-container-id-1 div.sk-parallel-item::before {content: \"\";position: absolute;border-left: 1px solid gray;box-sizing: border-box;top: 0;bottom: 0;left: 50%;z-index: -1;}#sk-container-id-1 div.sk-parallel-item {display: flex;flex-direction: column;z-index: 1;position: relative;background-color: white;}#sk-container-id-1 div.sk-parallel-item:first-child::after {align-self: flex-end;width: 50%;}#sk-container-id-1 div.sk-parallel-item:last-child::after {align-self: flex-start;width: 50%;}#sk-container-id-1 div.sk-parallel-item:only-child::after {width: 0;}#sk-container-id-1 div.sk-dashed-wrapped {border: 1px dashed gray;margin: 0 0.4em 0.5em 0.4em;box-sizing: border-box;padding-bottom: 0.4em;background-color: white;}#sk-container-id-1 div.sk-label label {font-family: monospace;font-weight: bold;display: inline-block;line-height: 1.2em;}#sk-container-id-1 div.sk-label-container {text-align: center;}#sk-container-id-1 div.sk-container {/* jupyter's `normalize.less` sets `[hidden] { display: none; }` but bootstrap.min.css set `[hidden] { display: none !important; }` so we also need the `!important` here to be able to override the default hidden behavior on the sphinx rendered scikit-learn.org. See: https://github.com/scikit-learn/scikit-learn/issues/21755 */display: inline-block !important;position: relative;}#sk-container-id-1 div.sk-text-repr-fallback {display: none;}</style><div id=\"sk-container-id-1\" class=\"sk-top-container\"><div class=\"sk-text-repr-fallback\"><pre>LinearRegression()</pre><b>In a Jupyter environment, please rerun this cell to show the HTML representation or trust the notebook. <br />On GitHub, the HTML representation is unable to render, please try loading this page with nbviewer.org.</b></div><div class=\"sk-container\" hidden><div class=\"sk-item\"><div class=\"sk-estimator sk-toggleable\"><input class=\"sk-toggleable__control sk-hidden--visually\" id=\"sk-estimator-id-1\" type=\"checkbox\" checked><label for=\"sk-estimator-id-1\" class=\"sk-toggleable__label sk-toggleable__label-arrow\">LinearRegression</label><div class=\"sk-toggleable__content\"><pre>LinearRegression()</pre></div></div></div></div></div>"
      ],
      "text/plain": [
       "LinearRegression()"
      ]
     },
     "execution_count": 27,
     "metadata": {},
     "output_type": "execute_result"
    }
   ],
   "source": [
    "modelo.fit(X_train_mat, y_train_mat)"
   ]
  },
  {
   "cell_type": "code",
   "execution_count": 28,
   "metadata": {},
   "outputs": [],
   "source": [
    "# Avaliacao do modelo - Teste"
   ]
  },
  {
   "cell_type": "code",
   "execution_count": 29,
   "metadata": {
    "execution": {
     "iopub.execute_input": "2023-05-28T12:54:23.177368Z",
     "iopub.status.busy": "2023-05-28T12:54:23.176948Z",
     "iopub.status.idle": "2023-05-28T12:54:23.185887Z",
     "shell.execute_reply": "2023-05-28T12:54:23.184441Z",
     "shell.execute_reply.started": "2023-05-28T12:54:23.177329Z"
    }
   },
   "outputs": [
    {
     "data": {
      "text/plain": [
       "array([ 8924.40724442,  7116.29501758, 36909.01352144,  9507.87469118,\n",
       "       27013.3500079 , 10790.77956153,   226.29844571, 16942.71599941,\n",
       "        1056.63079407, 11267.91997309])"
      ]
     },
     "execution_count": 29,
     "metadata": {},
     "output_type": "execute_result"
    }
   ],
   "source": [
    "y_test_pred = modelo.predict(X_test.to_numpy() )\n",
    "y_test_pred[:10]"
   ]
  },
  {
   "cell_type": "code",
   "execution_count": 30,
   "metadata": {
    "execution": {
     "iopub.execute_input": "2023-05-28T12:54:26.901970Z",
     "iopub.status.busy": "2023-05-28T12:54:26.900803Z",
     "iopub.status.idle": "2023-05-28T12:54:26.911309Z",
     "shell.execute_reply": "2023-05-28T12:54:26.909978Z",
     "shell.execute_reply.started": "2023-05-28T12:54:26.901927Z"
    }
   },
   "outputs": [
    {
     "data": {
      "text/plain": [
       "33635210.431178406"
      ]
     },
     "execution_count": 30,
     "metadata": {},
     "output_type": "execute_result"
    }
   ],
   "source": [
    "from sklearn.metrics import mean_squared_error\n",
    "\n",
    "mean_squared_error(y_test.to_numpy(), y_test_pred)"
   ]
  },
  {
   "cell_type": "code",
   "execution_count": 31,
   "metadata": {
    "execution": {
     "iopub.execute_input": "2023-05-28T12:55:23.555807Z",
     "iopub.status.busy": "2023-05-28T12:55:23.555401Z",
     "iopub.status.idle": "2023-05-28T12:55:23.563330Z",
     "shell.execute_reply": "2023-05-28T12:55:23.562450Z",
     "shell.execute_reply.started": "2023-05-28T12:55:23.555772Z"
    }
   },
   "outputs": [
    {
     "data": {
      "text/plain": [
       "0.7833463107364539"
      ]
     },
     "execution_count": 31,
     "metadata": {},
     "output_type": "execute_result"
    }
   ],
   "source": [
    "from sklearn.metrics import r2_score\n",
    "\n",
    "r2_score(y_test.to_numpy(), y_test_pred)"
   ]
  },
  {
   "cell_type": "markdown",
   "metadata": {},
   "source": [
    "# Deploy do modelo"
   ]
  },
  {
   "cell_type": "code",
   "execution_count": 32,
   "metadata": {
    "execution": {
     "iopub.execute_input": "2023-05-28T12:55:39.208046Z",
     "iopub.status.busy": "2023-05-28T12:55:39.207611Z",
     "iopub.status.idle": "2023-05-28T12:55:39.215438Z",
     "shell.execute_reply": "2023-05-28T12:55:39.214525Z",
     "shell.execute_reply.started": "2023-05-28T12:55:39.208015Z"
    }
   },
   "outputs": [
    {
     "data": {
      "text/plain": [
       "sklearn.linear_model._base.LinearRegression"
      ]
     },
     "execution_count": 32,
     "metadata": {},
     "output_type": "execute_result"
    }
   ],
   "source": [
    "type(modelo)"
   ]
  },
  {
   "cell_type": "code",
   "execution_count": 33,
   "metadata": {},
   "outputs": [
    {
     "data": {
      "text/html": [
       "<style>#sk-container-id-2 {color: black;background-color: white;}#sk-container-id-2 pre{padding: 0;}#sk-container-id-2 div.sk-toggleable {background-color: white;}#sk-container-id-2 label.sk-toggleable__label {cursor: pointer;display: block;width: 100%;margin-bottom: 0;padding: 0.3em;box-sizing: border-box;text-align: center;}#sk-container-id-2 label.sk-toggleable__label-arrow:before {content: \"▸\";float: left;margin-right: 0.25em;color: #696969;}#sk-container-id-2 label.sk-toggleable__label-arrow:hover:before {color: black;}#sk-container-id-2 div.sk-estimator:hover label.sk-toggleable__label-arrow:before {color: black;}#sk-container-id-2 div.sk-toggleable__content {max-height: 0;max-width: 0;overflow: hidden;text-align: left;background-color: #f0f8ff;}#sk-container-id-2 div.sk-toggleable__content pre {margin: 0.2em;color: black;border-radius: 0.25em;background-color: #f0f8ff;}#sk-container-id-2 input.sk-toggleable__control:checked~div.sk-toggleable__content {max-height: 200px;max-width: 100%;overflow: auto;}#sk-container-id-2 input.sk-toggleable__control:checked~label.sk-toggleable__label-arrow:before {content: \"▾\";}#sk-container-id-2 div.sk-estimator input.sk-toggleable__control:checked~label.sk-toggleable__label {background-color: #d4ebff;}#sk-container-id-2 div.sk-label input.sk-toggleable__control:checked~label.sk-toggleable__label {background-color: #d4ebff;}#sk-container-id-2 input.sk-hidden--visually {border: 0;clip: rect(1px 1px 1px 1px);clip: rect(1px, 1px, 1px, 1px);height: 1px;margin: -1px;overflow: hidden;padding: 0;position: absolute;width: 1px;}#sk-container-id-2 div.sk-estimator {font-family: monospace;background-color: #f0f8ff;border: 1px dotted black;border-radius: 0.25em;box-sizing: border-box;margin-bottom: 0.5em;}#sk-container-id-2 div.sk-estimator:hover {background-color: #d4ebff;}#sk-container-id-2 div.sk-parallel-item::after {content: \"\";width: 100%;border-bottom: 1px solid gray;flex-grow: 1;}#sk-container-id-2 div.sk-label:hover label.sk-toggleable__label {background-color: #d4ebff;}#sk-container-id-2 div.sk-serial::before {content: \"\";position: absolute;border-left: 1px solid gray;box-sizing: border-box;top: 0;bottom: 0;left: 50%;z-index: 0;}#sk-container-id-2 div.sk-serial {display: flex;flex-direction: column;align-items: center;background-color: white;padding-right: 0.2em;padding-left: 0.2em;position: relative;}#sk-container-id-2 div.sk-item {position: relative;z-index: 1;}#sk-container-id-2 div.sk-parallel {display: flex;align-items: stretch;justify-content: center;background-color: white;position: relative;}#sk-container-id-2 div.sk-item::before, #sk-container-id-2 div.sk-parallel-item::before {content: \"\";position: absolute;border-left: 1px solid gray;box-sizing: border-box;top: 0;bottom: 0;left: 50%;z-index: -1;}#sk-container-id-2 div.sk-parallel-item {display: flex;flex-direction: column;z-index: 1;position: relative;background-color: white;}#sk-container-id-2 div.sk-parallel-item:first-child::after {align-self: flex-end;width: 50%;}#sk-container-id-2 div.sk-parallel-item:last-child::after {align-self: flex-start;width: 50%;}#sk-container-id-2 div.sk-parallel-item:only-child::after {width: 0;}#sk-container-id-2 div.sk-dashed-wrapped {border: 1px dashed gray;margin: 0 0.4em 0.5em 0.4em;box-sizing: border-box;padding-bottom: 0.4em;background-color: white;}#sk-container-id-2 div.sk-label label {font-family: monospace;font-weight: bold;display: inline-block;line-height: 1.2em;}#sk-container-id-2 div.sk-label-container {text-align: center;}#sk-container-id-2 div.sk-container {/* jupyter's `normalize.less` sets `[hidden] { display: none; }` but bootstrap.min.css set `[hidden] { display: none !important; }` so we also need the `!important` here to be able to override the default hidden behavior on the sphinx rendered scikit-learn.org. See: https://github.com/scikit-learn/scikit-learn/issues/21755 */display: inline-block !important;position: relative;}#sk-container-id-2 div.sk-text-repr-fallback {display: none;}</style><div id=\"sk-container-id-2\" class=\"sk-top-container\"><div class=\"sk-text-repr-fallback\"><pre>LinearRegression()</pre><b>In a Jupyter environment, please rerun this cell to show the HTML representation or trust the notebook. <br />On GitHub, the HTML representation is unable to render, please try loading this page with nbviewer.org.</b></div><div class=\"sk-container\" hidden><div class=\"sk-item\"><div class=\"sk-estimator sk-toggleable\"><input class=\"sk-toggleable__control sk-hidden--visually\" id=\"sk-estimator-id-2\" type=\"checkbox\" checked><label for=\"sk-estimator-id-2\" class=\"sk-toggleable__label sk-toggleable__label-arrow\">LinearRegression</label><div class=\"sk-toggleable__content\"><pre>LinearRegression()</pre></div></div></div></div></div>"
      ],
      "text/plain": [
       "LinearRegression()"
      ]
     },
     "execution_count": 33,
     "metadata": {},
     "output_type": "execute_result"
    }
   ],
   "source": [
    "modelo"
   ]
  },
  {
   "cell_type": "code",
   "execution_count": 34,
   "metadata": {
    "execution": {
     "iopub.execute_input": "2023-05-28T13:08:43.020761Z",
     "iopub.status.busy": "2023-05-28T13:08:43.020314Z",
     "iopub.status.idle": "2023-05-28T13:08:43.030787Z",
     "shell.execute_reply": "2023-05-28T13:08:43.028413Z",
     "shell.execute_reply.started": "2023-05-28T13:08:43.020725Z"
    }
   },
   "outputs": [
    {
     "name": "stdout",
     "output_type": "stream",
     "text": [
      "LinearRegression()\n"
     ]
    }
   ],
   "source": [
    "import pickle \n",
    "\n",
    "with open('modelo.pkl', 'wb') as f:\n",
    "    pickle.dump(modelo, f)\n",
    "    \n",
    "with open('dict_categorias.pkl', 'wb') as f:\n",
    "    pickle.dump(dict_categorias, f)\n",
    "        \n",
    "with open('modelo.pkl', 'rb') as f:\n",
    "    loaded_model = pickle.load(f)\n",
    "    \n",
    "print(loaded_model)"
   ]
  },
  {
   "cell_type": "code",
   "execution_count": 35,
   "metadata": {
    "execution": {
     "iopub.execute_input": "2023-05-28T13:00:04.001252Z",
     "iopub.status.busy": "2023-05-28T13:00:04.000828Z",
     "iopub.status.idle": "2023-05-28T13:00:04.009552Z",
     "shell.execute_reply": "2023-05-28T13:00:04.008441Z",
     "shell.execute_reply.started": "2023-05-28T13:00:04.001216Z"
    }
   },
   "outputs": [
    {
     "name": "stdout",
     "output_type": "stream",
     "text": [
      "33635210.431178406\n",
      "0.7833463107364539\n"
     ]
    }
   ],
   "source": [
    "y_test_pred = loaded_model.predict(X_test.to_numpy() )\n",
    "print(mean_squared_error(y_test.to_numpy(), y_test_pred))\n",
    "print(r2_score(y_test.to_numpy(), y_test_pred))"
   ]
  },
  {
   "cell_type": "code",
   "execution_count": 36,
   "metadata": {
    "execution": {
     "iopub.execute_input": "2023-05-28T13:05:32.986169Z",
     "iopub.status.busy": "2023-05-28T13:05:32.985793Z",
     "iopub.status.idle": "2023-05-28T13:05:32.994255Z",
     "shell.execute_reply": "2023-05-28T13:05:32.993540Z",
     "shell.execute_reply.started": "2023-05-28T13:05:32.986138Z"
    }
   },
   "outputs": [
    {
     "data": {
      "text/plain": [
       "6457.656397499495"
      ]
     },
     "execution_count": 36,
     "metadata": {},
     "output_type": "execute_result"
    }
   ],
   "source": [
    "#  idade       sexo     IMC   num_filhos   fumante   regiao  valor_seguro\n",
    "# 32            1     28.880  0            0          2      3866.85520\n",
    "x1 = np.array([35,     1,   28.880, 0,        0,     2 ])\n",
    "modelo.predict(x1.reshape(1, -1))[0]"
   ]
  },
  {
   "cell_type": "code",
   "execution_count": 37,
   "metadata": {
    "execution": {
     "iopub.execute_input": "2023-05-28T13:00:37.012444Z",
     "iopub.status.busy": "2023-05-28T13:00:37.012041Z",
     "iopub.status.idle": "2023-05-28T13:00:37.020506Z",
     "shell.execute_reply": "2023-05-28T13:00:37.019170Z",
     "shell.execute_reply.started": "2023-05-28T13:00:37.012409Z"
    }
   },
   "outputs": [
    {
     "data": {
      "text/plain": [
       "Index(['idade', 'sexo', 'IMC', 'num_filhos', 'fumante', 'regiao',\n",
       "       'valor_seguro'],\n",
       "      dtype='object')"
      ]
     },
     "execution_count": 37,
     "metadata": {},
     "output_type": "execute_result"
    }
   ],
   "source": [
    "df.columns"
   ]
  },
  {
   "cell_type": "code",
   "execution_count": 38,
   "metadata": {
    "execution": {
     "iopub.execute_input": "2023-05-28T13:00:52.318085Z",
     "iopub.status.busy": "2023-05-28T13:00:52.317668Z",
     "iopub.status.idle": "2023-05-28T13:00:52.332256Z",
     "shell.execute_reply": "2023-05-28T13:00:52.331014Z",
     "shell.execute_reply.started": "2023-05-28T13:00:52.318049Z"
    }
   },
   "outputs": [
    {
     "data": {
      "text/html": [
       "<div>\n",
       "<style scoped>\n",
       "    .dataframe tbody tr th:only-of-type {\n",
       "        vertical-align: middle;\n",
       "    }\n",
       "\n",
       "    .dataframe tbody tr th {\n",
       "        vertical-align: top;\n",
       "    }\n",
       "\n",
       "    .dataframe thead th {\n",
       "        text-align: right;\n",
       "    }\n",
       "</style>\n",
       "<table border=\"1\" class=\"dataframe\">\n",
       "  <thead>\n",
       "    <tr style=\"text-align: right;\">\n",
       "      <th></th>\n",
       "      <th>idade</th>\n",
       "      <th>sexo</th>\n",
       "      <th>IMC</th>\n",
       "      <th>num_filhos</th>\n",
       "      <th>fumante</th>\n",
       "      <th>regiao</th>\n",
       "      <th>valor_seguro</th>\n",
       "    </tr>\n",
       "  </thead>\n",
       "  <tbody>\n",
       "    <tr>\n",
       "      <th>0</th>\n",
       "      <td>19</td>\n",
       "      <td>0</td>\n",
       "      <td>27.900</td>\n",
       "      <td>0</td>\n",
       "      <td>1</td>\n",
       "      <td>0</td>\n",
       "      <td>16884.92400</td>\n",
       "    </tr>\n",
       "    <tr>\n",
       "      <th>1</th>\n",
       "      <td>18</td>\n",
       "      <td>1</td>\n",
       "      <td>33.770</td>\n",
       "      <td>1</td>\n",
       "      <td>0</td>\n",
       "      <td>1</td>\n",
       "      <td>1725.55230</td>\n",
       "    </tr>\n",
       "    <tr>\n",
       "      <th>2</th>\n",
       "      <td>28</td>\n",
       "      <td>1</td>\n",
       "      <td>33.000</td>\n",
       "      <td>3</td>\n",
       "      <td>0</td>\n",
       "      <td>1</td>\n",
       "      <td>4449.46200</td>\n",
       "    </tr>\n",
       "    <tr>\n",
       "      <th>3</th>\n",
       "      <td>33</td>\n",
       "      <td>1</td>\n",
       "      <td>22.705</td>\n",
       "      <td>0</td>\n",
       "      <td>0</td>\n",
       "      <td>2</td>\n",
       "      <td>21984.47061</td>\n",
       "    </tr>\n",
       "    <tr>\n",
       "      <th>4</th>\n",
       "      <td>32</td>\n",
       "      <td>1</td>\n",
       "      <td>28.880</td>\n",
       "      <td>0</td>\n",
       "      <td>0</td>\n",
       "      <td>2</td>\n",
       "      <td>3866.85520</td>\n",
       "    </tr>\n",
       "  </tbody>\n",
       "</table>\n",
       "</div>"
      ],
      "text/plain": [
       "   idade  sexo     IMC  num_filhos  fumante  regiao  valor_seguro\n",
       "0     19     0  27.900           0        1       0   16884.92400\n",
       "1     18     1  33.770           1        0       1    1725.55230\n",
       "2     28     1  33.000           3        0       1    4449.46200\n",
       "3     33     1  22.705           0        0       2   21984.47061\n",
       "4     32     1  28.880           0        0       2    3866.85520"
      ]
     },
     "execution_count": 38,
     "metadata": {},
     "output_type": "execute_result"
    }
   ],
   "source": [
    "df.head()"
   ]
  },
  {
   "cell_type": "code",
   "execution_count": 39,
   "metadata": {
    "execution": {
     "iopub.execute_input": "2023-05-28T13:07:08.616229Z",
     "iopub.status.busy": "2023-05-28T13:07:08.615825Z",
     "iopub.status.idle": "2023-05-28T13:07:08.622893Z",
     "shell.execute_reply": "2023-05-28T13:07:08.622098Z",
     "shell.execute_reply.started": "2023-05-28T13:07:08.616199Z"
    }
   },
   "outputs": [
    {
     "data": {
      "text/plain": [
       "{'sexo': {'Feminino': 0, 'Masculino': 1},\n",
       " 'fumante': {'nao': 0, 'sim': 1},\n",
       " 'regiao': {'sul': 0, 'sudeste': 1, 'Norte': 2, 'Nordeste': 3}}"
      ]
     },
     "execution_count": 39,
     "metadata": {},
     "output_type": "execute_result"
    }
   ],
   "source": [
    "dict_categorias"
   ]
  },
  {
   "cell_type": "code",
   "execution_count": 40,
   "metadata": {},
   "outputs": [
    {
     "name": "stdout",
     "output_type": "stream",
     "text": [
      "total 856\r\n",
      "drwxr-xr-x@ 13 valencar  staff   416B May 28 19:31 \u001b[34m.\u001b[m\u001b[m\r\n",
      "drwxr-xr-x@  6 valencar  staff   192B May 28 11:55 \u001b[34m..\u001b[m\u001b[m\r\n",
      "drwxr-xr-x@  5 valencar  staff   160B May 28 19:28 \u001b[34m.ipynb_checkpoints\u001b[m\u001b[m\r\n",
      "drwxr-xr-x@  3 valencar  staff    96B May 28 11:32 \u001b[34m.streamlit\u001b[m\u001b[m\r\n",
      "-rw-r--r--@  1 valencar  staff   2.5K May 28 18:54 app_seguros.py\r\n",
      "-rw-r--r--@  1 valencar  staff   140B May 28 19:32 dict_categorias.pkl\r\n",
      "-rw-r--r--@  1 valencar  staff    54K May 28 10:09 insurance.csv\r\n",
      "-rw-r--r--@  1 valencar  staff   499B May 28 19:32 modelo.pkl\r\n",
      "-rw-r--r--@  1 valencar  staff    76K May 28 19:27 previsao_seguros-Dummies-var-v02.ipynb\r\n",
      "-rw-r--r--@  1 valencar  staff    49K May 28 19:31 previsao_seguros-v03.ipynb\r\n",
      "-rw-r--r--@  1 valencar  staff    66K May 28 10:16 previsao_seguros.ipynb\r\n",
      "-rw-r--r--@  1 valencar  staff   108K May 28 11:40 seguro.jpeg\r\n",
      "-rw-r--r--@  1 valencar  staff    55K May 28 10:14 seguros.csv\r\n"
     ]
    }
   ],
   "source": [
    "!ls -lah"
   ]
  }
 ],
 "metadata": {
  "kernelspec": {
   "display_name": "Python 3 (ipykernel)",
   "language": "python",
   "name": "python3"
  },
  "language_info": {
   "codemirror_mode": {
    "name": "ipython",
    "version": 3
   },
   "file_extension": ".py",
   "mimetype": "text/x-python",
   "name": "python",
   "nbconvert_exporter": "python",
   "pygments_lexer": "ipython3",
   "version": "3.9.13"
  }
 },
 "nbformat": 4,
 "nbformat_minor": 4
}
