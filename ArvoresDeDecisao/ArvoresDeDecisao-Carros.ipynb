version https://git-lfs.github.com/spec/v1
oid sha256:2322dcde2ac3acceb66f1dc7eab9de86b249e0a68a852263ea267397a911e096
size 44806
