{
 "cells": [
  {
   "cell_type": "markdown",
   "id": "further-sudan",
   "metadata": {},
   "source": [
    "# Nome - Matricula - 23-marco-2021-Python"
   ]
  },
  {
   "cell_type": "markdown",
   "id": "raising-fleet",
   "metadata": {},
   "source": [
    "# Python Para Análise de Dados"
   ]
  },
  {
   "cell_type": "code",
   "execution_count": 1,
   "id": "radical-howard",
   "metadata": {},
   "outputs": [
    {
     "data": {
      "text/plain": [
       "2.3333333333333335"
      ]
     },
     "execution_count": 1,
     "metadata": {},
     "output_type": "execute_result"
    }
   ],
   "source": [
    "1+2 - 4 / (2*3)"
   ]
  },
  {
   "cell_type": "code",
   "execution_count": 2,
   "id": "better-daisy",
   "metadata": {},
   "outputs": [],
   "source": [
    "### <shift><enter> Executa a linha corrente"
   ]
  },
  {
   "cell_type": "code",
   "execution_count": 3,
   "id": "intellectual-setting",
   "metadata": {},
   "outputs": [
    {
     "data": {
      "text/plain": [
       "8"
      ]
     },
     "execution_count": 3,
     "metadata": {},
     "output_type": "execute_result"
    }
   ],
   "source": [
    "2 ** 3"
   ]
  },
  {
   "cell_type": "code",
   "execution_count": 4,
   "id": "amateur-birth",
   "metadata": {},
   "outputs": [
    {
     "data": {
      "text/plain": [
       "1"
      ]
     },
     "execution_count": 4,
     "metadata": {},
     "output_type": "execute_result"
    }
   ],
   "source": [
    "10 % 3"
   ]
  },
  {
   "cell_type": "markdown",
   "id": "awful-argentina",
   "metadata": {},
   "source": [
    "## Funções"
   ]
  },
  {
   "cell_type": "code",
   "execution_count": null,
   "id": "decimal-jacob",
   "metadata": {},
   "outputs": [],
   "source": [
    "a = 1\n",
    "type(a)"
   ]
  },
  {
   "cell_type": "code",
   "execution_count": null,
   "id": "interesting-robertson",
   "metadata": {},
   "outputs": [],
   "source": [
    "a = 'uepb'\n",
    "type(a)"
   ]
  },
  {
   "cell_type": "code",
   "execution_count": null,
   "id": "proud-intersection",
   "metadata": {},
   "outputs": [],
   "source": [
    "i = 6.5\n",
    "int(i)"
   ]
  },
  {
   "cell_type": "code",
   "execution_count": null,
   "id": "powered-school",
   "metadata": {},
   "outputs": [],
   "source": [
    "round(i)"
   ]
  },
  {
   "cell_type": "code",
   "execution_count": null,
   "id": "nearby-elements",
   "metadata": {},
   "outputs": [],
   "source": [
    "pi = 3.14159\n",
    "pi"
   ]
  },
  {
   "cell_type": "code",
   "execution_count": null,
   "id": "wired-investigation",
   "metadata": {},
   "outputs": [],
   "source": [
    "print(pi)"
   ]
  },
  {
   "cell_type": "code",
   "execution_count": null,
   "id": "offshore-september",
   "metadata": {},
   "outputs": [],
   "source": [
    "round(pi,4)"
   ]
  },
  {
   "cell_type": "code",
   "execution_count": null,
   "id": "minus-symphony",
   "metadata": {},
   "outputs": [],
   "source": [
    "pow(2, 3)"
   ]
  },
  {
   "cell_type": "code",
   "execution_count": null,
   "id": "going-advertiser",
   "metadata": {},
   "outputs": [],
   "source": [
    "abs(-1)"
   ]
  },
  {
   "cell_type": "code",
   "execution_count": null,
   "id": "threaded-retro",
   "metadata": {},
   "outputs": [],
   "source": [
    "float(1)"
   ]
  },
  {
   "cell_type": "code",
   "execution_count": null,
   "id": "basic-reference",
   "metadata": {},
   "outputs": [],
   "source": [
    "str(1)"
   ]
  },
  {
   "cell_type": "markdown",
   "id": "aquatic-fleet",
   "metadata": {},
   "source": [
    "# Variáveis"
   ]
  },
  {
   "cell_type": "code",
   "execution_count": null,
   "id": "conscious-cleaners",
   "metadata": {},
   "outputs": [],
   "source": [
    "v = 10\n",
    "v"
   ]
  },
  {
   "cell_type": "code",
   "execution_count": null,
   "id": "chubby-current",
   "metadata": {},
   "outputs": [],
   "source": [
    "type(v)"
   ]
  },
  {
   "cell_type": "code",
   "execution_count": 5,
   "id": "optional-sierra",
   "metadata": {},
   "outputs": [
    {
     "name": "stdout",
     "output_type": "stream",
     "text": [
      "cct   dc\n"
     ]
    }
   ],
   "source": [
    "n1, n2 = 'cct', 'dc'\n",
    "print(n1, ' ', n2)"
   ]
  },
  {
   "cell_type": "code",
   "execution_count": 6,
   "id": "formal-milton",
   "metadata": {},
   "outputs": [
    {
     "data": {
      "text/plain": [
       "'cct dc uepb'"
      ]
     },
     "execution_count": 6,
     "metadata": {},
     "output_type": "execute_result"
    }
   ],
   "source": [
    "n = 'cct dc uepb'\n",
    "n"
   ]
  },
  {
   "cell_type": "code",
   "execution_count": 7,
   "id": "regional-southeast",
   "metadata": {},
   "outputs": [
    {
     "data": {
      "text/plain": [
       "['cct', 'dc', 'uepb']"
      ]
     },
     "execution_count": 7,
     "metadata": {},
     "output_type": "execute_result"
    }
   ],
   "source": [
    "n.split()"
   ]
  },
  {
   "cell_type": "code",
   "execution_count": 8,
   "id": "elementary-malawi",
   "metadata": {},
   "outputs": [
    {
     "data": {
      "text/plain": [
       "('cct', 'dc', 'uepb')"
      ]
     },
     "execution_count": 8,
     "metadata": {},
     "output_type": "execute_result"
    }
   ],
   "source": [
    "n1, n2, n3 = n.split()\n",
    "n1, n2, n3"
   ]
  },
  {
   "cell_type": "code",
   "execution_count": 9,
   "id": "sweet-country",
   "metadata": {},
   "outputs": [
    {
     "data": {
      "text/plain": [
       "'cct - dc'"
      ]
     },
     "execution_count": 9,
     "metadata": {},
     "output_type": "execute_result"
    }
   ],
   "source": [
    "m = n1 + ' - ' +  n2\n",
    "m"
   ]
  },
  {
   "cell_type": "code",
   "execution_count": 10,
   "id": "historical-cinema",
   "metadata": {},
   "outputs": [
    {
     "name": "stdout",
     "output_type": "stream",
     "text": [
      "teste\n"
     ]
    }
   ],
   "source": [
    "print('teste')"
   ]
  },
  {
   "cell_type": "code",
   "execution_count": 11,
   "id": "wanted-attachment",
   "metadata": {},
   "outputs": [
    {
     "name": "stdout",
     "output_type": "stream",
     "text": [
      "teste2\n",
      "teste3\n"
     ]
    }
   ],
   "source": [
    "print(\"teste2\\nteste3\")"
   ]
  },
  {
   "cell_type": "code",
   "execution_count": 12,
   "id": "blocked-assets",
   "metadata": {},
   "outputs": [
    {
     "data": {
      "text/plain": [
       "'cct dc uepb'"
      ]
     },
     "execution_count": 12,
     "metadata": {},
     "output_type": "execute_result"
    }
   ],
   "source": [
    "n = 'cct dc uepb'\n",
    "n"
   ]
  },
  {
   "cell_type": "code",
   "execution_count": 13,
   "id": "backed-magnitude",
   "metadata": {},
   "outputs": [
    {
     "data": {
      "text/plain": [
       "'c'"
      ]
     },
     "execution_count": 13,
     "metadata": {},
     "output_type": "execute_result"
    }
   ],
   "source": [
    "n[0]"
   ]
  },
  {
   "cell_type": "code",
   "execution_count": 14,
   "id": "vanilla-hardware",
   "metadata": {},
   "outputs": [],
   "source": [
    "#'cct dc uepb'\n",
    "# 012345"
   ]
  },
  {
   "cell_type": "code",
   "execution_count": 15,
   "id": "retained-scholarship",
   "metadata": {},
   "outputs": [
    {
     "data": {
      "text/plain": [
       "'t dc uepb'"
      ]
     },
     "execution_count": 15,
     "metadata": {},
     "output_type": "execute_result"
    }
   ],
   "source": [
    "# slice - fatiamento\n",
    "n[2:]"
   ]
  },
  {
   "cell_type": "code",
   "execution_count": 16,
   "id": "optimum-functionality",
   "metadata": {},
   "outputs": [
    {
     "data": {
      "text/plain": [
       "'cc'"
      ]
     },
     "execution_count": 16,
     "metadata": {},
     "output_type": "execute_result"
    }
   ],
   "source": [
    "n[:2] # Exclusive (2-1 = indice 1)"
   ]
  },
  {
   "cell_type": "code",
   "execution_count": 17,
   "id": "caring-values",
   "metadata": {},
   "outputs": [
    {
     "data": {
      "text/plain": [
       "'cct dc uepb'"
      ]
     },
     "execution_count": 17,
     "metadata": {},
     "output_type": "execute_result"
    }
   ],
   "source": [
    "n"
   ]
  },
  {
   "cell_type": "code",
   "execution_count": 18,
   "id": "still-barrier",
   "metadata": {},
   "outputs": [
    {
     "data": {
      "text/plain": [
       "'cct dc uep'"
      ]
     },
     "execution_count": 18,
     "metadata": {},
     "output_type": "execute_result"
    }
   ],
   "source": [
    "n[:-1]"
   ]
  },
  {
   "cell_type": "code",
   "execution_count": null,
   "id": "alpha-subscriber",
   "metadata": {},
   "outputs": [],
   "source": [
    "n[:-3]"
   ]
  },
  {
   "cell_type": "code",
   "execution_count": null,
   "id": "ambient-cloud",
   "metadata": {},
   "outputs": [],
   "source": [
    "n"
   ]
  },
  {
   "cell_type": "code",
   "execution_count": null,
   "id": "resistant-accessory",
   "metadata": {},
   "outputs": [],
   "source": [
    "n[0]"
   ]
  },
  {
   "cell_type": "code",
   "execution_count": null,
   "id": "primary-norman",
   "metadata": {},
   "outputs": [],
   "source": [
    "n[0] = 'C'\n",
    "n"
   ]
  },
  {
   "cell_type": "code",
   "execution_count": null,
   "id": "lightweight-duration",
   "metadata": {},
   "outputs": [],
   "source": [
    "n"
   ]
  },
  {
   "cell_type": "code",
   "execution_count": null,
   "id": "novel-monthly",
   "metadata": {},
   "outputs": [],
   "source": [
    "n.upper()"
   ]
  },
  {
   "cell_type": "code",
   "execution_count": null,
   "id": "restricted-brazilian",
   "metadata": {},
   "outputs": [],
   "source": [
    "'C' + n[1:]"
   ]
  },
  {
   "cell_type": "code",
   "execution_count": null,
   "id": "sexual-collins",
   "metadata": {},
   "outputs": [],
   "source": [
    "m = n.lower()\n",
    "m"
   ]
  },
  {
   "cell_type": "code",
   "execution_count": null,
   "id": "refined-hospital",
   "metadata": {},
   "outputs": [],
   "source": [
    "m = 'CCT DC UEPB python - ciencia de dados'\n",
    "m"
   ]
  },
  {
   "cell_type": "code",
   "execution_count": null,
   "id": "contemporary-irish",
   "metadata": {},
   "outputs": [],
   "source": [
    "m.split()"
   ]
  },
  {
   "cell_type": "code",
   "execution_count": null,
   "id": "comfortable-plasma",
   "metadata": {},
   "outputs": [],
   "source": [
    "m.split('-')"
   ]
  },
  {
   "cell_type": "code",
   "execution_count": null,
   "id": "pediatric-teaching",
   "metadata": {},
   "outputs": [],
   "source": [
    "s1, s2 = m.split('-')\n",
    "print(s1, s2)"
   ]
  },
  {
   "cell_type": "code",
   "execution_count": null,
   "id": "incorrect-pattern",
   "metadata": {},
   "outputs": [],
   "source": [
    "print('python' == 'Python')"
   ]
  },
  {
   "cell_type": "code",
   "execution_count": null,
   "id": "major-mounting",
   "metadata": {},
   "outputs": [],
   "source": [
    "print('python' == 'python')"
   ]
  },
  {
   "cell_type": "code",
   "execution_count": null,
   "id": "national-discretion",
   "metadata": {},
   "outputs": [],
   "source": [
    "#potencia(x,y) - potencia(2,3) = 8"
   ]
  },
  {
   "cell_type": "code",
   "execution_count": null,
   "id": "immediate-alias",
   "metadata": {},
   "outputs": [],
   "source": [
    "def potencia(x, y):\n",
    "    k = x ** y\n",
    "    return k\n",
    "\n",
    "n1 = 2\n",
    "n2 = 3\n",
    "print(potencia(2,3))"
   ]
  },
  {
   "cell_type": "markdown",
   "id": "theoretical-belfast",
   "metadata": {},
   "source": [
    "# Listas"
   ]
  },
  {
   "cell_type": "code",
   "execution_count": null,
   "id": "nonprofit-canada",
   "metadata": {},
   "outputs": [],
   "source": [
    "l = ['CCT', 'DC', 'UEPB', 'python', '-', 'ciencia', 'de', 'dados']\n",
    "l"
   ]
  },
  {
   "cell_type": "code",
   "execution_count": null,
   "id": "sunrise-gentleman",
   "metadata": {},
   "outputs": [],
   "source": [
    "l2 = list([1, 2])\n",
    "l2"
   ]
  },
  {
   "cell_type": "code",
   "execution_count": null,
   "id": "configured-madrid",
   "metadata": {},
   "outputs": [],
   "source": [
    "l"
   ]
  },
  {
   "cell_type": "code",
   "execution_count": null,
   "id": "hindu-master",
   "metadata": {},
   "outputs": [],
   "source": [
    "l[0]"
   ]
  },
  {
   "cell_type": "code",
   "execution_count": null,
   "id": "dressed-invite",
   "metadata": {},
   "outputs": [],
   "source": [
    "l[-1]"
   ]
  },
  {
   "cell_type": "code",
   "execution_count": null,
   "id": "visible-enzyme",
   "metadata": {},
   "outputs": [],
   "source": [
    "l[1:]"
   ]
  },
  {
   "cell_type": "code",
   "execution_count": null,
   "id": "compact-draft",
   "metadata": {},
   "outputs": [],
   "source": [
    "l[:-1]"
   ]
  },
  {
   "cell_type": "code",
   "execution_count": null,
   "id": "drawn-modern",
   "metadata": {},
   "outputs": [],
   "source": [
    "l[2:-1]"
   ]
  },
  {
   "cell_type": "code",
   "execution_count": null,
   "id": "killing-mandate",
   "metadata": {},
   "outputs": [],
   "source": [
    "len(l)"
   ]
  },
  {
   "cell_type": "code",
   "execution_count": null,
   "id": "upset-roommate",
   "metadata": {},
   "outputs": [],
   "source": [
    "l[0] = 'uepb'\n",
    "l"
   ]
  },
  {
   "cell_type": "code",
   "execution_count": null,
   "id": "phantom-haven",
   "metadata": {},
   "outputs": [],
   "source": [
    "m = ['uepb', 'DC', 'UEPB', 10, 1.2, True]\n",
    "m"
   ]
  },
  {
   "cell_type": "code",
   "execution_count": null,
   "id": "extraordinary-illness",
   "metadata": {},
   "outputs": [],
   "source": [
    "m = ['uepb', 'DC', 'UEPB', 10, 1.2, [1,2] ]\n",
    "m"
   ]
  },
  {
   "cell_type": "code",
   "execution_count": null,
   "id": "stuck-florida",
   "metadata": {},
   "outputs": [],
   "source": [
    "m[0]"
   ]
  },
  {
   "cell_type": "code",
   "execution_count": null,
   "id": "arbitrary-teacher",
   "metadata": {},
   "outputs": [],
   "source": [
    "m[5]"
   ]
  },
  {
   "cell_type": "code",
   "execution_count": null,
   "id": "heated-broadway",
   "metadata": {},
   "outputs": [],
   "source": [
    "m[5][0]"
   ]
  },
  {
   "cell_type": "code",
   "execution_count": null,
   "id": "ruled-study",
   "metadata": {},
   "outputs": [],
   "source": [
    "m[5][1]"
   ]
  },
  {
   "cell_type": "code",
   "execution_count": null,
   "id": "elder-garage",
   "metadata": {},
   "outputs": [],
   "source": [
    "l = [ [1,2,3], [4,5,6], [7,8,9] ]\n",
    "l"
   ]
  },
  {
   "cell_type": "code",
   "execution_count": null,
   "id": "systematic-explorer",
   "metadata": {},
   "outputs": [],
   "source": [
    "l[1]"
   ]
  },
  {
   "cell_type": "code",
   "execution_count": null,
   "id": "premier-passage",
   "metadata": {},
   "outputs": [],
   "source": [
    "l[1][1]"
   ]
  },
  {
   "cell_type": "code",
   "execution_count": null,
   "id": "other-tissue",
   "metadata": {},
   "outputs": [],
   "source": [
    "m = ['uepb', 'DC', 'UEPB', 10, 1.2]\n",
    "n = [1, 2, 3, 4, 5, 6]\n",
    "print(m)\n",
    "print(n)"
   ]
  },
  {
   "cell_type": "code",
   "execution_count": null,
   "id": "interstate-hopkins",
   "metadata": {},
   "outputs": [],
   "source": [
    "k = m + n\n",
    "k"
   ]
  },
  {
   "cell_type": "code",
   "execution_count": null,
   "id": "persistent-austria",
   "metadata": {},
   "outputs": [],
   "source": [
    "print(10 in k)"
   ]
  },
  {
   "cell_type": "code",
   "execution_count": null,
   "id": "particular-religion",
   "metadata": {},
   "outputs": [],
   "source": [
    "print(11 in k)"
   ]
  },
  {
   "cell_type": "code",
   "execution_count": null,
   "id": "loved-composition",
   "metadata": {},
   "outputs": [],
   "source": [
    "len(k)"
   ]
  },
  {
   "cell_type": "code",
   "execution_count": 1,
   "id": "optical-handle",
   "metadata": {},
   "outputs": [
    {
     "data": {
      "text/plain": [
       "[10, 1.2, 1, 2, 3, 4, 5, 6]"
      ]
     },
     "execution_count": 1,
     "metadata": {},
     "output_type": "execute_result"
    }
   ],
   "source": [
    "n = [10, 1.2, 1, 2, 3, 4, 5, 6]\n",
    "n"
   ]
  },
  {
   "cell_type": "code",
   "execution_count": 2,
   "id": "contained-michael",
   "metadata": {},
   "outputs": [
    {
     "data": {
      "text/plain": [
       "10"
      ]
     },
     "execution_count": 2,
     "metadata": {},
     "output_type": "execute_result"
    }
   ],
   "source": [
    "max(n)"
   ]
  },
  {
   "cell_type": "code",
   "execution_count": 3,
   "id": "female-reggae",
   "metadata": {},
   "outputs": [
    {
     "data": {
      "text/plain": [
       "1"
      ]
     },
     "execution_count": 3,
     "metadata": {},
     "output_type": "execute_result"
    }
   ],
   "source": [
    "min(n)"
   ]
  },
  {
   "cell_type": "code",
   "execution_count": 4,
   "id": "wicked-track",
   "metadata": {},
   "outputs": [
    {
     "data": {
      "text/plain": [
       "[10, 1.2, 1, 2, 3, 4, 5, 6, -3]"
      ]
     },
     "execution_count": 4,
     "metadata": {},
     "output_type": "execute_result"
    }
   ],
   "source": [
    "n.append(-3)\n",
    "n"
   ]
  },
  {
   "cell_type": "code",
   "execution_count": 5,
   "id": "special-sydney",
   "metadata": {},
   "outputs": [
    {
     "data": {
      "text/plain": [
       "[]"
      ]
     },
     "execution_count": 5,
     "metadata": {},
     "output_type": "execute_result"
    }
   ],
   "source": [
    "a = [ ] # lista vazia\n",
    "a"
   ]
  },
  {
   "cell_type": "code",
   "execution_count": 6,
   "id": "extreme-embassy",
   "metadata": {},
   "outputs": [
    {
     "data": {
      "text/plain": [
       "list"
      ]
     },
     "execution_count": 6,
     "metadata": {},
     "output_type": "execute_result"
    }
   ],
   "source": [
    "type(a)"
   ]
  },
  {
   "cell_type": "code",
   "execution_count": 7,
   "id": "casual-baking",
   "metadata": {},
   "outputs": [],
   "source": [
    "a.append(10)"
   ]
  },
  {
   "cell_type": "code",
   "execution_count": 8,
   "id": "solved-craft",
   "metadata": {},
   "outputs": [
    {
     "data": {
      "text/plain": [
       "[10]"
      ]
     },
     "execution_count": 8,
     "metadata": {},
     "output_type": "execute_result"
    }
   ],
   "source": [
    "a"
   ]
  },
  {
   "cell_type": "code",
   "execution_count": 9,
   "id": "later-footwear",
   "metadata": {},
   "outputs": [
    {
     "data": {
      "text/plain": [
       "[10, 1.2, 1, 2, 3, 4, 5, 6, -3]"
      ]
     },
     "execution_count": 9,
     "metadata": {},
     "output_type": "execute_result"
    }
   ],
   "source": [
    "n"
   ]
  },
  {
   "cell_type": "code",
   "execution_count": 10,
   "id": "adopted-sacrifice",
   "metadata": {},
   "outputs": [],
   "source": [
    "n.sort()"
   ]
  },
  {
   "cell_type": "code",
   "execution_count": 11,
   "id": "headed-fluid",
   "metadata": {},
   "outputs": [
    {
     "data": {
      "text/plain": [
       "[-3, 1, 1.2, 2, 3, 4, 5, 6, 10]"
      ]
     },
     "execution_count": 11,
     "metadata": {},
     "output_type": "execute_result"
    }
   ],
   "source": [
    "n"
   ]
  },
  {
   "cell_type": "code",
   "execution_count": 12,
   "id": "divine-branch",
   "metadata": {},
   "outputs": [
    {
     "data": {
      "text/plain": [
       "(-3, 10)"
      ]
     },
     "execution_count": 12,
     "metadata": {},
     "output_type": "execute_result"
    }
   ],
   "source": [
    "min(n), max(n)"
   ]
  },
  {
   "cell_type": "markdown",
   "id": "central-ukraine",
   "metadata": {},
   "source": [
    "## Exercício: criar uma função que receba uma string e converta em data e hora\n",
    "\n",
    "#### data_tweet=  \"Sun Feb 25 18:11:01 +0000 2018\"\n",
    "#### dia, mes, ano, hora, minuto, segundo = converta(data_tweet)"
   ]
  },
  {
   "cell_type": "code",
   "execution_count": null,
   "id": "reflected-negative",
   "metadata": {},
   "outputs": [],
   "source": []
  },
  {
   "cell_type": "code",
   "execution_count": null,
   "id": "geological-garden",
   "metadata": {},
   "outputs": [],
   "source": []
  }
 ],
 "metadata": {
  "kernelspec": {
   "display_name": "Python 3",
   "language": "python",
   "name": "python3"
  },
  "language_info": {
   "codemirror_mode": {
    "name": "ipython",
    "version": 3
   },
   "file_extension": ".py",
   "mimetype": "text/x-python",
   "name": "python",
   "nbconvert_exporter": "python",
   "pygments_lexer": "ipython3",
   "version": "3.8.8"
  }
 },
 "nbformat": 4,
 "nbformat_minor": 5
}
