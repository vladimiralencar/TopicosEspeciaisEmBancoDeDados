version https://git-lfs.github.com/spec/v1
oid sha256:00a59e730738375cc25cac624d9594580caacf25fd7d1dfe79bc75bd6ca523ba
size 288256
