{
 "cells": [
  {
   "cell_type": "markdown",
   "id": "aa6e2694-0679-4837-bf02-6e3749efa5df",
   "metadata": {},
   "source": [
    "# Python para Análise de Dados"
   ]
  },
  {
   "cell_type": "code",
   "execution_count": 1,
   "id": "32d4e8c6-9342-4082-aa83-068e85d5361a",
   "metadata": {},
   "outputs": [
    {
     "data": {
      "text/plain": [
       "1"
      ]
     },
     "execution_count": 1,
     "metadata": {},
     "output_type": "execute_result"
    }
   ],
   "source": [
    "a = 1\n",
    "a"
   ]
  },
  {
   "cell_type": "code",
   "execution_count": 2,
   "id": "cec8da28-a034-49f6-b192-6d847e375aff",
   "metadata": {},
   "outputs": [
    {
     "name": "stdout",
     "output_type": "stream",
     "text": [
      "UEPB\n",
      "True\n"
     ]
    }
   ],
   "source": [
    "b,c = 'UEPB', True\n",
    "print(b)\n",
    "print(c)"
   ]
  },
  {
   "cell_type": "code",
   "execution_count": 3,
   "id": "35f84dd4-5373-4e72-946b-490f7237267f",
   "metadata": {},
   "outputs": [
    {
     "data": {
      "text/plain": [
       "3.14159"
      ]
     },
     "execution_count": 3,
     "metadata": {},
     "output_type": "execute_result"
    }
   ],
   "source": [
    "pi = 3.14159\n",
    "pi"
   ]
  },
  {
   "cell_type": "code",
   "execution_count": 4,
   "id": "b887cc93-64a1-4acc-8977-265ba633d367",
   "metadata": {},
   "outputs": [
    {
     "name": "stdout",
     "output_type": "stream",
     "text": [
      "['__add__', '__class__', '__contains__', '__delattr__', '__dir__', '__doc__', '__eq__', '__format__', '__ge__', '__getattribute__', '__getitem__', '__getnewargs__', '__getstate__', '__gt__', '__hash__', '__init__', '__init_subclass__', '__iter__', '__le__', '__len__', '__lt__', '__mod__', '__mul__', '__ne__', '__new__', '__reduce__', '__reduce_ex__', '__repr__', '__rmod__', '__rmul__', '__setattr__', '__sizeof__', '__str__', '__subclasshook__', 'capitalize', 'casefold', 'center', 'count', 'encode', 'endswith', 'expandtabs', 'find', 'format', 'format_map', 'index', 'isalnum', 'isalpha', 'isascii', 'isdecimal', 'isdigit', 'isidentifier', 'islower', 'isnumeric', 'isprintable', 'isspace', 'istitle', 'isupper', 'join', 'ljust', 'lower', 'lstrip', 'maketrans', 'partition', 'removeprefix', 'removesuffix', 'replace', 'rfind', 'rindex', 'rjust', 'rpartition', 'rsplit', 'rstrip', 'split', 'splitlines', 'startswith', 'strip', 'swapcase', 'title', 'translate', 'upper', 'zfill']\n"
     ]
    }
   ],
   "source": [
    "metodos_string = dir(b)\n",
    "print(metodos_string)"
   ]
  },
  {
   "cell_type": "code",
   "execution_count": 5,
   "id": "be9a9eb2-eaed-4522-8677-cd0125af8696",
   "metadata": {},
   "outputs": [
    {
     "name": "stdout",
     "output_type": "stream",
     "text": [
      "\n",
      " \"text\": \"RT @PostGradProblem: In preparation for the NFL lockout, I will be spending twice as much time analyzing my fantasy baseball team during ...\",\n",
      "\"truncated\": true,\n",
      "\"in_reply_to_user_id\": null,\n",
      "\"in_reply_to_status_id\": null,\n",
      "\"favorited\": false,\n",
      "\"source\": \"<a href=\"http://twitter.com/\" rel=\"nofollow\">Twitter for iPhone</a>\", \n",
      "\n"
     ]
    }
   ],
   "source": [
    "texto =  '''\n",
    " \"text\": \"RT @PostGradProblem: In preparation for the NFL lockout, I will be spending twice as much time analyzing my fantasy baseball team during ...\",\n",
    "\"truncated\": true,\n",
    "\"in_reply_to_user_id\": null,\n",
    "\"in_reply_to_status_id\": null,\n",
    "\"favorited\": false,\n",
    "\"source\": \"<a href=\\\"http://twitter.com/\\\" rel=\\\"nofollow\\\">Twitter for iPhone</a>\", \n",
    "'''\n",
    "print(texto)"
   ]
  },
  {
   "cell_type": "code",
   "execution_count": 6,
   "id": "5dc7582c-d344-41a0-a6dc-400fc6ebc0da",
   "metadata": {},
   "outputs": [],
   "source": [
    "data = \"Thu Mar 24 19:45:44 +0000 2011\""
   ]
  },
  {
   "cell_type": "code",
   "execution_count": 7,
   "id": "a0ef8fba-af62-4498-91b1-7aca238b27c4",
   "metadata": {},
   "outputs": [
    {
     "data": {
      "text/plain": [
       "'Thu Mar 24 19:45:44 +0000 2011'"
      ]
     },
     "execution_count": 7,
     "metadata": {},
     "output_type": "execute_result"
    }
   ],
   "source": [
    "data"
   ]
  },
  {
   "cell_type": "code",
   "execution_count": 8,
   "id": "95639c60-1d15-4131-845a-fe687cfba6d5",
   "metadata": {},
   "outputs": [
    {
     "data": {
      "text/plain": [
       "str"
      ]
     },
     "execution_count": 8,
     "metadata": {},
     "output_type": "execute_result"
    }
   ],
   "source": [
    "type(data)"
   ]
  },
  {
   "cell_type": "code",
   "execution_count": 9,
   "id": "67a90572-29fe-4ba1-8d40-540367ba5e2d",
   "metadata": {},
   "outputs": [
    {
     "data": {
      "text/plain": [
       "['Thu', 'Mar', '24', '19:45:44', '+0000', '2011']"
      ]
     },
     "execution_count": 9,
     "metadata": {},
     "output_type": "execute_result"
    }
   ],
   "source": [
    "s = data.split()\n",
    "s"
   ]
  },
  {
   "cell_type": "code",
   "execution_count": 10,
   "id": "fed4edda-f594-4951-8121-e1dcb87d92d2",
   "metadata": {},
   "outputs": [
    {
     "data": {
      "text/plain": [
       "'19:45:44'"
      ]
     },
     "execution_count": 10,
     "metadata": {},
     "output_type": "execute_result"
    }
   ],
   "source": [
    "hora = s[3]\n",
    "hora"
   ]
  },
  {
   "cell_type": "code",
   "execution_count": 11,
   "id": "d8a0acd7-6c88-421d-8d23-c56927929a1f",
   "metadata": {},
   "outputs": [
    {
     "data": {
      "text/plain": [
       "['Thu', 'Mar', '24', '19:45:44', '+0000']"
      ]
     },
     "execution_count": 11,
     "metadata": {},
     "output_type": "execute_result"
    }
   ],
   "source": [
    "s[0:5] # fatiamento"
   ]
  },
  {
   "cell_type": "code",
   "execution_count": 12,
   "id": "ec93ee84-b7e7-42bc-93ee-d9d50f2efb56",
   "metadata": {},
   "outputs": [
    {
     "data": {
      "text/plain": [
       "'2011'"
      ]
     },
     "execution_count": 12,
     "metadata": {},
     "output_type": "execute_result"
    }
   ],
   "source": [
    "s[-1]"
   ]
  },
  {
   "cell_type": "code",
   "execution_count": 13,
   "id": "2cdbf4de-3d46-4d16-a30c-940b6a1d0071",
   "metadata": {},
   "outputs": [
    {
     "data": {
      "text/plain": [
       "6"
      ]
     },
     "execution_count": 13,
     "metadata": {},
     "output_type": "execute_result"
    }
   ],
   "source": [
    "len(s)"
   ]
  },
  {
   "cell_type": "code",
   "execution_count": 14,
   "id": "16bc822f-fc37-410f-8eee-264bdbcc6bd0",
   "metadata": {},
   "outputs": [
    {
     "data": {
      "text/plain": [
       "8"
      ]
     },
     "execution_count": 14,
     "metadata": {},
     "output_type": "execute_result"
    }
   ],
   "source": [
    "len(hora)"
   ]
  },
  {
   "cell_type": "code",
   "execution_count": 15,
   "id": "4bdb1670-5a9d-4e39-ab91-f13daf753414",
   "metadata": {
    "scrolled": true
   },
   "outputs": [
    {
     "name": "stdout",
     "output_type": "stream",
     "text": [
      "\n",
      " \"text\": \"RT @PostGradProblem: In preparation for the NFL lockout, I will be spending twice as much time analyzing my fantasy baseball team during ...\",\n",
      "\"truncated\": true,\n",
      "\"in_reply_to_user_id\": null,\n",
      "\"in_reply_to_status_id\": null,\n",
      "\"favorited\": false,\n",
      "\"source\": \"<a href=\"http://twitter.com/\" rel=\"nofollow\">Twitter for iPhone</a>\", \n",
      "\n"
     ]
    }
   ],
   "source": [
    "print(texto)"
   ]
  },
  {
   "cell_type": "code",
   "execution_count": 16,
   "id": "bd5147c0-62a8-4688-825b-167a2b48d1c4",
   "metadata": {},
   "outputs": [],
   "source": [
    "t = \"RT @PostGradProblem: In preparation for the NFL lockout, I will be spending twice as much time analyzing my fantasy baseball team during ...\""
   ]
  },
  {
   "cell_type": "code",
   "execution_count": 17,
   "id": "732ddb71-f67a-4453-94b1-36c6edb175e2",
   "metadata": {},
   "outputs": [
    {
     "name": "stdout",
     "output_type": "stream",
     "text": [
      "RT @PostGradProblem: In preparation for the NFL lockout, I will be spending twice as much time analyzing my fantasy baseball team during ...\n"
     ]
    }
   ],
   "source": [
    "print(t)"
   ]
  },
  {
   "cell_type": "code",
   "execution_count": 18,
   "id": "90a9d10f-feda-4f88-8ee7-1bb5eec0b8ed",
   "metadata": {},
   "outputs": [
    {
     "data": {
      "text/plain": [
       "str"
      ]
     },
     "execution_count": 18,
     "metadata": {},
     "output_type": "execute_result"
    }
   ],
   "source": [
    "type(t)"
   ]
  },
  {
   "cell_type": "code",
   "execution_count": 19,
   "id": "298231eb-99bd-481f-bab6-68a46e70e62b",
   "metadata": {},
   "outputs": [
    {
     "data": {
      "text/plain": [
       "<function str.replace(old, new, count=-1, /)>"
      ]
     },
     "execution_count": 19,
     "metadata": {},
     "output_type": "execute_result"
    }
   ],
   "source": [
    "t.replace"
   ]
  },
  {
   "cell_type": "code",
   "execution_count": 20,
   "id": "be7b06f3-e1c6-4150-a5ad-a57ac317583b",
   "metadata": {},
   "outputs": [
    {
     "data": {
      "text/plain": [
       "'RT PostGradProblem: In preparation for the NFL lockout I will be spending twice as much time analyzing my fantasy baseball team during '"
      ]
     },
     "execution_count": 20,
     "metadata": {},
     "output_type": "execute_result"
    }
   ],
   "source": [
    "t.replace('@', '').replace(',','').replace('.','')"
   ]
  },
  {
   "cell_type": "code",
   "execution_count": 21,
   "id": "cc001425-f991-4b27-b882-f4de41e8fa15",
   "metadata": {},
   "outputs": [
    {
     "name": "stdout",
     "output_type": "stream",
     "text": [
      "RT PostGradProblem: In preparation for the NFL lockout I will be spending twice as much time analyzing my fantasy baseball team during \n"
     ]
    }
   ],
   "source": [
    "t2 = t.replace('@', '').replace(',','').replace('.','')\n",
    "print(t2)"
   ]
  },
  {
   "cell_type": "code",
   "execution_count": 22,
   "id": "8ea761db-9a55-4317-9a7f-0d2ae0cf607f",
   "metadata": {},
   "outputs": [
    {
     "name": "stdout",
     "output_type": "stream",
     "text": [
      "['rt', 'postgradproblem:', 'in', 'preparation', 'for', 'the', 'nfl', 'lockout', 'i', 'will', 'be', 'spending', 'twice', 'as', 'much', 'time', 'analyzing', 'my', 'fantasy', 'baseball', 'team', 'during']\n"
     ]
    }
   ],
   "source": [
    "print(t2.lower().split())"
   ]
  },
  {
   "cell_type": "code",
   "execution_count": 23,
   "id": "18199f77-fdb6-4a4a-bf17-f17c3dd8291d",
   "metadata": {},
   "outputs": [
    {
     "data": {
      "text/plain": [
       "'19:45:44'"
      ]
     },
     "execution_count": 23,
     "metadata": {},
     "output_type": "execute_result"
    }
   ],
   "source": [
    "hora"
   ]
  },
  {
   "cell_type": "code",
   "execution_count": 24,
   "id": "fa02b5fc-4b63-409d-982d-9ec3c4adf161",
   "metadata": {},
   "outputs": [
    {
     "data": {
      "text/plain": [
       "['19', '45', '44']"
      ]
     },
     "execution_count": 24,
     "metadata": {},
     "output_type": "execute_result"
    }
   ],
   "source": [
    "hora.split(':')"
   ]
  },
  {
   "cell_type": "code",
   "execution_count": 25,
   "id": "6e404bb6-678c-41b1-86d2-67d7619a7d78",
   "metadata": {},
   "outputs": [],
   "source": [
    "h, mes, dia = hora.split(':')"
   ]
  },
  {
   "cell_type": "code",
   "execution_count": 26,
   "id": "19326afb-1a48-4dbe-9f44-6deb2dd039dd",
   "metadata": {},
   "outputs": [
    {
     "data": {
      "text/plain": [
       "'19'"
      ]
     },
     "execution_count": 26,
     "metadata": {},
     "output_type": "execute_result"
    }
   ],
   "source": [
    "h"
   ]
  },
  {
   "cell_type": "code",
   "execution_count": 27,
   "id": "422b8720-5564-4b3b-b337-7ab5834c4e40",
   "metadata": {},
   "outputs": [
    {
     "data": {
      "text/plain": [
       "('45', '44')"
      ]
     },
     "execution_count": 27,
     "metadata": {},
     "output_type": "execute_result"
    }
   ],
   "source": [
    "mes, dia"
   ]
  },
  {
   "cell_type": "code",
   "execution_count": 29,
   "id": "430035a2-f1d2-4cdb-ad27-d3e2fbcd31bc",
   "metadata": {},
   "outputs": [
    {
     "data": {
      "text/plain": [
       "45"
      ]
     },
     "execution_count": 29,
     "metadata": {},
     "output_type": "execute_result"
    }
   ],
   "source": [
    "m = int(mes)\n",
    "m"
   ]
  },
  {
   "cell_type": "code",
   "execution_count": 30,
   "id": "8b6f369c-3424-4887-b981-3a4c61ea0772",
   "metadata": {},
   "outputs": [
    {
     "data": {
      "text/plain": [
       "int"
      ]
     },
     "execution_count": 30,
     "metadata": {},
     "output_type": "execute_result"
    }
   ],
   "source": [
    "type(m)"
   ]
  },
  {
   "cell_type": "code",
   "execution_count": 31,
   "id": "a691910b-fe1b-4f9c-94dc-43d3a5c03361",
   "metadata": {},
   "outputs": [
    {
     "data": {
      "text/plain": [
       "'45'"
      ]
     },
     "execution_count": 31,
     "metadata": {},
     "output_type": "execute_result"
    }
   ],
   "source": [
    "s = str(m)\n",
    "s"
   ]
  },
  {
   "cell_type": "code",
   "execution_count": 32,
   "id": "07bc5e48-f046-47c5-9f61-d0921045f958",
   "metadata": {},
   "outputs": [
    {
     "data": {
      "text/plain": [
       "str"
      ]
     },
     "execution_count": 32,
     "metadata": {},
     "output_type": "execute_result"
    }
   ],
   "source": [
    "type(s)"
   ]
  },
  {
   "cell_type": "code",
   "execution_count": 34,
   "id": "5d8aa8be-c196-4c86-8d22-5e4216d11d5e",
   "metadata": {},
   "outputs": [
    {
     "name": "stdout",
     "output_type": "stream",
     "text": [
      "['__add__', '__class__', '__contains__', '__delattr__', '__dir__', '__doc__', '__eq__', '__format__', '__ge__', '__getattribute__', '__getitem__', '__getnewargs__', '__getstate__', '__gt__', '__hash__', '__init__', '__init_subclass__', '__iter__', '__le__', '__len__', '__lt__', '__mod__', '__mul__', '__ne__', '__new__', '__reduce__', '__reduce_ex__', '__repr__', '__rmod__', '__rmul__', '__setattr__', '__sizeof__', '__str__', '__subclasshook__', 'capitalize', 'casefold', 'center', 'count', 'encode', 'endswith', 'expandtabs', 'find', 'format', 'format_map', 'index', 'isalnum', 'isalpha', 'isascii', 'isdecimal', 'isdigit', 'isidentifier', 'islower', 'isnumeric', 'isprintable', 'isspace', 'istitle', 'isupper', 'join', 'ljust', 'lower', 'lstrip', 'maketrans', 'partition', 'removeprefix', 'removesuffix', 'replace', 'rfind', 'rindex', 'rjust', 'rpartition', 'rsplit', 'rstrip', 'split', 'splitlines', 'startswith', 'strip', 'swapcase', 'title', 'translate', 'upper', 'zfill']\n"
     ]
    }
   ],
   "source": [
    "print(dir(s))"
   ]
  },
  {
   "cell_type": "markdown",
   "id": "e0d1be54-edfc-4faf-80c3-6c35d874f173",
   "metadata": {},
   "source": [
    "# Comando if"
   ]
  },
  {
   "cell_type": "code",
   "execution_count": 37,
   "id": "4addfe30-d60e-4067-af15-614f5c146320",
   "metadata": {},
   "outputs": [
    {
     "name": "stdout",
     "output_type": "stream",
     "text": [
      "menor\n"
     ]
    }
   ],
   "source": [
    "n = 3\n",
    "if n > 5:\n",
    "    print('maior')\n",
    "else:\n",
    "    print('menor')"
   ]
  },
  {
   "cell_type": "code",
   "execution_count": 40,
   "id": "d34518ce-e7ed-411a-9698-e72038df64a7",
   "metadata": {},
   "outputs": [
    {
     "name": "stdout",
     "output_type": "stream",
     "text": [
      "menor\n"
     ]
    }
   ],
   "source": [
    "n = 2\n",
    "if n > 5:\n",
    "    print('maior')\n",
    "elif n >3:\n",
    "    print('media')\n",
    "else:\n",
    "    print('menor')"
   ]
  },
  {
   "cell_type": "code",
   "execution_count": 42,
   "id": "fe35b204-8d34-40f2-9ebf-33c364decd5b",
   "metadata": {},
   "outputs": [
    {
     "name": "stdout",
     "output_type": "stream",
     "text": [
      "240\n"
     ]
    }
   ],
   "source": [
    "x = 230\n",
    "while x < 300:\n",
    "    if x == 240:\n",
    "        break\n",
    "    x += 1 # x + 1\n",
    "print(x)    "
   ]
  },
  {
   "cell_type": "code",
   "execution_count": null,
   "id": "7efac38d-9b4e-4276-8b0f-bcd235763f30",
   "metadata": {},
   "outputs": [],
   "source": [
    "range("
   ]
  },
  {
   "cell_type": "code",
   "execution_count": null,
   "id": "83ff51f8-c05a-4f31-b514-225bee2461bf",
   "metadata": {},
   "outputs": [],
   "source": []
  },
  {
   "cell_type": "code",
   "execution_count": 43,
   "id": "c55c40cc-6eb6-4b71-bde6-eac4bf835976",
   "metadata": {},
   "outputs": [
    {
     "data": {
      "text/plain": [
       "range(0, 10)"
      ]
     },
     "execution_count": 43,
     "metadata": {},
     "output_type": "execute_result"
    }
   ],
   "source": [
    "range(10)"
   ]
  },
  {
   "cell_type": "code",
   "execution_count": 44,
   "id": "f2cfdbaf-e7a9-4b84-a9f2-fb98558301f2",
   "metadata": {},
   "outputs": [
    {
     "data": {
      "text/plain": [
       "[0, 1, 2, 3, 4, 5, 6, 7, 8, 9]"
      ]
     },
     "execution_count": 44,
     "metadata": {},
     "output_type": "execute_result"
    }
   ],
   "source": [
    "list(range(10))"
   ]
  },
  {
   "cell_type": "markdown",
   "id": "edd77cab-52cc-4a89-a269-6e9ae7ead222",
   "metadata": {},
   "source": [
    "# comando for"
   ]
  },
  {
   "cell_type": "code",
   "execution_count": 45,
   "id": "14ff190a-8b56-4e15-b7f2-ec625f6f1e0b",
   "metadata": {},
   "outputs": [
    {
     "name": "stdout",
     "output_type": "stream",
     "text": [
      "0\n",
      "1\n",
      "2\n",
      "3\n",
      "4\n",
      "5\n",
      "6\n",
      "7\n",
      "8\n",
      "9\n"
     ]
    }
   ],
   "source": [
    "for i in range(10):\n",
    "    print(i)"
   ]
  },
  {
   "cell_type": "markdown",
   "id": "ef34e1da-5baf-435f-b111-e2787dd65b2e",
   "metadata": {},
   "source": [
    "# Lista"
   ]
  },
  {
   "cell_type": "code",
   "execution_count": 46,
   "id": "8f46b14c-2a35-46a4-8ab3-033cbafc5f47",
   "metadata": {},
   "outputs": [
    {
     "data": {
      "text/plain": [
       "[10, -2, True, 3.4, 'notebook']"
      ]
     },
     "execution_count": 46,
     "metadata": {},
     "output_type": "execute_result"
    }
   ],
   "source": [
    "s = [ 10, -2, True, 3.4, 'notebook']\n",
    "s"
   ]
  },
  {
   "cell_type": "code",
   "execution_count": 47,
   "id": "ce8879ca-aaf4-41dd-90a1-1acfe79803e5",
   "metadata": {},
   "outputs": [
    {
     "data": {
      "text/plain": [
       "list"
      ]
     },
     "execution_count": 47,
     "metadata": {},
     "output_type": "execute_result"
    }
   ],
   "source": [
    "type(s)"
   ]
  },
  {
   "cell_type": "code",
   "execution_count": 49,
   "id": "cd08e0e5-c4a0-4ee6-a0d9-781eb605a8f4",
   "metadata": {},
   "outputs": [
    {
     "name": "stdout",
     "output_type": "stream",
     "text": [
      "10\n",
      "-2\n",
      "True\n",
      "3.4\n",
      "notebook\n"
     ]
    }
   ],
   "source": [
    "for i in s:\n",
    "    print(i)"
   ]
  },
  {
   "cell_type": "markdown",
   "id": "61ca3f84-d228-48d3-9a47-8ef4c58418a7",
   "metadata": {},
   "source": [
    "# tupla"
   ]
  },
  {
   "cell_type": "code",
   "execution_count": 51,
   "id": "7c20efa2-4b15-4788-b9ce-5f545d25e1ce",
   "metadata": {},
   "outputs": [
    {
     "data": {
      "text/plain": [
       "(10, -2, True, 3.4, 'notebook')"
      ]
     },
     "execution_count": 51,
     "metadata": {},
     "output_type": "execute_result"
    }
   ],
   "source": [
    "t = (10, -2, True, 3.4, 'notebook')\n",
    "t"
   ]
  },
  {
   "cell_type": "code",
   "execution_count": 52,
   "id": "7514bca8-034e-424b-95f6-a9e139285afe",
   "metadata": {},
   "outputs": [
    {
     "data": {
      "text/plain": [
       "tuple"
      ]
     },
     "execution_count": 52,
     "metadata": {},
     "output_type": "execute_result"
    }
   ],
   "source": [
    "type(t)"
   ]
  },
  {
   "cell_type": "code",
   "execution_count": 53,
   "id": "13556352-193b-431d-96be-242cf21a0254",
   "metadata": {},
   "outputs": [
    {
     "data": {
      "text/plain": [
       "10"
      ]
     },
     "execution_count": 53,
     "metadata": {},
     "output_type": "execute_result"
    }
   ],
   "source": [
    "t[0]"
   ]
  },
  {
   "cell_type": "code",
   "execution_count": 54,
   "id": "51b65d7c-afef-45cd-9777-d5fbe3d91e93",
   "metadata": {},
   "outputs": [
    {
     "data": {
      "text/plain": [
       "(-2, True, 3.4, 'notebook')"
      ]
     },
     "execution_count": 54,
     "metadata": {},
     "output_type": "execute_result"
    }
   ],
   "source": [
    "t[1:]"
   ]
  },
  {
   "cell_type": "code",
   "execution_count": 55,
   "id": "fd3667bd-2729-4f27-a623-6ce8f6a62462",
   "metadata": {},
   "outputs": [
    {
     "data": {
      "text/plain": [
       "(10, -2, True)"
      ]
     },
     "execution_count": 55,
     "metadata": {},
     "output_type": "execute_result"
    }
   ],
   "source": [
    "t[:2+1]"
   ]
  },
  {
   "cell_type": "code",
   "execution_count": 56,
   "id": "145c8dc5-47f3-45ea-bb39-547d143858cb",
   "metadata": {},
   "outputs": [
    {
     "data": {
      "text/plain": [
       "(10, -2, True, 3.4, 'notebook')"
      ]
     },
     "execution_count": 56,
     "metadata": {},
     "output_type": "execute_result"
    }
   ],
   "source": [
    "t[:]"
   ]
  },
  {
   "cell_type": "code",
   "execution_count": 57,
   "id": "95a4d1f2-b59e-496e-91b7-688674907062",
   "metadata": {},
   "outputs": [
    {
     "data": {
      "text/plain": [
       "(10, -2, True, 3.4)"
      ]
     },
     "execution_count": 57,
     "metadata": {},
     "output_type": "execute_result"
    }
   ],
   "source": [
    "t[:-1]"
   ]
  },
  {
   "cell_type": "code",
   "execution_count": null,
   "id": "18a2a5df-996d-41e6-8373-99acaa8e35b0",
   "metadata": {},
   "outputs": [],
   "source": [
    "# tupla é inutável"
   ]
  },
  {
   "cell_type": "code",
   "execution_count": 58,
   "id": "de6c3496-834e-4989-b06a-14b2ff0cfe7f",
   "metadata": {},
   "outputs": [
    {
     "ename": "TypeError",
     "evalue": "'tuple' object does not support item assignment",
     "output_type": "error",
     "traceback": [
      "\u001b[0;31m---------------------------------------------------------------------------\u001b[0m",
      "\u001b[0;31mTypeError\u001b[0m                                 Traceback (most recent call last)",
      "Cell \u001b[0;32mIn[58], line 1\u001b[0m\n\u001b[0;32m----> 1\u001b[0m t[\u001b[38;5;241m0\u001b[39m] \u001b[38;5;241m=\u001b[39m \u001b[38;5;241m20\u001b[39m\n",
      "\u001b[0;31mTypeError\u001b[0m: 'tuple' object does not support item assignment"
     ]
    }
   ],
   "source": [
    "t[0] = 20"
   ]
  },
  {
   "cell_type": "markdown",
   "id": "619cf653-9dc5-48fc-b5c7-019725664281",
   "metadata": {},
   "source": [
    "# Lista"
   ]
  },
  {
   "cell_type": "code",
   "execution_count": 59,
   "id": "061c7979-74c9-4a04-931f-3a290deeeac5",
   "metadata": {},
   "outputs": [
    {
     "data": {
      "text/plain": [
       "[10, -2, True, 3.4, 'notebook']"
      ]
     },
     "execution_count": 59,
     "metadata": {},
     "output_type": "execute_result"
    }
   ],
   "source": [
    "l = list(t)\n",
    "l"
   ]
  },
  {
   "cell_type": "code",
   "execution_count": 60,
   "id": "7505f0da-67b3-4320-a4c0-7c36c659fdfe",
   "metadata": {},
   "outputs": [
    {
     "data": {
      "text/plain": [
       "list"
      ]
     },
     "execution_count": 60,
     "metadata": {},
     "output_type": "execute_result"
    }
   ],
   "source": [
    "type(l)"
   ]
  },
  {
   "cell_type": "code",
   "execution_count": 61,
   "id": "5fd145ca-1c81-4984-8b00-81100bb8a61f",
   "metadata": {},
   "outputs": [
    {
     "data": {
      "text/plain": [
       "-2"
      ]
     },
     "execution_count": 61,
     "metadata": {},
     "output_type": "execute_result"
    }
   ],
   "source": [
    "l[1]"
   ]
  },
  {
   "cell_type": "code",
   "execution_count": 62,
   "id": "dad5e6ad-6176-4436-90a4-c9f9cc67c90e",
   "metadata": {},
   "outputs": [
    {
     "data": {
      "text/plain": [
       "[10, -2, False, 3.4, 'notebook']"
      ]
     },
     "execution_count": 62,
     "metadata": {},
     "output_type": "execute_result"
    }
   ],
   "source": [
    "l[2] = False\n",
    "l"
   ]
  },
  {
   "cell_type": "code",
   "execution_count": 63,
   "id": "7cf077d3-b12e-4d68-84d4-3fe6521134d2",
   "metadata": {},
   "outputs": [
    {
     "data": {
      "text/plain": [
       "[10, ['uepb', 70, 5.4], False, 3.4, 'notebook']"
      ]
     },
     "execution_count": 63,
     "metadata": {},
     "output_type": "execute_result"
    }
   ],
   "source": [
    "l[1] = [ 'uepb', 70, 5.4 ]\n",
    "l"
   ]
  },
  {
   "cell_type": "code",
   "execution_count": 64,
   "id": "3f9fc810-4fab-4bc3-adda-8051a2b20005",
   "metadata": {},
   "outputs": [
    {
     "data": {
      "text/plain": [
       "['uepb', 70, 5.4]"
      ]
     },
     "execution_count": 64,
     "metadata": {},
     "output_type": "execute_result"
    }
   ],
   "source": [
    "l[1]"
   ]
  },
  {
   "cell_type": "code",
   "execution_count": 65,
   "id": "e3bd7dab-c3d4-4779-8e88-3a8c87db01fb",
   "metadata": {},
   "outputs": [
    {
     "data": {
      "text/plain": [
       "5.4"
      ]
     },
     "execution_count": 65,
     "metadata": {},
     "output_type": "execute_result"
    }
   ],
   "source": [
    "l[1][2]"
   ]
  },
  {
   "cell_type": "code",
   "execution_count": null,
   "id": "5d88bad3-2ad2-4884-ac42-b7d0ae2793d7",
   "metadata": {},
   "outputs": [],
   "source": []
  },
  {
   "cell_type": "code",
   "execution_count": 66,
   "id": "d87e6c76-9775-4822-bcb3-8f1f49f6e1d7",
   "metadata": {},
   "outputs": [
    {
     "data": {
      "text/plain": [
       "[10, ['uepb', 70, 5.4], False, 3.4, 'notebook', 300]"
      ]
     },
     "execution_count": 66,
     "metadata": {},
     "output_type": "execute_result"
    }
   ],
   "source": [
    "l.append(300)\n",
    "l"
   ]
  },
  {
   "cell_type": "code",
   "execution_count": 67,
   "id": "bb9faff5-095e-434c-9dba-6a175ffe471b",
   "metadata": {},
   "outputs": [
    {
     "data": {
      "text/plain": [
       "[-1, 'c', 90, 'cct']"
      ]
     },
     "execution_count": 67,
     "metadata": {},
     "output_type": "execute_result"
    }
   ],
   "source": [
    "m = [ -1, 'c', 90, 'cct']\n",
    "m"
   ]
  },
  {
   "cell_type": "code",
   "execution_count": 68,
   "id": "3713b907-7bde-433d-8297-013bf3d5f9fc",
   "metadata": {},
   "outputs": [
    {
     "data": {
      "text/plain": [
       "[10, ['uepb', 70, 5.4], False, 3.4, 'notebook', 300, -1, 'c', 90, 'cct']"
      ]
     },
     "execution_count": 68,
     "metadata": {},
     "output_type": "execute_result"
    }
   ],
   "source": [
    "z = l + m\n",
    "z"
   ]
  },
  {
   "cell_type": "code",
   "execution_count": 69,
   "id": "83de6e27-0ea9-48f6-a555-0b0f13c2a48f",
   "metadata": {},
   "outputs": [
    {
     "name": "stdout",
     "output_type": "stream",
     "text": [
      "10\n",
      "['uepb', 70, 5.4]\n",
      "False\n",
      "3.4\n",
      "notebook\n",
      "300\n",
      "-1\n",
      "c\n",
      "90\n",
      "cct\n"
     ]
    }
   ],
   "source": [
    "for elem in z:\n",
    "    print(elem)"
   ]
  },
  {
   "cell_type": "code",
   "execution_count": 70,
   "id": "791c8128-2120-4ea1-91c2-6f415b59a11e",
   "metadata": {},
   "outputs": [
    {
     "data": {
      "text/plain": [
       "[67, 45, -3, 9, 15]"
      ]
     },
     "execution_count": 70,
     "metadata": {},
     "output_type": "execute_result"
    }
   ],
   "source": [
    "k = [ 67, 45, -3, 9, 15]\n",
    "k"
   ]
  },
  {
   "cell_type": "code",
   "execution_count": 72,
   "id": "17960edc-a8fd-416a-a41f-d019cc350381",
   "metadata": {},
   "outputs": [
    {
     "data": {
      "text/plain": [
       "[-3, 9, 15, 45, 67]"
      ]
     },
     "execution_count": 72,
     "metadata": {},
     "output_type": "execute_result"
    }
   ],
   "source": [
    "k.sort()\n",
    "k"
   ]
  },
  {
   "cell_type": "markdown",
   "id": "70bc08ae-6122-404b-bf19-95b4bc89eb55",
   "metadata": {},
   "source": [
    "# List Compreension"
   ]
  },
  {
   "cell_type": "code",
   "execution_count": 74,
   "id": "b1a4140c-8bcb-4f2b-8415-fdc4e703e8a1",
   "metadata": {},
   "outputs": [
    {
     "data": {
      "text/plain": [
       "[0, 1, 2, 3, 4, 5, 6, 7, 8, 9]"
      ]
     },
     "execution_count": 74,
     "metadata": {},
     "output_type": "execute_result"
    }
   ],
   "source": [
    "n = [  x for x in range(10)   ]\n",
    "n"
   ]
  },
  {
   "cell_type": "code",
   "execution_count": 75,
   "id": "d032a9d5-e964-43e5-ba98-53d277976d2b",
   "metadata": {},
   "outputs": [
    {
     "data": {
      "text/plain": [
       "[0, 1, 2, 3, 4, 5, 6, 7, 8, 9]"
      ]
     },
     "execution_count": 75,
     "metadata": {},
     "output_type": "execute_result"
    }
   ],
   "source": [
    "list(range(10)) "
   ]
  },
  {
   "cell_type": "code",
   "execution_count": 76,
   "id": "f52ef83a-23b8-4b94-843f-0a6260fd81f5",
   "metadata": {},
   "outputs": [
    {
     "data": {
      "text/plain": [
       "[0, 1, 2, 3, 4, 5, 6, 7, 8, 9]"
      ]
     },
     "execution_count": 76,
     "metadata": {},
     "output_type": "execute_result"
    }
   ],
   "source": [
    "n = [  x for x in [0, 1, 2, 3, 4, 5, 6, 7, 8, 9]   ]\n",
    "n"
   ]
  },
  {
   "cell_type": "code",
   "execution_count": 78,
   "id": "a149ae5b-a6f7-42bb-97c2-d51aad606e96",
   "metadata": {},
   "outputs": [
    {
     "name": "stdout",
     "output_type": "stream",
     "text": [
      "[0, 1, 2, 3, 4, 5, 6, 7, 8, 9]\n"
     ]
    }
   ],
   "source": [
    "o = []\n",
    "for x in [0, 1, 2, 3, 4, 5, 6, 7, 8, 9]:\n",
    "    o.append(x)\n",
    "    \n",
    "print(o)"
   ]
  },
  {
   "cell_type": "markdown",
   "id": "04477ad4-e805-4b7d-8313-5a4f4b641f2e",
   "metadata": {},
   "source": [
    "# dicionários"
   ]
  },
  {
   "cell_type": "code",
   "execution_count": 79,
   "id": "8c332431-acef-45c7-b6fb-2c856029cfee",
   "metadata": {},
   "outputs": [
    {
     "data": {
      "text/plain": [
       "{}"
      ]
     },
     "execution_count": 79,
     "metadata": {},
     "output_type": "execute_result"
    }
   ],
   "source": [
    "d = {} # dict()\n",
    "d"
   ]
  },
  {
   "cell_type": "code",
   "execution_count": 80,
   "id": "12d48d9c-9542-450f-810a-df602e3fef78",
   "metadata": {},
   "outputs": [
    {
     "data": {
      "text/plain": [
       "dict"
      ]
     },
     "execution_count": 80,
     "metadata": {},
     "output_type": "execute_result"
    }
   ],
   "source": [
    "type(d)"
   ]
  },
  {
   "cell_type": "code",
   "execution_count": 81,
   "id": "d75ea9eb-3787-46ff-b486-88ac9c13be45",
   "metadata": {},
   "outputs": [
    {
     "data": {
      "text/plain": [
       "{'nome': 'Debora'}"
      ]
     },
     "execution_count": 81,
     "metadata": {},
     "output_type": "execute_result"
    }
   ],
   "source": [
    "d['nome'] = 'Debora'\n",
    "d"
   ]
  },
  {
   "cell_type": "code",
   "execution_count": 83,
   "id": "7f68898d-18cf-40d5-8b6e-14f5cbf78405",
   "metadata": {},
   "outputs": [
    {
     "data": {
      "text/plain": [
       "{'nome': 'Debora', 'idade': 23}"
      ]
     },
     "execution_count": 83,
     "metadata": {},
     "output_type": "execute_result"
    }
   ],
   "source": [
    "d['idade'] = 23\n",
    "d"
   ]
  },
  {
   "cell_type": "code",
   "execution_count": 85,
   "id": "6ef65573-ceaf-4639-a549-f88e892d7aac",
   "metadata": {},
   "outputs": [
    {
     "data": {
      "text/plain": [
       "{'nome': 'Debora', 'idade': 23, 'endereco': {'rua': 'Baraunas', 'numero': 356}}"
      ]
     },
     "execution_count": 85,
     "metadata": {},
     "output_type": "execute_result"
    }
   ],
   "source": [
    "d['endereco'] = { 'rua' : 'Baraunas', 'numero' : 356 }\n",
    "d                  "
   ]
  },
  {
   "cell_type": "code",
   "execution_count": 86,
   "id": "5328b0b6-7b6d-426f-87db-c2c18084f964",
   "metadata": {},
   "outputs": [
    {
     "data": {
      "text/plain": [
       "23"
      ]
     },
     "execution_count": 86,
     "metadata": {},
     "output_type": "execute_result"
    }
   ],
   "source": [
    "d['idade']"
   ]
  },
  {
   "cell_type": "code",
   "execution_count": 87,
   "id": "40e3caa0-1e8b-41d3-ab8c-cbaa44512906",
   "metadata": {},
   "outputs": [
    {
     "data": {
      "text/plain": [
       "{'rua': 'Baraunas', 'numero': 356}"
      ]
     },
     "execution_count": 87,
     "metadata": {},
     "output_type": "execute_result"
    }
   ],
   "source": [
    "d['endereco']"
   ]
  },
  {
   "cell_type": "code",
   "execution_count": 88,
   "id": "ef8c66f3-8370-44e7-9640-8d32a3314f68",
   "metadata": {},
   "outputs": [
    {
     "data": {
      "text/plain": [
       "356"
      ]
     },
     "execution_count": 88,
     "metadata": {},
     "output_type": "execute_result"
    }
   ],
   "source": [
    "d['endereco']['numero']"
   ]
  },
  {
   "cell_type": "code",
   "execution_count": null,
   "id": "31558668-1f71-41b7-9e0d-5aa6f9b1b972",
   "metadata": {},
   "outputs": [],
   "source": [
    "d = {\n",
    "    'nome': 'Debora',\n",
    "    'idade': 23,\n",
    "    'endereco': {\n",
    "        'rua': 'Baraunas', \n",
    "        'numero': 356}\n",
    "}"
   ]
  },
  {
   "cell_type": "code",
   "execution_count": 97,
   "id": "a3721a23-f470-4a17-88d4-90943f6168ee",
   "metadata": {},
   "outputs": [],
   "source": [
    "twitter = {\n",
    "      \"text\": 'In preparation for the NFL lockout, I will be spending twice as much time analyzing my fantasy baseball team during ...', \n",
    "      \"truncated\": True, \n",
    "      \"favorited\": False, \n",
    "      \"source\": \"<a href=\\\"http://twitter.com/\\\" rel=\\\"nofollow\\\">Twitter for iPhone</a>\", \n",
    "      \"id_str\": \"54691802283900928\", \n",
    "      \"entities\": {\n",
    "            \"user_mentions\": [\n",
    "                  {\n",
    "                        \"indices\": [\n",
    "                              3, \n",
    "                              19\n",
    "                        ], \n",
    "                        \"screen_name\": \"PostGradProblem\", \n",
    "                        \"id_str\": \"271572434\", \n",
    "                        \"name\": \"PostGradProblems\", \n",
    "                        \"id\": 271572434\n",
    "                  }\n",
    "            ], \n",
    "            \"urls\": [ ], \n",
    "            \"hashtags\": [ ]\n",
    "      }, \n",
    "\n",
    "      \"retweet_count\": 4, \n",
    "      \"created_at\": \"Sun Apr 03 23:48:36 +0000 2011\", \n",
    "      \"retweeted_status\": {\n",
    "            \"text\": \"In preparation for the NFL lockout, I will be spending twice as much time analyzing my fantasy baseball team during company time. #PGP\", \n",
    "            \"source\": \"<a href=\\\"http://www.hootsuite.com\\\" rel=\\\"nofollow\\\">HootSuite</a>\", \n",
    "                         \"indices\": [\n",
    "                                    130, \n",
    "                                    134\n",
    "                              ]\n",
    "                        }\n",
    "      }\n",
    "           \n",
    "      \n",
    "  "
   ]
  },
  {
   "cell_type": "code",
   "execution_count": 98,
   "id": "b060466e-f587-4525-bafa-2c1badd19366",
   "metadata": {},
   "outputs": [
    {
     "data": {
      "text/plain": [
       "{'text': 'In preparation for the NFL lockout, I will be spending twice as much time analyzing my fantasy baseball team during ...',\n",
       " 'truncated': True,\n",
       " 'favorited': False,\n",
       " 'source': '<a href=\"http://twitter.com/\" rel=\"nofollow\">Twitter for iPhone</a>',\n",
       " 'id_str': '54691802283900928',\n",
       " 'entities': {'user_mentions': [{'indices': [3, 19],\n",
       "    'screen_name': 'PostGradProblem',\n",
       "    'id_str': '271572434',\n",
       "    'name': 'PostGradProblems',\n",
       "    'id': 271572434}],\n",
       "  'urls': [],\n",
       "  'hashtags': []},\n",
       " 'retweet_count': 4,\n",
       " 'created_at': 'Sun Apr 03 23:48:36 +0000 2011',\n",
       " 'retweeted_status': {'text': 'In preparation for the NFL lockout, I will be spending twice as much time analyzing my fantasy baseball team during company time. #PGP',\n",
       "  'source': '<a href=\"http://www.hootsuite.com\" rel=\"nofollow\">HootSuite</a>',\n",
       "  'indices': [130, 134]}}"
      ]
     },
     "execution_count": 98,
     "metadata": {},
     "output_type": "execute_result"
    }
   ],
   "source": [
    "twitter"
   ]
  },
  {
   "cell_type": "code",
   "execution_count": 101,
   "id": "f2959650-07c0-43bc-8742-6cd330527ae7",
   "metadata": {},
   "outputs": [
    {
     "data": {
      "text/plain": [
       "'In preparation for the NFL lockout, I will be spending twice as much time analyzing my fantasy baseball team during ...'"
      ]
     },
     "execution_count": 101,
     "metadata": {},
     "output_type": "execute_result"
    }
   ],
   "source": [
    "twitter['text']"
   ]
  },
  {
   "cell_type": "code",
   "execution_count": 104,
   "id": "e00fa3c6-7d64-4258-ad6f-a3ef14c5504b",
   "metadata": {},
   "outputs": [
    {
     "data": {
      "text/plain": [
       "'Sun Apr 03 23:48:36 +0000 2011'"
      ]
     },
     "execution_count": 104,
     "metadata": {},
     "output_type": "execute_result"
    }
   ],
   "source": [
    "a = twitter['created_at']\n",
    "a"
   ]
  },
  {
   "cell_type": "code",
   "execution_count": 105,
   "id": "f9bf2546-0eab-485c-8e82-2c859ff4dfde",
   "metadata": {},
   "outputs": [
    {
     "data": {
      "text/plain": [
       "str"
      ]
     },
     "execution_count": 105,
     "metadata": {},
     "output_type": "execute_result"
    }
   ],
   "source": [
    "type(a)"
   ]
  },
  {
   "cell_type": "code",
   "execution_count": 110,
   "id": "afb769e2-ba2d-4b41-b81d-2a39fa4cce0e",
   "metadata": {},
   "outputs": [],
   "source": [
    "a = a.split()"
   ]
  },
  {
   "cell_type": "code",
   "execution_count": 112,
   "id": "8fda7967-796b-473c-8d28-03821398005a",
   "metadata": {},
   "outputs": [
    {
     "data": {
      "text/plain": [
       "['Sun', 'Apr', '03', '23:48:36', '+0000', '2011']"
      ]
     },
     "execution_count": 112,
     "metadata": {},
     "output_type": "execute_result"
    }
   ],
   "source": [
    "a"
   ]
  },
  {
   "cell_type": "code",
   "execution_count": 123,
   "id": "89d4fe6c-4224-4351-a68e-28d0b15b637e",
   "metadata": {},
   "outputs": [
    {
     "data": {
      "text/plain": [
       "'23:48:36'"
      ]
     },
     "execution_count": 123,
     "metadata": {},
     "output_type": "execute_result"
    }
   ],
   "source": [
    "hora = a[3]\n",
    "hora"
   ]
  },
  {
   "cell_type": "code",
   "execution_count": 115,
   "id": "911562a6-7525-4a48-ae39-55b4a577dcac",
   "metadata": {},
   "outputs": [
    {
     "data": {
      "text/plain": [
       "['23', '48', '36']"
      ]
     },
     "execution_count": 115,
     "metadata": {},
     "output_type": "execute_result"
    }
   ],
   "source": [
    "l = hora.split(':')\n",
    "l"
   ]
  },
  {
   "cell_type": "code",
   "execution_count": 117,
   "id": "de71ff21-bad4-4d84-a63f-e9848e967b1f",
   "metadata": {},
   "outputs": [],
   "source": [
    "hora = l[0]\n",
    "m = l[1]\n",
    "s = l[2]"
   ]
  },
  {
   "cell_type": "code",
   "execution_count": 118,
   "id": "b726ebf7-d529-4d25-aefe-7645b872fcaf",
   "metadata": {},
   "outputs": [
    {
     "name": "stdout",
     "output_type": "stream",
     "text": [
      "23 48 36\n"
     ]
    }
   ],
   "source": [
    "print(hora, m, s)"
   ]
  },
  {
   "cell_type": "code",
   "execution_count": 124,
   "id": "9509da78-1764-4d72-bc9e-2da686e13ae0",
   "metadata": {},
   "outputs": [],
   "source": [
    "h, m, s = hora.split(':')"
   ]
  },
  {
   "cell_type": "code",
   "execution_count": 125,
   "id": "5749c671-7052-4848-9629-11c4f7f79dc4",
   "metadata": {},
   "outputs": [
    {
     "data": {
      "text/plain": [
       "'23:48:36'"
      ]
     },
     "execution_count": 125,
     "metadata": {},
     "output_type": "execute_result"
    }
   ],
   "source": [
    "hora"
   ]
  },
  {
   "cell_type": "code",
   "execution_count": 126,
   "id": "ec1ed42e-4679-489a-95b1-efcd4c1202a4",
   "metadata": {},
   "outputs": [
    {
     "data": {
      "text/plain": [
       "('23', '48', '36')"
      ]
     },
     "execution_count": 126,
     "metadata": {},
     "output_type": "execute_result"
    }
   ],
   "source": [
    "h, m, s"
   ]
  },
  {
   "cell_type": "code",
   "execution_count": 127,
   "id": "a8d886a7-700e-4ddd-841e-f900b4b2ea71",
   "metadata": {
    "scrolled": true
   },
   "outputs": [
    {
     "data": {
      "text/plain": [
       "{'text': 'In preparation for the NFL lockout, I will be spending twice as much time analyzing my fantasy baseball team during ...',\n",
       " 'truncated': True,\n",
       " 'favorited': False,\n",
       " 'source': '<a href=\"http://twitter.com/\" rel=\"nofollow\">Twitter for iPhone</a>',\n",
       " 'id_str': '54691802283900928',\n",
       " 'entities': {'user_mentions': [{'indices': [3, 19],\n",
       "    'screen_name': 'PostGradProblem',\n",
       "    'id_str': '271572434',\n",
       "    'name': 'PostGradProblems',\n",
       "    'id': 271572434}],\n",
       "  'urls': [],\n",
       "  'hashtags': []},\n",
       " 'retweet_count': 4,\n",
       " 'created_at': 'Sun Apr 03 23:48:36 +0000 2011',\n",
       " 'retweeted_status': {'text': 'In preparation for the NFL lockout, I will be spending twice as much time analyzing my fantasy baseball team during company time. #PGP',\n",
       "  'source': '<a href=\"http://www.hootsuite.com\" rel=\"nofollow\">HootSuite</a>',\n",
       "  'indices': [130, 134]}}"
      ]
     },
     "execution_count": 127,
     "metadata": {},
     "output_type": "execute_result"
    }
   ],
   "source": [
    "twitter"
   ]
  },
  {
   "cell_type": "code",
   "execution_count": 128,
   "id": "35a0196b-7b51-46be-bd45-7b5f5a682439",
   "metadata": {},
   "outputs": [
    {
     "data": {
      "text/plain": [
       "{'text': 'In preparation for the NFL lockout, I will be spending twice as much time analyzing my fantasy baseball team during company time. #PGP',\n",
       " 'source': '<a href=\"http://www.hootsuite.com\" rel=\"nofollow\">HootSuite</a>',\n",
       " 'indices': [130, 134]}"
      ]
     },
     "execution_count": 128,
     "metadata": {},
     "output_type": "execute_result"
    }
   ],
   "source": [
    "twitter['retweeted_status']"
   ]
  },
  {
   "cell_type": "code",
   "execution_count": 129,
   "id": "4d7a0669-dedd-4320-88ee-5deba89156af",
   "metadata": {},
   "outputs": [
    {
     "data": {
      "text/plain": [
       "'In preparation for the NFL lockout, I will be spending twice as much time analyzing my fantasy baseball team during company time. #PGP'"
      ]
     },
     "execution_count": 129,
     "metadata": {},
     "output_type": "execute_result"
    }
   ],
   "source": [
    "twitter['retweeted_status']['text']"
   ]
  },
  {
   "cell_type": "code",
   "execution_count": null,
   "id": "0b47c561-ab59-4b10-a80a-008254209f18",
   "metadata": {},
   "outputs": [],
   "source": []
  },
  {
   "cell_type": "code",
   "execution_count": 130,
   "id": "131d98a9-a369-4f31-b25e-9451f434281c",
   "metadata": {},
   "outputs": [
    {
     "data": {
      "text/plain": [
       "{'nome': 'Debora', 'idade': 23, 'endereco': {'rua': 'Baraunas', 'numero': 356}}"
      ]
     },
     "execution_count": 130,
     "metadata": {},
     "output_type": "execute_result"
    }
   ],
   "source": [
    "d"
   ]
  },
  {
   "cell_type": "code",
   "execution_count": 131,
   "id": "c5b1771a-0f0c-4f31-be84-41cbe8a82ee0",
   "metadata": {},
   "outputs": [
    {
     "data": {
      "text/plain": [
       "dict_keys(['nome', 'idade', 'endereco'])"
      ]
     },
     "execution_count": 131,
     "metadata": {},
     "output_type": "execute_result"
    }
   ],
   "source": [
    "d.keys()"
   ]
  },
  {
   "cell_type": "code",
   "execution_count": 132,
   "id": "e052e983-c52c-4c74-8339-c5645323e164",
   "metadata": {},
   "outputs": [
    {
     "data": {
      "text/plain": [
       "dict_values(['Debora', 23, {'rua': 'Baraunas', 'numero': 356}])"
      ]
     },
     "execution_count": 132,
     "metadata": {},
     "output_type": "execute_result"
    }
   ],
   "source": [
    "d.values()"
   ]
  },
  {
   "cell_type": "code",
   "execution_count": 133,
   "id": "aee5585e-6d93-4d29-9c0c-dc00d0938610",
   "metadata": {},
   "outputs": [
    {
     "data": {
      "text/plain": [
       "dict_items([('nome', 'Debora'), ('idade', 23), ('endereco', {'rua': 'Baraunas', 'numero': 356})])"
      ]
     },
     "execution_count": 133,
     "metadata": {},
     "output_type": "execute_result"
    }
   ],
   "source": [
    "d.items()"
   ]
  },
  {
   "cell_type": "code",
   "execution_count": 136,
   "id": "652f4829-c78b-4853-a148-8eb95ed7e459",
   "metadata": {},
   "outputs": [
    {
     "name": "stdout",
     "output_type": "stream",
     "text": [
      "nome Debora\n",
      "idade 23\n",
      "endereco {'rua': 'Baraunas', 'numero': 356}\n"
     ]
    }
   ],
   "source": [
    "for key in d.keys():\n",
    "    print(key,d[key])  "
   ]
  },
  {
   "cell_type": "code",
   "execution_count": 137,
   "id": "a094cea8-09bf-4980-8b98-d149503c695f",
   "metadata": {},
   "outputs": [],
   "source": [
    "# set - conjuto"
   ]
  },
  {
   "cell_type": "code",
   "execution_count": 138,
   "id": "95685932-4b3e-455b-b4c7-7cd8ef3d1795",
   "metadata": {},
   "outputs": [
    {
     "data": {
      "text/plain": [
       "[2, 3, 4, 4, 6, 7, 7, 8, 4, 8, 9, 2]"
      ]
     },
     "execution_count": 138,
     "metadata": {},
     "output_type": "execute_result"
    }
   ],
   "source": [
    "l = [2, 3, 4, 4, 6, 7, 7, 8, 4, 8, 9, 2    ]\n",
    "l"
   ]
  },
  {
   "cell_type": "code",
   "execution_count": 139,
   "id": "905e96bf-f6d4-414b-b6e5-4cdab4271fbd",
   "metadata": {},
   "outputs": [
    {
     "data": {
      "text/plain": [
       "{2, 3, 4, 6, 7, 8, 9}"
      ]
     },
     "execution_count": 139,
     "metadata": {},
     "output_type": "execute_result"
    }
   ],
   "source": [
    "set(l)"
   ]
  },
  {
   "cell_type": "markdown",
   "id": "a37df4ab-b754-4664-a47a-5580d22e3e86",
   "metadata": {},
   "source": [
    "# Funcao"
   ]
  },
  {
   "cell_type": "code",
   "execution_count": 141,
   "id": "57347493-3b84-4338-8bd8-2e96ba61a96a",
   "metadata": {},
   "outputs": [],
   "source": [
    "def soma(x,y):\n",
    "    z = x + y\n",
    "    return z"
   ]
  },
  {
   "cell_type": "code",
   "execution_count": 142,
   "id": "14a69ba2-1559-4831-98d9-38acd56e13a2",
   "metadata": {},
   "outputs": [
    {
     "data": {
      "text/plain": [
       "20"
      ]
     },
     "execution_count": 142,
     "metadata": {},
     "output_type": "execute_result"
    }
   ],
   "source": [
    "x = soma(9,11)\n",
    "x"
   ]
  },
  {
   "cell_type": "code",
   "execution_count": 3,
   "id": "a5842b7d-e200-4b91-b67d-adbcb02fd6ce",
   "metadata": {},
   "outputs": [
    {
     "data": {
      "text/plain": [
       "[(0, 0),\n",
       " (1, 1),\n",
       " (2, 2),\n",
       " (3, 3),\n",
       " (4, 4),\n",
       " (5, 5),\n",
       " (6, 6),\n",
       " (7, 7),\n",
       " (8, 8),\n",
       " (9, 9)]"
      ]
     },
     "execution_count": 3,
     "metadata": {},
     "output_type": "execute_result"
    }
   ],
   "source": [
    "list(enumerate(range(10)))"
   ]
  },
  {
   "cell_type": "code",
   "execution_count": 4,
   "id": "cbdac14c-9815-4f88-a600-58b6e5ed2678",
   "metadata": {},
   "outputs": [],
   "source": [
    "def pot(x):\n",
    "    return x * x"
   ]
  },
  {
   "cell_type": "code",
   "execution_count": 15,
   "id": "a969ba52-5f1d-4966-a92c-350f051a9d2a",
   "metadata": {},
   "outputs": [
    {
     "data": {
      "text/plain": [
       "[4, 9, 16]"
      ]
     },
     "execution_count": 15,
     "metadata": {},
     "output_type": "execute_result"
    }
   ],
   "source": [
    "list(map(pot, [ 2, 3, 4]))"
   ]
  },
  {
   "cell_type": "code",
   "execution_count": 7,
   "id": "9d9efe3b-3dc4-4591-b38d-cbe84d6eea04",
   "metadata": {},
   "outputs": [
    {
     "data": {
      "text/plain": [
       "{0: 'sim', 1: 'nao'}"
      ]
     },
     "execution_count": 7,
     "metadata": {},
     "output_type": "execute_result"
    }
   ],
   "source": [
    "d = {0: 'sim',\n",
    "     1: 'nao'}\n",
    "d"
   ]
  },
  {
   "cell_type": "code",
   "execution_count": 13,
   "id": "d37afbd2-812f-4e78-bc83-70642ea64f3e",
   "metadata": {},
   "outputs": [
    {
     "data": {
      "text/plain": [
       "<map at 0x79af3c2511b0>"
      ]
     },
     "execution_count": 13,
     "metadata": {},
     "output_type": "execute_result"
    }
   ],
   "source": [
    "map(d,[0,0,1,1])"
   ]
  },
  {
   "cell_type": "code",
   "execution_count": 143,
   "id": "e28ab622-e3e5-4a12-90cb-c0dc2cd4a0c6",
   "metadata": {},
   "outputs": [],
   "source": [
    "# Função Lambda"
   ]
  },
  {
   "cell_type": "code",
   "execution_count": 144,
   "id": "e0195a3b-e674-44cf-b46c-1f25c922365f",
   "metadata": {},
   "outputs": [],
   "source": [
    "# método apply"
   ]
  },
  {
   "cell_type": "code",
   "execution_count": null,
   "id": "e4cefbe2-c798-4fa9-9232-014e6165a85a",
   "metadata": {},
   "outputs": [],
   "source": [
    "# método map"
   ]
  },
  {
   "cell_type": "code",
   "execution_count": null,
   "id": "d35af1d1-7554-4ea7-9a44-f510e1f7f3d2",
   "metadata": {},
   "outputs": [],
   "source": []
  }
 ],
 "metadata": {
  "kernelspec": {
   "display_name": "Python 3 (ipykernel)",
   "language": "python",
   "name": "python3"
  },
  "language_info": {
   "codemirror_mode": {
    "name": "ipython",
    "version": 3
   },
   "file_extension": ".py",
   "mimetype": "text/x-python",
   "name": "python",
   "nbconvert_exporter": "python",
   "pygments_lexer": "ipython3",
   "version": "3.12.4"
  }
 },
 "nbformat": 4,
 "nbformat_minor": 5
}
