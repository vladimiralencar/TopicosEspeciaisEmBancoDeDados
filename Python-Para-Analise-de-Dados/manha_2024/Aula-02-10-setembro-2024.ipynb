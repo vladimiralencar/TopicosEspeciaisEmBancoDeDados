{
 "cells": [
  {
   "cell_type": "markdown",
   "id": "aa6e2694-0679-4837-bf02-6e3749efa5df",
   "metadata": {},
   "source": [
    "# Python para Análise de Dados"
   ]
  },
  {
   "cell_type": "code",
   "execution_count": null,
   "id": "32d4e8c6-9342-4082-aa83-068e85d5361a",
   "metadata": {},
   "outputs": [],
   "source": [
    "a = 1\n",
    "a"
   ]
  },
  {
   "cell_type": "code",
   "execution_count": null,
   "id": "cec8da28-a034-49f6-b192-6d847e375aff",
   "metadata": {},
   "outputs": [],
   "source": [
    "b,c = 'UEPB', True\n",
    "print(b)\n",
    "print(c)"
   ]
  },
  {
   "cell_type": "code",
   "execution_count": null,
   "id": "35f84dd4-5373-4e72-946b-490f7237267f",
   "metadata": {},
   "outputs": [],
   "source": [
    "pi = 3.14159\n",
    "pi"
   ]
  },
  {
   "cell_type": "code",
   "execution_count": null,
   "id": "b887cc93-64a1-4acc-8977-265ba633d367",
   "metadata": {},
   "outputs": [],
   "source": [
    "metodos_string = dir(b)\n",
    "print(metodos_string)"
   ]
  },
  {
   "cell_type": "code",
   "execution_count": null,
   "id": "be9a9eb2-eaed-4522-8677-cd0125af8696",
   "metadata": {},
   "outputs": [],
   "source": [
    "texto =  '''\n",
    " \"text\": \"RT @PostGradProblem: In preparation for the NFL lockout, I will be spending twice as much time analyzing my fantasy baseball team during ...\",\n",
    "\"truncated\": true,\n",
    "\"in_reply_to_user_id\": null,\n",
    "\"in_reply_to_status_id\": null,\n",
    "\"favorited\": false,\n",
    "\"source\": \"<a href=\\\"http://twitter.com/\\\" rel=\\\"nofollow\\\">Twitter for iPhone</a>\", \n",
    "'''\n",
    "print(texto)"
   ]
  },
  {
   "cell_type": "code",
   "execution_count": null,
   "id": "5dc7582c-d344-41a0-a6dc-400fc6ebc0da",
   "metadata": {},
   "outputs": [],
   "source": [
    "data = \"Thu Mar 24 19:45:44 +0000 2011\""
   ]
  },
  {
   "cell_type": "code",
   "execution_count": null,
   "id": "a0ef8fba-af62-4498-91b1-7aca238b27c4",
   "metadata": {},
   "outputs": [],
   "source": [
    "data"
   ]
  },
  {
   "cell_type": "code",
   "execution_count": null,
   "id": "95639c60-1d15-4131-845a-fe687cfba6d5",
   "metadata": {},
   "outputs": [],
   "source": [
    "type(data)"
   ]
  },
  {
   "cell_type": "code",
   "execution_count": null,
   "id": "67a90572-29fe-4ba1-8d40-540367ba5e2d",
   "metadata": {},
   "outputs": [],
   "source": [
    "s = data.split()\n",
    "s"
   ]
  },
  {
   "cell_type": "code",
   "execution_count": null,
   "id": "fed4edda-f594-4951-8121-e1dcb87d92d2",
   "metadata": {},
   "outputs": [],
   "source": [
    "hora = s[3]\n",
    "hora"
   ]
  },
  {
   "cell_type": "code",
   "execution_count": null,
   "id": "d8a0acd7-6c88-421d-8d23-c56927929a1f",
   "metadata": {},
   "outputs": [],
   "source": [
    "s[0:5] # fatiamento"
   ]
  },
  {
   "cell_type": "code",
   "execution_count": null,
   "id": "ec93ee84-b7e7-42bc-93ee-d9d50f2efb56",
   "metadata": {},
   "outputs": [],
   "source": [
    "s[-1]"
   ]
  },
  {
   "cell_type": "code",
   "execution_count": null,
   "id": "2cdbf4de-3d46-4d16-a30c-940b6a1d0071",
   "metadata": {},
   "outputs": [],
   "source": [
    "len(s)"
   ]
  },
  {
   "cell_type": "code",
   "execution_count": null,
   "id": "16bc822f-fc37-410f-8eee-264bdbcc6bd0",
   "metadata": {},
   "outputs": [],
   "source": [
    "len(hora)"
   ]
  },
  {
   "cell_type": "code",
   "execution_count": null,
   "id": "4bdb1670-5a9d-4e39-ab91-f13daf753414",
   "metadata": {
    "scrolled": true
   },
   "outputs": [],
   "source": [
    "print(texto)"
   ]
  },
  {
   "cell_type": "code",
   "execution_count": null,
   "id": "bd5147c0-62a8-4688-825b-167a2b48d1c4",
   "metadata": {},
   "outputs": [],
   "source": [
    "t = \"RT @PostGradProblem: In preparation for the NFL lockout, I will be spending twice as much time analyzing my fantasy baseball team during ...\""
   ]
  },
  {
   "cell_type": "code",
   "execution_count": null,
   "id": "732ddb71-f67a-4453-94b1-36c6edb175e2",
   "metadata": {},
   "outputs": [],
   "source": [
    "print(t)"
   ]
  },
  {
   "cell_type": "code",
   "execution_count": null,
   "id": "90a9d10f-feda-4f88-8ee7-1bb5eec0b8ed",
   "metadata": {},
   "outputs": [],
   "source": [
    "type(t)"
   ]
  },
  {
   "cell_type": "code",
   "execution_count": null,
   "id": "298231eb-99bd-481f-bab6-68a46e70e62b",
   "metadata": {},
   "outputs": [],
   "source": [
    "t.replace"
   ]
  },
  {
   "cell_type": "code",
   "execution_count": null,
   "id": "be7b06f3-e1c6-4150-a5ad-a57ac317583b",
   "metadata": {},
   "outputs": [],
   "source": [
    "t.replace('@', '').replace(',','').replace('.','')"
   ]
  },
  {
   "cell_type": "code",
   "execution_count": null,
   "id": "cc001425-f991-4b27-b882-f4de41e8fa15",
   "metadata": {},
   "outputs": [],
   "source": [
    "t2 = t.replace('@', '').replace(',','').replace('.','')\n",
    "print(t2)"
   ]
  },
  {
   "cell_type": "code",
   "execution_count": null,
   "id": "8ea761db-9a55-4317-9a7f-0d2ae0cf607f",
   "metadata": {},
   "outputs": [],
   "source": [
    "print(t2.lower().split())"
   ]
  },
  {
   "cell_type": "code",
   "execution_count": null,
   "id": "18199f77-fdb6-4a4a-bf17-f17c3dd8291d",
   "metadata": {},
   "outputs": [],
   "source": [
    "hora"
   ]
  },
  {
   "cell_type": "code",
   "execution_count": null,
   "id": "fa02b5fc-4b63-409d-982d-9ec3c4adf161",
   "metadata": {},
   "outputs": [],
   "source": [
    "hora.split(':')"
   ]
  },
  {
   "cell_type": "code",
   "execution_count": null,
   "id": "6e404bb6-678c-41b1-86d2-67d7619a7d78",
   "metadata": {},
   "outputs": [],
   "source": [
    "h, mes, dia = hora.split(':')"
   ]
  },
  {
   "cell_type": "code",
   "execution_count": null,
   "id": "19326afb-1a48-4dbe-9f44-6deb2dd039dd",
   "metadata": {},
   "outputs": [],
   "source": [
    "h"
   ]
  },
  {
   "cell_type": "code",
   "execution_count": null,
   "id": "422b8720-5564-4b3b-b337-7ab5834c4e40",
   "metadata": {},
   "outputs": [],
   "source": [
    "mes, dia"
   ]
  },
  {
   "cell_type": "code",
   "execution_count": null,
   "id": "430035a2-f1d2-4cdb-ad27-d3e2fbcd31bc",
   "metadata": {},
   "outputs": [],
   "source": [
    "m = int(mes)\n",
    "m"
   ]
  },
  {
   "cell_type": "code",
   "execution_count": null,
   "id": "8b6f369c-3424-4887-b981-3a4c61ea0772",
   "metadata": {},
   "outputs": [],
   "source": [
    "type(m)"
   ]
  },
  {
   "cell_type": "code",
   "execution_count": null,
   "id": "a691910b-fe1b-4f9c-94dc-43d3a5c03361",
   "metadata": {},
   "outputs": [],
   "source": [
    "s = str(m)\n",
    "s"
   ]
  },
  {
   "cell_type": "code",
   "execution_count": null,
   "id": "07bc5e48-f046-47c5-9f61-d0921045f958",
   "metadata": {},
   "outputs": [],
   "source": [
    "type(s)"
   ]
  },
  {
   "cell_type": "code",
   "execution_count": null,
   "id": "5d8aa8be-c196-4c86-8d22-5e4216d11d5e",
   "metadata": {},
   "outputs": [],
   "source": [
    "print(dir(s))"
   ]
  },
  {
   "cell_type": "markdown",
   "id": "e0d1be54-edfc-4faf-80c3-6c35d874f173",
   "metadata": {},
   "source": [
    "# Comando if"
   ]
  },
  {
   "cell_type": "code",
   "execution_count": null,
   "id": "4addfe30-d60e-4067-af15-614f5c146320",
   "metadata": {},
   "outputs": [],
   "source": [
    "n = 3\n",
    "if n > 5:\n",
    "    print('maior')\n",
    "else:\n",
    "    print('menor')"
   ]
  },
  {
   "cell_type": "code",
   "execution_count": null,
   "id": "d34518ce-e7ed-411a-9698-e72038df64a7",
   "metadata": {},
   "outputs": [],
   "source": [
    "n = 2\n",
    "if n > 5:\n",
    "    print('maior')\n",
    "elif n >3:\n",
    "    print('media')\n",
    "else:\n",
    "    print('menor')"
   ]
  },
  {
   "cell_type": "code",
   "execution_count": null,
   "id": "fe35b204-8d34-40f2-9ebf-33c364decd5b",
   "metadata": {},
   "outputs": [],
   "source": [
    "x = 230\n",
    "while x < 300:\n",
    "    if x == 240:\n",
    "        break\n",
    "    x += 1 # x + 1\n",
    "print(x)    "
   ]
  },
  {
   "cell_type": "code",
   "execution_count": null,
   "id": "7efac38d-9b4e-4276-8b0f-bcd235763f30",
   "metadata": {},
   "outputs": [],
   "source": [
    "range("
   ]
  },
  {
   "cell_type": "code",
   "execution_count": null,
   "id": "83ff51f8-c05a-4f31-b514-225bee2461bf",
   "metadata": {},
   "outputs": [],
   "source": []
  },
  {
   "cell_type": "code",
   "execution_count": null,
   "id": "c55c40cc-6eb6-4b71-bde6-eac4bf835976",
   "metadata": {},
   "outputs": [],
   "source": [
    "range(10)"
   ]
  },
  {
   "cell_type": "code",
   "execution_count": null,
   "id": "f2cfdbaf-e7a9-4b84-a9f2-fb98558301f2",
   "metadata": {},
   "outputs": [],
   "source": [
    "list(range(10))"
   ]
  },
  {
   "cell_type": "markdown",
   "id": "edd77cab-52cc-4a89-a269-6e9ae7ead222",
   "metadata": {},
   "source": [
    "# comando for"
   ]
  },
  {
   "cell_type": "code",
   "execution_count": null,
   "id": "14ff190a-8b56-4e15-b7f2-ec625f6f1e0b",
   "metadata": {},
   "outputs": [],
   "source": [
    "for i in range(10):\n",
    "    print(i)"
   ]
  },
  {
   "cell_type": "markdown",
   "id": "ef34e1da-5baf-435f-b111-e2787dd65b2e",
   "metadata": {},
   "source": [
    "# Lista"
   ]
  },
  {
   "cell_type": "code",
   "execution_count": null,
   "id": "8f46b14c-2a35-46a4-8ab3-033cbafc5f47",
   "metadata": {},
   "outputs": [],
   "source": [
    "s = [ 10, -2, True, 3.4, 'notebook']\n",
    "s"
   ]
  },
  {
   "cell_type": "code",
   "execution_count": null,
   "id": "ce8879ca-aaf4-41dd-90a1-1acfe79803e5",
   "metadata": {},
   "outputs": [],
   "source": [
    "type(s)"
   ]
  },
  {
   "cell_type": "code",
   "execution_count": null,
   "id": "cd08e0e5-c4a0-4ee6-a0d9-781eb605a8f4",
   "metadata": {},
   "outputs": [],
   "source": [
    "for i in s:\n",
    "    print(i)"
   ]
  },
  {
   "cell_type": "markdown",
   "id": "61ca3f84-d228-48d3-9a47-8ef4c58418a7",
   "metadata": {},
   "source": [
    "# tupla"
   ]
  },
  {
   "cell_type": "code",
   "execution_count": null,
   "id": "7c20efa2-4b15-4788-b9ce-5f545d25e1ce",
   "metadata": {},
   "outputs": [],
   "source": [
    "t = (10, -2, True, 3.4, 'notebook')\n",
    "t"
   ]
  },
  {
   "cell_type": "code",
   "execution_count": null,
   "id": "7514bca8-034e-424b-95f6-a9e139285afe",
   "metadata": {},
   "outputs": [],
   "source": [
    "type(t)"
   ]
  },
  {
   "cell_type": "code",
   "execution_count": null,
   "id": "13556352-193b-431d-96be-242cf21a0254",
   "metadata": {},
   "outputs": [],
   "source": [
    "t[0]"
   ]
  },
  {
   "cell_type": "code",
   "execution_count": null,
   "id": "51b65d7c-afef-45cd-9777-d5fbe3d91e93",
   "metadata": {},
   "outputs": [],
   "source": [
    "t[1:]"
   ]
  },
  {
   "cell_type": "code",
   "execution_count": null,
   "id": "fd3667bd-2729-4f27-a623-6ce8f6a62462",
   "metadata": {},
   "outputs": [],
   "source": [
    "t[:2+1]"
   ]
  },
  {
   "cell_type": "code",
   "execution_count": null,
   "id": "145c8dc5-47f3-45ea-bb39-547d143858cb",
   "metadata": {},
   "outputs": [],
   "source": [
    "t[:]"
   ]
  },
  {
   "cell_type": "code",
   "execution_count": null,
   "id": "95a4d1f2-b59e-496e-91b7-688674907062",
   "metadata": {},
   "outputs": [],
   "source": [
    "t[:-1]"
   ]
  },
  {
   "cell_type": "code",
   "execution_count": null,
   "id": "18a2a5df-996d-41e6-8373-99acaa8e35b0",
   "metadata": {},
   "outputs": [],
   "source": [
    "# tupla é inutável"
   ]
  },
  {
   "cell_type": "code",
   "execution_count": null,
   "id": "de6c3496-834e-4989-b06a-14b2ff0cfe7f",
   "metadata": {},
   "outputs": [],
   "source": [
    "t[0] = 20"
   ]
  },
  {
   "cell_type": "markdown",
   "id": "619cf653-9dc5-48fc-b5c7-019725664281",
   "metadata": {},
   "source": [
    "# Lista"
   ]
  },
  {
   "cell_type": "code",
   "execution_count": null,
   "id": "061c7979-74c9-4a04-931f-3a290deeeac5",
   "metadata": {},
   "outputs": [],
   "source": [
    "l = list(t)\n",
    "l"
   ]
  },
  {
   "cell_type": "code",
   "execution_count": null,
   "id": "7505f0da-67b3-4320-a4c0-7c36c659fdfe",
   "metadata": {},
   "outputs": [],
   "source": [
    "type(l)"
   ]
  },
  {
   "cell_type": "code",
   "execution_count": null,
   "id": "5fd145ca-1c81-4984-8b00-81100bb8a61f",
   "metadata": {},
   "outputs": [],
   "source": [
    "l[1]"
   ]
  },
  {
   "cell_type": "code",
   "execution_count": null,
   "id": "dad5e6ad-6176-4436-90a4-c9f9cc67c90e",
   "metadata": {},
   "outputs": [],
   "source": [
    "l[2] = False\n",
    "l"
   ]
  },
  {
   "cell_type": "code",
   "execution_count": null,
   "id": "7cf077d3-b12e-4d68-84d4-3fe6521134d2",
   "metadata": {},
   "outputs": [],
   "source": [
    "l[1] = [ 'uepb', 70, 5.4 ]\n",
    "l"
   ]
  },
  {
   "cell_type": "code",
   "execution_count": null,
   "id": "3f9fc810-4fab-4bc3-adda-8051a2b20005",
   "metadata": {},
   "outputs": [],
   "source": [
    "l[1]"
   ]
  },
  {
   "cell_type": "code",
   "execution_count": null,
   "id": "e3bd7dab-c3d4-4779-8e88-3a8c87db01fb",
   "metadata": {},
   "outputs": [],
   "source": [
    "l[1][2]"
   ]
  },
  {
   "cell_type": "code",
   "execution_count": null,
   "id": "5d88bad3-2ad2-4884-ac42-b7d0ae2793d7",
   "metadata": {},
   "outputs": [],
   "source": []
  },
  {
   "cell_type": "code",
   "execution_count": null,
   "id": "d87e6c76-9775-4822-bcb3-8f1f49f6e1d7",
   "metadata": {},
   "outputs": [],
   "source": [
    "l.append(300)\n",
    "l"
   ]
  },
  {
   "cell_type": "code",
   "execution_count": null,
   "id": "bb9faff5-095e-434c-9dba-6a175ffe471b",
   "metadata": {},
   "outputs": [],
   "source": [
    "m = [ -1, 'c', 90, 'cct']\n",
    "m"
   ]
  },
  {
   "cell_type": "code",
   "execution_count": null,
   "id": "3713b907-7bde-433d-8297-013bf3d5f9fc",
   "metadata": {},
   "outputs": [],
   "source": [
    "z = l + m\n",
    "z"
   ]
  },
  {
   "cell_type": "code",
   "execution_count": null,
   "id": "83de6e27-0ea9-48f6-a555-0b0f13c2a48f",
   "metadata": {},
   "outputs": [],
   "source": [
    "for elem in z:\n",
    "    print(elem)"
   ]
  },
  {
   "cell_type": "code",
   "execution_count": null,
   "id": "791c8128-2120-4ea1-91c2-6f415b59a11e",
   "metadata": {},
   "outputs": [],
   "source": [
    "k = [ 67, 45, -3, 9, 15]\n",
    "k"
   ]
  },
  {
   "cell_type": "code",
   "execution_count": null,
   "id": "17960edc-a8fd-416a-a41f-d019cc350381",
   "metadata": {},
   "outputs": [],
   "source": [
    "k.sort()\n",
    "k"
   ]
  },
  {
   "cell_type": "markdown",
   "id": "70bc08ae-6122-404b-bf19-95b4bc89eb55",
   "metadata": {},
   "source": [
    "# List Compreension"
   ]
  },
  {
   "cell_type": "code",
   "execution_count": null,
   "id": "b1a4140c-8bcb-4f2b-8415-fdc4e703e8a1",
   "metadata": {},
   "outputs": [],
   "source": [
    "n = [  x for x in range(10)   ]\n",
    "n"
   ]
  },
  {
   "cell_type": "code",
   "execution_count": null,
   "id": "d032a9d5-e964-43e5-ba98-53d277976d2b",
   "metadata": {},
   "outputs": [],
   "source": [
    "list(range(10)) "
   ]
  },
  {
   "cell_type": "code",
   "execution_count": null,
   "id": "f52ef83a-23b8-4b94-843f-0a6260fd81f5",
   "metadata": {},
   "outputs": [],
   "source": [
    "n = [  x for x in [0, 1, 2, 3, 4, 5, 6, 7, 8, 9]   ]\n",
    "n"
   ]
  },
  {
   "cell_type": "code",
   "execution_count": null,
   "id": "a149ae5b-a6f7-42bb-97c2-d51aad606e96",
   "metadata": {},
   "outputs": [],
   "source": [
    "o = []\n",
    "for x in [0, 1, 2, 3, 4, 5, 6, 7, 8, 9]:\n",
    "    o.append(x)\n",
    "    \n",
    "print(o)"
   ]
  },
  {
   "cell_type": "markdown",
   "id": "04477ad4-e805-4b7d-8313-5a4f4b641f2e",
   "metadata": {},
   "source": [
    "# dicionários"
   ]
  },
  {
   "cell_type": "code",
   "execution_count": null,
   "id": "8c332431-acef-45c7-b6fb-2c856029cfee",
   "metadata": {},
   "outputs": [],
   "source": [
    "d = {} # dict()\n",
    "d"
   ]
  },
  {
   "cell_type": "code",
   "execution_count": null,
   "id": "12d48d9c-9542-450f-810a-df602e3fef78",
   "metadata": {},
   "outputs": [],
   "source": [
    "type(d)"
   ]
  },
  {
   "cell_type": "code",
   "execution_count": null,
   "id": "d75ea9eb-3787-46ff-b486-88ac9c13be45",
   "metadata": {},
   "outputs": [],
   "source": [
    "d['nome'] = 'Debora'\n",
    "d"
   ]
  },
  {
   "cell_type": "code",
   "execution_count": null,
   "id": "7f68898d-18cf-40d5-8b6e-14f5cbf78405",
   "metadata": {},
   "outputs": [],
   "source": [
    "d['idade'] = 23\n",
    "d"
   ]
  },
  {
   "cell_type": "code",
   "execution_count": null,
   "id": "6ef65573-ceaf-4639-a549-f88e892d7aac",
   "metadata": {},
   "outputs": [],
   "source": [
    "d['endereco'] = { 'rua' : 'Baraunas', 'numero' : 356 }\n",
    "d                  "
   ]
  },
  {
   "cell_type": "code",
   "execution_count": null,
   "id": "5328b0b6-7b6d-426f-87db-c2c18084f964",
   "metadata": {},
   "outputs": [],
   "source": [
    "d['idade']"
   ]
  },
  {
   "cell_type": "code",
   "execution_count": null,
   "id": "40e3caa0-1e8b-41d3-ab8c-cbaa44512906",
   "metadata": {},
   "outputs": [],
   "source": [
    "d['endereco']"
   ]
  },
  {
   "cell_type": "code",
   "execution_count": null,
   "id": "ef8c66f3-8370-44e7-9640-8d32a3314f68",
   "metadata": {},
   "outputs": [],
   "source": [
    "d['endereco']['numero']"
   ]
  },
  {
   "cell_type": "code",
   "execution_count": null,
   "id": "31558668-1f71-41b7-9e0d-5aa6f9b1b972",
   "metadata": {},
   "outputs": [],
   "source": [
    "d = {\n",
    "    'nome': 'Debora',\n",
    "    'idade': 23,\n",
    "    'endereco': {\n",
    "        'rua': 'Baraunas', \n",
    "        'numero': 356}\n",
    "}"
   ]
  },
  {
   "cell_type": "code",
   "execution_count": null,
   "id": "a3721a23-f470-4a17-88d4-90943f6168ee",
   "metadata": {},
   "outputs": [],
   "source": [
    "twitter = {\n",
    "      \"text\": 'In preparation for the NFL lockout, I will be spending twice as much time analyzing my fantasy baseball team during ...', \n",
    "      \"truncated\": True, \n",
    "      \"favorited\": False, \n",
    "      \"source\": \"<a href=\\\"http://twitter.com/\\\" rel=\\\"nofollow\\\">Twitter for iPhone</a>\", \n",
    "      \"id_str\": \"54691802283900928\", \n",
    "      \"entities\": {\n",
    "            \"user_mentions\": [\n",
    "                  {\n",
    "                        \"indices\": [\n",
    "                              3, \n",
    "                              19\n",
    "                        ], \n",
    "                        \"screen_name\": \"PostGradProblem\", \n",
    "                        \"id_str\": \"271572434\", \n",
    "                        \"name\": \"PostGradProblems\", \n",
    "                        \"id\": 271572434\n",
    "                  }\n",
    "            ], \n",
    "            \"urls\": [ ], \n",
    "            \"hashtags\": [ ]\n",
    "      }, \n",
    "\n",
    "      \"retweet_count\": 4, \n",
    "      \"created_at\": \"Sun Apr 03 23:48:36 +0000 2011\", \n",
    "      \"retweeted_status\": {\n",
    "            \"text\": \"In preparation for the NFL lockout, I will be spending twice as much time analyzing my fantasy baseball team during company time. #PGP\", \n",
    "            \"source\": \"<a href=\\\"http://www.hootsuite.com\\\" rel=\\\"nofollow\\\">HootSuite</a>\", \n",
    "                         \"indices\": [\n",
    "                                    130, \n",
    "                                    134\n",
    "                              ]\n",
    "                        }\n",
    "      }\n",
    "           \n",
    "      \n",
    "  "
   ]
  },
  {
   "cell_type": "code",
   "execution_count": null,
   "id": "b060466e-f587-4525-bafa-2c1badd19366",
   "metadata": {},
   "outputs": [],
   "source": [
    "twitter"
   ]
  },
  {
   "cell_type": "code",
   "execution_count": null,
   "id": "f2959650-07c0-43bc-8742-6cd330527ae7",
   "metadata": {},
   "outputs": [],
   "source": [
    "twitter['text']"
   ]
  },
  {
   "cell_type": "code",
   "execution_count": null,
   "id": "e00fa3c6-7d64-4258-ad6f-a3ef14c5504b",
   "metadata": {},
   "outputs": [],
   "source": [
    "a = twitter['created_at']\n",
    "a"
   ]
  },
  {
   "cell_type": "code",
   "execution_count": null,
   "id": "f9bf2546-0eab-485c-8e82-2c859ff4dfde",
   "metadata": {},
   "outputs": [],
   "source": [
    "type(a)"
   ]
  },
  {
   "cell_type": "code",
   "execution_count": null,
   "id": "afb769e2-ba2d-4b41-b81d-2a39fa4cce0e",
   "metadata": {},
   "outputs": [],
   "source": [
    "a = a.split()"
   ]
  },
  {
   "cell_type": "code",
   "execution_count": null,
   "id": "8fda7967-796b-473c-8d28-03821398005a",
   "metadata": {},
   "outputs": [],
   "source": [
    "a"
   ]
  },
  {
   "cell_type": "code",
   "execution_count": null,
   "id": "89d4fe6c-4224-4351-a68e-28d0b15b637e",
   "metadata": {},
   "outputs": [],
   "source": [
    "hora = a[3]\n",
    "hora"
   ]
  },
  {
   "cell_type": "code",
   "execution_count": null,
   "id": "911562a6-7525-4a48-ae39-55b4a577dcac",
   "metadata": {},
   "outputs": [],
   "source": [
    "l = hora.split(':')\n",
    "l"
   ]
  },
  {
   "cell_type": "code",
   "execution_count": null,
   "id": "de71ff21-bad4-4d84-a63f-e9848e967b1f",
   "metadata": {},
   "outputs": [],
   "source": [
    "hora = l[0]\n",
    "m = l[1]\n",
    "s = l[2]"
   ]
  },
  {
   "cell_type": "code",
   "execution_count": null,
   "id": "b726ebf7-d529-4d25-aefe-7645b872fcaf",
   "metadata": {},
   "outputs": [],
   "source": [
    "print(hora, m, s)"
   ]
  },
  {
   "cell_type": "code",
   "execution_count": null,
   "id": "9509da78-1764-4d72-bc9e-2da686e13ae0",
   "metadata": {},
   "outputs": [],
   "source": [
    "h, m, s = hora.split(':')"
   ]
  },
  {
   "cell_type": "code",
   "execution_count": null,
   "id": "5749c671-7052-4848-9629-11c4f7f79dc4",
   "metadata": {},
   "outputs": [],
   "source": [
    "hora"
   ]
  },
  {
   "cell_type": "code",
   "execution_count": null,
   "id": "ec1ed42e-4679-489a-95b1-efcd4c1202a4",
   "metadata": {},
   "outputs": [],
   "source": [
    "h, m, s"
   ]
  },
  {
   "cell_type": "code",
   "execution_count": null,
   "id": "a8d886a7-700e-4ddd-841e-f900b4b2ea71",
   "metadata": {
    "scrolled": true
   },
   "outputs": [],
   "source": [
    "twitter"
   ]
  },
  {
   "cell_type": "code",
   "execution_count": null,
   "id": "35a0196b-7b51-46be-bd45-7b5f5a682439",
   "metadata": {},
   "outputs": [],
   "source": [
    "twitter['retweeted_status']"
   ]
  },
  {
   "cell_type": "code",
   "execution_count": null,
   "id": "4d7a0669-dedd-4320-88ee-5deba89156af",
   "metadata": {},
   "outputs": [],
   "source": [
    "twitter['retweeted_status']['text']"
   ]
  },
  {
   "cell_type": "code",
   "execution_count": null,
   "id": "0b47c561-ab59-4b10-a80a-008254209f18",
   "metadata": {},
   "outputs": [],
   "source": []
  },
  {
   "cell_type": "code",
   "execution_count": null,
   "id": "131d98a9-a369-4f31-b25e-9451f434281c",
   "metadata": {},
   "outputs": [],
   "source": [
    "d"
   ]
  },
  {
   "cell_type": "code",
   "execution_count": null,
   "id": "c5b1771a-0f0c-4f31-be84-41cbe8a82ee0",
   "metadata": {},
   "outputs": [],
   "source": [
    "d.keys()"
   ]
  },
  {
   "cell_type": "code",
   "execution_count": null,
   "id": "e052e983-c52c-4c74-8339-c5645323e164",
   "metadata": {},
   "outputs": [],
   "source": [
    "d.values()"
   ]
  },
  {
   "cell_type": "code",
   "execution_count": null,
   "id": "aee5585e-6d93-4d29-9c0c-dc00d0938610",
   "metadata": {},
   "outputs": [],
   "source": [
    "d.items()"
   ]
  },
  {
   "cell_type": "code",
   "execution_count": null,
   "id": "652f4829-c78b-4853-a148-8eb95ed7e459",
   "metadata": {},
   "outputs": [],
   "source": [
    "for key in d.keys():\n",
    "    print(key,d[key])  "
   ]
  },
  {
   "cell_type": "code",
   "execution_count": null,
   "id": "a094cea8-09bf-4980-8b98-d149503c695f",
   "metadata": {},
   "outputs": [],
   "source": [
    "# set - conjuto"
   ]
  },
  {
   "cell_type": "code",
   "execution_count": null,
   "id": "95685932-4b3e-455b-b4c7-7cd8ef3d1795",
   "metadata": {},
   "outputs": [],
   "source": [
    "l = [2, 3, 4, 4, 6, 7, 7, 8, 4, 8, 9, 2    ]\n",
    "l"
   ]
  },
  {
   "cell_type": "code",
   "execution_count": null,
   "id": "905e96bf-f6d4-414b-b6e5-4cdab4271fbd",
   "metadata": {},
   "outputs": [],
   "source": [
    "set(l)"
   ]
  },
  {
   "cell_type": "markdown",
   "id": "a37df4ab-b754-4664-a47a-5580d22e3e86",
   "metadata": {},
   "source": [
    "# Funcao"
   ]
  },
  {
   "cell_type": "code",
   "execution_count": null,
   "id": "57347493-3b84-4338-8bd8-2e96ba61a96a",
   "metadata": {},
   "outputs": [],
   "source": [
    "def soma(x,y):\n",
    "    z = x + y\n",
    "    return z"
   ]
  },
  {
   "cell_type": "code",
   "execution_count": null,
   "id": "14a69ba2-1559-4831-98d9-38acd56e13a2",
   "metadata": {},
   "outputs": [],
   "source": [
    "x = soma(9,11)\n",
    "x"
   ]
  },
  {
   "cell_type": "code",
   "execution_count": null,
   "id": "3ea8bdf0-64bc-4406-a452-a4ae5437e3c5",
   "metadata": {},
   "outputs": [],
   "source": [
    "l = ['rua', 'Baraunas', 'numero', 356]\n",
    "l"
   ]
  },
  {
   "cell_type": "code",
   "execution_count": null,
   "id": "acf415a5-82d7-431f-bd7e-aac83d8a810a",
   "metadata": {},
   "outputs": [],
   "source": [
    "list(enumerate(l))"
   ]
  },
  {
   "cell_type": "code",
   "execution_count": null,
   "id": "09d38a2c-1249-4ef2-9af5-883af656be20",
   "metadata": {},
   "outputs": [],
   "source": [
    "for pos, elem in enumerate(l):\n",
    "    print(pos+1, elem)"
   ]
  },
  {
   "cell_type": "code",
   "execution_count": null,
   "id": "b97d8de1-5ab0-478f-9af6-243306e98daa",
   "metadata": {},
   "outputs": [],
   "source": [
    "def pot(x):\n",
    "    return x * x"
   ]
  },
  {
   "cell_type": "code",
   "execution_count": null,
   "id": "6e5a2101-5e93-40cb-ba7a-753a6e2451b6",
   "metadata": {},
   "outputs": [],
   "source": [
    "pot(3)"
   ]
  },
  {
   "cell_type": "code",
   "execution_count": null,
   "id": "01d9324d-26f3-4ec1-84da-b8f043866896",
   "metadata": {},
   "outputs": [],
   "source": [
    "pot(7)"
   ]
  },
  {
   "cell_type": "markdown",
   "id": "0e4352d1-a058-434a-998c-5fa994768455",
   "metadata": {},
   "source": [
    "# Aplicar uma função a uma lista de valores - map"
   ]
  },
  {
   "cell_type": "code",
   "execution_count": null,
   "id": "cbdac14c-9815-4f88-a600-58b6e5ed2678",
   "metadata": {},
   "outputs": [],
   "source": [
    "map(pot, [ 2, 3, 4])"
   ]
  },
  {
   "cell_type": "code",
   "execution_count": null,
   "id": "a969ba52-5f1d-4966-a92c-350f051a9d2a",
   "metadata": {},
   "outputs": [],
   "source": [
    "list(map(pot, [ 4, 10, -9]))"
   ]
  },
  {
   "cell_type": "markdown",
   "id": "0cc04bf6-5820-4dd0-b980-ab01953b8e32",
   "metadata": {},
   "source": [
    "# dicionario usando map"
   ]
  },
  {
   "cell_type": "code",
   "execution_count": 33,
   "id": "803e681c-8328-4967-abac-0c51f5d49890",
   "metadata": {},
   "outputs": [
    {
     "data": {
      "text/plain": [
       "{'sim': 1, 'nao': 0}"
      ]
     },
     "execution_count": 33,
     "metadata": {},
     "output_type": "execute_result"
    }
   ],
   "source": [
    "d = {'sim': 1,\n",
    "     'nao': 0}\n",
    "d"
   ]
  },
  {
   "cell_type": "code",
   "execution_count": 34,
   "id": "047a145c-0883-4061-8739-857d66c6e270",
   "metadata": {},
   "outputs": [],
   "source": [
    "diabetes = [ 'nao', 'nao', 'sim', 'sim', 'sim',  'nao']"
   ]
  },
  {
   "cell_type": "code",
   "execution_count": 35,
   "id": "f416a14e-ba65-4f6a-b08e-16eef735952a",
   "metadata": {},
   "outputs": [
    {
     "name": "stdout",
     "output_type": "stream",
     "text": [
      "['nao', 'nao', 'sim', 'sim', 'sim', 'nao']\n"
     ]
    }
   ],
   "source": [
    "print(diabetes)"
   ]
  },
  {
   "cell_type": "code",
   "execution_count": 36,
   "id": "3e2a2e80-d88c-4905-998d-95a080db5f1e",
   "metadata": {},
   "outputs": [
    {
     "data": {
      "text/plain": [
       "['nao', 'nao', 'sim', 'sim', 'sim', 'nao']"
      ]
     },
     "execution_count": 36,
     "metadata": {},
     "output_type": "execute_result"
    }
   ],
   "source": [
    "list(diabetes)"
   ]
  },
  {
   "cell_type": "code",
   "execution_count": 37,
   "id": "04c34f4f-2606-4915-b8bc-b05e1a9ea39d",
   "metadata": {},
   "outputs": [
    {
     "data": {
      "text/plain": [
       "[0, 0, 1, 1, 1, 0]"
      ]
     },
     "execution_count": 37,
     "metadata": {},
     "output_type": "execute_result"
    }
   ],
   "source": [
    "l = map(lambda x : d[x], diabetes)\n",
    "list(l)"
   ]
  },
  {
   "cell_type": "code",
   "execution_count": 39,
   "id": "ed1ff077-3bc6-4f66-8980-bd4a2bd5404f",
   "metadata": {},
   "outputs": [],
   "source": [
    "def converte(x):\n",
    "    return d[x]"
   ]
  },
  {
   "cell_type": "code",
   "execution_count": 43,
   "id": "c4e99fc8-4772-4549-8a99-ab4da33907f6",
   "metadata": {},
   "outputs": [
    {
     "data": {
      "text/plain": [
       "[0, 0, 1, 1, 1, 0]"
      ]
     },
     "execution_count": 43,
     "metadata": {},
     "output_type": "execute_result"
    }
   ],
   "source": [
    "l = map(converte, diabetes)\n",
    "list(l)"
   ]
  },
  {
   "cell_type": "code",
   "execution_count": 44,
   "id": "c8bd6cc3-bc9f-46ee-89e9-08d2c61e720a",
   "metadata": {},
   "outputs": [
    {
     "data": {
      "text/plain": [
       "[]"
      ]
     },
     "execution_count": 44,
     "metadata": {},
     "output_type": "execute_result"
    }
   ],
   "source": [
    "list(l)"
   ]
  },
  {
   "cell_type": "code",
   "execution_count": 45,
   "id": "c0620387-498a-4997-bbc6-61d984d3e677",
   "metadata": {},
   "outputs": [
    {
     "data": {
      "text/plain": [
       "[0, 0, 1, 1, 1, 0]"
      ]
     },
     "execution_count": 45,
     "metadata": {},
     "output_type": "execute_result"
    }
   ],
   "source": [
    "k = [0, 0, 1, 1, 1, 0]\n",
    "k"
   ]
  },
  {
   "cell_type": "code",
   "execution_count": 46,
   "id": "960e6db8-8d3e-4d6f-a22f-d5cdd3b9ed06",
   "metadata": {},
   "outputs": [
    {
     "data": {
      "text/plain": [
       "{'sim': 1, 'nao': 0}"
      ]
     },
     "execution_count": 46,
     "metadata": {},
     "output_type": "execute_result"
    }
   ],
   "source": [
    "d = {'sim': 1,\n",
    "     'nao': 0}\n",
    "d"
   ]
  },
  {
   "cell_type": "code",
   "execution_count": 48,
   "id": "f21d332c-87ef-4354-87e0-07535a772ca9",
   "metadata": {},
   "outputs": [
    {
     "data": {
      "text/plain": [
       "dict_items([('sim', 1), ('nao', 0)])"
      ]
     },
     "execution_count": 48,
     "metadata": {},
     "output_type": "execute_result"
    }
   ],
   "source": [
    "d.items()"
   ]
  },
  {
   "cell_type": "code",
   "execution_count": 50,
   "id": "7f6d7fc0-6a3b-4f10-b2a1-00639be06b92",
   "metadata": {},
   "outputs": [
    {
     "name": "stdout",
     "output_type": "stream",
     "text": [
      "sim 1\n",
      "nao 0\n"
     ]
    },
    {
     "data": {
      "text/plain": [
       "{1: 'sim', 0: 'nao'}"
      ]
     },
     "execution_count": 50,
     "metadata": {},
     "output_type": "execute_result"
    }
   ],
   "source": [
    "dinv = {}\n",
    "for chave, valor in d.items():\n",
    "    print(chave,valor)\n",
    "    dinv[valor] = chave\n",
    "    \n",
    "dinv"
   ]
  },
  {
   "cell_type": "code",
   "execution_count": 51,
   "id": "df4e1c61-12c6-48b5-9768-4e2426feeb11",
   "metadata": {},
   "outputs": [
    {
     "data": {
      "text/plain": [
       "{'sim': 1, 'nao': 0}"
      ]
     },
     "execution_count": 51,
     "metadata": {},
     "output_type": "execute_result"
    }
   ],
   "source": [
    "d"
   ]
  },
  {
   "cell_type": "code",
   "execution_count": null,
   "id": "fec2c78f-b042-459b-b856-7537bc78abca",
   "metadata": {},
   "outputs": [],
   "source": []
  },
  {
   "cell_type": "markdown",
   "id": "3cdc1715-ad51-41a8-a91f-b9dc9fc0189c",
   "metadata": {},
   "source": [
    "## Exercício: Fazer o inverso\n",
    "\n",
    "valores = [0, 0, 1, 1, 1, 0] <br>\n",
    "#l = map(lambda x : d[x], valores) <br>\n",
    "#list(l)"
   ]
  },
  {
   "cell_type": "code",
   "execution_count": null,
   "id": "17aca2ac-ad57-4b5e-bc41-c0b1d8faf89d",
   "metadata": {},
   "outputs": [],
   "source": [
    "# .map(d)"
   ]
  },
  {
   "cell_type": "code",
   "execution_count": null,
   "id": "d37afbd2-812f-4e78-bc83-70642ea64f3e",
   "metadata": {},
   "outputs": [],
   "source": [
    "#map(d,[0,0,1,1])"
   ]
  },
  {
   "cell_type": "code",
   "execution_count": null,
   "id": "e28ab622-e3e5-4a12-90cb-c0dc2cd4a0c6",
   "metadata": {},
   "outputs": [],
   "source": [
    "# Função Lambda"
   ]
  },
  {
   "cell_type": "code",
   "execution_count": null,
   "id": "e0195a3b-e674-44cf-b46c-1f25c922365f",
   "metadata": {},
   "outputs": [],
   "source": [
    "# método apply"
   ]
  },
  {
   "cell_type": "code",
   "execution_count": null,
   "id": "e4cefbe2-c798-4fa9-9232-014e6165a85a",
   "metadata": {},
   "outputs": [],
   "source": [
    "# método map"
   ]
  },
  {
   "cell_type": "code",
   "execution_count": null,
   "id": "d35af1d1-7554-4ea7-9a44-f510e1f7f3d2",
   "metadata": {},
   "outputs": [],
   "source": [
    "def pot(x):\n",
    "    return x * x"
   ]
  },
  {
   "cell_type": "code",
   "execution_count": null,
   "id": "c1faae60-187d-43d1-9853-e39210268894",
   "metadata": {},
   "outputs": [],
   "source": [
    "pot(3)"
   ]
  },
  {
   "cell_type": "code",
   "execution_count": null,
   "id": "804bc753-911b-4c42-baed-8b2fddc0f78e",
   "metadata": {},
   "outputs": [],
   "source": [
    "pot(6)"
   ]
  },
  {
   "cell_type": "code",
   "execution_count": null,
   "id": "fdd8bc93-e073-4928-b64c-6241496506a6",
   "metadata": {},
   "outputs": [],
   "source": [
    "p = lambda x : x * x"
   ]
  },
  {
   "cell_type": "code",
   "execution_count": null,
   "id": "556a8674-2c94-4231-beb0-06a78568a5c6",
   "metadata": {},
   "outputs": [],
   "source": [
    "p(4)"
   ]
  },
  {
   "cell_type": "code",
   "execution_count": null,
   "id": "e3808cda-a45d-4bb8-9ef6-11858e73ab10",
   "metadata": {},
   "outputs": [],
   "source": [
    "l1 = [2, 4, 6]\n",
    "l1"
   ]
  },
  {
   "cell_type": "code",
   "execution_count": null,
   "id": "9a66b3f5-b4e6-4fae-84b7-da9e8087d6f2",
   "metadata": {},
   "outputs": [],
   "source": [
    "l2 = ['a', 'b', 'c']\n",
    "l2"
   ]
  },
  {
   "cell_type": "code",
   "execution_count": null,
   "id": "772e17b0-77de-4a61-83c5-2109d7b360a6",
   "metadata": {},
   "outputs": [],
   "source": [
    "list(zip(l1, l2))"
   ]
  },
  {
   "cell_type": "markdown",
   "id": "5ebf9552-fe48-47e8-88e1-e0db81438878",
   "metadata": {},
   "source": [
    "# DataFrames"
   ]
  },
  {
   "cell_type": "code",
   "execution_count": null,
   "id": "b67b44f7-2f94-48bf-bee9-13fab284b086",
   "metadata": {},
   "outputs": [],
   "source": [
    "import pandas as pd"
   ]
  },
  {
   "cell_type": "code",
   "execution_count": null,
   "id": "106d2b51-65c0-4756-bbb5-562198cea522",
   "metadata": {},
   "outputs": [],
   "source": [
    "df = pd.DataFrame()\n",
    "df"
   ]
  },
  {
   "cell_type": "code",
   "execution_count": null,
   "id": "ae08fd0f-7082-4515-93f5-3f0dc3edf404",
   "metadata": {},
   "outputs": [],
   "source": [
    "Pais            Ouro    Prata    Bronze    Total\n",
    "China           94        76        50        220\n",
    "Grã-Bretanha    49        44        31        124\n",
    "Estados Unidos  36        42        27        105\n",
    "Países Baixos    27        17        12        56\n",
    "Brasil            25        26        38        89"
   ]
  },
  {
   "cell_type": "code",
   "execution_count": null,
   "id": "6dc1fe76-4078-47c2-9b1a-d9c311b4c264",
   "metadata": {},
   "outputs": [],
   "source": [
    "df['Pais'] = ['China', 'Grã-Bretanha', 'Estados Unidos', 'Países Baixos', 'Brasil']"
   ]
  },
  {
   "cell_type": "code",
   "execution_count": null,
   "id": "552c2894-c20f-4095-abaa-022849b9fc1e",
   "metadata": {},
   "outputs": [],
   "source": [
    "df"
   ]
  },
  {
   "cell_type": "code",
   "execution_count": null,
   "id": "9bdc22f8-ab63-410d-a837-04f9a49c3d37",
   "metadata": {},
   "outputs": [],
   "source": [
    "df['Ouro'] = [ 94, 49, 36, 27, 25 ]"
   ]
  },
  {
   "cell_type": "code",
   "execution_count": null,
   "id": "615e6449-912f-4961-8860-369f27ea5fb3",
   "metadata": {},
   "outputs": [],
   "source": [
    "df"
   ]
  },
  {
   "cell_type": "markdown",
   "id": "ecc9f0df-c9dd-415c-a003-8b91f10b6bb3",
   "metadata": {},
   "source": [
    "# Ler o DataFrame"
   ]
  },
  {
   "cell_type": "code",
   "execution_count": null,
   "id": "18d05e43-55b0-4cc8-9ea8-27d344b486e5",
   "metadata": {},
   "outputs": [],
   "source": [
    "#!pwd"
   ]
  },
  {
   "cell_type": "code",
   "execution_count": null,
   "id": "d98275ac-d11d-4628-80a0-53ff1729fbc2",
   "metadata": {},
   "outputs": [],
   "source": [
    "!ls ~/Downloads/*.csv"
   ]
  },
  {
   "cell_type": "code",
   "execution_count": null,
   "id": "fa97f6f6-e2f7-49b7-9e33-d51af2469e58",
   "metadata": {},
   "outputs": [],
   "source": [
    "!head /home/valencar/Downloads/dados.csv "
   ]
  },
  {
   "cell_type": "code",
   "execution_count": null,
   "id": "eb1ad976-5626-4952-8ed7-330d132b3881",
   "metadata": {},
   "outputs": [],
   "source": [
    "!head  /home/valencar/Downloads/brasil_cidades_corrigido.csv"
   ]
  },
  {
   "cell_type": "code",
   "execution_count": null,
   "id": "9a210642-710c-442b-9de4-c5ff259d93fb",
   "metadata": {},
   "outputs": [],
   "source": [
    "file = 'brasil_cidades_corrigido.csv'\n",
    "df = pd.read_csv(file, delimiter=';') # encoding='latin-1' ou 'utf-8'\n",
    "df.head()"
   ]
  },
  {
   "cell_type": "code",
   "execution_count": null,
   "id": "c0d51f3a-07e2-4910-9c41-361c3e4c47f5",
   "metadata": {},
   "outputs": [],
   "source": [
    "df.tail()"
   ]
  },
  {
   "cell_type": "code",
   "execution_count": null,
   "id": "835c4929-7bc9-4bbf-a95b-83ee5d02e0fe",
   "metadata": {},
   "outputs": [],
   "source": [
    "len(df)"
   ]
  },
  {
   "cell_type": "code",
   "execution_count": null,
   "id": "e4aef855-aba4-4b81-9ebf-60a1229a6ad8",
   "metadata": {},
   "outputs": [],
   "source": [
    "df.info()"
   ]
  },
  {
   "cell_type": "code",
   "execution_count": null,
   "id": "e327ebe6-8ef1-46bf-a908-6d3e31a032b6",
   "metadata": {},
   "outputs": [],
   "source": [
    "df.head()"
   ]
  },
  {
   "cell_type": "code",
   "execution_count": null,
   "id": "e3fdfab6-f0e5-4cc1-8f8d-9836e588b711",
   "metadata": {},
   "outputs": [],
   "source": [
    "pd.options.display.float_format = '{:,.3f}'.format"
   ]
  },
  {
   "cell_type": "code",
   "execution_count": null,
   "id": "5b8bc833-a451-457a-bd66-73de789e3b7f",
   "metadata": {},
   "outputs": [],
   "source": [
    "df.describe().T"
   ]
  },
  {
   "cell_type": "code",
   "execution_count": null,
   "id": "1bb2ebb7-aa7e-4dd4-a25d-000cc70e16ef",
   "metadata": {},
   "outputs": [],
   "source": [
    "import matplotlib.pyplot as plt\n",
    "import seaborn as sns"
   ]
  },
  {
   "cell_type": "code",
   "execution_count": null,
   "id": "46009953-68a1-46ab-a68f-1c40d6192cf3",
   "metadata": {},
   "outputs": [],
   "source": [
    "plt.rcParams[\"figure.figsize\"] = (7,4)"
   ]
  },
  {
   "cell_type": "code",
   "execution_count": null,
   "id": "48cf7dbe-7f07-47a9-bcc3-b859ec2f2f88",
   "metadata": {},
   "outputs": [],
   "source": [
    "sns.distplot(df.PIB)"
   ]
  },
  {
   "cell_type": "code",
   "execution_count": null,
   "id": "8dfc7e26-3b67-48f4-a3cf-986aaeb9c1db",
   "metadata": {},
   "outputs": [],
   "source": [
    "sns.distplot(df.IDHM)"
   ]
  },
  {
   "cell_type": "code",
   "execution_count": null,
   "id": "e6960ce4-882c-48f1-b371-0c3d8646d224",
   "metadata": {},
   "outputs": [],
   "source": [
    "df.head()"
   ]
  },
  {
   "cell_type": "markdown",
   "id": "ad6467a0-a84a-4a69-9a3b-16d8912af5bd",
   "metadata": {},
   "source": [
    "# Condicional - Pandas - Dataframe"
   ]
  },
  {
   "cell_type": "code",
   "execution_count": null,
   "id": "23c14b44-edfc-4eee-9471-a2fa1455968f",
   "metadata": {},
   "outputs": [],
   "source": [
    "print(len(df))\n",
    "\n",
    "df2 = df[ df.POPULACAO_ESTIMADA > 0 ]\n",
    "\n",
    "print(len(df2))\n",
    "print(len(df) - len(df2))"
   ]
  },
  {
   "cell_type": "code",
   "execution_count": null,
   "id": "6dee2b92-235d-4096-a613-8a438030854b",
   "metadata": {},
   "outputs": [],
   "source": [
    "69/5578 * 100"
   ]
  },
  {
   "cell_type": "code",
   "execution_count": null,
   "id": "5b4fb563-5180-41e8-bbed-71bc9aa4cc45",
   "metadata": {},
   "outputs": [],
   "source": [
    "df.sample(5)"
   ]
  },
  {
   "cell_type": "code",
   "execution_count": null,
   "id": "1fd5f83f-d7f5-4a79-8332-12d0504c3349",
   "metadata": {},
   "outputs": [],
   "source": [
    "dfpb = df [ df.ESTADO == 'PB' ]\n",
    "print(len(dfpb))\n",
    "dfpb.head()"
   ]
  },
  {
   "cell_type": "code",
   "execution_count": null,
   "id": "1c2a8187-cc92-44cc-a737-1d10630429b2",
   "metadata": {},
   "outputs": [],
   "source": [
    "cidades_pb = list(dfpb.CIDADE)\n",
    "print(cidades_pb)"
   ]
  },
  {
   "cell_type": "code",
   "execution_count": null,
   "id": "069e686d-1d1b-450a-94c5-29364a1c1dd5",
   "metadata": {},
   "outputs": [],
   "source": [
    "l = list(dfpb.CIDADE)\n",
    "l.sort\n",
    "l"
   ]
  },
  {
   "cell_type": "code",
   "execution_count": null,
   "id": "8fcad620-9ec6-434c-9cee-e7ded93c0c03",
   "metadata": {},
   "outputs": [],
   "source": [
    "lw = [ x.lower() for x in l]\n",
    "len(lw)"
   ]
  },
  {
   "cell_type": "code",
   "execution_count": null,
   "id": "b97694e9-414c-4751-be71-5183125cdea5",
   "metadata": {},
   "outputs": [],
   "source": [
    "l2 = [ 1, 2, 4, 4, 5, 4 ]\n",
    "print('Elemento : Contagem')\n",
    "for elem in l2:\n",
    "    print(elem,' : ', l2.count(elem))"
   ]
  },
  {
   "cell_type": "code",
   "execution_count": null,
   "id": "01cb3d33-e649-454b-b3e5-c219f300ac0f",
   "metadata": {},
   "outputs": [],
   "source": [
    "for elem in lw:\n",
    "    if lw.count(elem) > 1:\n",
    "        print(elem)"
   ]
  },
  {
   "cell_type": "code",
   "execution_count": null,
   "id": "437989a7-d862-4986-a01a-3bbff11d9fab",
   "metadata": {},
   "outputs": [],
   "source": [
    "[ x for x in lw if lw.count(x) > 1 ]"
   ]
  },
  {
   "cell_type": "code",
   "execution_count": null,
   "id": "cd910cd0-adc6-4637-98ed-37bfa95f2f43",
   "metadata": {},
   "outputs": [],
   "source": [
    "[ x for x in lw if [ x.lower() for x in l].count(x) > 1 ]"
   ]
  },
  {
   "cell_type": "markdown",
   "id": "8c893937-4453-4a89-81c1-00b6228e14e3",
   "metadata": {},
   "source": [
    "## Desabilita avisos (warnings)"
   ]
  },
  {
   "cell_type": "code",
   "execution_count": null,
   "id": "a33f7d56-78a0-4d76-a5f3-198ad527f517",
   "metadata": {},
   "outputs": [],
   "source": [
    "import warnings\n",
    "warnings.filterwarnings('ignore')\n",
    "warnings.simplefilter('ignore')"
   ]
  },
  {
   "cell_type": "code",
   "execution_count": null,
   "id": "e550e178-bbf9-418e-8769-e09508227ef7",
   "metadata": {},
   "outputs": [],
   "source": [
    "(dfpb [ (df.CIDADE == 'Sao Vicente do Serido') |  (df.CIDADE == 'Sao Vicente Do Serido')  ]).reset_index(drop=True)"
   ]
  },
  {
   "cell_type": "code",
   "execution_count": null,
   "id": "1e10ed46-dc3f-4467-b48c-f6b1e31fe6c8",
   "metadata": {},
   "outputs": [],
   "source": []
  }
 ],
 "metadata": {
  "kernelspec": {
   "display_name": "Python 3 (ipykernel)",
   "language": "python",
   "name": "python3"
  },
  "language_info": {
   "codemirror_mode": {
    "name": "ipython",
    "version": 3
   },
   "file_extension": ".py",
   "mimetype": "text/x-python",
   "name": "python",
   "nbconvert_exporter": "python",
   "pygments_lexer": "ipython3",
   "version": "3.12.4"
  }
 },
 "nbformat": 4,
 "nbformat_minor": 5
}
