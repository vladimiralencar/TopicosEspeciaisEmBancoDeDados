{
 "cells": [
  {
   "cell_type": "markdown",
   "id": "aa6e2694-0679-4837-bf02-6e3749efa5df",
   "metadata": {},
   "source": [
    "# Python para Análise de Dados"
   ]
  },
  {
   "cell_type": "code",
   "execution_count": 2,
   "id": "32d4e8c6-9342-4082-aa83-068e85d5361a",
   "metadata": {},
   "outputs": [
    {
     "data": {
      "text/plain": [
       "1"
      ]
     },
     "execution_count": 2,
     "metadata": {},
     "output_type": "execute_result"
    }
   ],
   "source": [
    "a = 1\n",
    "a"
   ]
  },
  {
   "cell_type": "code",
   "execution_count": 3,
   "id": "cec8da28-a034-49f6-b192-6d847e375aff",
   "metadata": {},
   "outputs": [
    {
     "name": "stdout",
     "output_type": "stream",
     "text": [
      "UEPB\n",
      "True\n"
     ]
    }
   ],
   "source": [
    "b,c = 'UEPB', True\n",
    "print(b)\n",
    "print(c)"
   ]
  },
  {
   "cell_type": "code",
   "execution_count": 7,
   "id": "35f84dd4-5373-4e72-946b-490f7237267f",
   "metadata": {},
   "outputs": [
    {
     "data": {
      "text/plain": [
       "3.14159"
      ]
     },
     "execution_count": 7,
     "metadata": {},
     "output_type": "execute_result"
    }
   ],
   "source": [
    "pi = 3.14159\n",
    "pi"
   ]
  },
  {
   "cell_type": "code",
   "execution_count": 9,
   "id": "b887cc93-64a1-4acc-8977-265ba633d367",
   "metadata": {},
   "outputs": [
    {
     "name": "stdout",
     "output_type": "stream",
     "text": [
      "['__add__', '__class__', '__contains__', '__delattr__', '__dir__', '__doc__', '__eq__', '__format__', '__ge__', '__getattribute__', '__getitem__', '__getnewargs__', '__getstate__', '__gt__', '__hash__', '__init__', '__init_subclass__', '__iter__', '__le__', '__len__', '__lt__', '__mod__', '__mul__', '__ne__', '__new__', '__reduce__', '__reduce_ex__', '__repr__', '__rmod__', '__rmul__', '__setattr__', '__sizeof__', '__str__', '__subclasshook__', 'capitalize', 'casefold', 'center', 'count', 'encode', 'endswith', 'expandtabs', 'find', 'format', 'format_map', 'index', 'isalnum', 'isalpha', 'isascii', 'isdecimal', 'isdigit', 'isidentifier', 'islower', 'isnumeric', 'isprintable', 'isspace', 'istitle', 'isupper', 'join', 'ljust', 'lower', 'lstrip', 'maketrans', 'partition', 'removeprefix', 'removesuffix', 'replace', 'rfind', 'rindex', 'rjust', 'rpartition', 'rsplit', 'rstrip', 'split', 'splitlines', 'startswith', 'strip', 'swapcase', 'title', 'translate', 'upper', 'zfill']\n"
     ]
    }
   ],
   "source": [
    "metodos_string = dir(b)\n",
    "print(metodos_string)"
   ]
  },
  {
   "cell_type": "code",
   "execution_count": 12,
   "id": "be9a9eb2-eaed-4522-8677-cd0125af8696",
   "metadata": {},
   "outputs": [
    {
     "name": "stdout",
     "output_type": "stream",
     "text": [
      "\n",
      " \"text\": \"RT @PostGradProblem: In preparation for the NFL lockout, I will be spending twice as much time analyzing my fantasy baseball team during ...\",\n",
      "\"truncated\": true,\n",
      "\"in_reply_to_user_id\": null,\n",
      "\"in_reply_to_status_id\": null,\n",
      "\"favorited\": false,\n",
      "\"source\": \"<a href=\"http://twitter.com/\" rel=\"nofollow\">Twitter for iPhone</a>\", \n",
      "\n"
     ]
    }
   ],
   "source": [
    "texto =  '''\n",
    " \"text\": \"RT @PostGradProblem: In preparation for the NFL lockout, I will be spending twice as much time analyzing my fantasy baseball team during ...\",\n",
    "\"truncated\": true,\n",
    "\"in_reply_to_user_id\": null,\n",
    "\"in_reply_to_status_id\": null,\n",
    "\"favorited\": false,\n",
    "\"source\": \"<a href=\\\"http://twitter.com/\\\" rel=\\\"nofollow\\\">Twitter for iPhone</a>\", \n",
    "'''\n",
    "print(texto)"
   ]
  },
  {
   "cell_type": "code",
   "execution_count": 15,
   "id": "5dc7582c-d344-41a0-a6dc-400fc6ebc0da",
   "metadata": {},
   "outputs": [],
   "source": [
    "data = \"Thu Mar 24 19:45:44 +0000 2011\""
   ]
  },
  {
   "cell_type": "code",
   "execution_count": 16,
   "id": "a0ef8fba-af62-4498-91b1-7aca238b27c4",
   "metadata": {},
   "outputs": [
    {
     "data": {
      "text/plain": [
       "'Thu Mar 24 19:45:44 +0000 2011'"
      ]
     },
     "execution_count": 16,
     "metadata": {},
     "output_type": "execute_result"
    }
   ],
   "source": [
    "data"
   ]
  },
  {
   "cell_type": "code",
   "execution_count": 17,
   "id": "95639c60-1d15-4131-845a-fe687cfba6d5",
   "metadata": {},
   "outputs": [
    {
     "data": {
      "text/plain": [
       "str"
      ]
     },
     "execution_count": 17,
     "metadata": {},
     "output_type": "execute_result"
    }
   ],
   "source": [
    "type(data)"
   ]
  },
  {
   "cell_type": "code",
   "execution_count": 21,
   "id": "67a90572-29fe-4ba1-8d40-540367ba5e2d",
   "metadata": {},
   "outputs": [
    {
     "data": {
      "text/plain": [
       "['Thu', 'Mar', '24', '19:45:44', '+0000', '2011']"
      ]
     },
     "execution_count": 21,
     "metadata": {},
     "output_type": "execute_result"
    }
   ],
   "source": [
    "s = data.split()\n",
    "s"
   ]
  },
  {
   "cell_type": "code",
   "execution_count": 23,
   "id": "fed4edda-f594-4951-8121-e1dcb87d92d2",
   "metadata": {},
   "outputs": [
    {
     "data": {
      "text/plain": [
       "'19:45:44'"
      ]
     },
     "execution_count": 23,
     "metadata": {},
     "output_type": "execute_result"
    }
   ],
   "source": [
    "hora = s[3]\n",
    "hora"
   ]
  },
  {
   "cell_type": "code",
   "execution_count": 24,
   "id": "d8a0acd7-6c88-421d-8d23-c56927929a1f",
   "metadata": {},
   "outputs": [
    {
     "data": {
      "text/plain": [
       "['Thu', 'Mar', '24', '19:45:44', '+0000']"
      ]
     },
     "execution_count": 24,
     "metadata": {},
     "output_type": "execute_result"
    }
   ],
   "source": [
    "s[0:5] # fatiamento"
   ]
  },
  {
   "cell_type": "code",
   "execution_count": 26,
   "id": "ec93ee84-b7e7-42bc-93ee-d9d50f2efb56",
   "metadata": {},
   "outputs": [
    {
     "data": {
      "text/plain": [
       "'2011'"
      ]
     },
     "execution_count": 26,
     "metadata": {},
     "output_type": "execute_result"
    }
   ],
   "source": [
    "s[-1]"
   ]
  },
  {
   "cell_type": "code",
   "execution_count": 27,
   "id": "2cdbf4de-3d46-4d16-a30c-940b6a1d0071",
   "metadata": {},
   "outputs": [
    {
     "data": {
      "text/plain": [
       "6"
      ]
     },
     "execution_count": 27,
     "metadata": {},
     "output_type": "execute_result"
    }
   ],
   "source": [
    "len(s)"
   ]
  },
  {
   "cell_type": "code",
   "execution_count": 28,
   "id": "16bc822f-fc37-410f-8eee-264bdbcc6bd0",
   "metadata": {},
   "outputs": [
    {
     "data": {
      "text/plain": [
       "8"
      ]
     },
     "execution_count": 28,
     "metadata": {},
     "output_type": "execute_result"
    }
   ],
   "source": [
    "len(hora)"
   ]
  },
  {
   "cell_type": "code",
   "execution_count": 29,
   "id": "4bdb1670-5a9d-4e39-ab91-f13daf753414",
   "metadata": {
    "scrolled": true
   },
   "outputs": [
    {
     "name": "stdout",
     "output_type": "stream",
     "text": [
      "\n",
      " \"text\": \"RT @PostGradProblem: In preparation for the NFL lockout, I will be spending twice as much time analyzing my fantasy baseball team during ...\",\n",
      "\"truncated\": true,\n",
      "\"in_reply_to_user_id\": null,\n",
      "\"in_reply_to_status_id\": null,\n",
      "\"favorited\": false,\n",
      "\"source\": \"<a href=\"http://twitter.com/\" rel=\"nofollow\">Twitter for iPhone</a>\", \n",
      "\n"
     ]
    }
   ],
   "source": [
    "print(texto)"
   ]
  },
  {
   "cell_type": "code",
   "execution_count": 31,
   "id": "bd5147c0-62a8-4688-825b-167a2b48d1c4",
   "metadata": {},
   "outputs": [],
   "source": [
    "t = \"RT @PostGradProblem: In preparation for the NFL lockout, I will be spending twice as much time analyzing my fantasy baseball team during ...\""
   ]
  },
  {
   "cell_type": "code",
   "execution_count": 34,
   "id": "732ddb71-f67a-4453-94b1-36c6edb175e2",
   "metadata": {},
   "outputs": [
    {
     "name": "stdout",
     "output_type": "stream",
     "text": [
      "RT @PostGradProblem: In preparation for the NFL lockout, I will be spending twice as much time analyzing my fantasy baseball team during ...\n"
     ]
    }
   ],
   "source": [
    "print(t)"
   ]
  },
  {
   "cell_type": "code",
   "execution_count": 35,
   "id": "90a9d10f-feda-4f88-8ee7-1bb5eec0b8ed",
   "metadata": {},
   "outputs": [
    {
     "data": {
      "text/plain": [
       "str"
      ]
     },
     "execution_count": 35,
     "metadata": {},
     "output_type": "execute_result"
    }
   ],
   "source": [
    "type(t)"
   ]
  },
  {
   "cell_type": "code",
   "execution_count": null,
   "id": "298231eb-99bd-481f-bab6-68a46e70e62b",
   "metadata": {},
   "outputs": [],
   "source": [
    "t.replace"
   ]
  },
  {
   "cell_type": "code",
   "execution_count": 37,
   "id": "be7b06f3-e1c6-4150-a5ad-a57ac317583b",
   "metadata": {},
   "outputs": [
    {
     "data": {
      "text/plain": [
       "'RT PostGradProblem: In preparation for the NFL lockout I will be spending twice as much time analyzing my fantasy baseball team during '"
      ]
     },
     "execution_count": 37,
     "metadata": {},
     "output_type": "execute_result"
    }
   ],
   "source": [
    "t.replace('@', '').replace(',','').replace('.','')"
   ]
  },
  {
   "cell_type": "code",
   "execution_count": 38,
   "id": "cc001425-f991-4b27-b882-f4de41e8fa15",
   "metadata": {},
   "outputs": [
    {
     "name": "stdout",
     "output_type": "stream",
     "text": [
      "RT PostGradProblem: In preparation for the NFL lockout I will be spending twice as much time analyzing my fantasy baseball team during \n"
     ]
    }
   ],
   "source": [
    "t2 = t.replace('@', '').replace(',','').replace('.','')\n",
    "print(t2)"
   ]
  },
  {
   "cell_type": "code",
   "execution_count": 42,
   "id": "8ea761db-9a55-4317-9a7f-0d2ae0cf607f",
   "metadata": {},
   "outputs": [
    {
     "name": "stdout",
     "output_type": "stream",
     "text": [
      "['rt', 'postgradproblem:', 'in', 'preparation', 'for', 'the', 'nfl', 'lockout', 'i', 'will', 'be', 'spending', 'twice', 'as', 'much', 'time', 'analyzing', 'my', 'fantasy', 'baseball', 'team', 'during']\n"
     ]
    }
   ],
   "source": [
    "print(t2.lower().split())"
   ]
  },
  {
   "cell_type": "code",
   "execution_count": null,
   "id": "18199f77-fdb6-4a4a-bf17-f17c3dd8291d",
   "metadata": {},
   "outputs": [],
   "source": []
  },
  {
   "cell_type": "code",
   "execution_count": null,
   "id": "fa02b5fc-4b63-409d-982d-9ec3c4adf161",
   "metadata": {},
   "outputs": [],
   "source": []
  },
  {
   "cell_type": "code",
   "execution_count": null,
   "id": "6e404bb6-678c-41b1-86d2-67d7619a7d78",
   "metadata": {},
   "outputs": [],
   "source": []
  },
  {
   "cell_type": "code",
   "execution_count": null,
   "id": "19326afb-1a48-4dbe-9f44-6deb2dd039dd",
   "metadata": {},
   "outputs": [],
   "source": []
  },
  {
   "cell_type": "code",
   "execution_count": null,
   "id": "422b8720-5564-4b3b-b337-7ab5834c4e40",
   "metadata": {},
   "outputs": [],
   "source": []
  },
  {
   "cell_type": "code",
   "execution_count": null,
   "id": "430035a2-f1d2-4cdb-ad27-d3e2fbcd31bc",
   "metadata": {},
   "outputs": [],
   "source": []
  },
  {
   "cell_type": "code",
   "execution_count": null,
   "id": "8b6f369c-3424-4887-b981-3a4c61ea0772",
   "metadata": {},
   "outputs": [],
   "source": []
  },
  {
   "cell_type": "code",
   "execution_count": null,
   "id": "a691910b-fe1b-4f9c-94dc-43d3a5c03361",
   "metadata": {},
   "outputs": [],
   "source": []
  },
  {
   "cell_type": "code",
   "execution_count": null,
   "id": "07bc5e48-f046-47c5-9f61-d0921045f958",
   "metadata": {},
   "outputs": [],
   "source": []
  }
 ],
 "metadata": {
  "kernelspec": {
   "display_name": "Python 3 (ipykernel)",
   "language": "python",
   "name": "python3"
  },
  "language_info": {
   "codemirror_mode": {
    "name": "ipython",
    "version": 3
   },
   "file_extension": ".py",
   "mimetype": "text/x-python",
   "name": "python",
   "nbconvert_exporter": "python",
   "pygments_lexer": "ipython3",
   "version": "3.12.4"
  }
 },
 "nbformat": 4,
 "nbformat_minor": 5
}
