version https://git-lfs.github.com/spec/v1
oid sha256:5de7d3f50c8c14f6d943e75f5d102f171a2edb84652184f41459b348d28f2582
size 17190
