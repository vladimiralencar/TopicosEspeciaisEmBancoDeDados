{
 "cells": [
  {
   "cell_type": "markdown",
   "id": "59af9eec",
   "metadata": {},
   "source": [
    "# Modelo-Tranfer-Learning-para-Texto-19-setembro-2023"
   ]
  },
  {
   "cell_type": "code",
   "execution_count": 1,
   "id": "cba336de",
   "metadata": {},
   "outputs": [
    {
     "name": "stdout",
     "output_type": "stream",
     "text": [
      "ls: cannot access 'model.bin': No such file or directory\n",
      "CPU times: user 433 ms, sys: 136 ms, total: 569 ms\n",
      "Wall time: 1.43 s\n"
     ]
    }
   ],
   "source": [
    "%%time\n",
    "import fasttext\n",
    "from huggingface_hub import hf_hub_download\n",
    "\n",
    "model_path = hf_hub_download(repo_id=\"facebook/fasttext-language-identification\", filename=\"model.bin\")\n",
    "\n",
    "!ls -ilha model.bin"
   ]
  },
  {
   "cell_type": "code",
   "execution_count": 2,
   "id": "4638f45b",
   "metadata": {},
   "outputs": [
    {
     "name": "stdout",
     "output_type": "stream",
     "text": [
      "ls: cannot access 'model.bin': No such file or directory\r\n"
     ]
    }
   ],
   "source": [
    "!ls -ilha model.bin"
   ]
  },
  {
   "cell_type": "code",
   "execution_count": 3,
   "id": "4ed368e2",
   "metadata": {},
   "outputs": [
    {
     "name": "stderr",
     "output_type": "stream",
     "text": [
      "Warning : `load_model` does not return WordVectorModel or SupervisedModel any more, but a `FastText` object which is very similar.\n"
     ]
    },
    {
     "data": {
      "text/plain": [
       "(('__label__eng_Latn',), array([0.61224753]))"
      ]
     },
     "execution_count": 3,
     "metadata": {},
     "output_type": "execute_result"
    }
   ],
   "source": [
    "model = fasttext.load_model(model_path)\n",
    "model.predict(\"Hello, world!\")"
   ]
  },
  {
   "cell_type": "code",
   "execution_count": 4,
   "id": "949e1eaa",
   "metadata": {},
   "outputs": [
    {
     "data": {
      "text/plain": [
       "(('__label__eng_Latn',\n",
       "  '__label__vie_Latn',\n",
       "  '__label__nld_Latn',\n",
       "  '__label__pol_Latn',\n",
       "  '__label__deu_Latn'),\n",
       " array([0.61224753, 0.21323682, 0.09696738, 0.01359863, 0.01319415]))"
      ]
     },
     "execution_count": 4,
     "metadata": {},
     "output_type": "execute_result"
    }
   ],
   "source": [
    "model.predict(\"Hello, world!\", k=5)"
   ]
  },
  {
   "cell_type": "code",
   "execution_count": 5,
   "id": "4b3f0f70",
   "metadata": {},
   "outputs": [
    {
     "data": {
      "text/plain": [
       "(('__label__por_Latn',\n",
       "  '__label__pol_Latn',\n",
       "  '__label__ces_Latn',\n",
       "  '__label__eng_Latn',\n",
       "  '__label__slk_Latn'),\n",
       " array([0.32439861, 0.31737229, 0.08175872, 0.05844834, 0.05390108]))"
      ]
     },
     "execution_count": 5,
     "metadata": {},
     "output_type": "execute_result"
    }
   ],
   "source": [
    "model.predict(\"Alo Mundo!\", k=5)"
   ]
  },
  {
   "cell_type": "code",
   "execution_count": 6,
   "id": "a6fbe4d9",
   "metadata": {},
   "outputs": [
    {
     "data": {
      "text/plain": [
       "(('__label__nld_Latn',\n",
       "  '__label__eng_Latn',\n",
       "  '__label__swe_Latn',\n",
       "  '__label__vie_Latn',\n",
       "  '__label__hrv_Latn'),\n",
       " array([0.48759356, 0.25694406, 0.19600078, 0.02594826, 0.01517875]))"
      ]
     },
     "execution_count": 6,
     "metadata": {},
     "output_type": "execute_result"
    }
   ],
   "source": [
    "model.predict(\"Bonjour\", k=5)"
   ]
  },
  {
   "cell_type": "code",
   "execution_count": 7,
   "id": "e656682e",
   "metadata": {},
   "outputs": [
    {
     "name": "stdout",
     "output_type": "stream",
     "text": [
      "/home/valencar/Dropbox/AULAS-UEPB-2023/Alunos-UEPB-TopicosEspeciaisEmBancoDeDados/Python-Para-Analise-de-Dados/MANHA\r\n"
     ]
    }
   ],
   "source": [
    "!pwd"
   ]
  },
  {
   "cell_type": "code",
   "execution_count": null,
   "id": "e8f1293c",
   "metadata": {},
   "outputs": [],
   "source": []
  }
 ],
 "metadata": {
  "kernelspec": {
   "display_name": "Python 3 (ipykernel)",
   "language": "python",
   "name": "python3"
  },
  "language_info": {
   "codemirror_mode": {
    "name": "ipython",
    "version": 3
   },
   "file_extension": ".py",
   "mimetype": "text/x-python",
   "name": "python",
   "nbconvert_exporter": "python",
   "pygments_lexer": "ipython3",
   "version": "3.11.5"
  }
 },
 "nbformat": 4,
 "nbformat_minor": 5
}
