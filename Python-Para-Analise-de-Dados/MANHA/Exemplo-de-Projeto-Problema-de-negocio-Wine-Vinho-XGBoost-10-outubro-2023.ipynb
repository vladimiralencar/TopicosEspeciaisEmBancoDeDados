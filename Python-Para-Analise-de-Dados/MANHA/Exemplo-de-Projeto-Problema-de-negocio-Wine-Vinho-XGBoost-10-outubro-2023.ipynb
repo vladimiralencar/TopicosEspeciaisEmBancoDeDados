{
 "cells": [
  {
   "cell_type": "markdown",
   "id": "52da2406",
   "metadata": {},
   "source": [
    "## Exemplo-de-Projeto-Problema-de-negocio-Wine-Vinho-XGBoost-26-setembro-2023"
   ]
  },
  {
   "cell_type": "markdown",
   "id": "cf380f8a",
   "metadata": {},
   "source": [
    "## Prever a qualidade de vinho, dado as sua características aferidas"
   ]
  },
  {
   "cell_type": "code",
   "execution_count": null,
   "id": "b626c589",
   "metadata": {},
   "outputs": [],
   "source": [
    "import warnings\n",
    "warnings.filterwarnings('ignore')"
   ]
  },
  {
   "cell_type": "code",
   "execution_count": null,
   "id": "621b9e46",
   "metadata": {},
   "outputs": [],
   "source": [
    "!pip install -q huggingface_hub"
   ]
  },
  {
   "cell_type": "code",
   "execution_count": null,
   "id": "223d6e3a",
   "metadata": {},
   "outputs": [],
   "source": [
    "!pip install -q joblib"
   ]
  },
  {
   "cell_type": "code",
   "execution_count": null,
   "id": "4de9159a",
   "metadata": {},
   "outputs": [],
   "source": [
    "%%time\n",
    "from huggingface_hub import hf_hub_url, cached_download\n",
    "import joblib\n",
    "import pandas as pd\n",
    "\n",
    "REPO_ID = \"julien-c/wine-quality\"\n",
    "FILENAME = \"sklearn_model.joblib\"\n",
    "\n",
    "\n",
    "model = joblib.load(cached_download(\n",
    "    hf_hub_url(REPO_ID, FILENAME)\n",
    "))\n",
    "model"
   ]
  },
  {
   "cell_type": "code",
   "execution_count": null,
   "id": "1dfa35a5",
   "metadata": {},
   "outputs": [],
   "source": [
    "REPO_ID"
   ]
  },
  {
   "cell_type": "code",
   "execution_count": null,
   "id": "507d813d",
   "metadata": {},
   "outputs": [],
   "source": [
    "import pandas as pd\n",
    "import numpy as np"
   ]
  },
  {
   "cell_type": "code",
   "execution_count": null,
   "id": "af2ef5bc-2284-4685-94a6-8aa95f179b29",
   "metadata": {},
   "outputs": [],
   "source": [
    "url = 'https://raw.githubusercontent.com/vladimiralencar/Alunos-UEPB-TopicosEspeciaisEmBancoDeDados/master/Python-Para-Analise-de-Dados/MANHA/vinhos_classificacao.csv'\n",
    "url"
   ]
  },
  {
   "cell_type": "code",
   "execution_count": null,
   "id": "d7da30cd",
   "metadata": {},
   "outputs": [],
   "source": [
    "winedf = pd.read_csv(url)\n",
    "\n",
    "print(len(winedf))\n",
    "winedf.head()"
   ]
  },
  {
   "cell_type": "markdown",
   "id": "6476834a",
   "metadata": {},
   "source": [
    "## Montagem de Interface"
   ]
  },
  {
   "cell_type": "code",
   "execution_count": null,
   "id": "4a30c971",
   "metadata": {},
   "outputs": [],
   "source": [
    "df = winedf.copy()"
   ]
  },
  {
   "cell_type": "code",
   "execution_count": null,
   "id": "4cdc2c4d",
   "metadata": {},
   "outputs": [],
   "source": [
    "df.columns.values"
   ]
  },
  {
   "cell_type": "code",
   "execution_count": null,
   "id": "2c033071",
   "metadata": {},
   "outputs": [],
   "source": [
    "len(df.columns.values)"
   ]
  },
  {
   "cell_type": "code",
   "execution_count": null,
   "id": "cb6efeb3",
   "metadata": {},
   "outputs": [],
   "source": [
    "atributos = list(df.columns.values)\n",
    "print(atributos)"
   ]
  },
  {
   "cell_type": "code",
   "execution_count": null,
   "id": "63b4766e",
   "metadata": {},
   "outputs": [],
   "source": [
    "atributos.remove('quality')\n",
    "\n",
    "print(atributos)"
   ]
  },
  {
   "cell_type": "code",
   "execution_count": null,
   "id": "bd327164",
   "metadata": {},
   "outputs": [],
   "source": [
    "#st.sidebar.title(\"Informe os dados do vinho\")\n",
    "\n",
    "# guardar os valores\n",
    "atributos_valores = {}\n",
    "for atributo in atributos:\n",
    "    minimo, media, maximo = df[atributo].min(), df[atributo].mean(), df[atributo].max()\n",
    "    atributos_valores[atributo] = {\"min\": minimo, \"media\": media, \"max\": maximo }"
   ]
  },
  {
   "cell_type": "code",
   "execution_count": null,
   "id": "a439d7a8",
   "metadata": {},
   "outputs": [],
   "source": [
    "atributos_valores"
   ]
  },
  {
   "cell_type": "code",
   "execution_count": null,
   "id": "3e7636c1",
   "metadata": {},
   "outputs": [],
   "source": [
    "dict_map_classes_valor = {\n",
    "    3   :   0,   \n",
    "    4   :   1,  \n",
    "    5   :   2,\n",
    "    6   :   3,\n",
    "    7   :   4,\n",
    "    8   :   5\n",
    "}\n",
    "\n",
    "dict_map_valor_classe = {\n",
    "    0   :   3,   \n",
    "    1   :   4,  \n",
    "    2   :   5,\n",
    "    3   :   6,\n",
    "    4   :   7,\n",
    "    5   :   8\n",
    "}\n",
    "\n",
    "def converte_XGBoost_para_classes(x):\n",
    "    return dict_map_valor_classe [int(x)]\n",
    "\n",
    "def converte_para_XGBoost(x):\n",
    "    return dict_map_classes_valor[int(x)]"
   ]
  },
  {
   "cell_type": "code",
   "execution_count": null,
   "id": "41548118",
   "metadata": {},
   "outputs": [],
   "source": [
    "classificacao_vinho_XGBoost = 1\n",
    "\n",
    "if classificacao_vinho_XGBoost == 0:\n",
    "    classificacao_vinho = 3\n",
    "elif classificacao_vinho_XGBoost == 1:\n",
    "    classificacao_vinho = 4\n",
    "elif classificacao_vinho_XGBoost == 2:\n",
    "    classificacao_vinho = 5\n",
    "elif classificacao_vinho_XGBoost == 3:\n",
    "    classificacao_vinho = 6\n",
    "elif classificacao_vinho_XGBoost == 4:\n",
    "    classificacao_vinho = 7\n",
    "elif classificacao_vinho_XGBoost == 5:\n",
    "    classificacao_vinho = 8\n",
    "\n",
    "print(classificacao_vinho )"
   ]
  },
  {
   "cell_type": "code",
   "execution_count": null,
   "id": "1167ab4f",
   "metadata": {},
   "outputs": [],
   "source": [
    "def converte_clasficacao_XGBoost_para_classe(classificacao_vinho_XGBoost):\n",
    "    \n",
    "    if classificacao_vinho_XGBoost == 0:\n",
    "        classificacao_vinho = 3\n",
    "    elif classificacao_vinho_XGBoost == 1:\n",
    "        classificacao_vinho = 4\n",
    "    elif classificacao_vinho_XGBoost == 2:\n",
    "        classificacao_vinho = 5\n",
    "    elif classificacao_vinho_XGBoost == 3:\n",
    "        classificacao_vinho = 6\n",
    "    elif classificacao_vinho_XGBoost == 4:\n",
    "        classificacao_vinho = 7\n",
    "    elif classificacao_vinho_XGBoost == 5:\n",
    "        classificacao_vinho = 8\n",
    "\n",
    "    return classificacao_vinho "
   ]
  },
  {
   "cell_type": "code",
   "execution_count": null,
   "id": "de6addae",
   "metadata": {},
   "outputs": [],
   "source": [
    "classificacao_vinho_XGBoost = 1\n",
    "converte_clasficacao_XGBoost_para_classe(classificacao_vinho_XGBoost)"
   ]
  },
  {
   "cell_type": "code",
   "execution_count": null,
   "id": "775fa752",
   "metadata": {},
   "outputs": [],
   "source": [
    "classificacao_vinho_XGBoost = 0\n",
    "converte_clasficacao_XGBoost_para_classe(classificacao_vinho_XGBoost)"
   ]
  },
  {
   "cell_type": "code",
   "execution_count": null,
   "id": "d9a90e24",
   "metadata": {},
   "outputs": [],
   "source": [
    "classificacao_vinho_XGBoost = 5\n",
    "converte_clasficacao_XGBoost_para_classe(classificacao_vinho_XGBoost)"
   ]
  },
  {
   "cell_type": "code",
   "execution_count": null,
   "id": "4cb0b966",
   "metadata": {},
   "outputs": [],
   "source": []
  },
  {
   "cell_type": "code",
   "execution_count": null,
   "id": "08be9224",
   "metadata": {},
   "outputs": [],
   "source": [
    "classificacao_vinho = 0 # 0-5 -> Algortimo | (3-8) -> Saída na tela (Classficação - Classe do vinho)\n",
    "classificacao_vinho = np.array(classificacao_vinho).reshape(-1, 1)\n",
    "\n",
    "classificacao_vinho = list(map(converte_XGBoost_para_classes, classificacao_vinho))[0]"
   ]
  },
  {
   "cell_type": "code",
   "execution_count": null,
   "id": "65ddeecb",
   "metadata": {},
   "outputs": [],
   "source": []
  },
  {
   "cell_type": "code",
   "execution_count": null,
   "id": "446e2289",
   "metadata": {},
   "outputs": [],
   "source": []
  },
  {
   "cell_type": "code",
   "execution_count": null,
   "id": "a1996adb",
   "metadata": {},
   "outputs": [],
   "source": []
  },
  {
   "cell_type": "code",
   "execution_count": null,
   "id": "32cf2d20",
   "metadata": {},
   "outputs": [],
   "source": []
  },
  {
   "cell_type": "code",
   "execution_count": null,
   "id": "e3a7b227",
   "metadata": {},
   "outputs": [],
   "source": []
  },
  {
   "cell_type": "code",
   "execution_count": null,
   "id": "f6c95d0d-cc00-441b-afe6-87e39bd173fe",
   "metadata": {},
   "outputs": [],
   "source": [
    "winedf.to_csv('vinhos_classificacao.csv', index=False)\n",
    "!ls -ilah *.csv"
   ]
  },
  {
   "cell_type": "code",
   "execution_count": null,
   "id": "8625013d",
   "metadata": {},
   "outputs": [],
   "source": [
    "winedf.quality.unique()"
   ]
  },
  {
   "cell_type": "code",
   "execution_count": null,
   "id": "2a308fff",
   "metadata": {
    "scrolled": true
   },
   "outputs": [],
   "source": [
    "winedf.quality.value_counts()"
   ]
  },
  {
   "cell_type": "code",
   "execution_count": null,
   "id": "640ccd09",
   "metadata": {},
   "outputs": [],
   "source": [
    "winedf.quality.value_counts() / len(winedf) * 100"
   ]
  },
  {
   "cell_type": "markdown",
   "id": "b40e6d80-a411-4cf7-9677-50de8c95bd1b",
   "metadata": {},
   "source": [
    "# Criar dicionário de Classes - Mapeamento"
   ]
  },
  {
   "cell_type": "code",
   "execution_count": null,
   "id": "77438938-b94e-4735-a89e-39d496daee7b",
   "metadata": {},
   "outputs": [],
   "source": [
    "dict_map_classes_valor = {\n",
    "    3   :   0,   \n",
    "    4   :   1,  \n",
    "    5   :   2,\n",
    "    6   :   3,\n",
    "    7   :   4,\n",
    "    8   :   5\n",
    "}\n",
    "dict_map_classes_valor"
   ]
  },
  {
   "cell_type": "code",
   "execution_count": null,
   "id": "c26b5435-ba80-4108-94e6-4d7ec5328994",
   "metadata": {},
   "outputs": [],
   "source": [
    "dict_map_valor_classe = {\n",
    "    0   :   3,   \n",
    "    1   :   4,  \n",
    "    2   :   5,\n",
    "    3   :   6,\n",
    "    4   :   7,\n",
    "    5   :   8\n",
    "}\n",
    "dict_map_valor_classe    "
   ]
  },
  {
   "cell_type": "markdown",
   "id": "672bca82",
   "metadata": {},
   "source": [
    "# Separação dos dados de entrada (X) e dado de Saída (y)"
   ]
  },
  {
   "cell_type": "code",
   "execution_count": null,
   "id": "64e02bd7",
   "metadata": {},
   "outputs": [],
   "source": [
    "y = winedf[\"quality\"]\n",
    "X = winedf.drop([\"quality\"], axis=1)\n",
    "\n",
    "X.head()"
   ]
  },
  {
   "cell_type": "code",
   "execution_count": null,
   "id": "d4a37a35",
   "metadata": {},
   "outputs": [],
   "source": [
    "y.head()"
   ]
  },
  {
   "cell_type": "code",
   "execution_count": null,
   "id": "ed58f09e-0cdf-4e9b-855d-7138440a695a",
   "metadata": {},
   "outputs": [],
   "source": [
    "set(y)"
   ]
  },
  {
   "cell_type": "code",
   "execution_count": null,
   "id": "4431f126",
   "metadata": {},
   "outputs": [],
   "source": [
    "model"
   ]
  },
  {
   "cell_type": "code",
   "execution_count": null,
   "id": "09921cdb",
   "metadata": {},
   "outputs": [],
   "source": [
    "X[:3]"
   ]
  },
  {
   "cell_type": "code",
   "execution_count": null,
   "id": "c663b3e3",
   "metadata": {},
   "outputs": [],
   "source": [
    "labels = model.predict(X[:3])"
   ]
  },
  {
   "cell_type": "code",
   "execution_count": null,
   "id": "e862bd5c",
   "metadata": {},
   "outputs": [],
   "source": [
    "labels"
   ]
  },
  {
   "cell_type": "markdown",
   "id": "0c035244",
   "metadata": {},
   "source": [
    "# Vamos fazer o nosso modelo"
   ]
  },
  {
   "cell_type": "code",
   "execution_count": null,
   "id": "4bdce5ed",
   "metadata": {},
   "outputs": [],
   "source": [
    "X.head()"
   ]
  },
  {
   "cell_type": "markdown",
   "id": "3aa1ee5a-4260-443e-b6c4-4712ab3da132",
   "metadata": {},
   "source": [
    "## Separação dos dados em Treino e Teste"
   ]
  },
  {
   "cell_type": "code",
   "execution_count": null,
   "id": "1b40ea32-5212-4ed0-bd45-40d5b6c4728e",
   "metadata": {},
   "outputs": [],
   "source": [
    "from sklearn.model_selection import train_test_split\n",
    "\n",
    "x_train, x_test, y_train, y_test = train_test_split(X, y, test_size=0.2, random_state=65)\n",
    "\n",
    "x_train.shape, x_test.shape"
   ]
  },
  {
   "cell_type": "markdown",
   "id": "b9c882f7-1be3-4ccc-8bbf-f67c5c72a557",
   "metadata": {},
   "source": [
    "# O Algortimo XGBoost - Algoritmo Ensemble baseado em Árvores de Decisão"
   ]
  },
  {
   "cell_type": "code",
   "execution_count": null,
   "id": "a02a5c03-005b-48ce-b945-0f9fcd811c4d",
   "metadata": {},
   "outputs": [],
   "source": [
    "# Install\n",
    "!pip install -q xgboost"
   ]
  },
  {
   "cell_type": "code",
   "execution_count": null,
   "id": "af1e3d1e-1d74-4615-bedf-1989ecd783e1",
   "metadata": {},
   "outputs": [],
   "source": [
    "import xgboost as xgb"
   ]
  },
  {
   "cell_type": "markdown",
   "id": "cc49c19e-f9dc-4014-b992-19ab8dd1bbeb",
   "metadata": {},
   "source": [
    "# Preparação dos dados de Saída"
   ]
  },
  {
   "cell_type": "code",
   "execution_count": null,
   "id": "3ccad2c1-183e-45ea-90cc-3bc65b40b7be",
   "metadata": {},
   "outputs": [],
   "source": [
    "set(y_train)"
   ]
  },
  {
   "cell_type": "markdown",
   "id": "826b9380",
   "metadata": {},
   "source": [
    "# Treinar o modelo com dados de entrada (X) e atributo de saída (y)"
   ]
  },
  {
   "cell_type": "code",
   "execution_count": null,
   "id": "4331edeb-d737-4279-8a01-5327a0de5bbc",
   "metadata": {},
   "outputs": [],
   "source": [
    "import numpy as np"
   ]
  },
  {
   "cell_type": "markdown",
   "id": "640dbf26-127f-421a-bd6b-57db43297b68",
   "metadata": {},
   "source": [
    "## Funções para converter os Labels (y) para o Modelo XGBosst"
   ]
  },
  {
   "cell_type": "code",
   "execution_count": null,
   "id": "eb369990-8cc0-4580-a6b4-5a8c4c1243b6",
   "metadata": {},
   "outputs": [],
   "source": [
    "labels = [3, 4, 5, 6, 7, 8]\n",
    "print(labels)"
   ]
  },
  {
   "cell_type": "code",
   "execution_count": null,
   "id": "4fcf121d-cd23-4a70-abaa-eca59c3b17b7",
   "metadata": {},
   "outputs": [],
   "source": [
    "dict_map_classes_valor"
   ]
  },
  {
   "cell_type": "code",
   "execution_count": null,
   "id": "785859a5-8d0f-4324-af5d-ef4ba098c422",
   "metadata": {},
   "outputs": [],
   "source": [
    "def converte_para_XGBoost(x):\n",
    "    return dict_map_classes_valor[x]"
   ]
  },
  {
   "cell_type": "code",
   "execution_count": null,
   "id": "a24fadf1-580f-42dd-9bc1-86b7e48aa09f",
   "metadata": {},
   "outputs": [],
   "source": [
    "labels_convertidos = list(map(converte_para_XGBoost, labels))\n",
    "labels_convertidos"
   ]
  },
  {
   "cell_type": "code",
   "execution_count": null,
   "id": "fcefa4db-1c03-4777-a5d2-96d468ce166f",
   "metadata": {},
   "outputs": [],
   "source": [
    "def converte_XGBoost_para_classes(x):\n",
    "    return dict_map_valor_classe [x]"
   ]
  },
  {
   "cell_type": "code",
   "execution_count": null,
   "id": "905550ef-5100-4fb1-bd5d-81ac9f0e23a0",
   "metadata": {},
   "outputs": [],
   "source": [
    "labels_convertidos"
   ]
  },
  {
   "cell_type": "code",
   "execution_count": null,
   "id": "8c7c5fb9-3eff-4f08-b189-ad8c5c7adb6a",
   "metadata": {},
   "outputs": [],
   "source": [
    "labels_classes = list(map(converte_XGBoost_para_classes, labels_convertidos))\n",
    "labels_classes"
   ]
  },
  {
   "cell_type": "markdown",
   "id": "19e814e2-d9d7-4857-8614-7cb1fc5878c1",
   "metadata": {},
   "source": [
    "## Preparar os dados para o algoritmo XGBoost - Converter/transformar os dados "
   ]
  },
  {
   "cell_type": "code",
   "execution_count": null,
   "id": "388fe67a-a175-4746-84a5-2c775dbdaeb6",
   "metadata": {},
   "outputs": [],
   "source": [
    "# Preparar os dados para o algoritmo XGBoost - Converter/transformar os dados\n",
    "\n",
    "y_train_XGBoost = list(map(converte_para_XGBoost, y_train.values))\n",
    "print(y_train_XGBoost[:5])\n",
    "y_train_XGBoost = np.array(y_train_XGBoost)\n",
    "\n",
    "print(y_train[:5].values)\n",
    "print(y_train_XGBoost[:5])"
   ]
  },
  {
   "cell_type": "markdown",
   "id": "e9e94fb8-c908-4e71-998c-0738caea03eb",
   "metadata": {},
   "source": [
    "## Treinar o modelo XGboost"
   ]
  },
  {
   "cell_type": "code",
   "execution_count": null,
   "id": "2c6062b7-06ff-434c-b86b-415a46ecce77",
   "metadata": {},
   "outputs": [],
   "source": [
    "%%time\n",
    "learning_rate = 1.1   \n",
    "xgb_classifier = xgb.XGBClassifier(eta = learning_rate , n_estimators=200) # min_child_weight=6\n",
    "xgb_classifier.fit(x_train.values, y_train_XGBoost)\n",
    "xgb_classifier"
   ]
  },
  {
   "cell_type": "code",
   "execution_count": null,
   "id": "91fbe8d8-6c67-4f3d-9266-c9de2a893b9c",
   "metadata": {},
   "outputs": [],
   "source": [
    "# modelo pré-treinado\n",
    "model"
   ]
  },
  {
   "cell_type": "markdown",
   "id": "a8591ac4",
   "metadata": {},
   "source": [
    "## Comparando os 2 modelos - Métricas"
   ]
  },
  {
   "cell_type": "code",
   "execution_count": null,
   "id": "ec8571ec-e1a9-446a-9f3f-cda97f7878a2",
   "metadata": {},
   "outputs": [],
   "source": [
    "from sklearn.metrics import confusion_matrix, accuracy_score\n",
    "\n",
    "y_pred_XGBoost = xgb_classifier.predict(x_test)\n",
    "y_pred_XGBoost = list(map(converte_XGBoost_para_classes, y_pred_XGBoost))\n",
    "acc_XGBoost = accuracy_score(y_test, y_pred_XGBoost)\n",
    "print('Acurácia do modelo XGBoost:', acc_XGBoost)\n",
    "cm = confusion_matrix(y_test, y_pred_XGBoost)\n",
    "print('Matriz de Confusão - XGBoost:\\n',cm)\n",
    "\n",
    "print('============================================')\n",
    "\n",
    "y_prev_model_SVC = model.predict(x_test)\n",
    "acc_SVC = accuracy_score(y_test, y_prev_model_SVC)\n",
    "print('Acurácia do modelo SVC:', acc_SVC)\n",
    "cm = confusion_matrix(y_test, y_prev_model_SVC)\n",
    "print('Matriz de Confusão - Modelo Pré-treinado:\\n',cm)"
   ]
  },
  {
   "cell_type": "code",
   "execution_count": null,
   "id": "d4f1515d",
   "metadata": {},
   "outputs": [],
   "source": [
    "labels = model.predict(X[:3])\n",
    "labels"
   ]
  },
  {
   "cell_type": "code",
   "execution_count": null,
   "id": "8ec129d4-ef0b-4110-9789-30d26ac41df9",
   "metadata": {},
   "outputs": [],
   "source": [
    "labels = xgb_classifier.predict(X[:3])\n",
    "labels"
   ]
  },
  {
   "cell_type": "code",
   "execution_count": null,
   "id": "4df796be-f0a6-4690-b2f7-c2a034500654",
   "metadata": {},
   "outputs": [],
   "source": [
    "list(map(converte_XGBoost_para_classes, labels)) "
   ]
  },
  {
   "cell_type": "markdown",
   "id": "a456cc1f",
   "metadata": {},
   "source": [
    "## Dados do Modelo"
   ]
  },
  {
   "cell_type": "code",
   "execution_count": null,
   "id": "606a09cb-fcc5-4472-9de9-c99ff391900d",
   "metadata": {},
   "outputs": [],
   "source": [
    "modelo = xgb_classifier"
   ]
  },
  {
   "cell_type": "code",
   "execution_count": null,
   "id": "5e65026a",
   "metadata": {},
   "outputs": [],
   "source": [
    "modelo.get_params()"
   ]
  },
  {
   "cell_type": "code",
   "execution_count": null,
   "id": "294c2a1f",
   "metadata": {},
   "outputs": [],
   "source": [
    "modelo.get_metadata_routing()"
   ]
  },
  {
   "cell_type": "code",
   "execution_count": null,
   "id": "5580dc90",
   "metadata": {},
   "outputs": [],
   "source": [
    "dir(modelo)"
   ]
  },
  {
   "cell_type": "code",
   "execution_count": null,
   "id": "ae9a0515",
   "metadata": {},
   "outputs": [],
   "source": [
    "modelo.classes_"
   ]
  },
  {
   "cell_type": "code",
   "execution_count": null,
   "id": "62d5f6f6-5934-4a4b-a090-30956dc514ee",
   "metadata": {},
   "outputs": [],
   "source": [
    "model.n_features_in_"
   ]
  },
  {
   "cell_type": "markdown",
   "id": "bebe916e-9732-43d1-8ae2-7af1e9d1bf63",
   "metadata": {},
   "source": [
    "# Os Atributos mais Importantes"
   ]
  },
  {
   "cell_type": "code",
   "execution_count": null,
   "id": "000190d8",
   "metadata": {},
   "outputs": [],
   "source": [
    "modelo.feature_importances_"
   ]
  },
  {
   "cell_type": "code",
   "execution_count": null,
   "id": "21bcdd9a",
   "metadata": {},
   "outputs": [],
   "source": [
    "X.head()"
   ]
  },
  {
   "cell_type": "code",
   "execution_count": null,
   "id": "6edb8ab8",
   "metadata": {},
   "outputs": [],
   "source": [
    "atributos = list(X.columns.values)\n",
    "print(atributos)"
   ]
  },
  {
   "cell_type": "code",
   "execution_count": null,
   "id": "c733ed8a",
   "metadata": {},
   "outputs": [],
   "source": [
    "modelo.feature_importances_"
   ]
  },
  {
   "cell_type": "code",
   "execution_count": null,
   "id": "823ec4be",
   "metadata": {},
   "outputs": [],
   "source": [
    "dfi = pd.DataFrame( {'atributos' : atributos, 'importancia':  modelo.feature_importances_ })\n",
    "dfi"
   ]
  },
  {
   "cell_type": "code",
   "execution_count": null,
   "id": "461e769d",
   "metadata": {},
   "outputs": [],
   "source": [
    "dfo = dfi.sort_values(by='importancia', ascending=False).reset_index(drop=True)\n",
    "dfo"
   ]
  },
  {
   "cell_type": "code",
   "execution_count": null,
   "id": "c323fd25",
   "metadata": {},
   "outputs": [],
   "source": [
    "atributos_importantes = dfo[:6]\n",
    "atributos_importantes "
   ]
  },
  {
   "cell_type": "code",
   "execution_count": null,
   "id": "16b7da3a",
   "metadata": {},
   "outputs": [],
   "source": [
    "atributos_mais_importantes = list(atributos_importantes.atributos)\n",
    "atributos_mais_importantes "
   ]
  },
  {
   "cell_type": "code",
   "execution_count": null,
   "id": "75c89b59",
   "metadata": {},
   "outputs": [],
   "source": [
    "X.tail()"
   ]
  },
  {
   "cell_type": "code",
   "execution_count": null,
   "id": "e40e964f",
   "metadata": {},
   "outputs": [],
   "source": [
    "X[ X.index == 1597]"
   ]
  },
  {
   "cell_type": "code",
   "execution_count": null,
   "id": "6691dc65",
   "metadata": {},
   "outputs": [],
   "source": [
    "x1 = X[ X.index == 1597].values\n",
    "x1"
   ]
  },
  {
   "cell_type": "code",
   "execution_count": null,
   "id": "27096e60",
   "metadata": {},
   "outputs": [],
   "source": [
    "import numpy as np"
   ]
  },
  {
   "cell_type": "code",
   "execution_count": null,
   "id": "058422ff-a3a4-4455-9d23-78b79d4374ca",
   "metadata": {},
   "outputs": [],
   "source": [
    "model.predict(x1)"
   ]
  },
  {
   "cell_type": "code",
   "execution_count": null,
   "id": "baf89c29",
   "metadata": {},
   "outputs": [],
   "source": [
    "x1_XGBoost = modelo.predict(x1)\n",
    "x1_XGBoost"
   ]
  },
  {
   "cell_type": "code",
   "execution_count": null,
   "id": "b39623c5-fa2d-4673-ba65-68cf0a6b54d5",
   "metadata": {},
   "outputs": [],
   "source": [
    "list(map(converte_XGBoost_para_classes, x1_XGBoost))"
   ]
  },
  {
   "cell_type": "markdown",
   "id": "e9fad4c1",
   "metadata": {},
   "source": [
    "# Deploy da Parte1 \n",
    "## Salvar o modelo treinado"
   ]
  },
  {
   "cell_type": "code",
   "execution_count": null,
   "id": "18e13cbd",
   "metadata": {},
   "outputs": [],
   "source": [
    "import pickle as pkl\n",
    "\n",
    "filehandler = open(\"ModeloXGBoost.pkl\" ,\"wb\")\n",
    "pkl.dump(modelo,filehandler)\n",
    "filehandler.close()\n",
    "\n",
    "!ls -lah *.pkl"
   ]
  },
  {
   "cell_type": "code",
   "execution_count": null,
   "id": "84dda3d4",
   "metadata": {},
   "outputs": [],
   "source": [
    "!head ModeloXGBoost.pkl"
   ]
  },
  {
   "cell_type": "markdown",
   "id": "9659d940",
   "metadata": {},
   "source": [
    "# Carregar o modelo treinado"
   ]
  },
  {
   "cell_type": "code",
   "execution_count": null,
   "id": "55b0d2ce",
   "metadata": {},
   "outputs": [],
   "source": [
    "file = \"ModeloXGBoost.pkl\"\n",
    "with open(file, 'rb') as f:\n",
    "    modelo_lido = pkl.load(f)\n",
    "    \n",
    "modelo_lido"
   ]
  },
  {
   "cell_type": "code",
   "execution_count": null,
   "id": "449af3f2",
   "metadata": {},
   "outputs": [],
   "source": [
    "list(map(converte_XGBoost_para_classes, x1_XGBoost))[0]"
   ]
  },
  {
   "cell_type": "code",
   "execution_count": null,
   "id": "bf2b2d44-c41a-4f2f-aa31-3a5a0fcaf2c8",
   "metadata": {},
   "outputs": [],
   "source": [
    "!ls -ilha *.pkl"
   ]
  },
  {
   "cell_type": "code",
   "execution_count": null,
   "id": "55eceebc-5dbf-4f42-a4fc-a2f6454e70b3",
   "metadata": {},
   "outputs": [],
   "source": [
    "set(y)"
   ]
  },
  {
   "cell_type": "markdown",
   "id": "0fa14bb3-5798-4527-8fb1-40476e9f3b6b",
   "metadata": {},
   "source": [
    "# Estatística Descritiva dos Atributos"
   ]
  },
  {
   "cell_type": "code",
   "execution_count": null,
   "id": "87cec01c-c63a-41db-9508-9829cac87780",
   "metadata": {},
   "outputs": [],
   "source": [
    "df = X"
   ]
  },
  {
   "cell_type": "code",
   "execution_count": null,
   "id": "0d2a51a8-2524-49d2-b94c-24271992e3ea",
   "metadata": {},
   "outputs": [],
   "source": [
    "df.density.min(), df.density.mean(), df.density.max()"
   ]
  },
  {
   "cell_type": "code",
   "execution_count": null,
   "id": "2702d723-73a5-4964-9348-d7ec95942d73",
   "metadata": {},
   "outputs": [],
   "source": [
    "atributos = list(df.columns.values)\n",
    "dic_atributos_valores = {}\n",
    "for atributo in atributos:\n",
    "    min, media, max = df[atributo].min(), df[atributo].mean(), df[atributo].max()\n",
    "    print('atributo:', atributo, ':  ', min, media, max)\n",
    "    step = (max - min) / media\n",
    "    print('step:', step)\n",
    "    dic_atributos_valores[atributo] = {'min': min, 'media': media, 'max': max, 'step': step }"
   ]
  },
  {
   "cell_type": "code",
   "execution_count": null,
   "id": "fa3236f3-45e0-411e-8564-4f9a1e17b526",
   "metadata": {},
   "outputs": [],
   "source": [
    "dic_atributos_valores"
   ]
  },
  {
   "cell_type": "code",
   "execution_count": null,
   "id": "8f80a4c2-06f8-40d7-9e6e-2d09437edceb",
   "metadata": {},
   "outputs": [],
   "source": [
    "print(atributos) "
   ]
  },
  {
   "cell_type": "code",
   "execution_count": null,
   "id": "f1257d1a-0f84-41ca-b433-002ecb51d6ff",
   "metadata": {},
   "outputs": [],
   "source": [
    "len(atributos)"
   ]
  }
 ],
 "metadata": {
  "kernelspec": {
   "display_name": "Python 3 (ipykernel)",
   "language": "python",
   "name": "python3"
  },
  "language_info": {
   "codemirror_mode": {
    "name": "ipython",
    "version": 3
   },
   "file_extension": ".py",
   "mimetype": "text/x-python",
   "name": "python",
   "nbconvert_exporter": "python",
   "pygments_lexer": "ipython3",
   "version": "3.11.5"
  }
 },
 "nbformat": 4,
 "nbformat_minor": 5
}
