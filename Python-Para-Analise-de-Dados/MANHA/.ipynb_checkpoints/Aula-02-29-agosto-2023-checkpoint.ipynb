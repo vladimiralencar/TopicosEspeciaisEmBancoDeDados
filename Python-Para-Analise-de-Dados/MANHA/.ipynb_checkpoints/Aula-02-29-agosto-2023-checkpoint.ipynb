{
 "cells": [
  {
   "cell_type": "markdown",
   "id": "b869a916",
   "metadata": {},
   "source": [
    "# Aula-02-29-agosto-2023"
   ]
  },
  {
   "cell_type": "markdown",
   "id": "e0bd347d",
   "metadata": {},
   "source": [
    "# Listas"
   ]
  },
  {
   "cell_type": "code",
   "execution_count": 1,
   "id": "df5acfe5",
   "metadata": {},
   "outputs": [
    {
     "data": {
      "text/plain": [
       "[1, True, ['UEPB', 'Campina Grande'], 3.14, 'Data Science']"
      ]
     },
     "execution_count": 1,
     "metadata": {},
     "output_type": "execute_result"
    }
   ],
   "source": [
    "l = [ 1, True, ['UEPB', 'Campina Grande'], 3.14, 'Data Science'  ]\n",
    "l"
   ]
  },
  {
   "cell_type": "code",
   "execution_count": 2,
   "id": "73e324b2",
   "metadata": {},
   "outputs": [
    {
     "data": {
      "text/plain": [
       "1"
      ]
     },
     "execution_count": 2,
     "metadata": {},
     "output_type": "execute_result"
    }
   ],
   "source": [
    "l[0]"
   ]
  },
  {
   "cell_type": "markdown",
   "id": "c8f589f9",
   "metadata": {},
   "source": [
    "# Fatiamento - Slicing"
   ]
  },
  {
   "cell_type": "code",
   "execution_count": 3,
   "id": "8a5c0336",
   "metadata": {},
   "outputs": [
    {
     "data": {
      "text/plain": [
       "['UEPB', 'Campina Grande']"
      ]
     },
     "execution_count": 3,
     "metadata": {},
     "output_type": "execute_result"
    }
   ],
   "source": [
    "l[2]"
   ]
  },
  {
   "cell_type": "code",
   "execution_count": 4,
   "id": "f00dd5bb",
   "metadata": {},
   "outputs": [
    {
     "data": {
      "text/plain": [
       "['UEPB', 'Campina Grande']"
      ]
     },
     "execution_count": 4,
     "metadata": {},
     "output_type": "execute_result"
    }
   ],
   "source": [
    "v = l[2]\n",
    "v"
   ]
  },
  {
   "cell_type": "code",
   "execution_count": 5,
   "id": "f0f82618",
   "metadata": {},
   "outputs": [
    {
     "data": {
      "text/plain": [
       "'Campina Grande'"
      ]
     },
     "execution_count": 5,
     "metadata": {},
     "output_type": "execute_result"
    }
   ],
   "source": [
    "v[1]"
   ]
  },
  {
   "cell_type": "code",
   "execution_count": 6,
   "id": "999eb1c1",
   "metadata": {},
   "outputs": [
    {
     "data": {
      "text/plain": [
       "[1, True, ['UEPB', 'Campina Grande'], 3.14, 'Data Science']"
      ]
     },
     "execution_count": 6,
     "metadata": {},
     "output_type": "execute_result"
    }
   ],
   "source": [
    "l"
   ]
  },
  {
   "cell_type": "code",
   "execution_count": 7,
   "id": "38862345",
   "metadata": {},
   "outputs": [
    {
     "data": {
      "text/plain": [
       "'Campina Grande'"
      ]
     },
     "execution_count": 7,
     "metadata": {},
     "output_type": "execute_result"
    }
   ],
   "source": [
    "l[2][1]"
   ]
  },
  {
   "cell_type": "code",
   "execution_count": 8,
   "id": "8e0988ba",
   "metadata": {},
   "outputs": [
    {
     "data": {
      "text/plain": [
       "[True, ['UEPB', 'Campina Grande'], 3.14, 'Data Science']"
      ]
     },
     "execution_count": 8,
     "metadata": {},
     "output_type": "execute_result"
    }
   ],
   "source": [
    "l[1:]"
   ]
  },
  {
   "cell_type": "code",
   "execution_count": 10,
   "id": "5bdaabca",
   "metadata": {},
   "outputs": [
    {
     "data": {
      "text/plain": [
       "[1, True, ['UEPB', 'Campina Grande']]"
      ]
     },
     "execution_count": 10,
     "metadata": {},
     "output_type": "execute_result"
    }
   ],
   "source": [
    "l[:3] # Exclusive = 3 - 1 = 2"
   ]
  },
  {
   "cell_type": "code",
   "execution_count": 11,
   "id": "7725242e",
   "metadata": {},
   "outputs": [
    {
     "data": {
      "text/plain": [
       "[1, True, ['UEPB', 'Campina Grande'], 3.14]"
      ]
     },
     "execution_count": 11,
     "metadata": {},
     "output_type": "execute_result"
    }
   ],
   "source": [
    "l[:-1]"
   ]
  },
  {
   "cell_type": "code",
   "execution_count": 12,
   "id": "4fdfe862",
   "metadata": {},
   "outputs": [
    {
     "data": {
      "text/plain": [
       "[1, True, ['UEPB', 'Campina Grande'], 3.14, 'Data Science', 56]"
      ]
     },
     "execution_count": 12,
     "metadata": {},
     "output_type": "execute_result"
    }
   ],
   "source": [
    "l.append(56)\n",
    "l"
   ]
  },
  {
   "cell_type": "code",
   "execution_count": 13,
   "id": "677ebb79",
   "metadata": {},
   "outputs": [
    {
     "data": {
      "text/plain": [
       "[1, True, ['UEPB', 'Campina Grande'], 3.14, 'Data Science']"
      ]
     },
     "execution_count": 13,
     "metadata": {},
     "output_type": "execute_result"
    }
   ],
   "source": [
    "l[:-1]"
   ]
  },
  {
   "cell_type": "code",
   "execution_count": 14,
   "id": "0f53c238",
   "metadata": {},
   "outputs": [
    {
     "data": {
      "text/plain": [
       "[1, True, ['UEPB', 'Campina Grande'], 3.14]"
      ]
     },
     "execution_count": 14,
     "metadata": {},
     "output_type": "execute_result"
    }
   ],
   "source": [
    "l[:-2]"
   ]
  },
  {
   "cell_type": "code",
   "execution_count": 16,
   "id": "3bf02119",
   "metadata": {},
   "outputs": [
    {
     "data": {
      "text/plain": [
       "[True, ['UEPB', 'Campina Grande'], 'Data Science', 56]"
      ]
     },
     "execution_count": 16,
     "metadata": {},
     "output_type": "execute_result"
    }
   ],
   "source": [
    "l.remove(3.14)\n",
    "l"
   ]
  },
  {
   "cell_type": "code",
   "execution_count": 17,
   "id": "db6289b0",
   "metadata": {},
   "outputs": [
    {
     "data": {
      "text/plain": [
       "[True, ['UEPB', 'Campina Grande'], 'Data Science', 56]"
      ]
     },
     "execution_count": 17,
     "metadata": {},
     "output_type": "execute_result"
    }
   ],
   "source": [
    "l"
   ]
  },
  {
   "cell_type": "code",
   "execution_count": 18,
   "id": "9d28c888",
   "metadata": {},
   "outputs": [
    {
     "data": {
      "text/plain": [
       "[1, 5, 7, 9, 'CCT']"
      ]
     },
     "execution_count": 18,
     "metadata": {},
     "output_type": "execute_result"
    }
   ],
   "source": [
    "l2 = [ 1, 5, 7, 9, 'CCT']\n",
    "l2"
   ]
  },
  {
   "cell_type": "code",
   "execution_count": 20,
   "id": "46205ce4",
   "metadata": {},
   "outputs": [
    {
     "data": {
      "text/plain": [
       "[True, ['UEPB', 'Campina Grande'], 'Data Science', 56, 1, 5, 7, 9, 'CCT']"
      ]
     },
     "execution_count": 20,
     "metadata": {},
     "output_type": "execute_result"
    }
   ],
   "source": [
    "l3 = l + l2\n",
    "l3"
   ]
  },
  {
   "cell_type": "code",
   "execution_count": 26,
   "id": "ed35a90d",
   "metadata": {},
   "outputs": [
    {
     "data": {
      "text/plain": [
       "[5, 9, 1, 2, 5, 2]"
      ]
     },
     "execution_count": 26,
     "metadata": {},
     "output_type": "execute_result"
    }
   ],
   "source": [
    "l4 = [ 5, 9, 1, 2, 5, 2 ]\n",
    "l4"
   ]
  },
  {
   "cell_type": "code",
   "execution_count": 27,
   "id": "1e8960c8",
   "metadata": {},
   "outputs": [
    {
     "data": {
      "text/plain": [
       "[1, 2, 2, 5, 5, 9]"
      ]
     },
     "execution_count": 27,
     "metadata": {},
     "output_type": "execute_result"
    }
   ],
   "source": [
    "l4.sort()\n",
    "l4"
   ]
  },
  {
   "cell_type": "code",
   "execution_count": 28,
   "id": "673c1bc8",
   "metadata": {},
   "outputs": [
    {
     "data": {
      "text/plain": [
       "['UEPB', 'Campina Grande', 'Data Science', 56, 1, 5, 7, 9, 'CCT']"
      ]
     },
     "execution_count": 28,
     "metadata": {},
     "output_type": "execute_result"
    }
   ],
   "source": [
    "l = ['UEPB', 'Campina Grande', 'Data Science', 56, 1, 5, 7, 9, 'CCT']\n",
    "l"
   ]
  },
  {
   "cell_type": "markdown",
   "id": "372f406b",
   "metadata": {},
   "source": [
    "# enumerate"
   ]
  },
  {
   "cell_type": "code",
   "execution_count": 31,
   "id": "8ec2bc09",
   "metadata": {},
   "outputs": [
    {
     "name": "stdout",
     "output_type": "stream",
     "text": [
      "0 : UEPB\n",
      "1 : Campina Grande\n",
      "2 : Data Science\n",
      "3 : 56\n",
      "4 : 1\n",
      "5 : 5\n",
      "6 : 7\n",
      "7 : 9\n",
      "8 : CCT\n"
     ]
    }
   ],
   "source": [
    "for ordem, objeto in enumerate(l):\n",
    "    print(ordem, ':', objeto)\n",
    "    "
   ]
  },
  {
   "cell_type": "code",
   "execution_count": 32,
   "id": "883fdbb2",
   "metadata": {},
   "outputs": [
    {
     "data": {
      "text/plain": [
       "['UEPB', 'Campina Grande', 'Data Science', 56, 1, 5, 7, 9, 'CCT']"
      ]
     },
     "execution_count": 32,
     "metadata": {},
     "output_type": "execute_result"
    }
   ],
   "source": [
    "l"
   ]
  },
  {
   "cell_type": "code",
   "execution_count": 43,
   "id": "6205ff6a",
   "metadata": {},
   "outputs": [
    {
     "data": {
      "text/plain": [
       "['Anitta', 'Pedro', 'Gustavo', 'Joana']"
      ]
     },
     "execution_count": 43,
     "metadata": {},
     "output_type": "execute_result"
    }
   ],
   "source": [
    "nomes = ['Anitta', 'Pedro', 'Gustavo', 'Joana']\n",
    "nomes"
   ]
  },
  {
   "cell_type": "code",
   "execution_count": 44,
   "id": "796b1335",
   "metadata": {},
   "outputs": [
    {
     "data": {
      "text/plain": [
       "[10, 8.5, 9, 8]"
      ]
     },
     "execution_count": 44,
     "metadata": {},
     "output_type": "execute_result"
    }
   ],
   "source": [
    "notas = [ 10, 8.5, 9, 8] \n",
    "notas"
   ]
  },
  {
   "cell_type": "code",
   "execution_count": 47,
   "id": "145a50ac",
   "metadata": {},
   "outputs": [
    {
     "data": {
      "text/plain": [
       "[('Anitta', 10), ('Pedro', 8.5), ('Gustavo', 9), ('Joana', 8)]"
      ]
     },
     "execution_count": 47,
     "metadata": {},
     "output_type": "execute_result"
    }
   ],
   "source": [
    "nomes_notas = zip(nomes, notas)\n",
    "ll = list(nomes_notas)\n",
    "ll"
   ]
  },
  {
   "cell_type": "code",
   "execution_count": 48,
   "id": "a56f9d4e",
   "metadata": {},
   "outputs": [
    {
     "data": {
      "text/plain": [
       "[('Anitta', 10), ('Pedro', 8.5), ('Gustavo', 9), ('Joana', 8)]"
      ]
     },
     "execution_count": 48,
     "metadata": {},
     "output_type": "execute_result"
    }
   ],
   "source": [
    "ll"
   ]
  },
  {
   "cell_type": "code",
   "execution_count": 49,
   "id": "5fce5285",
   "metadata": {},
   "outputs": [
    {
     "data": {
      "text/plain": [
       "list"
      ]
     },
     "execution_count": 49,
     "metadata": {},
     "output_type": "execute_result"
    }
   ],
   "source": [
    "type(ll)"
   ]
  },
  {
   "cell_type": "code",
   "execution_count": 50,
   "id": "9bbfe828",
   "metadata": {},
   "outputs": [
    {
     "data": {
      "text/plain": [
       "('Anitta', 10)"
      ]
     },
     "execution_count": 50,
     "metadata": {},
     "output_type": "execute_result"
    }
   ],
   "source": [
    "ll[0]"
   ]
  },
  {
   "cell_type": "code",
   "execution_count": 52,
   "id": "5cc32a8d",
   "metadata": {},
   "outputs": [
    {
     "data": {
      "text/plain": [
       "10"
      ]
     },
     "execution_count": 52,
     "metadata": {},
     "output_type": "execute_result"
    }
   ],
   "source": [
    "ll[0][1]"
   ]
  },
  {
   "cell_type": "code",
   "execution_count": 51,
   "id": "0ade3183",
   "metadata": {},
   "outputs": [
    {
     "data": {
      "text/plain": [
       "('UEPB', 10, False, 4.5)"
      ]
     },
     "execution_count": 51,
     "metadata": {},
     "output_type": "execute_result"
    }
   ],
   "source": [
    "# Tupla\n",
    "t = ('UEPB', 10, False, 4.5)\n",
    "t"
   ]
  },
  {
   "cell_type": "code",
   "execution_count": 53,
   "id": "5f1c0885",
   "metadata": {},
   "outputs": [
    {
     "data": {
      "text/plain": [
       "tuple"
      ]
     },
     "execution_count": 53,
     "metadata": {},
     "output_type": "execute_result"
    }
   ],
   "source": [
    "type(t)"
   ]
  },
  {
   "cell_type": "code",
   "execution_count": 54,
   "id": "a2d7a263",
   "metadata": {},
   "outputs": [
    {
     "ename": "TypeError",
     "evalue": "'tuple' object does not support item assignment",
     "output_type": "error",
     "traceback": [
      "\u001b[0;31m---------------------------------------------------------------------------\u001b[0m",
      "\u001b[0;31mTypeError\u001b[0m                                 Traceback (most recent call last)",
      "Cell \u001b[0;32mIn[54], line 1\u001b[0m\n\u001b[0;32m----> 1\u001b[0m t[\u001b[38;5;241m0\u001b[39m] \u001b[38;5;241m=\u001b[39m \u001b[38;5;124m'\u001b[39m\u001b[38;5;124mcct\u001b[39m\u001b[38;5;124m'\u001b[39m\n",
      "\u001b[0;31mTypeError\u001b[0m: 'tuple' object does not support item assignment"
     ]
    }
   ],
   "source": [
    "t[0] = 'cct'"
   ]
  },
  {
   "cell_type": "code",
   "execution_count": 55,
   "id": "787725f0",
   "metadata": {},
   "outputs": [
    {
     "data": {
      "text/plain": [
       "['UEPB', 10, False, 4.5]"
      ]
     },
     "execution_count": 55,
     "metadata": {},
     "output_type": "execute_result"
    }
   ],
   "source": [
    "l1 = list(t)\n",
    "l1"
   ]
  },
  {
   "cell_type": "code",
   "execution_count": 56,
   "id": "8792ca85",
   "metadata": {},
   "outputs": [
    {
     "data": {
      "text/plain": [
       "['cct', 10, False, 4.5]"
      ]
     },
     "execution_count": 56,
     "metadata": {},
     "output_type": "execute_result"
    }
   ],
   "source": [
    "l1[0] = 'cct'\n",
    "l1"
   ]
  },
  {
   "cell_type": "markdown",
   "id": "b21c6080",
   "metadata": {},
   "source": [
    "# Comando range"
   ]
  },
  {
   "cell_type": "code",
   "execution_count": 57,
   "id": "98613b2f",
   "metadata": {},
   "outputs": [
    {
     "data": {
      "text/plain": [
       "range(0, 10)"
      ]
     },
     "execution_count": 57,
     "metadata": {},
     "output_type": "execute_result"
    }
   ],
   "source": [
    "range(10)"
   ]
  },
  {
   "cell_type": "code",
   "execution_count": 58,
   "id": "b1dae54f",
   "metadata": {},
   "outputs": [
    {
     "data": {
      "text/plain": [
       "[0, 1, 2, 3, 4, 5, 6, 7, 8, 9]"
      ]
     },
     "execution_count": 58,
     "metadata": {},
     "output_type": "execute_result"
    }
   ],
   "source": [
    "list(range(10))"
   ]
  },
  {
   "cell_type": "code",
   "execution_count": 59,
   "id": "dcd0fa0c",
   "metadata": {},
   "outputs": [
    {
     "data": {
      "text/plain": [
       "[1, 2, 3, 4, 5, 6, 7, 8, 9]"
      ]
     },
     "execution_count": 59,
     "metadata": {},
     "output_type": "execute_result"
    }
   ],
   "source": [
    "list(range(1,10))"
   ]
  },
  {
   "cell_type": "code",
   "execution_count": 60,
   "id": "0e1384e2",
   "metadata": {},
   "outputs": [
    {
     "name": "stdout",
     "output_type": "stream",
     "text": [
      "0\n",
      "1\n",
      "2\n",
      "3\n",
      "4\n",
      "5\n",
      "6\n",
      "7\n",
      "8\n",
      "9\n"
     ]
    }
   ],
   "source": [
    "for elem in range(10):\n",
    "    print(elem)"
   ]
  },
  {
   "cell_type": "code",
   "execution_count": 61,
   "id": "f764610b",
   "metadata": {},
   "outputs": [
    {
     "data": {
      "text/plain": [
       "['cct', 10, False, 4.5]"
      ]
     },
     "execution_count": 61,
     "metadata": {},
     "output_type": "execute_result"
    }
   ],
   "source": [
    "l1"
   ]
  },
  {
   "cell_type": "code",
   "execution_count": 63,
   "id": "255efb14",
   "metadata": {},
   "outputs": [
    {
     "name": "stdout",
     "output_type": "stream",
     "text": [
      "cct\n",
      "10\n",
      "False\n",
      "4.5\n"
     ]
    }
   ],
   "source": [
    "for elem in l1:\n",
    "    print(elem)"
   ]
  },
  {
   "cell_type": "markdown",
   "id": "512a1dbb",
   "metadata": {},
   "source": [
    "# Dicionários"
   ]
  },
  {
   "cell_type": "code",
   "execution_count": 77,
   "id": "300ef676",
   "metadata": {},
   "outputs": [
    {
     "data": {
      "text/plain": [
       "{10: 'UEPB',\n",
       " 'Marina': 7.5,\n",
       " 'Endereco': {'Rua': 'Baraúnas',\n",
       "  'Numero': 240,\n",
       "  'Bairro': 'Bodocongó',\n",
       "  'Cidade': 'Campina Grande'}}"
      ]
     },
     "execution_count": 77,
     "metadata": {},
     "output_type": "execute_result"
    }
   ],
   "source": [
    "d1 = { 10: 'UEPB',\n",
    "       'Marina': 7.5,\n",
    "       'Endereco': { 'Rua': 'Baraúnas', 'Numero': 240, 'Bairro': 'Bodocongó', 'Cidade': 'Campina Grande'}\n",
    "     }\n",
    "d1"
   ]
  },
  {
   "cell_type": "code",
   "execution_count": 78,
   "id": "134e6792",
   "metadata": {},
   "outputs": [
    {
     "data": {
      "text/plain": [
       "'UEPB'"
      ]
     },
     "execution_count": 78,
     "metadata": {},
     "output_type": "execute_result"
    }
   ],
   "source": [
    "d1[10]"
   ]
  },
  {
   "cell_type": "code",
   "execution_count": 79,
   "id": "fbbfc138",
   "metadata": {},
   "outputs": [
    {
     "data": {
      "text/plain": [
       "{10: 'UEPB',\n",
       " 'Marina': 7.5,\n",
       " 'Endereco': {'Rua': 'Baraúnas',\n",
       "  'Numero': 240,\n",
       "  'Bairro': 'Bodocongó',\n",
       "  'Cidade': 'Campina Grande'},\n",
       " 'Computacao': 25}"
      ]
     },
     "execution_count": 79,
     "metadata": {},
     "output_type": "execute_result"
    }
   ],
   "source": [
    "d1['Computacao'] = 25\n",
    "d1"
   ]
  },
  {
   "cell_type": "code",
   "execution_count": 80,
   "id": "201d2441",
   "metadata": {},
   "outputs": [
    {
     "data": {
      "text/plain": [
       "dict_keys([10, 'Marina', 'Endereco', 'Computacao'])"
      ]
     },
     "execution_count": 80,
     "metadata": {},
     "output_type": "execute_result"
    }
   ],
   "source": [
    "d1.keys()"
   ]
  },
  {
   "cell_type": "code",
   "execution_count": 81,
   "id": "aa0754e1",
   "metadata": {},
   "outputs": [
    {
     "data": {
      "text/plain": [
       "dict_keys(['Rua', 'Numero', 'Bairro', 'Cidade'])"
      ]
     },
     "execution_count": 81,
     "metadata": {},
     "output_type": "execute_result"
    }
   ],
   "source": [
    "d1['Endereco'].keys()"
   ]
  },
  {
   "cell_type": "code",
   "execution_count": 82,
   "id": "ce6a066f",
   "metadata": {},
   "outputs": [
    {
     "data": {
      "text/plain": [
       "dict_values(['Baraúnas', 240, 'Bodocongó', 'Campina Grande'])"
      ]
     },
     "execution_count": 82,
     "metadata": {},
     "output_type": "execute_result"
    }
   ],
   "source": [
    "d1['Endereco'].values()"
   ]
  },
  {
   "cell_type": "code",
   "execution_count": 83,
   "id": "4ba63247",
   "metadata": {},
   "outputs": [
    {
     "data": {
      "text/plain": [
       "dict_values(['UEPB', 7.5, {'Rua': 'Baraúnas', 'Numero': 240, 'Bairro': 'Bodocongó', 'Cidade': 'Campina Grande'}, 25])"
      ]
     },
     "execution_count": 83,
     "metadata": {},
     "output_type": "execute_result"
    }
   ],
   "source": [
    "d1.values()"
   ]
  },
  {
   "cell_type": "code",
   "execution_count": 84,
   "id": "c292acd1",
   "metadata": {},
   "outputs": [
    {
     "data": {
      "text/plain": [
       "dict_items([(10, 'UEPB'), ('Marina', 7.5), ('Endereco', {'Rua': 'Baraúnas', 'Numero': 240, 'Bairro': 'Bodocongó', 'Cidade': 'Campina Grande'}), ('Computacao', 25)])"
      ]
     },
     "execution_count": 84,
     "metadata": {},
     "output_type": "execute_result"
    }
   ],
   "source": [
    "d1.items()"
   ]
  },
  {
   "cell_type": "code",
   "execution_count": 85,
   "id": "b9e6d113",
   "metadata": {},
   "outputs": [
    {
     "name": "stdout",
     "output_type": "stream",
     "text": [
      "10 : UEPB\n",
      "Marina : 7.5\n",
      "Endereco : {'Rua': 'Baraúnas', 'Numero': 240, 'Bairro': 'Bodocongó', 'Cidade': 'Campina Grande'}\n",
      "Computacao : 25\n"
     ]
    }
   ],
   "source": [
    "for chave, valor in d1.items():\n",
    "    print(chave,':',valor)"
   ]
  },
  {
   "cell_type": "code",
   "execution_count": 86,
   "id": "e47d9983",
   "metadata": {},
   "outputs": [
    {
     "data": {
      "text/plain": [
       "{'Rua': 'Baraúnas',\n",
       " 'Numero': 240,\n",
       " 'Bairro': 'Bodocongó',\n",
       " 'Cidade': 'Campina Grande'}"
      ]
     },
     "execution_count": 86,
     "metadata": {},
     "output_type": "execute_result"
    }
   ],
   "source": [
    "d1['Endereco']"
   ]
  },
  {
   "cell_type": "code",
   "execution_count": 87,
   "id": "8a4fffa8",
   "metadata": {},
   "outputs": [
    {
     "data": {
      "text/plain": [
       "'Campina Grande'"
      ]
     },
     "execution_count": 87,
     "metadata": {},
     "output_type": "execute_result"
    }
   ],
   "source": [
    "d1['Endereco']['Cidade']"
   ]
  },
  {
   "cell_type": "code",
   "execution_count": 88,
   "id": "b23e675d",
   "metadata": {},
   "outputs": [
    {
     "data": {
      "text/plain": [
       "'Campina Grande'"
      ]
     },
     "execution_count": 88,
     "metadata": {},
     "output_type": "execute_result"
    }
   ],
   "source": [
    "cidade = d1['Endereco']['Cidade']\n",
    "cidade"
   ]
  },
  {
   "cell_type": "code",
   "execution_count": 89,
   "id": "50080c5a",
   "metadata": {},
   "outputs": [
    {
     "data": {
      "text/plain": [
       "{'Marina': 7.5,\n",
       " 'Endereco': {'Rua': 'Baraúnas',\n",
       "  'Numero': 240,\n",
       "  'Bairro': 'Bodocongó',\n",
       "  'Cidade': 'Campina Grande'},\n",
       " 'Computacao': 25}"
      ]
     },
     "execution_count": 89,
     "metadata": {},
     "output_type": "execute_result"
    }
   ],
   "source": [
    "del d1[10]\n",
    "d1"
   ]
  },
  {
   "cell_type": "markdown",
   "id": "82a71b34",
   "metadata": {},
   "source": [
    "# List Comprehensions \n",
    "lista com o comando \"for\" dentro dela e pode ter comando if - else"
   ]
  },
  {
   "cell_type": "code",
   "execution_count": 90,
   "id": "aa836cbc",
   "metadata": {},
   "outputs": [
    {
     "data": {
      "text/plain": [
       "['Rua',\n",
       " 'Baraúnas',\n",
       " 'Numero',\n",
       " 240,\n",
       " 'Bairro',\n",
       " 'Bodocongó',\n",
       " 'Cidade',\n",
       " 'Campina Grande']"
      ]
     },
     "execution_count": 90,
     "metadata": {},
     "output_type": "execute_result"
    }
   ],
   "source": [
    "l = ['Rua', 'Baraúnas', 'Numero', 240, 'Bairro', 'Bodocongó', 'Cidade', 'Campina Grande']\n",
    "l"
   ]
  },
  {
   "cell_type": "code",
   "execution_count": 91,
   "id": "88cacc49",
   "metadata": {},
   "outputs": [
    {
     "data": {
      "text/plain": [
       "['Rua',\n",
       " 'Baraúnas',\n",
       " 'Numero',\n",
       " 240,\n",
       " 'Bairro',\n",
       " 'Bodocongó',\n",
       " 'Cidade',\n",
       " 'Campina Grande']"
      ]
     },
     "execution_count": 91,
     "metadata": {},
     "output_type": "execute_result"
    }
   ],
   "source": [
    "result = []\n",
    "for val in l:\n",
    "    result.append(val)\n",
    "result"
   ]
  },
  {
   "cell_type": "code",
   "execution_count": 95,
   "id": "4d07ef4f",
   "metadata": {},
   "outputs": [
    {
     "data": {
      "text/plain": [
       "['Rua',\n",
       " 'Baraúnas',\n",
       " 'Numero',\n",
       " 240,\n",
       " 'Bairro',\n",
       " 'Bodocongó',\n",
       " 'Cidade',\n",
       " 'Campina Grande']"
      ]
     },
     "execution_count": 95,
     "metadata": {},
     "output_type": "execute_result"
    }
   ],
   "source": [
    "result = [val for val in  l]\n",
    "result"
   ]
  },
  {
   "cell_type": "code",
   "execution_count": 96,
   "id": "690d1f66",
   "metadata": {},
   "outputs": [
    {
     "name": "stdout",
     "output_type": "stream",
     "text": [
      "[0, 1, 2, 3, 4, 5, 6, 7, 8, 9]\n"
     ]
    }
   ],
   "source": [
    "n = list(range(10))\n",
    "print(n)"
   ]
  },
  {
   "cell_type": "code",
   "execution_count": 97,
   "id": "a761f6a2",
   "metadata": {},
   "outputs": [
    {
     "name": "stdout",
     "output_type": "stream",
     "text": [
      "0\n",
      "2\n",
      "4\n",
      "6\n",
      "8\n"
     ]
    }
   ],
   "source": [
    "for elem in n:\n",
    "    if elem % 2 == 0:\n",
    "        print(elem)"
   ]
  },
  {
   "cell_type": "code",
   "execution_count": 98,
   "id": "f9b290f4",
   "metadata": {},
   "outputs": [
    {
     "data": {
      "text/plain": [
       "[0, 2, 4, 6, 8]"
      ]
     },
     "execution_count": 98,
     "metadata": {},
     "output_type": "execute_result"
    }
   ],
   "source": [
    "result = [val for val in n if val % 2 == 0]\n",
    "result"
   ]
  },
  {
   "cell_type": "code",
   "execution_count": 99,
   "id": "a4340b61",
   "metadata": {},
   "outputs": [
    {
     "data": {
      "text/plain": [
       "['Rua',\n",
       " 'Baraúnas',\n",
       " 'Numero',\n",
       " 'Bairro',\n",
       " 'Bodocongó',\n",
       " 'Cidade',\n",
       " 'Campina Grande']"
      ]
     },
     "execution_count": 99,
     "metadata": {},
     "output_type": "execute_result"
    }
   ],
   "source": [
    "nomes = ['Rua',\n",
    " 'Baraúnas',\n",
    " 'Numero',\n",
    " 'Bairro',\n",
    " 'Bodocongó',\n",
    " 'Cidade',\n",
    " 'Campina Grande']\n",
    "nomes"
   ]
  },
  {
   "cell_type": "code",
   "execution_count": 100,
   "id": "311bf0ae",
   "metadata": {},
   "outputs": [
    {
     "data": {
      "text/plain": [
       "'Rua'"
      ]
     },
     "execution_count": 100,
     "metadata": {},
     "output_type": "execute_result"
    }
   ],
   "source": [
    "s = 'Rua'\n",
    "s"
   ]
  },
  {
   "cell_type": "code",
   "execution_count": 101,
   "id": "f1be4e26",
   "metadata": {},
   "outputs": [
    {
     "data": {
      "text/plain": [
       "str"
      ]
     },
     "execution_count": 101,
     "metadata": {},
     "output_type": "execute_result"
    }
   ],
   "source": [
    "type(s)"
   ]
  },
  {
   "cell_type": "code",
   "execution_count": 102,
   "id": "e252edb0",
   "metadata": {},
   "outputs": [
    {
     "data": {
      "text/plain": [
       "'RUA'"
      ]
     },
     "execution_count": 102,
     "metadata": {},
     "output_type": "execute_result"
    }
   ],
   "source": [
    "s.upper()"
   ]
  },
  {
   "cell_type": "code",
   "execution_count": 103,
   "id": "52bf747b",
   "metadata": {},
   "outputs": [
    {
     "data": {
      "text/plain": [
       "'rua'"
      ]
     },
     "execution_count": 103,
     "metadata": {},
     "output_type": "execute_result"
    }
   ],
   "source": [
    "s.lower()"
   ]
  },
  {
   "cell_type": "code",
   "execution_count": 105,
   "id": "618f52c7",
   "metadata": {},
   "outputs": [
    {
     "data": {
      "text/plain": [
       "['Rua',\n",
       " 'Baraúnas',\n",
       " 'Numero',\n",
       " 'Bairro',\n",
       " 'Bodocongó',\n",
       " 'Cidade',\n",
       " 'Campina Grande',\n",
       " 'data',\n",
       " 'big data',\n",
       " 'Redes Neurais',\n",
       " 'deep learning']"
      ]
     },
     "execution_count": 105,
     "metadata": {},
     "output_type": "execute_result"
    }
   ],
   "source": [
    "nomes += ['data', 'big data', 'Redes Neurais', 'deep learning']\n",
    "nomes"
   ]
  },
  {
   "cell_type": "code",
   "execution_count": 109,
   "id": "8d455a5e",
   "metadata": {},
   "outputs": [
    {
     "name": "stdout",
     "output_type": "stream",
     "text": [
      "['Rua', 'Baraúnas', 'Numero', 'Bairro', 'Bodocongó', 'Cidade', 'Campina Grande', 'data', 'big data', 'Redes Neurais', 'deep learning']\n"
     ]
    }
   ],
   "source": [
    "print(nomes)"
   ]
  },
  {
   "cell_type": "code",
   "execution_count": 107,
   "id": "362d46b6",
   "metadata": {},
   "outputs": [
    {
     "name": "stdout",
     "output_type": "stream",
     "text": [
      "Baraúnas : 8\n",
      "Bodocongó : 9\n",
      "Campina Grande : 14\n",
      "big data : 8\n",
      "Redes Neurais : 13\n",
      "deep learning : 13\n"
     ]
    }
   ],
   "source": [
    "for elem in nomes:\n",
    "    if len(elem) > 6:\n",
    "        print(elem, ':', len(elem))"
   ]
  },
  {
   "cell_type": "code",
   "execution_count": 108,
   "id": "77d5dd33",
   "metadata": {},
   "outputs": [
    {
     "data": {
      "text/plain": [
       "[0, 2, 4, 6, 8]"
      ]
     },
     "execution_count": 108,
     "metadata": {},
     "output_type": "execute_result"
    }
   ],
   "source": [
    "result = [val for val in n if val % 2 == 0]\n",
    "result"
   ]
  },
  {
   "cell_type": "markdown",
   "id": "b1026b73",
   "metadata": {},
   "source": [
    "#### Atividade: Percorrer uma lista e guardar as strings de tamanho maiores que 6, utilizando ListComprehension\n"
   ]
  },
  {
   "cell_type": "code",
   "execution_count": null,
   "id": "6442539f",
   "metadata": {},
   "outputs": [],
   "source": []
  }
 ],
 "metadata": {
  "kernelspec": {
   "display_name": "Python 3 (ipykernel)",
   "language": "python",
   "name": "python3"
  },
  "language_info": {
   "codemirror_mode": {
    "name": "ipython",
    "version": 3
   },
   "file_extension": ".py",
   "mimetype": "text/x-python",
   "name": "python",
   "nbconvert_exporter": "python",
   "pygments_lexer": "ipython3",
   "version": "3.9.17"
  }
 },
 "nbformat": 4,
 "nbformat_minor": 5
}
