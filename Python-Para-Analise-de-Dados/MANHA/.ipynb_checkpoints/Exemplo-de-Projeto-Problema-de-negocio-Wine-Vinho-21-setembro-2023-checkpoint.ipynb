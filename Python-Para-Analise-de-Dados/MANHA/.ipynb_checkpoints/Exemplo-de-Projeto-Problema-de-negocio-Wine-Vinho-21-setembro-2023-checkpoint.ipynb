version https://git-lfs.github.com/spec/v1
oid sha256:9870c88a564bcfd7965a8dec121e099b50092d626f74981496e0c825d976aa36
size 69480
