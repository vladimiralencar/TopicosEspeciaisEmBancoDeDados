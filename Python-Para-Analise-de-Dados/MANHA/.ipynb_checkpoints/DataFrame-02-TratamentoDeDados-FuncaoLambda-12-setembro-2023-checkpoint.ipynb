{
 "cells": [
  {
   "cell_type": "markdown",
   "id": "9c4c8a4a",
   "metadata": {},
   "source": [
    "# DataFrame-02-TratamentoDeDados-FuncaoLambda-12-setembro-2023"
   ]
  },
  {
   "cell_type": "code",
   "execution_count": 1,
   "id": "d8e8dfae",
   "metadata": {},
   "outputs": [],
   "source": [
    "import pandas as pd\n",
    "import numpy as np\n",
    "\n",
    "pd.set_option('display.max_columns', None)\n",
    "pd.set_option('display.max_rows', None)"
   ]
  },
  {
   "cell_type": "code",
   "execution_count": 2,
   "id": "627aedc9",
   "metadata": {},
   "outputs": [
    {
     "data": {
      "text/plain": [
       "'https://raw.githubusercontent.com/vladimiralencar/Alunos-UEPB-TopicosEspeciaisEmBancoDeDados/master/Python-Para-Analise-de-Dados/MANHA/mundo_2023_dados_defeituosos.csv'"
      ]
     },
     "execution_count": 2,
     "metadata": {},
     "output_type": "execute_result"
    }
   ],
   "source": [
    "url = 'https://raw.githubusercontent.com/vladimiralencar/Alunos-UEPB-TopicosEspeciaisEmBancoDeDados/master/Python-Para-Analise-de-Dados/MANHA/mundo_2023_dados_defeituosos.csv'\n",
    "url"
   ]
  },
  {
   "cell_type": "code",
   "execution_count": 3,
   "id": "6b430cf9",
   "metadata": {},
   "outputs": [
    {
     "name": "stdout",
     "output_type": "stream",
     "text": [
      "184\n"
     ]
    },
    {
     "data": {
      "text/html": [
       "<div>\n",
       "<style scoped>\n",
       "    .dataframe tbody tr th:only-of-type {\n",
       "        vertical-align: middle;\n",
       "    }\n",
       "\n",
       "    .dataframe tbody tr th {\n",
       "        vertical-align: top;\n",
       "    }\n",
       "\n",
       "    .dataframe thead th {\n",
       "        text-align: right;\n",
       "    }\n",
       "</style>\n",
       "<table border=\"1\" class=\"dataframe\">\n",
       "  <thead>\n",
       "    <tr style=\"text-align: right;\">\n",
       "      <th></th>\n",
       "      <th>Country</th>\n",
       "      <th>Agricultural Land( %)</th>\n",
       "      <th>Land Area(Km2)</th>\n",
       "      <th>Armed Forces size</th>\n",
       "      <th>Birth Rate</th>\n",
       "      <th>Co2-Emissions</th>\n",
       "      <th>Fertility Rate</th>\n",
       "      <th>Forested Area (%)</th>\n",
       "      <th>Gasoline Price</th>\n",
       "      <th>GDP</th>\n",
       "      <th>Gross primary education enrollment (%)</th>\n",
       "      <th>Gross tertiary education enrollment (%)</th>\n",
       "      <th>Infant mortality</th>\n",
       "      <th>Life expectancy</th>\n",
       "      <th>Maternal mortality ratio</th>\n",
       "      <th>Minimum wage</th>\n",
       "      <th>Official language</th>\n",
       "      <th>Out of pocket health expenditure</th>\n",
       "      <th>Physicians per thousand</th>\n",
       "      <th>Population</th>\n",
       "      <th>Population: Labor force participation (%)</th>\n",
       "      <th>Tax revenue (%)</th>\n",
       "      <th>Total tax rate</th>\n",
       "      <th>Unemployment rate</th>\n",
       "      <th>Urban_population</th>\n",
       "      <th>Latitude</th>\n",
       "      <th>Longitude</th>\n",
       "    </tr>\n",
       "  </thead>\n",
       "  <tbody>\n",
       "    <tr>\n",
       "      <th>0</th>\n",
       "      <td>Afghanistan</td>\n",
       "      <td>58.10%</td>\n",
       "      <td>652230.0</td>\n",
       "      <td>323000.0</td>\n",
       "      <td>32.49</td>\n",
       "      <td>8672.0</td>\n",
       "      <td>4.47</td>\n",
       "      <td>2.10%</td>\n",
       "      <td>$0.70</td>\n",
       "      <td>$19,101,353,833</td>\n",
       "      <td>104.00%</td>\n",
       "      <td>9.70%</td>\n",
       "      <td>47.9</td>\n",
       "      <td>64.5</td>\n",
       "      <td>638.0</td>\n",
       "      <td>$0.43</td>\n",
       "      <td>Pashto</td>\n",
       "      <td>78.40%</td>\n",
       "      <td>0.28</td>\n",
       "      <td>38041754.0</td>\n",
       "      <td>48.90%</td>\n",
       "      <td>9.30%</td>\n",
       "      <td>71.40%</td>\n",
       "      <td>11.12%</td>\n",
       "      <td>9797273.0</td>\n",
       "      <td>33.939110</td>\n",
       "      <td>67.709953</td>\n",
       "    </tr>\n",
       "    <tr>\n",
       "      <th>1</th>\n",
       "      <td>Albania</td>\n",
       "      <td>43.10%</td>\n",
       "      <td>28748.0</td>\n",
       "      <td>9000.0</td>\n",
       "      <td>11.78</td>\n",
       "      <td>4536.0</td>\n",
       "      <td>1.62</td>\n",
       "      <td>28.10%</td>\n",
       "      <td>$1.36</td>\n",
       "      <td>$15,278,077,447</td>\n",
       "      <td>107.00%</td>\n",
       "      <td>55.00%</td>\n",
       "      <td>7.8</td>\n",
       "      <td>78.5</td>\n",
       "      <td>15.0</td>\n",
       "      <td>$1.12</td>\n",
       "      <td>Albanian</td>\n",
       "      <td>56.90%</td>\n",
       "      <td>1.20</td>\n",
       "      <td>2854191.0</td>\n",
       "      <td>55.70%</td>\n",
       "      <td>18.60%</td>\n",
       "      <td>36.60%</td>\n",
       "      <td>12.33%</td>\n",
       "      <td>1747593.0</td>\n",
       "      <td>41.153332</td>\n",
       "      <td>20.168331</td>\n",
       "    </tr>\n",
       "    <tr>\n",
       "      <th>2</th>\n",
       "      <td>Algeria</td>\n",
       "      <td>17.40%</td>\n",
       "      <td>2381741.0</td>\n",
       "      <td>317000.0</td>\n",
       "      <td>24.28</td>\n",
       "      <td>150006.0</td>\n",
       "      <td>3.02</td>\n",
       "      <td>0.80%</td>\n",
       "      <td>$0.28</td>\n",
       "      <td>$169,988,236,398</td>\n",
       "      <td>109.90%</td>\n",
       "      <td>51.40%</td>\n",
       "      <td>20.1</td>\n",
       "      <td>76.7</td>\n",
       "      <td>112.0</td>\n",
       "      <td>$0.95</td>\n",
       "      <td>Arabic</td>\n",
       "      <td>28.10%</td>\n",
       "      <td>1.72</td>\n",
       "      <td>43053054.0</td>\n",
       "      <td>41.20%</td>\n",
       "      <td>37.20%</td>\n",
       "      <td>66.10%</td>\n",
       "      <td>11.70%</td>\n",
       "      <td>31510100.0</td>\n",
       "      <td>28.033886</td>\n",
       "      <td>1.659626</td>\n",
       "    </tr>\n",
       "    <tr>\n",
       "      <th>3</th>\n",
       "      <td>Andorra</td>\n",
       "      <td>40.00%</td>\n",
       "      <td>468.0</td>\n",
       "      <td>NaN</td>\n",
       "      <td>7.20</td>\n",
       "      <td>469.0</td>\n",
       "      <td>1.27</td>\n",
       "      <td>34.00%</td>\n",
       "      <td>$1.51</td>\n",
       "      <td>$3,154,057,987</td>\n",
       "      <td>106.40%</td>\n",
       "      <td>NaN</td>\n",
       "      <td>2.7</td>\n",
       "      <td>NaN</td>\n",
       "      <td>NaN</td>\n",
       "      <td>$6.63</td>\n",
       "      <td>Catalan</td>\n",
       "      <td>36.40%</td>\n",
       "      <td>3.33</td>\n",
       "      <td>77142.0</td>\n",
       "      <td>NaN</td>\n",
       "      <td>NaN</td>\n",
       "      <td>NaN</td>\n",
       "      <td>NaN</td>\n",
       "      <td>67873.0</td>\n",
       "      <td>42.506285</td>\n",
       "      <td>1.521801</td>\n",
       "    </tr>\n",
       "    <tr>\n",
       "      <th>4</th>\n",
       "      <td>Angola</td>\n",
       "      <td>47.50%</td>\n",
       "      <td>1246700.0</td>\n",
       "      <td>117000.0</td>\n",
       "      <td>40.73</td>\n",
       "      <td>34693.0</td>\n",
       "      <td>5.52</td>\n",
       "      <td>46.30%</td>\n",
       "      <td>$0.97</td>\n",
       "      <td>$94,635,415,870</td>\n",
       "      <td>113.50%</td>\n",
       "      <td>9.30%</td>\n",
       "      <td>51.6</td>\n",
       "      <td>60.8</td>\n",
       "      <td>241.0</td>\n",
       "      <td>$0.71</td>\n",
       "      <td>Portuguese</td>\n",
       "      <td>33.40%</td>\n",
       "      <td>0.21</td>\n",
       "      <td>31825295.0</td>\n",
       "      <td>77.50%</td>\n",
       "      <td>9.20%</td>\n",
       "      <td>49.10%</td>\n",
       "      <td>6.89%</td>\n",
       "      <td>21061025.0</td>\n",
       "      <td>-11.202692</td>\n",
       "      <td>17.873887</td>\n",
       "    </tr>\n",
       "  </tbody>\n",
       "</table>\n",
       "</div>"
      ],
      "text/plain": [
       "       Country Agricultural Land( %)  Land Area(Km2)  Armed Forces size  \\\n",
       "0  Afghanistan                58.10%        652230.0           323000.0   \n",
       "1      Albania                43.10%         28748.0             9000.0   \n",
       "2      Algeria                17.40%       2381741.0           317000.0   \n",
       "3      Andorra                40.00%           468.0                NaN   \n",
       "4       Angola                47.50%       1246700.0           117000.0   \n",
       "\n",
       "   Birth Rate  Co2-Emissions  Fertility Rate Forested Area (%) Gasoline Price  \\\n",
       "0       32.49         8672.0            4.47             2.10%         $0.70    \n",
       "1       11.78         4536.0            1.62            28.10%         $1.36    \n",
       "2       24.28       150006.0            3.02             0.80%         $0.28    \n",
       "3        7.20          469.0            1.27            34.00%         $1.51    \n",
       "4       40.73        34693.0            5.52            46.30%         $0.97    \n",
       "\n",
       "                 GDP Gross primary education enrollment (%)  \\\n",
       "0   $19,101,353,833                                 104.00%   \n",
       "1   $15,278,077,447                                 107.00%   \n",
       "2  $169,988,236,398                                 109.90%   \n",
       "3    $3,154,057,987                                 106.40%   \n",
       "4   $94,635,415,870                                 113.50%   \n",
       "\n",
       "  Gross tertiary education enrollment (%)  Infant mortality  Life expectancy  \\\n",
       "0                                   9.70%              47.9             64.5   \n",
       "1                                  55.00%               7.8             78.5   \n",
       "2                                  51.40%              20.1             76.7   \n",
       "3                                     NaN               2.7              NaN   \n",
       "4                                   9.30%              51.6             60.8   \n",
       "\n",
       "   Maternal mortality ratio Minimum wage Official language  \\\n",
       "0                     638.0       $0.43             Pashto   \n",
       "1                      15.0       $1.12           Albanian   \n",
       "2                     112.0       $0.95             Arabic   \n",
       "3                       NaN       $6.63            Catalan   \n",
       "4                     241.0       $0.71         Portuguese   \n",
       "\n",
       "  Out of pocket health expenditure  Physicians per thousand  Population  \\\n",
       "0                           78.40%                     0.28  38041754.0   \n",
       "1                           56.90%                     1.20   2854191.0   \n",
       "2                           28.10%                     1.72  43053054.0   \n",
       "3                           36.40%                     3.33     77142.0   \n",
       "4                           33.40%                     0.21  31825295.0   \n",
       "\n",
       "  Population: Labor force participation (%) Tax revenue (%) Total tax rate  \\\n",
       "0                                    48.90%           9.30%         71.40%   \n",
       "1                                    55.70%          18.60%         36.60%   \n",
       "2                                    41.20%          37.20%         66.10%   \n",
       "3                                       NaN             NaN            NaN   \n",
       "4                                    77.50%           9.20%         49.10%   \n",
       "\n",
       "  Unemployment rate  Urban_population   Latitude  Longitude  \n",
       "0            11.12%         9797273.0  33.939110  67.709953  \n",
       "1            12.33%         1747593.0  41.153332  20.168331  \n",
       "2            11.70%        31510100.0  28.033886   1.659626  \n",
       "3               NaN           67873.0  42.506285   1.521801  \n",
       "4             6.89%        21061025.0 -11.202692  17.873887  "
      ]
     },
     "execution_count": 3,
     "metadata": {},
     "output_type": "execute_result"
    }
   ],
   "source": [
    "df = pd.read_csv(url)\n",
    "print(len(df))\n",
    "df.head()"
   ]
  },
  {
   "cell_type": "code",
   "execution_count": 6,
   "id": "d522fee4",
   "metadata": {},
   "outputs": [
    {
     "name": "stdout",
     "output_type": "stream",
     "text": [
      "<class 'pandas.core.frame.DataFrame'>\n",
      "RangeIndex: 184 entries, 0 to 183\n",
      "Data columns (total 27 columns):\n",
      " #   Column                                     Non-Null Count  Dtype  \n",
      "---  ------                                     --------------  -----  \n",
      " 0   Country                                    184 non-null    object \n",
      " 1   Agricultural Land( %)                      184 non-null    object \n",
      " 2   Land Area(Km2)                             184 non-null    float64\n",
      " 3   Armed Forces size                          169 non-null    float64\n",
      " 4   Birth Rate                                 184 non-null    float64\n",
      " 5   Co2-Emissions                              184 non-null    float64\n",
      " 6   Fertility Rate                             184 non-null    float64\n",
      " 7   Forested Area (%)                          184 non-null    object \n",
      " 8   Gasoline Price                             172 non-null    object \n",
      " 9   GDP                                        184 non-null    object \n",
      " 10  Gross primary education enrollment (%)     183 non-null    object \n",
      " 11  Gross tertiary education enrollment (%)    180 non-null    object \n",
      " 12  Infant mortality                           184 non-null    float64\n",
      " 13  Life expectancy                            183 non-null    float64\n",
      " 14  Maternal mortality ratio                   179 non-null    float64\n",
      " 15  Minimum wage                               149 non-null    object \n",
      " 16  Official language                          180 non-null    object \n",
      " 17  Out of pocket health expenditure           181 non-null    object \n",
      " 18  Physicians per thousand                    184 non-null    float64\n",
      " 19  Population                                 184 non-null    float64\n",
      " 20  Population: Labor force participation (%)  174 non-null    object \n",
      " 21  Tax revenue (%)                            166 non-null    object \n",
      " 22  Total tax rate                             179 non-null    object \n",
      " 23  Unemployment rate                          174 non-null    object \n",
      " 24  Urban_population                           184 non-null    float64\n",
      " 25  Latitude                                   184 non-null    float64\n",
      " 26  Longitude                                  184 non-null    float64\n",
      "dtypes: float64(13), object(14)\n",
      "memory usage: 38.9+ KB\n"
     ]
    }
   ],
   "source": [
    "df.info()"
   ]
  },
  {
   "cell_type": "code",
   "execution_count": 7,
   "id": "0f24e244",
   "metadata": {},
   "outputs": [
    {
     "name": "stdout",
     "output_type": "stream",
     "text": [
      "The-rain-in-Spain\n"
     ]
    }
   ],
   "source": [
    "import re\n",
    "\n",
    "txt = \"The rain in Spain\"\n",
    "#x = re.sub(\"\\s\", \"-\", txt)\n",
    "x = re.sub(\" \", \"-\", txt)\n",
    "print(x)"
   ]
  },
  {
   "cell_type": "code",
   "execution_count": 8,
   "id": "1d221861",
   "metadata": {},
   "outputs": [
    {
     "data": {
      "text/plain": [
       "0    $0.70 \n",
       "1    $1.36 \n",
       "2    $0.28 \n",
       "Name: Gasoline Price, dtype: object"
      ]
     },
     "execution_count": 8,
     "metadata": {},
     "output_type": "execute_result"
    }
   ],
   "source": [
    "df['Gasoline Price'][:3]"
   ]
  },
  {
   "cell_type": "code",
   "execution_count": 9,
   "id": "805145d3",
   "metadata": {},
   "outputs": [
    {
     "name": "stdout",
     "output_type": "stream",
     "text": [
      "0.70\n"
     ]
    }
   ],
   "source": [
    "txt = '$0.70'\n",
    "\n",
    "x = re.sub('\\$', '', txt)\n",
    "print(x)"
   ]
  },
  {
   "cell_type": "code",
   "execution_count": 10,
   "id": "f7a4c712",
   "metadata": {},
   "outputs": [
    {
     "data": {
      "text/plain": [
       "'0.70'"
      ]
     },
     "execution_count": 10,
     "metadata": {},
     "output_type": "execute_result"
    }
   ],
   "source": [
    "txt.replace('$', '',)"
   ]
  },
  {
   "cell_type": "code",
   "execution_count": 11,
   "id": "4b1562f4",
   "metadata": {},
   "outputs": [
    {
     "data": {
      "text/plain": [
       "'0.70'"
      ]
     },
     "execution_count": 11,
     "metadata": {},
     "output_type": "execute_result"
    }
   ],
   "source": [
    "txt = '$0.70'\n",
    "v = txt.replace('$', '')\n",
    "v"
   ]
  },
  {
   "cell_type": "code",
   "execution_count": 12,
   "id": "4bc69e0b",
   "metadata": {},
   "outputs": [
    {
     "data": {
      "text/plain": [
       "'0.70'"
      ]
     },
     "execution_count": 12,
     "metadata": {},
     "output_type": "execute_result"
    }
   ],
   "source": [
    "txt = '$0.70$'\n",
    "v = txt.replace('$', '')\n",
    "v"
   ]
  },
  {
   "cell_type": "code",
   "execution_count": 13,
   "id": "455f0e57",
   "metadata": {},
   "outputs": [
    {
     "data": {
      "text/plain": [
       "0.7"
      ]
     },
     "execution_count": 13,
     "metadata": {},
     "output_type": "execute_result"
    }
   ],
   "source": [
    "txt = '$0.70$'\n",
    "v = txt.replace('$', '')\n",
    "v = float(v)\n",
    "v"
   ]
  },
  {
   "cell_type": "code",
   "execution_count": 14,
   "id": "f551821a",
   "metadata": {},
   "outputs": [
    {
     "data": {
      "text/plain": [
       "float"
      ]
     },
     "execution_count": 14,
     "metadata": {},
     "output_type": "execute_result"
    }
   ],
   "source": [
    "type(v)"
   ]
  },
  {
   "cell_type": "markdown",
   "id": "df4ace58",
   "metadata": {},
   "source": [
    "# Função Lambda"
   ]
  },
  {
   "cell_type": "code",
   "execution_count": 15,
   "id": "4ad304c8",
   "metadata": {},
   "outputs": [],
   "source": [
    "def f(x):\n",
    "    return x * 2"
   ]
  },
  {
   "cell_type": "code",
   "execution_count": 16,
   "id": "44949102",
   "metadata": {},
   "outputs": [
    {
     "data": {
      "text/plain": [
       "4"
      ]
     },
     "execution_count": 16,
     "metadata": {},
     "output_type": "execute_result"
    }
   ],
   "source": [
    "f(2)"
   ]
  },
  {
   "cell_type": "code",
   "execution_count": 18,
   "id": "530528c1",
   "metadata": {},
   "outputs": [
    {
     "ename": "SyntaxError",
     "evalue": "invalid syntax (907732718.py, line 1)",
     "output_type": "error",
     "traceback": [
      "\u001b[0;36m  Cell \u001b[0;32mIn[18], line 1\u001b[0;36m\u001b[0m\n\u001b[0;31m    g = def f(x): return x * 2\u001b[0m\n\u001b[0m        ^\u001b[0m\n\u001b[0;31mSyntaxError\u001b[0m\u001b[0;31m:\u001b[0m invalid syntax\n"
     ]
    }
   ],
   "source": [
    "g = def f(x): return x * 2"
   ]
  },
  {
   "cell_type": "code",
   "execution_count": null,
   "id": "2ed95329",
   "metadata": {},
   "outputs": [],
   "source": [
    "g = lambda x :  x * 2\n",
    "g"
   ]
  },
  {
   "cell_type": "code",
   "execution_count": null,
   "id": "ab4713d9",
   "metadata": {},
   "outputs": [],
   "source": [
    "g(6)"
   ]
  },
  {
   "cell_type": "code",
   "execution_count": null,
   "id": "3b2b07d1",
   "metadata": {},
   "outputs": [],
   "source": [
    "a = g(6)\n",
    "a"
   ]
  },
  {
   "cell_type": "markdown",
   "id": "d06f1aba",
   "metadata": {},
   "source": [
    "# aplicar a f(x) numa lista de valores"
   ]
  },
  {
   "cell_type": "code",
   "execution_count": 19,
   "id": "dd874b81",
   "metadata": {},
   "outputs": [
    {
     "data": {
      "text/plain": [
       "6"
      ]
     },
     "execution_count": 19,
     "metadata": {},
     "output_type": "execute_result"
    }
   ],
   "source": [
    "f(3)"
   ]
  },
  {
   "cell_type": "code",
   "execution_count": 20,
   "id": "48e154e4",
   "metadata": {},
   "outputs": [],
   "source": [
    "# Solução 1"
   ]
  },
  {
   "cell_type": "code",
   "execution_count": 21,
   "id": "23de0a6d",
   "metadata": {},
   "outputs": [],
   "source": [
    "def aplicar_valores_numa_lista(lista, funcao):\n",
    "    l = [] # lista vazia\n",
    "    for elem in lista:\n",
    "        valor = funcao(elem)\n",
    "        l.append(valor)\n",
    "        \n",
    "    return l"
   ]
  },
  {
   "cell_type": "code",
   "execution_count": 22,
   "id": "c06feef6",
   "metadata": {},
   "outputs": [
    {
     "data": {
      "text/plain": [
       "[3, 10, 2, 6]"
      ]
     },
     "execution_count": 22,
     "metadata": {},
     "output_type": "execute_result"
    }
   ],
   "source": [
    "l1 = [ 3, 10, 2, 6]\n",
    "l1"
   ]
  },
  {
   "cell_type": "code",
   "execution_count": 23,
   "id": "51833cbb",
   "metadata": {},
   "outputs": [
    {
     "data": {
      "text/plain": [
       "[6, 20, 4, 12]"
      ]
     },
     "execution_count": 23,
     "metadata": {},
     "output_type": "execute_result"
    }
   ],
   "source": [
    "aplicar_valores_numa_lista(l1, f)"
   ]
  },
  {
   "cell_type": "code",
   "execution_count": 24,
   "id": "cbfdf99b",
   "metadata": {},
   "outputs": [],
   "source": [
    "# Solução 2 - Usando List Comprehension"
   ]
  },
  {
   "cell_type": "code",
   "execution_count": 25,
   "id": "010f7e7d",
   "metadata": {},
   "outputs": [],
   "source": [
    "def aplicar_valores_numa_lista(lista, funcao):\n",
    "    l = [] # lista vazia\n",
    "    for elem in lista:\n",
    "        valor = funcao(elem)\n",
    "        l.append(valor)\n",
    "        \n",
    "    return l\n",
    "\n",
    "def aplicar_valores_numa_lista_comp(lista, funcao):\n",
    "    return [ funcao(elem)  for elem in lista]"
   ]
  },
  {
   "cell_type": "code",
   "execution_count": 26,
   "id": "565e2faa",
   "metadata": {},
   "outputs": [
    {
     "data": {
      "text/plain": [
       "[6, 20, 4, 12]"
      ]
     },
     "execution_count": 26,
     "metadata": {},
     "output_type": "execute_result"
    }
   ],
   "source": [
    "aplicar_valores_numa_lista_comp(l1, f)"
   ]
  },
  {
   "cell_type": "code",
   "execution_count": 27,
   "id": "3392c76a",
   "metadata": {},
   "outputs": [],
   "source": [
    "# Solução 3 - Usando a funcao Lambda"
   ]
  },
  {
   "cell_type": "code",
   "execution_count": 28,
   "id": "256e40eb",
   "metadata": {},
   "outputs": [],
   "source": [
    "def f(x):\n",
    "    return x * 2"
   ]
  },
  {
   "cell_type": "code",
   "execution_count": 29,
   "id": "0ea0ad5d",
   "metadata": {},
   "outputs": [
    {
     "data": {
      "text/plain": [
       "[3, 10, 2, 6]"
      ]
     },
     "execution_count": 29,
     "metadata": {},
     "output_type": "execute_result"
    }
   ],
   "source": [
    "l1"
   ]
  },
  {
   "cell_type": "code",
   "execution_count": 30,
   "id": "ee751b1b",
   "metadata": {},
   "outputs": [
    {
     "data": {
      "text/plain": [
       "[6, 20, 4, 12]"
      ]
     },
     "execution_count": 30,
     "metadata": {},
     "output_type": "execute_result"
    }
   ],
   "source": [
    "aplicar_valores_numa_lista_comp(l1, lambda x : x * 2)"
   ]
  },
  {
   "cell_type": "code",
   "execution_count": 31,
   "id": "73e1cd23",
   "metadata": {},
   "outputs": [],
   "source": [
    "# Solucao 4: List  List Comprehension"
   ]
  },
  {
   "cell_type": "code",
   "execution_count": 32,
   "id": "31590576",
   "metadata": {},
   "outputs": [
    {
     "data": {
      "text/plain": [
       "[6, 20, 4, 12]"
      ]
     },
     "execution_count": 32,
     "metadata": {},
     "output_type": "execute_result"
    }
   ],
   "source": [
    "[  x * 2  for x in l1]"
   ]
  },
  {
   "cell_type": "code",
   "execution_count": 33,
   "id": "afa30d28",
   "metadata": {},
   "outputs": [
    {
     "data": {
      "text/html": [
       "<div>\n",
       "<style scoped>\n",
       "    .dataframe tbody tr th:only-of-type {\n",
       "        vertical-align: middle;\n",
       "    }\n",
       "\n",
       "    .dataframe tbody tr th {\n",
       "        vertical-align: top;\n",
       "    }\n",
       "\n",
       "    .dataframe thead th {\n",
       "        text-align: right;\n",
       "    }\n",
       "</style>\n",
       "<table border=\"1\" class=\"dataframe\">\n",
       "  <thead>\n",
       "    <tr style=\"text-align: right;\">\n",
       "      <th></th>\n",
       "      <th>Country</th>\n",
       "      <th>Agricultural Land( %)</th>\n",
       "      <th>Land Area(Km2)</th>\n",
       "      <th>Armed Forces size</th>\n",
       "      <th>Birth Rate</th>\n",
       "      <th>Co2-Emissions</th>\n",
       "      <th>Fertility Rate</th>\n",
       "      <th>Forested Area (%)</th>\n",
       "      <th>Gasoline Price</th>\n",
       "      <th>GDP</th>\n",
       "      <th>Gross primary education enrollment (%)</th>\n",
       "      <th>Gross tertiary education enrollment (%)</th>\n",
       "      <th>Infant mortality</th>\n",
       "      <th>Life expectancy</th>\n",
       "      <th>Maternal mortality ratio</th>\n",
       "      <th>Minimum wage</th>\n",
       "      <th>Official language</th>\n",
       "      <th>Out of pocket health expenditure</th>\n",
       "      <th>Physicians per thousand</th>\n",
       "      <th>Population</th>\n",
       "      <th>Population: Labor force participation (%)</th>\n",
       "      <th>Tax revenue (%)</th>\n",
       "      <th>Total tax rate</th>\n",
       "      <th>Unemployment rate</th>\n",
       "      <th>Urban_population</th>\n",
       "      <th>Latitude</th>\n",
       "      <th>Longitude</th>\n",
       "    </tr>\n",
       "  </thead>\n",
       "  <tbody>\n",
       "    <tr>\n",
       "      <th>0</th>\n",
       "      <td>Afghanistan</td>\n",
       "      <td>58.10%</td>\n",
       "      <td>652230.0</td>\n",
       "      <td>323000.0</td>\n",
       "      <td>32.49</td>\n",
       "      <td>8672.0</td>\n",
       "      <td>4.47</td>\n",
       "      <td>2.10%</td>\n",
       "      <td>$0.70</td>\n",
       "      <td>$19,101,353,833</td>\n",
       "      <td>104.00%</td>\n",
       "      <td>9.70%</td>\n",
       "      <td>47.9</td>\n",
       "      <td>64.5</td>\n",
       "      <td>638.0</td>\n",
       "      <td>$0.43</td>\n",
       "      <td>Pashto</td>\n",
       "      <td>78.40%</td>\n",
       "      <td>0.28</td>\n",
       "      <td>38041754.0</td>\n",
       "      <td>48.90%</td>\n",
       "      <td>9.30%</td>\n",
       "      <td>71.40%</td>\n",
       "      <td>11.12%</td>\n",
       "      <td>9797273.0</td>\n",
       "      <td>33.939110</td>\n",
       "      <td>67.709953</td>\n",
       "    </tr>\n",
       "    <tr>\n",
       "      <th>1</th>\n",
       "      <td>Albania</td>\n",
       "      <td>43.10%</td>\n",
       "      <td>28748.0</td>\n",
       "      <td>9000.0</td>\n",
       "      <td>11.78</td>\n",
       "      <td>4536.0</td>\n",
       "      <td>1.62</td>\n",
       "      <td>28.10%</td>\n",
       "      <td>$1.36</td>\n",
       "      <td>$15,278,077,447</td>\n",
       "      <td>107.00%</td>\n",
       "      <td>55.00%</td>\n",
       "      <td>7.8</td>\n",
       "      <td>78.5</td>\n",
       "      <td>15.0</td>\n",
       "      <td>$1.12</td>\n",
       "      <td>Albanian</td>\n",
       "      <td>56.90%</td>\n",
       "      <td>1.20</td>\n",
       "      <td>2854191.0</td>\n",
       "      <td>55.70%</td>\n",
       "      <td>18.60%</td>\n",
       "      <td>36.60%</td>\n",
       "      <td>12.33%</td>\n",
       "      <td>1747593.0</td>\n",
       "      <td>41.153332</td>\n",
       "      <td>20.168331</td>\n",
       "    </tr>\n",
       "    <tr>\n",
       "      <th>2</th>\n",
       "      <td>Algeria</td>\n",
       "      <td>17.40%</td>\n",
       "      <td>2381741.0</td>\n",
       "      <td>317000.0</td>\n",
       "      <td>24.28</td>\n",
       "      <td>150006.0</td>\n",
       "      <td>3.02</td>\n",
       "      <td>0.80%</td>\n",
       "      <td>$0.28</td>\n",
       "      <td>$169,988,236,398</td>\n",
       "      <td>109.90%</td>\n",
       "      <td>51.40%</td>\n",
       "      <td>20.1</td>\n",
       "      <td>76.7</td>\n",
       "      <td>112.0</td>\n",
       "      <td>$0.95</td>\n",
       "      <td>Arabic</td>\n",
       "      <td>28.10%</td>\n",
       "      <td>1.72</td>\n",
       "      <td>43053054.0</td>\n",
       "      <td>41.20%</td>\n",
       "      <td>37.20%</td>\n",
       "      <td>66.10%</td>\n",
       "      <td>11.70%</td>\n",
       "      <td>31510100.0</td>\n",
       "      <td>28.033886</td>\n",
       "      <td>1.659626</td>\n",
       "    </tr>\n",
       "    <tr>\n",
       "      <th>3</th>\n",
       "      <td>Andorra</td>\n",
       "      <td>40.00%</td>\n",
       "      <td>468.0</td>\n",
       "      <td>NaN</td>\n",
       "      <td>7.20</td>\n",
       "      <td>469.0</td>\n",
       "      <td>1.27</td>\n",
       "      <td>34.00%</td>\n",
       "      <td>$1.51</td>\n",
       "      <td>$3,154,057,987</td>\n",
       "      <td>106.40%</td>\n",
       "      <td>NaN</td>\n",
       "      <td>2.7</td>\n",
       "      <td>NaN</td>\n",
       "      <td>NaN</td>\n",
       "      <td>$6.63</td>\n",
       "      <td>Catalan</td>\n",
       "      <td>36.40%</td>\n",
       "      <td>3.33</td>\n",
       "      <td>77142.0</td>\n",
       "      <td>NaN</td>\n",
       "      <td>NaN</td>\n",
       "      <td>NaN</td>\n",
       "      <td>NaN</td>\n",
       "      <td>67873.0</td>\n",
       "      <td>42.506285</td>\n",
       "      <td>1.521801</td>\n",
       "    </tr>\n",
       "    <tr>\n",
       "      <th>4</th>\n",
       "      <td>Angola</td>\n",
       "      <td>47.50%</td>\n",
       "      <td>1246700.0</td>\n",
       "      <td>117000.0</td>\n",
       "      <td>40.73</td>\n",
       "      <td>34693.0</td>\n",
       "      <td>5.52</td>\n",
       "      <td>46.30%</td>\n",
       "      <td>$0.97</td>\n",
       "      <td>$94,635,415,870</td>\n",
       "      <td>113.50%</td>\n",
       "      <td>9.30%</td>\n",
       "      <td>51.6</td>\n",
       "      <td>60.8</td>\n",
       "      <td>241.0</td>\n",
       "      <td>$0.71</td>\n",
       "      <td>Portuguese</td>\n",
       "      <td>33.40%</td>\n",
       "      <td>0.21</td>\n",
       "      <td>31825295.0</td>\n",
       "      <td>77.50%</td>\n",
       "      <td>9.20%</td>\n",
       "      <td>49.10%</td>\n",
       "      <td>6.89%</td>\n",
       "      <td>21061025.0</td>\n",
       "      <td>-11.202692</td>\n",
       "      <td>17.873887</td>\n",
       "    </tr>\n",
       "  </tbody>\n",
       "</table>\n",
       "</div>"
      ],
      "text/plain": [
       "       Country Agricultural Land( %)  Land Area(Km2)  Armed Forces size  \\\n",
       "0  Afghanistan                58.10%        652230.0           323000.0   \n",
       "1      Albania                43.10%         28748.0             9000.0   \n",
       "2      Algeria                17.40%       2381741.0           317000.0   \n",
       "3      Andorra                40.00%           468.0                NaN   \n",
       "4       Angola                47.50%       1246700.0           117000.0   \n",
       "\n",
       "   Birth Rate  Co2-Emissions  Fertility Rate Forested Area (%) Gasoline Price  \\\n",
       "0       32.49         8672.0            4.47             2.10%         $0.70    \n",
       "1       11.78         4536.0            1.62            28.10%         $1.36    \n",
       "2       24.28       150006.0            3.02             0.80%         $0.28    \n",
       "3        7.20          469.0            1.27            34.00%         $1.51    \n",
       "4       40.73        34693.0            5.52            46.30%         $0.97    \n",
       "\n",
       "                 GDP Gross primary education enrollment (%)  \\\n",
       "0   $19,101,353,833                                 104.00%   \n",
       "1   $15,278,077,447                                 107.00%   \n",
       "2  $169,988,236,398                                 109.90%   \n",
       "3    $3,154,057,987                                 106.40%   \n",
       "4   $94,635,415,870                                 113.50%   \n",
       "\n",
       "  Gross tertiary education enrollment (%)  Infant mortality  Life expectancy  \\\n",
       "0                                   9.70%              47.9             64.5   \n",
       "1                                  55.00%               7.8             78.5   \n",
       "2                                  51.40%              20.1             76.7   \n",
       "3                                     NaN               2.7              NaN   \n",
       "4                                   9.30%              51.6             60.8   \n",
       "\n",
       "   Maternal mortality ratio Minimum wage Official language  \\\n",
       "0                     638.0       $0.43             Pashto   \n",
       "1                      15.0       $1.12           Albanian   \n",
       "2                     112.0       $0.95             Arabic   \n",
       "3                       NaN       $6.63            Catalan   \n",
       "4                     241.0       $0.71         Portuguese   \n",
       "\n",
       "  Out of pocket health expenditure  Physicians per thousand  Population  \\\n",
       "0                           78.40%                     0.28  38041754.0   \n",
       "1                           56.90%                     1.20   2854191.0   \n",
       "2                           28.10%                     1.72  43053054.0   \n",
       "3                           36.40%                     3.33     77142.0   \n",
       "4                           33.40%                     0.21  31825295.0   \n",
       "\n",
       "  Population: Labor force participation (%) Tax revenue (%) Total tax rate  \\\n",
       "0                                    48.90%           9.30%         71.40%   \n",
       "1                                    55.70%          18.60%         36.60%   \n",
       "2                                    41.20%          37.20%         66.10%   \n",
       "3                                       NaN             NaN            NaN   \n",
       "4                                    77.50%           9.20%         49.10%   \n",
       "\n",
       "  Unemployment rate  Urban_population   Latitude  Longitude  \n",
       "0            11.12%         9797273.0  33.939110  67.709953  \n",
       "1            12.33%         1747593.0  41.153332  20.168331  \n",
       "2            11.70%        31510100.0  28.033886   1.659626  \n",
       "3               NaN           67873.0  42.506285   1.521801  \n",
       "4             6.89%        21061025.0 -11.202692  17.873887  "
      ]
     },
     "execution_count": 33,
     "metadata": {},
     "output_type": "execute_result"
    }
   ],
   "source": [
    "df2 = df.copy()\n",
    "df2.head()"
   ]
  },
  {
   "cell_type": "code",
   "execution_count": 34,
   "id": "35ed5cd0",
   "metadata": {},
   "outputs": [
    {
     "name": "stdout",
     "output_type": "stream",
     "text": [
      "184\n",
      "184\n"
     ]
    }
   ],
   "source": [
    "print(len(df2))\n",
    "df2['Gasoline Price'] = df2['Gasoline Price'].dropna()\n",
    "print(len(df2))"
   ]
  },
  {
   "cell_type": "code",
   "execution_count": 35,
   "id": "e0b2d12b",
   "metadata": {},
   "outputs": [
    {
     "data": {
      "text/html": [
       "<div>\n",
       "<style scoped>\n",
       "    .dataframe tbody tr th:only-of-type {\n",
       "        vertical-align: middle;\n",
       "    }\n",
       "\n",
       "    .dataframe tbody tr th {\n",
       "        vertical-align: top;\n",
       "    }\n",
       "\n",
       "    .dataframe thead th {\n",
       "        text-align: right;\n",
       "    }\n",
       "</style>\n",
       "<table border=\"1\" class=\"dataframe\">\n",
       "  <thead>\n",
       "    <tr style=\"text-align: right;\">\n",
       "      <th></th>\n",
       "      <th>Country</th>\n",
       "      <th>Agricultural Land( %)</th>\n",
       "      <th>Land Area(Km2)</th>\n",
       "      <th>Armed Forces size</th>\n",
       "      <th>Birth Rate</th>\n",
       "      <th>Co2-Emissions</th>\n",
       "      <th>Fertility Rate</th>\n",
       "      <th>Forested Area (%)</th>\n",
       "      <th>Gasoline Price</th>\n",
       "      <th>GDP</th>\n",
       "      <th>Gross primary education enrollment (%)</th>\n",
       "      <th>Gross tertiary education enrollment (%)</th>\n",
       "      <th>Infant mortality</th>\n",
       "      <th>Life expectancy</th>\n",
       "      <th>Maternal mortality ratio</th>\n",
       "      <th>Minimum wage</th>\n",
       "      <th>Official language</th>\n",
       "      <th>Out of pocket health expenditure</th>\n",
       "      <th>Physicians per thousand</th>\n",
       "      <th>Population</th>\n",
       "      <th>Population: Labor force participation (%)</th>\n",
       "      <th>Tax revenue (%)</th>\n",
       "      <th>Total tax rate</th>\n",
       "      <th>Unemployment rate</th>\n",
       "      <th>Urban_population</th>\n",
       "      <th>Latitude</th>\n",
       "      <th>Longitude</th>\n",
       "    </tr>\n",
       "  </thead>\n",
       "  <tbody>\n",
       "    <tr>\n",
       "      <th>0</th>\n",
       "      <td>Afghanistan</td>\n",
       "      <td>58.10%</td>\n",
       "      <td>652230.0</td>\n",
       "      <td>323000.0</td>\n",
       "      <td>32.49</td>\n",
       "      <td>8672.0</td>\n",
       "      <td>4.47</td>\n",
       "      <td>2.10%</td>\n",
       "      <td>0.70</td>\n",
       "      <td>$19,101,353,833</td>\n",
       "      <td>104.00%</td>\n",
       "      <td>9.70%</td>\n",
       "      <td>47.9</td>\n",
       "      <td>64.5</td>\n",
       "      <td>638.0</td>\n",
       "      <td>$0.43</td>\n",
       "      <td>Pashto</td>\n",
       "      <td>78.40%</td>\n",
       "      <td>0.28</td>\n",
       "      <td>38041754.0</td>\n",
       "      <td>48.90%</td>\n",
       "      <td>9.30%</td>\n",
       "      <td>71.40%</td>\n",
       "      <td>11.12%</td>\n",
       "      <td>9797273.0</td>\n",
       "      <td>33.939110</td>\n",
       "      <td>67.709953</td>\n",
       "    </tr>\n",
       "    <tr>\n",
       "      <th>1</th>\n",
       "      <td>Albania</td>\n",
       "      <td>43.10%</td>\n",
       "      <td>28748.0</td>\n",
       "      <td>9000.0</td>\n",
       "      <td>11.78</td>\n",
       "      <td>4536.0</td>\n",
       "      <td>1.62</td>\n",
       "      <td>28.10%</td>\n",
       "      <td>1.36</td>\n",
       "      <td>$15,278,077,447</td>\n",
       "      <td>107.00%</td>\n",
       "      <td>55.00%</td>\n",
       "      <td>7.8</td>\n",
       "      <td>78.5</td>\n",
       "      <td>15.0</td>\n",
       "      <td>$1.12</td>\n",
       "      <td>Albanian</td>\n",
       "      <td>56.90%</td>\n",
       "      <td>1.20</td>\n",
       "      <td>2854191.0</td>\n",
       "      <td>55.70%</td>\n",
       "      <td>18.60%</td>\n",
       "      <td>36.60%</td>\n",
       "      <td>12.33%</td>\n",
       "      <td>1747593.0</td>\n",
       "      <td>41.153332</td>\n",
       "      <td>20.168331</td>\n",
       "    </tr>\n",
       "    <tr>\n",
       "      <th>2</th>\n",
       "      <td>Algeria</td>\n",
       "      <td>17.40%</td>\n",
       "      <td>2381741.0</td>\n",
       "      <td>317000.0</td>\n",
       "      <td>24.28</td>\n",
       "      <td>150006.0</td>\n",
       "      <td>3.02</td>\n",
       "      <td>0.80%</td>\n",
       "      <td>0.28</td>\n",
       "      <td>$169,988,236,398</td>\n",
       "      <td>109.90%</td>\n",
       "      <td>51.40%</td>\n",
       "      <td>20.1</td>\n",
       "      <td>76.7</td>\n",
       "      <td>112.0</td>\n",
       "      <td>$0.95</td>\n",
       "      <td>Arabic</td>\n",
       "      <td>28.10%</td>\n",
       "      <td>1.72</td>\n",
       "      <td>43053054.0</td>\n",
       "      <td>41.20%</td>\n",
       "      <td>37.20%</td>\n",
       "      <td>66.10%</td>\n",
       "      <td>11.70%</td>\n",
       "      <td>31510100.0</td>\n",
       "      <td>28.033886</td>\n",
       "      <td>1.659626</td>\n",
       "    </tr>\n",
       "    <tr>\n",
       "      <th>3</th>\n",
       "      <td>Andorra</td>\n",
       "      <td>40.00%</td>\n",
       "      <td>468.0</td>\n",
       "      <td>NaN</td>\n",
       "      <td>7.20</td>\n",
       "      <td>469.0</td>\n",
       "      <td>1.27</td>\n",
       "      <td>34.00%</td>\n",
       "      <td>1.51</td>\n",
       "      <td>$3,154,057,987</td>\n",
       "      <td>106.40%</td>\n",
       "      <td>NaN</td>\n",
       "      <td>2.7</td>\n",
       "      <td>NaN</td>\n",
       "      <td>NaN</td>\n",
       "      <td>$6.63</td>\n",
       "      <td>Catalan</td>\n",
       "      <td>36.40%</td>\n",
       "      <td>3.33</td>\n",
       "      <td>77142.0</td>\n",
       "      <td>NaN</td>\n",
       "      <td>NaN</td>\n",
       "      <td>NaN</td>\n",
       "      <td>NaN</td>\n",
       "      <td>67873.0</td>\n",
       "      <td>42.506285</td>\n",
       "      <td>1.521801</td>\n",
       "    </tr>\n",
       "    <tr>\n",
       "      <th>4</th>\n",
       "      <td>Angola</td>\n",
       "      <td>47.50%</td>\n",
       "      <td>1246700.0</td>\n",
       "      <td>117000.0</td>\n",
       "      <td>40.73</td>\n",
       "      <td>34693.0</td>\n",
       "      <td>5.52</td>\n",
       "      <td>46.30%</td>\n",
       "      <td>0.97</td>\n",
       "      <td>$94,635,415,870</td>\n",
       "      <td>113.50%</td>\n",
       "      <td>9.30%</td>\n",
       "      <td>51.6</td>\n",
       "      <td>60.8</td>\n",
       "      <td>241.0</td>\n",
       "      <td>$0.71</td>\n",
       "      <td>Portuguese</td>\n",
       "      <td>33.40%</td>\n",
       "      <td>0.21</td>\n",
       "      <td>31825295.0</td>\n",
       "      <td>77.50%</td>\n",
       "      <td>9.20%</td>\n",
       "      <td>49.10%</td>\n",
       "      <td>6.89%</td>\n",
       "      <td>21061025.0</td>\n",
       "      <td>-11.202692</td>\n",
       "      <td>17.873887</td>\n",
       "    </tr>\n",
       "  </tbody>\n",
       "</table>\n",
       "</div>"
      ],
      "text/plain": [
       "       Country Agricultural Land( %)  Land Area(Km2)  Armed Forces size  \\\n",
       "0  Afghanistan                58.10%        652230.0           323000.0   \n",
       "1      Albania                43.10%         28748.0             9000.0   \n",
       "2      Algeria                17.40%       2381741.0           317000.0   \n",
       "3      Andorra                40.00%           468.0                NaN   \n",
       "4       Angola                47.50%       1246700.0           117000.0   \n",
       "\n",
       "   Birth Rate  Co2-Emissions  Fertility Rate Forested Area (%) Gasoline Price  \\\n",
       "0       32.49         8672.0            4.47             2.10%          0.70    \n",
       "1       11.78         4536.0            1.62            28.10%          1.36    \n",
       "2       24.28       150006.0            3.02             0.80%          0.28    \n",
       "3        7.20          469.0            1.27            34.00%          1.51    \n",
       "4       40.73        34693.0            5.52            46.30%          0.97    \n",
       "\n",
       "                 GDP Gross primary education enrollment (%)  \\\n",
       "0   $19,101,353,833                                 104.00%   \n",
       "1   $15,278,077,447                                 107.00%   \n",
       "2  $169,988,236,398                                 109.90%   \n",
       "3    $3,154,057,987                                 106.40%   \n",
       "4   $94,635,415,870                                 113.50%   \n",
       "\n",
       "  Gross tertiary education enrollment (%)  Infant mortality  Life expectancy  \\\n",
       "0                                   9.70%              47.9             64.5   \n",
       "1                                  55.00%               7.8             78.5   \n",
       "2                                  51.40%              20.1             76.7   \n",
       "3                                     NaN               2.7              NaN   \n",
       "4                                   9.30%              51.6             60.8   \n",
       "\n",
       "   Maternal mortality ratio Minimum wage Official language  \\\n",
       "0                     638.0       $0.43             Pashto   \n",
       "1                      15.0       $1.12           Albanian   \n",
       "2                     112.0       $0.95             Arabic   \n",
       "3                       NaN       $6.63            Catalan   \n",
       "4                     241.0       $0.71         Portuguese   \n",
       "\n",
       "  Out of pocket health expenditure  Physicians per thousand  Population  \\\n",
       "0                           78.40%                     0.28  38041754.0   \n",
       "1                           56.90%                     1.20   2854191.0   \n",
       "2                           28.10%                     1.72  43053054.0   \n",
       "3                           36.40%                     3.33     77142.0   \n",
       "4                           33.40%                     0.21  31825295.0   \n",
       "\n",
       "  Population: Labor force participation (%) Tax revenue (%) Total tax rate  \\\n",
       "0                                    48.90%           9.30%         71.40%   \n",
       "1                                    55.70%          18.60%         36.60%   \n",
       "2                                    41.20%          37.20%         66.10%   \n",
       "3                                       NaN             NaN            NaN   \n",
       "4                                    77.50%           9.20%         49.10%   \n",
       "\n",
       "  Unemployment rate  Urban_population   Latitude  Longitude  \n",
       "0            11.12%         9797273.0  33.939110  67.709953  \n",
       "1            12.33%         1747593.0  41.153332  20.168331  \n",
       "2            11.70%        31510100.0  28.033886   1.659626  \n",
       "3               NaN           67873.0  42.506285   1.521801  \n",
       "4             6.89%        21061025.0 -11.202692  17.873887  "
      ]
     },
     "execution_count": 35,
     "metadata": {},
     "output_type": "execute_result"
    }
   ],
   "source": [
    "df2['Gasoline Price'] = df2['Gasoline Price'].apply(lambda x: str(x).replace('$', ''))\n",
    "df2.head()"
   ]
  },
  {
   "cell_type": "code",
   "execution_count": 36,
   "id": "5e132ff1",
   "metadata": {},
   "outputs": [
    {
     "name": "stdout",
     "output_type": "stream",
     "text": [
      "<class 'pandas.core.series.Series'>\n",
      "RangeIndex: 184 entries, 0 to 183\n",
      "Series name: Gasoline Price\n",
      "Non-Null Count  Dtype \n",
      "--------------  ----- \n",
      "184 non-null    object\n",
      "dtypes: object(1)\n",
      "memory usage: 1.6+ KB\n"
     ]
    }
   ],
   "source": [
    " df2['Gasoline Price'].info()"
   ]
  },
  {
   "cell_type": "code",
   "execution_count": 37,
   "id": "4bb072d4",
   "metadata": {},
   "outputs": [
    {
     "data": {
      "text/html": [
       "<div>\n",
       "<style scoped>\n",
       "    .dataframe tbody tr th:only-of-type {\n",
       "        vertical-align: middle;\n",
       "    }\n",
       "\n",
       "    .dataframe tbody tr th {\n",
       "        vertical-align: top;\n",
       "    }\n",
       "\n",
       "    .dataframe thead th {\n",
       "        text-align: right;\n",
       "    }\n",
       "</style>\n",
       "<table border=\"1\" class=\"dataframe\">\n",
       "  <thead>\n",
       "    <tr style=\"text-align: right;\">\n",
       "      <th></th>\n",
       "      <th>Country</th>\n",
       "      <th>Agricultural Land( %)</th>\n",
       "      <th>Land Area(Km2)</th>\n",
       "      <th>Armed Forces size</th>\n",
       "      <th>Birth Rate</th>\n",
       "      <th>Co2-Emissions</th>\n",
       "      <th>Fertility Rate</th>\n",
       "      <th>Forested Area (%)</th>\n",
       "      <th>Gasoline Price</th>\n",
       "      <th>GDP</th>\n",
       "      <th>Gross primary education enrollment (%)</th>\n",
       "      <th>Gross tertiary education enrollment (%)</th>\n",
       "      <th>Infant mortality</th>\n",
       "      <th>Life expectancy</th>\n",
       "      <th>Maternal mortality ratio</th>\n",
       "      <th>Minimum wage</th>\n",
       "      <th>Official language</th>\n",
       "      <th>Out of pocket health expenditure</th>\n",
       "      <th>Physicians per thousand</th>\n",
       "      <th>Population</th>\n",
       "      <th>Population: Labor force participation (%)</th>\n",
       "      <th>Tax revenue (%)</th>\n",
       "      <th>Total tax rate</th>\n",
       "      <th>Unemployment rate</th>\n",
       "      <th>Urban_population</th>\n",
       "      <th>Latitude</th>\n",
       "      <th>Longitude</th>\n",
       "    </tr>\n",
       "  </thead>\n",
       "  <tbody>\n",
       "    <tr>\n",
       "      <th>0</th>\n",
       "      <td>Afghanistan</td>\n",
       "      <td>58.10%</td>\n",
       "      <td>652230.0</td>\n",
       "      <td>323000.0</td>\n",
       "      <td>32.49</td>\n",
       "      <td>8672.0</td>\n",
       "      <td>4.47</td>\n",
       "      <td>2.10%</td>\n",
       "      <td>0.70</td>\n",
       "      <td>$19,101,353,833</td>\n",
       "      <td>104.00%</td>\n",
       "      <td>9.70%</td>\n",
       "      <td>47.9</td>\n",
       "      <td>64.5</td>\n",
       "      <td>638.0</td>\n",
       "      <td>$0.43</td>\n",
       "      <td>Pashto</td>\n",
       "      <td>78.40%</td>\n",
       "      <td>0.28</td>\n",
       "      <td>38041754.0</td>\n",
       "      <td>48.90%</td>\n",
       "      <td>9.30%</td>\n",
       "      <td>71.40%</td>\n",
       "      <td>11.12%</td>\n",
       "      <td>9797273.0</td>\n",
       "      <td>33.939110</td>\n",
       "      <td>67.709953</td>\n",
       "    </tr>\n",
       "    <tr>\n",
       "      <th>1</th>\n",
       "      <td>Albania</td>\n",
       "      <td>43.10%</td>\n",
       "      <td>28748.0</td>\n",
       "      <td>9000.0</td>\n",
       "      <td>11.78</td>\n",
       "      <td>4536.0</td>\n",
       "      <td>1.62</td>\n",
       "      <td>28.10%</td>\n",
       "      <td>1.36</td>\n",
       "      <td>$15,278,077,447</td>\n",
       "      <td>107.00%</td>\n",
       "      <td>55.00%</td>\n",
       "      <td>7.8</td>\n",
       "      <td>78.5</td>\n",
       "      <td>15.0</td>\n",
       "      <td>$1.12</td>\n",
       "      <td>Albanian</td>\n",
       "      <td>56.90%</td>\n",
       "      <td>1.20</td>\n",
       "      <td>2854191.0</td>\n",
       "      <td>55.70%</td>\n",
       "      <td>18.60%</td>\n",
       "      <td>36.60%</td>\n",
       "      <td>12.33%</td>\n",
       "      <td>1747593.0</td>\n",
       "      <td>41.153332</td>\n",
       "      <td>20.168331</td>\n",
       "    </tr>\n",
       "    <tr>\n",
       "      <th>2</th>\n",
       "      <td>Algeria</td>\n",
       "      <td>17.40%</td>\n",
       "      <td>2381741.0</td>\n",
       "      <td>317000.0</td>\n",
       "      <td>24.28</td>\n",
       "      <td>150006.0</td>\n",
       "      <td>3.02</td>\n",
       "      <td>0.80%</td>\n",
       "      <td>0.28</td>\n",
       "      <td>$169,988,236,398</td>\n",
       "      <td>109.90%</td>\n",
       "      <td>51.40%</td>\n",
       "      <td>20.1</td>\n",
       "      <td>76.7</td>\n",
       "      <td>112.0</td>\n",
       "      <td>$0.95</td>\n",
       "      <td>Arabic</td>\n",
       "      <td>28.10%</td>\n",
       "      <td>1.72</td>\n",
       "      <td>43053054.0</td>\n",
       "      <td>41.20%</td>\n",
       "      <td>37.20%</td>\n",
       "      <td>66.10%</td>\n",
       "      <td>11.70%</td>\n",
       "      <td>31510100.0</td>\n",
       "      <td>28.033886</td>\n",
       "      <td>1.659626</td>\n",
       "    </tr>\n",
       "    <tr>\n",
       "      <th>3</th>\n",
       "      <td>Andorra</td>\n",
       "      <td>40.00%</td>\n",
       "      <td>468.0</td>\n",
       "      <td>NaN</td>\n",
       "      <td>7.20</td>\n",
       "      <td>469.0</td>\n",
       "      <td>1.27</td>\n",
       "      <td>34.00%</td>\n",
       "      <td>1.51</td>\n",
       "      <td>$3,154,057,987</td>\n",
       "      <td>106.40%</td>\n",
       "      <td>NaN</td>\n",
       "      <td>2.7</td>\n",
       "      <td>NaN</td>\n",
       "      <td>NaN</td>\n",
       "      <td>$6.63</td>\n",
       "      <td>Catalan</td>\n",
       "      <td>36.40%</td>\n",
       "      <td>3.33</td>\n",
       "      <td>77142.0</td>\n",
       "      <td>NaN</td>\n",
       "      <td>NaN</td>\n",
       "      <td>NaN</td>\n",
       "      <td>NaN</td>\n",
       "      <td>67873.0</td>\n",
       "      <td>42.506285</td>\n",
       "      <td>1.521801</td>\n",
       "    </tr>\n",
       "    <tr>\n",
       "      <th>4</th>\n",
       "      <td>Angola</td>\n",
       "      <td>47.50%</td>\n",
       "      <td>1246700.0</td>\n",
       "      <td>117000.0</td>\n",
       "      <td>40.73</td>\n",
       "      <td>34693.0</td>\n",
       "      <td>5.52</td>\n",
       "      <td>46.30%</td>\n",
       "      <td>0.97</td>\n",
       "      <td>$94,635,415,870</td>\n",
       "      <td>113.50%</td>\n",
       "      <td>9.30%</td>\n",
       "      <td>51.6</td>\n",
       "      <td>60.8</td>\n",
       "      <td>241.0</td>\n",
       "      <td>$0.71</td>\n",
       "      <td>Portuguese</td>\n",
       "      <td>33.40%</td>\n",
       "      <td>0.21</td>\n",
       "      <td>31825295.0</td>\n",
       "      <td>77.50%</td>\n",
       "      <td>9.20%</td>\n",
       "      <td>49.10%</td>\n",
       "      <td>6.89%</td>\n",
       "      <td>21061025.0</td>\n",
       "      <td>-11.202692</td>\n",
       "      <td>17.873887</td>\n",
       "    </tr>\n",
       "  </tbody>\n",
       "</table>\n",
       "</div>"
      ],
      "text/plain": [
       "       Country Agricultural Land( %)  Land Area(Km2)  Armed Forces size  \\\n",
       "0  Afghanistan                58.10%        652230.0           323000.0   \n",
       "1      Albania                43.10%         28748.0             9000.0   \n",
       "2      Algeria                17.40%       2381741.0           317000.0   \n",
       "3      Andorra                40.00%           468.0                NaN   \n",
       "4       Angola                47.50%       1246700.0           117000.0   \n",
       "\n",
       "   Birth Rate  Co2-Emissions  Fertility Rate Forested Area (%)  \\\n",
       "0       32.49         8672.0            4.47             2.10%   \n",
       "1       11.78         4536.0            1.62            28.10%   \n",
       "2       24.28       150006.0            3.02             0.80%   \n",
       "3        7.20          469.0            1.27            34.00%   \n",
       "4       40.73        34693.0            5.52            46.30%   \n",
       "\n",
       "   Gasoline Price                GDP Gross primary education enrollment (%)  \\\n",
       "0            0.70   $19,101,353,833                                 104.00%   \n",
       "1            1.36   $15,278,077,447                                 107.00%   \n",
       "2            0.28  $169,988,236,398                                 109.90%   \n",
       "3            1.51    $3,154,057,987                                 106.40%   \n",
       "4            0.97   $94,635,415,870                                 113.50%   \n",
       "\n",
       "  Gross tertiary education enrollment (%)  Infant mortality  Life expectancy  \\\n",
       "0                                   9.70%              47.9             64.5   \n",
       "1                                  55.00%               7.8             78.5   \n",
       "2                                  51.40%              20.1             76.7   \n",
       "3                                     NaN               2.7              NaN   \n",
       "4                                   9.30%              51.6             60.8   \n",
       "\n",
       "   Maternal mortality ratio Minimum wage Official language  \\\n",
       "0                     638.0       $0.43             Pashto   \n",
       "1                      15.0       $1.12           Albanian   \n",
       "2                     112.0       $0.95             Arabic   \n",
       "3                       NaN       $6.63            Catalan   \n",
       "4                     241.0       $0.71         Portuguese   \n",
       "\n",
       "  Out of pocket health expenditure  Physicians per thousand  Population  \\\n",
       "0                           78.40%                     0.28  38041754.0   \n",
       "1                           56.90%                     1.20   2854191.0   \n",
       "2                           28.10%                     1.72  43053054.0   \n",
       "3                           36.40%                     3.33     77142.0   \n",
       "4                           33.40%                     0.21  31825295.0   \n",
       "\n",
       "  Population: Labor force participation (%) Tax revenue (%) Total tax rate  \\\n",
       "0                                    48.90%           9.30%         71.40%   \n",
       "1                                    55.70%          18.60%         36.60%   \n",
       "2                                    41.20%          37.20%         66.10%   \n",
       "3                                       NaN             NaN            NaN   \n",
       "4                                    77.50%           9.20%         49.10%   \n",
       "\n",
       "  Unemployment rate  Urban_population   Latitude  Longitude  \n",
       "0            11.12%         9797273.0  33.939110  67.709953  \n",
       "1            12.33%         1747593.0  41.153332  20.168331  \n",
       "2            11.70%        31510100.0  28.033886   1.659626  \n",
       "3               NaN           67873.0  42.506285   1.521801  \n",
       "4             6.89%        21061025.0 -11.202692  17.873887  "
      ]
     },
     "execution_count": 37,
     "metadata": {},
     "output_type": "execute_result"
    }
   ],
   "source": [
    "df2['Gasoline Price'] = df2['Gasoline Price'].apply(lambda x: float(str(x).replace('$', '')))\n",
    "df2.head()"
   ]
  },
  {
   "cell_type": "code",
   "execution_count": 38,
   "id": "58e5cc9b",
   "metadata": {},
   "outputs": [
    {
     "name": "stdout",
     "output_type": "stream",
     "text": [
      "<class 'pandas.core.series.Series'>\n",
      "RangeIndex: 184 entries, 0 to 183\n",
      "Series name: Gasoline Price\n",
      "Non-Null Count  Dtype  \n",
      "--------------  -----  \n",
      "172 non-null    float64\n",
      "dtypes: float64(1)\n",
      "memory usage: 1.6 KB\n"
     ]
    }
   ],
   "source": [
    " df2['Gasoline Price'].info()"
   ]
  },
  {
   "cell_type": "code",
   "execution_count": 39,
   "id": "513bb4fa",
   "metadata": {},
   "outputs": [],
   "source": [
    "# Tratar o GDP - PIB\n"
   ]
  },
  {
   "cell_type": "code",
   "execution_count": 40,
   "id": "44d2e0d4",
   "metadata": {},
   "outputs": [
    {
     "name": "stdout",
     "output_type": "stream",
     "text": [
      "['Country', 'Agricultural Land( %)', 'Land Area(Km2)', 'Armed Forces size', 'Birth Rate', 'Co2-Emissions', 'Fertility Rate', 'Forested Area (%)', 'Gasoline Price', 'GDP', 'Gross primary education enrollment (%)', 'Gross tertiary education enrollment (%)', 'Infant mortality', 'Life expectancy', 'Maternal mortality ratio', 'Minimum wage', 'Official language', 'Out of pocket health expenditure', 'Physicians per thousand', 'Population', 'Population: Labor force participation (%)', 'Tax revenue (%)', 'Total tax rate', 'Unemployment rate', 'Urban_population', 'Latitude', 'Longitude']\n"
     ]
    }
   ],
   "source": [
    "atributos = list(df2.columns)\n",
    "print(atributos)"
   ]
  },
  {
   "cell_type": "code",
   "execution_count": 41,
   "id": "6c86bcec",
   "metadata": {},
   "outputs": [
    {
     "name": "stdout",
     "output_type": "stream",
     "text": [
      "['Country', 'Agricultural Land( %)', 'Land Area(Km2)', 'Armed Forces size', 'Birth Rate', 'Co2-Emissions', 'Fertility Rate', 'Forested Area (%)', 'Gasoline Price', 'GDP', 'Gross primary education enrollment (%)', 'Gross tertiary education enrollment (%)', 'Infant mortality', 'Life expectancy', 'Maternal mortality ratio', 'Minimum wage', 'Official language', 'Out of pocket health expenditure', 'Physicians per thousand', 'Population', 'Population: Labor force participation (%)', 'Tax revenue (%)', 'Total tax rate', 'Unemployment rate', 'Urban_population', 'Latitude', 'Longitude']\n"
     ]
    }
   ],
   "source": [
    "#atributos.remove('Country')\n",
    "print(atributos)"
   ]
  },
  {
   "cell_type": "code",
   "execution_count": 42,
   "id": "6a543d95",
   "metadata": {},
   "outputs": [
    {
     "name": "stdout",
     "output_type": "stream",
     "text": [
      "Country: Numérico\n",
      "Agricultural Land( %): Numérico\n",
      "Land Area(Km2): Numérico\n",
      "Armed Forces size: Numérico\n",
      "Birth Rate: Numérico\n",
      "Co2-Emissions: Numérico\n",
      "Fertility Rate: Numérico\n",
      "Forested Area (%): Numérico\n",
      "Gasoline Price: Numérico\n",
      "GDP: Numérico\n",
      "Gross primary education enrollment (%): Numérico\n",
      "Gross tertiary education enrollment (%): Numérico\n",
      "Infant mortality: Numérico\n",
      "Life expectancy: Numérico\n",
      "Maternal mortality ratio: Numérico\n",
      "Minimum wage: Numérico\n",
      "Official language: Numérico\n",
      "Out of pocket health expenditure: Numérico\n",
      "Physicians per thousand: Numérico\n",
      "Population: Numérico\n",
      "Population: Labor force participation (%): Numérico\n",
      "Tax revenue (%): Numérico\n",
      "Total tax rate: Numérico\n",
      "Unemployment rate: Numérico\n",
      "Urban_population: Numérico\n",
      "Latitude: Numérico\n",
      "Longitude: Numérico\n"
     ]
    }
   ],
   "source": [
    "for elem in atributos:      \n",
    "    if isinstance(df2[elem], str):\n",
    "        print(elem + ': Objeto')\n",
    "    else:\n",
    "        print(elem + ': Numérico')      "
   ]
  },
  {
   "cell_type": "code",
   "execution_count": null,
   "id": "ae150697",
   "metadata": {},
   "outputs": [],
   "source": []
  }
 ],
 "metadata": {
  "kernelspec": {
   "display_name": "Python 3 (ipykernel)",
   "language": "python",
   "name": "python3"
  },
  "language_info": {
   "codemirror_mode": {
    "name": "ipython",
    "version": 3
   },
   "file_extension": ".py",
   "mimetype": "text/x-python",
   "name": "python",
   "nbconvert_exporter": "python",
   "pygments_lexer": "ipython3",
   "version": "3.11.5"
  }
 },
 "nbformat": 4,
 "nbformat_minor": 5
}
