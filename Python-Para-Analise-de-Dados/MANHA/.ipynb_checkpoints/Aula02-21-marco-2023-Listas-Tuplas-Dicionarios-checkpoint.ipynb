version https://git-lfs.github.com/spec/v1
oid sha256:53c2511f45524b1f3fd05fc2cf5ee0bdfb6980bad01b6b36c2dc8ab95106c80c
size 38520
