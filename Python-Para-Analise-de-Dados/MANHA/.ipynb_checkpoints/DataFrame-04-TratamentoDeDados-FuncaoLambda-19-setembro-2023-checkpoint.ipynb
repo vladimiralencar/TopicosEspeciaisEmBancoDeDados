{
 "cells": [
  {
   "cell_type": "markdown",
   "id": "9c4c8a4a",
   "metadata": {},
   "source": [
    "# DataFrame-04-TratamentoDeDados-FuncaoLambda-19-setembro-2023"
   ]
  },
  {
   "cell_type": "code",
   "execution_count": null,
   "id": "d8e8dfae",
   "metadata": {},
   "outputs": [],
   "source": [
    "import pandas as pd\n",
    "import numpy as np\n",
    "\n",
    "pd.set_option('display.max_columns', None)\n",
    "pd.set_option('display.max_rows', None)"
   ]
  },
  {
   "cell_type": "code",
   "execution_count": null,
   "id": "627aedc9",
   "metadata": {},
   "outputs": [],
   "source": [
    "url = '/home/valencar/Downloads/mundo_2023_dados_defeituosos.csv'\n",
    "url"
   ]
  },
  {
   "cell_type": "code",
   "execution_count": null,
   "id": "6b430cf9",
   "metadata": {},
   "outputs": [],
   "source": [
    "df = pd.read_csv(url)\n",
    "print(len(df))\n",
    "df.head()"
   ]
  },
  {
   "cell_type": "code",
   "execution_count": null,
   "id": "d522fee4",
   "metadata": {},
   "outputs": [],
   "source": [
    "df.info()"
   ]
  },
  {
   "cell_type": "code",
   "execution_count": null,
   "id": "0f24e244",
   "metadata": {},
   "outputs": [],
   "source": [
    "import re\n",
    "\n",
    "txt = \"The rain in Spain\"\n",
    "#x = re.sub(\"\\s\", \"-\", txt)\n",
    "x = re.sub(\" \", \"-\", txt)\n",
    "print(x)"
   ]
  },
  {
   "cell_type": "code",
   "execution_count": null,
   "id": "1d221861",
   "metadata": {},
   "outputs": [],
   "source": [
    "df['Gasoline Price'][:3]"
   ]
  },
  {
   "cell_type": "code",
   "execution_count": null,
   "id": "805145d3",
   "metadata": {},
   "outputs": [],
   "source": [
    "txt = '$0.70'\n",
    "\n",
    "x = re.sub('\\$', '', txt)\n",
    "print(x)"
   ]
  },
  {
   "cell_type": "code",
   "execution_count": null,
   "id": "ba404075",
   "metadata": {},
   "outputs": [],
   "source": [
    "dir(txt)"
   ]
  },
  {
   "cell_type": "code",
   "execution_count": null,
   "id": "f5096583",
   "metadata": {},
   "outputs": [],
   "source": [
    "txt"
   ]
  },
  {
   "cell_type": "code",
   "execution_count": null,
   "id": "f7a4c712",
   "metadata": {},
   "outputs": [],
   "source": [
    "txt.replace('$', '')"
   ]
  },
  {
   "cell_type": "code",
   "execution_count": null,
   "id": "4b1562f4",
   "metadata": {},
   "outputs": [],
   "source": [
    "txt = '$0.70'\n",
    "v = txt.replace('$', '')\n",
    "v"
   ]
  },
  {
   "cell_type": "code",
   "execution_count": null,
   "id": "4bc69e0b",
   "metadata": {},
   "outputs": [],
   "source": [
    "txt = '$0.70$'\n",
    "v = txt.replace('$', '')\n",
    "v"
   ]
  },
  {
   "cell_type": "code",
   "execution_count": null,
   "id": "455f0e57",
   "metadata": {},
   "outputs": [],
   "source": [
    "txt = '$0.70$'\n",
    "v = txt.replace('$', '')\n",
    "v = float(v)\n",
    "v"
   ]
  },
  {
   "cell_type": "code",
   "execution_count": null,
   "id": "f551821a",
   "metadata": {},
   "outputs": [],
   "source": [
    "type(v)"
   ]
  },
  {
   "cell_type": "markdown",
   "id": "df4ace58",
   "metadata": {},
   "source": [
    "# Função Lambda"
   ]
  },
  {
   "cell_type": "code",
   "execution_count": null,
   "id": "4ad304c8",
   "metadata": {},
   "outputs": [],
   "source": [
    "def f(x):\n",
    "    return x * 2"
   ]
  },
  {
   "cell_type": "code",
   "execution_count": null,
   "id": "44949102",
   "metadata": {},
   "outputs": [],
   "source": [
    "f(2)"
   ]
  },
  {
   "cell_type": "code",
   "execution_count": null,
   "id": "530528c1",
   "metadata": {},
   "outputs": [],
   "source": [
    "# g = def f(x): return x * 2 # Dessa forma, dá erro de sintaxe"
   ]
  },
  {
   "cell_type": "code",
   "execution_count": null,
   "id": "2ed95329",
   "metadata": {},
   "outputs": [],
   "source": [
    "g = lambda x :  x * 2\n",
    "g"
   ]
  },
  {
   "cell_type": "code",
   "execution_count": null,
   "id": "ab4713d9",
   "metadata": {},
   "outputs": [],
   "source": [
    "g(6)"
   ]
  },
  {
   "cell_type": "code",
   "execution_count": null,
   "id": "3b2b07d1",
   "metadata": {},
   "outputs": [],
   "source": [
    "a = g(6)\n",
    "a"
   ]
  },
  {
   "cell_type": "markdown",
   "id": "d06f1aba",
   "metadata": {},
   "source": [
    "# aplicar a f(x) numa lista de valores"
   ]
  },
  {
   "cell_type": "code",
   "execution_count": null,
   "id": "dd874b81",
   "metadata": {},
   "outputs": [],
   "source": [
    "f(3)"
   ]
  },
  {
   "cell_type": "markdown",
   "id": "6eb09b96",
   "metadata": {},
   "source": [
    "# Solução 1"
   ]
  },
  {
   "cell_type": "code",
   "execution_count": null,
   "id": "23de0a6d",
   "metadata": {},
   "outputs": [],
   "source": [
    "def aplicar_valores_numa_lista(lista, funcao):\n",
    "    l = [] # lista vazia\n",
    "    for elem in lista:\n",
    "        valor = funcao(elem)\n",
    "        l.append(valor)\n",
    "        \n",
    "    return l"
   ]
  },
  {
   "cell_type": "code",
   "execution_count": null,
   "id": "c06feef6",
   "metadata": {},
   "outputs": [],
   "source": [
    "l1 = [ 3, 10, 2, 6]\n",
    "l1"
   ]
  },
  {
   "cell_type": "code",
   "execution_count": null,
   "id": "51833cbb",
   "metadata": {},
   "outputs": [],
   "source": [
    "l2 = aplicar_valores_numa_lista(l1, f)\n",
    "l2"
   ]
  },
  {
   "cell_type": "markdown",
   "id": "35ba06ff",
   "metadata": {},
   "source": [
    "# Solução 2 - Usando List Comprehension"
   ]
  },
  {
   "cell_type": "code",
   "execution_count": null,
   "id": "010f7e7d",
   "metadata": {},
   "outputs": [],
   "source": [
    "def aplicar_valores_numa_lista(lista, funcao):\n",
    "    l = [] # lista vazia\n",
    "    for elem in lista:\n",
    "        valor = funcao(elem)\n",
    "        l.append(valor)  \n",
    "    return l\n",
    "\n",
    "def aplicar_valores_numa_lista_comp(lista, funcao):\n",
    "    return [ funcao(elem)  for elem in lista]"
   ]
  },
  {
   "cell_type": "code",
   "execution_count": null,
   "id": "565e2faa",
   "metadata": {},
   "outputs": [],
   "source": [
    "aplicar_valores_numa_lista_comp(l1, f)"
   ]
  },
  {
   "cell_type": "markdown",
   "id": "86833222",
   "metadata": {},
   "source": [
    "# Solução 3 - Usando a funcao Lambda"
   ]
  },
  {
   "cell_type": "code",
   "execution_count": null,
   "id": "256e40eb",
   "metadata": {},
   "outputs": [],
   "source": [
    "def f(x):\n",
    "    return x * 2"
   ]
  },
  {
   "cell_type": "code",
   "execution_count": null,
   "id": "0ea0ad5d",
   "metadata": {},
   "outputs": [],
   "source": [
    "l1"
   ]
  },
  {
   "cell_type": "code",
   "execution_count": null,
   "id": "ee751b1b",
   "metadata": {},
   "outputs": [],
   "source": [
    "aplicar_valores_numa_lista_comp(l1, lambda x : x * 2)"
   ]
  },
  {
   "cell_type": "markdown",
   "id": "9bf4d531",
   "metadata": {},
   "source": [
    "# Solucao 4: List  List Comprehension"
   ]
  },
  {
   "cell_type": "code",
   "execution_count": null,
   "id": "31590576",
   "metadata": {},
   "outputs": [],
   "source": [
    "l3 = [ x * 2  for x in l1 ]\n",
    "l3"
   ]
  },
  {
   "cell_type": "code",
   "execution_count": null,
   "id": "afa30d28",
   "metadata": {},
   "outputs": [],
   "source": [
    "df2 = df.copy()\n",
    "df2.head()"
   ]
  },
  {
   "cell_type": "code",
   "execution_count": null,
   "id": "e0b2d12b",
   "metadata": {},
   "outputs": [],
   "source": [
    "df2['Gasoline Price'] = df2['Gasoline Price'].apply(lambda x: str(x).replace('$', ''))\n",
    "df2.head()"
   ]
  },
  {
   "cell_type": "code",
   "execution_count": null,
   "id": "5e132ff1",
   "metadata": {},
   "outputs": [],
   "source": [
    " df2['Gasoline Price'].info()"
   ]
  },
  {
   "cell_type": "code",
   "execution_count": null,
   "id": "cc5c1565",
   "metadata": {},
   "outputs": [],
   "source": [
    "df2['Gasoline Price'] = df2['Gasoline Price'].apply(lambda x: \n",
    "                                                    float(str(x).replace('$', '')))\n",
    "df2.head()"
   ]
  },
  {
   "cell_type": "code",
   "execution_count": null,
   "id": "8154e38f",
   "metadata": {},
   "outputs": [],
   "source": [
    " df2['Gasoline Price'].info()"
   ]
  },
  {
   "cell_type": "code",
   "execution_count": null,
   "id": "9afb3876",
   "metadata": {},
   "outputs": [],
   "source": [
    "df[ ['GDP'] ][:5]"
   ]
  },
  {
   "cell_type": "code",
   "execution_count": null,
   "id": "d8a3e5de",
   "metadata": {},
   "outputs": [],
   "source": [
    "# Tratar o GDP - PIB\n",
    "df2['GDP'] = df2['GDP'].apply(lambda x: str(x).replace('$', ''))\n",
    "df2[ ['GDP'] ][:5]"
   ]
  },
  {
   "cell_type": "code",
   "execution_count": null,
   "id": "817b32dd",
   "metadata": {},
   "outputs": [],
   "source": [
    "df2['GDP'] = df2['GDP'].apply(lambda x: str(x).replace(',', ''))\n",
    "df2[ ['GDP'] ][:5]"
   ]
  },
  {
   "cell_type": "code",
   "execution_count": null,
   "id": "d1378dd8",
   "metadata": {},
   "outputs": [],
   "source": [
    "df2['GDP'].info()"
   ]
  },
  {
   "cell_type": "markdown",
   "id": "3c54d575",
   "metadata": {},
   "source": [
    "## converter a string limpa para inteiro"
   ]
  },
  {
   "cell_type": "code",
   "execution_count": null,
   "id": "31dd08fe",
   "metadata": {},
   "outputs": [],
   "source": [
    "df2['GDP'] = df2['GDP'].apply(lambda x: int(str(x)) )\n",
    "df2[ ['GDP'] ][:5]"
   ]
  },
  {
   "cell_type": "code",
   "execution_count": null,
   "id": "7bdfe025",
   "metadata": {},
   "outputs": [],
   "source": [
    "df2.GDP.info()"
   ]
  },
  {
   "cell_type": "code",
   "execution_count": null,
   "id": "fb2e95fb",
   "metadata": {},
   "outputs": [],
   "source": [
    "pd.options.display.float_format = '{:20,.0f}'.format\n",
    "df2.GDP.describe()"
   ]
  },
  {
   "cell_type": "code",
   "execution_count": null,
   "id": "fe8eacd3",
   "metadata": {},
   "outputs": [],
   "source": [
    "import seaborn as sns\n",
    "\n",
    "sns.distplot(df2.GDP)"
   ]
  },
  {
   "cell_type": "code",
   "execution_count": null,
   "id": "d633a225",
   "metadata": {},
   "outputs": [],
   "source": [
    "df3 = df2 [ df2.GDP < 1000000000000 ]\n",
    "\n",
    "sns.distplot(df3.GDP)"
   ]
  },
  {
   "cell_type": "code",
   "execution_count": null,
   "id": "5e1b69e5",
   "metadata": {},
   "outputs": [],
   "source": [
    "df3.GDP.describe()"
   ]
  },
  {
   "cell_type": "code",
   "execution_count": null,
   "id": "02f47d4a",
   "metadata": {},
   "outputs": [],
   "source": [
    "# PIB - GDP dos Países mais ricos\n",
    "\n",
    "df4 = df2[ df2.GDP > 1000000000000 ]\n",
    "\n",
    "df4.head(20).reset_index(drop=True)"
   ]
  },
  {
   "cell_type": "code",
   "execution_count": null,
   "id": "96916194",
   "metadata": {},
   "outputs": [],
   "source": [
    "dfo = df4.sort_values(by='GDP', ascending=False).reset_index(drop=True)\n",
    "dfo"
   ]
  },
  {
   "cell_type": "code",
   "execution_count": null,
   "id": "8e5553e8",
   "metadata": {},
   "outputs": [],
   "source": [
    "sns.barplot(y='Country', x='GDP', data=dfo[:10], palette='Greens_r')"
   ]
  },
  {
   "cell_type": "code",
   "execution_count": null,
   "id": "a3660f0d",
   "metadata": {},
   "outputs": [],
   "source": [
    "df2.head()"
   ]
  },
  {
   "cell_type": "code",
   "execution_count": null,
   "id": "f6e0eb42",
   "metadata": {},
   "outputs": [],
   "source": [
    "len(df2.columns)"
   ]
  },
  {
   "cell_type": "code",
   "execution_count": null,
   "id": "ca60d389",
   "metadata": {},
   "outputs": [],
   "source": [
    "df2.info()"
   ]
  },
  {
   "cell_type": "code",
   "execution_count": null,
   "id": "357a06e5",
   "metadata": {},
   "outputs": [],
   "source": [
    "atributos = list(df.columns)\n",
    "atributos.remove('Country')\n",
    "atributos.remove('Latitude')\n",
    "atributos.remove('Longitude')\n",
    "print(atributos)"
   ]
  },
  {
   "cell_type": "code",
   "execution_count": null,
   "id": "6f66804d",
   "metadata": {},
   "outputs": [],
   "source": [
    "df2[atributos].head()"
   ]
  },
  {
   "cell_type": "code",
   "execution_count": null,
   "id": "44737e75",
   "metadata": {},
   "outputs": [],
   "source": [
    "import numpy as np"
   ]
  },
  {
   "cell_type": "code",
   "execution_count": null,
   "id": "8d3d7375",
   "metadata": {},
   "outputs": [],
   "source": [
    "atributos_nao_numericos = list()\n",
    "atributos_numericos = list()\n",
    "for elem in atributos:\n",
    "    #print(df2[elem].dtypes)\n",
    "    if df2[elem].dtypes == np.float64 or df2[elem].dtypes == np.int64:\n",
    "        print('Número - ' + elem )\n",
    "        atributos_numericos.append(elem)\n",
    "    else:\n",
    "        print('Objeto - ' + elem )\n",
    "        atributos_nao_numericos.append(elem)"
   ]
  },
  {
   "cell_type": "code",
   "execution_count": null,
   "id": "1393ef1a",
   "metadata": {},
   "outputs": [],
   "source": [
    "print(atributos_numericos)"
   ]
  },
  {
   "cell_type": "code",
   "execution_count": null,
   "id": "ad8b8d78",
   "metadata": {},
   "outputs": [],
   "source": [
    "df2[atributos_numericos].info()"
   ]
  },
  {
   "cell_type": "code",
   "execution_count": null,
   "id": "e4bdcdda",
   "metadata": {},
   "outputs": [],
   "source": [
    "df2[atributos_numericos].head()"
   ]
  },
  {
   "cell_type": "code",
   "execution_count": null,
   "id": "bf943992",
   "metadata": {},
   "outputs": [],
   "source": [
    "print(atributos_nao_numericos)"
   ]
  },
  {
   "cell_type": "code",
   "execution_count": null,
   "id": "e4b4c1e0",
   "metadata": {},
   "outputs": [],
   "source": [
    "df2[atributos_nao_numericos].info()"
   ]
  },
  {
   "cell_type": "code",
   "execution_count": null,
   "id": "edaf370c",
   "metadata": {},
   "outputs": [],
   "source": [
    "df2[atributos_nao_numericos].head()"
   ]
  },
  {
   "cell_type": "code",
   "execution_count": null,
   "id": "3d339841",
   "metadata": {},
   "outputs": [],
   "source": []
  },
  {
   "cell_type": "code",
   "execution_count": null,
   "id": "b4f68015",
   "metadata": {},
   "outputs": [],
   "source": []
  },
  {
   "cell_type": "code",
   "execution_count": null,
   "id": "0843b276",
   "metadata": {},
   "outputs": [],
   "source": []
  },
  {
   "cell_type": "code",
   "execution_count": null,
   "id": "6631a66d",
   "metadata": {},
   "outputs": [],
   "source": []
  },
  {
   "cell_type": "code",
   "execution_count": null,
   "id": "7bfaf55a",
   "metadata": {},
   "outputs": [],
   "source": [
    "print(len(df2))\n",
    "df2.isnull().sum()"
   ]
  },
  {
   "cell_type": "code",
   "execution_count": null,
   "id": "f2453848",
   "metadata": {},
   "outputs": [],
   "source": []
  },
  {
   "cell_type": "code",
   "execution_count": null,
   "id": "d4599b01",
   "metadata": {},
   "outputs": [],
   "source": []
  },
  {
   "cell_type": "code",
   "execution_count": null,
   "id": "4bb072d4",
   "metadata": {},
   "outputs": [],
   "source": [
    "df2['Gasoline Price'] = df2['Gasoline Price'].apply(lambda x: float(str(x).replace('$', '')))\n",
    "df2.head()"
   ]
  },
  {
   "cell_type": "code",
   "execution_count": null,
   "id": "58e5cc9b",
   "metadata": {},
   "outputs": [],
   "source": [
    " df2['Gasoline Price'].info()"
   ]
  },
  {
   "cell_type": "code",
   "execution_count": null,
   "id": "513bb4fa",
   "metadata": {},
   "outputs": [],
   "source": [
    "# Tratar o GDP - PIB\n",
    "df2['Gasoline Price'] = df2['Gasoline Price'].apply(lambda x: \n",
    "                                                    float(str(x).replace('$', '')))\n",
    "df2.head()"
   ]
  },
  {
   "cell_type": "code",
   "execution_count": null,
   "id": "44d2e0d4",
   "metadata": {},
   "outputs": [],
   "source": [
    "atributos = list(df2.columns)\n",
    "print(atributos)"
   ]
  },
  {
   "cell_type": "code",
   "execution_count": null,
   "id": "6c86bcec",
   "metadata": {},
   "outputs": [],
   "source": [
    "#atributos.remove('Country')\n",
    "print(atributos)"
   ]
  },
  {
   "cell_type": "code",
   "execution_count": null,
   "id": "6a543d95",
   "metadata": {},
   "outputs": [],
   "source": [
    "for elem in atributos:      \n",
    "    if isinstance(df2[elem], str):\n",
    "        print(elem + ': Objeto')\n",
    "    else:\n",
    "        print(elem + ': Numérico')      "
   ]
  },
  {
   "cell_type": "code",
   "execution_count": null,
   "id": "ae150697",
   "metadata": {},
   "outputs": [],
   "source": [
    "df2[atributos_nao_numericos].head()"
   ]
  },
  {
   "cell_type": "code",
   "execution_count": null,
   "id": "5a91b39f",
   "metadata": {},
   "outputs": [],
   "source": []
  }
 ],
 "metadata": {
  "kernelspec": {
   "display_name": "Python 3 (ipykernel)",
   "language": "python",
   "name": "python3"
  },
  "language_info": {
   "codemirror_mode": {
    "name": "ipython",
    "version": 3
   },
   "file_extension": ".py",
   "mimetype": "text/x-python",
   "name": "python",
   "nbconvert_exporter": "python",
   "pygments_lexer": "ipython3",
   "version": "3.11.5"
  }
 },
 "nbformat": 4,
 "nbformat_minor": 5
}
