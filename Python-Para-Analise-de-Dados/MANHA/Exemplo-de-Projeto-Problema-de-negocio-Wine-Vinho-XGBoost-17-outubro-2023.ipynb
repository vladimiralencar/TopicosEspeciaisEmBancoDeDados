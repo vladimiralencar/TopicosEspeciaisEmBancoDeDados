{
 "cells": [
  {
   "cell_type": "markdown",
   "id": "52da2406",
   "metadata": {},
   "source": [
    "## Exemplo-de-Projeto-Problema-de-negocio-Wine-Vinho-XGBoost-17-outubro-2023"
   ]
  },
  {
   "cell_type": "markdown",
   "id": "cf380f8a",
   "metadata": {},
   "source": [
    "## Prever a qualidade de vinho, dado as sua características aferidas"
   ]
  },
  {
   "cell_type": "code",
   "execution_count": 1,
   "id": "b626c589",
   "metadata": {},
   "outputs": [],
   "source": [
    "import warnings\n",
    "warnings.filterwarnings('ignore')"
   ]
  },
  {
   "cell_type": "code",
   "execution_count": 2,
   "id": "621b9e46",
   "metadata": {},
   "outputs": [],
   "source": [
    "!pip install -q huggingface_hub"
   ]
  },
  {
   "cell_type": "code",
   "execution_count": 3,
   "id": "223d6e3a",
   "metadata": {},
   "outputs": [],
   "source": [
    "!pip install -q joblib"
   ]
  },
  {
   "cell_type": "code",
   "execution_count": 4,
   "id": "4de9159a",
   "metadata": {},
   "outputs": [
    {
     "name": "stdout",
     "output_type": "stream",
     "text": [
      "CPU times: user 1.05 s, sys: 166 ms, total: 1.21 s\n",
      "Wall time: 1.56 s\n"
     ]
    },
    {
     "data": {
      "text/html": [
       "<style>#sk-container-id-1 {color: black;}#sk-container-id-1 pre{padding: 0;}#sk-container-id-1 div.sk-toggleable {background-color: white;}#sk-container-id-1 label.sk-toggleable__label {cursor: pointer;display: block;width: 100%;margin-bottom: 0;padding: 0.3em;box-sizing: border-box;text-align: center;}#sk-container-id-1 label.sk-toggleable__label-arrow:before {content: \"▸\";float: left;margin-right: 0.25em;color: #696969;}#sk-container-id-1 label.sk-toggleable__label-arrow:hover:before {color: black;}#sk-container-id-1 div.sk-estimator:hover label.sk-toggleable__label-arrow:before {color: black;}#sk-container-id-1 div.sk-toggleable__content {max-height: 0;max-width: 0;overflow: hidden;text-align: left;background-color: #f0f8ff;}#sk-container-id-1 div.sk-toggleable__content pre {margin: 0.2em;color: black;border-radius: 0.25em;background-color: #f0f8ff;}#sk-container-id-1 input.sk-toggleable__control:checked~div.sk-toggleable__content {max-height: 200px;max-width: 100%;overflow: auto;}#sk-container-id-1 input.sk-toggleable__control:checked~label.sk-toggleable__label-arrow:before {content: \"▾\";}#sk-container-id-1 div.sk-estimator input.sk-toggleable__control:checked~label.sk-toggleable__label {background-color: #d4ebff;}#sk-container-id-1 div.sk-label input.sk-toggleable__control:checked~label.sk-toggleable__label {background-color: #d4ebff;}#sk-container-id-1 input.sk-hidden--visually {border: 0;clip: rect(1px 1px 1px 1px);clip: rect(1px, 1px, 1px, 1px);height: 1px;margin: -1px;overflow: hidden;padding: 0;position: absolute;width: 1px;}#sk-container-id-1 div.sk-estimator {font-family: monospace;background-color: #f0f8ff;border: 1px dotted black;border-radius: 0.25em;box-sizing: border-box;margin-bottom: 0.5em;}#sk-container-id-1 div.sk-estimator:hover {background-color: #d4ebff;}#sk-container-id-1 div.sk-parallel-item::after {content: \"\";width: 100%;border-bottom: 1px solid gray;flex-grow: 1;}#sk-container-id-1 div.sk-label:hover label.sk-toggleable__label {background-color: #d4ebff;}#sk-container-id-1 div.sk-serial::before {content: \"\";position: absolute;border-left: 1px solid gray;box-sizing: border-box;top: 0;bottom: 0;left: 50%;z-index: 0;}#sk-container-id-1 div.sk-serial {display: flex;flex-direction: column;align-items: center;background-color: white;padding-right: 0.2em;padding-left: 0.2em;position: relative;}#sk-container-id-1 div.sk-item {position: relative;z-index: 1;}#sk-container-id-1 div.sk-parallel {display: flex;align-items: stretch;justify-content: center;background-color: white;position: relative;}#sk-container-id-1 div.sk-item::before, #sk-container-id-1 div.sk-parallel-item::before {content: \"\";position: absolute;border-left: 1px solid gray;box-sizing: border-box;top: 0;bottom: 0;left: 50%;z-index: -1;}#sk-container-id-1 div.sk-parallel-item {display: flex;flex-direction: column;z-index: 1;position: relative;background-color: white;}#sk-container-id-1 div.sk-parallel-item:first-child::after {align-self: flex-end;width: 50%;}#sk-container-id-1 div.sk-parallel-item:last-child::after {align-self: flex-start;width: 50%;}#sk-container-id-1 div.sk-parallel-item:only-child::after {width: 0;}#sk-container-id-1 div.sk-dashed-wrapped {border: 1px dashed gray;margin: 0 0.4em 0.5em 0.4em;box-sizing: border-box;padding-bottom: 0.4em;background-color: white;}#sk-container-id-1 div.sk-label label {font-family: monospace;font-weight: bold;display: inline-block;line-height: 1.2em;}#sk-container-id-1 div.sk-label-container {text-align: center;}#sk-container-id-1 div.sk-container {/* jupyter's `normalize.less` sets `[hidden] { display: none; }` but bootstrap.min.css set `[hidden] { display: none !important; }` so we also need the `!important` here to be able to override the default hidden behavior on the sphinx rendered scikit-learn.org. See: https://github.com/scikit-learn/scikit-learn/issues/21755 */display: inline-block !important;position: relative;}#sk-container-id-1 div.sk-text-repr-fallback {display: none;}</style><div id=\"sk-container-id-1\" class=\"sk-top-container\"><div class=\"sk-text-repr-fallback\"><pre>Pipeline(steps=[(&#x27;scaler&#x27;, StandardScaler()), (&#x27;SVM&#x27;, SVC())])</pre><b>In a Jupyter environment, please rerun this cell to show the HTML representation or trust the notebook. <br />On GitHub, the HTML representation is unable to render, please try loading this page with nbviewer.org.</b></div><div class=\"sk-container\" hidden><div class=\"sk-item sk-dashed-wrapped\"><div class=\"sk-label-container\"><div class=\"sk-label sk-toggleable\"><input class=\"sk-toggleable__control sk-hidden--visually\" id=\"sk-estimator-id-1\" type=\"checkbox\" ><label for=\"sk-estimator-id-1\" class=\"sk-toggleable__label sk-toggleable__label-arrow\">Pipeline</label><div class=\"sk-toggleable__content\"><pre>Pipeline(steps=[(&#x27;scaler&#x27;, StandardScaler()), (&#x27;SVM&#x27;, SVC())])</pre></div></div></div><div class=\"sk-serial\"><div class=\"sk-item\"><div class=\"sk-estimator sk-toggleable\"><input class=\"sk-toggleable__control sk-hidden--visually\" id=\"sk-estimator-id-2\" type=\"checkbox\" ><label for=\"sk-estimator-id-2\" class=\"sk-toggleable__label sk-toggleable__label-arrow\">StandardScaler</label><div class=\"sk-toggleable__content\"><pre>StandardScaler()</pre></div></div></div><div class=\"sk-item\"><div class=\"sk-estimator sk-toggleable\"><input class=\"sk-toggleable__control sk-hidden--visually\" id=\"sk-estimator-id-3\" type=\"checkbox\" ><label for=\"sk-estimator-id-3\" class=\"sk-toggleable__label sk-toggleable__label-arrow\">SVC</label><div class=\"sk-toggleable__content\"><pre>SVC()</pre></div></div></div></div></div></div></div>"
      ],
      "text/plain": [
       "Pipeline(steps=[('scaler', StandardScaler()), ('SVM', SVC())])"
      ]
     },
     "execution_count": 4,
     "metadata": {},
     "output_type": "execute_result"
    }
   ],
   "source": [
    "%%time\n",
    "from huggingface_hub import hf_hub_url, cached_download\n",
    "import joblib\n",
    "import pandas as pd\n",
    "\n",
    "REPO_ID = \"julien-c/wine-quality\"\n",
    "FILENAME = \"sklearn_model.joblib\"\n",
    "\n",
    "\n",
    "model = joblib.load(cached_download(\n",
    "    hf_hub_url(REPO_ID, FILENAME)\n",
    "))\n",
    "model"
   ]
  },
  {
   "cell_type": "code",
   "execution_count": 5,
   "id": "1dfa35a5",
   "metadata": {},
   "outputs": [
    {
     "data": {
      "text/plain": [
       "'julien-c/wine-quality'"
      ]
     },
     "execution_count": 5,
     "metadata": {},
     "output_type": "execute_result"
    }
   ],
   "source": [
    "REPO_ID"
   ]
  },
  {
   "cell_type": "code",
   "execution_count": 6,
   "id": "507d813d",
   "metadata": {},
   "outputs": [],
   "source": [
    "import pandas as pd\n",
    "import numpy as np"
   ]
  },
  {
   "cell_type": "code",
   "execution_count": 79,
   "id": "af2ef5bc-2284-4685-94a6-8aa95f179b29",
   "metadata": {},
   "outputs": [
    {
     "data": {
      "text/plain": [
       "'https://raw.githubusercontent.com/vladimiralencar/Alunos-UEPB-TopicosEspeciaisEmBancoDeDados/master/Python-Para-Analise-de-Dados/MANHA/vinhos_classificacao.csv'"
      ]
     },
     "execution_count": 79,
     "metadata": {},
     "output_type": "execute_result"
    }
   ],
   "source": [
    "url = 'https://raw.githubusercontent.com/vladimiralencar/Alunos-UEPB-TopicosEspeciaisEmBancoDeDados/master/Python-Para-Analise-de-Dados/MANHA/vinhos_classificacao.csv'\n",
    "url"
   ]
  },
  {
   "cell_type": "code",
   "execution_count": 80,
   "id": "d7da30cd",
   "metadata": {},
   "outputs": [
    {
     "name": "stdout",
     "output_type": "stream",
     "text": [
      "1599\n"
     ]
    },
    {
     "data": {
      "text/html": [
       "<div>\n",
       "<style scoped>\n",
       "    .dataframe tbody tr th:only-of-type {\n",
       "        vertical-align: middle;\n",
       "    }\n",
       "\n",
       "    .dataframe tbody tr th {\n",
       "        vertical-align: top;\n",
       "    }\n",
       "\n",
       "    .dataframe thead th {\n",
       "        text-align: right;\n",
       "    }\n",
       "</style>\n",
       "<table border=\"1\" class=\"dataframe\">\n",
       "  <thead>\n",
       "    <tr style=\"text-align: right;\">\n",
       "      <th></th>\n",
       "      <th>fixed acidity</th>\n",
       "      <th>volatile acidity</th>\n",
       "      <th>citric acid</th>\n",
       "      <th>residual sugar</th>\n",
       "      <th>chlorides</th>\n",
       "      <th>free sulfur dioxide</th>\n",
       "      <th>total sulfur dioxide</th>\n",
       "      <th>density</th>\n",
       "      <th>pH</th>\n",
       "      <th>sulphates</th>\n",
       "      <th>alcohol</th>\n",
       "      <th>quality</th>\n",
       "    </tr>\n",
       "  </thead>\n",
       "  <tbody>\n",
       "    <tr>\n",
       "      <th>0</th>\n",
       "      <td>7.4</td>\n",
       "      <td>0.70</td>\n",
       "      <td>0.00</td>\n",
       "      <td>1.9</td>\n",
       "      <td>0.076</td>\n",
       "      <td>11.0</td>\n",
       "      <td>34.0</td>\n",
       "      <td>0.9978</td>\n",
       "      <td>3.51</td>\n",
       "      <td>0.56</td>\n",
       "      <td>9.4</td>\n",
       "      <td>5</td>\n",
       "    </tr>\n",
       "    <tr>\n",
       "      <th>1</th>\n",
       "      <td>7.8</td>\n",
       "      <td>0.88</td>\n",
       "      <td>0.00</td>\n",
       "      <td>2.6</td>\n",
       "      <td>0.098</td>\n",
       "      <td>25.0</td>\n",
       "      <td>67.0</td>\n",
       "      <td>0.9968</td>\n",
       "      <td>3.20</td>\n",
       "      <td>0.68</td>\n",
       "      <td>9.8</td>\n",
       "      <td>5</td>\n",
       "    </tr>\n",
       "    <tr>\n",
       "      <th>2</th>\n",
       "      <td>7.8</td>\n",
       "      <td>0.76</td>\n",
       "      <td>0.04</td>\n",
       "      <td>2.3</td>\n",
       "      <td>0.092</td>\n",
       "      <td>15.0</td>\n",
       "      <td>54.0</td>\n",
       "      <td>0.9970</td>\n",
       "      <td>3.26</td>\n",
       "      <td>0.65</td>\n",
       "      <td>9.8</td>\n",
       "      <td>5</td>\n",
       "    </tr>\n",
       "    <tr>\n",
       "      <th>3</th>\n",
       "      <td>11.2</td>\n",
       "      <td>0.28</td>\n",
       "      <td>0.56</td>\n",
       "      <td>1.9</td>\n",
       "      <td>0.075</td>\n",
       "      <td>17.0</td>\n",
       "      <td>60.0</td>\n",
       "      <td>0.9980</td>\n",
       "      <td>3.16</td>\n",
       "      <td>0.58</td>\n",
       "      <td>9.8</td>\n",
       "      <td>6</td>\n",
       "    </tr>\n",
       "    <tr>\n",
       "      <th>4</th>\n",
       "      <td>7.4</td>\n",
       "      <td>0.70</td>\n",
       "      <td>0.00</td>\n",
       "      <td>1.9</td>\n",
       "      <td>0.076</td>\n",
       "      <td>11.0</td>\n",
       "      <td>34.0</td>\n",
       "      <td>0.9978</td>\n",
       "      <td>3.51</td>\n",
       "      <td>0.56</td>\n",
       "      <td>9.4</td>\n",
       "      <td>5</td>\n",
       "    </tr>\n",
       "  </tbody>\n",
       "</table>\n",
       "</div>"
      ],
      "text/plain": [
       "   fixed acidity  volatile acidity  citric acid  residual sugar  chlorides  \\\n",
       "0            7.4              0.70         0.00             1.9      0.076   \n",
       "1            7.8              0.88         0.00             2.6      0.098   \n",
       "2            7.8              0.76         0.04             2.3      0.092   \n",
       "3           11.2              0.28         0.56             1.9      0.075   \n",
       "4            7.4              0.70         0.00             1.9      0.076   \n",
       "\n",
       "   free sulfur dioxide  total sulfur dioxide  density    pH  sulphates  \\\n",
       "0                 11.0                  34.0   0.9978  3.51       0.56   \n",
       "1                 25.0                  67.0   0.9968  3.20       0.68   \n",
       "2                 15.0                  54.0   0.9970  3.26       0.65   \n",
       "3                 17.0                  60.0   0.9980  3.16       0.58   \n",
       "4                 11.0                  34.0   0.9978  3.51       0.56   \n",
       "\n",
       "   alcohol  quality  \n",
       "0      9.4        5  \n",
       "1      9.8        5  \n",
       "2      9.8        5  \n",
       "3      9.8        6  \n",
       "4      9.4        5  "
      ]
     },
     "execution_count": 80,
     "metadata": {},
     "output_type": "execute_result"
    }
   ],
   "source": [
    "winedf = pd.read_csv(url)\n",
    "\n",
    "print(len(winedf))\n",
    "winedf.head()"
   ]
  },
  {
   "cell_type": "markdown",
   "id": "6476834a",
   "metadata": {},
   "source": [
    "## Montagem de Interface"
   ]
  },
  {
   "cell_type": "code",
   "execution_count": 81,
   "id": "4a30c971",
   "metadata": {},
   "outputs": [],
   "source": [
    "df = winedf.copy()"
   ]
  },
  {
   "cell_type": "code",
   "execution_count": 82,
   "id": "4cdc2c4d",
   "metadata": {},
   "outputs": [
    {
     "data": {
      "text/plain": [
       "array(['fixed acidity', 'volatile acidity', 'citric acid',\n",
       "       'residual sugar', 'chlorides', 'free sulfur dioxide',\n",
       "       'total sulfur dioxide', 'density', 'pH', 'sulphates', 'alcohol',\n",
       "       'quality'], dtype=object)"
      ]
     },
     "execution_count": 82,
     "metadata": {},
     "output_type": "execute_result"
    }
   ],
   "source": [
    "df.columns.values"
   ]
  },
  {
   "cell_type": "code",
   "execution_count": 83,
   "id": "2c033071",
   "metadata": {},
   "outputs": [
    {
     "data": {
      "text/plain": [
       "12"
      ]
     },
     "execution_count": 83,
     "metadata": {},
     "output_type": "execute_result"
    }
   ],
   "source": [
    "len(df.columns.values)"
   ]
  },
  {
   "cell_type": "code",
   "execution_count": 84,
   "id": "cb6efeb3",
   "metadata": {},
   "outputs": [
    {
     "name": "stdout",
     "output_type": "stream",
     "text": [
      "['fixed acidity', 'volatile acidity', 'citric acid', 'residual sugar', 'chlorides', 'free sulfur dioxide', 'total sulfur dioxide', 'density', 'pH', 'sulphates', 'alcohol', 'quality']\n"
     ]
    }
   ],
   "source": [
    "atributos = list(df.columns.values)\n",
    "print(atributos)"
   ]
  },
  {
   "cell_type": "code",
   "execution_count": 85,
   "id": "63b4766e",
   "metadata": {},
   "outputs": [
    {
     "name": "stdout",
     "output_type": "stream",
     "text": [
      "['fixed acidity', 'volatile acidity', 'citric acid', 'residual sugar', 'chlorides', 'free sulfur dioxide', 'total sulfur dioxide', 'density', 'pH', 'sulphates', 'alcohol']\n"
     ]
    }
   ],
   "source": [
    "atributos.remove('quality')\n",
    "\n",
    "print(atributos)"
   ]
  },
  {
   "cell_type": "code",
   "execution_count": 86,
   "id": "bd327164",
   "metadata": {},
   "outputs": [
    {
     "data": {
      "text/plain": [
       "{'fixed acidity': {'min': 4.6, 'media': 8.31963727329581, 'max': 15.9},\n",
       " 'volatile acidity': {'min': 0.12, 'media': 0.5278205128205128, 'max': 1.58},\n",
       " 'citric acid': {'min': 0.0, 'media': 0.2709756097560976, 'max': 1.0},\n",
       " 'residual sugar': {'min': 0.9, 'media': 2.53880550343965, 'max': 15.5},\n",
       " 'chlorides': {'min': 0.012, 'media': 0.08746654158849279, 'max': 0.611},\n",
       " 'free sulfur dioxide': {'min': 1.0, 'media': 15.874921826141339, 'max': 72.0},\n",
       " 'total sulfur dioxide': {'min': 6.0,\n",
       "  'media': 46.46779237023139,\n",
       "  'max': 289.0},\n",
       " 'density': {'min': 0.99007, 'media': 0.9967466791744841, 'max': 1.00369},\n",
       " 'pH': {'min': 2.74, 'media': 3.3111131957473416, 'max': 4.01},\n",
       " 'sulphates': {'min': 0.33, 'media': 0.6581488430268917, 'max': 2.0},\n",
       " 'alcohol': {'min': 8.4, 'media': 10.422983114446529, 'max': 14.9}}"
      ]
     },
     "execution_count": 86,
     "metadata": {},
     "output_type": "execute_result"
    }
   ],
   "source": [
    "#st.sidebar.title(\"Informe os dados do vinho\")\n",
    "\n",
    "# guardar os valores\n",
    "atributos_valores = {}\n",
    "for atributo in atributos:\n",
    "    minimo, media, maximo = df[atributo].min(), df[atributo].mean(), df[atributo].max()\n",
    "    atributos_valores[atributo] = {\"min\": minimo, \"media\": media, \"max\": maximo }\n",
    "\n",
    "atributos_valores"
   ]
  },
  {
   "cell_type": "code",
   "execution_count": 87,
   "id": "dc3f8a59",
   "metadata": {},
   "outputs": [
    {
     "data": {
      "text/plain": [
       "{'min': 4.6, 'media': 8.31963727329581, 'max': 15.9}"
      ]
     },
     "execution_count": 87,
     "metadata": {},
     "output_type": "execute_result"
    }
   ],
   "source": [
    "atributos_valores['fixed acidity']"
   ]
  },
  {
   "cell_type": "code",
   "execution_count": 88,
   "id": "f3d99405",
   "metadata": {},
   "outputs": [
    {
     "data": {
      "text/plain": [
       "8.31963727329581"
      ]
     },
     "execution_count": 88,
     "metadata": {},
     "output_type": "execute_result"
    }
   ],
   "source": [
    "atributos_valores['fixed acidity']['media']"
   ]
  },
  {
   "cell_type": "code",
   "execution_count": 89,
   "id": "a439d7a8",
   "metadata": {},
   "outputs": [
    {
     "data": {
      "text/plain": [
       "{'fixed acidity': {'min': 4.6, 'media': 8.31963727329581, 'max': 15.9},\n",
       " 'volatile acidity': {'min': 0.12, 'media': 0.5278205128205128, 'max': 1.58},\n",
       " 'citric acid': {'min': 0.0, 'media': 0.2709756097560976, 'max': 1.0},\n",
       " 'residual sugar': {'min': 0.9, 'media': 2.53880550343965, 'max': 15.5},\n",
       " 'chlorides': {'min': 0.012, 'media': 0.08746654158849279, 'max': 0.611},\n",
       " 'free sulfur dioxide': {'min': 1.0, 'media': 15.874921826141339, 'max': 72.0},\n",
       " 'total sulfur dioxide': {'min': 6.0,\n",
       "  'media': 46.46779237023139,\n",
       "  'max': 289.0},\n",
       " 'density': {'min': 0.99007, 'media': 0.9967466791744841, 'max': 1.00369},\n",
       " 'pH': {'min': 2.74, 'media': 3.3111131957473416, 'max': 4.01},\n",
       " 'sulphates': {'min': 0.33, 'media': 0.6581488430268917, 'max': 2.0},\n",
       " 'alcohol': {'min': 8.4, 'media': 10.422983114446529, 'max': 14.9}}"
      ]
     },
     "execution_count": 89,
     "metadata": {},
     "output_type": "execute_result"
    }
   ],
   "source": [
    "atributos_valores"
   ]
  },
  {
   "cell_type": "code",
   "execution_count": 90,
   "id": "41548118",
   "metadata": {},
   "outputs": [
    {
     "name": "stdout",
     "output_type": "stream",
     "text": [
      "3\n"
     ]
    }
   ],
   "source": [
    "classificacao_vinho_XGBoost = 0\n",
    "\n",
    "if classificacao_vinho_XGBoost == 0:\n",
    "    classificacao_vinho = 3\n",
    "elif classificacao_vinho_XGBoost == 1:\n",
    "    classificacao_vinho = 4\n",
    "elif classificacao_vinho_XGBoost == 2:\n",
    "    classificacao_vinho = 5\n",
    "elif classificacao_vinho_XGBoost == 3:\n",
    "    classificacao_vinho = 6\n",
    "elif classificacao_vinho_XGBoost == 4:\n",
    "    classificacao_vinho = 7\n",
    "elif classificacao_vinho_XGBoost == 5:\n",
    "    classificacao_vinho = 8\n",
    "\n",
    "print(classificacao_vinho )"
   ]
  },
  {
   "cell_type": "code",
   "execution_count": 91,
   "id": "1167ab4f",
   "metadata": {},
   "outputs": [],
   "source": [
    "def converte_clasficacao_XGBoost_para_classe(classificacao_vinho_XGBoost):\n",
    "    \n",
    "    if classificacao_vinho_XGBoost == 0:\n",
    "        classificacao_vinho = 3\n",
    "    elif classificacao_vinho_XGBoost == 1:\n",
    "        classificacao_vinho = 4\n",
    "    elif classificacao_vinho_XGBoost == 2:\n",
    "        classificacao_vinho = 5\n",
    "    elif classificacao_vinho_XGBoost == 3:\n",
    "        classificacao_vinho = 6\n",
    "    elif classificacao_vinho_XGBoost == 4:\n",
    "        classificacao_vinho = 7\n",
    "    elif classificacao_vinho_XGBoost == 5:\n",
    "        classificacao_vinho = 8\n",
    "\n",
    "    return classificacao_vinho "
   ]
  },
  {
   "cell_type": "code",
   "execution_count": 92,
   "id": "de6addae",
   "metadata": {},
   "outputs": [
    {
     "data": {
      "text/plain": [
       "4"
      ]
     },
     "execution_count": 92,
     "metadata": {},
     "output_type": "execute_result"
    }
   ],
   "source": [
    "classificacao_vinho_XGBoost = 1\n",
    "converte_clasficacao_XGBoost_para_classe(classificacao_vinho_XGBoost)"
   ]
  },
  {
   "cell_type": "code",
   "execution_count": 23,
   "id": "775fa752",
   "metadata": {},
   "outputs": [
    {
     "data": {
      "text/plain": [
       "3"
      ]
     },
     "execution_count": 23,
     "metadata": {},
     "output_type": "execute_result"
    }
   ],
   "source": [
    "classificacao_vinho_XGBoost = 0\n",
    "converte_clasficacao_XGBoost_para_classe(classificacao_vinho_XGBoost)"
   ]
  },
  {
   "cell_type": "code",
   "execution_count": 24,
   "id": "d9a90e24",
   "metadata": {},
   "outputs": [
    {
     "data": {
      "text/plain": [
       "8"
      ]
     },
     "execution_count": 24,
     "metadata": {},
     "output_type": "execute_result"
    }
   ],
   "source": [
    "classificacao_vinho_XGBoost = 5\n",
    "converte_clasficacao_XGBoost_para_classe(classificacao_vinho_XGBoost)"
   ]
  },
  {
   "cell_type": "code",
   "execution_count": 25,
   "id": "f6c95d0d-cc00-441b-afe6-87e39bd173fe",
   "metadata": {},
   "outputs": [
    {
     "name": "stdout",
     "output_type": "stream",
     "text": [
      " 7092361 -rw-rw-r-- 1 valencar valencar 2,0M mai 16 11:13  brasil2023.csv\r\n",
      "13640938 -rw-r--r-- 1 valencar valencar 111K mai 10  2022  covid19-22-janeiro-2022.csv\r\n",
      "13637747 -rw-r--r-- 1 valencar valencar  90K mai 10  2022  covid19-23-dez-2021.csv\r\n",
      " 7118770 -rw-rw-r-- 1 valencar valencar 2,2K mai 18 11:56  estados.csv\r\n",
      " 7119940 -rw-rw-r-- 1 valencar valencar 1,9K set 11 21:28  estados_idh2.csv\r\n",
      " 7119935 -rw-rw-r-- 1 valencar valencar 1,9K set  5 12:06 'estados_idh (Conflitos entre maiúsculas e minúsculas 1).csv'\r\n",
      " 7119934 -rw-rw-r-- 1 valencar valencar 1,9K set  5 12:05 'estados_idh (Conflitos entre maiúsculas e minúsculas).csv'\r\n",
      " 7119123 -rw-r--r-- 1 valencar valencar 1,9K set  4 18:07  Estados_idh.csv\r\n",
      "13530010 -rw-r--r-- 1 valencar valencar  30K mai 10  2022  mapa_mundo_covid19-4-fevereiro-2022.csv\r\n",
      " 7092360 -rw-rw-r-- 1 valencar valencar 5,7M mai 16 11:16  prouni.csv\r\n",
      "11954288 -rw-r--r-- 1 valencar valencar  242 mai 10  2022  ratings_saida.csv\r\n",
      " 7254889 -rw-r--r-- 1 valencar valencar  90K out 17 12:02  vinhos_classificacao.csv\r\n"
     ]
    }
   ],
   "source": [
    "winedf.to_csv('vinhos_classificacao.csv', index=False)\n",
    "!ls -ilah *.csv"
   ]
  },
  {
   "cell_type": "code",
   "execution_count": 26,
   "id": "8f8398cb",
   "metadata": {},
   "outputs": [
    {
     "data": {
      "text/html": [
       "<div>\n",
       "<style scoped>\n",
       "    .dataframe tbody tr th:only-of-type {\n",
       "        vertical-align: middle;\n",
       "    }\n",
       "\n",
       "    .dataframe tbody tr th {\n",
       "        vertical-align: top;\n",
       "    }\n",
       "\n",
       "    .dataframe thead th {\n",
       "        text-align: right;\n",
       "    }\n",
       "</style>\n",
       "<table border=\"1\" class=\"dataframe\">\n",
       "  <thead>\n",
       "    <tr style=\"text-align: right;\">\n",
       "      <th></th>\n",
       "      <th>fixed acidity</th>\n",
       "      <th>volatile acidity</th>\n",
       "      <th>citric acid</th>\n",
       "      <th>residual sugar</th>\n",
       "      <th>chlorides</th>\n",
       "      <th>free sulfur dioxide</th>\n",
       "      <th>total sulfur dioxide</th>\n",
       "      <th>density</th>\n",
       "      <th>pH</th>\n",
       "      <th>sulphates</th>\n",
       "      <th>alcohol</th>\n",
       "      <th>quality</th>\n",
       "    </tr>\n",
       "  </thead>\n",
       "  <tbody>\n",
       "    <tr>\n",
       "      <th>0</th>\n",
       "      <td>7.4</td>\n",
       "      <td>0.70</td>\n",
       "      <td>0.00</td>\n",
       "      <td>1.9</td>\n",
       "      <td>0.076</td>\n",
       "      <td>11.0</td>\n",
       "      <td>34.0</td>\n",
       "      <td>0.9978</td>\n",
       "      <td>3.51</td>\n",
       "      <td>0.56</td>\n",
       "      <td>9.4</td>\n",
       "      <td>5</td>\n",
       "    </tr>\n",
       "    <tr>\n",
       "      <th>1</th>\n",
       "      <td>7.8</td>\n",
       "      <td>0.88</td>\n",
       "      <td>0.00</td>\n",
       "      <td>2.6</td>\n",
       "      <td>0.098</td>\n",
       "      <td>25.0</td>\n",
       "      <td>67.0</td>\n",
       "      <td>0.9968</td>\n",
       "      <td>3.20</td>\n",
       "      <td>0.68</td>\n",
       "      <td>9.8</td>\n",
       "      <td>5</td>\n",
       "    </tr>\n",
       "    <tr>\n",
       "      <th>2</th>\n",
       "      <td>7.8</td>\n",
       "      <td>0.76</td>\n",
       "      <td>0.04</td>\n",
       "      <td>2.3</td>\n",
       "      <td>0.092</td>\n",
       "      <td>15.0</td>\n",
       "      <td>54.0</td>\n",
       "      <td>0.9970</td>\n",
       "      <td>3.26</td>\n",
       "      <td>0.65</td>\n",
       "      <td>9.8</td>\n",
       "      <td>5</td>\n",
       "    </tr>\n",
       "    <tr>\n",
       "      <th>3</th>\n",
       "      <td>11.2</td>\n",
       "      <td>0.28</td>\n",
       "      <td>0.56</td>\n",
       "      <td>1.9</td>\n",
       "      <td>0.075</td>\n",
       "      <td>17.0</td>\n",
       "      <td>60.0</td>\n",
       "      <td>0.9980</td>\n",
       "      <td>3.16</td>\n",
       "      <td>0.58</td>\n",
       "      <td>9.8</td>\n",
       "      <td>6</td>\n",
       "    </tr>\n",
       "    <tr>\n",
       "      <th>4</th>\n",
       "      <td>7.4</td>\n",
       "      <td>0.70</td>\n",
       "      <td>0.00</td>\n",
       "      <td>1.9</td>\n",
       "      <td>0.076</td>\n",
       "      <td>11.0</td>\n",
       "      <td>34.0</td>\n",
       "      <td>0.9978</td>\n",
       "      <td>3.51</td>\n",
       "      <td>0.56</td>\n",
       "      <td>9.4</td>\n",
       "      <td>5</td>\n",
       "    </tr>\n",
       "  </tbody>\n",
       "</table>\n",
       "</div>"
      ],
      "text/plain": [
       "   fixed acidity  volatile acidity  citric acid  residual sugar  chlorides  \\\n",
       "0            7.4              0.70         0.00             1.9      0.076   \n",
       "1            7.8              0.88         0.00             2.6      0.098   \n",
       "2            7.8              0.76         0.04             2.3      0.092   \n",
       "3           11.2              0.28         0.56             1.9      0.075   \n",
       "4            7.4              0.70         0.00             1.9      0.076   \n",
       "\n",
       "   free sulfur dioxide  total sulfur dioxide  density    pH  sulphates  \\\n",
       "0                 11.0                  34.0   0.9978  3.51       0.56   \n",
       "1                 25.0                  67.0   0.9968  3.20       0.68   \n",
       "2                 15.0                  54.0   0.9970  3.26       0.65   \n",
       "3                 17.0                  60.0   0.9980  3.16       0.58   \n",
       "4                 11.0                  34.0   0.9978  3.51       0.56   \n",
       "\n",
       "   alcohol  quality  \n",
       "0      9.4        5  \n",
       "1      9.8        5  \n",
       "2      9.8        5  \n",
       "3      9.8        6  \n",
       "4      9.4        5  "
      ]
     },
     "execution_count": 26,
     "metadata": {},
     "output_type": "execute_result"
    }
   ],
   "source": [
    "df.head()"
   ]
  },
  {
   "cell_type": "code",
   "execution_count": 30,
   "id": "8625013d",
   "metadata": {},
   "outputs": [
    {
     "data": {
      "text/plain": [
       "array([5, 6, 7, 4, 8, 3])"
      ]
     },
     "execution_count": 30,
     "metadata": {},
     "output_type": "execute_result"
    }
   ],
   "source": [
    "# As Classes\n",
    "df.quality.unique()"
   ]
  },
  {
   "cell_type": "code",
   "execution_count": 31,
   "id": "d2105a6e",
   "metadata": {},
   "outputs": [
    {
     "data": {
      "text/plain": [
       "6"
      ]
     },
     "execution_count": 31,
     "metadata": {},
     "output_type": "execute_result"
    }
   ],
   "source": [
    "# Número de Classes\n",
    "df.quality.nunique()"
   ]
  },
  {
   "cell_type": "code",
   "execution_count": 32,
   "id": "2a308fff",
   "metadata": {
    "scrolled": true
   },
   "outputs": [
    {
     "data": {
      "text/plain": [
       "quality\n",
       "5    681\n",
       "6    638\n",
       "7    199\n",
       "4     53\n",
       "8     18\n",
       "3     10\n",
       "Name: count, dtype: int64"
      ]
     },
     "execution_count": 32,
     "metadata": {},
     "output_type": "execute_result"
    }
   ],
   "source": [
    "df.quality.value_counts()"
   ]
  },
  {
   "cell_type": "code",
   "execution_count": 33,
   "id": "640ccd09",
   "metadata": {},
   "outputs": [
    {
     "data": {
      "text/plain": [
       "quality\n",
       "5    42.589118\n",
       "6    39.899937\n",
       "7    12.445278\n",
       "4     3.314572\n",
       "8     1.125704\n",
       "3     0.625391\n",
       "Name: count, dtype: float64"
      ]
     },
     "execution_count": 33,
     "metadata": {},
     "output_type": "execute_result"
    }
   ],
   "source": [
    "winedf.quality.value_counts() / len(winedf) * 100"
   ]
  },
  {
   "cell_type": "code",
   "execution_count": null,
   "id": "7bb44903",
   "metadata": {},
   "outputs": [],
   "source": [
    "# import seaborn as sns\n",
    "# sns.barplot(x=)"
   ]
  },
  {
   "cell_type": "markdown",
   "id": "b40e6d80-a411-4cf7-9677-50de8c95bd1b",
   "metadata": {},
   "source": [
    "# Criar dicionário de Classes - Mapeamento"
   ]
  },
  {
   "cell_type": "code",
   "execution_count": 34,
   "id": "77438938-b94e-4735-a89e-39d496daee7b",
   "metadata": {},
   "outputs": [
    {
     "data": {
      "text/plain": [
       "{3: 0, 4: 1, 5: 2, 6: 3, 7: 4, 8: 5}"
      ]
     },
     "execution_count": 34,
     "metadata": {},
     "output_type": "execute_result"
    }
   ],
   "source": [
    "dict_map_classes_valor = {\n",
    "    3   :   0,   \n",
    "    4   :   1,  \n",
    "    5   :   2,\n",
    "    6   :   3,\n",
    "    7   :   4,\n",
    "    8   :   5\n",
    "}\n",
    "dict_map_classes_valor"
   ]
  },
  {
   "cell_type": "code",
   "execution_count": 35,
   "id": "c26b5435-ba80-4108-94e6-4d7ec5328994",
   "metadata": {},
   "outputs": [
    {
     "data": {
      "text/plain": [
       "{0: 3, 1: 4, 2: 5, 3: 6, 4: 7, 5: 8}"
      ]
     },
     "execution_count": 35,
     "metadata": {},
     "output_type": "execute_result"
    }
   ],
   "source": [
    "dict_map_valor_classe = {\n",
    "    0   :   3,   \n",
    "    1   :   4,  \n",
    "    2   :   5,\n",
    "    3   :   6,\n",
    "    4   :   7,\n",
    "    5   :   8\n",
    "}\n",
    "dict_map_valor_classe    "
   ]
  },
  {
   "cell_type": "markdown",
   "id": "672bca82",
   "metadata": {},
   "source": [
    "# Separação dos dados de entrada (X) e dado de Saída (y)"
   ]
  },
  {
   "cell_type": "code",
   "execution_count": 36,
   "id": "c951312b",
   "metadata": {},
   "outputs": [
    {
     "data": {
      "text/html": [
       "<div>\n",
       "<style scoped>\n",
       "    .dataframe tbody tr th:only-of-type {\n",
       "        vertical-align: middle;\n",
       "    }\n",
       "\n",
       "    .dataframe tbody tr th {\n",
       "        vertical-align: top;\n",
       "    }\n",
       "\n",
       "    .dataframe thead th {\n",
       "        text-align: right;\n",
       "    }\n",
       "</style>\n",
       "<table border=\"1\" class=\"dataframe\">\n",
       "  <thead>\n",
       "    <tr style=\"text-align: right;\">\n",
       "      <th></th>\n",
       "      <th>fixed acidity</th>\n",
       "      <th>volatile acidity</th>\n",
       "      <th>citric acid</th>\n",
       "      <th>residual sugar</th>\n",
       "      <th>chlorides</th>\n",
       "      <th>free sulfur dioxide</th>\n",
       "      <th>total sulfur dioxide</th>\n",
       "      <th>density</th>\n",
       "      <th>pH</th>\n",
       "      <th>sulphates</th>\n",
       "      <th>alcohol</th>\n",
       "      <th>quality</th>\n",
       "    </tr>\n",
       "  </thead>\n",
       "  <tbody>\n",
       "    <tr>\n",
       "      <th>0</th>\n",
       "      <td>7.4</td>\n",
       "      <td>0.70</td>\n",
       "      <td>0.00</td>\n",
       "      <td>1.9</td>\n",
       "      <td>0.076</td>\n",
       "      <td>11.0</td>\n",
       "      <td>34.0</td>\n",
       "      <td>0.9978</td>\n",
       "      <td>3.51</td>\n",
       "      <td>0.56</td>\n",
       "      <td>9.4</td>\n",
       "      <td>5</td>\n",
       "    </tr>\n",
       "    <tr>\n",
       "      <th>1</th>\n",
       "      <td>7.8</td>\n",
       "      <td>0.88</td>\n",
       "      <td>0.00</td>\n",
       "      <td>2.6</td>\n",
       "      <td>0.098</td>\n",
       "      <td>25.0</td>\n",
       "      <td>67.0</td>\n",
       "      <td>0.9968</td>\n",
       "      <td>3.20</td>\n",
       "      <td>0.68</td>\n",
       "      <td>9.8</td>\n",
       "      <td>5</td>\n",
       "    </tr>\n",
       "    <tr>\n",
       "      <th>2</th>\n",
       "      <td>7.8</td>\n",
       "      <td>0.76</td>\n",
       "      <td>0.04</td>\n",
       "      <td>2.3</td>\n",
       "      <td>0.092</td>\n",
       "      <td>15.0</td>\n",
       "      <td>54.0</td>\n",
       "      <td>0.9970</td>\n",
       "      <td>3.26</td>\n",
       "      <td>0.65</td>\n",
       "      <td>9.8</td>\n",
       "      <td>5</td>\n",
       "    </tr>\n",
       "    <tr>\n",
       "      <th>3</th>\n",
       "      <td>11.2</td>\n",
       "      <td>0.28</td>\n",
       "      <td>0.56</td>\n",
       "      <td>1.9</td>\n",
       "      <td>0.075</td>\n",
       "      <td>17.0</td>\n",
       "      <td>60.0</td>\n",
       "      <td>0.9980</td>\n",
       "      <td>3.16</td>\n",
       "      <td>0.58</td>\n",
       "      <td>9.8</td>\n",
       "      <td>6</td>\n",
       "    </tr>\n",
       "    <tr>\n",
       "      <th>4</th>\n",
       "      <td>7.4</td>\n",
       "      <td>0.70</td>\n",
       "      <td>0.00</td>\n",
       "      <td>1.9</td>\n",
       "      <td>0.076</td>\n",
       "      <td>11.0</td>\n",
       "      <td>34.0</td>\n",
       "      <td>0.9978</td>\n",
       "      <td>3.51</td>\n",
       "      <td>0.56</td>\n",
       "      <td>9.4</td>\n",
       "      <td>5</td>\n",
       "    </tr>\n",
       "  </tbody>\n",
       "</table>\n",
       "</div>"
      ],
      "text/plain": [
       "   fixed acidity  volatile acidity  citric acid  residual sugar  chlorides  \\\n",
       "0            7.4              0.70         0.00             1.9      0.076   \n",
       "1            7.8              0.88         0.00             2.6      0.098   \n",
       "2            7.8              0.76         0.04             2.3      0.092   \n",
       "3           11.2              0.28         0.56             1.9      0.075   \n",
       "4            7.4              0.70         0.00             1.9      0.076   \n",
       "\n",
       "   free sulfur dioxide  total sulfur dioxide  density    pH  sulphates  \\\n",
       "0                 11.0                  34.0   0.9978  3.51       0.56   \n",
       "1                 25.0                  67.0   0.9968  3.20       0.68   \n",
       "2                 15.0                  54.0   0.9970  3.26       0.65   \n",
       "3                 17.0                  60.0   0.9980  3.16       0.58   \n",
       "4                 11.0                  34.0   0.9978  3.51       0.56   \n",
       "\n",
       "   alcohol  quality  \n",
       "0      9.4        5  \n",
       "1      9.8        5  \n",
       "2      9.8        5  \n",
       "3      9.8        6  \n",
       "4      9.4        5  "
      ]
     },
     "execution_count": 36,
     "metadata": {},
     "output_type": "execute_result"
    }
   ],
   "source": [
    "df.head()"
   ]
  },
  {
   "cell_type": "code",
   "execution_count": 93,
   "id": "64e02bd7",
   "metadata": {},
   "outputs": [
    {
     "data": {
      "text/html": [
       "<div>\n",
       "<style scoped>\n",
       "    .dataframe tbody tr th:only-of-type {\n",
       "        vertical-align: middle;\n",
       "    }\n",
       "\n",
       "    .dataframe tbody tr th {\n",
       "        vertical-align: top;\n",
       "    }\n",
       "\n",
       "    .dataframe thead th {\n",
       "        text-align: right;\n",
       "    }\n",
       "</style>\n",
       "<table border=\"1\" class=\"dataframe\">\n",
       "  <thead>\n",
       "    <tr style=\"text-align: right;\">\n",
       "      <th></th>\n",
       "      <th>fixed acidity</th>\n",
       "      <th>volatile acidity</th>\n",
       "      <th>citric acid</th>\n",
       "      <th>residual sugar</th>\n",
       "      <th>chlorides</th>\n",
       "      <th>free sulfur dioxide</th>\n",
       "      <th>total sulfur dioxide</th>\n",
       "      <th>density</th>\n",
       "      <th>pH</th>\n",
       "      <th>sulphates</th>\n",
       "      <th>alcohol</th>\n",
       "    </tr>\n",
       "  </thead>\n",
       "  <tbody>\n",
       "    <tr>\n",
       "      <th>0</th>\n",
       "      <td>7.4</td>\n",
       "      <td>0.70</td>\n",
       "      <td>0.00</td>\n",
       "      <td>1.9</td>\n",
       "      <td>0.076</td>\n",
       "      <td>11.0</td>\n",
       "      <td>34.0</td>\n",
       "      <td>0.9978</td>\n",
       "      <td>3.51</td>\n",
       "      <td>0.56</td>\n",
       "      <td>9.4</td>\n",
       "    </tr>\n",
       "    <tr>\n",
       "      <th>1</th>\n",
       "      <td>7.8</td>\n",
       "      <td>0.88</td>\n",
       "      <td>0.00</td>\n",
       "      <td>2.6</td>\n",
       "      <td>0.098</td>\n",
       "      <td>25.0</td>\n",
       "      <td>67.0</td>\n",
       "      <td>0.9968</td>\n",
       "      <td>3.20</td>\n",
       "      <td>0.68</td>\n",
       "      <td>9.8</td>\n",
       "    </tr>\n",
       "    <tr>\n",
       "      <th>2</th>\n",
       "      <td>7.8</td>\n",
       "      <td>0.76</td>\n",
       "      <td>0.04</td>\n",
       "      <td>2.3</td>\n",
       "      <td>0.092</td>\n",
       "      <td>15.0</td>\n",
       "      <td>54.0</td>\n",
       "      <td>0.9970</td>\n",
       "      <td>3.26</td>\n",
       "      <td>0.65</td>\n",
       "      <td>9.8</td>\n",
       "    </tr>\n",
       "    <tr>\n",
       "      <th>3</th>\n",
       "      <td>11.2</td>\n",
       "      <td>0.28</td>\n",
       "      <td>0.56</td>\n",
       "      <td>1.9</td>\n",
       "      <td>0.075</td>\n",
       "      <td>17.0</td>\n",
       "      <td>60.0</td>\n",
       "      <td>0.9980</td>\n",
       "      <td>3.16</td>\n",
       "      <td>0.58</td>\n",
       "      <td>9.8</td>\n",
       "    </tr>\n",
       "    <tr>\n",
       "      <th>4</th>\n",
       "      <td>7.4</td>\n",
       "      <td>0.70</td>\n",
       "      <td>0.00</td>\n",
       "      <td>1.9</td>\n",
       "      <td>0.076</td>\n",
       "      <td>11.0</td>\n",
       "      <td>34.0</td>\n",
       "      <td>0.9978</td>\n",
       "      <td>3.51</td>\n",
       "      <td>0.56</td>\n",
       "      <td>9.4</td>\n",
       "    </tr>\n",
       "  </tbody>\n",
       "</table>\n",
       "</div>"
      ],
      "text/plain": [
       "   fixed acidity  volatile acidity  citric acid  residual sugar  chlorides  \\\n",
       "0            7.4              0.70         0.00             1.9      0.076   \n",
       "1            7.8              0.88         0.00             2.6      0.098   \n",
       "2            7.8              0.76         0.04             2.3      0.092   \n",
       "3           11.2              0.28         0.56             1.9      0.075   \n",
       "4            7.4              0.70         0.00             1.9      0.076   \n",
       "\n",
       "   free sulfur dioxide  total sulfur dioxide  density    pH  sulphates  \\\n",
       "0                 11.0                  34.0   0.9978  3.51       0.56   \n",
       "1                 25.0                  67.0   0.9968  3.20       0.68   \n",
       "2                 15.0                  54.0   0.9970  3.26       0.65   \n",
       "3                 17.0                  60.0   0.9980  3.16       0.58   \n",
       "4                 11.0                  34.0   0.9978  3.51       0.56   \n",
       "\n",
       "   alcohol  \n",
       "0      9.4  \n",
       "1      9.8  \n",
       "2      9.8  \n",
       "3      9.8  \n",
       "4      9.4  "
      ]
     },
     "execution_count": 93,
     "metadata": {},
     "output_type": "execute_result"
    }
   ],
   "source": [
    "y = winedf[\"quality\"]\n",
    "X = winedf.drop([\"quality\"], axis=1)\n",
    "\n",
    "X.head()"
   ]
  },
  {
   "cell_type": "code",
   "execution_count": 38,
   "id": "d4a37a35",
   "metadata": {},
   "outputs": [
    {
     "data": {
      "text/plain": [
       "0    5\n",
       "1    5\n",
       "2    5\n",
       "3    6\n",
       "4    5\n",
       "Name: quality, dtype: int64"
      ]
     },
     "execution_count": 38,
     "metadata": {},
     "output_type": "execute_result"
    }
   ],
   "source": [
    "y.head()"
   ]
  },
  {
   "cell_type": "code",
   "execution_count": 39,
   "id": "ed58f09e-0cdf-4e9b-855d-7138440a695a",
   "metadata": {},
   "outputs": [
    {
     "data": {
      "text/plain": [
       "{3, 4, 5, 6, 7, 8}"
      ]
     },
     "execution_count": 39,
     "metadata": {},
     "output_type": "execute_result"
    }
   ],
   "source": [
    "set(y)"
   ]
  },
  {
   "cell_type": "code",
   "execution_count": 40,
   "id": "4431f126",
   "metadata": {},
   "outputs": [
    {
     "data": {
      "text/html": [
       "<style>#sk-container-id-2 {color: black;}#sk-container-id-2 pre{padding: 0;}#sk-container-id-2 div.sk-toggleable {background-color: white;}#sk-container-id-2 label.sk-toggleable__label {cursor: pointer;display: block;width: 100%;margin-bottom: 0;padding: 0.3em;box-sizing: border-box;text-align: center;}#sk-container-id-2 label.sk-toggleable__label-arrow:before {content: \"▸\";float: left;margin-right: 0.25em;color: #696969;}#sk-container-id-2 label.sk-toggleable__label-arrow:hover:before {color: black;}#sk-container-id-2 div.sk-estimator:hover label.sk-toggleable__label-arrow:before {color: black;}#sk-container-id-2 div.sk-toggleable__content {max-height: 0;max-width: 0;overflow: hidden;text-align: left;background-color: #f0f8ff;}#sk-container-id-2 div.sk-toggleable__content pre {margin: 0.2em;color: black;border-radius: 0.25em;background-color: #f0f8ff;}#sk-container-id-2 input.sk-toggleable__control:checked~div.sk-toggleable__content {max-height: 200px;max-width: 100%;overflow: auto;}#sk-container-id-2 input.sk-toggleable__control:checked~label.sk-toggleable__label-arrow:before {content: \"▾\";}#sk-container-id-2 div.sk-estimator input.sk-toggleable__control:checked~label.sk-toggleable__label {background-color: #d4ebff;}#sk-container-id-2 div.sk-label input.sk-toggleable__control:checked~label.sk-toggleable__label {background-color: #d4ebff;}#sk-container-id-2 input.sk-hidden--visually {border: 0;clip: rect(1px 1px 1px 1px);clip: rect(1px, 1px, 1px, 1px);height: 1px;margin: -1px;overflow: hidden;padding: 0;position: absolute;width: 1px;}#sk-container-id-2 div.sk-estimator {font-family: monospace;background-color: #f0f8ff;border: 1px dotted black;border-radius: 0.25em;box-sizing: border-box;margin-bottom: 0.5em;}#sk-container-id-2 div.sk-estimator:hover {background-color: #d4ebff;}#sk-container-id-2 div.sk-parallel-item::after {content: \"\";width: 100%;border-bottom: 1px solid gray;flex-grow: 1;}#sk-container-id-2 div.sk-label:hover label.sk-toggleable__label {background-color: #d4ebff;}#sk-container-id-2 div.sk-serial::before {content: \"\";position: absolute;border-left: 1px solid gray;box-sizing: border-box;top: 0;bottom: 0;left: 50%;z-index: 0;}#sk-container-id-2 div.sk-serial {display: flex;flex-direction: column;align-items: center;background-color: white;padding-right: 0.2em;padding-left: 0.2em;position: relative;}#sk-container-id-2 div.sk-item {position: relative;z-index: 1;}#sk-container-id-2 div.sk-parallel {display: flex;align-items: stretch;justify-content: center;background-color: white;position: relative;}#sk-container-id-2 div.sk-item::before, #sk-container-id-2 div.sk-parallel-item::before {content: \"\";position: absolute;border-left: 1px solid gray;box-sizing: border-box;top: 0;bottom: 0;left: 50%;z-index: -1;}#sk-container-id-2 div.sk-parallel-item {display: flex;flex-direction: column;z-index: 1;position: relative;background-color: white;}#sk-container-id-2 div.sk-parallel-item:first-child::after {align-self: flex-end;width: 50%;}#sk-container-id-2 div.sk-parallel-item:last-child::after {align-self: flex-start;width: 50%;}#sk-container-id-2 div.sk-parallel-item:only-child::after {width: 0;}#sk-container-id-2 div.sk-dashed-wrapped {border: 1px dashed gray;margin: 0 0.4em 0.5em 0.4em;box-sizing: border-box;padding-bottom: 0.4em;background-color: white;}#sk-container-id-2 div.sk-label label {font-family: monospace;font-weight: bold;display: inline-block;line-height: 1.2em;}#sk-container-id-2 div.sk-label-container {text-align: center;}#sk-container-id-2 div.sk-container {/* jupyter's `normalize.less` sets `[hidden] { display: none; }` but bootstrap.min.css set `[hidden] { display: none !important; }` so we also need the `!important` here to be able to override the default hidden behavior on the sphinx rendered scikit-learn.org. See: https://github.com/scikit-learn/scikit-learn/issues/21755 */display: inline-block !important;position: relative;}#sk-container-id-2 div.sk-text-repr-fallback {display: none;}</style><div id=\"sk-container-id-2\" class=\"sk-top-container\"><div class=\"sk-text-repr-fallback\"><pre>Pipeline(steps=[(&#x27;scaler&#x27;, StandardScaler()), (&#x27;SVM&#x27;, SVC())])</pre><b>In a Jupyter environment, please rerun this cell to show the HTML representation or trust the notebook. <br />On GitHub, the HTML representation is unable to render, please try loading this page with nbviewer.org.</b></div><div class=\"sk-container\" hidden><div class=\"sk-item sk-dashed-wrapped\"><div class=\"sk-label-container\"><div class=\"sk-label sk-toggleable\"><input class=\"sk-toggleable__control sk-hidden--visually\" id=\"sk-estimator-id-4\" type=\"checkbox\" ><label for=\"sk-estimator-id-4\" class=\"sk-toggleable__label sk-toggleable__label-arrow\">Pipeline</label><div class=\"sk-toggleable__content\"><pre>Pipeline(steps=[(&#x27;scaler&#x27;, StandardScaler()), (&#x27;SVM&#x27;, SVC())])</pre></div></div></div><div class=\"sk-serial\"><div class=\"sk-item\"><div class=\"sk-estimator sk-toggleable\"><input class=\"sk-toggleable__control sk-hidden--visually\" id=\"sk-estimator-id-5\" type=\"checkbox\" ><label for=\"sk-estimator-id-5\" class=\"sk-toggleable__label sk-toggleable__label-arrow\">StandardScaler</label><div class=\"sk-toggleable__content\"><pre>StandardScaler()</pre></div></div></div><div class=\"sk-item\"><div class=\"sk-estimator sk-toggleable\"><input class=\"sk-toggleable__control sk-hidden--visually\" id=\"sk-estimator-id-6\" type=\"checkbox\" ><label for=\"sk-estimator-id-6\" class=\"sk-toggleable__label sk-toggleable__label-arrow\">SVC</label><div class=\"sk-toggleable__content\"><pre>SVC()</pre></div></div></div></div></div></div></div>"
      ],
      "text/plain": [
       "Pipeline(steps=[('scaler', StandardScaler()), ('SVM', SVC())])"
      ]
     },
     "execution_count": 40,
     "metadata": {},
     "output_type": "execute_result"
    }
   ],
   "source": [
    "model"
   ]
  },
  {
   "cell_type": "code",
   "execution_count": 41,
   "id": "09921cdb",
   "metadata": {},
   "outputs": [
    {
     "data": {
      "text/html": [
       "<div>\n",
       "<style scoped>\n",
       "    .dataframe tbody tr th:only-of-type {\n",
       "        vertical-align: middle;\n",
       "    }\n",
       "\n",
       "    .dataframe tbody tr th {\n",
       "        vertical-align: top;\n",
       "    }\n",
       "\n",
       "    .dataframe thead th {\n",
       "        text-align: right;\n",
       "    }\n",
       "</style>\n",
       "<table border=\"1\" class=\"dataframe\">\n",
       "  <thead>\n",
       "    <tr style=\"text-align: right;\">\n",
       "      <th></th>\n",
       "      <th>fixed acidity</th>\n",
       "      <th>volatile acidity</th>\n",
       "      <th>citric acid</th>\n",
       "      <th>residual sugar</th>\n",
       "      <th>chlorides</th>\n",
       "      <th>free sulfur dioxide</th>\n",
       "      <th>total sulfur dioxide</th>\n",
       "      <th>density</th>\n",
       "      <th>pH</th>\n",
       "      <th>sulphates</th>\n",
       "      <th>alcohol</th>\n",
       "    </tr>\n",
       "  </thead>\n",
       "  <tbody>\n",
       "    <tr>\n",
       "      <th>0</th>\n",
       "      <td>7.4</td>\n",
       "      <td>0.70</td>\n",
       "      <td>0.00</td>\n",
       "      <td>1.9</td>\n",
       "      <td>0.076</td>\n",
       "      <td>11.0</td>\n",
       "      <td>34.0</td>\n",
       "      <td>0.9978</td>\n",
       "      <td>3.51</td>\n",
       "      <td>0.56</td>\n",
       "      <td>9.4</td>\n",
       "    </tr>\n",
       "    <tr>\n",
       "      <th>1</th>\n",
       "      <td>7.8</td>\n",
       "      <td>0.88</td>\n",
       "      <td>0.00</td>\n",
       "      <td>2.6</td>\n",
       "      <td>0.098</td>\n",
       "      <td>25.0</td>\n",
       "      <td>67.0</td>\n",
       "      <td>0.9968</td>\n",
       "      <td>3.20</td>\n",
       "      <td>0.68</td>\n",
       "      <td>9.8</td>\n",
       "    </tr>\n",
       "    <tr>\n",
       "      <th>2</th>\n",
       "      <td>7.8</td>\n",
       "      <td>0.76</td>\n",
       "      <td>0.04</td>\n",
       "      <td>2.3</td>\n",
       "      <td>0.092</td>\n",
       "      <td>15.0</td>\n",
       "      <td>54.0</td>\n",
       "      <td>0.9970</td>\n",
       "      <td>3.26</td>\n",
       "      <td>0.65</td>\n",
       "      <td>9.8</td>\n",
       "    </tr>\n",
       "  </tbody>\n",
       "</table>\n",
       "</div>"
      ],
      "text/plain": [
       "   fixed acidity  volatile acidity  citric acid  residual sugar  chlorides  \\\n",
       "0            7.4              0.70         0.00             1.9      0.076   \n",
       "1            7.8              0.88         0.00             2.6      0.098   \n",
       "2            7.8              0.76         0.04             2.3      0.092   \n",
       "\n",
       "   free sulfur dioxide  total sulfur dioxide  density    pH  sulphates  \\\n",
       "0                 11.0                  34.0   0.9978  3.51       0.56   \n",
       "1                 25.0                  67.0   0.9968  3.20       0.68   \n",
       "2                 15.0                  54.0   0.9970  3.26       0.65   \n",
       "\n",
       "   alcohol  \n",
       "0      9.4  \n",
       "1      9.8  \n",
       "2      9.8  "
      ]
     },
     "execution_count": 41,
     "metadata": {},
     "output_type": "execute_result"
    }
   ],
   "source": [
    "X[:3]"
   ]
  },
  {
   "cell_type": "code",
   "execution_count": 42,
   "id": "c663b3e3",
   "metadata": {},
   "outputs": [],
   "source": [
    "labels = model.predict(X[:3])"
   ]
  },
  {
   "cell_type": "code",
   "execution_count": 43,
   "id": "e862bd5c",
   "metadata": {},
   "outputs": [
    {
     "data": {
      "text/plain": [
       "array([5, 5, 5])"
      ]
     },
     "execution_count": 43,
     "metadata": {},
     "output_type": "execute_result"
    }
   ],
   "source": [
    "labels"
   ]
  },
  {
   "cell_type": "markdown",
   "id": "0c035244",
   "metadata": {},
   "source": [
    "# Vamos fazer o nosso modelo"
   ]
  },
  {
   "cell_type": "code",
   "execution_count": 44,
   "id": "4bdce5ed",
   "metadata": {},
   "outputs": [
    {
     "data": {
      "text/html": [
       "<div>\n",
       "<style scoped>\n",
       "    .dataframe tbody tr th:only-of-type {\n",
       "        vertical-align: middle;\n",
       "    }\n",
       "\n",
       "    .dataframe tbody tr th {\n",
       "        vertical-align: top;\n",
       "    }\n",
       "\n",
       "    .dataframe thead th {\n",
       "        text-align: right;\n",
       "    }\n",
       "</style>\n",
       "<table border=\"1\" class=\"dataframe\">\n",
       "  <thead>\n",
       "    <tr style=\"text-align: right;\">\n",
       "      <th></th>\n",
       "      <th>fixed acidity</th>\n",
       "      <th>volatile acidity</th>\n",
       "      <th>citric acid</th>\n",
       "      <th>residual sugar</th>\n",
       "      <th>chlorides</th>\n",
       "      <th>free sulfur dioxide</th>\n",
       "      <th>total sulfur dioxide</th>\n",
       "      <th>density</th>\n",
       "      <th>pH</th>\n",
       "      <th>sulphates</th>\n",
       "      <th>alcohol</th>\n",
       "    </tr>\n",
       "  </thead>\n",
       "  <tbody>\n",
       "    <tr>\n",
       "      <th>0</th>\n",
       "      <td>7.4</td>\n",
       "      <td>0.70</td>\n",
       "      <td>0.00</td>\n",
       "      <td>1.9</td>\n",
       "      <td>0.076</td>\n",
       "      <td>11.0</td>\n",
       "      <td>34.0</td>\n",
       "      <td>0.9978</td>\n",
       "      <td>3.51</td>\n",
       "      <td>0.56</td>\n",
       "      <td>9.4</td>\n",
       "    </tr>\n",
       "    <tr>\n",
       "      <th>1</th>\n",
       "      <td>7.8</td>\n",
       "      <td>0.88</td>\n",
       "      <td>0.00</td>\n",
       "      <td>2.6</td>\n",
       "      <td>0.098</td>\n",
       "      <td>25.0</td>\n",
       "      <td>67.0</td>\n",
       "      <td>0.9968</td>\n",
       "      <td>3.20</td>\n",
       "      <td>0.68</td>\n",
       "      <td>9.8</td>\n",
       "    </tr>\n",
       "    <tr>\n",
       "      <th>2</th>\n",
       "      <td>7.8</td>\n",
       "      <td>0.76</td>\n",
       "      <td>0.04</td>\n",
       "      <td>2.3</td>\n",
       "      <td>0.092</td>\n",
       "      <td>15.0</td>\n",
       "      <td>54.0</td>\n",
       "      <td>0.9970</td>\n",
       "      <td>3.26</td>\n",
       "      <td>0.65</td>\n",
       "      <td>9.8</td>\n",
       "    </tr>\n",
       "    <tr>\n",
       "      <th>3</th>\n",
       "      <td>11.2</td>\n",
       "      <td>0.28</td>\n",
       "      <td>0.56</td>\n",
       "      <td>1.9</td>\n",
       "      <td>0.075</td>\n",
       "      <td>17.0</td>\n",
       "      <td>60.0</td>\n",
       "      <td>0.9980</td>\n",
       "      <td>3.16</td>\n",
       "      <td>0.58</td>\n",
       "      <td>9.8</td>\n",
       "    </tr>\n",
       "    <tr>\n",
       "      <th>4</th>\n",
       "      <td>7.4</td>\n",
       "      <td>0.70</td>\n",
       "      <td>0.00</td>\n",
       "      <td>1.9</td>\n",
       "      <td>0.076</td>\n",
       "      <td>11.0</td>\n",
       "      <td>34.0</td>\n",
       "      <td>0.9978</td>\n",
       "      <td>3.51</td>\n",
       "      <td>0.56</td>\n",
       "      <td>9.4</td>\n",
       "    </tr>\n",
       "  </tbody>\n",
       "</table>\n",
       "</div>"
      ],
      "text/plain": [
       "   fixed acidity  volatile acidity  citric acid  residual sugar  chlorides  \\\n",
       "0            7.4              0.70         0.00             1.9      0.076   \n",
       "1            7.8              0.88         0.00             2.6      0.098   \n",
       "2            7.8              0.76         0.04             2.3      0.092   \n",
       "3           11.2              0.28         0.56             1.9      0.075   \n",
       "4            7.4              0.70         0.00             1.9      0.076   \n",
       "\n",
       "   free sulfur dioxide  total sulfur dioxide  density    pH  sulphates  \\\n",
       "0                 11.0                  34.0   0.9978  3.51       0.56   \n",
       "1                 25.0                  67.0   0.9968  3.20       0.68   \n",
       "2                 15.0                  54.0   0.9970  3.26       0.65   \n",
       "3                 17.0                  60.0   0.9980  3.16       0.58   \n",
       "4                 11.0                  34.0   0.9978  3.51       0.56   \n",
       "\n",
       "   alcohol  \n",
       "0      9.4  \n",
       "1      9.8  \n",
       "2      9.8  \n",
       "3      9.8  \n",
       "4      9.4  "
      ]
     },
     "execution_count": 44,
     "metadata": {},
     "output_type": "execute_result"
    }
   ],
   "source": [
    "X.head()"
   ]
  },
  {
   "cell_type": "markdown",
   "id": "3aa1ee5a-4260-443e-b6c4-4712ab3da132",
   "metadata": {},
   "source": [
    "## Separação dos dados em Treino e Teste"
   ]
  },
  {
   "cell_type": "code",
   "execution_count": 94,
   "id": "1b40ea32-5212-4ed0-bd45-40d5b6c4728e",
   "metadata": {},
   "outputs": [
    {
     "data": {
      "text/plain": [
       "((1279, 11), (320, 11))"
      ]
     },
     "execution_count": 94,
     "metadata": {},
     "output_type": "execute_result"
    }
   ],
   "source": [
    "from sklearn.model_selection import train_test_split\n",
    "\n",
    "x_train, x_test, y_train, y_test = train_test_split(X, y, test_size=0.2, random_state=65)\n",
    "\n",
    "x_train.shape, x_test.shape"
   ]
  },
  {
   "cell_type": "markdown",
   "id": "b9c882f7-1be3-4ccc-8bbf-f67c5c72a557",
   "metadata": {},
   "source": [
    "# O Algortimo XGBoost - Algoritmo Ensemble baseado em Árvores de Decisão"
   ]
  },
  {
   "cell_type": "code",
   "execution_count": 46,
   "id": "a02a5c03-005b-48ce-b945-0f9fcd811c4d",
   "metadata": {},
   "outputs": [],
   "source": [
    "# Install\n",
    "!pip install -q xgboost"
   ]
  },
  {
   "cell_type": "code",
   "execution_count": 47,
   "id": "af1e3d1e-1d74-4615-bedf-1989ecd783e1",
   "metadata": {},
   "outputs": [],
   "source": [
    "import xgboost as xgb"
   ]
  },
  {
   "cell_type": "markdown",
   "id": "cc49c19e-f9dc-4014-b992-19ab8dd1bbeb",
   "metadata": {},
   "source": [
    "# Preparação dos dados de Saída"
   ]
  },
  {
   "cell_type": "code",
   "execution_count": 48,
   "id": "3ccad2c1-183e-45ea-90cc-3bc65b40b7be",
   "metadata": {},
   "outputs": [
    {
     "data": {
      "text/plain": [
       "{3, 4, 5, 6, 7, 8}"
      ]
     },
     "execution_count": 48,
     "metadata": {},
     "output_type": "execute_result"
    }
   ],
   "source": [
    "set(y_train)"
   ]
  },
  {
   "cell_type": "markdown",
   "id": "826b9380",
   "metadata": {},
   "source": [
    "# Treinar o modelo com dados de entrada (X) e atributo de saída (y)"
   ]
  },
  {
   "cell_type": "code",
   "execution_count": 49,
   "id": "4331edeb-d737-4279-8a01-5327a0de5bbc",
   "metadata": {},
   "outputs": [],
   "source": [
    "import numpy as np"
   ]
  },
  {
   "cell_type": "markdown",
   "id": "640dbf26-127f-421a-bd6b-57db43297b68",
   "metadata": {},
   "source": [
    "## Funções para converter os Labels (y) para o Modelo XGBosst"
   ]
  },
  {
   "cell_type": "code",
   "execution_count": 50,
   "id": "eb369990-8cc0-4580-a6b4-5a8c4c1243b6",
   "metadata": {},
   "outputs": [
    {
     "name": "stdout",
     "output_type": "stream",
     "text": [
      "[3, 4, 5, 6, 7, 8]\n"
     ]
    }
   ],
   "source": [
    "labels = [3, 4, 5, 6, 7, 8]\n",
    "print(labels)"
   ]
  },
  {
   "cell_type": "code",
   "execution_count": 52,
   "id": "9998df32",
   "metadata": {},
   "outputs": [
    {
     "data": {
      "text/plain": [
       "[0, 1, 2, 3, 4, 5]"
      ]
     },
     "execution_count": 52,
     "metadata": {},
     "output_type": "execute_result"
    }
   ],
   "source": [
    "labels_XGBoost = [0, 1, 2, 3, 4, 5]\n",
    "labels_XGBoost"
   ]
  },
  {
   "cell_type": "code",
   "execution_count": 54,
   "id": "785859a5-8d0f-4324-af5d-ef4ba098c422",
   "metadata": {},
   "outputs": [],
   "source": [
    "def converte_clasficacao_XGBoost_para_classe(classificacao_vinho_XGBoost):\n",
    "    \n",
    "    if classificacao_vinho_XGBoost == 0:\n",
    "        classificacao_vinho = 3\n",
    "    elif classificacao_vinho_XGBoost == 1:\n",
    "        classificacao_vinho = 4\n",
    "    elif classificacao_vinho_XGBoost == 2:\n",
    "        classificacao_vinho = 5\n",
    "    elif classificacao_vinho_XGBoost == 3:\n",
    "        classificacao_vinho = 6\n",
    "    elif classificacao_vinho_XGBoost == 4:\n",
    "        classificacao_vinho = 7\n",
    "    elif classificacao_vinho_XGBoost == 5:\n",
    "        classificacao_vinho = 8\n",
    "\n",
    "    return classificacao_vinho "
   ]
  },
  {
   "cell_type": "code",
   "execution_count": 57,
   "id": "8c7c5fb9-3eff-4f08-b189-ad8c5c7adb6a",
   "metadata": {},
   "outputs": [
    {
     "name": "stdout",
     "output_type": "stream",
     "text": [
      "classe XGBoost: 0 - Classe Vinho: 3\n",
      "classe XGBoost: 1 - Classe Vinho: 4\n",
      "classe XGBoost: 2 - Classe Vinho: 5\n",
      "classe XGBoost: 3 - Classe Vinho: 6\n",
      "classe XGBoost: 4 - Classe Vinho: 7\n",
      "classe XGBoost: 5 - Classe Vinho: 8\n"
     ]
    }
   ],
   "source": [
    "for classe_XGBoost in labels_XGBoost:\n",
    "    print('classe XGBoost: ' + str(classe_XGBoost) + ' - Classe Vinho: '  +  \\\n",
    "           str(converte_clasficacao_XGBoost_para_classe(classe_XGBoost)))"
   ]
  },
  {
   "cell_type": "code",
   "execution_count": 61,
   "id": "f4f5a87d",
   "metadata": {},
   "outputs": [],
   "source": [
    "def converte_clasficacao_classe_para_XGBoost(classificacao_vinho):\n",
    "    \n",
    "    if classificacao_vinho == 3:\n",
    "        classificacao_vinho = 0\n",
    "    elif classificacao_vinho == 4:\n",
    "        classificacao_vinho = 1\n",
    "    elif classificacao_vinho ==5:\n",
    "        classificacao_vinho = 2\n",
    "    elif classificacao_vinho == 6:\n",
    "        classificacao_vinho = 3\n",
    "    elif classificacao_vinho == 7:\n",
    "        classificacao_vinho = 4\n",
    "    elif classificacao_vinho == 8:\n",
    "        classificacao_vinho = 5\n",
    "\n",
    "    return classificacao_vinho "
   ]
  },
  {
   "cell_type": "code",
   "execution_count": 62,
   "id": "85de1a52",
   "metadata": {},
   "outputs": [
    {
     "name": "stdout",
     "output_type": "stream",
     "text": [
      "[3, 4, 5, 6, 7, 8]\n"
     ]
    }
   ],
   "source": [
    "print(labels)"
   ]
  },
  {
   "cell_type": "code",
   "execution_count": 95,
   "id": "f6b7f2c0",
   "metadata": {},
   "outputs": [
    {
     "name": "stdout",
     "output_type": "stream",
     "text": [
      "classe Vinho: 3 - Classe XGBoost: 0\n",
      "classe Vinho: 4 - Classe XGBoost: 1\n",
      "classe Vinho: 5 - Classe XGBoost: 2\n",
      "classe Vinho: 6 - Classe XGBoost: 3\n",
      "classe Vinho: 7 - Classe XGBoost: 4\n",
      "classe Vinho: 8 - Classe XGBoost: 5\n"
     ]
    }
   ],
   "source": [
    "for classe in labels:\n",
    "    print('classe Vinho: ' + str(classe) + ' - Classe XGBoost: '  +  \\\n",
    "           str(converte_clasficacao_classe_para_XGBoost(classe)))"
   ]
  },
  {
   "cell_type": "markdown",
   "id": "19e814e2-d9d7-4857-8614-7cb1fc5878c1",
   "metadata": {},
   "source": [
    "## Preparar os dados para o algoritmo XGBoost - Converter/transformar os dados "
   ]
  },
  {
   "cell_type": "code",
   "execution_count": 97,
   "id": "836edcc2",
   "metadata": {},
   "outputs": [
    {
     "name": "stdout",
     "output_type": "stream",
     "text": [
      "[3, 2, 2, 3, 3]\n"
     ]
    }
   ],
   "source": [
    "y = list()\n",
    "\n",
    "for classe in list(y_train.values):\n",
    "\n",
    "    y_train_XGBoost = converte_clasficacao_classe_para_XGBoost(classe)\n",
    "    #print(str(classe) + ' - ' + str(y_train_XGBoost))\n",
    "    y.append(y_train_XGBoost)\n",
    "    \n",
    "print(y[0:5])"
   ]
  },
  {
   "cell_type": "code",
   "execution_count": 98,
   "id": "588682da",
   "metadata": {},
   "outputs": [
    {
     "data": {
      "text/plain": [
       "{0, 1, 2, 3, 4, 5}"
      ]
     },
     "execution_count": 98,
     "metadata": {},
     "output_type": "execute_result"
    }
   ],
   "source": [
    "set(y)"
   ]
  },
  {
   "cell_type": "markdown",
   "id": "e9e94fb8-c908-4e71-998c-0738caea03eb",
   "metadata": {},
   "source": [
    "## Treinar o modelo XGboost"
   ]
  },
  {
   "cell_type": "code",
   "execution_count": 99,
   "id": "2c6062b7-06ff-434c-b86b-415a46ecce77",
   "metadata": {},
   "outputs": [
    {
     "name": "stdout",
     "output_type": "stream",
     "text": [
      "CPU times: user 1.87 s, sys: 44.4 ms, total: 1.92 s\n",
      "Wall time: 537 ms\n"
     ]
    },
    {
     "data": {
      "text/html": [
       "<style>#sk-container-id-6 {color: black;}#sk-container-id-6 pre{padding: 0;}#sk-container-id-6 div.sk-toggleable {background-color: white;}#sk-container-id-6 label.sk-toggleable__label {cursor: pointer;display: block;width: 100%;margin-bottom: 0;padding: 0.3em;box-sizing: border-box;text-align: center;}#sk-container-id-6 label.sk-toggleable__label-arrow:before {content: \"▸\";float: left;margin-right: 0.25em;color: #696969;}#sk-container-id-6 label.sk-toggleable__label-arrow:hover:before {color: black;}#sk-container-id-6 div.sk-estimator:hover label.sk-toggleable__label-arrow:before {color: black;}#sk-container-id-6 div.sk-toggleable__content {max-height: 0;max-width: 0;overflow: hidden;text-align: left;background-color: #f0f8ff;}#sk-container-id-6 div.sk-toggleable__content pre {margin: 0.2em;color: black;border-radius: 0.25em;background-color: #f0f8ff;}#sk-container-id-6 input.sk-toggleable__control:checked~div.sk-toggleable__content {max-height: 200px;max-width: 100%;overflow: auto;}#sk-container-id-6 input.sk-toggleable__control:checked~label.sk-toggleable__label-arrow:before {content: \"▾\";}#sk-container-id-6 div.sk-estimator input.sk-toggleable__control:checked~label.sk-toggleable__label {background-color: #d4ebff;}#sk-container-id-6 div.sk-label input.sk-toggleable__control:checked~label.sk-toggleable__label {background-color: #d4ebff;}#sk-container-id-6 input.sk-hidden--visually {border: 0;clip: rect(1px 1px 1px 1px);clip: rect(1px, 1px, 1px, 1px);height: 1px;margin: -1px;overflow: hidden;padding: 0;position: absolute;width: 1px;}#sk-container-id-6 div.sk-estimator {font-family: monospace;background-color: #f0f8ff;border: 1px dotted black;border-radius: 0.25em;box-sizing: border-box;margin-bottom: 0.5em;}#sk-container-id-6 div.sk-estimator:hover {background-color: #d4ebff;}#sk-container-id-6 div.sk-parallel-item::after {content: \"\";width: 100%;border-bottom: 1px solid gray;flex-grow: 1;}#sk-container-id-6 div.sk-label:hover label.sk-toggleable__label {background-color: #d4ebff;}#sk-container-id-6 div.sk-serial::before {content: \"\";position: absolute;border-left: 1px solid gray;box-sizing: border-box;top: 0;bottom: 0;left: 50%;z-index: 0;}#sk-container-id-6 div.sk-serial {display: flex;flex-direction: column;align-items: center;background-color: white;padding-right: 0.2em;padding-left: 0.2em;position: relative;}#sk-container-id-6 div.sk-item {position: relative;z-index: 1;}#sk-container-id-6 div.sk-parallel {display: flex;align-items: stretch;justify-content: center;background-color: white;position: relative;}#sk-container-id-6 div.sk-item::before, #sk-container-id-6 div.sk-parallel-item::before {content: \"\";position: absolute;border-left: 1px solid gray;box-sizing: border-box;top: 0;bottom: 0;left: 50%;z-index: -1;}#sk-container-id-6 div.sk-parallel-item {display: flex;flex-direction: column;z-index: 1;position: relative;background-color: white;}#sk-container-id-6 div.sk-parallel-item:first-child::after {align-self: flex-end;width: 50%;}#sk-container-id-6 div.sk-parallel-item:last-child::after {align-self: flex-start;width: 50%;}#sk-container-id-6 div.sk-parallel-item:only-child::after {width: 0;}#sk-container-id-6 div.sk-dashed-wrapped {border: 1px dashed gray;margin: 0 0.4em 0.5em 0.4em;box-sizing: border-box;padding-bottom: 0.4em;background-color: white;}#sk-container-id-6 div.sk-label label {font-family: monospace;font-weight: bold;display: inline-block;line-height: 1.2em;}#sk-container-id-6 div.sk-label-container {text-align: center;}#sk-container-id-6 div.sk-container {/* jupyter's `normalize.less` sets `[hidden] { display: none; }` but bootstrap.min.css set `[hidden] { display: none !important; }` so we also need the `!important` here to be able to override the default hidden behavior on the sphinx rendered scikit-learn.org. See: https://github.com/scikit-learn/scikit-learn/issues/21755 */display: inline-block !important;position: relative;}#sk-container-id-6 div.sk-text-repr-fallback {display: none;}</style><div id=\"sk-container-id-6\" class=\"sk-top-container\"><div class=\"sk-text-repr-fallback\"><pre>XGBClassifier(base_score=None, booster=None, callbacks=None,\n",
       "              colsample_bylevel=None, colsample_bynode=None,\n",
       "              colsample_bytree=None, device=None, early_stopping_rounds=None,\n",
       "              enable_categorical=False, eta=1.1, eval_metric=None,\n",
       "              feature_types=None, gamma=None, grow_policy=None,\n",
       "              importance_type=None, interaction_constraints=None,\n",
       "              learning_rate=None, max_bin=None, max_cat_threshold=None,\n",
       "              max_cat_to_onehot=None, max_delta_step=None, max_depth=None,\n",
       "              max_leaves=None, min_child_weight=None, missing=nan,\n",
       "              monotone_constraints=None, multi_strategy=None, n_estimators=200,\n",
       "              n_jobs=None, num_parallel_tree=None, ...)</pre><b>In a Jupyter environment, please rerun this cell to show the HTML representation or trust the notebook. <br />On GitHub, the HTML representation is unable to render, please try loading this page with nbviewer.org.</b></div><div class=\"sk-container\" hidden><div class=\"sk-item\"><div class=\"sk-estimator sk-toggleable\"><input class=\"sk-toggleable__control sk-hidden--visually\" id=\"sk-estimator-id-12\" type=\"checkbox\" checked><label for=\"sk-estimator-id-12\" class=\"sk-toggleable__label sk-toggleable__label-arrow\">XGBClassifier</label><div class=\"sk-toggleable__content\"><pre>XGBClassifier(base_score=None, booster=None, callbacks=None,\n",
       "              colsample_bylevel=None, colsample_bynode=None,\n",
       "              colsample_bytree=None, device=None, early_stopping_rounds=None,\n",
       "              enable_categorical=False, eta=1.1, eval_metric=None,\n",
       "              feature_types=None, gamma=None, grow_policy=None,\n",
       "              importance_type=None, interaction_constraints=None,\n",
       "              learning_rate=None, max_bin=None, max_cat_threshold=None,\n",
       "              max_cat_to_onehot=None, max_delta_step=None, max_depth=None,\n",
       "              max_leaves=None, min_child_weight=None, missing=nan,\n",
       "              monotone_constraints=None, multi_strategy=None, n_estimators=200,\n",
       "              n_jobs=None, num_parallel_tree=None, ...)</pre></div></div></div></div></div>"
      ],
      "text/plain": [
       "XGBClassifier(base_score=None, booster=None, callbacks=None,\n",
       "              colsample_bylevel=None, colsample_bynode=None,\n",
       "              colsample_bytree=None, device=None, early_stopping_rounds=None,\n",
       "              enable_categorical=False, eta=1.1, eval_metric=None,\n",
       "              feature_types=None, gamma=None, grow_policy=None,\n",
       "              importance_type=None, interaction_constraints=None,\n",
       "              learning_rate=None, max_bin=None, max_cat_threshold=None,\n",
       "              max_cat_to_onehot=None, max_delta_step=None, max_depth=None,\n",
       "              max_leaves=None, min_child_weight=None, missing=nan,\n",
       "              monotone_constraints=None, multi_strategy=None, n_estimators=200,\n",
       "              n_jobs=None, num_parallel_tree=None, ...)"
      ]
     },
     "execution_count": 99,
     "metadata": {},
     "output_type": "execute_result"
    }
   ],
   "source": [
    "%%time\n",
    "learning_rate = 1.1   \n",
    "xgb_classifier = xgb.XGBClassifier(eta = learning_rate , n_estimators=200)\n",
    "xgb_classifier.fit(x_train.values, y)\n",
    "xgb_classifier"
   ]
  },
  {
   "cell_type": "code",
   "execution_count": 73,
   "id": "91fbe8d8-6c67-4f3d-9266-c9de2a893b9c",
   "metadata": {},
   "outputs": [
    {
     "data": {
      "text/html": [
       "<style>#sk-container-id-4 {color: black;}#sk-container-id-4 pre{padding: 0;}#sk-container-id-4 div.sk-toggleable {background-color: white;}#sk-container-id-4 label.sk-toggleable__label {cursor: pointer;display: block;width: 100%;margin-bottom: 0;padding: 0.3em;box-sizing: border-box;text-align: center;}#sk-container-id-4 label.sk-toggleable__label-arrow:before {content: \"▸\";float: left;margin-right: 0.25em;color: #696969;}#sk-container-id-4 label.sk-toggleable__label-arrow:hover:before {color: black;}#sk-container-id-4 div.sk-estimator:hover label.sk-toggleable__label-arrow:before {color: black;}#sk-container-id-4 div.sk-toggleable__content {max-height: 0;max-width: 0;overflow: hidden;text-align: left;background-color: #f0f8ff;}#sk-container-id-4 div.sk-toggleable__content pre {margin: 0.2em;color: black;border-radius: 0.25em;background-color: #f0f8ff;}#sk-container-id-4 input.sk-toggleable__control:checked~div.sk-toggleable__content {max-height: 200px;max-width: 100%;overflow: auto;}#sk-container-id-4 input.sk-toggleable__control:checked~label.sk-toggleable__label-arrow:before {content: \"▾\";}#sk-container-id-4 div.sk-estimator input.sk-toggleable__control:checked~label.sk-toggleable__label {background-color: #d4ebff;}#sk-container-id-4 div.sk-label input.sk-toggleable__control:checked~label.sk-toggleable__label {background-color: #d4ebff;}#sk-container-id-4 input.sk-hidden--visually {border: 0;clip: rect(1px 1px 1px 1px);clip: rect(1px, 1px, 1px, 1px);height: 1px;margin: -1px;overflow: hidden;padding: 0;position: absolute;width: 1px;}#sk-container-id-4 div.sk-estimator {font-family: monospace;background-color: #f0f8ff;border: 1px dotted black;border-radius: 0.25em;box-sizing: border-box;margin-bottom: 0.5em;}#sk-container-id-4 div.sk-estimator:hover {background-color: #d4ebff;}#sk-container-id-4 div.sk-parallel-item::after {content: \"\";width: 100%;border-bottom: 1px solid gray;flex-grow: 1;}#sk-container-id-4 div.sk-label:hover label.sk-toggleable__label {background-color: #d4ebff;}#sk-container-id-4 div.sk-serial::before {content: \"\";position: absolute;border-left: 1px solid gray;box-sizing: border-box;top: 0;bottom: 0;left: 50%;z-index: 0;}#sk-container-id-4 div.sk-serial {display: flex;flex-direction: column;align-items: center;background-color: white;padding-right: 0.2em;padding-left: 0.2em;position: relative;}#sk-container-id-4 div.sk-item {position: relative;z-index: 1;}#sk-container-id-4 div.sk-parallel {display: flex;align-items: stretch;justify-content: center;background-color: white;position: relative;}#sk-container-id-4 div.sk-item::before, #sk-container-id-4 div.sk-parallel-item::before {content: \"\";position: absolute;border-left: 1px solid gray;box-sizing: border-box;top: 0;bottom: 0;left: 50%;z-index: -1;}#sk-container-id-4 div.sk-parallel-item {display: flex;flex-direction: column;z-index: 1;position: relative;background-color: white;}#sk-container-id-4 div.sk-parallel-item:first-child::after {align-self: flex-end;width: 50%;}#sk-container-id-4 div.sk-parallel-item:last-child::after {align-self: flex-start;width: 50%;}#sk-container-id-4 div.sk-parallel-item:only-child::after {width: 0;}#sk-container-id-4 div.sk-dashed-wrapped {border: 1px dashed gray;margin: 0 0.4em 0.5em 0.4em;box-sizing: border-box;padding-bottom: 0.4em;background-color: white;}#sk-container-id-4 div.sk-label label {font-family: monospace;font-weight: bold;display: inline-block;line-height: 1.2em;}#sk-container-id-4 div.sk-label-container {text-align: center;}#sk-container-id-4 div.sk-container {/* jupyter's `normalize.less` sets `[hidden] { display: none; }` but bootstrap.min.css set `[hidden] { display: none !important; }` so we also need the `!important` here to be able to override the default hidden behavior on the sphinx rendered scikit-learn.org. See: https://github.com/scikit-learn/scikit-learn/issues/21755 */display: inline-block !important;position: relative;}#sk-container-id-4 div.sk-text-repr-fallback {display: none;}</style><div id=\"sk-container-id-4\" class=\"sk-top-container\"><div class=\"sk-text-repr-fallback\"><pre>Pipeline(steps=[(&#x27;scaler&#x27;, StandardScaler()), (&#x27;SVM&#x27;, SVC())])</pre><b>In a Jupyter environment, please rerun this cell to show the HTML representation or trust the notebook. <br />On GitHub, the HTML representation is unable to render, please try loading this page with nbviewer.org.</b></div><div class=\"sk-container\" hidden><div class=\"sk-item sk-dashed-wrapped\"><div class=\"sk-label-container\"><div class=\"sk-label sk-toggleable\"><input class=\"sk-toggleable__control sk-hidden--visually\" id=\"sk-estimator-id-8\" type=\"checkbox\" ><label for=\"sk-estimator-id-8\" class=\"sk-toggleable__label sk-toggleable__label-arrow\">Pipeline</label><div class=\"sk-toggleable__content\"><pre>Pipeline(steps=[(&#x27;scaler&#x27;, StandardScaler()), (&#x27;SVM&#x27;, SVC())])</pre></div></div></div><div class=\"sk-serial\"><div class=\"sk-item\"><div class=\"sk-estimator sk-toggleable\"><input class=\"sk-toggleable__control sk-hidden--visually\" id=\"sk-estimator-id-9\" type=\"checkbox\" ><label for=\"sk-estimator-id-9\" class=\"sk-toggleable__label sk-toggleable__label-arrow\">StandardScaler</label><div class=\"sk-toggleable__content\"><pre>StandardScaler()</pre></div></div></div><div class=\"sk-item\"><div class=\"sk-estimator sk-toggleable\"><input class=\"sk-toggleable__control sk-hidden--visually\" id=\"sk-estimator-id-10\" type=\"checkbox\" ><label for=\"sk-estimator-id-10\" class=\"sk-toggleable__label sk-toggleable__label-arrow\">SVC</label><div class=\"sk-toggleable__content\"><pre>SVC()</pre></div></div></div></div></div></div></div>"
      ],
      "text/plain": [
       "Pipeline(steps=[('scaler', StandardScaler()), ('SVM', SVC())])"
      ]
     },
     "execution_count": 73,
     "metadata": {},
     "output_type": "execute_result"
    }
   ],
   "source": [
    "# modelo pré-treinado\n",
    "model"
   ]
  },
  {
   "cell_type": "code",
   "execution_count": 74,
   "id": "e4c0cf62",
   "metadata": {},
   "outputs": [
    {
     "data": {
      "text/html": [
       "<style>#sk-container-id-5 {color: black;}#sk-container-id-5 pre{padding: 0;}#sk-container-id-5 div.sk-toggleable {background-color: white;}#sk-container-id-5 label.sk-toggleable__label {cursor: pointer;display: block;width: 100%;margin-bottom: 0;padding: 0.3em;box-sizing: border-box;text-align: center;}#sk-container-id-5 label.sk-toggleable__label-arrow:before {content: \"▸\";float: left;margin-right: 0.25em;color: #696969;}#sk-container-id-5 label.sk-toggleable__label-arrow:hover:before {color: black;}#sk-container-id-5 div.sk-estimator:hover label.sk-toggleable__label-arrow:before {color: black;}#sk-container-id-5 div.sk-toggleable__content {max-height: 0;max-width: 0;overflow: hidden;text-align: left;background-color: #f0f8ff;}#sk-container-id-5 div.sk-toggleable__content pre {margin: 0.2em;color: black;border-radius: 0.25em;background-color: #f0f8ff;}#sk-container-id-5 input.sk-toggleable__control:checked~div.sk-toggleable__content {max-height: 200px;max-width: 100%;overflow: auto;}#sk-container-id-5 input.sk-toggleable__control:checked~label.sk-toggleable__label-arrow:before {content: \"▾\";}#sk-container-id-5 div.sk-estimator input.sk-toggleable__control:checked~label.sk-toggleable__label {background-color: #d4ebff;}#sk-container-id-5 div.sk-label input.sk-toggleable__control:checked~label.sk-toggleable__label {background-color: #d4ebff;}#sk-container-id-5 input.sk-hidden--visually {border: 0;clip: rect(1px 1px 1px 1px);clip: rect(1px, 1px, 1px, 1px);height: 1px;margin: -1px;overflow: hidden;padding: 0;position: absolute;width: 1px;}#sk-container-id-5 div.sk-estimator {font-family: monospace;background-color: #f0f8ff;border: 1px dotted black;border-radius: 0.25em;box-sizing: border-box;margin-bottom: 0.5em;}#sk-container-id-5 div.sk-estimator:hover {background-color: #d4ebff;}#sk-container-id-5 div.sk-parallel-item::after {content: \"\";width: 100%;border-bottom: 1px solid gray;flex-grow: 1;}#sk-container-id-5 div.sk-label:hover label.sk-toggleable__label {background-color: #d4ebff;}#sk-container-id-5 div.sk-serial::before {content: \"\";position: absolute;border-left: 1px solid gray;box-sizing: border-box;top: 0;bottom: 0;left: 50%;z-index: 0;}#sk-container-id-5 div.sk-serial {display: flex;flex-direction: column;align-items: center;background-color: white;padding-right: 0.2em;padding-left: 0.2em;position: relative;}#sk-container-id-5 div.sk-item {position: relative;z-index: 1;}#sk-container-id-5 div.sk-parallel {display: flex;align-items: stretch;justify-content: center;background-color: white;position: relative;}#sk-container-id-5 div.sk-item::before, #sk-container-id-5 div.sk-parallel-item::before {content: \"\";position: absolute;border-left: 1px solid gray;box-sizing: border-box;top: 0;bottom: 0;left: 50%;z-index: -1;}#sk-container-id-5 div.sk-parallel-item {display: flex;flex-direction: column;z-index: 1;position: relative;background-color: white;}#sk-container-id-5 div.sk-parallel-item:first-child::after {align-self: flex-end;width: 50%;}#sk-container-id-5 div.sk-parallel-item:last-child::after {align-self: flex-start;width: 50%;}#sk-container-id-5 div.sk-parallel-item:only-child::after {width: 0;}#sk-container-id-5 div.sk-dashed-wrapped {border: 1px dashed gray;margin: 0 0.4em 0.5em 0.4em;box-sizing: border-box;padding-bottom: 0.4em;background-color: white;}#sk-container-id-5 div.sk-label label {font-family: monospace;font-weight: bold;display: inline-block;line-height: 1.2em;}#sk-container-id-5 div.sk-label-container {text-align: center;}#sk-container-id-5 div.sk-container {/* jupyter's `normalize.less` sets `[hidden] { display: none; }` but bootstrap.min.css set `[hidden] { display: none !important; }` so we also need the `!important` here to be able to override the default hidden behavior on the sphinx rendered scikit-learn.org. See: https://github.com/scikit-learn/scikit-learn/issues/21755 */display: inline-block !important;position: relative;}#sk-container-id-5 div.sk-text-repr-fallback {display: none;}</style><div id=\"sk-container-id-5\" class=\"sk-top-container\"><div class=\"sk-text-repr-fallback\"><pre>XGBClassifier(base_score=None, booster=None, callbacks=None,\n",
       "              colsample_bylevel=None, colsample_bynode=None,\n",
       "              colsample_bytree=None, device=None, early_stopping_rounds=None,\n",
       "              enable_categorical=False, eta=1.1, eval_metric=None,\n",
       "              feature_types=None, gamma=None, grow_policy=None,\n",
       "              importance_type=None, interaction_constraints=None,\n",
       "              learning_rate=None, max_bin=None, max_cat_threshold=None,\n",
       "              max_cat_to_onehot=None, max_delta_step=None, max_depth=None,\n",
       "              max_leaves=None, min_child_weight=None, missing=nan,\n",
       "              monotone_constraints=None, multi_strategy=None, n_estimators=200,\n",
       "              n_jobs=None, num_parallel_tree=None, ...)</pre><b>In a Jupyter environment, please rerun this cell to show the HTML representation or trust the notebook. <br />On GitHub, the HTML representation is unable to render, please try loading this page with nbviewer.org.</b></div><div class=\"sk-container\" hidden><div class=\"sk-item\"><div class=\"sk-estimator sk-toggleable\"><input class=\"sk-toggleable__control sk-hidden--visually\" id=\"sk-estimator-id-11\" type=\"checkbox\" checked><label for=\"sk-estimator-id-11\" class=\"sk-toggleable__label sk-toggleable__label-arrow\">XGBClassifier</label><div class=\"sk-toggleable__content\"><pre>XGBClassifier(base_score=None, booster=None, callbacks=None,\n",
       "              colsample_bylevel=None, colsample_bynode=None,\n",
       "              colsample_bytree=None, device=None, early_stopping_rounds=None,\n",
       "              enable_categorical=False, eta=1.1, eval_metric=None,\n",
       "              feature_types=None, gamma=None, grow_policy=None,\n",
       "              importance_type=None, interaction_constraints=None,\n",
       "              learning_rate=None, max_bin=None, max_cat_threshold=None,\n",
       "              max_cat_to_onehot=None, max_delta_step=None, max_depth=None,\n",
       "              max_leaves=None, min_child_weight=None, missing=nan,\n",
       "              monotone_constraints=None, multi_strategy=None, n_estimators=200,\n",
       "              n_jobs=None, num_parallel_tree=None, ...)</pre></div></div></div></div></div>"
      ],
      "text/plain": [
       "XGBClassifier(base_score=None, booster=None, callbacks=None,\n",
       "              colsample_bylevel=None, colsample_bynode=None,\n",
       "              colsample_bytree=None, device=None, early_stopping_rounds=None,\n",
       "              enable_categorical=False, eta=1.1, eval_metric=None,\n",
       "              feature_types=None, gamma=None, grow_policy=None,\n",
       "              importance_type=None, interaction_constraints=None,\n",
       "              learning_rate=None, max_bin=None, max_cat_threshold=None,\n",
       "              max_cat_to_onehot=None, max_delta_step=None, max_depth=None,\n",
       "              max_leaves=None, min_child_weight=None, missing=nan,\n",
       "              monotone_constraints=None, multi_strategy=None, n_estimators=200,\n",
       "              n_jobs=None, num_parallel_tree=None, ...)"
      ]
     },
     "execution_count": 74,
     "metadata": {},
     "output_type": "execute_result"
    }
   ],
   "source": [
    "xgb_classifier"
   ]
  },
  {
   "cell_type": "markdown",
   "id": "a8591ac4",
   "metadata": {},
   "source": [
    "## Comparando os 2 modelos - Métricas"
   ]
  },
  {
   "cell_type": "code",
   "execution_count": 100,
   "id": "ed0abbb1",
   "metadata": {},
   "outputs": [
    {
     "name": "stdout",
     "output_type": "stream",
     "text": [
      "[3, 2, 2, 3, 3]\n"
     ]
    }
   ],
   "source": [
    "y = list()\n",
    "\n",
    "for classe in list(y_train.values):\n",
    "\n",
    "    y_train_XGBoost = converte_clasficacao_classe_para_XGBoost(classe)\n",
    "    #print(str(classe) + ' - ' + str(y_train_XGBoost))\n",
    "    y.append(y_train_XGBoost)\n",
    "    \n",
    "print(y[0:5])"
   ]
  },
  {
   "cell_type": "code",
   "execution_count": 103,
   "id": "ec8571ec-e1a9-446a-9f3f-cda97f7878a2",
   "metadata": {},
   "outputs": [
    {
     "name": "stdout",
     "output_type": "stream",
     "text": [
      "Acurácia do modelo XGBoost: 0.6625\n",
      "Matriz de Confusão - XGBoost:\n",
      " [[  0   0   1   1   0   0]\n",
      " [  0   1   3   2   0   0]\n",
      " [  1   2 100  37   0   0]\n",
      " [  0   0  28  87   9   1]\n",
      " [  0   0   2  18  24   0]\n",
      " [  0   0   0   2   1   0]]\n",
      "============================================\n",
      "Acurácia do modelo SVC: 0.640625\n",
      "Matriz de Confusão - Modelo Pré-treinado:\n",
      " [[  0   0   1   1   0   0]\n",
      " [  0   0   6   0   0   0]\n",
      " [  0   0 110  30   0   0]\n",
      " [  0   0  44  77   4   0]\n",
      " [  0   0   2  24  18   0]\n",
      " [  0   0   0   3   0   0]]\n"
     ]
    }
   ],
   "source": [
    "from sklearn.metrics import confusion_matrix, accuracy_score\n",
    "\n",
    "y_pred_XGBoost = xgb_classifier.predict(x_test)\n",
    "\n",
    "y_test_modelo = list()\n",
    "for classe in list(y_test.values):\n",
    "    y_train_XGBoost = converte_clasficacao_classe_para_XGBoost(classe)\n",
    "    #print(str(classe) + ' - ' + str(y_train_XGBoost))\n",
    "    y_test_modelo.append(y_train_XGBoost)\n",
    "\n",
    "#y_pred_XGBoost = y_test_modelo\n",
    "\n",
    "acc_XGBoost = accuracy_score(y_test_modelo, y_pred_XGBoost)\n",
    "print('Acurácia do modelo XGBoost:', acc_XGBoost)\n",
    "cm = confusion_matrix(y_test_modelo, y_pred_XGBoost)\n",
    "print('Matriz de Confusão - XGBoost:\\n',cm)\n",
    "\n",
    "print('============================================')\n",
    "\n",
    "y_prev_model_SVC = model.predict(x_test)\n",
    "acc_SVC = accuracy_score(y_test, y_prev_model_SVC)\n",
    "print('Acurácia do modelo SVC:', acc_SVC)\n",
    "cm = confusion_matrix(y_test, y_prev_model_SVC)\n",
    "print('Matriz de Confusão - Modelo Pré-treinado:\\n',cm)"
   ]
  },
  {
   "cell_type": "code",
   "execution_count": 104,
   "id": "d4f1515d",
   "metadata": {},
   "outputs": [
    {
     "data": {
      "text/plain": [
       "array([5, 5, 5])"
      ]
     },
     "execution_count": 104,
     "metadata": {},
     "output_type": "execute_result"
    }
   ],
   "source": [
    "labels = model.predict(X[:3])\n",
    "labels"
   ]
  },
  {
   "cell_type": "code",
   "execution_count": 105,
   "id": "8ec129d4-ef0b-4110-9789-30d26ac41df9",
   "metadata": {},
   "outputs": [
    {
     "data": {
      "text/plain": [
       "array([2, 2, 2])"
      ]
     },
     "execution_count": 105,
     "metadata": {},
     "output_type": "execute_result"
    }
   ],
   "source": [
    "labels = xgb_classifier.predict(X[:3])\n",
    "labels"
   ]
  },
  {
   "cell_type": "markdown",
   "id": "a456cc1f",
   "metadata": {},
   "source": [
    "## Dados do Modelo"
   ]
  },
  {
   "cell_type": "code",
   "execution_count": 107,
   "id": "606a09cb-fcc5-4472-9de9-c99ff391900d",
   "metadata": {},
   "outputs": [],
   "source": [
    "modelo = xgb_classifier"
   ]
  },
  {
   "cell_type": "code",
   "execution_count": 108,
   "id": "5e65026a",
   "metadata": {},
   "outputs": [
    {
     "data": {
      "text/plain": [
       "{'objective': 'multi:softprob',\n",
       " 'base_score': None,\n",
       " 'booster': None,\n",
       " 'callbacks': None,\n",
       " 'colsample_bylevel': None,\n",
       " 'colsample_bynode': None,\n",
       " 'colsample_bytree': None,\n",
       " 'device': None,\n",
       " 'early_stopping_rounds': None,\n",
       " 'enable_categorical': False,\n",
       " 'eval_metric': None,\n",
       " 'feature_types': None,\n",
       " 'gamma': None,\n",
       " 'grow_policy': None,\n",
       " 'importance_type': None,\n",
       " 'interaction_constraints': None,\n",
       " 'learning_rate': None,\n",
       " 'max_bin': None,\n",
       " 'max_cat_threshold': None,\n",
       " 'max_cat_to_onehot': None,\n",
       " 'max_delta_step': None,\n",
       " 'max_depth': None,\n",
       " 'max_leaves': None,\n",
       " 'min_child_weight': None,\n",
       " 'missing': nan,\n",
       " 'monotone_constraints': None,\n",
       " 'multi_strategy': None,\n",
       " 'n_estimators': 200,\n",
       " 'n_jobs': None,\n",
       " 'num_parallel_tree': None,\n",
       " 'random_state': None,\n",
       " 'reg_alpha': None,\n",
       " 'reg_lambda': None,\n",
       " 'sampling_method': None,\n",
       " 'scale_pos_weight': None,\n",
       " 'subsample': None,\n",
       " 'tree_method': None,\n",
       " 'validate_parameters': None,\n",
       " 'verbosity': None,\n",
       " 'eta': 1.1}"
      ]
     },
     "execution_count": 108,
     "metadata": {},
     "output_type": "execute_result"
    }
   ],
   "source": [
    "modelo.get_params()"
   ]
  },
  {
   "cell_type": "code",
   "execution_count": 109,
   "id": "294c2a1f",
   "metadata": {},
   "outputs": [
    {
     "data": {
      "text/plain": [
       "{'fit': {'sample_weight': None, 'base_margin': None, 'eval_set': None, 'eval_metric': None, 'early_stopping_rounds': None, 'verbose': None, 'xgb_model': None, 'sample_weight_eval_set': None, 'base_margin_eval_set': None, 'feature_weights': None, 'callbacks': None}, 'predict': {'output_margin': None, 'validate_features': None, 'base_margin': None, 'iteration_range': None}, 'predict_proba': {'validate_features': None, 'base_margin': None, 'iteration_range': None}, 'score': {'sample_weight': None}}"
      ]
     },
     "execution_count": 109,
     "metadata": {},
     "output_type": "execute_result"
    }
   ],
   "source": [
    "modelo.get_metadata_routing()"
   ]
  },
  {
   "cell_type": "code",
   "execution_count": 110,
   "id": "5580dc90",
   "metadata": {},
   "outputs": [
    {
     "data": {
      "text/plain": [
       "['_Booster',\n",
       " '__class__',\n",
       " '__delattr__',\n",
       " '__dict__',\n",
       " '__dir__',\n",
       " '__doc__',\n",
       " '__eq__',\n",
       " '__format__',\n",
       " '__ge__',\n",
       " '__getattribute__',\n",
       " '__getstate__',\n",
       " '__gt__',\n",
       " '__hash__',\n",
       " '__init__',\n",
       " '__init_subclass__',\n",
       " '__le__',\n",
       " '__lt__',\n",
       " '__module__',\n",
       " '__ne__',\n",
       " '__new__',\n",
       " '__reduce__',\n",
       " '__reduce_ex__',\n",
       " '__repr__',\n",
       " '__setattr__',\n",
       " '__setstate__',\n",
       " '__sizeof__',\n",
       " '__sklearn_clone__',\n",
       " '__sklearn_is_fitted__',\n",
       " '__slotnames__',\n",
       " '__str__',\n",
       " '__subclasshook__',\n",
       " '__weakref__',\n",
       " '_build_request_for_signature',\n",
       " '_can_use_inplace_predict',\n",
       " '_check_feature_names',\n",
       " '_check_n_features',\n",
       " '_configure_fit',\n",
       " '_create_dmatrix',\n",
       " '_estimator_type',\n",
       " '_get_default_requests',\n",
       " '_get_iteration_range',\n",
       " '_get_metadata_request',\n",
       " '_get_param_names',\n",
       " '_get_tags',\n",
       " '_get_type',\n",
       " '_load_model_attributes',\n",
       " '_more_tags',\n",
       " '_repr_html_',\n",
       " '_repr_html_inner',\n",
       " '_repr_mimebundle_',\n",
       " '_set_evaluation_result',\n",
       " '_validate_data',\n",
       " '_validate_params',\n",
       " 'apply',\n",
       " 'base_score',\n",
       " 'best_iteration',\n",
       " 'best_score',\n",
       " 'booster',\n",
       " 'callbacks',\n",
       " 'classes_',\n",
       " 'coef_',\n",
       " 'colsample_bylevel',\n",
       " 'colsample_bynode',\n",
       " 'colsample_bytree',\n",
       " 'device',\n",
       " 'early_stopping_rounds',\n",
       " 'enable_categorical',\n",
       " 'eval_metric',\n",
       " 'evals_result',\n",
       " 'feature_importances_',\n",
       " 'feature_names_in_',\n",
       " 'feature_types',\n",
       " 'fit',\n",
       " 'gamma',\n",
       " 'get_booster',\n",
       " 'get_metadata_routing',\n",
       " 'get_num_boosting_rounds',\n",
       " 'get_params',\n",
       " 'get_xgb_params',\n",
       " 'grow_policy',\n",
       " 'importance_type',\n",
       " 'interaction_constraints',\n",
       " 'intercept_',\n",
       " 'kwargs',\n",
       " 'learning_rate',\n",
       " 'load_model',\n",
       " 'max_bin',\n",
       " 'max_cat_threshold',\n",
       " 'max_cat_to_onehot',\n",
       " 'max_delta_step',\n",
       " 'max_depth',\n",
       " 'max_leaves',\n",
       " 'min_child_weight',\n",
       " 'missing',\n",
       " 'monotone_constraints',\n",
       " 'multi_strategy',\n",
       " 'n_classes_',\n",
       " 'n_estimators',\n",
       " 'n_features_in_',\n",
       " 'n_jobs',\n",
       " 'num_parallel_tree',\n",
       " 'objective',\n",
       " 'predict',\n",
       " 'predict_proba',\n",
       " 'random_state',\n",
       " 'reg_alpha',\n",
       " 'reg_lambda',\n",
       " 'sampling_method',\n",
       " 'save_model',\n",
       " 'scale_pos_weight',\n",
       " 'score',\n",
       " 'set_fit_request',\n",
       " 'set_params',\n",
       " 'set_predict_proba_request',\n",
       " 'set_predict_request',\n",
       " 'set_score_request',\n",
       " 'subsample',\n",
       " 'tree_method',\n",
       " 'validate_parameters',\n",
       " 'verbosity']"
      ]
     },
     "execution_count": 110,
     "metadata": {},
     "output_type": "execute_result"
    }
   ],
   "source": [
    "dir(modelo)"
   ]
  },
  {
   "cell_type": "code",
   "execution_count": 111,
   "id": "ae9a0515",
   "metadata": {},
   "outputs": [
    {
     "data": {
      "text/plain": [
       "array([0, 1, 2, 3, 4, 5])"
      ]
     },
     "execution_count": 111,
     "metadata": {},
     "output_type": "execute_result"
    }
   ],
   "source": [
    "modelo.classes_"
   ]
  },
  {
   "cell_type": "code",
   "execution_count": 112,
   "id": "62d5f6f6-5934-4a4b-a090-30956dc514ee",
   "metadata": {},
   "outputs": [
    {
     "data": {
      "text/plain": [
       "11"
      ]
     },
     "execution_count": 112,
     "metadata": {},
     "output_type": "execute_result"
    }
   ],
   "source": [
    "model.n_features_in_"
   ]
  },
  {
   "cell_type": "markdown",
   "id": "bebe916e-9732-43d1-8ae2-7af1e9d1bf63",
   "metadata": {},
   "source": [
    "# Os Atributos mais Importantes"
   ]
  },
  {
   "cell_type": "code",
   "execution_count": null,
   "id": "000190d8",
   "metadata": {},
   "outputs": [],
   "source": [
    "modelo.feature_importances_"
   ]
  },
  {
   "cell_type": "code",
   "execution_count": null,
   "id": "21bcdd9a",
   "metadata": {},
   "outputs": [],
   "source": [
    "X.head()"
   ]
  },
  {
   "cell_type": "code",
   "execution_count": null,
   "id": "6edb8ab8",
   "metadata": {},
   "outputs": [],
   "source": [
    "atributos = list(X.columns.values)\n",
    "print(atributos)"
   ]
  },
  {
   "cell_type": "code",
   "execution_count": null,
   "id": "c733ed8a",
   "metadata": {},
   "outputs": [],
   "source": [
    "modelo.feature_importances_"
   ]
  },
  {
   "cell_type": "code",
   "execution_count": null,
   "id": "823ec4be",
   "metadata": {},
   "outputs": [],
   "source": [
    "dfi = pd.DataFrame( {'atributos' : atributos, 'importancia':  modelo.feature_importances_ })\n",
    "dfi"
   ]
  },
  {
   "cell_type": "code",
   "execution_count": null,
   "id": "461e769d",
   "metadata": {},
   "outputs": [],
   "source": [
    "dfo = dfi.sort_values(by='importancia', ascending=False).reset_index(drop=True)\n",
    "dfo"
   ]
  },
  {
   "cell_type": "code",
   "execution_count": null,
   "id": "c323fd25",
   "metadata": {},
   "outputs": [],
   "source": [
    "atributos_importantes = dfo[:6]\n",
    "atributos_importantes "
   ]
  },
  {
   "cell_type": "code",
   "execution_count": null,
   "id": "16b7da3a",
   "metadata": {},
   "outputs": [],
   "source": [
    "atributos_mais_importantes = list(atributos_importantes.atributos)\n",
    "atributos_mais_importantes "
   ]
  },
  {
   "cell_type": "code",
   "execution_count": null,
   "id": "75c89b59",
   "metadata": {},
   "outputs": [],
   "source": [
    "X.tail()"
   ]
  },
  {
   "cell_type": "code",
   "execution_count": null,
   "id": "e40e964f",
   "metadata": {},
   "outputs": [],
   "source": [
    "X[ X.index == 1597]"
   ]
  },
  {
   "cell_type": "code",
   "execution_count": null,
   "id": "6691dc65",
   "metadata": {},
   "outputs": [],
   "source": [
    "x1 = X[ X.index == 1597].values\n",
    "x1"
   ]
  },
  {
   "cell_type": "code",
   "execution_count": null,
   "id": "27096e60",
   "metadata": {},
   "outputs": [],
   "source": [
    "import numpy as np"
   ]
  },
  {
   "cell_type": "code",
   "execution_count": null,
   "id": "058422ff-a3a4-4455-9d23-78b79d4374ca",
   "metadata": {},
   "outputs": [],
   "source": [
    "model.predict(x1)"
   ]
  },
  {
   "cell_type": "code",
   "execution_count": null,
   "id": "baf89c29",
   "metadata": {},
   "outputs": [],
   "source": [
    "x1_XGBoost = modelo.predict(x1)\n",
    "x1_XGBoost"
   ]
  },
  {
   "cell_type": "code",
   "execution_count": null,
   "id": "b39623c5-fa2d-4673-ba65-68cf0a6b54d5",
   "metadata": {},
   "outputs": [],
   "source": [
    "list(map(converte_XGBoost_para_classes, x1_XGBoost))"
   ]
  },
  {
   "cell_type": "markdown",
   "id": "e9fad4c1",
   "metadata": {},
   "source": [
    "# Deploy da Parte1 \n",
    "## Salvar o modelo treinado"
   ]
  },
  {
   "cell_type": "code",
   "execution_count": 113,
   "id": "18e13cbd",
   "metadata": {},
   "outputs": [
    {
     "name": "stdout",
     "output_type": "stream",
     "text": [
      "-rw-rw-r-- 1 valencar valencar 201K set 21 12:48 modeloAdaboost.pkl\r\n",
      "-rw-rw-r-- 1 valencar valencar 1,2M out 17 12:58 ModeloXGBoost02.pkl\r\n",
      "-rw-r--r-- 1 valencar valencar 1,2M out  3 11:36 ModeloXGBoost.pkl\r\n"
     ]
    }
   ],
   "source": [
    "import pickle as pkl\n",
    "\n",
    "filehandler = open(\"ModeloXGBoost02.pkl\" ,\"wb\")\n",
    "pkl.dump(modelo,filehandler)\n",
    "filehandler.close()\n",
    "\n",
    "!ls -lah *.pkl"
   ]
  },
  {
   "cell_type": "code",
   "execution_count": 114,
   "id": "84dda3d4",
   "metadata": {},
   "outputs": [
    {
     "name": "stdout",
     "output_type": "stream",
     "text": [
      "�\u0004�F\u0003\u0000\u0000\u0000\u0000\u0000\u0000�\u000fxgboost.sklearn��\r",
      "XGBClassifier���)��}�(�\f",
      "n_estimators�KȌ\tobjective��\u000emulti:softprob��\tmax_depth�N�\r\n",
      "max_leaves�N�\u0007max_bin�N�\u000b",
      "grow_policy�N�\r",
      "learning_rate�N�\tverbosity�N�\u0007booster�N�\u000b",
      "tree_method�N�\u0005gamma�N�\u0010min_child_weight�N�\u000emax_delta_step�N�\tsubsample�N�\u000fsampling_method�N�\u0010colsample_bytree�N�\u0011colsample_bylevel�N�\u0010colsample_bynode�N�\treg_alpha�N�\r\n",
      "reg_lambda�N�\u0010scale_pos_weight�N�\r\n",
      "base_score�N�\u0007missing�G�\u0000\u0000\u0000\u0000\u0000\u0000�\u0011num_parallel_tree�N�\f",
      "random_state�N�\u0006n_jobs�N�\u0014monotone_constraints�N�\u0017interaction_constraints�N�\u000fimportance_type�N�\u0006device�N�\u0013validate_parameters�N�\u0012enable_categorical���\r",
      "feature_types�N�\u0011max_cat_to_onehot�N�\u0011max_cat_threshold�N�\u000emulti_strategy�N�\u000b",
      "eval_metric�N�\u0015early_stopping_rounds�N�\tcallbacks�N�\u0006kwargs�}��\u0003eta�G?񙙙���s�\r\n",
      "n_classes_�K\u0006�\b_Booster��\f",
      "xgboost.core��\u0007Booster���)��}��\u0006handle��\bbuiltins��\tbytearray���B]�\u0012\u0000{L\u0000\u0000\u0000\u0000\u0000\u0000\u0000\u0006Config{L\u0000\u0000\u0000\u0000\u0000\u0000\u0000\u0007learner{L\u0000\u0000\u0000\u0000\u0000\u0000\u0000\r",
      "generic_param{L\u0000\u0000\u0000\u0000\u0000\u0000\u0000\u0006deviceSL\u0000\u0000\u0000\u0000\u0000\u0000\u0000\u0003cpuL\u0000\u0000\u0000\u0000\u0000\u0000\u0000\u0016fail_on_invalid_gpu_idSL\u0000\u0000\u0000\u0000\u0000\u0000\u0000\u00010L\u0000\u0000\u0000\u0000\u0000\u0000\u0000\u0006n_jobsSL\u0000\u0000\u0000\u0000\u0000\u0000\u0000\u00010L\u0000\u0000\u0000\u0000\u0000\u0000\u0000\u0007nthreadSL\u0000\u0000\u0000\u0000\u0000\u0000\u0000\u00010L\u0000\u0000\u0000\u0000\u0000\u0000\u0000\f",
      "random_stateSL\u0000\u0000\u0000\u0000\u0000\u0000\u0000\u00010L\u0000\u0000\u0000\u0000\u0000\u0000\u0000\u0004seedSL\u0000\u0000\u0000\u0000\u0000\u0000\u0000\u00010L\u0000\u0000\u0000\u0000\u0000\u0000\u0000\u0012seed_per_iterationSL\u0000\u0000\u0000\u0000\u0000\u0000\u0000\u00010L\u0000\u0000\u0000\u0000\u0000\u0000\u0000\u0013validate_parametersSL\u0000\u0000\u0000\u0000\u0000\u0000\u0000\u00011}L\u0000\u0000\u0000\u0000\u0000\u0000\u0000\u0010gradient_booster{L\u0000\u0000\u0000\u0000\u0000\u0000\u0000\u0012gbtree_model_param{L\u0000\u0000\u0000\u0000\u0000\u0000\u0000\u0011num_parallel_treeSL\u0000\u0000\u0000\u0000\u0000\u0000\u0000\u00011L\u0000\u0000\u0000\u0000\u0000\u0000\u0000\tnum_treesSL\u0000\u0000\u0000\u0000\u0000\u0000\u0000\u00041200}L\u0000\u0000\u0000\u0000\u0000\u0000\u0000\u0012gbtree_train_param{L\u0000\u0000\u0000\u0000\u0000\u0000\u0000\f",
      "process_typeSL\u0000\u0000\u0000\u0000\u0000\u0000\u0000\u0007defaultL\u0000\u0000\u0000\u0000\u0000\u0000\u0000\u000b",
      "tree_methodSL\u0000\u0000\u0000\u0000\u0000\u0000\u0000\u0004autoL\u0000\u0000\u0000\u0000\u0000\u0000\u0000\u0007updaterSL\u0000\u0000\u0000\u0000\u0000\u0000\u0000\u0017grow_quantile_histmakerL\u0000\u0000\u0000\u0000\u0000\u0000\u0000\u000b",
      "updater_seqSL\u0000\u0000\u0000\u0000\u0000\u0000\u0000\u0017grow_quantile_histmaker}L\u0000\u0000\u0000\u0000\u0000\u0000\u0000\u0004nameSL\u0000\u0000\u0000\u0000\u0000\u0000\u0000\u0006gbtreeL\u0000\u0000\u0000\u0000\u0000\u0000\u0000\u0011specified_updaterFL\u0000\u0000\u0000\u0000\u0000\u0000\u0000\u0010tree_train_param{L\u0000\u0000\u0000\u0000\u0000\u0000\u0000\u0005alphaSL\u0000\u0000\u0000\u0000\u0000\u0000\u0000\u00010L\u0000\u0000\u0000\u0000\u0000\u0000\u0000\tcache_optSL\u0000\u0000\u0000\u0000\u0000\u0000\u0000\u00011L\u0000\u0000\u0000\u0000\u0000\u0000\u0000\u0011colsample_bylevelSL\u0000\u0000\u0000\u0000\u0000\u0000\u0000\u00011L\u0000\u0000\u0000\u0000\u0000\u0000\u0000\u0010colsample_bynodeSL\u0000\u0000\u0000\u0000\u0000\u0000\u0000\u00011L\u0000\u0000\u0000\u0000\u0000\u0000\u0000\u0010colsample_bytreeSL\u0000\u0000\u0000\u0000\u0000\u0000\u0000\u00011L\u0000\u0000\u0000\u0000\u0000\u0000\u0000\u0003etaSL\u0000\u0000\u0000\u0000\u0000\u0000\u0000\r\n",
      "1.10000002L\u0000\u0000\u0000\u0000\u0000\u0000\u0000\u0005gammaSL\u0000\u0000\u0000\u0000\u0000\u0000\u0000\u00010L\u0000\u0000\u0000\u0000\u0000\u0000\u0000\u000b",
      "grow_policySL\u0000\u0000\u0000\u0000\u0000\u0000\u0000\tdepthwiseL\u0000\u0000\u0000\u0000\u0000\u0000\u0000\u0017interaction_constraintsSL\u0000\u0000\u0000\u0000\u0000\u0000\u0000\u0000L\u0000\u0000\u0000\u0000\u0000\u0000\u0000\u0006lambdaSL\u0000\u0000\u0000\u0000\u0000\u0000\u0000\u00011L\u0000\u0000\u0000\u0000\u0000\u0000\u0000\r",
      "learning_rateSL\u0000\u0000\u0000\u0000\u0000\u0000\u0000\r\n",
      "1.10000002L\u0000\u0000\u0000\u0000\u0000\u0000\u0000\u0007max_binSL\u0000\u0000\u0000\u0000\u0000\u0000\u0000\u0003256L\u0000\u0000\u0000\u0000\u0000\u0000\u0000\u0011max_cat_thresholdSL\u0000\u0000\u0000\u0000\u0000\u0000\u0000\u000264L\u0000\u0000\u0000\u0000\u0000\u0000\u0000\u0011max_cat_to_onehotSL\u0000\u0000\u0000\u0000\u0000\u0000\u0000\u00014L\u0000\u0000\u0000\u0000\u0000\u0000\u0000\u000emax_delta_stepSL\u0000\u0000\u0000\u0000\u0000\u0000\u0000\u00010L\u0000\u0000\u0000\u0000\u0000\u0000\u0000\tmax_depthSL\u0000\u0000\u0000\u0000\u0000\u0000\u0000\u00016L\u0000\u0000\u0000\u0000\u0000\u0000\u0000\r\n",
      "max_leavesSL\u0000\u0000\u0000\u0000\u0000\u0000\u0000\u00010L\u0000\u0000\u0000\u0000\u0000\u0000\u0000\u0010min_child_weightSL\u0000\u0000\u0000\u0000\u0000\u0000\u0000\u00011L\u0000\u0000\u0000\u0000\u0000\u0000\u0000\u000emin_split_lossSL\u0000\u0000\u0000\u0000\u0000\u0000\u0000\u00010L\u0000\u0000\u0000\u0000\u0000\u0000\u0000\u0014monotone_constraintsSL\u0000\u0000\u0000\u0000\u0000\u0000\u0000\u0002()L\u0000\u0000\u0000\u0000\u0000\u0000\u0000\f",
      "refresh_leafSL\u0000\u0000\u0000\u0000\u0000\u0000\u0000\u00011L\u0000\u0000\u0000\u0000\u0000\u0000\u0000\treg_alphaSL\u0000\u0000\u0000\u0000\u0000\u0000\u0000\u00010L\u0000\u0000\u0000\u0000\u0000\u0000\u0000\r\n",
      "reg_lambdaSL\u0000\u0000\u0000\u0000\u0000\u0000\u0000\u00011L\u0000\u0000\u0000\u0000\u0000\u0000\u0000\u000fsampling_methodSL\u0000\u0000\u0000\u0000\u0000\u0000\u0000\u0007uniformL\u0000\u0000\u0000\u0000\u0000\u0000\u0000\f",
      "sketch_ratioSL\u0000\u0000\u0000\u0000\u0000\u0000\u0000\u00012L\u0000\u0000\u0000\u0000\u0000\u0000\u0000\u0010sparse_thresholdSL\u0000\u0000\u0000\u0000\u0000\u0000\u0000\u00130.20000000000000001L\u0000\u0000\u0000\u0000\u0000\u0000\u0000\tsubsampleSL\u0000\u0000\u0000\u0000\u0000\u0000\u0000\u00011}L\u0000\u0000\u0000\u0000\u0000\u0000\u0000\u0007updater[#L\u0000\u0000\u0000\u0000\u0000\u0000\u0000\u0001{L\u0000\u0000\u0000\u0000\u0000\u0000\u0000\u0010hist_train_param{L\u0000\u0000\u0000\u0000\u0000\u0000\u0000\u0011debug_synchronizeSL\u0000\u0000\u0000\u0000\u0000\u0000\u0000\u00010L\u0000\u0000\u0000\u0000\u0000\u0000\u0000\u0014max_cached_hist_nodeSL\u0000\u0000\u0000\u0000\u0000\u0000\u0000\u000565536}L\u0000\u0000\u0000\u0000\u0000\u0000\u0000\u0004nameSL\u0000\u0000\u0000\u0000\u0000\u0000\u0000\u0017grow_quantile_histmaker}}L\u0000\u0000\u0000\u0000\u0000\u0000\u0000\u0013learner_model_param{L\u0000\u0000\u0000\u0000\u0000\u0000\u0000\r\n",
      "base_scoreSL\u0000\u0000\u0000\u0000\u0000\u0000\u0000\u00045E-1L\u0000\u0000\u0000\u0000\u0000\u0000\u0000\u0012boost_from_averageSL\u0000\u0000\u0000\u0000\u0000\u0000\u0000\u00011L\u0000\u0000\u0000\u0000\u0000\u0000\u0000\tnum_classSL\u0000\u0000\u0000\u0000\u0000\u0000\u0000\u00016L\u0000\u0000\u0000\u0000\u0000\u0000\u0000\u000b",
      "num_featureSL\u0000\u0000\u0000\u0000\u0000\u0000\u0000\u000211L\u0000\u0000\u0000\u0000\u0000\u0000\u0000\r\n"
     ]
    }
   ],
   "source": [
    "!head ModeloXGBoost.pkl"
   ]
  },
  {
   "cell_type": "markdown",
   "id": "9659d940",
   "metadata": {},
   "source": [
    "# Carregar o modelo treinado"
   ]
  },
  {
   "cell_type": "code",
   "execution_count": null,
   "id": "55b0d2ce",
   "metadata": {},
   "outputs": [],
   "source": [
    "file = \"ModeloXGBoost.pkl\"\n",
    "with open(file, 'rb') as f:\n",
    "    modelo_lido = pkl.load(f)\n",
    "    \n",
    "modelo_lido"
   ]
  },
  {
   "cell_type": "code",
   "execution_count": null,
   "id": "449af3f2",
   "metadata": {},
   "outputs": [],
   "source": [
    "list(map(converte_XGBoost_para_classes, x1_XGBoost))[0]"
   ]
  },
  {
   "cell_type": "code",
   "execution_count": null,
   "id": "bf2b2d44-c41a-4f2f-aa31-3a5a0fcaf2c8",
   "metadata": {},
   "outputs": [],
   "source": [
    "!ls -ilha *.pkl"
   ]
  },
  {
   "cell_type": "code",
   "execution_count": null,
   "id": "55eceebc-5dbf-4f42-a4fc-a2f6454e70b3",
   "metadata": {},
   "outputs": [],
   "source": [
    "set(y)"
   ]
  },
  {
   "cell_type": "markdown",
   "id": "0fa14bb3-5798-4527-8fb1-40476e9f3b6b",
   "metadata": {},
   "source": [
    "# Estatística Descritiva dos Atributos"
   ]
  },
  {
   "cell_type": "code",
   "execution_count": null,
   "id": "87cec01c-c63a-41db-9508-9829cac87780",
   "metadata": {},
   "outputs": [],
   "source": [
    "df = X"
   ]
  },
  {
   "cell_type": "code",
   "execution_count": null,
   "id": "0d2a51a8-2524-49d2-b94c-24271992e3ea",
   "metadata": {},
   "outputs": [],
   "source": [
    "df.density.min(), df.density.mean(), df.density.max()"
   ]
  },
  {
   "cell_type": "code",
   "execution_count": null,
   "id": "2702d723-73a5-4964-9348-d7ec95942d73",
   "metadata": {},
   "outputs": [],
   "source": [
    "atributos = list(df.columns.values)\n",
    "dic_atributos_valores = {}\n",
    "for atributo in atributos:\n",
    "    min, media, max = df[atributo].min(), df[atributo].mean(), df[atributo].max()\n",
    "    print('atributo:', atributo, ':  ', min, media, max)\n",
    "    step = (max - min) / media\n",
    "    print('step:', step)\n",
    "    dic_atributos_valores[atributo] = {'min': min, 'media': media, 'max': max, 'step': step }"
   ]
  },
  {
   "cell_type": "code",
   "execution_count": null,
   "id": "fa3236f3-45e0-411e-8564-4f9a1e17b526",
   "metadata": {},
   "outputs": [],
   "source": [
    "dic_atributos_valores"
   ]
  },
  {
   "cell_type": "code",
   "execution_count": null,
   "id": "8f80a4c2-06f8-40d7-9e6e-2d09437edceb",
   "metadata": {},
   "outputs": [],
   "source": [
    "print(atributos) "
   ]
  },
  {
   "cell_type": "code",
   "execution_count": null,
   "id": "f1257d1a-0f84-41ca-b433-002ecb51d6ff",
   "metadata": {},
   "outputs": [],
   "source": [
    "len(atributos)"
   ]
  }
 ],
 "metadata": {
  "kernelspec": {
   "display_name": "Python 3 (ipykernel)",
   "language": "python",
   "name": "python3"
  },
  "language_info": {
   "codemirror_mode": {
    "name": "ipython",
    "version": 3
   },
   "file_extension": ".py",
   "mimetype": "text/x-python",
   "name": "python",
   "nbconvert_exporter": "python",
   "pygments_lexer": "ipython3",
   "version": "3.11.5"
  }
 },
 "nbformat": 4,
 "nbformat_minor": 5
}
