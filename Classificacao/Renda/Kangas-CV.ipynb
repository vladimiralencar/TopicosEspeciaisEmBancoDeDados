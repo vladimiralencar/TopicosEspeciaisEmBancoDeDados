{
 "cells": [
  {
   "cell_type": "markdown",
   "id": "aa26e0a8",
   "metadata": {},
   "source": [
    "# Kangas -  Computer Vision"
   ]
  },
  {
   "cell_type": "code",
   "execution_count": 3,
   "id": "96c6cf21",
   "metadata": {},
   "outputs": [
    {
     "data": {
      "text/html": [
       "\n",
       "        <iframe\n",
       "            width=\"100%\"\n",
       "            height=\"750px\"\n",
       "            src=\"http://127.0.0.1:4000/?datagrid=coco-500.datagrid&timestamp=1685578375.792126\"\n",
       "            frameborder=\"0\"\n",
       "            allowfullscreen\n",
       "            \n",
       "        ></iframe>\n",
       "        "
      ],
      "text/plain": [
       "<IPython.lib.display.IFrame at 0x7fb134d00be0>"
      ]
     },
     "metadata": {},
     "output_type": "display_data"
    }
   ],
   "source": [
    "import kangas as kg\n",
    "\n",
    "# Load an existing DataGrid\n",
    "dg = kg.read_datagrid(\"https://github.com/caleb-kaiser/kangas_examples/raw/master/coco-500.datagrid.zip\")\n",
    "dg.show()"
   ]
  },
  {
   "cell_type": "code",
   "execution_count": null,
   "id": "59b9a121",
   "metadata": {},
   "outputs": [],
   "source": []
  }
 ],
 "metadata": {
  "kernelspec": {
   "display_name": "Python 3 (ipykernel)",
   "language": "python",
   "name": "python3"
  },
  "language_info": {
   "codemirror_mode": {
    "name": "ipython",
    "version": 3
   },
   "file_extension": ".py",
   "mimetype": "text/x-python",
   "name": "python",
   "nbconvert_exporter": "python",
   "pygments_lexer": "ipython3",
   "version": "3.9.13"
  }
 },
 "nbformat": 4,
 "nbformat_minor": 5
}
