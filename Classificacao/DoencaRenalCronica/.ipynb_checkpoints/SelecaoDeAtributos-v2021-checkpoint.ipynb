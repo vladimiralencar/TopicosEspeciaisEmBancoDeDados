{
 "cells": [
  {
   "cell_type": "markdown",
   "metadata": {},
   "source": [
    "# Seleção de Atributos (variáveis)"
   ]
  },
  {
   "cell_type": "markdown",
   "metadata": {},
   "source": [
    "# Métricas"
   ]
  },
  {
   "cell_type": "markdown",
   "metadata": {},
   "source": [
    "### Selecionar os melhores atributos, depois treinar o modelo e aplicar as métricas"
   ]
  },
  {
   "cell_type": "code",
   "execution_count": 1,
   "metadata": {},
   "outputs": [],
   "source": [
    "import warnings\n",
    "warnings.filterwarnings('ignore')\n",
    "\n",
    "# Criando um modelo\n",
    "from sklearn import linear_model\n",
    "\n",
    "def calcula_metricas(dataset, atributos_selecionados):\n",
    "\n",
    "    X = dataset.loc[:, atributos_selecionados ].values\n",
    "    y = dataset['target'].values\n",
    "\n",
    "    modelo = linear_model.LinearRegression() \n",
    "    modelo.fit(X,y)\n",
    "\n",
    "    # MAE - Mean Absolute Error\n",
    "    from sklearn import model_selection\n",
    "    kfold = 10\n",
    "    resultado = model_selection.cross_val_score(modelo, X, y, cv = kfold, \n",
    "                                                scoring = 'neg_mean_absolute_error')\n",
    "\n",
    "    # Print do resultado\n",
    "    print(\"MAE: %.3f (%.3f)\" % (resultado.mean(), resultado.std()))\n",
    "\n",
    "    # MSE - Mean Squared Error\n",
    "    # Definindo os valores para o número de folds\n",
    "    num_folds = 10\n",
    "    num_instances = len(X)\n",
    "    seed = 7\n",
    "\n",
    "    # Separando os dados em folds\n",
    "    kfold = model_selection.KFold(num_folds, random_state = seed, shuffle=True)\n",
    "\n",
    "    resultado = model_selection.cross_val_score(modelo, X, y, cv = kfold, scoring = 'neg_mean_squared_error')\n",
    "\n",
    "    # Print do resultado\n",
    "    print(\"MSE: %.3f (%.3f)\" % (resultado.mean(), resultado.std()))\n",
    "\n",
    "    # RMSE (Root Mean Squared Error\n",
    "    from math import sqrt\n",
    "    print(\"RMSE: %.3f \" % (sqrt(abs(resultado.mean()))))\n",
    "\n",
    "    # R2\n",
    "    resultado = model_selection.cross_val_score(modelo, X, y, cv = kfold, scoring = 'r2')\n",
    "\n",
    "    # Print do resultado\n",
    "    print(\"R^2: %.3f (%.3f)\" % (resultado.mean(), resultado.std()))\n",
    "\n",
    "# Seleciona os atributos\n",
    "atributos_selecionados = ['CRIM', 'ZN', 'INDUS', 'CHAS', 'NOX', 'RM', # 'DIS', \n",
    "                              'RAD', 'TAX', 'PTRATIO', 'B', 'LSTAT'] # 'AGE',\n",
    "\n",
    "#calcula_metricas(dataset, atributos_selecionados)"
   ]
  },
  {
   "cell_type": "markdown",
   "metadata": {},
   "source": [
    "## Carregando o Dataset Boston Houses"
   ]
  },
  {
   "cell_type": "markdown",
   "metadata": {},
   "source": [
    "1. CRIM: per capita crime rate by town \n",
    "2. ZN: proportion of residential land zoned for lots over 25,000 sq.ft. \n",
    "3. INDUS: proportion of non-residential acres per town \n",
    "4. CHAS: Charles River dummy variable (= 1 if tract bounds river; 0 otherwise) \n",
    "5. NOX: nitric oxides concentration (parts per 10 million) \n",
    "6. RM: average number of rooms per dwelling \n",
    "7. AGE: proportion of owner-occupied units built prior to 1940 \n",
    "8. DIS: weighted distances to five Boston employment centres \n",
    "9. RAD: index of accessibility to radial highways \n",
    "10. TAX: full-value property-tax rate per 10,000 \n",
    "11. PTRATIO: pupil-teacher ratio by town \n",
    "12. B: 1000(Bk - 0.63)^2 where Bk is the proportion of blacks by town \n",
    "13. LSTAT: % lower status of the population \n",
    "14. TARGET: Median value of owner-occupied homes in $1000's"
   ]
  },
  {
   "cell_type": "markdown",
   "metadata": {},
   "source": [
    "## Seleção de Atributos - Utilizando RFE - Recursive Feature Elimination"
   ]
  },
  {
   "cell_type": "markdown",
   "metadata": {},
   "source": [
    "Esta técnica para seleção de atributos, que recursivamente remove os atributos e constrói o modelo com os atributos remanescentes. <br> Esta técnica utiliza a acurácia do modelo para identificar os atributos que mais contribuem para prever a variável alvo. <br> Em inglês esta técnica é chamada Recursive Feature Elimination (RFE).\n"
   ]
  },
  {
   "cell_type": "code",
   "execution_count": 3,
   "metadata": {},
   "outputs": [],
   "source": [
    "# Gerando o dataset\n",
    "import pandas as pd\n",
    "from sklearn.datasets import load_boston\n",
    "\n",
    "boston = load_boston() \n",
    "dataset = pd.DataFrame(boston.data, columns = boston.feature_names)\n",
    "dataset['target'] = boston.target\n",
    "dataset.head()\n",
    "dataset.to_csv('boston_houses.csv', index=False)"
   ]
  },
  {
   "cell_type": "code",
   "execution_count": 4,
   "metadata": {},
   "outputs": [
    {
     "name": "stdout",
     "output_type": "stream",
     "text": [
      "Número de Atributos: 13\n"
     ]
    }
   ],
   "source": [
    "print('Número de Atributos:', len(dataset.columns) -1)"
   ]
  },
  {
   "cell_type": "code",
   "execution_count": 5,
   "metadata": {},
   "outputs": [
    {
     "data": {
      "text/plain": [
       "Index(['CRIM', 'ZN', 'INDUS', 'CHAS', 'NOX', 'RM', 'AGE', 'DIS', 'RAD', 'TAX',\n",
       "       'PTRATIO', 'B', 'LSTAT', 'target'],\n",
       "      dtype='object')"
      ]
     },
     "execution_count": 5,
     "metadata": {},
     "output_type": "execute_result"
    }
   ],
   "source": [
    "dataset.columns"
   ]
  },
  {
   "cell_type": "code",
   "execution_count": 6,
   "metadata": {},
   "outputs": [
    {
     "name": "stdout",
     "output_type": "stream",
     "text": [
      "-rw-r--r--@ 1 valencar  staff    38K May 29 20:10 boston_houses.csv\r\n",
      "-rw-r--r--@ 1 valencar  staff    33K May 29 18:30 ckd-dataset-v2.csv\r\n"
     ]
    }
   ],
   "source": [
    "!ls -lah *.csv"
   ]
  },
  {
   "cell_type": "code",
   "execution_count": 7,
   "metadata": {},
   "outputs": [
    {
     "name": "stdout",
     "output_type": "stream",
     "text": [
      "CRIM,ZN,INDUS,CHAS,NOX,RM,AGE,DIS,RAD,TAX,PTRATIO,B,LSTAT,target\r\n",
      "0.00632,18.0,2.31,0.0,0.538,6.575,65.2,4.09,1.0,296.0,15.3,396.9,4.98,24.0\r\n",
      "0.02731,0.0,7.07,0.0,0.469,6.421,78.9,4.9671,2.0,242.0,17.8,396.9,9.14,21.6\r\n",
      "0.02729,0.0,7.07,0.0,0.469,7.185,61.1,4.9671,2.0,242.0,17.8,392.83,4.03,34.7\r\n",
      "0.03237,0.0,2.18,0.0,0.458,6.998,45.8,6.0622,3.0,222.0,18.7,394.63,2.94,33.4\r\n",
      "0.06905,0.0,2.18,0.0,0.458,7.147,54.2,6.0622,3.0,222.0,18.7,396.9,5.33,36.2\r\n",
      "0.02985,0.0,2.18,0.0,0.458,6.43,58.7,6.0622,3.0,222.0,18.7,394.12,5.21,28.7\r\n",
      "0.08829,12.5,7.87,0.0,0.524,6.012,66.6,5.5605,5.0,311.0,15.2,395.6,12.43,22.9\r\n",
      "0.14455,12.5,7.87,0.0,0.524,6.172,96.1,5.9505,5.0,311.0,15.2,396.9,19.15,27.1\r\n",
      "0.21124,12.5,7.87,0.0,0.524,5.631,100.0,6.0821,5.0,311.0,15.2,386.63,29.93,16.5\r\n"
     ]
    }
   ],
   "source": [
    "!head  boston_houses.csv"
   ]
  },
  {
   "cell_type": "markdown",
   "metadata": {},
   "source": [
    "# Aplicando a RFE para Seleção dos Melhores Atributos"
   ]
  },
  {
   "cell_type": "code",
   "execution_count": 8,
   "metadata": {},
   "outputs": [
    {
     "name": "stdout",
     "output_type": "stream",
     "text": [
      "Num Features:  8\n",
      "Index(['CRIM', 'ZN', 'INDUS', 'CHAS', 'NOX', 'RM', 'AGE', 'DIS', 'RAD', 'TAX',\n",
      "       'PTRATIO', 'B', 'LSTAT', 'target'],\n",
      "      dtype='object')\n",
      "Selected Features:  [ True False False  True  True  True False  True  True False  True False\n",
      "  True]\n",
      "Feature Ranking:  [1 3 2 1 1 1 6 1 1 4 1 5 1]\n",
      "CPU times: user 39 ms, sys: 21.7 ms, total: 60.7 ms\n",
      "Wall time: 1.73 s\n"
     ]
    }
   ],
   "source": [
    "%%time \n",
    "\n",
    "# aplicando a RFE\n",
    "from sklearn.feature_selection import RFE\n",
    "from sklearn import linear_model\n",
    "\n",
    "\n",
    "X = dataset.iloc[:,:-1].values\n",
    "y = dataset['target'].values\n",
    "\n",
    "num_atributos_relevantes = 8\n",
    "estimator = modelo = linear_model.LinearRegression() #normalize = False, fit_intercept = True)\n",
    "selector = RFE(estimator, n_features_to_select=num_atributos_relevantes, step=1)\n",
    "selector = selector.fit(X, y)\n",
    "\n",
    "print(\"Num Features: \", selector.n_features_)\n",
    "\n",
    "print(dataset.columns)\n",
    "print(\"Selected Features: \", selector.support_)\n",
    "print(\"Feature Ranking: \", selector.ranking_)"
   ]
  },
  {
   "cell_type": "code",
   "execution_count": 9,
   "metadata": {},
   "outputs": [
    {
     "data": {
      "text/html": [
       "<div>\n",
       "<style scoped>\n",
       "    .dataframe tbody tr th:only-of-type {\n",
       "        vertical-align: middle;\n",
       "    }\n",
       "\n",
       "    .dataframe tbody tr th {\n",
       "        vertical-align: top;\n",
       "    }\n",
       "\n",
       "    .dataframe thead th {\n",
       "        text-align: right;\n",
       "    }\n",
       "</style>\n",
       "<table border=\"1\" class=\"dataframe\">\n",
       "  <thead>\n",
       "    <tr style=\"text-align: right;\">\n",
       "      <th></th>\n",
       "      <th>Atributo</th>\n",
       "      <th>Importancia</th>\n",
       "    </tr>\n",
       "  </thead>\n",
       "  <tbody>\n",
       "    <tr>\n",
       "      <th>0</th>\n",
       "      <td>CRIM</td>\n",
       "      <td>1</td>\n",
       "    </tr>\n",
       "    <tr>\n",
       "      <th>3</th>\n",
       "      <td>CHAS</td>\n",
       "      <td>1</td>\n",
       "    </tr>\n",
       "    <tr>\n",
       "      <th>4</th>\n",
       "      <td>NOX</td>\n",
       "      <td>1</td>\n",
       "    </tr>\n",
       "    <tr>\n",
       "      <th>5</th>\n",
       "      <td>RM</td>\n",
       "      <td>1</td>\n",
       "    </tr>\n",
       "    <tr>\n",
       "      <th>7</th>\n",
       "      <td>DIS</td>\n",
       "      <td>1</td>\n",
       "    </tr>\n",
       "    <tr>\n",
       "      <th>8</th>\n",
       "      <td>RAD</td>\n",
       "      <td>1</td>\n",
       "    </tr>\n",
       "    <tr>\n",
       "      <th>10</th>\n",
       "      <td>PTRATIO</td>\n",
       "      <td>1</td>\n",
       "    </tr>\n",
       "    <tr>\n",
       "      <th>12</th>\n",
       "      <td>LSTAT</td>\n",
       "      <td>1</td>\n",
       "    </tr>\n",
       "    <tr>\n",
       "      <th>2</th>\n",
       "      <td>INDUS</td>\n",
       "      <td>2</td>\n",
       "    </tr>\n",
       "    <tr>\n",
       "      <th>1</th>\n",
       "      <td>ZN</td>\n",
       "      <td>3</td>\n",
       "    </tr>\n",
       "    <tr>\n",
       "      <th>9</th>\n",
       "      <td>TAX</td>\n",
       "      <td>4</td>\n",
       "    </tr>\n",
       "    <tr>\n",
       "      <th>11</th>\n",
       "      <td>B</td>\n",
       "      <td>5</td>\n",
       "    </tr>\n",
       "    <tr>\n",
       "      <th>6</th>\n",
       "      <td>AGE</td>\n",
       "      <td>6</td>\n",
       "    </tr>\n",
       "  </tbody>\n",
       "</table>\n",
       "</div>"
      ],
      "text/plain": [
       "   Atributo  Importancia\n",
       "0      CRIM            1\n",
       "3      CHAS            1\n",
       "4       NOX            1\n",
       "5        RM            1\n",
       "7       DIS            1\n",
       "8       RAD            1\n",
       "10  PTRATIO            1\n",
       "12    LSTAT            1\n",
       "2     INDUS            2\n",
       "1        ZN            3\n",
       "9       TAX            4\n",
       "11        B            5\n",
       "6       AGE            6"
      ]
     },
     "execution_count": 9,
     "metadata": {},
     "output_type": "execute_result"
    }
   ],
   "source": [
    "dfatributos = pd.DataFrame( {'Atributo': dataset.columns[:-1],\n",
    "                              'Importancia': selector.ranking_ })\n",
    "                             \n",
    "dfatributos = dfatributos.sort_values(by='Importancia', ascending=True)\n",
    "dfatributos"
   ]
  },
  {
   "cell_type": "code",
   "execution_count": 10,
   "metadata": {},
   "outputs": [
    {
     "name": "stdout",
     "output_type": "stream",
     "text": [
      "Num Features:  8\n",
      "Index(['CRIM', 'ZN', 'INDUS', 'CHAS', 'NOX', 'RM', 'AGE', 'DIS', 'RAD', 'TAX',\n",
      "       'PTRATIO', 'B', 'LSTAT', 'target'],\n",
      "      dtype='object')\n",
      "Selected Features:  [ True False False False  True  True  True  True False  True  True False\n",
      "  True]\n",
      "Feature Ranking:  [1 6 4 5 1 1 1 1 3 1 1 2 1]\n",
      "CPU times: user 483 ms, sys: 37 ms, total: 520 ms\n",
      "Wall time: 3.96 s\n"
     ]
    }
   ],
   "source": [
    "%%time \n",
    "\n",
    "# aplicando a RFE\n",
    "from sklearn.feature_selection import RFE\n",
    "from sklearn.ensemble import RandomForestRegressor\n",
    "\n",
    "modelo = RandomForestRegressor(n_estimators=35, max_depth=8)\n",
    "\n",
    "\n",
    "X = dataset.iloc[:,:-1].values\n",
    "y = dataset['target'].values\n",
    "\n",
    "num_atributos_relevantes = 8\n",
    "estimator = modelo\n",
    "selector = RFE(estimator, n_features_to_select=num_atributos_relevantes, step=1)\n",
    "selector = selector.fit(X, y)\n",
    "\n",
    "print(\"Num Features: \", selector.n_features_)\n",
    "\n",
    "print(dataset.columns)\n",
    "print(\"Selected Features: \", selector.support_)\n",
    "print(\"Feature Ranking: \", selector.ranking_)"
   ]
  },
  {
   "cell_type": "code",
   "execution_count": 11,
   "metadata": {},
   "outputs": [
    {
     "data": {
      "text/html": [
       "<div>\n",
       "<style scoped>\n",
       "    .dataframe tbody tr th:only-of-type {\n",
       "        vertical-align: middle;\n",
       "    }\n",
       "\n",
       "    .dataframe tbody tr th {\n",
       "        vertical-align: top;\n",
       "    }\n",
       "\n",
       "    .dataframe thead th {\n",
       "        text-align: right;\n",
       "    }\n",
       "</style>\n",
       "<table border=\"1\" class=\"dataframe\">\n",
       "  <thead>\n",
       "    <tr style=\"text-align: right;\">\n",
       "      <th></th>\n",
       "      <th>Atributo</th>\n",
       "      <th>Importancia</th>\n",
       "    </tr>\n",
       "  </thead>\n",
       "  <tbody>\n",
       "    <tr>\n",
       "      <th>0</th>\n",
       "      <td>CRIM</td>\n",
       "      <td>1</td>\n",
       "    </tr>\n",
       "    <tr>\n",
       "      <th>4</th>\n",
       "      <td>NOX</td>\n",
       "      <td>1</td>\n",
       "    </tr>\n",
       "    <tr>\n",
       "      <th>5</th>\n",
       "      <td>RM</td>\n",
       "      <td>1</td>\n",
       "    </tr>\n",
       "    <tr>\n",
       "      <th>6</th>\n",
       "      <td>AGE</td>\n",
       "      <td>1</td>\n",
       "    </tr>\n",
       "    <tr>\n",
       "      <th>7</th>\n",
       "      <td>DIS</td>\n",
       "      <td>1</td>\n",
       "    </tr>\n",
       "    <tr>\n",
       "      <th>9</th>\n",
       "      <td>TAX</td>\n",
       "      <td>1</td>\n",
       "    </tr>\n",
       "    <tr>\n",
       "      <th>10</th>\n",
       "      <td>PTRATIO</td>\n",
       "      <td>1</td>\n",
       "    </tr>\n",
       "    <tr>\n",
       "      <th>12</th>\n",
       "      <td>LSTAT</td>\n",
       "      <td>1</td>\n",
       "    </tr>\n",
       "    <tr>\n",
       "      <th>11</th>\n",
       "      <td>B</td>\n",
       "      <td>2</td>\n",
       "    </tr>\n",
       "    <tr>\n",
       "      <th>8</th>\n",
       "      <td>RAD</td>\n",
       "      <td>3</td>\n",
       "    </tr>\n",
       "    <tr>\n",
       "      <th>2</th>\n",
       "      <td>INDUS</td>\n",
       "      <td>4</td>\n",
       "    </tr>\n",
       "    <tr>\n",
       "      <th>3</th>\n",
       "      <td>CHAS</td>\n",
       "      <td>5</td>\n",
       "    </tr>\n",
       "    <tr>\n",
       "      <th>1</th>\n",
       "      <td>ZN</td>\n",
       "      <td>6</td>\n",
       "    </tr>\n",
       "  </tbody>\n",
       "</table>\n",
       "</div>"
      ],
      "text/plain": [
       "   Atributo  Importancia\n",
       "0      CRIM            1\n",
       "4       NOX            1\n",
       "5        RM            1\n",
       "6       AGE            1\n",
       "7       DIS            1\n",
       "9       TAX            1\n",
       "10  PTRATIO            1\n",
       "12    LSTAT            1\n",
       "11        B            2\n",
       "8       RAD            3\n",
       "2     INDUS            4\n",
       "3      CHAS            5\n",
       "1        ZN            6"
      ]
     },
     "execution_count": 11,
     "metadata": {},
     "output_type": "execute_result"
    }
   ],
   "source": [
    "dfatributos = pd.DataFrame( {'Atributo': dataset.columns[:-1],\n",
    "                              'Importancia': selector.ranking_ })\n",
    "                             \n",
    "dfatributos = dfatributos.sort_values(by='Importancia', ascending=True)\n",
    "dfatributos"
   ]
  },
  {
   "cell_type": "code",
   "execution_count": 12,
   "metadata": {},
   "outputs": [
    {
     "name": "stdout",
     "output_type": "stream",
     "text": [
      "Num Features:  8\n",
      "Index(['CRIM', 'ZN', 'INDUS', 'CHAS', 'NOX', 'RM', 'AGE', 'DIS', 'RAD', 'TAX',\n",
      "       'PTRATIO', 'B', 'LSTAT', 'target'],\n",
      "      dtype='object')\n",
      "Selected Features:  [ True False  True  True  True  True False  True False False  True False\n",
      "  True]\n",
      "Feature Ranking:  [1 2 1 1 1 1 3 1 5 6 1 4 1]\n",
      "CPU times: user 6.99 s, sys: 60.1 ms, total: 7.05 s\n",
      "Wall time: 7.38 s\n"
     ]
    }
   ],
   "source": [
    "%%time \n",
    "\n",
    "# aplicando a RFE\n",
    "from sklearn.feature_selection import RFE\n",
    "from sklearn.svm import SVR\n",
    "\n",
    "\n",
    "X = dataset.iloc[:,:-1].values\n",
    "y = dataset['target'].values\n",
    "\n",
    "num_atributos_relevantes = 8\n",
    "estimator = SVR(kernel=\"linear\")\n",
    "selector = RFE(estimator, n_features_to_select=num_atributos_relevantes, step=1)\n",
    "selector = selector.fit(X, y)\n",
    "\n",
    "print(\"Num Features: \", selector.n_features_)\n",
    "\n",
    "print(dataset.columns)\n",
    "print(\"Selected Features: \", selector.support_)\n",
    "print(\"Feature Ranking: \", selector.ranking_)"
   ]
  },
  {
   "cell_type": "code",
   "execution_count": 20,
   "metadata": {},
   "outputs": [
    {
     "data": {
      "text/html": [
       "<div>\n",
       "<style scoped>\n",
       "    .dataframe tbody tr th:only-of-type {\n",
       "        vertical-align: middle;\n",
       "    }\n",
       "\n",
       "    .dataframe tbody tr th {\n",
       "        vertical-align: top;\n",
       "    }\n",
       "\n",
       "    .dataframe thead th {\n",
       "        text-align: right;\n",
       "    }\n",
       "</style>\n",
       "<table border=\"1\" class=\"dataframe\">\n",
       "  <thead>\n",
       "    <tr style=\"text-align: right;\">\n",
       "      <th></th>\n",
       "      <th>Atributo</th>\n",
       "      <th>Importancia</th>\n",
       "    </tr>\n",
       "  </thead>\n",
       "  <tbody>\n",
       "    <tr>\n",
       "      <th>0</th>\n",
       "      <td>CRIM</td>\n",
       "      <td>1</td>\n",
       "    </tr>\n",
       "    <tr>\n",
       "      <th>2</th>\n",
       "      <td>INDUS</td>\n",
       "      <td>1</td>\n",
       "    </tr>\n",
       "    <tr>\n",
       "      <th>3</th>\n",
       "      <td>CHAS</td>\n",
       "      <td>1</td>\n",
       "    </tr>\n",
       "    <tr>\n",
       "      <th>4</th>\n",
       "      <td>NOX</td>\n",
       "      <td>1</td>\n",
       "    </tr>\n",
       "    <tr>\n",
       "      <th>5</th>\n",
       "      <td>RM</td>\n",
       "      <td>1</td>\n",
       "    </tr>\n",
       "    <tr>\n",
       "      <th>7</th>\n",
       "      <td>DIS</td>\n",
       "      <td>1</td>\n",
       "    </tr>\n",
       "    <tr>\n",
       "      <th>10</th>\n",
       "      <td>PTRATIO</td>\n",
       "      <td>1</td>\n",
       "    </tr>\n",
       "    <tr>\n",
       "      <th>12</th>\n",
       "      <td>LSTAT</td>\n",
       "      <td>1</td>\n",
       "    </tr>\n",
       "    <tr>\n",
       "      <th>1</th>\n",
       "      <td>ZN</td>\n",
       "      <td>2</td>\n",
       "    </tr>\n",
       "    <tr>\n",
       "      <th>6</th>\n",
       "      <td>AGE</td>\n",
       "      <td>3</td>\n",
       "    </tr>\n",
       "    <tr>\n",
       "      <th>11</th>\n",
       "      <td>B</td>\n",
       "      <td>4</td>\n",
       "    </tr>\n",
       "    <tr>\n",
       "      <th>8</th>\n",
       "      <td>RAD</td>\n",
       "      <td>5</td>\n",
       "    </tr>\n",
       "    <tr>\n",
       "      <th>9</th>\n",
       "      <td>TAX</td>\n",
       "      <td>6</td>\n",
       "    </tr>\n",
       "  </tbody>\n",
       "</table>\n",
       "</div>"
      ],
      "text/plain": [
       "   Atributo  Importancia\n",
       "0      CRIM            1\n",
       "2     INDUS            1\n",
       "3      CHAS            1\n",
       "4       NOX            1\n",
       "5        RM            1\n",
       "7       DIS            1\n",
       "10  PTRATIO            1\n",
       "12    LSTAT            1\n",
       "1        ZN            2\n",
       "6       AGE            3\n",
       "11        B            4\n",
       "8       RAD            5\n",
       "9       TAX            6"
      ]
     },
     "execution_count": 20,
     "metadata": {},
     "output_type": "execute_result"
    }
   ],
   "source": [
    "dfatributos = pd.DataFrame( {'Atributo': dataset.columns[:-1],\n",
    "                              'Importancia': selector.ranking_ })\n",
    "                             \n",
    "dfatributos = dfatributos.sort_values(by='Importancia', ascending=True)\n",
    "dfatributos"
   ]
  },
  {
   "cell_type": "code",
   "execution_count": 26,
   "metadata": {},
   "outputs": [
    {
     "data": {
      "text/plain": [
       "array(['CRIM', 'INDUS', 'CHAS', 'NOX', 'RM', 'DIS', 'PTRATIO', 'LSTAT'],\n",
       "      dtype=object)"
      ]
     },
     "execution_count": 26,
     "metadata": {},
     "output_type": "execute_result"
    }
   ],
   "source": [
    "dfatributos[ dfatributos.Importancia == 1.0 ]['Atributo'].values"
   ]
  },
  {
   "cell_type": "markdown",
   "metadata": {},
   "source": [
    "# Comparação de Modelos"
   ]
  },
  {
   "cell_type": "code",
   "execution_count": 27,
   "metadata": {},
   "outputs": [
    {
     "name": "stdout",
     "output_type": "stream",
     "text": [
      "Modelo com 13 atributos\n",
      "MAE: -4.005 (2.084)\n",
      "MSE: -23.747 (11.143)\n",
      "RMSE: 4.873 \n",
      "R^2: 0.718 (0.099)\n",
      "\n",
      "Modelo com atributos selecionados com RFE\n",
      "MAE: -3.872 (1.752)\n",
      "MSE: -24.967 (11.602)\n",
      "RMSE: 4.997 \n",
      "R^2: 0.701 (0.104)\n"
     ]
    }
   ],
   "source": [
    "print(\"Modelo com 13 atributos\")\n",
    "atributos_selecionados = ['CRIM', 'INDUS', 'CHAS', 'NOX', 'RM', 'DIS', 'PTRATIO', 'LSTAT',\n",
    "       'ZN', 'AGE', 'B', 'RAD', 'TAX']\n",
    "calcula_metricas(dataset, atributos_selecionados)\n",
    "\n",
    "print(\"\\nModelo com atributos selecionados com RFE\")\n",
    "# Seleciona os atributos\n",
    "atributos_selecionados = ['CRIM', 'INDUS', 'CHAS', 'NOX', 'RM', 'DIS', 'PTRATIO', 'LSTAT']\n",
    "       #'ZN', 'AGE', 'B', 'RAD', 'TAX']\n",
    "\n",
    "calcula_metricas(dataset, atributos_selecionados)"
   ]
  },
  {
   "cell_type": "markdown",
   "metadata": {},
   "source": [
    "## Seleção de Atributos -  Seleciona os atributos pela variância"
   ]
  },
  {
   "cell_type": "code",
   "execution_count": 28,
   "metadata": {},
   "outputs": [
    {
     "data": {
      "text/plain": [
       "array([7.38403597e+01, 1.00000000e+02, 2.72800000e+01, 6.43854770e-02,\n",
       "       1.34010989e-02, 4.92695216e-01, 9.71000000e+01, 4.42525226e+00,\n",
       "       2.30000000e+01, 5.24000000e+02, 4.67772630e+00, 3.96580000e+02,\n",
       "       3.62400000e+01])"
      ]
     },
     "execution_count": 28,
     "metadata": {},
     "output_type": "execute_result"
    }
   ],
   "source": [
    "from sklearn.feature_selection import VarianceThreshold\n",
    "\n",
    "selector = VarianceThreshold()\n",
    "selector.fit_transform(X)\n",
    "selector.variances_"
   ]
  },
  {
   "cell_type": "code",
   "execution_count": 29,
   "metadata": {},
   "outputs": [
    {
     "data": {
      "text/html": [
       "<div>\n",
       "<style scoped>\n",
       "    .dataframe tbody tr th:only-of-type {\n",
       "        vertical-align: middle;\n",
       "    }\n",
       "\n",
       "    .dataframe tbody tr th {\n",
       "        vertical-align: top;\n",
       "    }\n",
       "\n",
       "    .dataframe thead th {\n",
       "        text-align: right;\n",
       "    }\n",
       "</style>\n",
       "<table border=\"1\" class=\"dataframe\">\n",
       "  <thead>\n",
       "    <tr style=\"text-align: right;\">\n",
       "      <th></th>\n",
       "      <th>Atributo</th>\n",
       "      <th>Importancia</th>\n",
       "    </tr>\n",
       "  </thead>\n",
       "  <tbody>\n",
       "    <tr>\n",
       "      <th>0</th>\n",
       "      <td>NOX</td>\n",
       "      <td>0.013401</td>\n",
       "    </tr>\n",
       "    <tr>\n",
       "      <th>1</th>\n",
       "      <td>CHAS</td>\n",
       "      <td>0.064385</td>\n",
       "    </tr>\n",
       "    <tr>\n",
       "      <th>2</th>\n",
       "      <td>RM</td>\n",
       "      <td>0.492695</td>\n",
       "    </tr>\n",
       "    <tr>\n",
       "      <th>3</th>\n",
       "      <td>DIS</td>\n",
       "      <td>4.425252</td>\n",
       "    </tr>\n",
       "    <tr>\n",
       "      <th>4</th>\n",
       "      <td>PTRATIO</td>\n",
       "      <td>4.677726</td>\n",
       "    </tr>\n",
       "    <tr>\n",
       "      <th>5</th>\n",
       "      <td>RAD</td>\n",
       "      <td>23.000000</td>\n",
       "    </tr>\n",
       "    <tr>\n",
       "      <th>6</th>\n",
       "      <td>INDUS</td>\n",
       "      <td>27.280000</td>\n",
       "    </tr>\n",
       "    <tr>\n",
       "      <th>7</th>\n",
       "      <td>LSTAT</td>\n",
       "      <td>36.240000</td>\n",
       "    </tr>\n",
       "    <tr>\n",
       "      <th>8</th>\n",
       "      <td>CRIM</td>\n",
       "      <td>73.840360</td>\n",
       "    </tr>\n",
       "    <tr>\n",
       "      <th>9</th>\n",
       "      <td>AGE</td>\n",
       "      <td>97.100000</td>\n",
       "    </tr>\n",
       "    <tr>\n",
       "      <th>10</th>\n",
       "      <td>ZN</td>\n",
       "      <td>100.000000</td>\n",
       "    </tr>\n",
       "    <tr>\n",
       "      <th>11</th>\n",
       "      <td>B</td>\n",
       "      <td>396.580000</td>\n",
       "    </tr>\n",
       "    <tr>\n",
       "      <th>12</th>\n",
       "      <td>TAX</td>\n",
       "      <td>524.000000</td>\n",
       "    </tr>\n",
       "  </tbody>\n",
       "</table>\n",
       "</div>"
      ],
      "text/plain": [
       "   Atributo  Importancia\n",
       "0       NOX     0.013401\n",
       "1      CHAS     0.064385\n",
       "2        RM     0.492695\n",
       "3       DIS     4.425252\n",
       "4   PTRATIO     4.677726\n",
       "5       RAD    23.000000\n",
       "6     INDUS    27.280000\n",
       "7     LSTAT    36.240000\n",
       "8      CRIM    73.840360\n",
       "9       AGE    97.100000\n",
       "10       ZN   100.000000\n",
       "11        B   396.580000\n",
       "12      TAX   524.000000"
      ]
     },
     "execution_count": 29,
     "metadata": {},
     "output_type": "execute_result"
    }
   ],
   "source": [
    "dfatributos2 = pd.DataFrame( {'Atributo': dataset.columns[:-1],\n",
    "                              'Importancia': selector.variances_  })\n",
    "                             \n",
    "dfatributos2 = dfatributos2.sort_values(by='Importancia', ascending=True).reset_index(drop=True)\n",
    "dfatributos2"
   ]
  },
  {
   "cell_type": "code",
   "execution_count": 30,
   "metadata": {},
   "outputs": [
    {
     "data": {
      "text/plain": [
       "array(['NOX', 'CHAS', 'RM', 'DIS', 'PTRATIO', 'RAD', 'INDUS', 'LSTAT',\n",
       "       'CRIM', 'AGE', 'ZN', 'B', 'TAX'], dtype=object)"
      ]
     },
     "execution_count": 30,
     "metadata": {},
     "output_type": "execute_result"
    }
   ],
   "source": [
    "dfatributos2.Atributo.values"
   ]
  },
  {
   "cell_type": "code",
   "execution_count": 31,
   "metadata": {},
   "outputs": [
    {
     "name": "stdout",
     "output_type": "stream",
     "text": [
      "Modelo com 13 atributos\n",
      "MAE: -4.005 (2.084)\n",
      "MSE: -23.747 (11.143)\n",
      "RMSE: 4.873 \n",
      "R^2: 0.718 (0.099)\n",
      "\n",
      "Modelo com atributos selecionados com VarianceThreshold\n",
      "MAE: -4.126 (1.883)\n",
      "MSE: -24.843 (11.326)\n",
      "RMSE: 4.984 \n",
      "R^2: 0.704 (0.101)\n"
     ]
    }
   ],
   "source": [
    "print(\"Modelo com 13 atributos\")\n",
    "atributos_selecionados = ['NOX', 'CHAS', 'RM', 'DIS', 'PTRATIO', 'RAD', 'INDUS', 'LSTAT',\n",
    "       'CRIM', 'AGE', 'ZN', 'B', 'TAX']\n",
    "calcula_metricas(dataset, atributos_selecionados)\n",
    "\n",
    "print(\"\\nModelo com atributos selecionados com VarianceThreshold\")\n",
    "# Seleciona os atributos\n",
    "atributos_selecionados = ['NOX', 'CHAS', 'RM', 'DIS', 'PTRATIO', 'RAD', 'INDUS', 'LSTAT',\n",
    "       'CRIM', 'AGE'] #'ZN', 'B', 'TAX']\n",
    "\n",
    "calcula_metricas(dataset, atributos_selecionados)"
   ]
  },
  {
   "cell_type": "markdown",
   "metadata": {},
   "source": [
    "## Seleção de Atributos - Utilizando Árvores de Decisão "
   ]
  },
  {
   "cell_type": "markdown",
   "metadata": {},
   "source": [
    "Bagged Decision Trees, como o algoritmo RandomForest, podem ser usados para estimar a importância de cada atributo. Esse método retorna um score para cada atributo.\n",
    "\n",
    "Quanto maior o score, maior a importância do atributo."
   ]
  },
  {
   "cell_type": "code",
   "execution_count": 32,
   "metadata": {},
   "outputs": [
    {
     "data": {
      "text/plain": [
       "array([3.69270713e-02, 1.31465313e-04, 2.88823985e-03, 1.29966494e-05,\n",
       "       2.25686487e-02, 4.63482899e-01, 8.54632101e-03, 6.32979552e-02,\n",
       "       2.99235146e-03, 1.18958678e-02, 1.19626946e-02, 8.64256485e-03,\n",
       "       3.66650924e-01])"
      ]
     },
     "execution_count": 32,
     "metadata": {},
     "output_type": "execute_result"
    }
   ],
   "source": [
    "from sklearn.ensemble import RandomForestRegressor\n",
    "\n",
    "clf = RandomForestRegressor(n_estimators=30, max_depth=6)\n",
    "clf = clf.fit(X, y)\n",
    "clf.feature_importances_           "
   ]
  },
  {
   "cell_type": "code",
   "execution_count": 33,
   "metadata": {},
   "outputs": [
    {
     "data": {
      "text/html": [
       "<div>\n",
       "<style scoped>\n",
       "    .dataframe tbody tr th:only-of-type {\n",
       "        vertical-align: middle;\n",
       "    }\n",
       "\n",
       "    .dataframe tbody tr th {\n",
       "        vertical-align: top;\n",
       "    }\n",
       "\n",
       "    .dataframe thead th {\n",
       "        text-align: right;\n",
       "    }\n",
       "</style>\n",
       "<table border=\"1\" class=\"dataframe\">\n",
       "  <thead>\n",
       "    <tr style=\"text-align: right;\">\n",
       "      <th></th>\n",
       "      <th>Atributo</th>\n",
       "      <th>Importancia</th>\n",
       "    </tr>\n",
       "  </thead>\n",
       "  <tbody>\n",
       "    <tr>\n",
       "      <th>5</th>\n",
       "      <td>RM</td>\n",
       "      <td>0.463483</td>\n",
       "    </tr>\n",
       "    <tr>\n",
       "      <th>12</th>\n",
       "      <td>LSTAT</td>\n",
       "      <td>0.366651</td>\n",
       "    </tr>\n",
       "    <tr>\n",
       "      <th>7</th>\n",
       "      <td>DIS</td>\n",
       "      <td>0.063298</td>\n",
       "    </tr>\n",
       "    <tr>\n",
       "      <th>0</th>\n",
       "      <td>CRIM</td>\n",
       "      <td>0.036927</td>\n",
       "    </tr>\n",
       "    <tr>\n",
       "      <th>4</th>\n",
       "      <td>NOX</td>\n",
       "      <td>0.022569</td>\n",
       "    </tr>\n",
       "    <tr>\n",
       "      <th>10</th>\n",
       "      <td>PTRATIO</td>\n",
       "      <td>0.011963</td>\n",
       "    </tr>\n",
       "    <tr>\n",
       "      <th>9</th>\n",
       "      <td>TAX</td>\n",
       "      <td>0.011896</td>\n",
       "    </tr>\n",
       "    <tr>\n",
       "      <th>11</th>\n",
       "      <td>B</td>\n",
       "      <td>0.008643</td>\n",
       "    </tr>\n",
       "    <tr>\n",
       "      <th>6</th>\n",
       "      <td>AGE</td>\n",
       "      <td>0.008546</td>\n",
       "    </tr>\n",
       "    <tr>\n",
       "      <th>8</th>\n",
       "      <td>RAD</td>\n",
       "      <td>0.002992</td>\n",
       "    </tr>\n",
       "    <tr>\n",
       "      <th>2</th>\n",
       "      <td>INDUS</td>\n",
       "      <td>0.002888</td>\n",
       "    </tr>\n",
       "    <tr>\n",
       "      <th>1</th>\n",
       "      <td>ZN</td>\n",
       "      <td>0.000131</td>\n",
       "    </tr>\n",
       "    <tr>\n",
       "      <th>3</th>\n",
       "      <td>CHAS</td>\n",
       "      <td>0.000013</td>\n",
       "    </tr>\n",
       "  </tbody>\n",
       "</table>\n",
       "</div>"
      ],
      "text/plain": [
       "   Atributo  Importancia\n",
       "5        RM     0.463483\n",
       "12    LSTAT     0.366651\n",
       "7       DIS     0.063298\n",
       "0      CRIM     0.036927\n",
       "4       NOX     0.022569\n",
       "10  PTRATIO     0.011963\n",
       "9       TAX     0.011896\n",
       "11        B     0.008643\n",
       "6       AGE     0.008546\n",
       "8       RAD     0.002992\n",
       "2     INDUS     0.002888\n",
       "1        ZN     0.000131\n",
       "3      CHAS     0.000013"
      ]
     },
     "execution_count": 33,
     "metadata": {},
     "output_type": "execute_result"
    }
   ],
   "source": [
    "dfatributos3 = pd.DataFrame( {'Atributo': dataset.columns[:-1],\n",
    "                              'Importancia': clf.feature_importances_  })\n",
    "                             \n",
    "dfatributos3 = dfatributos3.sort_values(by='Importancia', ascending=False)\n",
    "dfatributos3"
   ]
  },
  {
   "cell_type": "markdown",
   "metadata": {},
   "source": [
    "# Atividade 1-A: Criar o modelo e as métricas, comparando com o modelo original"
   ]
  },
  {
   "cell_type": "code",
   "execution_count": null,
   "metadata": {},
   "outputs": [],
   "source": []
  },
  {
   "cell_type": "markdown",
   "metadata": {},
   "source": [
    "## Seleção de Atributos - Extra Trees Classifier"
   ]
  },
  {
   "cell_type": "code",
   "execution_count": 34,
   "metadata": {},
   "outputs": [
    {
     "name": "stdout",
     "output_type": "stream",
     "text": [
      "[0.03152993 0.00358358 0.04165332 0.01328916 0.04038686 0.32114342\n",
      " 0.01932855 0.03539281 0.02073321 0.03606272 0.04498046 0.0181595\n",
      " 0.37375645]\n"
     ]
    }
   ],
   "source": [
    "# Feature Importance with Extra Trees Classifier\n",
    "\n",
    "from sklearn.ensemble import ExtraTreesRegressor\n",
    "\n",
    "# feature extraction\n",
    "model = ExtraTreesRegressor()\n",
    "model.fit(X, y)\n",
    "print(model.feature_importances_)"
   ]
  },
  {
   "cell_type": "code",
   "execution_count": 35,
   "metadata": {},
   "outputs": [
    {
     "data": {
      "text/html": [
       "<div>\n",
       "<style scoped>\n",
       "    .dataframe tbody tr th:only-of-type {\n",
       "        vertical-align: middle;\n",
       "    }\n",
       "\n",
       "    .dataframe tbody tr th {\n",
       "        vertical-align: top;\n",
       "    }\n",
       "\n",
       "    .dataframe thead th {\n",
       "        text-align: right;\n",
       "    }\n",
       "</style>\n",
       "<table border=\"1\" class=\"dataframe\">\n",
       "  <thead>\n",
       "    <tr style=\"text-align: right;\">\n",
       "      <th></th>\n",
       "      <th>Atributo</th>\n",
       "      <th>Importancia</th>\n",
       "    </tr>\n",
       "  </thead>\n",
       "  <tbody>\n",
       "    <tr>\n",
       "      <th>0</th>\n",
       "      <td>RM</td>\n",
       "      <td>0.463483</td>\n",
       "    </tr>\n",
       "    <tr>\n",
       "      <th>1</th>\n",
       "      <td>LSTAT</td>\n",
       "      <td>0.366651</td>\n",
       "    </tr>\n",
       "    <tr>\n",
       "      <th>2</th>\n",
       "      <td>DIS</td>\n",
       "      <td>0.063298</td>\n",
       "    </tr>\n",
       "    <tr>\n",
       "      <th>3</th>\n",
       "      <td>CRIM</td>\n",
       "      <td>0.036927</td>\n",
       "    </tr>\n",
       "    <tr>\n",
       "      <th>4</th>\n",
       "      <td>NOX</td>\n",
       "      <td>0.022569</td>\n",
       "    </tr>\n",
       "    <tr>\n",
       "      <th>5</th>\n",
       "      <td>PTRATIO</td>\n",
       "      <td>0.011963</td>\n",
       "    </tr>\n",
       "    <tr>\n",
       "      <th>6</th>\n",
       "      <td>TAX</td>\n",
       "      <td>0.011896</td>\n",
       "    </tr>\n",
       "    <tr>\n",
       "      <th>7</th>\n",
       "      <td>B</td>\n",
       "      <td>0.008643</td>\n",
       "    </tr>\n",
       "    <tr>\n",
       "      <th>8</th>\n",
       "      <td>AGE</td>\n",
       "      <td>0.008546</td>\n",
       "    </tr>\n",
       "    <tr>\n",
       "      <th>9</th>\n",
       "      <td>RAD</td>\n",
       "      <td>0.002992</td>\n",
       "    </tr>\n",
       "    <tr>\n",
       "      <th>10</th>\n",
       "      <td>INDUS</td>\n",
       "      <td>0.002888</td>\n",
       "    </tr>\n",
       "    <tr>\n",
       "      <th>11</th>\n",
       "      <td>ZN</td>\n",
       "      <td>0.000131</td>\n",
       "    </tr>\n",
       "    <tr>\n",
       "      <th>12</th>\n",
       "      <td>CHAS</td>\n",
       "      <td>0.000013</td>\n",
       "    </tr>\n",
       "  </tbody>\n",
       "</table>\n",
       "</div>"
      ],
      "text/plain": [
       "   Atributo  Importancia\n",
       "0        RM     0.463483\n",
       "1     LSTAT     0.366651\n",
       "2       DIS     0.063298\n",
       "3      CRIM     0.036927\n",
       "4       NOX     0.022569\n",
       "5   PTRATIO     0.011963\n",
       "6       TAX     0.011896\n",
       "7         B     0.008643\n",
       "8       AGE     0.008546\n",
       "9       RAD     0.002992\n",
       "10    INDUS     0.002888\n",
       "11       ZN     0.000131\n",
       "12     CHAS     0.000013"
      ]
     },
     "execution_count": 35,
     "metadata": {},
     "output_type": "execute_result"
    }
   ],
   "source": [
    "dfatributos4 = pd.DataFrame( {'Atributo': dataset.columns[:-1],\n",
    "                              'Importancia': model.feature_importances_ })\n",
    "                             \n",
    "dfatributos4 = dfatributos3.sort_values(by='Importancia', ascending=False).reset_index(drop=True)\n",
    "dfatributos4"
   ]
  },
  {
   "cell_type": "code",
   "execution_count": 36,
   "metadata": {},
   "outputs": [
    {
     "name": "stdout",
     "output_type": "stream",
     "text": [
      "MAE: -4.149 (2.069)\n",
      "MSE: -26.130 (12.988)\n",
      "RMSE: 5.112 \n",
      "R^2: 0.692 (0.112)\n"
     ]
    }
   ],
   "source": [
    "# Seleciona os atributos\n",
    "atributos_selecionados = ['CRIM', 'ZN', 'INDUS', 'CHAS', 'NOX', 'RM', # 'DIS', \n",
    "                              'RAD', 'TAX', 'PTRATIO', 'B', 'LSTAT'] # 'AGE',\n",
    "\n",
    "calcula_metricas(dataset, atributos_selecionados)"
   ]
  },
  {
   "cell_type": "markdown",
   "metadata": {},
   "source": [
    "# Atividade 1-B: Criar o modelo e as métricas, comparando com o modelo original"
   ]
  },
  {
   "cell_type": "code",
   "execution_count": null,
   "metadata": {},
   "outputs": [],
   "source": []
  }
 ],
 "metadata": {
  "kernelspec": {
   "display_name": "Python 3 (ipykernel)",
   "language": "python",
   "name": "python3"
  },
  "language_info": {
   "codemirror_mode": {
    "name": "ipython",
    "version": 3
   },
   "file_extension": ".py",
   "mimetype": "text/x-python",
   "name": "python",
   "nbconvert_exporter": "python",
   "pygments_lexer": "ipython3",
   "version": "3.9.13"
  }
 },
 "nbformat": 4,
 "nbformat_minor": 2
}
