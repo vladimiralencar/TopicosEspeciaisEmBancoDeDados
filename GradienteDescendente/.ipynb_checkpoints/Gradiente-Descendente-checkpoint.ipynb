version https://git-lfs.github.com/spec/v1
oid sha256:2af8902c63a40b4f583bfc1a02fe36fff06cca94517ade67411d4236be32bcc2
size 637850
