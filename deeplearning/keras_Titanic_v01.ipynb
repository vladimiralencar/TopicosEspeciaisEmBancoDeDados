{
  "nbformat": 4,
  "nbformat_minor": 0,
  "metadata": {
    "colab": {
      "name": "keras-Titanic-v01.ipynb",
      "version": "0.3.2",
      "provenance": [],
      "collapsed_sections": [],
      "include_colab_link": true
    },
    "kernelspec": {
      "name": "python3",
      "display_name": "Python 3"
    },
    "accelerator": "GPU"
  },
  "cells": [
    {
      "cell_type": "markdown",
      "metadata": {
        "id": "view-in-github",
        "colab_type": "text"
      },
      "source": [
        "<a href=\"https://colab.research.google.com/github/vladimiralencar/Alunos-UEPB-TopicosEspeciaisEmBancoDeDados/blob/master/deeplearning/keras_Titanic_v01.ipynb\" target=\"_parent\"><img src=\"https://colab.research.google.com/assets/colab-badge.svg\" alt=\"Open In Colab\"/></a>"
      ]
    },
    {
      "cell_type": "markdown",
      "metadata": {
        "id": "j9ZClbKoXgQL",
        "colab_type": "text"
      },
      "source": [
        "## Verifica se a GPU está ativa"
      ]
    },
    {
      "cell_type": "code",
      "metadata": {
        "id": "3n3QNoHgTEGd",
        "colab_type": "code",
        "colab": {
          "base_uri": "https://localhost:8080/",
          "height": 306
        },
        "outputId": "898cc996-e059-4046-bfae-99ab516bbbcf"
      },
      "source": [
        "!nvidia-smi"
      ],
      "execution_count": 1,
      "outputs": [
        {
          "output_type": "stream",
          "text": [
            "Mon Jun 24 20:29:19 2019       \n",
            "+-----------------------------------------------------------------------------+\n",
            "| NVIDIA-SMI 418.67       Driver Version: 410.79       CUDA Version: 10.0     |\n",
            "|-------------------------------+----------------------+----------------------+\n",
            "| GPU  Name        Persistence-M| Bus-Id        Disp.A | Volatile Uncorr. ECC |\n",
            "| Fan  Temp  Perf  Pwr:Usage/Cap|         Memory-Usage | GPU-Util  Compute M. |\n",
            "|===============================+======================+======================|\n",
            "|   0  Tesla K80           Off  | 00000000:00:04.0 Off |                    0 |\n",
            "| N/A   46C    P8    32W / 149W |      0MiB / 11441MiB |      0%      Default |\n",
            "+-------------------------------+----------------------+----------------------+\n",
            "                                                                               \n",
            "+-----------------------------------------------------------------------------+\n",
            "| Processes:                                                       GPU Memory |\n",
            "|  GPU       PID   Type   Process name                             Usage      |\n",
            "|=============================================================================|\n",
            "|  No running processes found                                                 |\n",
            "+-----------------------------------------------------------------------------+\n"
          ],
          "name": "stdout"
        }
      ]
    },
    {
      "cell_type": "markdown",
      "metadata": {
        "id": "LRm_qQXJS-fd",
        "colab_type": "text"
      },
      "source": [
        "# Construindo uma Rede Neural - Titanic"
      ]
    },
    {
      "cell_type": "code",
      "metadata": {
        "id": "T7b7FUZES-ff",
        "colab_type": "code",
        "colab": {}
      },
      "source": [
        "import numpy as np\n",
        "import pandas as pd\n",
        "from sklearn.preprocessing import StandardScaler\n",
        "from time import time"
      ],
      "execution_count": 0,
      "outputs": []
    },
    {
      "cell_type": "code",
      "metadata": {
        "id": "KB-242VxeYfF",
        "colab_type": "code",
        "colab": {}
      },
      "source": [
        "#!python -m pip install --upgrade https://storage.googleapis.com/tensorflow/mac/cpu/tensorflow-1.12.0-py3-none-any.whl\n",
        "#!pip install keras"
      ],
      "execution_count": 0,
      "outputs": []
    },
    {
      "cell_type": "code",
      "metadata": {
        "id": "-QzeEtYTS-fk",
        "colab_type": "code",
        "colab": {}
      },
      "source": [
        "np.random.seed(1337)"
      ],
      "execution_count": 0,
      "outputs": []
    },
    {
      "cell_type": "code",
      "metadata": {
        "id": "dJzeC8CWTRIh",
        "colab_type": "code",
        "colab": {
          "base_uri": "https://localhost:8080/",
          "height": 1000
        },
        "outputId": "f4526280-9c53-464c-8d24-f8b73d360ea1"
      },
      "source": [
        "# leitura dos dados\n",
        "#from google.colab import files\n",
        "#uploaded = files.upload()\n",
        "!wget https://github.com/vladimiralencar/DeepLearning-LANA/raw/master/keras/titanic.csv\n",
        "!wget https://github.com/vladimiralencar/DeepLearning-LANA/raw/master/keras/titanic_test.csv\n",
        "!wget https://github.com/vladimiralencar/DeepLearning-LANA/raw/master/keras/titanic_train.csv\n",
        "!wget https://github.com/vladimiralencar/DeepLearning-LANA/raw/master/keras/titanic_gender_submission.csv"
      ],
      "execution_count": 4,
      "outputs": [
        {
          "output_type": "stream",
          "text": [
            "--2019-06-24 20:29:41--  https://github.com/vladimiralencar/DeepLearning-LANA/raw/master/keras/titanic.csv\n",
            "Resolving github.com (github.com)... 192.30.253.112\n",
            "Connecting to github.com (github.com)|192.30.253.112|:443... connected.\n",
            "HTTP request sent, awaiting response... 302 Found\n",
            "Location: https://raw.githubusercontent.com/vladimiralencar/DeepLearning-LANA/master/keras/titanic.csv [following]\n",
            "--2019-06-24 20:29:42--  https://raw.githubusercontent.com/vladimiralencar/DeepLearning-LANA/master/keras/titanic.csv\n",
            "Resolving raw.githubusercontent.com (raw.githubusercontent.com)... 151.101.0.133, 151.101.64.133, 151.101.128.133, ...\n",
            "Connecting to raw.githubusercontent.com (raw.githubusercontent.com)|151.101.0.133|:443... connected.\n",
            "HTTP request sent, awaiting response... 200 OK\n",
            "Length: 16816 (16K) [text/plain]\n",
            "Saving to: ‘titanic.csv’\n",
            "\n",
            "titanic.csv         100%[===================>]  16.42K  --.-KB/s    in 0.01s   \n",
            "\n",
            "2019-06-24 20:29:42 (1.33 MB/s) - ‘titanic.csv’ saved [16816/16816]\n",
            "\n",
            "--2019-06-24 20:29:44--  https://github.com/vladimiralencar/DeepLearning-LANA/raw/master/keras/titanic_test.csv\n",
            "Resolving github.com (github.com)... 192.30.253.112\n",
            "Connecting to github.com (github.com)|192.30.253.112|:443... connected.\n",
            "HTTP request sent, awaiting response... 302 Found\n",
            "Location: https://raw.githubusercontent.com/vladimiralencar/DeepLearning-LANA/master/keras/titanic_test.csv [following]\n",
            "--2019-06-24 20:29:45--  https://raw.githubusercontent.com/vladimiralencar/DeepLearning-LANA/master/keras/titanic_test.csv\n",
            "Resolving raw.githubusercontent.com (raw.githubusercontent.com)... 151.101.0.133, 151.101.64.133, 151.101.128.133, ...\n",
            "Connecting to raw.githubusercontent.com (raw.githubusercontent.com)|151.101.0.133|:443... connected.\n",
            "HTTP request sent, awaiting response... 200 OK\n",
            "Length: 28629 (28K) [text/plain]\n",
            "Saving to: ‘titanic_test.csv’\n",
            "\n",
            "titanic_test.csv    100%[===================>]  27.96K  --.-KB/s    in 0.01s   \n",
            "\n",
            "2019-06-24 20:29:45 (2.22 MB/s) - ‘titanic_test.csv’ saved [28629/28629]\n",
            "\n",
            "--2019-06-24 20:29:48--  https://github.com/vladimiralencar/DeepLearning-LANA/raw/master/keras/titanic_train.csv\n",
            "Resolving github.com (github.com)... 192.30.253.112\n",
            "Connecting to github.com (github.com)|192.30.253.112|:443... connected.\n",
            "HTTP request sent, awaiting response... 302 Found\n",
            "Location: https://raw.githubusercontent.com/vladimiralencar/DeepLearning-LANA/master/keras/titanic_train.csv [following]\n",
            "--2019-06-24 20:29:49--  https://raw.githubusercontent.com/vladimiralencar/DeepLearning-LANA/master/keras/titanic_train.csv\n",
            "Resolving raw.githubusercontent.com (raw.githubusercontent.com)... 151.101.0.133, 151.101.64.133, 151.101.128.133, ...\n",
            "Connecting to raw.githubusercontent.com (raw.githubusercontent.com)|151.101.0.133|:443... connected.\n",
            "HTTP request sent, awaiting response... 200 OK\n",
            "Length: 61194 (60K) [text/plain]\n",
            "Saving to: ‘titanic_train.csv’\n",
            "\n",
            "titanic_train.csv   100%[===================>]  59.76K  --.-KB/s    in 0.02s   \n",
            "\n",
            "2019-06-24 20:29:49 (2.44 MB/s) - ‘titanic_train.csv’ saved [61194/61194]\n",
            "\n",
            "--2019-06-24 20:29:51--  https://github.com/vladimiralencar/DeepLearning-LANA/raw/master/keras/titanic_gender_submission.csv\n",
            "Resolving github.com (github.com)... 192.30.253.112\n",
            "Connecting to github.com (github.com)|192.30.253.112|:443... connected.\n",
            "HTTP request sent, awaiting response... 302 Found\n",
            "Location: https://raw.githubusercontent.com/vladimiralencar/DeepLearning-LANA/master/keras/titanic_gender_submission.csv [following]\n",
            "--2019-06-24 20:29:52--  https://raw.githubusercontent.com/vladimiralencar/DeepLearning-LANA/master/keras/titanic_gender_submission.csv\n",
            "Resolving raw.githubusercontent.com (raw.githubusercontent.com)... 151.101.0.133, 151.101.64.133, 151.101.128.133, ...\n",
            "Connecting to raw.githubusercontent.com (raw.githubusercontent.com)|151.101.0.133|:443... connected.\n",
            "HTTP request sent, awaiting response... 200 OK\n",
            "Length: 3258 (3.2K) [text/plain]\n",
            "Saving to: ‘titanic_gender_submission.csv’\n",
            "\n",
            "titanic_gender_subm 100%[===================>]   3.18K  --.-KB/s    in 0s      \n",
            "\n",
            "2019-06-24 20:29:52 (78.0 MB/s) - ‘titanic_gender_submission.csv’ saved [3258/3258]\n",
            "\n"
          ],
          "name": "stdout"
        }
      ]
    },
    {
      "cell_type": "code",
      "metadata": {
        "id": "3DI4oLlRThQq",
        "colab_type": "code",
        "colab": {
          "base_uri": "https://localhost:8080/",
          "height": 51
        },
        "outputId": "4e416d9d-6b1c-4bf2-f194-b4251b1843b3"
      },
      "source": [
        "!ls"
      ],
      "execution_count": 5,
      "outputs": [
        {
          "output_type": "stream",
          "text": [
            "sample_data  titanic_gender_submission.csv  titanic_train.csv\n",
            "titanic.csv  titanic_test.csv\n"
          ],
          "name": "stdout"
        }
      ]
    },
    {
      "cell_type": "code",
      "metadata": {
        "id": "IE2GBzEUTf0U",
        "colab_type": "code",
        "colab": {}
      },
      "source": [
        "#import io\n",
        "#df2 = pd.read_csv(io.StringIO(uploaded['Filename.csv']))"
      ],
      "execution_count": 0,
      "outputs": []
    },
    {
      "cell_type": "code",
      "metadata": {
        "id": "QP-4E2LfS-fn",
        "colab_type": "code",
        "colab": {}
      },
      "source": [
        "# folder_titan = '/media/datasets/DeepLearningI/Cap02/titanic.csv'\n",
        "df = pd.read_csv('titanic.csv')"
      ],
      "execution_count": 0,
      "outputs": []
    },
    {
      "cell_type": "code",
      "metadata": {
        "id": "PJBgAVLpS-fq",
        "colab_type": "code",
        "colab": {
          "base_uri": "https://localhost:8080/",
          "height": 204
        },
        "outputId": "2e463c09-2b6d-42b5-9ba7-2fc117f250d5"
      },
      "source": [
        "df.head()"
      ],
      "execution_count": 7,
      "outputs": [
        {
          "output_type": "execute_result",
          "data": {
            "text/html": [
              "<div>\n",
              "<style scoped>\n",
              "    .dataframe tbody tr th:only-of-type {\n",
              "        vertical-align: middle;\n",
              "    }\n",
              "\n",
              "    .dataframe tbody tr th {\n",
              "        vertical-align: top;\n",
              "    }\n",
              "\n",
              "    .dataframe thead th {\n",
              "        text-align: right;\n",
              "    }\n",
              "</style>\n",
              "<table border=\"1\" class=\"dataframe\">\n",
              "  <thead>\n",
              "    <tr style=\"text-align: right;\">\n",
              "      <th></th>\n",
              "      <th>Survived</th>\n",
              "      <th>Class</th>\n",
              "      <th>Sex</th>\n",
              "      <th>Age</th>\n",
              "      <th>Fare</th>\n",
              "    </tr>\n",
              "  </thead>\n",
              "  <tbody>\n",
              "    <tr>\n",
              "      <th>0</th>\n",
              "      <td>0</td>\n",
              "      <td>3</td>\n",
              "      <td>1</td>\n",
              "      <td>22.0</td>\n",
              "      <td>7.2500</td>\n",
              "    </tr>\n",
              "    <tr>\n",
              "      <th>1</th>\n",
              "      <td>1</td>\n",
              "      <td>1</td>\n",
              "      <td>0</td>\n",
              "      <td>38.0</td>\n",
              "      <td>71.2833</td>\n",
              "    </tr>\n",
              "    <tr>\n",
              "      <th>2</th>\n",
              "      <td>1</td>\n",
              "      <td>3</td>\n",
              "      <td>0</td>\n",
              "      <td>26.0</td>\n",
              "      <td>7.9250</td>\n",
              "    </tr>\n",
              "    <tr>\n",
              "      <th>3</th>\n",
              "      <td>1</td>\n",
              "      <td>1</td>\n",
              "      <td>0</td>\n",
              "      <td>35.0</td>\n",
              "      <td>53.1000</td>\n",
              "    </tr>\n",
              "    <tr>\n",
              "      <th>4</th>\n",
              "      <td>0</td>\n",
              "      <td>3</td>\n",
              "      <td>1</td>\n",
              "      <td>35.0</td>\n",
              "      <td>8.0500</td>\n",
              "    </tr>\n",
              "  </tbody>\n",
              "</table>\n",
              "</div>"
            ],
            "text/plain": [
              "   Survived  Class  Sex   Age     Fare\n",
              "0         0      3    1  22.0   7.2500\n",
              "1         1      1    0  38.0  71.2833\n",
              "2         1      3    0  26.0   7.9250\n",
              "3         1      1    0  35.0  53.1000\n",
              "4         0      3    1  35.0   8.0500"
            ]
          },
          "metadata": {
            "tags": []
          },
          "execution_count": 7
        }
      ]
    },
    {
      "cell_type": "code",
      "metadata": {
        "id": "TGWayhb6S-fs",
        "colab_type": "code",
        "colab": {
          "base_uri": "https://localhost:8080/",
          "height": 34
        },
        "outputId": "02acfc71-9534-40eb-f957-a7497173e6f2"
      },
      "source": [
        "len(df)"
      ],
      "execution_count": 8,
      "outputs": [
        {
          "output_type": "execute_result",
          "data": {
            "text/plain": [
              "891"
            ]
          },
          "metadata": {
            "tags": []
          },
          "execution_count": 8
        }
      ]
    },
    {
      "cell_type": "code",
      "metadata": {
        "id": "hlJbHkcIS-fv",
        "colab_type": "code",
        "colab": {
          "base_uri": "https://localhost:8080/",
          "height": 204
        },
        "outputId": "5b95b606-5745-473b-b2d4-f46b76f64653"
      },
      "source": [
        "df_train = df.iloc[:712, :]\n",
        "\n",
        "df_train.head()"
      ],
      "execution_count": 9,
      "outputs": [
        {
          "output_type": "execute_result",
          "data": {
            "text/html": [
              "<div>\n",
              "<style scoped>\n",
              "    .dataframe tbody tr th:only-of-type {\n",
              "        vertical-align: middle;\n",
              "    }\n",
              "\n",
              "    .dataframe tbody tr th {\n",
              "        vertical-align: top;\n",
              "    }\n",
              "\n",
              "    .dataframe thead th {\n",
              "        text-align: right;\n",
              "    }\n",
              "</style>\n",
              "<table border=\"1\" class=\"dataframe\">\n",
              "  <thead>\n",
              "    <tr style=\"text-align: right;\">\n",
              "      <th></th>\n",
              "      <th>Survived</th>\n",
              "      <th>Class</th>\n",
              "      <th>Sex</th>\n",
              "      <th>Age</th>\n",
              "      <th>Fare</th>\n",
              "    </tr>\n",
              "  </thead>\n",
              "  <tbody>\n",
              "    <tr>\n",
              "      <th>0</th>\n",
              "      <td>0</td>\n",
              "      <td>3</td>\n",
              "      <td>1</td>\n",
              "      <td>22.0</td>\n",
              "      <td>7.2500</td>\n",
              "    </tr>\n",
              "    <tr>\n",
              "      <th>1</th>\n",
              "      <td>1</td>\n",
              "      <td>1</td>\n",
              "      <td>0</td>\n",
              "      <td>38.0</td>\n",
              "      <td>71.2833</td>\n",
              "    </tr>\n",
              "    <tr>\n",
              "      <th>2</th>\n",
              "      <td>1</td>\n",
              "      <td>3</td>\n",
              "      <td>0</td>\n",
              "      <td>26.0</td>\n",
              "      <td>7.9250</td>\n",
              "    </tr>\n",
              "    <tr>\n",
              "      <th>3</th>\n",
              "      <td>1</td>\n",
              "      <td>1</td>\n",
              "      <td>0</td>\n",
              "      <td>35.0</td>\n",
              "      <td>53.1000</td>\n",
              "    </tr>\n",
              "    <tr>\n",
              "      <th>4</th>\n",
              "      <td>0</td>\n",
              "      <td>3</td>\n",
              "      <td>1</td>\n",
              "      <td>35.0</td>\n",
              "      <td>8.0500</td>\n",
              "    </tr>\n",
              "  </tbody>\n",
              "</table>\n",
              "</div>"
            ],
            "text/plain": [
              "   Survived  Class  Sex   Age     Fare\n",
              "0         0      3    1  22.0   7.2500\n",
              "1         1      1    0  38.0  71.2833\n",
              "2         1      3    0  26.0   7.9250\n",
              "3         1      1    0  35.0  53.1000\n",
              "4         0      3    1  35.0   8.0500"
            ]
          },
          "metadata": {
            "tags": []
          },
          "execution_count": 9
        }
      ]
    },
    {
      "cell_type": "code",
      "metadata": {
        "id": "oUCXQt4LS-fy",
        "colab_type": "code",
        "colab": {}
      },
      "source": [
        "scaler = StandardScaler()\n",
        "features = ['Class', 'Sex', 'Age', 'Fare']\n",
        "\n",
        "X_train = scaler.fit_transform(df_train[features].values)\n",
        "y_train = df_train['Survived'].values\n",
        "y_train_onehot = pd.get_dummies(df_train['Survived']).values"
      ],
      "execution_count": 0,
      "outputs": []
    },
    {
      "cell_type": "code",
      "metadata": {
        "id": "9697PhbdS-f1",
        "colab_type": "code",
        "colab": {
          "base_uri": "https://localhost:8080/",
          "height": 102
        },
        "outputId": "5feac6f7-0195-442d-f029-8ca194c13973"
      },
      "source": [
        "X_train[:5]"
      ],
      "execution_count": 11,
      "outputs": [
        {
          "output_type": "execute_result",
          "data": {
            "text/plain": [
              "array([[ 0.83290956,  0.74926865, -0.61259594, -0.51933199],\n",
              "       [-1.55353553, -1.33463478,  0.6184268 ,  0.79718222],\n",
              "       [ 0.83290956, -1.33463478, -0.30484025, -0.5054541 ],\n",
              "       [-1.55353553, -1.33463478,  0.38761004,  0.42333654],\n",
              "       [ 0.83290956,  0.74926865,  0.38761004, -0.50288412]])"
            ]
          },
          "metadata": {
            "tags": []
          },
          "execution_count": 11
        }
      ]
    },
    {
      "cell_type": "code",
      "metadata": {
        "id": "ANMSAd-aS-f4",
        "colab_type": "code",
        "colab": {
          "base_uri": "https://localhost:8080/",
          "height": 68
        },
        "outputId": "58bab378-4c59-46c8-ddb8-f2980bda0e42"
      },
      "source": [
        "y_train_onehot[:3]"
      ],
      "execution_count": 12,
      "outputs": [
        {
          "output_type": "execute_result",
          "data": {
            "text/plain": [
              "array([[1, 0],\n",
              "       [0, 1],\n",
              "       [0, 1]], dtype=uint8)"
            ]
          },
          "metadata": {
            "tags": []
          },
          "execution_count": 12
        }
      ]
    },
    {
      "cell_type": "code",
      "metadata": {
        "id": "83lsGHOHS-f8",
        "colab_type": "code",
        "colab": {}
      },
      "source": [
        "df_test = df.iloc[712:, :]\n",
        "\n",
        "X_test = scaler.transform(df_test[features].values)\n",
        "y_test = df_test['Survived'].values"
      ],
      "execution_count": 0,
      "outputs": []
    },
    {
      "cell_type": "code",
      "metadata": {
        "id": "cUP2qngoS-f-",
        "colab_type": "code",
        "colab": {
          "base_uri": "https://localhost:8080/",
          "height": 102
        },
        "outputId": "5c1ef8aa-29e1-4c8d-b0e3-c2bf945030da"
      },
      "source": [
        "np.set_printoptions(precision=5, suppress=True)\n",
        "X_train[:5]"
      ],
      "execution_count": 14,
      "outputs": [
        {
          "output_type": "execute_result",
          "data": {
            "text/plain": [
              "array([[ 0.83291,  0.74927, -0.6126 , -0.51933],\n",
              "       [-1.55354, -1.33463,  0.61843,  0.79718],\n",
              "       [ 0.83291, -1.33463, -0.30484, -0.50545],\n",
              "       [-1.55354, -1.33463,  0.38761,  0.42334],\n",
              "       [ 0.83291,  0.74927,  0.38761, -0.50288]])"
            ]
          },
          "metadata": {
            "tags": []
          },
          "execution_count": 14
        }
      ]
    },
    {
      "cell_type": "code",
      "metadata": {
        "id": "Vo5MUXUgS-gC",
        "colab_type": "code",
        "colab": {
          "base_uri": "https://localhost:8080/",
          "height": 34
        },
        "outputId": "2e4793f0-4427-4084-d5e4-5b02dd410956"
      },
      "source": [
        "y_train[:5]"
      ],
      "execution_count": 15,
      "outputs": [
        {
          "output_type": "execute_result",
          "data": {
            "text/plain": [
              "array([0, 1, 1, 1, 0])"
            ]
          },
          "metadata": {
            "tags": []
          },
          "execution_count": 15
        }
      ]
    },
    {
      "cell_type": "markdown",
      "metadata": {
        "collapsed": true,
        "id": "Pv8s_cDrS-gF",
        "colab_type": "text"
      },
      "source": [
        "## Criando um Modelo de Árvore de Decisão ( Benchmark)"
      ]
    },
    {
      "cell_type": "code",
      "metadata": {
        "id": "IyfpUzAOS-gF",
        "colab_type": "code",
        "colab": {
          "base_uri": "https://localhost:8080/",
          "height": 411
        },
        "outputId": "01c41fe5-233c-49a4-8601-7ef7426de512"
      },
      "source": [
        "from sklearn.ensemble import RandomForestClassifier\n",
        "\n",
        "model = RandomForestClassifier(random_state=0, verbose=3)\n",
        "model = model.fit(X_train, df_train['Survived'].values)\n",
        "\n",
        "y_prediction = model.predict(X_test)\n",
        "print (\"\\nAcurácia\", np.sum(y_prediction == y_test) / float(len(y_test)))"
      ],
      "execution_count": 16,
      "outputs": [
        {
          "output_type": "stream",
          "text": [
            "building tree 1 of 10\n",
            "building tree 2 of 10\n",
            "building tree 3 of 10\n",
            "building tree 4 of 10\n",
            "building tree 5 of 10\n",
            "building tree 6 of 10\n",
            "building tree 7 of 10\n",
            "building tree 8 of 10\n",
            "building tree 9 of 10\n",
            "building tree 10 of 10\n",
            "\n",
            "Acurácia 0.8100558659217877\n"
          ],
          "name": "stdout"
        },
        {
          "output_type": "stream",
          "text": [
            "/usr/local/lib/python3.6/dist-packages/sklearn/ensemble/forest.py:245: FutureWarning: The default value of n_estimators will change from 10 in version 0.20 to 100 in 0.22.\n",
            "  \"10 in version 0.20 to 100 in 0.22.\", FutureWarning)\n",
            "[Parallel(n_jobs=1)]: Using backend SequentialBackend with 1 concurrent workers.\n",
            "[Parallel(n_jobs=1)]: Done   1 out of   1 | elapsed:    0.0s remaining:    0.0s\n",
            "[Parallel(n_jobs=1)]: Done   2 out of   2 | elapsed:    0.0s remaining:    0.0s\n",
            "[Parallel(n_jobs=1)]: Done  10 out of  10 | elapsed:    0.0s finished\n",
            "[Parallel(n_jobs=1)]: Using backend SequentialBackend with 1 concurrent workers.\n",
            "[Parallel(n_jobs=1)]: Done   1 out of   1 | elapsed:    0.0s remaining:    0.0s\n",
            "[Parallel(n_jobs=1)]: Done   2 out of   2 | elapsed:    0.0s remaining:    0.0s\n",
            "[Parallel(n_jobs=1)]: Done  10 out of  10 | elapsed:    0.0s finished\n"
          ],
          "name": "stderr"
        }
      ]
    },
    {
      "cell_type": "markdown",
      "metadata": {
        "collapsed": true,
        "id": "ZzSamTF_S-gJ",
        "colab_type": "text"
      },
      "source": [
        "## Rede Neural com 1 Camada"
      ]
    },
    {
      "cell_type": "code",
      "metadata": {
        "id": "NVphaqNhS-gJ",
        "colab_type": "code",
        "colab": {
          "base_uri": "https://localhost:8080/",
          "height": 85
        },
        "outputId": "42b6f8d6-f962-410e-ef85-974582ce3925"
      },
      "source": [
        "print(features)\n",
        "X_train[:3]"
      ],
      "execution_count": 17,
      "outputs": [
        {
          "output_type": "stream",
          "text": [
            "['Class', 'Sex', 'Age', 'Fare']\n"
          ],
          "name": "stdout"
        },
        {
          "output_type": "execute_result",
          "data": {
            "text/plain": [
              "array([[ 0.83291,  0.74927, -0.6126 , -0.51933],\n",
              "       [-1.55354, -1.33463,  0.61843,  0.79718],\n",
              "       [ 0.83291, -1.33463, -0.30484, -0.50545]])"
            ]
          },
          "metadata": {
            "tags": []
          },
          "execution_count": 17
        }
      ]
    },
    {
      "cell_type": "code",
      "metadata": {
        "id": "qJgx1CKrS-gM",
        "colab_type": "code",
        "colab": {
          "base_uri": "https://localhost:8080/",
          "height": 394
        },
        "outputId": "da73ce08-093f-45cc-ebcd-f2af3e21aa3b"
      },
      "source": [
        "from keras.models import Sequential\n",
        "from keras.layers import Dense, Activation\n",
        "\n",
        "start = time()\n",
        "\n",
        "model = Sequential()\n",
        "\n",
        "model.add(Dense(input_dim=4, units=2)) # saída - units\n",
        "\n",
        "model.add(Activation(\"softmax\"))\n",
        "\n",
        "model.compile(loss='categorical_crossentropy', optimizer='sgd', metrics=['accuracy'])\n",
        "\n",
        "model.fit(X_train, y_train_onehot)\n",
        "\n",
        "print ('\\nTempo gasto: %s segundos' % str(time() - start))"
      ],
      "execution_count": 18,
      "outputs": [
        {
          "output_type": "stream",
          "text": [
            "Using TensorFlow backend.\n",
            "WARNING: Logging before flag parsing goes to stderr.\n",
            "W0624 20:31:22.441107 140659878131584 deprecation_wrapper.py:119] From /usr/local/lib/python3.6/dist-packages/keras/backend/tensorflow_backend.py:74: The name tf.get_default_graph is deprecated. Please use tf.compat.v1.get_default_graph instead.\n",
            "\n",
            "W0624 20:31:22.482313 140659878131584 deprecation_wrapper.py:119] From /usr/local/lib/python3.6/dist-packages/keras/backend/tensorflow_backend.py:517: The name tf.placeholder is deprecated. Please use tf.compat.v1.placeholder instead.\n",
            "\n",
            "W0624 20:31:22.491429 140659878131584 deprecation_wrapper.py:119] From /usr/local/lib/python3.6/dist-packages/keras/backend/tensorflow_backend.py:4138: The name tf.random_uniform is deprecated. Please use tf.random.uniform instead.\n",
            "\n",
            "W0624 20:31:22.511446 140659878131584 deprecation_wrapper.py:119] From /usr/local/lib/python3.6/dist-packages/keras/optimizers.py:790: The name tf.train.Optimizer is deprecated. Please use tf.compat.v1.train.Optimizer instead.\n",
            "\n",
            "W0624 20:31:22.540178 140659878131584 deprecation_wrapper.py:119] From /usr/local/lib/python3.6/dist-packages/keras/backend/tensorflow_backend.py:3295: The name tf.log is deprecated. Please use tf.math.log instead.\n",
            "\n",
            "W0624 20:31:22.684194 140659878131584 deprecation.py:323] From /usr/local/lib/python3.6/dist-packages/tensorflow/python/ops/math_grad.py:1250: add_dispatch_support.<locals>.wrapper (from tensorflow.python.ops.array_ops) is deprecated and will be removed in a future version.\n",
            "Instructions for updating:\n",
            "Use tf.where in 2.0, which has the same broadcast rule as np.where\n",
            "W0624 20:31:22.740054 140659878131584 deprecation_wrapper.py:119] From /usr/local/lib/python3.6/dist-packages/keras/backend/tensorflow_backend.py:986: The name tf.assign_add is deprecated. Please use tf.compat.v1.assign_add instead.\n",
            "\n"
          ],
          "name": "stderr"
        },
        {
          "output_type": "stream",
          "text": [
            "Epoch 1/1\n",
            "712/712 [==============================] - 4s 5ms/step - loss: 1.4410 - acc: 0.3413\n",
            "\n",
            "Tempo gasto: 4.166711807250977 segundos\n"
          ],
          "name": "stdout"
        }
      ]
    },
    {
      "cell_type": "code",
      "metadata": {
        "id": "Uw2mWkdFS-gO",
        "colab_type": "code",
        "colab": {
          "base_uri": "https://localhost:8080/",
          "height": 68
        },
        "outputId": "1bc44bfd-df9a-4d1a-e255-5e9df0445059"
      },
      "source": [
        "y_prediction = model.predict_classes(X_test)\n",
        "print (\"\\n\\nAcurácia\", np.sum(y_prediction == y_test) / float(len(y_test)))"
      ],
      "execution_count": 19,
      "outputs": [
        {
          "output_type": "stream",
          "text": [
            "\n",
            "\n",
            "Acurácia 0.3240223463687151\n"
          ],
          "name": "stdout"
        }
      ]
    },
    {
      "cell_type": "markdown",
      "metadata": {
        "collapsed": true,
        "id": "Pik_Sov5S-gV",
        "colab_type": "text"
      },
      "source": [
        "## Rede Neural com 2 Camadas"
      ]
    },
    {
      "cell_type": "code",
      "metadata": {
        "id": "lOlV4ExvS-gX",
        "colab_type": "code",
        "colab": {
          "base_uri": "https://localhost:8080/",
          "height": 85
        },
        "outputId": "d57a42c3-dc84-4bcd-8616-cec52e224e22"
      },
      "source": [
        "start = time()\n",
        "\n",
        "model = Sequential()\n",
        "\n",
        "model.add(Dense(input_dim=4, units = 100)) # units - numero de neuronios\n",
        "\n",
        "model.add(Dense(units=2))\n",
        "\n",
        "model.add(Activation(\"softmax\"))\n",
        "\n",
        "model.compile(loss='categorical_crossentropy', optimizer='sgd', metrics=['accuracy'])\n",
        "\n",
        "model.fit(X_train, y_train_onehot)\n",
        "\n",
        "print ('\\nTempo gasto: %s segundos' % str(time() - start))"
      ],
      "execution_count": 20,
      "outputs": [
        {
          "output_type": "stream",
          "text": [
            "Epoch 1/1\n",
            "712/712 [==============================] - 0s 305us/step - loss: 0.6605 - acc: 0.6517\n",
            "\n",
            "Tempo gasto: 0.48652052879333496 segundos\n"
          ],
          "name": "stdout"
        }
      ]
    },
    {
      "cell_type": "code",
      "metadata": {
        "id": "_UdgoL1DS-gc",
        "colab_type": "code",
        "colab": {
          "base_uri": "https://localhost:8080/",
          "height": 68
        },
        "outputId": "39a8f4c5-1a33-4100-c752-dd125f661ca7"
      },
      "source": [
        "y_prediction = model.predict_classes(X_test)\n",
        "print (\"\\n\\nAcurácia\", np.sum(y_prediction == y_test) / float(len(y_test)))"
      ],
      "execution_count": 21,
      "outputs": [
        {
          "output_type": "stream",
          "text": [
            "\n",
            "\n",
            "Acurácia 0.8100558659217877\n"
          ],
          "name": "stdout"
        }
      ]
    },
    {
      "cell_type": "markdown",
      "metadata": {
        "collapsed": true,
        "id": "3WTl5UO6S-gf",
        "colab_type": "text"
      },
      "source": [
        "## Rede Neural com 3 Camadas"
      ]
    },
    {
      "cell_type": "code",
      "metadata": {
        "id": "sCuwZVeQS-gg",
        "colab_type": "code",
        "colab": {
          "base_uri": "https://localhost:8080/",
          "height": 85
        },
        "outputId": "95d30f51-3cd4-4c9c-c5ff-9d51ba6b8f18"
      },
      "source": [
        "start = time()\n",
        "\n",
        "model = Sequential()\n",
        "\n",
        "model.add(Dense(input_dim=4, units=100))\n",
        "\n",
        "model.add(Dense(units=100))\n",
        "\n",
        "model.add(Dense(units=2))\n",
        "\n",
        "model.add(Activation(\"softmax\"))\n",
        "\n",
        "model.compile(loss='categorical_crossentropy', optimizer='sgd', metrics=['accuracy'])\n",
        "\n",
        "model.fit(X_train, y_train_onehot)\n",
        "\n",
        "print ('\\nTempo gasto: %s segundos' % str(time() - start))"
      ],
      "execution_count": 22,
      "outputs": [
        {
          "output_type": "stream",
          "text": [
            "Epoch 1/1\n",
            "712/712 [==============================] - 0s 352us/step - loss: 0.7281 - acc: 0.5239\n",
            "\n",
            "Tempo gasto: 0.5476717948913574 segundos\n"
          ],
          "name": "stdout"
        }
      ]
    },
    {
      "cell_type": "code",
      "metadata": {
        "id": "VA0GYw_GS-gj",
        "colab_type": "code",
        "colab": {
          "base_uri": "https://localhost:8080/",
          "height": 68
        },
        "outputId": "1424e3c1-5f59-44e5-f316-bbc10b9bbded"
      },
      "source": [
        "y_prediction = model.predict_classes(X_test)\n",
        "print (\"\\n\\nAcurácia\", np.sum(y_prediction == y_test) / float(len(y_test)))"
      ],
      "execution_count": 23,
      "outputs": [
        {
          "output_type": "stream",
          "text": [
            "\n",
            "\n",
            "Acurácia 0.776536312849162\n"
          ],
          "name": "stdout"
        }
      ]
    }
  ]
}