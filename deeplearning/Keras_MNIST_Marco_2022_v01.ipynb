version https://git-lfs.github.com/spec/v1
oid sha256:98e22846aa03e0793753b4961b89996e0962fc35c25d7318fc1adce000df27b0
size 295662
