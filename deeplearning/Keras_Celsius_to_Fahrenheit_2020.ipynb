version https://git-lfs.github.com/spec/v1
oid sha256:41a02854d69cb9f3881fa876ee05b4457e3fe70cc6523656c376f6894601ed7f
size 27285
