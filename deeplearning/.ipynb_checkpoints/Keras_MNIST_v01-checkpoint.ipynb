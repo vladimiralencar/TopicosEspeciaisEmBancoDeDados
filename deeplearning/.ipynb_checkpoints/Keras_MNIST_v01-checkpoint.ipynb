version https://git-lfs.github.com/spec/v1
oid sha256:70fc1b48223594b29526a4374cea234a70ca2c754b4edc0d6f5e79bd197a7fc2
size 72592
