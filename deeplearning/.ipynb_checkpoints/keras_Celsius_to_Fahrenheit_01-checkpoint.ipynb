{
 "cells": [
  {
   "cell_type": "markdown",
   "metadata": {
    "colab_type": "text",
    "id": "view-in-github"
   },
   "source": [
    "<a href=\"https://colab.research.google.com/github/vladimiralencar/Alunos-UEPB-TopicosEspeciaisEmBancoDeDados/blob/master/deeplearning/keras_Celsius_to_Fahrenheit_01.ipynb\" target=\"_parent\"><img src=\"https://colab.research.google.com/assets/colab-badge.svg\" alt=\"Open In Colab\"/></a>"
   ]
  },
  {
   "cell_type": "markdown",
   "metadata": {
    "colab_type": "text",
    "id": "YHI3vyhv5p85"
   },
   "source": [
    "# Treinando um modelo simples usando Keras"
   ]
  },
  {
   "cell_type": "markdown",
   "metadata": {
    "colab_type": "text",
    "id": "F8YVA_634OFk"
   },
   "source": [
    "O problema é converter de Graus  Celsius para Fahrenheit,  a  fórmula é:\n",
    "\n",
    "$$ f = c \\times 1.8 + 32 $$\n",
    "\n",
    "\n",
    "No nosso caso, vamos informar valores em Celsius  (0, 8, 15, 22, 38) and seus correspondenets em Fahrenheit (32, 46, 59, 72, 100).\n",
    "\n",
    "Então, vamos treinar o modelo para \"APRENDER\" A fórmula acima."
   ]
  },
  {
   "cell_type": "markdown",
   "metadata": {
    "colab_type": "text",
    "id": "HKWOTGDN9-fJ"
   },
   "source": [
    "![alt text](https://raw.githubusercontent.com/vladimiralencar/Alunos-UEPB-TopicosEspeciaisEmBancoDeDados/master/deeplearning/data/temperatures.png)"
   ]
  },
  {
   "cell_type": "markdown",
   "metadata": {
    "colab_type": "text",
    "id": "fA93WUy1zzWf"
   },
   "source": [
    "## Importando dependências e bibliotecas\n"
   ]
  },
  {
   "cell_type": "code",
   "execution_count": 0,
   "metadata": {
    "colab": {},
    "colab_type": "code",
    "id": "X9uIpOS2zx7k"
   },
   "outputs": [],
   "source": [
    "from __future__ import absolute_import, division, print_function, unicode_literals\n",
    "import tensorflow as tf\n",
    "\n",
    "import numpy as np\n",
    "import logging\n",
    "logger = tf.get_logger()\n",
    "logger.setLevel(logging.ERROR)"
   ]
  },
  {
   "cell_type": "markdown",
   "metadata": {
    "colab_type": "text",
    "id": "AC3EQFi20buB"
   },
   "source": [
    "##  dados de treino\n",
    "\n",
    "temperaturas em Graus Celsius e Graus Fahrenheit"
   ]
  },
  {
   "cell_type": "code",
   "execution_count": 0,
   "metadata": {
    "colab": {},
    "colab_type": "code",
    "id": "gg4pn6aI1vms"
   },
   "outputs": [],
   "source": [
    "celsius_q    = np.array([-40, -10,  0,  8, 15, 22,  38],  dtype=float)\n",
    "fahrenheit_a = np.array([-40,  14, 32, 46, 59, 72, 100],  dtype=float)\n",
    "\n",
    "for i,c in enumerate(celsius_q):\n",
    "  print(\"{} Graus Celsius = {} Graus Fahrenheit\".format(c, fahrenheit_a[i]))"
   ]
  },
  {
   "cell_type": "markdown",
   "metadata": {
    "colab_type": "text",
    "id": "VM7_9Klvq7MO"
   },
   "source": [
    "## Criando o modelo \n",
    "\n",
    "\n",
    "### Construindo camadas\n",
    "\n",
    "\n",
    "Parâmetros de configuração:\n",
    "\n",
    "\n",
    "*   `input_shape=[1]` — O shape dos dados de entrada. No nosso exemplo, o tamanho é igual a 1 (Uma temperatura em Graus Celsius)\n",
    "\n",
    "\n",
    "*   `units=1` — O Número de neurônios da camada. (Colocamos somente 1 neurônio, mas, dependendo do problema, podemos variar 10, 100, 1000 neurônioas, etc)\n",
    "\n"
   ]
  },
  {
   "cell_type": "code",
   "execution_count": 0,
   "metadata": {
    "colab": {},
    "colab_type": "code",
    "id": "pRllo2HLfXiu"
   },
   "outputs": [],
   "source": [
    "layer0 = tf.keras.layers.Dense(units=1, input_shape=[1])  "
   ]
  },
  {
   "cell_type": "markdown",
   "metadata": {
    "colab_type": "text",
    "id": "_F00_J9duLBD"
   },
   "source": [
    "### Construindo Layers (camadas) no modelo\n",
    "\n",
    "\n",
    "Este modelo tem somente uma camada ou  layer (layer0)"
   ]
  },
  {
   "cell_type": "code",
   "execution_count": 0,
   "metadata": {
    "colab": {},
    "colab_type": "code",
    "id": "cSp-GpLSuMRq"
   },
   "outputs": [],
   "source": [
    "model = tf.keras.Sequential([layer0])"
   ]
  },
  {
   "cell_type": "markdown",
   "metadata": {
    "colab_type": "text",
    "id": "kiZG7uhm8qCF"
   },
   "source": [
    "## Compilar o modelo, com o loss (função de peda) and função de otimização\n",
    ":\n",
    "\n",
    "- **Loss function** — Função de perda - Forma de medir o quanto as previsões estão próximas dos resultados ( y  e ypred).  Essa diferença é chamada de perda, função de custo ou \"loss\"\n",
    "\n",
    "- **Optimizer function** — A forma de adjustar o pesos internos com o objetivo de reduzir a perda\n",
    "\n"
   ]
  },
  {
   "cell_type": "code",
   "execution_count": 0,
   "metadata": {
    "colab": {},
    "colab_type": "code",
    "id": "m8YQN1H41L-Y"
   },
   "outputs": [],
   "source": [
    "model.compile(loss='mean_squared_error',\n",
    "              optimizer=tf.keras.optimizers.Adam(0.1))"
   ]
  },
  {
   "cell_type": "markdown",
   "metadata": {
    "colab_type": "text",
    "id": "17M3Pqv4P52R"
   },
   "source": [
    "\n",
    "\n",
    "A função de perda -  loss function ([mean squared error](https://en.wikipedia.org/wiki/Mean_squared_error)) e o otimizador  ([Adam](https://machinelearningmastery.com/adam-optimization-algorithm-for-deep-learning/)) foram usados neste modelo. \n",
    "\n",
    "Precisamento definir no Otimizador, a taxa de aprendizado (learning rate), valor 0.1 acima.\n",
    "Se a taxa de aprendizagem é muito pequena, o modelo precisará de muitas iterações para treinar o modelo. Se for muito grande, poderá ter uma acurácia menor.\n",
    "Um bom valor de learning rate necessita de tentativa e erro, mas é muito comum um valor entre 0.001 (default) e 0.1.\n"
   ]
  },
  {
   "cell_type": "markdown",
   "metadata": {
    "colab_type": "text",
    "id": "c-Jk4dG91dvD"
   },
   "source": [
    "## Treinando o modelo\n",
    "\n",
    "Train the model by calling the `fit` method. \n",
    "\n",
    "No treinamento do modelo, são encontrando os pesos (weights).\n",
    "Inicialmente os pesos são inicializados randomicamente. A diferença entre a saída atual (y_previsto) e a saída desejada (y) é calculada usando a função de perda (loss function), e o otimizador acha quais os pesos ideais.\n",
    "\n",
    "Este ciclo de calcular, comparar e ajustar os pesos é controlado pelo método `fit`.\n",
    "\n",
    "As épocas (`epochs`) es.pecifica quantas vezes vamos integir como todo o conjunto de dados de entrada (X).\n"
   ]
  },
  {
   "cell_type": "code",
   "execution_count": 0,
   "metadata": {
    "colab": {},
    "colab_type": "code",
    "id": "lpRrl7WK10Pq"
   },
   "outputs": [],
   "source": [
    "history = model.fit(celsius_q, fahrenheit_a, epochs=500, verbose=False)\n",
    "print(\"Finished training the model\")"
   ]
  },
  {
   "cell_type": "code",
   "execution_count": 0,
   "metadata": {
    "colab": {},
    "colab_type": "code",
    "id": "ZgD5G6dQDwXo"
   },
   "outputs": [],
   "source": [
    "#history.history['loss']"
   ]
  },
  {
   "cell_type": "markdown",
   "metadata": {
    "colab_type": "text",
    "id": "0-QsNCLD4MJZ"
   },
   "source": [
    "## Display training statistics\n",
    "\n",
    "O métido  `fit` retorna um objeto 'history' que contem o erro (loss) de cada época de treinamento.\n",
    "\n",
    "\n",
    "\n"
   ]
  },
  {
   "cell_type": "code",
   "execution_count": 0,
   "metadata": {
    "colab": {},
    "colab_type": "code",
    "id": "IeK6BzfbdO6_"
   },
   "outputs": [],
   "source": [
    "import matplotlib.pyplot as plt\n",
    "plt.xlabel('Epoch Number')\n",
    "plt.ylabel(\"Loss Magnitude\")\n",
    "plt.plot(history.history['loss'])"
   ]
  },
  {
   "cell_type": "markdown",
   "metadata": {
    "colab_type": "text",
    "id": "LtQGDMob5LOD"
   },
   "source": [
    "## Usando o modelo prever novos valores\n"
   ]
  },
  {
   "cell_type": "code",
   "execution_count": 0,
   "metadata": {
    "colab": {},
    "colab_type": "code",
    "id": "oxNzL4lS2Gui"
   },
   "outputs": [],
   "source": [
    "print(model.predict([100.0])[0][0])"
   ]
  },
  {
   "cell_type": "markdown",
   "metadata": {
    "colab_type": "text",
    "id": "jApk6tZ1fBg1"
   },
   "source": [
    "A resposta correta é $100 \\times 1.8 + 32 = 212$, e nosso modelo preveu o valor de 211.7474 (erro de 0.2526, muito próximo)\n"
   ]
  },
  {
   "cell_type": "markdown",
   "metadata": {
    "colab_type": "text",
    "id": "zRrOky5gm20Z"
   },
   "source": [
    "## a Matriz de pesos (layer weights)\n"
   ]
  },
  {
   "cell_type": "code",
   "execution_count": 0,
   "metadata": {
    "colab": {},
    "colab_type": "code",
    "id": "kmIkVdkbnZJI"
   },
   "outputs": [],
   "source": [
    "print(\"Matriz de pesos: {}\".format(layer0.get_weights()))"
   ]
  },
  {
   "cell_type": "markdown",
   "metadata": {
    "colab_type": "text",
    "id": "RSplSnMvnWC-"
   },
   "source": [
    "A primeira variável está próxima a  ~1.8 e a segunda a  ~32. Esses valores (1.8 and 32) são os valores reais da fórmula de conversão.\n",
    "\n",
    "Fórmula $y = mx + b$, onde, $f = 1.8c + 32$.\n",
    "Fórmula aprendida $f = 1.820181c + 29.3202$.\n",
    "\n",
    "\n",
    "### Melhorando a previsão\n",
    "\n",
    "Vamos colocar mais camadas, para tentar melhorar a precisão."
   ]
  },
  {
   "cell_type": "code",
   "execution_count": 0,
   "metadata": {
    "colab": {},
    "colab_type": "code",
    "id": "Y2zTA-rDS5Xk"
   },
   "outputs": [],
   "source": [
    "l0 = tf.keras.layers.Dense(units=4, input_shape=[1])  \n",
    "l1 = tf.keras.layers.Dense(units=10)   \n",
    "l2 = tf.keras.layers.Dense(units=1) \n",
    "model = tf.keras.Sequential([l0, l1, l2])\n",
    "model.compile(loss='mean_squared_error', optimizer=tf.keras.optimizers.Adam(0.1))\n",
    "model.fit(celsius_q, fahrenheit_a, epochs=600, verbose=False)\n",
    "print(\"Treinamento concluído\")\n",
    "print('Temperatura Prevista:',model.predict([100.0])[0][0])\n",
    "print()\n",
    "print()\n",
    "print(\"pesos da camada l0: {}\".format(l0.get_weights()))\n",
    "print(\"pesos da camada l1: {}\".format(l1.get_weights()))\n",
    "print(\"pesos da camada l2: {}\".format(l2.get_weights()))"
   ]
  }
 ],
 "metadata": {
  "accelerator": "GPU",
  "colab": {
   "collapsed_sections": [],
   "include_colab_link": true,
   "name": "keras-Celsius-to-Fahrenheit-01.ipynb",
   "provenance": [],
   "version": "0.3.2"
  },
  "kernelspec": {
   "display_name": "Python 3",
   "language": "python",
   "name": "python3"
  },
  "language_info": {
   "codemirror_mode": {
    "name": "ipython",
    "version": 3
   },
   "file_extension": ".py",
   "mimetype": "text/x-python",
   "name": "python",
   "nbconvert_exporter": "python",
   "pygments_lexer": "ipython3",
   "version": "3.8.2"
  }
 },
 "nbformat": 4,
 "nbformat_minor": 1
}
