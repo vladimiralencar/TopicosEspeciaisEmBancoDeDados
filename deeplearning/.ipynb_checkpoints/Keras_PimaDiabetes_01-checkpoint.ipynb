{
 "cells": [
  {
   "cell_type": "markdown",
   "metadata": {
    "colab_type": "text",
    "id": "view-in-github"
   },
   "source": [
    "<a href=\"https://colab.research.google.com/github/vladimiralencar/Alunos-UEPB-TopicosEspeciaisEmBancoDeDados/blob/master/deeplearning/Keras_PimaDiabetes_01.ipynb\" target=\"_parent\"><img src=\"https://colab.research.google.com/assets/colab-badge.svg\" alt=\"Open In Colab\"/></a>"
   ]
  },
  {
   "cell_type": "markdown",
   "metadata": {},
   "source": [
    "# Keras - Prevendo Diabetes"
   ]
  },
  {
   "cell_type": "code",
   "execution_count": 0,
   "metadata": {
    "colab": {},
    "colab_type": "code",
    "id": "dnzHFAH27SI-"
   },
   "outputs": [],
   "source": [
    "# Create your first MLP in Keras\n",
    "from keras.models import Sequential\n",
    "from keras.layers import Dense\n",
    "import numpy as np\n",
    "# fix random seed for reproducibility\n",
    "np.random.seed(7)"
   ]
  },
  {
   "cell_type": "code",
   "execution_count": 5,
   "metadata": {
    "colab": {
     "base_uri": "https://localhost:8080/",
     "height": 224
    },
    "colab_type": "code",
    "id": "e0BHsB_P7s0P",
    "outputId": "de339ebb-d605-4609-d6e5-c3871f038fe3"
   },
   "outputs": [
    {
     "name": "stdout",
     "output_type": "stream",
     "text": [
      "--2019-06-25 00:02:23--  https://gist.githubusercontent.com/ktisha/c21e73a1bd1700294ef790c56c8aec1f/raw/819b69b5736821ccee93d05b51de0510bea00294/pima-indians-diabetes.csv\n",
      "Resolving gist.githubusercontent.com (gist.githubusercontent.com)... 151.101.0.133, 151.101.64.133, 151.101.128.133, ...\n",
      "Connecting to gist.githubusercontent.com (gist.githubusercontent.com)|151.101.0.133|:443... connected.\n",
      "HTTP request sent, awaiting response... 200 OK\n",
      "Length: 23628 (23K) [text/plain]\n",
      "Saving to: ‘pima-indians-diabetes.csv’\n",
      "\n",
      "\r",
      "          pima-indi   0%[                    ]       0  --.-KB/s               \r",
      "pima-indians-diabet 100%[===================>]  23.07K  --.-KB/s    in 0.01s   \n",
      "\n",
      "2019-06-25 00:02:23 (1.85 MB/s) - ‘pima-indians-diabetes.csv’ saved [23628/23628]\n",
      "\n"
     ]
    }
   ],
   "source": [
    "!wget https://gist.githubusercontent.com/ktisha/c21e73a1bd1700294ef790c56c8aec1f/raw/819b69b5736821ccee93d05b51de0510bea00294/pima-indians-diabetes.csv"
   ]
  },
  {
   "cell_type": "code",
   "execution_count": 0,
   "metadata": {
    "colab": {},
    "colab_type": "code",
    "id": "alOujsCi7ww3"
   },
   "outputs": [],
   "source": [
    "# load pima indians dataset\n",
    "dataset = np.loadtxt(\"pima-indians-diabetes.csv\", delimiter=\",\")"
   ]
  },
  {
   "cell_type": "code",
   "execution_count": 8,
   "metadata": {
    "colab": {
     "base_uri": "https://localhost:8080/",
     "height": 119
    },
    "colab_type": "code",
    "id": "dzIXKnIY8PV0",
    "outputId": "c39e1e22-0c73-4814-879e-6624910d0183"
   },
   "outputs": [
    {
     "data": {
      "text/plain": [
       "array([[  6.   , 148.   ,  72.   ,  35.   ,   0.   ,  33.6  ,   0.627,\n",
       "         50.   ,   1.   ],\n",
       "       [  1.   ,  85.   ,  66.   ,  29.   ,   0.   ,  26.6  ,   0.351,\n",
       "         31.   ,   0.   ],\n",
       "       [  8.   , 183.   ,  64.   ,   0.   ,   0.   ,  23.3  ,   0.672,\n",
       "         32.   ,   1.   ]])"
      ]
     },
     "execution_count": 8,
     "metadata": {
      "tags": []
     },
     "output_type": "execute_result"
    }
   ],
   "source": [
    "dataset[:3]"
   ]
  },
  {
   "cell_type": "code",
   "execution_count": 9,
   "metadata": {
    "colab": {
     "base_uri": "https://localhost:8080/",
     "height": 156
    },
    "colab_type": "code",
    "id": "NhoPGnXE7f8a",
    "outputId": "3d50dccb-d021-42a2-c037-c1face5a83da"
   },
   "outputs": [
    {
     "name": "stderr",
     "output_type": "stream",
     "text": [
      "WARNING: Logging before flag parsing goes to stderr.\n",
      "W0625 00:03:28.396336 139653258749824 deprecation_wrapper.py:119] From /usr/local/lib/python3.6/dist-packages/keras/backend/tensorflow_backend.py:74: The name tf.get_default_graph is deprecated. Please use tf.compat.v1.get_default_graph instead.\n",
      "\n",
      "W0625 00:03:28.442405 139653258749824 deprecation_wrapper.py:119] From /usr/local/lib/python3.6/dist-packages/keras/backend/tensorflow_backend.py:517: The name tf.placeholder is deprecated. Please use tf.compat.v1.placeholder instead.\n",
      "\n",
      "W0625 00:03:28.448866 139653258749824 deprecation_wrapper.py:119] From /usr/local/lib/python3.6/dist-packages/keras/backend/tensorflow_backend.py:4138: The name tf.random_uniform is deprecated. Please use tf.random.uniform instead.\n",
      "\n"
     ]
    }
   ],
   "source": [
    "# split into input (X) and output (Y) variables\n",
    "X = dataset[:,0:8]\n",
    "Y = dataset[:,8]\n",
    "# create model\n",
    "model = Sequential()\n",
    "model.add(Dense(12, input_dim=8, activation='relu'))\n",
    "model.add(Dense(8, activation='relu'))\n",
    "model.add(Dense(1, activation='sigmoid'))"
   ]
  },
  {
   "cell_type": "code",
   "execution_count": 10,
   "metadata": {
    "colab": {
     "base_uri": "https://localhost:8080/",
     "height": 156
    },
    "colab_type": "code",
    "id": "8sQsIVMU8bcW",
    "outputId": "76061a2a-9141-4ba5-ee26-27154924341d"
   },
   "outputs": [
    {
     "name": "stderr",
     "output_type": "stream",
     "text": [
      "W0625 00:03:32.924906 139653258749824 deprecation_wrapper.py:119] From /usr/local/lib/python3.6/dist-packages/keras/optimizers.py:790: The name tf.train.Optimizer is deprecated. Please use tf.compat.v1.train.Optimizer instead.\n",
      "\n",
      "W0625 00:03:32.951174 139653258749824 deprecation_wrapper.py:119] From /usr/local/lib/python3.6/dist-packages/keras/backend/tensorflow_backend.py:3376: The name tf.log is deprecated. Please use tf.math.log instead.\n",
      "\n",
      "W0625 00:03:32.955523 139653258749824 deprecation.py:323] From /usr/local/lib/python3.6/dist-packages/tensorflow/python/ops/nn_impl.py:180: add_dispatch_support.<locals>.wrapper (from tensorflow.python.ops.array_ops) is deprecated and will be removed in a future version.\n",
      "Instructions for updating:\n",
      "Use tf.where in 2.0, which has the same broadcast rule as np.where\n"
     ]
    }
   ],
   "source": [
    "# Compile model\n",
    "model.compile(loss='binary_crossentropy', optimizer='adam', metrics=['accuracy'])"
   ]
  },
  {
   "cell_type": "code",
   "execution_count": 11,
   "metadata": {
    "colab": {
     "base_uri": "https://localhost:8080/",
     "height": 238
    },
    "colab_type": "code",
    "id": "PEW10dTm8f4P",
    "outputId": "7bff19cb-7df5-4899-e4b2-8825c2a46796"
   },
   "outputs": [
    {
     "name": "stdout",
     "output_type": "stream",
     "text": [
      "_________________________________________________________________\n",
      "Layer (type)                 Output Shape              Param #   \n",
      "=================================================================\n",
      "dense_1 (Dense)              (None, 12)                108       \n",
      "_________________________________________________________________\n",
      "dense_2 (Dense)              (None, 8)                 104       \n",
      "_________________________________________________________________\n",
      "dense_3 (Dense)              (None, 1)                 9         \n",
      "=================================================================\n",
      "Total params: 221\n",
      "Trainable params: 221\n",
      "Non-trainable params: 0\n",
      "_________________________________________________________________\n"
     ]
    }
   ],
   "source": [
    "model.summary()"
   ]
  },
  {
   "cell_type": "code",
   "execution_count": 12,
   "metadata": {
    "colab": {
     "base_uri": "https://localhost:8080/",
     "height": 1000
    },
    "colab_type": "code",
    "id": "hMKq1T6x8Yde",
    "outputId": "97f11c0c-e540-44a2-c812-e95294d1d08c"
   },
   "outputs": [
    {
     "name": "stderr",
     "output_type": "stream",
     "text": [
      "W0625 00:03:52.393012 139653258749824 deprecation_wrapper.py:119] From /usr/local/lib/python3.6/dist-packages/keras/backend/tensorflow_backend.py:986: The name tf.assign_add is deprecated. Please use tf.compat.v1.assign_add instead.\n",
      "\n"
     ]
    },
    {
     "name": "stdout",
     "output_type": "stream",
     "text": [
      "Epoch 1/150\n",
      "768/768 [==============================] - 4s 5ms/step - loss: 3.7063 - acc: 0.5990\n",
      "Epoch 2/150\n",
      "768/768 [==============================] - 0s 307us/step - loss: 0.9346 - acc: 0.5898\n",
      "Epoch 3/150\n",
      "768/768 [==============================] - 0s 333us/step - loss: 0.7471 - acc: 0.6406\n",
      "Epoch 4/150\n",
      "768/768 [==============================] - 0s 318us/step - loss: 0.7122 - acc: 0.6536\n",
      "Epoch 5/150\n",
      "768/768 [==============================] - 0s 317us/step - loss: 0.6819 - acc: 0.6745\n",
      "Epoch 6/150\n",
      "768/768 [==============================] - 0s 327us/step - loss: 0.6517 - acc: 0.6810\n",
      "Epoch 7/150\n",
      "768/768 [==============================] - 0s 355us/step - loss: 0.6495 - acc: 0.6706\n",
      "Epoch 8/150\n",
      "768/768 [==============================] - 0s 333us/step - loss: 0.6361 - acc: 0.6914\n",
      "Epoch 9/150\n",
      "768/768 [==============================] - 0s 317us/step - loss: 0.6229 - acc: 0.6901\n",
      "Epoch 10/150\n",
      "768/768 [==============================] - 0s 333us/step - loss: 0.6285 - acc: 0.6758\n",
      "Epoch 11/150\n",
      "768/768 [==============================] - 0s 358us/step - loss: 0.6438 - acc: 0.6771\n",
      "Epoch 12/150\n",
      "768/768 [==============================] - 0s 341us/step - loss: 0.6391 - acc: 0.6706\n",
      "Epoch 13/150\n",
      "768/768 [==============================] - 0s 339us/step - loss: 0.6255 - acc: 0.6771\n",
      "Epoch 14/150\n",
      "768/768 [==============================] - 0s 339us/step - loss: 0.6175 - acc: 0.7018\n",
      "Epoch 15/150\n",
      "768/768 [==============================] - 0s 354us/step - loss: 0.6019 - acc: 0.6940\n",
      "Epoch 16/150\n",
      "768/768 [==============================] - 0s 340us/step - loss: 0.5882 - acc: 0.7044\n",
      "Epoch 17/150\n",
      "768/768 [==============================] - 0s 333us/step - loss: 0.5847 - acc: 0.6979\n",
      "Epoch 18/150\n",
      "768/768 [==============================] - 0s 332us/step - loss: 0.6010 - acc: 0.6849\n",
      "Epoch 19/150\n",
      "768/768 [==============================] - 0s 355us/step - loss: 0.5808 - acc: 0.7070\n",
      "Epoch 20/150\n",
      "768/768 [==============================] - 0s 330us/step - loss: 0.5821 - acc: 0.7135\n",
      "Epoch 21/150\n",
      "768/768 [==============================] - 0s 347us/step - loss: 0.5708 - acc: 0.7135\n",
      "Epoch 22/150\n",
      "768/768 [==============================] - 0s 356us/step - loss: 0.5840 - acc: 0.6966\n",
      "Epoch 23/150\n",
      "768/768 [==============================] - 0s 354us/step - loss: 0.5763 - acc: 0.7122\n",
      "Epoch 24/150\n",
      "768/768 [==============================] - 0s 332us/step - loss: 0.5693 - acc: 0.7292\n",
      "Epoch 25/150\n",
      "768/768 [==============================] - 0s 339us/step - loss: 0.5598 - acc: 0.7331\n",
      "Epoch 26/150\n",
      "768/768 [==============================] - 0s 336us/step - loss: 0.5725 - acc: 0.7005\n",
      "Epoch 27/150\n",
      "768/768 [==============================] - 0s 356us/step - loss: 0.5565 - acc: 0.7201\n",
      "Epoch 28/150\n",
      "768/768 [==============================] - 0s 349us/step - loss: 0.5561 - acc: 0.7292\n",
      "Epoch 29/150\n",
      "768/768 [==============================] - 0s 328us/step - loss: 0.5742 - acc: 0.7174\n",
      "Epoch 30/150\n",
      "768/768 [==============================] - 0s 342us/step - loss: 0.5610 - acc: 0.7214\n",
      "Epoch 31/150\n",
      "768/768 [==============================] - 0s 339us/step - loss: 0.5690 - acc: 0.7161\n",
      "Epoch 32/150\n",
      "768/768 [==============================] - 0s 334us/step - loss: 0.5653 - acc: 0.7135\n",
      "Epoch 33/150\n",
      "768/768 [==============================] - 0s 335us/step - loss: 0.5537 - acc: 0.7135\n",
      "Epoch 34/150\n",
      "768/768 [==============================] - 0s 397us/step - loss: 0.5523 - acc: 0.7305\n",
      "Epoch 35/150\n",
      "768/768 [==============================] - 0s 339us/step - loss: 0.5534 - acc: 0.7161\n",
      "Epoch 36/150\n",
      "768/768 [==============================] - 0s 349us/step - loss: 0.5623 - acc: 0.7070\n",
      "Epoch 37/150\n",
      "768/768 [==============================] - 0s 342us/step - loss: 0.5353 - acc: 0.7331\n",
      "Epoch 38/150\n",
      "768/768 [==============================] - 0s 353us/step - loss: 0.5455 - acc: 0.7135\n",
      "Epoch 39/150\n",
      "768/768 [==============================] - 0s 327us/step - loss: 0.5494 - acc: 0.7279\n",
      "Epoch 40/150\n",
      "768/768 [==============================] - 0s 336us/step - loss: 0.5496 - acc: 0.7161\n",
      "Epoch 41/150\n",
      "768/768 [==============================] - 0s 356us/step - loss: 0.5481 - acc: 0.7305\n",
      "Epoch 42/150\n",
      "768/768 [==============================] - 0s 360us/step - loss: 0.5414 - acc: 0.7383\n",
      "Epoch 43/150\n",
      "768/768 [==============================] - 0s 337us/step - loss: 0.5356 - acc: 0.7461\n",
      "Epoch 44/150\n",
      "768/768 [==============================] - 0s 344us/step - loss: 0.5383 - acc: 0.7383\n",
      "Epoch 45/150\n",
      "768/768 [==============================] - 0s 335us/step - loss: 0.5369 - acc: 0.7565\n",
      "Epoch 46/150\n",
      "768/768 [==============================] - 0s 346us/step - loss: 0.5304 - acc: 0.7474\n",
      "Epoch 47/150\n",
      "768/768 [==============================] - 0s 338us/step - loss: 0.5366 - acc: 0.7344\n",
      "Epoch 48/150\n",
      "768/768 [==============================] - 0s 339us/step - loss: 0.5370 - acc: 0.7396\n",
      "Epoch 49/150\n",
      "768/768 [==============================] - 0s 338us/step - loss: 0.5372 - acc: 0.7448\n",
      "Epoch 50/150\n",
      "768/768 [==============================] - 0s 350us/step - loss: 0.5289 - acc: 0.7383\n",
      "Epoch 51/150\n",
      "768/768 [==============================] - 0s 329us/step - loss: 0.5289 - acc: 0.7409\n",
      "Epoch 52/150\n",
      "768/768 [==============================] - 0s 341us/step - loss: 0.5308 - acc: 0.7409\n",
      "Epoch 53/150\n",
      "768/768 [==============================] - 0s 347us/step - loss: 0.5384 - acc: 0.7474\n",
      "Epoch 54/150\n",
      "768/768 [==============================] - 0s 362us/step - loss: 0.5402 - acc: 0.7318\n",
      "Epoch 55/150\n",
      "768/768 [==============================] - 0s 343us/step - loss: 0.5233 - acc: 0.7474\n",
      "Epoch 56/150\n",
      "768/768 [==============================] - 0s 330us/step - loss: 0.5306 - acc: 0.7422\n",
      "Epoch 57/150\n",
      "768/768 [==============================] - 0s 364us/step - loss: 0.5329 - acc: 0.7344\n",
      "Epoch 58/150\n",
      "768/768 [==============================] - 0s 329us/step - loss: 0.5244 - acc: 0.7500\n",
      "Epoch 59/150\n",
      "768/768 [==============================] - 0s 334us/step - loss: 0.5147 - acc: 0.7565\n",
      "Epoch 60/150\n",
      "768/768 [==============================] - 0s 347us/step - loss: 0.5366 - acc: 0.7344\n",
      "Epoch 61/150\n",
      "768/768 [==============================] - 0s 368us/step - loss: 0.5260 - acc: 0.7305\n",
      "Epoch 62/150\n",
      "768/768 [==============================] - 0s 337us/step - loss: 0.5171 - acc: 0.7487\n",
      "Epoch 63/150\n",
      "768/768 [==============================] - 0s 341us/step - loss: 0.5428 - acc: 0.7292\n",
      "Epoch 64/150\n",
      "768/768 [==============================] - 0s 347us/step - loss: 0.5330 - acc: 0.7396\n",
      "Epoch 65/150\n",
      "768/768 [==============================] - 0s 352us/step - loss: 0.5201 - acc: 0.7474\n",
      "Epoch 66/150\n",
      "768/768 [==============================] - 0s 328us/step - loss: 0.5059 - acc: 0.7539\n",
      "Epoch 67/150\n",
      "768/768 [==============================] - 0s 345us/step - loss: 0.5170 - acc: 0.7396\n",
      "Epoch 68/150\n",
      "768/768 [==============================] - 0s 333us/step - loss: 0.5127 - acc: 0.7513\n",
      "Epoch 69/150\n",
      "768/768 [==============================] - 0s 353us/step - loss: 0.5120 - acc: 0.7461\n",
      "Epoch 70/150\n",
      "768/768 [==============================] - 0s 340us/step - loss: 0.5341 - acc: 0.7161\n",
      "Epoch 71/150\n",
      "768/768 [==============================] - 0s 338us/step - loss: 0.5201 - acc: 0.7474\n",
      "Epoch 72/150\n",
      "768/768 [==============================] - 0s 337us/step - loss: 0.5173 - acc: 0.7487\n",
      "Epoch 73/150\n",
      "768/768 [==============================] - 0s 351us/step - loss: 0.5179 - acc: 0.7461\n",
      "Epoch 74/150\n",
      "768/768 [==============================] - 0s 336us/step - loss: 0.5111 - acc: 0.7643\n",
      "Epoch 75/150\n",
      "768/768 [==============================] - 0s 339us/step - loss: 0.5106 - acc: 0.7656\n",
      "Epoch 76/150\n",
      "768/768 [==============================] - 0s 325us/step - loss: 0.5133 - acc: 0.7526\n",
      "Epoch 77/150\n",
      "768/768 [==============================] - 0s 356us/step - loss: 0.5170 - acc: 0.7643\n",
      "Epoch 78/150\n",
      "768/768 [==============================] - 0s 339us/step - loss: 0.5144 - acc: 0.7474\n",
      "Epoch 79/150\n",
      "768/768 [==============================] - 0s 338us/step - loss: 0.5152 - acc: 0.7409\n",
      "Epoch 80/150\n",
      "768/768 [==============================] - 0s 337us/step - loss: 0.5108 - acc: 0.7604\n",
      "Epoch 81/150\n",
      "768/768 [==============================] - 0s 355us/step - loss: 0.5068 - acc: 0.7695\n",
      "Epoch 82/150\n",
      "768/768 [==============================] - 0s 327us/step - loss: 0.5085 - acc: 0.7461\n",
      "Epoch 83/150\n",
      "768/768 [==============================] - 0s 356us/step - loss: 0.5032 - acc: 0.7578\n",
      "Epoch 84/150\n",
      "768/768 [==============================] - 0s 336us/step - loss: 0.4991 - acc: 0.7578\n",
      "Epoch 85/150\n",
      "768/768 [==============================] - 0s 340us/step - loss: 0.5080 - acc: 0.7461\n",
      "Epoch 86/150\n",
      "768/768 [==============================] - 0s 328us/step - loss: 0.5078 - acc: 0.7513\n",
      "Epoch 87/150\n",
      "768/768 [==============================] - 0s 335us/step - loss: 0.5009 - acc: 0.7578\n",
      "Epoch 88/150\n",
      "768/768 [==============================] - 0s 542us/step - loss: 0.5040 - acc: 0.7643\n",
      "Epoch 89/150\n",
      "768/768 [==============================] - 0s 333us/step - loss: 0.5073 - acc: 0.7591\n",
      "Epoch 90/150\n",
      "768/768 [==============================] - 0s 339us/step - loss: 0.5102 - acc: 0.7474\n",
      "Epoch 91/150\n",
      "768/768 [==============================] - 0s 339us/step - loss: 0.5016 - acc: 0.7539\n",
      "Epoch 92/150\n",
      "768/768 [==============================] - 0s 355us/step - loss: 0.5072 - acc: 0.7422\n",
      "Epoch 93/150\n",
      "768/768 [==============================] - 0s 331us/step - loss: 0.4999 - acc: 0.7617\n",
      "Epoch 94/150\n",
      "768/768 [==============================] - 0s 351us/step - loss: 0.4997 - acc: 0.7578\n",
      "Epoch 95/150\n",
      "768/768 [==============================] - 0s 342us/step - loss: 0.5049 - acc: 0.7461\n",
      "Epoch 96/150\n",
      "768/768 [==============================] - 0s 342us/step - loss: 0.4933 - acc: 0.7643\n",
      "Epoch 97/150\n",
      "768/768 [==============================] - 0s 337us/step - loss: 0.4990 - acc: 0.7721\n",
      "Epoch 98/150\n",
      "768/768 [==============================] - 0s 344us/step - loss: 0.4929 - acc: 0.7552\n",
      "Epoch 99/150\n",
      "768/768 [==============================] - 0s 336us/step - loss: 0.4947 - acc: 0.7578\n",
      "Epoch 100/150\n",
      "768/768 [==============================] - 0s 355us/step - loss: 0.4864 - acc: 0.7812\n",
      "Epoch 101/150\n",
      "768/768 [==============================] - 0s 330us/step - loss: 0.4926 - acc: 0.7682\n",
      "Epoch 102/150\n",
      "768/768 [==============================] - 0s 337us/step - loss: 0.5003 - acc: 0.7539\n",
      "Epoch 103/150\n",
      "768/768 [==============================] - 0s 339us/step - loss: 0.5026 - acc: 0.7526\n",
      "Epoch 104/150\n",
      "768/768 [==============================] - 0s 348us/step - loss: 0.4987 - acc: 0.7708\n",
      "Epoch 105/150\n",
      "768/768 [==============================] - 0s 334us/step - loss: 0.5309 - acc: 0.7422\n",
      "Epoch 106/150\n",
      "768/768 [==============================] - 0s 336us/step - loss: 0.4981 - acc: 0.7695\n",
      "Epoch 107/150\n",
      "768/768 [==============================] - 0s 336us/step - loss: 0.4941 - acc: 0.7682\n",
      "Epoch 108/150\n",
      "768/768 [==============================] - 0s 354us/step - loss: 0.5067 - acc: 0.7539\n",
      "Epoch 109/150\n",
      "768/768 [==============================] - 0s 353us/step - loss: 0.4899 - acc: 0.7539\n",
      "Epoch 110/150\n",
      "768/768 [==============================] - 0s 341us/step - loss: 0.4903 - acc: 0.7565\n",
      "Epoch 111/150\n",
      "768/768 [==============================] - 0s 342us/step - loss: 0.4858 - acc: 0.7721\n",
      "Epoch 112/150\n",
      "768/768 [==============================] - 0s 334us/step - loss: 0.4944 - acc: 0.7669\n",
      "Epoch 113/150\n",
      "768/768 [==============================] - 0s 336us/step - loss: 0.5053 - acc: 0.7526\n",
      "Epoch 114/150\n",
      "768/768 [==============================] - 0s 340us/step - loss: 0.4934 - acc: 0.7539\n",
      "Epoch 115/150\n",
      "768/768 [==============================] - 0s 347us/step - loss: 0.4941 - acc: 0.7682\n",
      "Epoch 116/150\n",
      "768/768 [==============================] - 0s 333us/step - loss: 0.4943 - acc: 0.7721\n",
      "Epoch 117/150\n",
      "768/768 [==============================] - 0s 340us/step - loss: 0.4948 - acc: 0.7591\n",
      "Epoch 118/150\n",
      "768/768 [==============================] - 0s 333us/step - loss: 0.4915 - acc: 0.7760\n",
      "Epoch 119/150\n",
      "768/768 [==============================] - 0s 348us/step - loss: 0.4872 - acc: 0.7604\n",
      "Epoch 120/150\n",
      "768/768 [==============================] - 0s 338us/step - loss: 0.4999 - acc: 0.7682\n",
      "Epoch 121/150\n",
      "768/768 [==============================] - 0s 335us/step - loss: 0.4965 - acc: 0.7760\n",
      "Epoch 122/150\n",
      "768/768 [==============================] - 0s 336us/step - loss: 0.4827 - acc: 0.7760\n",
      "Epoch 123/150\n",
      "768/768 [==============================] - 0s 353us/step - loss: 0.4880 - acc: 0.7630\n",
      "Epoch 124/150\n",
      "768/768 [==============================] - 0s 338us/step - loss: 0.4877 - acc: 0.7734\n",
      "Epoch 125/150\n",
      "768/768 [==============================] - 0s 350us/step - loss: 0.4877 - acc: 0.7786\n",
      "Epoch 126/150\n",
      "768/768 [==============================] - 0s 336us/step - loss: 0.4828 - acc: 0.7669\n",
      "Epoch 127/150\n",
      "768/768 [==============================] - 0s 349us/step - loss: 0.4896 - acc: 0.7682\n",
      "Epoch 128/150\n",
      "768/768 [==============================] - 0s 337us/step - loss: 0.4724 - acc: 0.7773\n",
      "Epoch 129/150\n",
      "768/768 [==============================] - 0s 337us/step - loss: 0.4834 - acc: 0.7708\n",
      "Epoch 130/150\n",
      "768/768 [==============================] - 0s 335us/step - loss: 0.4738 - acc: 0.7852\n",
      "Epoch 131/150\n",
      "768/768 [==============================] - 0s 367us/step - loss: 0.4842 - acc: 0.7656\n",
      "Epoch 132/150\n",
      "768/768 [==============================] - 0s 329us/step - loss: 0.4825 - acc: 0.7760\n",
      "Epoch 133/150\n",
      "768/768 [==============================] - 0s 347us/step - loss: 0.4848 - acc: 0.7656\n",
      "Epoch 134/150\n",
      "768/768 [==============================] - 0s 341us/step - loss: 0.4868 - acc: 0.7682\n",
      "Epoch 135/150\n",
      "768/768 [==============================] - 0s 369us/step - loss: 0.4760 - acc: 0.7669\n",
      "Epoch 136/150\n",
      "768/768 [==============================] - 0s 332us/step - loss: 0.4745 - acc: 0.7682\n",
      "Epoch 137/150\n",
      "768/768 [==============================] - 0s 340us/step - loss: 0.4700 - acc: 0.7852\n",
      "Epoch 138/150\n",
      "768/768 [==============================] - 0s 333us/step - loss: 0.4795 - acc: 0.7773\n",
      "Epoch 139/150\n",
      "768/768 [==============================] - 0s 366us/step - loss: 0.4681 - acc: 0.7760\n",
      "Epoch 140/150\n",
      "768/768 [==============================] - 0s 332us/step - loss: 0.4818 - acc: 0.7799\n",
      "Epoch 141/150\n",
      "768/768 [==============================] - 0s 344us/step - loss: 0.4743 - acc: 0.7760\n",
      "Epoch 142/150\n",
      "768/768 [==============================] - 0s 369us/step - loss: 0.4842 - acc: 0.7682\n",
      "Epoch 143/150\n",
      "768/768 [==============================] - 0s 352us/step - loss: 0.4735 - acc: 0.7760\n",
      "Epoch 144/150\n",
      "768/768 [==============================] - 0s 329us/step - loss: 0.4756 - acc: 0.7799\n",
      "Epoch 145/150\n",
      "768/768 [==============================] - 0s 345us/step - loss: 0.4876 - acc: 0.7617\n",
      "Epoch 146/150\n",
      "768/768 [==============================] - 0s 353us/step - loss: 0.4942 - acc: 0.7682\n",
      "Epoch 147/150\n",
      "768/768 [==============================] - 0s 332us/step - loss: 0.4845 - acc: 0.7826\n",
      "Epoch 148/150\n",
      "768/768 [==============================] - 0s 343us/step - loss: 0.4716 - acc: 0.7826\n",
      "Epoch 149/150\n",
      "768/768 [==============================] - 0s 336us/step - loss: 0.4755 - acc: 0.7630\n",
      "Epoch 150/150\n",
      "768/768 [==============================] - 0s 355us/step - loss: 0.4777 - acc: 0.7773\n",
      "768/768 [==============================] - 0s 89us/step\n",
      "\n",
      "acc: 78.26%\n"
     ]
    }
   ],
   "source": [
    "# Fit the model\n",
    "model.fit(X, Y, epochs=150, batch_size=10)"
   ]
  },
  {
   "cell_type": "code",
   "execution_count": 13,
   "metadata": {
    "colab": {
     "base_uri": "https://localhost:8080/",
     "height": 68
    },
    "colab_type": "code",
    "id": "bpzydAhQ8yD-",
    "outputId": "55198634-40c0-46ac-8bde-3670e0a3bae8"
   },
   "outputs": [
    {
     "name": "stdout",
     "output_type": "stream",
     "text": [
      "768/768 [==============================] - 0s 48us/step\n",
      "\n",
      "acc: 78.26%\n"
     ]
    }
   ],
   "source": [
    "# evaluate the model\n",
    "scores = model.evaluate(X, Y)\n",
    "print(\"\\n%s: %.2f%%\" % (model.metrics_names[1], scores[1]*100))"
   ]
  }
 ],
 "metadata": {
  "accelerator": "GPU",
  "colab": {
   "collapsed_sections": [],
   "include_colab_link": true,
   "name": "Keras-PimaDiabetes-01.ipynb",
   "provenance": [],
   "version": "0.3.2"
  },
  "kernelspec": {
   "display_name": "Python 3",
   "language": "python",
   "name": "python3"
  },
  "language_info": {
   "codemirror_mode": {
    "name": "ipython",
    "version": 3
   },
   "file_extension": ".py",
   "mimetype": "text/x-python",
   "name": "python",
   "nbconvert_exporter": "python",
   "pygments_lexer": "ipython3",
   "version": "3.8.2"
  }
 },
 "nbformat": 4,
 "nbformat_minor": 1
}
