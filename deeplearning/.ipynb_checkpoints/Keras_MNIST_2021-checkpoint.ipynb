{
 "cells": [
  {
   "cell_type": "markdown",
   "metadata": {
    "id": "PFDfn6xucIPz"
   },
   "source": [
    "## Keras - Reconhecimento de Dígitos (MNIST)"
   ]
  },
  {
   "cell_type": "code",
   "execution_count": 2,
   "metadata": {
    "id": "DOWs0me_cIP0"
   },
   "outputs": [],
   "source": [
    "import numpy as np\n",
    "import matplotlib.pyplot as plt\n",
    "plt.rcParams['figure.figsize'] = (7,7) # Make the figures a bit bigger\n",
    "#from keras.utils import to_categorical\n",
    "from keras.utils.np_utils import to_categorical\n",
    "from keras.datasets import mnist\n",
    "from keras.models import Sequential\n",
    "from keras.layers import Conv2D, MaxPooling2D, Dense, Flatten, Dropout, Activation\n",
    "from keras.optimizers import SGD\n",
    "from keras.utils import np_utils\n",
    "%matplotlib inline"
   ]
  },
  {
   "cell_type": "markdown",
   "metadata": {
    "id": "FhpUWYJwcIP8"
   },
   "source": [
    "## Carregando arquivo de dígitos"
   ]
  },
  {
   "cell_type": "code",
   "execution_count": 3,
   "metadata": {
    "colab": {
     "base_uri": "https://localhost:8080/"
    },
    "id": "KB9stpCWcIP9",
    "outputId": "19a5f7a6-ac5a-4cfc-ca73-f63f78a6cf02"
   },
   "outputs": [
    {
     "name": "stdout",
     "output_type": "stream",
     "text": [
      "Downloading data from https://storage.googleapis.com/tensorflow/tf-keras-datasets/mnist.npz\n",
      "11493376/11490434 [==============================] - 1s 0us/step\n",
      "11501568/11490434 [==============================] - 1s 0us/step\n",
      "X_train original shape (60000, 28, 28)\n",
      "y_train original shape (60000,)\n"
     ]
    }
   ],
   "source": [
    "nb_classes = 10\n",
    "\n",
    "# the data, shuffled and split between tran and test sets\n",
    "(X_train, y_train), (X_test, y_test) = mnist.load_data()\n",
    "print(\"X_train original shape\", X_train.shape)\n",
    "print(\"y_train original shape\", y_train.shape)"
   ]
  },
  {
   "cell_type": "markdown",
   "metadata": {
    "id": "iVv7M8TfcIQA"
   },
   "source": [
    "Let's look at some examples of the training data"
   ]
  },
  {
   "cell_type": "code",
   "execution_count": 4,
   "metadata": {
    "colab": {
     "base_uri": "https://localhost:8080/",
     "height": 281
    },
    "id": "v1vFd-PxcIQB",
    "outputId": "d3406f7d-eedb-4dfd-fc11-64ecb4de744e"
   },
   "outputs": [
    {
     "data": {
      "image/png": "[encoded data removed]",
      "text/plain": [
       "<Figure size 432x288 with 9 Axes>"
      ]
     },
     "metadata": {
      "needs_background": "light",
      "tags": []
     },
     "output_type": "display_data"
    }
   ],
   "source": [
    "for i in range(9):\n",
    "    plt.subplot(3,3,i+1)\n",
    "    plt.imshow(X_train[i], cmap='gray', interpolation='none')\n",
    "    plt.title(\"Class {}\".format(y_train[i]))"
   ]
  },
  {
   "cell_type": "markdown",
   "metadata": {
    "id": "EVuPjfyUcIQE"
   },
   "source": [
    "## Formatar e  Colocar os dados em Escala \n",
    "Our neural-network is going to take a single vector for each training example, so we need to reshape the input so that each 28x28 image becomes a single 784 dimensional vector. We'll also scale the inputs to be in the range [0-1] rather than [0-255]"
   ]
  },
  {
   "cell_type": "code",
   "execution_count": 5,
   "metadata": {
    "colab": {
     "base_uri": "https://localhost:8080/"
    },
    "id": "Q_Q9REmIcIQF",
    "outputId": "264f92b3-9909-4c5e-8c9d-12dceec88745"
   },
   "outputs": [
    {
     "name": "stdout",
     "output_type": "stream",
     "text": [
      "Training matrix shape (60000, 784)\n",
      "Testing matrix shape (10000, 784)\n"
     ]
    }
   ],
   "source": [
    "X_train = X_train.reshape(60000, 784)\n",
    "X_test = X_test.reshape(10000, 784)\n",
    "X_train = X_train.astype('float32')\n",
    "X_test = X_test.astype('float32')\n",
    "X_train /= 255\n",
    "X_test /= 255\n",
    "print(\"Training matrix shape\", X_train.shape)\n",
    "print(\"Testing matrix shape\", X_test.shape)"
   ]
  },
  {
   "cell_type": "markdown",
   "metadata": {
    "id": "Sm0DR8vwcIQJ"
   },
   "source": [
    "Modify the target matrices to be in the one-hot format, i.e.\n",
    "\n",
    "```\n",
    "0 -> [1, 0, 0, 0, 0, 0, 0, 0, 0]\n",
    "1 -> [0, 1, 0, 0, 0, 0, 0, 0, 0]\n",
    "2 -> [0, 0, 1, 0, 0, 0, 0, 0, 0]\n",
    "etc.\n",
    "```"
   ]
  },
  {
   "cell_type": "code",
   "execution_count": 6,
   "metadata": {
    "id": "SEfGsZGNcIQK"
   },
   "outputs": [],
   "source": [
    "# codificação ONE-HOT ENCODING\n",
    "Y_train = np_utils.to_categorical(y_train, nb_classes)\n",
    "Y_test = np_utils.to_categorical(y_test, nb_classes)"
   ]
  },
  {
   "cell_type": "code",
   "execution_count": 7,
   "metadata": {
    "colab": {
     "base_uri": "https://localhost:8080/"
    },
    "id": "g5dP0oIocIQN",
    "outputId": "af2d985c-e095-40ba-a03c-ace84eece76b"
   },
   "outputs": [
    {
     "data": {
      "text/plain": [
       "array([0., 0., 0., 0., 0., 0., 0., 1., 0., 0.], dtype=float32)"
      ]
     },
     "execution_count": 7,
     "metadata": {
      "tags": []
     },
     "output_type": "execute_result"
    }
   ],
   "source": [
    "Y_test[0]"
   ]
  },
  {
   "cell_type": "markdown",
   "metadata": {
    "id": "l8FKld2wcIQR"
   },
   "source": [
    "# Construindo a Rede Neural\n",
    "Build the neural-network. Here we'll do a simple 3 layer fully connected network.\n",
    "<img src=\"https://raw.githubusercontent.com/vladimiralencar/Alunos-UEPB-TopicosEspeciaisEmBancoDeDados/master/deeplearning/data/figure.png\" />"
   ]
  },
  {
   "cell_type": "code",
   "execution_count": 8,
   "metadata": {
    "id": "45U_h6vQcIQS"
   },
   "outputs": [],
   "source": [
    "model = Sequential()\n",
    "model.add(Dense(512, input_shape=(784,)))\n",
    "model.add(Activation('relu')) # An \"activation\" is just a non-linear function applied to the output\n",
    "                              # of the layer above. Here, with a \"rectified linear unit\",\n",
    "                              # we clamp all values below 0 to 0.\n",
    "                           \n",
    "#model.add(Dropout(0.3))   # Dropout helps protect the model from memorizing or \"overfitting\" the training data\n",
    "model.add(Dense(512))\n",
    "model.add(Activation('relu'))\n",
    "#model.add(Dropout(0.3))\n",
    "model.add(Dense(10))\n",
    "model.add(Activation('softmax')) # This special \"softmax\" activation among other things,\n",
    "                                 # ensures the output is a valid probaility distribution, that is\n",
    "                                 # that its values are all non-negative and sum to 1."
   ]
  },
  {
   "cell_type": "markdown",
   "metadata": {
    "id": "bprkmGQxcIQW"
   },
   "source": [
    "## Compile the model\n"
   ]
  },
  {
   "cell_type": "code",
   "execution_count": 9,
   "metadata": {
    "colab": {
     "base_uri": "https://localhost:8080/"
    },
    "id": "IlNffN5XcIQX",
    "outputId": "0e7e5c07-771f-472f-8a9c-dc247f4fe7d3"
   },
   "outputs": [
    {
     "name": "stdout",
     "output_type": "stream",
     "text": [
      "Model: \"sequential\"\n",
      "_________________________________________________________________\n",
      "Layer (type)                 Output Shape              Param #   \n",
      "=================================================================\n",
      "dense (Dense)                (None, 512)               401920    \n",
      "_________________________________________________________________\n",
      "activation (Activation)      (None, 512)               0         \n",
      "_________________________________________________________________\n",
      "dense_1 (Dense)              (None, 512)               262656    \n",
      "_________________________________________________________________\n",
      "activation_1 (Activation)    (None, 512)               0         \n",
      "_________________________________________________________________\n",
      "dense_2 (Dense)              (None, 10)                5130      \n",
      "_________________________________________________________________\n",
      "activation_2 (Activation)    (None, 10)                0         \n",
      "=================================================================\n",
      "Total params: 669,706\n",
      "Trainable params: 669,706\n",
      "Non-trainable params: 0\n",
      "_________________________________________________________________\n"
     ]
    }
   ],
   "source": [
    "model.compile(loss='categorical_crossentropy', optimizer='SGD', metrics=['accuracy'])\n",
    "model.summary()"
   ]
  },
  {
   "cell_type": "markdown",
   "metadata": {
    "id": "2V_N8Ft-cIQb"
   },
   "source": [
    "## Train the model!\n",
    "This is the fun part: you can feed the training data loaded in earlier into this model and it will learn to classify digits"
   ]
  },
  {
   "cell_type": "code",
   "execution_count": 10,
   "metadata": {
    "colab": {
     "base_uri": "https://localhost:8080/"
    },
    "id": "Y7uvIivNcIQc",
    "outputId": "8a5e4f90-d0a6-48c1-c7e9-5d9758c4e849"
   },
   "outputs": [
    {
     "name": "stdout",
     "output_type": "stream",
     "text": [
      "Epoch 1/20\n",
      "235/235 [==============================] - 13s 5ms/step - loss: 1.9385 - accuracy: 0.4901 - val_loss: 0.9052 - val_accuracy: 0.8282\n",
      "Epoch 2/20\n",
      "235/235 [==============================] - 1s 3ms/step - loss: 0.7928 - accuracy: 0.8365 - val_loss: 0.5252 - val_accuracy: 0.8748\n",
      "Epoch 3/20\n",
      "235/235 [==============================] - 1s 4ms/step - loss: 0.5218 - accuracy: 0.8711 - val_loss: 0.4172 - val_accuracy: 0.8914\n",
      "Epoch 4/20\n",
      "235/235 [==============================] - 1s 3ms/step - loss: 0.4284 - accuracy: 0.8876 - val_loss: 0.3671 - val_accuracy: 0.9014\n",
      "Epoch 5/20\n",
      "235/235 [==============================] - 1s 3ms/step - loss: 0.3805 - accuracy: 0.8985 - val_loss: 0.3346 - val_accuracy: 0.9075\n",
      "Epoch 6/20\n",
      "235/235 [==============================] - 1s 3ms/step - loss: 0.3479 - accuracy: 0.9053 - val_loss: 0.3149 - val_accuracy: 0.9110\n",
      "Epoch 7/20\n",
      "235/235 [==============================] - 1s 3ms/step - loss: 0.3326 - accuracy: 0.9071 - val_loss: 0.2994 - val_accuracy: 0.9151\n",
      "Epoch 8/20\n",
      "235/235 [==============================] - 1s 3ms/step - loss: 0.3077 - accuracy: 0.9124 - val_loss: 0.2868 - val_accuracy: 0.9189\n",
      "Epoch 9/20\n",
      "235/235 [==============================] - 1s 3ms/step - loss: 0.3003 - accuracy: 0.9162 - val_loss: 0.2757 - val_accuracy: 0.9210\n",
      "Epoch 10/20\n",
      "235/235 [==============================] - 1s 3ms/step - loss: 0.2821 - accuracy: 0.9212 - val_loss: 0.2674 - val_accuracy: 0.9252\n",
      "Epoch 11/20\n",
      "235/235 [==============================] - 1s 3ms/step - loss: 0.2768 - accuracy: 0.9227 - val_loss: 0.2571 - val_accuracy: 0.9282\n",
      "Epoch 12/20\n",
      "235/235 [==============================] - 1s 3ms/step - loss: 0.2681 - accuracy: 0.9235 - val_loss: 0.2506 - val_accuracy: 0.9302\n",
      "Epoch 13/20\n",
      "235/235 [==============================] - 1s 3ms/step - loss: 0.2550 - accuracy: 0.9278 - val_loss: 0.2435 - val_accuracy: 0.9326\n",
      "Epoch 14/20\n",
      "235/235 [==============================] - 1s 3ms/step - loss: 0.2552 - accuracy: 0.9289 - val_loss: 0.2390 - val_accuracy: 0.9325\n",
      "Epoch 15/20\n",
      "235/235 [==============================] - 1s 4ms/step - loss: 0.2482 - accuracy: 0.9308 - val_loss: 0.2311 - val_accuracy: 0.9357\n",
      "Epoch 16/20\n",
      "235/235 [==============================] - 1s 4ms/step - loss: 0.2342 - accuracy: 0.9339 - val_loss: 0.2277 - val_accuracy: 0.9360\n",
      "Epoch 17/20\n",
      "235/235 [==============================] - 1s 4ms/step - loss: 0.2313 - accuracy: 0.9352 - val_loss: 0.2210 - val_accuracy: 0.9382\n",
      "Epoch 18/20\n",
      "235/235 [==============================] - 1s 3ms/step - loss: 0.2266 - accuracy: 0.9367 - val_loss: 0.2164 - val_accuracy: 0.9398\n",
      "Epoch 19/20\n",
      "235/235 [==============================] - 1s 3ms/step - loss: 0.2166 - accuracy: 0.9379 - val_loss: 0.2121 - val_accuracy: 0.9404\n",
      "Epoch 20/20\n",
      "235/235 [==============================] - 1s 3ms/step - loss: 0.2153 - accuracy: 0.9394 - val_loss: 0.2087 - val_accuracy: 0.9408\n",
      "CPU times: user 29.2 s, sys: 2.78 s, total: 31.9 s\n",
      "Wall time: 28.9 s\n"
     ]
    },
    {
     "data": {
      "text/plain": [
       "<keras.callbacks.History at 0x7f24e0644c10>"
      ]
     },
     "execution_count": 10,
     "metadata": {
      "tags": []
     },
     "output_type": "execute_result"
    }
   ],
   "source": [
    "%%time\n",
    "model.fit(X_train, Y_train,\n",
    "          batch_size=256, epochs=20,\n",
    "          verbose=1,\n",
    "          validation_data=(X_test, Y_test))"
   ]
  },
  {
   "cell_type": "markdown",
   "metadata": {
    "id": "LN4I2tmAcIQg"
   },
   "source": [
    "## Finally, evaluate its performance"
   ]
  },
  {
   "cell_type": "code",
   "execution_count": 11,
   "metadata": {
    "colab": {
     "base_uri": "https://localhost:8080/"
    },
    "id": "ESUE8YzEcIQh",
    "outputId": "9f8e2c51-916c-4690-8920-ce962a6d4237"
   },
   "outputs": [
    {
     "name": "stdout",
     "output_type": "stream",
     "text": [
      "> 94.080\n"
     ]
    }
   ],
   "source": [
    "#loss = model.evaluate(X_test, Y_test,verbose=0)\n",
    "#print('Acurácia de teste:', 1 - loss)\n",
    "\n",
    "_, acc = model.evaluate(X_test, Y_test, verbose=0)\n",
    "print('> %.3f' % (acc * 100.0))"
   ]
  },
  {
   "cell_type": "markdown",
   "metadata": {
    "id": "CdJ5z8Sg4qu_"
   },
   "source": [
    "# CNN Model"
   ]
  },
  {
   "cell_type": "markdown",
   "metadata": {
    "id": "5T6ozRm84qu_"
   },
   "source": [
    "![image](https://lh4.googleusercontent.com/ojMXAE77tiVVF3RSqK1lldysJx5OzBJdE5ng_0w7GpHYWl9GR9jjBN0p56UFW3dM3gEdS-0oTOw0IjORJXVImFvcXdD-EnFibJl06gxMN_kYTeOyfmanNEvXK59CYzt2t_3DifPG)"
   ]
  },
  {
   "cell_type": "code",
   "execution_count": 12,
   "metadata": {
    "colab": {
     "base_uri": "https://localhost:8080/"
    },
    "id": "TA6O3OOJ4qu_",
    "outputId": "bdbd28aa-7e75-4002-d67b-f93e079af655"
   },
   "outputs": [
    {
     "name": "stdout",
     "output_type": "stream",
     "text": [
      "Model: \"sequential_1\"\n",
      "_________________________________________________________________\n",
      "Layer (type)                 Output Shape              Param #   \n",
      "=================================================================\n",
      "conv2d (Conv2D)              (None, 26, 26, 128)       1280      \n",
      "_________________________________________________________________\n",
      "conv2d_1 (Conv2D)            (None, 24, 24, 128)       147584    \n",
      "_________________________________________________________________\n",
      "max_pooling2d (MaxPooling2D) (None, 12, 12, 128)       0         \n",
      "_________________________________________________________________\n",
      "dropout (Dropout)            (None, 12, 12, 128)       0         \n",
      "_________________________________________________________________\n",
      "flatten (Flatten)            (None, 18432)             0         \n",
      "_________________________________________________________________\n",
      "dense_3 (Dense)              (None, 100)               1843300   \n",
      "_________________________________________________________________\n",
      "dense_4 (Dense)              (None, 10)                1010      \n",
      "=================================================================\n",
      "Total params: 1,993,174\n",
      "Trainable params: 1,993,174\n",
      "Non-trainable params: 0\n",
      "_________________________________________________________________\n"
     ]
    }
   ],
   "source": [
    "# define cnn model\n",
    "model = Sequential() # 32\n",
    "model.add(Conv2D(128, (3, 3), activation='relu', kernel_initializer='he_uniform', input_shape=(28, 28, 1) ) ) #\n",
    "model.add(Conv2D(128, (3, 3), activation='relu'))\n",
    "model.add(MaxPooling2D((2, 2)))\n",
    "model.add(Dropout(0.25))\n",
    "model.add(Flatten())\n",
    "model.add(Dense(100, activation='relu',  kernel_initializer='he_uniform')) #))\n",
    "model.add(Dense(10, activation='softmax'))\n",
    "\n",
    "# compile model\n",
    "#opt = SGD(lr=0.01, momentum=0.9)\n",
    "model.compile(optimizer=\"adam\", loss='categorical_crossentropy', metrics=['accuracy'])\n",
    "model.summary()"
   ]
  },
  {
   "cell_type": "code",
   "execution_count": 13,
   "metadata": {
    "colab": {
     "base_uri": "https://localhost:8080/"
    },
    "id": "fR5PfERn4qu_",
    "outputId": "6f88831e-57e0-49da-f094-8ce769770385"
   },
   "outputs": [
    {
     "name": "stdout",
     "output_type": "stream",
     "text": [
      "Training matrix shape (60000, 28, 28, 1)\n",
      "Testing matrix shape (10000, 28, 28, 1)\n"
     ]
    }
   ],
   "source": [
    "# reshape dataset to have a single channel\n",
    "(X_train, y_train), (X_test, y_test) = mnist.load_data()\n",
    "X_train = X_train.reshape((X_train.shape[0], 28, 28, 1))\n",
    "X_test = X_test.reshape((X_test.shape[0], 28, 28, 1))\n",
    "\n",
    "X_train = X_train.astype('float32')\n",
    "X_test = X_test.astype('float32')\n",
    "X_train /= 255.0\n",
    "X_test /= 255.0\n",
    "print(\"Training matrix shape\", X_train.shape)\n",
    "print(\"Testing matrix shape\", X_test.shape)\n",
    "\n",
    "# one hot encode target values\n",
    "Y_train = to_categorical(y_train)\n",
    "Y_test = to_categorical(y_test)"
   ]
  },
  {
   "cell_type": "code",
   "execution_count": 14,
   "metadata": {
    "colab": {
     "base_uri": "https://localhost:8080/"
    },
    "id": "M2jVaQtJ4qu_",
    "outputId": "7348b0a9-b100-4f55-ca0f-859df52afeda"
   },
   "outputs": [
    {
     "name": "stdout",
     "output_type": "stream",
     "text": [
      "Epoch 1/20\n",
      "118/118 [==============================] - 19s 26ms/step - loss: 0.4585 - accuracy: 0.8446 - val_loss: 0.0434 - val_accuracy: 0.9855\n",
      "Epoch 2/20\n",
      "118/118 [==============================] - 3s 24ms/step - loss: 0.0451 - accuracy: 0.9864 - val_loss: 0.0403 - val_accuracy: 0.9855\n",
      "Epoch 3/20\n",
      "118/118 [==============================] - 3s 22ms/step - loss: 0.0283 - accuracy: 0.9911 - val_loss: 0.0337 - val_accuracy: 0.9884\n",
      "Epoch 4/20\n",
      "118/118 [==============================] - 3s 22ms/step - loss: 0.0204 - accuracy: 0.9936 - val_loss: 0.0323 - val_accuracy: 0.9897\n",
      "Epoch 5/20\n",
      "118/118 [==============================] - 3s 23ms/step - loss: 0.0129 - accuracy: 0.9957 - val_loss: 0.0412 - val_accuracy: 0.9877\n",
      "Epoch 6/20\n",
      "118/118 [==============================] - 3s 22ms/step - loss: 0.0105 - accuracy: 0.9963 - val_loss: 0.0434 - val_accuracy: 0.9878\n",
      "Epoch 7/20\n",
      "118/118 [==============================] - 3s 22ms/step - loss: 0.0106 - accuracy: 0.9968 - val_loss: 0.0347 - val_accuracy: 0.9904\n",
      "Epoch 8/20\n",
      "118/118 [==============================] - 3s 22ms/step - loss: 0.0084 - accuracy: 0.9973 - val_loss: 0.0419 - val_accuracy: 0.9892\n",
      "Epoch 9/20\n",
      "118/118 [==============================] - 3s 22ms/step - loss: 0.0055 - accuracy: 0.9982 - val_loss: 0.0363 - val_accuracy: 0.9899\n",
      "Epoch 10/20\n",
      "118/118 [==============================] - 3s 22ms/step - loss: 0.0065 - accuracy: 0.9980 - val_loss: 0.0425 - val_accuracy: 0.9900\n",
      "Epoch 11/20\n",
      "118/118 [==============================] - 3s 22ms/step - loss: 0.0041 - accuracy: 0.9985 - val_loss: 0.0467 - val_accuracy: 0.9902\n",
      "Epoch 12/20\n",
      "118/118 [==============================] - 3s 24ms/step - loss: 0.0080 - accuracy: 0.9973 - val_loss: 0.0415 - val_accuracy: 0.9894\n",
      "Epoch 13/20\n",
      "118/118 [==============================] - 3s 22ms/step - loss: 0.0038 - accuracy: 0.9988 - val_loss: 0.0482 - val_accuracy: 0.9901\n",
      "Epoch 14/20\n",
      "118/118 [==============================] - 3s 22ms/step - loss: 0.0029 - accuracy: 0.9990 - val_loss: 0.0457 - val_accuracy: 0.9902\n",
      "Epoch 15/20\n",
      "118/118 [==============================] - 3s 22ms/step - loss: 0.0031 - accuracy: 0.9990 - val_loss: 0.0568 - val_accuracy: 0.9894\n",
      "Epoch 16/20\n",
      "118/118 [==============================] - 3s 22ms/step - loss: 0.0045 - accuracy: 0.9985 - val_loss: 0.0446 - val_accuracy: 0.9903\n",
      "Epoch 17/20\n",
      "118/118 [==============================] - 3s 22ms/step - loss: 0.0037 - accuracy: 0.9989 - val_loss: 0.0541 - val_accuracy: 0.9901\n",
      "Epoch 18/20\n",
      "118/118 [==============================] - 3s 23ms/step - loss: 0.0032 - accuracy: 0.9989 - val_loss: 0.0523 - val_accuracy: 0.9899\n",
      "Epoch 19/20\n",
      "118/118 [==============================] - 3s 22ms/step - loss: 0.0043 - accuracy: 0.9987 - val_loss: 0.0514 - val_accuracy: 0.9890\n",
      "Epoch 20/20\n",
      "118/118 [==============================] - 3s 24ms/step - loss: 0.0035 - accuracy: 0.9989 - val_loss: 0.0586 - val_accuracy: 0.9883\n",
      "CPU times: user 43.9 s, sys: 2.36 s, total: 46.3 s\n",
      "Wall time: 1min 23s\n"
     ]
    }
   ],
   "source": [
    "%%time\n",
    "history = model.fit(X_train, Y_train, \n",
    "                    epochs=20, \n",
    "                    batch_size=512, \n",
    "                    validation_data=(X_test, Y_test), \n",
    "                    verbose=1)"
   ]
  },
  {
   "cell_type": "code",
   "execution_count": 15,
   "metadata": {
    "colab": {
     "base_uri": "https://localhost:8080/"
    },
    "id": "xS5XXNHg4qu_",
    "outputId": "f1116875-bac2-497f-a6ba-0a92b79482dd"
   },
   "outputs": [
    {
     "name": "stdout",
     "output_type": "stream",
     "text": [
      "> 98.830\n"
     ]
    }
   ],
   "source": [
    "_, acc = model.evaluate(X_test, Y_test, verbose=0)\n",
    "print('> %.3f' % (acc * 100.0))"
   ]
  },
  {
   "cell_type": "markdown",
   "metadata": {
    "id": "ECkrQFAGcIQk"
   },
   "source": [
    "## Plotando algumas predições erradas do conjunto de teste"
   ]
  },
  {
   "cell_type": "code",
   "execution_count": 16,
   "metadata": {
    "colab": {
     "base_uri": "https://localhost:8080/",
     "height": 296
    },
    "id": "QfQYcaQxcIQl",
    "outputId": "a4f12fc2-7f3b-46d3-df6b-cae46f97cda8"
   },
   "outputs": [
    {
     "name": "stderr",
     "output_type": "stream",
     "text": [
      "/usr/local/lib/python3.7/dist-packages/keras/engine/sequential.py:450: UserWarning: `model.predict_classes()` is deprecated and will be removed after 2021-01-01. Please use instead:* `np.argmax(model.predict(x), axis=-1)`,   if your model does multi-class classification   (e.g. if it uses a `softmax` last-layer activation).* `(model.predict(x) > 0.5).astype(\"int32\")`,   if your model does binary classification   (e.g. if it uses a `sigmoid` last-layer activation).\n",
      "  warnings.warn('`model.predict_classes()` is deprecated and '\n"
     ]
    },
    {
     "data": {
      "image/png": "[encoded data removed]",
      "text/plain": [
       "<Figure size 432x288 with 10 Axes>"
      ]
     },
     "metadata": {
      "tags": []
     },
     "output_type": "display_data"
    }
   ],
   "source": [
    "# classificações incorretas\n",
    "y_test_pred = model.predict_classes(X_test)\n",
    "#y_test_pred = np_utils.to_categorical(y_test_pred, nb_classes)\n",
    "\n",
    "miscl_img = X_test[y_test != y_test_pred][:25]\n",
    "correct_lab = y_test[y_test != y_test_pred][:25]\n",
    "miscl_lab = y_test_pred[y_test != y_test_pred][:25]\n",
    "\n",
    "\n",
    "#miscl_img = X_test[correct_indices]\n",
    "fig, ax = plt.subplots(nrows=2, ncols=5, sharex=True, sharey=True,)\n",
    "ax = ax.flatten()\n",
    "for i in range(10):\n",
    "    img = miscl_img[i].reshape(28, 28)\n",
    "    ax[i].imshow(img, cmap='Greys', interpolation='nearest')\n",
    "    ax[i].set_title('%d) t: %d p: %d' % (i+1, correct_lab[i], miscl_lab[i]))\n",
    "\n",
    "ax[0].set_xticks([])\n",
    "ax[0].set_yticks([])\n",
    "plt.tight_layout()\n",
    "plt.show()"
   ]
  },
  {
   "cell_type": "markdown",
   "metadata": {
    "id": "4IfepFdZcIQp"
   },
   "source": [
    "# Plotando algumas predições Corretas do conjunto de teste"
   ]
  },
  {
   "cell_type": "code",
   "execution_count": 17,
   "metadata": {
    "colab": {
     "base_uri": "https://localhost:8080/",
     "height": 295
    },
    "id": "9deHG7zKcIQq",
    "outputId": "b4a73eeb-2e3c-4e7a-a753-098cf2640574"
   },
   "outputs": [
    {
     "data": {
      "image/png": "[encoded data removed]",
      "text/plain": [
       "<Figure size 432x288 with 15 Axes>"
      ]
     },
     "metadata": {
      "tags": []
     },
     "output_type": "display_data"
    }
   ],
   "source": [
    "# classificações corretas\n",
    "miscl_img = X_test[y_test == y_test_pred][:25]\n",
    "correct_lab = y_test[y_test == y_test_pred][:25]\n",
    "miscl_lab = y_test_pred[y_test == y_test_pred][:25]\n",
    "\n",
    "\n",
    "#miscl_img = X_test[correct_indices]\n",
    "fig, ax = plt.subplots(nrows=3, ncols=5, sharex=True, sharey=True,)\n",
    "ax = ax.flatten()\n",
    "for i in range(15):\n",
    "    img = miscl_img[i].reshape(28, 28)\n",
    "    ax[i].imshow(img, cmap='Greys', interpolation='nearest')\n",
    "    ax[i].set_title('%d) t: %d p: %d' % (i+1, correct_lab[i], miscl_lab[i]))\n",
    "\n",
    "ax[0].set_xticks([])\n",
    "ax[0].set_yticks([])\n",
    "plt.tight_layout()\n",
    "plt.show()"
   ]
  }
 ],
 "metadata": {
  "accelerator": "GPU",
  "colab": {
   "collapsed_sections": [],
   "name": "Keras_MNIST_2020.ipynb",
   "provenance": []
  },
  "kernelspec": {
   "display_name": "Python 3",
   "language": "python",
   "name": "python3"
  },
  "language_info": {
   "codemirror_mode": {
    "name": "ipython",
    "version": 3
   },
   "file_extension": ".py",
   "mimetype": "text/x-python",
   "name": "python",
   "nbconvert_exporter": "python",
   "pygments_lexer": "ipython3",
   "version": "3.8.5"
  }
 },
 "nbformat": 4,
 "nbformat_minor": 1
}
