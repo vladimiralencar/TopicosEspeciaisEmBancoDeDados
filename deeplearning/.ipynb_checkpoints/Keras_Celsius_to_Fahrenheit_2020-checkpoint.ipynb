version https://git-lfs.github.com/spec/v1
oid sha256:1b51bf335e09aea143ada9572ab174784f17e53004ee19ddba3be842f9179b73
size 27272
