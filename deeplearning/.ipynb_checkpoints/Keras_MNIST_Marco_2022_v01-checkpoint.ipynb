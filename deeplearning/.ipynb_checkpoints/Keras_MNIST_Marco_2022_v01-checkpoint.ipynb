version https://git-lfs.github.com/spec/v1
oid sha256:ea7d33445eeef4dfef74f3f75c7b5f4ac06a920b9c59e5b516819233ffcce7e5
size 145511
