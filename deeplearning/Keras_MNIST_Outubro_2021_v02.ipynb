{
  "nbformat": 4,
  "nbformat_minor": 0,
  "metadata": {
    "accelerator": "GPU",
    "colab": {
      "name": "Keras_MNIST_Outubro_2021-v02.ipynb",
      "provenance": [],
      "collapsed_sections": [],
      "machine_shape": "hm",
      "include_colab_link": true
    },
    "kernelspec": {
      "display_name": "Python 3",
      "language": "python",
      "name": "python3"
    },
    "language_info": {
      "codemirror_mode": {
        "name": "ipython",
        "version": 3
      },
      "file_extension": ".py",
      "mimetype": "text/x-python",
      "name": "python",
      "nbconvert_exporter": "python",
      "pygments_lexer": "ipython3",
      "version": "3.8.5"
    }
  },
  "cells": [
    {
      "cell_type": "markdown",
      "metadata": {
        "id": "view-in-github",
        "colab_type": "text"
      },
      "source": [
        "<a href=\"https://colab.research.google.com/github/vladimiralencar/Alunos-UEPB-TopicosEspeciaisEmBancoDeDados/blob/master/deeplearning/Keras_MNIST_Outubro_2021_v02.ipynb\" target=\"_parent\"><img src=\"https://colab.research.google.com/assets/colab-badge.svg\" alt=\"Open In Colab\"/></a>"
      ]
    },
    {
      "cell_type": "markdown",
      "metadata": {
        "id": "PFDfn6xucIPz"
      },
      "source": [
        "## Keras - Reconhecimento de Dígitos (MNIST)"
      ]
    },
    {
      "cell_type": "code",
      "metadata": {
        "id": "qut7f9LHBY8t",
        "colab": {
          "base_uri": "https://localhost:8080/"
        },
        "outputId": "efd3c2ae-725b-4e8d-c2d1-42d56e09abe8"
      },
      "source": [
        "!nvidia-smi"
      ],
      "execution_count": null,
      "outputs": [
        {
          "output_type": "stream",
          "name": "stdout",
          "text": [
            "Thu Oct 14 11:00:40 2021       \n",
            "+-----------------------------------------------------------------------------+\n",
            "| NVIDIA-SMI 470.74       Driver Version: 460.32.03    CUDA Version: 11.2     |\n",
            "|-------------------------------+----------------------+----------------------+\n",
            "| GPU  Name        Persistence-M| Bus-Id        Disp.A | Volatile Uncorr. ECC |\n",
            "| Fan  Temp  Perf  Pwr:Usage/Cap|         Memory-Usage | GPU-Util  Compute M. |\n",
            "|                               |                      |               MIG M. |\n",
            "|===============================+======================+======================|\n",
            "|   0  Tesla P100-PCIE...  Off  | 00000000:00:04.0 Off |                    0 |\n",
            "| N/A   41C    P0    27W / 250W |      0MiB / 16280MiB |      0%      Default |\n",
            "|                               |                      |                  N/A |\n",
            "+-------------------------------+----------------------+----------------------+\n",
            "                                                                               \n",
            "+-----------------------------------------------------------------------------+\n",
            "| Processes:                                                                  |\n",
            "|  GPU   GI   CI        PID   Type   Process name                  GPU Memory |\n",
            "|        ID   ID                                                   Usage      |\n",
            "|=============================================================================|\n",
            "|  No running processes found                                                 |\n",
            "+-----------------------------------------------------------------------------+\n"
          ]
        }
      ]
    },
    {
      "cell_type": "code",
      "metadata": {
        "id": "DOWs0me_cIP0"
      },
      "source": [
        "import numpy as np\n",
        "import matplotlib.pyplot as plt\n",
        "plt.rcParams['figure.figsize'] = (7,7) # Make the figures a bit bigger\n",
        "from tensorflow.keras.datasets import mnist\n",
        "from tensorflow.keras.models import Sequential\n",
        "from tensorflow.keras.layers import Conv2D, MaxPooling2D, Dense, Flatten, Dropout, Activation\n",
        "from tensorflow.keras.optimizers import SGD, Adam, RMSprop\n",
        "from tensorflow.keras.utils import to_categorical\n",
        "from tensorflow.keras.models import load_model\n",
        "%matplotlib inline"
      ],
      "execution_count": null,
      "outputs": []
    },
    {
      "cell_type": "markdown",
      "metadata": {
        "id": "FhpUWYJwcIP8"
      },
      "source": [
        "## Carregando arquivo de dígitos"
      ]
    },
    {
      "cell_type": "code",
      "metadata": {
        "id": "KB9stpCWcIP9",
        "colab": {
          "base_uri": "https://localhost:8080/"
        },
        "outputId": "b9cf7a9f-24df-40f0-cd13-8870d1fab1a2"
      },
      "source": [
        "nb_classes = 10\n",
        "\n",
        "# the data, shuffled and split between tran and test sets\n",
        "(X_train, y_train), (X_test, y_test) = mnist.load_data()\n",
        "print(\"X_train original shape\", X_train.shape)\n",
        "print(\"y_train original shape\", y_train.shape)"
      ],
      "execution_count": null,
      "outputs": [
        {
          "output_type": "stream",
          "name": "stdout",
          "text": [
            "Downloading data from https://storage.googleapis.com/tensorflow/tf-keras-datasets/mnist.npz\n",
            "11493376/11490434 [==============================] - 0s 0us/step\n",
            "11501568/11490434 [==============================] - 0s 0us/step\n",
            "X_train original shape (60000, 28, 28)\n",
            "y_train original shape (60000,)\n"
          ]
        }
      ]
    },
    {
      "cell_type": "markdown",
      "metadata": {
        "id": "iVv7M8TfcIQA"
      },
      "source": [
        "Let's look at some examples of the training data"
      ]
    },
    {
      "cell_type": "code",
      "metadata": {
        "id": "v1vFd-PxcIQB",
        "colab": {
          "base_uri": "https://localhost:8080/",
          "height": 281
        },
        "outputId": "eacb4b4f-35d8-48bb-9e68-dd798724c400"
      },
      "source": [
        "for i in range(9):\n",
        "    plt.subplot(3,3,i+1)\n",
        "    plt.imshow(X_train[i], cmap='gray', interpolation='none')\n",
        "    plt.title(\"Class {}\".format(y_train[i]))"
      ],
      "execution_count": null,
      "outputs": [
        {
          "output_type": "display_data",
          "data": {
            "image/png": "[encoded data removed]",
            "text/plain": [
              "<Figure size 432x288 with 9 Axes>"
            ]
          },
          "metadata": {
            "needs_background": "light"
          }
        }
      ]
    },
    {
      "cell_type": "markdown",
      "metadata": {
        "id": "EVuPjfyUcIQE"
      },
      "source": [
        "## Formatar e  Colocar os dados em Escala \n",
        "Our neural-network is going to take a single vector for each training example, so we need to reshape the input so that each 28x28 image becomes a single 784 dimensional vector. We'll also scale the inputs to be in the range [0-1] rather than [0-255]"
      ]
    },
    {
      "cell_type": "code",
      "metadata": {
        "id": "Q_Q9REmIcIQF",
        "colab": {
          "base_uri": "https://localhost:8080/"
        },
        "outputId": "9af2c786-5d44-4100-d8a5-641827811031"
      },
      "source": [
        "X_train = X_train.reshape(60000, 784)\n",
        "X_test = X_test.reshape(10000, 784)\n",
        "X_train = X_train.astype('float32')\n",
        "X_test = X_test.astype('float32')\n",
        "X_train /= 255\n",
        "X_test /= 255\n",
        "print(\"Training matrix shape\", X_train.shape)\n",
        "print(\"Testing matrix shape\", X_test.shape)"
      ],
      "execution_count": null,
      "outputs": [
        {
          "output_type": "stream",
          "name": "stdout",
          "text": [
            "Training matrix shape (60000, 784)\n",
            "Testing matrix shape (10000, 784)\n"
          ]
        }
      ]
    },
    {
      "cell_type": "markdown",
      "metadata": {
        "id": "Sm0DR8vwcIQJ"
      },
      "source": [
        "Modify the target matrices to be in the one-hot format, i.e.\n",
        "\n",
        "```\n",
        "0 -> [1, 0, 0, 0, 0, 0, 0, 0, 0]\n",
        "1 -> [0, 1, 0, 0, 0, 0, 0, 0, 0]\n",
        "2 -> [0, 0, 1, 0, 0, 0, 0, 0, 0]\n",
        "etc.\n",
        "```"
      ]
    },
    {
      "cell_type": "code",
      "metadata": {
        "id": "SEfGsZGNcIQK"
      },
      "source": [
        "# codificação ONE-HOT ENCODING\n",
        "Y_train = to_categorical(y_train, nb_classes)\n",
        "Y_test = to_categorical(y_test, nb_classes)"
      ],
      "execution_count": null,
      "outputs": []
    },
    {
      "cell_type": "code",
      "metadata": {
        "id": "g5dP0oIocIQN",
        "colab": {
          "base_uri": "https://localhost:8080/"
        },
        "outputId": "e821af28-8462-4f54-bf34-e9c8a00205c6"
      },
      "source": [
        "Y_test[0]"
      ],
      "execution_count": null,
      "outputs": [
        {
          "output_type": "execute_result",
          "data": {
            "text/plain": [
              "array([0., 0., 0., 0., 0., 0., 0., 1., 0., 0.], dtype=float32)"
            ]
          },
          "metadata": {},
          "execution_count": 8
        }
      ]
    },
    {
      "cell_type": "markdown",
      "metadata": {
        "id": "l8FKld2wcIQR"
      },
      "source": [
        "# Construindo a Rede Neural\n",
        "Build the neural-network. Here we'll do a simple 3 layer fully connected network.\n",
        "<img src=\"https://raw.githubusercontent.com/vladimiralencar/Alunos-UEPB-TopicosEspeciaisEmBancoDeDados/master/deeplearning/data/figure.png\" />"
      ]
    },
    {
      "cell_type": "code",
      "metadata": {
        "id": "45U_h6vQcIQS"
      },
      "source": [
        "model = Sequential()\n",
        "model.add(Dense(512, input_shape=(784,)))\n",
        "model.add(Activation('relu')) # An \"activation\" is just a non-linear function applied to the output\n",
        "                              # of the layer above. Here, with a \"rectified linear unit\",\n",
        "                              # we clamp all values below 0 to 0.\n",
        "                           \n",
        "#model.add(Dropout(0.3))   # Dropout helps protect the model from memorizing or \"overfitting\" the training data\n",
        "model.add(Dense(512))\n",
        "model.add(Activation('relu'))\n",
        "#model.add(Dropout(0.3))\n",
        "model.add(Dense(10))\n",
        "model.add(Activation('softmax')) # This special \"softmax\" activation among other things,\n",
        "                                 # ensures the output is a valid probaility distribution, that is\n",
        "                                 # that its values are all non-negative and sum to 1."
      ],
      "execution_count": null,
      "outputs": []
    },
    {
      "cell_type": "markdown",
      "metadata": {
        "id": "bprkmGQxcIQW"
      },
      "source": [
        "## Compile the model\n"
      ]
    },
    {
      "cell_type": "code",
      "metadata": {
        "id": "IlNffN5XcIQX",
        "colab": {
          "base_uri": "https://localhost:8080/"
        },
        "outputId": "5242a5cb-a901-4fd0-a4ae-9628abcf9e56"
      },
      "source": [
        "model.compile(loss='categorical_crossentropy', optimizer='RMSprop', metrics=['accuracy'])\n",
        "model.summary()"
      ],
      "execution_count": null,
      "outputs": [
        {
          "output_type": "stream",
          "name": "stdout",
          "text": [
            "Model: \"sequential_1\"\n",
            "_________________________________________________________________\n",
            "Layer (type)                 Output Shape              Param #   \n",
            "=================================================================\n",
            "dense_3 (Dense)              (None, 512)               401920    \n",
            "_________________________________________________________________\n",
            "activation_3 (Activation)    (None, 512)               0         \n",
            "_________________________________________________________________\n",
            "dense_4 (Dense)              (None, 512)               262656    \n",
            "_________________________________________________________________\n",
            "activation_4 (Activation)    (None, 512)               0         \n",
            "_________________________________________________________________\n",
            "dense_5 (Dense)              (None, 10)                5130      \n",
            "_________________________________________________________________\n",
            "activation_5 (Activation)    (None, 10)                0         \n",
            "=================================================================\n",
            "Total params: 669,706\n",
            "Trainable params: 669,706\n",
            "Non-trainable params: 0\n",
            "_________________________________________________________________\n"
          ]
        }
      ]
    },
    {
      "cell_type": "markdown",
      "metadata": {
        "id": "2V_N8Ft-cIQb"
      },
      "source": [
        "## Train the model!\n",
        "This is the fun part: you can feed the training data loaded in earlier into this model and it will learn to classify digits"
      ]
    },
    {
      "cell_type": "code",
      "metadata": {
        "id": "Y7uvIivNcIQc",
        "colab": {
          "base_uri": "https://localhost:8080/"
        },
        "outputId": "c23593cb-8b9f-4641-be99-f434e6dfb47e"
      },
      "source": [
        "%%time\n",
        "model.fit(X_train, Y_train,\n",
        "          batch_size=256, epochs=20,\n",
        "          verbose=1,\n",
        "          validation_data=(X_test, Y_test))"
      ],
      "execution_count": null,
      "outputs": [
        {
          "output_type": "stream",
          "name": "stdout",
          "text": [
            "Epoch 1/20\n",
            "235/235 [==============================] - 2s 5ms/step - loss: 0.0034 - accuracy: 0.9987 - val_loss: 0.0935 - val_accuracy: 0.9832\n",
            "Epoch 2/20\n",
            "235/235 [==============================] - 1s 3ms/step - loss: 0.0023 - accuracy: 0.9992 - val_loss: 0.1131 - val_accuracy: 0.9814\n",
            "Epoch 3/20\n",
            "235/235 [==============================] - 1s 4ms/step - loss: 0.0020 - accuracy: 0.9994 - val_loss: 0.1226 - val_accuracy: 0.9829\n",
            "Epoch 4/20\n",
            "235/235 [==============================] - 1s 3ms/step - loss: 0.0019 - accuracy: 0.9994 - val_loss: 0.1188 - val_accuracy: 0.9841\n",
            "Epoch 5/20\n",
            "235/235 [==============================] - 1s 3ms/step - loss: 0.0015 - accuracy: 0.9996 - val_loss: 0.1332 - val_accuracy: 0.9830\n",
            "Epoch 6/20\n",
            "235/235 [==============================] - 1s 4ms/step - loss: 0.0017 - accuracy: 0.9995 - val_loss: 0.1263 - val_accuracy: 0.9842\n",
            "Epoch 7/20\n",
            "235/235 [==============================] - 1s 3ms/step - loss: 0.0013 - accuracy: 0.9996 - val_loss: 0.1409 - val_accuracy: 0.9827\n",
            "Epoch 8/20\n",
            "235/235 [==============================] - 1s 3ms/step - loss: 0.0017 - accuracy: 0.9995 - val_loss: 0.1285 - val_accuracy: 0.9839\n",
            "Epoch 9/20\n",
            "235/235 [==============================] - 1s 3ms/step - loss: 0.0012 - accuracy: 0.9996 - val_loss: 0.1270 - val_accuracy: 0.9842\n",
            "Epoch 10/20\n",
            "235/235 [==============================] - 1s 4ms/step - loss: 0.0013 - accuracy: 0.9996 - val_loss: 0.1348 - val_accuracy: 0.9838\n",
            "Epoch 11/20\n",
            "235/235 [==============================] - 1s 3ms/step - loss: 0.0015 - accuracy: 0.9995 - val_loss: 0.1421 - val_accuracy: 0.9832\n",
            "Epoch 12/20\n",
            "235/235 [==============================] - 1s 3ms/step - loss: 0.0011 - accuracy: 0.9997 - val_loss: 0.1423 - val_accuracy: 0.9843\n",
            "Epoch 13/20\n",
            "235/235 [==============================] - 1s 4ms/step - loss: 0.0015 - accuracy: 0.9997 - val_loss: 0.1437 - val_accuracy: 0.9834\n",
            "Epoch 14/20\n",
            "235/235 [==============================] - 1s 3ms/step - loss: 7.7530e-04 - accuracy: 0.9997 - val_loss: 0.1487 - val_accuracy: 0.9844\n",
            "Epoch 15/20\n",
            "235/235 [==============================] - 1s 4ms/step - loss: 0.0018 - accuracy: 0.9996 - val_loss: 0.1377 - val_accuracy: 0.9861\n",
            "Epoch 16/20\n",
            "235/235 [==============================] - 1s 3ms/step - loss: 9.5193e-04 - accuracy: 0.9997 - val_loss: 0.1510 - val_accuracy: 0.9846\n",
            "Epoch 17/20\n",
            "235/235 [==============================] - 1s 3ms/step - loss: 0.0010 - accuracy: 0.9997 - val_loss: 0.1503 - val_accuracy: 0.9860\n",
            "Epoch 18/20\n",
            "235/235 [==============================] - 1s 4ms/step - loss: 7.9156e-04 - accuracy: 0.9997 - val_loss: 0.1606 - val_accuracy: 0.9851\n",
            "Epoch 19/20\n",
            "235/235 [==============================] - 1s 3ms/step - loss: 0.0014 - accuracy: 0.9997 - val_loss: 0.2118 - val_accuracy: 0.9790\n",
            "Epoch 20/20\n",
            "235/235 [==============================] - 1s 4ms/step - loss: 0.0014 - accuracy: 0.9996 - val_loss: 0.1674 - val_accuracy: 0.9844\n",
            "CPU times: user 24.2 s, sys: 5.07 s, total: 29.3 s\n",
            "Wall time: 17.6 s\n"
          ]
        },
        {
          "output_type": "execute_result",
          "data": {
            "text/plain": [
              "<keras.callbacks.History at 0x7fb4826d5710>"
            ]
          },
          "metadata": {},
          "execution_count": 19
        }
      ]
    },
    {
      "cell_type": "markdown",
      "metadata": {
        "id": "LN4I2tmAcIQg"
      },
      "source": [
        "## Finally, evaluate its performance"
      ]
    },
    {
      "cell_type": "code",
      "metadata": {
        "id": "ESUE8YzEcIQh",
        "colab": {
          "base_uri": "https://localhost:8080/"
        },
        "outputId": "c168e278-feea-46c5-b67e-3ed4748fa366"
      },
      "source": [
        "#loss = model.evaluate(X_test, Y_test,verbose=0)\n",
        "#print('Acurácia de teste:', 1 - loss)\n",
        "\n",
        "_, acc = model.evaluate(X_test, Y_test, verbose=0)\n",
        "print('> %.3f' % (acc * 100.0))"
      ],
      "execution_count": null,
      "outputs": [
        {
          "output_type": "stream",
          "name": "stdout",
          "text": [
            "> 98.440\n"
          ]
        }
      ]
    },
    {
      "cell_type": "markdown",
      "metadata": {
        "id": "CdJ5z8Sg4qu_"
      },
      "source": [
        "# CNN Model"
      ]
    },
    {
      "cell_type": "markdown",
      "metadata": {
        "id": "5T6ozRm84qu_"
      },
      "source": [
        "![image](https://lh4.googleusercontent.com/ojMXAE77tiVVF3RSqK1lldysJx5OzBJdE5ng_0w7GpHYWl9GR9jjBN0p56UFW3dM3gEdS-0oTOw0IjORJXVImFvcXdD-EnFibJl06gxMN_kYTeOyfmanNEvXK59CYzt2t_3DifPG)"
      ]
    },
    {
      "cell_type": "code",
      "metadata": {
        "id": "TA6O3OOJ4qu_",
        "colab": {
          "base_uri": "https://localhost:8080/"
        },
        "outputId": "fdb58715-f69d-41be-9644-4b07d90fe5dd"
      },
      "source": [
        "# define cnn model\n",
        "model = Sequential() # 32\n",
        "model.add(Conv2D(128, (3, 3), activation='relu', kernel_initializer='he_uniform', input_shape=(28, 28, 1) ) ) #\n",
        "model.add(Conv2D(128, (3, 3), activation='relu'))\n",
        "model.add(MaxPooling2D((2, 2)))\n",
        "model.add(Dropout(0.25))\n",
        "model.add(Flatten())\n",
        "model.add(Dense(100, activation='relu',  kernel_initializer='he_uniform')) #))\n",
        "model.add(Dense(10, activation='softmax'))\n",
        "\n",
        "# compile model\n",
        "#opt = SGD(lr=0.01, momentum=0.9)\n",
        "model.compile(optimizer=\"adam\", loss='categorical_crossentropy', metrics=['accuracy'])\n",
        "model.summary()"
      ],
      "execution_count": null,
      "outputs": [
        {
          "output_type": "stream",
          "name": "stdout",
          "text": [
            "Model: \"sequential_2\"\n",
            "_________________________________________________________________\n",
            "Layer (type)                 Output Shape              Param #   \n",
            "=================================================================\n",
            "conv2d (Conv2D)              (None, 26, 26, 128)       1280      \n",
            "_________________________________________________________________\n",
            "conv2d_1 (Conv2D)            (None, 24, 24, 128)       147584    \n",
            "_________________________________________________________________\n",
            "max_pooling2d (MaxPooling2D) (None, 12, 12, 128)       0         \n",
            "_________________________________________________________________\n",
            "dropout (Dropout)            (None, 12, 12, 128)       0         \n",
            "_________________________________________________________________\n",
            "flatten (Flatten)            (None, 18432)             0         \n",
            "_________________________________________________________________\n",
            "dense_6 (Dense)              (None, 100)               1843300   \n",
            "_________________________________________________________________\n",
            "dense_7 (Dense)              (None, 10)                1010      \n",
            "=================================================================\n",
            "Total params: 1,993,174\n",
            "Trainable params: 1,993,174\n",
            "Non-trainable params: 0\n",
            "_________________________________________________________________\n"
          ]
        }
      ]
    },
    {
      "cell_type": "code",
      "metadata": {
        "id": "fR5PfERn4qu_",
        "colab": {
          "base_uri": "https://localhost:8080/"
        },
        "outputId": "252e6df1-57ab-41ba-a978-05be4f50ca16"
      },
      "source": [
        "# reshape dataset to have a single channel\n",
        "(X_train, y_train), (X_test, y_test) = mnist.load_data()\n",
        "X_train = X_train.reshape((X_train.shape[0], 28, 28, 1))\n",
        "X_test = X_test.reshape((X_test.shape[0], 28, 28, 1))\n",
        "\n",
        "X_train = X_train.astype('float32')\n",
        "X_test = X_test.astype('float32')\n",
        "X_train /= 255.0\n",
        "X_test /= 255.0\n",
        "print(\"Training matrix shape\", X_train.shape)\n",
        "print(\"Testing matrix shape\", X_test.shape)\n",
        "\n",
        "# one hot encode target values\n",
        "Y_train = to_categorical(y_train)\n",
        "Y_test = to_categorical(y_test)"
      ],
      "execution_count": null,
      "outputs": [
        {
          "output_type": "stream",
          "name": "stdout",
          "text": [
            "Training matrix shape (60000, 28, 28, 1)\n",
            "Testing matrix shape (10000, 28, 28, 1)\n"
          ]
        }
      ]
    },
    {
      "cell_type": "code",
      "metadata": {
        "id": "M2jVaQtJ4qu_",
        "colab": {
          "base_uri": "https://localhost:8080/"
        },
        "outputId": "291b8c37-2ce0-4f31-ead6-e5a53878b82a"
      },
      "source": [
        "%%time\n",
        "history = model.fit(X_train, Y_train, \n",
        "                    epochs=20, \n",
        "                    batch_size=512, \n",
        "                    validation_data=(X_test, Y_test), \n",
        "                    verbose=1)"
      ],
      "execution_count": null,
      "outputs": [
        {
          "output_type": "stream",
          "name": "stdout",
          "text": [
            "Epoch 1/20\n",
            "118/118 [==============================] - 20s 37ms/step - loss: 0.2113 - accuracy: 0.9352 - val_loss: 0.0551 - val_accuracy: 0.9825\n",
            "Epoch 2/20\n",
            "118/118 [==============================] - 4s 33ms/step - loss: 0.0486 - accuracy: 0.9852 - val_loss: 0.0379 - val_accuracy: 0.9882\n",
            "Epoch 3/20\n",
            "118/118 [==============================] - 4s 33ms/step - loss: 0.0316 - accuracy: 0.9901 - val_loss: 0.0355 - val_accuracy: 0.9894\n",
            "Epoch 4/20\n",
            "118/118 [==============================] - 4s 33ms/step - loss: 0.0201 - accuracy: 0.9938 - val_loss: 0.0399 - val_accuracy: 0.9875\n",
            "Epoch 5/20\n",
            "118/118 [==============================] - 4s 33ms/step - loss: 0.0157 - accuracy: 0.9948 - val_loss: 0.0391 - val_accuracy: 0.9890\n",
            "Epoch 6/20\n",
            "118/118 [==============================] - 4s 33ms/step - loss: 0.0134 - accuracy: 0.9953 - val_loss: 0.0315 - val_accuracy: 0.9904\n",
            "Epoch 7/20\n",
            "118/118 [==============================] - 4s 33ms/step - loss: 0.0091 - accuracy: 0.9971 - val_loss: 0.0331 - val_accuracy: 0.9901\n",
            "Epoch 8/20\n",
            "118/118 [==============================] - 4s 33ms/step - loss: 0.0070 - accuracy: 0.9978 - val_loss: 0.0375 - val_accuracy: 0.9895\n",
            "Epoch 9/20\n",
            "118/118 [==============================] - 4s 33ms/step - loss: 0.0076 - accuracy: 0.9975 - val_loss: 0.0363 - val_accuracy: 0.9907\n",
            "Epoch 10/20\n",
            "118/118 [==============================] - 4s 33ms/step - loss: 0.0068 - accuracy: 0.9977 - val_loss: 0.0431 - val_accuracy: 0.9883\n",
            "Epoch 11/20\n",
            "118/118 [==============================] - 4s 33ms/step - loss: 0.0048 - accuracy: 0.9984 - val_loss: 0.0434 - val_accuracy: 0.9896\n",
            "Epoch 12/20\n",
            "118/118 [==============================] - 4s 33ms/step - loss: 0.0055 - accuracy: 0.9981 - val_loss: 0.0382 - val_accuracy: 0.9899\n",
            "Epoch 13/20\n",
            "118/118 [==============================] - 4s 33ms/step - loss: 0.0061 - accuracy: 0.9977 - val_loss: 0.0449 - val_accuracy: 0.9896\n",
            "Epoch 14/20\n",
            "118/118 [==============================] - 4s 33ms/step - loss: 0.0038 - accuracy: 0.9988 - val_loss: 0.0365 - val_accuracy: 0.9910\n",
            "Epoch 15/20\n",
            "118/118 [==============================] - 4s 33ms/step - loss: 0.0041 - accuracy: 0.9986 - val_loss: 0.0404 - val_accuracy: 0.9911\n",
            "Epoch 16/20\n",
            "118/118 [==============================] - 4s 33ms/step - loss: 0.0040 - accuracy: 0.9986 - val_loss: 0.0391 - val_accuracy: 0.9898\n",
            "Epoch 17/20\n",
            "118/118 [==============================] - 4s 33ms/step - loss: 0.0075 - accuracy: 0.9976 - val_loss: 0.0417 - val_accuracy: 0.9897\n",
            "Epoch 18/20\n",
            "118/118 [==============================] - 4s 33ms/step - loss: 0.0039 - accuracy: 0.9986 - val_loss: 0.0453 - val_accuracy: 0.9897\n",
            "Epoch 19/20\n",
            "118/118 [==============================] - 4s 33ms/step - loss: 0.0042 - accuracy: 0.9985 - val_loss: 0.0447 - val_accuracy: 0.9896\n",
            "Epoch 20/20\n",
            "118/118 [==============================] - 4s 33ms/step - loss: 0.0032 - accuracy: 0.9988 - val_loss: 0.0385 - val_accuracy: 0.9918\n",
            "CPU times: user 1min 4s, sys: 4.3 s, total: 1min 8s\n",
            "Wall time: 1min 33s\n"
          ]
        }
      ]
    },
    {
      "cell_type": "markdown",
      "metadata": {
        "id": "xjgB6AmYI4QO"
      },
      "source": [
        "# Avaliando meu Modelo"
      ]
    },
    {
      "cell_type": "code",
      "metadata": {
        "id": "xS5XXNHg4qu_",
        "colab": {
          "base_uri": "https://localhost:8080/"
        },
        "outputId": "e53c7544-3246-4797-f540-2fdfdb720f8f"
      },
      "source": [
        "_, acc = model.evaluate(X_test, Y_test, verbose=0)\n",
        "print('> %.3f' % (acc * 100.0))"
      ],
      "execution_count": null,
      "outputs": [
        {
          "output_type": "stream",
          "name": "stdout",
          "text": [
            "> 99.180\n"
          ]
        }
      ]
    },
    {
      "cell_type": "markdown",
      "metadata": {
        "id": "wn7pD3c5I38v"
      },
      "source": [
        "# Resultados - Métricas Pesos Sinápticos e Hiperparâmetros"
      ]
    },
    {
      "cell_type": "code",
      "metadata": {
        "id": "DfbDWTjWFZi8",
        "colab": {
          "base_uri": "https://localhost:8080/"
        },
        "outputId": "a0e3ad72-8e38-4996-f4d3-d028a1a6e46a"
      },
      "source": [
        "history.__dict__"
      ],
      "execution_count": null,
      "outputs": [
        {
          "output_type": "execute_result",
          "data": {
            "text/plain": [
              "{'_chief_worker_only': None,\n",
              " '_supports_tf_logs': False,\n",
              " 'epoch': [0,\n",
              "  1,\n",
              "  2,\n",
              "  3,\n",
              "  4,\n",
              "  5,\n",
              "  6,\n",
              "  7,\n",
              "  8,\n",
              "  9,\n",
              "  10,\n",
              "  11,\n",
              "  12,\n",
              "  13,\n",
              "  14,\n",
              "  15,\n",
              "  16,\n",
              "  17,\n",
              "  18,\n",
              "  19],\n",
              " 'history': {'accuracy': [0.9352333545684814,\n",
              "   0.9851999878883362,\n",
              "   0.9901000261306763,\n",
              "   0.9937833547592163,\n",
              "   0.9947999715805054,\n",
              "   0.9953166842460632,\n",
              "   0.997083306312561,\n",
              "   0.9977999925613403,\n",
              "   0.9974666833877563,\n",
              "   0.9976833462715149,\n",
              "   0.99836665391922,\n",
              "   0.9981333613395691,\n",
              "   0.9977499842643738,\n",
              "   0.9988166689872742,\n",
              "   0.9985833168029785,\n",
              "   0.9986166954040527,\n",
              "   0.9975833296775818,\n",
              "   0.9986000061035156,\n",
              "   0.998533308506012,\n",
              "   0.9988333582878113],\n",
              "  'loss': [0.21129210293293,\n",
              "   0.04858294501900673,\n",
              "   0.03164193034172058,\n",
              "   0.020079512149095535,\n",
              "   0.015684988349676132,\n",
              "   0.013439600355923176,\n",
              "   0.009093165397644043,\n",
              "   0.006993759889155626,\n",
              "   0.007641856092959642,\n",
              "   0.006784080062061548,\n",
              "   0.0048000686801970005,\n",
              "   0.005467776209115982,\n",
              "   0.006074777338653803,\n",
              "   0.0037941276095807552,\n",
              "   0.0040721106342971325,\n",
              "   0.003953950013965368,\n",
              "   0.007493574637919664,\n",
              "   0.00391445541754365,\n",
              "   0.004173626657575369,\n",
              "   0.0031674273777753115],\n",
              "  'val_accuracy': [0.9825000166893005,\n",
              "   0.9882000088691711,\n",
              "   0.9894000291824341,\n",
              "   0.987500011920929,\n",
              "   0.9890000224113464,\n",
              "   0.9904000163078308,\n",
              "   0.9901000261306763,\n",
              "   0.9894999861717224,\n",
              "   0.9907000064849854,\n",
              "   0.9883000254631042,\n",
              "   0.9896000027656555,\n",
              "   0.9898999929428101,\n",
              "   0.9896000027656555,\n",
              "   0.9909999966621399,\n",
              "   0.991100013256073,\n",
              "   0.989799976348877,\n",
              "   0.9897000193595886,\n",
              "   0.9897000193595886,\n",
              "   0.9896000027656555,\n",
              "   0.9918000102043152],\n",
              "  'val_loss': [0.055138006806373596,\n",
              "   0.0379251204431057,\n",
              "   0.035459648817777634,\n",
              "   0.03987206146121025,\n",
              "   0.039116472005844116,\n",
              "   0.03147582709789276,\n",
              "   0.033054206520318985,\n",
              "   0.0375465527176857,\n",
              "   0.0363018773496151,\n",
              "   0.04306262731552124,\n",
              "   0.04339022934436798,\n",
              "   0.03816916048526764,\n",
              "   0.044914450496435165,\n",
              "   0.036509837955236435,\n",
              "   0.04040364921092987,\n",
              "   0.03911357372999191,\n",
              "   0.04173056036233902,\n",
              "   0.04534325376152992,\n",
              "   0.04466424509882927,\n",
              "   0.038549382239580154]},\n",
              " 'model': <keras.engine.sequential.Sequential at 0x7fb482647810>,\n",
              " 'params': {'epochs': 20, 'steps': 118, 'verbose': 1},\n",
              " 'validation_data': None}"
            ]
          },
          "metadata": {},
          "execution_count": 25
        }
      ]
    },
    {
      "cell_type": "code",
      "metadata": {
        "id": "Vo_UFRc3IPDp",
        "colab": {
          "base_uri": "https://localhost:8080/"
        },
        "outputId": "252a1f6b-3108-453c-bab4-7f51ed12ef40"
      },
      "source": [
        "acc = history.history['accuracy']\n",
        "acc"
      ],
      "execution_count": null,
      "outputs": [
        {
          "output_type": "execute_result",
          "data": {
            "text/plain": [
              "[0.9352333545684814,\n",
              " 0.9851999878883362,\n",
              " 0.9901000261306763,\n",
              " 0.9937833547592163,\n",
              " 0.9947999715805054,\n",
              " 0.9953166842460632,\n",
              " 0.997083306312561,\n",
              " 0.9977999925613403,\n",
              " 0.9974666833877563,\n",
              " 0.9976833462715149,\n",
              " 0.99836665391922,\n",
              " 0.9981333613395691,\n",
              " 0.9977499842643738,\n",
              " 0.9988166689872742,\n",
              " 0.9985833168029785,\n",
              " 0.9986166954040527,\n",
              " 0.9975833296775818,\n",
              " 0.9986000061035156,\n",
              " 0.998533308506012,\n",
              " 0.9988333582878113]"
            ]
          },
          "metadata": {},
          "execution_count": 26
        }
      ]
    },
    {
      "cell_type": "code",
      "metadata": {
        "id": "s5AmBeusFTrs",
        "colab": {
          "base_uri": "https://localhost:8080/",
          "height": 497
        },
        "outputId": "40a306c9-0c2a-4e9f-d2ab-2e3f0a3674f7"
      },
      "source": [
        "import matplotlib.pyplot as plt\n",
        "plt.rcParams[\"figure.figsize\"] = [14,8]\n",
        "\n",
        "acc = history.history['accuracy']\n",
        "\n",
        "plt.plot(history.epoch, acc)\n",
        "plt.plot(history.epoch, history.history['val_accuracy'] )\n",
        "plt.ylabel('Cost')\n",
        "plt.xlabel('Epochs')\n",
        "#plt.savefig('images/12_07.png', dpi=300)\n",
        "plt.show()"
      ],
      "execution_count": null,
      "outputs": [
        {
          "output_type": "display_data",
          "data": {
            "image/png": "[encoded data removed]",
            "text/plain": [
              "<Figure size 1008x576 with 1 Axes>"
            ]
          },
          "metadata": {
            "needs_background": "light"
          }
        }
      ]
    },
    {
      "cell_type": "markdown",
      "metadata": {
        "id": "ECkrQFAGcIQk"
      },
      "source": [
        "## Plotando algumas predições erradas do conjunto de teste"
      ]
    },
    {
      "cell_type": "code",
      "metadata": {
        "colab": {
          "base_uri": "https://localhost:8080/"
        },
        "id": "aYVv9zbHg70Z",
        "outputId": "81b2208c-0583-448d-ba3a-4a4703eba58b"
      },
      "source": [
        "np.set_printoptions(suppress=True, precision=30)\n",
        "\n",
        "predict_x = model.predict(X_test)[0]\n",
        "print(predict_x)"
      ],
      "execution_count": null,
      "outputs": [
        {
          "output_type": "stream",
          "name": "stdout",
          "text": [
            "[0.000000000000009219011        0.00000000000000031563894\n",
            " 0.0000000000065266525          0.000000000041444032\n",
            " 0.0000000000000009049975       0.00000000000001578364\n",
            " 0.0000000000000000000009619115 1.\n",
            " 0.0000000000000029782824       0.00000000006719887           ]\n"
          ]
        }
      ]
    },
    {
      "cell_type": "code",
      "metadata": {
        "colab": {
          "base_uri": "https://localhost:8080/"
        },
        "id": "wBguec3ofuGY",
        "outputId": "eeca4667-716b-477a-c85b-0214c63eb6db"
      },
      "source": [
        "predict_x = model.predict (X_test)[0]\n",
        "classes_x= np.argmax(predict_x)\n",
        "classes_x"
      ],
      "execution_count": null,
      "outputs": [
        {
          "output_type": "execute_result",
          "data": {
            "text/plain": [
              "7"
            ]
          },
          "metadata": {},
          "execution_count": 62
        }
      ]
    },
    {
      "cell_type": "code",
      "metadata": {
        "id": "QfQYcaQxcIQl",
        "colab": {
          "base_uri": "https://localhost:8080/",
          "height": 496
        },
        "outputId": "c52a28c0-1910-4043-f227-550d8d3d4270"
      },
      "source": [
        "# classificações incorretas\n",
        "predict_x = model.predict(X_test)\n",
        "y_test_pred = np.argmax(predict_x, axis=1)\n",
        "\n",
        "#y_test_pred = np_utils.to_categorical(y_test_pred, nb_classes)\n",
        "\n",
        "miscl_img = X_test[y_test != y_test_pred][:25]\n",
        "correct_lab = y_test[y_test != y_test_pred][:25]\n",
        "miscl_lab = y_test_pred[y_test != y_test_pred][:25]\n",
        "\n",
        "\n",
        "#miscl_img = X_test[correct_indices]\n",
        "fig, ax = plt.subplots(nrows=2, ncols=5, sharex=True, sharey=True,)\n",
        "ax = ax.flatten()\n",
        "for i in range(10):\n",
        "    img = miscl_img[i].reshape(28, 28)\n",
        "    ax[i].imshow(img, cmap='Greys', interpolation='nearest')\n",
        "    ax[i].set_title('%d) t: %d p: %d' % (i+1, correct_lab[i], miscl_lab[i]))\n",
        "\n",
        "ax[0].set_xticks([])\n",
        "ax[0].set_yticks([])\n",
        "plt.tight_layout()\n",
        "plt.show()"
      ],
      "execution_count": null,
      "outputs": [
        {
          "output_type": "display_data",
          "data": {
            "image/png": "[encoded data removed]",
            "text/plain": [
              "<Figure size 1008x576 with 10 Axes>"
            ]
          },
          "metadata": {}
        }
      ]
    },
    {
      "cell_type": "markdown",
      "metadata": {
        "id": "4IfepFdZcIQp"
      },
      "source": [
        "# Plotando algumas predições Corretas do conjunto de teste"
      ]
    },
    {
      "cell_type": "code",
      "metadata": {
        "id": "9deHG7zKcIQq",
        "colab": {
          "base_uri": "https://localhost:8080/",
          "height": 585
        },
        "outputId": "eb14f450-eb46-487b-ef9a-f8f98dfd376b"
      },
      "source": [
        "# classificações corretas\n",
        "miscl_img = X_test[y_test == y_test_pred][:25]\n",
        "correct_lab = y_test[y_test == y_test_pred][:25]\n",
        "miscl_lab = y_test_pred[y_test == y_test_pred][:25]\n",
        "\n",
        "\n",
        "#miscl_img = X_test[correct_indices]\n",
        "fig, ax = plt.subplots(nrows=3, ncols=5, sharex=True, sharey=True,)\n",
        "ax = ax.flatten()\n",
        "for i in range(15):\n",
        "    img = miscl_img[i].reshape(28, 28)\n",
        "    ax[i].imshow(img, cmap='Greys', interpolation='nearest')\n",
        "    ax[i].set_title('%d) t: %d p: %d' % (i+1, correct_lab[i], miscl_lab[i]))\n",
        "\n",
        "ax[0].set_xticks([])\n",
        "ax[0].set_yticks([])\n",
        "plt.tight_layout()\n",
        "plt.show()"
      ],
      "execution_count": null,
      "outputs": [
        {
          "output_type": "display_data",
          "data": {
            "image/png": "[encoded data removed]",
            "text/plain": [
              "<Figure size 1008x576 with 15 Axes>"
            ]
          },
          "metadata": {}
        }
      ]
    },
    {
      "cell_type": "markdown",
      "metadata": {
        "id": "qwK1eRX5j_Vj"
      },
      "source": [
        "# Salvando o modelo"
      ]
    },
    {
      "cell_type": "code",
      "metadata": {
        "colab": {
          "base_uri": "https://localhost:8080/"
        },
        "id": "rLlLvy_tj-jh",
        "outputId": "6db1b026-2ebd-4eb9-a54d-d338acf57283"
      },
      "source": [
        "model.save('modelo.hdf5')\n",
        "!ls -ilah *.hdf5"
      ],
      "execution_count": null,
      "outputs": [
        {
          "output_type": "stream",
          "name": "stdout",
          "text": [
            "5242890 -rw-r--r-- 1 root root 23M Oct 14 11:32 modelo.hdf5\n"
          ]
        }
      ]
    },
    {
      "cell_type": "markdown",
      "metadata": {
        "id": "WjLPTr5ilFsH"
      },
      "source": [
        "# Carregando o modelo Salvo"
      ]
    },
    {
      "cell_type": "code",
      "metadata": {
        "colab": {
          "base_uri": "https://localhost:8080/"
        },
        "id": "Aa1AZaAGkR5l",
        "outputId": "3e6765ab-546f-4d9e-fd86-ac2971d815c5"
      },
      "source": [
        "loaded_model = load_model('modelo.hdf5')\n",
        "_, acc = model.evaluate(X_test, Y_test, verbose=0)\n",
        "print('> %.3f' % (acc * 100.0))"
      ],
      "execution_count": null,
      "outputs": [
        {
          "output_type": "stream",
          "name": "stdout",
          "text": [
            "> 99.180\n"
          ]
        }
      ]
    },
    {
      "cell_type": "markdown",
      "metadata": {
        "id": "K7jEDHawliY-"
      },
      "source": [
        "# Download do modelo"
      ]
    },
    {
      "cell_type": "code",
      "metadata": {
        "colab": {
          "base_uri": "https://localhost:8080/",
          "height": 17
        },
        "id": "XfshLa67kyhC",
        "outputId": "25123107-f96c-4215-d450-35731e284874"
      },
      "source": [
        "%%time\n",
        "from google.colab import files\n",
        "files.download('modelo.hdf5')"
      ],
      "execution_count": null,
      "outputs": [
        {
          "output_type": "display_data",
          "data": {
            "application/javascript": [
              "\n",
              "    async function download(id, filename, size) {\n",
              "      if (!google.colab.kernel.accessAllowed) {\n",
              "        return;\n",
              "      }\n",
              "      const div = document.createElement('div');\n",
              "      const label = document.createElement('label');\n",
              "      label.textContent = `Downloading \"${filename}\": `;\n",
              "      div.appendChild(label);\n",
              "      const progress = document.createElement('progress');\n",
              "      progress.max = size;\n",
              "      div.appendChild(progress);\n",
              "      document.body.appendChild(div);\n",
              "\n",
              "      const buffers = [];\n",
              "      let downloaded = 0;\n",
              "\n",
              "      const channel = await google.colab.kernel.comms.open(id);\n",
              "      // Send a message to notify the kernel that we're ready.\n",
              "      channel.send({})\n",
              "\n",
              "      for await (const message of channel.messages) {\n",
              "        // Send a message to notify the kernel that we're ready.\n",
              "        channel.send({})\n",
              "        if (message.buffers) {\n",
              "          for (const buffer of message.buffers) {\n",
              "            buffers.push(buffer);\n",
              "            downloaded += buffer.byteLength;\n",
              "            progress.value = downloaded;\n",
              "          }\n",
              "        }\n",
              "      }\n",
              "      const blob = new Blob(buffers, {type: 'application/binary'});\n",
              "      const a = document.createElement('a');\n",
              "      a.href = window.URL.createObjectURL(blob);\n",
              "      a.download = filename;\n",
              "      div.appendChild(a);\n",
              "      a.click();\n",
              "      div.remove();\n",
              "    }\n",
              "  "
            ],
            "text/plain": [
              "<IPython.core.display.Javascript object>"
            ]
          },
          "metadata": {}
        },
        {
          "output_type": "display_data",
          "data": {
            "application/javascript": [
              "download(\"download_e18f17d2-510d-4813-b834-f3d2f8684cb7\", \"modelo.hdf5\", 23963152)"
            ],
            "text/plain": [
              "<IPython.core.display.Javascript object>"
            ]
          },
          "metadata": {}
        }
      ]
    }
  ]
}