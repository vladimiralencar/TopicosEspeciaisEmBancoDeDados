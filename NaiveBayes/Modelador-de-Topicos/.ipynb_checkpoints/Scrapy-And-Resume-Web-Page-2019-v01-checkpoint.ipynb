{
 "cells": [
  {
   "cell_type": "markdown",
   "metadata": {},
   "source": [
    "# <font color='blue'>PLN - Scrapy snd Resume Web Page 2019</font>"
   ]
  },
  {
   "cell_type": "markdown",
   "metadata": {},
   "source": [
    "### Carregando um Dataset de um Site de E-commerce (em português)"
   ]
  },
  {
   "cell_type": "markdown",
   "metadata": {},
   "source": [
    "## Gensim - Modelagem de Tópicos (Sumarização, etc)"
   ]
  },
  {
   "cell_type": "markdown",
   "metadata": {},
   "source": [
    "https://github.com/RaRe-Technologies/gensim"
   ]
  },
  {
   "cell_type": "code",
   "execution_count": null,
   "metadata": {},
   "outputs": [],
   "source": [
    "#!pip install gensim\n",
    "#!conda install -c anaconda beautifulsoup4"
   ]
  },
  {
   "cell_type": "markdown",
   "metadata": {},
   "source": [
    "# Pegar 1 texto na web e resumir usando o gensim"
   ]
  },
  {
   "cell_type": "code",
   "execution_count": 1,
   "metadata": {},
   "outputs": [],
   "source": [
    "url = 'https://www.cartacapital.com.br/justica/como-a-lava-jato-destruiu-a-justica-brasileira/?fbclid=IwAR3b9ph0aXDLYRxq1wa-FN9M6uwUAUuurNcbuhyeGH__1pESNWge6UqKIeA'"
   ]
  },
  {
   "cell_type": "code",
   "execution_count": 2,
   "metadata": {},
   "outputs": [],
   "source": [
    "url = 'https://economia.uol.com.br/noticias/bbc/2019/11/17/o-pais-europeu-que-ve-populacao-minguar-ano-apos-ano.htm'"
   ]
  },
  {
   "cell_type": "code",
   "execution_count": 3,
   "metadata": {},
   "outputs": [
    {
     "name": "stdout",
     "output_type": "stream",
     "text": [
      "Número de parágrafos: 89\n"
     ]
    }
   ],
   "source": [
    "import requests\n",
    "from bs4 import BeautifulSoup\n",
    "\n",
    "page = requests.get(url)\n",
    "soup = BeautifulSoup(page.content, 'html.parser')\n",
    "\n",
    "print('Número de parágrafos:', len(soup.find_all('p')))\n",
    "\n",
    "#print(soup.prettify())"
   ]
  },
  {
   "cell_type": "code",
   "execution_count": 4,
   "metadata": {},
   "outputs": [
    {
     "name": "stdout",
     "output_type": "stream",
     "text": [
      "['Denise Hruby - BBC Worklife ']\n",
      "['Da BBC']\n",
      "['17/11/2019 07h49 ']\n",
      "['Capelos voavam no ar da Universidade de Sófia, capital da Bulgária, em uma manhã ensolarada. Em breve, seriam os donos destes capelos que estariam voando ? no caso, para fora do país, buscando melhores empregos, salários e oportunidades no exterior. ']\n",
      "['Como nativos do membro mais pobre da União Europeia, os búlgaros têm deixado seu país em massa, contribuindo para o declínio populacional mais rápido do mundo. A população da Bulgária era de cerca de 9 milhões no final da década de 1980, mas caiu para menos de 7 milhões em 2018. Em 50 anos, deve chegar abaixo de 6 milhões. A Divisão de População das Nações Unidas (ONU) projeta que a Bulgária perderá 23% de sua ', <a href=\"https://www.bbc.co.uk/portuguese/topics/f8adfd6b-201f-4502-93bb-bb8400ecb090?xtor=AL-73-%5Bpartner%5D-%5Buol.com.br%5D-%5Blink%5D-%5Bbrazil%5D-%5Bbizdev%5D-%5Bisapi%5D\">população</a>, ' até 2050 ? uma previsão tão alta que o país compete com a Lituânia pelo posto de população que encolhe mais rapidamente no mundo.']\n",
      "['Baixas taxas de natalidade são o principal fator para esse declínio acentuado. Mas o que diferencia a Bulgária de outros países europeus com população também em declínio é sua emigração maciça.']\n",
      "['O governo não tem estatísticas confiáveis, mas alguns economistas, como Cvetan Davidkov, estimam que pelo menos 60 mil búlgaros partam a cada ano. E mesmo essa estimativa pode ser baixa, já que a Alemanha diz ter recebido, apenas ela, 30 mil novos residentes búlgaros em 2017.']\n",
      "['\"O prognóstico [da população] não é otimista, e isso é um grande problema para nós\", diz Davidkov, professor da faculdade de economia da Universidade de Sófia. ']\n",
      "['A fuga de cérebros, diz ele, afeta todos os setores da ', <a href=\"https://www.bbc.co.uk/portuguese/topics/ca170ae3-99c1-48db-9b67-2866f85e7342?xtor=AL-73-%5Bpartner%5D-%5Buol.com.br%5D-%5Blink%5D-%5Bbrazil%5D-%5Bbizdev%5D-%5Bisapi%5D\">economia</a>, ', já que a maioria dos búlgaros ? de médicos a trabalhadores da construção civil ? acredita que as melhores oportunidades estão no exterior.']\n",
      "['Alguns búlgaros estão trabalhando duro para reverter, em alguma medida, o declínio populacional ? seja tentando manter seus conterrâneos no país ou trazer de volta os expatriados. ']\n",
      "['Anthony Hristov, 58, é um deles. Como diretor de arte da Pixar nos EUA, Hristov já trabalhou nas produções de ', <em>Procurando Nemo</em>, ' e ', <em>Wall-E.</em>, ' Depois, ele voltou à Bulgária com o objetivo de ajudar sua terra natal. Hristov acredita que educação forte, oportunidades de emprego e renda mais alta podem reverter as tendências da migração.']\n",
      "['No ano passado, ele voltou para Sófia para lançar a Arc Academy, uma escola de profissões criativas digitais, como no segmento de jogos e filmes de animação. A escola, diz Hristov, é sua contribuição para permitir que jovens búlgaros e talentosos obtenham uma educação em pé de igualdade com ? ou até melhor do que ? outros países da União Europeia (UE).']\n",
      "['\"Estamos perdendo muitos jovens, o que significa uma séria falta de talentos. Haveria muitos [jovens], mas eles aproveitam oportunidades no exterior, onde a educação e os empregos são melhores\", diz ele.']\n",
      "['A Arc Academy começará seu primeiro ano letivo em outubro, e Hristov diz que alguns dos 80 alunos recém-inscritos escreveram em suas cartas de candidatura que pretendiam deixar a Bulgária para estudar e, eventualmente, trabalhar no exterior. Eles contaram também estar animados com a chance de estudar perto de casa. ']\n",
      "['Ainda assim, mesmo que escolas como a de Hristov incentivem os jovens búlgaros a permanecer para estudar, a população ainda pode sofrer um impacto: depois, os jovens podem se mudar para o exterior de qualquer forma, buscando melhores salários. O salário mínimo de US$ 320 (cerca de R$ 1.300) neste antigo país do bloco comunista é mais baixo do que em qualquer outro Estado membro da UE. ']\n",
      "['E, embora o Produto Interno Bruto (PIB) tenha crescido 3,1% no ano passado, e a projeção este ano seja de crescimento de 3,3%, a taxa de desemprego no país era de 5,3% em julho.']\n",
      "['Como observa Davidkov, mesmo os profissionais altamente qualificados costumam ir embora, sabendo que podem ganhar mais dinheiro no exterior fazendo um trabalho que requer menos habilidades e menos qualificação. \"Para a maioria, é melhor ter um emprego ruim no exterior do que um bom aqui\", diz ele.']\n",
      "['A possibilidade de residir, trabalhar e viajar livremente em toda a União Europeia também foi um fator significativo no declínio da população búlgara. Na Alemanha, a maior economia do bloco, o número de búlgaros recém-chegados saltou de 8.000 em 2006, no ano anterior à adesão da Bulgária à UE, para 20.000 no ano seguinte.']\n",
      "['Hristov acredita que a economia da Bulgária está enfrentando agora um problema do ovo e da galinha: é necessário que haja oportunidades de emprego para atrair e criar talentos em primeiro lugar, ou empresas criarão esses empregos uma vez que trabalhadores qualificados possam ser encontrados? ']\n",
      "['A Bulgária não merece sua má reputação entre seus próprios nativos, diz Hristo Boyadzhiev, 33 anos. Retornado ele mesmo à Bulgária, Boyadzhiev é cofundador da Tuk Tam, uma organização sem fins lucrativos que produz feiras de emprego e bolsas de estudos para búlgaros de volta, além de divulgar notícias positivas sobre o desenvolvimento do país.']\n",
      "['\"Se você mora na Grã-Bretanha ou em algum outro lugar, é provável que a informação que chegue a você não é que uma grande empresa tenha 1 mil novos empregos em Varna (cidade na Bulgária), mas talvez que um surto de gripe suína tenha surgido\", diz Boyadzhiev.']\n",
      "['Boyadzhiev acrescenta que muitos dos estimados 1,1 milhão de búlgaros vivendo no exterior hesitam retornar devido à incerteza sobre como serão as suas vidas e se conseguirão encontrar empregos decentes. \"Não estamos no negócio de trazer (diretamente) de volta pessoas para a Bulgária, mas queremos dar a elas as informações necessárias para que tomem elas mesmas essa decisão\", explica. ']\n",
      "['A Tuk Tam não consegue rastrear quantificar, por isso, o número de pessoas que influenciou na volta para casa, mas Boyadzhiev diz ser incentivado pelos 200 mil búlgaros que acompanham seu trabalho nas redes sociais e pelos muitos e-mails que recebe de pessoas dizendo considerar o retorno. ']\n",
      "['Conforme os búlgaros voltam, Petya Kertikova joga luz sobre eles.']\n",
      "['A jovem de 30 anos é criadora e apresentadora do programa ', <em>The Returnees</em>, ', veiculado pela emissora Bulgaria on Air. Os \"retornados\" retratados têm idades variadas e representam histórias de sucesso depois da volta do exterior. Até agora, Kertikova contou as histórias de mais de 70 profissionais, incluindo médicos, engenheiros, empreendedores, gerentes, artistas e especialistas em TI. Ela espera que estes casos inspirem outros. ']\n",
      "['\"Essas pessoas que retornam são muito importantes para o nosso país. Sua experiência e suas novas perspectivas são muito relevantes para a economia e impulsionarão nosso país \", diz.']\n",
      "['Embora ela diga que muitos voltam para a Bulgária por saudade de casa, muitos outros também desejam contribuir para o desenvolvimento de seu país. Contando suas histórias, Kertikova diz transmitir a mensagem de que a volta é possível e tranquilizar aqueles que estão inseguros de fazê-lo. ']\n",
      "['Nesse sentido, Kertikova diz que ela se sente muitas vezes se entrevistando: ela também voltou há dois anos para seu país, depois de trabalhar em Chicago (EUA) como apresentadora de TV de uma pequena emissora de língua búlgara. Durante uma visita à sua casa no Natal, ela percebeu melhorias na qualidade de vida da Bulgária, o que despertou seu desejo de voltar. Hoje, ela vive em Sófia. ']\n",
      "['A maioria dos búlgaros que vivem no exterior só entendem as mudanças positivas em sua terra natal quando as vêem por si mesmos, ela aponta. Foi o caso de um gerente apresentado no ', <em>The Returnees</em>, ', que voltou à Bulgária apenas para ir a uma festa de casamento, mas ficou tão surpreso com o país renovado que cancelou seu voo de volta aos EUA.']\n",
      "['\"Eles (os expatriados) tinham o sonho de viver no exterior, e eles viveram esse sonho\", diz Kertikova. \"Agora, eu quero que eles vivam o sonho búlgaro.\"']\n",
      "[<strong>Já assistiu aos nossos novos vídeos no </strong>, <a href=\"https://www.youtube.com/channel/UCthbIFAxbXTTQEC7EcQvP1Q\">YouTube</a>, <strong>? Inscreva-se no nosso canal! </strong>]\n",
      "[<a href=\"https://www.youtube.com/watch?v=9RyPzGFKsZg\">https://www.youtube.com/watch?v=9RyPzGFKsZg</a>]\n",
      "[<a href=\"https://www.youtube.com/watch?v=0B1_6Rghdiw\">https://www.youtube.com/watch?v=0B1_6Rghdiw</a>]\n",
      "[<a href=\"https://www.youtube.com/watch?v=zkLDjwNa4UA\">https://www.youtube.com/watch?v=zkLDjwNa4UA</a>]\n",
      "['Receba dicas para investir e fazer o seu dinheiro render.']\n",
      "[' ID: {{comments.info.id}}', <br/>, 'URL: ', <a ng-href=\"{{comments.info.url}}\" target=\"_blank\">{{comments.info.url}}</a>, <br/>]\n",
      "['Por favor, tente novamente mais tarde.']\n",
      "[]\n",
      "['Não é possivel enviar novos comentários.']\n",
      "['* Ao comentar você concorda com os termos de uso. Os comentários não representam a opinião do portal, a responsabilidade é do autor da mensagem. ', <a data-audience-click='{\"reference\":\"termos-de-uso\",\"component\":\"comments\"}' ng-href=\"http://regras.uol.com.br/index.html?apiCadLink=78da458fbd4ec3301cc42fad80162af131c08a10b303a2104a0760a9284a6160431df8d7368dc1a983edb41103134fc073f010453c012befc01330c0102a6eb9e57e77bad72fcc398baddc68e60c57a4999376acb8644e3aa7cc885d958e524105f35d3438693d207edfd166d2c57c4ac5e9509ea3ee552a9da7348b5123cea5734a78acc57734a650d368185e79ab46c3768cdaace3014f0862d4336bc64a48eb3c964b20f74a873dcada45062000aacf4010febcf41f3d36a368b77910b522da11a279db927418ed4ac9077bb4774bfb42786c27de67476128646a586e34e32665031bce9659e253ed2c36ee684c2cf74ab3588deea5382397f4286b4e2ffa2b7afa5d41708da5f2cfa515d21616abffcc5f7a6ee1f3ed7dfde6a38a4a078bda90e810f7c67651f789952e315a14d9f10900a031a90158018002bffce1793c#ap\">Leia os termos de uso</a>]\n",
      "[]\n",
      "[]\n",
      "['André Kassu, criativo e sócio da CPB Brasil, é o entrevistado do podcast Mídia e Marketing publicado hoje (19).']\n",
      "['André Kassu, criativo e sócio da CPB Brasil, é o entrevistado do podcast Mídia e Marketing publicado hoje (19).']\n",
      "['A Medida Provisória (MP) criada pelo governo para tentar estimular o emprego, e que já está sendo chamada de nova...']\n",
      "['O UOL lança nesta terça (19) uma nova série documental, \"PCC - Primeiro Cartel da Capital\". A série de quatro...']\n",
      "['A atenção é a mais importante de todas as faculdades para o desenvolvimento da inteligência humana.\\nCharles Darwin']\n",
      "['A Reforma da Previdência proposta pelo governo previa mudanças não só nas aposentadorias do INSS, mas também no...']\n",
      "['O secretário especial de Previdência e Trabalho do Ministério da Economia, Rogério Marinho, participou do programa ']\n",
      "['Convidado do Roda Viva desta segunda-feira (18), o secretário especial de Previdência e Trabalho, Rogério Marinho, ']\n",
      "['Internautas relembraram (e ironizaram) a campanha do \"Fora, Dilma\", depois que o dólar comercial voltou a subir...']\n",
      "['O procurador-geral da República, Augusto Aras, afirmou, em manifestação encaminhada ao Supremo Tribunal Federal...']\n",
      "['O governo anunciou nesta segunda-feira o desbloqueio de R$ 14 bilhões do orçamento e zerou o estoque de recursos...']\n",
      "['O dólar comercial subiu hoje e fechou em valor recorde, a R$ 4,206. Antes, o maior valor do dólar desde o Plano...']\n",
      "['O dólar comercial voltou a subir pelo quarto dia e fechou em alta de 0,3%, a R$ 4,206 na venda. A cifra é a maior...']\n",
      "['O ministro da Casa Civil, Onyx Lorenzoni, disse hoje que o governo vai enviar na próxima semana ao Congresso uma...']\n",
      "['O presidente da Câmara, Rodrigo Maia (DEM-RJ), avaliou que a proposta isolada do governo Jair Bolsonaro (PSL) de...']\n",
      "['O ministro da Casa Civil, Onyx Lorenzoni, disse nesta hoje que o governo espera que a economia cresça 2% em 2020....']\n",
      "['O secretário especial de Fazenda do Ministério da Economia, Waldery Rodrigues, destacou nesta segunda-feira, 18,...']\n",
      "['Alguns investidores provavelmente entrariam em pânico se disséssemos no início de 2019 que a guerra comercial não...']\n",
      "['O Secretário Especial de Previdência e Trabalho do Governo Federal, Rogério Marinho, participou do Programa...']\n",
      "['\\n              Por Marta Nogueira']\n",
      "['A PepsiCo divulgou um comunicado de alerta nesta segunda-feira para consumidores alérgicos às proteínas do leite....']\n",
      "['Reportagem publicada hoje pelo site da rede de TV norte-americana NBC exibiu crianças de pelo menos quatro anos...']\n",
      "['O presidente do Banco Central, Roberto Campos Neto, cancelou seus compromissos da tarde de hoje, em São Paulo, e...']\n",
      "['A Bugatti Automobiles busca ampliar o apelo de seu supercarro Chiron de 2,5 milhões de euros (cerca de R$ 11,6...']\n",
      "['A balança comercial brasileira registrou déficit de US$ 482 milhões na terceira semana de novembro (11 a 17). De...']\n",
      "['O governo dos Estados Unidos anunciou hoje uma nova extensão do prazo para a chinesa Huawei fazer negócios com...']\n",
      "['Além da criação da Contribuição sobre Bens e Serviços (CBS), o governo deverá propor mudanças no Imposto sobre...']\n",
      "['Em sua primeira entrevista, o secretário especial da Receita Federal, José Barroso Tostes Neto, comentou sobre a...']\n",
      "['Depois de reformular a sua proposta, abandonando a ideia de criar uma nova CPMF, rejeitada pelo presidente Jair...']\n",
      "['COI oficializa Airbnb como parceiro olímpico global até 2028']\n",
      "['A Globo decidiu fazer piada com a A Dona do Pedaço por seu excesso de propapaganda. Durante o quadro Isso A Globo...']\n",
      "['Economistas consultados pelo Banco Central aumentaram, em relação à semana passada, a previsão para a inflação ao...']\n",
      "['Os índices acionários da China fecharam em alta hoje, em meio à expectativa dos investidores de mais medidas de...']\n",
      "['A Embraer anunciou hoje, durante o Dubai Air Show, que sua aeronave de transporte multimissão se chamará Embraer...']\n",
      "['A Caixa Econômica Federal anunciou a redução dos juros do cheque especial para 4,99% ao mês - o que representa a...']\n",
      "['O capital de investidor estrangeiro não dá sinais de que vá voltar com força tão cedo à Bolsa brasileira. Em 2018, ']\n",
      "['Há quatro anos, em uma fazenda de criação intensiva em Xangai, na China, um exame feito em um porco prestes a ser...']\n",
      "['Esta é uma das chamadas publicitárias mais antigas do Brasil e, sinceramente, nunca fez tanto sentido.']\n",
      "['Reportagem da Folha, neste domingo (17), mostra que houve queda no investimento do governo federal em...']\n",
      "['*Erramos: este conteúdo foi alterado']\n",
      "['Quem tem notas antigas de dólar guardadas na gaveta ou herdadas de parentes pode querer trocá-las para levantar um ']\n",
      "['A Receita Federal paga hoje (18) as restituições do sexto e penúltimo lote do Imposto de Renda 2019. O lote também ']\n",
      "['O investimento em publicidade no Brasil chegou a R$ 8,2 bilhões no primeiro semestre de 2019, segundo dados...']\n",
      "['Giuliana Pierri e Luciene Bertolazi estão separadas por apenas 22 quilômetros. Mas não poderiam estar mais...']\n",
      "['Os donos de telefones pré-pagos de 17 estados brasileiros terão até amanhã para recadastrar suas linhas e...']\n",
      "['Com a taxa básica de juros, a Selic, em queda, os rendimentos da poupança devem perder para a inflação. Isso pode...']\n",
      "['A primeira parcela do 13º salário será paga no fim deste mês. Saiba o valor das parcelas, quanto vai receber em...']\n",
      "Denise Hruby - BBC Worklife Da BBC17/11/2019 07h49 Capelos voavam no ar da Universidade de Sófia, ca\n"
     ]
    }
   ],
   "source": [
    "#classe_tag = 'vc_empty_space'\n",
    "paragraphs = soup.find()\n",
    "all_paragraphs = paragraphs.find_all('p')\n",
    "\n",
    "# Usar .contents para pegar as tags <p> filhaso =\n",
    "texto = ''\n",
    "for paragraph in all_paragraphs:\n",
    "    print(paragraph.contents)\n",
    "    texto_paragraph = paragraph.contents #[0]\n",
    "    listToStr = ' '.join(map(str, texto_paragraph)) \n",
    "    \n",
    "    texto += listToStr\n",
    "    \n",
    "print(texto[:100])"
   ]
  },
  {
   "cell_type": "code",
   "execution_count": 5,
   "metadata": {},
   "outputs": [],
   "source": [
    "texto = texto.replace('</p>','')\n",
    "texto = texto.replace('</span>','')\n",
    "texto = texto.replace('<p>','')\n",
    "texto = texto.replace('<span>','')\n",
    "texto = texto.replace('<div>','')\n",
    "texto = texto.replace('</div>','')"
   ]
  },
  {
   "cell_type": "code",
   "execution_count": 6,
   "metadata": {},
   "outputs": [],
   "source": [
    "#text[:1000]"
   ]
  },
  {
   "cell_type": "code",
   "execution_count": 7,
   "metadata": {},
   "outputs": [
    {
     "name": "stdout",
     "output_type": "stream",
     "text": [
      "Mas o que diferencia a Bulgária de outros países europeus com população também em declínio é sua emigração maciça.O governo não tem estatísticas confiáveis, mas alguns economistas, como Cvetan Davidkov, estimam que pelo menos 60 mil búlgaros partam a cada ano.\n",
      "Haveria muitos [jovens], mas eles aproveitam oportunidades no exterior, onde a educação e os empregos são melhores\", diz ele.A Arc Academy começará seu primeiro ano letivo em outubro, e Hristov diz que alguns dos 80 alunos recém-inscritos escreveram em suas cartas de candidatura que pretendiam deixar a Bulgária para estudar e, eventualmente, trabalhar no exterior.\n",
      "Retornado ele mesmo à Bulgária, Boyadzhiev é cofundador da Tuk Tam, uma organização sem fins lucrativos que produz feiras de emprego e bolsas de estudos para búlgaros de volta, além de divulgar notícias positivas sobre o desenvolvimento do país.\"Se você mora na Grã-Bretanha ou em algum outro lugar, é provável que a informação que chegue a você não é que uma grande empresa tenha 1 mil novos empregos em Varna (cidade na Bulgária), mas talvez que um surto de gripe suína tenha surgido\", diz Boyadzhiev.Boyadzhiev acrescenta que muitos dos estimados 1,1 milhão de búlgaros vivendo no exterior hesitam retornar devido à incerteza sobre como serão as suas vidas e se conseguirão encontrar empregos decentes.\n",
      "Foi o caso de um gerente apresentado no  <em>The Returnees</em> , que voltou à Bulgária apenas para ir a uma festa de casamento, mas ficou tão surpreso com o país renovado que cancelou seu voo de volta aos EUA.\"Eles (os expatriados) tinham o sonho de viver no exterior, e eles viveram esse sonho\", diz Kertikova.\n"
     ]
    }
   ],
   "source": [
    "import gensim\n",
    "num_paragraphs = 3\n",
    "word_count=230\n",
    "print (gensim.summarization.summarize(texto, word_count=word_count))"
   ]
  },
  {
   "cell_type": "code",
   "execution_count": 8,
   "metadata": {},
   "outputs": [
    {
     "name": "stdout",
     "output_type": "stream",
     "text": [
      "Mas o que diferencia a Bulgária de outros países europeus com população também em declínio é sua emigração maciça.O governo não tem estatísticas confiáveis, mas alguns economistas, como Cvetan Davidkov, estimam que pelo menos 60 mil búlgaros partam a cada ano.\n",
      "E mesmo essa estimativa pode ser baixa, já que a Alemanha diz ter recebido, apenas ela, 30 mil novos residentes búlgaros em 2017.\"O prognóstico [da população] não é otimista, e isso é um grande problema para nós\", diz Davidkov, professor da faculdade de economia da Universidade de Sófia.\n",
      "Hristov acredita que educação forte, oportunidades de emprego e renda mais alta podem reverter as tendências da migração.No ano passado, ele voltou para Sófia para lançar a Arc Academy, uma escola de profissões criativas digitais, como no segmento de jogos e filmes de animação.\n",
      "Haveria muitos [jovens], mas eles aproveitam oportunidades no exterior, onde a educação e os empregos são melhores\", diz ele.A Arc Academy começará seu primeiro ano letivo em outubro, e Hristov diz que alguns dos 80 alunos recém-inscritos escreveram em suas cartas de candidatura que pretendiam deixar a Bulgária para estudar e, eventualmente, trabalhar no exterior.\n",
      "Retornado ele mesmo à Bulgária, Boyadzhiev é cofundador da Tuk Tam, uma organização sem fins lucrativos que produz feiras de emprego e bolsas de estudos para búlgaros de volta, além de divulgar notícias positivas sobre o desenvolvimento do país.\"Se você mora na Grã-Bretanha ou em algum outro lugar, é provável que a informação que chegue a você não é que uma grande empresa tenha 1 mil novos empregos em Varna (cidade na Bulgária), mas talvez que um surto de gripe suína tenha surgido\", diz Boyadzhiev.Boyadzhiev acrescenta que muitos dos estimados 1,1 milhão de búlgaros vivendo no exterior hesitam retornar devido à incerteza sobre como serão as suas vidas e se conseguirão encontrar empregos decentes.\n",
      "Foi o caso de um gerente apresentado no  <em>The Returnees</em> , que voltou à Bulgária apenas para ir a uma festa de casamento, mas ficou tão surpreso com o país renovado que cancelou seu voo de volta aos EUA.\"Eles (os expatriados) tinham o sonho de viver no exterior, e eles viveram esse sonho\", diz Kertikova.\n"
     ]
    }
   ],
   "source": [
    "# Summary (0.1 = 10% of the original content). \n",
    "ratio = 0.1\n",
    "print (gensim.summarization.summarize(texto, ratio=ratio))"
   ]
  },
  {
   "cell_type": "code",
   "execution_count": null,
   "metadata": {},
   "outputs": [],
   "source": []
  }
 ],
 "metadata": {
  "anaconda-cloud": {},
  "kernelspec": {
   "display_name": "tf366",
   "language": "python",
   "name": "tf366"
  },
  "language_info": {
   "codemirror_mode": {
    "name": "ipython",
    "version": 3
   },
   "file_extension": ".py",
   "mimetype": "text/x-python",
   "name": "python",
   "nbconvert_exporter": "python",
   "pygments_lexer": "ipython3",
   "version": "3.6.10"
  }
 },
 "nbformat": 4,
 "nbformat_minor": 1
}
