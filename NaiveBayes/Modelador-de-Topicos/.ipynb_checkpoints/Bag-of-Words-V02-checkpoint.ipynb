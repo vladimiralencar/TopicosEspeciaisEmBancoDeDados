{
 "cells": [
  {
   "cell_type": "markdown",
   "metadata": {},
   "source": [
    "# <font color='blue'>Processamento de Linguagem Natural</font>"
   ]
  },
  {
   "cell_type": "markdown",
   "metadata": {},
   "source": [
    "## Bag of Words\n",
    "\n",
    "\n",
    "O modelo de \"saco de palavras\" é uma representação simplificada usada no processamento de linguagem natural e recuperação de informação. Neste modelo, um texto (como uma sentença ou um documento) é representado como o saco (multiset) de suas palavras, desconsiderando a gramática e até a ordem das palavras, mas mantendo a multiplicidade.\n",
    "\n",
    "Na classificação de documentos, um saco de palavras é um vetor esparso de ocorrência de contagens de palavras; Ou seja, um histograma esparso sobre o vocabulário."
   ]
  },
  {
   "cell_type": "markdown",
   "metadata": {},
   "source": [
    "### Carregando um Dataset de um Site de E-commerce (em português)"
   ]
  },
  {
   "cell_type": "code",
   "execution_count": 1,
   "metadata": {},
   "outputs": [],
   "source": [
    "import gzip\n",
    "import json"
   ]
  },
  {
   "cell_type": "code",
   "execution_count": 2,
   "metadata": {},
   "outputs": [
    {
     "name": "stdout",
     "output_type": "stream",
     "text": [
      "CPU times: user 2.91 s, sys: 277 ms, total: 3.19 s\n",
      "Wall time: 4.18 s\n"
     ]
    }
   ],
   "source": [
    "%%time\n",
    "# Carregando o dataset\n",
    "corpus = list()\n",
    "with gzip.open('ecommerce.json.gz') as fp:\n",
    "    for line in fp:\n",
    "        entry = line.decode('utf8')\n",
    "        corpus.append(json.loads(entry))"
   ]
  },
  {
   "cell_type": "code",
   "execution_count": 3,
   "metadata": {},
   "outputs": [
    {
     "name": "stdout",
     "output_type": "stream",
     "text": [
      "{'_id': 120008322,\n",
      " 'cat': ' Automotivo',\n",
      " 'descr': 'Chegou o kit que junta resistência e conforto, além de níveis '\n",
      "          'máximos de segurança. São 4 pneus para seu carro ficar completo e '\n",
      "          'com a qualificação que você precisa.\\n'\n",
      "          'Com os conhecimentos avançados de hoje e um entusiasmo pela '\n",
      "          'direção, os engenheiros da Pirelli puderam dar grandes passos. Cada '\n",
      "          'pneu da Pirelli é responsável não só pelo desempenho, mas também '\n",
      "          'por uma \"vontade de ir pra estrada\", comunicando-se com o motorista '\n",
      "          'e gerando um melhor entendimento do desempenho do veículo, ou seja, '\n",
      "          'a Pirelli transforma a sua viagem em uma aventura divertida e livre '\n",
      "          'de problemas. Pneu Pirelli para carros com rodas aro 16, modelo '\n",
      "          'high performance Phanthon, perfil baixo proporcionando maior '\n",
      "          'estabilidade nas curvas, excelente qualidade e durabilidade para '\n",
      "          'pistas.\\n'\n",
      "          '\\n'\n",
      "          'Imagens meramente ilustrativas.\\n'\n",
      "          'Todas as informações divulgadas são de responsabilidade do '\n",
      "          'fabricante/fornecedor.',\n",
      " 'features': {'Aro': '16',\n",
      "              'Categoria': 'Alta Performance,Pneu automotivo',\n",
      "              'Composição/Material': 'Borracha',\n",
      "              'Dimensões aproximadas da embalagem (cm) - AxLxP': '63x23x63cm',\n",
      "              'Distância do furo central ao eixo': 'Não informado pelo '\n",
      "                                                   'fornecedor',\n",
      "              'Distância entre furos': 'Não informado pelo fornecedor',\n",
      "              'Fornecedor': 'Pirelli',\n",
      "              'Garantia do Fornecedor': '60 meses',\n",
      "              'Indicação': 'Carro',\n",
      "              'Largura do Pneu': 'Não informado pelo fornecedor',\n",
      "              'Marca': 'Pirelli',\n",
      "              'Modelo': '7895119967121',\n",
      "              'Número de furos': 'Não informado pelo fornecedor',\n",
      "              'PRODUTO': 'Pneu Pirelli Aro 16 205/55R16 Phantom',\n",
      "              'Peso aproximado da embalagem do produto (kg)': '10kg',\n",
      "              'Referência do Modelo': '7895119967121',\n",
      "              'Relação altura do flanco x altura do pneu': '62x22x62cm',\n",
      "              'SAC': '0800 7287638',\n",
      "              'Tala': 'Não informdo pelo fornecedor',\n",
      "              'Índice de carga': '615'},\n",
      " 'image_urls': ['http://iacom1-a.akamaihd.net/img/_staging/bf15acom.png',\n",
      "                'http://iacom1-a.akamaihd.net/produtos/01/00/item/120008/3/120008322_2GG.jpg',\n",
      "                'http://iacom1-a.akamaihd.net/produtos/01/00/item/120008/3/120008322_1GG.png'],\n",
      " 'name': 'Kit com 4 Pneus de Alta Performance Pirelli Aro 16 205/55R16 Phantom',\n",
      " 'ratings': 0,\n",
      " 'stars': 0.0,\n",
      " 'subcat': ' Pneus e Rodas',\n",
      " 'url': 'http://www.americanas.com.br/produto/120008322/kit-com-4-pneus-de-alta-performance-pirelli-aro-16-205-55r16-phantom??chave=dp_automotivo_dt1'}\n"
     ]
    }
   ],
   "source": [
    "from pprint import pprint\n",
    "pprint(corpus[0])"
   ]
  },
  {
   "cell_type": "code",
   "execution_count": 4,
   "metadata": {},
   "outputs": [
    {
     "data": {
      "text/plain": [
       "65875"
      ]
     },
     "execution_count": 4,
     "metadata": {},
     "output_type": "execute_result"
    }
   ],
   "source": [
    "len(corpus)"
   ]
  },
  {
   "cell_type": "code",
   "execution_count": 5,
   "metadata": {},
   "outputs": [
    {
     "name": "stdout",
     "output_type": "stream",
     "text": [
      "Chegou o kit que junta resistência e conforto, além de níveis máximos de segurança. São 4 pneus para seu carro ficar completo e com a qualificação que você precisa.\n",
      "Com os conhecimentos avançados de hoje e um entusiasmo pela direção, os engenheiros da Pirelli puderam dar grandes passos. Cada pneu da Pirelli é responsável não só pelo desempenho, mas também por uma \"vontade de ir pra estrada\", comunicando-se com o motorista e gerando um melhor entendimento do desempenho do veículo, ou seja, a Pirelli transforma a sua viagem em uma aventura divertida e livre de problemas. Pneu Pirelli para carros com rodas aro 16, modelo high performance Phanthon, perfil baixo proporcionando maior estabilidade nas curvas, excelente qualidade e durabilidade para pistas.\n",
      "\n",
      "Imagens meramente ilustrativas.\n",
      "Todas as informações divulgadas são de responsabilidade do fabricante/fornecedor.\n"
     ]
    }
   ],
   "source": [
    "print (corpus[0]['descr'])"
   ]
  },
  {
   "cell_type": "code",
   "execution_count": 6,
   "metadata": {},
   "outputs": [
    {
     "name": "stdout",
     "output_type": "stream",
     "text": [
      " Automotivo\n"
     ]
    }
   ],
   "source": [
    "print (corpus[0]['cat'])"
   ]
  },
  {
   "cell_type": "markdown",
   "metadata": {},
   "source": [
    "## Gensim - Modelagem de Tópicos (Sumarização, etc)"
   ]
  },
  {
   "cell_type": "markdown",
   "metadata": {},
   "source": [
    "https://github.com/RaRe-Technologies/gensim"
   ]
  },
  {
   "cell_type": "code",
   "execution_count": 7,
   "metadata": {},
   "outputs": [],
   "source": [
    "#!pip install gensim"
   ]
  },
  {
   "cell_type": "code",
   "execution_count": 8,
   "metadata": {},
   "outputs": [
    {
     "name": "stdout",
     "output_type": "stream",
     "text": [
      "Chegou o kit que junta resistência e conforto, além de níveis máximos de segurança. São 4 pneus para seu carro ficar completo e com a qualificação que você precisa.\n",
      "Com os conhecimentos avançados de hoje e um entusiasmo pela direção, os engenheiros da Pirelli puderam dar grandes passos. Cada pneu da Pirelli é responsável não só pelo desempenho, mas também por uma \"vontade de ir pra estrada\", comunicando-se com o motorista e gerando um melhor entendimento do desempenho do veículo, ou seja, a Pirelli transforma a sua viagem em uma aventura divertida e livre de problemas. Pneu Pirelli para carros com rodas aro 16, modelo high performance Phanthon, perfil baixo proporcionando maior estabilidade nas curvas, excelente qualidade e durabilidade para pistas.\n",
      "\n",
      "Imagens meramente ilustrativas.\n",
      "Todas as informações divulgadas são de responsabilidade do fabricante/fornecedor.\n"
     ]
    }
   ],
   "source": [
    "print (corpus[0]['descr'])"
   ]
  },
  {
   "cell_type": "code",
   "execution_count": 9,
   "metadata": {},
   "outputs": [
    {
     "name": "stdout",
     "output_type": "stream",
     "text": [
      "São 4 pneus para seu carro ficar completo e com a qualificação que você precisa.\n"
     ]
    }
   ],
   "source": [
    "import gensim\n",
    "print (gensim.summarization.summarize(corpus[0]['descr']))"
   ]
  },
  {
   "cell_type": "code",
   "execution_count": 11,
   "metadata": {},
   "outputs": [
    {
     "data": {
      "text/plain": [
       "65875"
      ]
     },
     "execution_count": 11,
     "metadata": {},
     "output_type": "execute_result"
    }
   ],
   "source": [
    "len(corpus)"
   ]
  },
  {
   "cell_type": "markdown",
   "metadata": {},
   "source": [
    "# Pegar 1 texto na web e resumir usando o gensim"
   ]
  },
  {
   "cell_type": "code",
   "execution_count": 15,
   "metadata": {},
   "outputs": [],
   "source": [
    "url_texto = 'https://biblioo.cartacapital.com.br/bacurau-filme-e-bacurau-povoado-que-brasil-voce-ve-no-cinema/'"
   ]
  },
  {
   "cell_type": "code",
   "execution_count": 21,
   "metadata": {},
   "outputs": [
    {
     "data": {
      "text/plain": [
       "'<!DOCTYPE HTML>\\n<!--[if lte IE 9]>         <html class=\"no-js lt-ie9 lt-ie10\"  itemscope i'"
      ]
     },
     "execution_count": 21,
     "metadata": {},
     "output_type": "execute_result"
    }
   ],
   "source": [
    "import requests\n",
    "\n",
    "url = url_texto\n",
    "r = requests.get(url)\n",
    "texto = r.text\n",
    "texto[:90]"
   ]
  },
  {
   "cell_type": "code",
   "execution_count": 22,
   "metadata": {},
   "outputs": [
    {
     "name": "stdout",
     "output_type": "stream",
     "text": [
      "'https://www.googletagmanager.com/gtm.js?id='+i+dl;f.parentNode.insertBefore(j,f);\n",
      "WebFontConfig['google'] = {families: ['Oswald:300,400,700', 'Open+Sans:300,400,600,700,800,300italic,400italic,600italic,700italic,800italic']};\n",
      "<meta property=\"og:title\" content=\"Bacurau-filme e Bacurau-povoado: que Brasil você vê no cinema?\n",
      "<meta name=\"twitter:title\" content=\"Bacurau-filme e Bacurau-povoado: que Brasil você vê no cinema?\n",
      "!function(a,b,c){function d(a,b){var c=String.fromCharCode;l.clearRect(0,0,k.width,k.height),l.fillText(c.apply(this,a),0,0);var d=k.toDataURL();l.clearRect(0,0,k.width,k.height),l.fillText(c.apply(this,b),0,0);var e=k.toDataURL();return d===e}function e(a){var b;if(!l||!l.fillText)return!1;switch(l.textBaseline=\"top\",l.font=\"600 32px Arial\",a){case\"flag\":return!(b=d([55356,56826,55356,56819],[55356,56826,8203,55356,56819]))&&(b=d([55356,57332,56128,56423,56128,56418,56128,56421,56128,56430,56128,56423,56128,56447],[55356,57332,8203,56128,56423,8203,56128,56418,8203,56128,56421,8203,56128,56430,8203,56128,56423,8203,56128,56447]),!b);case\"emoji\":return b=d([55358,56760,9792,65039],[55358,56760,8203,9792,65039]),!b}return!1}function f(a){var c=b.createElement(\"script\");c.src=a,c.defer=c.type=\"text/javascript\",b.getElementsByTagName(\"head\")[0].appendChild(c)}var g,h,i,j,k=b.createElement(\"canvas\"),l=k.getContext&&k.getContext(\"2d\");for(j=Array(\"flag\",\"emoji\"),c.supports={everything:!0,everythingExceptFlag:!0},i=0;i<j.length;i++)c.supports[j[i]]=e(j[i]),c.supports.everything=c.supports.everything&&c.supports[j[i]],\"flag\"!==j[i]&&(c.supports.everythingExceptFlag=c.supports.everythingExceptFlag&&c.supports[j[i]]);c.supports.everythingExceptFlag=c.supports.everythingExceptFlag&&!c.supports.flag,c.DOMReady=!1,c.readyCallback=function(){c.DOMReady=!0},c.supports.everything||(h=function(){c.readyCallback()},b.addEventListener?(b.addEventListener(\"DOMContentLoaded\",h,!1),a.addEventListener(\"load\",h,!1)):(a.attachEvent(\"onload\",h),b.attachEvent(\"onreadystatechange\",function(){\"complete\"===b.readyState&&c.readyCallback()})),g=c.source||{},g.concatemoji?f(g.concatemoji):g.wpemoji&&g.twemoji&&(f(g.twemoji),f(g.wpemoji)))}(window,document,window._wpemojiSettings);\n",
      "var vw_post_views = {\"ajaxurl\":\"https:\\/\\/biblioo.cartacapital.com.br\\/wp-admin\\/admin-ajax.php\",\"post_id\":\"36495\"};\n",
      ".admin-bar .mm-page { padding-top: 46px !important; }\r\n",
      ".admin-bar .mm-page { padding-top: 46px !important; }\r\n",
      "* html body { margin-top: 0px !important; }\r\n",
      "* html body { margin-top: 0px !important; }\r\n",
      ".vw-page-title-box .vw-label,\r\n",
      ".vw-post-style-classic .vw-post-box-title a:hover,\r\n",
      ".vw-site-social-profile-icon:hover,\r\n",
      ".vw-post-style-box:hover,\r\n",
      ".vw-post-box:hover .vw-post-format-icon i,\r\n",
      ".vwspc-section-full-page-link:hover .vw-button,\r\n",
      "/*.vw-page-content .vw-page-title-box .vw-label,*/\r\n",
      ".vw-page-title-section.vw-has-background .col-sm-12 {\r\n",
      "<div class=\"vw-post-categories\"><div><a class=\" vw-category-link vw-cat-id-22\" href=\"https://biblioo.cartacapital.com.br/novabiblioo/opiniao/\" title=\"Ver todas as postagens em Opinião\" rel=\"category\">Opinião</a></div></div>\t\t\t\t\t\t\t\t\t<h1 class=\"vw-page-title\">Bacurau-filme e Bacurau-povoado: que Brasil você vê no cinema?</h1>\r\n",
      "Os presentes, assim como eu, queriam falar porque, segundo disseram, estavam entalados desde que viram o filme.\n",
      "Magnoli, sociólogo de direita, numa crítica de 15 de setembro diz que a única coisa que se salva no filme é a abertura, ou seja, a voz da Gal no espaço sideral com uma Terra ao longe.\n",
      "<p style=\"text-align: justify;\">Além de acusar o filme de peça política, Magnoli diz que o filme transmite uma mensagem involuntária que ajuda a entender a eleição de Bolsonaro: o espelhamento da ultradireita com a esquerda: se aquela é “feroz, caricata, lunática”, esta é anacrônica, primitiva e mistificadora”.\n",
      "<p style=\"text-align: justify;\">No texto de réplica, do dia 16 de setembro, o crítico de cinema Inácio Araújo responde às provocações de Magnoli a partir do título: “Críticos dizem que ‘Bacurau’ é um filme de propaganda; e daí?”.\n",
      "As preposições aqui apontam uma dupla leitura da presença da resistência que o filme traz: o assunto e o objeto.\n",
      "Se fazer um filme ou colocar em execução qualquer projeto de arte no Brasil sempre foi uma saga épica, desde que Dilma foi arrancada à força da cadeira da presidência da República, e bandidos de colarinho branco, ora aliados a milicianos cariocas, ora aliados aos velhacos parlamentares que há meio século vivem pulando do executivo ao legislativo para, em nome do povo, assaltar o povo, desde que o golpe se orquestrou usando como plataforma os bandidos de toga da Lava Jato de Curitiba, desde isso tudo, fazer arte nesse país tem sido perigoso, por isso, um ato de resistência.\n",
      "<p style=\"text-align: justify;\">Em Ideias para adiar o fim do mundo (2019), o líder indígena e pensador Ailton Krenak lembra que, em 2018, antes das eleições, quando estávamos embasbacados com a aderência dos brasileiros a um programa político perigoso, perguntaram a ele como os índios fariam diante disso; e sua resposta foi: “Tem quinhentos anos que os índios estão resistindo, eu estou preocupado é com os brancos, como vão fazer para escapar dessa.\n",
      "A gente resistiu expandindo nossa subjetividade, não aceitando essa ideia de que nós somos todos iguais” (2019, p.\n",
      "<p style=\"text-align: justify;\">Bacurau tem lado, e não é o dos que há séculos assaltaram esse território e se renovam na exploração, independentemente dos sistemas sociais e políticos vigentes por aqui ao longo da nossa história.\n",
      "Um país que tem brasa no nome, fruto de exploração dos povos que aqui viviam e da natureza circundante, que chama de “bons” desde os tempos coloniais apenas os abastados (apenas esses podiam assumir cargos políticos), um país que nasce como colônia de exploração, que fica independente, mas permanece gerido pela mesma família que embarcou em 1500, que depois é destituída por um golpe militar travestido de proclamação da República, que logo promove a maior guerra que a América Latina já teve, as centenas de mortes em Canudos; República Velha que dá lugar à Nova República também por um golpe militar seguido de ditadura, que também é chamada de revolução (a de 1930, de onde nasce o governo getulista); um país que se desintegra com outro golpe militar, com a deposição de Jânio Quadros e a instalação da ditadura militar, que dura duas décadas e, depois disso, sequer puniu os golpistas e se fez justiça pelos mortos e desaparecidos; um país cuja elite recentemente tramou contra a primeira presidente mulher do Brasil incitando o povo brasileiro a desejar morte a Dilma e ao PT, e, com o auxílio jurídico-midiático-parlamentar, colocou no poder um sujeito que reúne em si todos adjetivos que o definem como um fascista (misógino, racista, lgbtqfóbico, autoritário, grotesco, ultraconservador…); esse país é pós-doutorado tanto em violência física quanto simbólica.</p>\n",
      "<p style=\"text-align: justify;\">Enfim, esse resumo da história do Brasil é precário, mas ilustra bem o que é sempre tivemos diante de nós, na nossa cara: fomos forjados como colônia, império e república na base do autoritarismo, do mandonismo, do racismo, do patrimonialismo, da corrupção, da desigualdade social, da intolerância e sob o signo da violência.\n",
      "Como indica, o mais recente livro da professora Lilia Schwarcz, em Sobre o autoritarismo brasileiro (2019), citando um verso de Drummond que diz que “Toda história é remorso”, Lilia aponta que os fantasmas do presente estiveram bem vivos em cada momento da nossa história, e sugere que “A função da história é, assim, ‘deixar um lembrete’ sobre aquilo que se costuma fazer questão de esquecer” (2019, p.\n",
      "Mas voltemos a Bacurau, que é bicho da noite e está piando.</p>\n",
      "<p style=\"text-align: justify;\">Alguns críticos têm dito que o filme é um exercício da barbárie, por isso perigoso, porque, diante de um país em crise de valores sociais e políticos, quando nossos representantes fazem questão de disseminar atitudes que estimulam o ódio ao diferente a ponto de querer exterminá-lo, diante de um governo que, quando deveria manter em segurança o meio ambiente, as parcelas da população desfavorecidas e marginalizadas (como os indígenas, o campesinato, a camada miserável da população urbana, os negros periféricos, mulheres e LGBTQs) incita raivosamente a população a ver essa gente como aberração e sujeitos desviantes que precisam ser molestados socialmente.</p>\n",
      "E então o problema de Bacurau é que ele traz uma violência gratuita.\n",
      "<p style=\"text-align: justify;\">O autor se utiliza justamente das letras das canções que compõem a trilha sonora para levantar um problema: “Após ter começado com Não Identificado, a ‘canção singela, brasileira’ de Caetano Veloso, Bacurau termina com Réquiem para Matraga, na voz de seu autor, Geraldo Vandré: ‘Vim aqui só pra dizer/Ninguém há de me calar/Se alguém tem que morrer/Que seja pra melhorar […].’ Como devemos entender esses versos entoados de modo a parecer palavras de ordem?\n",
      "Seriam uma forma de Mendonça Filho e Dornelles justificarem seus personagens por fazer justiça com as próprias mãos?\n",
      "Escorel, portanto, entende Bacurau como uma perigosa cartilha onde podem se alfabetizar aqueles que querem se vingar do estado atual da conjuntura política brasileira.</p>\n",
      "Traz um psicotrópico aí e da aqui para esses homens e mulheres que acabaram de sair do cinema com vontade de entrar na resistência.\n",
      "Um cangaceiro distópico que nem é homem nem é mulher e ainda tem um figurino com o pé na moda brega dos anos 60?</p>\n",
      "<p style=\"text-align: justify;\">Apenas para ilustrar esse descontentamento com o Lunga, cito trecho da crítica do professor de história Durval Muniz: “Alguém gostaria de viver sob o governo de Lunga e seus asseclas, alguém que se deleita em cortar cabeças e enterrar um homem vivo, só porque são inimigos de classe ou porque representam o imperialismo?\n",
      "Mas Lunga incomoda também os conservadores da direita e da ultradireita, que não é o caso do Durval.\n",
      "Certamente, se essa gente fosse ver o filme, e permanecesse até o fim, veriam o Lunga como uma aberração de líder.\n",
      "É uma pessoa trans o bandido mais procurado, com prêmio oferecido pela cabeça.\n",
      "<p style=\"text-align: justify;\">É um líder que não traja um figurino que meta medo nos inimigos, mas veste-se como quem vai para um desfile LGBTQ, com brilho e acessórios necessários para a luta de exposição de sua identidade de gênero.\n",
      "<p style=\"text-align: justify;\">Mas Lunga incomoda até dizer chega, com sua natureza desviante, com sua identidade andrógina, que desafia até o povo de Bacurau, que não sabe se usa o artigo definido masculino ou feminino para se referir a Lunga.\n",
      "Nesse ponto, o herói desviante tem muito de Grande Sertão: Veredas, que eu convoco também aqui para me ajudar a pensar no espaço geográfico de Bacurau.\n",
      "<p style=\"text-align: justify;\">Logo no início do filme, quando vemos a Terra do espaço, é a banda do nordeste do Brasil que vemos entre as nuvens; e à medida que nos aproximamos, somos mergulhados no mar grande do Brasil profundo que não tem mar, mas um dia foi, como dizia a prédica de Antônio Conselheiro na Canudos do final do século XIX: “O sertão vai virar mar, o mar vai virar sertão”.\n",
      "Aliás, ver o sertão em época verde, e não como a estética acinzentada, preferida pelo Cinema Novo, é mais uma ambiguidade interessante do filme.</p>\n",
      "E, mais tarde, quando o banho de sangue e a selvageria dos estrangeiros que matam como jovens eufóricos diante da tela de computadores, num desses games de violência, nos quais o jogador ganha mais pontos quantos mais mortes promove, a população de Bacurau, ainda que sob o efeito do psicotrópico, estende um varal com as roupas ensaguentadas dos mortos, retira as armas do porão e do museu, e mostra que sempre esteve preparada para a luta.</p>\n",
      "Por isso, Ivana Bentes, no texto “Bacurau e a síntese do Brasil brutal”, publicada na Cult em 29 de agosto, aponta que o filme mostra “os insurgentes em uma democracia em agonia” e diz que os bacurauenses são “novos heróis de uma Canudos revisitada”.\n",
      "Não à toa, o filme começa com o caminhão-pipa estraçalhando caixões na estrada, quase como uma metáfora que avisa: “aqui, a morte nos ronda o tempo todo, mas nós respondemos é com vida”.</p>\n",
      "<p style=\"text-align: justify;\">É vida que pulsa nos corpos naturalmente nus que aparecem tomando banho (homem e mulheres), fazendo amor (homens e mulheres), se beijando (mulheres-mulheres), bebendo e se embriagando, celebrando a vida da matriarca sem choro e com canto, cuidando de horta medicinal… O erotismo do povo de Bacurau não tem nada a ver com o casal de assassinos gringos que, após abater uma criança e um casal, está tão excitado que decide transar ali no mato para comemorar a barbárie.</p>\n",
      "E será mesmo que a nudez explícita reforça a ideia do Brasil como destino turístico sexual, como aponta Durval Muniz?\n",
      "Mas, realmente, não podemos ser moralistas e decretar que os diretores deviam vestir seus personagens porque isso pode ser um atentado ao pudor.\n",
      "“Precisamos proteger a família e nossas crianças”, diria a direita, enquanto parte da esquerda conservadora diria que a nudez nas artes é desnecessária e só coopera para a repressão sexual.\n",
      "No início do filme, a frase “daqui a alguns anos” é um recurso para separar o tempo de quem está ali na sala de cinema do tempo em que se desenrola a trama.\n",
      "O Brasil do Sul aparece na tela do carro-pipa e numa TV plana que aparece ligada numa das cenas e cuja imagem mostra o vale do Anhangabaú com uma informação do canal de TV: “As execuções públicas serão retomadas às 14:00”.\n",
      "O Brasil do futuro é um estado totalitário que aderiu à pena de morte e faz execuções públicas e televisionadas como o espetáculo deprimente da miséria humana.\n",
      "<p style=\"text-align: justify;\">O pacto do prefeito do município ao qual pertence Bacurau com os estrangeiros, ainda que ilegal, é uma ação criminosa, mas perfeitamente pertinente numa conjuntura como aquela.\n",
      "O casal de brasileiros do Brasil do Sul, que se acha branco, e colabora com a matança, mostra claramente como pensam os entreguistas.\n",
      "<p style=\"text-align: justify;\">Essas ambiguidades são apontadas de maneira muito interessante pelo professor da Escola de Arte e Cinema da UFC, Marcelo Ikeda, num texto publicado em sua página pessoal no Facebook.\n",
      "Uma análise que vale a pena ser lida e digerida, porque é uma aula de interpretação possível para Bacurau.\n",
      "Ao apresentar as ambiguidades do filme Ikeda diz que “Bacurau desliza sobre essas camadas de intenções, utilizando o marketing e o mercado como forma de ampliar seu alcance.\n",
      "<p style=\"text-align: justify;\">Já Roberto Correia dos Santos (<a href=\"https://www.facebook.com/robertocorreadossantosangotti?__tn__=%2CdK-R-R-R&amp;eid=ARAXerdujTjD5sEc17Ui4OI2iqyLjV4Fgh2HnF7Lb4Qb2KEmcb4jRLpvHCLX6Gf1T6t8CxkEUJLnRheC&amp;fref=mentions\">Roberto Cossan</a>), professor do Instituto de Artes da UERJ e poeta, em uma postagem do Facebook, elabora uma série de itens de leitura sobre o filme, poeticantropofagicamente fala de uma &#8220;insurreição marrom&#8221; e dá o ultimato de duas vitórias, que vão aqui em dois dos 12 itens apontados por ele: item 5 &#8211; &#8220;Ficamos extasiados diante do alto saber com que os marrons diretores do Fim do Mundo manejam com arte plena os recursos do Cinema-Mestre feito pelo brancos do Coração do Mundo, e tudo com altivez e distância das cabecinhas estadunidenses, em enorme parte imbecis quanto ao narrar e ao imaginar; item 12 &#8211; !&#8221;Morenos, oh morenos: ganhamos a batalha: lá, em Bacurau.\n",
      "<p style=\"text-align: justify;\">Para concluir, ouvi muita gente dizendo que Bacurau é o Brasil.\n",
      "Eu mesmo disse, numa primeira avaliação, logo que saí da sala de cinema, quando vi o filme pela primeira vez.\n",
      "Disse que Bacurau é o Brasil.\n",
      "Mas qual Bacurau seria o Brasil: o Bacurau-filme ou Bacurau-povoado?\n",
      "Se Bacurau-filme é o Brasil do presente disfarçado de futuro distópico, o Bacurau-Povoado não é o Brasil.\n",
      "<p style=\"text-align: justify;\">No povoado de Bucurau, putas e putos têm o seu lugar, não separado, são a comunidade, participam das decisões, as travestis e transgêneros são respeitados como qualquer outro morador, o professor e líder comunitário é negro, filho de uma matriarca negra.\n",
      "Bacurau tem tudo para ser um quilombo.\n",
      "E, portanto, não representa o Brasil misógino, machista, lgbtfóbico, conservador que somos.\n",
      "Mais uma prova de quem não é pela lógica do maniqueísmo que o filme deve ser lido.</p>\n",
      "É assim, por exemplo, quando o empregado do prefeito decide levar uma prostituta do povoado, após o episódio do desprezo ao prefeito; é assim quando à noite, todos se reúnem para a discutir o que fazer com as doações o prefeito.\n",
      "O Brasil está longe de ser uma Bacurau.\n",
      "Bacurau está no Brasil, que não merece Bacurau.</p>\n",
      "<p style=\"text-align: justify;\">O Brasil de “daqui a alguns anos”, onde está localizado temporalmente Bacurau, é um Brasil que não deu certo, um país cujas execuções em praça pública são televisionadas, já disse.\n",
      "Mas existem as ilhas de resistência, que explicam a micropolítica de Bacurau.</p>\n",
      "<p style=\"text-align: justify;\">Ailton Krenak diz que nosso tempo é intolerante com quem ainda é capaz de experienciar o prazer de estar vivo por meio da dança, do canto.\n",
      "Críticos dizem que ‘Bacurau’ é um filme de propaganda; e daí?\n",
      "<a href=\"https://www1.folha.uol.com.br/ilustrada/2019/09/criticos-dizem-que-bacurau-e-um-filme-de-propaganda-e-dai.shtml?fbclid=IwAR2IGBuvETlKE1WImRGVOhEX5_56hzQ15cfPzt0b8IIXKvYxUI_xChd4lB8\">https://www1.folha.uol.com.br/…/criticos-dizem-que-bacurau-…</a></p>\n",
      "<a href=\"https://revistacult.uol.com.br/home/bacurau-kleber-mendonca-filho/?fbclid=IwAR2MToe7uYK51e_9QsGNmYN3KlEQ24XqmN89xHxxKKsshUgbW8KOhM6BqCY\">https://revistacult.uol.com.br/…/bacurau-kleber-mendonca-f…/</a></p>\n",
      "<a href=\"https://piaui.folha.uol.com.br/bacurau-celebracao-da-barbarie/?fbclid=IwAR3T2_x6q7TUMpkqTOC3NlCLrnK2bw0P6k4JpS_gfkUA6fwiSpgAjcD5knI\">https://piaui.folha.uol.com.br/bacurau-celebracao-da-barba…/</a></p>\n",
      "<a href=\"https://www.facebook.com/marceloikedaa/posts/2491136130933183\">https://www.facebook.com/marceloikedaa/posts/2491136130933183</a></p>\n",
      "<a href=\"https://l.facebook.com/l.php?u=https%3A%2F%2Fwww1.folha.uol.com.br%2Filustrada%2F2019%2F09%2Fbacurau-e-testemunho-da-extincao-de-vida-inteligente-na-esquerda-brasileira.shtml%3Ffbclid%3DIwAR38rDglOSdXzikArXyzUbtnegsO-Yv3BPSAfE27XHo81yYxEe4BdQdIMSU&amp;h=AT0a08JVTBcxsUW4jE2G68AvjxEeXS-COb6L8nDeqqQIjzwSGkeXJ2n5qladdVGFrpLYFVR4Lj3xg_GfzaMIrkqbO4TP4Z-hAaFPs5hKlCdWzallpVeWyQHmJKExaiseFuO1NoxnkDTFzONTjYTEL-nownMR9uzleg\">https://www1.folha.uol.com.br/…/bacurau-e-testemunho-da-ext…</a></p>\n",
      "<a href=\"https://www.facebook.com/robertocorreadossantosangotti/posts/2299817253569301\">https://www.facebook.com/robertocorreadossantosangotti/posts/2299817253569301</a></p>\n",
      "<div class=\"vw-after-post-content\"><a href=\"https://classcursos.com\" target=\"_blank\" rel=\"noopener noreferrer\"><img class=\"aligncenter size-full wp-image-30832\" src=\"https://biblioo.cartacapital.com.br/wp-content/uploads/2017/03/classcursos-post-2017.jpg\" alt=\"Cursos online de qualificação em Biblioteconomia e Ciência da Informação.\n",
      "<a href=\"https://biblioo.cartacapital.com.br/bacurau-e-um-filme-de-ataque-mesmo-que-involuntariamente/\" title=\"Permalink para Bacurau é um filme de ataque, mesmo que “involuntariamente”\" rel=\"bookmark\"  itemprop=\"url\" >Bacurau é um filme de ataque, mesmo que “involuntariamente”</a>\r\n",
      "Todo o conteúdo da Revista Biblioo possui licença <a href=\"https://creativecommons.org/licenses/by-nc/4.0/legalcode\" target=\"_blank\">Atribuição – Não Comercial 4.0</a> da Creative Commons, exceto quando especificado em contrário e nos conteúdos replicados de outras fontes.</div>\n",
      "var seriesdropdown = document.getElementById(\"orgseries_dropdown\");\r\n",
      "location.href = \"https://biblioo.cartacapital.com.br/edicoes/\"+seriesdropdown.options[seriesdropdown.selectedIndex].value;\r\n",
      "<h1 class=\"vw-header-font vw-post-shares-title\">Bacurau-filme e Bacurau-povoado: que Brasil você vê no cinema?</h1>\n",
      "<h1 class=\"vw-header-font vw-post-shares-title\">Bacurau-filme e Bacurau-povoado: que Brasil você vê no cinema?</h1>\n",
      "</div><script> /* <![CDATA[ */var tribe_l10n_datatables = {\"aria\":{\"sort_ascending\":\": activate to sort column ascending\",\"sort_descending\":\": activate to sort column descending\"},\"length_menu\":\"Show _MENU_ entries\",\"empty_table\":\"No data available in table\",\"info\":\"Showing _START_ to _END_ of _TOTAL_ entries\",\"info_empty\":\"Showing 0 to 0 of 0 entries\",\"info_filtered\":\"(filtered from _MAX_ total entries)\",\"zero_records\":\"No matching records found\",\"search\":\"Search:\",\"all_selected_text\":\"All items on this page were selected.\n",
      "var vw_post_shares = {\"ajaxurl\":\"https:\\/\\/biblioo.cartacapital.com.br\\/wp-admin\\/admin-ajax.php\",\"is_caching_enabled\":\"1\"};\n",
      "var vw_main_js = {\"theme_path\":\"https:\\/\\/biblioo.cartacapital.com.br\\/wp-content\\/themes\\/espresso\",\"ajaxurl\":\"https:\\/\\/biblioo.cartacapital.com.br\\/wp-admin\\/admin-ajax.php\",\"slider_slide_duration\":\"4000\",\"slider_transition_speed\":\"500\",\"VW_CONST_BACKSTRETCH_OPT_FADE\":\"600\",\"VW_CONST_BACKSTRETCH_OPT_CENTEREDY\":\"true\",\"VW_CONST_BACKSTRETCH_OPT_CENTEREDX\":\"true\",\"VW_CONST_BACKSTRETCH_OPT_DURATION\":\"5000\"};\n",
      "var $target = jQuery( '.vw-page-title-section' );\r\n",
      "['https://biblioo.cartacapital.com.br/wp-content/uploads/2019/09/Bacurau-1263x500.jpg'], {\r\n",
      "var $image_captions = jQuery( '#vw-backstretch-image-captions-template' ).html();\r\n",
      "$target.find( '.vw-page-title-box' ).before( $image_captions );\r\n",
      "jQuery(window).on(\"backstretch.after\", function (e, instance, index) {\r\n",
      "jQuery( '.vw-page-title-image-captions .vw-featured-image-caption' )\r\n"
     ]
    }
   ],
   "source": [
    "print (gensim.summarization.summarize(texto))"
   ]
  },
  {
   "cell_type": "markdown",
   "metadata": {},
   "source": [
    "# Construindo um classificador para produtos e categorias (considerando apenas os 10 mil primeiros produtos)"
   ]
  },
  {
   "cell_type": "code",
   "execution_count": 13,
   "metadata": {},
   "outputs": [
    {
     "data": {
      "text/html": [
       "<div>\n",
       "<style scoped>\n",
       "    .dataframe tbody tr th:only-of-type {\n",
       "        vertical-align: middle;\n",
       "    }\n",
       "\n",
       "    .dataframe tbody tr th {\n",
       "        vertical-align: top;\n",
       "    }\n",
       "\n",
       "    .dataframe thead th {\n",
       "        text-align: right;\n",
       "    }\n",
       "</style>\n",
       "<table border=\"1\" class=\"dataframe\">\n",
       "  <thead>\n",
       "    <tr style=\"text-align: right;\">\n",
       "      <th></th>\n",
       "      <th>name</th>\n",
       "      <th>categ</th>\n",
       "    </tr>\n",
       "  </thead>\n",
       "  <tbody>\n",
       "    <tr>\n",
       "      <th>0</th>\n",
       "      <td>Kit com 4 Pneus de Alta Performance Pirelli Ar...</td>\n",
       "      <td>automotivo</td>\n",
       "    </tr>\n",
       "    <tr>\n",
       "      <th>0</th>\n",
       "      <td>Chandon Brut Rosé 750 ml</td>\n",
       "      <td>alimentos e bebidas</td>\n",
       "    </tr>\n",
       "    <tr>\n",
       "      <th>0</th>\n",
       "      <td>Kit com 2 Vodkas Sueca Absolut Vanilia 1000ml</td>\n",
       "      <td>alimentos e bebidas</td>\n",
       "    </tr>\n",
       "    <tr>\n",
       "      <th>0</th>\n",
       "      <td>Kit  - Livros de Colorir: Jardim Secreto + Flo...</td>\n",
       "      <td>livros</td>\n",
       "    </tr>\n",
       "    <tr>\n",
       "      <th>0</th>\n",
       "      <td>Livro - Assassin's Creed: Submundo</td>\n",
       "      <td>livros</td>\n",
       "    </tr>\n",
       "  </tbody>\n",
       "</table>\n",
       "</div>"
      ],
      "text/plain": [
       "                                                name                categ\n",
       "0  Kit com 4 Pneus de Alta Performance Pirelli Ar...           automotivo\n",
       "0                           Chandon Brut Rosé 750 ml  alimentos e bebidas\n",
       "0      Kit com 2 Vodkas Sueca Absolut Vanilia 1000ml  alimentos e bebidas\n",
       "0  Kit  - Livros de Colorir: Jardim Secreto + Flo...               livros\n",
       "0                 Livro - Assassin's Creed: Submundo               livros"
      ]
     },
     "execution_count": 13,
     "metadata": {},
     "output_type": "execute_result"
    }
   ],
   "source": [
    "# Construindo um classificador para produtos e categorias (considerando apenas os 10 mil primeiros produtos)\n",
    "import pandas as pd\n",
    "dataset = list()\n",
    "df = pd.DataFrame()\n",
    "\n",
    "for entry in corpus[:10000]:\n",
    "    if 'cat' in entry:\n",
    "        dataset.append( (entry['name'], entry['cat'].lower().strip()) )\n",
    "        df2 = pd.DataFrame()\n",
    "        df2['name'] = [ entry['name'] ]\n",
    "        df2['categ'] = [ entry['cat'].lower().strip() ]\n",
    "        df = df.append(df2)\n",
    "df.head()"
   ]
  },
  {
   "cell_type": "code",
   "execution_count": 22,
   "metadata": {},
   "outputs": [
    {
     "data": {
      "text/html": [
       "<div>\n",
       "<style scoped>\n",
       "    .dataframe tbody tr th:only-of-type {\n",
       "        vertical-align: middle;\n",
       "    }\n",
       "\n",
       "    .dataframe tbody tr th {\n",
       "        vertical-align: top;\n",
       "    }\n",
       "\n",
       "    .dataframe thead th {\n",
       "        text-align: right;\n",
       "    }\n",
       "</style>\n",
       "<table border=\"1\" class=\"dataframe\">\n",
       "  <thead>\n",
       "    <tr style=\"text-align: right;\">\n",
       "      <th></th>\n",
       "      <th>name</th>\n",
       "      <th>categ</th>\n",
       "    </tr>\n",
       "  </thead>\n",
       "  <tbody>\n",
       "  </tbody>\n",
       "</table>\n",
       "</div>"
      ],
      "text/plain": [
       "Empty DataFrame\n",
       "Columns: [name, categ]\n",
       "Index: []"
      ]
     },
     "execution_count": 22,
     "metadata": {},
     "output_type": "execute_result"
    }
   ],
   "source": [
    "df.head()"
   ]
  },
  {
   "cell_type": "code",
   "execution_count": 11,
   "metadata": {},
   "outputs": [
    {
     "data": {
      "text/plain": [
       "9953"
      ]
     },
     "execution_count": 11,
     "metadata": {},
     "output_type": "execute_result"
    }
   ],
   "source": [
    "len(dataset)"
   ]
  },
  {
   "cell_type": "code",
   "execution_count": 13,
   "metadata": {},
   "outputs": [
    {
     "name": "stdout",
     "output_type": "stream",
     "text": [
      "[('Kit com 4 Pneus de Alta Performance Pirelli Aro 16 205/55R16 Phantom',\n",
      "  'automotivo'),\n",
      " ('Chandon Brut Rosé 750 ml', 'alimentos e bebidas'),\n",
      " ('Kit com 2 Vodkas Sueca Absolut Vanilia 1000ml', 'alimentos e bebidas'),\n",
      " ('Kit  - Livros de Colorir: Jardim Secreto + Floresta Encantada + Reino '\n",
      "  'Animal',\n",
      "  'livros'),\n",
      " (\"Livro - Assassin's Creed: Submundo\", 'livros'),\n",
      " ('BCAA 2400 - 100 Cápsulas - Nitech Nutrition', 'suplementos e vitaminas'),\n",
      " ('100% Whey - 900g - Baunilha - Nitech Nutrition', 'suplementos e vitaminas'),\n",
      " ('Whey Protein Isolate - 900g - Morango - Nitech Nutrition',\n",
      "  'suplementos e vitaminas'),\n",
      " ('100% Whey - 900g - Chocolate - Nitech Nutrition', 'suplementos e vitaminas'),\n",
      " ('BCAA 2400 - 200 Cápsulas - Nitech Nutrition', 'suplementos e vitaminas')]\n"
     ]
    }
   ],
   "source": [
    "pprint(dataset[:10])"
   ]
  },
  {
   "cell_type": "code",
   "execution_count": 14,
   "metadata": {},
   "outputs": [
    {
     "ename": "AttributeError",
     "evalue": "'list' object has no attribute 'cat'",
     "output_type": "error",
     "traceback": [
      "\u001b[0;31m---------------------------------------------------------------------------\u001b[0m",
      "\u001b[0;31mAttributeError\u001b[0m                            Traceback (most recent call last)",
      "\u001b[0;32m<ipython-input-14-d30f044b0dc4>\u001b[0m in \u001b[0;36m<module>\u001b[0;34m\u001b[0m\n\u001b[0;32m----> 1\u001b[0;31m \u001b[0mdataset\u001b[0m\u001b[0;34m.\u001b[0m\u001b[0mcat\u001b[0m\u001b[0;34m.\u001b[0m\u001b[0munique\u001b[0m\u001b[0;34m(\u001b[0m\u001b[0;34m)\u001b[0m\u001b[0;34m\u001b[0m\u001b[0m\n\u001b[0m",
      "\u001b[0;31mAttributeError\u001b[0m: 'list' object has no attribute 'cat'"
     ]
    }
   ],
   "source": [
    "dataset.cat.unique()"
   ]
  },
  {
   "cell_type": "code",
   "execution_count": 23,
   "metadata": {},
   "outputs": [
    {
     "name": "stdout",
     "output_type": "stream",
     "text": [
      "[('bebês', 1208),\n",
      " ('eletroportáteis', 1052),\n",
      " ('automotivo', 915),\n",
      " ('utilidades domésticas', 857),\n",
      " ('suplementos e vitaminas', 787),\n",
      " ('ar-condicionado e aquecedores', 754),\n",
      " ('informática', 706),\n",
      " ('cama, mesa e banho', 670),\n",
      " ('tv e home theater', 644),\n",
      " ('perfumaria', 532),\n",
      " ('beleza e saúde', 497),\n",
      " ('dvds e blu-ray', 433),\n",
      " ('relógios', 410),\n",
      " ('pet shop', 391),\n",
      " ('instrumentos musicais', 44),\n",
      " ('celulares e telefones', 18),\n",
      " ('eletrodomésticos', 16),\n",
      " ('áudio', 13),\n",
      " ('alimentos e bebidas', 2),\n",
      " ('livros', 2),\n",
      " ('brinquedos', 1),\n",
      " ('linha industrial', 1)]\n"
     ]
    }
   ],
   "source": [
    "# Quantas categorias distintas nós temos e quantos itens por categoria?\n",
    "from collections import Counter\n",
    "counter = Counter([cat for prod, cat in dataset])\n",
    "pprint(counter.most_common())"
   ]
  },
  {
   "cell_type": "markdown",
   "metadata": {},
   "source": [
    "# Construindo um Classificador SVM com Bag of Words"
   ]
  },
  {
   "cell_type": "markdown",
   "metadata": {},
   "source": [
    "http://scikit-learn.org/stable/tutorial/text_analytics/working_with_text_data.html"
   ]
  },
  {
   "cell_type": "code",
   "execution_count": null,
   "metadata": {},
   "outputs": [],
   "source": [
    "#!pip install nltk"
   ]
  },
  {
   "cell_type": "code",
   "execution_count": 24,
   "metadata": {},
   "outputs": [],
   "source": [
    "from sklearn.pipeline import Pipeline\n",
    "from sklearn.svm import SVC\n",
    "from sklearn.preprocessing import LabelEncoder\n",
    "from sklearn.feature_extraction.text import TfidfVectorizer\n",
    "from sklearn.feature_extraction.text import CountVectorizer"
   ]
  },
  {
   "cell_type": "code",
   "execution_count": 25,
   "metadata": {},
   "outputs": [],
   "source": [
    "import nltk\n",
    "stopwords = nltk.corpus.stopwords.words('portuguese')"
   ]
  },
  {
   "cell_type": "code",
   "execution_count": 26,
   "metadata": {},
   "outputs": [],
   "source": [
    "# Construindo o modelo SVM com Pipeline\n",
    "modelo = Pipeline([('vect', TfidfVectorizer()), ('clf', SVC(kernel = 'linear', probability = True))])"
   ]
  },
  {
   "cell_type": "code",
   "execution_count": null,
   "metadata": {},
   "outputs": [],
   "source": [
    "?LabelEncoder"
   ]
  },
  {
   "cell_type": "code",
   "execution_count": 27,
   "metadata": {},
   "outputs": [],
   "source": [
    "# Objeto para Normalização dos labels\n",
    "encoder = LabelEncoder()"
   ]
  },
  {
   "cell_type": "code",
   "execution_count": 28,
   "metadata": {},
   "outputs": [
    {
     "data": {
      "text/plain": [
       "('Kit com 4 Pneus de Alta Performance Pirelli Aro 16 205/55R16 Phantom',\n",
       " 'automotivo')"
      ]
     },
     "execution_count": 28,
     "metadata": {},
     "output_type": "execute_result"
    }
   ],
   "source": [
    "dataset[0]"
   ]
  },
  {
   "cell_type": "code",
   "execution_count": 29,
   "metadata": {},
   "outputs": [
    {
     "data": {
      "text/plain": [
       "9953"
      ]
     },
     "execution_count": 29,
     "metadata": {},
     "output_type": "execute_result"
    }
   ],
   "source": [
    "# Obtendo dados e labels\n",
    "data = [prod for prod, cat in dataset]\n",
    "labels = [cat for prod, cat in dataset]\n",
    "len(data)"
   ]
  },
  {
   "cell_type": "code",
   "execution_count": 30,
   "metadata": {},
   "outputs": [],
   "source": [
    "# Normalização dos labels\n",
    "target = encoder.fit_transform(labels)"
   ]
  },
  {
   "cell_type": "code",
   "execution_count": 31,
   "metadata": {},
   "outputs": [
    {
     "data": {
      "text/plain": [
       "array([ 2,  0,  0, 14, 14, 18, 18, 18, 18, 18])"
      ]
     },
     "execution_count": 31,
     "metadata": {},
     "output_type": "execute_result"
    }
   ],
   "source": [
    "target[:10]"
   ]
  },
  {
   "cell_type": "code",
   "execution_count": 33,
   "metadata": {},
   "outputs": [
    {
     "data": {
      "text/plain": [
       "'automotivo'"
      ]
     },
     "execution_count": 33,
     "metadata": {},
     "output_type": "execute_result"
    }
   ],
   "source": [
    "# Items\n",
    "encoder.classes_.item(2)"
   ]
  },
  {
   "cell_type": "code",
   "execution_count": 34,
   "metadata": {},
   "outputs": [
    {
     "name": "stdout",
     "output_type": "stream",
     "text": [
      "CPU times: user 20.8 s, sys: 104 ms, total: 20.9 s\n",
      "Wall time: 21.2 s\n"
     ]
    },
    {
     "data": {
      "text/plain": [
       "Pipeline(memory=None,\n",
       "         steps=[('vect',\n",
       "                 TfidfVectorizer(analyzer='word', binary=False,\n",
       "                                 decode_error='strict',\n",
       "                                 dtype=<class 'numpy.float64'>,\n",
       "                                 encoding='utf-8', input='content',\n",
       "                                 lowercase=True, max_df=1.0, max_features=None,\n",
       "                                 min_df=1, ngram_range=(1, 1), norm='l2',\n",
       "                                 preprocessor=None, smooth_idf=True,\n",
       "                                 stop_words=None, strip_accents=None,\n",
       "                                 sublinear_tf=False,\n",
       "                                 token_pattern='(?u)\\\\b\\\\w\\\\w+\\\\b',\n",
       "                                 tokenizer=None, use_idf=True,\n",
       "                                 vocabulary=None)),\n",
       "                ('clf',\n",
       "                 SVC(C=1.0, cache_size=200, class_weight=None, coef0=0.0,\n",
       "                     decision_function_shape='ovr', degree=3,\n",
       "                     gamma='auto_deprecated', kernel='linear', max_iter=-1,\n",
       "                     probability=True, random_state=None, shrinking=True,\n",
       "                     tol=0.001, verbose=False))],\n",
       "         verbose=False)"
      ]
     },
     "execution_count": 34,
     "metadata": {},
     "output_type": "execute_result"
    }
   ],
   "source": [
    "%%time\n",
    "# Fit do modelo\n",
    "modelo.fit(data, target)"
   ]
  },
  {
   "cell_type": "code",
   "execution_count": 35,
   "metadata": {},
   "outputs": [
    {
     "data": {
      "text/plain": [
       "array([9])"
      ]
     },
     "execution_count": 35,
     "metadata": {},
     "output_type": "execute_result"
    }
   ],
   "source": [
    "# Prevendo a categoria a partir da descrição\n",
    "modelo.predict([\"Refrigerador Brastemp com função frostfree\"])"
   ]
  },
  {
   "cell_type": "code",
   "execution_count": 36,
   "metadata": {},
   "outputs": [
    {
     "name": "stdout",
     "output_type": "stream",
     "text": [
      "eletrodomésticos\n"
     ]
    }
   ],
   "source": [
    "# Prevendo a categoria a partir da descrição\n",
    "print (encoder.classes_[9])"
   ]
  },
  {
   "cell_type": "code",
   "execution_count": 40,
   "metadata": {},
   "outputs": [
    {
     "data": {
      "text/plain": [
       "array([20])"
      ]
     },
     "execution_count": 40,
     "metadata": {},
     "output_type": "execute_result"
    }
   ],
   "source": [
    "# Prevendo a categoria a partir da descrição\n",
    "modelo.predict([\"sanduíche de queijo e presunto\"])"
   ]
  },
  {
   "cell_type": "code",
   "execution_count": 41,
   "metadata": {},
   "outputs": [
    {
     "name": "stdout",
     "output_type": "stream",
     "text": [
      "utilidades domésticas\n"
     ]
    }
   ],
   "source": [
    "print (encoder.classes_[20])"
   ]
  },
  {
   "cell_type": "code",
   "execution_count": 37,
   "metadata": {},
   "outputs": [],
   "source": [
    "# Probabilidades de um produto\n",
    "probs = modelo.predict_proba([\"Ventilador\"])"
   ]
  },
  {
   "cell_type": "code",
   "execution_count": 38,
   "metadata": {},
   "outputs": [
    {
     "name": "stdout",
     "output_type": "stream",
     "text": [
      "[('alimentos e bebidas', '0.0000371752'),\n",
      " ('ar-condicionado e aquecedores', '0.0000009883'),\n",
      " ('automotivo', '0.0000004546'),\n",
      " ('bebês', '0.0000009003'),\n",
      " ('beleza e saúde', '0.0000004576'),\n",
      " ('brinquedos', '0.0000180192'),\n",
      " ('cama, mesa e banho', '0.0000007258'),\n",
      " ('celulares e telefones', '0.0000123844'),\n",
      " ('dvds e blu-ray', '0.0000005439'),\n",
      " ('eletrodomésticos', '0.0000008741'),\n",
      " ('eletroportáteis', '0.9998985127'),\n",
      " ('informática', '0.0000006386'),\n",
      " ('instrumentos musicais', '0.0000010859'),\n",
      " ('linha industrial', '0.0000149544'),\n",
      " ('livros', '0.0000013790'),\n",
      " ('perfumaria', '0.0000010260'),\n",
      " ('pet shop', '0.0000006175'),\n",
      " ('relógios', '0.0000015931'),\n",
      " ('suplementos e vitaminas', '0.0000011151'),\n",
      " ('tv e home theater', '0.0000013127'),\n",
      " ('utilidades domésticas', '0.0000007501'),\n",
      " ('áudio', '0.0000044913')]\n"
     ]
    }
   ],
   "source": [
    "# Probabidades de categorias para o objeto Ventilador\n",
    "guess = [(class_, '{:.10f}'.format(probs.item(n)))  for n, class_ in enumerate(encoder.classes_)]\n",
    "pprint(guess)"
   ]
  },
  {
   "cell_type": "code",
   "execution_count": 39,
   "metadata": {},
   "outputs": [
    {
     "name": "stdout",
     "output_type": "stream",
     "text": [
      "eletroportáteis eletroportáteis : 0.9998985127\n",
      "alimentos e bebidas alimentos e bebidas : 0.0000371752\n",
      "brinquedos brinquedos : 0.0000180192\n",
      "linha industrial linha industrial : 0.0000149544\n",
      "celulares e telefones celulares e telefones : 0.0000123844\n",
      "áudio áudio : 0.0000044913\n",
      "relógios relógios : 0.0000015931\n",
      "livros livros : 0.0000013790\n",
      "tv e home theater tv e home theater : 0.0000013127\n",
      "suplementos e vitaminas suplementos e vitaminas : 0.0000011151\n",
      "instrumentos musicais instrumentos musicais : 0.0000010859\n",
      "perfumaria perfumaria : 0.0000010260\n",
      "ar-condicionado e aquecedores ar-condicionado e aquecedores : 0.0000009883\n",
      "bebês bebês : 0.0000009003\n",
      "eletrodomésticos eletrodomésticos : 0.0000008741\n",
      "utilidades domésticas utilidades domésticas : 0.0000007501\n",
      "cama, mesa e banho cama, mesa e banho : 0.0000007258\n",
      "informática informática : 0.0000006386\n",
      "pet shop pet shop : 0.0000006175\n",
      "dvds e blu-ray dvds e blu-ray : 0.0000005439\n",
      "beleza e saúde beleza e saúde : 0.0000004576\n",
      "automotivo automotivo : 0.0000004546\n"
     ]
    }
   ],
   "source": [
    "# Probabidade ajustada de categorias para o objeto Ventilador\n",
    "from operator import itemgetter\n",
    "for cat, proba in sorted(guess, key = itemgetter(1), reverse = True):\n",
    "    print (cat, '{} : {:.10f}'.format(cat, float(proba)))"
   ]
  },
  {
   "cell_type": "code",
   "execution_count": null,
   "metadata": {},
   "outputs": [],
   "source": []
  }
 ],
 "metadata": {
  "anaconda-cloud": {},
  "kernelspec": {
   "display_name": "Python 3",
   "language": "python",
   "name": "python3"
  },
  "language_info": {
   "codemirror_mode": {
    "name": "ipython",
    "version": 3
   },
   "file_extension": ".py",
   "mimetype": "text/x-python",
   "name": "python",
   "nbconvert_exporter": "python",
   "pygments_lexer": "ipython3",
   "version": "3.8.3"
  }
 },
 "nbformat": 4,
 "nbformat_minor": 1
}
