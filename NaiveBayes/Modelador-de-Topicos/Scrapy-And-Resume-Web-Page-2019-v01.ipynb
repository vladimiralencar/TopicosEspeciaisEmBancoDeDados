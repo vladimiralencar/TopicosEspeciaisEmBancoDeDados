{
 "cells": [
  {
   "cell_type": "markdown",
   "metadata": {},
   "source": [
    "# <font color='blue'>PLN - Scrapy snd Resume Web Page</font>"
   ]
  },
  {
   "cell_type": "markdown",
   "metadata": {},
   "source": [
    "## Gensim - Modelagem de Tópicos (Sumarização, etc)"
   ]
  },
  {
   "cell_type": "markdown",
   "metadata": {},
   "source": [
    "https://github.com/RaRe-Technologies/gensim"
   ]
  },
  {
   "cell_type": "code",
   "execution_count": null,
   "metadata": {},
   "outputs": [],
   "source": [
    "#!pip install gensim\n",
    "#!conda install -c anaconda beautifulsoup4\n",
    "#!pip install beautifulsoup4"
   ]
  },
  {
   "cell_type": "markdown",
   "metadata": {},
   "source": [
    "# Pegar 1 texto na web e resumir usando o gensim"
   ]
  },
  {
   "cell_type": "code",
   "execution_count": null,
   "metadata": {},
   "outputs": [],
   "source": [
    "url = 'https://www.cartacapital.com.br/justica/como-a-lava-jato-destruiu-a-justica-brasileira/?fbclid=IwAR3b9ph0aXDLYRxq1wa-FN9M6uwUAUuurNcbuhyeGH__1pESNWge6UqKIeA'"
   ]
  },
  {
   "cell_type": "code",
   "execution_count": null,
   "metadata": {},
   "outputs": [],
   "source": [
    "url = 'https://economia.uol.com.br/noticias/bbc/2019/11/17/o-pais-europeu-que-ve-populacao-minguar-ano-apos-ano.htm'"
   ]
  },
  {
   "cell_type": "code",
   "execution_count": 2,
   "metadata": {},
   "outputs": [],
   "source": [
    "url = 'https://www.uol.com.br/splash/reportagens-especiais/o-xadrez-no-funk-de-sp/index.htm'"
   ]
  },
  {
   "cell_type": "code",
   "execution_count": 2,
   "metadata": {},
   "outputs": [],
   "source": [
    "#!pip install beautifulsoup4"
   ]
  },
  {
   "cell_type": "code",
   "execution_count": 3,
   "metadata": {},
   "outputs": [
    {
     "name": "stdout",
     "output_type": "stream",
     "text": [
      "Número de parágrafos: 59\n"
     ]
    }
   ],
   "source": [
    "import requests\n",
    "from bs4 import BeautifulSoup\n",
    "\n",
    "page = requests.get(url)\n",
    "soup = BeautifulSoup(page.content, 'html.parser')\n",
    "\n",
    "print('Número de parágrafos:', len(soup.find_all('p')))\n",
    "\n",
    "#print(soup.prettify())"
   ]
  },
  {
   "cell_type": "code",
   "execution_count": 4,
   "metadata": {},
   "outputs": [
    {
     "name": "stdout",
     "output_type": "stream",
     "text": [
      "['Como duas produtoras colocaram o funk de SP no mapa global e passaram de parceiras a concorrentes.']\n",
      "['Nesse tabuleiro da música, várias peças atuaram para o crescimento do gênero, mas duas delas têm papel principal:']\n",
      "['Juntas, as empresas de Rodrigo Oliveira e de Konrad Dantas geram quase 300 empregos, faturam mais de R$100 milhões por ano e somam quase 50 bilhões de visualizações no YouTube. Os artistas das duas produtoras estão, constantemente, nas paradas de sucessos das plataformas de streaming. Ou seja: se você rebola a raba ou levanta o dedinho para o ar em alguma festa pelo mundo, você consome algo dessas produtoras.']\n",
      "['No início da carreira, um foi importante para o crescimento do outro: Rodrigo era responsável por agenciar boa parte dos MCs que eram destaque nos videoclipes feitos por Konrad. Hoje, um entrou na seara do outro —Konrad abriu uma produtora de MCs e Rodrigo se aventurou na gravação de videoclipes.']\n",
      "[]\n",
      "[]\n",
      "['A cultura do ', <a href=\"https://www.uol.com.br/splash/musica/funk/\">baile funk</a>, ' nasceu no Rio de Janeiro, teve frutos na Baixada Santista e subiu a serra na segunda metade dos anos 2000.']\n",
      "['\"As letras de funk que vinham do Rio de Janeiro não eram bem vistas para quem consumia rap em São Paulo\", conta Backdi, um dos primeiros MCs de funk da capital.']\n",
      "[<cite>Como o funk da Baixada era o consciente, com letras que falavam do cotidiano e dos problemas das periferias, foi se consumindo devagar. Em 2006, eu formei dupla com o Bio G3 e começamos a fazer o primeiros shows pela Zona Leste.</cite>]\n",
      "['Com o passar do tempo, os primeiros MCs que tiveram como berço a capital de São Paulo foram crescendo (MC Nego Blue, MC Dede, MC BÓ), as primeiras casas noturnas dedicadas ao funk paulistano começavam a surgir (Nitro Night, Cabral, Nação Tan Tan, Maria Mariah) e, junto a tudo isso, as primeiras produtoras artísticas (Nós Por Nós, Funk de Elite e Máximo).']\n",
      "['A Máximo, principalmente, deu uma cara profissional para o funk de São Paulo. Lembro que ela selecionava poucos MCs para trabalhar bem a parte artística. Os grandes nomes da época, no começo dos anos 2010, como o Rodolfinho e Guimê, estavam lá. Ela abriu as portas para artistas do funk irem para TV, por exemplo. Se hoje é normal ver um funkeiro no Faustão, naquela época era coisa rara.']\n",
      "[<b>MC Backdi</b>]\n",
      "['Rodrigo Oliveira, 34, veio do Recife para São Paulo com a família quando tinha nove anos.']\n",
      "['Em meados de 2005, ele criou o grupo de pagode \"6ª Arte\" [entendeu de onde saiu a sigla GR6?], mas o lado empresário falou mais alto.']\n",
      "['Quando viu que o funk ganhava força em São Paulo, decidiu criar, junto com outros dois integrantes do grupo, uma empresa que organizava bailes —primeiro pela zona norte e depois se espalhando pelos quatro cantos da cidade.']\n",
      "[<cite>Como as festas faziam muito sucesso, o MC Léo da Baixada pediu para que eu o empresariasse. Foi assim que a GR6 entrou nesse mercado de produção artística também. O Léo foi nosso primeiro artista, lá em 2012.</cite>]\n",
      "['A ideia de ter na mão não só o espetáculo, mas também o artista, foi uma das primeiras grandes jogadas de Rodrigo.']\n",
      "['Desde o começo, a GR6 se orgulha da sua estrutura e capilaridade: enquanto algumas empresas atuavam de forma regional pela cidade de São Paulo e tinham no currículo, no máximo, uma dezena de artistas, a GR6 contratava MCs e produtores de tudo quanto é canto e se orgulhava de estar próxima de uma centena de funkeiros no seu leque.']\n",
      "['Quase em paralelo com o crescimento do mercado do funk em São Paulo e o surgimento das produtoras, Konrad Dantas teve uma ideia: os grandes sucessos surgiam no YouTube, com \"vídeos\" feitos de imagens estáticas, uma colagem de fotos que representavam aquilo que o MC estava cantando. Se ele falasse sobre uma Ferrari, aparecia foto de um carro da marca. Falou do perfume importado? Foto do perfume! O tênis da moda? A mesma coisa. E a cara do MC? Bem, um videoclipe resolveria esse problema.']\n",
      "[<cite>Eu tinha um acordo com o MC Primo para me divulgar e, em troca, eu faria os videoclipes dele, de graça. Na época, o MC Boy do Charmes tinha feito uma música que estava bombando e o Mr. Catra colocou no repertório. Porém, todo mundo achava que a música era do Catra. O Boy do Charmes precisava provar que a música era dele e, ao comentar isso com o Primo, ele disse que tinha a solução: contrata o KondZilla.</cite>]\n",
      "['Misturando a estética da ostentação dos clipes de ', <a href=\"https://www.uol.com.br/splash/musica/rap-gringo/\">rap estadunidenses</a>, ' com um toque das favelas brasileiras, KondZilla —mistura do seu nome de batismo com o monstro dos filmes japoneses— se moveu no tabuleiro e criou um império audiovisual.']\n",
      "['Se um MC tem o sonho de ser conhecido em todas as favelas do Brasil e até do exterior, o canal da KondZilla passou a ser principal vitrine para isso.']\n",
      "['O Grupo GR6 tem uma proposta underground, mais próxima das periferias e sem nenhum tipo de filtro, como censura a palavrões ou hipersexualização nos videoclipes. A holding contempla quatro empresas: GR6 Eventos, GR6 Filmes, GR6 Music, além do canal GR6 Explode.']\n",
      "['A KondZilla tem uma proximidade maior com o mainstream. Seus artistas passam por um filtro artístico, as letras não têm palavrão e nos videoclipes são proibidas armas, por exemplo. Além da Records e da KondZilla Filmes, a holding tem o Portal KondZilla, voltado para conteúdo.\\n']\n",
      "['GR6 e KondZilla fizeram o primeiro videoclipe em parceria no ano de 2012. Em 16 de setembro de 2015, o jogo virou.']\n",
      "['Nesse dia foi publicado no canal do YouTube da KondZilla o videoclipe de \"Baile de Favela\", de MC João —artista agenciado pela GR6. A música já era um sucesso nas favelas de São Paulo, mas o videoclipe alavancou o trabalho para o patamar global. O mundo passou a conhecer a cultura do funk de São Paulo —não só suas batidas, mas toda a estética da periferia paulistana estava impressa no vídeo.']\n",
      "['É bom destacar que não era a primeira vez que o ', <span>funk</span>, ' feito no Brasil rompia fronteiras. Artistas como ', <span>Tati</span>, <span> </span>, <span>Quebra-Barraco</span>, ' e ', <span>Deise</span>, <span> </span>, <span>Tigrona</span>, ', por exemplo, rodaram a Europa apresentando o ', <span>funk</span>, ' carioca. A diferença desta vez era a marca paulistana na música e o conteúdo audiovisual.']\n",
      "['Outro fator que ajudou na propagação do ', <span>funk</span>, ' de São Paulo foi a revolução dos streamings. Segundo Paulo Lima, presidente da Universal ', <span>Music</span>, ' Brasil, esses fatores contribuíram para essa expansão global.']\n",
      "[<cite>O <span>funk</span> já tinha números grandes, mas com a chegada das plataformas de streaming no país e o conhecimento que se foi adquirindo sobre o YouTube, o funk ganhou uma expressão ainda maior. A revolução digital ajudou na democratização desses players e mostrou a grandiosidade dessa cultura.</cite>]\n",
      "['À época do sucesso \"Baile de Favela\", a ', <span>KondZilla</span>, ' era a maior referência no assunto videoclipes e a ', <span>GR6</span>, ' se destacava entre as produtoras, tendo em seu catálogo os principais artistas da época: além do próprio MC João, MC Pedrinho, MC ', <span>Livinho</span>, ', MC Menor da ', <span>VG</span>, ', MC Neguinho do ', <span>Kaxeta</span>, ', DJ ', <span>Perera</span>, ', DJ ', <span>R7</span>, ' e outros tantos estavam \"no mesmo time\" e usavam a plataforma da Kondzilla.']\n",
      "['Depois de \"Baile de Favela\", ainda teve \"Olha a Explosão\", de Kevinho —que na época também era agenciado pela ', <span>GR6-</span>, '- também com videoclipe na ', <span>KondZilla</span>, '. O sucesso do verão de 2017 virou um fenômeno global, que teve até remix com participação do rapper ', <span>2Chainz</span>, '.']\n",
      "['1 bilhão de visualizações']\n",
      "['401 milhões de visualizações']\n",
      "['378 milhões de visualizações']\n",
      "['377 milhões de visualizações']\n",
      "['274 milhões de visualizações']\n",
      "['211 milhões de visualizações']\n",
      "['A GR6 funciona com Rodrigo de sócio majoritário e outra dezena de empresários artísticos. Cada um desses sócios é responsável por um número de MCs. No início de 2017, um deles saiu: Marcelo Gonçalves, o Portuga. Ele rompeu com a GR6 e se tornou parceiro de Konrad na criação da KondZilla Records. Portuga levou consigo um dos principais artistas do momento, Kevinho, e outros dez nomes.']\n",
      "[<cite>Eu estava num momento na vida em que queria ter meu espaço, decidir sozinho a administração da carreira dos artistas que estavam comigo, e foi essa a decisão que eu tomei. Como eu tinha contato com o Konrad porque contratava a empresa para fazer os clipes, começamos a nos aproximar e tivemos a ideia de fundar a KondZilla Records. O mercado estava pedindo isso, mais opções de gerenciamento de carreira do funk.</cite>]\n",
      "[<strong>Marcelo Gonçalves, o Portuga</strong>]\n",
      "['Com a parceira virando concorrente, Rodrigo também mexeu suas peças e investiu pesado no seu canal no YouTube, contratando profissionais do audiovisual (alguns da própria KondZilla) e comprando milhões em equipamentos de primeira. A partir daí, o dono da GR6 foi cortando a participação dos principais artistas da sua empresa no canal concorrente.']\n",
      "['Nunca tive a intenção de montar um canal, eu estava muito satisfeito com o trabalho da KondZilla. Quando o assunto é filme, não há ninguém igual ao Konrad. Mas quando ele abriu a KondZilla Records, eu pude entender que ele tinha que dar prioridade para os artistas dele e a gente precisava ter o nosso canal, para dar prioridade para os nossos artistas. E, na minha visão, quem saiu ganhando foi a GR6.\\n\\n']\n",
      "[<b>Rodrigo Oliveira</b>, ', dono da GR6 ']\n",
      "['Mas o grande ', <span>check</span>, ' de Rodrigo foi na venda de ', <span>shows</span>, '.']\n",
      "['Donos de casas de ', <span>shows</span>, ' e empresários ouvidos por ', <strong>Splash </strong>, 'dizem que a prática de parceria entre produtoras e casas noturnas é comum, mas afirmam que a ', <span>GR6</span>, ' \"mudou o patamar\", trabalhando de forma mais agressiva para manter as rédeas do mercado. Ao ser questionado sobre esse movimento no tabuleiro, Rodrigo deixa o lado político —e polido— de lado:']\n",
      "[<cite>Tenho artistas para encher a programação de uma casa de shows por três meses. Além disso, damos uma atenção especial para os contratantes, falo diretamente com eles. Essa reportagem vai sair e ensinar um pouco para a concorrência, mas não tem problema nenhum. Quero que eles façam como a gente mesmo, porque daí tiram um pouco dessa visão de monopólio. É igual a Globo. Dizem que é um monopólio, mas ninguém deixa de assistir porque a melhor programação es<span>tá</span> lá. É só na Globo que tem 'Malhação', 'Globo Esporte', 'Fantástico', 'Jornal Nacional'. Aí você muda para o SBT, só tem um programa que é legal.</cite>]\n",
      "['O bordão de \"vestir a camisa da empresa\" não é uma simples frase de efeito no funk. As pessoas levam bem a sério —tem até funcionários com os logos da GR6 e da KondZilla tatuados.']\n",
      "['A rivalidade entre as produtoras faz com que o muitos MCs mirins sonhem em trabalhar em uma das duas empresas. Muitos jovens de periferia trocaram o sonho de ser jogador pelo objetivo de subir no palco: eles não querem mais escolher entre vestir a camisa do Real Madrid ou do Barcelona.']\n",
      "[<cite>Nós temos responsabilidade sobre o sonho daquela criança. Tem pai que aparece aqui na porta da produtora e quer deixar o carro dele para eu empresariar o filho. É algo gratificante, mas que também traz toda uma carga, porque estamos lidando com o futuro de alguém e nem toda criança vai ser MC um dia.</cite>]\n",
      "[<strong>Rodrigo GR6</strong>]\n",
      "['O funk em São Paulo está profissionalizado, dizem nove a cada 10 pessoas do ramo. No entanto, o sucesso de um MC tem dois fatores principais - que ainda tem muito a ver com um passado mais amador: o quanto suas músicas tocam na rua e o quanto de shows ele faz num mês. Com a pandemia e a paralisação das festas, isso virou passado. Foi então que muitos artistas abriram os olhos para a importância do ', <em>streaming</em>, '.']\n",
      "['Não é que os cantores fechavam os olhos para Deezer e Spotify, por exemplo. Chegar num topo 50 era uma conquista comemorada, mas não era visto como prioridade - o principal foco era a distribuição no YouTube. Na comparação entre as duas produtoras, a KondZilla estava um passo à frente nesse ponto, pois há anos faz um trabalho também dedicado aos ', <em>streamings</em>, '. Era comum, por exemplo, ver sucessos de artistas da GR6 que estavam com milhões de acessos no videoclipe, mas a música não estava disponível no Spotify.']\n",
      "['Mas a GR6 ganhou uma nova aliada: a Ingrooves, que tem como missão distribuir o conteúdo fonográfico da produtora. Ela é um braço da Universal Music, que chegou no Brasil este ano e sua primeira parceria foi com a empresa de funk. A visão de futuro da GR6 é se tornar uma referência de selo musical. Cris Falcão, executiva da Ingrooves, explica parte do seu trabalho.']\n",
      "[<cite>Nós estamos trabalhando para mostrar como novas práticas podem ajudar os artistas. Antes, se tinha a cultura de lançar vários singles, distribuir no YouTube e, na hora que um desse certo, trabalhar em cima dele. Era uma espécie de roleta russa, jogar na mega sena. Hoje, mostramos que tem como você fazer um trabalho consolidado, trabalhar com álbuns ou EPs, fazendo um lançamento no mínimo simultâneo no YouTube e plataformas de streaming. São boas práticas que precisam ser adotadas. </cite>]\n",
      "['Há dois anos, a KondZilla vem se aproximando de um modelo próximo do que seria uma agência de publicidade. A empresa chegou a contratar um CEO para estreitar relações com o mercado publicitário. Hoje, Konrad diz que sua empresa é um \"selo de qualidade garantida\" e tem a ambição de ser, cada vez mais, multiplataforma.']\n",
      "[<cite>Qual a entrega que o Kevinho faz? Quantas impressões um stories dele tem? O Jottapê é só um MC ou pode atuar também? [ele foi um dos protagonistas da série \"Sintonia\", produzida pela KondZilla em parceria com a Netflix]. Quando a gente faz a gestão da carreira do artista, os anunciantes não têm medo de se associar aos nossos talentos, sabem que não vão ter nenhuma crise para administrar pois já temos um filtro.</cite>]\n",
      "['O amanhã ainda é uma incógnita. O certo é que a GR6 ruma caminho para se tornar uma grande gravadora, especializada na música das favelas paulistanas, enquanto a KondZilla, também dentro desse espaço, procura aproveitar do sucesso musical para se aliar a marcas e invadir o mainstream.', <br/>, <br/>, 'Mesmo com abordagens diferentes e um passado de parceria, GR6 e KondZilla disputam um mesmo espaço no tabuleiro.']\n",
      "[]\n",
      "[<strong>Design e colagens:</strong>, ' Juliana Caro | ', <strong>Fotos:</strong>, ' ', <span>Marcus Steinmeyer</span>, ' | ', <strong>Reportagem:</strong>, ' ', <span><span><span>Guilherme Lucio da Rocha</span></span></span>, ' | ', <strong>Edição de texto:</strong>, ' Liv Brandão e Osmar Portilho']\n",
      "Como duas produtoras colocaram o funk de SP no mapa global e passaram de parceiras a concorrentes.Ne\n"
     ]
    }
   ],
   "source": [
    "#classe_tag = 'vc_empty_space'\n",
    "paragraphs = soup.find()\n",
    "all_paragraphs = paragraphs.find_all('p')\n",
    "\n",
    "# Usar .contents para pegar as tags <p> filhaso =\n",
    "texto = ''\n",
    "for paragraph in all_paragraphs:\n",
    "    print(paragraph.contents)\n",
    "    texto_paragraph = paragraph.contents #[0]\n",
    "    listToStr = ' '.join(map(str, texto_paragraph)) \n",
    "    \n",
    "    texto += listToStr\n",
    "    \n",
    "print(texto[:100])"
   ]
  },
  {
   "cell_type": "code",
   "execution_count": 5,
   "metadata": {},
   "outputs": [],
   "source": [
    "texto = texto.replace('</p>','')\n",
    "texto = texto.replace('</span>','')\n",
    "texto = texto.replace('<p>','')\n",
    "texto = texto.replace('<span>','')\n",
    "texto = texto.replace('<div>','')\n",
    "texto = texto.replace('</div>','')"
   ]
  },
  {
   "cell_type": "code",
   "execution_count": null,
   "metadata": {},
   "outputs": [],
   "source": [
    "#text[:1000]"
   ]
  },
  {
   "cell_type": "code",
   "execution_count": 6,
   "metadata": {},
   "outputs": [
    {
     "name": "stdout",
     "output_type": "stream",
     "text": [
      "Hoje, um entrou na seara do outro —Konrad abriu uma produtora de MCs e Rodrigo se aventurou na gravação de videoclipes.A cultura do  <a href=\"https://www.uol.com.br/splash/musica/funk/\">baile funk</a>  nasceu no Rio de Janeiro, teve frutos na Baixada Santista e subiu a serra na segunda metade dos anos 2000.\"As letras de funk que vinham do Rio de Janeiro não eram bem vistas para quem consumia rap em São Paulo\", conta Backdi, um dos primeiros MCs de funk da capital.<cite>Como o funk da Baixada era o consciente, com letras que falavam do cotidiano e dos problemas das periferias, foi se consumindo devagar.\n",
      "Se hoje é normal ver um funkeiro no Faustão, naquela época era coisa rara.<b>MC Backdi</b>Rodrigo Oliveira, 34, veio do Recife para São Paulo com a família quando tinha nove anos.Em meados de 2005, ele criou o grupo de pagode \"6ª Arte\" [entendeu de onde saiu a sigla GR6?], mas o lado empresário falou mais alto.Quando viu que o funk ganhava força em São Paulo, decidiu criar, junto com outros dois integrantes do grupo, uma empresa que organizava bailes —primeiro pela zona norte e depois se espalhando pelos quatro cantos da cidade.<cite>Como as festas faziam muito sucesso, o MC Léo da Baixada pediu para que eu o empresariasse.\n"
     ]
    }
   ],
   "source": [
    "import gensim\n",
    "num_paragraphs = 3\n",
    "word_count=230\n",
    "print (gensim.summarization.summarize(texto, word_count=word_count))"
   ]
  },
  {
   "cell_type": "code",
   "execution_count": null,
   "metadata": {},
   "outputs": [],
   "source": []
  },
  {
   "cell_type": "code",
   "execution_count": 7,
   "metadata": {},
   "outputs": [
    {
     "name": "stdout",
     "output_type": "stream",
     "text": [
      "Como duas produtoras colocaram o funk de SP no mapa global e passaram de parceiras a concorrentes.Nesse tabuleiro da música, várias peças atuaram para o crescimento do gênero, mas duas delas têm papel principal:Juntas, as empresas de Rodrigo Oliveira e de Konrad Dantas geram quase 300 empregos, faturam mais de R$100 milhões por ano e somam quase 50 bilhões de visualizações no YouTube.\n",
      "Hoje, um entrou na seara do outro —Konrad abriu uma produtora de MCs e Rodrigo se aventurou na gravação de videoclipes.A cultura do  <a href=\"https://www.uol.com.br/splash/musica/funk/\">baile funk</a>  nasceu no Rio de Janeiro, teve frutos na Baixada Santista e subiu a serra na segunda metade dos anos 2000.\"As letras de funk que vinham do Rio de Janeiro não eram bem vistas para quem consumia rap em São Paulo\", conta Backdi, um dos primeiros MCs de funk da capital.<cite>Como o funk da Baixada era o consciente, com letras que falavam do cotidiano e dos problemas das periferias, foi se consumindo devagar.\n",
      "Se hoje é normal ver um funkeiro no Faustão, naquela época era coisa rara.<b>MC Backdi</b>Rodrigo Oliveira, 34, veio do Recife para São Paulo com a família quando tinha nove anos.Em meados de 2005, ele criou o grupo de pagode \"6ª Arte\" [entendeu de onde saiu a sigla GR6?], mas o lado empresário falou mais alto.Quando viu que o funk ganhava força em São Paulo, decidiu criar, junto com outros dois integrantes do grupo, uma empresa que organizava bailes —primeiro pela zona norte e depois se espalhando pelos quatro cantos da cidade.<cite>Como as festas faziam muito sucesso, o MC Léo da Baixada pediu para que eu o empresariasse.\n",
      "O Léo foi nosso primeiro artista, lá em 2012.</cite>A ideia de ter na mão não só o espetáculo, mas também o artista, foi uma das primeiras grandes jogadas de Rodrigo.Desde o começo, a GR6 se orgulha da sua estrutura e capilaridade: enquanto algumas empresas atuavam de forma regional pela cidade de São Paulo e tinham no currículo, no máximo, uma dezena de artistas, a GR6 contratava MCs e produtores de tudo quanto é canto e se orgulhava de estar próxima de uma centena de funkeiros no seu leque.Quase em paralelo com o crescimento do mercado do funk em São Paulo e o surgimento das produtoras, Konrad Dantas teve uma ideia: os grandes sucessos surgiam no YouTube, com \"vídeos\" feitos de imagens estáticas, uma colagem de fotos que representavam aquilo que o MC estava cantando.\n",
      "O Boy do Charmes precisava provar que a música era dele e, ao comentar isso com o Primo, ele disse que tinha a solução: contrata o KondZilla.</cite>Misturando a estética da ostentação dos clipes de  <a href=\"https://www.uol.com.br/splash/musica/rap-gringo/\">rap estadunidenses</a>  com um toque das favelas brasileiras, KondZilla —mistura do seu nome de batismo com o monstro dos filmes japoneses— se moveu no tabuleiro e criou um império audiovisual.Se um MC tem o sonho de ser conhecido em todas as favelas do Brasil e até do exterior, o canal da KondZilla passou a ser principal vitrine para isso.O Grupo GR6 tem uma proposta underground, mais próxima das periferias e sem nenhum tipo de filtro, como censura a palavrões ou hipersexualização nos videoclipes.\n",
      "Segundo Paulo Lima, presidente da Universal  Music  Brasil, esses fatores contribuíram para essa expansão global.<cite>O funk já tinha números grandes, mas com a chegada das plataformas de streaming no país e o conhecimento que se foi adquirindo sobre o YouTube, o funk ganhou uma expressão ainda maior.\n",
      "Era comum, por exemplo, ver sucessos de artistas da GR6 que estavam com milhões de acessos no videoclipe, mas a música não estava disponível no Spotify.Mas a GR6 ganhou uma nova aliada: a Ingrooves, que tem como missão distribuir o conteúdo fonográfico da produtora.\n"
     ]
    }
   ],
   "source": [
    "# Summary (0.1 = 10% of the original content). \n",
    "ratio = 0.1\n",
    "print (gensim.summarization.summarize(texto, ratio=ratio))"
   ]
  },
  {
   "cell_type": "code",
   "execution_count": null,
   "metadata": {},
   "outputs": [],
   "source": []
  }
 ],
 "metadata": {
  "anaconda-cloud": {},
  "kernelspec": {
   "display_name": "Python 3",
   "language": "python",
   "name": "python3"
  },
  "language_info": {
   "codemirror_mode": {
    "name": "ipython",
    "version": 3
   },
   "file_extension": ".py",
   "mimetype": "text/x-python",
   "name": "python",
   "nbconvert_exporter": "python",
   "pygments_lexer": "ipython3",
   "version": "3.8.3"
  }
 },
 "nbformat": 4,
 "nbformat_minor": 1
}
