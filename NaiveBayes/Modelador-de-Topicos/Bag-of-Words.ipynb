{
 "cells": [
  {
   "cell_type": "markdown",
   "metadata": {},
   "source": [
    "# <font color='blue'>Processamento de Linguagem Natural</font>"
   ]
  },
  {
   "cell_type": "markdown",
   "metadata": {},
   "source": [
    "## Bag of Words\n",
    "\n",
    "\n",
    "O modelo de \"saco de palavras\" é uma representação simplificada usada no processamento de linguagem natural e recuperação de informação. Neste modelo, um texto (como uma sentença ou um documento) é representado como o saco (multiset) de suas palavras, desconsiderando a gramática e até a ordem das palavras, mas mantendo a multiplicidade.\n",
    "\n",
    "Na classificação de documentos, um saco de palavras é um vetor esparso de ocorrência de contagens de palavras; Ou seja, um histograma esparso sobre o vocabulário."
   ]
  },
  {
   "cell_type": "markdown",
   "metadata": {},
   "source": [
    "### Carregando um Dataset de um Site de E-commerce (em português)"
   ]
  },
  {
   "cell_type": "code",
   "execution_count": 1,
   "metadata": {},
   "outputs": [],
   "source": [
    "import gzip\n",
    "import json"
   ]
  },
  {
   "cell_type": "code",
   "execution_count": 2,
   "metadata": {},
   "outputs": [
    {
     "name": "stdout",
     "output_type": "stream",
     "text": [
      "CPU times: user 1.56 s, sys: 115 ms, total: 1.68 s\n",
      "Wall time: 1.71 s\n"
     ]
    }
   ],
   "source": [
    "%%time\n",
    "# Carregando o dataset\n",
    "corpus = list()\n",
    "with gzip.open('ecommerce.json.gz') as fp:\n",
    "    for line in fp:\n",
    "        entry = line.decode('utf8')\n",
    "        corpus.append(json.loads(entry))"
   ]
  },
  {
   "cell_type": "code",
   "execution_count": 3,
   "metadata": {},
   "outputs": [
    {
     "name": "stdout",
     "output_type": "stream",
     "text": [
      "{'_id': 120008322,\n",
      " 'cat': ' Automotivo',\n",
      " 'descr': 'Chegou o kit que junta resistência e conforto, além de níveis '\n",
      "          'máximos de segurança. São 4 pneus para seu carro ficar completo e '\n",
      "          'com a qualificação que você precisa.\\n'\n",
      "          'Com os conhecimentos avançados de hoje e um entusiasmo pela '\n",
      "          'direção, os engenheiros da Pirelli puderam dar grandes passos. Cada '\n",
      "          'pneu da Pirelli é responsável não só pelo desempenho, mas também '\n",
      "          'por uma \"vontade de ir pra estrada\", comunicando-se com o motorista '\n",
      "          'e gerando um melhor entendimento do desempenho do veículo, ou seja, '\n",
      "          'a Pirelli transforma a sua viagem em uma aventura divertida e livre '\n",
      "          'de problemas. Pneu Pirelli para carros com rodas aro 16, modelo '\n",
      "          'high performance Phanthon, perfil baixo proporcionando maior '\n",
      "          'estabilidade nas curvas, excelente qualidade e durabilidade para '\n",
      "          'pistas.\\n'\n",
      "          '\\n'\n",
      "          'Imagens meramente ilustrativas.\\n'\n",
      "          'Todas as informações divulgadas são de responsabilidade do '\n",
      "          'fabricante/fornecedor.',\n",
      " 'features': {'Aro': '16',\n",
      "              'Categoria': 'Alta Performance,Pneu automotivo',\n",
      "              'Composição/Material': 'Borracha',\n",
      "              'Dimensões aproximadas da embalagem (cm) - AxLxP': '63x23x63cm',\n",
      "              'Distância do furo central ao eixo': 'Não informado pelo '\n",
      "                                                   'fornecedor',\n",
      "              'Distância entre furos': 'Não informado pelo fornecedor',\n",
      "              'Fornecedor': 'Pirelli',\n",
      "              'Garantia do Fornecedor': '60 meses',\n",
      "              'Indicação': 'Carro',\n",
      "              'Largura do Pneu': 'Não informado pelo fornecedor',\n",
      "              'Marca': 'Pirelli',\n",
      "              'Modelo': '7895119967121',\n",
      "              'Número de furos': 'Não informado pelo fornecedor',\n",
      "              'PRODUTO': 'Pneu Pirelli Aro 16 205/55R16 Phantom',\n",
      "              'Peso aproximado da embalagem do produto (kg)': '10kg',\n",
      "              'Referência do Modelo': '7895119967121',\n",
      "              'Relação altura do flanco x altura do pneu': '62x22x62cm',\n",
      "              'SAC': '0800 7287638',\n",
      "              'Tala': 'Não informdo pelo fornecedor',\n",
      "              'Índice de carga': '615'},\n",
      " 'image_urls': ['http://iacom1-a.akamaihd.net/img/_staging/bf15acom.png',\n",
      "                'http://iacom1-a.akamaihd.net/produtos/01/00/item/120008/3/120008322_2GG.jpg',\n",
      "                'http://iacom1-a.akamaihd.net/produtos/01/00/item/120008/3/120008322_1GG.png'],\n",
      " 'name': 'Kit com 4 Pneus de Alta Performance Pirelli Aro 16 205/55R16 Phantom',\n",
      " 'ratings': 0,\n",
      " 'stars': 0.0,\n",
      " 'subcat': ' Pneus e Rodas',\n",
      " 'url': 'http://www.americanas.com.br/produto/120008322/kit-com-4-pneus-de-alta-performance-pirelli-aro-16-205-55r16-phantom??chave=dp_automotivo_dt1'}\n"
     ]
    }
   ],
   "source": [
    "from pprint import pprint\n",
    "pprint(corpus[0])"
   ]
  },
  {
   "cell_type": "code",
   "execution_count": 4,
   "metadata": {},
   "outputs": [
    {
     "data": {
      "text/plain": [
       "65875"
      ]
     },
     "execution_count": 4,
     "metadata": {},
     "output_type": "execute_result"
    }
   ],
   "source": [
    "len(corpus)"
   ]
  },
  {
   "cell_type": "code",
   "execution_count": 5,
   "metadata": {},
   "outputs": [
    {
     "name": "stdout",
     "output_type": "stream",
     "text": [
      "Chegou o kit que junta resistência e conforto, além de níveis máximos de segurança. São 4 pneus para seu carro ficar completo e com a qualificação que você precisa.\n",
      "Com os conhecimentos avançados de hoje e um entusiasmo pela direção, os engenheiros da Pirelli puderam dar grandes passos. Cada pneu da Pirelli é responsável não só pelo desempenho, mas também por uma \"vontade de ir pra estrada\", comunicando-se com o motorista e gerando um melhor entendimento do desempenho do veículo, ou seja, a Pirelli transforma a sua viagem em uma aventura divertida e livre de problemas. Pneu Pirelli para carros com rodas aro 16, modelo high performance Phanthon, perfil baixo proporcionando maior estabilidade nas curvas, excelente qualidade e durabilidade para pistas.\n",
      "\n",
      "Imagens meramente ilustrativas.\n",
      "Todas as informações divulgadas são de responsabilidade do fabricante/fornecedor.\n"
     ]
    }
   ],
   "source": [
    "print (corpus[0]['descr'])"
   ]
  },
  {
   "cell_type": "code",
   "execution_count": 6,
   "metadata": {},
   "outputs": [
    {
     "name": "stdout",
     "output_type": "stream",
     "text": [
      " Automotivo\n"
     ]
    }
   ],
   "source": [
    "print (corpus[0]['cat'])"
   ]
  },
  {
   "cell_type": "markdown",
   "metadata": {},
   "source": [
    "## Gensim - Modelagem de Tópicos (Sumarização, etc)"
   ]
  },
  {
   "cell_type": "markdown",
   "metadata": {},
   "source": [
    "https://github.com/RaRe-Technologies/gensim"
   ]
  },
  {
   "cell_type": "code",
   "execution_count": null,
   "metadata": {},
   "outputs": [],
   "source": [
    "#!pip install gensim"
   ]
  },
  {
   "cell_type": "code",
   "execution_count": 7,
   "metadata": {},
   "outputs": [
    {
     "name": "stdout",
     "output_type": "stream",
     "text": [
      "Chegou o kit que junta resistência e conforto, além de níveis máximos de segurança. São 4 pneus para seu carro ficar completo e com a qualificação que você precisa.\n",
      "Com os conhecimentos avançados de hoje e um entusiasmo pela direção, os engenheiros da Pirelli puderam dar grandes passos. Cada pneu da Pirelli é responsável não só pelo desempenho, mas também por uma \"vontade de ir pra estrada\", comunicando-se com o motorista e gerando um melhor entendimento do desempenho do veículo, ou seja, a Pirelli transforma a sua viagem em uma aventura divertida e livre de problemas. Pneu Pirelli para carros com rodas aro 16, modelo high performance Phanthon, perfil baixo proporcionando maior estabilidade nas curvas, excelente qualidade e durabilidade para pistas.\n",
      "\n",
      "Imagens meramente ilustrativas.\n",
      "Todas as informações divulgadas são de responsabilidade do fabricante/fornecedor.\n"
     ]
    }
   ],
   "source": [
    "print (corpus[0]['descr'])"
   ]
  },
  {
   "cell_type": "code",
   "execution_count": 8,
   "metadata": {},
   "outputs": [
    {
     "name": "stdout",
     "output_type": "stream",
     "text": [
      "São 4 pneus para seu carro ficar completo e com a qualificação que você precisa.\n"
     ]
    }
   ],
   "source": [
    "import gensim\n",
    "print (gensim.summarization.summarize(corpus[0]['descr']))"
   ]
  },
  {
   "cell_type": "code",
   "execution_count": 9,
   "metadata": {},
   "outputs": [
    {
     "data": {
      "text/plain": [
       "65875"
      ]
     },
     "execution_count": 9,
     "metadata": {},
     "output_type": "execute_result"
    }
   ],
   "source": [
    "len(corpus)"
   ]
  },
  {
   "cell_type": "markdown",
   "metadata": {},
   "source": [
    "## Construindo um classificador para produtos e categorias (considerando apenas os 10 mil primeiros produtos)"
   ]
  },
  {
   "cell_type": "code",
   "execution_count": 11,
   "metadata": {},
   "outputs": [
    {
     "data": {
      "text/html": [
       "<div>\n",
       "<style scoped>\n",
       "    .dataframe tbody tr th:only-of-type {\n",
       "        vertical-align: middle;\n",
       "    }\n",
       "\n",
       "    .dataframe tbody tr th {\n",
       "        vertical-align: top;\n",
       "    }\n",
       "\n",
       "    .dataframe thead th {\n",
       "        text-align: right;\n",
       "    }\n",
       "</style>\n",
       "<table border=\"1\" class=\"dataframe\">\n",
       "  <thead>\n",
       "    <tr style=\"text-align: right;\">\n",
       "      <th></th>\n",
       "      <th>name</th>\n",
       "      <th>categ</th>\n",
       "    </tr>\n",
       "  </thead>\n",
       "  <tbody>\n",
       "    <tr>\n",
       "      <th>0</th>\n",
       "      <td>Kit com 4 Pneus de Alta Performance Pirelli Ar...</td>\n",
       "      <td>automotivo</td>\n",
       "    </tr>\n",
       "    <tr>\n",
       "      <th>1</th>\n",
       "      <td>Kit com 4 Pneus de Alta Performance Pirelli Ar...</td>\n",
       "      <td>automotivo</td>\n",
       "    </tr>\n",
       "    <tr>\n",
       "      <th>2</th>\n",
       "      <td>Chandon Brut Rosé 750 ml</td>\n",
       "      <td>alimentos e bebidas</td>\n",
       "    </tr>\n",
       "    <tr>\n",
       "      <th>3</th>\n",
       "      <td>Kit com 2 Vodkas Sueca Absolut Vanilia 1000ml</td>\n",
       "      <td>alimentos e bebidas</td>\n",
       "    </tr>\n",
       "    <tr>\n",
       "      <th>4</th>\n",
       "      <td>Kit  - Livros de Colorir: Jardim Secreto + Flo...</td>\n",
       "      <td>livros</td>\n",
       "    </tr>\n",
       "  </tbody>\n",
       "</table>\n",
       "</div>"
      ],
      "text/plain": [
       "                                                name                categ\n",
       "0  Kit com 4 Pneus de Alta Performance Pirelli Ar...           automotivo\n",
       "1  Kit com 4 Pneus de Alta Performance Pirelli Ar...           automotivo\n",
       "2                           Chandon Brut Rosé 750 ml  alimentos e bebidas\n",
       "3      Kit com 2 Vodkas Sueca Absolut Vanilia 1000ml  alimentos e bebidas\n",
       "4  Kit  - Livros de Colorir: Jardim Secreto + Flo...               livros"
      ]
     },
     "execution_count": 11,
     "metadata": {},
     "output_type": "execute_result"
    }
   ],
   "source": [
    "# Construindo um classificador para produtos e categorias (considerando apenas os 10 mil primeiros produtos)\n",
    "import pandas as pd\n",
    "dataset = list()\n",
    "df = pd.DataFrame()\n",
    "df['name'] = ['Kit com 4 Pneus de Alta Performance Pirelli Aro 16 205/55R16 Phantom']\n",
    "df['categ'] = ['automotivo']\n",
    "\n",
    "size = 10000\n",
    "for entry in corpus[:size]:\n",
    "    if 'cat' in entry:\n",
    "        dataset.append( (entry['name'], entry['cat'].lower().strip()) )\n",
    "        df2 = pd.DataFrame()\n",
    "        df2['name'] = [ entry['name'] ]\n",
    "        df2['categ'] =[ entry['cat'].lower().strip() ]\n",
    "        df = df.append(df2, ignore_index = True)\n",
    "df.head()"
   ]
  },
  {
   "cell_type": "code",
   "execution_count": 12,
   "metadata": {},
   "outputs": [
    {
     "data": {
      "text/plain": [
       "array(['automotivo', 'alimentos e bebidas', 'livros',\n",
       "       'suplementos e vitaminas', 'tv e home theater', 'áudio',\n",
       "       'informática', 'relógios', 'pet shop', 'instrumentos musicais',\n",
       "       'eletrodomésticos', 'beleza e saúde', 'perfumaria',\n",
       "       'celulares e telefones', 'brinquedos',\n",
       "       'ar-condicionado e aquecedores', 'linha industrial',\n",
       "       'eletroportáteis', 'bebês', 'utilidades domésticas',\n",
       "       'cama, mesa e banho', 'dvds e blu-ray'], dtype=object)"
      ]
     },
     "execution_count": 12,
     "metadata": {},
     "output_type": "execute_result"
    }
   ],
   "source": [
    "df.categ.unique()"
   ]
  },
  {
   "cell_type": "code",
   "execution_count": 13,
   "metadata": {},
   "outputs": [
    {
     "name": "stdout",
     "output_type": "stream",
     "text": [
      "Número de categorias: 22\n"
     ]
    }
   ],
   "source": [
    "print(\"Número de categorias:\", len(df.categ.unique()))"
   ]
  },
  {
   "cell_type": "code",
   "execution_count": 14,
   "metadata": {},
   "outputs": [
    {
     "data": {
      "text/plain": [
       "bebês                            1208\n",
       "eletroportáteis                  1052\n",
       "automotivo                        916\n",
       "utilidades domésticas             857\n",
       "suplementos e vitaminas           787\n",
       "ar-condicionado e aquecedores     754\n",
       "informática                       706\n",
       "cama, mesa e banho                670\n",
       "tv e home theater                 644\n",
       "perfumaria                        532\n",
       "beleza e saúde                    497\n",
       "dvds e blu-ray                    433\n",
       "relógios                          410\n",
       "pet shop                          391\n",
       "instrumentos musicais              44\n",
       "celulares e telefones              18\n",
       "eletrodomésticos                   16\n",
       "áudio                              13\n",
       "alimentos e bebidas                 2\n",
       "livros                              2\n",
       "linha industrial                    1\n",
       "brinquedos                          1\n",
       "Name: categ, dtype: int64"
      ]
     },
     "execution_count": 14,
     "metadata": {},
     "output_type": "execute_result"
    }
   ],
   "source": [
    "df.categ.value_counts()"
   ]
  },
  {
   "cell_type": "code",
   "execution_count": 15,
   "metadata": {},
   "outputs": [
    {
     "data": {
      "text/plain": [
       "9953"
      ]
     },
     "execution_count": 15,
     "metadata": {},
     "output_type": "execute_result"
    }
   ],
   "source": [
    "len(dataset)"
   ]
  },
  {
   "cell_type": "code",
   "execution_count": 16,
   "metadata": {},
   "outputs": [
    {
     "name": "stdout",
     "output_type": "stream",
     "text": [
      "[('Kit com 4 Pneus de Alta Performance Pirelli Aro 16 205/55R16 Phantom',\n",
      "  'automotivo'),\n",
      " ('Chandon Brut Rosé 750 ml', 'alimentos e bebidas'),\n",
      " ('Kit com 2 Vodkas Sueca Absolut Vanilia 1000ml', 'alimentos e bebidas'),\n",
      " ('Kit  - Livros de Colorir: Jardim Secreto + Floresta Encantada + Reino '\n",
      "  'Animal',\n",
      "  'livros'),\n",
      " (\"Livro - Assassin's Creed: Submundo\", 'livros'),\n",
      " ('BCAA 2400 - 100 Cápsulas - Nitech Nutrition', 'suplementos e vitaminas'),\n",
      " ('100% Whey - 900g - Baunilha - Nitech Nutrition', 'suplementos e vitaminas'),\n",
      " ('Whey Protein Isolate - 900g - Morango - Nitech Nutrition',\n",
      "  'suplementos e vitaminas'),\n",
      " ('100% Whey - 900g - Chocolate - Nitech Nutrition', 'suplementos e vitaminas'),\n",
      " ('BCAA 2400 - 200 Cápsulas - Nitech Nutrition', 'suplementos e vitaminas')]\n"
     ]
    }
   ],
   "source": [
    "pprint(dataset[:10])"
   ]
  },
  {
   "cell_type": "code",
   "execution_count": 17,
   "metadata": {},
   "outputs": [
    {
     "name": "stdout",
     "output_type": "stream",
     "text": [
      "[('bebês', 1208),\n",
      " ('eletroportáteis', 1052),\n",
      " ('automotivo', 915),\n",
      " ('utilidades domésticas', 857),\n",
      " ('suplementos e vitaminas', 787),\n",
      " ('ar-condicionado e aquecedores', 754),\n",
      " ('informática', 706),\n",
      " ('cama, mesa e banho', 670),\n",
      " ('tv e home theater', 644),\n",
      " ('perfumaria', 532),\n",
      " ('beleza e saúde', 497),\n",
      " ('dvds e blu-ray', 433),\n",
      " ('relógios', 410),\n",
      " ('pet shop', 391),\n",
      " ('instrumentos musicais', 44),\n",
      " ('celulares e telefones', 18),\n",
      " ('eletrodomésticos', 16),\n",
      " ('áudio', 13),\n",
      " ('alimentos e bebidas', 2),\n",
      " ('livros', 2),\n",
      " ('brinquedos', 1),\n",
      " ('linha industrial', 1)]\n"
     ]
    }
   ],
   "source": [
    "# Quantas categorias distintas nós temos e quantos itens por categoria?\n",
    "from collections import Counter\n",
    "counter = Counter([cat for prod, cat in dataset])\n",
    "pprint(counter.most_common())"
   ]
  },
  {
   "cell_type": "markdown",
   "metadata": {},
   "source": [
    "# Construindo um Classificador SVM com Bag of Words"
   ]
  },
  {
   "cell_type": "markdown",
   "metadata": {},
   "source": [
    "http://scikit-learn.org/stable/tutorial/text_analytics/working_with_text_data.html"
   ]
  },
  {
   "cell_type": "code",
   "execution_count": null,
   "metadata": {},
   "outputs": [],
   "source": [
    "#!pip install nltk"
   ]
  },
  {
   "cell_type": "code",
   "execution_count": 18,
   "metadata": {},
   "outputs": [],
   "source": [
    "from sklearn.pipeline import Pipeline\n",
    "from sklearn.svm import SVC\n",
    "from sklearn.preprocessing import LabelEncoder\n",
    "from sklearn.feature_extraction.text import TfidfVectorizer\n",
    "from sklearn.feature_extraction.text import CountVectorizer"
   ]
  },
  {
   "cell_type": "code",
   "execution_count": 19,
   "metadata": {},
   "outputs": [],
   "source": [
    "import nltk\n",
    "stopwords = nltk.corpus.stopwords.words('portuguese')"
   ]
  },
  {
   "cell_type": "code",
   "execution_count": 20,
   "metadata": {},
   "outputs": [],
   "source": [
    "# Construindo o modelo SVM com Pipeline\n",
    "modelo = Pipeline([('vect', TfidfVectorizer()), ('clf', SVC(kernel = 'linear', probability = True))])"
   ]
  },
  {
   "cell_type": "code",
   "execution_count": 21,
   "metadata": {},
   "outputs": [],
   "source": [
    "?LabelEncoder"
   ]
  },
  {
   "cell_type": "code",
   "execution_count": 22,
   "metadata": {},
   "outputs": [],
   "source": [
    "# Objeto para Normalização dos labels\n",
    "encoder = LabelEncoder()"
   ]
  },
  {
   "cell_type": "code",
   "execution_count": 23,
   "metadata": {},
   "outputs": [
    {
     "data": {
      "text/plain": [
       "('Kit com 4 Pneus de Alta Performance Pirelli Aro 16 205/55R16 Phantom',\n",
       " 'automotivo')"
      ]
     },
     "execution_count": 23,
     "metadata": {},
     "output_type": "execute_result"
    }
   ],
   "source": [
    "dataset[0]"
   ]
  },
  {
   "cell_type": "code",
   "execution_count": 24,
   "metadata": {},
   "outputs": [
    {
     "data": {
      "text/plain": [
       "9953"
      ]
     },
     "execution_count": 24,
     "metadata": {},
     "output_type": "execute_result"
    }
   ],
   "source": [
    "# Obtendo dados e labels\n",
    "data = [prod for prod, cat in dataset]\n",
    "labels = [cat for prod, cat in dataset]\n",
    "len(data)"
   ]
  },
  {
   "cell_type": "code",
   "execution_count": 25,
   "metadata": {},
   "outputs": [],
   "source": [
    "# Normalização dos labels\n",
    "target = encoder.fit_transform(labels)"
   ]
  },
  {
   "cell_type": "code",
   "execution_count": 26,
   "metadata": {},
   "outputs": [
    {
     "data": {
      "text/plain": [
       "array([ 2,  0,  0, 14, 14, 18, 18, 18, 18, 18])"
      ]
     },
     "execution_count": 26,
     "metadata": {},
     "output_type": "execute_result"
    }
   ],
   "source": [
    "target[:10]"
   ]
  },
  {
   "cell_type": "code",
   "execution_count": 27,
   "metadata": {},
   "outputs": [
    {
     "data": {
      "text/plain": [
       "'automotivo'"
      ]
     },
     "execution_count": 27,
     "metadata": {},
     "output_type": "execute_result"
    }
   ],
   "source": [
    "# Items\n",
    "encoder.classes_.item(2)"
   ]
  },
  {
   "cell_type": "code",
   "execution_count": 28,
   "metadata": {},
   "outputs": [
    {
     "name": "stdout",
     "output_type": "stream",
     "text": [
      "CPU times: user 21.4 s, sys: 142 ms, total: 21.5 s\n",
      "Wall time: 21.9 s\n"
     ]
    },
    {
     "data": {
      "text/plain": [
       "Pipeline(memory=None,\n",
       "         steps=[('vect',\n",
       "                 TfidfVectorizer(analyzer='word', binary=False,\n",
       "                                 decode_error='strict',\n",
       "                                 dtype=<class 'numpy.float64'>,\n",
       "                                 encoding='utf-8', input='content',\n",
       "                                 lowercase=True, max_df=1.0, max_features=None,\n",
       "                                 min_df=1, ngram_range=(1, 1), norm='l2',\n",
       "                                 preprocessor=None, smooth_idf=True,\n",
       "                                 stop_words=None, strip_accents=None,\n",
       "                                 sublinear_tf=False,\n",
       "                                 token_pattern='(?u)\\\\b\\\\w\\\\w+\\\\b',\n",
       "                                 tokenizer=None, use_idf=True,\n",
       "                                 vocabulary=None)),\n",
       "                ('clf',\n",
       "                 SVC(C=1.0, cache_size=200, class_weight=None, coef0=0.0,\n",
       "                     decision_function_shape='ovr', degree=3,\n",
       "                     gamma='auto_deprecated', kernel='linear', max_iter=-1,\n",
       "                     probability=True, random_state=None, shrinking=True,\n",
       "                     tol=0.001, verbose=False))],\n",
       "         verbose=False)"
      ]
     },
     "execution_count": 28,
     "metadata": {},
     "output_type": "execute_result"
    }
   ],
   "source": [
    "%%time\n",
    "# Fit do modelo\n",
    "modelo.fit(data, target)"
   ]
  },
  {
   "cell_type": "code",
   "execution_count": 29,
   "metadata": {},
   "outputs": [
    {
     "data": {
      "text/plain": [
       "array([9])"
      ]
     },
     "execution_count": 29,
     "metadata": {},
     "output_type": "execute_result"
    }
   ],
   "source": [
    "# Prevendo a categoria a partir da descrição\n",
    "modelo.predict([\"Refrigerador Brastemp com função frostfree\"])"
   ]
  },
  {
   "cell_type": "code",
   "execution_count": 30,
   "metadata": {},
   "outputs": [
    {
     "name": "stdout",
     "output_type": "stream",
     "text": [
      "eletrodomésticos\n"
     ]
    }
   ],
   "source": [
    "# Prevendo a categoria a partir da descrição\n",
    "print (encoder.classes_[9])"
   ]
  },
  {
   "cell_type": "code",
   "execution_count": 31,
   "metadata": {},
   "outputs": [
    {
     "data": {
      "text/plain": [
       "array(['informática'], dtype='<U29')"
      ]
     },
     "execution_count": 31,
     "metadata": {},
     "output_type": "execute_result"
    }
   ],
   "source": [
    "# Prevendo a categoria a partir da descrição\n",
    "encoder.classes_[ ( modelo.predict([\"caneta azul\"]) )  ]"
   ]
  },
  {
   "cell_type": "code",
   "execution_count": 32,
   "metadata": {},
   "outputs": [],
   "source": [
    "# Probabilidades de um produto\n",
    "probs = modelo.predict_proba([\"Ventilador\"])"
   ]
  },
  {
   "cell_type": "code",
   "execution_count": 33,
   "metadata": {},
   "outputs": [
    {
     "name": "stdout",
     "output_type": "stream",
     "text": [
      "[('alimentos e bebidas', '0.0000003712'),\n",
      " ('ar-condicionado e aquecedores', '0.0000002268'),\n",
      " ('automotivo', '0.0000002487'),\n",
      " ('bebês', '0.0000004557'),\n",
      " ('beleza e saúde', '0.0000002478'),\n",
      " ('brinquedos', '0.0000171667'),\n",
      " ('cama, mesa e banho', '0.0000002209'),\n",
      " ('celulares e telefones', '0.0000125873'),\n",
      " ('dvds e blu-ray', '0.0000002830'),\n",
      " ('eletrodomésticos', '0.0000008049'),\n",
      " ('eletroportáteis', '0.9999426208'),\n",
      " ('informática', '0.0000002903'),\n",
      " ('instrumentos musicais', '0.0000007858'),\n",
      " ('linha industrial', '0.0000152529'),\n",
      " ('livros', '0.0000006853'),\n",
      " ('perfumaria', '0.0000002539'),\n",
      " ('pet shop', '0.0000003828'),\n",
      " ('relógios', '0.0000013743'),\n",
      " ('suplementos e vitaminas', '0.0000005985'),\n",
      " ('tv e home theater', '0.0000003598'),\n",
      " ('utilidades domésticas', '0.0000002385'),\n",
      " ('áudio', '0.0000045440')]\n"
     ]
    }
   ],
   "source": [
    "# Probabidades de categorias para o objeto Ventilador\n",
    "guess = [(class_, '{:.10f}'.format(probs.item(n)))  for n, class_ in enumerate(encoder.classes_)]\n",
    "pprint(guess)"
   ]
  },
  {
   "cell_type": "code",
   "execution_count": 34,
   "metadata": {},
   "outputs": [
    {
     "name": "stdout",
     "output_type": "stream",
     "text": [
      "eletroportáteis eletroportáteis : 0.9999426208\n",
      "brinquedos brinquedos : 0.0000171667\n",
      "linha industrial linha industrial : 0.0000152529\n",
      "celulares e telefones celulares e telefones : 0.0000125873\n",
      "áudio áudio : 0.0000045440\n",
      "relógios relógios : 0.0000013743\n",
      "eletrodomésticos eletrodomésticos : 0.0000008049\n",
      "instrumentos musicais instrumentos musicais : 0.0000007858\n",
      "livros livros : 0.0000006853\n",
      "suplementos e vitaminas suplementos e vitaminas : 0.0000005985\n",
      "bebês bebês : 0.0000004557\n",
      "pet shop pet shop : 0.0000003828\n",
      "alimentos e bebidas alimentos e bebidas : 0.0000003712\n",
      "tv e home theater tv e home theater : 0.0000003598\n",
      "informática informática : 0.0000002903\n",
      "dvds e blu-ray dvds e blu-ray : 0.0000002830\n",
      "perfumaria perfumaria : 0.0000002539\n",
      "automotivo automotivo : 0.0000002487\n",
      "beleza e saúde beleza e saúde : 0.0000002478\n",
      "utilidades domésticas utilidades domésticas : 0.0000002385\n",
      "ar-condicionado e aquecedores ar-condicionado e aquecedores : 0.0000002268\n",
      "cama, mesa e banho cama, mesa e banho : 0.0000002209\n"
     ]
    }
   ],
   "source": [
    "# Probabidade ajustada de categorias para o objeto Ventilador\n",
    "from operator import itemgetter\n",
    "for cat, proba in sorted(guess, key = itemgetter(1), reverse = True):\n",
    "    print (cat, '{} : {:.10f}'.format(cat, float(proba)))"
   ]
  },
  {
   "cell_type": "code",
   "execution_count": null,
   "metadata": {},
   "outputs": [],
   "source": []
  }
 ],
 "metadata": {
  "anaconda-cloud": {},
  "kernelspec": {
   "display_name": "Python 3",
   "language": "python",
   "name": "python3"
  },
  "language_info": {
   "codemirror_mode": {
    "name": "ipython",
    "version": 3
   },
   "file_extension": ".py",
   "mimetype": "text/x-python",
   "name": "python",
   "nbconvert_exporter": "python",
   "pygments_lexer": "ipython3",
   "version": "3.8.3"
  }
 },
 "nbformat": 4,
 "nbformat_minor": 1
}
