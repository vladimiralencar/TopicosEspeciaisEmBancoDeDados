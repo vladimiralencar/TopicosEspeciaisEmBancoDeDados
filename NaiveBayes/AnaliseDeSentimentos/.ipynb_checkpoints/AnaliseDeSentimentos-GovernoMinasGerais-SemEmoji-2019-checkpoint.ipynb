{
 "cells": [
  {
   "cell_type": "markdown",
   "metadata": {},
   "source": [
    "## Análise de Sentimentos – utilizando dados do Twitter "
   ]
  },
  {
   "cell_type": "markdown",
   "metadata": {},
   "source": [
    "### Importa todos os pacotes de Processamento de Linguagem Natural"
   ]
  },
  {
   "cell_type": "code",
   "execution_count": 1,
   "metadata": {},
   "outputs": [],
   "source": [
    "#import nltk\n",
    "#nltk.download('all')\n",
    "import re\n",
    "import pandas as pd\n",
    "from sklearn.feature_extraction.text import CountVectorizer\n",
    "from sklearn.naive_bayes import MultinomialNB\n",
    "from sklearn import metrics\n",
    "from sklearn.model_selection import cross_val_predict"
   ]
  },
  {
   "cell_type": "markdown",
   "metadata": {},
   "source": [
    "**Ler arquivo de dados e conta a quantidade de linhas**"
   ]
  },
  {
   "cell_type": "code",
   "execution_count": 2,
   "metadata": {},
   "outputs": [],
   "source": [
    "# Dados coletados e Classificados pelo Data Scientist - Rodrigo Santana Ferreira \n",
    "dataset = pd.read_csv('Tweets_Mg.csv',encoding='utf-8')"
   ]
  },
  {
   "cell_type": "code",
   "execution_count": 3,
   "metadata": {},
   "outputs": [
    {
     "name": "stdout",
     "output_type": "stream",
     "text": [
      "Número de linhas:  8199\n"
     ]
    }
   ],
   "source": [
    "# número de tuplas\n",
    "print(\"Número de linhas: \",len(dataset))"
   ]
  },
  {
   "cell_type": "code",
   "execution_count": 4,
   "metadata": {},
   "outputs": [
    {
     "name": "stdout",
     "output_type": "stream",
     "text": [
      "Número de atributos:  26\n"
     ]
    }
   ],
   "source": [
    "# número de atributos\n",
    "print(\"Número de atributos: \",len(dataset.columns))"
   ]
  },
  {
   "cell_type": "code",
   "execution_count": 5,
   "metadata": {},
   "outputs": [
    {
     "data": {
      "text/plain": [
       "Index(['Unnamed: 0', 'Created At', 'Text', 'Geo Coordinates.latitude',\n",
       "       'Geo Coordinates.longitude', 'User Location', 'Username',\n",
       "       'User Screen Name', 'Retweet Count', 'Classificacao', 'Observação',\n",
       "       'Unnamed: 10', 'Unnamed: 11', 'Unnamed: 12', 'Unnamed: 13',\n",
       "       'Unnamed: 14', 'Unnamed: 15', 'Unnamed: 16', 'Unnamed: 17',\n",
       "       'Unnamed: 18', 'Unnamed: 19', 'Unnamed: 20', 'Unnamed: 21',\n",
       "       'Unnamed: 22', 'Unnamed: 23', 'Unnamed: 24'],\n",
       "      dtype='object')"
      ]
     },
     "execution_count": 5,
     "metadata": {},
     "output_type": "execute_result"
    }
   ],
   "source": [
    "# atributos\n",
    "dataset.columns"
   ]
  },
  {
   "cell_type": "code",
   "execution_count": 6,
   "metadata": {},
   "outputs": [
    {
     "data": {
      "text/html": [
       "<div>\n",
       "<style scoped>\n",
       "    .dataframe tbody tr th:only-of-type {\n",
       "        vertical-align: middle;\n",
       "    }\n",
       "\n",
       "    .dataframe tbody tr th {\n",
       "        vertical-align: top;\n",
       "    }\n",
       "\n",
       "    .dataframe thead th {\n",
       "        text-align: right;\n",
       "    }\n",
       "</style>\n",
       "<table border=\"1\" class=\"dataframe\">\n",
       "  <thead>\n",
       "    <tr style=\"text-align: right;\">\n",
       "      <th></th>\n",
       "      <th>Unnamed: 0</th>\n",
       "      <th>Created At</th>\n",
       "      <th>Text</th>\n",
       "      <th>Geo Coordinates.latitude</th>\n",
       "      <th>Geo Coordinates.longitude</th>\n",
       "      <th>User Location</th>\n",
       "      <th>Username</th>\n",
       "      <th>User Screen Name</th>\n",
       "      <th>Retweet Count</th>\n",
       "      <th>Classificacao</th>\n",
       "      <th>...</th>\n",
       "      <th>Unnamed: 15</th>\n",
       "      <th>Unnamed: 16</th>\n",
       "      <th>Unnamed: 17</th>\n",
       "      <th>Unnamed: 18</th>\n",
       "      <th>Unnamed: 19</th>\n",
       "      <th>Unnamed: 20</th>\n",
       "      <th>Unnamed: 21</th>\n",
       "      <th>Unnamed: 22</th>\n",
       "      <th>Unnamed: 23</th>\n",
       "      <th>Unnamed: 24</th>\n",
       "    </tr>\n",
       "  </thead>\n",
       "  <tbody>\n",
       "    <tr>\n",
       "      <th>0</th>\n",
       "      <td>0</td>\n",
       "      <td>Sun Jan 08 01:22:05 +0000 2017</td>\n",
       "      <td>���⛪ @ Catedral de Santo Antônio - Governador ...</td>\n",
       "      <td>NaN</td>\n",
       "      <td>NaN</td>\n",
       "      <td>Brasil</td>\n",
       "      <td>Leonardo C Schneider</td>\n",
       "      <td>LeoCSchneider</td>\n",
       "      <td>0</td>\n",
       "      <td>Neutro</td>\n",
       "      <td>...</td>\n",
       "      <td>NaN</td>\n",
       "      <td>NaN</td>\n",
       "      <td>NaN</td>\n",
       "      <td>NaN</td>\n",
       "      <td>NaN</td>\n",
       "      <td>NaN</td>\n",
       "      <td>NaN</td>\n",
       "      <td>NaN</td>\n",
       "      <td>NaN</td>\n",
       "      <td>NaN</td>\n",
       "    </tr>\n",
       "    <tr>\n",
       "      <th>1</th>\n",
       "      <td>1</td>\n",
       "      <td>Sun Jan 08 01:49:01 +0000 2017</td>\n",
       "      <td>� @ Governador Valadares, Minas Gerais https:/...</td>\n",
       "      <td>-41.9333</td>\n",
       "      <td>-18.85</td>\n",
       "      <td>NaN</td>\n",
       "      <td>Wândell</td>\n",
       "      <td>klefnews</td>\n",
       "      <td>0</td>\n",
       "      <td>Neutro</td>\n",
       "      <td>...</td>\n",
       "      <td>NaN</td>\n",
       "      <td>NaN</td>\n",
       "      <td>NaN</td>\n",
       "      <td>NaN</td>\n",
       "      <td>NaN</td>\n",
       "      <td>NaN</td>\n",
       "      <td>NaN</td>\n",
       "      <td>NaN</td>\n",
       "      <td>NaN</td>\n",
       "      <td>NaN</td>\n",
       "    </tr>\n",
       "    <tr>\n",
       "      <th>2</th>\n",
       "      <td>2</td>\n",
       "      <td>Sun Jan 08 01:01:46 +0000 2017</td>\n",
       "      <td>�� @ Governador Valadares, Minas Gerais https:...</td>\n",
       "      <td>-41.9333</td>\n",
       "      <td>-18.85</td>\n",
       "      <td>NaN</td>\n",
       "      <td>Wândell</td>\n",
       "      <td>klefnews</td>\n",
       "      <td>0</td>\n",
       "      <td>Neutro</td>\n",
       "      <td>...</td>\n",
       "      <td>NaN</td>\n",
       "      <td>NaN</td>\n",
       "      <td>NaN</td>\n",
       "      <td>NaN</td>\n",
       "      <td>NaN</td>\n",
       "      <td>NaN</td>\n",
       "      <td>NaN</td>\n",
       "      <td>NaN</td>\n",
       "      <td>NaN</td>\n",
       "      <td>NaN</td>\n",
       "    </tr>\n",
       "    <tr>\n",
       "      <th>3</th>\n",
       "      <td>3</td>\n",
       "      <td>Wed Jan 04 21:43:51 +0000 2017</td>\n",
       "      <td>��� https://t.co/BnDsO34qK0</td>\n",
       "      <td>NaN</td>\n",
       "      <td>NaN</td>\n",
       "      <td>NaN</td>\n",
       "      <td>Ana estudando</td>\n",
       "      <td>estudandoconcur</td>\n",
       "      <td>0</td>\n",
       "      <td>Neutro</td>\n",
       "      <td>...</td>\n",
       "      <td>NaN</td>\n",
       "      <td>NaN</td>\n",
       "      <td>NaN</td>\n",
       "      <td>NaN</td>\n",
       "      <td>NaN</td>\n",
       "      <td>NaN</td>\n",
       "      <td>NaN</td>\n",
       "      <td>NaN</td>\n",
       "      <td>NaN</td>\n",
       "      <td>NaN</td>\n",
       "    </tr>\n",
       "    <tr>\n",
       "      <th>4</th>\n",
       "      <td>4</td>\n",
       "      <td>Mon Jan 09 15:08:21 +0000 2017</td>\n",
       "      <td>��� PSOL vai questionar aumento de vereadores ...</td>\n",
       "      <td>NaN</td>\n",
       "      <td>NaN</td>\n",
       "      <td>NaN</td>\n",
       "      <td>Emily</td>\n",
       "      <td>Milly777</td>\n",
       "      <td>0</td>\n",
       "      <td>Negativo</td>\n",
       "      <td>...</td>\n",
       "      <td>NaN</td>\n",
       "      <td>NaN</td>\n",
       "      <td>NaN</td>\n",
       "      <td>NaN</td>\n",
       "      <td>NaN</td>\n",
       "      <td>NaN</td>\n",
       "      <td>NaN</td>\n",
       "      <td>NaN</td>\n",
       "      <td>NaN</td>\n",
       "      <td>NaN</td>\n",
       "    </tr>\n",
       "    <tr>\n",
       "      <th>5</th>\n",
       "      <td>5</td>\n",
       "      <td>Sat Jan 07 13:47:55 +0000 2017</td>\n",
       "      <td>\" bom é bandido morto\"\\nDeputado Cabo Júlio é ...</td>\n",
       "      <td>NaN</td>\n",
       "      <td>NaN</td>\n",
       "      <td>Um Outro Mundo É Possível</td>\n",
       "      <td>Maristela Guimarães</td>\n",
       "      <td>florpimenta</td>\n",
       "      <td>0</td>\n",
       "      <td>Neutro</td>\n",
       "      <td>...</td>\n",
       "      <td>NaN</td>\n",
       "      <td>NaN</td>\n",
       "      <td>NaN</td>\n",
       "      <td>NaN</td>\n",
       "      <td>NaN</td>\n",
       "      <td>NaN</td>\n",
       "      <td>NaN</td>\n",
       "      <td>NaN</td>\n",
       "      <td>NaN</td>\n",
       "      <td>NaN</td>\n",
       "    </tr>\n",
       "    <tr>\n",
       "      <th>6</th>\n",
       "      <td>6</td>\n",
       "      <td>Wed Jan 04 23:00:53 +0000 2017</td>\n",
       "      <td>\"..E 25% dos mineiros dizem não torcer para ti...</td>\n",
       "      <td>NaN</td>\n",
       "      <td>NaN</td>\n",
       "      <td>NaN</td>\n",
       "      <td>Adriano</td>\n",
       "      <td>almanakfc</td>\n",
       "      <td>0</td>\n",
       "      <td>Neutro</td>\n",
       "      <td>...</td>\n",
       "      <td>NaN</td>\n",
       "      <td>NaN</td>\n",
       "      <td>NaN</td>\n",
       "      <td>NaN</td>\n",
       "      <td>NaN</td>\n",
       "      <td>NaN</td>\n",
       "      <td>NaN</td>\n",
       "      <td>NaN</td>\n",
       "      <td>NaN</td>\n",
       "      <td>NaN</td>\n",
       "    </tr>\n",
       "    <tr>\n",
       "      <th>7</th>\n",
       "      <td>7</td>\n",
       "      <td>Sun Jan 08 18:34:22 +0000 2017</td>\n",
       "      <td>\"A gigantesca barba do mal\" em destaque no cad...</td>\n",
       "      <td>NaN</td>\n",
       "      <td>NaN</td>\n",
       "      <td>Belo Horizonte, Brasil</td>\n",
       "      <td>Editora Nemo</td>\n",
       "      <td>editoranemo</td>\n",
       "      <td>2</td>\n",
       "      <td>Neutro</td>\n",
       "      <td>...</td>\n",
       "      <td>NaN</td>\n",
       "      <td>NaN</td>\n",
       "      <td>NaN</td>\n",
       "      <td>NaN</td>\n",
       "      <td>NaN</td>\n",
       "      <td>NaN</td>\n",
       "      <td>NaN</td>\n",
       "      <td>NaN</td>\n",
       "      <td>NaN</td>\n",
       "      <td>NaN</td>\n",
       "    </tr>\n",
       "  </tbody>\n",
       "</table>\n",
       "<p>8 rows × 26 columns</p>\n",
       "</div>"
      ],
      "text/plain": [
       "   Unnamed: 0                      Created At  \\\n",
       "0           0  Sun Jan 08 01:22:05 +0000 2017   \n",
       "1           1  Sun Jan 08 01:49:01 +0000 2017   \n",
       "2           2  Sun Jan 08 01:01:46 +0000 2017   \n",
       "3           3  Wed Jan 04 21:43:51 +0000 2017   \n",
       "4           4  Mon Jan 09 15:08:21 +0000 2017   \n",
       "5           5  Sat Jan 07 13:47:55 +0000 2017   \n",
       "6           6  Wed Jan 04 23:00:53 +0000 2017   \n",
       "7           7  Sun Jan 08 18:34:22 +0000 2017   \n",
       "\n",
       "                                                Text  \\\n",
       "0  ���⛪ @ Catedral de Santo Antônio - Governador ...   \n",
       "1  � @ Governador Valadares, Minas Gerais https:/...   \n",
       "2  �� @ Governador Valadares, Minas Gerais https:...   \n",
       "3                        ��� https://t.co/BnDsO34qK0   \n",
       "4  ��� PSOL vai questionar aumento de vereadores ...   \n",
       "5  \" bom é bandido morto\"\\nDeputado Cabo Júlio é ...   \n",
       "6  \"..E 25% dos mineiros dizem não torcer para ti...   \n",
       "7  \"A gigantesca barba do mal\" em destaque no cad...   \n",
       "\n",
       "   Geo Coordinates.latitude  Geo Coordinates.longitude  \\\n",
       "0                       NaN                        NaN   \n",
       "1                  -41.9333                     -18.85   \n",
       "2                  -41.9333                     -18.85   \n",
       "3                       NaN                        NaN   \n",
       "4                       NaN                        NaN   \n",
       "5                       NaN                        NaN   \n",
       "6                       NaN                        NaN   \n",
       "7                       NaN                        NaN   \n",
       "\n",
       "                User Location              Username User Screen Name  \\\n",
       "0                      Brasil  Leonardo C Schneider    LeoCSchneider   \n",
       "1                         NaN               Wândell         klefnews   \n",
       "2                         NaN               Wândell         klefnews   \n",
       "3                         NaN         Ana estudando  estudandoconcur   \n",
       "4                         NaN                 Emily         Milly777   \n",
       "5  Um Outro Mundo É Possível    Maristela Guimarães      florpimenta   \n",
       "6                         NaN               Adriano        almanakfc   \n",
       "7      Belo Horizonte, Brasil          Editora Nemo      editoranemo   \n",
       "\n",
       "   Retweet Count Classificacao  ... Unnamed: 15  Unnamed: 16  Unnamed: 17  \\\n",
       "0              0        Neutro  ...         NaN          NaN          NaN   \n",
       "1              0        Neutro  ...         NaN          NaN          NaN   \n",
       "2              0        Neutro  ...         NaN          NaN          NaN   \n",
       "3              0        Neutro  ...         NaN          NaN          NaN   \n",
       "4              0      Negativo  ...         NaN          NaN          NaN   \n",
       "5              0        Neutro  ...         NaN          NaN          NaN   \n",
       "6              0        Neutro  ...         NaN          NaN          NaN   \n",
       "7              2        Neutro  ...         NaN          NaN          NaN   \n",
       "\n",
       "   Unnamed: 18  Unnamed: 19  Unnamed: 20  Unnamed: 21  Unnamed: 22  \\\n",
       "0          NaN          NaN          NaN          NaN          NaN   \n",
       "1          NaN          NaN          NaN          NaN          NaN   \n",
       "2          NaN          NaN          NaN          NaN          NaN   \n",
       "3          NaN          NaN          NaN          NaN          NaN   \n",
       "4          NaN          NaN          NaN          NaN          NaN   \n",
       "5          NaN          NaN          NaN          NaN          NaN   \n",
       "6          NaN          NaN          NaN          NaN          NaN   \n",
       "7          NaN          NaN          NaN          NaN          NaN   \n",
       "\n",
       "   Unnamed: 23  Unnamed: 24  \n",
       "0          NaN          NaN  \n",
       "1          NaN          NaN  \n",
       "2          NaN          NaN  \n",
       "3          NaN          NaN  \n",
       "4          NaN          NaN  \n",
       "5          NaN          NaN  \n",
       "6          NaN          NaN  \n",
       "7          NaN          NaN  \n",
       "\n",
       "[8 rows x 26 columns]"
      ]
     },
     "execution_count": 6,
     "metadata": {},
     "output_type": "execute_result"
    }
   ],
   "source": [
    "# tweets Já classificados - Positivos, Negativos e Neutros\n",
    "dataset.head(8)"
   ]
  },
  {
   "cell_type": "markdown",
   "metadata": {},
   "source": [
    "# Remover emoji"
   ]
  },
  {
   "cell_type": "code",
   "execution_count": null,
   "metadata": {},
   "outputs": [],
   "source": [
    "#!pip install emoji"
   ]
  },
  {
   "cell_type": "code",
   "execution_count": 7,
   "metadata": {},
   "outputs": [
    {
     "data": {
      "text/html": [
       "<div>\n",
       "<style scoped>\n",
       "    .dataframe tbody tr th:only-of-type {\n",
       "        vertical-align: middle;\n",
       "    }\n",
       "\n",
       "    .dataframe tbody tr th {\n",
       "        vertical-align: top;\n",
       "    }\n",
       "\n",
       "    .dataframe thead th {\n",
       "        text-align: right;\n",
       "    }\n",
       "</style>\n",
       "<table border=\"1\" class=\"dataframe\">\n",
       "  <thead>\n",
       "    <tr style=\"text-align: right;\">\n",
       "      <th></th>\n",
       "      <th>Unnamed: 0</th>\n",
       "      <th>Created At</th>\n",
       "      <th>Text</th>\n",
       "      <th>Geo Coordinates.latitude</th>\n",
       "      <th>Geo Coordinates.longitude</th>\n",
       "      <th>User Location</th>\n",
       "      <th>Username</th>\n",
       "      <th>User Screen Name</th>\n",
       "      <th>Retweet Count</th>\n",
       "      <th>Classificacao</th>\n",
       "      <th>...</th>\n",
       "      <th>Unnamed: 15</th>\n",
       "      <th>Unnamed: 16</th>\n",
       "      <th>Unnamed: 17</th>\n",
       "      <th>Unnamed: 18</th>\n",
       "      <th>Unnamed: 19</th>\n",
       "      <th>Unnamed: 20</th>\n",
       "      <th>Unnamed: 21</th>\n",
       "      <th>Unnamed: 22</th>\n",
       "      <th>Unnamed: 23</th>\n",
       "      <th>Unnamed: 24</th>\n",
       "    </tr>\n",
       "  </thead>\n",
       "  <tbody>\n",
       "    <tr>\n",
       "      <th>0</th>\n",
       "      <td>0</td>\n",
       "      <td>Sun Jan 08 01:22:05 +0000 2017</td>\n",
       "      <td>Catedral de Santo Antônio - Governador Valadar...</td>\n",
       "      <td>NaN</td>\n",
       "      <td>NaN</td>\n",
       "      <td>Brasil</td>\n",
       "      <td>Leonardo C Schneider</td>\n",
       "      <td>LeoCSchneider</td>\n",
       "      <td>0</td>\n",
       "      <td>Neutro</td>\n",
       "      <td>...</td>\n",
       "      <td>NaN</td>\n",
       "      <td>NaN</td>\n",
       "      <td>NaN</td>\n",
       "      <td>NaN</td>\n",
       "      <td>NaN</td>\n",
       "      <td>NaN</td>\n",
       "      <td>NaN</td>\n",
       "      <td>NaN</td>\n",
       "      <td>NaN</td>\n",
       "      <td>NaN</td>\n",
       "    </tr>\n",
       "    <tr>\n",
       "      <th>1</th>\n",
       "      <td>1</td>\n",
       "      <td>Sun Jan 08 01:49:01 +0000 2017</td>\n",
       "      <td>Governador Valadares, Minas Gerais https://t.c...</td>\n",
       "      <td>-41.9333</td>\n",
       "      <td>-18.85</td>\n",
       "      <td>NaN</td>\n",
       "      <td>Wândell</td>\n",
       "      <td>klefnews</td>\n",
       "      <td>0</td>\n",
       "      <td>Neutro</td>\n",
       "      <td>...</td>\n",
       "      <td>NaN</td>\n",
       "      <td>NaN</td>\n",
       "      <td>NaN</td>\n",
       "      <td>NaN</td>\n",
       "      <td>NaN</td>\n",
       "      <td>NaN</td>\n",
       "      <td>NaN</td>\n",
       "      <td>NaN</td>\n",
       "      <td>NaN</td>\n",
       "      <td>NaN</td>\n",
       "    </tr>\n",
       "    <tr>\n",
       "      <th>2</th>\n",
       "      <td>2</td>\n",
       "      <td>Sun Jan 08 01:01:46 +0000 2017</td>\n",
       "      <td>Governador Valadares, Minas Gerais https://t.c...</td>\n",
       "      <td>-41.9333</td>\n",
       "      <td>-18.85</td>\n",
       "      <td>NaN</td>\n",
       "      <td>Wândell</td>\n",
       "      <td>klefnews</td>\n",
       "      <td>0</td>\n",
       "      <td>Neutro</td>\n",
       "      <td>...</td>\n",
       "      <td>NaN</td>\n",
       "      <td>NaN</td>\n",
       "      <td>NaN</td>\n",
       "      <td>NaN</td>\n",
       "      <td>NaN</td>\n",
       "      <td>NaN</td>\n",
       "      <td>NaN</td>\n",
       "      <td>NaN</td>\n",
       "      <td>NaN</td>\n",
       "      <td>NaN</td>\n",
       "    </tr>\n",
       "    <tr>\n",
       "      <th>3</th>\n",
       "      <td>3</td>\n",
       "      <td>Wed Jan 04 21:43:51 +0000 2017</td>\n",
       "      <td>https://t.co/BnDsO34qK0</td>\n",
       "      <td>NaN</td>\n",
       "      <td>NaN</td>\n",
       "      <td>NaN</td>\n",
       "      <td>Ana estudando</td>\n",
       "      <td>estudandoconcur</td>\n",
       "      <td>0</td>\n",
       "      <td>Neutro</td>\n",
       "      <td>...</td>\n",
       "      <td>NaN</td>\n",
       "      <td>NaN</td>\n",
       "      <td>NaN</td>\n",
       "      <td>NaN</td>\n",
       "      <td>NaN</td>\n",
       "      <td>NaN</td>\n",
       "      <td>NaN</td>\n",
       "      <td>NaN</td>\n",
       "      <td>NaN</td>\n",
       "      <td>NaN</td>\n",
       "    </tr>\n",
       "    <tr>\n",
       "      <th>4</th>\n",
       "      <td>4</td>\n",
       "      <td>Mon Jan 09 15:08:21 +0000 2017</td>\n",
       "      <td>PSOL vai questionar aumento de vereadores e pr...</td>\n",
       "      <td>NaN</td>\n",
       "      <td>NaN</td>\n",
       "      <td>NaN</td>\n",
       "      <td>Emily</td>\n",
       "      <td>Milly777</td>\n",
       "      <td>0</td>\n",
       "      <td>Negativo</td>\n",
       "      <td>...</td>\n",
       "      <td>NaN</td>\n",
       "      <td>NaN</td>\n",
       "      <td>NaN</td>\n",
       "      <td>NaN</td>\n",
       "      <td>NaN</td>\n",
       "      <td>NaN</td>\n",
       "      <td>NaN</td>\n",
       "      <td>NaN</td>\n",
       "      <td>NaN</td>\n",
       "      <td>NaN</td>\n",
       "    </tr>\n",
       "  </tbody>\n",
       "</table>\n",
       "<p>5 rows × 26 columns</p>\n",
       "</div>"
      ],
      "text/plain": [
       "   Unnamed: 0                      Created At  \\\n",
       "0           0  Sun Jan 08 01:22:05 +0000 2017   \n",
       "1           1  Sun Jan 08 01:49:01 +0000 2017   \n",
       "2           2  Sun Jan 08 01:01:46 +0000 2017   \n",
       "3           3  Wed Jan 04 21:43:51 +0000 2017   \n",
       "4           4  Mon Jan 09 15:08:21 +0000 2017   \n",
       "\n",
       "                                                Text  \\\n",
       "0  Catedral de Santo Antônio - Governador Valadar...   \n",
       "1  Governador Valadares, Minas Gerais https://t.c...   \n",
       "2  Governador Valadares, Minas Gerais https://t.c...   \n",
       "3                            https://t.co/BnDsO34qK0   \n",
       "4  PSOL vai questionar aumento de vereadores e pr...   \n",
       "\n",
       "   Geo Coordinates.latitude  Geo Coordinates.longitude User Location  \\\n",
       "0                       NaN                        NaN        Brasil   \n",
       "1                  -41.9333                     -18.85           NaN   \n",
       "2                  -41.9333                     -18.85           NaN   \n",
       "3                       NaN                        NaN           NaN   \n",
       "4                       NaN                        NaN           NaN   \n",
       "\n",
       "               Username User Screen Name  Retweet Count Classificacao  ...  \\\n",
       "0  Leonardo C Schneider    LeoCSchneider              0        Neutro  ...   \n",
       "1               Wândell         klefnews              0        Neutro  ...   \n",
       "2               Wândell         klefnews              0        Neutro  ...   \n",
       "3         Ana estudando  estudandoconcur              0        Neutro  ...   \n",
       "4                 Emily         Milly777              0      Negativo  ...   \n",
       "\n",
       "  Unnamed: 15  Unnamed: 16  Unnamed: 17  Unnamed: 18  Unnamed: 19  \\\n",
       "0         NaN          NaN          NaN          NaN          NaN   \n",
       "1         NaN          NaN          NaN          NaN          NaN   \n",
       "2         NaN          NaN          NaN          NaN          NaN   \n",
       "3         NaN          NaN          NaN          NaN          NaN   \n",
       "4         NaN          NaN          NaN          NaN          NaN   \n",
       "\n",
       "   Unnamed: 20  Unnamed: 21  Unnamed: 22  Unnamed: 23  Unnamed: 24  \n",
       "0          NaN          NaN          NaN          NaN          NaN  \n",
       "1          NaN          NaN          NaN          NaN          NaN  \n",
       "2          NaN          NaN          NaN          NaN          NaN  \n",
       "3          NaN          NaN          NaN          NaN          NaN  \n",
       "4          NaN          NaN          NaN          NaN          NaN  \n",
       "\n",
       "[5 rows x 26 columns]"
      ]
     },
     "execution_count": 7,
     "metadata": {},
     "output_type": "execute_result"
    }
   ],
   "source": [
    "# remover emoji\n",
    "import emoji\n",
    "\n",
    "def give_emoji_free_text(text):\n",
    "    allchars = [str for str in text]\n",
    "    emoji_list = [c for c in allchars if c in emoji.UNICODE_EMOJI] + ['�', '@']\n",
    "    clean_text = ' '.join([str for str in text.split() if not any(i in str for i in emoji_list)])\n",
    "    return clean_text\n",
    "\n",
    "#text = dataset.text\n",
    "#text_tratado = give_emoji_free_text(text)\n",
    "dataset.Text = dataset.Text.apply(lambda w: give_emoji_free_text(w))\n",
    "dataset.head()"
   ]
  },
  {
   "cell_type": "markdown",
   "metadata": {},
   "source": [
    "# eliminando alguns atributos do dataset"
   ]
  },
  {
   "cell_type": "code",
   "execution_count": 8,
   "metadata": {},
   "outputs": [
    {
     "data": {
      "text/html": [
       "<div>\n",
       "<style scoped>\n",
       "    .dataframe tbody tr th:only-of-type {\n",
       "        vertical-align: middle;\n",
       "    }\n",
       "\n",
       "    .dataframe tbody tr th {\n",
       "        vertical-align: top;\n",
       "    }\n",
       "\n",
       "    .dataframe thead th {\n",
       "        text-align: right;\n",
       "    }\n",
       "</style>\n",
       "<table border=\"1\" class=\"dataframe\">\n",
       "  <thead>\n",
       "    <tr style=\"text-align: right;\">\n",
       "      <th></th>\n",
       "      <th>Text</th>\n",
       "      <th>Classificacao</th>\n",
       "      <th>Created At</th>\n",
       "    </tr>\n",
       "  </thead>\n",
       "  <tbody>\n",
       "    <tr>\n",
       "      <th>0</th>\n",
       "      <td>Catedral de Santo Antônio - Governador Valadar...</td>\n",
       "      <td>Neutro</td>\n",
       "      <td>Sun Jan 08 01:22:05 +0000 2017</td>\n",
       "    </tr>\n",
       "    <tr>\n",
       "      <th>1</th>\n",
       "      <td>Governador Valadares, Minas Gerais https://t.c...</td>\n",
       "      <td>Neutro</td>\n",
       "      <td>Sun Jan 08 01:49:01 +0000 2017</td>\n",
       "    </tr>\n",
       "    <tr>\n",
       "      <th>2</th>\n",
       "      <td>Governador Valadares, Minas Gerais https://t.c...</td>\n",
       "      <td>Neutro</td>\n",
       "      <td>Sun Jan 08 01:01:46 +0000 2017</td>\n",
       "    </tr>\n",
       "    <tr>\n",
       "      <th>3</th>\n",
       "      <td>https://t.co/BnDsO34qK0</td>\n",
       "      <td>Neutro</td>\n",
       "      <td>Wed Jan 04 21:43:51 +0000 2017</td>\n",
       "    </tr>\n",
       "    <tr>\n",
       "      <th>4</th>\n",
       "      <td>PSOL vai questionar aumento de vereadores e pr...</td>\n",
       "      <td>Negativo</td>\n",
       "      <td>Mon Jan 09 15:08:21 +0000 2017</td>\n",
       "    </tr>\n",
       "    <tr>\n",
       "      <th>5</th>\n",
       "      <td>\" bom é bandido morto\" Deputado Cabo Júlio é c...</td>\n",
       "      <td>Neutro</td>\n",
       "      <td>Sat Jan 07 13:47:55 +0000 2017</td>\n",
       "    </tr>\n",
       "    <tr>\n",
       "      <th>6</th>\n",
       "      <td>\"..E 25% dos mineiros dizem não torcer para ti...</td>\n",
       "      <td>Neutro</td>\n",
       "      <td>Wed Jan 04 23:00:53 +0000 2017</td>\n",
       "    </tr>\n",
       "    <tr>\n",
       "      <th>7</th>\n",
       "      <td>\"A gigantesca barba do mal\" em destaque no cad...</td>\n",
       "      <td>Neutro</td>\n",
       "      <td>Sun Jan 08 18:34:22 +0000 2017</td>\n",
       "    </tr>\n",
       "  </tbody>\n",
       "</table>\n",
       "</div>"
      ],
      "text/plain": [
       "                                                Text Classificacao  \\\n",
       "0  Catedral de Santo Antônio - Governador Valadar...        Neutro   \n",
       "1  Governador Valadares, Minas Gerais https://t.c...        Neutro   \n",
       "2  Governador Valadares, Minas Gerais https://t.c...        Neutro   \n",
       "3                            https://t.co/BnDsO34qK0        Neutro   \n",
       "4  PSOL vai questionar aumento de vereadores e pr...      Negativo   \n",
       "5  \" bom é bandido morto\" Deputado Cabo Júlio é c...        Neutro   \n",
       "6  \"..E 25% dos mineiros dizem não torcer para ti...        Neutro   \n",
       "7  \"A gigantesca barba do mal\" em destaque no cad...        Neutro   \n",
       "\n",
       "                       Created At  \n",
       "0  Sun Jan 08 01:22:05 +0000 2017  \n",
       "1  Sun Jan 08 01:49:01 +0000 2017  \n",
       "2  Sun Jan 08 01:01:46 +0000 2017  \n",
       "3  Wed Jan 04 21:43:51 +0000 2017  \n",
       "4  Mon Jan 09 15:08:21 +0000 2017  \n",
       "5  Sat Jan 07 13:47:55 +0000 2017  \n",
       "6  Wed Jan 04 23:00:53 +0000 2017  \n",
       "7  Sun Jan 08 18:34:22 +0000 2017  "
      ]
     },
     "execution_count": 8,
     "metadata": {},
     "output_type": "execute_result"
    }
   ],
   "source": [
    "# eliminando alguns atributos do dataset\n",
    "atributos = ['Text', 'Classificacao', 'Created At', 'Geo Coordinates.latitude', 'Geo Coordinates.longitude',\n",
    "             'User Location', 'User Screen Name',  ]\n",
    "atributos = ['Text', 'Classificacao', 'Created At'  ]\n",
    "dataset2 = dataset.loc[:,atributos]\n",
    "dataset = dataset2\n",
    "dataset.head(8)"
   ]
  },
  {
   "cell_type": "code",
   "execution_count": 9,
   "metadata": {},
   "outputs": [
    {
     "data": {
      "text/html": [
       "<div>\n",
       "<style scoped>\n",
       "    .dataframe tbody tr th:only-of-type {\n",
       "        vertical-align: middle;\n",
       "    }\n",
       "\n",
       "    .dataframe tbody tr th {\n",
       "        vertical-align: top;\n",
       "    }\n",
       "\n",
       "    .dataframe thead th {\n",
       "        text-align: right;\n",
       "    }\n",
       "</style>\n",
       "<table border=\"1\" class=\"dataframe\">\n",
       "  <thead>\n",
       "    <tr style=\"text-align: right;\">\n",
       "      <th></th>\n",
       "      <th>Text</th>\n",
       "      <th>Classificacao</th>\n",
       "      <th>Created At</th>\n",
       "    </tr>\n",
       "  </thead>\n",
       "  <tbody>\n",
       "    <tr>\n",
       "      <th>8194</th>\n",
       "      <td>Trio é preso suspeito de roubo, tráfico e abus...</td>\n",
       "      <td>Positivo</td>\n",
       "      <td>Thu Feb 09 11:48:07 +0000 2017</td>\n",
       "    </tr>\n",
       "    <tr>\n",
       "      <th>8195</th>\n",
       "      <td>Trio é preso suspeito de roubo, tráfico e abus...</td>\n",
       "      <td>Positivo</td>\n",
       "      <td>Thu Feb 09 12:10:19 +0000 2017</td>\n",
       "    </tr>\n",
       "    <tr>\n",
       "      <th>8196</th>\n",
       "      <td>Trio é preso suspeito de roubo, tráfico e abus...</td>\n",
       "      <td>Positivo</td>\n",
       "      <td>Thu Feb 09 12:04:17 +0000 2017</td>\n",
       "    </tr>\n",
       "    <tr>\n",
       "      <th>8197</th>\n",
       "      <td>Trio é preso suspeito de roubo, tráfico e abus...</td>\n",
       "      <td>Positivo</td>\n",
       "      <td>Thu Feb 09 12:10:04 +0000 2017</td>\n",
       "    </tr>\n",
       "    <tr>\n",
       "      <th>8198</th>\n",
       "      <td>Trio suspeito de roubo de cargas é preso em Sa...</td>\n",
       "      <td>Positivo</td>\n",
       "      <td>Tue Feb 07 15:01:30 +0000 2017</td>\n",
       "    </tr>\n",
       "  </tbody>\n",
       "</table>\n",
       "</div>"
      ],
      "text/plain": [
       "                                                   Text Classificacao  \\\n",
       "8194  Trio é preso suspeito de roubo, tráfico e abus...      Positivo   \n",
       "8195  Trio é preso suspeito de roubo, tráfico e abus...      Positivo   \n",
       "8196  Trio é preso suspeito de roubo, tráfico e abus...      Positivo   \n",
       "8197  Trio é preso suspeito de roubo, tráfico e abus...      Positivo   \n",
       "8198  Trio suspeito de roubo de cargas é preso em Sa...      Positivo   \n",
       "\n",
       "                          Created At  \n",
       "8194  Thu Feb 09 11:48:07 +0000 2017  \n",
       "8195  Thu Feb 09 12:10:19 +0000 2017  \n",
       "8196  Thu Feb 09 12:04:17 +0000 2017  \n",
       "8197  Thu Feb 09 12:10:04 +0000 2017  \n",
       "8198  Tue Feb 07 15:01:30 +0000 2017  "
      ]
     },
     "execution_count": 9,
     "metadata": {},
     "output_type": "execute_result"
    }
   ],
   "source": [
    "dataset.tail()"
   ]
  },
  {
   "cell_type": "markdown",
   "metadata": {},
   "source": [
    "**Conta a quantidade de linhas de tweets neutros, positivos e negativos**"
   ]
  },
  {
   "cell_type": "code",
   "execution_count": 10,
   "metadata": {},
   "outputs": [
    {
     "data": {
      "text/plain": [
       "Positivo    3300\n",
       "Neutro      2453\n",
       "Negativo    2446\n",
       "Name: Classificacao, dtype: int64"
      ]
     },
     "execution_count": 10,
     "metadata": {},
     "output_type": "execute_result"
    }
   ],
   "source": [
    "dataset.Classificacao.value_counts()"
   ]
  },
  {
   "cell_type": "code",
   "execution_count": 11,
   "metadata": {},
   "outputs": [
    {
     "data": {
      "text/plain": [
       "2453"
      ]
     },
     "execution_count": 11,
     "metadata": {},
     "output_type": "execute_result"
    }
   ],
   "source": [
    "len(dataset[dataset.Classificacao=='Neutro'])"
   ]
  },
  {
   "cell_type": "code",
   "execution_count": 12,
   "metadata": {},
   "outputs": [
    {
     "data": {
      "text/plain": [
       "3300"
      ]
     },
     "execution_count": 12,
     "metadata": {},
     "output_type": "execute_result"
    }
   ],
   "source": [
    "len(dataset[dataset.Classificacao=='Positivo'])"
   ]
  },
  {
   "cell_type": "code",
   "execution_count": 13,
   "metadata": {},
   "outputs": [
    {
     "data": {
      "text/plain": [
       "2446"
      ]
     },
     "execution_count": 13,
     "metadata": {},
     "output_type": "execute_result"
    }
   ],
   "source": [
    "len(dataset[dataset.Classificacao=='Negativo'])"
   ]
  },
  {
   "cell_type": "markdown",
   "metadata": {},
   "source": [
    "## Pre-Processamento "
   ]
  },
  {
   "cell_type": "markdown",
   "metadata": {},
   "source": [
    "** Separando tweets e suas classes\n",
    "**"
   ]
  },
  {
   "cell_type": "code",
   "execution_count": 14,
   "metadata": {},
   "outputs": [],
   "source": [
    "tweets = dataset['Text'].values\n",
    "classes = dataset['Classificacao'].values"
   ]
  },
  {
   "cell_type": "code",
   "execution_count": 15,
   "metadata": {},
   "outputs": [
    {
     "name": "stdout",
     "output_type": "stream",
     "text": [
      "['Catedral de Santo Antônio - Governador Valadares/MG https://t.co/JSbKamIqUJ'\n",
      " 'Governador Valadares, Minas Gerais https://t.co/B3ThIDJCSf'\n",
      " 'Governador Valadares, Minas Gerais https://t.co/dPkgzVR2Qw'\n",
      " 'https://t.co/BnDsO34qK0'\n",
      " 'PSOL vai questionar aumento de vereadores e prefeito de BH na Justiça - Politica - Estado de Minas https://t.co/DMg7BGsek5'\n",
      " '\" bom é bandido morto\" Deputado Cabo Júlio é condenado e fica inelegível por 10 anos - Politica - Estado de Minas https://t.co/3GfAqvrFHS'\n",
      " '\"..E 25% dos mineiros dizem não torcer para time nenhum,mesmo dentro de um estado com Atlético-MG e Cruzeiro. Pq?..\" https://t.co/fN5evlLQsR'\n",
      " '\"A gigantesca barba do mal\" em destaque no caderno Cultura do Estado de Minas. https://t.co/PxNurIkTlw'\n",
      " '\"BB e governo de Minas travam disputa sobre depósitos judiciais\" https://t.co/CnMu2A2Qo5'\n",
      " '\"com vcs bh fica pequena!\" Belo Horizonte (pron. [bɛloɾiˈzõntʃi][10]) é a capital do estado de MG, com uma área de aproximadamente 331 km²']\n"
     ]
    }
   ],
   "source": [
    "print(tweets[:10])"
   ]
  },
  {
   "cell_type": "code",
   "execution_count": 16,
   "metadata": {},
   "outputs": [
    {
     "data": {
      "text/plain": [
       "array(['Neutro', 'Neutro', 'Neutro', 'Neutro', 'Negativo', 'Neutro',\n",
       "       'Neutro', 'Neutro', 'Negativo', 'Neutro'], dtype=object)"
      ]
     },
     "execution_count": 16,
     "metadata": {},
     "output_type": "execute_result"
    }
   ],
   "source": [
    "classes[:10]"
   ]
  },
  {
   "cell_type": "markdown",
   "metadata": {
    "collapsed": true
   },
   "source": [
    "**Gerando o modelo**"
   ]
  },
  {
   "cell_type": "code",
   "execution_count": 17,
   "metadata": {},
   "outputs": [
    {
     "data": {
      "text/plain": [
       "array([[0, 0, 0, ..., 0, 0, 0],\n",
       "       [0, 0, 0, ..., 0, 0, 0],\n",
       "       [0, 0, 0, ..., 0, 0, 0]])"
      ]
     },
     "execution_count": 17,
     "metadata": {},
     "output_type": "execute_result"
    }
   ],
   "source": [
    "vectorizer = CountVectorizer(analyzer=\"word\")\n",
    "freq_tweets = vectorizer.fit_transform(tweets)\n",
    "freq_tweets.toarray()[:3]"
   ]
  },
  {
   "cell_type": "code",
   "execution_count": 20,
   "metadata": {},
   "outputs": [
    {
     "name": "stdout",
     "output_type": "stream",
     "text": [
      "['00', '000', '001', '00qmalz7fo', '01', '01a3ewki4z', '01ecfljipq', '028', '02jbfmpvn7', '03', '04', '040', '04124011533', '04162571719', '049r6iagih', '04lx7izoh8', '04phytiopz', '04wzmbaarf', '05', '050', '06', '07', '08', '08flxax56y', '08m5ha73xy', '08s4s5hxfv', '09', '0a0dacmlrs', '0abns6zvef', '0aninsardr', '0asli14vlk', '0bnzbajuok', '0btfbfr2bc', '0by1m090fv', '0c1kbavzrj', '0cwj32qq88', '0d7j0dllwg', '0d7j4ddf8g', '0dldpz9wgz', '0du0pujm70', '0dyufu0cy9', '0enjyioxcq', '0exmlnmkr8', '0f1ppmlnug', '0fhvl1bzrq', '0fiuadaja9', '0fjuqqjpez', '0guawnr7rj', '0gy1x2bgdj', '0hddidctgp', '0hqkwrusth', '0iehkx193x', '0ingjcmtzb', '0je63rjibu', '0jfjlhzawp', '0jh7arbsnk', '0jtpm5lqcb', '0kdsvch67v', '0l6jzdx5tm', '0l7o2zyyul', '0ldpnxsyzv', '0lmwsbalpt', '0m2x7mfdij', '0mdjvpnnpv', '0mmb63ijul', '0mzc3rhw4t', '0nbvvbyveg', '0nrhwylcz2', '0ort7r8gmo', '0pkpiuh91b', '0plmmyocsi', '0qfkqrpyxr', '0qkczrvj26', '0qmjaflb0n', '0qomj13uzq', '0qqah2obah', '0qr6qocx43', '0qtgyd2pfs', '0qzen7zkjh', '0r2rkephay', '0rcde5jmuv', '0rcjllcnjk', '0rdtoiv20c', '0rfo90dkx2', '0riptqpgbz', '0rrghwdmdb', '0rxwki1j7t', '0sfnoot5op', '0sggqefzd0', '0sn05ivgqg', '0tvbk2ykuo', '0tz62szoy0', '0u7oymipla', '0u7ped8w63', '0u82lnb2cp', '0ucshnzeso', '0uqelqsu8s', '0uxusfbps9', '0uxusfjoab', '0vd469gz8q', '0vqysyhtb5', '0w0uwrvnld', '0wgqxa5cii', '0wygxlsrpb', '0xvuwurbe4', '0xwv37i997', '0ytih376j3', '0ywhszzeib', '0z7gx9gbpm', '0zd0t6pomc', '0zgfgu6ngy', '0zmkby7eyg', '0zpccpmn57', '10', '100', '102', '103', '10h30', '10kg', '11', '116', '117', '11e8qkudts', '11wo5lcfp9', '11º', '12', '120', '123', '124', '124ª', '125ª', '127', '128ª', '13', '135lvhsyu9', '13gtzywegn', '13vsesnwgv', '13ycb1qasu', '13º', '14', '142', '142ª', '147', '149cvjph7g', '14h00', '14ifm6bzck', '15', '150', '150ª', '153ª', '15h05', '15zacbnp0y', '16', '161', '164', '16osfptknl', '16ª', '17', '1763', '17gutxyqzf', '17h', '17qg7alc5r', '18', '181', '18s2gnmg2r', '19', '1926', '1953', '1963', '1999', '19ª', '1aqonsesnw', '1b6y8ufiu9', '1bbe6ucdlx', '1bwluyigkk', '1clpte8vgj', '1df8hotpqx', '1dlkenpiii', '1dsdoqjrd6', '1e5pyc6tru', '1e6blhgbmq', '1eligktt8d', '1elytxd1ix', '1er', '1era', '1ero', '1erpmhxo4i', '1f0cinqa9f', '1fuhuxhhn8', '1gimgsnwkh', '1h50j9qjal', '1hcvztfync', '1hilmlbays', '1hsg2dgcsz', '1htp6dfpo6', '1hvostftzx', '1iiyuundgj', '1imuf9x85a', '1irxazmd0e', '1irygzwagm', '1ivjclvmm4', '1jadzlkrpv', '1jkc7vbgmu', '1jlgclcsei', '1jwubh0lys', '1k26nclddr', '1kj3dlkblr', '1kmxqtgwm3', '1kvpyxywxz', '1kzfe5k6sb', '1mdttcmuuz', '1mopyfqlsx', '1moxcaoiac', '1mpvwqftku', '1mqojo7nnf', '1mreucfyr7', '1n5eq5hwtp', '1ngyzkpdxn', '1nwaiomep0', '1ojf24vxhr', '1on2sohnhf', '1ovfd3xqjm', '1ovgqyvu78', '1p1hj8p7gt', '1pgndjvpfe', '1pjgig1k2c', '1pnkiswh2w', '1pqqo3sso3', '1pru6nigie', '1ptroxbh5y', '1pwodwv1gj', '1qlo4b0jw0', '1qtsewtwal', '1qyrgkx3ij', '1rkcwma2r8', '1rwahuacqt', '1scjaeomi2', '1sp1qb7i6n', '1usdvouhpw', '1uwo6fdul1', '1v4gxlxcb3', '1vgjlvnrfu', '1w2icojnqr', '1whrwyvsip', '1wvved0spp', '1wvxniz2is', '1xtgtw6fs0', '1y2rs0ifjv', '1yiaywk4ke', '1ymys0ao4z', '1yxplxcgj9', '1zdcqy1hku', '1zhdpdpps0', '1zznt0fs9a', '1ª', '20', '200', '2003', '2005', '2009', '2010', '2011', '2013', '2014', '2016', '2017', '2018', '20e5ejfffl', '20gpgr0rym', '21', '218', '21kg', '21mi', '21xcftnnn3', '21ª', '22', '22dv0uawit', '22xv6ey0md', '22ª', '23', '23231', '23º', '24', '24oqf6tido', '25', '25º', '26', '267', '26ª', '27', '271lltlvcb', '274rnzkad7', '28', '280', '285', '29', '290', '29dlm972ln', '29vvovyzee', '2agerpq9iv', '2al1djiqhl', '2awxd3vx1c', '2b2a5aq6k2', '2bdt7pgzhe', '2bk2brliye', '2brirobshg', '2byuvr714o', '2c1m2shppk', '2cmygznznr', '2cyaw0tbrj', '2dcpi0esej', '2dme3duilf', '2dr4u5l51d', '2dvf5bxeel', '2dw4gnpp0c', '2foc8ywh4b', '2fu57ftfkl', '2fwiktakmq', '2fww0eqsjf', '2h', '2i6ktr0jbc', '2inj8xorei', '2jqob7kgil', '2ju9tuawbm', '2jylrluhaj', '2kftvcuw6h', '2khcecuo5m', '2ktmmc7nrg', '2kujmycayc', '2kvuggwiwt', '2ljauw1dwj', '2miz8suktf', '2mkbxx5p1u', '2mr5lxxbno', '2naa7t8xjm', '2nadeeceyz', '2nq97tibd3', '2nxgz5u9br', '2o', '2o7wv59qhe', '2oldnx2vz7', '2onqusnfcd', '2or9w', '2p1a5vctpm', '2p69seivdu', '2pjhyp2tst', '2qmnojxu9b', '2qmzurh8yg', '2qmzuryjqe', '2qu9yqq9bv', '2r3zbopqjb', '2roowlag6u', '2rxpuggo0k', '2sbxtm6txl', '2sg4mswhqv', '2surnvzgfo', '2t0z3ewxnl', '2tbjjdabsd', '2teq92xtbx', '2thbapxaok', '2tvhfah9t0', '2uchtcy', '2uchtcy1rb', '2ufgjmyrv6', '2uknks7b0q', '2um6bn5wwd', '2uyz6ojdp7', '2v0ah10fbs', '2v7f40sxub', '2veag79wjx', '2vm14dckvr', '2wbdhkxlyl', '2wexb8dezv', '2wk7svqezb', '2wpprzhcez', '2wrei94cbp', '2xkq87q41e', '2xrgnqcpr2', '2xrxwpi10d', '2xszs0efpn', '2xz35tfvwl', '2yekz06ftl', '2ymkxubjek', '2yrgurw1zl', '2ywk4nagqy', '2z8bheuj5r', '2zdu2u1t3x', '2zhcm9wt2p', '2zmwu2bigh', '2zs9cblvld', '2zzynncwye', '2ª', '2ªciapmind', '2º', '30', '300', '306x7s54hd', '308', '30kg', '30lt9iiavw', '30tlbyhisf', '31', '316', '31t0mrzwvs', '32', '3278', '32cqrfyjmq', '33', '331', '336', '33htvssvzz', '340hvacake', '34pl6elge6', '35', '350', '353', '35645', '357', '36', '36yclr4yqh', '36zpe0seo8', '37i4iqwlph', '38', '381', '390', '39eg5ggot6', '39kbhyqzpo', '3a40aggikg', '3akujss6ea', '3at1m3vrkq', '3atagcu8ct', '3bevqtuhzl', '3bpapjijch', '3bs9k5rgjh', '3bua3fwnbj', '3c2yuhn30j', '3camxwwzp4', '3cg84tx43e', '3cntyzrz0f', '3csusoxrlq', '3cvcxobh1q', '3dfhslcezs', '3dpzxq9fdb', '3e55mtsyqm', '3e57gcjjek', '3e7sdl1ust', '3enapwwpqf', '3enqc9nvwj', '3etfsevsvj', '3eu7li761v', '3ezdmqhpyc', '3ezjn2pa9v', '3gfaqvrfhs', '3gj5jjc55x', '3hsb4xdh6k', '3ijwaopozb', '3im1eta1rl', '3iuutshhwk', '3j8kftt3e1', '3jp7sbcinv', '3jtyfkfcjv', '3khlbvys8l', '3kkbhbz9qj', '3kp7opxezz', '3kz7egz7cf', '3lhzitrqmh', '3lv5kh4riw', '3mv719gapa', '3mw0uqsjyq', '3ojq6syr7z', '3otzoood0r', '3oydshjvap', '3p1cxh7guw', '3pfyzo8jjx', '3pgobgf2ne', '3q8gkwskvd', '3qa7b0lzol', '3qo52kgasz', '3qzytdbqbu', '3ro5bvvpx5', '3s0ka9ablc', '3sfrnxclm4', '3tdmmmzn06', '3tnzy89vp5', '3tusr2vtff', '3u8lsyjzid', '3uaosbr7mp', '3upk3nmovk', '3uuuoobyl1', '3vely65mjp', '3vgzeqvcbj', '3w2xurx6jp', '3wdiw6qhxy', '3wnyyym2mu', '3wx5k8it6n', '3wz5zfz5gl', '3x2tzgemou', '3x9kktuk8d', '3xjnynpj8m', '3xvqr9fjpq', '3y3e7kcdlr', '3ycejsk0yb', '3ycuvoel6d', '3yu5suavrg', '3ª', '3º', '40', '400', '401', '40bljazzut', '40º', '419ecxr21t', '41haf0ll3e', '42', '424', '427', '42ukiamfg4', '42º', '43', '438tqfrlcy', '43opzikgxg', '44', '440', '44cuvsyjqv', '44vec13xmv', '44vkihvmcz', '44ºbpm', '45', '450', '452', '45akahaoxo', '45kvychhk9', '46gt8my4ea', '46rygtoqaf', '479', '47º', '48s', '49', '497', '49kudxhayd', '49toacm63k', '4a3fflbdmn', '4ahlniqoqh', '4b7awpjrpk', '4bag2deie0', '4bahdteusj', '4bl9nlvzc0', '4bl9nmdb0a', '4btgfxpo6f', '4bwefhrwds', '4c9q3hpdyu', '4ch6jpqym5', '4daa0pilpj', '4dbfvazw6f', '4dk6dqminn', '4du9lyainm', '4e0uhnfhme', '4fjrw633h9', '4flqtftsth', '4gcj0awr89', '4gjjbvfiqt', '4gvyi6ok34', '4h20o3tnrr', '4h7vqybims', '4h8zdua7y9', '4hentfbkcu', '4hkconjspp', '4hrbckodcq', '4hua5elssi', '4ixqjnwwaw', '4j2zeylnpx', '4jwaortnmp', '4k8ygxo3cj', '4kabk5mnke', '4kofl11vnw', '4l3uobuf51', '4l5wr0j6zr', '4ldq1zqecq', '4mb2jj2itv', '4mfsdbjuqs', '4mijlxkxow', '4mw6wevlsr', '4n5avyuon9', '4n9rhbbla8', '4nv2y4lnsg', '4nx0pxhjkn', '4ovm19axyp', '4pdnhbuih4', '4pfzuxqi9b', '4pitzrbfcv', '4qf7gzzu5z', '4qriu8hyrt', '4rbdrs0q4v', '4ruevaifcs', '4snas0jqkr', '4sng8f21iz', '4snlvsj8f3', '4sqash4vka', '4tr4vjeucc', '4u71ggqbin', '4u85xkzmfe', '4uhasthxs8', '4uk6kfy1v3', '4ulwag2tck', '4umvelt5kv', '4upxv0hv1y', '4v037pllcw', '4vjilxzmkp', '4vw2tr7dqd', '4wlgymh771', '4wnswt3nhq', '4wqhrhwxog', '4x68bnf9zo', '4xai43jhml', '4xthtqsqmw', '4xzzqcrdie', '4yhenfxaw4', '4yki6fg0wh', '4ykiume2ff', '4yvgrtb17m', '4zeszyjmd9', '4zmcsedosm', '4zqqel7jso', '4ª', '50', '500', '500mll', '51kwkdrtwg', '52nodjkoui', '52r2e6obhb', '52º', '53jjdti4qj', '53mb7pqhu0', '53wki8cqg4', '53ª', '54', '543', '54esibf5ms', '54qvirbf20', '54qwyvc4kn', '54warq3mlg', '54znqtnskk', '55', '550', '554', '55xl1okfr7', '56', '57ifv19wux', '57qj2775he', '586', '58scrfuwyb', '58ª', '59', '595k48iekh', '59lzhxaxxu', '5a6xqlhjzm', '5adrl1wovn', '5agetrlxoc', '5bzirpn6ww', '5c3gllisqq', '5c5qxr8czh', '5cd3a0pvva', '5cg0knzdyv', '5e0u6s5ypj', '5e57pdb8hw', '5egirsynhe', '5esr7a4agv', '5ggcol65qz', '5i4ymgwbcb', '5ifwy08n8d', '5iohfbsv3n', '5j1oilysvg', '5j4evjpgt9', '5j8nplqduh', '5jbnrsdnuf', '5jsx7unnpz', '5jwpdbkkv4', '5kgaz2gmto', '5kozusggik', '5kxenpinis', '5ldupfbbiu', '5lgdojxjqk', '5lnkkooi7s', '5mc4egpw4k', '5mrqunllnk', '5nhch8jkze', '5oe5rl0lrp', '5ov5bzuagx', '5p9udjo5mf', '5pqenrzrv0', '5pu5s8xzpl', '5qi72uzuxi', '5qk7a1umc8', '5radap0ivp', '5sbvuxmxtc', '5sos', '5sutw56pxj', '5tuhmxjfjl', '5tvf3bdxob', '5tww4zj2qz', '5u6xtytmmy', '5udaytuhrm', '5ukctu608c', '5ulujqnkoo', '5vhnyoptk2', '5vjbh3xywf', '5vk7poikja', '5vpf0jgw1w', '5wmlsrz8p7', '5xhwfggxho', '5xvxz8udch', '5y7ubjtsjb', '5yajogdy2b', '5yzil9q4za', '5zcqyjb0y1', '5zdk0vbrcc', '60', '600', '60º', '60ºbpm', '61', '610', '616ttkfrcy', '61º', '62', '6259hituuq', '628', '631gbctvfe', '63pzgy4xiu', '63vvhfpjl9', '64odj8yi69', '64vhkiu392', '65', '654vvnoqno', '65d2yjc72e', '65o0prsiay', '65xipyy6lq', '6626hvzwgx', '665', '66axtuwt6e', '674var97al', '677xpxfi7a', '69', '69wd3v2lwk', '6a6mh49rfz', '6aaookzu8z', '6antyxxq9x', '6ap9zp8rny', '6beyfi7wex', '6bs5sdhmrt', '6ccxfbrnhw', '6cinutgeei', '6cpozu6ah5', '6cv8wl5xlt', '6d9rbalpzt', '6dej21vamo', '6dnqyhzes0', '6dsgejguat', '6dwtfjy2re', '6ehjvkmun1', '6ekv9h5pdi', '6eshrystyz', '6f1daffkss', '6f7yfxbuxh', '6gfwgowzfn', '6giv0vue4p', '6gmrptqu0k', '6icofoh1ut', '6iez9vep7g', '6iparglslp', '6jdo4ddc2m', '6jxqejvyra', '6kvgisv7dk', '6lcdujof29', '6lmambw0qu', '6lq1attliw', '6lqdcszrb5', '6lrueqop6n', '6lujf76cvl', '6lzwca6opa', '6m0yhnkmmm', '6mtszlzbiw', '6n7prkdgmi', '6nfrzzv3he', '6nwm6e3ydm', '6objgpclt4', '6ogi48d67m', '6ojygasjrw', '6p34wtnfrh', '6pd9gsjpz3', '6pfu4jcaxm', '6qqzuucukt', '6qvfapavzx', '6r05tlvfvp', '6rlvno3w9x', '6siymws8kp', '6smucpx66e', '6sptvygzmx', '6sqmt1xmbl', '6syz5t2h75', '6tgcdp8bkz', '6tljy1zo8u', '6tmlt4qdwp', '6tpgqqucb1', '6uawoxno4r', '6upjzuebko', '6uyduo3wtt', '6vklhsngte', '6wafld5nx5', '6wpy6wuhjo', '6x2o0gxdco', '6xjitbko1t', '6xvpa1r6bw', '6xyvxq3xdp', '6ycecxebtt', '6zchwo9w1x', '6zgh3t2dri', '6zjdxpkzeu', '6zsp3fgnst', '6ztvybgd3w', '700', '70410tgqsk', '70cxcvepkl', '70odtl7ifi', '710', '71acl8csxc', '71ª', '735hzmygcn', '73pzmggevj', '74rekwu6vf', '75', '750', '75czwj5wu6', '764', '77', '770', '77unsv0krc', '78nro8qcsb', '79bsdil6id', '79wlyhctv8', '7axls6xjb1', '7aznagfhqn', '7btjy3eqcs', '7bu4gpdzri', '7bvtiyf6qr', '7bvvqg8du6', '7bwil', '7bwilfdft0', '7bzpcwknhg', '7c9drkcabd', '7clkngi4rg', '7clp7pavzf', '7czocuqfzq', '7d', '7de3kdb0fl', '7e0tqxfxx1', '7egla88obn', '7fcx0l9euh', '7fgro6tbjr', '7fhpqqznsg', '7fre66guko', '7g7ddk0wgf', '7gd9gqfnx2', '7gfa3pdaxl', '7hn25vkpb6', '7hqnasyjsf', '7i1wxxsglq', '7i3lmmsq5s', '7i9hx2uhew', '7ickfx9al8', '7iibgrnw9l', '7iui6aiqmf', '7ivjhh1njo', '7jgkmme3qy', '7kelih6xvg', '7lg3fd8odz', '7lot9xwguc', '7lycqobenc', '7m9quigxqx', '7ngrbmfjtl', '7o1asf46ps', '7o6sdxeeoa', '7otuswwawx', '7p6skqg9e7', '7povlaxhjs', '7pues0ohm4', '7qgcskamqa', '7qjktikp9q', '7r2kuy8wsj', '7rbcdhm4vx', '7rryyxmbub', '7rwhyph1oz', '7sy5osnkys', '7tjdhiz0bk', '7tluotieed', '7u5i9kqa1f', '7ubwqj4gaw', '7vevrk5o0y', '7vj0tvjwkw', '7vzcm5lhiu', '7wm59ju4wb', '7wvkjncane', '7wvsghbbwo', '7x8xz5thac', '7xf3vt8pqb', '7y6ny5uvzn', '7yijormsos', '7zbgpf3aoh', '7zdmlt7qip', '7ªcia', '7º', '80', '800', '80s', '82aginijjj', '82tyxircw9', '83', '835', '83rwq4lrle', '83utev0csr', '846ttx0esi', '84foqs2aik', '84hlhb215t', '85hkvmigg8', '85mgmjhjhz', '86', '87', '88', '884er3mylm', '888hglsenv', '89fqwnorjm', '8a1maj7dmz', '8adq0psvxk', '8agc2stggf', '8aggrwt7vq', '8aiduk8ldf', '8aohwucydt', '8aqbus5pwd', '8awmlqvf0f', '8be5twsnvz', '8bwealhijl', '8c8wprcfwx', '8ck2zkkf6c', '8cpdfjuno9', '8cvdeykmyk', '8cx6g34oro', '8dqj3t25ri', '8eoo6zu', '8eoo6zuv9v', '8flchmcrw1', '8fouluorsm', '8fvmi3gtoq', '8g47tnveuc', '8g5j3yiuwi', '8gdaf2jm6d', '8ggwuzikka', '8gkd4zsqmv', '8gxfslgjro', '8h7iv4jwh8', '8hc1u8tgqg', '8henbn3qfs', '8hlkb2soyw', '8hm0c2b1iw', '8htkbla5u9', '8ia3rq8v99', '8ibwmeyono', '8illqmuazm', '8ilndueaqk', '8ivx9xzv3y', '8jlrkjstm9', '8jwcdrmz7o', '8kayyvtz27', '8kcxrcuohh', '8kgopt1cxj', '8l28ggno8r', '8l49vxnz8y', '8ldccqjkc8', '8lddkaalpm', '8liifmr0wk', '8lvcbnj6ej', '8lvnmm6oqf', '8lzwxuj1g6', '8m2nicx93q', '8mbhi71yaa', '8mp0nnq3ve', '8neuo9to9b', '8nffb2pm10', '8nhfyftud9', '8njbatmhve', '8nvafvw0xz', '8oyiqkgg6e', '8pxrj68ay9', '8qbrkkplxv', '8qtbabd5s6', '8r0es2uyu0', '8rntbpsr6i', '8s3fm1cca2', '8sbtui8010', '8sfksnuhla', '8spxixf6kt', '8tiflaomw9', '8tts4jtaeu', '8upnvbnrw3', '8ux3uhyge0', '8uyug8trvw', '8v6rpxkf8d', '8vcxs7oxhs', '8vp9qtfsgm', '8w', '8we1hfaig5', '8wkfsurrng', '8wond8he5u', '8wsrsvr9jz', '8wxxptj8wu', '8xf2oqoiid', '8xkwptov4c', '8xoryidozc', '8yqrpami29', '8yrcycwgov', '8yvcp1vvrs', '8zcqbcp1qw', '8znjqo7zyy', '8zranotr7j', '90', '90fejf3lp4', '91a6wzgv5n', '91xpyitlld', '92', '92l9vymb9u', '92p7ekkicr', '92p8zhikmq', '94kxg7rf3f', '94n9uk5rl7', '94zjkptxh8', '95eib9qbrh', '96ugka4yey', '97gcr3kn0f', '98', '98pmjd66tj', '98tddl7hky', '99', '99l0bcgkxh', '9a7ufc6a2z', '9akdqahecs', '9aopidjgzv', '9apnththka', '9aqg1qgcl7', '9bdz8iha6w', '9bkxhid24v', '9blaleprsu', '9bmcghzkiz', '9btz3rybpt', '9by5cb4npq', '9cnui8qrve', '9cpsyjwz9c', '9d1y8z6yvz', '9djnmdxeai', '9e3yy7nqhh', '9eebgj7i5x', '9ekaf4tid6', '9ez4nwagj2', '9f60efu2og', '9f9lsnc4me', '9fera67oek', '9g3yo8ksin', '9g81rndzqd', '9gilnxeyfw', '9h10', '9iwgjt611l', '9jeriabosj', '9jfrcf3z9k', '9joldkfrpf', '9jw4gtwaxh', '9jynxvutmt', '9kbmj1qgg7', '9khshsdwx5', '9ki8i9iqkz', '9kigj6nsfj', '9kmhqjrw4h', '9l4xketx4v', '9lcoibmof0', '9mcug2adlk', '9mtqlvhbox', '9olgozrix7', '9ovkpfqgcd', '9plknaqn4d', '9pmqrr5fn8', '9ppg8ytpms', '9q0y3fycb1', '9q64gnsjcq', '9qbnewalbg', '9qu', '9rddg4j3u7', '9rfallr1qy', '9rhkq5rdmj', '9rkl0kgm92', '9sk3nkcvof', '9smrwetsqn', '9t8goh9nsu', '9tinwpmqgk', '9tlw0zqihh', '9tuipojgyo', '9tyuwz6q8k', '9uidjvyjof', '9usf54upjr', '9vaxq7knlz', '9vbfyb53su', '9vksrtuiqa', '9vpqeviexo', '9vsmvjdovf', '9vvapqszln', '9wes9vlczn', '9wes9w2nqv', '9wf2o7wvwp', '9wnlljj71n', '9wubnmazwx', '9xcjyoqqtp', '9xsiuy9c0z', '9ybwb0aads', '9yfybtqikq', '9yjpbz7atv', '9yy3rcv8k5', '9zcuwblioq', '9zyosdmsjw', '9º', 'a0f48fjocl', 'a0fhruruke', 'a0nald0ynw', 'a0twmibnse', 'a1c8tfuzd9', 'a1daczyh7h', 'a1fixv5m7n', 'a1lgdhfgxd', 'a1m46cbv1r', 'a1qenalq8s', 'a2esmbsrqi', 'a2ms3nkx3h', 'a2syw57mz3', 'a2tahhkbo2', 'a3bxtlirbt', 'a3og1vklon', 'a3qipduet3', 'a3yn76ejpx', 'a4ohfayfrz', 'a4pq1dftyb', 'a4wr0jn80x', 'a5av5q87h1', 'a5c0whekfw', 'a5tf1k1oln', 'a6bdyyjzbl', 'a6zmcjclh0', 'a70nnpfvka', 'a79zkaec4f', 'a7frygvisw', 'a7umifiihp', 'a8wsfiieoc', 'a9cmacjoth', 'a9kzswwnnk', 'a9pojwsadi', 'a9ssvwthlc', 'aa', 'aa3ldzkjrn', 'aa5z6spehu', 'aaaaaaa', 'aaaxoiwtbp', 'aab03mzywr', 'aafjd0qotp', 'aagqqouiuz', 'aavdjfjjnd', 'aavplj5bbn', 'aavpljnd0n', 'aaxx107ihg', 'aayxi4kq4l', 'abade', 'abaixo', 'abandono', 'abandonou', 'abastecimento', 'abatidos', 'abc', 'abençoe', 'abertas', 'aberto', 'abhqqh2ykx', 'abimaq', 'abkfbzjlcx', 'aborda', 'abordados', 'abordagem', 'abr', 'abracoooo', 'abran', 'abrangente', 'abraço', 'abre', 'abrem', 'abretia', 'abreviadas', 'abriga', 'abrigo', 'abrindo', 'abriu', 'abshfdw8pv', 'absolutista', 'absurdo', 'absurdos', 'aburridas', 'aburrido', 'abusa', 'abusando', 'abusivo', 'abuso', 'abusos', 'ac0irm475o', 'ac4vwn4fst', 'acaba', 'acabam', 'acabando', 'acabo', 'acabou', 'acaso', 'acattbz8rl', 'accidente', 'acción', 'aceita', 'acelera', 'acercarse', 'acertada', 'acerto', 'acesse', 'acesso', 'acfqpmtx5y', 'acha', 'achados', 'acham', 'acharia', 'achava', 'acho', 'achou', 'aciclovir', 'acidente', 'acima', 'acionamento', 'acirrada', 'acnzw8lxpr', 'acolhedor', 'acolhimento', 'acontece', 'acontecerá', 'aconteceu', 'aconteceunasaúde', 'acorda', 'acordaminas', 'acordei', 'acordo', 'acordouacordou', 'acordé', 'acordó', 'acos7isth4', 'acre', 'acredita', 'acreditar', 'acreditei', 'acrescentar', 'acronimo', 'activo', 'actuación', 'actual', 'acu4vlwi3y', 'acusado', 'acusados', 'acusações', 'acustico', 'acxulmmnrk', 'acá', 'ad7k76bcdz', 'adaptada', 'adc0rrjl9u', 'add', 'adeladelino', 'además', 'adeus', 'adi5qzsb6d', 'adicionei', 'adimnistração', 'adivinen', 'adm', 'administrado', 'administrativa', 'administrativos', 'administração', 'admite', 'adoecidos', 'adoidado', 'adolescente', 'adolescentes', 'adoptará', 'adorando', 'adoro', 'adota', 'adotada', 'adquire', 'adriana', 'adrianolourenco', 'adu1cek4sc', 'advinha', 'advocacia', 'advogado', 'adxw1j3w2b', 'adélia', 'ae2bnkqque', 'ae5ftgisa5', 'ae7fpwjhdl', 'ae8twsflwv', 'aecio', 'aedes', 'aeeuqhbqnq', 'aeky0peldk', 'aereas', 'aeronave', 'aeronaves', 'aeroporto', 'aeroproto', 'aescp2i0en', 'aewotqph0w', 'af7fuhvkbb', 'afastado', 'afastar', 'afbazhkels', 'afcqj4w2er', 'afetadas', 'afetados', 'afetar', 'aff', 'affap95q6d', 'afia', 'afición', 'afiliada', 'afinal', 'afirma', 'afirmando', 'afoga', 'afonso', 'afqjkgw6tg', 'ag3vctfcbl', 'ag6gty8ee8', 'age', 'agem', 'agenciaamirtdenoticias', 'agente', 'agentes', 'agewm5a0af', 'agia', 'agjikmqgue', 'agjrhsz6pe', 'aglomerado', 'aglyvr0oer', 'agm0gnxmcp', 'ago', 'agora', 'agp0jnme1s', 'agradable', 'agradec', 'agradece', 'agradecida', 'agradezco', 'agrava', 'agredida', 'agredindo', 'agredir', 'agrediu', 'agreguen', 'agricultores', 'agricultura', 'agroindústrias', 'agropecuário', 'agrícolas', 'agt5u9oeni', 'agtm9fbeoc', 'agu', 'agua', 'aguanil', 'aguanto', 'aguciyomfn', 'aguentem', 'agvlyouigi', 'agwpsbh7e4', 'agência', 'ah', 'ah2uiqedt2', 'ah6hbmokpb', 'ahcykurisr', 'ahgblmpxtm', 'ahi', 'ahijado', 'ahke0t91a6', 'ahkwamvjpp', 'ahocd5huwq', 'ahora', 'ahr', 'ahre', 'ahrre', 'aht2lsbgpp', 'ahxzlcisuw', 'ahyosun93b', 'ahí', 'ai', 'ai4jtmknsy', 'aihkindgnr', 'aik0zd5oj4', 'aikkjo0m3n', 'aimorés', 'ainda', 'aires', 'aissami', 'aiwmrnrpus', 'aja', 'ajajajajajaja', 'ajhdc0eeby', 'ajjaja', 'ajkau9dlb6', 'ajkau9uwse', 'ajprnu1qrt', 'ajuda', 'ajudando', 'ajudar', 'ajude', 'ak44rsfuk6', 'ak8qsc5gda', 'akbar', 'akmntihjdl', 'akqnjcwqc3', 'akvqukyydp', 'al', 'al18rr45x3', 'al1dsaxy0x', 'al4pau0zis', 'al4wsvfdfu', 'alaga', 'alagamento', 'alagamentos', 'alagoa', 'alagoas', 'alagran', 'alalwhppnl', 'alba', 'albertocvillar', 'alcançou', 'alckmin', 'alcuni', 'aldxiorgfa', 'alegre', 'alegría', 'alemanha', 'alemendes', 'alemendes0110', 'alemã', 'alemão', 'alerta', 'alex', 'alexandre', 'alexoribas', 'alfenas', 'algemado', 'algo', 'alguien', 'algum', 'alguma', 'algumas', 'alguno', 'algunos', 'alguns', 'alguém', 'algún', 'ali9poisol', 'aliados', 'aliança', 'alias', 'alikqcghf3', 'alimentação', 'aliw1jrzv8', 'aliás', 'alliance', 'allás', 'allí', 'almeida', 'almg', 'almir', 'almoça', 'almoço', 'alo', 'alt', 'alta', 'altera', 'alterado', 'alternativa', 'alterosa', 'altetico', 'altino', 'altiro', 'alto', 'altoque', 'aluno', 'alunos', 'alvim', 'alvo', 'alvorada', 'alvos', 'alymsvstu1', 'alzada', 'além', 'alô', 'am', 'ama', 'amagis', 'amamentando', 'amamentar', 'amamentação', 'amanha', 'amanhã', 'amarela', 'amazonas', 'ambiciosa', 'ambiental', 'ambljbsfdu', 'ambrosina', 'ambulâncias', 'ameaça', 'ameaçados', 'ameaças', 'americana', 'americano', 'amiga', 'amigas', 'amigo', 'amigos', 'amistades', 'amm', 'amo', 'amontoado', 'amor', 'amorzinho', 'amostra', 'ampgc1pl9r', 'amplia', 'ampliada', 'amq21vq4dx', 'amra7nij5k', 'amut06nds8', 'amy7tsvruf', 'américa', 'an3titv6ov', 'an6gbrlaln', 'anac', 'analisa', 'analista', 'anapaulavolei', 'anastazia', 'anastácia', 'anda', 'andar', 'andrés', 'anel', 'angelamgonalve1', 'anhvhglzi0', 'animais', 'animam', 'animo', 'anincia', 'anjinho', 'anjos', 'ano', 'anoche', 'anon', 'anos', 'anrpdlhsdw', 'ansah0qwsa', 'anta', 'antagorda', 'ante', 'antecipa', 'antecipadamente', 'antecipação', 'antemano', 'antero', 'antes', 'antonio', 'antártica', 'antônio', 'antônioprado', 'anual', 'anulação', 'anuncia', 'anunciam', 'anunciou', 'anuros', 'anv', 'anx852bv0n', 'anônima', 'anúncio', 'ao', 'aoerfjx3js', 'aofh6zzgg4', 'aonde', 'aoqjpj7zyj', 'aos', 'aovmbwibc6', 'apacs', 'apae', 'apaixonada', 'apaixonar', 'apareceu', 'apareció', 'aparelho', 'apareçam', 'aparo', 'apartamento', 'apellido', 'apenas', 'apesar', 'apfijdad9k', 'aplaudir', 'aplicativos', 'apnildqhox', 'apoia', 'apoiam', 'apoio', 'aponto', 'aportar', 'aporten', 'aposentadoria', 'aposta', 'apoyar', 'apoyo', 'appxx5dxtt', 'apreend', 'apreende', 'apreendem', 'apreendeu', 'apreendi', 'apreendidas', 'apreendido', 'apreendidos', 'apreensão', 'apreensões', 'aprende', 'aprender', 'apresenta', 'apresentada', 'apresentador', 'apresentam', 'apresentar', 'apresentaram', 'apresente', 'apresentou', 'aprofunda', 'aprontando', 'apropriam', 'apropriando', 'aprova', 'aprovados', 'aprovam', 'aprovar', 'aproveitam', 'aproveitar', 'aprovou', 'aproximadamente', 'aproximação', 'apunto', 'apóia', 'após', 'aq0ng1bp5f', 'aq1kbll1fh', 'aqd2gqjzqy', 'aqhjuhrpll', 'aquel', 'aquela', 'aquele', 'aqui', 'aquí', 'aquífero', 'aqy8a8zdzr', 'aqzgdczzse', 'aqzxbhkbq4', 'ar', 'ar186yd2xj', 'aragua', 'araguari', 'araujos', 'araxá', 'arcar', 'areinha', 'argentino', 'argumentando', 'argumento', 'aricaetano', 'arinos', 'arismendi', 'arma', 'armados', 'armas', 'armazena', 'arnaldo', 'aroa', 'arrancamos', 'arranjos', 'arrasa', 'arrastado', 'arrbt', 'arrbtmdqfy', 'arrebentado', 'arrecadação', 'arrego', 'arremessado', 'arrependo', 'arroganti', 'arroz', 'arruda', 'art', 'arte', 'artes', 'articulam', 'artif', 'artifício', 'artigo', 'artista', 'arturito', 'aructmjsqf', 'ary_antip', 'ary_antipt', 'as', 'asazm9c9p7', 'ascensão', 'asi', 'asnehd5tjm', 'asnjmy04tr', 'aspirador', 'assaltado', 'assaltante', 'assaltantes', 'assaltar', 'assalto', 'assaltos', 'assange', 'assassinado', 'assassinato', 'assassinatos', 'assassinos', 'asseclas', 'asseguram', 'assemleia', 'assentamento', 'assessor', 'assim', 'assinado', 'assinam', 'assine', 'assinou', 'assista', 'assiste', 'assistindo', 'assistência', 'associação', 'assumir', 'assumiram', 'assumiu', 'assunto', 'astronautas', 'astsjoovvm', 'asume', 'asumido', 'asw1mqjqzb', 'así', 'at', 'at5iarwann', 'atacado', 'atacaforte', 'atacante', 'ataque', 'ataxá', 'ate', 'atención', 'atende', 'atendemos', 'atendendo', 'atender', 'atendimento', 'atentado', 'atentados', 'atento', 'atençâo', 'atenção', 'aterro', 'atinge', 'atingir', 'atira', 'atirador', 'atitude', 'atividade', 'atividades', 'ativistas', 'atjep8o7p0', 'atleticanosegueatleticano', 'atletico', 'atlhopqmyt', 'atlético', 'ato', 'atoleiro', 'atrair', 'atrasa', 'atrasados', 'atrasando', 'atravessar', 'através', 'atrevida', 'atribuiu', 'atrás', 'atsgbarmyy', 'atual', 'atualização', 'atuam', 'atuação', 'atum', 'atuoq9zhps', 'atztaakdjv', 'até', 'aua8ueeo3s', 'audio', 'auditório', 'augusto', 'auiterthme', 'aulas', 'aumenta', 'aumentam', 'aumentar', 'aumento', 'aumentou', 'aun', 'aunirznvao', 'aunque', 'austrália', 'autoestima', 'automotiva', 'autor', 'autores', 'autoridades', 'autoriza', 'autorizada', 'autorizado', 'autônomo', 'auxilia', 'auxiliar', 'auxílio', 'auze6psrwi', 'av', 'av6vovzx28', 'av7iwarzyd', 'av7iwb9aqb', 'aval', 'avaliar', 'avança', 'avançar', 'avanço', 'avaí', 'avbmja70hk', 'ave', 'avenida', 'avisa', 'avisaa', 'aviso', 'avivamento', 'avião', 'avpiylfirx', 'avqb0t7qzg', 'avwlx4vtnk', 'avxjynumtn', 'avó', 'avós', 'aw5fwqawz7', 'aw7vulkw9c', 'awantiaaaaaa', 'awbg7i7v4y', 'awgxus1xdx', 'awrpbkxntm', 'awuukw8psl', 'awv1sejbw2', 'ax9oorjfzx', 'ax9spwu8mb', 'axcin4g1fb', 'axpvgfxepm', 'axy56jvnw4', 'axzdywt3iq', 'ay3qlrvnte', 'ayadglp8bq', 'aydmrikk4e', 'aydposair0', 'ayhpkwuofq', 'aym1xjeuqm', 'ayp0gffdvc', 'aytgruc0zu', 'ayuda', 'ayujvtrkay', 'ayzzrjxsqm', 'azar', 'azhm19wmi1', 'azjgxqmuqv', 'azkxbrale8', 'azmk0baivn', 'azul', 'aç', 'açaí', 'aço', 'açucena', 'ação', 'ações', 'aécio', 'aéreo', 'aí', 'año', 'años', 'aún', 'b10aenffob', 'b1pr8lppku', 'b1ylxhvpy9', 'b24dktkow8', 'b2njrcfu8e', 'b31qiv6evn', 'b33enqckui', 'b3f93jpmtk', 'b3lsniknvc', 'b3thidjcsf', 'b4v64m7dtf', 'b5ekrpsfud', 'b5ycemfdxw', 'b6ndx8fcta', 'b6z1tqapl3', 'b70iinc4ie', 'b7bjwaixo8', 'b7bjwb08fg', 'b83dszsblb', 'b8drodjrut', 'b8z8morfcx', 'b97mnnvmne', 'b9biewlehs', 'b9cwsk2tiw', 'b9wi6xyxod', 'b9xmfgsmu8', 'ba9isnpqlk', 'babaca', 'bagdá', 'bahia', 'baiano', 'bailando', 'baile', 'bairro', 'bairros', 'baixa', 'baja', 'balada', 'balança', 'balanço', 'baleado', 'bali', 'balístico', 'balísticos', 'bancada', 'bancar', 'banco', 'bancos', 'banda', 'bandeira', 'bandidagem', 'bandido', 'bandidos', 'bando', 'banqueiros', 'bar', 'barba', 'barbacena', 'barbárie', 'bardo', 'barinas', 'barpmpepfc', 'barra', 'barragem', 'barrar', 'barras', 'barreiro', 'base', 'baseada', 'bases', 'basta', 'bastardo', 'batalha', 'batalhamos', 'batalhão', 'bate', 'batem', 'batida', 'batqrx0ybo', 'bauman', 'bb', 'bb9ckjwoku', 'bbgvtwsegb', 'bbjfgtvmix', 'bbnum36cke', 'bbqd3ylygq', 'bbqtjrrmqr', 'bbwvhfq4r7', 'bbzbaipfyw', 'bc9te4znf7', 'bccfvrdvjo', 'bceqyasixb', 'bcid1tbnth', 'bcjb90txvj', 'bcnrsspsfd', 'bcta', 'bcupdtm6nc', 'bdcloaeo0b', 'bdllq1wny2', 'bdmg', 'bdqzzj0jup', 'bdr4ljek9j', 'bdwzrltqmd', 'be8v1yn2so', 'beato', 'bebado', 'bebamos', 'bebaço', 'bebem', 'beber', 'beberte', 'bebidas', 'bebê', 'bec4oo', 'bec4oow70r', 'bedrqfouhm', 'bedw4w4jij', 'begum7fhvo', 'beiriqp5so', 'belinelli', 'bello', 'belneti07b', 'belo', 'bem', 'bemestar', 'benedito', 'benef', 'beneficiados', 'beneficiará', 'benefício', 'benefícios', 'benjamin', 'bens', 'bento', 'bençãos', 'berzpypgms', 'besoo', 'besta', 'beta', 'betaajudabeta', 'betalab', 'betaseguebeta', 'betim', 'betpxup8mc', 'bexlrbnwd5', 'beyxmccxis', 'bf1zjlj19x', 'bfdvzudzeq', 'bfi5bpp0bh', 'bfovfgzy0n', 'bg', 'bg2q0erkit', 'bga8i6uumu', 'bghwmwlckk', 'bgpbs5hejl', 'bgurnfbi39', 'bh', 'bhaz', 'bhf3er', 'bhie19wnzt', 'bhp', 'bhqsaitu9o', 'bhtrans', 'bhwfmk4o3f', 'bi', 'bi0zs2opnx', 'bi3how35xu', 'biblioteca', 'bibliotecas', 'bicicleta', 'bicicletas', 'bicll0j4fi', 'bien', 'bife', 'big', 'bih7itzwst', 'bilhão', 'bilhões', 'bilionária', 'bingo', 'bipjxugner', 'bipolaridad', 'biqupdv5ic', 'bisavô', 'bisogna', 'bit1e4gc9q', 'bitcoin', 'biv0txqlrz', 'bjhrqlr3d9', 'bjlfq7udz8', 'bjvz5cyqut', 'bjyws8i78a', 'bl4uqmetq0', 'bl9uv8s6aj', 'blackfish', 'bldnuu7ev2', 'bldwmamkb8', 'blitz', 'blocos', 'blog', 'blogdoadilson', 'bloodmary', 'bloquear', 'bloqueio', 'blpyibqrkt', 'blrhgwwbqx', 'blvhcsslqf', 'blytyiwdmn', 'blzbsadcve', 'blzshn3mqg', 'bm33bxjk0y', 'bm83obbiqd', 'bmdyx1wxve', 'bmeoyl7d8q', 'bmkram5hu6', 'bmmzonoy6f', 'bmsodsd73n', 'bmzwhvwoel', 'bn1fabedg8', 'bn2qsuzkmx', 'bn82npapwt', 'bndes', 'bndso34qk0', 'bngeuc100o', 'bnjhv2foth', 'bnrhtqu1sw', 'bnx82wujef', 'bnxrywkp02', 'bo6nt4p7w6', 'boa', 'boas', 'boate', 'boba', 'bobito', 'bobjxnvgbi', 'boca', 'bocwaszsgp', 'boej9ee7pw', 'bofals267a', 'boi', 'boizinhos', 'bola', 'bolinha', 'bolsa', 'bolsas', 'bolsonaro', 'boludear', 'bolívar', 'bom', 'bomb', 'bomba', 'bombeiros', 'bona38ff2m', 'bonfinópolis', 'bonita', 'boquinha', 'bor', 'bora', 'borges', 'borracha', 'borran', 'borraste', 'borre', 'borro', 'boruup', 'boruupdebg', 'bosdyuwgto', 'bosta', 'boxapt6cv6', 'bp2jffxs4s', 'bpbmzoiyhv', 'bpd8zgqttv', 'bpe', 'bpfywzxmyw', 'bpih1dza7z', 'bpm', 'bpmrv', 'bpmwbodum2', 'bpnvkjs3wi', 'bpopprwhka', 'bppt01vogh', 'bptran', 'bpxqrhql4j', 'bqjrcejqwh', 'bqorq8krxr', 'bqyaxinvdg', 'br', 'bradesco', 'brahma', 'branca', 'branco', 'branku', 'brasil', 'brasil11081970', 'brasileira', 'brasileiras', 'brasileiro', 'brasileirão', 'brasilestácheiodemamãesoufoda', 'brasileño', 'brasilia', 'brasilmetropole', 'brasilperigoso', 'brasilândia', 'brasília', 'brazil', 'brc', 'brennan', 'breno', 'breve', 'brfcja0wc3', 'briga', 'brinquedo', 'britas', 'brito', 'brixton', 'brjblq6pzp', 'brjhlwzec9', 'brmjqkvfls', 'bronca', 'bronceado', 'brooklyn', 'brotar', 'brplhmyeku', 'brsfbqhxlq', 'brsmyisa2y', 'brumadinho', 'brumado', 'bruno', 'brunoboghossian', 'bruxas', 'brweswm0aq', 'bryana', 'brüder', 'bs3mts0zyb', 'bsb', 'bsbbe3dtb1', 'bseuv7xu0k', 'bshq1vcksc', 'bsl2lcwdir', 'bsq9lg4k5j', 'bsqhgsvwvx', 'bssulfvt5h', 'bt', 'btb83cqyql', 'btbrzdmgo8', 'btc9wdg7cy', 'btljc5vhdj', 'btxmerfytc', 'bu8kgdrjsp', 'bucal', 'buchas', 'budegga', 'bue', 'buen', 'buena', 'buenas', 'bueno', 'buenos', 'bugcj6viun', 'buiubvfscz', 'bujas5obia', 'bumrjyxqmy', 'bunda', 'bunitão', 'bunoefa9yi', 'buracho', 'buracos', 'buritis', 'burra', 'bus', 'busca', 'buscando', 'buscar', 'buscas', 'buscate', 'busco', 'buscá', 'business', 'busologia', 'butiquim', 'buwpygjson', 'buy', 'buyr', 'buyray', 'buyrayn', 'buyraynn', 'buyraynnier', 'buyraynniere', 'buyraynniereo', 'buyraynniereon', 'buyraynniereoni', 'buyraynniereonit', 'buyraynniereonitu', 'buyraynniereonitun', 'buyraynniereonitunes', 'buzina', 'bvm9x99hjp', 'bvr09ymk8v', 'bvsfus2ndv', 'bw7nn71bpx', 'bwivcvotbo', 'bwnmn73hcv', 'bwrf1fnynr', 'bxg11sfcks', 'bxm47nv5mo', 'by', 'by9yiovlig', 'byeo9gon6n', 'bykejrm9og', 'bykppbvwju', 'bykuj4knxn', 'bylr9ssxna', 'byouuf1atr', 'byqgoahswc', 'bz4jqy5tlf', 'bzij2afucd', 'bzl5hj4mvh', 'bzloe3mcky', 'bzqynodeuy', 'bztyad6jte', 'bzzkx3ca91', 'básica', 'bêbado', 'bêbados', 'bóludo', 'bɛloɾiˈzõntʃi', 'c0jjqfyw5n', 'c0u1iircup', 'c13zrptynl', 'c19kqhtrsj', 'c1fwnmtwzz', 'c2y6dmhsws', 'c3qeolsj3l', 'c5ihb9z2zr', 'c5zncximuv', 'c6bf7lv4ua', 'c6l8n4amvo', 'c6oqfypsrq', 'c6slsfc5pp', 'c6yrwh9z0h', 'c7dm9visxj', 'c7fnff8pcq', 'c7l7d77fp7', 'c7opcx9s2z', 'c7tm8sejyl', 'c8k1kqjojd', 'c97ikjmpvc', 'c9bc08ye6s', 'c9llsxmxz8', 'c9rjczpc5w', 'c9wzwslw9d', 'c9ydnneywb', 'c9yna8sqvq', 'ca3ly7wcyb', 'ca5fzecebq', 'cabanas', 'cabeleireiros', 'cabeza', 'cabeça', 'cabeças', 'cabide', 'cabimas', 'cabo', 'cac', 'cachaça', 'cachaçadas', 'cachoeira', 'cacnd2jeha', 'cada', 'cadastro', 'cadastros', 'cade', 'cadeeia', 'cadeia', 'cadeias', 'caderno', 'cadê', 'caem', 'cafageste', 'cafe', 'café', 'cai', 'caiana', 'caigo', 'cairá', 'caiu', 'caixa', 'caixas', 'cajeta', 'cajuru', 'cal', 'calamidade', 'caldas', 'califa', 'calor', 'calotando', 'calote', 'caloteiro', 'cama', 'camargo', 'cambia', 'cambiado', 'cambian', 'cambiar', 'cambiare', 'cambio', 'cambuí', 'camilaaaaaaa', 'caminha', 'caminhada', 'caminhadas', 'caminho', 'caminhoneiro', 'caminhão', 'campanha', 'campanhas', 'campesinos', 'campo', 'campos', 'cana', 'canadá', 'canale', 'canalha', 'canalhas', 'canalhice', 'canalsaude', 'cancela', 'cancha', 'candidatar', 'candidato', 'candidatos', 'candidatura', 'cangaceiros', 'cansado', 'cansativa', 'cantando', 'caos', 'caotico', 'capa', 'capacidade', 'capacitação', 'capaz', 'capela', 'capital', 'capo', 'capoeira', 'captura', 'caputira', 'car', 'cara', 'carabobo', 'caracas', 'carajo', 'caralho', 'carangola', 'caras', 'caratinga', 'carbamzepina', 'carcerária', 'cardoso', 'carece', 'carga', 'cargas', 'cargo', 'cargos', 'caribe', 'carita', 'carlos', 'carmelo', 'carmo', 'carnaval', 'carnavalexclusivebh', 'caro', 'carona', 'carrancas', 'carregado', 'carreta', 'carretera', 'carro', 'carros', 'carroxcarro', 'cartas', 'carteira', 'cartão', 'carvalho', 'carvedidol', 'caráter', 'casa', 'casal', 'casar', 'casas', 'caseiro', 'caso', 'casos', 'cassado', 'cassação', 'castelo', 'catedral', 'categoria', 'causa', 'causadas', 'causado', 'causador', 'causou', 'cavalo', 'caxambu', 'cayendo', 'caz9mxpxxx', 'caça', 'cb', 'cb4grnwlae', 'cb9hxal6nf', 'cbgpayfex5', 'cbrq7q64ed', 'cc23nxekdg', 'cc6gpvftcx', 'ccbx6semja', 'ccf56abvap', 'ccf56at61x', 'ccguds99v3', 'ccnoyuquvt', 'ccosygbhix', 'cctjt6td7w', 'ccu6t4om54', 'cdjcdnrfa8', 'cdjyr9ckcv', 'cdmx', 'cdvjyjxvhx', 'cdxt0cvcuy', 'ce6jc6ry5l', 'cebi2qp6nh', 'cecília', 'cede', 'ceee', 'cefet', 'ceinftrbyi', 'cela', 'celu0cqkv2', 'celular', 'celulares', 'cemig', 'center', 'central', 'centro', 'centros', 'ceq1csrulh', 'cerca', 'cero', 'cerrada', 'certeza', 'certificação', 'certo', 'ces', 'ces5gdunzf', 'ces8jfztd7', 'cesta', 'cesário', 'cf', 'cfmv', 'cfsnirtk9v', 'cfxtvr7aip', 'cfzb81co9v', 'cg3pja9a5z', 'cg5m0blaku', 'cgm1dxklgw', 'cgtgn3oym3', 'cgtigdxjwm', 'cgydwm5kb5', 'chabon', 'chacina', 'chacinas', 'chama', 'chamada', 'chamado', 'chamados', 'chamar', 'chamem', 'chamou', 'chance', 'chapa', 'chaparme', 'charlie', 'chat', 'chave', 'chbpzstdjx', 'che', 'chedraui', 'chega', 'chegados', 'chegam', 'chegando', 'chegar', 'chegou', 'cheias', 'cheio', 'cheiro', 'chga', 'chhe', 'chi', 'chica', 'chico', 'chico_pinheiro', 'chicos', 'chiede', 'chile', 'china', 'chiquinho', 'chj0xsstni', 'chjbfikaoy', 'chjkpw6uar', 'chmxsr2ouz', 'chngqm7dye', 'choque', 'chp', 'chrysler', 'chucho', 'chulos', 'chupa', 'chupaaa', 'chupan', 'churras', 'churrasco', 'churrazeiros', 'chusma', 'chutado', 'chuva', 'chuvas', 'chuvoso', 'chácara', 'ci6i2ozhqp', 'cia', 'cib9suzj2p', 'ciclistas', 'ciclo', 'cidadania', 'cidade', 'cidadealerta', 'cidades', 'cidadão', 'cidadãos', 'cijymsvrxx', 'cima', 'cinco', 'cinema', 'cinjllvbh2', 'cino0gv6ov', 'cipotânea', 'circo', 'cisew5hod8', 'cisew6efah', 'cisterna', 'cita', 'citytour', 'ciudadana', 'ciudadanos', 'civil', 'civis', 'ciw9g40gre', 'cj2ai934df', 'cj8m6agflf', 'cjd2dwrp3e', 'cjwicbpgqg', 'ck0767izp2', 'ck4pcmdeuk', 'ck4uvboead', 'ckdjh2vmta', 'ckhgwyn3s0', 'ckiu1zb7pd', 'ckj4m3jcz0', 'ckm6lfrvdk', 'ckux1xzjjr', 'ckzvykarx0', 'cl', 'cl3ze4gzft', 'cl79svt7pd', 'claro', 'claros', 'clase', 'classe', 'claudinho', 'cli3ptipoa', 'cliente', 'clientela', 'clientes', 'clima', 'clindomicina', 'clique', 'clkpqkflf1', 'cln97wq3w7', 'cloo1skbz4', 'clube', 'clubes', 'clz9y0h0g7', 'cláudio', 'cm', 'cmigwgvylt', 'cmiwk5soev', 'cmk1paal0j', 'cmo', 'cmoeucrdnt', 'cmrtzexbtk', 'cmug2oc5n4', 'cmuw3evynk', 'cmwsae1qbg', 'cmzd4hpcff', 'cnmu2a2qo5', 'cnojm9ukko', 'cnpki4kh2q', 'co', 'co2qlyxurf', 'co2qlzf5jd', 'coats', 'cobertura', 'cobra', 'cobradores', 'cobram', 'cobrança', 'cobrar', 'cobre', 'cobrindo', 'cobrir', 'cocaína', 'cod', 'codevasf', 'coelho', 'coerência', 'cofres', 'cohen', 'coibir', 'coisa', 'coisas', 'coit', 'coitada', 'cola', 'colaborativa', 'colapso', 'coleciona', 'colegas', 'colegiado', 'colete', 'coletes', 'coletiva', 'coletivams', 'coletivo', 'colheita', 'colidir', 'colidiu', 'coloca', 'colocado', 'colon', 'colonial', 'coluna', 'colégio', 'colômbia', 'com', 'comandante', 'comando', 'combate', 'combatem', 'combater', 'combatido', 'combustibles', 'combustível', 'comemora', 'comemoram', 'comenta', 'comentan', 'comentar', 'comentario', 'comentarios', 'comentem', 'comenten', 'comento', 'comentou', 'comentário', 'comenté', 'comer', 'comercial', 'comercializava', 'comerciantes', 'comercios', 'começa', 'começam', 'começando', 'começaram', 'começou', 'comida', 'comissionados', 'comitiva', 'comitê', 'como', 'comoção', 'compaj', 'companheira', 'companhia', 'companhias', 'compartilhado', 'compartilhe', 'complementar', 'completa', 'completamente', 'completo', 'complicado', 'compor', 'compra', 'comprada', 'comprando', 'comprar', 'compras', 'compre', 'comprei', 'compromete', 'compromisso', 'comprou', 'comprovem', 'comunicado', 'comunicação', 'comunista', 'comunitárias', 'comunos', 'comércio', 'comércios', 'con', 'concede', 'conceição', 'conciencia', 'conciertos', 'concluem', 'conclui', 'conclusão', 'concordo', 'concorrer', 'concorrência', 'concretos', 'concurso', 'concursos', 'condenado', 'condenados', 'condenam', 'condenar', 'condomínio', 'conductor', 'conduta', 'conduzem', 'conduzidos', 'conectarme', 'conexión', 'confere', 'conferem', 'conferida', 'confessa', 'confessou', 'confiante', 'confiança', 'confieso', 'confins', 'confira', 'confirma', 'confirmados', 'confirmação', 'confirmou', 'confissão', 'confortável', 'confude', 'confusão', 'confência', 'congonhas', 'congresso', 'conhece', 'conhecimento', 'conheça', 'conheço', 'conjunta', 'conjunto', 'conmigo', 'conociste', 'conozco', 'conquistas', 'consciência', 'consegue', 'conseguido', 'consejo', 'conselho', 'consenso', 'considerado', 'consiga', 'constitucional', 'constitución', 'constituição', 'construção', 'construído', 'consulado', 'consultando', 'consultas', 'consumer', 'consumidor', 'consumo', 'cont', 'conta', 'contabilidade', 'contacto', 'contagem', 'contagiada', 'contamos', 'contar', 'contas', 'contemplam', 'conter', 'contesta', 'contestandole', 'contestar', 'conteúdo', 'contida', 'contido', 'contingenciou', 'continua', 'continuam', 'continuando', 'continuar', 'continuarei', 'continuação', 'continuidade', 'contou', 'contra', 'contraiu', 'contrapor', 'contrario', 'contrastes', 'contrata', 'contratados', 'contratar', 'contratação', 'contrato', 'contratos', 'contraíram', 'contribuindo', 'contribuinte', 'contribuições', 'controladas', 'controlado', 'controlar', 'controle', 'controvérsia', 'contrário', 'contábil', 'contém', 'contêiner', 'conversa', 'conversando', 'convertido', 'convida', 'convidados', 'convite', 'convoca', 'convocado', 'convocados', 'convocação', 'convocou', 'convênio', 'convênios', 'cooperação', 'cooptacion', 'coordenado', 'copie', 'copinha', 'copinhanaredevida', 'coragem', 'corajosa', 'corazón', 'corações', 'cordeiro', 'coreia', 'coren', 'corinthians', 'corinto', 'coromandel', 'coronel', 'corpo', 'correa', 'corregedoria', 'correios', 'correntes', 'correr', 'correto', 'correu', 'corrida', 'corrigir', 'corrupto', 'corruptos', 'corrupção', 'cortaba', 'cortaron', 'corte', 'cosas', 'cosf0dedv8', 'cosillas', 'cospe', 'costura', 'costurar', 'country', 'covarde', 'coxinha', 'cozinha', 'cp1ulgaxjc', 'cpk9t8qeaj', 'cpnth7x45l', 'cptg91a4jd', 'cqcq3j7fam', 'cqfhff9mno', 'cqnundrb1b', 'cqnxau5pee', 'cqpmtulxkh', 'cr4fvmodmk', 'cr95opcxs4', 'crack', 'craniano', 'cravando', 'credo', 'creen', 'creer', 'creo', 'cresce', 'crescimento', 'cria', 'criado', 'criança', 'crianças', 'criar', 'criarem', 'criação', 'cricri', 'crime', 'crimen', 'crimes', 'criminalidade', 'criminoso', 'criminosos', 'criou', 'crise', 'cristo', 'cristovao', 'cristóvão', 'critica', 'criticam', 'criticar', 'critico', 'crkjnk7tto', 'crochê', 'cronograma', 'crrjn8wryx', 'cruce', 'crueldade', 'crujir', 'cruz', 'cruzeirense', 'cruzeiro', 'cruzeironacopasp', 'cruzeirosempre', 'crxl6dveyw', 'crápula', 'crédito', 'críticas', 'crônica', 'cscqeb5xme', 'csgmdhjfuk', 'csibuzkmu1', 'cspb', 'ct5dhh61ib', 'ctgnvqo2ju', 'ctkzheemqm', 'ctlswh8kik', 'ctosnjx5pf', 'ctpm', 'ctqu58fekg', 'ctqvram3nl', 'ctr7djnqio', 'ctsx2a8mns', 'cttylrqmfo', 'ctw1jmrlxd', 'cu', 'cu4jgbpne9', 'cualquier', 'cualquiera', 'cuando', 'cudmvjq3kq', 'cuenta', 'cuero', 'cuestiones', 'cuiabá', 'cuidam', 'cuiukeuafy', 'cujqfdzux1', 'culpado', 'cultura', 'cultural', 'cumpra', 'cumpre', 'cumprirá', 'cumpriu', 'cunha', 'cup', 'cura', 'curiosidades', 'curioso', 'curso', 'cursos', 'curta', 'curte', 'curtem', 'curvelo', 'custa', 'custaram', 'custear', 'custo', 'custodia', 'cute', 'cv2qvkpf3v', 'cvcznj3zpm', 'cvf6kj4jfi', 'cvgcngtuvp', 'cvocjcoflm', 'cvokoyvrq6', 'cvqejpkkes', 'cvs8epdxxu', 'cw089pqphc', 'cw0qzapc4f', 'cwb2wm37fp', 'cwcv9j1u6a', 'cxdmz0dylk', 'cxjzgob6jh', 'cxjzzd9dju', 'cxr6vfoaba', 'cxybgdlatn', 'cydln4jqzs', 'cyefdrgvni', 'cyiynkbt4i', 'cyrzlmjq1f', 'cys4nxeezh', 'cyvkfwwsld', 'cyvwwdjntf', 'cywpa0ywes', 'cz57oh5xek', 'czaqnvszqj', 'czbviixpdf', 'czdaieyq2n', 'czkgpusvox', 'czv5slreqp', 'czwcbtgwtf', 'cá', 'cárcere', 'cármen', 'câmara', 'câmeras', 'câncer', 'câncerbucal', 'cães', 'cão', 'célia', 'césar', 'céu', 'cês', 'código', 'cómo', 'córrego', 'cúmulo', 'd0qnzrant5', 'd0vjpjh2of', 'd0xd5jactp', 'd1qixpiiyh', 'd22dvtfpht', 'd2fydcrup6', 'd2ue88lsw3', 'd304dnuvgv', 'd4bcbhqhju', 'd4zeb4eqtm', 'd6faskv44c', 'd6fix1i5ak', 'd6gw4dzw7y', 'd6muvqgvfk', 'd6mvt1e9v3', 'd6u2npoit7', 'd7zqg3ilhx', 'd8ilnclhuy', 'd8mqrv9jxt', 'd98jn5ytoy', 'd9jby3vpxh', 'da', 'da14ys9gee', 'da3yob38qm', 'daban', 'dacwymemli', 'dados', 'daesvxas3j', 'dahora', 'daikmyolyb', 'dajk9ueus6', 'dale', 'dame', 'damhjndnzw', 'dan', 'dando', 'dani', 'daniambiental', 'danificadas', 'dança', 'dançaram', 'daquele', 'daqui', 'dar', 'darc', 'darcy', 'daria', 'darle', 'darte', 'daría', 'das', 'data', 'datjbyixyd', 'datlkhbtfp', 'dava', 'davi', 'david', 'davos', 'daí', 'db', 'db4hnwk86m', 'db5eijisst', 'db71trxeh1', 'dbffe858w7', 'dbgylnfejp', 'dbh6uocmyr', 'dbhklfo3mx', 'dbig633ijn', 'dbmjm9mdlp', 'dboefrufa6', 'dbq3qifje5', 'dbqmunhtpv', 'dc0hxxepu4', 'dc12vdssde', 'dcckynfpdm', 'dcdjfafvyi', 'dck0bv1wu8', 'dcpklouayb', 'dcyjvnwohk', 'dcyn0ou3al', 'dd8cvc1kuh', 'ddd', 'ddlhvjgg9n', 'ddrzhdtc1w', 'ddvxnxhmd5', 'ddyqhvcibo', 'de', 'de6kzal6c3', 'deap9fdbgl', 'deasu8harr', 'debater', 'debería', 'debitori', 'debo', 'decapitação', 'decepção', 'decidem', 'decidirme', 'decir', 'decisão', 'decisões', 'declara', 'declarada', 'declarado', 'declarará', 'declaração', 'declarou', 'declaró', 'declínio', 'decomposição', 'decreta', 'decretada', 'decretar', 'decreto', 'decretou', 'decía', 'dedicado', 'dediqué', 'def', 'defende', 'defender', 'defenderemos', 'defendeu', 'defensas', 'defensivos', 'defensoria', 'defesa', 'defesaagropecuária', 'deficiente', 'definem', 'dehucwnmgx', 'dei', 'deixa', 'deixada', 'deixar', 'deixe', 'deixou', 'deja', 'dejalo', 'dejar', 'del', 'dele', 'delegacia', 'delegada', 'deles', 'delinquente', 'delxvhrg5i', 'delícia', 'demais', 'demanda', 'demandas', 'demite', 'demitido', 'democracia', 'demuestra', 'demência', 'den', 'dengue', 'dentista', 'dentre', 'dentro', 'denuncia', 'denuncie', 'denúncia', 'denúncias', 'deoahrjryp', 'deoqvljhwv', 'deoym5pjhu', 'dep', 'departamento', 'departamentos', 'depois', 'depredar', 'depredação', 'deputado', 'deputados', 'depósit', 'depósito', 'depósitojudicial', 'depósitos', 'der', 'derecho', 'derqn4p7g4', 'derribadinha', 'derrotar', 'derrubar', 'des', 'desabamento', 'desacato', 'desafiam', 'desafio', 'desafios', 'desaparecerán', 'desaparecido', 'desaparecimento', 'desastre', 'desayuno', 'descansa', 'descansar', 'descanso', 'descendente', 'descobre', 'descobrir', 'desconectada', 'desconhecem', 'desconhecer', 'desconhecido', 'desconto', 'descontos', 'descubre', 'desculpa', 'desculpar', 'desculpe', 'descumprimento', 'desde', 'desembarca', 'desembargadores', 'desencargo', 'desenhista', 'desenhos', 'desenvolve', 'desenvolvedor', 'desenvolvido', 'desenvolvimento', 'desequilibrado', 'desertor', 'desfruta', 'desgovernado', 'desgovernador', 'desgraça', 'desgraçado', 'designa', 'designados', 'designan', 'designação', 'designer', 'desinformados', 'desleal', 'deslegitimar', 'desligar', 'desmonta', 'desobediência', 'desocupam', 'desoneração', 'desonesto', 'desordem', 'desordenado', 'despacho', 'despede', 'despedimos', 'despedir', 'despertar', 'despesas', 'despoluição', 'despontou', 'despues', 'después', 'dessa', 'dessas', 'desse', 'desses', 'desta', 'destaca', 'destaque', 'destas', 'deste', 'destinados', 'destino', 'destituir', 'destruiu', 'destruídas', 'desvio', 'detalhe', 'detalles', 'detentas', 'detentos', 'determina', 'detida', 'detido', 'detidos', 'detran', 'detém', 'deu', 'deu4vjzbly', 'deus', 'devassa', 'devasso', 'deve', 'devem', 'dever', 'deveria', 'deveriam', 'deverá', 'devia', 'devidos', 'devolve', 'deykapuxnw', 'dezembro', 'dezenas', 'df', 'df3rivxxtl', 'df4icnjdcg', 'df68amqfsw', 'dfafahymko', 'dfevhzch16', 'dfgysvwvok', 'dfhklutjpq', 'dfie66wfyt', 'dflebg9g9m', 'dfn77ttrap', 'dfn98k4dhm', 'dfulukpsyf', 'dfwsiniqei', 'dgg3y093yg', 'dgqm2xzpvs', 'dgz7mbza53', 'dh53yzhx4g', 'dhcwmb16qm', 'dhd1qkyfd4', 'dhefng0eh1', 'dhiomvspbw', 'dhlapvji0m', 'dhnyv3isq6', 'dhrn8k5lek', 'dhwuxjhpyk', 'dhwyg8g0wt', 'di', 'dia', 'diabólico', 'diagnóstico', 'diamante', 'diamantina', 'diante', 'diarios', 'dias', 'dibujos', 'dica', 'dicas', 'dice', 'diciendo', 'diciéndole', 'dieese', 'dieguito', 'dieron', 'diesel', 'diferenciação', 'diferente', 'diferentes', 'dificilme', 'dificuldade', 'difícil', 'digital', 'diho7ckmeo', 'dijaiikjuw', 'dijeron', 'dijo', 'dilma', 'dilmasabiadetudo', 'dilmês', 'diminuiu', 'dimite', 'dinhe', 'dinheiro', 'diniz', 'dio', 'diosa', 'diosss', 'diputados', 'diqovvlhll', 'dircaizbhg', 'dire', 'direcionado', 'direito', 'direitos', 'diretor', 'diretora', 'diretores', 'direção', 'dirija', 'diré', 'diría', 'disciplina', 'disciplinares', 'discreto', 'discurso', 'discute', 'discutem', 'discutir', 'discutirmos', 'dispara', 'dispensa', 'disponibilizado', 'disponibilizam', 'disponible', 'disponíveis', 'disputa', 'disputad', 'disputado', 'disputou', 'disse', 'disso', 'diste', 'disto', 'distorce', 'distribui', 'distribuindo', 'distribuição', 'distribuído', 'distrito', 'ditadura', 'diversificar', 'diversão', 'divida', 'divide', 'divinas', 'divinnópolis', 'divinópolis', 'divisa', 'división', 'divisão', 'divulga', 'divulgado', 'divulgar', 'dix1t0opip', 'diz', 'dizem', 'dizendo', 'dizer', 'diário', 'dió', 'dj5fy2piwi', 'dja4nqf1zd', 'djagxt6tog', 'djkc9afuwl', 'djlyvvkpfr', 'djpjbx8cj9', 'djshnrpm1n', 'dk9vyu8d8d', 'dkahlgob1w', 'dkcfq1un2v', 'dkg8c0dlxk', 'dkqvxgpo87', 'dktljqjbyg', 'dkuzoj1s1j', 'dkyfcdpe3r', 'dl2vuzvtzt', 'dlp2jrbogs', 'dlqw1toz8p', 'dlrogdkwiw', 'dmawjgiqsu', 'dmdik3wbfc', 'dmg7bgsek5', 'dmrfiaj4lv', 'dmugiih6ln', 'dmvfuh0unu', 'dnd', 'dnfyvzgaqw', 'dnmvseadjo', 'dnmwm52ksf', 'dnolgmu5xv', 'dnwvbmlory', 'dnxa7efhiy', 'dnztu9j85n', 'do', 'do80avmwzw', 'doadores', 'doar', 'doação', 'dobrar', 'doce', 'documento', 'documentos', 'documentário', 'doebhwzyan', 'doente', 'doença', 'dofvhd9tpj', 'doi', 'dois', 'dokgykhzgl', 'dom', 'domesticnews', 'domiciliar', 'doming', 'domingo', 'domingos', 'domingão', 'doméstica', 'domínio', 'dona', 'donde', 'dono', 'donos', 'doria', 'dos', 'doses', 'dourada', 'doutor', 'doxuew337y', 'doy', 'doze', 'dpg3cnfzbb', 'dpkgzvr2qw', 'dpois', 'dpue9c40fk', 'dpvihqlyo1', 'dq3yiqpqhk', 'dq4kozloen', 'dqeto7znnu', 'dqrja7g3hv', 'dqughv3r2c', 'dr', 'drbrhyzkld', 'drhibuzq5x', 'drmarkeijd', 'droga', 'drogas', 'drones', 'drptdxgoga', 'drq0bzslli', 'drs3nxcs9d', 'ds6maprhkc', 'dsd9npue5i', 'dsey7e0ghb', 'dsgycfxmjg', 'dsiwmcxjef', 'dsjtxrcng4', 'dsp', 'dspea', 'dsq0ys2q6x', 'dsqxraghuj', 'dt08ybiozp', 'dtbxhx0241', 'dtq9bre0vm', 'dtsp20fgls', 'dtvsergelx', 'dty5o3ko7j', 'duas', 'dubay', 'duca', 'dujwmeagja', 'dumont', 'dupla', 'dura', 'durante', 'duro', 'duwuhr7y9o', 'duypgauwme', 'dvazl85pj9', 'dvccppirzx', 'dvfltjiwz8', 'dvy', 'dvyqhw1rot', 'dw38zlncqm', 'dwdgqcbpjo', 'dwejnlnhfq', 'dwgqetkwhn', 'dwhepdqvc0', 'dwk2iqhion', 'dxdd9q3did', 'dxewjjbija', 'dxlm5ilsd9', 'dxo96mw9o6', 'dy5kxipovm', 'dy9pa1ku8b', 'dycv0yangk', 'dyfjenhsik', 'dyhinywequ', 'dyqgwvocqn', 'dz0e9dp3dt', 'dz22zgenaj', 'dzc2jwzjdx', 'dzlkq02aou', 'dzosdhhjgq', 'dá', 'dão', 'débitos', 'décimo', 'déficit', 'dê', 'día', 'días', 'dívida', 'dívidas', 'dólares', 'dúvida', 'e09av8vgbj', 'e0zko8sdhq', 'e14dzmle5m', 'e15lwsmiqs', 'e17qvkbwvv', 'e1ehsa9ti3', 'e1yl7vrcf7', 'e25gq9o7ch', 'e2intyv4b4', 'e2x5fvmsso', 'e34rnvtu7v', 'e34wksewi4', 'e3fow0wfku', 'e3zzjtc9qx', 'e4vqrxhxqh', 'e56p1qh9er', 'e5mwhnkcms', 'e5r5jgq6xf', 'e5uvgw6izg', 'e61rjdalwt', 'e67kwtohae', 'e6egjfurvq', 'e6kojp5vtr', 'e6nsmrhfx7', 'e7sjvdnhjp', 'e7xxka5ojs', 'e8k33lsu3o', 'e92r8bmb1c', 'e9fncicgrb', 'e9sa4iy3ur', 'e9z0wzzzqg', 'ea0qnjvhqn', 'eacmmcnu0z', 'eafyed3ttc', 'eaheltice1', 'eajhxsec9a', 'eammm0kenn', 'easqc2unfq', 'easvbv3udx', 'eaweryybmk', 'ebc', 'ebcqo0qzqk', 'ebf0knfhgh', 'ebhomhp3ro', 'ebojmufxv8', 'ebpkabgqxx', 'ebriedad', 'ebtsarcny5', 'ebx1dvqouq', 'echnqkjwwx', 'ecktrdbkqj', 'eclihqp1vr', 'economia', 'economica', 'economizar', 'economía', 'econômica', 'econômico', 'econômicos', 'ecopark', 'ecswlm4g2p', 'ectgw3ns2j', 'ecuatoriano', 'ecuejjpqmb', 'eculon4oft', 'ed7nwkczaw', 'edersantos', 'editada', 'edital', 'editores', 'edição', 'edkhmwqlbt', 'edmcxfgznq', 'edmilson', 'edmundo', 'edoméx', 'edpajtmgbd', 'edtyth9w6q', 'eduardo', 'educação', 'educaçãomg', 'edyjl7kbpx', 'eepb0k8zla', 'eetptagxcw', 'eevpgufzrm', 'ef', 'ef7wpx7t1f', 'efava8g1br', 'efbe4pdcyp', 'efcmxc32tp', 'efectos', 'efetivou', 'efetua', 'efqavi8odf', 'efspkcggpt', 'efvm', 'eg4alv7vwe', 'eg4itsdstj', 'egdof2skit', 'egihi816i9', 'egjuya9m5g', 'egqgga75vr', 'egrxdq8fzj', 'egy9mfe29e', 'egyi4zuggm', 'eh', 'ehwaiuzed6', 'ehwbyzc0np', 'ehzvf7ljpg', 'ei', 'eiafsnxjxp', 'eica9sdye5', 'eidgx5ak3n', 'eif1kvyokq', 'eilnpm99zl', 'einoorswqm', 'eiqdt8zbip', 'eiqn8o4wl9', 'eiraworiju', 'eiuv36utvb', 'ej5a1zwefd', 'ejgbaie8ps', 'ejq7aia6ol', 'ejrjgyo7oi', 'ejxfzr43hm', 'ek1qmaul36', 'ekdyedwfr8', 'ekiugt7dsl', 'eklseoxmx6', 'eknd9y6hrv', 'el', 'el1f4xlamu', 'el4daa6bnd', 'el6mwwypuj', 'ela', 'ele', 'eleger', 'elegeram', 'elegeu', 'eleguis', 'elegía', 'eleito', 'eleitor', 'eleitorais', 'eleitoral', 'eleitores', 'eleição', 'eleições', 'elejis', 'elemento', 'elenco', 'eles', 'eletpyzazh', 'eletros', 'eletrônica', 'eletrônico', 'eletrônicos', 'eleva', 'elevada', 'elhjfyj0te', 'elias', 'elicopteros', 'elimina', 'elite', 'ella', 'ellas', 'ello', 'elogiou', 'elopi1qirc', 'eltj6bqk7c', 'elun0eexpp', 'elza', 'em', 'em_com', 'ema', 'embaixador', 'embalagem', 'embarazadas', 'embarca', 'embarramos', 'emboabas', 'embrazado', 'embriagado', 'embriaguez', 'embuscadaspanicats', 'emeat5hzkb', 'emergencia', 'emergência', 'emilio', 'emite', 'emjasu04hb', 'emociona', 'emocional', 'emocionó', 'empenhar', 'empenho', 'empezamos', 'empezare', 'empezaré', 'emplacou', 'empossa', 'empreendedoras', 'empreendedorismo', 'emprega', 'emprego', 'empregos', 'empreiteiras', 'empresa', 'empresariais', 'empresas', 'emprestado', 'empresário', 'empresários', 'empréstimos', 'empujando', 'emqviwwgoz', 'emtu', 'emv', 'emx4chekve', 'en', 'en02nesgi2', 'en73d81p9d', 'encanta', 'encendido', 'encerra', 'encerramento', 'encerrando', 'enche', 'encima', 'encolhem', 'encomendas', 'encontra', 'encontrado', 'encontrados', 'encontram', 'encontramos', 'encontrei', 'encontrou', 'endividando', 'endmwegf9d', 'eneas', 'enem', 'energia', 'energético', 'enero', 'enferman', 'enfermantes', 'enfrenta', 'enfrentam', 'enfrentamento', 'enfrentavam', 'engessar', 'enmff64bpq', 'ennesimo', 'enoja', 'enojadaaaa', 'enquanto', 'ensaios', 'enserio', 'ensino', 'ensolarado', 'entender', 'entendes', 'entendeu', 'enterra', 'enterro', 'entonces', 'entornoi', 'entorpecentes', 'entra', 'entraba', 'entrar', 'entrará', 'entre', 'entrega', 'entregam', 'entregar', 'entregaram', 'entres', 'entretanto', 'entrevista', 'entrevistas', 'entrou', 'então', 'enumero', 'envergonha', 'envia', 'enviadas', 'enviado', 'envio', 'enviou', 'envolvendo', 'envolveram', 'envolveu', 'envolvida', 'envolvidos', 'envolvimento', 'envufc1j6b', 'enxame', 'enzrrnvolv', 'enéas', 'eognxkhg5u', 'eoqrdynjmt', 'eoy0tskgqe', 'eozst6m1za', 'ep1rogmcoa', 'ep7k3vix91', 'ep7nx5eq7c', 'epdktueevw', 'epfqvamzip', 'epfsmuuxg3', 'epqgdtcj8m', 'eprmvbdxxq', 'eprxjalzgh', 'epu9gmgauu', 'epwibb4hys', 'epymfxikla', 'eq3n4wphd2', 'eq6ehildxi', 'eqabzabgen', 'eqasgua0pt', 'eqfdg0bffj', 'eqfyt18dj7', 'eqhvfhyo5p', 'eqigrozh', 'eqjdestfgf', 'eqrih9ywos', 'eqth93evuk', 'equador', 'equipamentos', 'equipe', 'equipes', 'equipo', 'era', 'eram', 'erario', 'eret96tjpp', 'erfjd5gk7a', 'ermksrbrfh', 'ermlgdwum5', 'erp9edd3jm', 'errada', 'errado', 'erro', 'errxs1i8jj', 'es', 'esa', 'esa886vwpb', 'esas', 'esbanja', 'esbórnia', 'escala', 'escalada', 'escarnio', 'escarpas', 'esclarece', 'esclarecimento', 'escola', 'escolar', 'escolares', 'escolas', 'escolha', 'escolhe', 'escolhido', 'esconde', 'escondem', 'esconder', 'escondida', 'escondidas', 'escorregamento', 'escrevemos', 'escribe', 'escrita', 'escrito', 'escroto', 'escuchado', 'escárnio', 'escândalo', 'esdkohuxhq', 'ese', 'esfgurmwgp', 'esforços', 'esgn0ypext', 'esgotado', 'esmeraldas', 'esnoba', 'eso', 'esos', 'espacial', 'espanta', 'esparta', 'españa', 'especial', 'especialista', 'especializada', 'especialmente', 'espelhem', 'espera', 'esperado', 'esperando', 'esperança', 'esperava', 'esperavam', 'esperem', 'espero', 'espertos', 'espeto', 'esporte', 'esportes', 'esposa', 'espsrta', 'espírito', 'esquecer', 'esquerda', 'esquerdista', 'esqueça', 'esqueçam', 'esquizofrenia', 'esrj8ss5im', 'ess', 'essa', 'essas', 'esse', 'esses', 'essência', 'est', 'esta', 'estaba', 'estacionamento', 'estad', 'estado', 'estadodanatureza', 'estadodederecho', 'estadodesítio', 'estados', 'estaduais', 'estadual', 'estadão', 'estagiários', 'estallan', 'estamos', 'estando', 'estar', 'estaria', 'estarrecedor', 'estatal', 'estatura', 'estatuto', 'estava', 'estação', 'estações', 'este', 'estelionato', 'estereótipos', 'estilo', 'estima', 'estirpe', 'estiverem', 'estivessem', 'esto', 'estojo', 'estoque', 'estoques', 'estoril', 'estos', 'estou', 'estoy', 'estradas', 'estrategia', 'estratégia', 'estratégicos', 'estruturados', 'estte', 'estudam', 'estudando', 'estudantes', 'estudar', 'estudavest', 'estudiar', 'estudo', 'estudou', 'estuprador', 'estupradores', 'estupro', 'estuprou', 'está', 'estábamos', 'estádio', 'estágio', 'están', 'estás', 'estão', 'esté', 'estúpido', 'esuhtrlfbl', 'esvazia', 'eswdepfkwh', 'eswue', 'et5dhjllgj', 'et5dhub2xc', 'etc', 'etctcbzvdl', 'etebxsewi3', 'eterno', 'etfke8xcoa', 'etiqueto', 'etwh28yqdy', 'eu', 'eua', 'euefnzu', 'eugênia', 'euhlbyxfgl', 'euixra4oyd', 'eul1l7kq7g', 'euler', 'eunício', 'euqieryakw', 'eurasia', 'eurologo', 'euros', 'euufl82sbd', 'evadir', 'evaluan', 'evita', 'evitar', 'evvjkdtn7y', 'evxdxs9xqj', 'evzx4r9o5n', 'ew0kelatsd', 'ew1blrtq3b', 'ew5rkk1fg6', 'ewgxhl3itl', 'ewldshkyp2', 'ewpzte4nzf', 'ewuofnlo4v', 'ewzxi3jq2r', 'ex', 'ex01twgbvd', 'exagera', 'exalta', 'exame', 'exatamente', 'excelente', 'excepción', 'excessos', 'exceto', 'executivo', 'exemplo', 'exfoy49nkv', 'exh2nmkjvi', 'exhpuxnwqu', 'exhwbmxefe', 'exige', 'exigem', 'exime', 'exipfmhmyk', 'existe', 'existem', 'existia', 'existência', 'exitosas', 'exjq0b8ma9', 'exonera', 'expansão', 'expectativa', 'expedidos', 'experimental', 'experiência', 'experiências', 'explica', 'explicações', 'explodir', 'exploração', 'explosión', 'explosão', 'explotación', 'explotará', 'explotó', 'exposição', 'exposições', 'expressiva', 'expulsa', 'expulso', 'expulsou', 'exterior', 'exterminar', 'extermínio', 'extintos', 'extra', 'extranj', 'extraordinária', 'extravagâncias', 'extrañarlo', 'extrañarrr', 'extrema', 'extremamente', 'exército', 'eygczymcfg', 'eyipsobzkl', 'eylc6skwmb', 'eylzq1miup', 'eynhn2av4l', 'eysv0palh8', 'eytruijl7y', 'ez3lhbyjjf', 'ezd3gct7za', 'ezg577pjzy', 'ezi7k00c1a', 'ezjrmrhxdk', 'ezphxnjujv', 'ezu6wmhy45', 'f0hdk6vyg5', 'f1eggkbsfw', 'f1yjnild3r', 'f26pcdbklf', 'f2a0pvxtcd', 'f2dfd9nzof', 'f3psidltes', 'f4e2zazt2v', 'f5', 'f5crxc5rgz', 'f5cstt10l5', 'f5ml4isgja', 'f5zxrenrbt', 'f8ajguqhza', 'f8jdqnm90e', 'f9hb4tq6fp', 'f9p4g8l5wb', 'f9yqi9py', 'f9yqi9pyyq', 'fa', 'fabriciano', 'faca', 'facas', 'face', 'facebook', 'facetime', 'facil', 'faculdade', 'facção', 'facçõe', 'facções', 'faiddejiiu', 'fajuta', 'fala', 'falando', 'falar', 'falida', 'falido', 'falidos', 'falir', 'faliu', 'falo', 'falou', 'falso', 'falta', 'faltam', 'faltando', 'faltar', 'faltou', 'falência', 'fami', 'familiar', 'familiares', 'família', 'famílias', 'fan', 'fanb', 'fans', 'fantochear', 'fapeq8cyvv', 'fapyznxatn', 'farc', 'farejador', 'faria', 'farmácia', 'farragente', 'fará', 'farão', 'fasc', 'fascinante', 'fascista', 'fase', 'fasr1eytfr', 'fasybfntso', 'fato', 'fatto', 'fatura', 'faustão', 'favelas', 'favor', 'favorable', 'faw4akn9kw', 'faxinanopoder_', 'faycez5jko', 'fayjrsvjs5', 'faz', 'fazem', 'fazenda', 'fazendo', 'fazer', 'fazia', 'faça', 'fb', 'fb07ysguug', 'fb3gino91u', 'fbi', 'fbjby8powa', 'fbjea8jh3t', 'fbkrjqymx6', 'fbmigzhi8c', 'fbqm5qktfz', 'fcaaevkruu', 'fccyc8tsd2', 'fcizu4ip9p', 'fclzcggujc', 'fcqrtaqhat', 'fcva6surcg', 'fd7xlogeiw', 'fd8uvtw5bm', 'fda8xnkchz', 'fdjmawnkxa', 'fdlmee9gkj', 'fdmu9pipay', 'fdp', 'fdsz8gdyut', 'fdthldkjhv', 'febre', 'febreamarela', 'febreamarelaemmg', 'fecha', 'fechada', 'fechar', 'fede', 'federais', 'federal', 'federação', 'feijão', 'feira', 'feita', 'feito', 'feitos', 'felicíssimo', 'felipe', 'feliz', 'feminino', 'fenabrave', 'fenitoina', 'fenômeno', 'feos', 'fere', 'feriados', 'ferias', 'ferido', 'feridos', 'ferimentos', 'fernando', 'fernão', 'ferragente', 'ferramenta', 'ferro', 'ferroviária', 'ferugiyyas', 'ferwubyfjo', 'fes5iqnh3e', 'fes7s54wk2', 'fescwve8a0', 'festa', 'festas', 'fevereiro', 'fey3elqj8z', 'feywcnfrtv', 'fez', 'fezes', 'ff7dw6svak', 'ff7kfpgqbn', 'ffedalfahs', 'ffg7xdgrnr', 'ffqaz4hzvt', 'ffraeq7y49', 'ffwo23xtgb', 'fg01c9vdfq', 'fg75py1in1', 'fg8wx0kafu', 'fga4zq4mah', 'fgg1f6gz6j', 'fgicnmuhn9', 'fgmu80nhjx', 'fgoxtwksdm', 'fgs7zlvwcn', 'fgse7laeql', 'fgtdaq8t4s', 'fguxgsa1he', 'fgv', 'fgxwmhbfn3', 'fgyvxbh3dv', 'fh2aaf2g5r', 'fhb20ab2hz', 'fhbxjw1ht5', 'fhemig', 'fhpbpx8a9p', 'fhqbunagn4', 'fhyh5i5oyx', 'fhzt3c4p8a', 'fi4gyuts5f', 'fiança', 'fiat', 'fica', 'ficam', 'ficar', 'fico', 'ficou', 'fid8mvfd8e', 'fiemg', 'figura', 'fiiqkcyajh', 'fijabnpkxj', 'filas', 'filha', 'filhinho', 'filho', 'filhos', 'filhote', 'filhão', 'filma', 'filvuy0ogx', 'filósofo', 'fim', 'fimphvhkst', 'final', 'finalidade', 'finalizou', 'finalmente', 'financeira', 'financiamento', 'finanzas', 'finanças', 'finde', 'fingir', 'fino', 'fins', 'fiorella', 'fios', 'fique', 'fiquem', 'firmam', 'firmo', 'fiscal', 'fiscalizam', 'fiscalização', 'fitecqiyiy', 'fiuza', 'fiwml370tp', 'fiwysbhbl3', 'fixação', 'fixqhi6wsv', 'fiz', 'fjggnvi3js', 'fjhx4mxrxc', 'fjrcjaaupo', 'fjyl879yo2', 'fk2w3rgunx', 'fkljp0909u', 'fknxl3lhbj', 'fkod6islfi', 'fkqnhcdkzn', 'fkrrnro5ou', 'fla', 'flagra', 'flagrado', 'flagrante', 'flamarion', 'flamengo', 'flamenguista', 'flash', 'flasheas', 'flbmdlc56y', 'flil5sldfr', 'flmcg8j2lx', 'florianópolis', 'flotó', 'flowiiii', 'flqo5xhzuj', 'fluminense', 'fluoxetina', 'flxvgggdak', 'flórida', 'fm', 'fm1ickge8x', 'fmcxejtaxa', 'fmkjsscoyq', 'fmp7edwprp', 'fmujn8bkwo', 'fmvhx5ed71', 'fmvralj4yu', 'fmxzj6xwxg', 'fmzsvgy3mr', 'fn20xvybyd', 'fn5', 'fn5evllqsr', 'fnhwfffs1e', 'fnmuprqn9j', 'fnqnmbqju9', 'fo', 'fo6kdhmysz', 'focado', 'foco', 'focos', 'focus', 'fod', 'foda', 'fode', 'foge', 'fogem', 'fogo', 'foi', 'fok5sc7ugf', 'folga', 'folha', 'folia', 'folias', 'foljgavwe6', 'fome', 'fomentar', 'fomos', 'fonte', 'fooooo', 'foquem', 'for', 'fora', 'foraesquerda', 'foragido', 'foram', 'forapcdob', 'forapimentel', 'forapimentelmg', 'forapsol', 'forapt', 'forarede', 'forarenancalheiros', 'forcolen', 'forjar', 'forma', 'formal', 'formalmente', 'formam', 'formato', 'formação', 'formiga', 'fornecedoras', 'foro', 'forros', 'fort', 'fortemente', 'fortes', 'força', 'forçamichael', 'forçanacional', 'fosiuhjjg5', 'fosse', 'fossem', 'foto', 'fotografia', 'fotos', 'fp1ubl2yly', 'fpetralha', 'fpmuaa24we', 'fppointoab', 'fprfb1sr97', 'fptzttakc4', 'fpvqq7zbpl', 'fpvz61gxlo', 'fpyfhgeyz6', 'fq4xskhcb5', 'fqcx6xl8pj', 'fqjjxxhl3g', 'fqqcgqlp9f', 'fqzhf1cqun', 'fr1xfrl0qc', 'fr4g67jcjv', 'frabcajibj', 'fracasso', 'fragilizar', 'francisco', 'franco', 'francês', 'frangas', 'franguinho', 'frankfurt', 'frança', 'frase', 'frasedehoy', 'frasedeldía', 'fraternidade', 'fraterno', 'fraturou', 'frbldbfqvl', 'fred', 'fredonia', 'freira', 'frente', 'frequência', 'fresquinha', 'fretadas', 'fretamento', 'frfdb3alan', 'frfv9vhv2x', 'frgs8rn23r', 'frh59reage', 'from', 'fronteiras', 'frq6quaka0', 'frustra', 'frustrada', 'frutal', 'fruto', 'frutosestranhos', 'frykrcjbn4', 'frynpmppcs', 'fryqvfvbqm', 'frágil', 'frô', 'fs9hc2gjmb', 'fsbpkaaqer', 'fsd39xhifq', 'fsgm7hjdkt', 'fshrtojetm', 'fsn6cdmvbx', 'fsplwfwwvo', 'fszg1d8wcl', 'fszuj3zipo', 'ft8w74u7kt', 'ft91xppi4e', 'ftaym4yje8', 'fti430vnji', 'ftrcysf593', 'ftrpxp27eb', 'ftxbexeemv', 'ftzlvgxld2', 'fu2flbkylp', 'fuck', 'fue', 'fuga', 'fugir', 'fuhghktwgj', 'fui', 'fumacê', 'funcef', 'funciona', 'funcionalismo', 'funcionamento', 'funcionando', 'funcionar', 'funcionário', 'funcionários', 'fundamar', 'fundamental', 'fundação', 'fundo', 'fundos', 'funed', 'funk', 'função', 'funções', 'furnas', 'furtada', 'furtado', 'furtados', 'furto', 'futebol', 'futpl08jiy', 'futuro', 'fuwhrllcxq', 'fuwrarqfts', 'fv12vrofyt', 'fv8ct7agrw', 'fvesrcxl8t', 'fvijibypgn', 'fvjwfkrr1n', 'fvro2zjcsf', 'fvsjfdjt9y', 'fvzsebgm1y', 'fw2uye1v8s', 'fw7ucnwhv5', 'fwaniogxxc', 'fwebxmqzlv', 'fwg97zaeyb', 'fwgxwibxmu', 'fwhflsmi3o', 'fwjxtmt4cc', 'fwrwfrtwmf', 'fwuwi8s4od', 'fx7zpchbml', 'fx8mhpmgpp', 'fxgxf8eqoz', 'fxi0yibbqq', 'fxlqiyau9v', 'fxwhhkagre', 'fycyi8cz3u', 'fyeefviecy', 'fyn8kbvefk', 'fzbpfoyunh', 'fzqnpkwuqs', 'fzr65r3ufl', 'fzsnidlyq9', 'fzu9dyguvs', 'fzwaajbcsw', 'fzy2qovkui', 'fábrica', 'fã', 'férias', 'fértil', 'física', 'físico', 'fórmula', 'fórum', 'fóruns', 'fósforo', 'g0qithf5mx', 'g0utrxsc1t', 'g0zgto6sfq', 'g1', 'g10ih1hjvq', 'g1qhlvcid7', 'g258j0owsg', 'g2fuxg9hyi', 'g2ozu9erjx', 'g2zh6iecfv', 'g37zw4dnlk', 'g3hgtuzyiy', 'g4dn5degzj', 'g4lcpjsyxl', 'g52tyfcivd', 'g59jbc1nyb', 'g5nwrvksrb', 'g60ashnukl', 'g6k6nxccou', 'g6ovlogyea', 'g6tmznek2l', 'g70i0ji9bd', 'g7huxqml8b', 'g8784hjdar', 'g88fcnguvs', 'g8qbrzkndw', 'g8ytqhvm0g', 'g9yihpyrkv', 'gaawqangax', 'gabriel', 'gado', 'gaeqxfepn7', 'galera', 'galeria', 'galhos', 'gallardo', 'galo', 'galoucura', 'ganador', 'gandaia', 'gangue', 'ganhar', 'gao3jrngre', 'garante', 'garantindo', 'garantir', 'garcia', 'gari', 'garimpo', 'garota', 'garotinho', 'garras', 'gasolinazo', 'gasta', 'gastando', 'gastança', 'gastará', 'gasto', 'gastos', 'gastronômica', 'gastrô', 'gataso', 'gate', 'gato', 'gauchão', 'gay', 'gb', 'gb05b3ud4o', 'gb57ljbfng', 'gb8kgnjopc', 'gbe8ztp4dd', 'gbgevbdwk1', 'gbkbj7t8o8', 'gbkfgru5sd', 'gbtm8e2mqt', 'gbzppfedyr', 'gc2gusld3c', 'gccwk7qnxm', 'gco5uj9kfk', 'gdbqfytmms', 'gdgtqnooih', 'gdhwozw8x5', 'gdqvhjo1hc', 'geamdmtlvo', 'gedyluakwq', 'genro', 'gente', 'gentrificação', 'genuíno', 'genuínos', 'gep5ubrc8u', 'gepar', 'gepmor', 'ger', 'gera', 'geraes', 'gerais', 'geraishttp', 'geral', 'geraldo', 'gerar', 'geração', 'gerente', 'gerência', 'ges24dck8b', 'gestantes', 'gestores', 'gestão', 'gexegbdmji', 'gfajvuwr1k', 'gfhhpbkkxd', 'gfixvduxtd', 'gfoarxfrpo', 'gfpznhisaz', 'gfq', 'gfskw0jsyo', 'gfw6xj6uxr', 'gfyjqpph4p', 'gg1t2ewghr', 'ggefxtwjul', 'gh0cbsx40e', 'gh5rad7v', 'gh5rad7vwb', 'ghay3hprif', 'ghbouiaaeu', 'gheao9xob5', 'ghicgl2tk6', 'ghigjp21c2', 'ghigjpjcac', 'ghlbli', 'ghlbliizws', 'ghmiklwwez', 'ghmm9cqxlw', 'ghnx7nowxx', 'gholavmcrl', 'ghqkj0d34z', 'ghrwvzrt8x', 'ghwzrynika', 'ghxcgote1e', 'ghy0umoebl', 'ghzxvu', 'ghzxvud8gx', 'gi2abhr5f3', 'gibq7glmgu', 'gibrejobvr', 'gibxdvq6cn', 'gici9ggzp3', 'gifoytpowr', 'giftofa5qb', 'gigantesca', 'gilmar', 'gilmarcosta55', 'ginlsholr4', 'giorgio', 'giorni', 'giuvso6kpe', 'givbpkbfon', 'giz3eatu89', 'gjagm9hsug', 'gjibepsww1', 'gjlguk1a7w', 'gjo71ce2vr', 'gjpuntrn', 'gjpuntrnrg', 'gjsmi8nm4d', 'gjuknnl2xp', 'gjzzykdjfq', 'gkaswgovtu', 'gkcgde5byi', 'gknooxwfzl', 'gl8vwgiouk', 'gl9eybk47j', 'gliubvk37w', 'glmfjeucns', 'glms24kngm', 'glnhfk06bw', 'globo', 'globorural', 'gloeenlwjg', 'glorioso', 'gmlw2mgy00', 'gmoqn9pg9c', 'gmyhr4ysgu', 'gnb56kudki', 'gncd6l649s', 'gnczo4ckuq', 'gnd', 'gnd3am4vri', 'gnf6rohtp8', 'gnrmqelnnq', 'gnscrbc6cz', 'gnt', 'gnthfs3fbo', 'gnyxfiyfzy', 'go', 'go6v8ivj04', 'goaofjd14d', 'gob', 'gobernación', 'gobernadores', 'gobierno', 'gohu7rmwji', 'goias', 'goiás', 'goj9tzpuqs', 'goldenglobes', 'golf', 'golpe', 'golpista', 'gontijo', 'gonzalo', 'gonçalo', 'google', 'gopro', 'gostam', 'gostaria', 'gostaríamos', 'gostei', 'gosto', 'gostoso', 'gostou', 'gov', 'gove', 'govern', 'governa', 'governad', 'governada', 'governador', 'governadores', 'governar', 'governista', 'governo', 'governodeminas', 'goxqajlzxj', 'gozevrnlyi', 'gp2ifuylcp', 'gp4yeo8mka', 'gpa', 'gpcue1dq0x', 'gpnrzqjiz4', 'gpudt9', 'gpudt99iyt', 'gpuths4sw1', 'gpzh4r11gg', 'gqeusaafnu', 'gqligoipik', 'gqslnyok5l', 'gr', 'gra', 'grabado', 'gracia', 'gracias', 'grajaú', 'gramado', 'grande', 'grandes', 'granizo', 'gratuidade', 'gratuita', 'gratuitamente', 'gratuitas', 'gratuito', 'gratuitos', 'grave', 'gravíssima', 'graça', 'graças', 'greenfield', 'grego', 'greve', 'grhwlnnclu', 'grid', 'grisu', 'grogotó', 'grpsyezcmw', 'grupo', 'grupos', 'grv0hkrx3t', 'grvrmm8nfg', 'gráficos', 'grátis', 'grão', 'gscqzph3xp', 'gsdzy7rokq', 'gsv5jqjbub', 'gsvlq5k5ll', 'gthpzavkpv', 'gts2a22jo4', 'gtsey8jrgy', 'gtva559cap', 'gtwfhwsdse', 'gu54zfrbjy', 'gu62exqfs4', 'guaraciaba', 'guarani', 'guardava', 'guatemala', 'guaçu', 'gucqalshxw', 'guerra', 'guerrilheiros', 'guf4cqjyyj', 'guia', 'guias', 'guita', 'guri', 'gusta', 'gustaras', 'gustaría', 'gustas', 'gusto', 'gutenberg', 'gutolmebfo', 'guuli6dk0i', 'guwyib2kto', 'guyizpb8wm', 'guárico', 'gv3tnhfwdq', 'gv489upa2e', 'gvdms5hwxm', 'gvjgziygwg', 'gvoxaoxtqt', 'gvqupzmcyz', 'gvr', 'gvrdrhksmx', 'gvtva4sgq2', 'gw62w9lt71', 'gwvwf20wf8', 'gx0rjt1ubl', 'gx3ekme4lv', 'gxiy85trvl', 'gxtfndwul4', 'gxtsfxcnnq', 'gxu19lxt9u', 'gxvre9ize9', 'gyb08m1ktx', 'gylhczkcen', 'gym', 'gyqbeegkux', 'gytgx6ooll', 'gz1itjtqcs', 'gz8etvpenj', 'gzsj44v3lw', 'gzubm7gs25', 'género', 'gêmeos', 'gênio', 'h0', 'h05yitzawe', 'h07ijh64by', 'h0lpa9n92e', 'h11ycz0qfm', 'h1mnt2ejlh', 'h1uvi11emv', 'h3auupxl6r', 'h42tupmnpn', 'h42tw8yqui', 'h4fk6cwjow', 'h4qpj4qt2a', 'h4x2vjgx2p', 'h69o5ccxle', 'h6jknzhone', 'h6wbeqzsuh', 'h7ufxgsbsa', 'h7ziyxpqts', 'h8biozhsun', 'h8vfc8heef', 'h909kwjfq7', 'h9kqvbylyv', 'h9n2pdcz6t', 'h9n8bci093', 'ha', 'ha1lolquaa', 'haahahha', 'haber', 'habitantes', 'hablaba', 'hablame', 'hablamos', 'hablan', 'hablar', 'hablara', 'hablarme', 'hable', 'hablo', 'habló', 'habrá', 'había', 'hace', 'hacer', 'hackers', 'haddad', 'haga', 'hagamos', 'hago', 'hahah', 'hahaha', 'hahahaha', 'hailey', 'hallan', 'han', 'haq4omqmjk', 'hará', 'has', 'hasta', 'hat', 'hatizwkhks', 'haver', 'haverá', 'havia', 'hay', 'haya', 'hayan', 'hazme', 'hb1ktuecxu', 'hb4w9aflxk', 'hbak5rwywo', 'hbeocvcvvj', 'hbgmxv7rgt', 'hbhvshrxbq', 'hbqqpai2ip', 'hbx8xu23da', 'hbxpofvhf3', 'hcllhr66xg', 'hcltdkvp27', 'hcpgzfblda', 'hcrrx1c5cp', 'hcsrqgf381', 'hd3xg3wewh', 'hd5kaaqp1w', 'hdtsem7urb', 'he', 'he1ubtw3pa', 'heawtzih4k', 'hebdo', 'heber', 'hecho', 'heegqckjwi', 'hehnpifhzu', 'heiixf9uge', 'helena', 'helicoptero', 'helicopteros', 'helicópero', 'helicópeteros', 'helicópter', 'helicóptero', 'helicópteros', 'heliovesp', 'hemocentro', 'hemominas', 'herança', 'herceptin', 'herdou', 'herencia', 'hermano', 'hermosa', 'heróis', 'hesdl8', 'hfefogvjhi', 'hfizlal2ax', 'hfnon9dqnl', 'hfpnlkspeq', 'hfspfe35nf', 'hftegj7qxo', 'hftogigrdj', 'hfuqcvw8bo', 'hg9wb7wmxh', 'hgqq3lpdfe', 'hgyiz31kog', 'hhbtoiil5h', 'hhfn3bxzbr', 'hhkmnnnh0v', 'hhnmovltkn', 'hhqkz149pd', 'hhx1fmighv', 'hhxfoypapr', 'hhxvoebyk6', 'hhy102jzg2', 'hicieron', 'hicimos', 'hillary', 'hipocrisia', 'hipócritas', 'historiador', 'história', 'histórico', 'hizo', 'hj', 'hj19qusbkx', 'hj8jrcmcre', 'hjinq9y8at', 'hjk30w', 'hjk30wslky', 'hjsmpx5gw4', 'hjuftrn7le', 'hk0wouko8i', 'hk5qfkbdyl', 'hkcpbtpr13', 'hkg7oett4l', 'hki9wwdeiu', 'hkmclxhr6w', 'hl55xp94px', 'hlcgf3utcx', 'hlh6xfzyz2', 'hlh8itxxig', 'hljmxwok4i', 'hlnuybuvbm', 'hlwplgmyfg', 'hm1dxjaekj', 'hm9zymfohs', 'hmjxumpnhq', 'hmnlkubni9', 'hmsmhugbnf', 'hmwogwv10l', 'hn72bfm1o0', 'hnazholfbc', 'hnwbgu4ztq', 'hnywzszs4r', 'ho2ymuxdj3', 'hoevnrz2by', 'hohpov9l8g', 'hoje', 'hola', 'holachilevierneschico', 'holei79uo2', 'holfyhpt0i', 'holiday', 'home', 'homem', 'homenagens', 'homens', 'homensvídeo', 'homicídio', 'homossexuais', 'homrf8e8vo', 'honesta', 'honra', 'hoooôôme', 'hor', 'hora', 'horas', 'horizonte', 'horrible', 'horta', 'horário', 'horários', 'hospitais', 'hospital', 'hospitalar', 'houve', 'hovabipfgs', 'hoy', 'hozl6ls5zj', 'hp4luvchvf', 'hp7w4xmsmu', 'hpjkc1n2ya', 'hpqycpz3iq', 'hpurdy6dlk', 'hpwbmrwibe', 'hq2zxmamw4', 'hq85roeghm', 'hqat00mqxc', 'hqdylpjqhz', 'hqelgdcuka', 'hqssygaucp', 'hquihfnvos', 'hqwpbrhawx', 'hqxy8hvigg', 'hrcpbyvevq', 'hrulkuisoj', 'hryudsljwi', 'hrzxa9pj59', 'hs', 'hs0iiilcxc', 'hs28q1vhq4', 'hsbsw3qxpa', 'hsgsxlsa82', 'hsjtmlo3v3', 'hskth0jrhu', 'hsu6kuwwji', 'hsup6ob4nu', 'hsv06pvpje', 'hsy5tdi4nf', 'ht', 'htt', 'httfvas84z', 'http', 'https', 'htymtjzfts', 'hu3roo1rjl', 'hu75ptg2a8', 'hubiera', 'hubieras', 'huevo', 'humanas', 'humano', 'humanos', 'hummmmmmmmm', 'humor', 'humrnog5io', 'huxeqbl5yv', 'huxfgoxukm', 'huyhaqopfw', 'hv7r3z3duu', 'hvly03lyt3', 'hvocamjnsf', 'hvukyzk4fa', 'hvvxilbxcy', 'hvvzfc7ek5', 'hw2w4rk95v', 'hwfqlgc8yv', 'hwnba8piln', 'hwtlivibzj', 'hwxdrzbbt7', 'hx2v9querz', 'hxgm', 'hxkkknefob', 'hxypkbzezr', 'hxyqkxjaqm', 'hybq6iamh7', 'hydof1wtik', 'hyjkfe5hk2', 'hymps3jjbd', 'hyq93opscl', 'hysw47j6zu', 'hywyxrdrw7', 'hyyza50gf1', 'hzauzd3kgh', 'hzlwj7yevf', 'hznplvdfzb', 'hzolldmt6p', 'hztoux2k4k', 'hzwxpktyav', 'hzxplojwdn', 'há', 'hábitos', 'i0ceqsrhm1', 'i0dsnaudhu', 'i0pw6wg80f', 'i13dkerek7', 'i13gvqovgq', 'i1lcdxxnnf', 'i1xvmztert', 'i1zxtf9imo', 'i244z7poqp', 'i2gixlbprp', 'i2i3tgioxy', 'i2i9vgivlr', 'i425yemloq', 'i5aq4nblvl', 'i5fdshfhi5', 'i5gornascimento', 'i5ndswhxr4', 'i5o8mzac09', 'i6dwpvq9go', 'i6dyvyugcl', 'i6o2fbmsk5', 'i6v1vv0ro2', 'i7crjwnzc1', 'i7kuoe1rlg', 'i7lgthgxm', 'i7oqfevyae', 'i7w7tdsvaa', 'i84ty3wj6b', 'i8hvqta9hr', 'i8jigr0frb', 'i94if3pcf2', 'i9nslzo7vb', 'ia', 'iaaxzpu0qt', 'iam4abh6dl', 'iapu', 'iasuchx7ti', 'iba', 'ibas', 'ibc', 'ibge', 'ibiraci', 'ibirité', 'ibit', 'ibituruna', 'ibiá', 'ibk8f0cirl', 'ibmec', 'ibmlsa7nba', 'ibom', 'ibssw3ujte', 'ibvbhr1dlv', 'iby9ifq7vw', 'icaq2bolmr', 'icdljmustz', 'iceberg', 'icjor14v4f', 'icvqw8z6yh', 'icvuwmprdf', 'iczhvyutar', 'ida84xoedh', 'idade', 'ideaan9s7z', 'ideia', 'identifica', 'identificado', 'idg1kn3uvp', 'idiomas', 'idiota', 'idjfaelew4', 'idmxkclzhu', 'idosa', 'idzvdtheed', 'ie9tfujisc', 'iehoqjtxz7', 'iem4n1r0fd', 'ieps', 'ieq', 'ies2dnzrc7', 'iex5nkt5n0', 'ieyzl7v7sv', 'if', 'if42lrvvq2', 'if5s8bwz9b', 'if6r8vuprq', 'if8bjhu9uz', 'ifgpdv6lqu', 'ifmgmezhjq', 'ifmphu7xip', 'ifodhfhoco', 'ifpmhbrte4', 'ifsul', 'iftm', 'ifytzyj2lp', 'ig', 'igigetg4ck', 'ignoran', 'ignorancia', 'ignorando', 'ignore', 'igp', 'igreja', 'igrj2prpiu', 'igual', 'iguarias', 'ih0usgxqmu', 'ih74x1kk7h', 'ihrsmo3ykh', 'ihvo0esq8e', 'ihxldiockv', 'ii', 'iidqcfxvgx', 'iif2d7ccyz', 'iif4tzwn6t', 'iigpexy4ni', 'iimshoybth', 'iisemavjes', 'iiwslazrso', 'iiyg2pcb5w', 'ijc6sbnqe2', 'ijqozlasut', 'ijuc1amjlz', 'ijwx8wi1ys', 'ikabd4wd3w', 'ikx7nnsw4n', 'ikykdcgl7w', 'ikzyowojlt', 'il', 'il48eerfla', 'ilegal', 'ilegalmente', 'ilgrejiafp', 'ilha', 'ilkqh', 'ilkqhekpem', 'ilrr0omht2', 'ilícitas', 'ilícito', 'imagem', 'imagens', 'imagina', 'imaginar', 'imaginem', 'imaginou', 'imateriais', 'imaterial', 'imbecil', 'imbé', 'img9vxs4nk', 'imi4jrt1z3', 'iml', 'imobiliário', 'imoral', 'impacto', 'impasse', 'impeachment', 'impeachmentpimentel', 'impede', 'impedem', 'impedida', 'impedir', 'impediu', 'imperador', 'impichar', 'implantar', 'implantará', 'implicado', 'importa', 'importante', 'imposible', 'imposto', 'imprensa', 'impressionante', 'impresso', 'impressões', 'imunizando', 'imunização', 'imvglntwph', 'imw4zopxzl', 'imóvel', 'in', 'in4jvrwanf', 'in8dyld99q', 'inacre', 'inacreditável', 'inacyc2yys', 'inamtzhrv3', 'inaugura', 'inauguración', 'inaugurada', 'inaugurou', 'inbox', 'inbqjf99io', 'incentiva', 'incentivando', 'incentivo', 'incidente', 'incidência', 'inclui', 'incluindo', 'incluiu', 'inclusive', 'inclusão', 'incompetente', 'incompleta', 'incompleto', 'inconsequência', 'incorreto', 'incremento', 'increíble', 'increíbles', 'incriminando', 'incrível', 'ind', 'indeniza', 'indenizado', 'indenizar', 'indenizaçao', 'indenização', 'indepencia', 'independencia', 'independente', 'indeterminado', 'indicação', 'indicia', 'indiciado', 'indignados', 'indignan', 'indignação', 'indiouiqwz', 'indirecta', 'indirectas', 'indisciplina', 'indivíduos', 'indnh8xxow', 'indxgqe0in', 'indícios', 'indústria', 'indústrias', 'inectuuelx', 'inedvczznk', 'inelegível', 'infancia', 'infantil', 'infeliz', 'infelizmente', 'inferno', 'infinite', 'inflação', 'info', 'informa', 'información', 'informamos', 'informando', 'informar', 'informatizado', 'informação', 'informações', 'informeeducação', 'informou', 'infrator', 'infratores', 'infrações', 'infva5htbu', 'infância', 'ingai', 'ingerência', 'inglesa', 'inhapim', 'inhotim', 'inicia', 'inicial', 'iniciativa', 'inn8y9rxg1', 'inocente', 'inocentes', 'inovação', 'inqtrnopeo', 'inquérito', 'inscrever', 'inscrições', 'insegurança', 'insolventi', 'inspecciones', 'inspirou', 'inss', 'insta', 'instabilidade', 'instagram', 'instalados', 'instante', 'instaurou', 'instituição', 'instituída', 'integra', 'integrado', 'integral', 'integram', 'integrantes', 'integração', 'integro', 'inteiro', 'inteligente', 'inteligência', 'intensa', 'intensifica', 'intensificada', 'intensificam', 'intensificar', 'intenso', 'intento', 'inter', 'intercepta', 'interesados', 'interessados', 'interessar', 'interesse', 'interessou', 'interferiu', 'interior', 'internacional', 'internado', 'internados', 'internas', 'internet', 'interno', 'interrompe', 'intervenção', 'intimação', 'introdutório', 'intérprete', 'invade', 'invadido', 'inveja', 'inventar', 'investe', 'investido', 'investidos', 'investiga', 'investigado', 'investigar', 'investigará', 'investigação', 'investigações', 'investimento', 'investimentos', 'investir', 'invito', 'invosk2law', 'inwtt20dor', 'início', 'io3sa1xf32', 'iodupiztxo', 'iot2dy9sbc', 'ip', 'ipaba', 'ipatinga', 'iphone', 'ipkgksoojr', 'ipn1fewwqi', 'ipv8tcxfjf', 'ipva', 'iq3frbibjm', 'iq3zzzuqsp', 'iq7wfwccxi', 'iqcqjyy2dh', 'iqfnoxnark', 'iqokypzese', 'iqvzwk5bvq', 'iqydhqmqnj', 'iqzszzs3rq', 'ir', 'iraniano', 'irbeacgpwv', 'irdbz1a5go', 'irene', 'irione', 'iriwthn3i3', 'irmão', 'ironicamente', 'irresponsabilidade', 'irritou', 'irá', 'irão', 'is', 'is9acawcqk', 'isdxzdyc3u', 'islâmica', 'isolado', 'israel', 'israelense', 'iss', 'issms0egat', 'isso', 'istambul', 'isto', 'istoé', 'isu4u2loth', 'iswaagdu2o', 'it1gll6omn', 'it1seaqro8', 'itabira', 'itabirito', 'itajubá', 'itamar', 'itamonte', 'itanhandu', 'itaobim', 'itapecerica', 'itapeva', 'itatiaia', 'itaverava', 'itaúna', 'itcq0zwe6k', 'itcqrhv71b', 'itgte4dkpj', 'itj3z1pg0t', 'ituiutaba', 'iturama', 'itvpzw4w8e', 'itynussmai', 'iu255pe9rq', 'iuettn5rs7', 'iv', 'iv255k8aw5', 'ivdezfhx9g', 'iveco', 'ivr7hld03v', 'ivrldo9eft', 'ivugvwp4bw', 'ivvcts2pr9', 'iwbbsmymdl', 'iwdwdvzvq0', 'iwp88vax3n', 'iww51tyaei', 'ix6pobxmr7', 'ix9yn7ukiq', 'ixafocfdfn', 'ixdgfkmaok', 'ixgvxi4ork', 'ixi3fgq5l7', 'ixkjhc8b6p', 'ixnxv8f9nm', 'ixonuwqieb', 'ixud3fjkkc', 'ixyzb30hhn', 'iyqmhft8ee', 'iz3ma8si53', 'izajg3oydu', 'izhnubypvk', 'izk7wurb8w', 'izolgcusnc', 'izquierdo', 'izwrkofvga', 'j0myw4qlqe', 'j0oo4suii5', 'j0qsgzejkg', 'j0wfg9bu4y', 'j0zodxfkz7', 'j2c9s2mqfl', 'j2fk6fh3na', 'j2gzdkdzpe', 'j2je0fi5uh', 'j2ndzlbjkc', 'j2w5njqvyn', 'j3mj2znmou', 'j3oagvktf0', 'j4ix7k1ma4', 'j4jeq4hc3k', 'j4n3a3zv7g', 'j4ontu26lv', 'j4skwkrr3n', 'j50cpqec50', 'j5gxja3bij', 'j5h39dk3ht', 'j5r8mwxa1q', 'j6fqcwsmyo', 'j6vawg3wy1', 'j6vo9jh44k', 'j6vtppinkf', 'j6xrjt2hfv', 'j75jyrvizu', 'j7a0uwi4lx', 'j7qoktgyqd', 'j7w0aj4sbe', 'j8rdbjttqe', 'j8rpca4ydg', 'j8ze6mipni', 'j90vifc8wk', 'j9bsvd934p', 'j9czqb1msb', 'j9p2dczaek', 'ja', 'ja5elcbdw0', 'ja6k4nhtwv', 'ja7gruvykl', 'jaajjaja', 'jacqueline', 'jaja', 'jajaja', 'jajajaja', 'jajajajaj', 'jajajajaja', 'jajajajajaj', 'jajajajajajajaja', 'jajajajajajajajajajajajajaa', 'jajajajajajajajajajajajajajaja', 'jakrctwwsz', 'jamais', 'james', 'jamás', 'janaúba', 'janeiro', 'janot', 'januária', 'japonvar', 'japão', 'jardim', 'jared', 'jatinhos', 'jato', 'jaunznpywq', 'jaw7jxxmed', 'jawktdugtd', 'jaíba', 'jb81zshzwr', 'jbrqzzd59h', 'jbuzjkqwi0', 'jbxflynapc', 'jbzwlmta7w', 'jc0tljqaqv', 'jca4rkafg9', 'jcduy3spka', 'jciazx8uqq', 'jckat6re8p', 'jclnb73xcw', 'jcmdzcctqc', 'jcqdw69ppr', 'jcthkuj0uo', 'jcup8dali3', 'jcyrkdumga', 'jd4ih1v4bs', 'jd7tb4', 'jd7tb4mvcf', 'jd9zkdrr6s', 'jdbxmxf5o7', 'jdiiyqb2h8', 'jdpgnjs3ob', 'jdysm1msqv', 'je3umybabs', 'jedpyfzsgo', 'jehzrrka65', 'jeitinho', 'jeito', 'jekr58orij', 'jeku8amhvw', 'jelq', 'jenipapo', 'jeqaf9gybl', 'jequitaí', 'jequitinhonha', 'jerusalém', 'jesus', 'jesvb62tyo', 'jeversona4', 'jevxxkoohb', 'jeynjak0dc', 'jfclipping', 'jfclipping_', 'jfdtzseebm', 'jftsqnxpvm', 'jg7qzvrtgk', 'jgarka3amc', 'jgd7ymblwn', 'jgeez6he92', 'jgrymqq4bg', 'jgssqnvzn4', 'jgyjmldxcd', 'jh1qcl7n2a', 'jh1ylyw4jg', 'jhesg0rtjg', 'jhgxima0xq', 'jhhgdijy2q', 'jhrf9r1x6s', 'jhvp2rzudw', 'ji1mm0uwnj', 'ji7r6h4w0g', 'jie2xji1t7', 'jimmy', 'jipiwvxy3p', 'jird7ptj7b', 'jisxjydl66', 'jj3yy2gpf4', 'jjbboomr9s', 'jjn8e3b2wu', 'jjnoylag80', 'jjubgjenpt', 'jjwplsuwoc', 'jk2nlshrhn', 'jkhwms2ir3', 'jkj8t88iza', 'jkkysx8fgg', 'jkm8cz4mtg', 'jlekytsh9c', 'jlm4t4cr0p', 'jlvqryk71x', 'jm1xywsnli', 'jm3pkrmkmc', 'jmbnakukws', 'jmqhu817em', 'jn', 'jn5tvtdzav', 'jnav2hl3nd', 'jndwkoqkyc', 'jngfoxu34p', 'jnhivvh2rj', 'jnmdqhkua6', 'jnqqfjbqxi', 'jnraovbehs', 'jnvldu7z4p', 'jnwlf43h6r', 'jnyjuaobaz', 'jo0bdahelc', 'jo1pa8yzxg', 'joana', 'jodem3j6y4', 'jodidas', 'joeas9wbvr', 'jof43e', 'joga', 'jogado', 'jogador', 'jogar', 'jogos', 'jogou', 'johannes', 'john', 'jomjmxovok', 'jop23u2lne', 'jorge', 'jornal', 'jornaldacultura', 'jornaldarecord', 'jornalhoje', 'jornalista', 'jornaloglobo', 'jornauto', 'jorrar', 'jorzpf35fl', 'joseph', 'josesoubrasilia', 'josé', 'jota', 'jovair', 'jovem', 'jovens', 'joxhezlmbl', 'joão', 'jp5cav5hk5', 'jp5pzeoggj', 'jpabna3h2d', 'jpaquvspmu', 'jpbo5nsygl', 'jpe2u4rbia', 'jpfmy0vfzs', 'jphfvmle5n', 'jpkcbidhtl', 'jpliyvxlli', 'jpluyodded', 'jprngh1oaq', 'jqkc64fnob', 'jqkiqywlol', 'jqocf1g8re', 'jqpicq4rge', 'jqunhhyuqn', 'jqvatxw4ux', 'jr66fnpvyt', 'jrbcolnr1c', 'jrbzmuvepz', 'jrdbtmyvdm', 'jrt31n9zqw', 'jryxzmckgz', 'js5rnk1ta9', 'jsbkamiquj', 'jsbquglq4h', 'jscssuopc6', 'jsev2t1squ', 'jsl7sq5gt9ção', 'jsqqmiduby', 'jsrtkybgmw', 'jtkxr0y7bt', 'jtlpihwglg', 'jto1bkgpa9', 'jtyenc5mx6', 'ju6xocpvcs', 'judiciais', 'judiciaisc', 'judicial', 'judiciário', 'juego', 'juguetes', 'juiz', 'juizdefora', 'julgar', 'julho', 'julio', 'julisrkjpf', 'julvskxmzz', 'jumjk5zuh7', 'jun7jyjs2c', 'junior', 'junto', 'juro', 'jurídica', 'jusd1aiwdo', 'just', 'justamente', 'justica', 'justin', 'justiça', 'juventude', 'juwxlfmkzo', 'juxpjupkqf', 'juya8dw25h', 'juízes', 'jv5vfm1sxp', 'jvftuefaa3', 'jvrnqbugtg', 'jw6p8in1bj', 'jwensaqwsp', 'jwji6cykwz', 'jwkuyqmuei', 'jwmkfmwua0', 'jwsvriws5s', 'jwwju8xprp', 'jwxlxi2mir', 'jxbz4viexk', 'jxgqdwcb1m', 'jxho3axd0o', 'jxkicjk1d3', 'jxkn5iwjnz', 'jxmx6pywup', 'jxqzbqsp8u', 'jxriyinzvg', 'jxxzcenikx', 'jybr5iubns', 'jyelasyeex', 'jyzdgbyyga', 'jzac3i4muv', 'jzedtyurr0', 'jzkrkcbat4', 'jzt4icvqcx', 'jzu4helbye', 'jzuz4qyxuc', 'jzvq9sfrdc', 'jzwg4m367i', 'já', 'júlio', 'júnior', 'k08vogsftf', 'k0cevtc9wd', 'k0psf5iy6f', 'k11c0jt8yu', 'k1dbvsus04', 'k1pnsqivra', 'k1wuudihq7', 'k2rrjuhgub', 'k2vtgohc8q', 'k2wq3g7h6g', 'k3cqi7icba', 'k3qehyznty', 'k3r6bx4yv2', 'k3sqhh1g4i', 'k4jvwuqwao', 'k4sesqbyee', 'k5ewdmak00', 'k5f3ysb0g6', 'k5ry23gqkz', 'k687j4rxg8', 'k6dsnbjltr', 'k6fnrq1aqd', 'k6li02jdlm', 'k6plvnshya', 'k6uhittlpz', 'k7vgozhh0l', 'k81xptmwul', 'k8h4czcdia', 'k8wiyvfq4y', 'k9s4q3qubn', 'k9udcljwlu', 'ka09men4xn', 'ka0uqhwfgk', 'kailtcylbj', 'kalil', 'kaqxrbo0re', 'kassab', 'katchup', 'kazimir', 'kbhq4u8yef', 'kbnyavin6m', 'kboa3zzp0x', 'kboiwxboik', 'kbqwobpvtb', 'kbunxloaro', 'kc22m5hrbn', 'kc9i1vuatf', 'kcak3zfbel', 'kcg5zmpvur', 'kckqmmp5yv', 'kcs3uufdxv', 'kcvivezpyd', 'kcxyyut9qr', 'kd6a0vzjkz', 'kdaahhh4p2', 'kdaivytthj', 'kdeixqmciu', 'kdglkcqkcg', 'kdioi9bqgy', 'kdlmzvg2ds', 'kdnpamlnub', 'kdveotbug0', 'ke8cwnwp5h', 'keh056u7hx', 'kekgi9ji2b', 'kekvqvu0wt', 'kelly', 'kerry', 'kerxgdbfj4', 'keypf2xwdn', 'kf1kwltqtz', 'kf3emtzftu', 'kfaizot54q', 'kfcl89aiw0', 'kfjb1tdwgx', 'kfr5ax104l', 'kfwkgidrp1', 'kg', 'kggnlugkax', 'kgu04a3uli', 'kgutvagndz', 'khloz9dbe3', 'khls7khmbc', 'khmrif7caq', 'khuzpkqaj5', 'khw34nxcgm', 'ki', 'kii7ohzwzg', 'kijmuxzzxq', 'kilos', 'kiniaap9vx', 'kinxwkgnn6', 'kiu6kjm6yo', 'kiw3mtxisr', 'kiycfitij9', 'kjjusfctlb', 'kjv0mtmrdp', 'kk', 'kkblnkrxfi', 'kkiszh8dmg', 'kkk', 'kkkk', 'kkkkkk', 'kkkkkkk', 'kkkkkkkkkk', 'kkkkkkkkkkk', 'kks2vhnnjx', 'kkscrr', 'kkuxx6acfu', 'kkyafktfes', 'kkz2odclt1', 'kkz6i8kjsp', 'kl5gsoaemu', 'klacqwjy3m', 'klby3onfnm', 'kljcj357gs', 'kllqqamjmd', 'klnurnsu4n', 'klrsfpt50k', 'klvyymfixg', 'klwbdhskwi', 'km4mywt76k', 'kmdlrziwzs', 'kmenifcohk', 'kmpcnkirup', 'kmwmi6p7xy', 'km²', 'kn2fbmqdds', 'kn8c0lcreb', 'kneer1ynhe', 'knf5pvj6m7', 'knilkzmu17', 'knimxseos8', 'knjei9sxxb', 'knxiydnol8', 'kodr1nsesw', 'kol7vsf09m', 'kosstyz2vb', 'kow60hvr4n', 'kpahu6dtwq', 'kpbnxrzcyd', 'kpu4yempdh', 'kpuwutjt4v', 'kpv3i3adin', 'kq8bpgokr9', 'kqbretywqt', 'kqdkbzkfm9', 'kqdkh0hlke', 'kqjziipfz5', 'kqpw21ekpz', 'kqqqab00pb', 'kqrtq69hst', 'kr6fhoqk4m', 'kr9kfv2tsy', 'krrlwvohbr', 'krsbc6s8hn', 'ks3tbugcd4', 'ks4y9arhuo', 'ks8zpnvijz', 'ksd4sp6vyu', 'kshdrtce9e', 'ksudx7c3nl', 'kswq4nzo1v', 'ksyovmovxs', 'kt3ps3uifp', 'ktalunri5q', 'ktavxgt9zs', 'kthpqa8ntl', 'ktipvatd2h', 'ktvroxypxp', 'ktxlr191su', 'kushner', 'kuxwm60qpb', 'kv5va4jnyq', 'kvm3pxuv7b', 'kvmvf6utp3', 'kvwashfnxd', 'kvwncsjbmg', 'kvwy5polls', 'kvyovzhq8b', 'kw0y6gqxac', 'kw4cpklxsr', 'kwc5uvgyut', 'kwc7dqdohw', 'kwmm8bqdba', 'kwwkl4cjh4', 'kwwtdr8ij4', 'kwyekjhtci', 'kxaibhfcud', 'kxi90w0nu1', 'kxo5jeo5dl', 'kxsua0ytbl', 'kxulerrxqp', 'kxyz3fn0en', 'kyc1mhkdtl', 'kylowdyrql', 'kyy02wta22', 'kyy1hhkv4x', 'kzkb2wpynv', 'kzpbcpqina', 'l0dr6ti9fx', 'l0hbmfbt6p', 'l0isbyyndl', 'l0uvszgjzw', 'l1onwcv8o1', 'l1swwztubj', 'l1uhqisnhu', 'l1v8gccf9n', 'l2l96wecdb', 'l2ok2m5mlp', 'l3jrak0g0l', 'l40plntlbb', 'l4b993d6jy', 'l4rczg3icg', 'l5gmil5tgx', 'l5gxkln9yn', 'l5naoxvnjr', 'l6e6zzqfwg', 'l6l0nkqrna', 'l7nr80lw9i', 'l7nub6jpsn', 'l8aqjexfxq', 'l8fwd4dio3', 'l8rtxdhv2d', 'l8ujuopgwy', 'l9l6e6a6ha', 'l9mdut4spg', 'l9ookjern2', 'l9padmyyg0', 'l9zkeewh8h', 'la', 'lacres', 'lado', 'lados', 'ladrao', 'ladrão', 'ladrões', 'lago', 'lagoa', 'lagoas', 'lagoinha', 'lahgcxu1wi', 'lajinha', 'lamenta', 'lamentable', 'lamentam', 'lamentaram', 'lanches', 'land', 'lanmysor3n', 'lança', 'lançamento', 'lançamos', 'lançará', 'lançou', 'lapa', 'lar', 'lara', 'larguem', 'las', 'lasciati', 'latergram', 'latinoamérica', 'lauderdale', 'lava', 'lavajatonews', 'lavoratori', 'lavoro', 'lavras', 'lazer', 'lb1xwktuti', 'lb6qd0hyin', 'lbd9ndrkdf', 'lbihx6wohw', 'lbrgfdkj5t', 'lbsoinczdj', 'lbue7tfkgb', 'lby24fp9nx', 'lbyss55vjz', 'lc510z7c9j', 'lc8zm0qeyr', 'lcg1fzq1au', 'lcm4nogqxs', 'lcqjsmofyc', 'ldi2noxirn', 'ldkjozk2o5', 'ldlw7ztliu', 'ldmegq4o8l', 'le', 'leandro', 'lechuguinodelasemana', 'leer', 'legado', 'legais', 'legal', 'legalidade', 'legislativa', 'legislativo', 'legislativos', 'legislação', 'legye0h92m', 'lei', 'leia', 'leila', 'leio', 'leite', 'lembrando', 'leme', 'leopoldina', 'ler', 'les', 'lessa', 'leste', 'lesão', 'letivo', 'letras', 'letxfdo1cg', 'leva', 'levados', 'levam', 'levanta', 'levantarte', 'levar', 'levarem', 'leve', 'leves', 'levi5bdwts', 'levántatefinal', 'lexmnf87qp', 'ley', 'leão', 'lfajqzmimp', 'lfd2lnluin', 'lfdmrymqat', 'lfg', 'lficltfvxz', 'lfk8mqma4w', 'lfn33iwy2j', 'lfrooc5ml5', 'lfyc85lszm', 'lgessiolxa', 'lgpjvjt6uy', 'lgyi3gamtd', 'lh4uuis4pe', 'lh5zogrv6w', 'lh74l4tmh2', 'lh7px1e5ft', 'lhbxycb2pd', 'lhcjg', 'lhe', 'lhep83vgi6', 'lhfboo0ax4', 'lhifq3cyim', 'lhmkcdeqv9', 'lhre9ihzqp', 'lhrzbit7hi', 'lhvtj1zsnu', 'lhyick6oi8', 'libera', 'liberado', 'liberar', 'liberação', 'liberou', 'libras', 'libretas', 'licenciamento', 'licgoptlh4', 'licitação', 'lid570mgde', 'lidera', 'lideranças', 'liga', 'ligado', 'ligados', 'ligando', 'ligue', 'lihkhhoswu', 'likess', 'liktfjpjz4', 'lildbrvnrd', 'lilmifo2mv', 'lima', 'liminar', 'limite', 'limites', 'limpeza', 'limpia', 'linda', 'lindas', 'lindo', 'linhas', 'link', 'links', 'linn', 'lisboa', 'lista', 'literatura', 'literário', 'litoral', 'living', 'livre', 'livreme', 'livres', 'livros', 'lixbns3hte', 'lixlzk78t6', 'lixo', 'lição', 'lj4tvgtfdk', 'lj6eeo0r1r', 'ljhmeh4a4y', 'ljivs6djvu', 'ljx6ryavsk', 'lkc8nj3dpl', 'lklhpittai', 'lkqfpxwyvh', 'lkrpb6ybeb', 'lkw2mqov5z', 'll4hnpcxfm', 'll74gckb2t', 'llama', 'llamadas', 'llamado', 'llanto', 'llbunjhgeo', 'llcrkztv4c', 'llega', 'llegará', 'llego', 'lleno', 'llf2y1i3fg', 'llk7lfclv7', 'llneztn8oe', 'llorar', 'llppkdx1fi', 'llqsmyvwtl', 'llrlzhezrj', 'llrqqznvrb', 'llsox6iyun', 'lmcapjexk9', 'lmcm20xrkj', 'lmi69uxllk', 'lmjv5yv3da', 'lmqgjhjgau', 'lmqugoomcr', 'lmxe4mdt7f', 'ln6mk8ryqz', 'ln7lulz0sm', 'lnafvhy6zp', 'lngm9tiztq', 'lniz80hmnk', 'lnsrj1jepg', 'lnsx0iyuyt', 'lnszbnqydn', 'lo', 'lo8lgrljuq', 'lobato', 'locais', 'localiza', 'localizada', 'localizadas', 'localizado', 'localizados', 'locatel', 'locação', 'loco', 'logo', 'lohjrpi0o2', 'loja', 'lojas', 'lojistas', 'lokc7woqrm', 'lomásleído', 'longas', 'lool', 'lopes', 'lopkgmjuod', 'loquito', 'lore3efgaf', 'lorenzo', 'los', 'lot1aobfa6', 'lota', 'lotado', 'lotação', 'lote', 'louco', 'lourenço', 'lozjadnu6y', 'lp15ictxl6', 'lp30kdi3vf', 'lp4uzu59b7', 'lp5ke4ddno', 'lp8mmqqbxx', 'lpaq7oe2e2', 'lph1zmyelp', 'lpw4fzvwgs', 'lpz2so1aec', 'lq3krwzpyi', 'lq8ctsnfta', 'lqjtr7v5ir', 'lqnfzkpyo3', 'lqpxepf3en', 'lquf2luh7s', 'lqyxtgndbz', 'lrdetkvj4y', 'lreprldasi', 'lrttmzgcop', 'lrvdtsuzkm', 'lrydavckng', 'lrzcbmwkwb', 'ls2xdqmooo', 'ls7edhgg5f', 'lsgkwyzsv2', 'lsqcik1ugn', 'lt1u9zvxig', 'lt8mfa4xky', 'ltda', 'ltdstqobj4', 'ltfasti6ep', 'ltotyukxca', 'ltps94jh3v', 'ltvo8kybma', 'lu', 'lucas', 'lucha', 'lucr', 'lucra', 'lucro', 'lueguito', 'lufk61n2ps', 'lugar', 'lugares', 'lugarzinho', 'luggtz5wqf', 'luiz', 'lukxjilvpm', 'lula', 'lulanacadeia', 'lumia', 'lund', 'luta', 'luto', 'luxo', 'luz', 'luzia', 'luís', 'lvaiomuf3p', 'lvvktlohug', 'lvw7uvetjt', 'lwgwdqu6vt', 'lwhdqqgxii', 'lwnqarfw29', 'lwujecpl2u', 'lxehccz4ts', 'lxkws5ihkk', 'lxpyoljt9d', 'ly', 'ly36r7yp4f', 'ly6gfvkckf', 'lybu40xljp', 'lyfggot0hj', 'lymda', 'lyswgulkto', 'lyuxkq5o13', 'lz3yczjkeb', 'lz6ovgokba', 'lz8it0htqy', 'lzbu0lhndq', 'lze3kk', 'lze3kkbsad', 'lznxr5m1bj', 'lzz7yqcivd', 'lá', 'láser', 'líder', 'líderes', 'língua', 'líquida', 'lógica', 'lúcia', 'm01oy2i4sd', 'm0borfdiaj', 'm0tq3gerqj', 'm0ze5klvgy', 'm17eht5rhs', 'm1cltkhmlt', 'm1e8ye5xis', 'm1q7jvrs72', 'm27rn593fa', 'm2dnol6ffp', 'm2shbsb1tr', 'm2uzoikieb', 'm3jjqcb3qo', 'm3qvk9wn3t', 'm3te8rgj2d', 'm3warxwnhv', 'm5dkjwrffb', 'm5l4vid0eq', 'm5qfgsc3wv', 'm5zhwcduw7', 'm6ls3bzeoo', 'm6vysrcl4j', 'm6x377gfpx', 'm6ze6hvgja', 'm79smmohp8', 'm7owb87elq', 'm7qlmrweu1', 'm7wwe9ct91', 'm892uragsv', 'm8iqeuynhr', 'm8n5tj4ctk', 'm8pzfvihmj', 'm8w7bdgnbe', 'm95lhjij8w', 'm9bzguymty', 'm9dxmvfxxl', 'm9nnzl1spl', 'm9tahofucm', 'mabb4airmu', 'macaco', 'macacos', 'macapaense', 'machado', 'maconha', 'madreeeeee', 'madrugada', 'madura', 'maduro', 'mae', 'mafhnbabl0', 'magalhães', 'magistrados', 'magistratura', 'mai', 'maia', 'maio', 'maior', 'maiordeminas', 'maiores', 'mais', 'maislidas2016', 'maiw5cwlze', 'major', 'makro', 'mal', 'maldita', 'maldição', 'malll', 'malta', 'maluco', 'malária', 'malévich', 'mama', 'mamar', 'mamá', 'manaus', 'manchete', 'mancheteé', 'manda', 'mandados', 'mandando', 'mandar', 'mande', 'mandou', 'mandó', 'maneira', 'maneiras', 'manga', 'mangalô', 'manguaça', 'manhuaçu', 'manhumirim', 'manhã', 'mania', 'manifestam', 'manifestantes', 'manifestarse', 'manizales', 'mano', 'manobra', 'manolo', 'manos', 'mantena', 'manter', 'mantém', 'mantêm', 'manutenção', 'mar', 'marajá', 'maravilhoso', 'marca', 'marcado', 'marcandole', 'marcante', 'marcação', 'marcelo', 'marcielbmoreira', 'marco', 'margens', 'marginal', 'maria', 'mariana', 'marido', 'maringá', 'mario', 'marketing', 'marlidzdz59', 'marmitex', 'marró', 'martinez', 'martinho', 'martins', 'mas', 'masculino', 'massacre', 'massacres', 'masturbação', 'mata', 'matado', 'matam', 'matan', 'matar', 'matemática', 'materiais', 'material', 'mateus', 'mathias', 'matipó', 'mato', 'matou', 'matraz', 'matricule', 'matéria', 'mau', 'maus', 'mayor', 'maçonaria', 'mañana', 'mb9efwkyic', 'mbl', 'mbswuefps8', 'mbwfyizpe1', 'mc5lcjgger', 'mc96und7wj', 'mccnjv1sln', 'mclqeg8wbe', 'mcnwoavhir', 'mcpskefnk5', 'mcznealosq', 'mdo95wwaxd', 'mdvouzxlqn', 'mdzuuranep', 'me', 'meat', 'medellín', 'medicaid', 'medicamento', 'medicina', 'medida', 'medidas', 'medina', 'medio', 'medioli', 'medo', 'medíocre', 'mef2xhtmb6', 'megas', 'megdzqrbsw', 'meio', 'meirelles', 'mejor', 'mejore', 'melhor', 'melhora', 'melhorado', 'melhorando', 'melhorar', 'melhorariam', 'meliante', 'memória', 'memórias', 'menciona', 'mencionarte', 'mencionou', 'mencionó', 'mendes', 'meningitis', 'menino', 'menor', 'menores', 'menos', 'mensais', 'mensaje', 'mensaleiro', 'mensalão', 'mental', 'mentana', 'mente', 'mentiras', 'mentirosa', 'mercado', 'mercados', 'mercados_im', 'merda', 'merdas', 'merece', 'merida', 'mesa', 'mesalazina', 'meses', 'mesma', 'mesmo', 'mestrado', 'meta', 'metade', 'metadedobrasilpertenceaospolíticosaoutraédosbancoseempresários', 'metas', 'meter', 'meterme', 'metido', 'metropolitana', 'metrô', 'meu', 'meunldm4h8', 'meus', 'mexlwjgweh', 'mey62xnrrc', 'meyg65de5i', 'meyr67049q', 'mfaoaolsdy', 'mfexjy5eyx', 'mffiyick3m', 'mfgt6qs9im', 'mfo7jwjqem', 'mfue5hpchc', 'mg', 'mg_', 'mg_y_elegis_mi_estado_', 'mgc', 'mgeae9y99g', 'mgenwsc8nq', 'mgfe5r2dlw', 'mgkdfbykpk', 'mgnrz8fsmk', 'mgt', 'mgtv', 'mhm6osszvh', 'mhwgcknmy8', 'mi', 'mibjyw7rry', 'mica', 'micaela', 'michael', 'michel', 'microsoft', 'miedo', 'mierda', 'migrantes', 'miguel', 'mihamojjqp', 'mil', 'milhão', 'milhões', 'miliardi', 'militar', 'militares', 'mim', 'min', 'mina', 'minas', 'minasgerais', 'mineira', 'mineirao', 'mineiras', 'mineiro', 'mineiros', 'mineirão', 'mineradores', 'minero', 'minha', 'minhas', 'ministra', 'ministro', 'ministério', 'ministérios', 'minita', 'minitas', 'minuto', 'minutos', 'mio', 'mipzzvfydn', 'mira', 'miraba', 'miranda', 'miriam', 'miro', 'mirtn32ugm', 'mis', 'misiones', 'mismas', 'missio', 'missão', 'mitad', 'mixaria', 'mj4tohlyxw', 'mjhv0ob4lz', 'mjpyauqg2s', 'mjtisfrcux', 'mjzmxjygkn', 'mk8lpqgyej', 'mkeg9dyvv4', 'mkosjirim0', 'mkyubqheky', 'mld0vuolgz', 'mll3vmr6cq', 'mlnzifxmel', 'mlusrfrpd1', 'mlwldylw1h', 'mlxsspr40b', 'mm6isdpt5l', 'mm9nmchupn', 'mmcw5wyyl8', 'mmhph71ec0', 'mmii8nckxa', 'mmkc5bctg4', 'mn7pquzuq8', 'mnc9ozwfpv', 'mne7lyixuc', 'mnnuccc750', 'mnoudynpl3', 'mnrv9bbzvn', 'mo', 'mobilità', 'mobilizam', 'mochila', 'mochilar', 'moda', 'modelo', 'modernidade', 'moeda', 'moema', 'mogol', 'moisés', 'molestado', 'molhado', 'momento', 'momentos', 'monitora', 'monitoram', 'monitoramento', 'monopólio', 'monsanto', 'monstro', 'monte', 'montes', 'montão', 'moqqamqvp5', 'mora', 'moradia', 'morador', 'moradoras', 'moradores', 'moraes', 'moral', 'moralidade', 'moralmente', 'morando', 'morar', 'moratória', 'morcegos', 'mordomia', 'mordomias', 'more', 'moreira', 'morfando', 'moro', 'morre', 'morrem', 'morrer', 'morreram', 'morreu', 'mortal', 'mortalidade', 'morte', 'mortes', 'morto', 'mortos', 'mosknhmwnv', 'mosquito', 'mosquitos', 'mostarda', 'mostra', 'mostrando', 'mostrar', 'motim', 'motiva', 'motivação', 'motivo', 'motivos', 'moto', 'motocicleta', 'motocicletas', 'motociclista', 'motorista', 'motoristas', 'move', 'move0mklgt', 'movilidad', 'movimentada', 'movimentos', 'mp', 'mpgpohlwsg', 'mphmrzic8d', 'mppl4icxmc', 'mps', 'mpthmb5ane', 'mpuw1wmtpx', 'mpwn14rlrn', 'mpxxkx6fqv', 'mq6otp', 'mqci7ibigj', 'mqdee7k9u1', 'mqdt', 'mqdtoogpto', 'mqeoamshjh', 'mqjuvpmvmx', 'mqxotnqm2q', 'mqzreyrdgj', 'mridzsljri', 'mrj7moesgy', 'mrlyuqwevt', 'mrmfxbc4o1ção', 'mrortos', 'mrvqhdvc62', 'ms', 'ms20vdgzbq', 'ms3f7svjnz', 'msboe813fb', 'msbxvkbzlc', 'msjloxmwmt', 'msm', 'msqsldmrar', 'mswfabgkww', 'mt', 'mt91yyyb4c', 'mtcoluzi25', 'mto', 'mtos', 'mttxdnz3id', 'mtvtlyvzpe', 'mtzq52qabq', 'mu1zkpu1fg', 'mu3nl3mbvh', 'mucho', 'mucuri', 'muda', 'mudança', 'mudanças', 'mudar', 'muero', 'muertes', 'mug', 'mug0e6p6yu', 'muhfzcbcpc', 'muhwhbp8rx', 'muita', 'muitas', 'muito', 'muitos', 'mujer', 'mulher', 'mulheres', 'multa', 'mundial', 'mundo', 'muneyyvkeg', 'municipais', 'municipal', 'municipio', 'municipios', 'município', 'municípios', 'munição', 'muniçõe', 'munições', 'muo32zdxii', 'muriaé', 'muro', 'murudv0g5a', 'museu', 'musicagratis', 'mutirão', 'muwjjvcbga', 'muy', 'mv2aqjwr9n', 'mvdkkxy8lk', 'mvdracpuih', 'mvgmfjfney', 'mvsu6r2jn2', 'mvul0j8zxm', 'mvv01ikagj', 'mvvvelqkje', 'mvwmbedmfw', 'mwf4lbltum', 'mwfjjzhxkh', 'mwpuvg49ra', 'mwr9dusfh7', 'mxhbbwwrsv', 'mxifmsshgj', 'mxnzmdchm1', 'mxo6mbq8at', 'mxyqfhvqdw', 'mylku1a7yr', 'myria0t2sw', 'myyykxgazr', 'mzetlzecds', 'mzwkl5xwfb', 'mágico', 'máquinas', 'mário', 'más', 'máxima', 'máximo', 'mãe', 'mão', 'mãos', 'média', 'médica', 'médicos', 'médio', 'mérito', 'método', 'méxico', 'mês', 'mídia', 'mídias', 'míngua', 'mínima', 'mínimo', 'móvel', 'mônica', 'múmia', 'música', 'n0v7xedrjh', 'n0yy9m2onk', 'n0zrqawgmt', 'n12tlvclwc', 'n1a1rdftmc', 'n1cb4azzux', 'n1rfjdrpzu', 'n1sp33rujh', 'n1ubwenwvk', 'n1xovz10vm', 'n1yggynhoq', 'n2f0aehrrw', 'n2fvkbiort', 'n2sa5npk17', 'n3oehwjlwm', 'n3u3za4504', 'n4dmleoeqe', 'n4il0whppn', 'n4vbj0ocyy', 'n4zn8ihx55', 'n5otehcmlw', 'n7rcrdsquy', 'n7utrudle7', 'n8peui3fwm', 'n8stfzvmta', 'n8xiwtnlu1', 'n9uuvkc1gq', 'n9wyhnjzg4', 'na', 'na07wbwoos', 'na3jj0vccw', 'na7dczvqfr', 'naar7zlbzy', 'nacional', 'nada', 'nadie', 'nagopn6ebx', 'naje8qrane', 'naly4uxb5h', 'namorada', 'namorar', 'namídia', 'nao', 'naoconfiamosnostf', 'naofrhhr5x', 'narcoterrorista', 'narrativa', 'nas', 'nasb9htbhj', 'nascente', 'nasceu', 'nasci', 'natural', 'nauwi6oazz', 'navarro', 'navegantes', 'naw7blxy7y', 'nazuushmeb', 'nb1521dsvx', 'nb2awumdtg', 'nbgjplfpwr', 'nbkjz2t6ad', 'nbkwsrunsz', 'nbo9fgjjsm', 'nbwp0co9p1', 'nby2kvgk7b', 'nczbopgeqy', 'nczha1kgyq', 'nd57r5f6z3', 'nd7w4yzv2j', 'ndieabgivk', 'ndk9uvdogb', 'ndm6dsuy8g', 'ndmnrkbcnz', 'ndmvqak49e', 'ndvvd6kdly', 'ndvymruotk', 'nebsdqi7z0', 'necesito', 'nefvrir4sp', 'nega', 'negam', 'negar', 'negativa', 'negociar', 'negociatas', 'negociação', 'negociou', 'negra', 'negros', 'negócio', 'nele', 'nem', 'nemaia2df0', 'nenhum', 'nenhuma', 'neokplzrku', 'nepomuceno', 'nessa', 'nesse', 'nesta', 'neste', 'netanyahu', 'network', 'neutra', 'neves', 'new', 'newdflaz73', 'news', 'newton', 'nf6dsbb9xl', 'nfeeco5bid', 'nfogadpmuu', 'nfrunvqeth', 'nfyovubchp', 'ng4sbu3hnw', 'ng580mmkux', 'ngaygax4lg', 'ngdbyeeoff', 'nghryjbqgd', 'ngi8ifxfgf', 'nglxrrujko', 'ngn0yy1cmm', 'ngp41uljxs', 'ngyj', 'ngyj0wxasd', 'ngyjzyvs83', 'ngzrl9xz9v', 'nh1lgyarfl', 'nh5uais7dx', 'nh6thepv4g', 'nh7hfdobhk', 'nhapim', 'nhieydvseo', 'nhltu4swkb', 'nht565ohqn', 'nhuoerrwco', 'ni', 'nieto', 'nif4d6r67d', 'nignrr3lb7', 'ninguna', 'ninguno', 'ninguém', 'ningém', 'nipeomwxmh', 'niscrvtik4', 'nisso', 'nitlqcejw8', 'niuhbkqie3', 'nivel', 'nix2qnxvoi', 'niyx4vhflb', 'niña', 'njafcmk36k', 'njnnjoabgt', 'njq1b3ifrn', 'njqnn3e5tm', 'njv2wcmihj', 'nk4c5ihnug', 'nkccx1dcll', 'nkhpth3sqb', 'nkic8wz8qn', 'nkknvlopvj', 'nkniywe0n2', 'nknjhfusmv', 'nkudg9z9ln', 'nkzkfrkcjm', 'nlc1wgglxz', 'nldbftv5ju', 'nlgtwjtyk0', 'nlw4o2ufc3', 'nlxgwiu5ps', 'nm173b071o', 'nm8ijw814u', 'nmijtds84u', 'nmjiehrwsd', 'nmn1stxt2d', 'nmoutaiogr', 'nmry1omdsp', 'nna9yfp4bp', 'nne1vqmznp', 'nnef29tjuo', 'nni0bg4ugh', 'nnoemtcz8j', 'nnqzgyui8l', 'nnx55thyzj', 'no', 'nobreza', 'noche', 'noches', 'noel', 'noite', 'nomas', 'nombre', 'nome', 'nomeia', 'nomes', 'nomwohfr2a', 'nomás', 'non', 'nordeste', 'normalizados', 'noronha', 'norte', 'nos', 'nose', 'nossa', 'nosso', 'nossos', 'nota', 'notas', 'note', 'noticia', 'noticias', 'noticiasdorenan', 'notificación', 'notificadas', 'notificado', 'notificações', 'notícia', 'notícias', 'nova', 'novamente', 'novas', 'nove', 'novembro', 'novia', 'novidade', 'novio', 'novo', 'novos', 'nowu4x8izv', 'nozhhfv08e', 'noção', 'np2gadyzdm', 'npg68mgiu6', 'npnm97v4yw', 'npnv2ntmab', 'npqmw5gydh', 'npqyw4qwff', 'nq', 'nq0vgx5jdj', 'nqdy61ef8y', 'nqs7hmcllw', 'nqsvbjrv1t', 'nquhzkf5bm', 'nqv', 'nr28bk97ci', 'nratvpbcxm', 'nrcxues75d', 'nrfiqmid9x', 'nrfxohczyq', 'nrnc3wms9k', 'nryzvj2exg', 'ns', 'ns4h3fyhrw', 'nsnrj0rrqp', 'nso8so6hal', 'nsotsovgkr', 'nssclq5736', 'nsvip1s', 'nt93mo7lk5', 'ntcd4w49qr', 'ntd0wx3af4', 'ntfffaempl', 'ntngensuid', 'ntqeld8u51', 'ntr3vcnjoa', 'ntxzgadtvh', 'ntzzaerm4b', 'nudes', 'nuemgpsuy0', 'nuestra', 'nuestro', 'nueva', 'nuevas', 'nuevo', 'nuevopri', 'nuhhbvdw8x', 'nuhz90erzd', 'nukb62ujtj', 'num', 'numa', 'numerosa', 'numydrqihe', 'nunca', 'nutricionista', 'nuv5fk0zwx', 'nuvens', 'nuwhqt1lol', 'nv', 'nv1pqfuadx', 'nv86js8ahs', 'nv8lgzbmew', 'nvepkuqgga', 'nvmyfmr6cz', 'nvsyzc2ko6', 'nvw6azdzey', 'nvwvqffpg1', 'nw3aosjrzj', 'nwn4twwpu0', 'nwpm08lq26', 'nwtiwwlpnf', 'nxdoz6lubr', 'nxdzqghrcp', 'nxghnoxbph', 'nxxxd7pyhh', 'ny', 'nydqihwlkj', 'nyf4zqizqm', 'nyfmvn', 'nyfmvnfirl', 'nyghoj7dhc', 'nypwagz0yy', 'nyqtwzz2ii', 'nysvq7ddlp', 'nz7xdk1dur', 'nzbmswxyur', 'nzdec692', 'nzssbnbbad', 'nzurqsw68j', 'nzuz2gqimp', 'nº', 'não', 'nãoconfiamosnostf', 'né', 'níveis', 'nível', 'nós', 'número', 'o0ahtxizbo', 'o0bmaw5fns', 'o0jncgzg1q', 'o0pjostoob', 'o0tk3qvrhn', 'o2lgpphili', 'o2ms2k5cmx', 'o33qkwf0dw', 'o3qs5xmynp', 'o4jm8sklph', 'o5jjsmhqpg', 'o5m5zsf5yx', 'o660kja7pv', 'o6hsnoghjd', 'o6jtnqawkm', 'o71txofkxl', 'o7ivlnsacs', 'o7sei5fsbi', 'o7ty6ybjvq', 'o7xwuls3qm', 'o8y7esoqj4', 'o9vmlvympo', 'o9zfxqm4jl', 'oab', 'oas3eo8ibs', 'oavfb7mrza', 'obama', 'obf6nvfyjo', 'obhave6j95', 'objetivo', 'objetivos', 'oblsgfwoyt', 'obra', 'obras', 'obrigada', 'obrigado', 'obrigados', 'obrigalo', 'obs', 'observatório', 'obter', 'obu4cuv2t8', 'obx8bklbjp', 'obycjeqkco', 'ochzvjfij5', 'ocorre', 'ocorrer', 'ocorreu', 'ocorrido', 'ocorrência', 'ocpm0mxpig', 'ocupantes', 'ocupações', 'ocurr', 'ocurriendo', 'ocvljyfz6y', 'ocxmenitgm', 'od1kzzo28z', 'odbcw8x3dv', 'odbqtluyap', 'odcq7mkeh0', 'oddbdmw4ye', 'odebrecht', 'odeio', 'odelmo', 'odeltstliw', 'odiando', 'odio', 'odjlcw2v7q', 'odkczmxvkk', 'odrmwtrjin', 'odv9s4n68x', 'odys7e57km', 'oe7wlpsaw0', 'oecco5eyr6', 'oeksmcstgo', 'oekvryfjt2', 'oen8qj5mx5', 'oepabubf05', 'oepako5wo3', 'oeryi6rha9', 'oeste', 'oetu0fix9h', 'oewuynaj8z', 'of', 'ofcyayaaxk', 'ofdi2mcuzx', 'ofensivo', 'oferece', 'oferecem', 'oferecer', 'oferecerá', 'oferecida', 'oferecidas', 'oferecido', 'oferta', 'off', 'ofgkjmc3s7', 'oficiais', 'oficial', 'oficinas', 'ofk3tuqcaa', 'ofw98b4rel', 'ofício', 'ofícios', 'og', 'ogaa5w9s69', 'ognmduhamb', 'ogqje0jek5', 'ogqwx0icad', 'oh', 'oh2jrhaqzq', 'oh4rrgfxnj', 'oh5wtuwrto', 'oh6ymhzsns', 'ohbfdo7utv', 'ohbumzxufw', 'ohdrikufe2', 'ohgbe4uevy', 'ohixywzcls', 'ohqefcmcgz', 'ohugmesaw4', 'ohvtbtsrzl', 'ohyghp42ve', 'oienkaps4p', 'oihgrq3dmy', 'oitenta', 'oito', 'oixknz22rr', 'oj1ymzlqho', 'oj5tpmtmul', 'oj90ktqgee', 'oj9gqh23vg', 'ojcvgju5ch', 'ojlrt18r2n', 'ojnzgqdf7k', 'ojyniurjoy', 'ok', 'ok4trjcoxk', 'ok7ikpqshy', 'okf5fdnfvx', 'okflsgiess', 'okgjrxthdl', 'okldux4zqr', 'oklhvija5y', 'okoeqiipir', 'okspuzuqup', 'okxwztehxj', 'okz9c8nsfq', 'ol7tvilhf7', 'olegário', 'olha', 'olham', 'olhar', 'olhem', 'olho', 'oliveira', 'olá', 'olímpio', 'om2mk5pcqi', 'omg', 'omgggg', 'omiso', 'omkua937cd', 'omoq20elnd', 'omp8iaqahc', 'oms', 'oms9rljy1v', 'omxkwof8rb', 'on26ex1aqc', 'on2ouvxhw3', 'on5hldb1qu', 'onauaeoihr', 'oncd5s3utz', 'oncqsawclg', 'onda', 'onde', 'onibus', 'oniydksrmj', 'ontem', 'onu', 'onwexnmgxo', 'ooed0ex6qg', 'oohulnvui6', 'oojj3gcokw', 'oopzij8ahc', 'oottiiqjje', 'oox3hkzfev', 'ooynnzonxw', 'op0oqzea6u', 'op3mh6atzs', 'opal4xrhsn', 'opas', 'opera', 'operacaobe', 'operacaobet', 'operacaobeta', 'operacaobetal', 'operacaobetala', 'operacaobetalab', 'operación', 'operando', 'operação', 'operaçãobetalab', 'opnar9fy6z', 'opo3z0r22k', 'oportunidad', 'oportunidade', 'oportunidades', 'oposição', 'optar', 'optaram', 'opvgndebtp', 'opõe', 'oq5szzshde', 'oqcxhagwuq', 'oqxpp1csu1', 'oqygdcyagh', 'oracle', 'orca', 'ordem', 'ordenar', 'ore', 'organizado', 'organização', 'organizações', 'orgulhar', 'orhdyyrpj5', 'orienta', 'orientação', 'orientações', 'oriundos', 'orndorkwp5', 'oroeiswqux', 'orqhlxr3ag', 'orquestados', 'ortec', 'orto', 'orutrh7mmk', 'os', 'os1nkhosen', 'osasuna', 'oscs', 'osea', 'osevhhvnkp', 'osh1briflt', 'osino', 'osmplykfia', 'otae3i2yhl', 'otdbrnadhg', 'otiemqwj7l', 'otp9fr3dtr', 'otra', 'otras', 'otro', 'otrora', 'ou', 'ou69wkmbb1', 'ou6ddqum0a', 'ou8myflzaq', 'oudlf6dd0l', 'oufqouo5ed', 'ouixrnzu92', 'our82dvgih', 'ouro', 'ousaram', 'outras', 'outro', 'outros', 'ouvir', 'ov2yjy8ylj', 'ovggracmzv', 'ovidio', 'ovocop0bdv', 'ow', 'ow6g9helta', 'ow6jzltxdz', 'owat3fhztk', 'oweexp0nyv', 'owgxpb3qlf', 'own4ovzh9y', 'owovdh0mpw', 'owqdfiejx3', 'owry3chivp', 'owsz9x2f6k', 'owu0zvc6jl', 'owxw4qdzbb', 'owy5q7nste', 'oxhi33n3pt', 'oxkqdssvv3', 'oxkw1tqf0h', 'oxmbqxirdb', 'oxwhqq2pkr', 'oy6dwe6ojy', 'oyytvat1ai', 'oz8mukxq5x', 'ozfayxvt8j', 'oziwshucfs', 'ozkpezgbcm', 'oznsnyc3ke', 'ozo7uz3c7z', 'ozsiwsoc8z', 'ozvzkh8txc', 'p0ap38sl7i', 'p1advqzhdj', 'p1gb4mdujh', 'p26ho2hw5q', 'p2cyevymof', 'p2ueudk3ql', 'p2urut7cbh', 'p3wnltnsb8', 'p46vdxth4i', 'p47oinxndt', 'p4kuldoy8r', 'p53yk3kk4u', 'p58kkapepm', 'p5b3fqn3kx', 'p5bky10j2f', 'p5m38jcmzo', 'p5nfsabgsr', 'p6ka9qfsai', 'p6xmcc0oti', 'p75t8hki4i', 'p7ldd7u9p5', 'p7p00m9aar', 'p8dhvetv5c', 'p8j1f3oejt', 'p8opi8l9us', 'p8qrjgjs71', 'p9bmtad7b3', 'p9moyzojve', 'p9opgt5mrn', 'p9r7frtpn2', 'p9tqvqfeq9', 'p9ujdo495i', 'p9wn4uqiv1', 'pa', 'pa5bfm3rws', 'paciente', 'pacientes', 'paco', 'padaria', 'padilha', 'paes', 'pafqnomivd', 'paga', 'pagamento', 'pagando', 'pagar', 'pagarlas', 'pagará', 'pago', 'pagou', 'pague', 'pai', 'painelalvorada', 'pais', 'paiva', 'pakh9skhfm', 'pakiayburz', 'palavra', 'palavras', 'palco', 'palestino', 'palestra', 'palestras', 'palhaço', 'paliativo', 'palmares', 'palmeiras', 'palmeirenses', 'palmital', 'palocci', 'palácio', 'palácios', 'pampulha', 'pan', 'panelas', 'papa', 'papai', 'papel', 'papo', 'para', 'parabéns', 'paracatu', 'parada', 'paradas', 'paragliding', 'paraisópolis', 'paraná', 'parapente', 'parar', 'parataekwondo', 'paraíso', 'parceiros', 'parcela', 'parcelaram', 'parcelas', 'parcelou', 'parcerias', 'pardo', 'parece', 'paredão', 'parejo', 'parem', 'parente', 'parentes', 'park', 'parlamento', 'parou', 'paroxetina', 'parque', 'pars', 'part', 'parte', 'partes', 'participar', 'participação', 'participe', 'participou', 'particular', 'partido', 'partidos', 'partidários', 'partir', 'partiuferias', 'partzdahistoria', 'pará', 'pasa', 'pasado', 'pasando', 'pasivo', 'passa', 'passado', 'passageira', 'passageiros', 'passagem', 'passagens', 'passando', 'passar', 'passarem', 'passava', 'passeando', 'passear', 'passeata', 'passei', 'passeio', 'passou', 'pasta', 'pastilla', 'pastor', 'patamar', 'patas', 'pataxós', 'patea', 'patentes', 'patina', 'patito', 'pato', 'patos', 'patota', 'patrimônio', 'patrocínio', 'patrulha', 'patrulhamento', 'pau', 'paula', 'paulinho', 'paulinos', 'paulista', 'paulistano', 'paulo', 'pavimentação', 'pavoroso', 'payaso', 'paz', 'país', 'pb25mjle41', 'pb5ih5vfu7', 'pbhhs77u6w', 'pbigrzsdik', 'pc', 'pcc', 'pchj6vhnek', 'pcjfzm42', 'pckpgj5ynf', 'pcmg', 'pcnipjay3n', 'pcyz7hjgjp', 'pczytuulae', 'pd', 'pd7axe0', 'pd7axe0taa', 'pddfyh4nb3', 'pdji5n1rzj', 'pdnz9cdjob', 'pdt', 'pdte', 'pdx29ynlow', 'pe', 'peb', 'pec', 'ped', 'pedagógica', 'pede', 'pedem', 'pedestres', 'pedia', 'pedido', 'pedidos', 'pedimos', 'pedindo', 'pedir', 'pedo', 'pedra', 'pedras', 'pedro', 'pedromotta', 'pedágios', 'pedófilos', 'pefa4ng40t', 'pegando', 'pegarle', 'pego', 'peh1a9vgsn', 'peitou', 'peixes', 'pejbkpdv0e', 'pela', 'peleadas', 'pellfkggey', 'pelo', 'pelotudo', 'pelstra', 'pemex', 'pena', 'pendeja', 'penitenciária', 'penitenciários', 'pensa', 'pensador', 'pensam', 'pensamento', 'pensaron', 'pensei', 'pensionistas', 'pensou', 'pente', 'pentágono', 'peor', 'peores', 'pequena', 'pequeno', 'pequenos', 'pequeri', 'per', 'pera', 'peraí', 'perca', 'percebe', 'perceber', 'percentual', 'perde', 'perder', 'perdeu', 'perdigão', 'perdoar', 'perdões', 'pererecas', 'perfecto', 'perfil', 'pergunta', 'perguntando', 'perigosa', 'perigoso', 'peritos', 'permanente', 'permite', 'permitido', 'permitir', 'pero', 'perola', 'perseguição', 'personas', 'pertencem', 'pertencente', 'pertencia', 'pertinho', 'perto', 'peru', 'período', 'pesco', 'pescoço', 'peso', 'pessoa', 'pessoais', 'pessoal', 'pessoas', 'pet', 'petate', 'petiscaria', 'petista', 'petistas', 'petralha', 'petralhas', 'petralhismo', 'petrobras', 'petroleras', 'petróleo', 'peuvivhloi', 'pextbxp0tb', 'pezão', 'peças', 'peña', 'pf', 'pf44ocwfu0', 'pfojc3lsxh', 'pfolpwxjxz', 'pfp10zwcuo', 'pfrf2vjeo1', 'pfsrgqz0vt', 'pftd5h', 'pftd5hpuip', 'pfu1kbholp', 'pfzglqt6wl', 'pglihc3v6s', 'pglyqavbkf', 'pgnmumbdsu', 'pgoxl93scv', 'pgto', 'pgv7ujgylj', 'phaetilwuq', 'phb9h3kvfs', 'phcbruqn4u', 'phhl5hqjok', 'phjty4ezuu', 'phone', 'photo', 'phsu6ttjps', 'phtoqteawh', 'phukup2i3r', 'pi', 'piada', 'piangui', 'piauí', 'pib', 'pibas', 'pibe', 'picada', 'picape', 'pico', 'piden', 'pidw5kp6ik', 'piedade', 'piensa', 'piensas', 'piernas', 'pies', 'pieza', 'pigunx4ve3', 'pil18rtjsd', 'pilantra', 'pilantrel', 'pilares', 'pileta', 'pimente', 'pimentel', 'pimpolho', 'pimpolhos', 'pingüino', 'pinheiro', 'pintada', 'pinto', 'pinóquio', 'pio', 'piolas', 'pioneiro', 'pioneiros', 'pior', 'piora', 'piorar', 'piores', 'piram', 'pirapitinga', 'pirapora', 'pirauba', 'pisa', 'piscina', 'pistola', 'pistolas', 'pitangui', 'pitskggjap', 'pitágoras', 'piuj3bhqt1', 'pixtyrlbmo', 'pizza', 'pizzaria', 'pizztop', 'pj', 'pjt84uoi55', 'pkbsetbt1m', 'pkj8rpp4s5', 'pknvhzuwuo', 'pl0vrqnlxv', 'placar', 'placer', 'planalto', 'planejamento', 'plano', 'planos', 'plantação', 'plantem', 'plataformas', 'platonico', 'platónica', 'play', 'playlist', 'plc138', 'please', 'plena', 'plenamente', 'plentc1xph', 'plh6whef4t', 'plh8nc0en2', 'plldy16ccg', 'plozg1vybz', 'plryeoi7vr', 'pls2dph7j4', 'plwp5jj0ep', 'plzi8gei6z', 'pm', 'pm5hb2ubqj', 'pmahkoqob3', 'pmdb', 'pmdelejg47', 'pmguoopojo', 'pmhp13juf4', 'pmmg', 'pmmvjhly7i', 'pmr', 'pmrv', 'pmtsq3jk', 'pmtwwkndi1', 'pmu', 'pn0wvmi0s0', 'pn1mvpecod', 'pnhmgtzoh5', 'po', 'po0rgxxofr', 'poa9yi0yjn', 'población', 'pobp3ph37t', 'pobre', 'pobres', 'pocas', 'pode', 'podem', 'podemos', 'poder', 'poderia', 'poderiam', 'poderosa', 'poderá', 'poderão', 'podes', 'poedphfnjh', 'poehjcncet', 'poesia', 'polares', 'policia', 'policiais', 'policial', 'policiamento', 'policias', 'poline', 'politica', 'politici', 'politicos', 'politizador', 'poluentes', 'polêmica', 'polícia', 'políciais', 'política', 'políticas', 'político', 'políticos', 'pomer', 'pompeu', 'pompéu', 'ponderar', 'pone', 'ponen', 'poner', 'ponerle', 'ponerte', 'pones', 'pongo', 'poniéndole', 'pontal', 'ponte', 'pontilhão', 'ponto', 'ponía', 'pop', 'popu', 'populacional', 'popular', 'populares', 'população', 'por', 'pornografia', 'pornozinho', 'porq', 'porque', 'porquê', 'porra', 'porro', 'portada', 'portais', 'portal', 'porte', 'porto', 'portugal', 'portuguesa', 'porém', 'posicion', 'positivamente', 'positivo', 'positivos', 'posição', 'possa', 'posse', 'possibilidade', 'possui', 'possível', 'post', 'posta', 'postal', 'postar', 'posted', 'poster', 'posto', 'postos', 'potencializa', 'pouco', 'pousada', 'povo', 'poços', 'pp', 'ppds1tk6om', 'ppfwudore9', 'ppk', 'ppp', 'ppqja5aj57', 'ppse15pqre', 'pputwxspia', 'pq', 'pqf48bkpmr', 'pqiunpu5sq', 'pqp', 'pqsclwpej2', 'pqyj12xhis', 'pr', 'pr50yvdjbj', 'pra', 'prado', 'praga', 'praia', 'praias', 'praiaskkkk', 'pras', 'prata', 'pratica', 'praticamente', 'praticar', 'praticaram', 'prazo', 'prazos', 'praça', 'pre', 'precisa', 'precisam', 'precisamente', 'precisamos', 'precisar', 'precisei', 'preciso', 'precisão', 'precompensa', 'preenche', 'preende', 'prefeito', 'prefeitos', 'prefeitura', 'prefeituras', 'prefixo', 'pregou', 'pregunta', 'preguntas', 'preguntó', 'prejudicar', 'prejuicio', 'prejuízo', 'premiada', 'prendam', 'prende', 'prendem', 'prender', 'prendeu', 'preocupa', 'preocupados', 'preocupam', 'preocupante', 'preocupe', 'prepara', 'preparada', 'preparados', 'preparando', 'preparativo', 'presa', 'presenciar', 'presente', 'presentes', 'presi', 'presiden', 'presidente', 'presidios', 'presidência', 'preso', 'presos', 'presotemquetrabalhar', 'press', 'pressa', 'pressionam', 'pressionava', 'pressão', 'prestes', 'presídio', 'presídios', 'preto', 'preventiva', 'prevenção', 'previdencia', 'previdenciárias', 'previdência', 'previlegios', 'previsible', 'previsto', 'previsão', 'prevê', 'prezado', 'prezados', 'preço', 'preços', 'prf', 'prian', 'primas', 'primeira', 'primeirahora', 'primeiro', 'primera', 'primero', 'principal', 'principalmente', 'principio', 'prioridad', 'prioridade', 'prioridades', 'priscila', 'prisional', 'prisão', 'prisões', 'privada', 'privado', 'privatiza', 'privatizado', 'privatizando', 'privatizar', 'privatização', 'privilegiado', 'pro', 'probablemente', 'problema', 'problemas', 'processar', 'processo', 'processos', 'procurado', 'procurador', 'procuradores', 'procurem', 'prodemge', 'producción', 'producido', 'produtiva', 'produtivos', 'produto', 'produtos', 'produz', 'produzido', 'proerd', 'professor', 'professores', 'profissionais', 'profundo', 'programa', 'programas', 'programação', 'projeto', 'proletários', 'promete', 'prometem', 'prometeu', 'promotores', 'promotoria', 'promove', 'promovio', 'pron', 'pronta', 'pronto', 'propaganda', 'proporcional', 'proposta', 'propostas', 'proprias', 'propunha', 'propósito', 'propõe', 'prorrogação', 'prorrogou', 'pros', 'prosperidad', 'prosseguir', 'protagoniza', 'protege', 'protestam', 'protesto', 'protetor', 'proteção', 'prova', 'provas', 'provavelmente', 'providências', 'provisória', 'provoca', 'prováveis', 'proximidade', 'proximo', 'prozac', 'proíbe', 'prtyl7ph6t', 'prudente', 'práticas', 'pré_hospitalar', 'prévia', 'prêmio', 'própria', 'próprio', 'próprios', 'próxima', 'próximas', 'próximo', 'próximos', 'ps', 'ps4', 'ps91d6814e', 'ps989be7gp', 'pscs7yfvdo', 'psd', 'psdb', 'pseudo', 'psicologia', 'psicológico', 'psidvazojh', 'psol', 'pspaf8pt1b', 'pspnyblgzj', 'psvsnpciwv', 'pt', 'ptdeb1cma2', 'pte', 'ptejocipyc', 'ptiistas', 'ptista', 'ptmbllitcq', 'ptnuncamais', 'ptpofeb0iv', 'ptqbqwpocu', 'ptr3euqu0g', 'ptt1sdj44a', 'pubblicati', 'publica', 'publicación', 'publicada', 'publicar', 'publicaré', 'publicação', 'publico', 'publicos', 'publicou', 'publicó', 'publiquei', 'publiquem', 'pucto', 'puderam', 'pudo', 'pueblo', 'puede', 'pueden', 'puedo', 'pues', 'puesto', 'puho3i1io8', 'puiaklui7g', 'pujança', 'pulha', 'pulicou', 'pum', 'pumrmfxsje', 'punbox0zij', 'pune', 'punidas', 'punir', 'punto', 'puntuo', 'puo74aslvp', 'puqztkwgsw', 'purlpymm1q', 'puro', 'puse', 'pusieron', 'puso', 'puta', 'putita', 'puto', 'puvdlfztn8', 'puwkbdsuvi', 'puybfmevti', 'puzkl4g8gr', 'puzxogui7o', 'pvhvjmbh2w', 'pvirxpfgco', 'pvstnkw1gp', 'pvzpjgbu2p', 'pw381cwc1q', 'pw7pindxrv', 'pwaey3gje8', 'pweehygp0w', 'pwjethxfjb', 'pwnfe6iu2b', 'pwqnp2u2ox', 'pxarsqu9dh', 'pxehsemk6q', 'pxnuriktlw', 'pxpixagcpw', 'pxrorz4rrp', 'pxtihrzy9d', 'pybubahtkb', 'pyhnkajewt', 'pyjg8orskh', 'pyx2l6qtfd', 'pyxmno1qxe', 'pyyg4kdrjg', 'pz99cbiitl', 'pzbxfxhed4', 'pzbzqz0ryf', 'pzfjebk15c', 'pzyz47so5f', 'pzzaeygggu', 'pá', 'páginas', 'pánico', 'pânico', 'pão', 'pé', 'pérez', 'pés', 'pó', 'põe', 'púb', 'públic', 'pública', 'públicas', 'público', 'públicoprivada', 'públicos', 'q0cknvbfkn', 'q0netrtvnz', 'q0wz5i5qzw', 'q12rzvhezq', 'q14trqr4xh', 'q1siibozdc', 'q2m6ie28op', 'q2nor97ngg', 'q2tmvokcoz', 'q3o6fo7sau', 'q3qfjizr', 'q3qfjizrfw', 'q4dro0bqwz', 'q5bge6oywd', 'q5ddavtfxw', 'q5uztwlrgv', 'q6paj3t4us', 'q719mjrngp', 'q76d1pzfxv', 'q78mvnrer6', 'q7ocd84f3g', 'q8bmbv6pti', 'q98igvuosm', 'q9jicsckox', 'q9vwjpeu2a', 'qa', 'qaaxrrdztc', 'qafejjj9nm', 'qafiuipxev', 'qajwyz6gvf', 'qarvvde24d', 'qasktvw2wj', 'qb8q5c4f38', 'qbe4fk9dug', 'qbkhsg2vdy', 'qbko69sogs', 'qbsiwftuty', 'qbt9ry2ls4', 'qbwcvxk49h', 'qbxcwqc8vp', 'qbzfdrrpjz', 'qcbauffqlr', 'qcly9kptsv', 'qcmv2gp7ro', 'qcwhaosf5l', 'qd0swbisil', 'qdgqzz1nmr', 'qdlowtvkbx', 'qdmluu2tqb', 'qe', 'qe9guvhc2a', 'qefo55in0m', 'qegbagkfd0', 'qegx3nnpzl', 'qeh55kjixc', 'qei0iat1nb', 'qetnrpx3hn', 'qevybr0wls', 'qexxvsiuis', 'qf614uycnc', 'qfg1e8tqcj', 'qfmdfwzdun', 'qfnadp1hho', 'qfotbtxa3d', 'qfvi6axlqb', 'qfzdqk4a3z', 'qfzr54szmo', 'qg', 'qg7tlllaqj', 'qgor6jn4bk', 'qgq61eigcj', 'qgromnyrxs', 'qgrv6hrgfr', 'qgyhpwkdsd', 'qgyr8xebjb', 'qh15bii33t', 'qh9najjno8', 'qhi3vnb7i5', 'qhuzck8gk4', 'qi7foiuh0v', 'qienzk96mb', 'qilxgnm29n', 'qipcuvbtqb', 'qit9ylymog', 'qivoio3eqr', 'qjclaqpm7h', 'qjkebwcefd', 'qjmtni999p', 'qkji1738iw', 'qkxeesfy5e', 'qkytjbbkmk', 'ql0gnirpjw', 'qlbpsn4mjw', 'qlceylbnox', 'qleka31rdd', 'qlgi0hhvst', 'qlppzejcmb', 'qlr36neko0', 'qluxaedc6c', 'qmeuirblkp', 'qmsl5hf711', 'qmvhgthrwq', 'qnczyuiobw', 'qnhcov60b2', 'qnka', 'qnky1mo5s4', 'qnluhwqzis', 'qnnhewd8hd', 'qnqut9suzk', 'qo5mtch039', 'qoapsrlneo', 'qoddicm8un', 'qodmosm2tk', 'qoebpqdlqi', 'qoh4lbhker', 'qoslpecb1t', 'qp0hgsjwim', 'qpcbgapg91', 'qpy26qeneb', 'qq26bmeaeh', 'qqb1g1ku2l', 'qqhasjm2yc', 'qqrf7kjnsw', 'qqu4rc5wjm', 'qqxlncsxtk', 'qqzmopuiwi', 'qri9dciicc', 'qro', 'qruwxsmzle', 'qrw37gebex', 'qrw37gvn3x', 'qs17oeutdp', 'qs6dyrkk85', 'qs8ruib5e9', 'qsa5mxamrf', 'qsb7286ghl', 'qscjckaxfk', 'qsdlteolhs', 'qsjespzuuw', 'qsntm0quly', 'qsyo', 'qsyqryqjpq', 'qtazbccqum', 'qtbhl4zd4c', 'qtcq5u9s4a', 'qth1zydon2', 'qtvo62ysdb', 'qu', 'qu9qi50jv3', 'quadrilha', 'quadro', 'qual', 'qualidade', 'qualificação', 'qualquer', 'quando', 'quantidade', 'quanto', 'quarta', 'quartel', 'quarto', 'quase', 'quatro', 'quavg8ibrw', 'que', 'quebrada', 'quebrado', 'quebram', 'quebrando', 'quebrou', 'queda', 'quedado', 'quedan', 'quedes', 'queij', 'queijo', 'quem', 'quente', 'quer', 'querem', 'queremos', 'querer', 'queria', 'queridinha', 'queridinho', 'quero', 'quest', 'questiona', 'questionar', 'questão', 'quetinha', 'quien', 'quieren', 'quiero', 'quierrn', 'quietinho', 'quilombo', 'quilos', 'quinta', 'quisiera', 'quisieron', 'quién', 'qumejsg5od', 'quotes', 'quqfwrhohf', 'qur1zp2m0c', 'qusts0addz', 'quvjauti6w', 'quvwwtotyk', 'quyt33pzez', 'quzmcucr5n', 'qué', 'quê', 'químicos', 'qvbqcxes8b', 'qvcg3lyo34', 'qvp9owevul', 'qvvywdxatw', 'qvzeb3m2ad', 'qvzsrmvczq', 'qw4rm2hlb3', 'qw6hwspky7', 'qw78x6qm7k', 'qwj0hftlzp', 'qwmixsod9e', 'qwsrywqeck', 'qwvdtxuukm', 'qx8hkuppm8', 'qx993j2syu', 'qxk6anpxht', 'qxxlk6pomu', 'qyfqnczqkv', 'qyjypthzw5', 'qysjegqk', 'qysjegqkec', 'qyxmyuwhft', 'qyz810wtxk', 'qzhozqlzsy', 'qznag5qved', 'qzohzllux0', 'qzsxdc7mrm', 'qzu3bpwws7', 'qzucogyhke', 'qzvwrxwkgf', 'r0a4fych2e', 'r0xdtnj8dx', 'r1ojne8tib', 'r1r6o24p14', 'r26llte3id', 'r2kut2jzgo', 'r2mpeouyse', 'r2u9ozonhj', 'r3exals5eq', 'r3kgdqthln', 'r3zs1rtqbo', 'r4clhh39pa', 'r4g0bjswtk', 'r4tm4nmock', 'r4x9fvkzs5', 'r51wgdaell', 'r5amnudpcu', 'r5jdewmsn7', 'r5vezcdjhm', 'r5zcaya39r', 'r680jmrhpr', 'r6fccht7af', 'r6oorjxdul', 'r6qjoynh9h', 'r6qujzo6gn', 'r6s6aklonj', 'r7', 'r7ikxpm3v8', 'r7mg', 'r8lwuezemj', 'r96bgzq8dq', 'r98eh1iqe4', 'ra0o8fd3rf', 'ra1yjrafjk', 'rab', 'racismo', 'radares', 'radioitatiaia', 'raer6rpfdt', 'rafico', 'rafsanjani', 'rahafqyyqo', 'raio', 'raj2ojz8tq', 'rale', 'rampa', 'ramón', 'ranero', 'rapaz', 'rapido', 'raposos', 'rapyrfsnzq', 'raro', 'rasga', 'rasho', 'raspou', 'rato', 'ratos', 'raul', 'raulhsihyr', 'raynniere', 'razoável', 'rb7zbzkypc', 'rbjjdz2efu', 'rbmay83a3v', 'rbo4fnnhis', 'rbqirks0gp', 'rbrh260yay', 'rbwc4akyp0', 'rbwqmskstb', 'rbxvbetplc', 'rc558qg0di', 'rcamrh2zii', 'rcessão', 'rcijanahqk', 'rcinkvmiav', 'rck3ypirvw', 'rckwef5ngl', 'rclsmbvdoh', 'rcm1i5ey20', 'rcpzl2cjwv', 'rcr', 'rcs0f3zjey', 'rcxqqncxof', 'rd2yftx4rv', 'rd62uxndx6', 'rdfm152vga', 'rdisxgwsrw', 'rdkdwlcxrc', 'rdkoepv5zm', 'rdnvbj7avk', 'rdqtogu0te', 'rdvykruwbl', 'rdyitgegbj', 'rdyitgn5d9', 'rdytbkttll', 're', 'reabre', 'reafirma', 'reage', 'reagir', 'reagiu', 'reais', 'reaja', 'reajusta', 'reajuste', 'real', 'realidade', 'realista', 'realiza', 'realizad', 'realizada', 'realizado', 'realizam', 'realmente', 'realsociedad', 'reavaliar', 'reação', 'reb5rguhfq', 'rebate', 'rebelião', 'rebeliões', 'recado', 'recanto', 'recaudar', 'recebe', 'recebem', 'receber', 'receberam', 'receberão', 'recebeu', 'recebi', 'recebia', 'receptador', 'receptação', 'recesso', 'recheada', 'reciban', 'recife', 'reclamação', 'recomenda', 'recomiendo', 'reconhece', 'reconhecidas', 'reconhecido', 'reconhecimento', 'recorde', 'recordtvminas', 'recorre', 'recua', 'recuerdan', 'recuerdo', 'recuerdos', 'recupera', 'recuperada', 'recuperado', 'recuperados', 'recuperam', 'recuperar', 'recuperação', 'recupere', 'recurso', 'recursos', 'recusam', 'recusou', 'recuérdalo', 'rede', 'redes', 'redirecionado', 'redtube', 'reduzirem', 'reeleição', 'referentes', 'referência', 'refiera', 'refinarias', 'refino', 'reflete', 'reflexos', 'reforma', 'reformulações', 'reforça', 'reforçada', 'reforçam', 'reforçar', 'reforço', 'reforçou', 'refrescar', 'refugiados', 'refém', 'regalada', 'regalandose', 'regente', 'regiao', 'regidores', 'regime', 'regimento', 'reginaldo', 'regionais', 'regional', 'registra', 'registrada', 'registram', 'registro', 'registrou', 'região', 'región', 'regiões', 'regkyl0nfy', 'regqn17fzd', 'regulamenta', 'regular', 'regulatório', 'rei', 'reiniciará', 'reino', 'reinoza', 'reintegrar', 'reis', 'reiteradamente', 'reivindicações', 'rejeita', 'rejeição', 'rela', 'relacionamento', 'relacione', 'relata', 'relativos', 'relatou', 'relatório', 'relax', 'relação', 'release', 'releasebr', 'religião', 'remuneração', 'renal', 'renan', 'renascença', 'renda', 'rendeu', 'rendido', 'renegociação', 'renovação', 'reojo', 'rep2zdogin', 'repara', 'repassa', 'repassar', 'repasse', 'repassou', 'repatriação', 'reper', 'repleta', 'repor', 'reportagem', 'repreender', 'reprenda', 'representando', 'representante', 'represión', 'reprimida', 'reprimir', 'republicanos', 'republiqueta', 'repórter24horas', 'república', 'requiero', 'reserva', 'resgastes', 'resgatar', 'resgate', 'resgates', 'residencial', 'residência', 'resiste', 'resistência', 'resmu', 'resolução', 'resolver', 'resolveram', 'respeito', 'respiratória', 'responda', 'responderá', 'responsabilidade', 'responsabiliza', 'responsáveis', 'responsável', 'resposta', 'respostas', 'resquício', 'resqypzxgq', 'ressaca', 'resta', 'restauro', 'restituição', 'resto', 'restrepo', 'restringe', 'resulta', 'resultado', 'resultados', 'resíduos', 'retaliações', 'retirinho', 'retit1whph', 'retoma', 'retomada', 'retomar', 'retrasado', 'retrospectiva', 'retuitar', 'retweeted', 'retweets', 'reunido', 'reunindo', 'reunir', 'reunirão', 'reunião', 'reveillon', 'reveillón', 'revienta', 'revisar', 'revista', 'revogar', 'revoltante', 'revolu', 'revolucionaria', 'revolução', 'revólver', 'reyes', 'reykutyxli', 'reúne', 'reúnem', 'rf4mruehoo', 'rf9o24rwwd', 'rfg3y6uv3c', 'rfg6xke3xr', 'rfmr7avu9z', 'rfzzsxbdnh', 'rg2mznkcmg', 'rg4snlxmgz', 'rgggnfdsuw', 'rgks5jn9px', 'rh2cesupqj', 'rh9ajjgzk7', 'rhbxxueg7l', 'rhe8f7zeas', 'rheuhnrugu', 'rhm83r4tmp', 'rhndj7i1y3', 'ri9hf7iq7t', 'ribeiro', 'ribeirão', 'rica', 'rico', 'ridc2x9t1r', 'ridículo', 'riesgo', 'rifle', 'rifubrsy6v', 'rinaldi', 'rindo', 'rio', 'riodejaneiro', 'rir1qe4s0d', 'risa', 'risco', 'ritda', 'rithely', 'rivais', 'rivalidade', 'rj', 'rjaq5sbzmx', 'rjdztwovxp', 'rjmpk3uomk', 'rjyoktqfl2', 'rke52js9ps', 'rki6c0hgfd', 'rkimnhdb6k', 'rkoroezzew', 'rl71azdkwj', 'rla6ub0p1g', 'rlb1yao7er', 'rljofv9oxf', 'rlob1izf7h', 'rlrgekt4g1', 'rlwqrqbw66', 'rlx5fsguag', 'rlz9hjxr2p', 'rlznvbajfc', 'rmbh', 'rmcvymnp05', 'rmh0oyh68p', 'rmhjhmzd0p', 'rmmvbf5z64', 'rmolyahg17', 'rmp9nrdpx5', 'rmvsmhoxro', 'rmwertf2q0', 'rmz85yzo5d', 'rn9bgjw81x', 'rna7calnds', 'rnmg0udoiq', 'rnonivtcc1', 'rnrqrfbuem', 'rnyfvujwfv', 'rnyzwwsmny', 'ro', 'ro7rr42ozb', 'road', 'rocinha', 'rodeiro', 'rodoni', 'rodovia', 'rodovias', 'rodoviário', 'rodrigo', 'rodríguez', 'roedor', 'roendo', 'roig', 'role', 'rolla', 'rollemberg', 'rombo', 'romeiros', 'ronaldo', 'roqppws4ie', 'roraima', 'rosso', 'rosto', 'rota', 'roteador', 'rotlngijqi', 'roto', 'rotos', 'rou47ssiwd', 'roubado', 'roubados', 'roubar', 'roubaram', 'roubo', 'roubos', 'roça', 'rp0gjcdmj8', 'rp7wzedyph', 'rpdkvclpaj', 'rpemkd9fkx', 'rpg88clhti', 'rpmp7olckm', 'rpyowfldre', 'rq0eqjksdi', 'rqvfnevjkx', 'rqxs3scoee', 'rqzezzah55', 'rr', 'rr3qh4zljo', 'rrieowdv4z', 'rrjs8tksds', 'rrmlnrih0b', 'rrp92l2hdw', 'rrvkdzi5oh', 'rrwkg8a52n', 'rrzcvp1kdv', 'rs', 'rsc0lxdcl6', 'rsck3sz5rq', 'rsf2tk1vmx', 'rsisfrwn3v', 'rsrnjcso6b', 'rsrs', 'rsvn1bdr1d', 'rszitwldjv', 'rt', 'rt0novrbl5', 'rt3l72akle', 'rt4trxdpfd', 'rt5grmjkn2', 'rteejzyvym', 'rtjwrfav0u', 'rtkviysn2h', 'rtnwfturei', 'rtvazqgjgw', 'rua', 'ruas', 'rubyf9koe9', 'rufvjunpen', 'rugbmyw9by', 'ruim', 'rulyaqlp6t', 'rumo', 'ruoenzy4tx', 'rurais', 'rural', 'ruschel', 'russa', 'russos', 'rutcvc5juf', 'rutlbql5nb', 'rvabxfzje7', 'rvhzx98icx', 'rvttuykyxu', 'rvvu97wyd9', 'rwei0kak5p', 'rwkeryno2q', 'rwmlekrys7', 'rwplzfzyuu', 'rwq6sosmmu', 'rwrflgupz7', 'rx31vxg3rn', 'rx4u04j', 'rx4u04jvn1', 'rx5hu01gh2', 'rxdweochto', 'rxiwgpffzu', 'rxk0jml9qw', 'rxvdsdc0ne', 'ry8qhn7hyb', 'ryjkfjge0c', 'ryn516iege', 'ryxe53oplg', 'rz2is0ogxs', 'rzjzt6ftqc', 'rzmceuhvco', 'rzqmjai6hc', 'rzsw7bu1hv', 'rzuu2o54er', 'rzxggtouks', 'rádio', 'rádios', 'rãs', 'réplica', 'réu', 'réveillon', 'rômulo', 'rússia', 's04zifjahe', 's09pgtymrb', 's0it9aw8cw', 's0zxmc1j0o', 's1', 's1dlwdwb84', 's1trf4ti5l', 's1xpk6dodl', 's28g8yclkx', 's2cwr0jvkq', 's2mae8zsc4', 's4g01xdxae', 's4hylljnzm', 's4sfjbwnin', 's4y0jwvc5j', 's54kw0tmuz', 's5dlddwq4i', 's5gqxxwnnz', 's6g4zjh7wl', 's6n07q9oqo', 's6q2lnmdce', 's8htb0rp93', 's8itijnet9', 's8mjj5btij', 's8un5ifnqs', 's97khxldiu', 's9hlieieuf', 's9yowjcamu', 'sabará', 'sabe', 'sabem', 'saber', 'sabes', 'sabia', 'sabiendo', 'sabino', 'sabía', 'sacan', 'sacarla', 'sacaste', 'sacramento', 'sacó', 'safado', 'sah0p3a5gr', 'sai', 'saiba', 'sair', 'saiu', 'sal', 'sala', 'salafrário', 'salarial', 'salarioem3x', 'sale', 'salgado', 'saliendo', 'salir', 'salkvv6s2b', 'saltó', 'saludos', 'salve', 'salário', 'salários', 'salão', 'sam6rbvtnd', 'samarco', 'samuca', 'sancionada', 'sangue', 'sanial', 'sanitário', 'santa', 'santana', 'santiago', 'santo', 'santos', 'santuário', 'sao', 'sapcovojkw', 'sapos', 'saqueos', 'saquinho', 'saramenha', 'sartori', 'sathyasai', 'satiro', 'saudade', 'saudosos', 'saudáveis', 'saudável', 'saírem', 'saúde', 'saúdebuxal', 'saúdeforça', 'sb1qds8ijg', 'sb4brjwo8j', 'sb849vwihf', 'sbbmp45gal', 'sberfasdr7', 'sbla07r7jc', 'sblt2kx3s1', 'sbqwiwysdt', 'sccdhiyb7a', 'sckdakzyji', 'scl2m7hock', 'scrrqlnchs', 'scsbpq9mye', 'scssxuac0t', 'sdfc19qzig', 'sdhhtaku4o', 'sdnd3lkf4o', 'sds68riyuw', 'sdszz77uom', 'sdv', 'sdy6qq42xs', 'se', 'se17egicvf', 'se3d7sonea', 'se5rdh7rr7', 'sea', 'sean', 'sebastião', 'sebrae', 'seca', 'secre', 'secret', 'secretaria', 'secretario', 'secretarios', 'secreto', 'secretária', 'secretário', 'secretários', 'sector', 'sede', 'seds', 'sedtgvxhog', 'see', 'sef', 'segue', 'seguem', 'seguia', 'seguido', 'segunda', 'segundo', 'segura', 'segurando', 'segurança', 'seguranças', 'seguridad', 'seguro', 'según', 'sei', 'seio', 'seis', 'seja', 'sejam', 'selecionado', 'seletivo', 'seleção', 'seleções', 'sem', 'semana', 'semanalde', 'semanas', 'semanário', 'sembrando', 'semestre', 'semis', 'sempre', 'senado', 'senador', 'senadores', 'senai', 'sendo', 'senhor', 'senhora', 'senhores', 'senil', 'sensibilización', 'senso', 'senti', 'sentido', 'sentimientos', 'sentiste', 'seokjin', 'seplag', 'seplnnq00j', 'sequer', 'sequestro', 'ser', 'serem', 'serena', 'sergio', 'seria', 'serio', 'serra', 'serrana', 'sertanejo', 'serve', 'servidor', 'servidores', 'serviço', 'serviços', 'será', 'serão', 'sería', 'ses', 'sesc', 'sete', 'setor', 'setoristas', 'setorização', 'seu', 'seul', 'seus', 'sevilla', 'sevxwpeiip', 'sexual', 'seys7waxdk', 'señor', 'sf1aiqmgj7', 'sf5jis09jr', 'sfhwwffkas', 'sfjsqsrmtg', 'sfwscjeq7n', 'sg98y7uzf9', 'sgcjjb478a', 'sgd56m5am9', 'sgipft4osk', 'sgirhwdarh', 'sgo46ulaju', 'sgtk0rucbl', 'sh9h8ufplt', 'shdrmt4eko', 'shefjgzwlp', 'shfvv46hqc', 'shg3hgggzr', 'shi1gx942s', 'shipit3y9k', 'shop', 'shopping', 'shoppings', 'show', 'shows', 'shultbgx08', 'si', 'siao5hqyq6', 'sido', 'siemp', 'siempre', 'sig', 'siga', 'sigamos', 'sigan', 'sigilo', 'sigla', 'significa', 'significativa', 'sigo', 'sigod', 'sigode', 'sigodev', 'sigodevo', 'sigodevol', 'sigodevolta', 'siguen', 'siguió', 'sil', 'silencio', 'silvestre', 'sim', 'simbiosis', 'simbolismo', 'simepar', 'simpatizante', 'simples', 'simplificado', 'simulacro', 'sin', 'sind', 'sine', 'sinmed', 'sino', 'sinto', 'sintéticas', 'siquiera', 'sirvienta', 'sistema', 'sistemas', 'site', 'sites', 'situaciones', 'situada', 'situação', 'siwtpwb83h', 'siwwkznaxi', 'sixp1', 'sixp1qnwws', 'sjdk1xgndw', 'sji9kxfu9z', 'sjkpomjvqx', 'sjmpouug1b', 'sjoied18qi', 'sjpmy5pupu', 'sk', 'skcr2kvr4t', 'skhr3bluip', 'skhrzqnkdf', 'skncdbacur', 'skol', 'skspuq663k', 'skxbrgwx0p', 'sl0r3wupc2', 'sl7a2qzxdo', 'slc7merfmh', 'slc85rzp8i', 'sleig', 'slfclhsrfo', 'slpkleae5g', 'slrt4siswv', 'slxofwm6tu', 'sm2cjd125y', 'smartphones', 'smd7g74zdf', 'smha3et5ih', 'sms92pwpdn', 'smwyjkqh21', 'smxw139vel', 'smzckwdrke', 'sn', 'sn3430m0ls', 'snb1akeuef', 'snnjaz4nea', 'snymrfq737', 'snysw5pzk4', 'snzhcw7he2', 'snznsizefa', 'snzufzp6q8', 'so', 'so0n4a9juz', 'so3kojpgz4', 'soares', 'sob', 'sobe', 'sobrando', 'sobrdi23rj', 'sobre', 'sociais', 'social', 'socialismo', 'socie', 'sociedade', 'socioeducativas', 'socioeducativos', 'sociólogo', 'socorro', 'socorroooooo', 'sof', 'sofre', 'sofreu', 'sofrimento', 'solar', 'soldado', 'soldados', 'solenidade', 'solicita', 'solicitou', 'solidariza', 'solo', 'soltar', 'solteros', 'solto', 'soltos', 'solução', 'somazina', 'some', 'somente', 'somos', 'somostodosdilma', 'somostodosmoro', 'son', 'sonaste', 'sondado', 'sonel0f8xq', 'sonia', 'soninha', 'sonriendo', 'sooelfxq7j', 'soprattutto', 'sordas', 'sorveteria', 'sorveterias', 'sos', 'sotaque', 'sou', 'soua3x10tq', 'soxg3bmend', 'soy', 'soñando', 'sp', 'sp0orgumb5', 'spagora', 'sparire', 'spcddswebf', 'spnwkephgk', 'spqcjxgi5p', 'sptv', 'sq1yg0lyxn', 'sqfap6okag', 'sqipvllbvy', 'sqn', 'sqrc2v3fiu', 'sqwfrp3zxy', 'sr1hol8fcp', 'sr1oz0bsyu', 'sr4hank5qq', 'sr4hownrgc', 'sr4y3g1aff', 'srd20wvvdi', 'sreh9qsara', 'srgznp0qyd', 'srhyabdtlx', 'srjtfrejlt', 'ssgmmrb8ii', 'ssj9bg1hai', 'ssjghifhp7', 'ssjkaof8uk', 'ssl2leaivx', 'ssv1q5bf8v', 'ssy5likfml', 'ssztdp47n5', 'st', 'sta', 'stalevo', 'stalkear', 'starbucks', 'stbaeg1sox', 'stela', 'stf', 'stgggpci1x', 'stj', 'storg3vvei', 'story', 'strattera', 'stsuskiev3', 'stujbmyqtg', 'stx9qowkqk', 'styhib8sqt', 'su', 'su2oq4lawj', 'su9cp962rn', 'sua', 'suas', 'suave', 'subchefe', 'sube', 'suben', 'subiendo', 'subimos', 'subir', 'subo', 'subprefeituras', 'subsecretário', 'substime', 'substituir', 'substitutos', 'subway', 'sucede', 'sucedida', 'suceso', 'sucesso', 'sucre', 'sucursal', 'sudeste', 'sudzn4ehak', 'suegra', 'suele', 'sugeriu', 'sugestões', 'suhnu8menv', 'suicida', 'suicidas', 'sujeito', 'sul', 'suldeminas', 'sulfúrico', 'sumgxgutwd', 'sumiram', 'sun64p7f18', 'super', 'supera', 'supercluster', 'supere', 'superesportes', 'superfaturado', 'superintendência', 'superlotação', 'supermercado', 'superávit', 'suplemento', 'supostamente', 'surpreende', 'surpreendente', 'surpreender', 'surpreendidos', 'surto', 'sus', 'suspeita', 'suspeitas', 'suspeito', 'suspeitos', 'suspende', 'suspender', 'suspensão', 'susto', 'suy6bdlgct', 'suíça', 'sv0okwz8yh', 'sv3y2boasg', 'svkttjldz7', 'svq1hlxnot', 'sw84yg9ghu', 'swdi5wzckf', 'swewvdgdt7', 'swkl7ey6na', 'swok9msacl', 'swuzku71zs', 'swyettpoyy', 'sx0mazaqi6', 'sxdaqspoxu', 'sxfamlncqd', 'sxl6hbzbqj', 'sxlxxktw3s', 'sxmnvhjk2n', 'sxouwbsicm', 'sy0lplypxg', 'sybaqimfcd', 'sybbqooloc', 'sydahi8ian', 'sylftj26jm', 'symrdmaxfx', 'syowciyhkp', 'syswdhkeo1', 'syzq0mg2os', 'szbxqfxwz2', 'szdddiwg1t', 'szemtfo9ea', 'szfagvdvfd', 'szfjdabehj', 'szluy1y0gd', 'sztiwxztkt', 'szzcvkzvqr', 'sábado', 'sã', 'são', 'séria', 'série', 'sério', 'sí', 'síria', 'sítio', 'só', 'sódica', 'sólido', 'sólidos', 'súditos', 't0fedpebcg', 't1hgzpsbe9', 't2f27wcbf8', 't2o7otusyg', 't2qxrsjqxn', 't2zd8b5fba', 't2zxpuioqq', 't36jgfw2mt', 't3c6nrlu6s', 't3v6kxllma', 't3wcdrvp65', 't3y2ux71yy', 't40bflrqsn', 't43mmwzy1l', 't4amfteud5', 't4fbzei5dy', 't4gtxbtrps', 't4prajxix9', 't5c7u9ncg5', 't5ecxhxuz6', 't5qcdcoe6v', 't7lqdpjlrv', 't7rdt62z58', 't8ed07sflx', 't8gknf52pt', 't8gnig95ym', 't8ja2ischo', 't8p3bqpfpc', 't8rbe6jif4', 't8spjrbupe', 't9dzb1nw3b', 't9s7hlb79j', 'ta', 'ta6kgtttz2', 'taaann', 'tabkbpsxsp', 'tabletes', 'tacho', 'tah2iiq91y', 'taiobeiras', 'tal', 'tamanho', 'también', 'também', 'tan', 'tanga', 'tanque', 'tanta', 'tantas', 'tanto', 'tantos', 'tapa', 'taquaril', 'tara', 'tarcísio', 'tarde', 'tardes', 'tareck', 'tarifa', 'tarifas', 'tarrafa', 'tasa', 'tasas', 'tatarabuela', 'tatuagem', 'tav90nkgrd', 'tava', 'taveengf8j', 'taxa', 'taxabwlelx', 'taylor', 'taynnara', 'taça', 'tb', 'tb7cexlhpb', 'tbcn0dw4co', 'tbdivliof5', 'tbm', 'tbmfemfnr6', 'tbrrhexdso', 'tbviwxbhzd', 'tbxfmvynbn', 'tc', 'tc5aeepumv', 'tcad68br8n', 'tccmsd04mg', 'tcgdzkossk', 'tchê', 'tcknx6c7ud', 'tcso3vysc3', 'tcvbcs3dsh', 'td', 'td5rls9kf9', 'tdfw', 'tdoltn0cus', 'tdqkmd9dot', 'tdwgs05pxe', 'te', 'te0jnl56kw', 'teambts', 'teamgot7', 'teatro', 'tec', 'technology', 'tecnologia', 'tecnológica', 'tegretol', 'tela', 'telo', 'tem', 'tema', 'temas', 'teme', 'temer', 'temerconseguiu', 'temo', 'temor', 'temos', 'tempo', 'temporariamente', 'temprano', 'tendenciosa', 'tendrian', 'tenes', 'tengo', 'tenha', 'tenho', 'tenia', 'teniendo', 'tensão', 'tenta', 'tentam', 'tentar', 'tentaram', 'tentará', 'tentarão', 'tentativa', 'tentou', 'tenés', 'tenía', 'teo12ks5ni', 'teori', 'teqs3vqh6h', 'ter', 'terceira', 'terceirização', 'terceiro', 'terceriza', 'terem', 'teremos', 'teresina', 'teria', 'terminal', 'terminó', 'terra', 'terras', 'territorio', 'território', 'terror', 'terrorismo', 'terrorista', 'terá', 'terão', 'terça', 'terços', 'testa', 'testemunha', 'testou', 'tetas', 'teud1lr4bz', 'teve', 'teydsksvnb', 'teórico', 'tf9cw8fvul', 'tfdfji2oz0', 'tfffdgaef5', 'tfgv6ijypr', 'tfp5wchpto', 'tfxazqqdtd', 'tg0tv4chxn', 'tgk6bxgrbg', 'tgla7', 'tgvukep9o1', 'tgvupuwdxw', 'tgxykxkkw3', 'the', 'thhcz4n70e', 'thomé', 'thwvovu3xb', 'thyaddv2ge', 'ti3u4snkpq', 'tiago', 'tiagorussell', 'tiay4tv6zt', 'tibm5p5u3y', 'tiempo', 'tiene', 'tienen', 'tierno', 'tietado', 'tietê', 'tifbn4q1is', 'tigwd5kq43', 'tijolo', 'tilikum', 'tilsckfegx', 'timbe', 'timbet', 'timbeta', 'time', 'times', 'timon', 'timóteo', 'tinha', 'tio', 'tiolkn7yga', 'tipo', 'tira', 'tiradas', 'tiradentes', 'tirar', 'tirarem', 'tire', 'tiro', 'tiros', 'tiroteio', 'tirraflpgh', 'tiró', 'titi', 'tive', 'tivemos', 'tiveram', 'tivesse', 'tizxhb6pfv', 'tj', 'tjmg', 'tjnorin1dx', 'tjr9kvdcy8', 'tk7qqp1ojs', 'tk8v3o47oz', 'tkahve9gsq', 'tkba4q8h4u', 'tkbcpaiqkq', 'tkdpdixwsm', 'tknm5bkw5m', 'tku2nea1ap', 'tkwhpjuaab', 'tl1qgwutac', 'tlh87lzprj', 'tlhkf3btf6', 'tlioyqekb0', 'tlls7w4wfg', 'tlx0swoq5l', 'tlx8rrceza', 'tlycplvy1h', 'tmkdz7dtjk', 'tmpgu9qpbp', 'tmtpe', 'tmtpebncye', 'tn1xxvhklv', 'tn2ybwm59b', 'tn6ac0cx10', 'tnd1s40cpz', 'tnqgizm89w', 'tntuzu3k3v', 'tnvu0ly61t', 'tnvzqtadad', 'to', 'toa', 'toauoyyjp6', 'tobillo', 'tocantins', 'tocá', 'toda', 'todas', 'todavía', 'todo', 'todos', 'toglie', 'toiauaso3l', 'toke', 'tokkjgdq0e', 'tolerancia', 'tom4yoyyyf', 'toma', 'tomadas', 'tomar', 'tomaz', 'tomou', 'toninho', 'tonvnzgvhq', 'top', 'toples', 'toqjom43wi', 'toque', 'torcer', 'torcida', 'torna', 'torne', 'tornozeleira', 'torrando', 'torrou', 'tortura', 'torturado', 'total', 'totalmente', 'tov9oiuugr', 'towz2m4cib', 'toyhw2yclg', 'toyota', 'tpdlluesdp', 'tphk5vc0gc', 'tpiadzan9m', 'tpucgxrb3a', 'tpzfcs7jad', 'tq21gqmte6', 'tq7rbsqye1', 'tq8qctd0tu', 'tqdq7g3z9v', 'tqds3ut7is', 'tqrk9lynkm', 'tr8jd7wlyw', 'trabalh', 'trabalha', 'trabalhador', 'trabalhadores', 'trabalham', 'trabalhar', 'trabalhei', 'trabalho', 'trabalhos', 'traficante', 'traficantes', 'trafico', 'traje', 'trajetória', 'tranquilidad', 'transeunte', 'transfer', 'transfere', 'transferidos', 'transformam', 'transformou', 'transmite', 'transmitida', 'transmitido', 'transportando', 'transportar', 'transportava', 'transporte', 'tras', 'tratamento', 'tratar', 'trator', 'tratos', 'traumante', 'traumatismo', 'trava', 'travado', 'travam', 'través', 'traz', 'trazia', 'trazido', 'tre', 'trecho', 'treintonas', 'trem', 'tres', 'treta', 'trf8c4dr22', 'trh03go6px', 'tribuna', 'tribunal', 'tributar', 'tricolor', 'trinca', 'trio', 'trip', 'triplica', 'triplicar', 'tripulantes', 'triste', 'tristeza', 'triângulo', 'trj3b1wzuy', 'troc03jgae', 'troca', 'trocam', 'trocar', 'trocasse', 'trocentas', 'troféus', 'tropas', 'trsyye5jft', 'trump', 'trvq59ucrm', 'tráfego', 'tráfico', 'trâmite', 'trâmites', 'trânsito', 'três', 'ts4syrmbmr', 'ts8vq8gz18', 'tse', 'tsejaiucmr', 'tsjqmc4zqd', 'tsou3strzr', 'tsqzdxlt5k', 'tsx8qx7ntg', 'tt', 'ttf8ryu6eo', 'ttulboc74u', 'ttykxjyqrz', 'tu', 'tube', 'tubo', 'tucanato', 'tucano', 'tud', 'tudo', 'tuf1apemoc', 'tufh5lokzo', 'tuiposyzdl', 'tuites', 'tuits', 'tumblr', 'tumiritinga', 'tuotng6eua', 'tupi', 'turismo', 'turista', 'turma', 'turmalina', 'turnê', 'turquia', 'turrist', 'tus', 'tuve', 'tuvo', 'tuya', 'tuyo', 'tv', 'tvhipnhjws', 'tvmazwb2wx', 'tvry2gptux', 'tvs14wbcdu', 'tvtetlnm3s', 'tw', 'tw3gubeuju', 'tweet', 'twet', 'twi7kcakay', 'twitter', 'twji3b1gua', 'twmriwn2hp', 'twrydrj8tr', 'twsplwfs8m', 'twu41ftyfq', 'twvo50a8no', 'twxeuhycpe', 'tx0oyhxken', 'txc5cvrx7o', 'txd1osxjbc', 'txeofx0szn', 'txgedn7l0j', 'txjgfpf4a0', 'txmhaq4rcj', 'txov9oszcq', 'txs6np6uzj', 'ty5e06x2zf', 'ty7l23vrgx', 'tyfwafv74w', 'tyntm3fxcs', 'tytrl5cknp', 'tyv2wuwvzy', 'tz9iwexh6c', 'tzaz01ngio', 'tzfbnpzlez', 'tzh9jcl5yz', 'tzja4awxz1', 'tzziur8m7y', 'tá', 'tático', 'táxi', 'tão', 'técnica', 'técnico', 'têm', 'título', 'tô', 'tú', 'u08dprl01q', 'u0khqkvcqz', 'u11zahqhyd', 'u1hyymmh1a', 'u1xp9qcjlm', 'u2j9cen7le', 'u2qexbwpxz', 'u2su5otbgv', 'u2zduvap3u', 'u3dsp1i2gx', 'u3wa0ega7v', 'u4nn9ichzu', 'u4ol0isugv', 'u4zh9yyj5z', 'u55dzvw7u2', 'u5rxayhstz', 'u5rygtrsg3', 'u5tdsgnazr', 'u6gszi6wh2', 'u6the7aspk', 'u6w3os0mot', 'u7', 'u7jtsf7t06', 'u7ug6y4qsz', 'u88pab2egh', 'u8whwltfm0', 'u9gknggclo', 'u9resusf0y', 'uaarrj3mvy', 'uafrdnehmc', 'uagfvuv7it', 'uai', 'uaitec', 'uam', 'uaxrpwofwy', 'uaytwjkgbz', 'ub68bp8tbk', 'uba', 'ubaporanga', 'ubaí', 'ubcytyfufj', 'uber', 'uberaba', 'uberlandia', 'uberlândia', 'ubk8dwwnus', 'ubl5fwfdxg', 'ubophijvzz', 'ubu6aor8ew', 'ubá', 'uc0rgncm65', 'uc8kasrm06', 'uccugxwq6d', 'uch1lzitlq', 'ucydleclym', 'ud2snr4ets', 'udar0japbm', 'udbhkwinzr', 'udd899dnkh', 'udfi75fxbf', 'udlcmybmwf', 'udrj1yzlwi', 'udrvaktuss', 'udx8wfy4ze', 'udzn8jquxe', 'ue', 'uedxnjucpt', 'ueggbbr2cu', 'uekmqrp9te', 'uemg', 'ueuvvlmmoz', 'ueyyusbev4', 'uf4grn8dwx', 'uf5iiyljay', 'uf80o0oqik', 'uf8lruw8ji', 'ufcqg8on1g', 'uff8hfmii7', 'ufgoaqol3b', 'ufifnn99vx', 'ufjf', 'ufmg', 'ufoxdzwcjz', 'ufpel', 'uftm', 'ufxwk4ie78', 'ufzzucyjhw', 'uga7uxmypx', 'ugdsjagilj', 'ughnqyrfnz', 'ugnac3z8lr', 'ugokth4nl4', 'ugqil0h1dv', 'uh5es4zatm', 'uhu', 'uhuijmipoz', 'ui3f7bylx6', 'uin3slnogg', 'uipbonxzn7', 'uiuvgtdi25', 'uj48cayfoo', 'uj84virtbd', 'ujch2kmq6p', 'ujur7zcqow', 'ujvlt65f1t', 'uken8lxjho', 'ukgurgp18q', 'uku0qedkq4', 'ul44bynw6p', 'ul4o8wpafh', 'ulam1aorcs', 'ulhllmvinv', 'uljfkjau8v', 'ulnrar1emk', 'ulpoihvkv1', 'ulpuj6bvtm', 'ulrcc4xz5d', 'ultima', 'ultimamente', 'ultrapassada', 'ulx8rnn2o5', 'ulz5qsmv19', 'um', 'uma', 'umanizzare', 'umas', 'umc8fpon6d', 'umeawt6an2', 'umeis', 'umgcgunt8t', 'umhsdikc3q', 'umjfyhdvdr', 'umlagnpbgn', 'umvuyoekl0', 'un', 'un6ygcauoi', 'una', 'unai', 'unas', 'unaí', 'unbyuxry4q', 'uni', 'uniao', 'unico', 'unidade', 'unidades', 'unidos', 'uniformes', 'uniram', 'universidade', 'universidades', 'universitário', 'união', 'unmhocnure', 'uno', 'unos', 'uns', 'unsaeeqstm', 'unwr2ddbzk', 'unxgqcx9eu', 'unxlbe0jwo', 'unxnl78s9g', 'unxrkcfglr', 'uo9ngrq1yw', 'uodov6d2f3', 'uoh1ef49xg', 'uohi4u0reg', 'uol', 'uolnoticias', 'uonwn3i04o', 'uopktc0udn', 'uoqywjr4mr', 'up7idu4hq1', 'upjblurmlq', 'upufovtka0', 'uq0a9tpb4z', 'uq3yxbdc0n', 'uq5tlv21r8', 'uqrtzituuh', 'ur02twxy4a', 'ur1xyhp4ig', 'ur3xycm4fp', 'uratj1g3bk', 'urbana', 'urgencia', 'urhvckhq5h', 'urisbvdgow', 'urivybldtz', 'urogeqflm4', 'uromwcxcqz', 'urqdchnbea', 'ursos', 'urxjmoejcv', 'urzc6m96yt', 'us3yvbkj31', 'usa', 'usaaxyjsmg', 'usaba', 'usadas', 'usado', 'usando', 'usar', 'usaram', 'usava', 'usavulkxs8', 'use', 'usfptr2tcx', 'usjai6bueu', 'uso', 'usou', 'ustdks5mcn', 'usuários', 'usvomucmuq', 'utcwppbaso', 'ute', 'uteaidnb9l', 'utfrxmeinj', 'utiliza', 'utilizado', 'utilizando', 'utilizar', 'utilizou', 'utku9htsdy', 'utlzkfmz8n', 'utz1h4dhio', 'uu79oimi4h', 'uugenvcdj3', 'uulbe85qog', 'uuqdlaamxy', 'uuuuuui', 'uuwalavawe', 'uvadl4wym8', 'uvlms3wj2a', 'uvohldrs6b', 'uvuu3qlg9p', 'uvxneh3xzu', 'uvy83lyl2x', 'uvzgpt5dpq', 'uw1azfvux6', 'uwbegnflky', 'uwblr47sf2', 'uwczpxnmxt', 'uwdwivf3i6', 'uwjorqdjhx', 'uwjxjyctqu', 'uwkrmqpjfm', 'uwsczij4vf', 'ux22inuzsi', 'uxfptakxte', 'uxiaipezzq', 'uxici5ptfd', 'uxpxl9nve1', 'uxschdqkab', 'uxu3yexdpd', 'uy1s5nnbuj', 'uy5qujo8wx', 'uydccld1k1', 'uyk8hmu6zr', 'uymclfvu98', 'uyw7feahoc', 'uyzwos2pxo', 'uz5lmsohwp', 'uzbbhtuv4f', 'uzbiyjfodj', 'uzeq60rjfu', 'uzigy3iakg', 'uzmwl3lkzz', 'uznm0ijedj', 'uzw2mqup3p', 'v0jx9rgx5m', 'v26m6ajscg', 'v2xcl9ok9f', 'v3lts7clig', 'v3ymuy1xc1', 'v3zp3jbu6w', 'v484sn3mak', 'v4hwhs6rmf', 'v4lmy', 'v4lmybjgny', 'v4nw5ksowb', 'v4wes3nbnw', 'v5tqjgyzif', 'v5xcrs5wjm', 'v5xg2uwgka', 'v6auqneukf', 'v6bhach9n4', 'v6l07zm4zl', 'v6lz557k6d', 'v7p8d9xu1h', 'v89pbu0whn', 'v8nvkjq46v', 'v988wkiidl', 'v9n3miqqpz', 'va', 'va8panamd0', 'vaca', 'vacina', 'vacinados', 'vacinal', 'vacinam', 'vacinar', 'vacinará', 'vacinas', 'vacinação', 'vadiagem', 'vadskibh', 'vaga', 'vagabundo', 'vagas', 'vai', 'vaibwg9scs', 'valad', 'valadares', 'valdares', 'valdemiro', 'vale', 'valedojequitinhonha', 'valencia', 'valor', 'valores', 'valorizado', 'vamos', 'van', 'vandalismo', 'vaoukr508m', 'vapd9z07mi', 'vapor', 'vaquinha', 'varejo', 'varejão', 'varginha', 'varia', 'varias', 'vario6nzyn', 'vasta', 'vavkghawdj', 'vaya', 'vayan', 'vazar', 'vb81rl5en7', 'vbbzyasvbb', 'vbklxzottt', 'vbncrafobi', 'vboksx4osq', 'vbuavfwm45', 'vbvugwjbl8', 'vbw2vhjk7i', 'vc', 'vcaz2boxee', 'vccbj79spy', 'vclpaysiel', 'vclsvok7sr', 'vcqkwyokxi', 'vcs', 'vcvqcuhcxw', 'vd7er0bfml', 'vdesvcnigp', 'vdlqu99yyu', 'vduzf5y3fg', 'vdyqdkhtpp', 'vdztkhmitr', 've', 've1wfi68px', 've7jrcjmej', 'vebzqivnjx', 'veces', 'vecina', 'vector', 'veg2icvgjw', 'veia', 'veiculo', 'vej', 'veja', 'vejam', 'velho', 'velocidade', 'vem', 'ven', 'vena', 'vence', 'venceremos', 'venceu', 'venda', 'vende', 'vendendo', 'vender', 'venderem', 'vendo', 'venezuela', 'venezuelana', 'venga', 'venécia', 'veo', 'veo4drndgk', 'ver', 'verbas', 'verd', 'verdad', 'verdade', 'verdadeira', 'verdadeiro', 'verde', 'vereador', 'vereadores', 'vergación', 'vergonha', 'vergüenza', 'verlo', 'vermelho', 'vermelhos', 'versión', 'verão', 'ves', 'vespasiano', 'vestibular', 'vestido', 'veta', 'vete', 'veto', 'vetos', 'vex31brhbf', 'vez', 'vezes', 'vezr09zwpm', 'veículo', 'veículos', 'vfavb7pt5y', 'vfijretmgy', 'vfovkssiif', 'vfwtt85vrv', 'vfxas6vfsz', 'vgew1lxvxn', 'vgorodpzpt', 'vgpvnw5huc', 'vgqrm16eie', 'vgwksdizxo', 'vheqpaoboj', 'vhmkqiozw3', 'vi', 'vi1ambpmag', 'vi7vvkhvqz', 'via', 'viaduto', 'viagem', 'viagens', 'viajar', 'viajou', 'vias', 'viasnwrro1', 'viatura', 'viaturas', 'vice', 'vicepresidente', 'vida', 'video', 'videoinstalações', 'vidrios', 'vieira', 'vieja', 'viejísimo', 'vieron', 'vigi1zighp', 'vigilânciasanitária', 'vila', 'vindo', 'vindos', 'vingar', 'vio', 'violencia', 'violenta', 'violentos', 'violência', 'vionvy20d6', 'viortyhl8o', 'vira', 'virada', 'virou', 'visando', 'visita', 'visitantes', 'visitar', 'visite', 'visitou', 'vista', 'viste', 'visto', 'vitadtlhdp', 'vitima', 'viu', 'viva', 'vive', 'vivem', 'viver', 'vivimos', 'vivo', 'vivos', 'viw6omdalr', 'vizinho', 'vizinhos', 'viária', 'viçosa', 'viçoso', 'vjp30gtssg', 'vjtkp2', 'vjtkp21pxg', 'vkaskr1cb6', 'vkdyqn4v9c', 'vkkf6i1ige', 'vkkk3gh9ci', 'vkqbhbc7dv', 'vksoauvokz', 'vktjoqw3gs', 'vkuj53gl9w', 'vlgprqteud', 'vligzshxfp', 'vllvic2wx9', 'vlmtjtyyfn', 'vltnujl0sp', 'vlw', 'vm33ng51mb', 'vms', 'vmum0vkvqg', 'vmzbjnrrhf', 'vn62nm8lqo', 'vna6rksedl', 'vnawil7zit', 'vngskmisdf', 'vnrbohzfbw', 'vnvvpjaijc', 'vnwyfmaf6r', 'voa', 'voaaaa', 'voando', 'vobe2wkybb', 'vobrpj2rqe', 'voces', 'você', 'vocês', 'voe', 'voelkho5iq', 'vog5yckr1m', 'voixcserhm', 'vok77suuh6', 'volta', 'voltaaaa', 'voltaire', 'voltam', 'voltando', 'voltar', 'voltará', 'voltem', 'voluntários', 'volvi', 'volvió', 'vontade', 'voo', 'vooooaaaaa', 'voos', 'voou', 'vos', 'vosj4duaum', 'vota', 'votar', 'votaram', 'votos', 'votou', 'vou', 'voxamqt2po', 'voy', 'voywgim3gc', 'voz', 'voz9bfihbr', 'voznd1vocx', 'vpgzggu3vu', 'vpiuxikjpc', 'vpixcgf6jj', 'vpkdnmdpgq', 'vpmgd9xmnt', 'vpovqk6cnt', 'vptf7ggyf2', 'vpvk6gnqlv', 'vqhk0qht1k', 'vqnzg7ctfm', 'vqptdbu62n', 'vqthdz5ugt', 'vra0kwalyl', 'vrgzkepmdu', 'vrliuomelz', 'vrqkdxci6r', 'vru', 'vrum1owstu', 'vrvkvmz8nd', 'vs', 'vs8vq492gl', 'vsbj2cxdur', 'vsihkzxfvw', 'vsnknpmx8e', 'vsscqsz7fa', 'vsuothturs', 'vswq5fwaye', 'vsxnjc012z', 'vtiekdzn55', 'vtjdfwvhtf', 'vtkdjht37u', 'vtzmrgn5c9', 'vuami31vhv', 'vubsmjazd2', 'vuelvo', 'vujg7pftah', 'vuz6qepnlo', 'vuzuc3mscs', 'vv1qnvkun9', 'vvkxamiwpr', 'vvyn8lhgwj', 'vvzffa6w96', 'vwhfgfgytv', 'vwhmr2gahv', 'vwighxnizs', 'vwjonmeycv', 'vwpnsfu27r', 'vwqgbgmzxm', 'vwwekfydwk', 'vx4le6igzo', 'vxg3hdywhm', 'vxi9vb3gbj', 'vxlknhl1xy', 'vxnsvsvpxw', 'vxpinsuv8f', 'vxqbp1sesj', 'vxqc5gskhj', 'vxr83sdrw8', 'vxr8g0stdt', 'vxt9ubj38l', 'vxutqzcc9h', 'vyfyspqg9c', 'vyrb2bxsa3', 'vyrbljeq56', 'vz1crodpbf', 'vzdxmhk1qh', 'vzeg0shq69', 'vzlxrrszqs', 'vznbnlyqbf', 'vzsztsyjn3', 'vztbkauwdt', 'vzvu4vqumr', 'vzx040dswe', 'várias', 'vários', 'vão', 'vê', 'vêem', 'vía', 'vídeo', 'vídeos', 'vínculo', 'vítima', 'vítimas', 'víts', 'w03irxquhm', 'w0rpsnpqqv', 'w1fnygws7d', 'w1qdbu8phr', 'w1uxbt0afx', 'w1w2san172', 'w21057c6ma', 'w2jiyqv5ye', 'w2phkmwicl', 'w2pnhz', 'w2qourijvh', 'w2xp', 'w2xpfzgiok', 'w3cr89l0dk', 'w3m2ou8hvs', 'w3ok9mp7zc', 'w3reiqhp6i', 'w3wlbgfswz', 'w4dzb3agft', 'w4imuje8em', 'w4n2tiefew', 'w4uaye3noi', 'w5fruqskm2', 'w5k7nqhciz', 'w5u9eaduzp', 'w5yd5g1fj3', 'w6aofmmsva', 'w78i0xmqsy', 'w7cmljycsi', 'w7jsbzd01r', 'w7soxyyinm', 'w8gccwpj4v', 'w8sllouihz', 'w8zs2omepy', 'w9drhsizmj', 'w9mtvugu2c', 'w9yv5n7yrp', 'waashqhblg', 'wabswwyvsp', 'wacha', 'wachins', 'walmart', 'walxs8gtwt', 'wanda', 'warfare', 'washin', 'wave', 'wayvefkh5m', 'wbjehj8v3w', 'wbp61xq3bu', 'wc1vdwwrjn', 'wceds32zcq', 'wcgsyakf8u', 'wcmh4qhxt7', 'wcsxar88cu', 'wctpnueogb', 'wcvun3ixhn', 'wdy0iwz2hy', 'wear2qyowx', 'web', 'wec2m8oxsa', 'wefv5ilyju', 'wellington', 'weodwjeme0', 'weqsyqxrpl', 'wesvty2qm5', 'wevdxjku3d', 'wezbacen0h', 'wfd7wf2fmj', 'wfnflurzi9', 'wfwaqrqvlq', 'wg02jnotlm', 'wgb3qh6b17', 'wgdkmhwfm8', 'wgjqeq5rgz', 'wgkinilyp2', 'wgp6gdbh48', 'wgq38j54jg', 'wgr318hoo', 'wguno0gkke', 'wgwxtbtw9k', 'whatsapp', 'whaxcjcwvh', 'whoxwjxkqq', 'whp3fjix5k', 'whtppnxdok', 'wi84zrs9hw', 'widnafnxqe', 'wifi', 'wififorjudas', 'wii4yk6ds8', 'william', 'windows', 'wiobjmmxm9', 'wire', 'wivjipkhhz', 'wivoidvnw7', 'wj7wmchv8s', 'wj9fwupes1', 'wjd4n1ijpi', 'wjflf0n6ps', 'wjwljjhevp', 'wk7hxwv0ch', 'wk9bjkhp5z', 'wkwqqhbvdw', 'wl4ww6yz5x', 'wlgrfdtvfs', 'wlittive5o', 'wlohvhj6lh', 'wloxkgtszp', 'wlre0r3eib', 'wlsls1t6zi', 'wlvto7kois', 'wlwnlspv6d', 'wm6fr5u1t0', 'wm6q4gzhg5', 'wmjga8tvaj', 'wmnrt163iw', 'wmopa8ghwy', 'wmuriya2u0', 'wmy6rgtgev', 'wn0hkmh4js', 'wncqykli95', 'wnkdw84flh', 'wnpdzgiyx3', 'wns', 'wnuq56egqu', 'wnzghkkpyi', 'wo7ey1eobi', 'woaklzqp79', 'wolverine', 'woooo', 'world', 'wotcmhsqr6', 'wotpgruxf8', 'wow', 'wowgo0ko2a', 'wozcqsdtdy', 'wozvij5qbp', 'wp2molwqgq', 'wpdqbzxnri', 'wpokyqt3tc', 'wpqsjxcrmf', 'wpuszxsk9d', 'wpwdmu7gtu', 'wq05gujfpg', 'wqayn2jz56', 'wqe7eskrcl', 'wqf1wvnxzm', 'wqf7edkvlb', 'wqg16lh2au', 'wqhlnlmvof', 'wqupzkbxjt', 'wrdod5gcj1', 'wrebdxhghe', 'wri52ve7ha', 'wrmecvan4p', 'wrnayxc8uh', 'wroxgwfosj', 'wrwecsi6rc', 'wrxwcivtbf', 'wsc68gnfef', 'wsfnrs7rbh', 'wsla8boxki', 'wsp174kuhv', 'wssenhwpab', 'wt2b1mbbwl', 'wt9xrjdjum', 'wteytdwqfb', 'wtfdqltlcx', 'wtg1f3srbv', 'wtmhxmxdcu', 'wtmwgznrp5', 'wu4gncfetu', 'wudo8y24i6', 'wueon', 'wv6ogyz6ld', 'wve8hkgee3', 'wvjwtonnzq', 'wvortz4jyt', 'wvpjcilwzi', 'wvpucpfjir', 'wvs98ilgoy', 'wvutcixdqe', 'ww2ovwxv3m', 'ww49owlr27', 'ww4v5b8t3f', 'wwky8u3ybg', 'wwq', 'wwqzlofvtt', 'wwx', 'wwxjlgpooz', 'wwyo25lbpf', 'wxclvokzna', 'wxcrpiexsu', 'wxedtfohkw', 'wxj84x43jv', 'wxjtul6e7f', 'wxlf2kx3l7', 'wxln83skmm', 'wxlzcsoqmd', 'wxwfstefz1', 'wyf9ozvv3v', 'wymvbcucyd', 'wynbw8vtam', 'wyt2nesltx', 'wytqx1uzhu', 'wyumqaoqfy', 'wyuxsuucfz', 'wz87ovfo3h', 'wzesjpleek', 'wzgb3xmgjj', 'wzhqddey4e', 'wzlcit', 'wznamsj82e', 'wzoiu4yjgs', 'wzsqgjkopp', 'wzwfnvkkfx', 'wzxrv3d7ny', 'x01horwysc', 'x0epvvhxgk', 'x0gs96y6bp', 'x0kyzkbtrd', 'x1vi63a06n', 'x2csuepbmo', 'x2dhnxvspw', 'x2ilyt2iuu', 'x2mbgquf8x', 'x3ahin2dsc', 'x3e5dciump', 'x3spxgegcw', 'x40ay1awtn', 'x47fo27pvx', 'x4c02eg5nq', 'x5oulwr8gg', 'x6drr5c14q', 'x6g8dbbg1q', 'x7gf8irq3b', 'x7oft22y3f', 'x7sp1lf4qw', 'x82ezu7r5p', 'x8hc227gsn', 'x9grdb43x5', 'x9xtp8amsz', 'xaioaue6qo', 'xaljjzsbov', 'xaofh9qlhz', 'xapkfewve1', 'xawgig7z6w', 'xbcfw3ltwj', 'xbfzz94skc', 'xbg0f2kcp2', 'xbom5to4cv', 'xbsy4muob6', 'xbxlddzdrb', 'xbyig3ujkr', 'xckz92ejrk', 'xcnid3gxud', 'xcowupur9h', 'xct91chn9q', 'xd', 'xd2arbaqqe', 'xd6iohnrae', 'xdf3z2d3g7', 'xdf3z2ueeh', 'xdfthpncsf', 'xdjduwbsi6', 'xdr5dimir4', 'xdwwdfpywr', 'xdyfr9jd6v', 'xe0izc85h5', 'xe7ems46p2', 'xean2b37je', 'xeeancfghs', 'xel3t2gvxs', 'xeljybe0b6', 'xelkc8dqng', 'xensyr1d0p', 'xeon7v5dhv', 'xeqirynzzx', 'xeuk988t8h', 'xf9ciqqy9a', 'xfbftvd6gn', 'xfqkialeu6', 'xfsnssai4c', 'xfwbqhaiu9', 'xfzraw0hn0', 'xg1zklj78k', 'xgcj0mbnol', 'xgjxkrtlvf', 'xguefobob1', 'xgwijt3cbz', 'xh4t1rrhdp', 'xhebs04qw4', 'xhlusklgbe', 'xhlyhbouhg', 'xhvks4ofxt', 'xibybyev89', 'xicdo8ycvf', 'xigbntglve', 'xiklqqb6o4', 'xiltjjfqyo', 'xilu4hnvtd', 'xisnc9vfaz', 'xitdb3qqer', 'xj1zjftznd', 'xj4muzkfxp', 'xj6goa4q8m', 'xjfmfkurwc', 'xjmqjdawew', 'xk54yxyxxm', 'xkajwmzocm', 'xkkapnwnta', 'xkkq1a95st', 'xksjrndinc', 'xkterm2091', 'xkv2a2cpna', 'xkw9efvxwv', 'xl39ljffpl', 'xm71zj65dz', 'xmjtp3hgt0', 'xmmd7ezbgi', 'xmrfvcmpsy', 'xmwcgjcemm', 'xn3ckwx6hu', 'xnsakx4bt2', 'xo1l54r0pt', 'xo5mnsorrb', 'xo75nuoitt', 'xobq0s3l', 'xobq0s3lji', 'xoeo10dlog', 'xogvfjtmcr', 'xogzdm2vxv', 'xophqghtzc', 'xopxivgcyh', 'xozevye27k', 'xpc6sy9b8n', 'xpe83jfxmq', 'xpiwbwuq5r', 'xpnt6omym6', 'xppiwywq1l', 'xq', 'xqffnrl4v7', 'xqoa7wdb1c', 'xqpj1x9x8c', 'xqxthf640c', 'xqyae9eytp', 'xr2blj7uy1', 'xr7y6fbk4m', 'xrdsm7watl', 'xs3cgpckb8', 'xs6g0snepw', 'xs9r8hnhkh', 'xsbzc8lxlr', 'xscs3s0kpf', 'xskrgubskg', 'xstjlhqxvr', 'xsutv6sese', 'xsv6nxe3yf', 'xsz6qdzwzw', 'xt5rihcdkc', 'xterxplte1', 'xtesramukb', 'xtjnfgfyvq', 'xtjy9pmfzo', 'xtlriell6n', 'xtpp7rgcmm', 'xtvg62hi5z', 'xtxl1vnerx', 'xu3kihex1e', 'xu4skywryk', 'xue8uwwqp4', 'xunciukwyd', 'xusvojcjgw', 'xuttz4rc8w', 'xv5juiydgm', 'xvb9kbjtuh', 'xvcsbgsgog', 'xvnzhm522x', 'xvvvzwso40', 'xvwewcypqx', 'xwfo5gl7ll', 'xwfolp5ro9', 'xwgchyww2o', 'xwlqzflkdi', 'xwqwhp5na2', 'xwtpqvqr4b', 'xwvkdpechz', 'xwzya836id', 'xx5rm7cygl', 'xx9wsolnev', 'xxellm0h6i', 'xxirtyslck', 'xxvsafmxgg', 'xxwmsbepbk', 'xxx4wzta9h', 'xxzgfbuz1a', 'xyh7ynnnsj', 'xyic7ta4fn', 'xyj12oke2u', 'xyj9jaxhwg', 'xymgjx5vqk', 'xyoskzi2uw', 'xywxrnib6g', 'xz79vbrex9', 'xzfaqlmzih', 'xzfkoik1ih', 'xzg1dy28bk', 'xzi8scirvc', 'xzitzk0sn9', 'xzq7h2bhes', 'xzropzx4wr', 'xzstdblzy9', 'y0kkcfxan5', 'y0xjrew3rz', 'y11vbw6nhn', 'y11y1t6vfe', 'y12ttnqpnh', 'y194okdnk1', 'y1bq308npny', 'y1jxfw4ux8', 'y1yusuafq4', 'y23pwyrvsa', 'y2hhtw7cim', 'y2obdvfpm3', 'y2ospawcau', 'y2ymcxg17g', 'y39vb1dcbk', 'y3avpn9byr', 'y3umkaontt', 'y4fplosdju', 'y5epkyw9pt', 'y6f2ylhogf', 'y6grjfnelt', 'y6j1wzms7v', 'y6skhy7t97', 'y6uhpsnr4q', 'y6wnpkbvyz', 'y85agazvhi', 'y8mdiyg7qn', 'y8rjp11vqz', 'y9c6iz64zv', 'y9eutfaawx', 'y9l96hdwvk', 'y9qe0prinq', 'y9spnpztjr', 'ya', 'ya3hktxvza', 'ya7mviyljk', 'yaaaaaaa', 'yaai1rziah', 'yablcpefim', 'yaem6s3z2f', 'yagczmcmqb', 'yak', 'yaldpuvkqv', 'yan60cls7y', 'yanckkda4v', 'yaqzkttk3g', 'yaracuy', 'yatze8xerv', 'yb9wwq6yik', 'ybhkv9jtas', 'ybrmkdnz7z', 'ybruwjibfk', 'ycc5kpfz7s', 'ycck1kthpn', 'ycdj23kjri', 'ycegcqwkwo', 'ycobt3bso1', 'ycp2m8jit7', 'ycsa2aemuf', 'ycvsuamoja', 'ydfuwptump', 'ydjhp7vt57', 'ydmw0p3dy2', 'ydn24bwyxp', 'ydnjflyjjb', 'ydohanyxo6', 'ydrirrnzdt', 'ydsga82ul7', 'yebqp6hz4x', 'yebwnrq5il', 'yec_terrza', 'yefa0xedkb', 'yegiujstl7', 'yejk93wwp0', 'yelkxsz9cp', 'yemigpv7hw', 'yesbpxgolz', 'yetu454kx6', 'yewwebbx9e', 'yexyeemevp', 'yezosg8920', 'yfegsiophx', 'yflhehec30', 'yg4rncrhyi', 'yg99tbqtrp', 'ygcf6715qg', 'ygjonjhwge', 'ygloc13fny', 'yhm72aq7dy', 'yhn92vqa9j', 'yhrpqswlm5', 'yhrtrdjybf', 'yhubb53hjj', 'yhxeorhb5o', 'yiiynf4z1v', 'yintnr8thq', 'yipfhbe0dt', 'yipqks6jf2', 'yiqjkebn5k', 'yj0qkprpgt', 'yja7d73bsi', 'yjk85zw0bx', 'yjlwcbz0x2', 'yjroxu8str', 'yjtok6yvxn', 'yjx4p3voki', 'yjy2rcsfwz', 'yjzq4r8898', 'ykgerrkjzs', 'ykm5kn3cpl', 'ykoinpiu2g', 'ykpqjikxzl', 'ykpuqqy22w', 'ykw9dbw2kt', 'ykx6lj6fij', 'ykx7hmsjep', 'yl', 'ylbwyvxuze', 'ylebgpwtv8', 'ylg6viwh2y', 'yln6bfkrob', 'ylnoovomhi', 'yltzvdakyx', 'yluio8uxyh', 'ylxrrcxpks', 'ym4bjklq4q', 'ym6ahn0kgs', 'ym8ismd4wn', 'ymgldkbelx', 'ymhz7tgtqd', 'ymnsub0', 'ymnsub0r1y', 'yms54jh2od', 'ymtensll6i', 'ymtxq9ef9d', 'ymu5axinft', 'ymvbprrv2i', 'ymy20syqso', 'ynlq0jsqzm', 'ynrfwmyg70', 'yo', 'yo5c317nzy', 'yoa8ejrpx8', 'yohgz6775j', 'yojegvomgp', 'yoo', 'york', 'yovqgsmpbr', 'yoyyomkzcr', 'yp6ejj65ab', 'ypb1qmwhbr', 'ypbuizqrso', 'ypbxmgp9kr', 'ypdfo1ytvl', 'ypkx4quqq7', 'ypo9yqdaer', 'ypozie2mye', 'ypupfqja0z', 'ypwfly0u5f', 'ypxpygu2zt', 'yqahmv3xfl', 'yqojop9x5x', 'yqsp79pe5y', 'yqssaqvyxm', 'yqv54kciqu', 'yrf9copods', 'yrfahyursr', 'yris', 'yrlzegpafl', 'yshehmmsxn', 'ysk7byvcga', 'ysnv5xdz10', 'ystdezxurb', 'ysx8txsm50', 'yt2t5lxyph', 'yt30iwjyy8', 'yt5usnhdvx', 'ytecv54gbk', 'ytezkcosx8', 'ytmagwknix', 'ytsnsqacbw', 'ytssgj1xvs', 'yua5alle2m', 'yubkq17bz3', 'yudi', 'yulzrjtxdg', 'yutgflx6yw', 'yveaaqsdbk', 'yvjsjiilyz', 'yvlxq6q6xg', 'yvmolbkbtq', 'yvsjgeehc1', 'yvvfinjall', 'yw2nfqrsor', 'yw6kb6nvzv', 'ywfcmg3opv', 'ywgrkwpzpo', 'ywm4mxkalq', 'ywt3n7wuk7', 'ywth1admjj', 'ywy99uer29', 'yx5u7pry60', 'yxczqxl8fc', 'yxsfya0j7a', 'yxvvwzqk9q', 'yy5unx8jy0', 'yycklhpfju', 'yywbbjzk7t', 'yz3qj0vzz5', 'yzc95xucwl', 'yzeyevqovi', 'yzghpnftp0', 'yzh7jzujg3', 'yzwq41miyd', 'z09kztnips', 'z0zk56skeo', 'z199wnrvst', 'z1igcemitd', 'z21u1vyruq', 'z2bkvqzwmk', 'z2gpxdshp6', 'z2jay0lfdp', 'z3fjdmsucl', 'z3jfarvqg0', 'z3mlyli5uz', 'z45pq8pitl', 'z483ya6m2k', 'z4fkgikbuh', 'z4ocfx6pjd', 'z4sdrskqwn', 'z4y1yggkta', 'z54owhsp34', 'z5pm2xxctv', 'z5wg5uudiv', 'z5wvkuekbu', 'z6enuwzhgn', 'z7dippd0ha', 'z7fua10spp', 'z7xul3a5cy', 'z9fg85nzed', 'z9guhrwlhe', 'z9ilyf4qwb', 'z9lbnvkthr', 'zafv8etm4d', 'zagmc9phlr', 'zaldua', 'zanvwjay5o', 'zaqbxrrjwc', 'zaql4geskj', 'zawp8wgf1t', 'zbbywt58yb', 'zbhzo0qwh6', 'zbitmbrolz', 'zbjx8itspr', 'zbldwwmguk', 'zbohb2n0n3', 'zbsfxrgrs1', 'zbsrvnjqub', 'zbvrdmd6lo', 'zc1q4vnvlc', 'zc80tneyf5', 'zcagoidokk', 'zcgfsed0es', 'zcrhxpxp1p', 'zcsfbju1r3', 'zcuzugp8dq', 'zcwhmsjvfl', 'zd4b38r0xv', 'zdghj8y9nc', 'zdjivg29pl', 'zdjocatdo3', 'zdpezwb7e9', 'zdrkhmwvk2', 'ze8jearlmo', 'zegwcpctig', 'zeivfk5x1m', 'zeiygyj7qt', 'zel3uiuine', 'zenaida', 'zero', 'zerou', 'zesxqpyalo', 'zey2gqttnr', 'zeyhqyahec', 'zf4j3glitx', 'zfberlhphs', 'zfdtf6dhkp', 'zffs6otvv7', 'zfi8iq8667', 'zfjmi8rwsr', 'zfmxi1o2rf', 'zfofxxixtu', 'zfsj6ilihi', 'zg4ri0rlaw', 'zg4w2fqflt', 'zgcmnbuqg4', 'zgdk12gzkp', 'zglyxqqyrd', 'zgpeqepl0o', 'zh6rvx6nqa', 'zh87exti8m', 'zhl8wgjevc', 'zhmum4br4d', 'zia9kg471k', 'ziaf8mpx6b', 'zilrr46rsq', 'zimdpistyf', 'zipi1ryzaj', 'zipthkzwpe', 'ziqjsjktno', 'zjl7l4ws8s', 'zjnm1t4aez', 'zjopfgupha', 'zjvn7wkd1h', 'zk2wesx6qu', 'zkdvt4btrx', 'zkpkfcqqxn', 'zkyuoobnws', 'zkznvmyxbg', 'zl1nlqjlnw', 'zldhsob6hp', 'zlfsvzyag7', 'zll00ar2b4', 'zllksfilx0', 'zlmqtticvh', 'zlqnw2yyk3', 'zmc8nztyhu', 'zmg', 'zmiwgngdr9', 'znv5ntrno1', 'zoando', 'zoc0ycucay', 'zogi877lrn']\n"
     ]
    }
   ],
   "source": [
    "print(vectorizer.get_feature_names()[:-100])"
   ]
  },
  {
   "cell_type": "code",
   "execution_count": 21,
   "metadata": {},
   "outputs": [
    {
     "data": {
      "text/plain": [
       "(8199, 12296)"
      ]
     },
     "execution_count": 21,
     "metadata": {},
     "output_type": "execute_result"
    }
   ],
   "source": [
    "freq_tweets.shape"
   ]
  },
  {
   "cell_type": "markdown",
   "metadata": {},
   "source": [
    "(8199, 12296) - Novo\n",
    "(8199, 13029) - Antigo (com emoji)"
   ]
  },
  {
   "cell_type": "code",
   "execution_count": 22,
   "metadata": {},
   "outputs": [
    {
     "data": {
      "text/plain": [
       "MultinomialNB()"
      ]
     },
     "execution_count": 22,
     "metadata": {},
     "output_type": "execute_result"
    }
   ],
   "source": [
    "modelo = MultinomialNB() # Bayes\n",
    "modelo.fit(freq_tweets,classes)"
   ]
  },
  {
   "cell_type": "markdown",
   "metadata": {},
   "source": [
    "** Testando o modelo com algumas instâncias simples**"
   ]
  },
  {
   "cell_type": "code",
   "execution_count": 25,
   "metadata": {},
   "outputs": [],
   "source": [
    "testes = ['Esse governo está no início, vamos ver o que vai dar',\n",
    "          'Estou muito feliz com o governo de Minas esse ano',\n",
    "          'O estado de Minas Gerais decretou calamidade financeira!!!',\n",
    "          'A segurança desse país está deixando a desejar',\n",
    "          'O governador de Minas é do PT']"
   ]
  },
  {
   "cell_type": "code",
   "execution_count": 26,
   "metadata": {},
   "outputs": [],
   "source": [
    "freq_testes = vectorizer.transform(testes)"
   ]
  },
  {
   "cell_type": "code",
   "execution_count": 27,
   "metadata": {},
   "outputs": [
    {
     "data": {
      "text/plain": [
       "matrix([[0, 0, 0, ..., 0, 0, 0],\n",
       "        [0, 0, 0, ..., 0, 0, 0],\n",
       "        [0, 0, 0, ..., 0, 0, 0],\n",
       "        [0, 0, 0, ..., 0, 0, 0],\n",
       "        [0, 0, 0, ..., 0, 0, 0]])"
      ]
     },
     "execution_count": 27,
     "metadata": {},
     "output_type": "execute_result"
    }
   ],
   "source": [
    "freq_testes.todense()"
   ]
  },
  {
   "cell_type": "code",
   "execution_count": 31,
   "metadata": {},
   "outputs": [
    {
     "name": "stdout",
     "output_type": "stream",
     "text": [
      "['zohllpax9w', 'zona', 'zonas', 'zoqrb2ul3y', 'zorra', 'zp4i49i9gg', 'zp7nu94pip', 'zphsc3gzqd', 'zpjdimiwua', 'zpmuc7ckhw', 'zqce5mrgkf', 'zqgejpu91n', 'zqi', 'zqlb256xcs', 'zqwbburt9m', 'zqx6ikojpq', 'zqyd3mf8ot', 'zr9n6gl0kw', 'zraef33t5x', 'zrdk8b95dp', 'zrorb7wqvj', 'zrvoddrqmx', 'zs1etxeaan', 'zsd6wjez81', 'zsgbum3o4e', 'zsjjvgzyos', 'zsoqtm4rck', 'zsvicxvk4g', 'zsyjqpjzrx', 'zsz6mpraxn', 'zt4qhla10z', 'zte5xq0dyd', 'zti8teclxw', 'ztjpvmmx6e', 'ztlv54pcjm', 'ztpoffmzlz', 'ztrz8mgrrp', 'ztvq2ym4aj', 'ztww3u9epm', 'zuapghxzpa', 'zuar', 'zuejudw7xs', 'zulia', 'zurdos', 'zuyjfmh6jo', 'zvhwo4czah', 'zvr2targsb', 'zvrzvxdphk', 'zvvukpnmai', 'zvw2v3jkwj', 'zw4zuzlx8k', 'zwi7kis4zy', 'zwlompgs4u', 'zx55pdbxb2', 'zx5ipheoce', 'zxcaxoshcx', 'zxdfyqiu7q', 'zxkq7uyaum', 'zxnvxcjw7m', 'zxp0aku6vr', 'zxrmm78yyj', 'zxu0kyji3q', 'zygmunt', 'zyp224zjcc', 'zysr7hnu1e', 'zytbmnch2h', 'zze0wfnyil', 'zze9oxap3c', 'zzf7nfb4et', 'zzm1tcutjz', 'zznv9jkmop', 'zzpbswmcyx', 'zzqawnrxqc', 'zzqrgwnlvl', 'zé', 'àecio', 'às', 'água', 'ángel', 'ánimo', 'área', 'áreas', 'él', 'éste', 'ética', 'êxito', 'êxodo', 'índice', 'índios', 'íntegra', 'óbitos', 'ódio', 'órgãos', 'ótimo', 'ônibus', 'última', 'último', 'últimos', 'única', 'único']\n"
     ]
    }
   ],
   "source": [
    "print(vectorizer.get_feature_names()[-100:])"
   ]
  },
  {
   "cell_type": "code",
   "execution_count": 32,
   "metadata": {},
   "outputs": [
    {
     "data": {
      "text/plain": [
       "array(['Neutro', 'Neutro', 'Negativo', 'Negativo', 'Neutro'], dtype='<U8')"
      ]
     },
     "execution_count": 32,
     "metadata": {},
     "output_type": "execute_result"
    }
   ],
   "source": [
    "# Fazendo a classificação com o modelo treinado.\n",
    "modelo.predict(freq_testes)"
   ]
  },
  {
   "cell_type": "code",
   "execution_count": 33,
   "metadata": {},
   "outputs": [
    {
     "name": "stdout",
     "output_type": "stream",
     "text": [
      "Novas Instancias Classificadas...\n",
      "Neutro  ->  Esse governo está no início, vamos ver o que vai dar\n",
      "Neutro  ->  Estou muito feliz com o governo de Minas esse ano\n",
      "Negativo  ->  O estado de Minas Gerais decretou calamidade financeira!!!\n",
      "Negativo  ->  A segurança desse país está deixando a desejar\n",
      "Neutro  ->  O governador de Minas é do PT\n"
     ]
    }
   ],
   "source": [
    "#df = pd.DataFrame()\n",
    "#df['tweet'] = testes\n",
    "#df['classificacao'] = modelo.predict(freq_testes)\n",
    "\n",
    "tweets = testes\n",
    "classificacao = modelo.predict(freq_testes)\n",
    "\n",
    "print (\"Novas Instancias Classificadas...\")\n",
    "for i in range(len(testes)):\n",
    "    print (classificacao[i], \" -> \", tweets[i] )"
   ]
  },
  {
   "cell_type": "markdown",
   "metadata": {},
   "source": [
    "** Avaliando o modelo **"
   ]
  },
  {
   "cell_type": "code",
   "execution_count": 34,
   "metadata": {},
   "outputs": [],
   "source": [
    "# Fazendo o cross validation do modelo\n",
    "resultados = cross_val_predict(modelo, freq_tweets, classes, cv=10)"
   ]
  },
  {
   "cell_type": "code",
   "execution_count": 35,
   "metadata": {},
   "outputs": [
    {
     "data": {
      "text/plain": [
       "124163"
      ]
     },
     "execution_count": 35,
     "metadata": {},
     "output_type": "execute_result"
    }
   ],
   "source": [
    "freq_tweets.count_nonzero()"
   ]
  },
  {
   "cell_type": "code",
   "execution_count": 36,
   "metadata": {},
   "outputs": [
    {
     "data": {
      "text/plain": [
       "array(['Neutro', 'Neutro', 'Neutro', 'Positivo', 'Neutro', 'Neutro',\n",
       "       'Neutro', 'Neutro', 'Negativo', 'Neutro'], dtype='<U8')"
      ]
     },
     "execution_count": 36,
     "metadata": {},
     "output_type": "execute_result"
    }
   ],
   "source": [
    "resultados[:10]"
   ]
  },
  {
   "cell_type": "code",
   "execution_count": 37,
   "metadata": {},
   "outputs": [
    {
     "data": {
      "text/plain": [
       "0.8832784485912917"
      ]
     },
     "execution_count": 37,
     "metadata": {},
     "output_type": "execute_result"
    }
   ],
   "source": [
    "# Medindo a acurácia média do modelo\n",
    "metrics.accuracy_score(classes,resultados)"
   ]
  },
  {
   "cell_type": "markdown",
   "metadata": {},
   "source": [
    "0.8832784485912917 - Sem emoji\n",
    "0.8831564824978656 - com emoji"
   ]
  },
  {
   "cell_type": "markdown",
   "metadata": {
    "collapsed": true
   },
   "source": [
    "### Matriz de Confusão"
   ]
  },
  {
   "cell_type": "code",
   "execution_count": 38,
   "metadata": {},
   "outputs": [
    {
     "name": "stdout",
     "output_type": "stream",
     "text": [
      "PREDITO   Negativo  Neutro  Positivo   All\n",
      "REAL                                      \n",
      "Negativo      2282     157         7  2446\n",
      "Neutro         248    2068       137  2453\n",
      "Positivo        46     362      2892  3300\n",
      "All           2576    2587      3036  8199\n"
     ]
    }
   ],
   "source": [
    "# Matriz de confusão\n",
    "print (pd.crosstab(classes, resultados, rownames=['REAL'], colnames=['PREDITO'], margins=True))"
   ]
  },
  {
   "cell_type": "markdown",
   "metadata": {},
   "source": [
    "PREDITO   Negativo  Neutro  Positivo   All\n",
    "REAL                                      \n",
    "Negativo      2275     162         9  2446\n",
    "Neutro         240    2067       146  2453\n",
    "Positivo        45     356      2899  3300\n",
    "All           2560    2585      3054  8199"
   ]
  },
  {
   "cell_type": "code",
   "execution_count": 39,
   "metadata": {},
   "outputs": [
    {
     "name": "stdout",
     "output_type": "stream",
     "text": [
      "              precision    recall  f1-score   support\n",
      "\n",
      "    Positivo       0.95      0.88      0.91      3300\n",
      "    Negativo       0.89      0.93      0.91      2446\n",
      "      Neutro       0.80      0.84      0.82      2453\n",
      "\n",
      "    accuracy                           0.88      8199\n",
      "   macro avg       0.88      0.88      0.88      8199\n",
      "weighted avg       0.89      0.88      0.88      8199\n",
      "\n"
     ]
    },
    {
     "name": "stderr",
     "output_type": "stream",
     "text": [
      "/Users/aulas_uepb/opt/anaconda3/lib/python3.8/site-packages/sklearn/utils/validation.py:68: FutureWarning: Pass labels=['Positivo', 'Negativo', 'Neutro'] as keyword args. From version 0.25 passing these as positional arguments will result in an error\n",
      "  warnings.warn(\"Pass {} as keyword args. From version 0.25 \"\n"
     ]
    }
   ],
   "source": [
    "# Medidas de validação do modelo\n",
    "sentimento=['Positivo','Negativo','Neutro']\n",
    "print (metrics.classification_report(classes,resultados,sentimento))"
   ]
  },
  {
   "cell_type": "code",
   "execution_count": null,
   "metadata": {},
   "outputs": [],
   "source": []
  }
 ],
 "metadata": {
  "kernelspec": {
   "display_name": "Python 3",
   "language": "python",
   "name": "python3"
  },
  "language_info": {
   "codemirror_mode": {
    "name": "ipython",
    "version": 3
   },
   "file_extension": ".py",
   "mimetype": "text/x-python",
   "name": "python",
   "nbconvert_exporter": "python",
   "pygments_lexer": "ipython3",
   "version": "3.8.3"
  }
 },
 "nbformat": 4,
 "nbformat_minor": 2
}
