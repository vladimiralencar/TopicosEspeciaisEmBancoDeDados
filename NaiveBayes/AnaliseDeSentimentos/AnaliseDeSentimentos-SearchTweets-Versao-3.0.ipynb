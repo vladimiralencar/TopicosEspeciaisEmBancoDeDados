{
 "cells": [
  {
   "cell_type": "markdown",
   "metadata": {},
   "source": [
    "# Análise de Sentimentos + Demo de Busca com Twitter"
   ]
  },
  {
   "cell_type": "code",
   "execution_count": 5,
   "metadata": {},
   "outputs": [],
   "source": [
    "#!pip install tweepy"
   ]
  },
  {
   "cell_type": "code",
   "execution_count": 6,
   "metadata": {},
   "outputs": [],
   "source": [
    "import tweepy\n",
    "from tweepy import OAuthHandler\n",
    "def load_api():\n",
    "    ''' Function that loads the twitter API after authorizing the user. '''\n",
    "    CONSUMER_KEY = '7Q5yEwrYLAUkYLXna0ZGTfefD'\n",
    "    CONSUMER_SECRET = '5A1xx6c0wvIqZFgF6kn0bPAfPo7ERhXgAslBJeKZ66JPVY10uc'\n",
    "    OAUTH_TOKEN = '2904474861-SuqqjBrphTNAI1rGHAecrQf5wT4ByauhEKjPdXC'\n",
    "    OAUTH_TOKEN_SECRET = 'YKXb7UjHUiLAZ04r6KOTjm9s6lrx7GZcRGA9fqJTPxMHw'\n",
    "    \n",
    "    \n",
    "    consumer_key = CONSUMER_KEY\n",
    "    consumer_secret = CONSUMER_SECRET\n",
    "    access_token = OAUTH_TOKEN\n",
    "    access_secret = OAUTH_TOKEN_SECRET\n",
    "    auth = OAuthHandler(consumer_key, consumer_secret)\n",
    "    auth.set_access_token(access_token, access_secret)\n",
    "    # load the twitter API via tweepy\n",
    "    return tweepy.API(auth)"
   ]
  },
  {
   "cell_type": "code",
   "execution_count": 7,
   "metadata": {},
   "outputs": [],
   "source": [
    "def tweet_search(api, query, max_tweets): #, max_id, since_id, geocode):\n",
    "    ''' Function that takes in a search string 'query', the maximum\n",
    "        number of tweets 'max_tweets', and the minimum (i.e., starting)\n",
    "        tweet id. It returns a list of tweepy.models.Status objects. '''\n",
    "\n",
    "    searched_tweets = []\n",
    "    while len(searched_tweets) < max_tweets:\n",
    "        remaining_tweets = max_tweets - len(searched_tweets)\n",
    "        try:\n",
    "            new_tweets = api.search(q=query, count=remaining_tweets )#,\n",
    "                                    #since_id=str(since_id), max_id=str(max_id-1))\n",
    "#                                    geocode=geocode)\n",
    "            print('found',len(new_tweets),'tweets of ', query)\n",
    "            if not new_tweets:\n",
    "                print('no tweets found')\n",
    "                break\n",
    "            searched_tweets.extend(new_tweets)\n",
    "            max_id = new_tweets[-1].id\n",
    "        except tweepy.TweepError:\n",
    "            print('exception raised, waiting 15 minutes')\n",
    "            print('(until:', dt.datetime.now()+dt.timedelta(minutes=15), ')')\n",
    "            time.sleep(15*60)\n",
    "            break # stop the loop  \n",
    "    return searched_tweets, max_id"
   ]
  },
  {
   "cell_type": "code",
   "execution_count": 8,
   "metadata": {},
   "outputs": [],
   "source": [
    "def convert_structure_to_tweet(tweets):\n",
    "    tweets_only_text = []\n",
    "    for tweet in tweets:\n",
    "        tweets_only_text.append(tweet._json['text'])\n",
    "    return tweets_only_text"
   ]
  },
  {
   "cell_type": "markdown",
   "metadata": {
    "collapsed": true
   },
   "source": [
    "## Twitter - Busca por Termos"
   ]
  },
  {
   "cell_type": "code",
   "execution_count": 9,
   "metadata": {},
   "outputs": [],
   "source": [
    "query = \"artificial inteligence\""
   ]
  },
  {
   "cell_type": "markdown",
   "metadata": {},
   "source": [
    "# Twitter"
   ]
  },
  {
   "cell_type": "code",
   "execution_count": 10,
   "metadata": {},
   "outputs": [
    {
     "name": "stdout",
     "output_type": "stream",
     "text": [
      "found 79 tweets of  artificial inteligence\n",
      "found 79 tweets of  artificial inteligence\n",
      "found 79 tweets of  artificial inteligence\n",
      "found 79 tweets of  artificial inteligence\n",
      "found 79 tweets of  artificial inteligence\n",
      "found 79 tweets of  artificial inteligence\n",
      "found 26 tweets of  artificial inteligence\n"
     ]
    }
   ],
   "source": [
    "twitter_api = load_api()\n",
    "tweets, max_id = tweet_search(twitter_api, query, max_tweets=500)\n",
    "tweets_text = convert_structure_to_tweet(tweets)"
   ]
  },
  {
   "cell_type": "code",
   "execution_count": 13,
   "metadata": {},
   "outputs": [
    {
     "data": {
      "text/plain": [
       "['RT @BlerinaGuga: Lab 1- Artificial Inteligence and Information @WFDemocracy a wow panel adressing issues of bits, AI gates and freedom. Dig…',\n",
       " 'Lab 1- Artificial Inteligence and Information @WFDemocracy a wow panel adressing issues of bits, AI gates and freed… https://t.co/icHwKYvRUJ',\n",
       " 'RT @LukmanAJabar: Beberapa hari lalu nonton Terminator Dark Fate, dan sekarang jadi muhasabah bgt tentang teknologi yg makin gila, khususny…',\n",
       " 'Elon Musk on Artificial Inteligence https://t.co/XBBaQmZceA via @YouTube a good 👀',\n",
       " 'Beberapa hari lalu nonton Terminator Dark Fate, dan sekarang jadi muhasabah bgt tentang teknologi yg makin gila, kh… https://t.co/XaPgNjJAOr']"
      ]
     },
     "execution_count": 13,
     "metadata": {},
     "output_type": "execute_result"
    }
   ],
   "source": [
    "tweets_text[:5]"
   ]
  },
  {
   "cell_type": "code",
   "execution_count": 36,
   "metadata": {},
   "outputs": [
    {
     "data": {
      "text/plain": [
       "'Thu Nov 07 10:36:42 +0000 2019'"
      ]
     },
     "execution_count": 36,
     "metadata": {},
     "output_type": "execute_result"
    }
   ],
   "source": [
    "resultt = query[0] \n",
    "r = resultt._json\n",
    "r[\"created_at\"]"
   ]
  },
  {
   "cell_type": "code",
   "execution_count": 45,
   "metadata": {},
   "outputs": [
    {
     "data": {
      "text/plain": [
       "'sarampo'"
      ]
     },
     "execution_count": 45,
     "metadata": {},
     "output_type": "execute_result"
    }
   ],
   "source": [
    "query."
   ]
  },
  {
   "cell_type": "code",
   "execution_count": 46,
   "metadata": {},
   "outputs": [
    {
     "name": "stdout",
     "output_type": "stream",
     "text": [
      "(Thu Nov 07 10:45:22 +0000 2019) @Rodrigo_F_JvL RT @prefeitura_jlle: URGENTE: o sarampo é uma doença altamente contagiosa. Se você ainda não se vacinou, procure uma Unidade de Saúde próxi…\n",
      "(Thu Nov 07 10:42:22 +0000 2019) @CBNDiario Assembleia aprova projetos de lei para ampliar a fiscalização da vacinação contra o sarampo em SC | NSC Total https://t.co/OURyFxXzPB\n",
      "(Thu Nov 07 10:36:42 +0000 2019) @vctr_j01 RT @AlexandrePerger: Joinville tem 200 casos suspeitos de sarampo e 14 confirmados. Vocês fazem ideia fo que é isso? Uma doença que tava er…\n",
      "(Thu Nov 07 10:36:38 +0000 2019) @altamir_oliv Irati tem mais dois casos suspeitos de sarampo | Rádio Najuá - SUPER 92.5/ FM 106.9 | Irati - Paraná https://t.co/o60i4IpADj\n",
      "(Thu Nov 07 10:34:40 +0000 2019) @afelisd galera q vai no baile amanhã, tomem vacina contra sarampo antes de irem kkkkkkk 👍🏼👍🏼👍🏼👍🏼\n",
      "(Thu Nov 07 10:26:48 +0000 2019) @Rose_Graca O sarampo continua matando, assim como a ignorância, afinal muitos pensam que não vale à pena vacinar-se ou vacinar os filhos #borasp\n",
      "(Thu Nov 07 10:24:54 +0000 2019) @Luana_Vitorino Pessoas que são contra as vacinas deveriam ser proibidas de viver em sociedade, assim minha filha de 5 meses não se… https://t.co/Bh2wuENCYW\n",
      "(Thu Nov 07 10:06:28 +0000 2019) @Lenisef RT @UOLNoticias: Governo confirma a 14ª morte por sarampo no estado de São Paulo https://t.co/ThD1K6s5eN\n",
      "(Thu Nov 07 09:58:00 +0000 2019) @spitalex Praga nos dias atuais, as Fakenews (boatos infundados) na área de Medicina e Saúde são ainda mais graves, podendo l… https://t.co/0atkL3tlNQ\n",
      "(Thu Nov 07 09:47:23 +0000 2019) @malusaade Lady Gaga com sarampo fodase https://t.co/5aP4cOYNPN\n",
      "(Thu Nov 07 09:19:36 +0000 2019) @agatacsll RT @AlexandrePerger: Joinville tem 200 casos suspeitos de sarampo e 14 confirmados. Vocês fazem ideia fo que é isso? Uma doença que tava er…\n",
      "(Thu Nov 07 09:15:18 +0000 2019) @ComedianTwets RT @Wasc89: Bom dia Garotada!! Bora tomar a vacina de sarampo? https://t.co/ACNdb760yO\n",
      "(Thu Nov 07 09:12:49 +0000 2019) @Wasc89 Bom dia Garotada!! Bora tomar a vacina de sarampo? https://t.co/ACNdb760yO\n",
      "(Thu Nov 07 08:54:29 +0000 2019) @raaypsiu Dia 18 começa recomeça a vacinação contra o sarampo pra adultos de 20 à 29 anos, quem não se vacinou, pelo amor de Deus, vá.\n",
      "(Thu Nov 07 08:54:28 +0000 2019) @radiobandnewsfm Sobe para 14 o número de mortos por #sarampo no estado de São Paulo desde o início do ano.\n",
      "A vítima mais recente é… https://t.co/le71T0VI1J\n",
      "(Thu Nov 07 08:40:02 +0000 2019) @RuilhermeGoyer Além do sarampo e romances elaborados, o que mais o comunismo pode trazer de bom pra mim, camaradas?\n",
      "(Thu Nov 07 08:06:05 +0000 2019) @Mulher_Noticia RT @Re_Carvalho89: Bom dia! Já é quinta e tem um monte de coisa acontecendo em SP.\n",
      "- árvore caída na Brigadeiro Luiz Antonio.\n",
      "- ônibus ince…\n",
      "(Thu Nov 07 08:01:13 +0000 2019) @dconline Assembleia aprova projetos de lei para ampliar a fiscalização da vacinação contra o sarampo em SC https://t.co/afeIg5h5JS\n",
      "(Thu Nov 07 08:00:58 +0000 2019) @_adijunior_ Tomei a vacina do sarampo e vejo todo mundo falar sobre isso, tome a vacina nem dói gurisada\n",
      "(Thu Nov 07 07:50:41 +0000 2019) @Re_Carvalho89 Bom dia! Já é quinta e tem um monte de coisa acontecendo em SP.\n",
      "- árvore caída na Brigadeiro Luiz Antonio.\n",
      "- ônibus… https://t.co/7VxvBHABN2\n",
      "(Thu Nov 07 06:02:26 +0000 2019) @Alan5585 Ouvi de um jornalista da grenal sobre o Michael do Goias: \"É jogador p nivel do Goias\"....Nós temos o Parede, que e… https://t.co/xURNzJzyRF\n",
      "(Thu Nov 07 04:58:53 +0000 2019) @wicgaby_ Eu: pq as pessoas não vacinam os filhos e bla bla bla \n",
      "Udesc: alunos do Cct devem se vacinar pois tem caso suspeito… https://t.co/HcLDEHwo6T\n",
      "(Thu Nov 07 04:20:03 +0000 2019) @Roh_Andrad O amor realmente é como uma doença. Não adiantar correr atrás e nem fugir, mais cedo ou mais tarde você será atingi… https://t.co/lFwVdfkdsh\n",
      "(Thu Nov 07 04:09:48 +0000 2019) @souzanic RT @AlexandrePerger: Joinville tem 200 casos suspeitos de sarampo e 14 confirmados. Vocês fazem ideia fo que é isso? Uma doença que tava er…\n",
      "(Thu Nov 07 03:43:56 +0000 2019) @eliokohut Irati tem mais dois casos suspeitos de sarampo https://t.co/R3CYWRhpMP https://t.co/7IQBPfzXkL\n",
      "(Thu Nov 07 03:40:39 +0000 2019) @fer_costenaro Ta tendo surto de sarampo na faculdade, to com medo\n",
      "(Thu Nov 07 03:38:58 +0000 2019) @maximianoo_ @VineBatistaa vou tomar só p prevenir ne, msm a mãe dizendo q minhas vacinas estão todas em dia (até a de sarampo)\n",
      "(Thu Nov 07 03:34:35 +0000 2019) @1999dolf0 RT @enviadeci: na verdade o sarampo do segue o baile foi um feitiço meu por não terem me deixado entrar\n",
      "(Thu Nov 07 03:32:39 +0000 2019) @Ginormida @neitangbr Kkkkkkkkk fdp eu ia ser sequestrada e vendida na turquia ctz 😢 ia ter sarampo na turquia kkkkkkkk\n",
      "(Thu Nov 07 03:31:38 +0000 2019) @enviadeci na verdade o sarampo do segue o baile foi um feitiço meu por não terem me deixado entrar\n",
      "(Thu Nov 07 03:29:04 +0000 2019) @neitangbr queria dizer que já desconfiava, mas conclui hoje que a jenni era a pessoa com sarampo no segue o baile. antes mesm… https://t.co/MosGzYir7d\n",
      "(Thu Nov 07 03:21:56 +0000 2019) @castilhovane @duudarubel eu juro que não é sarampo!!!! pode dormir tranquila\n",
      "(Thu Nov 07 03:12:16 +0000 2019) @wilsonyoshio RT @spsaude_: O dia em que você não pode desaparecer!  \n",
      "\n",
      "No dia 18 de novembro começa a segunda fase da campanha de #vacinação contra o #sa…\n",
      "(Thu Nov 07 03:12:06 +0000 2019) @ToinnhoCatende AUMENTA PARA 75 CONFIRMAÇÕES DE SARAMPO EM PE\n",
      "\n",
      "No boletim anterior, estado tinha 65 casos confirmados.… https://t.co/bOX07kvwlX\n",
      "(Thu Nov 07 03:09:14 +0000 2019) @palomaxxavier_ RT @DiarioPE: Pernambuco tem 75 casos de sarampo confirmados https://t.co/v4Ba0CeDRw https://t.co/zh536yFfS1\n",
      "(Thu Nov 07 03:01:40 +0000 2019) @neitangbr q dor q eu to sentindo na perna será q eh sarampo?!????\n",
      "(Thu Nov 07 03:00:38 +0000 2019) @dehvieiraa RT @RaimundoJohny: O governo vai lá, faz campanha DA DE GRAÇA a porra da vacina contra o sarampo e a população bosta não vai se vacinar e n…\n",
      "(Thu Nov 07 02:59:51 +0000 2019) @larigodinhooo RT @nicoolaka: TOMEM VACINA DE SARAMPO, É SERIO, ESSA SEMANA NO LABORATÓRIO PEGAMOS 6 CASOS JÁ UMA PESSOA CM SARAMPO CONSEGUE PASSAR PRA 18…\n",
      "(Thu Nov 07 02:59:30 +0000 2019) @V3RHAO minha mãe falou de sarampo e eu comecei a me coçar igual uma cadela com sarna\n",
      "(Thu Nov 07 02:55:28 +0000 2019) @anna_pinot 7 dias pro Universipraia, laguna vai ser pequena pra tanto sarampo\n",
      "(Thu Nov 07 02:54:03 +0000 2019) @estherstrauss A faculdade que eu estudo tá com problema bem sério de sarampo. Pediram pra quem tivesse de ficar em isolamento...\n",
      "(Thu Nov 07 02:50:31 +0000 2019) @owmoura RT @JuninhoALL: Eu como grande influenciador digital que sou irei alertar vocês sobre as vacinas do sarampo. Isso é um grande esquema do go…\n",
      "(Thu Nov 07 02:48:48 +0000 2019) @JuninhoALL Eu como grande influenciador digital que sou irei alertar vocês sobre as vacinas do sarampo. Isso é um grande esque… https://t.co/aaHHeXqswx\n",
      "(Thu Nov 07 02:47:03 +0000 2019) @madu_wenceslau nossa amiga tá com sarampo e fomos obrigadas pela coordenadora a tomar a vacina na facul... segue as primeiras reaç… https://t.co/pGcSWk2qrO\n",
      "(Thu Nov 07 02:36:15 +0000 2019) @fleursiv vamo tá tomando a vacina de sarampo aí guriada\n",
      "(Thu Nov 07 02:34:46 +0000 2019) @tthayres33 @_bolissa eu tbm mas vou ver a paradinha da dose de sarampo que ta tendo\n",
      "(Thu Nov 07 02:33:20 +0000 2019) @rafaelratazana @mailuize Aí bicha tu achou? Doeu foi nada pra mim, tomei de sarampo, hepatite e tétano\n",
      "(Thu Nov 07 02:33:05 +0000 2019) @laribernstorff @RUczai Eu tbmmmmm, aff sarampo tóxico\n",
      "(Thu Nov 07 02:32:55 +0000 2019) @thisovd A médica me diagnosticou com só uma sinusite, mas daí tinha todos os sintomas de dengue e hoje comecei a empelotar… https://t.co/aP3DZoJt36\n",
      "(Thu Nov 07 02:28:29 +0000 2019) @dykkkke o handreo tá com sarampo e pode se manifestar de 10 à 14 dias da contaminação deus eu não por favor\n",
      "(Thu Nov 07 02:26:44 +0000 2019) @lopesgabrielaa Vou ter q trancar o curso pra evitar o sarampo, penahh 🤧🤧 https://t.co/iuWY7gmOWf\n",
      "(Thu Nov 07 02:25:29 +0000 2019) @BLOGdoPEPE Bolsonaro diz que na Ditadura o Brasil cresceu 10%ao ano verdade . más o Brasil batia recordes de desnutrição, anal… https://t.co/vXglT2272A\n",
      "(Thu Nov 07 02:23:54 +0000 2019) @_Tiquila Surto de sarampo, que beleza em\n",
      "(Thu Nov 07 02:23:21 +0000 2019) @BLOGdoPEPE Verdade.. más crescimento econômico não é sinônimo de melhoria de vida para o povo .. Brasil batia recordes de desn… https://t.co/eS4Gbjkd3r\n",
      "(Thu Nov 07 02:09:56 +0000 2019) @nicoolaka TOMEM VACINA DE SARAMPO, É SERIO, ESSA SEMANA NO LABORATÓRIO PEGAMOS 6 CASOS JÁ UMA PESSOA CM SARAMPO CONSEGUE PASS… https://t.co/cRlMkOsXpq\n",
      "(Thu Nov 07 02:09:16 +0000 2019) @kraamerjohe RT @marinabembem: Eu me recuso pegar sarampo uma semana antes do uni\n",
      "(Thu Nov 07 02:05:30 +0000 2019) @edbequimao RT @PortalG7ma: Prefeitura de Bequimão lança nova campanha de vacinação contra o sarampo https://t.co/0A8Med8AvB https://t.co/CC7XFnWT5w\n",
      "(Thu Nov 07 01:56:49 +0000 2019) @bruch_dani RT @reinert__: pior que sarampo é o povo falso e tóxico rs\n",
      "(Thu Nov 07 01:56:10 +0000 2019) @zulinhamalia RT @whoknowsrafa: vc joinvillense ja tomou a vacina contra o sarampo? vai tomar mano\n",
      "(Thu Nov 07 01:48:53 +0000 2019) @annaacani RT @RaimundoJohny: O governo vai lá, faz campanha DA DE GRAÇA a porra da vacina contra o sarampo e a população bosta não vai se vacinar e n…\n",
      "(Thu Nov 07 01:48:51 +0000 2019) @r_rafastein RT @AlexandrePerger: Joinville tem 200 casos suspeitos de sarampo e 14 confirmados. Vocês fazem ideia fo que é isso? Uma doença que tava er…\n",
      "(Thu Nov 07 01:48:24 +0000 2019) @0800LAURAA pelo amor de deus q medo de pegar sarampo eu vou ficar na minha casa ate me vacinar\n",
      "(Thu Nov 07 01:45:32 +0000 2019) @mthsdoliveira RT @AlexandrePerger: Joinville tem 200 casos suspeitos de sarampo e 14 confirmados. Vocês fazem ideia fo que é isso? Uma doença que tava er…\n",
      "(Thu Nov 07 01:45:00 +0000 2019) @Gusta_Andrad17 Vai cair Sarampo na prova\n",
      "Ctza\n",
      "(Thu Nov 07 01:44:09 +0000 2019) @betobett RT @AlexandrePerger: Joinville tem 200 casos suspeitos de sarampo e 14 confirmados. Vocês fazem ideia fo que é isso? Uma doença que tava er…\n",
      "(Thu Nov 07 01:41:17 +0000 2019) @EmanoeliJuliane A moça da vigilância sanitária me ligou hoje e confirmou que eu estava com sarampo, só hoje meio século depois\n",
      "(Thu Nov 07 01:40:23 +0000 2019) @ricocarvalhost RT @NacoesUnidas: Na #Venezuela @UNReliefChief Mark Lowcock, afirmou que maioria dos venezuelanos foi afetada p/ crise. Sistema de saúde es…\n",
      "(Thu Nov 07 01:36:04 +0000 2019) @Cissafb RT @Noticiario_sp: São Paulo confirma mais uma morte por sarampo e número chega a 13 no estado https://t.co/DPfAMxWPEj #saopaulo\n",
      "(Thu Nov 07 01:33:55 +0000 2019) @tdambxxx RT @RaimundoJohny: O governo vai lá, faz campanha DA DE GRAÇA a porra da vacina contra o sarampo e a população bosta não vai se vacinar e n…\n",
      "(Thu Nov 07 01:30:52 +0000 2019) @TerezaRaposo RT @NacoesUnidas: Na #Venezuela @UNReliefChief Mark Lowcock, afirmou que maioria dos venezuelanos foi afetada p/ crise. Sistema de saúde es…\n",
      "(Thu Nov 07 01:30:30 +0000 2019) @Noticiario_sp São Paulo confirma mais uma morte por sarampo e número chega a 13 no estado https://t.co/DPfAMxWPEj #saopaulo\n",
      "(Thu Nov 07 01:30:11 +0000 2019) @ixiamanda Minha faculdade está com surto de sarampo, boa noite\n",
      "(Thu Nov 07 01:26:37 +0000 2019) @papuki1 RT @dani_japa_rm: Mesmo aumentando as mortes por causa do sarampo, muitas pessoas não levam seus filhos e nem vão se vacinar... Imperdoável…\n",
      "(Thu Nov 07 01:22:39 +0000 2019) @VidaHumanas RT @CiteiBrisas: “O nacionalismo é uma doença infantil; é o sarampo da humanidade.”.\n",
      "(Thu Nov 07 01:22:19 +0000 2019) @krissyhxavier Poxa, acho que peguei sarampo kkkkkkkkkkkkkkkk espero que seja dengue pq pelo menos eu posso fazer minhas provas...\n",
      "(Thu Nov 07 01:21:28 +0000 2019) @Politriks1 @carmoafonso @ppgoulao https://t.co/RDrUWTJBN0\n",
      "\n",
      "Quando é para encomendar alguém para o outro lado podes confiar nas minhas expressões :P\n",
      "(Thu Nov 07 01:21:01 +0000 2019) @zuada_vida RT @CiteiBrisas: “O nacionalismo é uma doença infantil; é o sarampo da humanidade.”.\n",
      "(Thu Nov 07 01:20:49 +0000 2019) @AreaDoMarcel Tá tendo um surto de sarampo entre alunos de uma conhecida universidade do Sul do Paraná e que está sendo acobertad… https://t.co/QpX0dzeQrF\n",
      "(Thu Nov 07 01:19:57 +0000 2019) @arpeggir minha turma de cálculo uma das CINCO entre a udesc inteira com risco de sarampo legal\n",
      "(Thu Nov 07 01:16:10 +0000 2019) @ApanheiDaVida RT @CiteiBrisas: “O nacionalismo é uma doença infantil; é o sarampo da humanidade.”.\n",
      "(Thu Nov 07 01:14:18 +0000 2019) @CitoFelicidade RT @CiteiBrisas: “O nacionalismo é uma doença infantil; é o sarampo da humanidade.”.\n",
      "(Thu Nov 07 01:13:34 +0000 2019) @botdecenteio O Mostrador no Sarampo de Centrão\n",
      "(Thu Nov 07 01:12:58 +0000 2019) @Politriks1 @ppgoulao @carmoafonso Podias tar com a culpa de Raskolnikov depois de limpar o sarampo a velha e a irmã.\n",
      "(Thu Nov 07 01:12:05 +0000 2019) @TrechosCoisados RT @CiteiBrisas: “O nacionalismo é uma doença infantil; é o sarampo da humanidade.”.\n",
      "(Thu Nov 07 01:10:23 +0000 2019) @mari_grapiglia com cólica e sarampo e fudida emocionalmente quer mais o q\n",
      "(Thu Nov 07 01:10:05 +0000 2019) @_larissaberga @Fernandabarufi qq é sarampo?\n",
      "(Thu Nov 07 01:09:48 +0000 2019) @AlicePensativa RT @CiteiBrisas: “O nacionalismo é uma doença infantil; é o sarampo da humanidade.”.\n",
      "(Thu Nov 07 01:09:15 +0000 2019) @CitouBebados RT @CiteiBrisas: “O nacionalismo é uma doença infantil; é o sarampo da humanidade.”.\n",
      "(Thu Nov 07 01:09:14 +0000 2019) @SeguidorBrisado RT @CiteiBrisas: “O nacionalismo é uma doença infantil; é o sarampo da humanidade.”.\n",
      "(Thu Nov 07 01:08:53 +0000 2019) @RefletindoPaz RT @CiteiBrisas: “O nacionalismo é uma doença infantil; é o sarampo da humanidade.”.\n",
      "(Thu Nov 07 01:08:33 +0000 2019) @DefesaNet RT @NacoesUnidas: Na #Venezuela @UNReliefChief Mark Lowcock, afirmou que maioria dos venezuelanos foi afetada p/ crise. Sistema de saúde es…\n",
      "(Thu Nov 07 01:08:23 +0000 2019) @lunaastel @_ailujairam toma vacina de sarampo e vamo po\n",
      "(Thu Nov 07 01:05:00 +0000 2019) @NacoesUnidas Na #Venezuela @UNReliefChief Mark Lowcock, afirmou que maioria dos venezuelanos foi afetada p/ crise. Sistema de sa… https://t.co/LO5K47FXEy\n",
      "(Thu Nov 07 01:03:18 +0000 2019) @MaykonValente Fui no Postinho pra tomar a vacina contra o sarampo, devido o caso que teve no futfacul, mas a moça disse que já ti… https://t.co/ncCm2NJhqU\n",
      "(Thu Nov 07 01:01:18 +0000 2019) @MattKindaHot quem é o louco q tem sarampo e ta indo em todos os shows? slc dessa vez foi no alok\n",
      "(Thu Nov 07 00:55:00 +0000 2019) @fabianamurray @domenica_mendes Vou sobrar junto contigo, pois sou alérgica a todos bichinhos do mar. É comer e empolar igual sarampo.\n",
      "(Thu Nov 07 00:51:08 +0000 2019) @Jaquemftts Sophia: mãe qual é meu IGNO? É sarampo ou febre amarela?!\n",
      "Eu comecei a rir e perguntei, signo? Pq se for o seu é câ… https://t.co/Jl2xr4XXRO\n",
      "(Thu Nov 07 00:51:02 +0000 2019) @recordtvoficial RT @jornaldarecord: Uma menina de um ano e dez meses morreu de sarampo em Limeira, no interior de São Paulo #JornaldaRecord #JR24H https://…\n",
      "(Thu Nov 07 00:51:00 +0000 2019) @Grochah_ RT @reinert__: pior que sarampo é o povo falso e tóxico rs\n",
      "(Thu Nov 07 00:50:14 +0000 2019) @ACParucker RT @AlexandrePerger: Joinville tem 200 casos suspeitos de sarampo e 14 confirmados. Vocês fazem ideia fo que é isso? Uma doença que tava er…\n",
      "CPU times: user 51.7 ms, sys: 11.5 ms, total: 63.2 ms\n",
      "Wall time: 975 ms\n"
     ]
    }
   ],
   "source": [
    "%%time\n",
    "query = twitter_api.search(q = \"sarampo\", result_type='recent', lang='pt', count=200)\n",
    "\n",
    "for result_tweet in query:\n",
    "    result = result_tweet._json\n",
    "    print (\"(%s) @%s %s\" % (result[\"created_at\"], result[\"user\"][\"screen_name\"], result[\"text\"]))"
   ]
  },
  {
   "cell_type": "code",
   "execution_count": 48,
   "metadata": {},
   "outputs": [
    {
     "name": "stdout",
     "output_type": "stream",
     "text": [
      "(Thu Nov 07 10:48:55 +0000 2019) @banida_e RT @PatoCorporation: O filho do maior contrabandista do Brasil, Lao Kin Chon, estava na comitiva do presidente Bolsonaro na China.\n",
      "\n",
      "Mas seg…\n",
      "(Thu Nov 07 10:48:53 +0000 2019) @MelilaNoleto RT @CBF_Futebol: Com a vitória por 4 a 0 sobre o Canadá, o Brasil já está na final do Torneio Internacional da China. As #GuerreirasDoBrasi…\n",
      "(Thu Nov 07 10:48:50 +0000 2019) @editorwu No governo Bolsonaro, estatais da China comunista levam o pré-sal com a Petrobras https://t.co/JR2XbiXOdn via @CartaCampinas\n",
      "(Thu Nov 07 10:48:42 +0000 2019) @maylasoares1 RT @Brasil_Uswnt: *lógica da cbf*\n",
      "-vamos fazer um torneio amistoso na China?\n",
      "-vai ter transmissão?\n",
      "-não\n",
      "-faz assim msm\n",
      "(Thu Nov 07 10:48:31 +0000 2019) @AtualNoticia China diz que concordou com os EUA em cancelar tarifas em fases https://t.co/uSvhke3QW6\n",
      "(Thu Nov 07 10:48:30 +0000 2019) @ma_rxista RT @MarcioPochmann: Governo Bolsonaro, de extrema direita, entrega parte do pré-sal para empresas da China, governadas pelo partido comunis…\n",
      "(Thu Nov 07 10:48:27 +0000 2019) @maitipiovani RT @CBF_Futebol: Com a vitória por 4 a 0 sobre o Canadá, o Brasil já está na final do Torneio Internacional da China. As #GuerreirasDoBrasi…\n",
      "(Thu Nov 07 10:48:15 +0000 2019) @hibruna_ RT @_ARodrigues93: Brasil vence Canadá no quadrangular realizado na China e está na final do torneio. Tamires, Marta e Debinha deram assist…\n",
      "(Thu Nov 07 10:48:03 +0000 2019) @PlataformaMedi1 RT @PlataformaMedi1: Exposição de importação da China é importante local para mostrar produtos brasileiros https://t.co/WHbzhj9LE9 https://…\n",
      "(Thu Nov 07 10:48:00 +0000 2019) @georgelemos1986 RT @canaltech: Open banking na China: como evolui o modelo financeiro do gigante asiático https://t.co/N5lZzjk35Y\n",
      "(Thu Nov 07 10:47:55 +0000 2019) @izabelcrisp RT @Sgt_URSAL: Bolsolóide o cara q queria fazer um leilão pra privatizar e conseguiu estatizar (para a China) q ele diz ser capitalista.\n",
      "\n",
      "A…\n",
      "(Thu Nov 07 10:47:52 +0000 2019) @Mare_Ozera RT @PFF_Oficial: FIM DE JOGO\n",
      "\n",
      "🇧🇷Brasil 4x0 Canadá🇨🇦\n",
      "⚽12' Chu\n",
      "⚽24' Formiga\n",
      "⚽40' ⚽57' Bia Zaneratto\n",
      "\n",
      "Brasil goleia Canadá e enfrentara o venc…\n",
      "(Thu Nov 07 10:47:47 +0000 2019) @AlexRicciardi A ideia, em princípio, é muito boa.\n",
      "Trazer ao Brasil o Dia dos Solteiros, sucesso enorme em geração de vendas na Ch… https://t.co/puxtCPJ6aj\n",
      "(Thu Nov 07 10:47:39 +0000 2019) @italoguto RT @portalblackpink: [VÍDEO] ROSÉ chegando em Pequim(China).\n",
      "\n",
      "#ROSÉ #BLACKPINK\n",
      "@ygofficialblink \n",
      "\n",
      "© RoseChinabar\n",
      " https://t.co/afw4EJ1RSo\n",
      "(Thu Nov 07 10:47:36 +0000 2019) @Bernardo_UBZ RT @CBF_Futebol: Com a vitória por 4 a 0 sobre o Canadá, o Brasil já está na final do Torneio Internacional da China. As #GuerreirasDoBrasi…\n",
      "(Thu Nov 07 10:47:35 +0000 2019) @djailsonalvesda RT @jairbolsonaro: Começando a semana com uma ótima notícia. A China acaba de habilitar sete plantas de Santa Catarina para exportação de m…\n",
      "(Thu Nov 07 10:47:32 +0000 2019) @adrianoquites @NelinhoOliveira @edgareler @carteiroreaca @arthurmoledoval Tem algum projeto que eles apresentaram por iniciativa… https://t.co/bwy8MQbGUz\n",
      "(Thu Nov 07 10:47:27 +0000 2019) @zeroontheleft2 RT @PFF_Oficial: FIM DE JOGO\n",
      "\n",
      "🇧🇷Brasil 4x0 Canadá🇨🇦\n",
      "⚽12' Chu\n",
      "⚽24' Formiga\n",
      "⚽40' ⚽57' Bia Zaneratto\n",
      "\n",
      "Brasil goleia Canadá e enfrentara o venc…\n",
      "(Thu Nov 07 10:47:22 +0000 2019) @Celia15115195 RT @RenovaMidia: O embaixador Norberto Moretti, principal negociador do #Brasil no Brics, afirmou que os demais países do bloco — Rússia, Í…\n",
      "(Thu Nov 07 10:47:20 +0000 2019) @ediiaa RT @fjosi1: Globo critica Bolsonaro por hostilidade à Argentina e diz que governo deixa Mercosul para EUA, França e China https://t.co/Od43…\n",
      "(Thu Nov 07 10:47:17 +0000 2019) @Mizna_R RT @CBF_Futebol: Com a vitória por 4 a 0 sobre o Canadá, o Brasil já está na final do Torneio Internacional da China. As #GuerreirasDoBrasi…\n",
      "(Thu Nov 07 10:47:07 +0000 2019) @edinfensfund RT @CBF_Futebol: Bom dia, Brasiiiiil! HOJE tem Guerreiras do Brasil em campo! Às 5h (BRA)/16h (CHN), a Seleção Feminina enfrenta o Canadá,…\n",
      "(Thu Nov 07 10:47:02 +0000 2019) @wxverlyexrp RT @PFF_Oficial: FIM DE JOGO\n",
      "\n",
      "🇧🇷Brasil 4x0 Canadá🇨🇦\n",
      "⚽12' Chu\n",
      "⚽24' Formiga\n",
      "⚽40' ⚽57' Bia Zaneratto\n",
      "\n",
      "Brasil goleia Canadá e enfrentara o venc…\n",
      "(Thu Nov 07 10:46:50 +0000 2019) @Lulumensajes RT @CBF_Futebol: Com a vitória por 4 a 0 sobre o Canadá, o Brasil já está na final do Torneio Internacional da China. As #GuerreirasDoBrasi…\n",
      "(Thu Nov 07 10:46:42 +0000 2019) @darineland RT @Brasil_Uswnt: *lógica da cbf*\n",
      "-vamos fazer um torneio amistoso na China?\n",
      "-vai ter transmissão?\n",
      "-não\n",
      "-faz assim msm\n",
      "(Thu Nov 07 10:46:29 +0000 2019) @LeeDaHeeBrasil [SNS] Atualização no Instagram da W Korea com Lee Da Hee no evento da Moschino × Budweiser em Shangai, China.\n",
      "\n",
      "📎:… https://t.co/l76dL0ckQk\n",
      "(Thu Nov 07 10:46:23 +0000 2019) @FemininoBr Ver a minha TL toda revoltada pela não transmissão do jogo do Brasil é lindo apenas por ver que a copa acabou mas s… https://t.co/gwROoI6LaW\n",
      "(Thu Nov 07 10:46:02 +0000 2019) @canaltech Open banking na China: como evolui o modelo financeiro do gigante asiático https://t.co/N5lZzjk35Y\n",
      "(Thu Nov 07 10:45:40 +0000 2019) @AldoNunes57 RT @DCM_online: Globo critica Bolsonaro por hostilidade à Argentina e diz que governo deixa Mercosul para EUA, França e China https://t.co/…\n",
      "(Thu Nov 07 10:45:33 +0000 2019) @Lusa_noticias China anuncia acordo com EUA para redução gradual de taxas alfandegárias - https://t.co/kadI945JLe https://t.co/E7HYkA4Pnk\n",
      "(Thu Nov 07 10:45:21 +0000 2019) @SthefannyPalom2 Rosé roubando a cena no desfile na China\n",
      "Blinks: mais um dia normal para Roseanne Park\n",
      "#ROSÉxVALENTINO https://t.co/J9ziBJViA5\n",
      "(Thu Nov 07 10:45:08 +0000 2019) @ZelitaGomes1 RT @jdoriajr: Nossa gestão aposta no fortalecimento das relações bilaterais para atrair novos e potentes investimentos da China, gerando em…\n",
      "(Thu Nov 07 10:45:08 +0000 2019) @beathecap RT @Brasil_Uswnt: *lógica da cbf*\n",
      "-vamos fazer um torneio amistoso na China?\n",
      "-vai ter transmissão?\n",
      "-não\n",
      "-faz assim msm\n",
      "(Thu Nov 07 10:44:57 +0000 2019) @ZelitaGomes1 RT @jdoriajr: Reunião com presidente e executivos da Power China, multinacional chinesa que atua em diversos segmentos de infraestrutura e…\n",
      "(Thu Nov 07 10:44:52 +0000 2019) @SamiraBotelho57 RT @gazetadopovo: Em busca de acordo, China e EUA removerão tarifas de importação em etapas https://t.co/0O0fvrrOkE (via @gpeconomia)\n",
      "(Thu Nov 07 10:44:52 +0000 2019) @_LezShipp_ RT @CBF_Futebol: Com a vitória por 4 a 0 sobre o Canadá, o Brasil já está na final do Torneio Internacional da China. As #GuerreirasDoBrasi…\n",
      "(Thu Nov 07 10:44:50 +0000 2019) @JonatasMirandaS RT @CBF_Futebol: Com a vitória por 4 a 0 sobre o Canadá, o Brasil já está na final do Torneio Internacional da China. As #GuerreirasDoBrasi…\n",
      "(Thu Nov 07 10:44:43 +0000 2019) @sandrofm RT @AlessandroPT89: Oxe 😱o leilão do pré sal deu ruim...ninguém quer investir no Brasil...sabem que estamos caminhando para virar um Chile.…\n",
      "(Thu Nov 07 10:44:36 +0000 2019) @anathaismatos RT @_ARodrigues93: Brasil vence Canadá no quadrangular realizado na China e está na final do torneio. Tamires, Marta e Debinha deram assist…\n",
      "(Thu Nov 07 10:44:32 +0000 2019) @icarolinecampos RT @CBF_Futebol: Com a vitória por 4 a 0 sobre o Canadá, o Brasil já está na final do Torneio Internacional da China. As #GuerreirasDoBrasi…\n",
      "(Thu Nov 07 10:44:31 +0000 2019) @MarcelodeMarco2 RT @gazetadopovo: Em busca de acordo, China e EUA removerão tarifas de importação em etapas https://t.co/0O0fvrrOkE (via @gpeconomia)\n",
      "(Thu Nov 07 10:44:27 +0000 2019) @_gabizeras RT @HistoriaNoPaint: namorar comigo energy:\n",
      "\n",
      "- Já leu a recente historiografia sobre a História do Brasil?\n",
      "\n",
      "- A batalha por hegemonia entre…\n",
      "(Thu Nov 07 10:44:21 +0000 2019) @1Nedicr56 RT @AtineBrasil: Mário Maestri - Hong Kong e Taiwan - DE, 2019, outubro 17 https://t.co/zESdOhHExR via @YouTube #duploexpresso #china\n",
      "(Thu Nov 07 10:43:56 +0000 2019) @maitipiovani RT @PFF_Oficial: FIM DE JOGO\n",
      "\n",
      "🇧🇷Brasil 4x0 Canadá🇨🇦\n",
      "⚽12' Chu\n",
      "⚽24' Formiga\n",
      "⚽40' ⚽57' Bia Zaneratto\n",
      "\n",
      "Brasil goleia Canadá e enfrentara o venc…\n",
      "(Thu Nov 07 10:43:56 +0000 2019) @santosmarianna6 e na loja China😣 https://t.co/lj8NsNgH0k\n",
      "(Thu Nov 07 10:43:54 +0000 2019) @InfoPrecariado RT @_Adedeia: Atualmente ele está vendendo tudo para a China.\n",
      "Alguém avisa pra aquele pessoal do \"minha bandeira nunca será vermelha\"\n",
      "\n",
      "\"Est…\n",
      "(Thu Nov 07 10:43:43 +0000 2019) @edinfensfund RT @CBF_Futebol: Últimos ajustes na China e amanhã tem jogo da #SeleçãoFeminina contra o Canadá! ⚽️🇧🇷 #GuerreirasdoBrasil\n",
      "\n",
      "Fotos: Daniela P…\n",
      "(Thu Nov 07 10:43:34 +0000 2019) @optimisme19 RT @TerezaCrisMS: Bom dia! Começando a semana com uma ótima notícia. A China acaba de habilitar sete plantas de Santa Catarina para exporta…\n",
      "(Thu Nov 07 10:43:33 +0000 2019) @italoguto RT @roseannebrasil: 📹 Rosé está no aeroporto embarcando para Beijing, China, vestida de Valentino.  https://t.co/S1IxiDRW7f\n",
      "(Thu Nov 07 10:43:31 +0000 2019) @edinfensfund RT @CBF_Futebol: BOLA ROLANDO! Brasil e Canadá fazem o primeiro jogo do Torneio Internacional da China! #GuerreirasDoBrasil #SelecaoFeminin…\n",
      "CPU times: user 48.2 ms, sys: 11.3 ms, total: 59.5 ms\n",
      "Wall time: 820 ms\n"
     ]
    }
   ],
   "source": [
    "%%time\n",
    "\n",
    "query = twitter_api.search(q = \"china\", result_type='recent', lang='pt', count=50)\n",
    "for result_tweet in query:\n",
    "    result = result_tweet._json\n",
    "    print (\"(%s) @%s %s\" % (result[\"created_at\"], result[\"user\"][\"screen_name\"], result[\"text\"]))"
   ]
  },
  {
   "cell_type": "markdown",
   "metadata": {
    "collapsed": true
   },
   "source": [
    "# Análise de Sentimentos"
   ]
  },
  {
   "cell_type": "markdown",
   "metadata": {},
   "source": [
    "## Polaridades (Positiva, Negativa, Neutra)"
   ]
  },
  {
   "cell_type": "code",
   "execution_count": 49,
   "metadata": {},
   "outputs": [
    {
     "data": {
      "image/jpeg": "[encoded data removed]",
      "text/plain": [
       "<IPython.core.display.Image object>"
      ]
     },
     "execution_count": 49,
     "metadata": {},
     "output_type": "execute_result"
    }
   ],
   "source": [
    "from IPython.display import Image\n",
    "Image(filename='Sentiment-Analysis.jpg')"
   ]
  },
  {
   "cell_type": "markdown",
   "metadata": {},
   "source": [
    "## Uso do textblob para analise de sentimentos - Polaridade"
   ]
  },
  {
   "cell_type": "code",
   "execution_count": 52,
   "metadata": {},
   "outputs": [],
   "source": [
    "#!pip install textblob"
   ]
  },
  {
   "cell_type": "code",
   "execution_count": 53,
   "metadata": {},
   "outputs": [],
   "source": [
    "from textblob import TextBlob\n",
    "def analize_sentiments(tweets):\n",
    "    tweets_sentiments = []\n",
    "    pos = neg = neutral = 0\n",
    "    for tweet in tweets:\n",
    "        # Create a list with all the terms\n",
    "        blob = TextBlob(tweet)\n",
    "        polarity = blob.sentiment.polarity\n",
    "        #print blob.sentiment.subjectivity\n",
    "        #print (os.listdir(tweet[\"text\"]))\n",
    "        if polarity < 0:\n",
    "            sentiment = \"negative\"\n",
    "            neg+=1\n",
    "        elif polarity == 0:\n",
    "            sentiment = \"neutral\"\n",
    "            neutral+=1\n",
    "        else:\n",
    "            sentiment = \"positive\"\n",
    "            pos+=1\n",
    "\n",
    "        tweets_sentiments.append([sentiment, polarity, tweet] )\n",
    "        \n",
    "    return tweets_sentiments, pos, neg, neutral    "
   ]
  },
  {
   "cell_type": "code",
   "execution_count": 54,
   "metadata": {},
   "outputs": [],
   "source": [
    "import pandas as pd\n",
    "def analyse_tweets_query(queries, max_tweets):\n",
    "    \n",
    "    df = pd.DataFrame(columns=[\"Query\",\"Positive\", \"Negative\", \"Neutral\"  ], index=range(len(queries)))\n",
    "    i = 0\n",
    "    twitter_api = load_api()\n",
    "    for query in queries:       \n",
    "        tweets, max_id = tweet_search(twitter_api, query, max_tweets)\n",
    "        tweets_text = convert_structure_to_tweet(tweets)\n",
    "        tweets_sentiments, pos, neg, neutral = analize_sentiments(tweets_text)\n",
    "        total = pos + neg + neutral\n",
    "        #print (\"Sentiment Analysis Twitter\")\n",
    "        #print (\"Query: \", query)\n",
    "        #print (\"Positive: {0:.0f} % \".format(pos/total * 100) )\n",
    "        #print (\"Negative: {0:.0f} % \".format(neg/total * 100) )\n",
    "        #print (\"Neutral: {0:.0f} % \".format(neutral/total * 100) )\n",
    "        \n",
    "        df.loc[i].Query = query              \n",
    "        df.loc[i].Positive = pos/total * 100\n",
    "        df.loc[i].Negative = neg/total * 100\n",
    "        df.loc[i].Neutral = neutral/total * 100\n",
    "                      \n",
    "        #df.loc[i][\"Query\"] = query\n",
    "        #df.loc[i][\"Positive\"] = pos/total * 100\n",
    "        #df.loc[i][\"Negative\"] = neg/total * 100\n",
    "        #df.loc[i][\"Neutral\"] = neutral/total * 100\n",
    "        i += 1\n",
    "    return df"
   ]
  },
  {
   "cell_type": "code",
   "execution_count": 56,
   "metadata": {},
   "outputs": [
    {
     "name": "stdout",
     "output_type": "stream",
     "text": [
      "found 100 tweets of  supremo\n",
      "found 100 tweets of  supremo\n",
      "found 100 tweets of  supremo\n",
      "found 100 tweets of  supremo\n",
      "found 100 tweets of  supremo\n",
      "found 100 tweets of  leilão\n",
      "found 100 tweets of  leilão\n",
      "found 100 tweets of  leilão\n",
      "found 100 tweets of  leilão\n",
      "found 100 tweets of  leilão\n",
      "found 100 tweets of  pré-sal\n",
      "found 100 tweets of  pré-sal\n",
      "found 100 tweets of  pré-sal\n",
      "found 100 tweets of  pré-sal\n",
      "found 100 tweets of  pré-sal\n",
      "found 100 tweets of  Paulo Guedes\n",
      "found 100 tweets of  Paulo Guedes\n",
      "found 100 tweets of  Paulo Guedes\n",
      "found 100 tweets of  Paulo Guedes\n",
      "found 100 tweets of  Paulo Guedes\n",
      "-------------------------------------------------\n",
      "Tweets Sentiment Analysis (%)\n",
      "CPU times: user 3.84 s, sys: 327 ms, total: 4.17 s\n",
      "Wall time: 38.4 s\n"
     ]
    },
    {
     "data": {
      "text/html": [
       "<div>\n",
       "<style scoped>\n",
       "    .dataframe tbody tr th:only-of-type {\n",
       "        vertical-align: middle;\n",
       "    }\n",
       "\n",
       "    .dataframe tbody tr th {\n",
       "        vertical-align: top;\n",
       "    }\n",
       "\n",
       "    .dataframe thead th {\n",
       "        text-align: right;\n",
       "    }\n",
       "</style>\n",
       "<table border=\"1\" class=\"dataframe\">\n",
       "  <thead>\n",
       "    <tr style=\"text-align: right;\">\n",
       "      <th></th>\n",
       "      <th>Query</th>\n",
       "      <th>Positive</th>\n",
       "      <th>Negative</th>\n",
       "      <th>Neutral</th>\n",
       "    </tr>\n",
       "  </thead>\n",
       "  <tbody>\n",
       "    <tr>\n",
       "      <th>0</th>\n",
       "      <td>supremo</td>\n",
       "      <td>18</td>\n",
       "      <td>0</td>\n",
       "      <td>82</td>\n",
       "    </tr>\n",
       "    <tr>\n",
       "      <th>1</th>\n",
       "      <td>leilão</td>\n",
       "      <td>14</td>\n",
       "      <td>1</td>\n",
       "      <td>85</td>\n",
       "    </tr>\n",
       "    <tr>\n",
       "      <th>2</th>\n",
       "      <td>pré-sal</td>\n",
       "      <td>26</td>\n",
       "      <td>0</td>\n",
       "      <td>74</td>\n",
       "    </tr>\n",
       "    <tr>\n",
       "      <th>3</th>\n",
       "      <td>Paulo Guedes</td>\n",
       "      <td>32.4</td>\n",
       "      <td>0</td>\n",
       "      <td>67.6</td>\n",
       "    </tr>\n",
       "  </tbody>\n",
       "</table>\n",
       "</div>"
      ],
      "text/plain": [
       "          Query Positive Negative Neutral\n",
       "0       supremo       18        0      82\n",
       "1        leilão       14        1      85\n",
       "2       pré-sal       26        0      74\n",
       "3  Paulo Guedes     32.4        0    67.6"
      ]
     },
     "execution_count": 56,
     "metadata": {},
     "output_type": "execute_result"
    }
   ],
   "source": [
    "%%time\n",
    "queries = [\"supremo\", \"leilão\",  \"pré-sal\", \"Paulo Guedes\"] # , \"Michael Phelps\"]\n",
    "df2 = analyse_tweets_query(queries,   max_tweets = 500)\n",
    "print\n",
    "print (\"-------------------------------------------------\")\n",
    "print (\"Tweets Sentiment Analysis (%)\")\n",
    "df2"
   ]
  },
  {
   "cell_type": "code",
   "execution_count": 57,
   "metadata": {},
   "outputs": [
    {
     "name": "stdout",
     "output_type": "stream",
     "text": [
      "found 100 tweets of  coke\n",
      "found 100 tweets of  coke\n",
      "found 100 tweets of  coke\n",
      "found 100 tweets of  coke\n",
      "found 100 tweets of  coke\n",
      "found 100 tweets of  pepsi\n",
      "found 100 tweets of  pepsi\n",
      "found 100 tweets of  pepsi\n",
      "found 100 tweets of  pepsi\n",
      "found 100 tweets of  pepsi\n",
      "-------------------------------------------------\n",
      "Tweets Sentiment Analysis (%)\n"
     ]
    },
    {
     "data": {
      "text/html": [
       "<div>\n",
       "<style scoped>\n",
       "    .dataframe tbody tr th:only-of-type {\n",
       "        vertical-align: middle;\n",
       "    }\n",
       "\n",
       "    .dataframe tbody tr th {\n",
       "        vertical-align: top;\n",
       "    }\n",
       "\n",
       "    .dataframe thead th {\n",
       "        text-align: right;\n",
       "    }\n",
       "</style>\n",
       "<table border=\"1\" class=\"dataframe\">\n",
       "  <thead>\n",
       "    <tr style=\"text-align: right;\">\n",
       "      <th></th>\n",
       "      <th>Query</th>\n",
       "      <th>Positive</th>\n",
       "      <th>Negative</th>\n",
       "      <th>Neutral</th>\n",
       "    </tr>\n",
       "  </thead>\n",
       "  <tbody>\n",
       "    <tr>\n",
       "      <th>0</th>\n",
       "      <td>coke</td>\n",
       "      <td>4.8</td>\n",
       "      <td>5</td>\n",
       "      <td>90.2</td>\n",
       "    </tr>\n",
       "    <tr>\n",
       "      <th>1</th>\n",
       "      <td>pepsi</td>\n",
       "      <td>19</td>\n",
       "      <td>6</td>\n",
       "      <td>75</td>\n",
       "    </tr>\n",
       "  </tbody>\n",
       "</table>\n",
       "</div>"
      ],
      "text/plain": [
       "   Query Positive Negative Neutral\n",
       "0   coke      4.8        5    90.2\n",
       "1  pepsi       19        6      75"
      ]
     },
     "execution_count": 57,
     "metadata": {},
     "output_type": "execute_result"
    }
   ],
   "source": [
    "queries = [\"coke\", \"pepsi\"  ]\n",
    "df2 = analyse_tweets_query(queries,   max_tweets = 500)\n",
    "print\n",
    "print (\"-------------------------------------------------\")\n",
    "print (\"Tweets Sentiment Analysis (%)\")\n",
    "df2"
   ]
  },
  {
   "cell_type": "code",
   "execution_count": 58,
   "metadata": {},
   "outputs": [
    {
     "name": "stdout",
     "output_type": "stream",
     "text": [
      "found 100 tweets of  Lula\n",
      "found 100 tweets of  Lula\n",
      "found 100 tweets of  Lula\n",
      "found 100 tweets of  Lula\n",
      "found 100 tweets of  Lula\n",
      "found 100 tweets of  Lula\n",
      "found 100 tweets of  Lula\n",
      "found 100 tweets of  Michel Temer\n",
      "found 100 tweets of  Michel Temer\n",
      "found 100 tweets of  Michel Temer\n",
      "found 100 tweets of  Michel Temer\n",
      "found 100 tweets of  Michel Temer\n",
      "found 100 tweets of  Michel Temer\n",
      "found 100 tweets of  Michel Temer\n",
      "found 100 tweets of  Moro\n",
      "found 100 tweets of  Moro\n",
      "found 100 tweets of  Moro\n",
      "found 100 tweets of  Moro\n",
      "found 100 tweets of  Moro\n",
      "found 100 tweets of  Moro\n",
      "found 100 tweets of  Moro\n",
      "found 100 tweets of  Gilmar Mendes\n",
      "found 100 tweets of  Gilmar Mendes\n",
      "found 100 tweets of  Gilmar Mendes\n",
      "found 100 tweets of  Gilmar Mendes\n",
      "found 100 tweets of  Gilmar Mendes\n",
      "found 100 tweets of  Gilmar Mendes\n",
      "found 100 tweets of  Gilmar Mendes\n",
      "-------------------------------------------------\n",
      "Tweets Sentiment Analysis (%)\n",
      "Thu Nov  7 08:15:28 2019\n"
     ]
    },
    {
     "data": {
      "text/html": [
       "<div>\n",
       "<style scoped>\n",
       "    .dataframe tbody tr th:only-of-type {\n",
       "        vertical-align: middle;\n",
       "    }\n",
       "\n",
       "    .dataframe tbody tr th {\n",
       "        vertical-align: top;\n",
       "    }\n",
       "\n",
       "    .dataframe thead th {\n",
       "        text-align: right;\n",
       "    }\n",
       "</style>\n",
       "<table border=\"1\" class=\"dataframe\">\n",
       "  <thead>\n",
       "    <tr style=\"text-align: right;\">\n",
       "      <th></th>\n",
       "      <th>Query</th>\n",
       "      <th>Positive</th>\n",
       "      <th>Negative</th>\n",
       "      <th>Neutral</th>\n",
       "    </tr>\n",
       "  </thead>\n",
       "  <tbody>\n",
       "    <tr>\n",
       "      <th>0</th>\n",
       "      <td>Lula</td>\n",
       "      <td>6.57143</td>\n",
       "      <td>4</td>\n",
       "      <td>89.4286</td>\n",
       "    </tr>\n",
       "    <tr>\n",
       "      <th>1</th>\n",
       "      <td>Michel Temer</td>\n",
       "      <td>7</td>\n",
       "      <td>1</td>\n",
       "      <td>92</td>\n",
       "    </tr>\n",
       "    <tr>\n",
       "      <th>2</th>\n",
       "      <td>Moro</td>\n",
       "      <td>10</td>\n",
       "      <td>7</td>\n",
       "      <td>83</td>\n",
       "    </tr>\n",
       "    <tr>\n",
       "      <th>3</th>\n",
       "      <td>Gilmar Mendes</td>\n",
       "      <td>1</td>\n",
       "      <td>0</td>\n",
       "      <td>99</td>\n",
       "    </tr>\n",
       "  </tbody>\n",
       "</table>\n",
       "</div>"
      ],
      "text/plain": [
       "           Query Positive Negative  Neutral\n",
       "0           Lula  6.57143        4  89.4286\n",
       "1   Michel Temer        7        1       92\n",
       "2           Moro       10        7       83\n",
       "3  Gilmar Mendes        1        0       99"
      ]
     },
     "execution_count": 58,
     "metadata": {},
     "output_type": "execute_result"
    }
   ],
   "source": [
    "import time\n",
    "\n",
    "queries = [\"Lula\", \"Michel Temer\", \"Moro\", \"Gilmar Mendes\"  ]\n",
    "df2 = analyse_tweets_query(queries,   max_tweets = 700)\n",
    "print\n",
    "print (\"-------------------------------------------------\")\n",
    "print (\"Tweets Sentiment Analysis (%)\")\n",
    "print (time.ctime())\n",
    "df2"
   ]
  },
  {
   "cell_type": "code",
   "execution_count": 59,
   "metadata": {},
   "outputs": [],
   "source": [
    "dict = {'idade': 30,\n",
    "         'Nomes': [\"Vladimir\", \"UEPB\"]\n",
    "       }"
   ]
  },
  {
   "cell_type": "code",
   "execution_count": 60,
   "metadata": {},
   "outputs": [
    {
     "data": {
      "text/plain": [
       "{'idade': 30, 'Nomes': ['Vladimir', 'UEPB']}"
      ]
     },
     "execution_count": 60,
     "metadata": {},
     "output_type": "execute_result"
    }
   ],
   "source": [
    "dict"
   ]
  },
  {
   "cell_type": "code",
   "execution_count": 61,
   "metadata": {},
   "outputs": [
    {
     "data": {
      "text/plain": [
       "30"
      ]
     },
     "execution_count": 61,
     "metadata": {},
     "output_type": "execute_result"
    }
   ],
   "source": [
    "dict['idade']"
   ]
  },
  {
   "cell_type": "code",
   "execution_count": 62,
   "metadata": {},
   "outputs": [
    {
     "data": {
      "text/plain": [
       "'UEPB'"
      ]
     },
     "execution_count": 62,
     "metadata": {},
     "output_type": "execute_result"
    }
   ],
   "source": [
    "dict['Nomes'][1]"
   ]
  },
  {
   "cell_type": "code",
   "execution_count": 63,
   "metadata": {},
   "outputs": [],
   "source": [
    "lst = [x**2 for x in range(20)]"
   ]
  },
  {
   "cell_type": "code",
   "execution_count": 64,
   "metadata": {},
   "outputs": [
    {
     "data": {
      "text/plain": [
       "[0,\n",
       " 1,\n",
       " 4,\n",
       " 9,\n",
       " 16,\n",
       " 25,\n",
       " 36,\n",
       " 49,\n",
       " 64,\n",
       " 81,\n",
       " 100,\n",
       " 121,\n",
       " 144,\n",
       " 169,\n",
       " 196,\n",
       " 225,\n",
       " 256,\n",
       " 289,\n",
       " 324,\n",
       " 361]"
      ]
     },
     "execution_count": 64,
     "metadata": {},
     "output_type": "execute_result"
    }
   ],
   "source": [
    "lst"
   ]
  },
  {
   "cell_type": "code",
   "execution_count": 65,
   "metadata": {},
   "outputs": [
    {
     "data": {
      "text/html": [
       "<div>\n",
       "<style scoped>\n",
       "    .dataframe tbody tr th:only-of-type {\n",
       "        vertical-align: middle;\n",
       "    }\n",
       "\n",
       "    .dataframe tbody tr th {\n",
       "        vertical-align: top;\n",
       "    }\n",
       "\n",
       "    .dataframe thead th {\n",
       "        text-align: right;\n",
       "    }\n",
       "</style>\n",
       "<table border=\"1\" class=\"dataframe\">\n",
       "  <thead>\n",
       "    <tr style=\"text-align: right;\">\n",
       "      <th></th>\n",
       "      <th>Nome</th>\n",
       "      <th>Idade</th>\n",
       "    </tr>\n",
       "  </thead>\n",
       "  <tbody>\n",
       "    <tr>\n",
       "      <th>0</th>\n",
       "      <td>Vladimir</td>\n",
       "      <td>40</td>\n",
       "    </tr>\n",
       "    <tr>\n",
       "      <th>1</th>\n",
       "      <td>Eleonilia</td>\n",
       "      <td>23</td>\n",
       "    </tr>\n",
       "    <tr>\n",
       "      <th>2</th>\n",
       "      <td>Pedro</td>\n",
       "      <td>30</td>\n",
       "    </tr>\n",
       "  </tbody>\n",
       "</table>\n",
       "</div>"
      ],
      "text/plain": [
       "        Nome  Idade\n",
       "0   Vladimir     40\n",
       "1  Eleonilia     23\n",
       "2      Pedro     30"
      ]
     },
     "execution_count": 65,
     "metadata": {},
     "output_type": "execute_result"
    }
   ],
   "source": [
    "import pandas as pd\n",
    "df = pd.DataFrame(columns=[\"Nome\", \"Idade\"], data=[ (\"Vladimir\", 40) ,(\"Eleonilia\", 23) ])\n",
    "df.loc[2] = [\"Pedro\",  30]\n",
    "df"
   ]
  },
  {
   "cell_type": "code",
   "execution_count": null,
   "metadata": {},
   "outputs": [],
   "source": []
  }
 ],
 "metadata": {
  "anaconda-cloud": {},
  "kernelspec": {
   "display_name": "tf366",
   "language": "python",
   "name": "tf366"
  },
  "language_info": {
   "codemirror_mode": {
    "name": "ipython",
    "version": 3
   },
   "file_extension": ".py",
   "mimetype": "text/x-python",
   "name": "python",
   "nbconvert_exporter": "python",
   "pygments_lexer": "ipython3",
   "version": "3.6.6"
  }
 },
 "nbformat": 4,
 "nbformat_minor": 1
}
