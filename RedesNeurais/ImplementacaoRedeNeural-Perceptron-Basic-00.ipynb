version https://git-lfs.github.com/spec/v1
oid sha256:66de946e3c69d1b5931815baa375dd34bc90f437f6c5b1b856272f4da4e8f188
size 7257
