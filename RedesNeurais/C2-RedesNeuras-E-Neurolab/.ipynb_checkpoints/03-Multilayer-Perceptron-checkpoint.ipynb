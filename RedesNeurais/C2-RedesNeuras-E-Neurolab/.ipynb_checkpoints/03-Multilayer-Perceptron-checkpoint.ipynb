version https://git-lfs.github.com/spec/v1
oid sha256:faeeb2ffaa0ac982294ce993ec2500f5912a6663a6012ec695f289b9b62c86d9
size 36499
