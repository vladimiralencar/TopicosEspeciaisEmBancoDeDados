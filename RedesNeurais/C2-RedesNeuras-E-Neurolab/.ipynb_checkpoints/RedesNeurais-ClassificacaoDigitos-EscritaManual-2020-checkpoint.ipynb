version https://git-lfs.github.com/spec/v1
oid sha256:459724e049e294d1000378e9f34ff49d7b68e305abff5408d9a749d8a22af850
size 28087
