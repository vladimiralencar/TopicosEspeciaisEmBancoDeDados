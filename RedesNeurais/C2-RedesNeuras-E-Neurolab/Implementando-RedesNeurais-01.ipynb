version https://git-lfs.github.com/spec/v1
oid sha256:5c17c5e690dc62a07cdf5b72af299e93c92d6dae5bee77b39f1b5ffb901a727d
size 14681
