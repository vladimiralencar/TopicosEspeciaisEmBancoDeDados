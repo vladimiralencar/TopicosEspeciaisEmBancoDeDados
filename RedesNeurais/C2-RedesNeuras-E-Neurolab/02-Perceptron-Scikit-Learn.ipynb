version https://git-lfs.github.com/spec/v1
oid sha256:42c997f5cedbb21c3a5a598d8a1c678abad4e855065bb62d16e1433448e52566
size 29095
