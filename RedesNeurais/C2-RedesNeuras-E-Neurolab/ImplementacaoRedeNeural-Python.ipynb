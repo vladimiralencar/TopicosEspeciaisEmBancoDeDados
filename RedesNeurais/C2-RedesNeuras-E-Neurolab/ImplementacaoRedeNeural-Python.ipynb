{
 "cells": [
  {
   "cell_type": "markdown",
   "metadata": {},
   "source": [
    "# <font color='blue'>Implementacao Rede Neural - Python</font>"
   ]
  },
  {
   "cell_type": "markdown",
   "metadata": {},
   "source": [
    "### Parte 1 - Perceptron"
   ]
  },
  {
   "cell_type": "code",
   "execution_count": 3,
   "metadata": {},
   "outputs": [
    {
     "name": "stdout",
     "output_type": "stream",
     "text": [
      "-0.16999999999999998\n",
      "Output:\n",
      "0.4329070950345457\n"
     ]
    }
   ],
   "source": [
    "import numpy as np\n",
    "\n",
    "def sigmoid(x):\n",
    "    \"\"\"\n",
    "    Implemente a Função Sigmóide\n",
    "    \"\"\"\n",
    "    return 1/(1 + np.exp(-x))\n",
    "\n",
    "# Parâmetros\n",
    "inputs = np.array([0.7, -0.3])\n",
    "pesos = np.array([0.1, 0.8])\n",
    "bias = -0.1\n",
    "\n",
    "\"\"\"\n",
    "Implemente o output\n",
    "\"\"\"\n",
    "output = sigmoid(np.dot(pesos, inputs.T) + bias)\n",
    "\n",
    "print(np.dot(pesos, inputs.T))\n",
    "\n",
    "# Print output\n",
    "print('Output:')\n",
    "print(output)"
   ]
  },
  {
   "cell_type": "markdown",
   "metadata": {},
   "source": [
    "### Parte 2 - Forward Pass"
   ]
  },
  {
   "cell_type": "code",
   "execution_count": 4,
   "metadata": {},
   "outputs": [
    {
     "name": "stdout",
     "output_type": "stream",
     "text": [
      "Output da Camada Oculta:\n",
      "[0.45522167 0.50588075 0.4998189 ]\n",
      "Output da Camada de Saída:\n",
      "[0.45885989 0.4919237 ]\n"
     ]
    }
   ],
   "source": [
    "import numpy as np\n",
    "\n",
    "def sigmoid(x):\n",
    "    \"\"\"\n",
    "    Implemente a Função Sigmóide\n",
    "    \"\"\"\n",
    "    return 1/(1 + np.exp(-x))\n",
    "\n",
    "# Parâmetros da Rede\n",
    "N_input = 4\n",
    "N_hidden = 3\n",
    "N_output = 2\n",
    "\n",
    "# Reproduzir o mesmo resultado\n",
    "np.random.seed(34)\n",
    "\n",
    "# Criando massa de dados fake\n",
    "X = np.random.randn(4)\n",
    "\n",
    "# Inicializando os parâmetros da rede\n",
    "pesos_input_to_hidden = np.random.normal(0, scale = 0.1, size = (N_input, N_hidden))\n",
    "pesos_hidden_to_output = np.random.normal(0, scale = 0.1, size = (N_hidden, N_output))\n",
    "\n",
    "\n",
    "\"\"\"\n",
    "Implemente o forward pass\n",
    "\"\"\"\n",
    "hidden_layer_in = np.dot(X, pesos_input_to_hidden)\n",
    "hidden_layer_out = sigmoid(hidden_layer_in)\n",
    "\n",
    "print('Output da Camada Oculta:')\n",
    "print(hidden_layer_out)\n",
    "\n",
    "\"\"\"\n",
    "Implemente a saída da rede\n",
    "\"\"\"\n",
    "output_layer_in = np.dot(hidden_layer_out, pesos_hidden_to_output)\n",
    "output_layer_out = sigmoid(output_layer_in)\n",
    "\n",
    "print('Output da Camada de Saída:')\n",
    "print(output_layer_out)"
   ]
  },
  {
   "cell_type": "markdown",
   "metadata": {},
   "source": [
    "### Parte 3 - Gradiente Descent"
   ]
  },
  {
   "cell_type": "code",
   "execution_count": 5,
   "metadata": {},
   "outputs": [
    {
     "name": "stdout",
     "output_type": "stream",
     "text": [
      "Output da Rede Neural:\n",
      "0.3775406687981454\n",
      "Total de Erro:\n",
      "0.1224593312018546\n",
      "Mudança nos Pesos:\n",
      "[0.0143892 0.0287784]\n"
     ]
    }
   ],
   "source": [
    "import numpy as np\n",
    "\n",
    "def sigmoid(x):\n",
    "    \"\"\"\n",
    "    Implemente a Função Sigmóide\n",
    "    \"\"\"\n",
    "    return 1/(1 + np.exp(-x))\n",
    "\n",
    "# Parâmetros\n",
    "x = np.array([1, 2])\n",
    "y = np.array(0.5)\n",
    "\n",
    "# Hiperparâmetros\n",
    "learnrate = 0.5\n",
    "\n",
    "# Inicialização dos pesos\n",
    "w = np.array([0.5, -0.5])\n",
    "\n",
    "\"\"\"\n",
    "Implemente a saída da rede\n",
    "\"\"\"\n",
    "nn_output = sigmoid(np.dot(x, w))\n",
    "\n",
    "\"\"\"\n",
    "Implemente o erro da rede\n",
    "\"\"\"\n",
    "error = y - nn_output\n",
    "\n",
    "\"\"\"\n",
    "Implemente a mudança nos pesos da rede\n",
    "\"\"\"\n",
    "del_w = learnrate * error * nn_output * (1 - nn_output) * x\n",
    "\n",
    "print('Output da Rede Neural:')\n",
    "print(nn_output)\n",
    "print('Total de Erro:')\n",
    "print(error)\n",
    "print('Mudança nos Pesos:')\n",
    "print(del_w)"
   ]
  },
  {
   "cell_type": "markdown",
   "metadata": {},
   "source": [
    "### Parte 4 - Backpropagation"
   ]
  },
  {
   "cell_type": "code",
   "execution_count": 4,
   "metadata": {},
   "outputs": [
    {
     "name": "stdout",
     "output_type": "stream",
     "text": [
      "Mudança nos Pesos da Camada de Saída Para a Camada Oculta:\n",
      "[ 0.00804047  0.00555918]\n",
      "Mudança nos Pesos da Camada Oculta Para a Camada de Entrada:\n",
      "[[  1.77005547e-04  -5.11178506e-04]\n",
      " [  3.54011093e-05  -1.02235701e-04]\n",
      " [ -7.08022187e-05   2.04471402e-04]]\n"
     ]
    }
   ],
   "source": [
    "import numpy as np\n",
    "\n",
    "\n",
    "def sigmoid(x):\n",
    "    \"\"\"\n",
    "    Implemente a Função Sigmóide\n",
    "    \"\"\"\n",
    "    return 1 / (1 + np.exp(-x))\n",
    "\n",
    "# Parâmetros\n",
    "x = np.array([0.5, 0.1, -0.2])\n",
    "target = 0.6\n",
    "\n",
    "# Hiperparâmetros\n",
    "learnrate = 0.5\n",
    "\n",
    "# Inicialização dos parâmetros\n",
    "pesos_input_hidden = np.array([[0.5, -0.6], [0.1, -0.2], [0.1, 0.7]])\n",
    "pesos_hidden_output = np.array([0.1, -0.3])\n",
    "\n",
    "# Forward pass\n",
    "hidden_layer_input = np.dot(x, pesos_input_hidden)\n",
    "hidden_layer_output = sigmoid(hidden_layer_input)\n",
    "\n",
    "output_layer_in = np.dot(hidden_layer_output, pesos_hidden_output)\n",
    "output = sigmoid(output_layer_in)\n",
    "\n",
    "# Backwards pass\n",
    "# Erro\n",
    "error = target - output\n",
    "\n",
    "# Erro na camada de saída\n",
    "output_error_term = error * output * (1 - output)\n",
    "\n",
    "# Erro na camada oculta\n",
    "hidden_error_term = np.dot(output_error_term, pesos_hidden_output) * hidden_layer_output * (1 - hidden_layer_output)\n",
    "\n",
    "# Mudança nos Pesos da Camada de Saída Para a Camada Oculta\n",
    "delta_w_h_o = learnrate * output_error_term * hidden_layer_output\n",
    "\n",
    "# Mudança nos Pesos da Camada Oculta Para a Camada de Entrada\n",
    "delta_w_i_h = learnrate * hidden_error_term * x[:, None]\n",
    "\n",
    "print('Mudança nos Pesos da Camada de Saída Para a Camada Oculta:')\n",
    "print(delta_w_h_o)\n",
    "print('Mudança nos Pesos da Camada Oculta Para a Camada de Entrada:')\n",
    "print(delta_w_i_h)"
   ]
  },
  {
   "cell_type": "markdown",
   "metadata": {},
   "source": [
    "# Fim"
   ]
  }
 ],
 "metadata": {
  "kernelspec": {
   "display_name": "Python 3",
   "language": "python",
   "name": "python3"
  },
  "language_info": {
   "codemirror_mode": {
    "name": "ipython",
    "version": 3
   },
   "file_extension": ".py",
   "mimetype": "text/x-python",
   "name": "python",
   "nbconvert_exporter": "python",
   "pygments_lexer": "ipython3",
   "version": "3.7.2"
  }
 },
 "nbformat": 4,
 "nbformat_minor": 2
}
