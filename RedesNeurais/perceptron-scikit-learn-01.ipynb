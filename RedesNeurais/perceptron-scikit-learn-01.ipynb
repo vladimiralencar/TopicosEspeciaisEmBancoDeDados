version https://git-lfs.github.com/spec/v1
oid sha256:50419788f27f2c315d19003fca7a431a6425558aba75f415e61878b0a6f62169
size 51065
