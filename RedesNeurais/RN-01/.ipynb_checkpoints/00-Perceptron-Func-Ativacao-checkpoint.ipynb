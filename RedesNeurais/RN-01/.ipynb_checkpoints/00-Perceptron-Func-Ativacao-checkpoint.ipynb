version https://git-lfs.github.com/spec/v1
oid sha256:353ceb1b7259638e0019ed0e7b54091c8aa2fa94ee3377a100411bba609ac575
size 3984
