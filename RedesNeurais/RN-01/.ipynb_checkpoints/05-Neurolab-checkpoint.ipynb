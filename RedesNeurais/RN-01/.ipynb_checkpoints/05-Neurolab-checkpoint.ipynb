version https://git-lfs.github.com/spec/v1
oid sha256:c046df6bc7b887f8d2df80d0670f305ad3fb194c62345689b7a55ebf3738c0f0
size 235638
