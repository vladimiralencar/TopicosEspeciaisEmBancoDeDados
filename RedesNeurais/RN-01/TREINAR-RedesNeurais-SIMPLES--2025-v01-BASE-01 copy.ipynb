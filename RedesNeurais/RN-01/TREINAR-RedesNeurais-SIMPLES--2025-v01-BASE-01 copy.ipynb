version https://git-lfs.github.com/spec/v1
oid sha256:b475811453c0bffa9b71db58257abada467fa6209034213cf6330d3494f11d54
size 190625
