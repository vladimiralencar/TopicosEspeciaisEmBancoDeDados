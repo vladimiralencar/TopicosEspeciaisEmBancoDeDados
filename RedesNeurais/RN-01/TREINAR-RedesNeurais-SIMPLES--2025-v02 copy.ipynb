version https://git-lfs.github.com/spec/v1
oid sha256:0149f4c9c0171765a56719e3edf6d841a41d43d5810ed913b2ebf8015b2a4cec
size 190611
