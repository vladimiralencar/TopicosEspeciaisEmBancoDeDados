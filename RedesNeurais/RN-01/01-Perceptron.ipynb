version https://git-lfs.github.com/spec/v1
oid sha256:a492a4cb1bba5cd481f7f30ad5edcc1c1cdb52dc4f155cf3ae67ec67d92c3bfc
size 513356
