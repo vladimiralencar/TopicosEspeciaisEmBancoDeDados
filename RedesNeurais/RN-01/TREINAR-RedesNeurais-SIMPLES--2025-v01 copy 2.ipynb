version https://git-lfs.github.com/spec/v1
oid sha256:9495e2b097525358ec834bcd19ba6c06026234efbcb0ddd95ee70a562edc94a7
size 193918
