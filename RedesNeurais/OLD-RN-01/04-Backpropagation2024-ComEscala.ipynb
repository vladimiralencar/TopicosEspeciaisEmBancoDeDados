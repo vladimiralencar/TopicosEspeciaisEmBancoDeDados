{
 "cells": [
  {
   "cell_type": "markdown",
   "metadata": {},
   "source": [
    "# Redes Neurais"
   ]
  },
  {
   "cell_type": "markdown",
   "metadata": {},
   "source": [
    "## Backpropagation "
   ]
  },
  {
   "cell_type": "code",
   "execution_count": 12,
   "metadata": {},
   "outputs": [],
   "source": [
    "import numpy as np\n",
    "np.set_printoptions(suppress=True, precision=5)\n",
    "import math"
   ]
  },
  {
   "cell_type": "code",
   "execution_count": 63,
   "metadata": {},
   "outputs": [
    {
     "data": {
      "text/plain": [
       "0.0"
      ]
     },
     "execution_count": 63,
     "metadata": {},
     "output_type": "execute_result"
    }
   ],
   "source": [
    "x = 1000\n",
    "math.e**-x"
   ]
  },
  {
   "cell_type": "code",
   "execution_count": 69,
   "metadata": {},
   "outputs": [],
   "source": [
    "#suppress warnings\n",
    "import warnings\n",
    "warnings.filterwarnings('ignore')\n",
    "\n",
    "# Função de ativação Sigmoid\n",
    "def sigmoid(x): \n",
    "    try:\n",
    "        sig =  1 /(1+(math.e**-x))\n",
    "    except:\n",
    "        sig = 1\n",
    "        \n",
    "    return sig\n",
    "\n",
    "# Função derivada da função Sigmoid (para cálculo do gradiente)\n",
    "def deriv_sigmoid(y):\n",
    "    return y * (1.0 - y)   "
   ]
  },
  {
   "cell_type": "code",
   "execution_count": 14,
   "metadata": {},
   "outputs": [],
   "source": [
    "# Learning rate\n",
    "alpha = .1   "
   ]
  },
  {
   "cell_type": "code",
   "execution_count": 15,
   "metadata": {},
   "outputs": [
    {
     "name": "stdout",
     "output_type": "stream",
     "text": [
      "(1000, 21)\n"
     ]
    },
    {
     "data": {
      "text/html": [
       "<div>\n",
       "<style scoped>\n",
       "    .dataframe tbody tr th:only-of-type {\n",
       "        vertical-align: middle;\n",
       "    }\n",
       "\n",
       "    .dataframe tbody tr th {\n",
       "        vertical-align: top;\n",
       "    }\n",
       "\n",
       "    .dataframe thead th {\n",
       "        text-align: right;\n",
       "    }\n",
       "</style>\n",
       "<table border=\"1\" class=\"dataframe\">\n",
       "  <thead>\n",
       "    <tr style=\"text-align: right;\">\n",
       "      <th></th>\n",
       "      <th>classificação_crédito</th>\n",
       "      <th>conta.saldo</th>\n",
       "      <th>crédito.duração.meses</th>\n",
       "      <th>pagamento.crédito.anterior.status</th>\n",
       "      <th>crédito.propósito</th>\n",
       "      <th>crédito.valor</th>\n",
       "      <th>poupança</th>\n",
       "      <th>duração.emprego</th>\n",
       "      <th>taxa.parcelamento</th>\n",
       "      <th>estado_civil</th>\n",
       "      <th>...</th>\n",
       "      <th>residência.duração</th>\n",
       "      <th>ativos.atual</th>\n",
       "      <th>idade</th>\n",
       "      <th>outros.créditos</th>\n",
       "      <th>apartamento.tipo</th>\n",
       "      <th>banco.crédito</th>\n",
       "      <th>ocupação</th>\n",
       "      <th>dependentes</th>\n",
       "      <th>telefone</th>\n",
       "      <th>trabalhador_estrangeiro</th>\n",
       "    </tr>\n",
       "  </thead>\n",
       "  <tbody>\n",
       "    <tr>\n",
       "      <th>0</th>\n",
       "      <td>1</td>\n",
       "      <td>1</td>\n",
       "      <td>18</td>\n",
       "      <td>3</td>\n",
       "      <td>2</td>\n",
       "      <td>1049</td>\n",
       "      <td>1</td>\n",
       "      <td>1</td>\n",
       "      <td>4</td>\n",
       "      <td>1</td>\n",
       "      <td>...</td>\n",
       "      <td>4</td>\n",
       "      <td>2</td>\n",
       "      <td>21</td>\n",
       "      <td>2</td>\n",
       "      <td>1</td>\n",
       "      <td>1</td>\n",
       "      <td>3</td>\n",
       "      <td>1</td>\n",
       "      <td>1</td>\n",
       "      <td>1</td>\n",
       "    </tr>\n",
       "    <tr>\n",
       "      <th>1</th>\n",
       "      <td>1</td>\n",
       "      <td>1</td>\n",
       "      <td>9</td>\n",
       "      <td>3</td>\n",
       "      <td>4</td>\n",
       "      <td>2799</td>\n",
       "      <td>1</td>\n",
       "      <td>2</td>\n",
       "      <td>2</td>\n",
       "      <td>3</td>\n",
       "      <td>...</td>\n",
       "      <td>2</td>\n",
       "      <td>1</td>\n",
       "      <td>36</td>\n",
       "      <td>2</td>\n",
       "      <td>1</td>\n",
       "      <td>2</td>\n",
       "      <td>3</td>\n",
       "      <td>2</td>\n",
       "      <td>1</td>\n",
       "      <td>1</td>\n",
       "    </tr>\n",
       "    <tr>\n",
       "      <th>2</th>\n",
       "      <td>1</td>\n",
       "      <td>2</td>\n",
       "      <td>12</td>\n",
       "      <td>2</td>\n",
       "      <td>4</td>\n",
       "      <td>841</td>\n",
       "      <td>2</td>\n",
       "      <td>3</td>\n",
       "      <td>2</td>\n",
       "      <td>1</td>\n",
       "      <td>...</td>\n",
       "      <td>4</td>\n",
       "      <td>1</td>\n",
       "      <td>23</td>\n",
       "      <td>2</td>\n",
       "      <td>1</td>\n",
       "      <td>1</td>\n",
       "      <td>2</td>\n",
       "      <td>1</td>\n",
       "      <td>1</td>\n",
       "      <td>1</td>\n",
       "    </tr>\n",
       "    <tr>\n",
       "      <th>3</th>\n",
       "      <td>1</td>\n",
       "      <td>1</td>\n",
       "      <td>12</td>\n",
       "      <td>3</td>\n",
       "      <td>4</td>\n",
       "      <td>2122</td>\n",
       "      <td>1</td>\n",
       "      <td>2</td>\n",
       "      <td>3</td>\n",
       "      <td>3</td>\n",
       "      <td>...</td>\n",
       "      <td>2</td>\n",
       "      <td>1</td>\n",
       "      <td>39</td>\n",
       "      <td>2</td>\n",
       "      <td>1</td>\n",
       "      <td>2</td>\n",
       "      <td>2</td>\n",
       "      <td>2</td>\n",
       "      <td>1</td>\n",
       "      <td>2</td>\n",
       "    </tr>\n",
       "    <tr>\n",
       "      <th>4</th>\n",
       "      <td>1</td>\n",
       "      <td>1</td>\n",
       "      <td>12</td>\n",
       "      <td>3</td>\n",
       "      <td>4</td>\n",
       "      <td>2171</td>\n",
       "      <td>1</td>\n",
       "      <td>2</td>\n",
       "      <td>4</td>\n",
       "      <td>3</td>\n",
       "      <td>...</td>\n",
       "      <td>4</td>\n",
       "      <td>2</td>\n",
       "      <td>38</td>\n",
       "      <td>1</td>\n",
       "      <td>2</td>\n",
       "      <td>2</td>\n",
       "      <td>2</td>\n",
       "      <td>1</td>\n",
       "      <td>1</td>\n",
       "      <td>2</td>\n",
       "    </tr>\n",
       "  </tbody>\n",
       "</table>\n",
       "<p>5 rows × 21 columns</p>\n",
       "</div>"
      ],
      "text/plain": [
       "   classificação_crédito  conta.saldo  crédito.duração.meses  \\\n",
       "0                      1            1                     18   \n",
       "1                      1            1                      9   \n",
       "2                      1            2                     12   \n",
       "3                      1            1                     12   \n",
       "4                      1            1                     12   \n",
       "\n",
       "   pagamento.crédito.anterior.status  crédito.propósito  crédito.valor  \\\n",
       "0                                  3                  2           1049   \n",
       "1                                  3                  4           2799   \n",
       "2                                  2                  4            841   \n",
       "3                                  3                  4           2122   \n",
       "4                                  3                  4           2171   \n",
       "\n",
       "   poupança  duração.emprego  taxa.parcelamento  estado_civil  ...  \\\n",
       "0         1                1                  4             1  ...   \n",
       "1         1                2                  2             3  ...   \n",
       "2         2                3                  2             1  ...   \n",
       "3         1                2                  3             3  ...   \n",
       "4         1                2                  4             3  ...   \n",
       "\n",
       "   residência.duração  ativos.atual  idade  outros.créditos  apartamento.tipo  \\\n",
       "0                   4             2     21                2                 1   \n",
       "1                   2             1     36                2                 1   \n",
       "2                   4             1     23                2                 1   \n",
       "3                   2             1     39                2                 1   \n",
       "4                   4             2     38                1                 2   \n",
       "\n",
       "   banco.crédito  ocupação  dependentes  telefone  trabalhador_estrangeiro  \n",
       "0              1         3            1         1                        1  \n",
       "1              2         3            2         1                        1  \n",
       "2              1         2            1         1                        1  \n",
       "3              2         2            2         1                        2  \n",
       "4              2         2            1         1                        2  \n",
       "\n",
       "[5 rows x 21 columns]"
      ]
     },
     "execution_count": 15,
     "metadata": {},
     "output_type": "execute_result"
    }
   ],
   "source": [
    "# Dataset de Risco de Crédito\n",
    "import pandas as pd\n",
    "\n",
    "atributos_pt = [ 'classificação_crédito',  'conta.saldo', 'crédito.duração.meses', 'pagamento.crédito.anterior.status', 'crédito.propósito',\n",
    "                 'crédito.valor', 'poupança', 'duração.emprego', 'taxa.parcelamento', 'estado_civil', 'fiador', 'residência.duração', \n",
    "                 'ativos.atual', 'idade', 'outros.créditos', 'apartamento.tipo', 'banco.crédito', 'ocupação',\n",
    "                'dependentes', 'telefone', 'trabalhador_estrangeiro']\n",
    "\n",
    "url = 'https://raw.githubusercontent.com/vladimiralencar/Alunos-UEPB-TopicosEspeciaisEmBancoDeDados/refs/heads/master/RegressaoLogistica/credit_dataset_final.csv'\n",
    "df = pd.read_csv(url)\n",
    "df.columns = atributos_pt\n",
    "print(df.shape)\n",
    "df.head()"
   ]
  },
  {
   "cell_type": "code",
   "execution_count": 16,
   "metadata": {},
   "outputs": [],
   "source": [
    "# Gerando dados aleatórios para x e y\n",
    "# X será o dataset com 3 features (3 atributos)\n",
    "X = df.iloc[:, 1:].values\n",
    "\n",
    "y = df['classificação_crédito']. values"
   ]
  },
  {
   "cell_type": "code",
   "execution_count": 17,
   "metadata": {},
   "outputs": [
    {
     "data": {
      "text/plain": [
       "array([[   1,   18,    3,    2, 1049,    1,    1,    4,    1,    1,    4,\n",
       "           2,   21,    2,    1,    1,    3,    1,    1,    1],\n",
       "       [   1,    9,    3,    4, 2799,    1,    2,    2,    3,    1,    2,\n",
       "           1,   36,    2,    1,    2,    3,    2,    1,    1],\n",
       "       [   2,   12,    2,    4,  841,    2,    3,    2,    1,    1,    4,\n",
       "           1,   23,    2,    1,    1,    2,    1,    1,    1]])"
      ]
     },
     "execution_count": 17,
     "metadata": {},
     "output_type": "execute_result"
    }
   ],
   "source": [
    "X[:3]"
   ]
  },
  {
   "cell_type": "code",
   "execution_count": 18,
   "metadata": {},
   "outputs": [
    {
     "data": {
      "text/plain": [
       "(1000, 20)"
      ]
     },
     "execution_count": 18,
     "metadata": {},
     "output_type": "execute_result"
    }
   ],
   "source": [
    "X.shape"
   ]
  },
  {
   "cell_type": "code",
   "execution_count": 19,
   "metadata": {},
   "outputs": [
    {
     "data": {
      "text/plain": [
       "array([1, 1, 1])"
      ]
     },
     "execution_count": 19,
     "metadata": {},
     "output_type": "execute_result"
    }
   ],
   "source": [
    "y[:3]"
   ]
  },
  {
   "cell_type": "code",
   "execution_count": 20,
   "metadata": {},
   "outputs": [
    {
     "data": {
      "text/plain": [
       "array([[0.00704, 0.15118, 0.34738, 1.96615],\n",
       "       [1.02796, 1.55518, 0.55324, 1.40391],\n",
       "       [1.61247, 1.92182, 0.68654, 0.3295 ]])"
      ]
     },
     "execution_count": 20,
     "metadata": {},
     "output_type": "execute_result"
    }
   ],
   "source": [
    "2*np.random.random((3,4))"
   ]
  },
  {
   "cell_type": "code",
   "execution_count": 39,
   "metadata": {},
   "outputs": [],
   "source": [
    "# Inicializando randomicamente os vetores de pesos (serão criadas 2 camadas ocultas)\n",
    "np.random.seed(1)\n",
    "theta0 = 2*np.random.random((3,4)) - 1\n",
    "theta1 = 2*np.random.random((4,1)) - 1"
   ]
  },
  {
   "cell_type": "code",
   "execution_count": 40,
   "metadata": {},
   "outputs": [
    {
     "data": {
      "text/plain": [
       "array([[-0.16596,  0.44065, -0.99977, -0.39533],\n",
       "       [-0.70649, -0.81532, -0.62748, -0.30888],\n",
       "       [-0.20647,  0.07763, -0.16161,  0.37044]])"
      ]
     },
     "execution_count": 40,
     "metadata": {},
     "output_type": "execute_result"
    }
   ],
   "source": [
    "theta0"
   ]
  },
  {
   "cell_type": "code",
   "execution_count": 41,
   "metadata": {},
   "outputs": [
    {
     "data": {
      "text/plain": [
       "array([[-0.5911 ],\n",
       "       [ 0.75623],\n",
       "       [-0.94522],\n",
       "       [ 0.34094]])"
      ]
     },
     "execution_count": 41,
     "metadata": {},
     "output_type": "execute_result"
    }
   ],
   "source": [
    "theta1"
   ]
  },
  {
   "cell_type": "code",
   "execution_count": 105,
   "metadata": {},
   "outputs": [],
   "source": [
    "import matplotlib.pyplot as plt\n",
    "\n",
    "def plotg(erros):\n",
    "    plt.xlabel('Época')\n",
    "    plt.ylabel('Erro')\n",
    "    plt.title(\"Treinamento do Modelo\")\n",
    "    plt.plot(erros)\n",
    "    \n",
    "# plotg(erros)"
   ]
  },
  {
   "cell_type": "markdown",
   "metadata": {},
   "source": [
    "### Passos Realizados pelo Backpropagation"
   ]
  },
  {
   "cell_type": "markdown",
   "metadata": {},
   "source": [
    "1- Feedforward pass: Inicializamos aleatoriamente os vetores de peso e multiplicamos a entrada com os vetores de peso subsequentes em direção a uma saída final."
   ]
  },
  {
   "cell_type": "markdown",
   "metadata": {},
   "source": [
    "2- Cálculo do erro: Calculamos o erro / perda da saída do passo de feedforward."
   ]
  },
  {
   "cell_type": "markdown",
   "metadata": {},
   "source": [
    "3- Backpropagation para a última camada oculta (em relação à saída): Calculamos o gradiente desse erro e alteramos os pesos para a direção do gradiente. Fazemos isso multiplicando o vetor de pesos pelos gradientes calculados."
   ]
  },
  {
   "cell_type": "markdown",
   "metadata": {},
   "source": [
    "4- Atualiza os pesos até o critério de parada ser atingido (erro mínimo ou número de rodadas de treinamento)."
   ]
  },
  {
   "cell_type": "code",
   "execution_count": 21,
   "metadata": {},
   "outputs": [
    {
     "data": {
      "text/plain": [
       "(1000, 20)"
      ]
     },
     "execution_count": 21,
     "metadata": {},
     "output_type": "execute_result"
    }
   ],
   "source": [
    "X.shape"
   ]
  },
  {
   "cell_type": "code",
   "execution_count": 50,
   "metadata": {},
   "outputs": [
    {
     "data": {
      "text/plain": [
       "(1000, 20)"
      ]
     },
     "execution_count": 50,
     "metadata": {},
     "output_type": "execute_result"
    }
   ],
   "source": [
    "input_layer.shape"
   ]
  },
  {
   "cell_type": "code",
   "execution_count": 106,
   "metadata": {},
   "outputs": [
    {
     "name": "stderr",
     "output_type": "stream",
     "text": [
      "Época: 119/120- Acurácia da Rede Neural: 0.8879810496195054"
     ]
    },
    {
     "name": "stdout",
     "output_type": "stream",
     "text": [
      "Acurácia Final da Rede Neural: 0.8879810496195054\n"
     ]
    },
    {
     "data": {
      "image/png": "[encoded data removed]",
      "text/plain": [
       "<Figure size 640x480 with 1 Axes>"
      ]
     },
     "metadata": {},
     "output_type": "display_data"
    }
   ],
   "source": [
    "import sys\n",
    "\n",
    "def train(X,y, learning_rate=.1):\n",
    "\n",
    "    # Learning rate\n",
    "    alpha = learning_rate  \n",
    "    \n",
    "    # Inicializando randomicamente os vetores de pesos (serão criadas 2 camadas ocultas)\n",
    "    np.random.seed(1)\n",
    "    # theta0 = 2*np.random.random((3,4)) - 1\n",
    "    # theta1 = 2*np.random.random((4,1)) - 1\n",
    "    \n",
    "    theta0 = 2*np.random.random((20,  1000)) - 1\n",
    "    theta1 = 2*np.random.random((1000,1000)) - 1\n",
    "    \n",
    "    # Loop for para percorrer a rede neural\n",
    "    # O valor 205000 especifica a quantidade de rounds de treinamento\n",
    "    epoch = 120 #205000\n",
    "    erros = []\n",
    "    for iter in range(epoch): \n",
    "        # Etapa 1: Feedforward \n",
    "        input_layer = X\n",
    "        l1 = sigmoid(np.dot(input_layer, theta0)) # camada 1\n",
    "        l2 = sigmoid(np.dot(l1,theta1))           # camada 2\n",
    "    \n",
    "        # Etapa 2: Calculando o erro \n",
    "        l2_error = y - l2\n",
    "        erro =  np.sum(l2_error**2) / l2_error.shape[0] \n",
    "        erros.append(erro) # * 1000)\n",
    "        \n",
    "        # if (iter% 1) == 0:\n",
    "        acurácia = np.mean(1-(np.abs(l2_error)))\n",
    "        sys.stderr.write('\\rÉpoca: ' + str(iter) + '/' + str(epoch)+ '- Acurácia da Rede Neural: ' + \\\n",
    "                             str(np.mean(1-(np.abs(l2_error)))))\n",
    "        sys.stderr.flush()\n",
    "            \n",
    "        # Etapa 3: Calculando os gradientes de forma vetorizada \n",
    "        l2_delta = alpha * (l2_error * deriv_sigmoid(l2)) # alfa = taxa de aprendizagem\n",
    "        l1_error = l2_delta.T.dot(theta1)\n",
    "        l1_delta = alpha * (l1_error * deriv_sigmoid(l1))\n",
    "    \n",
    "        # Etapa 4 - Atualiza os vetores de pesos\n",
    "        theta1 += l1.T.dot(l2_delta)\n",
    "        theta0 += input_layer.T.dot(l1_delta)\n",
    "        \n",
    "    acuracia = np.mean(1-(np.abs(l2_error)))\n",
    "    print (\"Acurácia Final da Rede Neural: \" + str(acuracia))\n",
    "    return acuracia, erros\n",
    "    \n",
    "acuracia, erros = train(X, y)\n",
    "plotg(erros)"
   ]
  },
  {
   "cell_type": "markdown",
   "metadata": {},
   "source": [
    "---"
   ]
  },
  {
   "cell_type": "markdown",
   "metadata": {},
   "source": [
    "# Colocar os dados em Escala"
   ]
  },
  {
   "cell_type": "code",
   "execution_count": 107,
   "metadata": {},
   "outputs": [
    {
     "data": {
      "text/plain": [
       "array([[-0.2409 , -0.1663 , -0.23212, -0.23651,  4.35767, -0.2409 ,\n",
       "        -0.2409 , -0.22773, -0.2409 , -0.2409 , -0.22773, -0.23651,\n",
       "        -0.15314, -0.23651, -0.2409 , -0.2409 , -0.23212, -0.2409 ,\n",
       "        -0.2409 , -0.2409 ],\n",
       "       [-0.23441, -0.22128, -0.23113, -0.22948,  4.35856, -0.23441,\n",
       "        -0.23277, -0.23277, -0.23113, -0.23441, -0.23277, -0.23441,\n",
       "        -0.17696, -0.23277, -0.23441, -0.23277, -0.23113, -0.23277,\n",
       "        -0.23441, -0.23441],\n",
       "       [-0.2374 , -0.18263, -0.2374 , -0.22644,  4.35721, -0.2374 ,\n",
       "        -0.23192, -0.2374 , -0.24287, -0.24287, -0.22644, -0.24287,\n",
       "        -0.1224 , -0.2374 , -0.24287, -0.24287, -0.2374 , -0.24287,\n",
       "        -0.24287, -0.24287]])"
      ]
     },
     "execution_count": 107,
     "metadata": {},
     "output_type": "execute_result"
    }
   ],
   "source": [
    "for c in range(X.shape[1]):\n",
    "    X_normalized[:][c] = ( X[:][c]-X[:][c].mean())/X[:][c].std()\n",
    "X_normalized[:3]"
   ]
  },
  {
   "cell_type": "code",
   "execution_count": 108,
   "metadata": {},
   "outputs": [
    {
     "name": "stderr",
     "output_type": "stream",
     "text": [
      "Época: 119/120- Acurácia da Rede Neural: 0.9369914510203738"
     ]
    },
    {
     "name": "stdout",
     "output_type": "stream",
     "text": [
      "Acurácia Final da Rede Neural: 0.9369914510203738\n",
      "CPU times: user 1min, sys: 6.34 s, total: 1min 6s\n",
      "Wall time: 38.8 s\n"
     ]
    },
    {
     "data": {
      "image/png": "[encoded data removed]",
      "text/plain": [
       "<Figure size 640x480 with 1 Axes>"
      ]
     },
     "metadata": {},
     "output_type": "display_data"
    }
   ],
   "source": [
    "%%time\n",
    "acuracia, erros = train(X_normalized, y, 0.1)\n",
    "plotg(erros)"
   ]
  },
  {
   "cell_type": "code",
   "execution_count": null,
   "metadata": {},
   "outputs": [],
   "source": []
  }
 ],
 "metadata": {
  "anaconda-cloud": {},
  "kernelspec": {
   "display_name": "Python 3 (ipykernel)",
   "language": "python",
   "name": "python3"
  },
  "language_info": {
   "codemirror_mode": {
    "name": "ipython",
    "version": 3
   },
   "file_extension": ".py",
   "mimetype": "text/x-python",
   "name": "python",
   "nbconvert_exporter": "python",
   "pygments_lexer": "ipython3",
   "version": "3.12.7"
  }
 },
 "nbformat": 4,
 "nbformat_minor": 4
}
