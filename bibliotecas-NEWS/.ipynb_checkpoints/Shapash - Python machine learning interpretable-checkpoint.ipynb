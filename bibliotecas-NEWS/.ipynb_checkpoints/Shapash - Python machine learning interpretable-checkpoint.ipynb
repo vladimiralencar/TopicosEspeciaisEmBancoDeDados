{
 "cells": [
  {
   "cell_type": "markdown",
   "id": "e672b1dd-17e6-44f3-8971-1076338c91aa",
   "metadata": {},
   "source": [
    "# Shapash: Python machine learning interpretable"
   ]
  },
  {
   "cell_type": "markdown",
   "id": "46d34490-556c-41fc-a2db-20ca51985d0a",
   "metadata": {},
   "source": [
    "- Criar um ambiente com python 3.10 <br>\n",
    "conda create -n py310 python==3.10 <br>\n",
    "\n",
    "- Ativar o ambiente com python 3.10 <br>\n",
    "conda activate py310 <br>\n",
    "\n",
    "\n",
    "- No Terminal de Comando: <br>\n",
    "conda activate py310 <br>\n",
    "pip install -q shapash        <br>\n",
    "pip install -q shapash[report]  <br>\n",
    "\n",
    "- instalar a IDE Jupyter notebook <br>\n",
    "pip install -q jupyter <br>\n",
    "python --version <br>\n",
    "jupyter notebook"
   ]
  },
  {
   "cell_type": "code",
   "execution_count": null,
   "id": "a821f5ed-2d79-45f7-9983-b70f796473b0",
   "metadata": {},
   "outputs": [],
   "source": [
    "!python --version"
   ]
  },
  {
   "cell_type": "code",
   "execution_count": null,
   "id": "708fe45a-435f-4260-82f0-a70acf8f15f4",
   "metadata": {},
   "outputs": [],
   "source": [
    "%%time\n",
    "\n",
    "!pip install -q shapash"
   ]
  },
  {
   "cell_type": "markdown",
   "id": "3e1f3b41-bc28-41d9-a144-196ea21faef9",
   "metadata": {},
   "source": [
    "# Carregamento dos dados"
   ]
  },
  {
   "cell_type": "code",
   "execution_count": null,
   "id": "6723119d-c3f5-41eb-b8fa-1b981791d35b",
   "metadata": {},
   "outputs": [],
   "source": [
    "import warnings\n",
    "warnings.filterwarnings('ignore')"
   ]
  },
  {
   "cell_type": "code",
   "execution_count": null,
   "id": "aacfed08-a45b-4a1b-9b3d-1cbb1a69fa0e",
   "metadata": {},
   "outputs": [],
   "source": [
    "%%time\n",
    "!pip install -q XGBoost"
   ]
  },
  {
   "cell_type": "code",
   "execution_count": null,
   "id": "1ed54ac4-b367-4017-ac43-0bee2f9f79a9",
   "metadata": {},
   "outputs": [],
   "source": [
    "!pip install -q lightgbm"
   ]
  },
  {
   "cell_type": "code",
   "execution_count": null,
   "id": "d0d93e61-1b08-44f0-8e85-93092e4032f0",
   "metadata": {},
   "outputs": [],
   "source": [
    "# brew install libomp"
   ]
  },
  {
   "cell_type": "code",
   "execution_count": null,
   "id": "cda01475-ed51-483f-b974-0e7527823486",
   "metadata": {},
   "outputs": [],
   "source": [
    "from lightgbm import LGBMRegressor"
   ]
  },
  {
   "cell_type": "code",
   "execution_count": null,
   "id": "1fc037cb-ae37-4c45-a879-c872e3b52360",
   "metadata": {},
   "outputs": [],
   "source": [
    "from category_encoders import OrdinalEncoder\n",
    "import numpy as np \n",
    "import pandas as pd \n",
    "import xgboost as xg \n",
    "from category_encoders import OrdinalEncoder\n",
    "from sklearn.model_selection import train_test_split \n",
    "from sklearn.metrics import mean_squared_error as MSE \n",
    "from sklearn.ensemble import ExtraTreesRegressor"
   ]
  },
  {
   "cell_type": "markdown",
   "id": "47d3cd21-8b74-407a-aacb-2ba35e786907",
   "metadata": {},
   "source": [
    "# Building Supervized Model"
   ]
  },
  {
   "cell_type": "code",
   "execution_count": null,
   "id": "3eb18372-db06-450d-86f9-c7b4c0dd5237",
   "metadata": {},
   "outputs": [],
   "source": [
    "from shapash.data.data_loader import data_loading\n",
    "house_df, house_dict = data_loading('house_prices')"
   ]
  },
  {
   "cell_type": "code",
   "execution_count": null,
   "id": "de13c316-045a-42f3-92ce-d4f6c10258fc",
   "metadata": {},
   "outputs": [],
   "source": [
    "y_df=house_df['SalePrice'].to_frame()\n",
    "X_df=house_df[house_df.columns.difference(['SalePrice'])]"
   ]
  },
  {
   "cell_type": "code",
   "execution_count": null,
   "id": "9e884759-12e9-4d76-9879-03cc9b9ec564",
   "metadata": {},
   "outputs": [],
   "source": [
    "house_df.shape"
   ]
  },
  {
   "cell_type": "code",
   "execution_count": null,
   "id": "15e35fff-d9d8-4459-b371-dff2a0a8af21",
   "metadata": {},
   "outputs": [],
   "source": [
    "house_df.head()"
   ]
  },
  {
   "cell_type": "markdown",
   "id": "631e9bef-f54f-4bd8-abf8-5e245f67fad9",
   "metadata": {},
   "source": [
    "# Encoding Categorical Features"
   ]
  },
  {
   "cell_type": "code",
   "execution_count": null,
   "id": "5477ac33-25d0-4ecb-8d98-33d1f1627873",
   "metadata": {},
   "outputs": [],
   "source": [
    "from category_encoders import OrdinalEncoder\n",
    "\n",
    "categorical_features = [col for col in X_df.columns if X_df[col].dtype == 'object']\n",
    "\n",
    "encoder = OrdinalEncoder(\n",
    "    cols=categorical_features,\n",
    "    handle_unknown='ignore',\n",
    "    return_df=True).fit(X_df)\n",
    "\n",
    "X_df=encoder.transform(X_df)"
   ]
  },
  {
   "cell_type": "markdown",
   "id": "763407e0-9652-4a52-b7d4-aa6dcb4571c1",
   "metadata": {},
   "source": [
    "# Train / Test Split"
   ]
  },
  {
   "cell_type": "code",
   "execution_count": null,
   "id": "5bf9323e-c6a9-4b36-8803-5f87f97515c9",
   "metadata": {},
   "outputs": [],
   "source": [
    "Xtrain, Xtest, ytrain, ytest = train_test_split(X_df, y_df, train_size=0.75, random_state=1)"
   ]
  },
  {
   "cell_type": "markdown",
   "id": "9a63e172-3431-46ca-86b8-664d16b49632",
   "metadata": {},
   "source": [
    "# Model Fitting"
   ]
  },
  {
   "cell_type": "code",
   "execution_count": null,
   "id": "4468d803-3b88-4ad5-bce3-7cc6ee8db830",
   "metadata": {},
   "outputs": [],
   "source": [
    "regressor = xg.XGBRegressor(objective ='reg:linear', \n",
    "                  n_estimators = 10, seed = 123) "
   ]
  },
  {
   "cell_type": "markdown",
   "id": "d1f0ab09-14f1-46b5-baee-89fdbbc51909",
   "metadata": {},
   "source": [
    "# Understanding my model with shapash"
   ]
  },
  {
   "cell_type": "markdown",
   "id": "55afd7ac-77da-4c43-9f03-cdba3f3f6938",
   "metadata": {},
   "source": [
    "## Declare and Compile SmartExplainer"
   ]
  },
  {
   "cell_type": "code",
   "execution_count": null,
   "id": "9595c815-6bef-4336-863b-cdc5e1155882",
   "metadata": {},
   "outputs": [],
   "source": [
    "from shapash import SmartExplainer"
   ]
  },
  {
   "cell_type": "code",
   "execution_count": null,
   "id": "02c002cb-b5f9-441d-a8c3-9392794f18c2",
   "metadata": {},
   "outputs": [],
   "source": [
    "%%time\n",
    "xpl = SmartExplainer(\n",
    "    model=regressor,\n",
    "    preprocessing=encoder,   # Optional: compile step can use inverse_transform method\n",
    "    features_dict=house_dict # optional parameter, specifies label for features name \n",
    ")"
   ]
  },
  {
   "cell_type": "code",
   "execution_count": null,
   "id": "3e862c4e-4d73-4513-9230-10506a41f6ff",
   "metadata": {},
   "outputs": [],
   "source": [
    "xpl.compile(x=Xtest,\n",
    "            y_target=ytest # Optional: allows to display True Values vs Predicted Values\n",
    "           )"
   ]
  },
  {
   "cell_type": "code",
   "execution_count": null,
   "id": "5afe7e49-1eb8-4f96-a535-ebeca116c023",
   "metadata": {},
   "outputs": [],
   "source": [
    "app = xpl.run_app(title_story='House Prices', port=8020)"
   ]
  },
  {
   "cell_type": "code",
   "execution_count": null,
   "id": "8d945a59-00fe-4452-9b1c-c59f1e8edec6",
   "metadata": {},
   "outputs": [],
   "source": [
    "app.kill()"
   ]
  },
  {
   "cell_type": "code",
   "execution_count": null,
   "id": "705e1d9e-8be8-4092-8029-2f0bb8707c71",
   "metadata": {},
   "outputs": [],
   "source": []
  },
  {
   "cell_type": "code",
   "execution_count": null,
   "id": "6f39d734-a075-42ad-945b-3783cfbd988f",
   "metadata": {},
   "outputs": [],
   "source": []
  },
  {
   "cell_type": "code",
   "execution_count": null,
   "id": "f6c73ceb-8f7c-48a5-ae76-c62007fd62a1",
   "metadata": {},
   "outputs": [],
   "source": []
  },
  {
   "cell_type": "code",
   "execution_count": null,
   "id": "14c90c3c-33eb-4752-8909-25712488901f",
   "metadata": {},
   "outputs": [],
   "source": []
  },
  {
   "cell_type": "code",
   "execution_count": null,
   "id": "dd46ef5c-828a-44de-99be-2da55a917e30",
   "metadata": {},
   "outputs": [],
   "source": [
    "import sklearn\n",
    "from sklearn import linear_model"
   ]
  },
  {
   "cell_type": "code",
   "execution_count": null,
   "id": "b90e99e9-36e5-4f04-ba7c-20669b4bee5f",
   "metadata": {},
   "outputs": [],
   "source": [
    "%%time\n",
    "\n",
    "regressor = linear_model\n",
    "from shapash import SmartExplainer\n",
    "xpl = SmartExplainer(\n",
    "  model=regressor,\n",
    "  features_dict=house_dict,  # Optional parameter\n",
    "  preprocessing=encoder, # Optional: compile step can use inverse_transform method\n",
    "  postprocessing=postprocess, # Optional: see tutorial postprocessing  \n",
    ")"
   ]
  },
  {
   "cell_type": "code",
   "execution_count": null,
   "id": "ea027d32-288d-4b63-9b34-a2e55976c1fa",
   "metadata": {},
   "outputs": [],
   "source": [
    "%%time\n",
    "\n",
    "xpl.compile(\n",
    "    x=Xtest,    \n",
    "    y_pred=y_pred, # Optional: for your own prediction (by default: model.predict)\n",
    "    y_target=yTest, # Optional: allows to display True Values vs Predicted Values\n",
    "    additional_data=X_additional, # Optional: additional dataset of features for Webapp\n",
    "    additional_features_dict=features_dict_additional, # Optional: dict additional data    \n",
    ")"
   ]
  },
  {
   "cell_type": "code",
   "execution_count": null,
   "id": "10d25d80-9b96-4258-81eb-258b15bdb52a",
   "metadata": {},
   "outputs": [],
   "source": [
    "%%time\n",
    "\n",
    "app = xpl.run_app()"
   ]
  },
  {
   "cell_type": "code",
   "execution_count": null,
   "id": "98a393ec-eabf-4fed-8760-266e6f6a639b",
   "metadata": {},
   "outputs": [],
   "source": [
    "%%time\n",
    "\n",
    "xpl.generate_report(\n",
    "    output_file='path/to/output/report.html',\n",
    "    project_info_file='path/to/project_info.yml',\n",
    "    x_train=Xtrain,\n",
    "    y_train=ytrain,\n",
    "    y_test=ytest,\n",
    "    title_story=\"House prices report\",\n",
    "    title_description=\"\"\"This document is a data science report of the kaggle house prices tutorial project.\n",
    "        It was generated using the Shapash library.\"\"\",\n",
    "    metrics=[{'name': 'MSE', 'path': 'sklearn.metrics.mean_squared_error'}]\n",
    ")"
   ]
  },
  {
   "cell_type": "code",
   "execution_count": null,
   "id": "802d3606-fa9a-46af-b407-17e10954e731",
   "metadata": {},
   "outputs": [],
   "source": []
  }
 ],
 "metadata": {
  "kernelspec": {
   "display_name": "Python 3 (ipykernel)",
   "language": "python",
   "name": "python3"
  },
  "language_info": {
   "codemirror_mode": {
    "name": "ipython",
    "version": 3
   },
   "file_extension": ".py",
   "mimetype": "text/x-python",
   "name": "python",
   "nbconvert_exporter": "python",
   "pygments_lexer": "ipython3",
   "version": "3.10.0"
  }
 },
 "nbformat": 4,
 "nbformat_minor": 5
}
