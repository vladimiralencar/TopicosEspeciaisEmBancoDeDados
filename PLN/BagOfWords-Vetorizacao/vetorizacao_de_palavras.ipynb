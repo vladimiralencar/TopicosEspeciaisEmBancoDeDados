{
 "cells": [
  {
   "cell_type": "markdown",
   "metadata": {},
   "source": [
    "# Vetorização de palavras"
   ]
  },
  {
   "cell_type": "code",
   "execution_count": 1,
   "metadata": {},
   "outputs": [],
   "source": [
    "from sklearn.feature_extraction.text import CountVectorizer"
   ]
  },
  {
   "cell_type": "code",
   "execution_count": 2,
   "metadata": {},
   "outputs": [
    {
     "name": "stdout",
     "output_type": "stream",
     "text": [
      "[[0 1 0 0 0 0 0 1]\n",
      " [0 2 1 1 1 2 2 0]\n",
      " [1 2 0 0 0 0 0 1]]\n",
      "['bom', 'carro', 'julia', 'paulo', 'também', 'tem', 'um', 'ótimo']\n"
     ]
    }
   ],
   "source": [
    "vectorizer = CountVectorizer()\n",
    "data_corpus = [\"carro ótimo\", \n",
    "               \"Julia tem um carro e paulo também tem um carro\",\n",
    "               \"carro carro bom ótimo\"]\n",
    "X = vectorizer.fit_transform(data_corpus) \n",
    "print(X.toarray())\n",
    "print(vectorizer.get_feature_names())"
   ]
  },
  {
   "cell_type": "code",
   "execution_count": 3,
   "metadata": {},
   "outputs": [
    {
     "name": "stdout",
     "output_type": "stream",
     "text": [
      "[array(['carro', 'ótimo'], dtype='<U6'), array(['carro', 'julia', 'tem', 'um', 'paulo', 'também'], dtype='<U6'), array(['carro', 'ótimo', 'bom'], dtype='<U6')]\n"
     ]
    }
   ],
   "source": [
    "txt = vectorizer.inverse_transform(X)\n",
    "print (txt)"
   ]
  },
  {
   "cell_type": "code",
   "execution_count": null,
   "metadata": {},
   "outputs": [],
   "source": []
  }
 ],
 "metadata": {
  "kernelspec": {
   "display_name": "tf366",
   "language": "python",
   "name": "tf366"
  },
  "language_info": {
   "codemirror_mode": {
    "name": "ipython",
    "version": 3
   },
   "file_extension": ".py",
   "mimetype": "text/x-python",
   "name": "python",
   "nbconvert_exporter": "python",
   "pygments_lexer": "ipython3",
   "version": "3.6.6"
  }
 },
 "nbformat": 4,
 "nbformat_minor": 2
}
