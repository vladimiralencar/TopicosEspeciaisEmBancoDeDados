{
 "cells": [
  {
   "cell_type": "markdown",
   "id": "5cc1af12",
   "metadata": {},
   "source": [
    "# Kangas"
   ]
  },
  {
   "cell_type": "code",
   "execution_count": 3,
   "id": "00c0c45d",
   "metadata": {},
   "outputs": [],
   "source": [
    "!pip install -q kangas"
   ]
  },
  {
   "cell_type": "code",
   "execution_count": 4,
   "id": "d1299493",
   "metadata": {},
   "outputs": [],
   "source": [
    "import kangas as kg\n",
    "\n",
    "# Load an existing DataGrid\n",
    "dg = kg.read_datagrid(\"https://github.com/caleb-kaiser/kangas_examples/raw/master/coco-500.datagrid\")"
   ]
  },
  {
   "cell_type": "code",
   "execution_count": 9,
   "id": "eba96878",
   "metadata": {},
   "outputs": [
    {
     "data": {
      "text/html": [
       "\n",
       "        <iframe\n",
       "            width=\"100%\"\n",
       "            height=\"750px\"\n",
       "            src=\"http://127.0.0.1:4000/?datagrid=coco-500.datagrid\"\n",
       "            frameborder=\"0\"\n",
       "            allowfullscreen\n",
       "            \n",
       "        ></iframe>\n",
       "        "
      ],
      "text/plain": [
       "<IPython.lib.display.IFrame at 0x7fe0d511faf0>"
      ]
     },
     "metadata": {},
     "output_type": "display_data"
    }
   ],
   "source": [
    "dg.show()"
   ]
  },
  {
   "cell_type": "code",
   "execution_count": 10,
   "id": "ef33ec6b",
   "metadata": {},
   "outputs": [],
   "source": [
    "dg = kg.read_datagrid(\"https://github.com/dsblank/examples/raw/main/mnist-60000-after-5-epochs.datagrid.zip\")"
   ]
  },
  {
   "cell_type": "code",
   "execution_count": 11,
   "id": "a8a3aa43",
   "metadata": {},
   "outputs": [
    {
     "data": {
      "text/html": [
       "<table><th colspan='1' >          row-id </th> <th colspan='1' >              ID </th> <th colspan='1' >           Image </th> <th colspan='1' >           guess </th> <th colspan='1' >           truth </th> <th colspan='1' >         score_0 </th> <th colspan='1' >         score_1 </th> <th colspan='1' >         score_2 </th> <th colspan='1' >         score_3 </th> <th colspan='1' >         score_4 </th> <th colspan='1' >         score_5 </th> <th colspan='1' >         score_6 </th> <th colspan='1' >         score_7 </th> <th colspan='1' >         score_8 </th> <th colspan='1' >         score_9 </th> <tr>\n",
       "<td colspan='1' >               1 </td> <td colspan='1' >             0_0 </td> <td colspan='1' > &lt;Image, asse </td> <td colspan='1' >               5 </td> <td colspan='1' >               5 </td> <td colspan='1' > 0.0003801159327 </td> <td colspan='1' > 0.0001277869014 </td> <td colspan='1' > 0.0002037321683 </td> <td colspan='1' > 0.0735469013452 </td> <td colspan='1' > 9.9519216746557 </td> <td colspan='1' > 0.9205805659294 </td> <td colspan='1' > 0.0001330216473 </td> <td colspan='1' > 0.0012975619174 </td> <td colspan='1' > 0.0017528240568 </td> <td colspan='1' > 0.0018781156977 </td> <tr>\n",
       "<td colspan='1' >               2 </td> <td colspan='1' >             1_0 </td> <td colspan='1' > &lt;Image, asse </td> <td colspan='1' >               0 </td> <td colspan='1' >               0 </td> <td colspan='1' > 0.9992853999137 </td> <td colspan='1' > 7.9931724030757 </td> <td colspan='1' > 8.1648780906107 </td> <td colspan='1' > 0.0001033976732 </td> <td colspan='1' > 1.2082227840437 </td> <td colspan='1' > 0.0003204728418 </td> <td colspan='1' > 1.9551858713384 </td> <td colspan='1' > 0.0001656513777 </td> <td colspan='1' > 1.2528664228739 </td> <td colspan='1' > 3.2318600915459 </td> <tr>\n",
       "<td colspan='1' >               3 </td> <td colspan='1' >             2_0 </td> <td colspan='1' > &lt;Image, asse </td> <td colspan='1' >               4 </td> <td colspan='1' >               4 </td> <td colspan='1' > 1.2911040414564 </td> <td colspan='1' > 2.5293978978879 </td> <td colspan='1' > 0.0013196486979 </td> <td colspan='1' > 4.2376654164399 </td> <td colspan='1' > 0.9972282052040 </td> <td colspan='1' > 5.7346933317603 </td> <td colspan='1' > 5.9833600971614 </td> <td colspan='1' > 0.0006686503184 </td> <td colspan='1' > 1.1407437341404 </td> <td colspan='1' > 0.0005871452158 </td> <tr>\n",
       "<td colspan='1' >               4 </td> <td colspan='1' >             3_0 </td> <td colspan='1' > &lt;Image, asse </td> <td colspan='1' >               1 </td> <td colspan='1' >               1 </td> <td colspan='1' > 1.7145330275525 </td> <td colspan='1' > 0.9984493255615 </td> <td colspan='1' > 0.0002102825528 </td> <td colspan='1' > 3.8886493712197 </td> <td colspan='1' > 6.9065579737070 </td> <td colspan='1' > 4.0109098335960 </td> <td colspan='1' > 0.0001045667522 </td> <td colspan='1' > 0.0001345542550 </td> <td colspan='1' > 0.0008927863673 </td> <td colspan='1' > 4.3187377741560 </td> <tr>\n",
       "<td colspan='1' >               5 </td> <td colspan='1' >             4_0 </td> <td colspan='1' > &lt;Image, asse </td> <td colspan='1' >               9 </td> <td colspan='1' >               9 </td> <td colspan='1' > 1.5619488635820 </td> <td colspan='1' > 4.1327712096972 </td> <td colspan='1' > 2.2574981812795 </td> <td colspan='1' > 0.0002893423661 </td> <td colspan='1' > 0.0010175879579 </td> <td colspan='1' > 6.5922569774556 </td> <td colspan='1' > 1.3011796795581 </td> <td colspan='1' > 0.0003477171703 </td> <td colspan='1' > 0.0005523857544 </td> <td colspan='1' > 0.9976830482482 </td> <tr>\n",
       "<tr><td colspan='15' style='text-align: left;'>...</td></tr><td colspan='1' >           59996 </td> <td colspan='1' >         59995_0 </td> <td colspan='1' > &lt;Image, asse </td> <td colspan='1' >               8 </td> <td colspan='1' >               8 </td> <td colspan='1' > 3.2505617127753 </td> <td colspan='1' > 2.5870547688100 </td> <td colspan='1' > 0.0002041866682 </td> <td colspan='1' > 0.0028061096090 </td> <td colspan='1' > 4.3806480789498 </td> <td colspan='1' > 0.0002726390375 </td> <td colspan='1' > 1.5543423614872 </td> <td colspan='1' > 3.1183614623842 </td> <td colspan='1' > 0.9965282082557 </td> <td colspan='1' > 0.0001243160804 </td> <tr>\n",
       "<td colspan='1' >           59997 </td> <td colspan='1' >         59996_0 </td> <td colspan='1' > &lt;Image, asse </td> <td colspan='1' >               3 </td> <td colspan='1' >               3 </td> <td colspan='1' > 1.1184209142811 </td> <td colspan='1' > 1.5324691048590 </td> <td colspan='1' > 0.0004596766957 </td> <td colspan='1' > 0.9982267022132 </td> <td colspan='1' > 1.2172682772870 </td> <td colspan='1' > 3.3583441108930 </td> <td colspan='1' > 6.3583303067105 </td> <td colspan='1' > 0.0001746603957 </td> <td colspan='1' > 0.0005389639409 </td> <td colspan='1' > 0.0005386720877 </td> <tr>\n",
       "<td colspan='1' >           59998 </td> <td colspan='1' >         59997_0 </td> <td colspan='1' > &lt;Image, asse </td> <td colspan='1' >               5 </td> <td colspan='1' >               5 </td> <td colspan='1' > 2.4464738089591 </td> <td colspan='1' > 8.7551825345144 </td> <td colspan='1' > 2.1635760276694 </td> <td colspan='1' > 0.0001473767042 </td> <td colspan='1' > 7.5291827670298 </td> <td colspan='1' > 0.9989750385284 </td> <td colspan='1' > 8.9653323811944 </td> <td colspan='1' > 1.9890239855158 </td> <td colspan='1' > 0.0004213855136 </td> <td colspan='1' > 0.0002358685160 </td> <tr>\n",
       "<td colspan='1' >           59999 </td> <td colspan='1' >         59998_0 </td> <td colspan='1' > &lt;Image, asse </td> <td colspan='1' >               6 </td> <td colspan='1' >               6 </td> <td colspan='1' > 2.3057298676576 </td> <td colspan='1' > 0.0001034079032 </td> <td colspan='1' > 0.0001432461285 </td> <td colspan='1' > 3.6937350955668 </td> <td colspan='1' > 0.0005181649466 </td> <td colspan='1' > 0.0003082071198 </td> <td colspan='1' > 0.9988954067230 </td> <td colspan='1' > 2.3212633095681 </td> <td colspan='1' > 4.3824447857332 </td> <td colspan='1' > 1.4624255300077 </td> <tr>\n",
       "<td colspan='1' >           60000 </td> <td colspan='1' >         59999_0 </td> <td colspan='1' > &lt;Image, asse </td> <td colspan='1' >               8 </td> <td colspan='1' >               8 </td> <td colspan='1' > 0.0001333609689 </td> <td colspan='1' > 1.6963807865977 </td> <td colspan='1' > 3.2436306355521 </td> <td colspan='1' > 0.0004209050675 </td> <td colspan='1' > 1.5265825368260 </td> <td colspan='1' > 0.0010179193923 </td> <td colspan='1' > 7.9014253060449 </td> <td colspan='1' > 1.0736092548313 </td> <td colspan='1' > 0.9981248974800 </td> <td colspan='1' > 0.0002439306845 </td> <tr>\n",
       "<tr>\n",
       "<td colspan='15' style=\"text-align: left;\"> [60000 rows x 14 columns] </td> <tr>\n",
       "<tr><td colspan='15' style='text-align: left;'></td></tr><tr><td colspan='15' style='text-align: left;'>*  Use DataGrid.show() to start user interface</td></tr></table>"
      ],
      "text/plain": [
       "<th colspan='1' >          row-id </th> <th colspan='1' >              ID </th> <th colspan='1' >           Image </th> <th colspan='1' >           guess </th> <th colspan='1' >           truth </th> <th colspan='1' >         score_0 </th> <th colspan='1' >         score_1 </th> <th colspan='1' >         score_2 </th> <th colspan='1' >         score_3 </th> <th colspan='1' >         score_4 </th> <th colspan='1' >         score_5 </th> <th colspan='1' >         score_6 </th> <th colspan='1' >         score_7 </th> <th colspan='1' >         score_8 </th> <th colspan='1' >         score_9 </th> <tr>\n",
       "<td colspan='1' >               1 </td> <td colspan='1' >             0_0 </td> <td colspan='1' > &lt;Image, asse </td> <td colspan='1' >               5 </td> <td colspan='1' >               5 </td> <td colspan='1' > 0.0003801159327 </td> <td colspan='1' > 0.0001277869014 </td> <td colspan='1' > 0.0002037321683 </td> <td colspan='1' > 0.0735469013452 </td> <td colspan='1' > 9.9519216746557 </td> <td colspan='1' > 0.9205805659294 </td> <td colspan='1' > 0.0001330216473 </td> <td colspan='1' > 0.0012975619174 </td> <td colspan='1' > 0.0017528240568 </td> <td colspan='1' > 0.0018781156977 </td> <tr>\n",
       "<td colspan='1' >               2 </td> <td colspan='1' >             1_0 </td> <td colspan='1' > &lt;Image, asse </td> <td colspan='1' >               0 </td> <td colspan='1' >               0 </td> <td colspan='1' > 0.9992853999137 </td> <td colspan='1' > 7.9931724030757 </td> <td colspan='1' > 8.1648780906107 </td> <td colspan='1' > 0.0001033976732 </td> <td colspan='1' > 1.2082227840437 </td> <td colspan='1' > 0.0003204728418 </td> <td colspan='1' > 1.9551858713384 </td> <td colspan='1' > 0.0001656513777 </td> <td colspan='1' > 1.2528664228739 </td> <td colspan='1' > 3.2318600915459 </td> <tr>\n",
       "<td colspan='1' >               3 </td> <td colspan='1' >             2_0 </td> <td colspan='1' > &lt;Image, asse </td> <td colspan='1' >               4 </td> <td colspan='1' >               4 </td> <td colspan='1' > 1.2911040414564 </td> <td colspan='1' > 2.5293978978879 </td> <td colspan='1' > 0.0013196486979 </td> <td colspan='1' > 4.2376654164399 </td> <td colspan='1' > 0.9972282052040 </td> <td colspan='1' > 5.7346933317603 </td> <td colspan='1' > 5.9833600971614 </td> <td colspan='1' > 0.0006686503184 </td> <td colspan='1' > 1.1407437341404 </td> <td colspan='1' > 0.0005871452158 </td> <tr>\n",
       "<td colspan='1' >               4 </td> <td colspan='1' >             3_0 </td> <td colspan='1' > &lt;Image, asse </td> <td colspan='1' >               1 </td> <td colspan='1' >               1 </td> <td colspan='1' > 1.7145330275525 </td> <td colspan='1' > 0.9984493255615 </td> <td colspan='1' > 0.0002102825528 </td> <td colspan='1' > 3.8886493712197 </td> <td colspan='1' > 6.9065579737070 </td> <td colspan='1' > 4.0109098335960 </td> <td colspan='1' > 0.0001045667522 </td> <td colspan='1' > 0.0001345542550 </td> <td colspan='1' > 0.0008927863673 </td> <td colspan='1' > 4.3187377741560 </td> <tr>\n",
       "<td colspan='1' >               5 </td> <td colspan='1' >             4_0 </td> <td colspan='1' > &lt;Image, asse </td> <td colspan='1' >               9 </td> <td colspan='1' >               9 </td> <td colspan='1' > 1.5619488635820 </td> <td colspan='1' > 4.1327712096972 </td> <td colspan='1' > 2.2574981812795 </td> <td colspan='1' > 0.0002893423661 </td> <td colspan='1' > 0.0010175879579 </td> <td colspan='1' > 6.5922569774556 </td> <td colspan='1' > 1.3011796795581 </td> <td colspan='1' > 0.0003477171703 </td> <td colspan='1' > 0.0005523857544 </td> <td colspan='1' > 0.9976830482482 </td> <tr>\n",
       "...\n",
       "<td colspan='1' >           59996 </td> <td colspan='1' >         59995_0 </td> <td colspan='1' > &lt;Image, asse </td> <td colspan='1' >               8 </td> <td colspan='1' >               8 </td> <td colspan='1' > 3.2505617127753 </td> <td colspan='1' > 2.5870547688100 </td> <td colspan='1' > 0.0002041866682 </td> <td colspan='1' > 0.0028061096090 </td> <td colspan='1' > 4.3806480789498 </td> <td colspan='1' > 0.0002726390375 </td> <td colspan='1' > 1.5543423614872 </td> <td colspan='1' > 3.1183614623842 </td> <td colspan='1' > 0.9965282082557 </td> <td colspan='1' > 0.0001243160804 </td> <tr>\n",
       "<td colspan='1' >           59997 </td> <td colspan='1' >         59996_0 </td> <td colspan='1' > &lt;Image, asse </td> <td colspan='1' >               3 </td> <td colspan='1' >               3 </td> <td colspan='1' > 1.1184209142811 </td> <td colspan='1' > 1.5324691048590 </td> <td colspan='1' > 0.0004596766957 </td> <td colspan='1' > 0.9982267022132 </td> <td colspan='1' > 1.2172682772870 </td> <td colspan='1' > 3.3583441108930 </td> <td colspan='1' > 6.3583303067105 </td> <td colspan='1' > 0.0001746603957 </td> <td colspan='1' > 0.0005389639409 </td> <td colspan='1' > 0.0005386720877 </td> <tr>\n",
       "<td colspan='1' >           59998 </td> <td colspan='1' >         59997_0 </td> <td colspan='1' > &lt;Image, asse </td> <td colspan='1' >               5 </td> <td colspan='1' >               5 </td> <td colspan='1' > 2.4464738089591 </td> <td colspan='1' > 8.7551825345144 </td> <td colspan='1' > 2.1635760276694 </td> <td colspan='1' > 0.0001473767042 </td> <td colspan='1' > 7.5291827670298 </td> <td colspan='1' > 0.9989750385284 </td> <td colspan='1' > 8.9653323811944 </td> <td colspan='1' > 1.9890239855158 </td> <td colspan='1' > 0.0004213855136 </td> <td colspan='1' > 0.0002358685160 </td> <tr>\n",
       "<td colspan='1' >           59999 </td> <td colspan='1' >         59998_0 </td> <td colspan='1' > &lt;Image, asse </td> <td colspan='1' >               6 </td> <td colspan='1' >               6 </td> <td colspan='1' > 2.3057298676576 </td> <td colspan='1' > 0.0001034079032 </td> <td colspan='1' > 0.0001432461285 </td> <td colspan='1' > 3.6937350955668 </td> <td colspan='1' > 0.0005181649466 </td> <td colspan='1' > 0.0003082071198 </td> <td colspan='1' > 0.9988954067230 </td> <td colspan='1' > 2.3212633095681 </td> <td colspan='1' > 4.3824447857332 </td> <td colspan='1' > 1.4624255300077 </td> <tr>\n",
       "<td colspan='1' >           60000 </td> <td colspan='1' >         59999_0 </td> <td colspan='1' > &lt;Image, asse </td> <td colspan='1' >               8 </td> <td colspan='1' >               8 </td> <td colspan='1' > 0.0001333609689 </td> <td colspan='1' > 1.6963807865977 </td> <td colspan='1' > 3.2436306355521 </td> <td colspan='1' > 0.0004209050675 </td> <td colspan='1' > 1.5265825368260 </td> <td colspan='1' > 0.0010179193923 </td> <td colspan='1' > 7.9014253060449 </td> <td colspan='1' > 1.0736092548313 </td> <td colspan='1' > 0.9981248974800 </td> <td colspan='1' > 0.0002439306845 </td> <tr>\n",
       "<tr>\n",
       "<td colspan='15' style=\"text-align: left;\"> [60000 rows x 14 columns] </td> <tr>\n",
       "\n",
       "*  Use DataGrid.show() to start user interface"
      ]
     },
     "execution_count": 11,
     "metadata": {},
     "output_type": "execute_result"
    }
   ],
   "source": [
    "dg"
   ]
  },
  {
   "cell_type": "code",
   "execution_count": 12,
   "id": "f86321a4",
   "metadata": {},
   "outputs": [
    {
     "data": {
      "text/html": [
       "\n",
       "        <iframe\n",
       "            width=\"100%\"\n",
       "            height=\"750px\"\n",
       "            src=\"http://127.0.0.1:4000/?datagrid=mnist-60000-after-5-epochs.datagrid\"\n",
       "            frameborder=\"0\"\n",
       "            allowfullscreen\n",
       "            \n",
       "        ></iframe>\n",
       "        "
      ],
      "text/plain": [
       "<IPython.lib.display.IFrame at 0x7fe0d511fc40>"
      ]
     },
     "metadata": {},
     "output_type": "display_data"
    }
   ],
   "source": [
    "dg.show()"
   ]
  },
  {
   "cell_type": "code",
   "execution_count": null,
   "id": "3470b54b",
   "metadata": {},
   "outputs": [],
   "source": []
  }
 ],
 "metadata": {
  "kernelspec": {
   "display_name": "Python 3 (ipykernel)",
   "language": "python",
   "name": "python3"
  },
  "language_info": {
   "codemirror_mode": {
    "name": "ipython",
    "version": 3
   },
   "file_extension": ".py",
   "mimetype": "text/x-python",
   "name": "python",
   "nbconvert_exporter": "python",
   "pygments_lexer": "ipython3",
   "version": "3.9.13"
  }
 },
 "nbformat": 4,
 "nbformat_minor": 5
}
