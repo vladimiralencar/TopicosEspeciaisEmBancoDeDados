{
 "cells": [
  {
   "cell_type": "markdown",
   "metadata": {},
   "source": [
    "# Regressão Logística"
   ]
  },
  {
   "cell_type": "markdown",
   "metadata": {},
   "source": [
    "## Previsão e Detecção de Risco de Crédito"
   ]
  },
  {
   "cell_type": "markdown",
   "metadata": {},
   "source": [
    "![title](images/riscos-de-credito.jpeg)"
   ]
  },
  {
   "cell_type": "markdown",
   "metadata": {},
   "source": [
    "Variável target ou classe:<br />\n",
    "credit.rating<br />\n",
    "1 - concedeu crédito<br />\n",
    "0 - não concedeu crédito"
   ]
  },
  {
   "cell_type": "code",
   "execution_count": 1,
   "metadata": {},
   "outputs": [],
   "source": [
    "import warnings\n",
    "warnings.filterwarnings('ignore')\n",
    "\n",
    "import pandas as pd\n",
    "import numpy as np\n",
    "\n",
    "import matplotlib.pyplot as plt\n",
    "import matplotlib as mpl\n",
    "\n",
    "from sklearn.linear_model import LogisticRegression\n",
    "\n",
    "from sklearn import metrics\n",
    "from sklearn.metrics import confusion_matrix\n",
    "#from sklearn.cross_validation import cross_val_score\n",
    "from sklearn.model_selection import train_test_split\n",
    "from sklearn.preprocessing import StandardScaler\n",
    "%matplotlib inline "
   ]
  },
  {
   "cell_type": "code",
   "execution_count": 2,
   "metadata": {},
   "outputs": [
    {
     "name": "stdout",
     "output_type": "stream",
     "text": [
      "(1000, 21)\n"
     ]
    },
    {
     "data": {
      "text/html": [
       "<div>\n",
       "<style scoped>\n",
       "    .dataframe tbody tr th:only-of-type {\n",
       "        vertical-align: middle;\n",
       "    }\n",
       "\n",
       "    .dataframe tbody tr th {\n",
       "        vertical-align: top;\n",
       "    }\n",
       "\n",
       "    .dataframe thead th {\n",
       "        text-align: right;\n",
       "    }\n",
       "</style>\n",
       "<table border=\"1\" class=\"dataframe\">\n",
       "  <thead>\n",
       "    <tr style=\"text-align: right;\">\n",
       "      <th></th>\n",
       "      <th>credit.rating</th>\n",
       "      <th>account.balance</th>\n",
       "      <th>credit.duration.months</th>\n",
       "      <th>previous.credit.payment.status</th>\n",
       "      <th>credit.purpose</th>\n",
       "      <th>credit.amount</th>\n",
       "      <th>savings</th>\n",
       "      <th>employment.duration</th>\n",
       "      <th>installment.rate</th>\n",
       "      <th>marital.status</th>\n",
       "      <th>...</th>\n",
       "      <th>residence.duration</th>\n",
       "      <th>current.assets</th>\n",
       "      <th>age</th>\n",
       "      <th>other.credits</th>\n",
       "      <th>apartment.type</th>\n",
       "      <th>bank.credits</th>\n",
       "      <th>occupation</th>\n",
       "      <th>dependents</th>\n",
       "      <th>telephone</th>\n",
       "      <th>foreign.worker</th>\n",
       "    </tr>\n",
       "  </thead>\n",
       "  <tbody>\n",
       "    <tr>\n",
       "      <th>0</th>\n",
       "      <td>1</td>\n",
       "      <td>1</td>\n",
       "      <td>18</td>\n",
       "      <td>3</td>\n",
       "      <td>2</td>\n",
       "      <td>1049</td>\n",
       "      <td>1</td>\n",
       "      <td>1</td>\n",
       "      <td>4</td>\n",
       "      <td>1</td>\n",
       "      <td>...</td>\n",
       "      <td>4</td>\n",
       "      <td>2</td>\n",
       "      <td>21</td>\n",
       "      <td>2</td>\n",
       "      <td>1</td>\n",
       "      <td>1</td>\n",
       "      <td>3</td>\n",
       "      <td>1</td>\n",
       "      <td>1</td>\n",
       "      <td>1</td>\n",
       "    </tr>\n",
       "    <tr>\n",
       "      <th>1</th>\n",
       "      <td>1</td>\n",
       "      <td>1</td>\n",
       "      <td>9</td>\n",
       "      <td>3</td>\n",
       "      <td>4</td>\n",
       "      <td>2799</td>\n",
       "      <td>1</td>\n",
       "      <td>2</td>\n",
       "      <td>2</td>\n",
       "      <td>3</td>\n",
       "      <td>...</td>\n",
       "      <td>2</td>\n",
       "      <td>1</td>\n",
       "      <td>36</td>\n",
       "      <td>2</td>\n",
       "      <td>1</td>\n",
       "      <td>2</td>\n",
       "      <td>3</td>\n",
       "      <td>2</td>\n",
       "      <td>1</td>\n",
       "      <td>1</td>\n",
       "    </tr>\n",
       "    <tr>\n",
       "      <th>2</th>\n",
       "      <td>1</td>\n",
       "      <td>2</td>\n",
       "      <td>12</td>\n",
       "      <td>2</td>\n",
       "      <td>4</td>\n",
       "      <td>841</td>\n",
       "      <td>2</td>\n",
       "      <td>3</td>\n",
       "      <td>2</td>\n",
       "      <td>1</td>\n",
       "      <td>...</td>\n",
       "      <td>4</td>\n",
       "      <td>1</td>\n",
       "      <td>23</td>\n",
       "      <td>2</td>\n",
       "      <td>1</td>\n",
       "      <td>1</td>\n",
       "      <td>2</td>\n",
       "      <td>1</td>\n",
       "      <td>1</td>\n",
       "      <td>1</td>\n",
       "    </tr>\n",
       "    <tr>\n",
       "      <th>3</th>\n",
       "      <td>1</td>\n",
       "      <td>1</td>\n",
       "      <td>12</td>\n",
       "      <td>3</td>\n",
       "      <td>4</td>\n",
       "      <td>2122</td>\n",
       "      <td>1</td>\n",
       "      <td>2</td>\n",
       "      <td>3</td>\n",
       "      <td>3</td>\n",
       "      <td>...</td>\n",
       "      <td>2</td>\n",
       "      <td>1</td>\n",
       "      <td>39</td>\n",
       "      <td>2</td>\n",
       "      <td>1</td>\n",
       "      <td>2</td>\n",
       "      <td>2</td>\n",
       "      <td>2</td>\n",
       "      <td>1</td>\n",
       "      <td>2</td>\n",
       "    </tr>\n",
       "    <tr>\n",
       "      <th>4</th>\n",
       "      <td>1</td>\n",
       "      <td>1</td>\n",
       "      <td>12</td>\n",
       "      <td>3</td>\n",
       "      <td>4</td>\n",
       "      <td>2171</td>\n",
       "      <td>1</td>\n",
       "      <td>2</td>\n",
       "      <td>4</td>\n",
       "      <td>3</td>\n",
       "      <td>...</td>\n",
       "      <td>4</td>\n",
       "      <td>2</td>\n",
       "      <td>38</td>\n",
       "      <td>1</td>\n",
       "      <td>2</td>\n",
       "      <td>2</td>\n",
       "      <td>2</td>\n",
       "      <td>1</td>\n",
       "      <td>1</td>\n",
       "      <td>2</td>\n",
       "    </tr>\n",
       "  </tbody>\n",
       "</table>\n",
       "<p>5 rows × 21 columns</p>\n",
       "</div>"
      ],
      "text/plain": [
       "   credit.rating  account.balance  credit.duration.months  \\\n",
       "0              1                1                      18   \n",
       "1              1                1                       9   \n",
       "2              1                2                      12   \n",
       "3              1                1                      12   \n",
       "4              1                1                      12   \n",
       "\n",
       "   previous.credit.payment.status  credit.purpose  credit.amount  savings  \\\n",
       "0                               3               2           1049        1   \n",
       "1                               3               4           2799        1   \n",
       "2                               2               4            841        2   \n",
       "3                               3               4           2122        1   \n",
       "4                               3               4           2171        1   \n",
       "\n",
       "   employment.duration  installment.rate  marital.status  ...  \\\n",
       "0                    1                 4               1  ...   \n",
       "1                    2                 2               3  ...   \n",
       "2                    3                 2               1  ...   \n",
       "3                    2                 3               3  ...   \n",
       "4                    2                 4               3  ...   \n",
       "\n",
       "   residence.duration  current.assets  age  other.credits  apartment.type  \\\n",
       "0                   4               2   21              2               1   \n",
       "1                   2               1   36              2               1   \n",
       "2                   4               1   23              2               1   \n",
       "3                   2               1   39              2               1   \n",
       "4                   4               2   38              1               2   \n",
       "\n",
       "   bank.credits  occupation  dependents  telephone  foreign.worker  \n",
       "0             1           3           1          1               1  \n",
       "1             2           3           2          1               1  \n",
       "2             1           2           1          1               1  \n",
       "3             2           2           2          1               2  \n",
       "4             2           2           1          1               2  \n",
       "\n",
       "[5 rows x 21 columns]"
      ]
     },
     "execution_count": 2,
     "metadata": {},
     "output_type": "execute_result"
    }
   ],
   "source": [
    "df = pd.read_csv('credit_dataset_final.csv')\n",
    "print(df.shape)\n",
    "df.head()"
   ]
  },
  {
   "cell_type": "code",
   "execution_count": 3,
   "metadata": {},
   "outputs": [
    {
     "data": {
      "text/plain": [
       "3    364\n",
       "4    352\n",
       "2    181\n",
       "1    103\n",
       "Name: credit.purpose, dtype: int64"
      ]
     },
     "execution_count": 3,
     "metadata": {},
     "output_type": "execute_result"
    }
   ],
   "source": [
    "df['credit.purpose'].value_counts()"
   ]
  },
  {
   "cell_type": "code",
   "execution_count": 4,
   "metadata": {},
   "outputs": [
    {
     "data": {
      "text/plain": [
       "array([3, 2, 1, 4])"
      ]
     },
     "execution_count": 4,
     "metadata": {},
     "output_type": "execute_result"
    }
   ],
   "source": [
    "df.occupation.unique()"
   ]
  },
  {
   "cell_type": "code",
   "execution_count": 5,
   "metadata": {},
   "outputs": [
    {
     "data": {
      "text/plain": [
       "1    700\n",
       "0    300\n",
       "Name: credit.rating, dtype: int64"
      ]
     },
     "execution_count": 5,
     "metadata": {},
     "output_type": "execute_result"
    }
   ],
   "source": [
    "df['credit.rating'].value_counts()"
   ]
  },
  {
   "cell_type": "markdown",
   "metadata": {},
   "source": [
    "Variável target ou classe:<br />\n",
    "credit.rating<br />\n",
    "1 - concedeu crédito<br />\n",
    "0 - não concedeu crédito"
   ]
  },
  {
   "cell_type": "code",
   "execution_count": 6,
   "metadata": {},
   "outputs": [
    {
     "data": {
      "text/plain": [
       "Index(['account.balance', 'credit.duration.months',\n",
       "       'previous.credit.payment.status', 'credit.purpose', 'credit.amount',\n",
       "       'savings', 'employment.duration', 'installment.rate', 'marital.status',\n",
       "       'guarantor', 'residence.duration', 'current.assets', 'age',\n",
       "       'other.credits', 'apartment.type', 'bank.credits', 'occupation',\n",
       "       'dependents', 'telephone', 'foreign.worker'],\n",
       "      dtype='object')"
      ]
     },
     "execution_count": 6,
     "metadata": {},
     "output_type": "execute_result"
    }
   ],
   "source": [
    "df.columns[1:]"
   ]
  },
  {
   "cell_type": "code",
   "execution_count": 7,
   "metadata": {},
   "outputs": [
    {
     "data": {
      "text/plain": [
       "20"
      ]
     },
     "execution_count": 7,
     "metadata": {},
     "output_type": "execute_result"
    }
   ],
   "source": [
    "len(df.columns[1:])"
   ]
  },
  {
   "cell_type": "code",
   "execution_count": 8,
   "metadata": {},
   "outputs": [
    {
     "data": {
      "text/plain": [
       "1000"
      ]
     },
     "execution_count": 8,
     "metadata": {},
     "output_type": "execute_result"
    }
   ],
   "source": [
    "len(df)"
   ]
  },
  {
   "cell_type": "markdown",
   "metadata": {},
   "source": [
    "## Análise Exploratória"
   ]
  },
  {
   "cell_type": "code",
   "execution_count": 9,
   "metadata": {},
   "outputs": [
    {
     "data": {
      "text/plain": [
       "1    700\n",
       "0    300\n",
       "Name: credit.rating, dtype: int64"
      ]
     },
     "execution_count": 9,
     "metadata": {},
     "output_type": "execute_result"
    }
   ],
   "source": [
    "# variavél target ou classe - class\n",
    "df['credit.rating'].value_counts()"
   ]
  },
  {
   "cell_type": "code",
   "execution_count": 10,
   "metadata": {},
   "outputs": [
    {
     "data": {
      "text/html": [
       "<div>\n",
       "<style scoped>\n",
       "    .dataframe tbody tr th:only-of-type {\n",
       "        vertical-align: middle;\n",
       "    }\n",
       "\n",
       "    .dataframe tbody tr th {\n",
       "        vertical-align: top;\n",
       "    }\n",
       "\n",
       "    .dataframe thead th {\n",
       "        text-align: right;\n",
       "    }\n",
       "</style>\n",
       "<table border=\"1\" class=\"dataframe\">\n",
       "  <thead>\n",
       "    <tr style=\"text-align: right;\">\n",
       "      <th></th>\n",
       "      <th>count</th>\n",
       "      <th>mean</th>\n",
       "      <th>std</th>\n",
       "      <th>min</th>\n",
       "      <th>25%</th>\n",
       "      <th>50%</th>\n",
       "      <th>75%</th>\n",
       "      <th>max</th>\n",
       "    </tr>\n",
       "  </thead>\n",
       "  <tbody>\n",
       "    <tr>\n",
       "      <th>credit.rating</th>\n",
       "      <td>1000.0</td>\n",
       "      <td>0.700</td>\n",
       "      <td>0.458487</td>\n",
       "      <td>0.0</td>\n",
       "      <td>0.0</td>\n",
       "      <td>1.0</td>\n",
       "      <td>1.00</td>\n",
       "      <td>1.0</td>\n",
       "    </tr>\n",
       "    <tr>\n",
       "      <th>account.balance</th>\n",
       "      <td>1000.0</td>\n",
       "      <td>2.183</td>\n",
       "      <td>0.835589</td>\n",
       "      <td>1.0</td>\n",
       "      <td>1.0</td>\n",
       "      <td>2.0</td>\n",
       "      <td>3.00</td>\n",
       "      <td>3.0</td>\n",
       "    </tr>\n",
       "    <tr>\n",
       "      <th>credit.duration.months</th>\n",
       "      <td>1000.0</td>\n",
       "      <td>20.903</td>\n",
       "      <td>12.058814</td>\n",
       "      <td>4.0</td>\n",
       "      <td>12.0</td>\n",
       "      <td>18.0</td>\n",
       "      <td>24.00</td>\n",
       "      <td>72.0</td>\n",
       "    </tr>\n",
       "    <tr>\n",
       "      <th>previous.credit.payment.status</th>\n",
       "      <td>1000.0</td>\n",
       "      <td>2.292</td>\n",
       "      <td>0.620581</td>\n",
       "      <td>1.0</td>\n",
       "      <td>2.0</td>\n",
       "      <td>2.0</td>\n",
       "      <td>3.00</td>\n",
       "      <td>3.0</td>\n",
       "    </tr>\n",
       "    <tr>\n",
       "      <th>credit.purpose</th>\n",
       "      <td>1000.0</td>\n",
       "      <td>2.965</td>\n",
       "      <td>0.971967</td>\n",
       "      <td>1.0</td>\n",
       "      <td>2.0</td>\n",
       "      <td>3.0</td>\n",
       "      <td>4.00</td>\n",
       "      <td>4.0</td>\n",
       "    </tr>\n",
       "    <tr>\n",
       "      <th>credit.amount</th>\n",
       "      <td>1000.0</td>\n",
       "      <td>3271.248</td>\n",
       "      <td>2822.751760</td>\n",
       "      <td>250.0</td>\n",
       "      <td>1365.5</td>\n",
       "      <td>2319.5</td>\n",
       "      <td>3972.25</td>\n",
       "      <td>18424.0</td>\n",
       "    </tr>\n",
       "    <tr>\n",
       "      <th>savings</th>\n",
       "      <td>1000.0</td>\n",
       "      <td>1.874</td>\n",
       "      <td>1.196476</td>\n",
       "      <td>1.0</td>\n",
       "      <td>1.0</td>\n",
       "      <td>1.0</td>\n",
       "      <td>3.00</td>\n",
       "      <td>4.0</td>\n",
       "    </tr>\n",
       "    <tr>\n",
       "      <th>employment.duration</th>\n",
       "      <td>1000.0</td>\n",
       "      <td>2.446</td>\n",
       "      <td>1.105580</td>\n",
       "      <td>1.0</td>\n",
       "      <td>2.0</td>\n",
       "      <td>2.0</td>\n",
       "      <td>4.00</td>\n",
       "      <td>4.0</td>\n",
       "    </tr>\n",
       "    <tr>\n",
       "      <th>installment.rate</th>\n",
       "      <td>1000.0</td>\n",
       "      <td>2.973</td>\n",
       "      <td>1.118715</td>\n",
       "      <td>1.0</td>\n",
       "      <td>2.0</td>\n",
       "      <td>3.0</td>\n",
       "      <td>4.00</td>\n",
       "      <td>4.0</td>\n",
       "    </tr>\n",
       "    <tr>\n",
       "      <th>marital.status</th>\n",
       "      <td>1000.0</td>\n",
       "      <td>2.372</td>\n",
       "      <td>1.067125</td>\n",
       "      <td>1.0</td>\n",
       "      <td>1.0</td>\n",
       "      <td>3.0</td>\n",
       "      <td>3.00</td>\n",
       "      <td>4.0</td>\n",
       "    </tr>\n",
       "    <tr>\n",
       "      <th>guarantor</th>\n",
       "      <td>1000.0</td>\n",
       "      <td>1.093</td>\n",
       "      <td>0.290578</td>\n",
       "      <td>1.0</td>\n",
       "      <td>1.0</td>\n",
       "      <td>1.0</td>\n",
       "      <td>1.00</td>\n",
       "      <td>2.0</td>\n",
       "    </tr>\n",
       "    <tr>\n",
       "      <th>residence.duration</th>\n",
       "      <td>1000.0</td>\n",
       "      <td>2.845</td>\n",
       "      <td>1.103718</td>\n",
       "      <td>1.0</td>\n",
       "      <td>2.0</td>\n",
       "      <td>3.0</td>\n",
       "      <td>4.00</td>\n",
       "      <td>4.0</td>\n",
       "    </tr>\n",
       "    <tr>\n",
       "      <th>current.assets</th>\n",
       "      <td>1000.0</td>\n",
       "      <td>2.358</td>\n",
       "      <td>1.050209</td>\n",
       "      <td>1.0</td>\n",
       "      <td>1.0</td>\n",
       "      <td>2.0</td>\n",
       "      <td>3.00</td>\n",
       "      <td>4.0</td>\n",
       "    </tr>\n",
       "    <tr>\n",
       "      <th>age</th>\n",
       "      <td>1000.0</td>\n",
       "      <td>35.542</td>\n",
       "      <td>11.352670</td>\n",
       "      <td>19.0</td>\n",
       "      <td>27.0</td>\n",
       "      <td>33.0</td>\n",
       "      <td>42.00</td>\n",
       "      <td>75.0</td>\n",
       "    </tr>\n",
       "    <tr>\n",
       "      <th>other.credits</th>\n",
       "      <td>1000.0</td>\n",
       "      <td>1.814</td>\n",
       "      <td>0.389301</td>\n",
       "      <td>1.0</td>\n",
       "      <td>2.0</td>\n",
       "      <td>2.0</td>\n",
       "      <td>2.00</td>\n",
       "      <td>2.0</td>\n",
       "    </tr>\n",
       "    <tr>\n",
       "      <th>apartment.type</th>\n",
       "      <td>1000.0</td>\n",
       "      <td>1.928</td>\n",
       "      <td>0.530186</td>\n",
       "      <td>1.0</td>\n",
       "      <td>2.0</td>\n",
       "      <td>2.0</td>\n",
       "      <td>2.00</td>\n",
       "      <td>3.0</td>\n",
       "    </tr>\n",
       "    <tr>\n",
       "      <th>bank.credits</th>\n",
       "      <td>1000.0</td>\n",
       "      <td>1.367</td>\n",
       "      <td>0.482228</td>\n",
       "      <td>1.0</td>\n",
       "      <td>1.0</td>\n",
       "      <td>1.0</td>\n",
       "      <td>2.00</td>\n",
       "      <td>2.0</td>\n",
       "    </tr>\n",
       "    <tr>\n",
       "      <th>occupation</th>\n",
       "      <td>1000.0</td>\n",
       "      <td>2.904</td>\n",
       "      <td>0.653614</td>\n",
       "      <td>1.0</td>\n",
       "      <td>3.0</td>\n",
       "      <td>3.0</td>\n",
       "      <td>3.00</td>\n",
       "      <td>4.0</td>\n",
       "    </tr>\n",
       "    <tr>\n",
       "      <th>dependents</th>\n",
       "      <td>1000.0</td>\n",
       "      <td>1.155</td>\n",
       "      <td>0.362086</td>\n",
       "      <td>1.0</td>\n",
       "      <td>1.0</td>\n",
       "      <td>1.0</td>\n",
       "      <td>1.00</td>\n",
       "      <td>2.0</td>\n",
       "    </tr>\n",
       "    <tr>\n",
       "      <th>telephone</th>\n",
       "      <td>1000.0</td>\n",
       "      <td>1.404</td>\n",
       "      <td>0.490943</td>\n",
       "      <td>1.0</td>\n",
       "      <td>1.0</td>\n",
       "      <td>1.0</td>\n",
       "      <td>2.00</td>\n",
       "      <td>2.0</td>\n",
       "    </tr>\n",
       "    <tr>\n",
       "      <th>foreign.worker</th>\n",
       "      <td>1000.0</td>\n",
       "      <td>1.037</td>\n",
       "      <td>0.188856</td>\n",
       "      <td>1.0</td>\n",
       "      <td>1.0</td>\n",
       "      <td>1.0</td>\n",
       "      <td>1.00</td>\n",
       "      <td>2.0</td>\n",
       "    </tr>\n",
       "  </tbody>\n",
       "</table>\n",
       "</div>"
      ],
      "text/plain": [
       "                                 count      mean          std    min     25%  \\\n",
       "credit.rating                   1000.0     0.700     0.458487    0.0     0.0   \n",
       "account.balance                 1000.0     2.183     0.835589    1.0     1.0   \n",
       "credit.duration.months          1000.0    20.903    12.058814    4.0    12.0   \n",
       "previous.credit.payment.status  1000.0     2.292     0.620581    1.0     2.0   \n",
       "credit.purpose                  1000.0     2.965     0.971967    1.0     2.0   \n",
       "credit.amount                   1000.0  3271.248  2822.751760  250.0  1365.5   \n",
       "savings                         1000.0     1.874     1.196476    1.0     1.0   \n",
       "employment.duration             1000.0     2.446     1.105580    1.0     2.0   \n",
       "installment.rate                1000.0     2.973     1.118715    1.0     2.0   \n",
       "marital.status                  1000.0     2.372     1.067125    1.0     1.0   \n",
       "guarantor                       1000.0     1.093     0.290578    1.0     1.0   \n",
       "residence.duration              1000.0     2.845     1.103718    1.0     2.0   \n",
       "current.assets                  1000.0     2.358     1.050209    1.0     1.0   \n",
       "age                             1000.0    35.542    11.352670   19.0    27.0   \n",
       "other.credits                   1000.0     1.814     0.389301    1.0     2.0   \n",
       "apartment.type                  1000.0     1.928     0.530186    1.0     2.0   \n",
       "bank.credits                    1000.0     1.367     0.482228    1.0     1.0   \n",
       "occupation                      1000.0     2.904     0.653614    1.0     3.0   \n",
       "dependents                      1000.0     1.155     0.362086    1.0     1.0   \n",
       "telephone                       1000.0     1.404     0.490943    1.0     1.0   \n",
       "foreign.worker                  1000.0     1.037     0.188856    1.0     1.0   \n",
       "\n",
       "                                   50%      75%      max  \n",
       "credit.rating                      1.0     1.00      1.0  \n",
       "account.balance                    2.0     3.00      3.0  \n",
       "credit.duration.months            18.0    24.00     72.0  \n",
       "previous.credit.payment.status     2.0     3.00      3.0  \n",
       "credit.purpose                     3.0     4.00      4.0  \n",
       "credit.amount                   2319.5  3972.25  18424.0  \n",
       "savings                            1.0     3.00      4.0  \n",
       "employment.duration                2.0     4.00      4.0  \n",
       "installment.rate                   3.0     4.00      4.0  \n",
       "marital.status                     3.0     3.00      4.0  \n",
       "guarantor                          1.0     1.00      2.0  \n",
       "residence.duration                 3.0     4.00      4.0  \n",
       "current.assets                     2.0     3.00      4.0  \n",
       "age                               33.0    42.00     75.0  \n",
       "other.credits                      2.0     2.00      2.0  \n",
       "apartment.type                     2.0     2.00      3.0  \n",
       "bank.credits                       1.0     2.00      2.0  \n",
       "occupation                         3.0     3.00      4.0  \n",
       "dependents                         1.0     1.00      2.0  \n",
       "telephone                          1.0     2.00      2.0  \n",
       "foreign.worker                     1.0     1.00      2.0  "
      ]
     },
     "execution_count": 10,
     "metadata": {},
     "output_type": "execute_result"
    }
   ],
   "source": [
    "df.describe().T"
   ]
  },
  {
   "cell_type": "code",
   "execution_count": 11,
   "metadata": {},
   "outputs": [
    {
     "data": {
      "text/plain": [
       "<AxesSubplot:xlabel='credit.rating', ylabel='credit.amount'>"
      ]
     },
     "execution_count": 11,
     "metadata": {},
     "output_type": "execute_result"
    },
    {
     "data": {
      "image/png": "[encoded data removed]",
      "text/plain": [
       "<Figure size 432x288 with 1 Axes>"
      ]
     },
     "metadata": {
      "needs_background": "light"
     },
     "output_type": "display_data"
    }
   ],
   "source": [
    "import seaborn as sns\n",
    "sns.barplot(x='credit.rating',y='credit.amount', data=df)"
   ]
  },
  {
   "cell_type": "code",
   "execution_count": 12,
   "metadata": {},
   "outputs": [
    {
     "ename": "AttributeError",
     "evalue": "module 'seaborn' has no attribute 'factorplot'",
     "output_type": "error",
     "traceback": [
      "\u001b[0;31m---------------------------------------------------------------------------\u001b[0m",
      "\u001b[0;31mAttributeError\u001b[0m                            Traceback (most recent call last)",
      "Input \u001b[0;32mIn [12]\u001b[0m, in \u001b[0;36m<cell line: 1>\u001b[0;34m()\u001b[0m\n\u001b[0;32m----> 1\u001b[0m \u001b[43msns\u001b[49m\u001b[38;5;241;43m.\u001b[39;49m\u001b[43mfactorplot\u001b[49m(x\u001b[38;5;241m=\u001b[39m\u001b[38;5;124m'\u001b[39m\u001b[38;5;124mcredit.rating\u001b[39m\u001b[38;5;124m'\u001b[39m, y\u001b[38;5;241m=\u001b[39m\u001b[38;5;124m'\u001b[39m\u001b[38;5;124mage\u001b[39m\u001b[38;5;124m'\u001b[39m, hue\u001b[38;5;241m=\u001b[39m\u001b[38;5;124m'\u001b[39m\u001b[38;5;124mcredit.rating\u001b[39m\u001b[38;5;124m'\u001b[39m, data\u001b[38;5;241m=\u001b[39mdf,\n\u001b[1;32m      2\u001b[0m                    size\u001b[38;5;241m=\u001b[39m\u001b[38;5;241m6\u001b[39m, kind\u001b[38;5;241m=\u001b[39m\u001b[38;5;124m\"\u001b[39m\u001b[38;5;124mbar\u001b[39m\u001b[38;5;124m\"\u001b[39m, palette\u001b[38;5;241m=\u001b[39m\u001b[38;5;124m\"\u001b[39m\u001b[38;5;124mmuted\u001b[39m\u001b[38;5;124m\"\u001b[39m)\n",
      "\u001b[0;31mAttributeError\u001b[0m: module 'seaborn' has no attribute 'factorplot'"
     ]
    }
   ],
   "source": [
    "sns.factorplot(x='credit.rating', y='age', hue='credit.rating', data=df,\n",
    "                   size=6, kind=\"bar\", palette=\"muted\")"
   ]
  },
  {
   "cell_type": "code",
   "execution_count": 13,
   "metadata": {},
   "outputs": [
    {
     "data": {
      "text/plain": [
       "35.542"
      ]
     },
     "execution_count": 13,
     "metadata": {},
     "output_type": "execute_result"
    }
   ],
   "source": [
    "df.age.mean()"
   ]
  },
  {
   "cell_type": "code",
   "execution_count": 14,
   "metadata": {},
   "outputs": [
    {
     "data": {
      "text/plain": [
       "<AxesSubplot:xlabel='age', ylabel='Density'>"
      ]
     },
     "execution_count": 14,
     "metadata": {},
     "output_type": "execute_result"
    },
    {
     "data": {
      "image/png": "[encoded data removed]",
      "text/plain": [
       "<Figure size 432x288 with 1 Axes>"
      ]
     },
     "metadata": {
      "needs_background": "light"
     },
     "output_type": "display_data"
    }
   ],
   "source": [
    "sns.distplot(df.age)"
   ]
  },
  {
   "cell_type": "code",
   "execution_count": 15,
   "metadata": {},
   "outputs": [
    {
     "data": {
      "text/plain": [
       "<AxesSubplot:xlabel='credit.amount', ylabel='Density'>"
      ]
     },
     "execution_count": 15,
     "metadata": {},
     "output_type": "execute_result"
    },
    {
     "data": {
      "image/png": "[encoded data removed]",
      "text/plain": [
       "<Figure size 432x288 with 1 Axes>"
      ]
     },
     "metadata": {
      "needs_background": "light"
     },
     "output_type": "display_data"
    }
   ],
   "source": [
    "sns.distplot(df['credit.amount']) # quantidade de crédito"
   ]
  },
  {
   "cell_type": "code",
   "execution_count": 16,
   "metadata": {},
   "outputs": [
    {
     "data": {
      "text/plain": [
       "3271.248"
      ]
     },
     "execution_count": 16,
     "metadata": {},
     "output_type": "execute_result"
    }
   ],
   "source": [
    "df['credit.amount'].mean()"
   ]
  },
  {
   "cell_type": "markdown",
   "metadata": {},
   "source": [
    "## Definindo X e Y"
   ]
  },
  {
   "cell_type": "code",
   "execution_count": 17,
   "metadata": {},
   "outputs": [
    {
     "data": {
      "text/html": [
       "<div>\n",
       "<style scoped>\n",
       "    .dataframe tbody tr th:only-of-type {\n",
       "        vertical-align: middle;\n",
       "    }\n",
       "\n",
       "    .dataframe tbody tr th {\n",
       "        vertical-align: top;\n",
       "    }\n",
       "\n",
       "    .dataframe thead th {\n",
       "        text-align: right;\n",
       "    }\n",
       "</style>\n",
       "<table border=\"1\" class=\"dataframe\">\n",
       "  <thead>\n",
       "    <tr style=\"text-align: right;\">\n",
       "      <th></th>\n",
       "      <th>credit.rating</th>\n",
       "      <th>account.balance</th>\n",
       "      <th>credit.duration.months</th>\n",
       "      <th>previous.credit.payment.status</th>\n",
       "      <th>credit.purpose</th>\n",
       "      <th>credit.amount</th>\n",
       "      <th>savings</th>\n",
       "      <th>employment.duration</th>\n",
       "      <th>installment.rate</th>\n",
       "      <th>marital.status</th>\n",
       "      <th>...</th>\n",
       "      <th>residence.duration</th>\n",
       "      <th>current.assets</th>\n",
       "      <th>age</th>\n",
       "      <th>other.credits</th>\n",
       "      <th>apartment.type</th>\n",
       "      <th>bank.credits</th>\n",
       "      <th>occupation</th>\n",
       "      <th>dependents</th>\n",
       "      <th>telephone</th>\n",
       "      <th>foreign.worker</th>\n",
       "    </tr>\n",
       "  </thead>\n",
       "  <tbody>\n",
       "    <tr>\n",
       "      <th>0</th>\n",
       "      <td>1</td>\n",
       "      <td>1</td>\n",
       "      <td>18</td>\n",
       "      <td>3</td>\n",
       "      <td>2</td>\n",
       "      <td>1049</td>\n",
       "      <td>1</td>\n",
       "      <td>1</td>\n",
       "      <td>4</td>\n",
       "      <td>1</td>\n",
       "      <td>...</td>\n",
       "      <td>4</td>\n",
       "      <td>2</td>\n",
       "      <td>21</td>\n",
       "      <td>2</td>\n",
       "      <td>1</td>\n",
       "      <td>1</td>\n",
       "      <td>3</td>\n",
       "      <td>1</td>\n",
       "      <td>1</td>\n",
       "      <td>1</td>\n",
       "    </tr>\n",
       "    <tr>\n",
       "      <th>1</th>\n",
       "      <td>1</td>\n",
       "      <td>1</td>\n",
       "      <td>9</td>\n",
       "      <td>3</td>\n",
       "      <td>4</td>\n",
       "      <td>2799</td>\n",
       "      <td>1</td>\n",
       "      <td>2</td>\n",
       "      <td>2</td>\n",
       "      <td>3</td>\n",
       "      <td>...</td>\n",
       "      <td>2</td>\n",
       "      <td>1</td>\n",
       "      <td>36</td>\n",
       "      <td>2</td>\n",
       "      <td>1</td>\n",
       "      <td>2</td>\n",
       "      <td>3</td>\n",
       "      <td>2</td>\n",
       "      <td>1</td>\n",
       "      <td>1</td>\n",
       "    </tr>\n",
       "    <tr>\n",
       "      <th>2</th>\n",
       "      <td>1</td>\n",
       "      <td>2</td>\n",
       "      <td>12</td>\n",
       "      <td>2</td>\n",
       "      <td>4</td>\n",
       "      <td>841</td>\n",
       "      <td>2</td>\n",
       "      <td>3</td>\n",
       "      <td>2</td>\n",
       "      <td>1</td>\n",
       "      <td>...</td>\n",
       "      <td>4</td>\n",
       "      <td>1</td>\n",
       "      <td>23</td>\n",
       "      <td>2</td>\n",
       "      <td>1</td>\n",
       "      <td>1</td>\n",
       "      <td>2</td>\n",
       "      <td>1</td>\n",
       "      <td>1</td>\n",
       "      <td>1</td>\n",
       "    </tr>\n",
       "    <tr>\n",
       "      <th>3</th>\n",
       "      <td>1</td>\n",
       "      <td>1</td>\n",
       "      <td>12</td>\n",
       "      <td>3</td>\n",
       "      <td>4</td>\n",
       "      <td>2122</td>\n",
       "      <td>1</td>\n",
       "      <td>2</td>\n",
       "      <td>3</td>\n",
       "      <td>3</td>\n",
       "      <td>...</td>\n",
       "      <td>2</td>\n",
       "      <td>1</td>\n",
       "      <td>39</td>\n",
       "      <td>2</td>\n",
       "      <td>1</td>\n",
       "      <td>2</td>\n",
       "      <td>2</td>\n",
       "      <td>2</td>\n",
       "      <td>1</td>\n",
       "      <td>2</td>\n",
       "    </tr>\n",
       "    <tr>\n",
       "      <th>4</th>\n",
       "      <td>1</td>\n",
       "      <td>1</td>\n",
       "      <td>12</td>\n",
       "      <td>3</td>\n",
       "      <td>4</td>\n",
       "      <td>2171</td>\n",
       "      <td>1</td>\n",
       "      <td>2</td>\n",
       "      <td>4</td>\n",
       "      <td>3</td>\n",
       "      <td>...</td>\n",
       "      <td>4</td>\n",
       "      <td>2</td>\n",
       "      <td>38</td>\n",
       "      <td>1</td>\n",
       "      <td>2</td>\n",
       "      <td>2</td>\n",
       "      <td>2</td>\n",
       "      <td>1</td>\n",
       "      <td>1</td>\n",
       "      <td>2</td>\n",
       "    </tr>\n",
       "  </tbody>\n",
       "</table>\n",
       "<p>5 rows × 21 columns</p>\n",
       "</div>"
      ],
      "text/plain": [
       "   credit.rating  account.balance  credit.duration.months  \\\n",
       "0              1                1                      18   \n",
       "1              1                1                       9   \n",
       "2              1                2                      12   \n",
       "3              1                1                      12   \n",
       "4              1                1                      12   \n",
       "\n",
       "   previous.credit.payment.status  credit.purpose  credit.amount  savings  \\\n",
       "0                               3               2           1049        1   \n",
       "1                               3               4           2799        1   \n",
       "2                               2               4            841        2   \n",
       "3                               3               4           2122        1   \n",
       "4                               3               4           2171        1   \n",
       "\n",
       "   employment.duration  installment.rate  marital.status  ...  \\\n",
       "0                    1                 4               1  ...   \n",
       "1                    2                 2               3  ...   \n",
       "2                    3                 2               1  ...   \n",
       "3                    2                 3               3  ...   \n",
       "4                    2                 4               3  ...   \n",
       "\n",
       "   residence.duration  current.assets  age  other.credits  apartment.type  \\\n",
       "0                   4               2   21              2               1   \n",
       "1                   2               1   36              2               1   \n",
       "2                   4               1   23              2               1   \n",
       "3                   2               1   39              2               1   \n",
       "4                   4               2   38              1               2   \n",
       "\n",
       "   bank.credits  occupation  dependents  telephone  foreign.worker  \n",
       "0             1           3           1          1               1  \n",
       "1             2           3           2          1               1  \n",
       "2             1           2           1          1               1  \n",
       "3             2           2           2          1               2  \n",
       "4             2           2           1          1               2  \n",
       "\n",
       "[5 rows x 21 columns]"
      ]
     },
     "execution_count": 17,
     "metadata": {},
     "output_type": "execute_result"
    }
   ],
   "source": [
    "df.head()"
   ]
  },
  {
   "cell_type": "code",
   "execution_count": 18,
   "metadata": {},
   "outputs": [
    {
     "data": {
      "text/plain": [
       "Index(['account.balance', 'credit.duration.months',\n",
       "       'previous.credit.payment.status', 'credit.purpose', 'credit.amount',\n",
       "       'savings', 'employment.duration', 'installment.rate', 'marital.status',\n",
       "       'guarantor', 'residence.duration', 'current.assets', 'age',\n",
       "       'other.credits', 'apartment.type', 'bank.credits', 'occupation',\n",
       "       'dependents', 'telephone', 'foreign.worker'],\n",
       "      dtype='object')"
      ]
     },
     "execution_count": 18,
     "metadata": {},
     "output_type": "execute_result"
    }
   ],
   "source": [
    "atributos = df.columns[1:]\n",
    "atributos"
   ]
  },
  {
   "cell_type": "code",
   "execution_count": 19,
   "metadata": {},
   "outputs": [],
   "source": [
    "atributos2 = ['account.balance', 'credit.duration.months',\n",
    "       'previous.credit.payment.status', 'credit.purpose', 'credit.amount',\n",
    "       'savings', 'employment.duration', 'installment.rate', 'marital.status',\n",
    "       'guarantor', 'residence.duration', 'current.assets', 'age',\n",
    "       'other.credits', 'apartment.type', 'bank.credits', 'occupation',\n",
    "       'dependents', 'telephone', 'foreign.worker']"
   ]
  },
  {
   "cell_type": "code",
   "execution_count": 20,
   "metadata": {},
   "outputs": [
    {
     "data": {
      "text/html": [
       "<div>\n",
       "<style scoped>\n",
       "    .dataframe tbody tr th:only-of-type {\n",
       "        vertical-align: middle;\n",
       "    }\n",
       "\n",
       "    .dataframe tbody tr th {\n",
       "        vertical-align: top;\n",
       "    }\n",
       "\n",
       "    .dataframe thead th {\n",
       "        text-align: right;\n",
       "    }\n",
       "</style>\n",
       "<table border=\"1\" class=\"dataframe\">\n",
       "  <thead>\n",
       "    <tr style=\"text-align: right;\">\n",
       "      <th></th>\n",
       "      <th>account.balance</th>\n",
       "      <th>credit.duration.months</th>\n",
       "      <th>previous.credit.payment.status</th>\n",
       "      <th>credit.purpose</th>\n",
       "      <th>credit.amount</th>\n",
       "      <th>savings</th>\n",
       "      <th>employment.duration</th>\n",
       "      <th>installment.rate</th>\n",
       "      <th>marital.status</th>\n",
       "      <th>guarantor</th>\n",
       "      <th>residence.duration</th>\n",
       "      <th>current.assets</th>\n",
       "      <th>age</th>\n",
       "      <th>other.credits</th>\n",
       "      <th>apartment.type</th>\n",
       "      <th>bank.credits</th>\n",
       "      <th>occupation</th>\n",
       "      <th>dependents</th>\n",
       "      <th>telephone</th>\n",
       "      <th>foreign.worker</th>\n",
       "    </tr>\n",
       "  </thead>\n",
       "  <tbody>\n",
       "    <tr>\n",
       "      <th>0</th>\n",
       "      <td>1</td>\n",
       "      <td>18</td>\n",
       "      <td>3</td>\n",
       "      <td>2</td>\n",
       "      <td>1049</td>\n",
       "      <td>1</td>\n",
       "      <td>1</td>\n",
       "      <td>4</td>\n",
       "      <td>1</td>\n",
       "      <td>1</td>\n",
       "      <td>4</td>\n",
       "      <td>2</td>\n",
       "      <td>21</td>\n",
       "      <td>2</td>\n",
       "      <td>1</td>\n",
       "      <td>1</td>\n",
       "      <td>3</td>\n",
       "      <td>1</td>\n",
       "      <td>1</td>\n",
       "      <td>1</td>\n",
       "    </tr>\n",
       "    <tr>\n",
       "      <th>1</th>\n",
       "      <td>1</td>\n",
       "      <td>9</td>\n",
       "      <td>3</td>\n",
       "      <td>4</td>\n",
       "      <td>2799</td>\n",
       "      <td>1</td>\n",
       "      <td>2</td>\n",
       "      <td>2</td>\n",
       "      <td>3</td>\n",
       "      <td>1</td>\n",
       "      <td>2</td>\n",
       "      <td>1</td>\n",
       "      <td>36</td>\n",
       "      <td>2</td>\n",
       "      <td>1</td>\n",
       "      <td>2</td>\n",
       "      <td>3</td>\n",
       "      <td>2</td>\n",
       "      <td>1</td>\n",
       "      <td>1</td>\n",
       "    </tr>\n",
       "    <tr>\n",
       "      <th>2</th>\n",
       "      <td>2</td>\n",
       "      <td>12</td>\n",
       "      <td>2</td>\n",
       "      <td>4</td>\n",
       "      <td>841</td>\n",
       "      <td>2</td>\n",
       "      <td>3</td>\n",
       "      <td>2</td>\n",
       "      <td>1</td>\n",
       "      <td>1</td>\n",
       "      <td>4</td>\n",
       "      <td>1</td>\n",
       "      <td>23</td>\n",
       "      <td>2</td>\n",
       "      <td>1</td>\n",
       "      <td>1</td>\n",
       "      <td>2</td>\n",
       "      <td>1</td>\n",
       "      <td>1</td>\n",
       "      <td>1</td>\n",
       "    </tr>\n",
       "    <tr>\n",
       "      <th>3</th>\n",
       "      <td>1</td>\n",
       "      <td>12</td>\n",
       "      <td>3</td>\n",
       "      <td>4</td>\n",
       "      <td>2122</td>\n",
       "      <td>1</td>\n",
       "      <td>2</td>\n",
       "      <td>3</td>\n",
       "      <td>3</td>\n",
       "      <td>1</td>\n",
       "      <td>2</td>\n",
       "      <td>1</td>\n",
       "      <td>39</td>\n",
       "      <td>2</td>\n",
       "      <td>1</td>\n",
       "      <td>2</td>\n",
       "      <td>2</td>\n",
       "      <td>2</td>\n",
       "      <td>1</td>\n",
       "      <td>2</td>\n",
       "    </tr>\n",
       "    <tr>\n",
       "      <th>4</th>\n",
       "      <td>1</td>\n",
       "      <td>12</td>\n",
       "      <td>3</td>\n",
       "      <td>4</td>\n",
       "      <td>2171</td>\n",
       "      <td>1</td>\n",
       "      <td>2</td>\n",
       "      <td>4</td>\n",
       "      <td>3</td>\n",
       "      <td>1</td>\n",
       "      <td>4</td>\n",
       "      <td>2</td>\n",
       "      <td>38</td>\n",
       "      <td>1</td>\n",
       "      <td>2</td>\n",
       "      <td>2</td>\n",
       "      <td>2</td>\n",
       "      <td>1</td>\n",
       "      <td>1</td>\n",
       "      <td>2</td>\n",
       "    </tr>\n",
       "  </tbody>\n",
       "</table>\n",
       "</div>"
      ],
      "text/plain": [
       "   account.balance  credit.duration.months  previous.credit.payment.status  \\\n",
       "0                1                      18                               3   \n",
       "1                1                       9                               3   \n",
       "2                2                      12                               2   \n",
       "3                1                      12                               3   \n",
       "4                1                      12                               3   \n",
       "\n",
       "   credit.purpose  credit.amount  savings  employment.duration  \\\n",
       "0               2           1049        1                    1   \n",
       "1               4           2799        1                    2   \n",
       "2               4            841        2                    3   \n",
       "3               4           2122        1                    2   \n",
       "4               4           2171        1                    2   \n",
       "\n",
       "   installment.rate  marital.status  guarantor  residence.duration  \\\n",
       "0                 4               1          1                   4   \n",
       "1                 2               3          1                   2   \n",
       "2                 2               1          1                   4   \n",
       "3                 3               3          1                   2   \n",
       "4                 4               3          1                   4   \n",
       "\n",
       "   current.assets  age  other.credits  apartment.type  bank.credits  \\\n",
       "0               2   21              2               1             1   \n",
       "1               1   36              2               1             2   \n",
       "2               1   23              2               1             1   \n",
       "3               1   39              2               1             2   \n",
       "4               2   38              1               2             2   \n",
       "\n",
       "   occupation  dependents  telephone  foreign.worker  \n",
       "0           3           1          1               1  \n",
       "1           3           2          1               1  \n",
       "2           2           1          1               1  \n",
       "3           2           2          1               2  \n",
       "4           2           1          1               2  "
      ]
     },
     "execution_count": 20,
     "metadata": {},
     "output_type": "execute_result"
    }
   ],
   "source": [
    "X = df[ atributos2 ]\n",
    "X.head()"
   ]
  },
  {
   "cell_type": "code",
   "execution_count": 21,
   "metadata": {},
   "outputs": [],
   "source": [
    "X = X.values.astype(float)\n",
    "y = df.iloc[:,0]"
   ]
  },
  {
   "cell_type": "code",
   "execution_count": 22,
   "metadata": {},
   "outputs": [],
   "source": [
    "import numpy as np\n",
    "np.set_printoptions(precision=4, suppress=True)"
   ]
  },
  {
   "cell_type": "code",
   "execution_count": 23,
   "metadata": {},
   "outputs": [
    {
     "data": {
      "text/plain": [
       "array([[   1.,   18.,    3.,    2., 1049.,    1.,    1.,    4.,    1.,\n",
       "           1.,    4.,    2.,   21.,    2.,    1.,    1.,    3.,    1.,\n",
       "           1.,    1.],\n",
       "       [   1.,    9.,    3.,    4., 2799.,    1.,    2.,    2.,    3.,\n",
       "           1.,    2.,    1.,   36.,    2.,    1.,    2.,    3.,    2.,\n",
       "           1.,    1.],\n",
       "       [   2.,   12.,    2.,    4.,  841.,    2.,    3.,    2.,    1.,\n",
       "           1.,    4.,    1.,   23.,    2.,    1.,    1.,    2.,    1.,\n",
       "           1.,    1.]])"
      ]
     },
     "execution_count": 23,
     "metadata": {},
     "output_type": "execute_result"
    }
   ],
   "source": [
    "X[:3]"
   ]
  },
  {
   "cell_type": "code",
   "execution_count": 24,
   "metadata": {},
   "outputs": [
    {
     "data": {
      "text/plain": [
       "0    1\n",
       "1    1\n",
       "2    1\n",
       "Name: credit.rating, dtype: int64"
      ]
     },
     "execution_count": 24,
     "metadata": {},
     "output_type": "execute_result"
    }
   ],
   "source": [
    "y[:3]"
   ]
  },
  {
   "cell_type": "markdown",
   "metadata": {},
   "source": [
    "## Preparando os dados para aplicar Regressão Logistica<br />"
   ]
  },
  {
   "cell_type": "code",
   "execution_count": 25,
   "metadata": {},
   "outputs": [
    {
     "data": {
      "text/plain": [
       "(1000, 20)"
      ]
     },
     "execution_count": 25,
     "metadata": {},
     "output_type": "execute_result"
    }
   ],
   "source": [
    "X.shape"
   ]
  },
  {
   "cell_type": "markdown",
   "metadata": {},
   "source": [
    "## Aplicando o Algoritmo"
   ]
  },
  {
   "cell_type": "code",
   "execution_count": 26,
   "metadata": {},
   "outputs": [
    {
     "data": {
      "text/plain": [
       "LogisticRegression()"
      ]
     },
     "execution_count": 26,
     "metadata": {},
     "output_type": "execute_result"
    }
   ],
   "source": [
    "# instantiate a logistic regression model, and fit with X and y\n",
    "model = LogisticRegression()\n",
    "model = model.fit(X, y) # Treinamento\n",
    "model"
   ]
  },
  {
   "cell_type": "markdown",
   "metadata": {},
   "source": [
    "## Avaliando A Acurácia do Modelo"
   ]
  },
  {
   "cell_type": "code",
   "execution_count": 27,
   "metadata": {},
   "outputs": [
    {
     "data": {
      "text/plain": [
       "78.0"
      ]
     },
     "execution_count": 27,
     "metadata": {},
     "output_type": "execute_result"
    }
   ],
   "source": [
    "# check the accuracy on the training set\n",
    "model.score(X, y) * 100"
   ]
  },
  {
   "cell_type": "markdown",
   "metadata": {},
   "source": [
    "### Examinando os Coeficientes"
   ]
  },
  {
   "cell_type": "code",
   "execution_count": 28,
   "metadata": {},
   "outputs": [
    {
     "data": {
      "text/plain": [
       "array(['credit.rating', 'account.balance', 'credit.duration.months',\n",
       "       'previous.credit.payment.status', 'credit.purpose',\n",
       "       'credit.amount', 'savings', 'employment.duration',\n",
       "       'installment.rate', 'marital.status', 'guarantor',\n",
       "       'residence.duration', 'current.assets', 'age', 'other.credits',\n",
       "       'apartment.type', 'bank.credits', 'occupation', 'dependents',\n",
       "       'telephone', 'foreign.worker'], dtype=object)"
      ]
     },
     "execution_count": 28,
     "metadata": {},
     "output_type": "execute_result"
    }
   ],
   "source": [
    "cols = df.columns.values\n",
    "cols"
   ]
  },
  {
   "cell_type": "code",
   "execution_count": 29,
   "metadata": {},
   "outputs": [
    {
     "data": {
      "text/plain": [
       "array(['account.balance', 'credit.duration.months',\n",
       "       'previous.credit.payment.status', 'credit.purpose',\n",
       "       'credit.amount', 'savings', 'employment.duration',\n",
       "       'installment.rate', 'marital.status', 'guarantor',\n",
       "       'residence.duration', 'current.assets', 'age', 'other.credits',\n",
       "       'apartment.type', 'bank.credits', 'occupation', 'dependents',\n",
       "       'telephone', 'foreign.worker'], dtype=object)"
      ]
     },
     "execution_count": 29,
     "metadata": {},
     "output_type": "execute_result"
    }
   ],
   "source": [
    "cols_atributos = cols[1:]\n",
    "cols_atributos"
   ]
  },
  {
   "cell_type": "code",
   "execution_count": 30,
   "metadata": {},
   "outputs": [
    {
     "data": {
      "text/plain": [
       "20"
      ]
     },
     "execution_count": 30,
     "metadata": {},
     "output_type": "execute_result"
    }
   ],
   "source": [
    "len(cols_atributos)"
   ]
  },
  {
   "cell_type": "code",
   "execution_count": 31,
   "metadata": {},
   "outputs": [
    {
     "data": {
      "text/plain": [
       "array([ 0.8043, -0.0227,  0.502 , -0.4664, -0.0001,  0.2643,  0.165 ,\n",
       "       -0.312 ,  0.1851,  0.0442, -0.066 , -0.2664,  0.0096,  0.1685,\n",
       "        0.1332, -0.0801, -0.083 , -0.124 ,  0.1839,  0.0759])"
      ]
     },
     "execution_count": 31,
     "metadata": {},
     "output_type": "execute_result"
    }
   ],
   "source": [
    "model.coef_[0]"
   ]
  },
  {
   "cell_type": "code",
   "execution_count": 32,
   "metadata": {},
   "outputs": [
    {
     "data": {
      "text/plain": [
       "20"
      ]
     },
     "execution_count": 32,
     "metadata": {},
     "output_type": "execute_result"
    }
   ],
   "source": [
    "len(model.coef_[0])"
   ]
  },
  {
   "cell_type": "code",
   "execution_count": 33,
   "metadata": {},
   "outputs": [
    {
     "data": {
      "text/plain": [
       "[['account.balance', 0.804251676340729],\n",
       " ['credit.duration.months', -0.02268936748492723],\n",
       " ['previous.credit.payment.status', 0.5020077173991732],\n",
       " ['credit.purpose', -0.46638893213319066],\n",
       " ['credit.amount', -9.308235107329014e-05],\n",
       " ['savings', 0.26434867137404705],\n",
       " ['employment.duration', 0.16503790994475115],\n",
       " ['installment.rate', -0.3119725327889782],\n",
       " ['marital.status', 0.185128177032248],\n",
       " ['guarantor', 0.04418547691187842],\n",
       " ['residence.duration', -0.0659677646419911],\n",
       " ['current.assets', -0.266380216885277],\n",
       " ['age', 0.009560196553527288],\n",
       " ['other.credits', 0.168506853835881],\n",
       " ['apartment.type', 0.13323953045605566],\n",
       " ['bank.credits', -0.08014913161583702],\n",
       " ['occupation', -0.08297601462970713],\n",
       " ['dependents', -0.12404703528065537],\n",
       " ['telephone', 0.18390388833377302],\n",
       " ['foreign.worker', 0.07592832064378707]]"
      ]
     },
     "execution_count": 33,
     "metadata": {},
     "output_type": "execute_result"
    }
   ],
   "source": [
    "# examine the coefficients\n",
    "elementos = [[x,y] for x, y in zip(cols_atributos, model.coef_[0])]\n",
    "elementos"
   ]
  },
  {
   "cell_type": "code",
   "execution_count": 34,
   "metadata": {},
   "outputs": [
    {
     "data": {
      "text/html": [
       "<div>\n",
       "<style scoped>\n",
       "    .dataframe tbody tr th:only-of-type {\n",
       "        vertical-align: middle;\n",
       "    }\n",
       "\n",
       "    .dataframe tbody tr th {\n",
       "        vertical-align: top;\n",
       "    }\n",
       "\n",
       "    .dataframe thead th {\n",
       "        text-align: right;\n",
       "    }\n",
       "</style>\n",
       "<table border=\"1\" class=\"dataframe\">\n",
       "  <thead>\n",
       "    <tr style=\"text-align: right;\">\n",
       "      <th></th>\n",
       "      <th>Atributo</th>\n",
       "      <th>Coeficiente</th>\n",
       "    </tr>\n",
       "  </thead>\n",
       "  <tbody>\n",
       "    <tr>\n",
       "      <th>0</th>\n",
       "      <td>account.balance</td>\n",
       "      <td>0.804252</td>\n",
       "    </tr>\n",
       "    <tr>\n",
       "      <th>1</th>\n",
       "      <td>credit.duration.months</td>\n",
       "      <td>-0.022689</td>\n",
       "    </tr>\n",
       "    <tr>\n",
       "      <th>2</th>\n",
       "      <td>previous.credit.payment.status</td>\n",
       "      <td>0.502008</td>\n",
       "    </tr>\n",
       "    <tr>\n",
       "      <th>3</th>\n",
       "      <td>credit.purpose</td>\n",
       "      <td>-0.466389</td>\n",
       "    </tr>\n",
       "    <tr>\n",
       "      <th>4</th>\n",
       "      <td>credit.amount</td>\n",
       "      <td>-0.000093</td>\n",
       "    </tr>\n",
       "    <tr>\n",
       "      <th>5</th>\n",
       "      <td>savings</td>\n",
       "      <td>0.264349</td>\n",
       "    </tr>\n",
       "    <tr>\n",
       "      <th>6</th>\n",
       "      <td>employment.duration</td>\n",
       "      <td>0.165038</td>\n",
       "    </tr>\n",
       "    <tr>\n",
       "      <th>7</th>\n",
       "      <td>installment.rate</td>\n",
       "      <td>-0.311973</td>\n",
       "    </tr>\n",
       "    <tr>\n",
       "      <th>8</th>\n",
       "      <td>marital.status</td>\n",
       "      <td>0.185128</td>\n",
       "    </tr>\n",
       "    <tr>\n",
       "      <th>9</th>\n",
       "      <td>guarantor</td>\n",
       "      <td>0.044185</td>\n",
       "    </tr>\n",
       "    <tr>\n",
       "      <th>10</th>\n",
       "      <td>residence.duration</td>\n",
       "      <td>-0.065968</td>\n",
       "    </tr>\n",
       "    <tr>\n",
       "      <th>11</th>\n",
       "      <td>current.assets</td>\n",
       "      <td>-0.266380</td>\n",
       "    </tr>\n",
       "    <tr>\n",
       "      <th>12</th>\n",
       "      <td>age</td>\n",
       "      <td>0.009560</td>\n",
       "    </tr>\n",
       "    <tr>\n",
       "      <th>13</th>\n",
       "      <td>other.credits</td>\n",
       "      <td>0.168507</td>\n",
       "    </tr>\n",
       "    <tr>\n",
       "      <th>14</th>\n",
       "      <td>apartment.type</td>\n",
       "      <td>0.133240</td>\n",
       "    </tr>\n",
       "    <tr>\n",
       "      <th>15</th>\n",
       "      <td>bank.credits</td>\n",
       "      <td>-0.080149</td>\n",
       "    </tr>\n",
       "    <tr>\n",
       "      <th>16</th>\n",
       "      <td>occupation</td>\n",
       "      <td>-0.082976</td>\n",
       "    </tr>\n",
       "    <tr>\n",
       "      <th>17</th>\n",
       "      <td>dependents</td>\n",
       "      <td>-0.124047</td>\n",
       "    </tr>\n",
       "    <tr>\n",
       "      <th>18</th>\n",
       "      <td>telephone</td>\n",
       "      <td>0.183904</td>\n",
       "    </tr>\n",
       "    <tr>\n",
       "      <th>19</th>\n",
       "      <td>foreign.worker</td>\n",
       "      <td>0.075928</td>\n",
       "    </tr>\n",
       "  </tbody>\n",
       "</table>\n",
       "</div>"
      ],
      "text/plain": [
       "                          Atributo  Coeficiente\n",
       "0                  account.balance     0.804252\n",
       "1           credit.duration.months    -0.022689\n",
       "2   previous.credit.payment.status     0.502008\n",
       "3                   credit.purpose    -0.466389\n",
       "4                    credit.amount    -0.000093\n",
       "5                          savings     0.264349\n",
       "6              employment.duration     0.165038\n",
       "7                 installment.rate    -0.311973\n",
       "8                   marital.status     0.185128\n",
       "9                        guarantor     0.044185\n",
       "10              residence.duration    -0.065968\n",
       "11                  current.assets    -0.266380\n",
       "12                             age     0.009560\n",
       "13                   other.credits     0.168507\n",
       "14                  apartment.type     0.133240\n",
       "15                    bank.credits    -0.080149\n",
       "16                      occupation    -0.082976\n",
       "17                      dependents    -0.124047\n",
       "18                       telephone     0.183904\n",
       "19                  foreign.worker     0.075928"
      ]
     },
     "execution_count": 34,
     "metadata": {},
     "output_type": "execute_result"
    }
   ],
   "source": [
    "# examine the coefficients\n",
    "pd.DataFrame(elementos, columns=['Atributo', 'Coeficiente'])"
   ]
  },
  {
   "cell_type": "markdown",
   "metadata": {},
   "source": [
    "## Avaliando o modelo usando split de dados"
   ]
  },
  {
   "cell_type": "code",
   "execution_count": 35,
   "metadata": {},
   "outputs": [
    {
     "name": "stdout",
     "output_type": "stream",
     "text": [
      "700 300\n"
     ]
    }
   ],
   "source": [
    "# evaluate the model by splitting into train and test sets\n",
    "X_train, X_test, y_train, y_test = train_test_split(X, y, test_size=0.3, random_state=0)\n",
    "print(len(X_train), len(X_test))"
   ]
  },
  {
   "cell_type": "code",
   "execution_count": 36,
   "metadata": {},
   "outputs": [
    {
     "data": {
      "text/plain": [
       "LogisticRegression()"
      ]
     },
     "execution_count": 36,
     "metadata": {},
     "output_type": "execute_result"
    }
   ],
   "source": [
    "model2 = LogisticRegression()\n",
    "model2.fit(X_train, y_train)\n",
    "model2"
   ]
  },
  {
   "cell_type": "code",
   "execution_count": 37,
   "metadata": {},
   "outputs": [
    {
     "name": "stdout",
     "output_type": "stream",
     "text": [
      "[1 0 1 1 0]\n"
     ]
    }
   ],
   "source": [
    "# predict class labels for the test set\n",
    "y_predicted = model2.predict(X_test)\n",
    "print (y_predicted[:5])"
   ]
  },
  {
   "cell_type": "code",
   "execution_count": 38,
   "metadata": {},
   "outputs": [
    {
     "name": "stdout",
     "output_type": "stream",
     "text": [
      "Acurácia:  72.66666666666667\n"
     ]
    }
   ],
   "source": [
    "# generate evaluation metrics\n",
    "print ('Acurácia: ', metrics.accuracy_score(y_test, y_predicted) * 100)"
   ]
  },
  {
   "cell_type": "code",
   "execution_count": 39,
   "metadata": {},
   "outputs": [
    {
     "name": "stdout",
     "output_type": "stream",
     "text": [
      "[[0.2766 0.7234]\n",
      " [0.5102 0.4898]\n",
      " [0.1124 0.8876]\n",
      " [0.0886 0.9114]\n",
      " [0.5023 0.4977]]\n"
     ]
    }
   ],
   "source": [
    "# generate class probabilities\n",
    "probs = model2.predict_proba(X_test)\n",
    "print (probs[:5])"
   ]
  },
  {
   "cell_type": "code",
   "execution_count": 40,
   "metadata": {},
   "outputs": [
    {
     "data": {
      "text/plain": [
       "array([0.2766, 0.5102, 0.1124, 0.0886, 0.5023, 0.5866, 0.0654, 0.1384,\n",
       "       0.0984, 0.0918, 0.0452, 0.0743, 0.7389, 0.1875, 0.3067, 0.2278,\n",
       "       0.5248, 0.0952, 0.1601, 0.0432, 0.3737, 0.1553, 0.0122, 0.0458,\n",
       "       0.2138, 0.2688, 0.8455, 0.3918, 0.5183, 0.2369, 0.4842, 0.3244,\n",
       "       0.6218, 0.4166, 0.1745, 0.2529, 0.4215, 0.112 , 0.6339, 0.1652,\n",
       "       0.0869, 0.3338, 0.7126, 0.3658, 0.1607, 0.3829, 0.1979, 0.0063,\n",
       "       0.4079, 0.265 , 0.188 , 0.1594, 0.2746, 0.2127, 0.1093, 0.0999,\n",
       "       0.0301, 0.0154, 0.2746, 0.2719, 0.2711, 0.563 , 0.1113, 0.0963,\n",
       "       0.132 , 0.086 , 0.4163, 0.0311, 0.1581, 0.4336, 0.2836, 0.0779,\n",
       "       0.1212, 0.059 , 0.7365, 0.0434, 0.0834, 0.058 , 0.0576, 0.524 ,\n",
       "       0.4403, 0.332 , 0.2739, 0.4517, 0.7218, 0.043 , 0.0517, 0.1528,\n",
       "       0.0181, 0.7061, 0.3279, 0.0789, 0.5908, 0.0366, 0.2251, 0.1831,\n",
       "       0.045 , 0.4738, 0.2223, 0.1498, 0.0657, 0.4119, 0.0428, 0.4046,\n",
       "       0.1604, 0.0881, 0.1106, 0.4852, 0.7878, 0.1557, 0.399 , 0.6276,\n",
       "       0.0804, 0.1379, 0.1702, 0.2897, 0.2459, 0.1636, 0.0525, 0.2367,\n",
       "       0.123 , 0.5048, 0.3741, 0.064 , 0.0745, 0.4287, 0.1395, 0.2251,\n",
       "       0.2629, 0.5816, 0.1361, 0.5028, 0.206 , 0.0449, 0.3016, 0.1861,\n",
       "       0.0424, 0.2452, 0.1685, 0.6028, 0.7857, 0.7296, 0.4111, 0.0283,\n",
       "       0.6599, 0.1069, 0.1063, 0.3051, 0.0301, 0.4018, 0.1   , 0.1455,\n",
       "       0.5197, 0.6622, 0.7446, 0.6134, 0.241 , 0.0079, 0.2804, 0.0101,\n",
       "       0.7475, 0.3439, 0.0871, 0.8209, 0.5691, 0.2399, 0.127 , 0.1717,\n",
       "       0.2593, 0.0628, 0.2684, 0.4798, 0.0157, 0.7574, 0.5028, 0.6539,\n",
       "       0.0204, 0.2247, 0.8021, 0.3237, 0.1821, 0.2426, 0.1132, 0.0349,\n",
       "       0.6536, 0.8166, 0.0638, 0.1466, 0.6542, 0.155 , 0.1247, 0.3687,\n",
       "       0.0337, 0.1875, 0.4187, 0.1375, 0.0672, 0.1126, 0.0329, 0.0811,\n",
       "       0.5596, 0.2929, 0.0734, 0.2448, 0.4451, 0.0715, 0.0926, 0.4362,\n",
       "       0.059 , 0.2531, 0.1404, 0.335 , 0.0823, 0.2846, 0.5688, 0.0281,\n",
       "       0.7532, 0.2009, 0.07  , 0.1997, 0.8584, 0.8694, 0.2638, 0.1223,\n",
       "       0.1086, 0.0432, 0.226 , 0.1211, 0.2707, 0.0526, 0.167 , 0.7698,\n",
       "       0.1277, 0.089 , 0.0386, 0.0517, 0.4389, 0.0909, 0.4576, 0.3497,\n",
       "       0.556 , 0.0391, 0.1344, 0.1177, 0.3824, 0.1053, 0.3082, 0.2385,\n",
       "       0.0941, 0.5645, 0.3003, 0.3475, 0.2014, 0.3723, 0.0366, 0.2313,\n",
       "       0.1132, 0.0143, 0.5783, 0.0157, 0.2045, 0.1076, 0.2419, 0.0442,\n",
       "       0.2593, 0.189 , 0.0427, 0.0731, 0.0336, 0.1112, 0.6336, 0.2137,\n",
       "       0.2061, 0.1754, 0.212 , 0.611 , 0.2853, 0.1796, 0.0341, 0.1386,\n",
       "       0.2603, 0.0837, 0.2288, 0.8362, 0.2135, 0.0974, 0.3731, 0.5854,\n",
       "       0.6821, 0.0831, 0.5204, 0.0277, 0.0997, 0.0594, 0.181 , 0.0674,\n",
       "       0.0847, 0.2548, 0.04  , 0.2623])"
      ]
     },
     "execution_count": 40,
     "metadata": {},
     "output_type": "execute_result"
    }
   ],
   "source": [
    "probs[: , 0]"
   ]
  },
  {
   "cell_type": "code",
   "execution_count": 41,
   "metadata": {},
   "outputs": [
    {
     "name": "stdout",
     "output_type": "stream",
     "text": [
      "Valores Previstos e suas Probalidades das classes\n"
     ]
    },
    {
     "data": {
      "text/html": [
       "<div>\n",
       "<style scoped>\n",
       "    .dataframe tbody tr th:only-of-type {\n",
       "        vertical-align: middle;\n",
       "    }\n",
       "\n",
       "    .dataframe tbody tr th {\n",
       "        vertical-align: top;\n",
       "    }\n",
       "\n",
       "    .dataframe thead th {\n",
       "        text-align: right;\n",
       "    }\n",
       "</style>\n",
       "<table border=\"1\" class=\"dataframe\">\n",
       "  <thead>\n",
       "    <tr style=\"text-align: right;\">\n",
       "      <th></th>\n",
       "      <th>Classe</th>\n",
       "      <th>Prob_classe_0</th>\n",
       "      <th>Prob_classe_1</th>\n",
       "    </tr>\n",
       "  </thead>\n",
       "  <tbody>\n",
       "    <tr>\n",
       "      <th>0</th>\n",
       "      <td>1</td>\n",
       "      <td>0.276582</td>\n",
       "      <td>0.723418</td>\n",
       "    </tr>\n",
       "    <tr>\n",
       "      <th>1</th>\n",
       "      <td>0</td>\n",
       "      <td>0.510165</td>\n",
       "      <td>0.489835</td>\n",
       "    </tr>\n",
       "    <tr>\n",
       "      <th>2</th>\n",
       "      <td>1</td>\n",
       "      <td>0.112374</td>\n",
       "      <td>0.887626</td>\n",
       "    </tr>\n",
       "    <tr>\n",
       "      <th>3</th>\n",
       "      <td>1</td>\n",
       "      <td>0.088649</td>\n",
       "      <td>0.911351</td>\n",
       "    </tr>\n",
       "    <tr>\n",
       "      <th>4</th>\n",
       "      <td>0</td>\n",
       "      <td>0.502251</td>\n",
       "      <td>0.497749</td>\n",
       "    </tr>\n",
       "    <tr>\n",
       "      <th>5</th>\n",
       "      <td>0</td>\n",
       "      <td>0.586636</td>\n",
       "      <td>0.413364</td>\n",
       "    </tr>\n",
       "    <tr>\n",
       "      <th>6</th>\n",
       "      <td>1</td>\n",
       "      <td>0.065446</td>\n",
       "      <td>0.934554</td>\n",
       "    </tr>\n",
       "    <tr>\n",
       "      <th>7</th>\n",
       "      <td>1</td>\n",
       "      <td>0.138402</td>\n",
       "      <td>0.861598</td>\n",
       "    </tr>\n",
       "    <tr>\n",
       "      <th>8</th>\n",
       "      <td>1</td>\n",
       "      <td>0.098445</td>\n",
       "      <td>0.901555</td>\n",
       "    </tr>\n",
       "    <tr>\n",
       "      <th>9</th>\n",
       "      <td>1</td>\n",
       "      <td>0.091788</td>\n",
       "      <td>0.908212</td>\n",
       "    </tr>\n",
       "  </tbody>\n",
       "</table>\n",
       "</div>"
      ],
      "text/plain": [
       "   Classe  Prob_classe_0  Prob_classe_1\n",
       "0       1       0.276582       0.723418\n",
       "1       0       0.510165       0.489835\n",
       "2       1       0.112374       0.887626\n",
       "3       1       0.088649       0.911351\n",
       "4       0       0.502251       0.497749\n",
       "5       0       0.586636       0.413364\n",
       "6       1       0.065446       0.934554\n",
       "7       1       0.138402       0.861598\n",
       "8       1       0.098445       0.901555\n",
       "9       1       0.091788       0.908212"
      ]
     },
     "execution_count": 41,
     "metadata": {},
     "output_type": "execute_result"
    }
   ],
   "source": [
    "print('Valores Previstos e suas Probalidades das classes')\n",
    "df3 = pd.DataFrame( {\n",
    "                    'Classe': y_predicted,\n",
    "                   'Prob_classe_0': probs[:, 0],\n",
    "                   'Prob_classe_1': probs[:, 1] \n",
    "                   })\n",
    "df3.head(10)"
   ]
  },
  {
   "cell_type": "markdown",
   "metadata": {},
   "source": [
    "## Avaliando o modelo usando Cross-validation"
   ]
  },
  {
   "cell_type": "code",
   "execution_count": 42,
   "metadata": {},
   "outputs": [
    {
     "name": "stdout",
     "output_type": "stream",
     "text": [
      "[0.91 0.92 0.87 0.86 0.86 0.84 0.69 0.6  0.27 0.31]\n",
      "Accuracy: 0.713 (0.232)\n"
     ]
    }
   ],
   "source": [
    "from sklearn import model_selection\n",
    "num_folds = 10\n",
    "num_instances = len(X)\n",
    "seed = 7\n",
    "\n",
    "modelo = LogisticRegression()\n",
    "\n",
    "# Separando os dados em folds\n",
    "kfold = model_selection.KFold(num_folds, shuffle=False) #, random_state = seed)\n",
    "resultado = model_selection.cross_val_score(modelo, X, y, cv = kfold, \n",
    "                                            scoring='accuracy')\n",
    "\n",
    "# Print do resultado\n",
    "print(resultado)\n",
    "print(\"Accuracy: %.3f (%.3f)\" % (resultado.mean(), resultado.std()))"
   ]
  },
  {
   "cell_type": "markdown",
   "metadata": {},
   "source": [
    "## Realizando Previsões"
   ]
  },
  {
   "cell_type": "code",
   "execution_count": 43,
   "metadata": {},
   "outputs": [
    {
     "data": {
      "text/html": [
       "<div>\n",
       "<style scoped>\n",
       "    .dataframe tbody tr th:only-of-type {\n",
       "        vertical-align: middle;\n",
       "    }\n",
       "\n",
       "    .dataframe tbody tr th {\n",
       "        vertical-align: top;\n",
       "    }\n",
       "\n",
       "    .dataframe thead th {\n",
       "        text-align: right;\n",
       "    }\n",
       "</style>\n",
       "<table border=\"1\" class=\"dataframe\">\n",
       "  <thead>\n",
       "    <tr style=\"text-align: right;\">\n",
       "      <th></th>\n",
       "      <th>credit.rating</th>\n",
       "      <th>account.balance</th>\n",
       "      <th>credit.duration.months</th>\n",
       "      <th>previous.credit.payment.status</th>\n",
       "      <th>credit.purpose</th>\n",
       "      <th>credit.amount</th>\n",
       "      <th>savings</th>\n",
       "      <th>employment.duration</th>\n",
       "      <th>installment.rate</th>\n",
       "      <th>marital.status</th>\n",
       "      <th>...</th>\n",
       "      <th>residence.duration</th>\n",
       "      <th>current.assets</th>\n",
       "      <th>age</th>\n",
       "      <th>other.credits</th>\n",
       "      <th>apartment.type</th>\n",
       "      <th>bank.credits</th>\n",
       "      <th>occupation</th>\n",
       "      <th>dependents</th>\n",
       "      <th>telephone</th>\n",
       "      <th>foreign.worker</th>\n",
       "    </tr>\n",
       "  </thead>\n",
       "  <tbody>\n",
       "    <tr>\n",
       "      <th>0</th>\n",
       "      <td>1</td>\n",
       "      <td>1</td>\n",
       "      <td>18</td>\n",
       "      <td>3</td>\n",
       "      <td>2</td>\n",
       "      <td>1049</td>\n",
       "      <td>1</td>\n",
       "      <td>1</td>\n",
       "      <td>4</td>\n",
       "      <td>1</td>\n",
       "      <td>...</td>\n",
       "      <td>4</td>\n",
       "      <td>2</td>\n",
       "      <td>21</td>\n",
       "      <td>2</td>\n",
       "      <td>1</td>\n",
       "      <td>1</td>\n",
       "      <td>3</td>\n",
       "      <td>1</td>\n",
       "      <td>1</td>\n",
       "      <td>1</td>\n",
       "    </tr>\n",
       "    <tr>\n",
       "      <th>1</th>\n",
       "      <td>1</td>\n",
       "      <td>1</td>\n",
       "      <td>9</td>\n",
       "      <td>3</td>\n",
       "      <td>4</td>\n",
       "      <td>2799</td>\n",
       "      <td>1</td>\n",
       "      <td>2</td>\n",
       "      <td>2</td>\n",
       "      <td>3</td>\n",
       "      <td>...</td>\n",
       "      <td>2</td>\n",
       "      <td>1</td>\n",
       "      <td>36</td>\n",
       "      <td>2</td>\n",
       "      <td>1</td>\n",
       "      <td>2</td>\n",
       "      <td>3</td>\n",
       "      <td>2</td>\n",
       "      <td>1</td>\n",
       "      <td>1</td>\n",
       "    </tr>\n",
       "    <tr>\n",
       "      <th>2</th>\n",
       "      <td>1</td>\n",
       "      <td>2</td>\n",
       "      <td>12</td>\n",
       "      <td>2</td>\n",
       "      <td>4</td>\n",
       "      <td>841</td>\n",
       "      <td>2</td>\n",
       "      <td>3</td>\n",
       "      <td>2</td>\n",
       "      <td>1</td>\n",
       "      <td>...</td>\n",
       "      <td>4</td>\n",
       "      <td>1</td>\n",
       "      <td>23</td>\n",
       "      <td>2</td>\n",
       "      <td>1</td>\n",
       "      <td>1</td>\n",
       "      <td>2</td>\n",
       "      <td>1</td>\n",
       "      <td>1</td>\n",
       "      <td>1</td>\n",
       "    </tr>\n",
       "    <tr>\n",
       "      <th>3</th>\n",
       "      <td>1</td>\n",
       "      <td>1</td>\n",
       "      <td>12</td>\n",
       "      <td>3</td>\n",
       "      <td>4</td>\n",
       "      <td>2122</td>\n",
       "      <td>1</td>\n",
       "      <td>2</td>\n",
       "      <td>3</td>\n",
       "      <td>3</td>\n",
       "      <td>...</td>\n",
       "      <td>2</td>\n",
       "      <td>1</td>\n",
       "      <td>39</td>\n",
       "      <td>2</td>\n",
       "      <td>1</td>\n",
       "      <td>2</td>\n",
       "      <td>2</td>\n",
       "      <td>2</td>\n",
       "      <td>1</td>\n",
       "      <td>2</td>\n",
       "    </tr>\n",
       "    <tr>\n",
       "      <th>4</th>\n",
       "      <td>1</td>\n",
       "      <td>1</td>\n",
       "      <td>12</td>\n",
       "      <td>3</td>\n",
       "      <td>4</td>\n",
       "      <td>2171</td>\n",
       "      <td>1</td>\n",
       "      <td>2</td>\n",
       "      <td>4</td>\n",
       "      <td>3</td>\n",
       "      <td>...</td>\n",
       "      <td>4</td>\n",
       "      <td>2</td>\n",
       "      <td>38</td>\n",
       "      <td>1</td>\n",
       "      <td>2</td>\n",
       "      <td>2</td>\n",
       "      <td>2</td>\n",
       "      <td>1</td>\n",
       "      <td>1</td>\n",
       "      <td>2</td>\n",
       "    </tr>\n",
       "  </tbody>\n",
       "</table>\n",
       "<p>5 rows × 21 columns</p>\n",
       "</div>"
      ],
      "text/plain": [
       "   credit.rating  account.balance  credit.duration.months  \\\n",
       "0              1                1                      18   \n",
       "1              1                1                       9   \n",
       "2              1                2                      12   \n",
       "3              1                1                      12   \n",
       "4              1                1                      12   \n",
       "\n",
       "   previous.credit.payment.status  credit.purpose  credit.amount  savings  \\\n",
       "0                               3               2           1049        1   \n",
       "1                               3               4           2799        1   \n",
       "2                               2               4            841        2   \n",
       "3                               3               4           2122        1   \n",
       "4                               3               4           2171        1   \n",
       "\n",
       "   employment.duration  installment.rate  marital.status  ...  \\\n",
       "0                    1                 4               1  ...   \n",
       "1                    2                 2               3  ...   \n",
       "2                    3                 2               1  ...   \n",
       "3                    2                 3               3  ...   \n",
       "4                    2                 4               3  ...   \n",
       "\n",
       "   residence.duration  current.assets  age  other.credits  apartment.type  \\\n",
       "0                   4               2   21              2               1   \n",
       "1                   2               1   36              2               1   \n",
       "2                   4               1   23              2               1   \n",
       "3                   2               1   39              2               1   \n",
       "4                   4               2   38              1               2   \n",
       "\n",
       "   bank.credits  occupation  dependents  telephone  foreign.worker  \n",
       "0             1           3           1          1               1  \n",
       "1             2           3           2          1               1  \n",
       "2             1           2           1          1               1  \n",
       "3             2           2           2          1               2  \n",
       "4             2           2           1          1               2  \n",
       "\n",
       "[5 rows x 21 columns]"
      ]
     },
     "execution_count": 43,
     "metadata": {},
     "output_type": "execute_result"
    }
   ],
   "source": [
    "df.head()"
   ]
  },
  {
   "cell_type": "code",
   "execution_count": 44,
   "metadata": {},
   "outputs": [
    {
     "data": {
      "text/plain": [
       "array([   1,    1,   18,    3,    2, 1049,    1,    1,    4,    1,    1,\n",
       "          4,    2,   21,    2,    1,    1,    3,    1,    1,    1])"
      ]
     },
     "execution_count": 44,
     "metadata": {},
     "output_type": "execute_result"
    }
   ],
   "source": [
    "df.loc[0,:].values"
   ]
  },
  {
   "cell_type": "code",
   "execution_count": 45,
   "metadata": {},
   "outputs": [
    {
     "data": {
      "text/plain": [
       "3    457\n",
       "1    274\n",
       "2    269\n",
       "Name: account.balance, dtype: int64"
      ]
     },
     "execution_count": 45,
     "metadata": {},
     "output_type": "execute_result"
    }
   ],
   "source": [
    "df['account.balance'].value_counts()"
   ]
  },
  {
   "cell_type": "code",
   "execution_count": 46,
   "metadata": {},
   "outputs": [
    {
     "data": {
      "text/plain": [
       "1    603\n",
       "4    183\n",
       "3    111\n",
       "2    103\n",
       "Name: savings, dtype: int64"
      ]
     },
     "execution_count": 46,
     "metadata": {},
     "output_type": "execute_result"
    }
   ],
   "source": [
    "df.savings.value_counts()"
   ]
  },
  {
   "cell_type": "code",
   "execution_count": 47,
   "metadata": {},
   "outputs": [
    {
     "data": {
      "text/plain": [
       "Index(['account.balance', 'credit.duration.months',\n",
       "       'previous.credit.payment.status', 'credit.purpose', 'credit.amount',\n",
       "       'savings', 'employment.duration', 'installment.rate', 'marital.status',\n",
       "       'guarantor', 'residence.duration', 'current.assets', 'age',\n",
       "       'other.credits', 'apartment.type', 'bank.credits', 'occupation',\n",
       "       'dependents', 'telephone', 'foreign.worker'],\n",
       "      dtype='object')"
      ]
     },
     "execution_count": 47,
     "metadata": {},
     "output_type": "execute_result"
    }
   ],
   "source": [
    "df.columns[1:]"
   ]
  },
  {
   "cell_type": "code",
   "execution_count": 63,
   "metadata": {},
   "outputs": [
    {
     "data": {
      "text/plain": [
       "array([   1,    4,    3,    2, 2049,    1,    1,    4,    1,    1,    4,\n",
       "          2,   21,    2,    1,    1,    3,    1,    1,    1])"
      ]
     },
     "execution_count": 63,
     "metadata": {},
     "output_type": "execute_result"
    }
   ],
   "source": [
    "Xprev1 = np.array(\n",
    "    [      1,   4,    3,    2, 2049,    1,    1,    4,    1,    1,\n",
    "          4,    2,   21,    2,    1,    1,    3,    1,    1,    1] )\n",
    "\n",
    "Xprev1"
   ]
  },
  {
   "cell_type": "code",
   "execution_count": 64,
   "metadata": {},
   "outputs": [
    {
     "data": {
      "text/plain": [
       "array([[   1,    4,    3,    2, 2049,    1,    1,    4,    1,    1,    4,\n",
       "           2,   21,    2,    1,    1,    3,    1,    1,    1]])"
      ]
     },
     "execution_count": 64,
     "metadata": {},
     "output_type": "execute_result"
    }
   ],
   "source": [
    "Xprev1 = Xprev1.reshape(1, -1)\n",
    "Xprev1"
   ]
  },
  {
   "cell_type": "code",
   "execution_count": 65,
   "metadata": {},
   "outputs": [
    {
     "data": {
      "text/plain": [
       "1"
      ]
     },
     "execution_count": 65,
     "metadata": {},
     "output_type": "execute_result"
    }
   ],
   "source": [
    "model.predict(Xprev1)[0]"
   ]
  },
  {
   "cell_type": "code",
   "execution_count": 66,
   "metadata": {},
   "outputs": [
    {
     "data": {
      "text/plain": [
       "array([0.4657, 0.5343])"
      ]
     },
     "execution_count": 66,
     "metadata": {},
     "output_type": "execute_result"
    }
   ],
   "source": [
    "model.predict_proba(Xprev1)[0]"
   ]
  },
  {
   "cell_type": "code",
   "execution_count": 67,
   "metadata": {},
   "outputs": [
    {
     "data": {
      "text/plain": [
       "array([   1,    3,   24,    3,    2, 3777,    3,    2,    4,    3,    1,\n",
       "          4,    1,   40,    2,    2,    1,    3,    1,    2,    1])"
      ]
     },
     "execution_count": 67,
     "metadata": {},
     "output_type": "execute_result"
    }
   ],
   "source": [
    "df.loc[100,:].values"
   ]
  },
  {
   "cell_type": "code",
   "execution_count": 82,
   "metadata": {},
   "outputs": [
    {
     "data": {
      "text/plain": [
       "array([   3,   18,    1,    2, 3777,    3,    2,    4,    3,    1,    4,\n",
       "          1,   40,    2,    2,    1,    3,    1,    2,    1])"
      ]
     },
     "execution_count": 82,
     "metadata": {},
     "output_type": "execute_result"
    }
   ],
   "source": [
    "Xprev2 = np.array([ 3,   18,    1,    2, 3777,    3,    2,    4,    3,    1,\n",
    "          4,    1,   40,    2,    2,    1,    3,    1,    2,    1])\n",
    "Xprev2"
   ]
  },
  {
   "cell_type": "code",
   "execution_count": 83,
   "metadata": {},
   "outputs": [
    {
     "data": {
      "text/plain": [
       "array([[   3,   18,    1,    2, 3777,    3,    2,    4,    3,    1,    4,\n",
       "           1,   40,    2,    2,    1,    3,    1,    2,    1]])"
      ]
     },
     "execution_count": 83,
     "metadata": {},
     "output_type": "execute_result"
    }
   ],
   "source": [
    "Xprev2 = Xprev2.reshape(1, -1)\n",
    "Xprev2"
   ]
  },
  {
   "cell_type": "code",
   "execution_count": 84,
   "metadata": {},
   "outputs": [
    {
     "data": {
      "text/plain": [
       "1"
      ]
     },
     "execution_count": 84,
     "metadata": {},
     "output_type": "execute_result"
    }
   ],
   "source": [
    "model.predict(Xprev2)[0]"
   ]
  },
  {
   "cell_type": "code",
   "execution_count": 85,
   "metadata": {},
   "outputs": [
    {
     "data": {
      "text/plain": [
       "array([[0.1098, 0.8902]])"
      ]
     },
     "execution_count": 85,
     "metadata": {},
     "output_type": "execute_result"
    }
   ],
   "source": [
    "model.predict_proba(Xprev2)"
   ]
  },
  {
   "cell_type": "code",
   "execution_count": 86,
   "metadata": {},
   "outputs": [
    {
     "data": {
      "text/plain": [
       "array([   1,    1,   10,    3,    4, 2241,    1,    1,    1,    3,    1,\n",
       "          3,    1,   48,    2,    1,    2,    2,    2,    1,    2])"
      ]
     },
     "execution_count": 86,
     "metadata": {},
     "output_type": "execute_result"
    }
   ],
   "source": [
    "df.loc[5,:].values"
   ]
  },
  {
   "cell_type": "code",
   "execution_count": 87,
   "metadata": {},
   "outputs": [
    {
     "data": {
      "text/plain": [
       "array([   1,   10,    1,    4, 2241,    1,    1,    1,    3,    1,    3,\n",
       "          1,   48,    2,    1,    2,    2,    2,    1,    2])"
      ]
     },
     "execution_count": 87,
     "metadata": {},
     "output_type": "execute_result"
    }
   ],
   "source": [
    "Xprev = np.array([1,   10,    1,    4, 2241,    1,    1,    1,    3,    1,\n",
    "          3,    1,   48,    2,    1,    2,    2,    2,    1,    2])\n",
    "Xprev"
   ]
  },
  {
   "cell_type": "code",
   "execution_count": 88,
   "metadata": {},
   "outputs": [
    {
     "data": {
      "text/plain": [
       "array([[   1,   10,    1,    4, 2241,    1,    1,    1,    3,    1,    3,\n",
       "           1,   48,    2,    1,    2,    2,    2,    1,    2]])"
      ]
     },
     "execution_count": 88,
     "metadata": {},
     "output_type": "execute_result"
    }
   ],
   "source": [
    "Xprev = Xprev.reshape(1, -1)\n",
    "Xprev"
   ]
  },
  {
   "cell_type": "code",
   "execution_count": 89,
   "metadata": {},
   "outputs": [
    {
     "data": {
      "text/plain": [
       "0"
      ]
     },
     "execution_count": 89,
     "metadata": {},
     "output_type": "execute_result"
    }
   ],
   "source": [
    "# aplicando o modelo de Regressão Logística\n",
    "model.predict(Xprev)[0]"
   ]
  },
  {
   "cell_type": "code",
   "execution_count": 90,
   "metadata": {},
   "outputs": [
    {
     "data": {
      "text/plain": [
       "array([[0.5254, 0.4746]])"
      ]
     },
     "execution_count": 90,
     "metadata": {},
     "output_type": "execute_result"
    }
   ],
   "source": [
    "model.predict_proba(Xprev)"
   ]
  },
  {
   "cell_type": "code",
   "execution_count": 91,
   "metadata": {},
   "outputs": [
    {
     "data": {
      "text/plain": [
       "array([   0,    2,   45,    3,    3, 4746,    1,    1,    4,    3,    1,\n",
       "          2,    2,   24,    1,    2,    2,    2,    1,    1,    1])"
      ]
     },
     "execution_count": 91,
     "metadata": {},
     "output_type": "execute_result"
    }
   ],
   "source": [
    "df.loc[950,:].values"
   ]
  },
  {
   "cell_type": "code",
   "execution_count": 92,
   "metadata": {},
   "outputs": [
    {
     "data": {
      "text/plain": [
       "array([    2,    14,     3,     3, 12146,     1,     1,     4,     3,\n",
       "           1,     2,     2,    24,     1,     2,     2,     2,     1,\n",
       "           1,     1])"
      ]
     },
     "execution_count": 92,
     "metadata": {},
     "output_type": "execute_result"
    }
   ],
   "source": [
    "Xprev3 = np.array([2,   14,    3,    3, 12146,    1,    1,    4,    3,    1,\n",
    "          2,    2,   24,    1,    2,    2,    2,    1,    1,    1])\n",
    "Xprev3"
   ]
  },
  {
   "cell_type": "code",
   "execution_count": 93,
   "metadata": {},
   "outputs": [
    {
     "data": {
      "text/plain": [
       "array([[    2,    14,     3,     3, 12146,     1,     1,     4,     3,\n",
       "            1,     2,     2,    24,     1,     2,     2,     2,     1,\n",
       "            1,     1]])"
      ]
     },
     "execution_count": 93,
     "metadata": {},
     "output_type": "execute_result"
    }
   ],
   "source": [
    "Xprev3 = Xprev3.reshape(1, -1)\n",
    "Xprev3"
   ]
  },
  {
   "cell_type": "code",
   "execution_count": 94,
   "metadata": {},
   "outputs": [
    {
     "data": {
      "text/plain": [
       "array([0])"
      ]
     },
     "execution_count": 94,
     "metadata": {},
     "output_type": "execute_result"
    }
   ],
   "source": [
    "# aplicando o modelo de Regressão Logística\n",
    "model.predict(Xprev3)"
   ]
  },
  {
   "cell_type": "code",
   "execution_count": 95,
   "metadata": {},
   "outputs": [
    {
     "data": {
      "text/plain": [
       "array([[0.5481, 0.4519]])"
      ]
     },
     "execution_count": 95,
     "metadata": {},
     "output_type": "execute_result"
    }
   ],
   "source": [
    "model.predict_proba(Xprev3)"
   ]
  },
  {
   "cell_type": "markdown",
   "metadata": {},
   "source": [
    "# Métricas para Algorítmos de Classificação"
   ]
  },
  {
   "cell_type": "markdown",
   "metadata": {},
   "source": [
    "### carregando o dataset"
   ]
  },
  {
   "cell_type": "code",
   "execution_count": null,
   "metadata": {},
   "outputs": [],
   "source": [
    "from sklearn import model_selection\n",
    "from sklearn.linear_model import LogisticRegression\n",
    "import pandas as pd"
   ]
  },
  {
   "cell_type": "code",
   "execution_count": null,
   "metadata": {},
   "outputs": [],
   "source": [
    "df = pd.read_csv('credit_dataset_final.csv')\n",
    "print(len(df))\n",
    "df.head()"
   ]
  },
  {
   "cell_type": "code",
   "execution_count": 96,
   "metadata": {},
   "outputs": [
    {
     "data": {
      "text/html": [
       "<div>\n",
       "<style scoped>\n",
       "    .dataframe tbody tr th:only-of-type {\n",
       "        vertical-align: middle;\n",
       "    }\n",
       "\n",
       "    .dataframe tbody tr th {\n",
       "        vertical-align: top;\n",
       "    }\n",
       "\n",
       "    .dataframe thead th {\n",
       "        text-align: right;\n",
       "    }\n",
       "</style>\n",
       "<table border=\"1\" class=\"dataframe\">\n",
       "  <thead>\n",
       "    <tr style=\"text-align: right;\">\n",
       "      <th></th>\n",
       "      <th>credit.rating</th>\n",
       "      <th>account.balance</th>\n",
       "      <th>credit.duration.months</th>\n",
       "      <th>previous.credit.payment.status</th>\n",
       "      <th>credit.purpose</th>\n",
       "      <th>credit.amount</th>\n",
       "      <th>savings</th>\n",
       "      <th>employment.duration</th>\n",
       "      <th>installment.rate</th>\n",
       "      <th>marital.status</th>\n",
       "      <th>...</th>\n",
       "      <th>residence.duration</th>\n",
       "      <th>current.assets</th>\n",
       "      <th>age</th>\n",
       "      <th>other.credits</th>\n",
       "      <th>apartment.type</th>\n",
       "      <th>bank.credits</th>\n",
       "      <th>occupation</th>\n",
       "      <th>dependents</th>\n",
       "      <th>telephone</th>\n",
       "      <th>foreign.worker</th>\n",
       "    </tr>\n",
       "  </thead>\n",
       "  <tbody>\n",
       "    <tr>\n",
       "      <th>0</th>\n",
       "      <td>1</td>\n",
       "      <td>1</td>\n",
       "      <td>18</td>\n",
       "      <td>3</td>\n",
       "      <td>2</td>\n",
       "      <td>1049</td>\n",
       "      <td>1</td>\n",
       "      <td>1</td>\n",
       "      <td>4</td>\n",
       "      <td>1</td>\n",
       "      <td>...</td>\n",
       "      <td>4</td>\n",
       "      <td>2</td>\n",
       "      <td>21</td>\n",
       "      <td>2</td>\n",
       "      <td>1</td>\n",
       "      <td>1</td>\n",
       "      <td>3</td>\n",
       "      <td>1</td>\n",
       "      <td>1</td>\n",
       "      <td>1</td>\n",
       "    </tr>\n",
       "    <tr>\n",
       "      <th>1</th>\n",
       "      <td>1</td>\n",
       "      <td>1</td>\n",
       "      <td>9</td>\n",
       "      <td>3</td>\n",
       "      <td>4</td>\n",
       "      <td>2799</td>\n",
       "      <td>1</td>\n",
       "      <td>2</td>\n",
       "      <td>2</td>\n",
       "      <td>3</td>\n",
       "      <td>...</td>\n",
       "      <td>2</td>\n",
       "      <td>1</td>\n",
       "      <td>36</td>\n",
       "      <td>2</td>\n",
       "      <td>1</td>\n",
       "      <td>2</td>\n",
       "      <td>3</td>\n",
       "      <td>2</td>\n",
       "      <td>1</td>\n",
       "      <td>1</td>\n",
       "    </tr>\n",
       "    <tr>\n",
       "      <th>2</th>\n",
       "      <td>1</td>\n",
       "      <td>2</td>\n",
       "      <td>12</td>\n",
       "      <td>2</td>\n",
       "      <td>4</td>\n",
       "      <td>841</td>\n",
       "      <td>2</td>\n",
       "      <td>3</td>\n",
       "      <td>2</td>\n",
       "      <td>1</td>\n",
       "      <td>...</td>\n",
       "      <td>4</td>\n",
       "      <td>1</td>\n",
       "      <td>23</td>\n",
       "      <td>2</td>\n",
       "      <td>1</td>\n",
       "      <td>1</td>\n",
       "      <td>2</td>\n",
       "      <td>1</td>\n",
       "      <td>1</td>\n",
       "      <td>1</td>\n",
       "    </tr>\n",
       "    <tr>\n",
       "      <th>3</th>\n",
       "      <td>1</td>\n",
       "      <td>1</td>\n",
       "      <td>12</td>\n",
       "      <td>3</td>\n",
       "      <td>4</td>\n",
       "      <td>2122</td>\n",
       "      <td>1</td>\n",
       "      <td>2</td>\n",
       "      <td>3</td>\n",
       "      <td>3</td>\n",
       "      <td>...</td>\n",
       "      <td>2</td>\n",
       "      <td>1</td>\n",
       "      <td>39</td>\n",
       "      <td>2</td>\n",
       "      <td>1</td>\n",
       "      <td>2</td>\n",
       "      <td>2</td>\n",
       "      <td>2</td>\n",
       "      <td>1</td>\n",
       "      <td>2</td>\n",
       "    </tr>\n",
       "    <tr>\n",
       "      <th>4</th>\n",
       "      <td>1</td>\n",
       "      <td>1</td>\n",
       "      <td>12</td>\n",
       "      <td>3</td>\n",
       "      <td>4</td>\n",
       "      <td>2171</td>\n",
       "      <td>1</td>\n",
       "      <td>2</td>\n",
       "      <td>4</td>\n",
       "      <td>3</td>\n",
       "      <td>...</td>\n",
       "      <td>4</td>\n",
       "      <td>2</td>\n",
       "      <td>38</td>\n",
       "      <td>1</td>\n",
       "      <td>2</td>\n",
       "      <td>2</td>\n",
       "      <td>2</td>\n",
       "      <td>1</td>\n",
       "      <td>1</td>\n",
       "      <td>2</td>\n",
       "    </tr>\n",
       "  </tbody>\n",
       "</table>\n",
       "<p>5 rows × 21 columns</p>\n",
       "</div>"
      ],
      "text/plain": [
       "   credit.rating  account.balance  credit.duration.months  \\\n",
       "0              1                1                      18   \n",
       "1              1                1                       9   \n",
       "2              1                2                      12   \n",
       "3              1                1                      12   \n",
       "4              1                1                      12   \n",
       "\n",
       "   previous.credit.payment.status  credit.purpose  credit.amount  savings  \\\n",
       "0                               3               2           1049        1   \n",
       "1                               3               4           2799        1   \n",
       "2                               2               4            841        2   \n",
       "3                               3               4           2122        1   \n",
       "4                               3               4           2171        1   \n",
       "\n",
       "   employment.duration  installment.rate  marital.status  ...  \\\n",
       "0                    1                 4               1  ...   \n",
       "1                    2                 2               3  ...   \n",
       "2                    3                 2               1  ...   \n",
       "3                    2                 3               3  ...   \n",
       "4                    2                 4               3  ...   \n",
       "\n",
       "   residence.duration  current.assets  age  other.credits  apartment.type  \\\n",
       "0                   4               2   21              2               1   \n",
       "1                   2               1   36              2               1   \n",
       "2                   4               1   23              2               1   \n",
       "3                   2               1   39              2               1   \n",
       "4                   4               2   38              1               2   \n",
       "\n",
       "   bank.credits  occupation  dependents  telephone  foreign.worker  \n",
       "0             1           3           1          1               1  \n",
       "1             2           3           2          1               1  \n",
       "2             1           2           1          1               1  \n",
       "3             2           2           2          1               2  \n",
       "4             2           2           1          1               2  \n",
       "\n",
       "[5 rows x 21 columns]"
      ]
     },
     "execution_count": 96,
     "metadata": {},
     "output_type": "execute_result"
    }
   ],
   "source": [
    "X = df.iloc[:,1:].values.astype(float)\n",
    "y = Y =  df.iloc[:,0]\n",
    "\n",
    "# Definindo os valores para o número de folds\n",
    "num_folds = 10\n",
    "num_instances = len(X)\n",
    "seed = 7\n",
    "\n",
    "# Separando os dados em folds\n",
    "kfold = model_selection.KFold(num_folds) #, True, random_state = seed)\n",
    "\n",
    "# Criando o modelo\n",
    "\n",
    "solver = 'newton-cg'\n",
    "solver = 'lbfgs'\n",
    "modelo = LogisticRegression(max_iter=200, solver=solver)\n",
    "# max_iter = iterações realizadas para os otimizadores convergirem.\n",
    "# Solver = Otimizador\n",
    "\n",
    "{ 'max_iter': [100, 200, 300, 400],\n",
    "  'solve': ['newton-cg', 'sag']\n",
    "}\n",
    "\n",
    "df.head()"
   ]
  },
  {
   "cell_type": "markdown",
   "metadata": {},
   "source": [
    "## Acurácia\n",
    "Número de previsões corretas. <br />\n",
    "É útil apenas quando existe o mesmo número de observações em cada classe."
   ]
  },
  {
   "cell_type": "code",
   "execution_count": 97,
   "metadata": {},
   "outputs": [
    {
     "name": "stdout",
     "output_type": "stream",
     "text": [
      "Acurácia: 0.707 (0.231)\n"
     ]
    }
   ],
   "source": [
    "resultado = model_selection.cross_val_score(modelo, X, y, cv = kfold, scoring = 'accuracy')\n",
    "\n",
    "# Print dos resultados\n",
    "print(\"Acurácia: %.3f (%.3f)\" % (resultado.mean(), resultado.std()))"
   ]
  },
  {
   "cell_type": "markdown",
   "metadata": {},
   "source": [
    "## Confusion Matrix\n",
    "Permite verificar a acurácia de um modelo com duas ou mais classes"
   ]
  },
  {
   "cell_type": "code",
   "execution_count": 98,
   "metadata": {},
   "outputs": [
    {
     "name": "stdout",
     "output_type": "stream",
     "text": [
      "Matriz de Confusão\n"
     ]
    },
    {
     "data": {
      "image/png": "[encoded data removed]",
      "text/plain": [
       "<IPython.core.display.Image object>"
      ]
     },
     "execution_count": 98,
     "metadata": {},
     "output_type": "execute_result"
    }
   ],
   "source": [
    "from IPython.display import Image\n",
    "print(\"Matriz de Confusão\")\n",
    "Image(\"confusion_matrix.png\")"
   ]
  },
  {
   "cell_type": "code",
   "execution_count": 99,
   "metadata": {},
   "outputs": [
    {
     "name": "stdout",
     "output_type": "stream",
     "text": [
      "[[ 46  59]\n",
      " [ 15 210]]\n"
     ]
    }
   ],
   "source": [
    "from sklearn.metrics import confusion_matrix\n",
    "# Definindo o tamanho do conjunto de dados\n",
    "teste_size = 0.33\n",
    "seed = 7\n",
    "\n",
    "# Dividindo os dados em treino e teste\n",
    "X_treino, X_teste, Y_treino, Y_teste = model_selection.train_test_split(X, y, \n",
    "                                                                         test_size = teste_size, \n",
    "                                                                         random_state = seed)\n",
    "\n",
    "# Criando o modelo\n",
    "model = LogisticRegression()\n",
    "model.fit(X_treino, Y_treino)\n",
    "\n",
    "# Fazendo as previsões e construindo a Confusion Matrix\n",
    "previsoes = model.predict(X_teste)\n",
    "matrix = confusion_matrix(Y_teste, previsoes)\n",
    "\n",
    "\n",
    "#matrix = confusion_matrix(Y_teste, model.predict(X_teste))\n",
    "\n",
    "# Imprimindo a Confusion Matrix\n",
    "print(matrix)"
   ]
  },
  {
   "cell_type": "code",
   "execution_count": 100,
   "metadata": {},
   "outputs": [
    {
     "data": {
      "text/plain": [
       "(670, 330)"
      ]
     },
     "execution_count": 100,
     "metadata": {},
     "output_type": "execute_result"
    }
   ],
   "source": [
    "len(X_treino), len(Y_teste)"
   ]
  },
  {
   "cell_type": "code",
   "execution_count": 101,
   "metadata": {},
   "outputs": [
    {
     "data": {
      "text/plain": [
       "((330,), (670,))"
      ]
     },
     "execution_count": 101,
     "metadata": {},
     "output_type": "execute_result"
    }
   ],
   "source": [
    "Y_teste.shape, Y_treino.shape"
   ]
  },
  {
   "cell_type": "markdown",
   "metadata": {},
   "source": [
    "## Curva ROC "
   ]
  },
  {
   "cell_type": "markdown",
   "metadata": {},
   "source": [
    "![image](images/auc.png)"
   ]
  },
  {
   "cell_type": "markdown",
   "metadata": {},
   "source": [
    "### Curva ROC \n",
    "A Curva ROC permite analisar a métrica AUC (Area Under the Curve).<br />\n",
    "Essa é uma métrica de performance para classificação binária, em que podemos definir as classes \n",
    "em positivas e negativas. <br />\n",
    "Problemas de classificação binária são um trade-off sentre Sensitivity e Specifity. <br />\n",
    "Sensitivity é a taxa de verdadeiros positivos (TP). Esse é o número de instâncias positivas da primeira classe \n",
    "que foram previstas corretamente. <br />\n",
    "Specifity é a taxa de verdadeiros negativos (TN). Esse é o número de instâncias da segunda classe que foram \n",
    "previstas corretamente.<br />\n",
    "Valores acima de 0.5 indicam uma boa taxa de previsão."
   ]
  },
  {
   "cell_type": "code",
   "execution_count": 102,
   "metadata": {},
   "outputs": [
    {
     "name": "stdout",
     "output_type": "stream",
     "text": [
      "[0.8014 0.7527 0.6918]\n",
      "AUC: 0.749 (0.045)\n"
     ]
    }
   ],
   "source": [
    "# Definindo os valores para o número de folds\n",
    "num_folds = 3\n",
    "num_instances = len(X)\n",
    "seed = 7\n",
    "\n",
    "# Separando os dados em folds\n",
    "kfold = model_selection.KFold(num_folds) \n",
    "resultado = model_selection.cross_val_score(modelo, X, y, cv = kfold, scoring = 'roc_auc')\n",
    "\n",
    "# Print do resultado\n",
    "print(resultado)\n",
    "print(\"AUC: %.3f (%.3f)\" % (resultado.mean(), resultado.std()))"
   ]
  },
  {
   "cell_type": "code",
   "execution_count": 103,
   "metadata": {},
   "outputs": [
    {
     "data": {
      "image/png": "[encoded data removed]",
      "text/plain": [
       "<Figure size 720x432 with 1 Axes>"
      ]
     },
     "metadata": {},
     "output_type": "display_data"
    }
   ],
   "source": [
    "from sklearn import metrics\n",
    "\n",
    "modelo = LogisticRegression()\n",
    "modelo.fit(X,y)\n",
    "# calculate the fpr and tpr for all thresholds of the classification\n",
    "probs = modelo.predict_proba(X)\n",
    "preds = probs[:,1]\n",
    "fpr, tpr, threshold = metrics.roc_curve(y, preds)\n",
    "roc_auc = metrics.auc(fpr, tpr)\n",
    "\n",
    "# method I: plt\n",
    "import matplotlib.pyplot as plt\n",
    "plt.style.use('ggplot')\n",
    "plt.figure(figsize=(10,6))\n",
    "plt.title('Curva ROC - Receiver Operating Characteristic')\n",
    "plt.plot(fpr, tpr, 'b', label = 'AUC = %0.2f' % roc_auc)\n",
    "plt.legend(loc = 'lower right')\n",
    "plt.plot([0, 1], [0, 1],'r--')\n",
    "plt.xlim([0, 1])\n",
    "plt.ylim([0, 1])\n",
    "plt.ylabel('True Positive Rate')\n",
    "plt.xlabel('False Positive Rate')\n",
    "plt.show()"
   ]
  },
  {
   "cell_type": "markdown",
   "metadata": {},
   "source": [
    "# Logarithmic Loss"
   ]
  },
  {
   "cell_type": "markdown",
   "metadata": {},
   "source": [
    "![image](images/logloss.png)"
   ]
  },
  {
   "cell_type": "markdown",
   "metadata": {},
   "source": [
    "Onde: <br> \n",
    "$ y_i = valor \\space observado $ <br>\n",
    "$ p_i = probabilidade \\space prevista $"
   ]
  },
  {
   "cell_type": "markdown",
   "metadata": {},
   "source": [
    "![image](images/logloss02.png)"
   ]
  },
  {
   "cell_type": "markdown",
   "metadata": {},
   "source": [
    "![image](images/logloss03.png)"
   ]
  },
  {
   "cell_type": "markdown",
   "metadata": {},
   "source": [
    "## Logarithmic Loss\n",
    "Avalia as previsões de probabilidade de um membro pertencer a uma determinada classe.<br />\n",
    "Valores menores indicam boa performance, com 0 representando um perfeito logloss.<br /> \n",
    "A função cross_val_score() inverte o valor."
   ]
  },
  {
   "cell_type": "code",
   "execution_count": 104,
   "metadata": {},
   "outputs": [
    {
     "name": "stdout",
     "output_type": "stream",
     "text": [
      "[-0.4339 -0.5064 -1.8475]\n",
      "Logloss: -0.929 (0.650)\n"
     ]
    }
   ],
   "source": [
    "resultado = model_selection.cross_val_score(modelo, X, Y, cv = kfold, scoring = 'neg_log_loss')\n",
    "\n",
    "# Print do resultado\n",
    "print(resultado)\n",
    "print(\"Logloss: %.3f (%.3f)\" % (resultado.mean(), resultado.std()))"
   ]
  },
  {
   "cell_type": "markdown",
   "metadata": {},
   "source": [
    "## Relatório de Classificação"
   ]
  },
  {
   "cell_type": "markdown",
   "metadata": {},
   "source": [
    "Precision: Qual a proporção de instâncias classificadas como positivas, foram classificadas como corretas? <br />\n",
    "$\\text{Precision} = \\frac{TP}{TP+FP}$\n",
    "<br /><br />\n",
    "Recall: Qual a proporção de instâncias positivas, foram identificadas como corretas?<br />\n",
    "$\\text{Recall} = \\frac{TP}{TP+FN}$\n",
    "<br /><br />\n",
    "f1-score: f1-score combina as métricas de precision e recall<br /><br />\n",
    "$\\text{f1-score} = \\frac{2 * (precision * recall)}{(precision + recall)}$\n",
    "<br /><br />\n",
    "O f1-score pode ser interpretado com a média ponderada entre precision e recall,<br />\n",
    "onde o f1-score encontra seu melhor valor ao atingir 1, e seu pior valor ao atingir 0<br /><br />\n",
    "Support: Número de instâncias"
   ]
  },
  {
   "cell_type": "markdown",
   "metadata": {},
   "source": [
    "## Relatório de Classificação"
   ]
  },
  {
   "cell_type": "code",
   "execution_count": 105,
   "metadata": {},
   "outputs": [],
   "source": [
    "from sklearn import model_selection\n",
    "from sklearn.linear_model import LogisticRegression\n",
    "from sklearn.metrics import classification_report\n",
    "\n",
    "# Definindo o tamanho do conjunto de dados\n",
    "teste_size = 0.33\n",
    "seed = 7\n",
    "\n",
    "# Dividindo os dados em treino e teste\n",
    "X_treino, X_teste, Y_treino, Y_teste = model_selection.train_test_split(X, Y, \n",
    "                                                                         test_size = teste_size, \n",
    "                                                                         random_state = seed)\n",
    "\n",
    "# Criando o modelo\n",
    "modelo = LogisticRegression()\n",
    "modelo.fit(X_treino, Y_treino)\n",
    "\n",
    "# Fazendo as previsões e construindo o relatório\n",
    "previsoes = model.predict(X_teste)\n",
    "report = classification_report(Y_teste, previsoes)\n",
    "\n",
    "# Imprimindo o relatório\n",
    "#Image(\"confusion_matrix.png\", width=250, height=250)"
   ]
  },
  {
   "cell_type": "markdown",
   "metadata": {},
   "source": [
    "$\\text{Precision} = \\frac{TP}{TP+FP}$  $ | \\text{Recall} = \\frac{TP}{TP+FN}$"
   ]
  },
  {
   "cell_type": "code",
   "execution_count": 106,
   "metadata": {},
   "outputs": [
    {
     "name": "stdout",
     "output_type": "stream",
     "text": [
      "              precision    recall  f1-score   support\n",
      "\n",
      "           0       0.75      0.44      0.55       105\n",
      "           1       0.78      0.93      0.85       225\n",
      "\n",
      "    accuracy                           0.78       330\n",
      "   macro avg       0.77      0.69      0.70       330\n",
      "weighted avg       0.77      0.78      0.76       330\n",
      "\n",
      "matriz de confusão:\n",
      " [[ 46  59]\n",
      " [ 15 210]]\n"
     ]
    }
   ],
   "source": [
    "print(report);print('matriz de confusão:\\n', matrix) "
   ]
  },
  {
   "cell_type": "markdown",
   "metadata": {},
   "source": [
    "Recall: Qual a proporção de instâncias positivas, foram identificadas como corretas?"
   ]
  },
  {
   "cell_type": "markdown",
   "metadata": {},
   "source": [
    "Precision: Qual a proporção de instâncias classificadas como positivas, foram classificadas como corretas?"
   ]
  },
  {
   "cell_type": "markdown",
   "metadata": {},
   "source": [
    "----"
   ]
  },
  {
   "cell_type": "markdown",
   "metadata": {},
   "source": [
    "# Selecao de Atributos"
   ]
  },
  {
   "cell_type": "code",
   "execution_count": null,
   "metadata": {},
   "outputs": [],
   "source": [
    "df.head()"
   ]
  },
  {
   "cell_type": "code",
   "execution_count": 142,
   "metadata": {},
   "outputs": [],
   "source": [
    "y = df['credit.rating'].values\n",
    "X = df.drop('credit.rating', axis=1).to_numpy()"
   ]
  },
  {
   "cell_type": "code",
   "execution_count": 143,
   "metadata": {},
   "outputs": [
    {
     "name": "stdout",
     "output_type": "stream",
     "text": [
      "Num Features:  17\n",
      "['account.balance', 'credit.duration.months', 'previous.credit.payment.status', 'credit.purpose', 'credit.amount', 'savings', 'employment.duration', 'installment.rate', 'marital.status', 'guarantor', 'residence.duration', 'current.assets', 'age', 'other.credits', 'apartment.type', 'bank.credits', 'occupation', 'dependents', 'telephone', 'foreign.worker']\n",
      "Selected Features:  [ True  True  True  True  True  True  True  True  True  True  True  True\n",
      "  True  True  True False  True  True False False]\n",
      "Feature Ranking:  [1 1 1 1 1 1 1 1 1 1 1 1 1 1 1 2 1 1 3 4]\n"
     ]
    }
   ],
   "source": [
    "from sklearn.feature_selection import RFE\n",
    "from sklearn.ensemble import GradientBoostingClassifier\n",
    "\n",
    "\n",
    "num_atributos_relevantes = 17\n",
    "estimator = modelo = GradientBoostingClassifier()\n",
    "selector = RFE(estimator, n_features_to_select=num_atributos_relevantes, step=1)\n",
    "selector = selector.fit(X, y)\n",
    "\n",
    "print(\"Num Features: \", selector.n_features_)\n",
    "\n",
    "atributos = list(df.columns) \n",
    "atributos.remove('credit.rating')\n",
    "\n",
    "print(atributos)\n",
    "print(\"Selected Features: \", selector.support_)\n",
    "print(\"Feature Ranking: \", selector.ranking_)"
   ]
  },
  {
   "cell_type": "code",
   "execution_count": 144,
   "metadata": {},
   "outputs": [
    {
     "data": {
      "text/html": [
       "<div>\n",
       "<style scoped>\n",
       "    .dataframe tbody tr th:only-of-type {\n",
       "        vertical-align: middle;\n",
       "    }\n",
       "\n",
       "    .dataframe tbody tr th {\n",
       "        vertical-align: top;\n",
       "    }\n",
       "\n",
       "    .dataframe thead th {\n",
       "        text-align: right;\n",
       "    }\n",
       "</style>\n",
       "<table border=\"1\" class=\"dataframe\">\n",
       "  <thead>\n",
       "    <tr style=\"text-align: right;\">\n",
       "      <th></th>\n",
       "      <th>atributos</th>\n",
       "      <th>ranking</th>\n",
       "    </tr>\n",
       "  </thead>\n",
       "  <tbody>\n",
       "    <tr>\n",
       "      <th>0</th>\n",
       "      <td>account.balance</td>\n",
       "      <td>1</td>\n",
       "    </tr>\n",
       "    <tr>\n",
       "      <th>17</th>\n",
       "      <td>dependents</td>\n",
       "      <td>1</td>\n",
       "    </tr>\n",
       "    <tr>\n",
       "      <th>16</th>\n",
       "      <td>occupation</td>\n",
       "      <td>1</td>\n",
       "    </tr>\n",
       "    <tr>\n",
       "      <th>14</th>\n",
       "      <td>apartment.type</td>\n",
       "      <td>1</td>\n",
       "    </tr>\n",
       "    <tr>\n",
       "      <th>13</th>\n",
       "      <td>other.credits</td>\n",
       "      <td>1</td>\n",
       "    </tr>\n",
       "    <tr>\n",
       "      <th>12</th>\n",
       "      <td>age</td>\n",
       "      <td>1</td>\n",
       "    </tr>\n",
       "    <tr>\n",
       "      <th>11</th>\n",
       "      <td>current.assets</td>\n",
       "      <td>1</td>\n",
       "    </tr>\n",
       "    <tr>\n",
       "      <th>10</th>\n",
       "      <td>residence.duration</td>\n",
       "      <td>1</td>\n",
       "    </tr>\n",
       "    <tr>\n",
       "      <th>9</th>\n",
       "      <td>guarantor</td>\n",
       "      <td>1</td>\n",
       "    </tr>\n",
       "    <tr>\n",
       "      <th>7</th>\n",
       "      <td>installment.rate</td>\n",
       "      <td>1</td>\n",
       "    </tr>\n",
       "    <tr>\n",
       "      <th>6</th>\n",
       "      <td>employment.duration</td>\n",
       "      <td>1</td>\n",
       "    </tr>\n",
       "    <tr>\n",
       "      <th>5</th>\n",
       "      <td>savings</td>\n",
       "      <td>1</td>\n",
       "    </tr>\n",
       "    <tr>\n",
       "      <th>4</th>\n",
       "      <td>credit.amount</td>\n",
       "      <td>1</td>\n",
       "    </tr>\n",
       "    <tr>\n",
       "      <th>3</th>\n",
       "      <td>credit.purpose</td>\n",
       "      <td>1</td>\n",
       "    </tr>\n",
       "    <tr>\n",
       "      <th>2</th>\n",
       "      <td>previous.credit.payment.status</td>\n",
       "      <td>1</td>\n",
       "    </tr>\n",
       "    <tr>\n",
       "      <th>1</th>\n",
       "      <td>credit.duration.months</td>\n",
       "      <td>1</td>\n",
       "    </tr>\n",
       "    <tr>\n",
       "      <th>8</th>\n",
       "      <td>marital.status</td>\n",
       "      <td>1</td>\n",
       "    </tr>\n",
       "    <tr>\n",
       "      <th>15</th>\n",
       "      <td>bank.credits</td>\n",
       "      <td>2</td>\n",
       "    </tr>\n",
       "    <tr>\n",
       "      <th>18</th>\n",
       "      <td>telephone</td>\n",
       "      <td>3</td>\n",
       "    </tr>\n",
       "    <tr>\n",
       "      <th>19</th>\n",
       "      <td>foreign.worker</td>\n",
       "      <td>4</td>\n",
       "    </tr>\n",
       "  </tbody>\n",
       "</table>\n",
       "</div>"
      ],
      "text/plain": [
       "                         atributos  ranking\n",
       "0                  account.balance        1\n",
       "17                      dependents        1\n",
       "16                      occupation        1\n",
       "14                  apartment.type        1\n",
       "13                   other.credits        1\n",
       "12                             age        1\n",
       "11                  current.assets        1\n",
       "10              residence.duration        1\n",
       "9                        guarantor        1\n",
       "7                 installment.rate        1\n",
       "6              employment.duration        1\n",
       "5                          savings        1\n",
       "4                    credit.amount        1\n",
       "3                   credit.purpose        1\n",
       "2   previous.credit.payment.status        1\n",
       "1           credit.duration.months        1\n",
       "8                   marital.status        1\n",
       "15                    bank.credits        2\n",
       "18                       telephone        3\n",
       "19                  foreign.worker        4"
      ]
     },
     "execution_count": 144,
     "metadata": {},
     "output_type": "execute_result"
    }
   ],
   "source": [
    "dfranking = pd.DataFrame({ 'atributos': atributos, \n",
    "                         'ranking' : selector.ranking_, \n",
    "                          }) \n",
    "\n",
    "dfranking = dfranking.sort_values(by='ranking')\n",
    "dfranking"
   ]
  },
  {
   "cell_type": "code",
   "execution_count": 145,
   "metadata": {},
   "outputs": [
    {
     "data": {
      "text/plain": [
       "array([1, 2, 3])"
      ]
     },
     "execution_count": 145,
     "metadata": {},
     "output_type": "execute_result"
    }
   ],
   "source": [
    "df['account.balance'].unique()"
   ]
  },
  {
   "cell_type": "code",
   "execution_count": 146,
   "metadata": {},
   "outputs": [
    {
     "data": {
      "text/plain": [
       "['account.balance',\n",
       " 'dependents',\n",
       " 'occupation',\n",
       " 'apartment.type',\n",
       " 'other.credits',\n",
       " 'age',\n",
       " 'current.assets',\n",
       " 'residence.duration',\n",
       " 'guarantor',\n",
       " 'installment.rate',\n",
       " 'employment.duration',\n",
       " 'savings',\n",
       " 'credit.amount',\n",
       " 'credit.purpose',\n",
       " 'previous.credit.payment.status',\n",
       " 'credit.duration.months',\n",
       " 'marital.status']"
      ]
     },
     "execution_count": 146,
     "metadata": {},
     "output_type": "execute_result"
    }
   ],
   "source": [
    "atributos_selecionados = dfranking[ (dfranking.ranking == 1) ].atributos\n",
    "atributos_selecionados = list(atributos_selecionados)\n",
    "atributos_selecionados"
   ]
  },
  {
   "cell_type": "code",
   "execution_count": 147,
   "metadata": {},
   "outputs": [
    {
     "data": {
      "text/html": [
       "<div>\n",
       "<style scoped>\n",
       "    .dataframe tbody tr th:only-of-type {\n",
       "        vertical-align: middle;\n",
       "    }\n",
       "\n",
       "    .dataframe tbody tr th {\n",
       "        vertical-align: top;\n",
       "    }\n",
       "\n",
       "    .dataframe thead th {\n",
       "        text-align: right;\n",
       "    }\n",
       "</style>\n",
       "<table border=\"1\" class=\"dataframe\">\n",
       "  <thead>\n",
       "    <tr style=\"text-align: right;\">\n",
       "      <th></th>\n",
       "      <th>account.balance</th>\n",
       "      <th>dependents</th>\n",
       "      <th>occupation</th>\n",
       "      <th>apartment.type</th>\n",
       "      <th>other.credits</th>\n",
       "      <th>age</th>\n",
       "      <th>current.assets</th>\n",
       "      <th>residence.duration</th>\n",
       "      <th>guarantor</th>\n",
       "      <th>installment.rate</th>\n",
       "      <th>employment.duration</th>\n",
       "      <th>savings</th>\n",
       "      <th>credit.amount</th>\n",
       "      <th>credit.purpose</th>\n",
       "      <th>previous.credit.payment.status</th>\n",
       "      <th>credit.duration.months</th>\n",
       "      <th>marital.status</th>\n",
       "    </tr>\n",
       "  </thead>\n",
       "  <tbody>\n",
       "    <tr>\n",
       "      <th>0</th>\n",
       "      <td>1</td>\n",
       "      <td>1</td>\n",
       "      <td>3</td>\n",
       "      <td>1</td>\n",
       "      <td>2</td>\n",
       "      <td>21</td>\n",
       "      <td>2</td>\n",
       "      <td>4</td>\n",
       "      <td>1</td>\n",
       "      <td>4</td>\n",
       "      <td>1</td>\n",
       "      <td>1</td>\n",
       "      <td>1049</td>\n",
       "      <td>2</td>\n",
       "      <td>3</td>\n",
       "      <td>18</td>\n",
       "      <td>1</td>\n",
       "    </tr>\n",
       "    <tr>\n",
       "      <th>1</th>\n",
       "      <td>1</td>\n",
       "      <td>2</td>\n",
       "      <td>3</td>\n",
       "      <td>1</td>\n",
       "      <td>2</td>\n",
       "      <td>36</td>\n",
       "      <td>1</td>\n",
       "      <td>2</td>\n",
       "      <td>1</td>\n",
       "      <td>2</td>\n",
       "      <td>2</td>\n",
       "      <td>1</td>\n",
       "      <td>2799</td>\n",
       "      <td>4</td>\n",
       "      <td>3</td>\n",
       "      <td>9</td>\n",
       "      <td>3</td>\n",
       "    </tr>\n",
       "    <tr>\n",
       "      <th>2</th>\n",
       "      <td>2</td>\n",
       "      <td>1</td>\n",
       "      <td>2</td>\n",
       "      <td>1</td>\n",
       "      <td>2</td>\n",
       "      <td>23</td>\n",
       "      <td>1</td>\n",
       "      <td>4</td>\n",
       "      <td>1</td>\n",
       "      <td>2</td>\n",
       "      <td>3</td>\n",
       "      <td>2</td>\n",
       "      <td>841</td>\n",
       "      <td>4</td>\n",
       "      <td>2</td>\n",
       "      <td>12</td>\n",
       "      <td>1</td>\n",
       "    </tr>\n",
       "    <tr>\n",
       "      <th>3</th>\n",
       "      <td>1</td>\n",
       "      <td>2</td>\n",
       "      <td>2</td>\n",
       "      <td>1</td>\n",
       "      <td>2</td>\n",
       "      <td>39</td>\n",
       "      <td>1</td>\n",
       "      <td>2</td>\n",
       "      <td>1</td>\n",
       "      <td>3</td>\n",
       "      <td>2</td>\n",
       "      <td>1</td>\n",
       "      <td>2122</td>\n",
       "      <td>4</td>\n",
       "      <td>3</td>\n",
       "      <td>12</td>\n",
       "      <td>3</td>\n",
       "    </tr>\n",
       "    <tr>\n",
       "      <th>4</th>\n",
       "      <td>1</td>\n",
       "      <td>1</td>\n",
       "      <td>2</td>\n",
       "      <td>2</td>\n",
       "      <td>1</td>\n",
       "      <td>38</td>\n",
       "      <td>2</td>\n",
       "      <td>4</td>\n",
       "      <td>1</td>\n",
       "      <td>4</td>\n",
       "      <td>2</td>\n",
       "      <td>1</td>\n",
       "      <td>2171</td>\n",
       "      <td>4</td>\n",
       "      <td>3</td>\n",
       "      <td>12</td>\n",
       "      <td>3</td>\n",
       "    </tr>\n",
       "  </tbody>\n",
       "</table>\n",
       "</div>"
      ],
      "text/plain": [
       "   account.balance  dependents  occupation  apartment.type  other.credits  \\\n",
       "0                1           1           3               1              2   \n",
       "1                1           2           3               1              2   \n",
       "2                2           1           2               1              2   \n",
       "3                1           2           2               1              2   \n",
       "4                1           1           2               2              1   \n",
       "\n",
       "   age  current.assets  residence.duration  guarantor  installment.rate  \\\n",
       "0   21               2                   4          1                 4   \n",
       "1   36               1                   2          1                 2   \n",
       "2   23               1                   4          1                 2   \n",
       "3   39               1                   2          1                 3   \n",
       "4   38               2                   4          1                 4   \n",
       "\n",
       "   employment.duration  savings  credit.amount  credit.purpose  \\\n",
       "0                    1        1           1049               2   \n",
       "1                    2        1           2799               4   \n",
       "2                    3        2            841               4   \n",
       "3                    2        1           2122               4   \n",
       "4                    2        1           2171               4   \n",
       "\n",
       "   previous.credit.payment.status  credit.duration.months  marital.status  \n",
       "0                               3                      18               1  \n",
       "1                               3                       9               3  \n",
       "2                               2                      12               1  \n",
       "3                               3                      12               3  \n",
       "4                               3                      12               3  "
      ]
     },
     "execution_count": 147,
     "metadata": {},
     "output_type": "execute_result"
    }
   ],
   "source": [
    "df[atributos_selecionados].head()"
   ]
  },
  {
   "cell_type": "code",
   "execution_count": 148,
   "metadata": {},
   "outputs": [],
   "source": [
    "y = df['credit.rating'].values\n",
    "X = df[atributos_selecionados].to_numpy()"
   ]
  },
  {
   "cell_type": "code",
   "execution_count": 149,
   "metadata": {},
   "outputs": [
    {
     "name": "stdout",
     "output_type": "stream",
     "text": [
      "Acurácia: 0.600 (0.237)\n"
     ]
    }
   ],
   "source": [
    "resultado = model_selection.cross_val_score(modelo, X, y, cv = kfold, scoring = 'accuracy')\n",
    "\n",
    "# Print dos resultados\n",
    "print(\"Acurácia: %.3f (%.3f)\" % (resultado.mean(), resultado.std()))"
   ]
  },
  {
   "cell_type": "code",
   "execution_count": 138,
   "metadata": {},
   "outputs": [
    {
     "name": "stdout",
     "output_type": "stream",
     "text": [
      "[[ 46  59]\n",
      " [ 17 208]]\n"
     ]
    }
   ],
   "source": [
    "from sklearn.metrics import confusion_matrix\n",
    "# Definindo o tamanho do conjunto de dados\n",
    "teste_size = 0.33\n",
    "seed = 7\n",
    "\n",
    "# Dividindo os dados em treino e teste\n",
    "X_treino, X_teste, Y_treino, Y_teste = model_selection.train_test_split(X, y, \n",
    "                                                                         test_size = teste_size, \n",
    "                                                                         random_state = seed)\n",
    "\n",
    "# Criando o modelo\n",
    "model = LogisticRegression()\n",
    "model.fit(X_treino, Y_treino)\n",
    "\n",
    "# Fazendo as previsões e construindo a Confusion Matrix\n",
    "previsoes = model.predict(X_teste)\n",
    "matrix = confusion_matrix(Y_teste, previsoes)\n",
    "\n",
    "\n",
    "#matrix = confusion_matrix(Y_teste, model.predict(X_teste))\n",
    "\n",
    "# Imprimindo a Confusion Matrix\n",
    "print(matrix)"
   ]
  },
  {
   "cell_type": "code",
   "execution_count": null,
   "metadata": {},
   "outputs": [],
   "source": [
    "# Matriz de confusao com os todos os atributos20\n",
    "# [[ 46  59]\n",
    "#  [ 15 210]]"
   ]
  },
  {
   "cell_type": "code",
   "execution_count": 139,
   "metadata": {},
   "outputs": [
    {
     "data": {
      "text/html": [
       "<div>\n",
       "<style scoped>\n",
       "    .dataframe tbody tr th:only-of-type {\n",
       "        vertical-align: middle;\n",
       "    }\n",
       "\n",
       "    .dataframe tbody tr th {\n",
       "        vertical-align: top;\n",
       "    }\n",
       "\n",
       "    .dataframe thead th {\n",
       "        text-align: right;\n",
       "    }\n",
       "</style>\n",
       "<table border=\"1\" class=\"dataframe\">\n",
       "  <thead>\n",
       "    <tr style=\"text-align: right;\">\n",
       "      <th></th>\n",
       "      <th>atributos</th>\n",
       "      <th>ranking</th>\n",
       "    </tr>\n",
       "  </thead>\n",
       "  <tbody>\n",
       "    <tr>\n",
       "      <th>0</th>\n",
       "      <td>account.balance</td>\n",
       "      <td>1</td>\n",
       "    </tr>\n",
       "    <tr>\n",
       "      <th>17</th>\n",
       "      <td>dependents</td>\n",
       "      <td>1</td>\n",
       "    </tr>\n",
       "    <tr>\n",
       "      <th>16</th>\n",
       "      <td>occupation</td>\n",
       "      <td>1</td>\n",
       "    </tr>\n",
       "    <tr>\n",
       "      <th>15</th>\n",
       "      <td>bank.credits</td>\n",
       "      <td>1</td>\n",
       "    </tr>\n",
       "    <tr>\n",
       "      <th>14</th>\n",
       "      <td>apartment.type</td>\n",
       "      <td>1</td>\n",
       "    </tr>\n",
       "    <tr>\n",
       "      <th>13</th>\n",
       "      <td>other.credits</td>\n",
       "      <td>1</td>\n",
       "    </tr>\n",
       "    <tr>\n",
       "      <th>12</th>\n",
       "      <td>age</td>\n",
       "      <td>1</td>\n",
       "    </tr>\n",
       "    <tr>\n",
       "      <th>11</th>\n",
       "      <td>current.assets</td>\n",
       "      <td>1</td>\n",
       "    </tr>\n",
       "    <tr>\n",
       "      <th>10</th>\n",
       "      <td>residence.duration</td>\n",
       "      <td>1</td>\n",
       "    </tr>\n",
       "    <tr>\n",
       "      <th>9</th>\n",
       "      <td>guarantor</td>\n",
       "      <td>1</td>\n",
       "    </tr>\n",
       "    <tr>\n",
       "      <th>8</th>\n",
       "      <td>marital.status</td>\n",
       "      <td>1</td>\n",
       "    </tr>\n",
       "    <tr>\n",
       "      <th>7</th>\n",
       "      <td>installment.rate</td>\n",
       "      <td>1</td>\n",
       "    </tr>\n",
       "    <tr>\n",
       "      <th>6</th>\n",
       "      <td>employment.duration</td>\n",
       "      <td>1</td>\n",
       "    </tr>\n",
       "    <tr>\n",
       "      <th>5</th>\n",
       "      <td>savings</td>\n",
       "      <td>1</td>\n",
       "    </tr>\n",
       "    <tr>\n",
       "      <th>4</th>\n",
       "      <td>credit.amount</td>\n",
       "      <td>1</td>\n",
       "    </tr>\n",
       "    <tr>\n",
       "      <th>3</th>\n",
       "      <td>credit.purpose</td>\n",
       "      <td>1</td>\n",
       "    </tr>\n",
       "    <tr>\n",
       "      <th>2</th>\n",
       "      <td>previous.credit.payment.status</td>\n",
       "      <td>1</td>\n",
       "    </tr>\n",
       "    <tr>\n",
       "      <th>1</th>\n",
       "      <td>credit.duration.months</td>\n",
       "      <td>1</td>\n",
       "    </tr>\n",
       "  </tbody>\n",
       "</table>\n",
       "</div>"
      ],
      "text/plain": [
       "                         atributos  ranking\n",
       "0                  account.balance        1\n",
       "17                      dependents        1\n",
       "16                      occupation        1\n",
       "15                    bank.credits        1\n",
       "14                  apartment.type        1\n",
       "13                   other.credits        1\n",
       "12                             age        1\n",
       "11                  current.assets        1\n",
       "10              residence.duration        1\n",
       "9                        guarantor        1\n",
       "8                   marital.status        1\n",
       "7                 installment.rate        1\n",
       "6              employment.duration        1\n",
       "5                          savings        1\n",
       "4                    credit.amount        1\n",
       "3                   credit.purpose        1\n",
       "2   previous.credit.payment.status        1\n",
       "1           credit.duration.months        1"
      ]
     },
     "execution_count": 139,
     "metadata": {},
     "output_type": "execute_result"
    }
   ],
   "source": [
    "df1 = dfranking[ dfranking.ranking == 1 ]\n",
    "df1"
   ]
  },
  {
   "cell_type": "code",
   "execution_count": 140,
   "metadata": {},
   "outputs": [
    {
     "data": {
      "text/plain": [
       "['account.balance',\n",
       " 'dependents',\n",
       " 'occupation',\n",
       " 'bank.credits',\n",
       " 'apartment.type',\n",
       " 'other.credits',\n",
       " 'age',\n",
       " 'current.assets',\n",
       " 'residence.duration',\n",
       " 'guarantor',\n",
       " 'marital.status',\n",
       " 'installment.rate',\n",
       " 'employment.duration',\n",
       " 'savings',\n",
       " 'credit.amount',\n",
       " 'credit.purpose',\n",
       " 'previous.credit.payment.status',\n",
       " 'credit.duration.months']"
      ]
     },
     "execution_count": 140,
     "metadata": {},
     "output_type": "execute_result"
    }
   ],
   "source": [
    "atributos_ranking = list(df1.atributos.values)\n",
    "atributos_ranking"
   ]
  },
  {
   "cell_type": "code",
   "execution_count": 141,
   "metadata": {},
   "outputs": [
    {
     "data": {
      "text/html": [
       "<div>\n",
       "<style scoped>\n",
       "    .dataframe tbody tr th:only-of-type {\n",
       "        vertical-align: middle;\n",
       "    }\n",
       "\n",
       "    .dataframe tbody tr th {\n",
       "        vertical-align: top;\n",
       "    }\n",
       "\n",
       "    .dataframe thead th {\n",
       "        text-align: right;\n",
       "    }\n",
       "</style>\n",
       "<table border=\"1\" class=\"dataframe\">\n",
       "  <thead>\n",
       "    <tr style=\"text-align: right;\">\n",
       "      <th></th>\n",
       "      <th>credit.rating</th>\n",
       "      <th>account.balance</th>\n",
       "      <th>credit.duration.months</th>\n",
       "      <th>previous.credit.payment.status</th>\n",
       "      <th>credit.purpose</th>\n",
       "      <th>credit.amount</th>\n",
       "      <th>savings</th>\n",
       "      <th>employment.duration</th>\n",
       "      <th>installment.rate</th>\n",
       "      <th>marital.status</th>\n",
       "      <th>...</th>\n",
       "      <th>residence.duration</th>\n",
       "      <th>current.assets</th>\n",
       "      <th>age</th>\n",
       "      <th>other.credits</th>\n",
       "      <th>apartment.type</th>\n",
       "      <th>bank.credits</th>\n",
       "      <th>occupation</th>\n",
       "      <th>dependents</th>\n",
       "      <th>telephone</th>\n",
       "      <th>foreign.worker</th>\n",
       "    </tr>\n",
       "  </thead>\n",
       "  <tbody>\n",
       "    <tr>\n",
       "      <th>0</th>\n",
       "      <td>1</td>\n",
       "      <td>1</td>\n",
       "      <td>18</td>\n",
       "      <td>3</td>\n",
       "      <td>2</td>\n",
       "      <td>1049</td>\n",
       "      <td>1</td>\n",
       "      <td>1</td>\n",
       "      <td>4</td>\n",
       "      <td>1</td>\n",
       "      <td>...</td>\n",
       "      <td>4</td>\n",
       "      <td>2</td>\n",
       "      <td>21</td>\n",
       "      <td>2</td>\n",
       "      <td>1</td>\n",
       "      <td>1</td>\n",
       "      <td>3</td>\n",
       "      <td>1</td>\n",
       "      <td>1</td>\n",
       "      <td>1</td>\n",
       "    </tr>\n",
       "    <tr>\n",
       "      <th>1</th>\n",
       "      <td>1</td>\n",
       "      <td>1</td>\n",
       "      <td>9</td>\n",
       "      <td>3</td>\n",
       "      <td>4</td>\n",
       "      <td>2799</td>\n",
       "      <td>1</td>\n",
       "      <td>2</td>\n",
       "      <td>2</td>\n",
       "      <td>3</td>\n",
       "      <td>...</td>\n",
       "      <td>2</td>\n",
       "      <td>1</td>\n",
       "      <td>36</td>\n",
       "      <td>2</td>\n",
       "      <td>1</td>\n",
       "      <td>2</td>\n",
       "      <td>3</td>\n",
       "      <td>2</td>\n",
       "      <td>1</td>\n",
       "      <td>1</td>\n",
       "    </tr>\n",
       "    <tr>\n",
       "      <th>2</th>\n",
       "      <td>1</td>\n",
       "      <td>2</td>\n",
       "      <td>12</td>\n",
       "      <td>2</td>\n",
       "      <td>4</td>\n",
       "      <td>841</td>\n",
       "      <td>2</td>\n",
       "      <td>3</td>\n",
       "      <td>2</td>\n",
       "      <td>1</td>\n",
       "      <td>...</td>\n",
       "      <td>4</td>\n",
       "      <td>1</td>\n",
       "      <td>23</td>\n",
       "      <td>2</td>\n",
       "      <td>1</td>\n",
       "      <td>1</td>\n",
       "      <td>2</td>\n",
       "      <td>1</td>\n",
       "      <td>1</td>\n",
       "      <td>1</td>\n",
       "    </tr>\n",
       "    <tr>\n",
       "      <th>3</th>\n",
       "      <td>1</td>\n",
       "      <td>1</td>\n",
       "      <td>12</td>\n",
       "      <td>3</td>\n",
       "      <td>4</td>\n",
       "      <td>2122</td>\n",
       "      <td>1</td>\n",
       "      <td>2</td>\n",
       "      <td>3</td>\n",
       "      <td>3</td>\n",
       "      <td>...</td>\n",
       "      <td>2</td>\n",
       "      <td>1</td>\n",
       "      <td>39</td>\n",
       "      <td>2</td>\n",
       "      <td>1</td>\n",
       "      <td>2</td>\n",
       "      <td>2</td>\n",
       "      <td>2</td>\n",
       "      <td>1</td>\n",
       "      <td>2</td>\n",
       "    </tr>\n",
       "    <tr>\n",
       "      <th>4</th>\n",
       "      <td>1</td>\n",
       "      <td>1</td>\n",
       "      <td>12</td>\n",
       "      <td>3</td>\n",
       "      <td>4</td>\n",
       "      <td>2171</td>\n",
       "      <td>1</td>\n",
       "      <td>2</td>\n",
       "      <td>4</td>\n",
       "      <td>3</td>\n",
       "      <td>...</td>\n",
       "      <td>4</td>\n",
       "      <td>2</td>\n",
       "      <td>38</td>\n",
       "      <td>1</td>\n",
       "      <td>2</td>\n",
       "      <td>2</td>\n",
       "      <td>2</td>\n",
       "      <td>1</td>\n",
       "      <td>1</td>\n",
       "      <td>2</td>\n",
       "    </tr>\n",
       "  </tbody>\n",
       "</table>\n",
       "<p>5 rows × 21 columns</p>\n",
       "</div>"
      ],
      "text/plain": [
       "   credit.rating  account.balance  credit.duration.months  \\\n",
       "0              1                1                      18   \n",
       "1              1                1                       9   \n",
       "2              1                2                      12   \n",
       "3              1                1                      12   \n",
       "4              1                1                      12   \n",
       "\n",
       "   previous.credit.payment.status  credit.purpose  credit.amount  savings  \\\n",
       "0                               3               2           1049        1   \n",
       "1                               3               4           2799        1   \n",
       "2                               2               4            841        2   \n",
       "3                               3               4           2122        1   \n",
       "4                               3               4           2171        1   \n",
       "\n",
       "   employment.duration  installment.rate  marital.status  ...  \\\n",
       "0                    1                 4               1  ...   \n",
       "1                    2                 2               3  ...   \n",
       "2                    3                 2               1  ...   \n",
       "3                    2                 3               3  ...   \n",
       "4                    2                 4               3  ...   \n",
       "\n",
       "   residence.duration  current.assets  age  other.credits  apartment.type  \\\n",
       "0                   4               2   21              2               1   \n",
       "1                   2               1   36              2               1   \n",
       "2                   4               1   23              2               1   \n",
       "3                   2               1   39              2               1   \n",
       "4                   4               2   38              1               2   \n",
       "\n",
       "   bank.credits  occupation  dependents  telephone  foreign.worker  \n",
       "0             1           3           1          1               1  \n",
       "1             2           3           2          1               1  \n",
       "2             1           2           1          1               1  \n",
       "3             2           2           2          1               2  \n",
       "4             2           2           1          1               2  \n",
       "\n",
       "[5 rows x 21 columns]"
      ]
     },
     "execution_count": 141,
     "metadata": {},
     "output_type": "execute_result"
    }
   ],
   "source": [
    "df.head()"
   ]
  },
  {
   "cell_type": "code",
   "execution_count": null,
   "metadata": {},
   "outputs": [],
   "source": []
  }
 ],
 "metadata": {
  "kernelspec": {
   "display_name": "Python 3 (ipykernel)",
   "language": "python",
   "name": "python3"
  },
  "language_info": {
   "codemirror_mode": {
    "name": "ipython",
    "version": 3
   },
   "file_extension": ".py",
   "mimetype": "text/x-python",
   "name": "python",
   "nbconvert_exporter": "python",
   "pygments_lexer": "ipython3",
   "version": "3.9.12"
  }
 },
 "nbformat": 4,
 "nbformat_minor": 2
}
