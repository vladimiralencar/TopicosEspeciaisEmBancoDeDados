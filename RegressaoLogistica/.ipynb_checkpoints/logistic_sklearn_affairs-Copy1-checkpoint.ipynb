version https://git-lfs.github.com/spec/v1
oid sha256:d7499b23d5cc90cbd25d8237f64aa228080f249f1c9419be7f4eac11a3b09d12
size 16717
