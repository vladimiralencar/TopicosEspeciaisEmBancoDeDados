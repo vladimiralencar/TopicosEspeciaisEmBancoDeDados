{
 "cells": [
  {
   "cell_type": "markdown",
   "metadata": {},
   "source": [
    "# Regressão Logística"
   ]
  },
  {
   "cell_type": "markdown",
   "metadata": {},
   "source": [
    "## Previsão e Detecção de Risco de Crédito"
   ]
  },
  {
   "cell_type": "markdown",
   "metadata": {},
   "source": [
    "![title](images/riscos-de-credito.jpeg)"
   ]
  },
  {
   "cell_type": "markdown",
   "metadata": {},
   "source": [
    "Variável target ou classe:<br />\n",
    "credit.rating # classificação_crédito <br />\n",
    "1 - concedeu crédito<br />\n",
    "0 - não concedeu crédito"
   ]
  },
  {
   "cell_type": "code",
   "execution_count": 1,
   "metadata": {},
   "outputs": [],
   "source": [
    "import warnings\n",
    "warnings.filterwarnings('ignore')\n",
    "\n",
    "import pandas as pd\n",
    "import numpy as np\n",
    "\n",
    "import matplotlib.pyplot as plt\n",
    "import matplotlib as mpl\n",
    "\n",
    "from sklearn.linear_model import LogisticRegression\n",
    "\n",
    "from sklearn import metrics\n",
    "from sklearn.metrics import confusion_matrix\n",
    "#from sklearn.cross_validation import cross_val_score\n",
    "from sklearn.model_selection import train_test_split\n",
    "from sklearn.preprocessing import StandardScaler\n",
    "%matplotlib inline "
   ]
  },
  {
   "cell_type": "code",
   "execution_count": 2,
   "metadata": {},
   "outputs": [
    {
     "name": "stdout",
     "output_type": "stream",
     "text": [
      "['classificação_crédito', 'conta.saldo', 'crédito.duração.meses', 'pagamento.crédito.anterior.status', 'crédito.propósito', 'crédito.valor', 'poupança', 'duração.emprego', 'taxa.parcelamento', 'estado_civil', 'fiador', 'residência.duração', 'ativos.atual', 'idade', 'outros.créditos', 'apartamento.tipo', 'banco.crédito', 'ocupação', 'dependentes', 'telefone', 'trabalhador_estrangeiro']\n"
     ]
    }
   ],
   "source": [
    "atributos_pt = [ 'classificação_crédito',  'conta.saldo', 'crédito.duração.meses', 'pagamento.crédito.anterior.status', 'crédito.propósito',\n",
    "                 'crédito.valor', 'poupança', 'duração.emprego', 'taxa.parcelamento', 'estado_civil', 'fiador', 'residência.duração', \n",
    "                 'ativos.atual', 'idade', 'outros.créditos', 'apartamento.tipo', 'banco.crédito', 'ocupação',\n",
    "                'dependentes', 'telefone', 'trabalhador_estrangeiro'\n",
    "]\n",
    "print(atributos_pt)"
   ]
  },
  {
   "cell_type": "code",
   "execution_count": 3,
   "metadata": {},
   "outputs": [],
   "source": [
    "pd.set_option('display.max_columns', None)"
   ]
  },
  {
   "cell_type": "code",
   "execution_count": 4,
   "metadata": {},
   "outputs": [
    {
     "name": "stdout",
     "output_type": "stream",
     "text": [
      "(1000, 21)\n"
     ]
    },
    {
     "data": {
      "text/html": [
       "<div>\n",
       "<style scoped>\n",
       "    .dataframe tbody tr th:only-of-type {\n",
       "        vertical-align: middle;\n",
       "    }\n",
       "\n",
       "    .dataframe tbody tr th {\n",
       "        vertical-align: top;\n",
       "    }\n",
       "\n",
       "    .dataframe thead th {\n",
       "        text-align: right;\n",
       "    }\n",
       "</style>\n",
       "<table border=\"1\" class=\"dataframe\">\n",
       "  <thead>\n",
       "    <tr style=\"text-align: right;\">\n",
       "      <th></th>\n",
       "      <th>classificação_crédito</th>\n",
       "      <th>conta.saldo</th>\n",
       "      <th>crédito.duração.meses</th>\n",
       "      <th>pagamento.crédito.anterior.status</th>\n",
       "      <th>crédito.propósito</th>\n",
       "      <th>crédito.valor</th>\n",
       "      <th>poupança</th>\n",
       "      <th>duração.emprego</th>\n",
       "      <th>taxa.parcelamento</th>\n",
       "      <th>estado_civil</th>\n",
       "      <th>fiador</th>\n",
       "      <th>residência.duração</th>\n",
       "      <th>ativos.atual</th>\n",
       "      <th>idade</th>\n",
       "      <th>outros.créditos</th>\n",
       "      <th>apartamento.tipo</th>\n",
       "      <th>banco.crédito</th>\n",
       "      <th>ocupação</th>\n",
       "      <th>dependentes</th>\n",
       "      <th>telefone</th>\n",
       "      <th>trabalhador_estrangeiro</th>\n",
       "    </tr>\n",
       "  </thead>\n",
       "  <tbody>\n",
       "    <tr>\n",
       "      <th>0</th>\n",
       "      <td>1</td>\n",
       "      <td>1</td>\n",
       "      <td>18</td>\n",
       "      <td>3</td>\n",
       "      <td>2</td>\n",
       "      <td>1049</td>\n",
       "      <td>1</td>\n",
       "      <td>1</td>\n",
       "      <td>4</td>\n",
       "      <td>1</td>\n",
       "      <td>1</td>\n",
       "      <td>4</td>\n",
       "      <td>2</td>\n",
       "      <td>21</td>\n",
       "      <td>2</td>\n",
       "      <td>1</td>\n",
       "      <td>1</td>\n",
       "      <td>3</td>\n",
       "      <td>1</td>\n",
       "      <td>1</td>\n",
       "      <td>1</td>\n",
       "    </tr>\n",
       "    <tr>\n",
       "      <th>1</th>\n",
       "      <td>1</td>\n",
       "      <td>1</td>\n",
       "      <td>9</td>\n",
       "      <td>3</td>\n",
       "      <td>4</td>\n",
       "      <td>2799</td>\n",
       "      <td>1</td>\n",
       "      <td>2</td>\n",
       "      <td>2</td>\n",
       "      <td>3</td>\n",
       "      <td>1</td>\n",
       "      <td>2</td>\n",
       "      <td>1</td>\n",
       "      <td>36</td>\n",
       "      <td>2</td>\n",
       "      <td>1</td>\n",
       "      <td>2</td>\n",
       "      <td>3</td>\n",
       "      <td>2</td>\n",
       "      <td>1</td>\n",
       "      <td>1</td>\n",
       "    </tr>\n",
       "    <tr>\n",
       "      <th>2</th>\n",
       "      <td>1</td>\n",
       "      <td>2</td>\n",
       "      <td>12</td>\n",
       "      <td>2</td>\n",
       "      <td>4</td>\n",
       "      <td>841</td>\n",
       "      <td>2</td>\n",
       "      <td>3</td>\n",
       "      <td>2</td>\n",
       "      <td>1</td>\n",
       "      <td>1</td>\n",
       "      <td>4</td>\n",
       "      <td>1</td>\n",
       "      <td>23</td>\n",
       "      <td>2</td>\n",
       "      <td>1</td>\n",
       "      <td>1</td>\n",
       "      <td>2</td>\n",
       "      <td>1</td>\n",
       "      <td>1</td>\n",
       "      <td>1</td>\n",
       "    </tr>\n",
       "    <tr>\n",
       "      <th>3</th>\n",
       "      <td>1</td>\n",
       "      <td>1</td>\n",
       "      <td>12</td>\n",
       "      <td>3</td>\n",
       "      <td>4</td>\n",
       "      <td>2122</td>\n",
       "      <td>1</td>\n",
       "      <td>2</td>\n",
       "      <td>3</td>\n",
       "      <td>3</td>\n",
       "      <td>1</td>\n",
       "      <td>2</td>\n",
       "      <td>1</td>\n",
       "      <td>39</td>\n",
       "      <td>2</td>\n",
       "      <td>1</td>\n",
       "      <td>2</td>\n",
       "      <td>2</td>\n",
       "      <td>2</td>\n",
       "      <td>1</td>\n",
       "      <td>2</td>\n",
       "    </tr>\n",
       "    <tr>\n",
       "      <th>4</th>\n",
       "      <td>1</td>\n",
       "      <td>1</td>\n",
       "      <td>12</td>\n",
       "      <td>3</td>\n",
       "      <td>4</td>\n",
       "      <td>2171</td>\n",
       "      <td>1</td>\n",
       "      <td>2</td>\n",
       "      <td>4</td>\n",
       "      <td>3</td>\n",
       "      <td>1</td>\n",
       "      <td>4</td>\n",
       "      <td>2</td>\n",
       "      <td>38</td>\n",
       "      <td>1</td>\n",
       "      <td>2</td>\n",
       "      <td>2</td>\n",
       "      <td>2</td>\n",
       "      <td>1</td>\n",
       "      <td>1</td>\n",
       "      <td>2</td>\n",
       "    </tr>\n",
       "  </tbody>\n",
       "</table>\n",
       "</div>"
      ],
      "text/plain": [
       "   classificação_crédito  conta.saldo  crédito.duração.meses  \\\n",
       "0                      1            1                     18   \n",
       "1                      1            1                      9   \n",
       "2                      1            2                     12   \n",
       "3                      1            1                     12   \n",
       "4                      1            1                     12   \n",
       "\n",
       "   pagamento.crédito.anterior.status  crédito.propósito  crédito.valor  \\\n",
       "0                                  3                  2           1049   \n",
       "1                                  3                  4           2799   \n",
       "2                                  2                  4            841   \n",
       "3                                  3                  4           2122   \n",
       "4                                  3                  4           2171   \n",
       "\n",
       "   poupança  duração.emprego  taxa.parcelamento  estado_civil  fiador  \\\n",
       "0         1                1                  4             1       1   \n",
       "1         1                2                  2             3       1   \n",
       "2         2                3                  2             1       1   \n",
       "3         1                2                  3             3       1   \n",
       "4         1                2                  4             3       1   \n",
       "\n",
       "   residência.duração  ativos.atual  idade  outros.créditos  apartamento.tipo  \\\n",
       "0                   4             2     21                2                 1   \n",
       "1                   2             1     36                2                 1   \n",
       "2                   4             1     23                2                 1   \n",
       "3                   2             1     39                2                 1   \n",
       "4                   4             2     38                1                 2   \n",
       "\n",
       "   banco.crédito  ocupação  dependentes  telefone  trabalhador_estrangeiro  \n",
       "0              1         3            1         1                        1  \n",
       "1              2         3            2         1                        1  \n",
       "2              1         2            1         1                        1  \n",
       "3              2         2            2         1                        2  \n",
       "4              2         2            1         1                        2  "
      ]
     },
     "execution_count": 4,
     "metadata": {},
     "output_type": "execute_result"
    }
   ],
   "source": [
    "df = pd.read_csv('credit_dataset_final.csv')\n",
    "df.columns = atributos_pt\n",
    "print(df.shape)\n",
    "df.head()"
   ]
  },
  {
   "cell_type": "code",
   "execution_count": 5,
   "metadata": {},
   "outputs": [
    {
     "data": {
      "text/plain": [
       "crédito.propósito\n",
       "3    364\n",
       "4    352\n",
       "2    181\n",
       "1    103\n",
       "Name: count, dtype: int64"
      ]
     },
     "execution_count": 5,
     "metadata": {},
     "output_type": "execute_result"
    }
   ],
   "source": [
    "df['crédito.propósito'].value_counts()"
   ]
  },
  {
   "cell_type": "code",
   "execution_count": 6,
   "metadata": {},
   "outputs": [
    {
     "data": {
      "text/plain": [
       "array([3, 2, 1, 4])"
      ]
     },
     "execution_count": 6,
     "metadata": {},
     "output_type": "execute_result"
    }
   ],
   "source": [
    "df['ocupação'].unique()"
   ]
  },
  {
   "cell_type": "code",
   "execution_count": 7,
   "metadata": {},
   "outputs": [
    {
     "data": {
      "text/plain": [
       "classificação_crédito\n",
       "1    700\n",
       "0    300\n",
       "Name: count, dtype: int64"
      ]
     },
     "execution_count": 7,
     "metadata": {},
     "output_type": "execute_result"
    }
   ],
   "source": [
    "df['classificação_crédito'].value_counts()"
   ]
  },
  {
   "cell_type": "markdown",
   "metadata": {},
   "source": [
    "Variável target ou classe:<br />\n",
    "credit.rating - classificação de crédito<br />\n",
    "1 - concedeu crédito<br />\n",
    "0 - não concedeu crédito"
   ]
  },
  {
   "cell_type": "code",
   "execution_count": 8,
   "metadata": {},
   "outputs": [
    {
     "data": {
      "text/plain": [
       "Index(['conta.saldo', 'crédito.duração.meses',\n",
       "       'pagamento.crédito.anterior.status', 'crédito.propósito',\n",
       "       'crédito.valor', 'poupança', 'duração.emprego', 'taxa.parcelamento',\n",
       "       'estado_civil', 'fiador', 'residência.duração', 'ativos.atual', 'idade',\n",
       "       'outros.créditos', 'apartamento.tipo', 'banco.crédito', 'ocupação',\n",
       "       'dependentes', 'telefone', 'trabalhador_estrangeiro'],\n",
       "      dtype='object')"
      ]
     },
     "execution_count": 8,
     "metadata": {},
     "output_type": "execute_result"
    }
   ],
   "source": [
    "df.columns[1:]"
   ]
  },
  {
   "cell_type": "code",
   "execution_count": 9,
   "metadata": {},
   "outputs": [
    {
     "data": {
      "text/plain": [
       "20"
      ]
     },
     "execution_count": 9,
     "metadata": {},
     "output_type": "execute_result"
    }
   ],
   "source": [
    "len(df.columns[1:])"
   ]
  },
  {
   "cell_type": "code",
   "execution_count": 10,
   "metadata": {},
   "outputs": [
    {
     "data": {
      "text/plain": [
       "1000"
      ]
     },
     "execution_count": 10,
     "metadata": {},
     "output_type": "execute_result"
    }
   ],
   "source": [
    "len(df)"
   ]
  },
  {
   "cell_type": "markdown",
   "metadata": {},
   "source": [
    "## Análise Exploratória"
   ]
  },
  {
   "cell_type": "code",
   "execution_count": 11,
   "metadata": {},
   "outputs": [
    {
     "name": "stdout",
     "output_type": "stream",
     "text": [
      "['classificação_crédito', 'conta.saldo', 'crédito.duração.meses', 'pagamento.crédito.anterior.status', 'crédito.propósito', 'crédito.valor', 'poupança', 'duração.emprego', 'taxa.parcelamento', 'estado_civil', 'fiador', 'residência.duração', 'ativos.atual', 'idade', 'outros.créditos', 'apartamento.tipo', 'banco.crédito', 'ocupação', 'dependentes', 'telefone', 'trabalhador_estrangeiro']\n"
     ]
    }
   ],
   "source": [
    "print(atributos_pt)"
   ]
  },
  {
   "cell_type": "code",
   "execution_count": 12,
   "metadata": {},
   "outputs": [
    {
     "data": {
      "text/plain": [
       "classificação_crédito\n",
       "1    700\n",
       "0    300\n",
       "Name: count, dtype: int64"
      ]
     },
     "execution_count": 12,
     "metadata": {},
     "output_type": "execute_result"
    }
   ],
   "source": [
    "# variavél target ou classe - class\n",
    "df['classificação_crédito'].value_counts() # classificação de crédito"
   ]
  },
  {
   "cell_type": "code",
   "execution_count": 13,
   "metadata": {},
   "outputs": [
    {
     "data": {
      "text/html": [
       "<div>\n",
       "<style scoped>\n",
       "    .dataframe tbody tr th:only-of-type {\n",
       "        vertical-align: middle;\n",
       "    }\n",
       "\n",
       "    .dataframe tbody tr th {\n",
       "        vertical-align: top;\n",
       "    }\n",
       "\n",
       "    .dataframe thead th {\n",
       "        text-align: right;\n",
       "    }\n",
       "</style>\n",
       "<table border=\"1\" class=\"dataframe\">\n",
       "  <thead>\n",
       "    <tr style=\"text-align: right;\">\n",
       "      <th></th>\n",
       "      <th>count</th>\n",
       "      <th>mean</th>\n",
       "      <th>std</th>\n",
       "      <th>min</th>\n",
       "      <th>25%</th>\n",
       "      <th>50%</th>\n",
       "      <th>75%</th>\n",
       "      <th>max</th>\n",
       "    </tr>\n",
       "  </thead>\n",
       "  <tbody>\n",
       "    <tr>\n",
       "      <th>classificação_crédito</th>\n",
       "      <td>1000.0</td>\n",
       "      <td>0.700</td>\n",
       "      <td>0.458487</td>\n",
       "      <td>0.0</td>\n",
       "      <td>0.0</td>\n",
       "      <td>1.0</td>\n",
       "      <td>1.00</td>\n",
       "      <td>1.0</td>\n",
       "    </tr>\n",
       "    <tr>\n",
       "      <th>conta.saldo</th>\n",
       "      <td>1000.0</td>\n",
       "      <td>2.183</td>\n",
       "      <td>0.835589</td>\n",
       "      <td>1.0</td>\n",
       "      <td>1.0</td>\n",
       "      <td>2.0</td>\n",
       "      <td>3.00</td>\n",
       "      <td>3.0</td>\n",
       "    </tr>\n",
       "    <tr>\n",
       "      <th>crédito.duração.meses</th>\n",
       "      <td>1000.0</td>\n",
       "      <td>20.903</td>\n",
       "      <td>12.058814</td>\n",
       "      <td>4.0</td>\n",
       "      <td>12.0</td>\n",
       "      <td>18.0</td>\n",
       "      <td>24.00</td>\n",
       "      <td>72.0</td>\n",
       "    </tr>\n",
       "    <tr>\n",
       "      <th>pagamento.crédito.anterior.status</th>\n",
       "      <td>1000.0</td>\n",
       "      <td>2.292</td>\n",
       "      <td>0.620581</td>\n",
       "      <td>1.0</td>\n",
       "      <td>2.0</td>\n",
       "      <td>2.0</td>\n",
       "      <td>3.00</td>\n",
       "      <td>3.0</td>\n",
       "    </tr>\n",
       "    <tr>\n",
       "      <th>crédito.propósito</th>\n",
       "      <td>1000.0</td>\n",
       "      <td>2.965</td>\n",
       "      <td>0.971967</td>\n",
       "      <td>1.0</td>\n",
       "      <td>2.0</td>\n",
       "      <td>3.0</td>\n",
       "      <td>4.00</td>\n",
       "      <td>4.0</td>\n",
       "    </tr>\n",
       "    <tr>\n",
       "      <th>crédito.valor</th>\n",
       "      <td>1000.0</td>\n",
       "      <td>3271.248</td>\n",
       "      <td>2822.751760</td>\n",
       "      <td>250.0</td>\n",
       "      <td>1365.5</td>\n",
       "      <td>2319.5</td>\n",
       "      <td>3972.25</td>\n",
       "      <td>18424.0</td>\n",
       "    </tr>\n",
       "    <tr>\n",
       "      <th>poupança</th>\n",
       "      <td>1000.0</td>\n",
       "      <td>1.874</td>\n",
       "      <td>1.196476</td>\n",
       "      <td>1.0</td>\n",
       "      <td>1.0</td>\n",
       "      <td>1.0</td>\n",
       "      <td>3.00</td>\n",
       "      <td>4.0</td>\n",
       "    </tr>\n",
       "    <tr>\n",
       "      <th>duração.emprego</th>\n",
       "      <td>1000.0</td>\n",
       "      <td>2.446</td>\n",
       "      <td>1.105580</td>\n",
       "      <td>1.0</td>\n",
       "      <td>2.0</td>\n",
       "      <td>2.0</td>\n",
       "      <td>4.00</td>\n",
       "      <td>4.0</td>\n",
       "    </tr>\n",
       "    <tr>\n",
       "      <th>taxa.parcelamento</th>\n",
       "      <td>1000.0</td>\n",
       "      <td>2.973</td>\n",
       "      <td>1.118715</td>\n",
       "      <td>1.0</td>\n",
       "      <td>2.0</td>\n",
       "      <td>3.0</td>\n",
       "      <td>4.00</td>\n",
       "      <td>4.0</td>\n",
       "    </tr>\n",
       "    <tr>\n",
       "      <th>estado_civil</th>\n",
       "      <td>1000.0</td>\n",
       "      <td>2.372</td>\n",
       "      <td>1.067125</td>\n",
       "      <td>1.0</td>\n",
       "      <td>1.0</td>\n",
       "      <td>3.0</td>\n",
       "      <td>3.00</td>\n",
       "      <td>4.0</td>\n",
       "    </tr>\n",
       "    <tr>\n",
       "      <th>fiador</th>\n",
       "      <td>1000.0</td>\n",
       "      <td>1.093</td>\n",
       "      <td>0.290578</td>\n",
       "      <td>1.0</td>\n",
       "      <td>1.0</td>\n",
       "      <td>1.0</td>\n",
       "      <td>1.00</td>\n",
       "      <td>2.0</td>\n",
       "    </tr>\n",
       "    <tr>\n",
       "      <th>residência.duração</th>\n",
       "      <td>1000.0</td>\n",
       "      <td>2.845</td>\n",
       "      <td>1.103718</td>\n",
       "      <td>1.0</td>\n",
       "      <td>2.0</td>\n",
       "      <td>3.0</td>\n",
       "      <td>4.00</td>\n",
       "      <td>4.0</td>\n",
       "    </tr>\n",
       "    <tr>\n",
       "      <th>ativos.atual</th>\n",
       "      <td>1000.0</td>\n",
       "      <td>2.358</td>\n",
       "      <td>1.050209</td>\n",
       "      <td>1.0</td>\n",
       "      <td>1.0</td>\n",
       "      <td>2.0</td>\n",
       "      <td>3.00</td>\n",
       "      <td>4.0</td>\n",
       "    </tr>\n",
       "    <tr>\n",
       "      <th>idade</th>\n",
       "      <td>1000.0</td>\n",
       "      <td>35.542</td>\n",
       "      <td>11.352670</td>\n",
       "      <td>19.0</td>\n",
       "      <td>27.0</td>\n",
       "      <td>33.0</td>\n",
       "      <td>42.00</td>\n",
       "      <td>75.0</td>\n",
       "    </tr>\n",
       "    <tr>\n",
       "      <th>outros.créditos</th>\n",
       "      <td>1000.0</td>\n",
       "      <td>1.814</td>\n",
       "      <td>0.389301</td>\n",
       "      <td>1.0</td>\n",
       "      <td>2.0</td>\n",
       "      <td>2.0</td>\n",
       "      <td>2.00</td>\n",
       "      <td>2.0</td>\n",
       "    </tr>\n",
       "    <tr>\n",
       "      <th>apartamento.tipo</th>\n",
       "      <td>1000.0</td>\n",
       "      <td>1.928</td>\n",
       "      <td>0.530186</td>\n",
       "      <td>1.0</td>\n",
       "      <td>2.0</td>\n",
       "      <td>2.0</td>\n",
       "      <td>2.00</td>\n",
       "      <td>3.0</td>\n",
       "    </tr>\n",
       "    <tr>\n",
       "      <th>banco.crédito</th>\n",
       "      <td>1000.0</td>\n",
       "      <td>1.367</td>\n",
       "      <td>0.482228</td>\n",
       "      <td>1.0</td>\n",
       "      <td>1.0</td>\n",
       "      <td>1.0</td>\n",
       "      <td>2.00</td>\n",
       "      <td>2.0</td>\n",
       "    </tr>\n",
       "    <tr>\n",
       "      <th>ocupação</th>\n",
       "      <td>1000.0</td>\n",
       "      <td>2.904</td>\n",
       "      <td>0.653614</td>\n",
       "      <td>1.0</td>\n",
       "      <td>3.0</td>\n",
       "      <td>3.0</td>\n",
       "      <td>3.00</td>\n",
       "      <td>4.0</td>\n",
       "    </tr>\n",
       "    <tr>\n",
       "      <th>dependentes</th>\n",
       "      <td>1000.0</td>\n",
       "      <td>1.155</td>\n",
       "      <td>0.362086</td>\n",
       "      <td>1.0</td>\n",
       "      <td>1.0</td>\n",
       "      <td>1.0</td>\n",
       "      <td>1.00</td>\n",
       "      <td>2.0</td>\n",
       "    </tr>\n",
       "    <tr>\n",
       "      <th>telefone</th>\n",
       "      <td>1000.0</td>\n",
       "      <td>1.404</td>\n",
       "      <td>0.490943</td>\n",
       "      <td>1.0</td>\n",
       "      <td>1.0</td>\n",
       "      <td>1.0</td>\n",
       "      <td>2.00</td>\n",
       "      <td>2.0</td>\n",
       "    </tr>\n",
       "    <tr>\n",
       "      <th>trabalhador_estrangeiro</th>\n",
       "      <td>1000.0</td>\n",
       "      <td>1.037</td>\n",
       "      <td>0.188856</td>\n",
       "      <td>1.0</td>\n",
       "      <td>1.0</td>\n",
       "      <td>1.0</td>\n",
       "      <td>1.00</td>\n",
       "      <td>2.0</td>\n",
       "    </tr>\n",
       "  </tbody>\n",
       "</table>\n",
       "</div>"
      ],
      "text/plain": [
       "                                    count      mean          std    min  \\\n",
       "classificação_crédito              1000.0     0.700     0.458487    0.0   \n",
       "conta.saldo                        1000.0     2.183     0.835589    1.0   \n",
       "crédito.duração.meses              1000.0    20.903    12.058814    4.0   \n",
       "pagamento.crédito.anterior.status  1000.0     2.292     0.620581    1.0   \n",
       "crédito.propósito                  1000.0     2.965     0.971967    1.0   \n",
       "crédito.valor                      1000.0  3271.248  2822.751760  250.0   \n",
       "poupança                           1000.0     1.874     1.196476    1.0   \n",
       "duração.emprego                    1000.0     2.446     1.105580    1.0   \n",
       "taxa.parcelamento                  1000.0     2.973     1.118715    1.0   \n",
       "estado_civil                       1000.0     2.372     1.067125    1.0   \n",
       "fiador                             1000.0     1.093     0.290578    1.0   \n",
       "residência.duração                 1000.0     2.845     1.103718    1.0   \n",
       "ativos.atual                       1000.0     2.358     1.050209    1.0   \n",
       "idade                              1000.0    35.542    11.352670   19.0   \n",
       "outros.créditos                    1000.0     1.814     0.389301    1.0   \n",
       "apartamento.tipo                   1000.0     1.928     0.530186    1.0   \n",
       "banco.crédito                      1000.0     1.367     0.482228    1.0   \n",
       "ocupação                           1000.0     2.904     0.653614    1.0   \n",
       "dependentes                        1000.0     1.155     0.362086    1.0   \n",
       "telefone                           1000.0     1.404     0.490943    1.0   \n",
       "trabalhador_estrangeiro            1000.0     1.037     0.188856    1.0   \n",
       "\n",
       "                                      25%     50%      75%      max  \n",
       "classificação_crédito                 0.0     1.0     1.00      1.0  \n",
       "conta.saldo                           1.0     2.0     3.00      3.0  \n",
       "crédito.duração.meses                12.0    18.0    24.00     72.0  \n",
       "pagamento.crédito.anterior.status     2.0     2.0     3.00      3.0  \n",
       "crédito.propósito                     2.0     3.0     4.00      4.0  \n",
       "crédito.valor                      1365.5  2319.5  3972.25  18424.0  \n",
       "poupança                              1.0     1.0     3.00      4.0  \n",
       "duração.emprego                       2.0     2.0     4.00      4.0  \n",
       "taxa.parcelamento                     2.0     3.0     4.00      4.0  \n",
       "estado_civil                          1.0     3.0     3.00      4.0  \n",
       "fiador                                1.0     1.0     1.00      2.0  \n",
       "residência.duração                    2.0     3.0     4.00      4.0  \n",
       "ativos.atual                          1.0     2.0     3.00      4.0  \n",
       "idade                                27.0    33.0    42.00     75.0  \n",
       "outros.créditos                       2.0     2.0     2.00      2.0  \n",
       "apartamento.tipo                      2.0     2.0     2.00      3.0  \n",
       "banco.crédito                         1.0     1.0     2.00      2.0  \n",
       "ocupação                              3.0     3.0     3.00      4.0  \n",
       "dependentes                           1.0     1.0     1.00      2.0  \n",
       "telefone                              1.0     1.0     2.00      2.0  \n",
       "trabalhador_estrangeiro               1.0     1.0     1.00      2.0  "
      ]
     },
     "execution_count": 13,
     "metadata": {},
     "output_type": "execute_result"
    }
   ],
   "source": [
    "df.describe().T"
   ]
  },
  {
   "cell_type": "code",
   "execution_count": 14,
   "metadata": {},
   "outputs": [
    {
     "data": {
      "text/plain": [
       "<Axes: xlabel='classificação_crédito', ylabel='crédito.valor'>"
      ]
     },
     "execution_count": 14,
     "metadata": {},
     "output_type": "execute_result"
    },
    {
     "data": {
      "image/png": "[encoded data removed]",
      "text/plain": [
       "<Figure size 640x480 with 1 Axes>"
      ]
     },
     "metadata": {},
     "output_type": "display_data"
    }
   ],
   "source": [
    "import seaborn as sns\n",
    "sns.barplot(x='classificação_crédito',y='crédito.valor', data=df)"
   ]
  },
  {
   "cell_type": "code",
   "execution_count": 15,
   "metadata": {},
   "outputs": [
    {
     "data": {
      "text/plain": [
       "<seaborn.axisgrid.FacetGrid at 0x12d917530>"
      ]
     },
     "execution_count": 15,
     "metadata": {},
     "output_type": "execute_result"
    },
    {
     "data": {
      "image/png": "[encoded data removed]",
      "text/plain": [
       "<Figure size 654.611x500 with 1 Axes>"
      ]
     },
     "metadata": {},
     "output_type": "display_data"
    }
   ],
   "source": [
    "sns.catplot(x='classificação_crédito', y='idade', hue='classificação_crédito', data=df,\n",
    "                    kind=\"bar\", palette=\"muted\") #size=6,"
   ]
  },
  {
   "cell_type": "code",
   "execution_count": 16,
   "metadata": {},
   "outputs": [
    {
     "data": {
      "text/plain": [
       "35.542"
      ]
     },
     "execution_count": 16,
     "metadata": {},
     "output_type": "execute_result"
    }
   ],
   "source": [
    "df.idade.mean()"
   ]
  },
  {
   "cell_type": "code",
   "execution_count": 17,
   "metadata": {},
   "outputs": [
    {
     "data": {
      "text/plain": [
       "<Axes: xlabel='idade', ylabel='Density'>"
      ]
     },
     "execution_count": 17,
     "metadata": {},
     "output_type": "execute_result"
    },
    {
     "data": {
      "image/png": "[encoded data removed]",
      "text/plain": [
       "<Figure size 640x480 with 1 Axes>"
      ]
     },
     "metadata": {},
     "output_type": "display_data"
    }
   ],
   "source": [
    "sns.distplot(df.idade)"
   ]
  },
  {
   "cell_type": "code",
   "execution_count": 18,
   "metadata": {},
   "outputs": [
    {
     "data": {
      "text/plain": [
       "<Axes: xlabel='crédito.valor', ylabel='Density'>"
      ]
     },
     "execution_count": 18,
     "metadata": {},
     "output_type": "execute_result"
    },
    {
     "data": {
      "image/png": "[encoded data removed]",
      "text/plain": [
       "<Figure size 640x480 with 1 Axes>"
      ]
     },
     "metadata": {},
     "output_type": "display_data"
    }
   ],
   "source": [
    "sns.distplot(df['crédito.valor']) # quantidade de crédito"
   ]
  },
  {
   "cell_type": "code",
   "execution_count": 19,
   "metadata": {},
   "outputs": [
    {
     "data": {
      "text/plain": [
       "3271.248"
      ]
     },
     "execution_count": 19,
     "metadata": {},
     "output_type": "execute_result"
    }
   ],
   "source": [
    "df['crédito.valor'].mean()"
   ]
  },
  {
   "cell_type": "markdown",
   "metadata": {},
   "source": [
    "# Correlação"
   ]
  },
  {
   "cell_type": "code",
   "execution_count": 20,
   "metadata": {},
   "outputs": [
    {
     "name": "stdout",
     "output_type": "stream",
     "text": [
      "['classificação_crédito', 'conta.saldo', 'crédito.duração.meses', 'pagamento.crédito.anterior.status', 'crédito.propósito', 'crédito.valor', 'poupança', 'duração.emprego', 'taxa.parcelamento', 'estado_civil', 'fiador', 'residência.duração', 'ativos.atual', 'idade', 'outros.créditos', 'apartamento.tipo', 'banco.crédito', 'ocupação', 'dependentes', 'telefone', 'trabalhador_estrangeiro']\n"
     ]
    }
   ],
   "source": [
    "atributos = list(df.columns)\n",
    "print(atributos)"
   ]
  },
  {
   "cell_type": "code",
   "execution_count": 21,
   "metadata": {},
   "outputs": [
    {
     "name": "stdout",
     "output_type": "stream",
     "text": [
      "['classificação_crédito', 'conta.saldo', 'crédito.duração.meses', 'crédito.valor', 'poupança', 'duração.emprego', 'estado_civil', 'idade', 'banco.crédito', 'dependentes']\n"
     ]
    }
   ],
   "source": [
    "atributos_corr = ['classificação_crédito', 'conta.saldo', 'crédito.duração.meses', 'crédito.valor', 'poupança', \n",
    "                'duração.emprego',  'estado_civil',  'idade', 'banco.crédito',  'dependentes']\n",
    "print(atributos_corr)"
   ]
  },
  {
   "cell_type": "code",
   "execution_count": 22,
   "metadata": {},
   "outputs": [
    {
     "data": {
      "text/plain": [
       "<Axes: xlabel='classificação_crédito', ylabel='Density'>"
      ]
     },
     "execution_count": 22,
     "metadata": {},
     "output_type": "execute_result"
    },
    {
     "data": {
      "image/png": "[encoded data removed]",
      "text/plain": [
       "<Figure size 640x480 with 1 Axes>"
      ]
     },
     "metadata": {},
     "output_type": "display_data"
    }
   ],
   "source": [
    "sns.distplot(df['classificação_crédito'])"
   ]
  },
  {
   "cell_type": "code",
   "execution_count": 23,
   "metadata": {},
   "outputs": [
    {
     "data": {
      "text/html": [
       "<div>\n",
       "<style scoped>\n",
       "    .dataframe tbody tr th:only-of-type {\n",
       "        vertical-align: middle;\n",
       "    }\n",
       "\n",
       "    .dataframe tbody tr th {\n",
       "        vertical-align: top;\n",
       "    }\n",
       "\n",
       "    .dataframe thead th {\n",
       "        text-align: right;\n",
       "    }\n",
       "</style>\n",
       "<table border=\"1\" class=\"dataframe\">\n",
       "  <thead>\n",
       "    <tr style=\"text-align: right;\">\n",
       "      <th></th>\n",
       "      <th>classificação_crédito</th>\n",
       "      <th>conta.saldo</th>\n",
       "      <th>crédito.duração.meses</th>\n",
       "      <th>crédito.valor</th>\n",
       "      <th>poupança</th>\n",
       "      <th>duração.emprego</th>\n",
       "      <th>estado_civil</th>\n",
       "      <th>idade</th>\n",
       "      <th>banco.crédito</th>\n",
       "      <th>dependentes</th>\n",
       "    </tr>\n",
       "  </thead>\n",
       "  <tbody>\n",
       "    <tr>\n",
       "      <th>classificação_crédito</th>\n",
       "      <td>1.000000</td>\n",
       "      <td>0.339409</td>\n",
       "      <td>-0.214927</td>\n",
       "      <td>-0.154740</td>\n",
       "      <td>0.179191</td>\n",
       "      <td>0.118092</td>\n",
       "      <td>0.091249</td>\n",
       "      <td>0.091272</td>\n",
       "      <td>0.045727</td>\n",
       "      <td>0.003015</td>\n",
       "    </tr>\n",
       "    <tr>\n",
       "      <th>conta.saldo</th>\n",
       "      <td>0.339409</td>\n",
       "      <td>1.000000</td>\n",
       "      <td>-0.071254</td>\n",
       "      <td>-0.041161</td>\n",
       "      <td>0.228340</td>\n",
       "      <td>0.081681</td>\n",
       "      <td>0.034715</td>\n",
       "      <td>0.052530</td>\n",
       "      <td>0.074127</td>\n",
       "      <td>-0.027676</td>\n",
       "    </tr>\n",
       "    <tr>\n",
       "      <th>crédito.duração.meses</th>\n",
       "      <td>-0.214927</td>\n",
       "      <td>-0.071254</td>\n",
       "      <td>1.000000</td>\n",
       "      <td>0.624988</td>\n",
       "      <td>0.048550</td>\n",
       "      <td>0.061587</td>\n",
       "      <td>0.045124</td>\n",
       "      <td>-0.037550</td>\n",
       "      <td>0.011292</td>\n",
       "      <td>-0.023834</td>\n",
       "    </tr>\n",
       "    <tr>\n",
       "      <th>crédito.valor</th>\n",
       "      <td>-0.154740</td>\n",
       "      <td>-0.041161</td>\n",
       "      <td>0.624988</td>\n",
       "      <td>1.000000</td>\n",
       "      <td>0.060829</td>\n",
       "      <td>0.009649</td>\n",
       "      <td>0.029854</td>\n",
       "      <td>0.032273</td>\n",
       "      <td>0.027446</td>\n",
       "      <td>0.017144</td>\n",
       "    </tr>\n",
       "    <tr>\n",
       "      <th>poupança</th>\n",
       "      <td>0.179191</td>\n",
       "      <td>0.228340</td>\n",
       "      <td>0.048550</td>\n",
       "      <td>0.060829</td>\n",
       "      <td>1.000000</td>\n",
       "      <td>0.129549</td>\n",
       "      <td>0.031260</td>\n",
       "      <td>0.080127</td>\n",
       "      <td>-0.025604</td>\n",
       "      <td>0.026641</td>\n",
       "    </tr>\n",
       "    <tr>\n",
       "      <th>duração.emprego</th>\n",
       "      <td>0.118092</td>\n",
       "      <td>0.081681</td>\n",
       "      <td>0.061587</td>\n",
       "      <td>0.009649</td>\n",
       "      <td>0.129549</td>\n",
       "      <td>1.000000</td>\n",
       "      <td>0.166372</td>\n",
       "      <td>0.307389</td>\n",
       "      <td>0.139536</td>\n",
       "      <td>0.097196</td>\n",
       "    </tr>\n",
       "    <tr>\n",
       "      <th>estado_civil</th>\n",
       "      <td>0.091249</td>\n",
       "      <td>0.034715</td>\n",
       "      <td>0.045124</td>\n",
       "      <td>0.029854</td>\n",
       "      <td>0.031260</td>\n",
       "      <td>0.166372</td>\n",
       "      <td>1.000000</td>\n",
       "      <td>0.073569</td>\n",
       "      <td>0.076789</td>\n",
       "      <td>0.169273</td>\n",
       "    </tr>\n",
       "    <tr>\n",
       "      <th>idade</th>\n",
       "      <td>0.091272</td>\n",
       "      <td>0.052530</td>\n",
       "      <td>-0.037550</td>\n",
       "      <td>0.032273</td>\n",
       "      <td>0.080127</td>\n",
       "      <td>0.307389</td>\n",
       "      <td>0.073569</td>\n",
       "      <td>1.000000</td>\n",
       "      <td>0.108992</td>\n",
       "      <td>0.118589</td>\n",
       "    </tr>\n",
       "    <tr>\n",
       "      <th>banco.crédito</th>\n",
       "      <td>0.045727</td>\n",
       "      <td>0.074127</td>\n",
       "      <td>0.011292</td>\n",
       "      <td>0.027446</td>\n",
       "      <td>-0.025604</td>\n",
       "      <td>0.139536</td>\n",
       "      <td>0.076789</td>\n",
       "      <td>0.108992</td>\n",
       "      <td>1.000000</td>\n",
       "      <td>0.086652</td>\n",
       "    </tr>\n",
       "    <tr>\n",
       "      <th>dependentes</th>\n",
       "      <td>0.003015</td>\n",
       "      <td>-0.027676</td>\n",
       "      <td>-0.023834</td>\n",
       "      <td>0.017144</td>\n",
       "      <td>0.026641</td>\n",
       "      <td>0.097196</td>\n",
       "      <td>0.169273</td>\n",
       "      <td>0.118589</td>\n",
       "      <td>0.086652</td>\n",
       "      <td>1.000000</td>\n",
       "    </tr>\n",
       "  </tbody>\n",
       "</table>\n",
       "</div>"
      ],
      "text/plain": [
       "                       classificação_crédito  conta.saldo  \\\n",
       "classificação_crédito               1.000000     0.339409   \n",
       "conta.saldo                         0.339409     1.000000   \n",
       "crédito.duração.meses              -0.214927    -0.071254   \n",
       "crédito.valor                      -0.154740    -0.041161   \n",
       "poupança                            0.179191     0.228340   \n",
       "duração.emprego                     0.118092     0.081681   \n",
       "estado_civil                        0.091249     0.034715   \n",
       "idade                               0.091272     0.052530   \n",
       "banco.crédito                       0.045727     0.074127   \n",
       "dependentes                         0.003015    -0.027676   \n",
       "\n",
       "                       crédito.duração.meses  crédito.valor  poupança  \\\n",
       "classificação_crédito              -0.214927      -0.154740  0.179191   \n",
       "conta.saldo                        -0.071254      -0.041161  0.228340   \n",
       "crédito.duração.meses               1.000000       0.624988  0.048550   \n",
       "crédito.valor                       0.624988       1.000000  0.060829   \n",
       "poupança                            0.048550       0.060829  1.000000   \n",
       "duração.emprego                     0.061587       0.009649  0.129549   \n",
       "estado_civil                        0.045124       0.029854  0.031260   \n",
       "idade                              -0.037550       0.032273  0.080127   \n",
       "banco.crédito                       0.011292       0.027446 -0.025604   \n",
       "dependentes                        -0.023834       0.017144  0.026641   \n",
       "\n",
       "                       duração.emprego  estado_civil     idade  banco.crédito  \\\n",
       "classificação_crédito         0.118092      0.091249  0.091272       0.045727   \n",
       "conta.saldo                   0.081681      0.034715  0.052530       0.074127   \n",
       "crédito.duração.meses         0.061587      0.045124 -0.037550       0.011292   \n",
       "crédito.valor                 0.009649      0.029854  0.032273       0.027446   \n",
       "poupança                      0.129549      0.031260  0.080127      -0.025604   \n",
       "duração.emprego               1.000000      0.166372  0.307389       0.139536   \n",
       "estado_civil                  0.166372      1.000000  0.073569       0.076789   \n",
       "idade                         0.307389      0.073569  1.000000       0.108992   \n",
       "banco.crédito                 0.139536      0.076789  0.108992       1.000000   \n",
       "dependentes                   0.097196      0.169273  0.118589       0.086652   \n",
       "\n",
       "                       dependentes  \n",
       "classificação_crédito     0.003015  \n",
       "conta.saldo              -0.027676  \n",
       "crédito.duração.meses    -0.023834  \n",
       "crédito.valor             0.017144  \n",
       "poupança                  0.026641  \n",
       "duração.emprego           0.097196  \n",
       "estado_civil              0.169273  \n",
       "idade                     0.118589  \n",
       "banco.crédito             0.086652  \n",
       "dependentes               1.000000  "
      ]
     },
     "execution_count": 23,
     "metadata": {},
     "output_type": "execute_result"
    }
   ],
   "source": [
    "#df2 = df[df.columns[:14] ]\n",
    "df2 = df[atributos_corr].copy()\n",
    "corr = df2.corr()\n",
    "corr"
   ]
  },
  {
   "cell_type": "code",
   "execution_count": 24,
   "metadata": {},
   "outputs": [
    {
     "data": {
      "text/plain": [
       "<Axes: >"
      ]
     },
     "execution_count": 24,
     "metadata": {},
     "output_type": "execute_result"
    },
    {
     "data": {
      "image/png": "[encoded data removed]",
      "text/plain": [
       "<Figure size 1600x900 with 2 Axes>"
      ]
     },
     "metadata": {},
     "output_type": "display_data"
    }
   ],
   "source": [
    "# Create a mask\n",
    "mask = np.triu(np.ones_like(corr, dtype=bool))\n",
    "\n",
    "plt.figure(figsize=(16, 9))\n",
    "sns.heatmap(\n",
    "    corr,\n",
    "    cmap='coolwarm_r',\n",
    "    mask=mask,\n",
    "    # cmap=cmap,\n",
    "    # center=0,\n",
    "    # vmin=-1,\n",
    "    # vmax=1,\n",
    "    #square=True,\n",
    "    linewidths=0.01,\n",
    "    annot=True,\n",
    "    fmt = '.2f', \n",
    "    xticklabels=df2.columns[:],\n",
    "    yticklabels=df2.columns[:],\n",
    ")"
   ]
  },
  {
   "cell_type": "markdown",
   "metadata": {},
   "source": [
    "# Atributos mais importantes"
   ]
  },
  {
   "cell_type": "code",
   "execution_count": 25,
   "metadata": {},
   "outputs": [
    {
     "data": {
      "text/plain": [
       "Index(['conta.saldo', 'crédito.duração.meses',\n",
       "       'pagamento.crédito.anterior.status', 'crédito.propósito',\n",
       "       'crédito.valor', 'poupança', 'duração.emprego', 'taxa.parcelamento',\n",
       "       'estado_civil', 'fiador', 'residência.duração', 'ativos.atual', 'idade',\n",
       "       'outros.créditos', 'apartamento.tipo', 'banco.crédito', 'ocupação',\n",
       "       'dependentes', 'telefone', 'trabalhador_estrangeiro'],\n",
       "      dtype='object')"
      ]
     },
     "execution_count": 25,
     "metadata": {},
     "output_type": "execute_result"
    }
   ],
   "source": [
    "df.columns[1:]"
   ]
  },
  {
   "cell_type": "code",
   "execution_count": 26,
   "metadata": {},
   "outputs": [
    {
     "data": {
      "text/plain": [
       "array([    0.697511,    68.      ,     0.384736,     0.943775,\n",
       "       18174.      ,     1.430124,     1.221084,     1.250271,\n",
       "           1.137616,     0.084351,     1.216975,     1.101836,\n",
       "          56.      ,     0.151404,     0.280816,     0.232311,\n",
       "           0.426784,     0.130975,     0.240784,     0.035631])"
      ]
     },
     "execution_count": 26,
     "metadata": {},
     "output_type": "execute_result"
    }
   ],
   "source": [
    "import numpy as np\n",
    "from sklearn.feature_selection import VarianceThreshold\n",
    "\n",
    "np.set_printoptions(suppress=True)\n",
    "\n",
    "X = df[ list(df.columns[1:]) ]\n",
    "selector = VarianceThreshold()\n",
    "selector.fit_transform(X)\n",
    "selector.variances_"
   ]
  },
  {
   "cell_type": "code",
   "execution_count": 27,
   "metadata": {},
   "outputs": [
    {
     "data": {
      "text/html": [
       "<div>\n",
       "<style scoped>\n",
       "    .dataframe tbody tr th:only-of-type {\n",
       "        vertical-align: middle;\n",
       "    }\n",
       "\n",
       "    .dataframe tbody tr th {\n",
       "        vertical-align: top;\n",
       "    }\n",
       "\n",
       "    .dataframe thead th {\n",
       "        text-align: right;\n",
       "    }\n",
       "</style>\n",
       "<table border=\"1\" class=\"dataframe\">\n",
       "  <thead>\n",
       "    <tr style=\"text-align: right;\">\n",
       "      <th></th>\n",
       "      <th>Atributo</th>\n",
       "      <th>Importancia</th>\n",
       "    </tr>\n",
       "  </thead>\n",
       "  <tbody>\n",
       "    <tr>\n",
       "      <th>0</th>\n",
       "      <td>crédito.valor</td>\n",
       "      <td>18174.000000</td>\n",
       "    </tr>\n",
       "    <tr>\n",
       "      <th>1</th>\n",
       "      <td>crédito.duração.meses</td>\n",
       "      <td>68.000000</td>\n",
       "    </tr>\n",
       "    <tr>\n",
       "      <th>2</th>\n",
       "      <td>idade</td>\n",
       "      <td>56.000000</td>\n",
       "    </tr>\n",
       "    <tr>\n",
       "      <th>3</th>\n",
       "      <td>poupança</td>\n",
       "      <td>1.430124</td>\n",
       "    </tr>\n",
       "    <tr>\n",
       "      <th>4</th>\n",
       "      <td>taxa.parcelamento</td>\n",
       "      <td>1.250271</td>\n",
       "    </tr>\n",
       "    <tr>\n",
       "      <th>5</th>\n",
       "      <td>duração.emprego</td>\n",
       "      <td>1.221084</td>\n",
       "    </tr>\n",
       "    <tr>\n",
       "      <th>6</th>\n",
       "      <td>residência.duração</td>\n",
       "      <td>1.216975</td>\n",
       "    </tr>\n",
       "    <tr>\n",
       "      <th>7</th>\n",
       "      <td>estado_civil</td>\n",
       "      <td>1.137616</td>\n",
       "    </tr>\n",
       "    <tr>\n",
       "      <th>8</th>\n",
       "      <td>ativos.atual</td>\n",
       "      <td>1.101836</td>\n",
       "    </tr>\n",
       "    <tr>\n",
       "      <th>9</th>\n",
       "      <td>crédito.propósito</td>\n",
       "      <td>0.943775</td>\n",
       "    </tr>\n",
       "    <tr>\n",
       "      <th>10</th>\n",
       "      <td>conta.saldo</td>\n",
       "      <td>0.697511</td>\n",
       "    </tr>\n",
       "    <tr>\n",
       "      <th>11</th>\n",
       "      <td>ocupação</td>\n",
       "      <td>0.426784</td>\n",
       "    </tr>\n",
       "    <tr>\n",
       "      <th>12</th>\n",
       "      <td>pagamento.crédito.anterior.status</td>\n",
       "      <td>0.384736</td>\n",
       "    </tr>\n",
       "    <tr>\n",
       "      <th>13</th>\n",
       "      <td>apartamento.tipo</td>\n",
       "      <td>0.280816</td>\n",
       "    </tr>\n",
       "    <tr>\n",
       "      <th>14</th>\n",
       "      <td>telefone</td>\n",
       "      <td>0.240784</td>\n",
       "    </tr>\n",
       "    <tr>\n",
       "      <th>15</th>\n",
       "      <td>banco.crédito</td>\n",
       "      <td>0.232311</td>\n",
       "    </tr>\n",
       "    <tr>\n",
       "      <th>16</th>\n",
       "      <td>outros.créditos</td>\n",
       "      <td>0.151404</td>\n",
       "    </tr>\n",
       "    <tr>\n",
       "      <th>17</th>\n",
       "      <td>dependentes</td>\n",
       "      <td>0.130975</td>\n",
       "    </tr>\n",
       "    <tr>\n",
       "      <th>18</th>\n",
       "      <td>fiador</td>\n",
       "      <td>0.084351</td>\n",
       "    </tr>\n",
       "    <tr>\n",
       "      <th>19</th>\n",
       "      <td>trabalhador_estrangeiro</td>\n",
       "      <td>0.035631</td>\n",
       "    </tr>\n",
       "  </tbody>\n",
       "</table>\n",
       "</div>"
      ],
      "text/plain": [
       "                             Atributo   Importancia\n",
       "0                       crédito.valor  18174.000000\n",
       "1               crédito.duração.meses     68.000000\n",
       "2                               idade     56.000000\n",
       "3                            poupança      1.430124\n",
       "4                   taxa.parcelamento      1.250271\n",
       "5                     duração.emprego      1.221084\n",
       "6                  residência.duração      1.216975\n",
       "7                        estado_civil      1.137616\n",
       "8                        ativos.atual      1.101836\n",
       "9                   crédito.propósito      0.943775\n",
       "10                        conta.saldo      0.697511\n",
       "11                           ocupação      0.426784\n",
       "12  pagamento.crédito.anterior.status      0.384736\n",
       "13                   apartamento.tipo      0.280816\n",
       "14                           telefone      0.240784\n",
       "15                      banco.crédito      0.232311\n",
       "16                    outros.créditos      0.151404\n",
       "17                        dependentes      0.130975\n",
       "18                             fiador      0.084351\n",
       "19            trabalhador_estrangeiro      0.035631"
      ]
     },
     "execution_count": 27,
     "metadata": {},
     "output_type": "execute_result"
    }
   ],
   "source": [
    "dfatributos = pd.DataFrame( {'Atributo': df.columns[1:],\n",
    "                              'Importancia': selector.variances_  })\n",
    "                             \n",
    "dfatributos = dfatributos.sort_values(by='Importancia', ascending=False).reset_index(drop=True)\n",
    "dfatributos"
   ]
  },
  {
   "cell_type": "markdown",
   "metadata": {},
   "source": [
    "## Definindo X e Y"
   ]
  },
  {
   "cell_type": "code",
   "execution_count": 28,
   "metadata": {},
   "outputs": [
    {
     "data": {
      "text/html": [
       "<div>\n",
       "<style scoped>\n",
       "    .dataframe tbody tr th:only-of-type {\n",
       "        vertical-align: middle;\n",
       "    }\n",
       "\n",
       "    .dataframe tbody tr th {\n",
       "        vertical-align: top;\n",
       "    }\n",
       "\n",
       "    .dataframe thead th {\n",
       "        text-align: right;\n",
       "    }\n",
       "</style>\n",
       "<table border=\"1\" class=\"dataframe\">\n",
       "  <thead>\n",
       "    <tr style=\"text-align: right;\">\n",
       "      <th></th>\n",
       "      <th>classificação_crédito</th>\n",
       "      <th>conta.saldo</th>\n",
       "      <th>crédito.duração.meses</th>\n",
       "      <th>pagamento.crédito.anterior.status</th>\n",
       "      <th>crédito.propósito</th>\n",
       "      <th>crédito.valor</th>\n",
       "      <th>poupança</th>\n",
       "      <th>duração.emprego</th>\n",
       "      <th>taxa.parcelamento</th>\n",
       "      <th>estado_civil</th>\n",
       "      <th>fiador</th>\n",
       "      <th>residência.duração</th>\n",
       "      <th>ativos.atual</th>\n",
       "      <th>idade</th>\n",
       "      <th>outros.créditos</th>\n",
       "      <th>apartamento.tipo</th>\n",
       "      <th>banco.crédito</th>\n",
       "      <th>ocupação</th>\n",
       "      <th>dependentes</th>\n",
       "      <th>telefone</th>\n",
       "      <th>trabalhador_estrangeiro</th>\n",
       "    </tr>\n",
       "  </thead>\n",
       "  <tbody>\n",
       "    <tr>\n",
       "      <th>0</th>\n",
       "      <td>1</td>\n",
       "      <td>1</td>\n",
       "      <td>18</td>\n",
       "      <td>3</td>\n",
       "      <td>2</td>\n",
       "      <td>1049</td>\n",
       "      <td>1</td>\n",
       "      <td>1</td>\n",
       "      <td>4</td>\n",
       "      <td>1</td>\n",
       "      <td>1</td>\n",
       "      <td>4</td>\n",
       "      <td>2</td>\n",
       "      <td>21</td>\n",
       "      <td>2</td>\n",
       "      <td>1</td>\n",
       "      <td>1</td>\n",
       "      <td>3</td>\n",
       "      <td>1</td>\n",
       "      <td>1</td>\n",
       "      <td>1</td>\n",
       "    </tr>\n",
       "    <tr>\n",
       "      <th>1</th>\n",
       "      <td>1</td>\n",
       "      <td>1</td>\n",
       "      <td>9</td>\n",
       "      <td>3</td>\n",
       "      <td>4</td>\n",
       "      <td>2799</td>\n",
       "      <td>1</td>\n",
       "      <td>2</td>\n",
       "      <td>2</td>\n",
       "      <td>3</td>\n",
       "      <td>1</td>\n",
       "      <td>2</td>\n",
       "      <td>1</td>\n",
       "      <td>36</td>\n",
       "      <td>2</td>\n",
       "      <td>1</td>\n",
       "      <td>2</td>\n",
       "      <td>3</td>\n",
       "      <td>2</td>\n",
       "      <td>1</td>\n",
       "      <td>1</td>\n",
       "    </tr>\n",
       "    <tr>\n",
       "      <th>2</th>\n",
       "      <td>1</td>\n",
       "      <td>2</td>\n",
       "      <td>12</td>\n",
       "      <td>2</td>\n",
       "      <td>4</td>\n",
       "      <td>841</td>\n",
       "      <td>2</td>\n",
       "      <td>3</td>\n",
       "      <td>2</td>\n",
       "      <td>1</td>\n",
       "      <td>1</td>\n",
       "      <td>4</td>\n",
       "      <td>1</td>\n",
       "      <td>23</td>\n",
       "      <td>2</td>\n",
       "      <td>1</td>\n",
       "      <td>1</td>\n",
       "      <td>2</td>\n",
       "      <td>1</td>\n",
       "      <td>1</td>\n",
       "      <td>1</td>\n",
       "    </tr>\n",
       "    <tr>\n",
       "      <th>3</th>\n",
       "      <td>1</td>\n",
       "      <td>1</td>\n",
       "      <td>12</td>\n",
       "      <td>3</td>\n",
       "      <td>4</td>\n",
       "      <td>2122</td>\n",
       "      <td>1</td>\n",
       "      <td>2</td>\n",
       "      <td>3</td>\n",
       "      <td>3</td>\n",
       "      <td>1</td>\n",
       "      <td>2</td>\n",
       "      <td>1</td>\n",
       "      <td>39</td>\n",
       "      <td>2</td>\n",
       "      <td>1</td>\n",
       "      <td>2</td>\n",
       "      <td>2</td>\n",
       "      <td>2</td>\n",
       "      <td>1</td>\n",
       "      <td>2</td>\n",
       "    </tr>\n",
       "    <tr>\n",
       "      <th>4</th>\n",
       "      <td>1</td>\n",
       "      <td>1</td>\n",
       "      <td>12</td>\n",
       "      <td>3</td>\n",
       "      <td>4</td>\n",
       "      <td>2171</td>\n",
       "      <td>1</td>\n",
       "      <td>2</td>\n",
       "      <td>4</td>\n",
       "      <td>3</td>\n",
       "      <td>1</td>\n",
       "      <td>4</td>\n",
       "      <td>2</td>\n",
       "      <td>38</td>\n",
       "      <td>1</td>\n",
       "      <td>2</td>\n",
       "      <td>2</td>\n",
       "      <td>2</td>\n",
       "      <td>1</td>\n",
       "      <td>1</td>\n",
       "      <td>2</td>\n",
       "    </tr>\n",
       "  </tbody>\n",
       "</table>\n",
       "</div>"
      ],
      "text/plain": [
       "   classificação_crédito  conta.saldo  crédito.duração.meses  \\\n",
       "0                      1            1                     18   \n",
       "1                      1            1                      9   \n",
       "2                      1            2                     12   \n",
       "3                      1            1                     12   \n",
       "4                      1            1                     12   \n",
       "\n",
       "   pagamento.crédito.anterior.status  crédito.propósito  crédito.valor  \\\n",
       "0                                  3                  2           1049   \n",
       "1                                  3                  4           2799   \n",
       "2                                  2                  4            841   \n",
       "3                                  3                  4           2122   \n",
       "4                                  3                  4           2171   \n",
       "\n",
       "   poupança  duração.emprego  taxa.parcelamento  estado_civil  fiador  \\\n",
       "0         1                1                  4             1       1   \n",
       "1         1                2                  2             3       1   \n",
       "2         2                3                  2             1       1   \n",
       "3         1                2                  3             3       1   \n",
       "4         1                2                  4             3       1   \n",
       "\n",
       "   residência.duração  ativos.atual  idade  outros.créditos  apartamento.tipo  \\\n",
       "0                   4             2     21                2                 1   \n",
       "1                   2             1     36                2                 1   \n",
       "2                   4             1     23                2                 1   \n",
       "3                   2             1     39                2                 1   \n",
       "4                   4             2     38                1                 2   \n",
       "\n",
       "   banco.crédito  ocupação  dependentes  telefone  trabalhador_estrangeiro  \n",
       "0              1         3            1         1                        1  \n",
       "1              2         3            2         1                        1  \n",
       "2              1         2            1         1                        1  \n",
       "3              2         2            2         1                        2  \n",
       "4              2         2            1         1                        2  "
      ]
     },
     "execution_count": 28,
     "metadata": {},
     "output_type": "execute_result"
    }
   ],
   "source": [
    "df.head()"
   ]
  },
  {
   "cell_type": "code",
   "execution_count": 29,
   "metadata": {},
   "outputs": [
    {
     "name": "stdout",
     "output_type": "stream",
     "text": [
      "['conta.saldo', 'crédito.duração.meses', 'pagamento.crédito.anterior.status', 'crédito.propósito', 'crédito.valor', 'poupança', 'duração.emprego', 'taxa.parcelamento', 'estado_civil', 'fiador', 'residência.duração', 'ativos.atual', 'idade', 'outros.créditos', 'apartamento.tipo', 'banco.crédito', 'ocupação', 'dependentes', 'telefone', 'trabalhador_estrangeiro']\n"
     ]
    }
   ],
   "source": [
    "atributos = list(df.columns[1:])\n",
    "print(atributos)"
   ]
  },
  {
   "cell_type": "code",
   "execution_count": 30,
   "metadata": {},
   "outputs": [
    {
     "data": {
      "text/html": [
       "<div>\n",
       "<style scoped>\n",
       "    .dataframe tbody tr th:only-of-type {\n",
       "        vertical-align: middle;\n",
       "    }\n",
       "\n",
       "    .dataframe tbody tr th {\n",
       "        vertical-align: top;\n",
       "    }\n",
       "\n",
       "    .dataframe thead th {\n",
       "        text-align: right;\n",
       "    }\n",
       "</style>\n",
       "<table border=\"1\" class=\"dataframe\">\n",
       "  <thead>\n",
       "    <tr style=\"text-align: right;\">\n",
       "      <th></th>\n",
       "      <th>conta.saldo</th>\n",
       "      <th>crédito.duração.meses</th>\n",
       "      <th>pagamento.crédito.anterior.status</th>\n",
       "      <th>crédito.propósito</th>\n",
       "      <th>crédito.valor</th>\n",
       "      <th>poupança</th>\n",
       "      <th>duração.emprego</th>\n",
       "      <th>taxa.parcelamento</th>\n",
       "      <th>estado_civil</th>\n",
       "      <th>fiador</th>\n",
       "      <th>residência.duração</th>\n",
       "      <th>ativos.atual</th>\n",
       "      <th>idade</th>\n",
       "      <th>outros.créditos</th>\n",
       "      <th>apartamento.tipo</th>\n",
       "      <th>banco.crédito</th>\n",
       "      <th>ocupação</th>\n",
       "      <th>dependentes</th>\n",
       "      <th>telefone</th>\n",
       "      <th>trabalhador_estrangeiro</th>\n",
       "    </tr>\n",
       "  </thead>\n",
       "  <tbody>\n",
       "    <tr>\n",
       "      <th>0</th>\n",
       "      <td>1</td>\n",
       "      <td>18</td>\n",
       "      <td>3</td>\n",
       "      <td>2</td>\n",
       "      <td>1049</td>\n",
       "      <td>1</td>\n",
       "      <td>1</td>\n",
       "      <td>4</td>\n",
       "      <td>1</td>\n",
       "      <td>1</td>\n",
       "      <td>4</td>\n",
       "      <td>2</td>\n",
       "      <td>21</td>\n",
       "      <td>2</td>\n",
       "      <td>1</td>\n",
       "      <td>1</td>\n",
       "      <td>3</td>\n",
       "      <td>1</td>\n",
       "      <td>1</td>\n",
       "      <td>1</td>\n",
       "    </tr>\n",
       "    <tr>\n",
       "      <th>1</th>\n",
       "      <td>1</td>\n",
       "      <td>9</td>\n",
       "      <td>3</td>\n",
       "      <td>4</td>\n",
       "      <td>2799</td>\n",
       "      <td>1</td>\n",
       "      <td>2</td>\n",
       "      <td>2</td>\n",
       "      <td>3</td>\n",
       "      <td>1</td>\n",
       "      <td>2</td>\n",
       "      <td>1</td>\n",
       "      <td>36</td>\n",
       "      <td>2</td>\n",
       "      <td>1</td>\n",
       "      <td>2</td>\n",
       "      <td>3</td>\n",
       "      <td>2</td>\n",
       "      <td>1</td>\n",
       "      <td>1</td>\n",
       "    </tr>\n",
       "    <tr>\n",
       "      <th>2</th>\n",
       "      <td>2</td>\n",
       "      <td>12</td>\n",
       "      <td>2</td>\n",
       "      <td>4</td>\n",
       "      <td>841</td>\n",
       "      <td>2</td>\n",
       "      <td>3</td>\n",
       "      <td>2</td>\n",
       "      <td>1</td>\n",
       "      <td>1</td>\n",
       "      <td>4</td>\n",
       "      <td>1</td>\n",
       "      <td>23</td>\n",
       "      <td>2</td>\n",
       "      <td>1</td>\n",
       "      <td>1</td>\n",
       "      <td>2</td>\n",
       "      <td>1</td>\n",
       "      <td>1</td>\n",
       "      <td>1</td>\n",
       "    </tr>\n",
       "    <tr>\n",
       "      <th>3</th>\n",
       "      <td>1</td>\n",
       "      <td>12</td>\n",
       "      <td>3</td>\n",
       "      <td>4</td>\n",
       "      <td>2122</td>\n",
       "      <td>1</td>\n",
       "      <td>2</td>\n",
       "      <td>3</td>\n",
       "      <td>3</td>\n",
       "      <td>1</td>\n",
       "      <td>2</td>\n",
       "      <td>1</td>\n",
       "      <td>39</td>\n",
       "      <td>2</td>\n",
       "      <td>1</td>\n",
       "      <td>2</td>\n",
       "      <td>2</td>\n",
       "      <td>2</td>\n",
       "      <td>1</td>\n",
       "      <td>2</td>\n",
       "    </tr>\n",
       "    <tr>\n",
       "      <th>4</th>\n",
       "      <td>1</td>\n",
       "      <td>12</td>\n",
       "      <td>3</td>\n",
       "      <td>4</td>\n",
       "      <td>2171</td>\n",
       "      <td>1</td>\n",
       "      <td>2</td>\n",
       "      <td>4</td>\n",
       "      <td>3</td>\n",
       "      <td>1</td>\n",
       "      <td>4</td>\n",
       "      <td>2</td>\n",
       "      <td>38</td>\n",
       "      <td>1</td>\n",
       "      <td>2</td>\n",
       "      <td>2</td>\n",
       "      <td>2</td>\n",
       "      <td>1</td>\n",
       "      <td>1</td>\n",
       "      <td>2</td>\n",
       "    </tr>\n",
       "  </tbody>\n",
       "</table>\n",
       "</div>"
      ],
      "text/plain": [
       "   conta.saldo  crédito.duração.meses  pagamento.crédito.anterior.status  \\\n",
       "0            1                     18                                  3   \n",
       "1            1                      9                                  3   \n",
       "2            2                     12                                  2   \n",
       "3            1                     12                                  3   \n",
       "4            1                     12                                  3   \n",
       "\n",
       "   crédito.propósito  crédito.valor  poupança  duração.emprego  \\\n",
       "0                  2           1049         1                1   \n",
       "1                  4           2799         1                2   \n",
       "2                  4            841         2                3   \n",
       "3                  4           2122         1                2   \n",
       "4                  4           2171         1                2   \n",
       "\n",
       "   taxa.parcelamento  estado_civil  fiador  residência.duração  ativos.atual  \\\n",
       "0                  4             1       1                   4             2   \n",
       "1                  2             3       1                   2             1   \n",
       "2                  2             1       1                   4             1   \n",
       "3                  3             3       1                   2             1   \n",
       "4                  4             3       1                   4             2   \n",
       "\n",
       "   idade  outros.créditos  apartamento.tipo  banco.crédito  ocupação  \\\n",
       "0     21                2                 1              1         3   \n",
       "1     36                2                 1              2         3   \n",
       "2     23                2                 1              1         2   \n",
       "3     39                2                 1              2         2   \n",
       "4     38                1                 2              2         2   \n",
       "\n",
       "   dependentes  telefone  trabalhador_estrangeiro  \n",
       "0            1         1                        1  \n",
       "1            2         1                        1  \n",
       "2            1         1                        1  \n",
       "3            2         1                        2  \n",
       "4            1         1                        2  "
      ]
     },
     "execution_count": 30,
     "metadata": {},
     "output_type": "execute_result"
    }
   ],
   "source": [
    "X = df[ atributos ]\n",
    "X.head()"
   ]
  },
  {
   "cell_type": "code",
   "execution_count": 31,
   "metadata": {},
   "outputs": [],
   "source": [
    "X = X.values.astype(float)\n",
    "y = df['classificação_crédito'].values"
   ]
  },
  {
   "cell_type": "code",
   "execution_count": 32,
   "metadata": {},
   "outputs": [],
   "source": [
    "import numpy as np\n",
    "np.set_printoptions(precision=4, suppress=True)"
   ]
  },
  {
   "cell_type": "code",
   "execution_count": 33,
   "metadata": {},
   "outputs": [
    {
     "data": {
      "text/plain": [
       "array([[   1.,   18.,    3.,    2., 1049.,    1.,    1.,    4.,    1.,\n",
       "           1.,    4.,    2.,   21.,    2.,    1.,    1.,    3.,    1.,\n",
       "           1.,    1.],\n",
       "       [   1.,    9.,    3.,    4., 2799.,    1.,    2.,    2.,    3.,\n",
       "           1.,    2.,    1.,   36.,    2.,    1.,    2.,    3.,    2.,\n",
       "           1.,    1.],\n",
       "       [   2.,   12.,    2.,    4.,  841.,    2.,    3.,    2.,    1.,\n",
       "           1.,    4.,    1.,   23.,    2.,    1.,    1.,    2.,    1.,\n",
       "           1.,    1.]])"
      ]
     },
     "execution_count": 33,
     "metadata": {},
     "output_type": "execute_result"
    }
   ],
   "source": [
    "X[:3]"
   ]
  },
  {
   "cell_type": "code",
   "execution_count": 34,
   "metadata": {},
   "outputs": [
    {
     "data": {
      "text/plain": [
       "array([1, 1, 1])"
      ]
     },
     "execution_count": 34,
     "metadata": {},
     "output_type": "execute_result"
    }
   ],
   "source": [
    "y[:3]"
   ]
  },
  {
   "cell_type": "markdown",
   "metadata": {},
   "source": [
    "## Preparando os dados para aplicar Regressão Logistica<br />"
   ]
  },
  {
   "cell_type": "code",
   "execution_count": 35,
   "metadata": {},
   "outputs": [
    {
     "data": {
      "text/plain": [
       "(1000, 20)"
      ]
     },
     "execution_count": 35,
     "metadata": {},
     "output_type": "execute_result"
    }
   ],
   "source": [
    "X.shape"
   ]
  },
  {
   "cell_type": "markdown",
   "metadata": {},
   "source": [
    "## Aplicando o Algoritmo"
   ]
  },
  {
   "cell_type": "code",
   "execution_count": 36,
   "metadata": {},
   "outputs": [
    {
     "data": {
      "text/html": [
       "<style>#sk-container-id-1 {\n",
       "  /* Definition of color scheme common for light and dark mode */\n",
       "  --sklearn-color-text: black;\n",
       "  --sklearn-color-line: gray;\n",
       "  /* Definition of color scheme for unfitted estimators */\n",
       "  --sklearn-color-unfitted-level-0: #fff5e6;\n",
       "  --sklearn-color-unfitted-level-1: #f6e4d2;\n",
       "  --sklearn-color-unfitted-level-2: #ffe0b3;\n",
       "  --sklearn-color-unfitted-level-3: chocolate;\n",
       "  /* Definition of color scheme for fitted estimators */\n",
       "  --sklearn-color-fitted-level-0: #f0f8ff;\n",
       "  --sklearn-color-fitted-level-1: #d4ebff;\n",
       "  --sklearn-color-fitted-level-2: #b3dbfd;\n",
       "  --sklearn-color-fitted-level-3: cornflowerblue;\n",
       "\n",
       "  /* Specific color for light theme */\n",
       "  --sklearn-color-text-on-default-background: var(--sg-text-color, var(--theme-code-foreground, var(--jp-content-font-color1, black)));\n",
       "  --sklearn-color-background: var(--sg-background-color, var(--theme-background, var(--jp-layout-color0, white)));\n",
       "  --sklearn-color-border-box: var(--sg-text-color, var(--theme-code-foreground, var(--jp-content-font-color1, black)));\n",
       "  --sklearn-color-icon: #696969;\n",
       "\n",
       "  @media (prefers-color-scheme: dark) {\n",
       "    /* Redefinition of color scheme for dark theme */\n",
       "    --sklearn-color-text-on-default-background: var(--sg-text-color, var(--theme-code-foreground, var(--jp-content-font-color1, white)));\n",
       "    --sklearn-color-background: var(--sg-background-color, var(--theme-background, var(--jp-layout-color0, #111)));\n",
       "    --sklearn-color-border-box: var(--sg-text-color, var(--theme-code-foreground, var(--jp-content-font-color1, white)));\n",
       "    --sklearn-color-icon: #878787;\n",
       "  }\n",
       "}\n",
       "\n",
       "#sk-container-id-1 {\n",
       "  color: var(--sklearn-color-text);\n",
       "}\n",
       "\n",
       "#sk-container-id-1 pre {\n",
       "  padding: 0;\n",
       "}\n",
       "\n",
       "#sk-container-id-1 input.sk-hidden--visually {\n",
       "  border: 0;\n",
       "  clip: rect(1px 1px 1px 1px);\n",
       "  clip: rect(1px, 1px, 1px, 1px);\n",
       "  height: 1px;\n",
       "  margin: -1px;\n",
       "  overflow: hidden;\n",
       "  padding: 0;\n",
       "  position: absolute;\n",
       "  width: 1px;\n",
       "}\n",
       "\n",
       "#sk-container-id-1 div.sk-dashed-wrapped {\n",
       "  border: 1px dashed var(--sklearn-color-line);\n",
       "  margin: 0 0.4em 0.5em 0.4em;\n",
       "  box-sizing: border-box;\n",
       "  padding-bottom: 0.4em;\n",
       "  background-color: var(--sklearn-color-background);\n",
       "}\n",
       "\n",
       "#sk-container-id-1 div.sk-container {\n",
       "  /* jupyter's `normalize.less` sets `[hidden] { display: none; }`\n",
       "     but bootstrap.min.css set `[hidden] { display: none !important; }`\n",
       "     so we also need the `!important` here to be able to override the\n",
       "     default hidden behavior on the sphinx rendered scikit-learn.org.\n",
       "     See: https://github.com/scikit-learn/scikit-learn/issues/21755 */\n",
       "  display: inline-block !important;\n",
       "  position: relative;\n",
       "}\n",
       "\n",
       "#sk-container-id-1 div.sk-text-repr-fallback {\n",
       "  display: none;\n",
       "}\n",
       "\n",
       "div.sk-parallel-item,\n",
       "div.sk-serial,\n",
       "div.sk-item {\n",
       "  /* draw centered vertical line to link estimators */\n",
       "  background-image: linear-gradient(var(--sklearn-color-text-on-default-background), var(--sklearn-color-text-on-default-background));\n",
       "  background-size: 2px 100%;\n",
       "  background-repeat: no-repeat;\n",
       "  background-position: center center;\n",
       "}\n",
       "\n",
       "/* Parallel-specific style estimator block */\n",
       "\n",
       "#sk-container-id-1 div.sk-parallel-item::after {\n",
       "  content: \"\";\n",
       "  width: 100%;\n",
       "  border-bottom: 2px solid var(--sklearn-color-text-on-default-background);\n",
       "  flex-grow: 1;\n",
       "}\n",
       "\n",
       "#sk-container-id-1 div.sk-parallel {\n",
       "  display: flex;\n",
       "  align-items: stretch;\n",
       "  justify-content: center;\n",
       "  background-color: var(--sklearn-color-background);\n",
       "  position: relative;\n",
       "}\n",
       "\n",
       "#sk-container-id-1 div.sk-parallel-item {\n",
       "  display: flex;\n",
       "  flex-direction: column;\n",
       "}\n",
       "\n",
       "#sk-container-id-1 div.sk-parallel-item:first-child::after {\n",
       "  align-self: flex-end;\n",
       "  width: 50%;\n",
       "}\n",
       "\n",
       "#sk-container-id-1 div.sk-parallel-item:last-child::after {\n",
       "  align-self: flex-start;\n",
       "  width: 50%;\n",
       "}\n",
       "\n",
       "#sk-container-id-1 div.sk-parallel-item:only-child::after {\n",
       "  width: 0;\n",
       "}\n",
       "\n",
       "/* Serial-specific style estimator block */\n",
       "\n",
       "#sk-container-id-1 div.sk-serial {\n",
       "  display: flex;\n",
       "  flex-direction: column;\n",
       "  align-items: center;\n",
       "  background-color: var(--sklearn-color-background);\n",
       "  padding-right: 1em;\n",
       "  padding-left: 1em;\n",
       "}\n",
       "\n",
       "\n",
       "/* Toggleable style: style used for estimator/Pipeline/ColumnTransformer box that is\n",
       "clickable and can be expanded/collapsed.\n",
       "- Pipeline and ColumnTransformer use this feature and define the default style\n",
       "- Estimators will overwrite some part of the style using the `sk-estimator` class\n",
       "*/\n",
       "\n",
       "/* Pipeline and ColumnTransformer style (default) */\n",
       "\n",
       "#sk-container-id-1 div.sk-toggleable {\n",
       "  /* Default theme specific background. It is overwritten whether we have a\n",
       "  specific estimator or a Pipeline/ColumnTransformer */\n",
       "  background-color: var(--sklearn-color-background);\n",
       "}\n",
       "\n",
       "/* Toggleable label */\n",
       "#sk-container-id-1 label.sk-toggleable__label {\n",
       "  cursor: pointer;\n",
       "  display: block;\n",
       "  width: 100%;\n",
       "  margin-bottom: 0;\n",
       "  padding: 0.5em;\n",
       "  box-sizing: border-box;\n",
       "  text-align: center;\n",
       "}\n",
       "\n",
       "#sk-container-id-1 label.sk-toggleable__label-arrow:before {\n",
       "  /* Arrow on the left of the label */\n",
       "  content: \"▸\";\n",
       "  float: left;\n",
       "  margin-right: 0.25em;\n",
       "  color: var(--sklearn-color-icon);\n",
       "}\n",
       "\n",
       "#sk-container-id-1 label.sk-toggleable__label-arrow:hover:before {\n",
       "  color: var(--sklearn-color-text);\n",
       "}\n",
       "\n",
       "/* Toggleable content - dropdown */\n",
       "\n",
       "#sk-container-id-1 div.sk-toggleable__content {\n",
       "  max-height: 0;\n",
       "  max-width: 0;\n",
       "  overflow: hidden;\n",
       "  text-align: left;\n",
       "  /* unfitted */\n",
       "  background-color: var(--sklearn-color-unfitted-level-0);\n",
       "}\n",
       "\n",
       "#sk-container-id-1 div.sk-toggleable__content.fitted {\n",
       "  /* fitted */\n",
       "  background-color: var(--sklearn-color-fitted-level-0);\n",
       "}\n",
       "\n",
       "#sk-container-id-1 div.sk-toggleable__content pre {\n",
       "  margin: 0.2em;\n",
       "  border-radius: 0.25em;\n",
       "  color: var(--sklearn-color-text);\n",
       "  /* unfitted */\n",
       "  background-color: var(--sklearn-color-unfitted-level-0);\n",
       "}\n",
       "\n",
       "#sk-container-id-1 div.sk-toggleable__content.fitted pre {\n",
       "  /* unfitted */\n",
       "  background-color: var(--sklearn-color-fitted-level-0);\n",
       "}\n",
       "\n",
       "#sk-container-id-1 input.sk-toggleable__control:checked~div.sk-toggleable__content {\n",
       "  /* Expand drop-down */\n",
       "  max-height: 200px;\n",
       "  max-width: 100%;\n",
       "  overflow: auto;\n",
       "}\n",
       "\n",
       "#sk-container-id-1 input.sk-toggleable__control:checked~label.sk-toggleable__label-arrow:before {\n",
       "  content: \"▾\";\n",
       "}\n",
       "\n",
       "/* Pipeline/ColumnTransformer-specific style */\n",
       "\n",
       "#sk-container-id-1 div.sk-label input.sk-toggleable__control:checked~label.sk-toggleable__label {\n",
       "  color: var(--sklearn-color-text);\n",
       "  background-color: var(--sklearn-color-unfitted-level-2);\n",
       "}\n",
       "\n",
       "#sk-container-id-1 div.sk-label.fitted input.sk-toggleable__control:checked~label.sk-toggleable__label {\n",
       "  background-color: var(--sklearn-color-fitted-level-2);\n",
       "}\n",
       "\n",
       "/* Estimator-specific style */\n",
       "\n",
       "/* Colorize estimator box */\n",
       "#sk-container-id-1 div.sk-estimator input.sk-toggleable__control:checked~label.sk-toggleable__label {\n",
       "  /* unfitted */\n",
       "  background-color: var(--sklearn-color-unfitted-level-2);\n",
       "}\n",
       "\n",
       "#sk-container-id-1 div.sk-estimator.fitted input.sk-toggleable__control:checked~label.sk-toggleable__label {\n",
       "  /* fitted */\n",
       "  background-color: var(--sklearn-color-fitted-level-2);\n",
       "}\n",
       "\n",
       "#sk-container-id-1 div.sk-label label.sk-toggleable__label,\n",
       "#sk-container-id-1 div.sk-label label {\n",
       "  /* The background is the default theme color */\n",
       "  color: var(--sklearn-color-text-on-default-background);\n",
       "}\n",
       "\n",
       "/* On hover, darken the color of the background */\n",
       "#sk-container-id-1 div.sk-label:hover label.sk-toggleable__label {\n",
       "  color: var(--sklearn-color-text);\n",
       "  background-color: var(--sklearn-color-unfitted-level-2);\n",
       "}\n",
       "\n",
       "/* Label box, darken color on hover, fitted */\n",
       "#sk-container-id-1 div.sk-label.fitted:hover label.sk-toggleable__label.fitted {\n",
       "  color: var(--sklearn-color-text);\n",
       "  background-color: var(--sklearn-color-fitted-level-2);\n",
       "}\n",
       "\n",
       "/* Estimator label */\n",
       "\n",
       "#sk-container-id-1 div.sk-label label {\n",
       "  font-family: monospace;\n",
       "  font-weight: bold;\n",
       "  display: inline-block;\n",
       "  line-height: 1.2em;\n",
       "}\n",
       "\n",
       "#sk-container-id-1 div.sk-label-container {\n",
       "  text-align: center;\n",
       "}\n",
       "\n",
       "/* Estimator-specific */\n",
       "#sk-container-id-1 div.sk-estimator {\n",
       "  font-family: monospace;\n",
       "  border: 1px dotted var(--sklearn-color-border-box);\n",
       "  border-radius: 0.25em;\n",
       "  box-sizing: border-box;\n",
       "  margin-bottom: 0.5em;\n",
       "  /* unfitted */\n",
       "  background-color: var(--sklearn-color-unfitted-level-0);\n",
       "}\n",
       "\n",
       "#sk-container-id-1 div.sk-estimator.fitted {\n",
       "  /* fitted */\n",
       "  background-color: var(--sklearn-color-fitted-level-0);\n",
       "}\n",
       "\n",
       "/* on hover */\n",
       "#sk-container-id-1 div.sk-estimator:hover {\n",
       "  /* unfitted */\n",
       "  background-color: var(--sklearn-color-unfitted-level-2);\n",
       "}\n",
       "\n",
       "#sk-container-id-1 div.sk-estimator.fitted:hover {\n",
       "  /* fitted */\n",
       "  background-color: var(--sklearn-color-fitted-level-2);\n",
       "}\n",
       "\n",
       "/* Specification for estimator info (e.g. \"i\" and \"?\") */\n",
       "\n",
       "/* Common style for \"i\" and \"?\" */\n",
       "\n",
       ".sk-estimator-doc-link,\n",
       "a:link.sk-estimator-doc-link,\n",
       "a:visited.sk-estimator-doc-link {\n",
       "  float: right;\n",
       "  font-size: smaller;\n",
       "  line-height: 1em;\n",
       "  font-family: monospace;\n",
       "  background-color: var(--sklearn-color-background);\n",
       "  border-radius: 1em;\n",
       "  height: 1em;\n",
       "  width: 1em;\n",
       "  text-decoration: none !important;\n",
       "  margin-left: 1ex;\n",
       "  /* unfitted */\n",
       "  border: var(--sklearn-color-unfitted-level-1) 1pt solid;\n",
       "  color: var(--sklearn-color-unfitted-level-1);\n",
       "}\n",
       "\n",
       ".sk-estimator-doc-link.fitted,\n",
       "a:link.sk-estimator-doc-link.fitted,\n",
       "a:visited.sk-estimator-doc-link.fitted {\n",
       "  /* fitted */\n",
       "  border: var(--sklearn-color-fitted-level-1) 1pt solid;\n",
       "  color: var(--sklearn-color-fitted-level-1);\n",
       "}\n",
       "\n",
       "/* On hover */\n",
       "div.sk-estimator:hover .sk-estimator-doc-link:hover,\n",
       ".sk-estimator-doc-link:hover,\n",
       "div.sk-label-container:hover .sk-estimator-doc-link:hover,\n",
       ".sk-estimator-doc-link:hover {\n",
       "  /* unfitted */\n",
       "  background-color: var(--sklearn-color-unfitted-level-3);\n",
       "  color: var(--sklearn-color-background);\n",
       "  text-decoration: none;\n",
       "}\n",
       "\n",
       "div.sk-estimator.fitted:hover .sk-estimator-doc-link.fitted:hover,\n",
       ".sk-estimator-doc-link.fitted:hover,\n",
       "div.sk-label-container:hover .sk-estimator-doc-link.fitted:hover,\n",
       ".sk-estimator-doc-link.fitted:hover {\n",
       "  /* fitted */\n",
       "  background-color: var(--sklearn-color-fitted-level-3);\n",
       "  color: var(--sklearn-color-background);\n",
       "  text-decoration: none;\n",
       "}\n",
       "\n",
       "/* Span, style for the box shown on hovering the info icon */\n",
       ".sk-estimator-doc-link span {\n",
       "  display: none;\n",
       "  z-index: 9999;\n",
       "  position: relative;\n",
       "  font-weight: normal;\n",
       "  right: .2ex;\n",
       "  padding: .5ex;\n",
       "  margin: .5ex;\n",
       "  width: min-content;\n",
       "  min-width: 20ex;\n",
       "  max-width: 50ex;\n",
       "  color: var(--sklearn-color-text);\n",
       "  box-shadow: 2pt 2pt 4pt #999;\n",
       "  /* unfitted */\n",
       "  background: var(--sklearn-color-unfitted-level-0);\n",
       "  border: .5pt solid var(--sklearn-color-unfitted-level-3);\n",
       "}\n",
       "\n",
       ".sk-estimator-doc-link.fitted span {\n",
       "  /* fitted */\n",
       "  background: var(--sklearn-color-fitted-level-0);\n",
       "  border: var(--sklearn-color-fitted-level-3);\n",
       "}\n",
       "\n",
       ".sk-estimator-doc-link:hover span {\n",
       "  display: block;\n",
       "}\n",
       "\n",
       "/* \"?\"-specific style due to the `<a>` HTML tag */\n",
       "\n",
       "#sk-container-id-1 a.estimator_doc_link {\n",
       "  float: right;\n",
       "  font-size: 1rem;\n",
       "  line-height: 1em;\n",
       "  font-family: monospace;\n",
       "  background-color: var(--sklearn-color-background);\n",
       "  border-radius: 1rem;\n",
       "  height: 1rem;\n",
       "  width: 1rem;\n",
       "  text-decoration: none;\n",
       "  /* unfitted */\n",
       "  color: var(--sklearn-color-unfitted-level-1);\n",
       "  border: var(--sklearn-color-unfitted-level-1) 1pt solid;\n",
       "}\n",
       "\n",
       "#sk-container-id-1 a.estimator_doc_link.fitted {\n",
       "  /* fitted */\n",
       "  border: var(--sklearn-color-fitted-level-1) 1pt solid;\n",
       "  color: var(--sklearn-color-fitted-level-1);\n",
       "}\n",
       "\n",
       "/* On hover */\n",
       "#sk-container-id-1 a.estimator_doc_link:hover {\n",
       "  /* unfitted */\n",
       "  background-color: var(--sklearn-color-unfitted-level-3);\n",
       "  color: var(--sklearn-color-background);\n",
       "  text-decoration: none;\n",
       "}\n",
       "\n",
       "#sk-container-id-1 a.estimator_doc_link.fitted:hover {\n",
       "  /* fitted */\n",
       "  background-color: var(--sklearn-color-fitted-level-3);\n",
       "}\n",
       "</style><div id=\"sk-container-id-1\" class=\"sk-top-container\"><div class=\"sk-text-repr-fallback\"><pre>LogisticRegression()</pre><b>In a Jupyter environment, please rerun this cell to show the HTML representation or trust the notebook. <br />On GitHub, the HTML representation is unable to render, please try loading this page with nbviewer.org.</b></div><div class=\"sk-container\" hidden><div class=\"sk-item\"><div class=\"sk-estimator fitted sk-toggleable\"><input class=\"sk-toggleable__control sk-hidden--visually\" id=\"sk-estimator-id-1\" type=\"checkbox\" checked><label for=\"sk-estimator-id-1\" class=\"sk-toggleable__label fitted sk-toggleable__label-arrow fitted\">&nbsp;&nbsp;LogisticRegression<a class=\"sk-estimator-doc-link fitted\" rel=\"noreferrer\" target=\"_blank\" href=\"https://scikit-learn.org/1.4/modules/generated/sklearn.linear_model.LogisticRegression.html\">?<span>Documentation for LogisticRegression</span></a><span class=\"sk-estimator-doc-link fitted\">i<span>Fitted</span></span></label><div class=\"sk-toggleable__content fitted\"><pre>LogisticRegression()</pre></div> </div></div></div></div>"
      ],
      "text/plain": [
       "LogisticRegression()"
      ]
     },
     "execution_count": 36,
     "metadata": {},
     "output_type": "execute_result"
    }
   ],
   "source": [
    "# instantiate a logistic regression model, and fit with X and y\n",
    "model = LogisticRegression()\n",
    "model = model.fit(X, y) # Treinamento\n",
    "model"
   ]
  },
  {
   "cell_type": "markdown",
   "metadata": {},
   "source": [
    "## Avaliando A Acurácia do Modelo"
   ]
  },
  {
   "cell_type": "code",
   "execution_count": 37,
   "metadata": {},
   "outputs": [
    {
     "data": {
      "text/plain": [
       "77.2"
      ]
     },
     "execution_count": 37,
     "metadata": {},
     "output_type": "execute_result"
    }
   ],
   "source": [
    "# check the accuracy on the training set\n",
    "model.score(X, y) * 100"
   ]
  },
  {
   "cell_type": "markdown",
   "metadata": {},
   "source": [
    "### Examinando os Coeficientes"
   ]
  },
  {
   "cell_type": "code",
   "execution_count": 38,
   "metadata": {},
   "outputs": [
    {
     "data": {
      "text/plain": [
       "array(['classificação_crédito', 'conta.saldo', 'crédito.duração.meses',\n",
       "       'pagamento.crédito.anterior.status', 'crédito.propósito',\n",
       "       'crédito.valor', 'poupança', 'duração.emprego',\n",
       "       'taxa.parcelamento', 'estado_civil', 'fiador',\n",
       "       'residência.duração', 'ativos.atual', 'idade', 'outros.créditos',\n",
       "       'apartamento.tipo', 'banco.crédito', 'ocupação', 'dependentes',\n",
       "       'telefone', 'trabalhador_estrangeiro'], dtype=object)"
      ]
     },
     "execution_count": 38,
     "metadata": {},
     "output_type": "execute_result"
    }
   ],
   "source": [
    "cols = df.columns.values\n",
    "cols"
   ]
  },
  {
   "cell_type": "code",
   "execution_count": 39,
   "metadata": {},
   "outputs": [
    {
     "data": {
      "text/plain": [
       "array(['conta.saldo', 'crédito.duração.meses',\n",
       "       'pagamento.crédito.anterior.status', 'crédito.propósito',\n",
       "       'crédito.valor', 'poupança', 'duração.emprego',\n",
       "       'taxa.parcelamento', 'estado_civil', 'fiador',\n",
       "       'residência.duração', 'ativos.atual', 'idade', 'outros.créditos',\n",
       "       'apartamento.tipo', 'banco.crédito', 'ocupação', 'dependentes',\n",
       "       'telefone', 'trabalhador_estrangeiro'], dtype=object)"
      ]
     },
     "execution_count": 39,
     "metadata": {},
     "output_type": "execute_result"
    }
   ],
   "source": [
    "cols_atributos = cols[1:]\n",
    "cols_atributos"
   ]
  },
  {
   "cell_type": "code",
   "execution_count": 40,
   "metadata": {},
   "outputs": [
    {
     "data": {
      "text/plain": [
       "20"
      ]
     },
     "execution_count": 40,
     "metadata": {},
     "output_type": "execute_result"
    }
   ],
   "source": [
    "len(cols_atributos)"
   ]
  },
  {
   "cell_type": "code",
   "execution_count": 41,
   "metadata": {},
   "outputs": [
    {
     "data": {
      "text/plain": [
       "-0.016080850585266177"
      ]
     },
     "execution_count": 41,
     "metadata": {},
     "output_type": "execute_result"
    }
   ],
   "source": [
    "model.intercept_[0]"
   ]
  },
  {
   "cell_type": "code",
   "execution_count": 42,
   "metadata": {},
   "outputs": [
    {
     "data": {
      "text/plain": [
       "array([ 0.7718, -0.0255,  0.437 , -0.4513, -0.0001,  0.2667,  0.1856,\n",
       "       -0.3025,  0.2035,  0.0293, -0.0716, -0.2537,  0.0095,  0.1499,\n",
       "        0.0866,  0.0001, -0.0151, -0.064 ,  0.1283,  0.0527])"
      ]
     },
     "execution_count": 42,
     "metadata": {},
     "output_type": "execute_result"
    }
   ],
   "source": [
    "model.coef_[0]"
   ]
  },
  {
   "cell_type": "code",
   "execution_count": 43,
   "metadata": {},
   "outputs": [
    {
     "data": {
      "text/plain": [
       "20"
      ]
     },
     "execution_count": 43,
     "metadata": {},
     "output_type": "execute_result"
    }
   ],
   "source": [
    "len(model.coef_[0])"
   ]
  },
  {
   "cell_type": "code",
   "execution_count": 44,
   "metadata": {},
   "outputs": [
    {
     "data": {
      "text/plain": [
       "[['conta.saldo', 0.7718273774775817],\n",
       " ['crédito.duração.meses', -0.025487475149598836],\n",
       " ['pagamento.crédito.anterior.status', 0.43704290232877596],\n",
       " ['crédito.propósito', -0.45130819251727533],\n",
       " ['crédito.valor', -0.00010285010165765837],\n",
       " ['poupança', 0.266731665112029],\n",
       " ['duração.emprego', 0.1855884851795913],\n",
       " ['taxa.parcelamento', -0.302478274717788],\n",
       " ['estado_civil', 0.20349463769206882],\n",
       " ['fiador', 0.02930595496697525],\n",
       " ['residência.duração', -0.07160376712756872],\n",
       " ['ativos.atual', -0.25370966668196226],\n",
       " ['idade', 0.009452734000829034],\n",
       " ['outros.créditos', 0.14986149766503656],\n",
       " ['apartamento.tipo', 0.08658690781126614],\n",
       " ['banco.crédito', 7.338676723623686e-05],\n",
       " ['ocupação', -0.015128792726187328],\n",
       " ['dependentes', -0.06401256864674555],\n",
       " ['telefone', 0.12826608111784887],\n",
       " ['trabalhador_estrangeiro', 0.05274520829041118]]"
      ]
     },
     "execution_count": 44,
     "metadata": {},
     "output_type": "execute_result"
    }
   ],
   "source": [
    "# examine the coefficients\n",
    "elementos = [[x,y] for x, y in zip(cols_atributos, model.coef_[0])]\n",
    "elementos"
   ]
  },
  {
   "cell_type": "code",
   "execution_count": 45,
   "metadata": {},
   "outputs": [
    {
     "data": {
      "text/html": [
       "<div>\n",
       "<style scoped>\n",
       "    .dataframe tbody tr th:only-of-type {\n",
       "        vertical-align: middle;\n",
       "    }\n",
       "\n",
       "    .dataframe tbody tr th {\n",
       "        vertical-align: top;\n",
       "    }\n",
       "\n",
       "    .dataframe thead th {\n",
       "        text-align: right;\n",
       "    }\n",
       "</style>\n",
       "<table border=\"1\" class=\"dataframe\">\n",
       "  <thead>\n",
       "    <tr style=\"text-align: right;\">\n",
       "      <th></th>\n",
       "      <th>Atributo</th>\n",
       "      <th>w</th>\n",
       "    </tr>\n",
       "  </thead>\n",
       "  <tbody>\n",
       "    <tr>\n",
       "      <th>0</th>\n",
       "      <td>conta.saldo</td>\n",
       "      <td>0.771827</td>\n",
       "    </tr>\n",
       "    <tr>\n",
       "      <th>1</th>\n",
       "      <td>crédito.duração.meses</td>\n",
       "      <td>-0.025487</td>\n",
       "    </tr>\n",
       "    <tr>\n",
       "      <th>2</th>\n",
       "      <td>pagamento.crédito.anterior.status</td>\n",
       "      <td>0.437043</td>\n",
       "    </tr>\n",
       "    <tr>\n",
       "      <th>3</th>\n",
       "      <td>crédito.propósito</td>\n",
       "      <td>-0.451308</td>\n",
       "    </tr>\n",
       "    <tr>\n",
       "      <th>4</th>\n",
       "      <td>crédito.valor</td>\n",
       "      <td>-0.000103</td>\n",
       "    </tr>\n",
       "    <tr>\n",
       "      <th>5</th>\n",
       "      <td>poupança</td>\n",
       "      <td>0.266732</td>\n",
       "    </tr>\n",
       "    <tr>\n",
       "      <th>6</th>\n",
       "      <td>duração.emprego</td>\n",
       "      <td>0.185588</td>\n",
       "    </tr>\n",
       "    <tr>\n",
       "      <th>7</th>\n",
       "      <td>taxa.parcelamento</td>\n",
       "      <td>-0.302478</td>\n",
       "    </tr>\n",
       "    <tr>\n",
       "      <th>8</th>\n",
       "      <td>estado_civil</td>\n",
       "      <td>0.203495</td>\n",
       "    </tr>\n",
       "    <tr>\n",
       "      <th>9</th>\n",
       "      <td>fiador</td>\n",
       "      <td>0.029306</td>\n",
       "    </tr>\n",
       "    <tr>\n",
       "      <th>10</th>\n",
       "      <td>residência.duração</td>\n",
       "      <td>-0.071604</td>\n",
       "    </tr>\n",
       "    <tr>\n",
       "      <th>11</th>\n",
       "      <td>ativos.atual</td>\n",
       "      <td>-0.253710</td>\n",
       "    </tr>\n",
       "    <tr>\n",
       "      <th>12</th>\n",
       "      <td>idade</td>\n",
       "      <td>0.009453</td>\n",
       "    </tr>\n",
       "    <tr>\n",
       "      <th>13</th>\n",
       "      <td>outros.créditos</td>\n",
       "      <td>0.149861</td>\n",
       "    </tr>\n",
       "    <tr>\n",
       "      <th>14</th>\n",
       "      <td>apartamento.tipo</td>\n",
       "      <td>0.086587</td>\n",
       "    </tr>\n",
       "    <tr>\n",
       "      <th>15</th>\n",
       "      <td>banco.crédito</td>\n",
       "      <td>0.000073</td>\n",
       "    </tr>\n",
       "    <tr>\n",
       "      <th>16</th>\n",
       "      <td>ocupação</td>\n",
       "      <td>-0.015129</td>\n",
       "    </tr>\n",
       "    <tr>\n",
       "      <th>17</th>\n",
       "      <td>dependentes</td>\n",
       "      <td>-0.064013</td>\n",
       "    </tr>\n",
       "    <tr>\n",
       "      <th>18</th>\n",
       "      <td>telefone</td>\n",
       "      <td>0.128266</td>\n",
       "    </tr>\n",
       "    <tr>\n",
       "      <th>19</th>\n",
       "      <td>trabalhador_estrangeiro</td>\n",
       "      <td>0.052745</td>\n",
       "    </tr>\n",
       "  </tbody>\n",
       "</table>\n",
       "</div>"
      ],
      "text/plain": [
       "                             Atributo         w\n",
       "0                         conta.saldo  0.771827\n",
       "1               crédito.duração.meses -0.025487\n",
       "2   pagamento.crédito.anterior.status  0.437043\n",
       "3                   crédito.propósito -0.451308\n",
       "4                       crédito.valor -0.000103\n",
       "5                            poupança  0.266732\n",
       "6                     duração.emprego  0.185588\n",
       "7                   taxa.parcelamento -0.302478\n",
       "8                        estado_civil  0.203495\n",
       "9                              fiador  0.029306\n",
       "10                 residência.duração -0.071604\n",
       "11                       ativos.atual -0.253710\n",
       "12                              idade  0.009453\n",
       "13                    outros.créditos  0.149861\n",
       "14                   apartamento.tipo  0.086587\n",
       "15                      banco.crédito  0.000073\n",
       "16                           ocupação -0.015129\n",
       "17                        dependentes -0.064013\n",
       "18                           telefone  0.128266\n",
       "19            trabalhador_estrangeiro  0.052745"
      ]
     },
     "execution_count": 45,
     "metadata": {},
     "output_type": "execute_result"
    }
   ],
   "source": [
    "# examine the coefficients\n",
    "pd.DataFrame(elementos, columns=['Atributo', 'w'])"
   ]
  },
  {
   "cell_type": "markdown",
   "metadata": {},
   "source": [
    "# Previsão"
   ]
  },
  {
   "cell_type": "code",
   "execution_count": 46,
   "metadata": {},
   "outputs": [
    {
     "data": {
      "text/html": [
       "<div>\n",
       "<style scoped>\n",
       "    .dataframe tbody tr th:only-of-type {\n",
       "        vertical-align: middle;\n",
       "    }\n",
       "\n",
       "    .dataframe tbody tr th {\n",
       "        vertical-align: top;\n",
       "    }\n",
       "\n",
       "    .dataframe thead th {\n",
       "        text-align: right;\n",
       "    }\n",
       "</style>\n",
       "<table border=\"1\" class=\"dataframe\">\n",
       "  <thead>\n",
       "    <tr style=\"text-align: right;\">\n",
       "      <th></th>\n",
       "      <th>classificação_crédito</th>\n",
       "      <th>conta.saldo</th>\n",
       "      <th>crédito.duração.meses</th>\n",
       "      <th>pagamento.crédito.anterior.status</th>\n",
       "      <th>crédito.propósito</th>\n",
       "      <th>crédito.valor</th>\n",
       "      <th>poupança</th>\n",
       "      <th>duração.emprego</th>\n",
       "      <th>taxa.parcelamento</th>\n",
       "      <th>estado_civil</th>\n",
       "      <th>fiador</th>\n",
       "      <th>residência.duração</th>\n",
       "      <th>ativos.atual</th>\n",
       "      <th>idade</th>\n",
       "      <th>outros.créditos</th>\n",
       "      <th>apartamento.tipo</th>\n",
       "      <th>banco.crédito</th>\n",
       "      <th>ocupação</th>\n",
       "      <th>dependentes</th>\n",
       "      <th>telefone</th>\n",
       "      <th>trabalhador_estrangeiro</th>\n",
       "    </tr>\n",
       "  </thead>\n",
       "  <tbody>\n",
       "    <tr>\n",
       "      <th>0</th>\n",
       "      <td>1</td>\n",
       "      <td>1</td>\n",
       "      <td>18</td>\n",
       "      <td>3</td>\n",
       "      <td>2</td>\n",
       "      <td>1049</td>\n",
       "      <td>1</td>\n",
       "      <td>1</td>\n",
       "      <td>4</td>\n",
       "      <td>1</td>\n",
       "      <td>1</td>\n",
       "      <td>4</td>\n",
       "      <td>2</td>\n",
       "      <td>21</td>\n",
       "      <td>2</td>\n",
       "      <td>1</td>\n",
       "      <td>1</td>\n",
       "      <td>3</td>\n",
       "      <td>1</td>\n",
       "      <td>1</td>\n",
       "      <td>1</td>\n",
       "    </tr>\n",
       "    <tr>\n",
       "      <th>1</th>\n",
       "      <td>1</td>\n",
       "      <td>1</td>\n",
       "      <td>9</td>\n",
       "      <td>3</td>\n",
       "      <td>4</td>\n",
       "      <td>2799</td>\n",
       "      <td>1</td>\n",
       "      <td>2</td>\n",
       "      <td>2</td>\n",
       "      <td>3</td>\n",
       "      <td>1</td>\n",
       "      <td>2</td>\n",
       "      <td>1</td>\n",
       "      <td>36</td>\n",
       "      <td>2</td>\n",
       "      <td>1</td>\n",
       "      <td>2</td>\n",
       "      <td>3</td>\n",
       "      <td>2</td>\n",
       "      <td>1</td>\n",
       "      <td>1</td>\n",
       "    </tr>\n",
       "    <tr>\n",
       "      <th>2</th>\n",
       "      <td>1</td>\n",
       "      <td>2</td>\n",
       "      <td>12</td>\n",
       "      <td>2</td>\n",
       "      <td>4</td>\n",
       "      <td>841</td>\n",
       "      <td>2</td>\n",
       "      <td>3</td>\n",
       "      <td>2</td>\n",
       "      <td>1</td>\n",
       "      <td>1</td>\n",
       "      <td>4</td>\n",
       "      <td>1</td>\n",
       "      <td>23</td>\n",
       "      <td>2</td>\n",
       "      <td>1</td>\n",
       "      <td>1</td>\n",
       "      <td>2</td>\n",
       "      <td>1</td>\n",
       "      <td>1</td>\n",
       "      <td>1</td>\n",
       "    </tr>\n",
       "    <tr>\n",
       "      <th>3</th>\n",
       "      <td>1</td>\n",
       "      <td>1</td>\n",
       "      <td>12</td>\n",
       "      <td>3</td>\n",
       "      <td>4</td>\n",
       "      <td>2122</td>\n",
       "      <td>1</td>\n",
       "      <td>2</td>\n",
       "      <td>3</td>\n",
       "      <td>3</td>\n",
       "      <td>1</td>\n",
       "      <td>2</td>\n",
       "      <td>1</td>\n",
       "      <td>39</td>\n",
       "      <td>2</td>\n",
       "      <td>1</td>\n",
       "      <td>2</td>\n",
       "      <td>2</td>\n",
       "      <td>2</td>\n",
       "      <td>1</td>\n",
       "      <td>2</td>\n",
       "    </tr>\n",
       "    <tr>\n",
       "      <th>4</th>\n",
       "      <td>1</td>\n",
       "      <td>1</td>\n",
       "      <td>12</td>\n",
       "      <td>3</td>\n",
       "      <td>4</td>\n",
       "      <td>2171</td>\n",
       "      <td>1</td>\n",
       "      <td>2</td>\n",
       "      <td>4</td>\n",
       "      <td>3</td>\n",
       "      <td>1</td>\n",
       "      <td>4</td>\n",
       "      <td>2</td>\n",
       "      <td>38</td>\n",
       "      <td>1</td>\n",
       "      <td>2</td>\n",
       "      <td>2</td>\n",
       "      <td>2</td>\n",
       "      <td>1</td>\n",
       "      <td>1</td>\n",
       "      <td>2</td>\n",
       "    </tr>\n",
       "  </tbody>\n",
       "</table>\n",
       "</div>"
      ],
      "text/plain": [
       "   classificação_crédito  conta.saldo  crédito.duração.meses  \\\n",
       "0                      1            1                     18   \n",
       "1                      1            1                      9   \n",
       "2                      1            2                     12   \n",
       "3                      1            1                     12   \n",
       "4                      1            1                     12   \n",
       "\n",
       "   pagamento.crédito.anterior.status  crédito.propósito  crédito.valor  \\\n",
       "0                                  3                  2           1049   \n",
       "1                                  3                  4           2799   \n",
       "2                                  2                  4            841   \n",
       "3                                  3                  4           2122   \n",
       "4                                  3                  4           2171   \n",
       "\n",
       "   poupança  duração.emprego  taxa.parcelamento  estado_civil  fiador  \\\n",
       "0         1                1                  4             1       1   \n",
       "1         1                2                  2             3       1   \n",
       "2         2                3                  2             1       1   \n",
       "3         1                2                  3             3       1   \n",
       "4         1                2                  4             3       1   \n",
       "\n",
       "   residência.duração  ativos.atual  idade  outros.créditos  apartamento.tipo  \\\n",
       "0                   4             2     21                2                 1   \n",
       "1                   2             1     36                2                 1   \n",
       "2                   4             1     23                2                 1   \n",
       "3                   2             1     39                2                 1   \n",
       "4                   4             2     38                1                 2   \n",
       "\n",
       "   banco.crédito  ocupação  dependentes  telefone  trabalhador_estrangeiro  \n",
       "0              1         3            1         1                        1  \n",
       "1              2         3            2         1                        1  \n",
       "2              1         2            1         1                        1  \n",
       "3              2         2            2         1                        2  \n",
       "4              2         2            1         1                        2  "
      ]
     },
     "execution_count": 46,
     "metadata": {},
     "output_type": "execute_result"
    }
   ],
   "source": [
    "df.head()"
   ]
  },
  {
   "cell_type": "code",
   "execution_count": 47,
   "metadata": {},
   "outputs": [
    {
     "name": "stdout",
     "output_type": "stream",
     "text": [
      "['conta.saldo', 'crédito.duração.meses', 'pagamento.crédito.anterior.status', 'crédito.propósito', 'crédito.valor', 'poupança', 'duração.emprego', 'taxa.parcelamento', 'estado_civil', 'fiador', 'residência.duração', 'ativos.atual', 'idade', 'outros.créditos', 'apartamento.tipo', 'banco.crédito', 'ocupação', 'dependentes', 'telefone', 'trabalhador_estrangeiro']\n"
     ]
    }
   ],
   "source": [
    "atributos = list(df.columns[1:])\n",
    "print(atributos)"
   ]
  },
  {
   "cell_type": "code",
   "execution_count": 48,
   "metadata": {},
   "outputs": [
    {
     "data": {
      "text/plain": [
       "array([   1,    9,    3,    4, 2799,    1,    2,    2,    3,    1,    2,\n",
       "          1,   36,    2,    1,    2,    3,    2,    1,    1])"
      ]
     },
     "execution_count": 48,
     "metadata": {},
     "output_type": "execute_result"
    }
   ],
   "source": [
    "valores = df.iloc[1, 1:].values\n",
    "valores"
   ]
  },
  {
   "cell_type": "code",
   "execution_count": 49,
   "metadata": {},
   "outputs": [
    {
     "data": {
      "text/plain": [
       "(array([1]), array([[0.3198, 0.6802]]))"
      ]
     },
     "execution_count": 49,
     "metadata": {},
     "output_type": "execute_result"
    }
   ],
   "source": [
    "model.predict(valores.reshape(1, -1)), model.predict_proba(valores.reshape(1, -1))"
   ]
  },
  {
   "cell_type": "markdown",
   "metadata": {},
   "source": [
    "# Testando p(x)"
   ]
  },
  {
   "cell_type": "code",
   "execution_count": 50,
   "metadata": {},
   "outputs": [
    {
     "data": {
      "text/latex": [
       "$ p(x) = \\Large  \\frac{1}{1+e^ - (\\beta0 + \\beta1 . x) }  $\n"
      ],
      "text/plain": [
       "<IPython.core.display.Latex object>"
      ]
     },
     "metadata": {},
     "output_type": "display_data"
    }
   ],
   "source": [
    "%%latex\n",
    "$ p(x) = \\Large  \\frac{1}{1+e^ - (\\beta0 + \\beta1 . x) }  $"
   ]
  },
  {
   "cell_type": "markdown",
   "metadata": {},
   "source": [
    "hx = (bo + b1.x1 + .... bn.xn)"
   ]
  },
  {
   "cell_type": "code",
   "execution_count": 51,
   "metadata": {},
   "outputs": [
    {
     "data": {
      "text/plain": [
       "[1, 9, 3, 4, 2799, 1, 2, 2, 3, 1, 2, 1, 36, 2, 1, 2, 3, 2, 1, 1]"
      ]
     },
     "execution_count": 51,
     "metadata": {},
     "output_type": "execute_result"
    }
   ],
   "source": [
    "list(valores)"
   ]
  },
  {
   "cell_type": "code",
   "execution_count": 52,
   "metadata": {},
   "outputs": [
    {
     "data": {
      "text/plain": [
       "array([ 0.7718, -0.0255,  0.437 , -0.4513, -0.0001,  0.2667,  0.1856,\n",
       "       -0.3025,  0.2035,  0.0293, -0.0716, -0.2537,  0.0095,  0.1499,\n",
       "        0.0866,  0.0001, -0.0151, -0.064 ,  0.1283,  0.0527])"
      ]
     },
     "execution_count": 52,
     "metadata": {},
     "output_type": "execute_result"
    }
   ],
   "source": [
    "model.coef_[0]"
   ]
  },
  {
   "cell_type": "code",
   "execution_count": 53,
   "metadata": {},
   "outputs": [
    {
     "name": "stdout",
     "output_type": "stream",
     "text": [
      "0.7545573807069483\n"
     ]
    }
   ],
   "source": [
    "h_x = 0\n",
    "for coef, var in zip(model.coef_[0], list(valores)):\n",
    "    termo = coef * var\n",
    "    #print(coef, eval(var))\n",
    "    h_x += termo\n",
    "\n",
    "h_x += model.intercept_[0]\n",
    "print(h_x)"
   ]
  },
  {
   "cell_type": "code",
   "execution_count": 54,
   "metadata": {},
   "outputs": [
    {
     "name": "stdout",
     "output_type": "stream",
     "text": [
      "Probabilidade de Sucesso (classe 1):  0.6801709176674828\n",
      "Probabilidade  (classe 0):  0.31982908233251717\n"
     ]
    }
   ],
   "source": [
    "import numpy as np\n",
    "\n",
    "p_x = 1 / (1 + np.e ** - h_x)\n",
    "print('Probabilidade de Sucesso (classe 1): ', p_x) # Probabilidade de Sucesso\n",
    "print('Probabilidade  (classe 0): ', 1 - p_x)"
   ]
  },
  {
   "cell_type": "markdown",
   "metadata": {},
   "source": [
    "## Avaliando o modelo usando split de dados"
   ]
  },
  {
   "cell_type": "code",
   "execution_count": 55,
   "metadata": {},
   "outputs": [
    {
     "name": "stdout",
     "output_type": "stream",
     "text": [
      "700 300\n"
     ]
    }
   ],
   "source": [
    "# evaluate the model by splitting into train and test sets\n",
    "X_train, X_test, y_train, y_test = train_test_split(X, y, test_size=0.3, random_state=0)\n",
    "print(len(X_train), len(X_test))"
   ]
  },
  {
   "cell_type": "code",
   "execution_count": 56,
   "metadata": {},
   "outputs": [
    {
     "data": {
      "text/html": [
       "<style>#sk-container-id-2 {\n",
       "  /* Definition of color scheme common for light and dark mode */\n",
       "  --sklearn-color-text: black;\n",
       "  --sklearn-color-line: gray;\n",
       "  /* Definition of color scheme for unfitted estimators */\n",
       "  --sklearn-color-unfitted-level-0: #fff5e6;\n",
       "  --sklearn-color-unfitted-level-1: #f6e4d2;\n",
       "  --sklearn-color-unfitted-level-2: #ffe0b3;\n",
       "  --sklearn-color-unfitted-level-3: chocolate;\n",
       "  /* Definition of color scheme for fitted estimators */\n",
       "  --sklearn-color-fitted-level-0: #f0f8ff;\n",
       "  --sklearn-color-fitted-level-1: #d4ebff;\n",
       "  --sklearn-color-fitted-level-2: #b3dbfd;\n",
       "  --sklearn-color-fitted-level-3: cornflowerblue;\n",
       "\n",
       "  /* Specific color for light theme */\n",
       "  --sklearn-color-text-on-default-background: var(--sg-text-color, var(--theme-code-foreground, var(--jp-content-font-color1, black)));\n",
       "  --sklearn-color-background: var(--sg-background-color, var(--theme-background, var(--jp-layout-color0, white)));\n",
       "  --sklearn-color-border-box: var(--sg-text-color, var(--theme-code-foreground, var(--jp-content-font-color1, black)));\n",
       "  --sklearn-color-icon: #696969;\n",
       "\n",
       "  @media (prefers-color-scheme: dark) {\n",
       "    /* Redefinition of color scheme for dark theme */\n",
       "    --sklearn-color-text-on-default-background: var(--sg-text-color, var(--theme-code-foreground, var(--jp-content-font-color1, white)));\n",
       "    --sklearn-color-background: var(--sg-background-color, var(--theme-background, var(--jp-layout-color0, #111)));\n",
       "    --sklearn-color-border-box: var(--sg-text-color, var(--theme-code-foreground, var(--jp-content-font-color1, white)));\n",
       "    --sklearn-color-icon: #878787;\n",
       "  }\n",
       "}\n",
       "\n",
       "#sk-container-id-2 {\n",
       "  color: var(--sklearn-color-text);\n",
       "}\n",
       "\n",
       "#sk-container-id-2 pre {\n",
       "  padding: 0;\n",
       "}\n",
       "\n",
       "#sk-container-id-2 input.sk-hidden--visually {\n",
       "  border: 0;\n",
       "  clip: rect(1px 1px 1px 1px);\n",
       "  clip: rect(1px, 1px, 1px, 1px);\n",
       "  height: 1px;\n",
       "  margin: -1px;\n",
       "  overflow: hidden;\n",
       "  padding: 0;\n",
       "  position: absolute;\n",
       "  width: 1px;\n",
       "}\n",
       "\n",
       "#sk-container-id-2 div.sk-dashed-wrapped {\n",
       "  border: 1px dashed var(--sklearn-color-line);\n",
       "  margin: 0 0.4em 0.5em 0.4em;\n",
       "  box-sizing: border-box;\n",
       "  padding-bottom: 0.4em;\n",
       "  background-color: var(--sklearn-color-background);\n",
       "}\n",
       "\n",
       "#sk-container-id-2 div.sk-container {\n",
       "  /* jupyter's `normalize.less` sets `[hidden] { display: none; }`\n",
       "     but bootstrap.min.css set `[hidden] { display: none !important; }`\n",
       "     so we also need the `!important` here to be able to override the\n",
       "     default hidden behavior on the sphinx rendered scikit-learn.org.\n",
       "     See: https://github.com/scikit-learn/scikit-learn/issues/21755 */\n",
       "  display: inline-block !important;\n",
       "  position: relative;\n",
       "}\n",
       "\n",
       "#sk-container-id-2 div.sk-text-repr-fallback {\n",
       "  display: none;\n",
       "}\n",
       "\n",
       "div.sk-parallel-item,\n",
       "div.sk-serial,\n",
       "div.sk-item {\n",
       "  /* draw centered vertical line to link estimators */\n",
       "  background-image: linear-gradient(var(--sklearn-color-text-on-default-background), var(--sklearn-color-text-on-default-background));\n",
       "  background-size: 2px 100%;\n",
       "  background-repeat: no-repeat;\n",
       "  background-position: center center;\n",
       "}\n",
       "\n",
       "/* Parallel-specific style estimator block */\n",
       "\n",
       "#sk-container-id-2 div.sk-parallel-item::after {\n",
       "  content: \"\";\n",
       "  width: 100%;\n",
       "  border-bottom: 2px solid var(--sklearn-color-text-on-default-background);\n",
       "  flex-grow: 1;\n",
       "}\n",
       "\n",
       "#sk-container-id-2 div.sk-parallel {\n",
       "  display: flex;\n",
       "  align-items: stretch;\n",
       "  justify-content: center;\n",
       "  background-color: var(--sklearn-color-background);\n",
       "  position: relative;\n",
       "}\n",
       "\n",
       "#sk-container-id-2 div.sk-parallel-item {\n",
       "  display: flex;\n",
       "  flex-direction: column;\n",
       "}\n",
       "\n",
       "#sk-container-id-2 div.sk-parallel-item:first-child::after {\n",
       "  align-self: flex-end;\n",
       "  width: 50%;\n",
       "}\n",
       "\n",
       "#sk-container-id-2 div.sk-parallel-item:last-child::after {\n",
       "  align-self: flex-start;\n",
       "  width: 50%;\n",
       "}\n",
       "\n",
       "#sk-container-id-2 div.sk-parallel-item:only-child::after {\n",
       "  width: 0;\n",
       "}\n",
       "\n",
       "/* Serial-specific style estimator block */\n",
       "\n",
       "#sk-container-id-2 div.sk-serial {\n",
       "  display: flex;\n",
       "  flex-direction: column;\n",
       "  align-items: center;\n",
       "  background-color: var(--sklearn-color-background);\n",
       "  padding-right: 1em;\n",
       "  padding-left: 1em;\n",
       "}\n",
       "\n",
       "\n",
       "/* Toggleable style: style used for estimator/Pipeline/ColumnTransformer box that is\n",
       "clickable and can be expanded/collapsed.\n",
       "- Pipeline and ColumnTransformer use this feature and define the default style\n",
       "- Estimators will overwrite some part of the style using the `sk-estimator` class\n",
       "*/\n",
       "\n",
       "/* Pipeline and ColumnTransformer style (default) */\n",
       "\n",
       "#sk-container-id-2 div.sk-toggleable {\n",
       "  /* Default theme specific background. It is overwritten whether we have a\n",
       "  specific estimator or a Pipeline/ColumnTransformer */\n",
       "  background-color: var(--sklearn-color-background);\n",
       "}\n",
       "\n",
       "/* Toggleable label */\n",
       "#sk-container-id-2 label.sk-toggleable__label {\n",
       "  cursor: pointer;\n",
       "  display: block;\n",
       "  width: 100%;\n",
       "  margin-bottom: 0;\n",
       "  padding: 0.5em;\n",
       "  box-sizing: border-box;\n",
       "  text-align: center;\n",
       "}\n",
       "\n",
       "#sk-container-id-2 label.sk-toggleable__label-arrow:before {\n",
       "  /* Arrow on the left of the label */\n",
       "  content: \"▸\";\n",
       "  float: left;\n",
       "  margin-right: 0.25em;\n",
       "  color: var(--sklearn-color-icon);\n",
       "}\n",
       "\n",
       "#sk-container-id-2 label.sk-toggleable__label-arrow:hover:before {\n",
       "  color: var(--sklearn-color-text);\n",
       "}\n",
       "\n",
       "/* Toggleable content - dropdown */\n",
       "\n",
       "#sk-container-id-2 div.sk-toggleable__content {\n",
       "  max-height: 0;\n",
       "  max-width: 0;\n",
       "  overflow: hidden;\n",
       "  text-align: left;\n",
       "  /* unfitted */\n",
       "  background-color: var(--sklearn-color-unfitted-level-0);\n",
       "}\n",
       "\n",
       "#sk-container-id-2 div.sk-toggleable__content.fitted {\n",
       "  /* fitted */\n",
       "  background-color: var(--sklearn-color-fitted-level-0);\n",
       "}\n",
       "\n",
       "#sk-container-id-2 div.sk-toggleable__content pre {\n",
       "  margin: 0.2em;\n",
       "  border-radius: 0.25em;\n",
       "  color: var(--sklearn-color-text);\n",
       "  /* unfitted */\n",
       "  background-color: var(--sklearn-color-unfitted-level-0);\n",
       "}\n",
       "\n",
       "#sk-container-id-2 div.sk-toggleable__content.fitted pre {\n",
       "  /* unfitted */\n",
       "  background-color: var(--sklearn-color-fitted-level-0);\n",
       "}\n",
       "\n",
       "#sk-container-id-2 input.sk-toggleable__control:checked~div.sk-toggleable__content {\n",
       "  /* Expand drop-down */\n",
       "  max-height: 200px;\n",
       "  max-width: 100%;\n",
       "  overflow: auto;\n",
       "}\n",
       "\n",
       "#sk-container-id-2 input.sk-toggleable__control:checked~label.sk-toggleable__label-arrow:before {\n",
       "  content: \"▾\";\n",
       "}\n",
       "\n",
       "/* Pipeline/ColumnTransformer-specific style */\n",
       "\n",
       "#sk-container-id-2 div.sk-label input.sk-toggleable__control:checked~label.sk-toggleable__label {\n",
       "  color: var(--sklearn-color-text);\n",
       "  background-color: var(--sklearn-color-unfitted-level-2);\n",
       "}\n",
       "\n",
       "#sk-container-id-2 div.sk-label.fitted input.sk-toggleable__control:checked~label.sk-toggleable__label {\n",
       "  background-color: var(--sklearn-color-fitted-level-2);\n",
       "}\n",
       "\n",
       "/* Estimator-specific style */\n",
       "\n",
       "/* Colorize estimator box */\n",
       "#sk-container-id-2 div.sk-estimator input.sk-toggleable__control:checked~label.sk-toggleable__label {\n",
       "  /* unfitted */\n",
       "  background-color: var(--sklearn-color-unfitted-level-2);\n",
       "}\n",
       "\n",
       "#sk-container-id-2 div.sk-estimator.fitted input.sk-toggleable__control:checked~label.sk-toggleable__label {\n",
       "  /* fitted */\n",
       "  background-color: var(--sklearn-color-fitted-level-2);\n",
       "}\n",
       "\n",
       "#sk-container-id-2 div.sk-label label.sk-toggleable__label,\n",
       "#sk-container-id-2 div.sk-label label {\n",
       "  /* The background is the default theme color */\n",
       "  color: var(--sklearn-color-text-on-default-background);\n",
       "}\n",
       "\n",
       "/* On hover, darken the color of the background */\n",
       "#sk-container-id-2 div.sk-label:hover label.sk-toggleable__label {\n",
       "  color: var(--sklearn-color-text);\n",
       "  background-color: var(--sklearn-color-unfitted-level-2);\n",
       "}\n",
       "\n",
       "/* Label box, darken color on hover, fitted */\n",
       "#sk-container-id-2 div.sk-label.fitted:hover label.sk-toggleable__label.fitted {\n",
       "  color: var(--sklearn-color-text);\n",
       "  background-color: var(--sklearn-color-fitted-level-2);\n",
       "}\n",
       "\n",
       "/* Estimator label */\n",
       "\n",
       "#sk-container-id-2 div.sk-label label {\n",
       "  font-family: monospace;\n",
       "  font-weight: bold;\n",
       "  display: inline-block;\n",
       "  line-height: 1.2em;\n",
       "}\n",
       "\n",
       "#sk-container-id-2 div.sk-label-container {\n",
       "  text-align: center;\n",
       "}\n",
       "\n",
       "/* Estimator-specific */\n",
       "#sk-container-id-2 div.sk-estimator {\n",
       "  font-family: monospace;\n",
       "  border: 1px dotted var(--sklearn-color-border-box);\n",
       "  border-radius: 0.25em;\n",
       "  box-sizing: border-box;\n",
       "  margin-bottom: 0.5em;\n",
       "  /* unfitted */\n",
       "  background-color: var(--sklearn-color-unfitted-level-0);\n",
       "}\n",
       "\n",
       "#sk-container-id-2 div.sk-estimator.fitted {\n",
       "  /* fitted */\n",
       "  background-color: var(--sklearn-color-fitted-level-0);\n",
       "}\n",
       "\n",
       "/* on hover */\n",
       "#sk-container-id-2 div.sk-estimator:hover {\n",
       "  /* unfitted */\n",
       "  background-color: var(--sklearn-color-unfitted-level-2);\n",
       "}\n",
       "\n",
       "#sk-container-id-2 div.sk-estimator.fitted:hover {\n",
       "  /* fitted */\n",
       "  background-color: var(--sklearn-color-fitted-level-2);\n",
       "}\n",
       "\n",
       "/* Specification for estimator info (e.g. \"i\" and \"?\") */\n",
       "\n",
       "/* Common style for \"i\" and \"?\" */\n",
       "\n",
       ".sk-estimator-doc-link,\n",
       "a:link.sk-estimator-doc-link,\n",
       "a:visited.sk-estimator-doc-link {\n",
       "  float: right;\n",
       "  font-size: smaller;\n",
       "  line-height: 1em;\n",
       "  font-family: monospace;\n",
       "  background-color: var(--sklearn-color-background);\n",
       "  border-radius: 1em;\n",
       "  height: 1em;\n",
       "  width: 1em;\n",
       "  text-decoration: none !important;\n",
       "  margin-left: 1ex;\n",
       "  /* unfitted */\n",
       "  border: var(--sklearn-color-unfitted-level-1) 1pt solid;\n",
       "  color: var(--sklearn-color-unfitted-level-1);\n",
       "}\n",
       "\n",
       ".sk-estimator-doc-link.fitted,\n",
       "a:link.sk-estimator-doc-link.fitted,\n",
       "a:visited.sk-estimator-doc-link.fitted {\n",
       "  /* fitted */\n",
       "  border: var(--sklearn-color-fitted-level-1) 1pt solid;\n",
       "  color: var(--sklearn-color-fitted-level-1);\n",
       "}\n",
       "\n",
       "/* On hover */\n",
       "div.sk-estimator:hover .sk-estimator-doc-link:hover,\n",
       ".sk-estimator-doc-link:hover,\n",
       "div.sk-label-container:hover .sk-estimator-doc-link:hover,\n",
       ".sk-estimator-doc-link:hover {\n",
       "  /* unfitted */\n",
       "  background-color: var(--sklearn-color-unfitted-level-3);\n",
       "  color: var(--sklearn-color-background);\n",
       "  text-decoration: none;\n",
       "}\n",
       "\n",
       "div.sk-estimator.fitted:hover .sk-estimator-doc-link.fitted:hover,\n",
       ".sk-estimator-doc-link.fitted:hover,\n",
       "div.sk-label-container:hover .sk-estimator-doc-link.fitted:hover,\n",
       ".sk-estimator-doc-link.fitted:hover {\n",
       "  /* fitted */\n",
       "  background-color: var(--sklearn-color-fitted-level-3);\n",
       "  color: var(--sklearn-color-background);\n",
       "  text-decoration: none;\n",
       "}\n",
       "\n",
       "/* Span, style for the box shown on hovering the info icon */\n",
       ".sk-estimator-doc-link span {\n",
       "  display: none;\n",
       "  z-index: 9999;\n",
       "  position: relative;\n",
       "  font-weight: normal;\n",
       "  right: .2ex;\n",
       "  padding: .5ex;\n",
       "  margin: .5ex;\n",
       "  width: min-content;\n",
       "  min-width: 20ex;\n",
       "  max-width: 50ex;\n",
       "  color: var(--sklearn-color-text);\n",
       "  box-shadow: 2pt 2pt 4pt #999;\n",
       "  /* unfitted */\n",
       "  background: var(--sklearn-color-unfitted-level-0);\n",
       "  border: .5pt solid var(--sklearn-color-unfitted-level-3);\n",
       "}\n",
       "\n",
       ".sk-estimator-doc-link.fitted span {\n",
       "  /* fitted */\n",
       "  background: var(--sklearn-color-fitted-level-0);\n",
       "  border: var(--sklearn-color-fitted-level-3);\n",
       "}\n",
       "\n",
       ".sk-estimator-doc-link:hover span {\n",
       "  display: block;\n",
       "}\n",
       "\n",
       "/* \"?\"-specific style due to the `<a>` HTML tag */\n",
       "\n",
       "#sk-container-id-2 a.estimator_doc_link {\n",
       "  float: right;\n",
       "  font-size: 1rem;\n",
       "  line-height: 1em;\n",
       "  font-family: monospace;\n",
       "  background-color: var(--sklearn-color-background);\n",
       "  border-radius: 1rem;\n",
       "  height: 1rem;\n",
       "  width: 1rem;\n",
       "  text-decoration: none;\n",
       "  /* unfitted */\n",
       "  color: var(--sklearn-color-unfitted-level-1);\n",
       "  border: var(--sklearn-color-unfitted-level-1) 1pt solid;\n",
       "}\n",
       "\n",
       "#sk-container-id-2 a.estimator_doc_link.fitted {\n",
       "  /* fitted */\n",
       "  border: var(--sklearn-color-fitted-level-1) 1pt solid;\n",
       "  color: var(--sklearn-color-fitted-level-1);\n",
       "}\n",
       "\n",
       "/* On hover */\n",
       "#sk-container-id-2 a.estimator_doc_link:hover {\n",
       "  /* unfitted */\n",
       "  background-color: var(--sklearn-color-unfitted-level-3);\n",
       "  color: var(--sklearn-color-background);\n",
       "  text-decoration: none;\n",
       "}\n",
       "\n",
       "#sk-container-id-2 a.estimator_doc_link.fitted:hover {\n",
       "  /* fitted */\n",
       "  background-color: var(--sklearn-color-fitted-level-3);\n",
       "}\n",
       "</style><div id=\"sk-container-id-2\" class=\"sk-top-container\"><div class=\"sk-text-repr-fallback\"><pre>LogisticRegression()</pre><b>In a Jupyter environment, please rerun this cell to show the HTML representation or trust the notebook. <br />On GitHub, the HTML representation is unable to render, please try loading this page with nbviewer.org.</b></div><div class=\"sk-container\" hidden><div class=\"sk-item\"><div class=\"sk-estimator fitted sk-toggleable\"><input class=\"sk-toggleable__control sk-hidden--visually\" id=\"sk-estimator-id-2\" type=\"checkbox\" checked><label for=\"sk-estimator-id-2\" class=\"sk-toggleable__label fitted sk-toggleable__label-arrow fitted\">&nbsp;&nbsp;LogisticRegression<a class=\"sk-estimator-doc-link fitted\" rel=\"noreferrer\" target=\"_blank\" href=\"https://scikit-learn.org/1.4/modules/generated/sklearn.linear_model.LogisticRegression.html\">?<span>Documentation for LogisticRegression</span></a><span class=\"sk-estimator-doc-link fitted\">i<span>Fitted</span></span></label><div class=\"sk-toggleable__content fitted\"><pre>LogisticRegression()</pre></div> </div></div></div></div>"
      ],
      "text/plain": [
       "LogisticRegression()"
      ]
     },
     "execution_count": 56,
     "metadata": {},
     "output_type": "execute_result"
    }
   ],
   "source": [
    "model2 = LogisticRegression()\n",
    "model2.fit(X_train, y_train)\n",
    "model2"
   ]
  },
  {
   "cell_type": "code",
   "execution_count": 57,
   "metadata": {},
   "outputs": [
    {
     "name": "stdout",
     "output_type": "stream",
     "text": [
      "[1 0 1 1 0]\n"
     ]
    }
   ],
   "source": [
    "# predict class labels for the test set\n",
    "y_predicted = model2.predict(X_test)\n",
    "print (y_predicted[:5])"
   ]
  },
  {
   "cell_type": "code",
   "execution_count": 58,
   "metadata": {},
   "outputs": [
    {
     "name": "stdout",
     "output_type": "stream",
     "text": [
      "Acurácia:  72.66666666666667\n"
     ]
    }
   ],
   "source": [
    "# generate evaluation metrics\n",
    "print ('Acurácia: ', metrics.accuracy_score(y_test, y_predicted) * 100)"
   ]
  },
  {
   "cell_type": "code",
   "execution_count": 59,
   "metadata": {},
   "outputs": [
    {
     "name": "stdout",
     "output_type": "stream",
     "text": [
      "[[0.2758 0.7242]\n",
      " [0.509  0.491 ]\n",
      " [0.1124 0.8876]\n",
      " [0.0882 0.9118]\n",
      " [0.5028 0.4972]]\n"
     ]
    }
   ],
   "source": [
    "# generate class probabilities\n",
    "probs = model2.predict_proba(X_test)\n",
    "print (probs[:5])"
   ]
  },
  {
   "cell_type": "code",
   "execution_count": 60,
   "metadata": {},
   "outputs": [
    {
     "data": {
      "text/plain": [
       "array([0.2758, 0.509 , 0.1124, 0.0882])"
      ]
     },
     "execution_count": 60,
     "metadata": {},
     "output_type": "execute_result"
    }
   ],
   "source": [
    "probs[: , 0][:4]"
   ]
  },
  {
   "cell_type": "code",
   "execution_count": 61,
   "metadata": {},
   "outputs": [
    {
     "name": "stdout",
     "output_type": "stream",
     "text": [
      "Valores Previstos e suas Probalidades das classes\n"
     ]
    },
    {
     "data": {
      "text/html": [
       "<div>\n",
       "<style scoped>\n",
       "    .dataframe tbody tr th:only-of-type {\n",
       "        vertical-align: middle;\n",
       "    }\n",
       "\n",
       "    .dataframe tbody tr th {\n",
       "        vertical-align: top;\n",
       "    }\n",
       "\n",
       "    .dataframe thead th {\n",
       "        text-align: right;\n",
       "    }\n",
       "</style>\n",
       "<table border=\"1\" class=\"dataframe\">\n",
       "  <thead>\n",
       "    <tr style=\"text-align: right;\">\n",
       "      <th></th>\n",
       "      <th>Classe</th>\n",
       "      <th>Prob_classe_0</th>\n",
       "      <th>Prob_classe_1</th>\n",
       "    </tr>\n",
       "  </thead>\n",
       "  <tbody>\n",
       "    <tr>\n",
       "      <th>0</th>\n",
       "      <td>1</td>\n",
       "      <td>0.275800</td>\n",
       "      <td>0.724200</td>\n",
       "    </tr>\n",
       "    <tr>\n",
       "      <th>1</th>\n",
       "      <td>0</td>\n",
       "      <td>0.509049</td>\n",
       "      <td>0.490951</td>\n",
       "    </tr>\n",
       "    <tr>\n",
       "      <th>2</th>\n",
       "      <td>1</td>\n",
       "      <td>0.112385</td>\n",
       "      <td>0.887615</td>\n",
       "    </tr>\n",
       "    <tr>\n",
       "      <th>3</th>\n",
       "      <td>1</td>\n",
       "      <td>0.088247</td>\n",
       "      <td>0.911753</td>\n",
       "    </tr>\n",
       "    <tr>\n",
       "      <th>4</th>\n",
       "      <td>0</td>\n",
       "      <td>0.502761</td>\n",
       "      <td>0.497239</td>\n",
       "    </tr>\n",
       "    <tr>\n",
       "      <th>5</th>\n",
       "      <td>0</td>\n",
       "      <td>0.584044</td>\n",
       "      <td>0.415956</td>\n",
       "    </tr>\n",
       "    <tr>\n",
       "      <th>6</th>\n",
       "      <td>1</td>\n",
       "      <td>0.065153</td>\n",
       "      <td>0.934847</td>\n",
       "    </tr>\n",
       "    <tr>\n",
       "      <th>7</th>\n",
       "      <td>1</td>\n",
       "      <td>0.137340</td>\n",
       "      <td>0.862660</td>\n",
       "    </tr>\n",
       "    <tr>\n",
       "      <th>8</th>\n",
       "      <td>1</td>\n",
       "      <td>0.098163</td>\n",
       "      <td>0.901837</td>\n",
       "    </tr>\n",
       "    <tr>\n",
       "      <th>9</th>\n",
       "      <td>1</td>\n",
       "      <td>0.091307</td>\n",
       "      <td>0.908693</td>\n",
       "    </tr>\n",
       "  </tbody>\n",
       "</table>\n",
       "</div>"
      ],
      "text/plain": [
       "   Classe  Prob_classe_0  Prob_classe_1\n",
       "0       1       0.275800       0.724200\n",
       "1       0       0.509049       0.490951\n",
       "2       1       0.112385       0.887615\n",
       "3       1       0.088247       0.911753\n",
       "4       0       0.502761       0.497239\n",
       "5       0       0.584044       0.415956\n",
       "6       1       0.065153       0.934847\n",
       "7       1       0.137340       0.862660\n",
       "8       1       0.098163       0.901837\n",
       "9       1       0.091307       0.908693"
      ]
     },
     "execution_count": 61,
     "metadata": {},
     "output_type": "execute_result"
    }
   ],
   "source": [
    "print('Valores Previstos e suas Probalidades das classes')\n",
    "df3 = pd.DataFrame( {\n",
    "                    'Classe': y_predicted,\n",
    "                   'Prob_classe_0': probs[:, 0],\n",
    "                   'Prob_classe_1': probs[:, 1] \n",
    "                   })\n",
    "df3.head(10)"
   ]
  },
  {
   "cell_type": "markdown",
   "metadata": {},
   "source": [
    "## Avaliando o modelo usando Cross-validation"
   ]
  },
  {
   "cell_type": "code",
   "execution_count": 62,
   "metadata": {},
   "outputs": [
    {
     "name": "stdout",
     "output_type": "stream",
     "text": [
      "[0.9  0.91 0.87 0.86 0.86 0.84 0.7  0.6  0.26 0.31]\n",
      "Accuracy: 0.711 (0.232)\n"
     ]
    }
   ],
   "source": [
    "from sklearn import model_selection\n",
    "num_folds = 10\n",
    "num_instances = len(X)\n",
    "seed = 7\n",
    "\n",
    "modelo = LogisticRegression()\n",
    "\n",
    "# Separando os dados em folds\n",
    "kfold = model_selection.KFold(num_folds, shuffle=False) #, random_state = seed)\n",
    "resultado = model_selection.cross_val_score(modelo, X, y, cv = kfold, \n",
    "                                            scoring='accuracy')\n",
    "\n",
    "# Print do resultado\n",
    "print(resultado)\n",
    "print(\"Accuracy: %.3f (%.3f)\" % (resultado.mean(), resultado.std()))"
   ]
  },
  {
   "cell_type": "markdown",
   "metadata": {},
   "source": [
    "## Realizando Previsões"
   ]
  },
  {
   "cell_type": "code",
   "execution_count": 63,
   "metadata": {},
   "outputs": [
    {
     "data": {
      "text/html": [
       "<div>\n",
       "<style scoped>\n",
       "    .dataframe tbody tr th:only-of-type {\n",
       "        vertical-align: middle;\n",
       "    }\n",
       "\n",
       "    .dataframe tbody tr th {\n",
       "        vertical-align: top;\n",
       "    }\n",
       "\n",
       "    .dataframe thead th {\n",
       "        text-align: right;\n",
       "    }\n",
       "</style>\n",
       "<table border=\"1\" class=\"dataframe\">\n",
       "  <thead>\n",
       "    <tr style=\"text-align: right;\">\n",
       "      <th></th>\n",
       "      <th>classificação_crédito</th>\n",
       "      <th>conta.saldo</th>\n",
       "      <th>crédito.duração.meses</th>\n",
       "      <th>pagamento.crédito.anterior.status</th>\n",
       "      <th>crédito.propósito</th>\n",
       "      <th>crédito.valor</th>\n",
       "      <th>poupança</th>\n",
       "      <th>duração.emprego</th>\n",
       "      <th>taxa.parcelamento</th>\n",
       "      <th>estado_civil</th>\n",
       "      <th>fiador</th>\n",
       "      <th>residência.duração</th>\n",
       "      <th>ativos.atual</th>\n",
       "      <th>idade</th>\n",
       "      <th>outros.créditos</th>\n",
       "      <th>apartamento.tipo</th>\n",
       "      <th>banco.crédito</th>\n",
       "      <th>ocupação</th>\n",
       "      <th>dependentes</th>\n",
       "      <th>telefone</th>\n",
       "      <th>trabalhador_estrangeiro</th>\n",
       "    </tr>\n",
       "  </thead>\n",
       "  <tbody>\n",
       "    <tr>\n",
       "      <th>0</th>\n",
       "      <td>1</td>\n",
       "      <td>1</td>\n",
       "      <td>18</td>\n",
       "      <td>3</td>\n",
       "      <td>2</td>\n",
       "      <td>1049</td>\n",
       "      <td>1</td>\n",
       "      <td>1</td>\n",
       "      <td>4</td>\n",
       "      <td>1</td>\n",
       "      <td>1</td>\n",
       "      <td>4</td>\n",
       "      <td>2</td>\n",
       "      <td>21</td>\n",
       "      <td>2</td>\n",
       "      <td>1</td>\n",
       "      <td>1</td>\n",
       "      <td>3</td>\n",
       "      <td>1</td>\n",
       "      <td>1</td>\n",
       "      <td>1</td>\n",
       "    </tr>\n",
       "    <tr>\n",
       "      <th>1</th>\n",
       "      <td>1</td>\n",
       "      <td>1</td>\n",
       "      <td>9</td>\n",
       "      <td>3</td>\n",
       "      <td>4</td>\n",
       "      <td>2799</td>\n",
       "      <td>1</td>\n",
       "      <td>2</td>\n",
       "      <td>2</td>\n",
       "      <td>3</td>\n",
       "      <td>1</td>\n",
       "      <td>2</td>\n",
       "      <td>1</td>\n",
       "      <td>36</td>\n",
       "      <td>2</td>\n",
       "      <td>1</td>\n",
       "      <td>2</td>\n",
       "      <td>3</td>\n",
       "      <td>2</td>\n",
       "      <td>1</td>\n",
       "      <td>1</td>\n",
       "    </tr>\n",
       "    <tr>\n",
       "      <th>2</th>\n",
       "      <td>1</td>\n",
       "      <td>2</td>\n",
       "      <td>12</td>\n",
       "      <td>2</td>\n",
       "      <td>4</td>\n",
       "      <td>841</td>\n",
       "      <td>2</td>\n",
       "      <td>3</td>\n",
       "      <td>2</td>\n",
       "      <td>1</td>\n",
       "      <td>1</td>\n",
       "      <td>4</td>\n",
       "      <td>1</td>\n",
       "      <td>23</td>\n",
       "      <td>2</td>\n",
       "      <td>1</td>\n",
       "      <td>1</td>\n",
       "      <td>2</td>\n",
       "      <td>1</td>\n",
       "      <td>1</td>\n",
       "      <td>1</td>\n",
       "    </tr>\n",
       "    <tr>\n",
       "      <th>3</th>\n",
       "      <td>1</td>\n",
       "      <td>1</td>\n",
       "      <td>12</td>\n",
       "      <td>3</td>\n",
       "      <td>4</td>\n",
       "      <td>2122</td>\n",
       "      <td>1</td>\n",
       "      <td>2</td>\n",
       "      <td>3</td>\n",
       "      <td>3</td>\n",
       "      <td>1</td>\n",
       "      <td>2</td>\n",
       "      <td>1</td>\n",
       "      <td>39</td>\n",
       "      <td>2</td>\n",
       "      <td>1</td>\n",
       "      <td>2</td>\n",
       "      <td>2</td>\n",
       "      <td>2</td>\n",
       "      <td>1</td>\n",
       "      <td>2</td>\n",
       "    </tr>\n",
       "    <tr>\n",
       "      <th>4</th>\n",
       "      <td>1</td>\n",
       "      <td>1</td>\n",
       "      <td>12</td>\n",
       "      <td>3</td>\n",
       "      <td>4</td>\n",
       "      <td>2171</td>\n",
       "      <td>1</td>\n",
       "      <td>2</td>\n",
       "      <td>4</td>\n",
       "      <td>3</td>\n",
       "      <td>1</td>\n",
       "      <td>4</td>\n",
       "      <td>2</td>\n",
       "      <td>38</td>\n",
       "      <td>1</td>\n",
       "      <td>2</td>\n",
       "      <td>2</td>\n",
       "      <td>2</td>\n",
       "      <td>1</td>\n",
       "      <td>1</td>\n",
       "      <td>2</td>\n",
       "    </tr>\n",
       "  </tbody>\n",
       "</table>\n",
       "</div>"
      ],
      "text/plain": [
       "   classificação_crédito  conta.saldo  crédito.duração.meses  \\\n",
       "0                      1            1                     18   \n",
       "1                      1            1                      9   \n",
       "2                      1            2                     12   \n",
       "3                      1            1                     12   \n",
       "4                      1            1                     12   \n",
       "\n",
       "   pagamento.crédito.anterior.status  crédito.propósito  crédito.valor  \\\n",
       "0                                  3                  2           1049   \n",
       "1                                  3                  4           2799   \n",
       "2                                  2                  4            841   \n",
       "3                                  3                  4           2122   \n",
       "4                                  3                  4           2171   \n",
       "\n",
       "   poupança  duração.emprego  taxa.parcelamento  estado_civil  fiador  \\\n",
       "0         1                1                  4             1       1   \n",
       "1         1                2                  2             3       1   \n",
       "2         2                3                  2             1       1   \n",
       "3         1                2                  3             3       1   \n",
       "4         1                2                  4             3       1   \n",
       "\n",
       "   residência.duração  ativos.atual  idade  outros.créditos  apartamento.tipo  \\\n",
       "0                   4             2     21                2                 1   \n",
       "1                   2             1     36                2                 1   \n",
       "2                   4             1     23                2                 1   \n",
       "3                   2             1     39                2                 1   \n",
       "4                   4             2     38                1                 2   \n",
       "\n",
       "   banco.crédito  ocupação  dependentes  telefone  trabalhador_estrangeiro  \n",
       "0              1         3            1         1                        1  \n",
       "1              2         3            2         1                        1  \n",
       "2              1         2            1         1                        1  \n",
       "3              2         2            2         1                        2  \n",
       "4              2         2            1         1                        2  "
      ]
     },
     "execution_count": 63,
     "metadata": {},
     "output_type": "execute_result"
    }
   ],
   "source": [
    "df.head()"
   ]
  },
  {
   "cell_type": "code",
   "execution_count": 64,
   "metadata": {},
   "outputs": [
    {
     "data": {
      "text/plain": [
       "array([  1,   2,  12,   2,   4, 841,   2,   3,   2,   1,   1,   4,   1,\n",
       "        23,   2,   1,   1,   2,   1,   1,   1])"
      ]
     },
     "execution_count": 64,
     "metadata": {},
     "output_type": "execute_result"
    }
   ],
   "source": [
    "df.loc[2,:].values"
   ]
  },
  {
   "cell_type": "code",
   "execution_count": 65,
   "metadata": {},
   "outputs": [
    {
     "data": {
      "text/plain": [
       "conta.saldo\n",
       "3    457\n",
       "1    274\n",
       "2    269\n",
       "Name: count, dtype: int64"
      ]
     },
     "execution_count": 65,
     "metadata": {},
     "output_type": "execute_result"
    }
   ],
   "source": [
    "df['conta.saldo'].value_counts()"
   ]
  },
  {
   "cell_type": "code",
   "execution_count": 66,
   "metadata": {},
   "outputs": [
    {
     "data": {
      "text/plain": [
       "poupança\n",
       "1    603\n",
       "4    183\n",
       "3    111\n",
       "2    103\n",
       "Name: count, dtype: int64"
      ]
     },
     "execution_count": 66,
     "metadata": {},
     "output_type": "execute_result"
    }
   ],
   "source": [
    "df.poupança.value_counts()"
   ]
  },
  {
   "cell_type": "code",
   "execution_count": 67,
   "metadata": {},
   "outputs": [
    {
     "data": {
      "text/plain": [
       "Index(['conta.saldo', 'crédito.duração.meses',\n",
       "       'pagamento.crédito.anterior.status', 'crédito.propósito',\n",
       "       'crédito.valor', 'poupança', 'duração.emprego', 'taxa.parcelamento',\n",
       "       'estado_civil', 'fiador', 'residência.duração', 'ativos.atual', 'idade',\n",
       "       'outros.créditos', 'apartamento.tipo', 'banco.crédito', 'ocupação',\n",
       "       'dependentes', 'telefone', 'trabalhador_estrangeiro'],\n",
       "      dtype='object')"
      ]
     },
     "execution_count": 67,
     "metadata": {},
     "output_type": "execute_result"
    }
   ],
   "source": [
    "df.columns[1:]"
   ]
  },
  {
   "cell_type": "code",
   "execution_count": 68,
   "metadata": {},
   "outputs": [
    {
     "data": {
      "text/plain": [
       "array([   1,    4,    3,    2, 2049,    1,    1,    4,    1,    1,    4,\n",
       "          2,   21,    2,    1,    1,    3,    1,    1,    1])"
      ]
     },
     "execution_count": 68,
     "metadata": {},
     "output_type": "execute_result"
    }
   ],
   "source": [
    "Xprev1 = np.array(\n",
    "    [      1,   4,    3,    2, 2049,    1,    1,    4,    1,    1,\n",
    "          4,    2,   21,    2,    1,    1,    3,    1,    1,    1] )\n",
    "\n",
    "Xprev1"
   ]
  },
  {
   "cell_type": "code",
   "execution_count": 69,
   "metadata": {},
   "outputs": [
    {
     "data": {
      "text/plain": [
       "array([[   1,    4,    3,    2, 2049,    1,    1,    4,    1,    1,    4,\n",
       "           2,   21,    2,    1,    1,    3,    1,    1,    1]])"
      ]
     },
     "execution_count": 69,
     "metadata": {},
     "output_type": "execute_result"
    }
   ],
   "source": [
    "Xprev1 = Xprev1.reshape(1, -1)\n",
    "Xprev1"
   ]
  },
  {
   "cell_type": "code",
   "execution_count": 70,
   "metadata": {},
   "outputs": [
    {
     "data": {
      "text/plain": [
       "1"
      ]
     },
     "execution_count": 70,
     "metadata": {},
     "output_type": "execute_result"
    }
   ],
   "source": [
    "model.predict(Xprev1)[0]"
   ]
  },
  {
   "cell_type": "code",
   "execution_count": 71,
   "metadata": {},
   "outputs": [
    {
     "data": {
      "text/plain": [
       "array([0.4528, 0.5472])"
      ]
     },
     "execution_count": 71,
     "metadata": {},
     "output_type": "execute_result"
    }
   ],
   "source": [
    "model.predict_proba(Xprev1)[0]"
   ]
  },
  {
   "cell_type": "code",
   "execution_count": 72,
   "metadata": {},
   "outputs": [
    {
     "data": {
      "text/plain": [
       "array([   1,    3,   24,    3,    2, 3777,    3,    2,    4,    3,    1,\n",
       "          4,    1,   40,    2,    2,    1,    3,    1,    2,    1])"
      ]
     },
     "execution_count": 72,
     "metadata": {},
     "output_type": "execute_result"
    }
   ],
   "source": [
    "df.loc[100,:].values"
   ]
  },
  {
   "cell_type": "code",
   "execution_count": 73,
   "metadata": {},
   "outputs": [
    {
     "data": {
      "text/plain": [
       "array([   3,   18,    1,    2, 3777,    3,    2,    4,    3,    1,    4,\n",
       "          1,   40,    2,    2,    1,    3,    1,    2,    1])"
      ]
     },
     "execution_count": 73,
     "metadata": {},
     "output_type": "execute_result"
    }
   ],
   "source": [
    "Xprev2 = np.array([ 3,   18,    1,    2, 3777,    3,    2,    4,    3,    1,\n",
    "          4,    1,   40,    2,    2,    1,    3,    1,    2,    1])\n",
    "Xprev2"
   ]
  },
  {
   "cell_type": "code",
   "execution_count": 74,
   "metadata": {},
   "outputs": [
    {
     "data": {
      "text/plain": [
       "array([[   3,   18,    1,    2, 3777,    3,    2,    4,    3,    1,    4,\n",
       "           1,   40,    2,    2,    1,    3,    1,    2,    1]])"
      ]
     },
     "execution_count": 74,
     "metadata": {},
     "output_type": "execute_result"
    }
   ],
   "source": [
    "Xprev2 = Xprev2.reshape(1, -1)\n",
    "Xprev2"
   ]
  },
  {
   "cell_type": "code",
   "execution_count": 75,
   "metadata": {},
   "outputs": [
    {
     "data": {
      "text/plain": [
       "1"
      ]
     },
     "execution_count": 75,
     "metadata": {},
     "output_type": "execute_result"
    }
   ],
   "source": [
    "model.predict(Xprev2)[0]"
   ]
  },
  {
   "cell_type": "code",
   "execution_count": 76,
   "metadata": {},
   "outputs": [
    {
     "data": {
      "text/plain": [
       "array([[0.1092, 0.8908]])"
      ]
     },
     "execution_count": 76,
     "metadata": {},
     "output_type": "execute_result"
    }
   ],
   "source": [
    "model.predict_proba(Xprev2)"
   ]
  },
  {
   "cell_type": "code",
   "execution_count": 77,
   "metadata": {},
   "outputs": [
    {
     "data": {
      "text/plain": [
       "array([   1,    1,   10,    3,    4, 2241,    1,    1,    1,    3,    1,\n",
       "          3,    1,   48,    2,    1,    2,    2,    2,    1,    2])"
      ]
     },
     "execution_count": 77,
     "metadata": {},
     "output_type": "execute_result"
    }
   ],
   "source": [
    "df.loc[5,:].values"
   ]
  },
  {
   "cell_type": "code",
   "execution_count": 78,
   "metadata": {},
   "outputs": [
    {
     "data": {
      "text/plain": [
       "array([   1,   10,    1,    4, 2241,    1,    1,    1,    3,    1,    3,\n",
       "          1,   48,    2,    1,    2,    2,    2,    1,    2])"
      ]
     },
     "execution_count": 78,
     "metadata": {},
     "output_type": "execute_result"
    }
   ],
   "source": [
    "Xprev = np.array([1,   10,    1,    4, 2241,    1,    1,    1,    3,    1,\n",
    "          3,    1,   48,    2,    1,    2,    2,    2,    1,    2])\n",
    "Xprev"
   ]
  },
  {
   "cell_type": "code",
   "execution_count": 79,
   "metadata": {},
   "outputs": [
    {
     "data": {
      "text/plain": [
       "array([[   1,   10,    1,    4, 2241,    1,    1,    1,    3,    1,    3,\n",
       "           1,   48,    2,    1,    2,    2,    2,    1,    2]])"
      ]
     },
     "execution_count": 79,
     "metadata": {},
     "output_type": "execute_result"
    }
   ],
   "source": [
    "Xprev = Xprev.reshape(1, -1)\n",
    "Xprev"
   ]
  },
  {
   "cell_type": "code",
   "execution_count": 80,
   "metadata": {},
   "outputs": [
    {
     "data": {
      "text/plain": [
       "1"
      ]
     },
     "execution_count": 80,
     "metadata": {},
     "output_type": "execute_result"
    }
   ],
   "source": [
    "# aplicando o modelo de Regressão Logística\n",
    "model.predict(Xprev)[0]"
   ]
  },
  {
   "cell_type": "code",
   "execution_count": 81,
   "metadata": {},
   "outputs": [
    {
     "data": {
      "text/plain": [
       "array([[0.4653, 0.5347]])"
      ]
     },
     "execution_count": 81,
     "metadata": {},
     "output_type": "execute_result"
    }
   ],
   "source": [
    "model.predict_proba(Xprev)"
   ]
  },
  {
   "cell_type": "code",
   "execution_count": 82,
   "metadata": {},
   "outputs": [
    {
     "data": {
      "text/plain": [
       "array([   0,    2,   45,    3,    3, 4746,    1,    1,    4,    3,    1,\n",
       "          2,    2,   24,    1,    2,    2,    2,    1,    1,    1])"
      ]
     },
     "execution_count": 82,
     "metadata": {},
     "output_type": "execute_result"
    }
   ],
   "source": [
    "df.loc[950,:].values"
   ]
  },
  {
   "cell_type": "code",
   "execution_count": 83,
   "metadata": {},
   "outputs": [
    {
     "data": {
      "text/plain": [
       "array([    2,    14,     3,     3, 12146,     1,     1,     4,     3,\n",
       "           1,     2,     2,    24,     1,     2,     2,     2,     1,\n",
       "           1,     1])"
      ]
     },
     "execution_count": 83,
     "metadata": {},
     "output_type": "execute_result"
    }
   ],
   "source": [
    "Xprev3 = np.array([2,   14,    3,    3, 12146,    1,    1,    4,    3,    1,\n",
    "          2,    2,   24,    1,    2,    2,    2,    1,    1,    1])\n",
    "Xprev3"
   ]
  },
  {
   "cell_type": "code",
   "execution_count": 84,
   "metadata": {},
   "outputs": [
    {
     "data": {
      "text/plain": [
       "array([[    2,    14,     3,     3, 12146,     1,     1,     4,     3,\n",
       "            1,     2,     2,    24,     1,     2,     2,     2,     1,\n",
       "            1,     1]])"
      ]
     },
     "execution_count": 84,
     "metadata": {},
     "output_type": "execute_result"
    }
   ],
   "source": [
    "Xprev3 = Xprev3.reshape(1, -1)\n",
    "Xprev3"
   ]
  },
  {
   "cell_type": "code",
   "execution_count": 85,
   "metadata": {},
   "outputs": [
    {
     "data": {
      "text/plain": [
       "array([0])"
      ]
     },
     "execution_count": 85,
     "metadata": {},
     "output_type": "execute_result"
    }
   ],
   "source": [
    "# aplicando o modelo de Regressão Logística\n",
    "model.predict(Xprev3)"
   ]
  },
  {
   "cell_type": "code",
   "execution_count": 86,
   "metadata": {},
   "outputs": [
    {
     "data": {
      "text/plain": [
       "array([[0.5629, 0.4371]])"
      ]
     },
     "execution_count": 86,
     "metadata": {},
     "output_type": "execute_result"
    }
   ],
   "source": [
    "model.predict_proba(Xprev3)"
   ]
  },
  {
   "cell_type": "markdown",
   "metadata": {},
   "source": [
    "# Métricas para Algorítmos de Classificação"
   ]
  },
  {
   "cell_type": "markdown",
   "metadata": {},
   "source": [
    "### carregando o dataset"
   ]
  },
  {
   "cell_type": "code",
   "execution_count": 87,
   "metadata": {},
   "outputs": [],
   "source": [
    "from sklearn import model_selection\n",
    "from sklearn.linear_model import LogisticRegression\n",
    "import pandas as pd"
   ]
  },
  {
   "cell_type": "code",
   "execution_count": 88,
   "metadata": {},
   "outputs": [
    {
     "name": "stdout",
     "output_type": "stream",
     "text": [
      "1000\n"
     ]
    },
    {
     "data": {
      "text/html": [
       "<div>\n",
       "<style scoped>\n",
       "    .dataframe tbody tr th:only-of-type {\n",
       "        vertical-align: middle;\n",
       "    }\n",
       "\n",
       "    .dataframe tbody tr th {\n",
       "        vertical-align: top;\n",
       "    }\n",
       "\n",
       "    .dataframe thead th {\n",
       "        text-align: right;\n",
       "    }\n",
       "</style>\n",
       "<table border=\"1\" class=\"dataframe\">\n",
       "  <thead>\n",
       "    <tr style=\"text-align: right;\">\n",
       "      <th></th>\n",
       "      <th>classificação_crédito</th>\n",
       "      <th>conta.saldo</th>\n",
       "      <th>crédito.duração.meses</th>\n",
       "      <th>pagamento.crédito.anterior.status</th>\n",
       "      <th>crédito.propósito</th>\n",
       "      <th>crédito.valor</th>\n",
       "      <th>poupança</th>\n",
       "      <th>duração.emprego</th>\n",
       "      <th>taxa.parcelamento</th>\n",
       "      <th>estado_civil</th>\n",
       "      <th>fiador</th>\n",
       "      <th>residência.duração</th>\n",
       "      <th>ativos.atual</th>\n",
       "      <th>idade</th>\n",
       "      <th>outros.créditos</th>\n",
       "      <th>apartamento.tipo</th>\n",
       "      <th>banco.crédito</th>\n",
       "      <th>ocupação</th>\n",
       "      <th>dependentes</th>\n",
       "      <th>telefone</th>\n",
       "      <th>trabalhador_estrangeiro</th>\n",
       "    </tr>\n",
       "  </thead>\n",
       "  <tbody>\n",
       "    <tr>\n",
       "      <th>0</th>\n",
       "      <td>1</td>\n",
       "      <td>1</td>\n",
       "      <td>18</td>\n",
       "      <td>3</td>\n",
       "      <td>2</td>\n",
       "      <td>1049</td>\n",
       "      <td>1</td>\n",
       "      <td>1</td>\n",
       "      <td>4</td>\n",
       "      <td>1</td>\n",
       "      <td>1</td>\n",
       "      <td>4</td>\n",
       "      <td>2</td>\n",
       "      <td>21</td>\n",
       "      <td>2</td>\n",
       "      <td>1</td>\n",
       "      <td>1</td>\n",
       "      <td>3</td>\n",
       "      <td>1</td>\n",
       "      <td>1</td>\n",
       "      <td>1</td>\n",
       "    </tr>\n",
       "    <tr>\n",
       "      <th>1</th>\n",
       "      <td>1</td>\n",
       "      <td>1</td>\n",
       "      <td>9</td>\n",
       "      <td>3</td>\n",
       "      <td>4</td>\n",
       "      <td>2799</td>\n",
       "      <td>1</td>\n",
       "      <td>2</td>\n",
       "      <td>2</td>\n",
       "      <td>3</td>\n",
       "      <td>1</td>\n",
       "      <td>2</td>\n",
       "      <td>1</td>\n",
       "      <td>36</td>\n",
       "      <td>2</td>\n",
       "      <td>1</td>\n",
       "      <td>2</td>\n",
       "      <td>3</td>\n",
       "      <td>2</td>\n",
       "      <td>1</td>\n",
       "      <td>1</td>\n",
       "    </tr>\n",
       "    <tr>\n",
       "      <th>2</th>\n",
       "      <td>1</td>\n",
       "      <td>2</td>\n",
       "      <td>12</td>\n",
       "      <td>2</td>\n",
       "      <td>4</td>\n",
       "      <td>841</td>\n",
       "      <td>2</td>\n",
       "      <td>3</td>\n",
       "      <td>2</td>\n",
       "      <td>1</td>\n",
       "      <td>1</td>\n",
       "      <td>4</td>\n",
       "      <td>1</td>\n",
       "      <td>23</td>\n",
       "      <td>2</td>\n",
       "      <td>1</td>\n",
       "      <td>1</td>\n",
       "      <td>2</td>\n",
       "      <td>1</td>\n",
       "      <td>1</td>\n",
       "      <td>1</td>\n",
       "    </tr>\n",
       "    <tr>\n",
       "      <th>3</th>\n",
       "      <td>1</td>\n",
       "      <td>1</td>\n",
       "      <td>12</td>\n",
       "      <td>3</td>\n",
       "      <td>4</td>\n",
       "      <td>2122</td>\n",
       "      <td>1</td>\n",
       "      <td>2</td>\n",
       "      <td>3</td>\n",
       "      <td>3</td>\n",
       "      <td>1</td>\n",
       "      <td>2</td>\n",
       "      <td>1</td>\n",
       "      <td>39</td>\n",
       "      <td>2</td>\n",
       "      <td>1</td>\n",
       "      <td>2</td>\n",
       "      <td>2</td>\n",
       "      <td>2</td>\n",
       "      <td>1</td>\n",
       "      <td>2</td>\n",
       "    </tr>\n",
       "    <tr>\n",
       "      <th>4</th>\n",
       "      <td>1</td>\n",
       "      <td>1</td>\n",
       "      <td>12</td>\n",
       "      <td>3</td>\n",
       "      <td>4</td>\n",
       "      <td>2171</td>\n",
       "      <td>1</td>\n",
       "      <td>2</td>\n",
       "      <td>4</td>\n",
       "      <td>3</td>\n",
       "      <td>1</td>\n",
       "      <td>4</td>\n",
       "      <td>2</td>\n",
       "      <td>38</td>\n",
       "      <td>1</td>\n",
       "      <td>2</td>\n",
       "      <td>2</td>\n",
       "      <td>2</td>\n",
       "      <td>1</td>\n",
       "      <td>1</td>\n",
       "      <td>2</td>\n",
       "    </tr>\n",
       "  </tbody>\n",
       "</table>\n",
       "</div>"
      ],
      "text/plain": [
       "   classificação_crédito  conta.saldo  crédito.duração.meses  \\\n",
       "0                      1            1                     18   \n",
       "1                      1            1                      9   \n",
       "2                      1            2                     12   \n",
       "3                      1            1                     12   \n",
       "4                      1            1                     12   \n",
       "\n",
       "   pagamento.crédito.anterior.status  crédito.propósito  crédito.valor  \\\n",
       "0                                  3                  2           1049   \n",
       "1                                  3                  4           2799   \n",
       "2                                  2                  4            841   \n",
       "3                                  3                  4           2122   \n",
       "4                                  3                  4           2171   \n",
       "\n",
       "   poupança  duração.emprego  taxa.parcelamento  estado_civil  fiador  \\\n",
       "0         1                1                  4             1       1   \n",
       "1         1                2                  2             3       1   \n",
       "2         2                3                  2             1       1   \n",
       "3         1                2                  3             3       1   \n",
       "4         1                2                  4             3       1   \n",
       "\n",
       "   residência.duração  ativos.atual  idade  outros.créditos  apartamento.tipo  \\\n",
       "0                   4             2     21                2                 1   \n",
       "1                   2             1     36                2                 1   \n",
       "2                   4             1     23                2                 1   \n",
       "3                   2             1     39                2                 1   \n",
       "4                   4             2     38                1                 2   \n",
       "\n",
       "   banco.crédito  ocupação  dependentes  telefone  trabalhador_estrangeiro  \n",
       "0              1         3            1         1                        1  \n",
       "1              2         3            2         1                        1  \n",
       "2              1         2            1         1                        1  \n",
       "3              2         2            2         1                        2  \n",
       "4              2         2            1         1                        2  "
      ]
     },
     "execution_count": 88,
     "metadata": {},
     "output_type": "execute_result"
    }
   ],
   "source": [
    "# df = pd.read_csv('credit_dataset_final.csv')\n",
    "print(len(df))\n",
    "df.head()"
   ]
  },
  {
   "cell_type": "code",
   "execution_count": 89,
   "metadata": {},
   "outputs": [
    {
     "data": {
      "text/html": [
       "<div>\n",
       "<style scoped>\n",
       "    .dataframe tbody tr th:only-of-type {\n",
       "        vertical-align: middle;\n",
       "    }\n",
       "\n",
       "    .dataframe tbody tr th {\n",
       "        vertical-align: top;\n",
       "    }\n",
       "\n",
       "    .dataframe thead th {\n",
       "        text-align: right;\n",
       "    }\n",
       "</style>\n",
       "<table border=\"1\" class=\"dataframe\">\n",
       "  <thead>\n",
       "    <tr style=\"text-align: right;\">\n",
       "      <th></th>\n",
       "      <th>classificação_crédito</th>\n",
       "      <th>conta.saldo</th>\n",
       "      <th>crédito.duração.meses</th>\n",
       "      <th>pagamento.crédito.anterior.status</th>\n",
       "      <th>crédito.propósito</th>\n",
       "      <th>crédito.valor</th>\n",
       "      <th>poupança</th>\n",
       "      <th>duração.emprego</th>\n",
       "      <th>taxa.parcelamento</th>\n",
       "      <th>estado_civil</th>\n",
       "      <th>fiador</th>\n",
       "      <th>residência.duração</th>\n",
       "      <th>ativos.atual</th>\n",
       "      <th>idade</th>\n",
       "      <th>outros.créditos</th>\n",
       "      <th>apartamento.tipo</th>\n",
       "      <th>banco.crédito</th>\n",
       "      <th>ocupação</th>\n",
       "      <th>dependentes</th>\n",
       "      <th>telefone</th>\n",
       "      <th>trabalhador_estrangeiro</th>\n",
       "    </tr>\n",
       "  </thead>\n",
       "  <tbody>\n",
       "    <tr>\n",
       "      <th>0</th>\n",
       "      <td>1</td>\n",
       "      <td>1</td>\n",
       "      <td>18</td>\n",
       "      <td>3</td>\n",
       "      <td>2</td>\n",
       "      <td>1049</td>\n",
       "      <td>1</td>\n",
       "      <td>1</td>\n",
       "      <td>4</td>\n",
       "      <td>1</td>\n",
       "      <td>1</td>\n",
       "      <td>4</td>\n",
       "      <td>2</td>\n",
       "      <td>21</td>\n",
       "      <td>2</td>\n",
       "      <td>1</td>\n",
       "      <td>1</td>\n",
       "      <td>3</td>\n",
       "      <td>1</td>\n",
       "      <td>1</td>\n",
       "      <td>1</td>\n",
       "    </tr>\n",
       "    <tr>\n",
       "      <th>1</th>\n",
       "      <td>1</td>\n",
       "      <td>1</td>\n",
       "      <td>9</td>\n",
       "      <td>3</td>\n",
       "      <td>4</td>\n",
       "      <td>2799</td>\n",
       "      <td>1</td>\n",
       "      <td>2</td>\n",
       "      <td>2</td>\n",
       "      <td>3</td>\n",
       "      <td>1</td>\n",
       "      <td>2</td>\n",
       "      <td>1</td>\n",
       "      <td>36</td>\n",
       "      <td>2</td>\n",
       "      <td>1</td>\n",
       "      <td>2</td>\n",
       "      <td>3</td>\n",
       "      <td>2</td>\n",
       "      <td>1</td>\n",
       "      <td>1</td>\n",
       "    </tr>\n",
       "    <tr>\n",
       "      <th>2</th>\n",
       "      <td>1</td>\n",
       "      <td>2</td>\n",
       "      <td>12</td>\n",
       "      <td>2</td>\n",
       "      <td>4</td>\n",
       "      <td>841</td>\n",
       "      <td>2</td>\n",
       "      <td>3</td>\n",
       "      <td>2</td>\n",
       "      <td>1</td>\n",
       "      <td>1</td>\n",
       "      <td>4</td>\n",
       "      <td>1</td>\n",
       "      <td>23</td>\n",
       "      <td>2</td>\n",
       "      <td>1</td>\n",
       "      <td>1</td>\n",
       "      <td>2</td>\n",
       "      <td>1</td>\n",
       "      <td>1</td>\n",
       "      <td>1</td>\n",
       "    </tr>\n",
       "    <tr>\n",
       "      <th>3</th>\n",
       "      <td>1</td>\n",
       "      <td>1</td>\n",
       "      <td>12</td>\n",
       "      <td>3</td>\n",
       "      <td>4</td>\n",
       "      <td>2122</td>\n",
       "      <td>1</td>\n",
       "      <td>2</td>\n",
       "      <td>3</td>\n",
       "      <td>3</td>\n",
       "      <td>1</td>\n",
       "      <td>2</td>\n",
       "      <td>1</td>\n",
       "      <td>39</td>\n",
       "      <td>2</td>\n",
       "      <td>1</td>\n",
       "      <td>2</td>\n",
       "      <td>2</td>\n",
       "      <td>2</td>\n",
       "      <td>1</td>\n",
       "      <td>2</td>\n",
       "    </tr>\n",
       "    <tr>\n",
       "      <th>4</th>\n",
       "      <td>1</td>\n",
       "      <td>1</td>\n",
       "      <td>12</td>\n",
       "      <td>3</td>\n",
       "      <td>4</td>\n",
       "      <td>2171</td>\n",
       "      <td>1</td>\n",
       "      <td>2</td>\n",
       "      <td>4</td>\n",
       "      <td>3</td>\n",
       "      <td>1</td>\n",
       "      <td>4</td>\n",
       "      <td>2</td>\n",
       "      <td>38</td>\n",
       "      <td>1</td>\n",
       "      <td>2</td>\n",
       "      <td>2</td>\n",
       "      <td>2</td>\n",
       "      <td>1</td>\n",
       "      <td>1</td>\n",
       "      <td>2</td>\n",
       "    </tr>\n",
       "  </tbody>\n",
       "</table>\n",
       "</div>"
      ],
      "text/plain": [
       "   classificação_crédito  conta.saldo  crédito.duração.meses  \\\n",
       "0                      1            1                     18   \n",
       "1                      1            1                      9   \n",
       "2                      1            2                     12   \n",
       "3                      1            1                     12   \n",
       "4                      1            1                     12   \n",
       "\n",
       "   pagamento.crédito.anterior.status  crédito.propósito  crédito.valor  \\\n",
       "0                                  3                  2           1049   \n",
       "1                                  3                  4           2799   \n",
       "2                                  2                  4            841   \n",
       "3                                  3                  4           2122   \n",
       "4                                  3                  4           2171   \n",
       "\n",
       "   poupança  duração.emprego  taxa.parcelamento  estado_civil  fiador  \\\n",
       "0         1                1                  4             1       1   \n",
       "1         1                2                  2             3       1   \n",
       "2         2                3                  2             1       1   \n",
       "3         1                2                  3             3       1   \n",
       "4         1                2                  4             3       1   \n",
       "\n",
       "   residência.duração  ativos.atual  idade  outros.créditos  apartamento.tipo  \\\n",
       "0                   4             2     21                2                 1   \n",
       "1                   2             1     36                2                 1   \n",
       "2                   4             1     23                2                 1   \n",
       "3                   2             1     39                2                 1   \n",
       "4                   4             2     38                1                 2   \n",
       "\n",
       "   banco.crédito  ocupação  dependentes  telefone  trabalhador_estrangeiro  \n",
       "0              1         3            1         1                        1  \n",
       "1              2         3            2         1                        1  \n",
       "2              1         2            1         1                        1  \n",
       "3              2         2            2         1                        2  \n",
       "4              2         2            1         1                        2  "
      ]
     },
     "execution_count": 89,
     "metadata": {},
     "output_type": "execute_result"
    }
   ],
   "source": [
    "X = df.iloc[:,1:].values.astype(float)\n",
    "y = Y =  df.iloc[:,0]\n",
    "\n",
    "# Definindo os valores para o número de folds\n",
    "num_folds = 10\n",
    "num_instances = len(X)\n",
    "seed = 7\n",
    "\n",
    "# Separando os dados em folds\n",
    "kfold = model_selection.KFold(num_folds) #, True, random_state = seed)\n",
    "\n",
    "# Criando o modelo\n",
    "\n",
    "solver = 'newton-cg'\n",
    "solver = 'lbfgs'\n",
    "modelo = LogisticRegression(max_iter=200, solver=solver)\n",
    "# max_iter = iterações realizadas para os otimizadores convergirem.\n",
    "# Solver = Otimizador\n",
    "\n",
    "{ 'max_iter': [100, 200, 300, 400],\n",
    "  'solve': ['newton-cg', 'sag']\n",
    "}\n",
    "\n",
    "df.head()"
   ]
  },
  {
   "cell_type": "markdown",
   "metadata": {},
   "source": [
    "## Acurácia\n",
    "Número de previsões corretas. <br />\n",
    "É útil apenas quando existe o mesmo número de observações em cada classe."
   ]
  },
  {
   "cell_type": "code",
   "execution_count": 90,
   "metadata": {},
   "outputs": [
    {
     "name": "stdout",
     "output_type": "stream",
     "text": [
      "Acurácia: 0.705 (0.229)\n"
     ]
    }
   ],
   "source": [
    "resultado = model_selection.cross_val_score(modelo, X, y, cv = kfold, scoring = 'accuracy')\n",
    "\n",
    "# Print dos resultados\n",
    "print(\"Acurácia: %.3f (%.3f)\" % (resultado.mean(), resultado.std()))"
   ]
  },
  {
   "cell_type": "markdown",
   "metadata": {},
   "source": [
    "## Confusion Matrix\n",
    "Permite verificar a acurácia de um modelo com duas ou mais classes"
   ]
  },
  {
   "cell_type": "code",
   "execution_count": 91,
   "metadata": {},
   "outputs": [
    {
     "name": "stdout",
     "output_type": "stream",
     "text": [
      "Matriz de Confusão\n"
     ]
    },
    {
     "data": {
      "image/png": "[encoded data removed]",
      "text/plain": [
       "<IPython.core.display.Image object>"
      ]
     },
     "execution_count": 91,
     "metadata": {},
     "output_type": "execute_result"
    }
   ],
   "source": [
    "from IPython.display import Image\n",
    "print(\"Matriz de Confusão\")\n",
    "Image(\"confusion_matrix.png\")"
   ]
  },
  {
   "cell_type": "code",
   "execution_count": 114,
   "metadata": {},
   "outputs": [
    {
     "name": "stdout",
     "output_type": "stream",
     "text": [
      "[[ 42  63]\n",
      " [ 17 208]]\n"
     ]
    }
   ],
   "source": [
    "from sklearn.metrics import confusion_matrix\n",
    "# Definindo o tamanho do conjunto de dados\n",
    "teste_size = 0.33\n",
    "seed = 7\n",
    "\n",
    "# Dividindo os dados em treino e teste\n",
    "X_treino, X_teste, y_treino, y_teste = model_selection.train_test_split(X, y, \n",
    "                                                                         test_size = teste_size, \n",
    "                                                                         random_state = seed)\n",
    "\n",
    "# Criando o modelo\n",
    "model = LogisticRegression()\n",
    "model.fit(X_treino, y_treino)\n",
    "\n",
    "# Fazendo as previsões e construindo a Confusion Matrix\n",
    "previsoes = model.predict(X_teste)\n",
    "matrix = confusion_matrix(y_teste, previsoes)\n",
    "\n",
    "\n",
    "#matrix = confusion_matrix(Y_teste, model.predict(X_teste))\n",
    "\n",
    "# Imprimindo a Confusion Matrix\n",
    "print(matrix)"
   ]
  },
  {
   "cell_type": "code",
   "execution_count": 115,
   "metadata": {},
   "outputs": [
    {
     "data": {
      "text/plain": [
       "(670, 330)"
      ]
     },
     "execution_count": 115,
     "metadata": {},
     "output_type": "execute_result"
    }
   ],
   "source": [
    "len(X_treino), len(y_teste)"
   ]
  },
  {
   "cell_type": "code",
   "execution_count": 116,
   "metadata": {},
   "outputs": [
    {
     "data": {
      "text/plain": [
       "((330,), (670,))"
      ]
     },
     "execution_count": 116,
     "metadata": {},
     "output_type": "execute_result"
    }
   ],
   "source": [
    "y_teste.shape, y_treino.shape"
   ]
  },
  {
   "cell_type": "markdown",
   "metadata": {},
   "source": [
    "## Curva ROC "
   ]
  },
  {
   "cell_type": "markdown",
   "metadata": {},
   "source": [
    "![image](images/auc.png)"
   ]
  },
  {
   "cell_type": "markdown",
   "metadata": {},
   "source": [
    "### Curva ROC \n",
    "A Curva ROC permite analisar a métrica AUC (Area Under the Curve).<br />\n",
    "Essa é uma métrica de performance para classificação binária, em que podemos definir as classes \n",
    "em positivas e negativas. <br />\n",
    "Problemas de classificação binária são um trade-off sentre Sensitivity e Specifity. <br />\n",
    "Sensitivity é a taxa de verdadeiros positivos (TP). Esse é o número de instâncias positivas da primeira classe \n",
    "que foram previstas corretamente. <br />\n",
    "Specifity é a taxa de verdadeiros negativos (TN). Esse é o número de instâncias da segunda classe que foram \n",
    "previstas corretamente.<br />\n",
    "Valores acima de 0.5 indicam uma boa taxa de previsão."
   ]
  },
  {
   "cell_type": "code",
   "execution_count": 117,
   "metadata": {},
   "outputs": [
    {
     "name": "stdout",
     "output_type": "stream",
     "text": [
      "[0.8147 0.7303 0.6503]\n",
      "AUC: 0.732 (0.067)\n"
     ]
    }
   ],
   "source": [
    "# Definindo os valores para o número de folds\n",
    "num_folds = 3\n",
    "num_instances = len(X)\n",
    "seed = 7\n",
    "\n",
    "# Separando os dados em folds\n",
    "kfold = model_selection.KFold(num_folds) \n",
    "resultado = model_selection.cross_val_score(modelo, X, y, cv = kfold, scoring = 'roc_auc')\n",
    "\n",
    "# Print do resultado\n",
    "print(resultado)\n",
    "print(\"AUC: %.3f (%.3f)\" % (resultado.mean(), resultado.std()))"
   ]
  },
  {
   "cell_type": "code",
   "execution_count": 118,
   "metadata": {},
   "outputs": [
    {
     "data": {
      "image/png": "[encoded data removed]",
      "text/plain": [
       "<Figure size 1000x600 with 1 Axes>"
      ]
     },
     "metadata": {},
     "output_type": "display_data"
    }
   ],
   "source": [
    "from sklearn import metrics\n",
    "\n",
    "modelo = LogisticRegression()\n",
    "modelo.fit(X,y)\n",
    "# calculate the fpr and tpr for all thresholds of the classification\n",
    "probs = modelo.predict_proba(X)\n",
    "preds = probs[:,1]\n",
    "fpr, tpr, threshold = metrics.roc_curve(y, preds)\n",
    "roc_auc = metrics.auc(fpr, tpr)\n",
    "\n",
    "# method I: plt\n",
    "import matplotlib.pyplot as plt\n",
    "plt.style.use('ggplot')\n",
    "plt.figure(figsize=(10,6))\n",
    "plt.title('Curva ROC - Receiver Operating Characteristic')\n",
    "plt.plot(fpr, tpr, 'b', label = 'AUC = %0.2f' % roc_auc)\n",
    "plt.legend(loc = 'lower right')\n",
    "plt.plot([0, 1], [0, 1],'r--')\n",
    "plt.xlim([0, 1])\n",
    "plt.ylim([0, 1])\n",
    "plt.ylabel('True Positive Rate')\n",
    "plt.xlabel('False Positive Rate')\n",
    "plt.show()"
   ]
  },
  {
   "cell_type": "markdown",
   "metadata": {},
   "source": [
    "# Logarithmic Loss"
   ]
  },
  {
   "cell_type": "markdown",
   "metadata": {},
   "source": [
    "![image](images/logloss.png)"
   ]
  },
  {
   "cell_type": "markdown",
   "metadata": {},
   "source": [
    "Onde: <br> \n",
    "$ y_i = valor \\space observado $ <br>\n",
    "$ p_i = probabilidade \\space prevista $"
   ]
  },
  {
   "cell_type": "markdown",
   "metadata": {},
   "source": [
    "![image](images/logloss02.png)"
   ]
  },
  {
   "cell_type": "markdown",
   "metadata": {},
   "source": [
    "![image](images/logloss03.png)"
   ]
  },
  {
   "cell_type": "markdown",
   "metadata": {},
   "source": [
    "## Logarithmic Loss\n",
    "Avalia as previsões de probabilidade de um membro pertencer a uma determinada classe.<br />\n",
    "Valores menores indicam boa performance, com 0 representando um perfeito logloss.<br /> \n",
    "A função cross_val_score() inverte o valor."
   ]
  },
  {
   "cell_type": "code",
   "execution_count": 119,
   "metadata": {},
   "outputs": [
    {
     "name": "stdout",
     "output_type": "stream",
     "text": [
      "Logloss: -0.930 (0.652)\n",
      "[-0.4327 -0.5073 -1.851 ]\n"
     ]
    }
   ],
   "source": [
    "resultado = model_selection.cross_val_score(modelo, X, Y, cv = kfold, scoring = 'neg_log_loss')\n",
    "\n",
    "# Print do resultado\n",
    "print(\"Logloss: %.3f (%.3f)\" % (resultado.mean(), resultado.std()))\n",
    "print(resultado)"
   ]
  },
  {
   "cell_type": "markdown",
   "metadata": {},
   "source": [
    "## Relatório de Classificação"
   ]
  },
  {
   "cell_type": "markdown",
   "metadata": {},
   "source": [
    "Precision: Qual a proporção de instâncias classificadas como positivas, foram classificadas como corretas? <br />\n",
    "$\\text{Precision} = \\frac{TP}{TP+FP}$\n",
    "<br /><br />\n",
    "Recall: Qual a proporção de instâncias positivas, foram identificadas como corretas?<br />\n",
    "$\\text{Recall} = \\frac{TP}{TP+FN}$\n",
    "<br /><br />\n",
    "f1-score: f1-score combina as métricas de precision e recall<br /><br />\n",
    "$\\text{f1-score} = \\frac{2 * (precision * recall)}{(precision + recall)}$\n",
    "<br /><br />\n",
    "O f1-score pode ser interpretado com a média ponderada entre precision e recall,<br />\n",
    "onde o f1-score encontra seu melhor valor ao atingir 1, e seu pior valor ao atingir 0<br /><br />\n",
    "Support: Número de instâncias"
   ]
  },
  {
   "cell_type": "markdown",
   "metadata": {},
   "source": [
    "## Relatório de Classificação"
   ]
  },
  {
   "cell_type": "code",
   "execution_count": 120,
   "metadata": {},
   "outputs": [
    {
     "name": "stdout",
     "output_type": "stream",
     "text": [
      "              precision    recall  f1-score   support\n",
      "\n",
      "           0       0.71      0.40      0.51       105\n",
      "           1       0.77      0.92      0.84       225\n",
      "\n",
      "    accuracy                           0.76       330\n",
      "   macro avg       0.74      0.66      0.68       330\n",
      "weighted avg       0.75      0.76      0.73       330\n",
      "\n"
     ]
    }
   ],
   "source": [
    "from sklearn import model_selection\n",
    "from sklearn.linear_model import LogisticRegression\n",
    "from sklearn.metrics import classification_report\n",
    "\n",
    "# Definindo o tamanho do conjunto de dados\n",
    "teste_size = 0.33\n",
    "seed = 7\n",
    "\n",
    "# Dividindo os dados em treino e teste\n",
    "X_treino, X_teste, Y_treino, Y_teste = model_selection.train_test_split(X, Y, \n",
    "                                                                         test_size = teste_size, \n",
    "                                                                         random_state = seed)\n",
    "\n",
    "# Criando o modelo\n",
    "modelo = LogisticRegression()\n",
    "modelo.fit(X_treino, Y_treino)\n",
    "\n",
    "# Fazendo as previsões e construindo o relatório\n",
    "previsoes = model.predict(X_teste)\n",
    "report = classification_report(Y_teste, previsoes)\n",
    "print(report)\n",
    "# Imprimindo o relatório\n",
    "#Image(\"confusion_matrix.png\", width=250, height=250)"
   ]
  },
  {
   "cell_type": "code",
   "execution_count": 99,
   "metadata": {},
   "outputs": [
    {
     "name": "stdout",
     "output_type": "stream",
     "text": [
      "              precision    recall  f1-score   support\n",
      "\n",
      "           0       0.75      0.43      0.55       105\n",
      "           1       0.78      0.93      0.85       225\n",
      "\n",
      "    accuracy                           0.77       330\n",
      "   macro avg       0.76      0.68      0.70       330\n",
      "weighted avg       0.77      0.77      0.75       330\n",
      "\n",
      "matriz de confusão:\n",
      " [[ 45  60]\n",
      " [ 15 210]]\n"
     ]
    }
   ],
   "source": [
    "print(report);print('matriz de confusão:\\n', matrix) "
   ]
  },
  {
   "cell_type": "markdown",
   "metadata": {},
   "source": [
    "$\\text{Precision} = \\frac{TP}{TP+FP}$  $ | \\text{Recall} = \\frac{TP}{TP+FN}$"
   ]
  },
  {
   "cell_type": "markdown",
   "metadata": {},
   "source": [
    "## Cálculo do Recall"
   ]
  },
  {
   "cell_type": "code",
   "execution_count": 5,
   "metadata": {},
   "outputs": [
    {
     "data": {
      "text/plain": [
       "0.42857142857142855"
      ]
     },
     "execution_count": 5,
     "metadata": {},
     "output_type": "execute_result"
    }
   ],
   "source": [
    "r0 = 45 / (45+60)\n",
    "r0"
   ]
  },
  {
   "cell_type": "code",
   "execution_count": 6,
   "metadata": {},
   "outputs": [
    {
     "data": {
      "text/plain": [
       "0.9333333333333333"
      ]
     },
     "execution_count": 6,
     "metadata": {},
     "output_type": "execute_result"
    }
   ],
   "source": [
    "r1 = 210 / (210 + 15)\n",
    "r1"
   ]
  },
  {
   "cell_type": "markdown",
   "metadata": {},
   "source": [
    "Recall: Qual a proporção de instâncias positivas, foram identificadas como corretas?"
   ]
  },
  {
   "cell_type": "markdown",
   "metadata": {},
   "source": [
    "## Cálculo do Precision"
   ]
  },
  {
   "cell_type": "code",
   "execution_count": 7,
   "metadata": {},
   "outputs": [
    {
     "data": {
      "text/plain": [
       "0.75"
      ]
     },
     "execution_count": 7,
     "metadata": {},
     "output_type": "execute_result"
    }
   ],
   "source": [
    "p0 = 45 / (45 + 15)\n",
    "p0"
   ]
  },
  {
   "cell_type": "code",
   "execution_count": 8,
   "metadata": {},
   "outputs": [
    {
     "data": {
      "text/plain": [
       "0.7777777777777778"
      ]
     },
     "execution_count": 8,
     "metadata": {},
     "output_type": "execute_result"
    }
   ],
   "source": [
    "p1 = 210 / (210 + 60)\n",
    "p1"
   ]
  },
  {
   "cell_type": "markdown",
   "metadata": {},
   "source": [
    "Precision: Qual a proporção de instâncias classificadas como positivas, foram classificadas como corretas?"
   ]
  },
  {
   "cell_type": "markdown",
   "metadata": {},
   "source": [
    "----"
   ]
  },
  {
   "cell_type": "markdown",
   "metadata": {},
   "source": [
    "# Selecao de Atributos"
   ]
  },
  {
   "cell_type": "code",
   "execution_count": 121,
   "metadata": {},
   "outputs": [
    {
     "data": {
      "text/html": [
       "<div>\n",
       "<style scoped>\n",
       "    .dataframe tbody tr th:only-of-type {\n",
       "        vertical-align: middle;\n",
       "    }\n",
       "\n",
       "    .dataframe tbody tr th {\n",
       "        vertical-align: top;\n",
       "    }\n",
       "\n",
       "    .dataframe thead th {\n",
       "        text-align: right;\n",
       "    }\n",
       "</style>\n",
       "<table border=\"1\" class=\"dataframe\">\n",
       "  <thead>\n",
       "    <tr style=\"text-align: right;\">\n",
       "      <th></th>\n",
       "      <th>classificação_crédito</th>\n",
       "      <th>conta.saldo</th>\n",
       "      <th>crédito.duração.meses</th>\n",
       "      <th>pagamento.crédito.anterior.status</th>\n",
       "      <th>crédito.propósito</th>\n",
       "      <th>crédito.valor</th>\n",
       "      <th>poupança</th>\n",
       "      <th>duração.emprego</th>\n",
       "      <th>taxa.parcelamento</th>\n",
       "      <th>estado_civil</th>\n",
       "      <th>fiador</th>\n",
       "      <th>residência.duração</th>\n",
       "      <th>ativos.atual</th>\n",
       "      <th>idade</th>\n",
       "      <th>outros.créditos</th>\n",
       "      <th>apartamento.tipo</th>\n",
       "      <th>banco.crédito</th>\n",
       "      <th>ocupação</th>\n",
       "      <th>dependentes</th>\n",
       "      <th>telefone</th>\n",
       "      <th>trabalhador_estrangeiro</th>\n",
       "    </tr>\n",
       "  </thead>\n",
       "  <tbody>\n",
       "    <tr>\n",
       "      <th>0</th>\n",
       "      <td>1</td>\n",
       "      <td>1</td>\n",
       "      <td>18</td>\n",
       "      <td>3</td>\n",
       "      <td>2</td>\n",
       "      <td>1049</td>\n",
       "      <td>1</td>\n",
       "      <td>1</td>\n",
       "      <td>4</td>\n",
       "      <td>1</td>\n",
       "      <td>1</td>\n",
       "      <td>4</td>\n",
       "      <td>2</td>\n",
       "      <td>21</td>\n",
       "      <td>2</td>\n",
       "      <td>1</td>\n",
       "      <td>1</td>\n",
       "      <td>3</td>\n",
       "      <td>1</td>\n",
       "      <td>1</td>\n",
       "      <td>1</td>\n",
       "    </tr>\n",
       "    <tr>\n",
       "      <th>1</th>\n",
       "      <td>1</td>\n",
       "      <td>1</td>\n",
       "      <td>9</td>\n",
       "      <td>3</td>\n",
       "      <td>4</td>\n",
       "      <td>2799</td>\n",
       "      <td>1</td>\n",
       "      <td>2</td>\n",
       "      <td>2</td>\n",
       "      <td>3</td>\n",
       "      <td>1</td>\n",
       "      <td>2</td>\n",
       "      <td>1</td>\n",
       "      <td>36</td>\n",
       "      <td>2</td>\n",
       "      <td>1</td>\n",
       "      <td>2</td>\n",
       "      <td>3</td>\n",
       "      <td>2</td>\n",
       "      <td>1</td>\n",
       "      <td>1</td>\n",
       "    </tr>\n",
       "    <tr>\n",
       "      <th>2</th>\n",
       "      <td>1</td>\n",
       "      <td>2</td>\n",
       "      <td>12</td>\n",
       "      <td>2</td>\n",
       "      <td>4</td>\n",
       "      <td>841</td>\n",
       "      <td>2</td>\n",
       "      <td>3</td>\n",
       "      <td>2</td>\n",
       "      <td>1</td>\n",
       "      <td>1</td>\n",
       "      <td>4</td>\n",
       "      <td>1</td>\n",
       "      <td>23</td>\n",
       "      <td>2</td>\n",
       "      <td>1</td>\n",
       "      <td>1</td>\n",
       "      <td>2</td>\n",
       "      <td>1</td>\n",
       "      <td>1</td>\n",
       "      <td>1</td>\n",
       "    </tr>\n",
       "    <tr>\n",
       "      <th>3</th>\n",
       "      <td>1</td>\n",
       "      <td>1</td>\n",
       "      <td>12</td>\n",
       "      <td>3</td>\n",
       "      <td>4</td>\n",
       "      <td>2122</td>\n",
       "      <td>1</td>\n",
       "      <td>2</td>\n",
       "      <td>3</td>\n",
       "      <td>3</td>\n",
       "      <td>1</td>\n",
       "      <td>2</td>\n",
       "      <td>1</td>\n",
       "      <td>39</td>\n",
       "      <td>2</td>\n",
       "      <td>1</td>\n",
       "      <td>2</td>\n",
       "      <td>2</td>\n",
       "      <td>2</td>\n",
       "      <td>1</td>\n",
       "      <td>2</td>\n",
       "    </tr>\n",
       "    <tr>\n",
       "      <th>4</th>\n",
       "      <td>1</td>\n",
       "      <td>1</td>\n",
       "      <td>12</td>\n",
       "      <td>3</td>\n",
       "      <td>4</td>\n",
       "      <td>2171</td>\n",
       "      <td>1</td>\n",
       "      <td>2</td>\n",
       "      <td>4</td>\n",
       "      <td>3</td>\n",
       "      <td>1</td>\n",
       "      <td>4</td>\n",
       "      <td>2</td>\n",
       "      <td>38</td>\n",
       "      <td>1</td>\n",
       "      <td>2</td>\n",
       "      <td>2</td>\n",
       "      <td>2</td>\n",
       "      <td>1</td>\n",
       "      <td>1</td>\n",
       "      <td>2</td>\n",
       "    </tr>\n",
       "  </tbody>\n",
       "</table>\n",
       "</div>"
      ],
      "text/plain": [
       "   classificação_crédito  conta.saldo  crédito.duração.meses  \\\n",
       "0                      1            1                     18   \n",
       "1                      1            1                      9   \n",
       "2                      1            2                     12   \n",
       "3                      1            1                     12   \n",
       "4                      1            1                     12   \n",
       "\n",
       "   pagamento.crédito.anterior.status  crédito.propósito  crédito.valor  \\\n",
       "0                                  3                  2           1049   \n",
       "1                                  3                  4           2799   \n",
       "2                                  2                  4            841   \n",
       "3                                  3                  4           2122   \n",
       "4                                  3                  4           2171   \n",
       "\n",
       "   poupança  duração.emprego  taxa.parcelamento  estado_civil  fiador  \\\n",
       "0         1                1                  4             1       1   \n",
       "1         1                2                  2             3       1   \n",
       "2         2                3                  2             1       1   \n",
       "3         1                2                  3             3       1   \n",
       "4         1                2                  4             3       1   \n",
       "\n",
       "   residência.duração  ativos.atual  idade  outros.créditos  apartamento.tipo  \\\n",
       "0                   4             2     21                2                 1   \n",
       "1                   2             1     36                2                 1   \n",
       "2                   4             1     23                2                 1   \n",
       "3                   2             1     39                2                 1   \n",
       "4                   4             2     38                1                 2   \n",
       "\n",
       "   banco.crédito  ocupação  dependentes  telefone  trabalhador_estrangeiro  \n",
       "0              1         3            1         1                        1  \n",
       "1              2         3            2         1                        1  \n",
       "2              1         2            1         1                        1  \n",
       "3              2         2            2         1                        2  \n",
       "4              2         2            1         1                        2  "
      ]
     },
     "execution_count": 121,
     "metadata": {},
     "output_type": "execute_result"
    }
   ],
   "source": [
    "df.head()"
   ]
  },
  {
   "cell_type": "code",
   "execution_count": 122,
   "metadata": {},
   "outputs": [],
   "source": [
    "y = df['classificação_crédito'].values\n",
    "X = df.drop('classificação_crédito', axis=1).to_numpy()"
   ]
  },
  {
   "cell_type": "code",
   "execution_count": 123,
   "metadata": {},
   "outputs": [
    {
     "name": "stdout",
     "output_type": "stream",
     "text": [
      "Num Features:  17\n",
      "['conta.saldo', 'crédito.duração.meses', 'pagamento.crédito.anterior.status', 'crédito.propósito', 'crédito.valor', 'poupança', 'duração.emprego', 'taxa.parcelamento', 'estado_civil', 'fiador', 'residência.duração', 'ativos.atual', 'idade', 'outros.créditos', 'apartamento.tipo', 'banco.crédito', 'ocupação', 'dependentes', 'telefone', 'trabalhador_estrangeiro']\n",
      "Selected Features:  [ True  True  True  True  True  True  True  True  True  True  True  True\n",
      "  True  True  True False  True  True False False]\n",
      "Feature Ranking:  [1 1 1 1 1 1 1 1 1 1 1 1 1 1 1 2 1 1 3 4]\n"
     ]
    }
   ],
   "source": [
    "from sklearn.feature_selection import RFE\n",
    "from sklearn.ensemble import GradientBoostingClassifier\n",
    "\n",
    "\n",
    "num_atributos_relevantes = 17\n",
    "estimator = modelo = GradientBoostingClassifier()\n",
    "selector = RFE(estimator, n_features_to_select=num_atributos_relevantes, step=1)\n",
    "selector = selector.fit(X, y)\n",
    "\n",
    "print(\"Num Features: \", selector.n_features_)\n",
    "\n",
    "atributos = list(df.columns) \n",
    "atributos.remove('classificação_crédito')\n",
    "\n",
    "print(atributos)\n",
    "print(\"Selected Features: \", selector.support_)\n",
    "print(\"Feature Ranking: \", selector.ranking_)"
   ]
  },
  {
   "cell_type": "code",
   "execution_count": 124,
   "metadata": {},
   "outputs": [
    {
     "data": {
      "text/html": [
       "<div>\n",
       "<style scoped>\n",
       "    .dataframe tbody tr th:only-of-type {\n",
       "        vertical-align: middle;\n",
       "    }\n",
       "\n",
       "    .dataframe tbody tr th {\n",
       "        vertical-align: top;\n",
       "    }\n",
       "\n",
       "    .dataframe thead th {\n",
       "        text-align: right;\n",
       "    }\n",
       "</style>\n",
       "<table border=\"1\" class=\"dataframe\">\n",
       "  <thead>\n",
       "    <tr style=\"text-align: right;\">\n",
       "      <th></th>\n",
       "      <th>atributos</th>\n",
       "      <th>ranking</th>\n",
       "    </tr>\n",
       "  </thead>\n",
       "  <tbody>\n",
       "    <tr>\n",
       "      <th>0</th>\n",
       "      <td>conta.saldo</td>\n",
       "      <td>1</td>\n",
       "    </tr>\n",
       "    <tr>\n",
       "      <th>17</th>\n",
       "      <td>dependentes</td>\n",
       "      <td>1</td>\n",
       "    </tr>\n",
       "    <tr>\n",
       "      <th>16</th>\n",
       "      <td>ocupação</td>\n",
       "      <td>1</td>\n",
       "    </tr>\n",
       "    <tr>\n",
       "      <th>14</th>\n",
       "      <td>apartamento.tipo</td>\n",
       "      <td>1</td>\n",
       "    </tr>\n",
       "    <tr>\n",
       "      <th>13</th>\n",
       "      <td>outros.créditos</td>\n",
       "      <td>1</td>\n",
       "    </tr>\n",
       "    <tr>\n",
       "      <th>12</th>\n",
       "      <td>idade</td>\n",
       "      <td>1</td>\n",
       "    </tr>\n",
       "    <tr>\n",
       "      <th>11</th>\n",
       "      <td>ativos.atual</td>\n",
       "      <td>1</td>\n",
       "    </tr>\n",
       "    <tr>\n",
       "      <th>10</th>\n",
       "      <td>residência.duração</td>\n",
       "      <td>1</td>\n",
       "    </tr>\n",
       "    <tr>\n",
       "      <th>9</th>\n",
       "      <td>fiador</td>\n",
       "      <td>1</td>\n",
       "    </tr>\n",
       "    <tr>\n",
       "      <th>7</th>\n",
       "      <td>taxa.parcelamento</td>\n",
       "      <td>1</td>\n",
       "    </tr>\n",
       "    <tr>\n",
       "      <th>6</th>\n",
       "      <td>duração.emprego</td>\n",
       "      <td>1</td>\n",
       "    </tr>\n",
       "    <tr>\n",
       "      <th>5</th>\n",
       "      <td>poupança</td>\n",
       "      <td>1</td>\n",
       "    </tr>\n",
       "    <tr>\n",
       "      <th>4</th>\n",
       "      <td>crédito.valor</td>\n",
       "      <td>1</td>\n",
       "    </tr>\n",
       "    <tr>\n",
       "      <th>3</th>\n",
       "      <td>crédito.propósito</td>\n",
       "      <td>1</td>\n",
       "    </tr>\n",
       "    <tr>\n",
       "      <th>2</th>\n",
       "      <td>pagamento.crédito.anterior.status</td>\n",
       "      <td>1</td>\n",
       "    </tr>\n",
       "    <tr>\n",
       "      <th>1</th>\n",
       "      <td>crédito.duração.meses</td>\n",
       "      <td>1</td>\n",
       "    </tr>\n",
       "    <tr>\n",
       "      <th>8</th>\n",
       "      <td>estado_civil</td>\n",
       "      <td>1</td>\n",
       "    </tr>\n",
       "    <tr>\n",
       "      <th>15</th>\n",
       "      <td>banco.crédito</td>\n",
       "      <td>2</td>\n",
       "    </tr>\n",
       "    <tr>\n",
       "      <th>18</th>\n",
       "      <td>telefone</td>\n",
       "      <td>3</td>\n",
       "    </tr>\n",
       "    <tr>\n",
       "      <th>19</th>\n",
       "      <td>trabalhador_estrangeiro</td>\n",
       "      <td>4</td>\n",
       "    </tr>\n",
       "  </tbody>\n",
       "</table>\n",
       "</div>"
      ],
      "text/plain": [
       "                            atributos  ranking\n",
       "0                         conta.saldo        1\n",
       "17                        dependentes        1\n",
       "16                           ocupação        1\n",
       "14                   apartamento.tipo        1\n",
       "13                    outros.créditos        1\n",
       "12                              idade        1\n",
       "11                       ativos.atual        1\n",
       "10                 residência.duração        1\n",
       "9                              fiador        1\n",
       "7                   taxa.parcelamento        1\n",
       "6                     duração.emprego        1\n",
       "5                            poupança        1\n",
       "4                       crédito.valor        1\n",
       "3                   crédito.propósito        1\n",
       "2   pagamento.crédito.anterior.status        1\n",
       "1               crédito.duração.meses        1\n",
       "8                        estado_civil        1\n",
       "15                      banco.crédito        2\n",
       "18                           telefone        3\n",
       "19            trabalhador_estrangeiro        4"
      ]
     },
     "execution_count": 124,
     "metadata": {},
     "output_type": "execute_result"
    }
   ],
   "source": [
    "dfranking = pd.DataFrame({ 'atributos': atributos, \n",
    "                         'ranking' : selector.ranking_, \n",
    "                          }) \n",
    "\n",
    "dfranking = dfranking.sort_values(by='ranking')\n",
    "dfranking"
   ]
  },
  {
   "cell_type": "code",
   "execution_count": 125,
   "metadata": {},
   "outputs": [
    {
     "data": {
      "text/plain": [
       "array([1, 2, 3])"
      ]
     },
     "execution_count": 125,
     "metadata": {},
     "output_type": "execute_result"
    }
   ],
   "source": [
    "df['conta.saldo'].unique()"
   ]
  },
  {
   "cell_type": "code",
   "execution_count": 126,
   "metadata": {},
   "outputs": [
    {
     "data": {
      "text/plain": [
       "['conta.saldo',\n",
       " 'dependentes',\n",
       " 'ocupação',\n",
       " 'apartamento.tipo',\n",
       " 'outros.créditos',\n",
       " 'idade',\n",
       " 'ativos.atual',\n",
       " 'residência.duração',\n",
       " 'fiador',\n",
       " 'taxa.parcelamento',\n",
       " 'duração.emprego',\n",
       " 'poupança',\n",
       " 'crédito.valor',\n",
       " 'crédito.propósito',\n",
       " 'pagamento.crédito.anterior.status',\n",
       " 'crédito.duração.meses',\n",
       " 'estado_civil']"
      ]
     },
     "execution_count": 126,
     "metadata": {},
     "output_type": "execute_result"
    }
   ],
   "source": [
    "atributos_selecionados = dfranking[ (dfranking.ranking == 1) ].atributos\n",
    "atributos_selecionados = list(atributos_selecionados)\n",
    "atributos_selecionados"
   ]
  },
  {
   "cell_type": "code",
   "execution_count": 127,
   "metadata": {},
   "outputs": [
    {
     "data": {
      "text/html": [
       "<div>\n",
       "<style scoped>\n",
       "    .dataframe tbody tr th:only-of-type {\n",
       "        vertical-align: middle;\n",
       "    }\n",
       "\n",
       "    .dataframe tbody tr th {\n",
       "        vertical-align: top;\n",
       "    }\n",
       "\n",
       "    .dataframe thead th {\n",
       "        text-align: right;\n",
       "    }\n",
       "</style>\n",
       "<table border=\"1\" class=\"dataframe\">\n",
       "  <thead>\n",
       "    <tr style=\"text-align: right;\">\n",
       "      <th></th>\n",
       "      <th>conta.saldo</th>\n",
       "      <th>dependentes</th>\n",
       "      <th>ocupação</th>\n",
       "      <th>apartamento.tipo</th>\n",
       "      <th>outros.créditos</th>\n",
       "      <th>idade</th>\n",
       "      <th>ativos.atual</th>\n",
       "      <th>residência.duração</th>\n",
       "      <th>fiador</th>\n",
       "      <th>taxa.parcelamento</th>\n",
       "      <th>duração.emprego</th>\n",
       "      <th>poupança</th>\n",
       "      <th>crédito.valor</th>\n",
       "      <th>crédito.propósito</th>\n",
       "      <th>pagamento.crédito.anterior.status</th>\n",
       "      <th>crédito.duração.meses</th>\n",
       "      <th>estado_civil</th>\n",
       "    </tr>\n",
       "  </thead>\n",
       "  <tbody>\n",
       "    <tr>\n",
       "      <th>0</th>\n",
       "      <td>1</td>\n",
       "      <td>1</td>\n",
       "      <td>3</td>\n",
       "      <td>1</td>\n",
       "      <td>2</td>\n",
       "      <td>21</td>\n",
       "      <td>2</td>\n",
       "      <td>4</td>\n",
       "      <td>1</td>\n",
       "      <td>4</td>\n",
       "      <td>1</td>\n",
       "      <td>1</td>\n",
       "      <td>1049</td>\n",
       "      <td>2</td>\n",
       "      <td>3</td>\n",
       "      <td>18</td>\n",
       "      <td>1</td>\n",
       "    </tr>\n",
       "    <tr>\n",
       "      <th>1</th>\n",
       "      <td>1</td>\n",
       "      <td>2</td>\n",
       "      <td>3</td>\n",
       "      <td>1</td>\n",
       "      <td>2</td>\n",
       "      <td>36</td>\n",
       "      <td>1</td>\n",
       "      <td>2</td>\n",
       "      <td>1</td>\n",
       "      <td>2</td>\n",
       "      <td>2</td>\n",
       "      <td>1</td>\n",
       "      <td>2799</td>\n",
       "      <td>4</td>\n",
       "      <td>3</td>\n",
       "      <td>9</td>\n",
       "      <td>3</td>\n",
       "    </tr>\n",
       "    <tr>\n",
       "      <th>2</th>\n",
       "      <td>2</td>\n",
       "      <td>1</td>\n",
       "      <td>2</td>\n",
       "      <td>1</td>\n",
       "      <td>2</td>\n",
       "      <td>23</td>\n",
       "      <td>1</td>\n",
       "      <td>4</td>\n",
       "      <td>1</td>\n",
       "      <td>2</td>\n",
       "      <td>3</td>\n",
       "      <td>2</td>\n",
       "      <td>841</td>\n",
       "      <td>4</td>\n",
       "      <td>2</td>\n",
       "      <td>12</td>\n",
       "      <td>1</td>\n",
       "    </tr>\n",
       "    <tr>\n",
       "      <th>3</th>\n",
       "      <td>1</td>\n",
       "      <td>2</td>\n",
       "      <td>2</td>\n",
       "      <td>1</td>\n",
       "      <td>2</td>\n",
       "      <td>39</td>\n",
       "      <td>1</td>\n",
       "      <td>2</td>\n",
       "      <td>1</td>\n",
       "      <td>3</td>\n",
       "      <td>2</td>\n",
       "      <td>1</td>\n",
       "      <td>2122</td>\n",
       "      <td>4</td>\n",
       "      <td>3</td>\n",
       "      <td>12</td>\n",
       "      <td>3</td>\n",
       "    </tr>\n",
       "    <tr>\n",
       "      <th>4</th>\n",
       "      <td>1</td>\n",
       "      <td>1</td>\n",
       "      <td>2</td>\n",
       "      <td>2</td>\n",
       "      <td>1</td>\n",
       "      <td>38</td>\n",
       "      <td>2</td>\n",
       "      <td>4</td>\n",
       "      <td>1</td>\n",
       "      <td>4</td>\n",
       "      <td>2</td>\n",
       "      <td>1</td>\n",
       "      <td>2171</td>\n",
       "      <td>4</td>\n",
       "      <td>3</td>\n",
       "      <td>12</td>\n",
       "      <td>3</td>\n",
       "    </tr>\n",
       "  </tbody>\n",
       "</table>\n",
       "</div>"
      ],
      "text/plain": [
       "   conta.saldo  dependentes  ocupação  apartamento.tipo  outros.créditos  \\\n",
       "0            1            1         3                 1                2   \n",
       "1            1            2         3                 1                2   \n",
       "2            2            1         2                 1                2   \n",
       "3            1            2         2                 1                2   \n",
       "4            1            1         2                 2                1   \n",
       "\n",
       "   idade  ativos.atual  residência.duração  fiador  taxa.parcelamento  \\\n",
       "0     21             2                   4       1                  4   \n",
       "1     36             1                   2       1                  2   \n",
       "2     23             1                   4       1                  2   \n",
       "3     39             1                   2       1                  3   \n",
       "4     38             2                   4       1                  4   \n",
       "\n",
       "   duração.emprego  poupança  crédito.valor  crédito.propósito  \\\n",
       "0                1         1           1049                  2   \n",
       "1                2         1           2799                  4   \n",
       "2                3         2            841                  4   \n",
       "3                2         1           2122                  4   \n",
       "4                2         1           2171                  4   \n",
       "\n",
       "   pagamento.crédito.anterior.status  crédito.duração.meses  estado_civil  \n",
       "0                                  3                     18             1  \n",
       "1                                  3                      9             3  \n",
       "2                                  2                     12             1  \n",
       "3                                  3                     12             3  \n",
       "4                                  3                     12             3  "
      ]
     },
     "execution_count": 127,
     "metadata": {},
     "output_type": "execute_result"
    }
   ],
   "source": [
    "df[atributos_selecionados].head()"
   ]
  },
  {
   "cell_type": "code",
   "execution_count": 107,
   "metadata": {},
   "outputs": [],
   "source": [
    "y = df['classificação_crédito'].values\n",
    "X = df[atributos_selecionados].to_numpy()"
   ]
  },
  {
   "cell_type": "code",
   "execution_count": 128,
   "metadata": {},
   "outputs": [
    {
     "name": "stdout",
     "output_type": "stream",
     "text": [
      "Acurácia: 0.609 (0.235)\n"
     ]
    }
   ],
   "source": [
    "resultado = model_selection.cross_val_score(modelo, X, y, cv = kfold, scoring = 'accuracy')\n",
    "\n",
    "# Print dos resultados\n",
    "print(\"Acurácia: %.3f (%.3f)\" % (resultado.mean(), resultado.std()))"
   ]
  },
  {
   "cell_type": "code",
   "execution_count": 129,
   "metadata": {},
   "outputs": [
    {
     "name": "stdout",
     "output_type": "stream",
     "text": [
      "[[ 45  60]\n",
      " [ 15 210]]\n"
     ]
    }
   ],
   "source": [
    "from sklearn.metrics import confusion_matrix\n",
    "# Definindo o tamanho do conjunto de dados\n",
    "teste_size = 0.33\n",
    "seed = 7\n",
    "\n",
    "# Dividindo os dados em treino e teste\n",
    "X_treino, X_teste, Y_treino, Y_teste = model_selection.train_test_split(X, y, \n",
    "                                                                         test_size = teste_size, \n",
    "                                                                         random_state = seed)\n",
    "\n",
    "# Criando o modelo\n",
    "model = LogisticRegression()\n",
    "model.fit(X_treino, Y_treino)\n",
    "\n",
    "# Fazendo as previsões e construindo a Confusion Matrix\n",
    "previsoes = model.predict(X_teste)\n",
    "matrix = confusion_matrix(Y_teste, previsoes)\n",
    "\n",
    "\n",
    "#matrix = confusion_matrix(Y_teste, model.predict(X_teste))\n",
    "\n",
    "# Imprimindo a Confusion Matrix\n",
    "print(matrix)"
   ]
  },
  {
   "cell_type": "code",
   "execution_count": 130,
   "metadata": {},
   "outputs": [],
   "source": [
    "# Matriz de confusao com os todos os atributos20\n",
    "# [[ 46  59]\n",
    "#  [ 15 210]]"
   ]
  },
  {
   "cell_type": "code",
   "execution_count": 131,
   "metadata": {},
   "outputs": [
    {
     "data": {
      "text/html": [
       "<div>\n",
       "<style scoped>\n",
       "    .dataframe tbody tr th:only-of-type {\n",
       "        vertical-align: middle;\n",
       "    }\n",
       "\n",
       "    .dataframe tbody tr th {\n",
       "        vertical-align: top;\n",
       "    }\n",
       "\n",
       "    .dataframe thead th {\n",
       "        text-align: right;\n",
       "    }\n",
       "</style>\n",
       "<table border=\"1\" class=\"dataframe\">\n",
       "  <thead>\n",
       "    <tr style=\"text-align: right;\">\n",
       "      <th></th>\n",
       "      <th>atributos</th>\n",
       "      <th>ranking</th>\n",
       "    </tr>\n",
       "  </thead>\n",
       "  <tbody>\n",
       "    <tr>\n",
       "      <th>0</th>\n",
       "      <td>conta.saldo</td>\n",
       "      <td>1</td>\n",
       "    </tr>\n",
       "    <tr>\n",
       "      <th>17</th>\n",
       "      <td>dependentes</td>\n",
       "      <td>1</td>\n",
       "    </tr>\n",
       "    <tr>\n",
       "      <th>16</th>\n",
       "      <td>ocupação</td>\n",
       "      <td>1</td>\n",
       "    </tr>\n",
       "    <tr>\n",
       "      <th>14</th>\n",
       "      <td>apartamento.tipo</td>\n",
       "      <td>1</td>\n",
       "    </tr>\n",
       "    <tr>\n",
       "      <th>13</th>\n",
       "      <td>outros.créditos</td>\n",
       "      <td>1</td>\n",
       "    </tr>\n",
       "    <tr>\n",
       "      <th>12</th>\n",
       "      <td>idade</td>\n",
       "      <td>1</td>\n",
       "    </tr>\n",
       "    <tr>\n",
       "      <th>11</th>\n",
       "      <td>ativos.atual</td>\n",
       "      <td>1</td>\n",
       "    </tr>\n",
       "    <tr>\n",
       "      <th>10</th>\n",
       "      <td>residência.duração</td>\n",
       "      <td>1</td>\n",
       "    </tr>\n",
       "    <tr>\n",
       "      <th>9</th>\n",
       "      <td>fiador</td>\n",
       "      <td>1</td>\n",
       "    </tr>\n",
       "    <tr>\n",
       "      <th>7</th>\n",
       "      <td>taxa.parcelamento</td>\n",
       "      <td>1</td>\n",
       "    </tr>\n",
       "    <tr>\n",
       "      <th>6</th>\n",
       "      <td>duração.emprego</td>\n",
       "      <td>1</td>\n",
       "    </tr>\n",
       "    <tr>\n",
       "      <th>5</th>\n",
       "      <td>poupança</td>\n",
       "      <td>1</td>\n",
       "    </tr>\n",
       "    <tr>\n",
       "      <th>4</th>\n",
       "      <td>crédito.valor</td>\n",
       "      <td>1</td>\n",
       "    </tr>\n",
       "    <tr>\n",
       "      <th>3</th>\n",
       "      <td>crédito.propósito</td>\n",
       "      <td>1</td>\n",
       "    </tr>\n",
       "    <tr>\n",
       "      <th>2</th>\n",
       "      <td>pagamento.crédito.anterior.status</td>\n",
       "      <td>1</td>\n",
       "    </tr>\n",
       "    <tr>\n",
       "      <th>1</th>\n",
       "      <td>crédito.duração.meses</td>\n",
       "      <td>1</td>\n",
       "    </tr>\n",
       "    <tr>\n",
       "      <th>8</th>\n",
       "      <td>estado_civil</td>\n",
       "      <td>1</td>\n",
       "    </tr>\n",
       "  </tbody>\n",
       "</table>\n",
       "</div>"
      ],
      "text/plain": [
       "                            atributos  ranking\n",
       "0                         conta.saldo        1\n",
       "17                        dependentes        1\n",
       "16                           ocupação        1\n",
       "14                   apartamento.tipo        1\n",
       "13                    outros.créditos        1\n",
       "12                              idade        1\n",
       "11                       ativos.atual        1\n",
       "10                 residência.duração        1\n",
       "9                              fiador        1\n",
       "7                   taxa.parcelamento        1\n",
       "6                     duração.emprego        1\n",
       "5                            poupança        1\n",
       "4                       crédito.valor        1\n",
       "3                   crédito.propósito        1\n",
       "2   pagamento.crédito.anterior.status        1\n",
       "1               crédito.duração.meses        1\n",
       "8                        estado_civil        1"
      ]
     },
     "execution_count": 131,
     "metadata": {},
     "output_type": "execute_result"
    }
   ],
   "source": [
    "df1 = dfranking[ dfranking.ranking == 1 ]\n",
    "df1"
   ]
  },
  {
   "cell_type": "code",
   "execution_count": 132,
   "metadata": {},
   "outputs": [
    {
     "data": {
      "text/plain": [
       "['conta.saldo',\n",
       " 'dependentes',\n",
       " 'ocupação',\n",
       " 'apartamento.tipo',\n",
       " 'outros.créditos',\n",
       " 'idade',\n",
       " 'ativos.atual',\n",
       " 'residência.duração',\n",
       " 'fiador',\n",
       " 'taxa.parcelamento',\n",
       " 'duração.emprego',\n",
       " 'poupança',\n",
       " 'crédito.valor',\n",
       " 'crédito.propósito',\n",
       " 'pagamento.crédito.anterior.status',\n",
       " 'crédito.duração.meses',\n",
       " 'estado_civil']"
      ]
     },
     "execution_count": 132,
     "metadata": {},
     "output_type": "execute_result"
    }
   ],
   "source": [
    "atributos_ranking = list(df1.atributos.values)\n",
    "atributos_ranking"
   ]
  },
  {
   "cell_type": "code",
   "execution_count": 133,
   "metadata": {},
   "outputs": [
    {
     "data": {
      "text/html": [
       "<div>\n",
       "<style scoped>\n",
       "    .dataframe tbody tr th:only-of-type {\n",
       "        vertical-align: middle;\n",
       "    }\n",
       "\n",
       "    .dataframe tbody tr th {\n",
       "        vertical-align: top;\n",
       "    }\n",
       "\n",
       "    .dataframe thead th {\n",
       "        text-align: right;\n",
       "    }\n",
       "</style>\n",
       "<table border=\"1\" class=\"dataframe\">\n",
       "  <thead>\n",
       "    <tr style=\"text-align: right;\">\n",
       "      <th></th>\n",
       "      <th>classificação_crédito</th>\n",
       "      <th>conta.saldo</th>\n",
       "      <th>crédito.duração.meses</th>\n",
       "      <th>pagamento.crédito.anterior.status</th>\n",
       "      <th>crédito.propósito</th>\n",
       "      <th>crédito.valor</th>\n",
       "      <th>poupança</th>\n",
       "      <th>duração.emprego</th>\n",
       "      <th>taxa.parcelamento</th>\n",
       "      <th>estado_civil</th>\n",
       "      <th>fiador</th>\n",
       "      <th>residência.duração</th>\n",
       "      <th>ativos.atual</th>\n",
       "      <th>idade</th>\n",
       "      <th>outros.créditos</th>\n",
       "      <th>apartamento.tipo</th>\n",
       "      <th>banco.crédito</th>\n",
       "      <th>ocupação</th>\n",
       "      <th>dependentes</th>\n",
       "      <th>telefone</th>\n",
       "      <th>trabalhador_estrangeiro</th>\n",
       "    </tr>\n",
       "  </thead>\n",
       "  <tbody>\n",
       "    <tr>\n",
       "      <th>0</th>\n",
       "      <td>1</td>\n",
       "      <td>1</td>\n",
       "      <td>18</td>\n",
       "      <td>3</td>\n",
       "      <td>2</td>\n",
       "      <td>1049</td>\n",
       "      <td>1</td>\n",
       "      <td>1</td>\n",
       "      <td>4</td>\n",
       "      <td>1</td>\n",
       "      <td>1</td>\n",
       "      <td>4</td>\n",
       "      <td>2</td>\n",
       "      <td>21</td>\n",
       "      <td>2</td>\n",
       "      <td>1</td>\n",
       "      <td>1</td>\n",
       "      <td>3</td>\n",
       "      <td>1</td>\n",
       "      <td>1</td>\n",
       "      <td>1</td>\n",
       "    </tr>\n",
       "    <tr>\n",
       "      <th>1</th>\n",
       "      <td>1</td>\n",
       "      <td>1</td>\n",
       "      <td>9</td>\n",
       "      <td>3</td>\n",
       "      <td>4</td>\n",
       "      <td>2799</td>\n",
       "      <td>1</td>\n",
       "      <td>2</td>\n",
       "      <td>2</td>\n",
       "      <td>3</td>\n",
       "      <td>1</td>\n",
       "      <td>2</td>\n",
       "      <td>1</td>\n",
       "      <td>36</td>\n",
       "      <td>2</td>\n",
       "      <td>1</td>\n",
       "      <td>2</td>\n",
       "      <td>3</td>\n",
       "      <td>2</td>\n",
       "      <td>1</td>\n",
       "      <td>1</td>\n",
       "    </tr>\n",
       "    <tr>\n",
       "      <th>2</th>\n",
       "      <td>1</td>\n",
       "      <td>2</td>\n",
       "      <td>12</td>\n",
       "      <td>2</td>\n",
       "      <td>4</td>\n",
       "      <td>841</td>\n",
       "      <td>2</td>\n",
       "      <td>3</td>\n",
       "      <td>2</td>\n",
       "      <td>1</td>\n",
       "      <td>1</td>\n",
       "      <td>4</td>\n",
       "      <td>1</td>\n",
       "      <td>23</td>\n",
       "      <td>2</td>\n",
       "      <td>1</td>\n",
       "      <td>1</td>\n",
       "      <td>2</td>\n",
       "      <td>1</td>\n",
       "      <td>1</td>\n",
       "      <td>1</td>\n",
       "    </tr>\n",
       "    <tr>\n",
       "      <th>3</th>\n",
       "      <td>1</td>\n",
       "      <td>1</td>\n",
       "      <td>12</td>\n",
       "      <td>3</td>\n",
       "      <td>4</td>\n",
       "      <td>2122</td>\n",
       "      <td>1</td>\n",
       "      <td>2</td>\n",
       "      <td>3</td>\n",
       "      <td>3</td>\n",
       "      <td>1</td>\n",
       "      <td>2</td>\n",
       "      <td>1</td>\n",
       "      <td>39</td>\n",
       "      <td>2</td>\n",
       "      <td>1</td>\n",
       "      <td>2</td>\n",
       "      <td>2</td>\n",
       "      <td>2</td>\n",
       "      <td>1</td>\n",
       "      <td>2</td>\n",
       "    </tr>\n",
       "    <tr>\n",
       "      <th>4</th>\n",
       "      <td>1</td>\n",
       "      <td>1</td>\n",
       "      <td>12</td>\n",
       "      <td>3</td>\n",
       "      <td>4</td>\n",
       "      <td>2171</td>\n",
       "      <td>1</td>\n",
       "      <td>2</td>\n",
       "      <td>4</td>\n",
       "      <td>3</td>\n",
       "      <td>1</td>\n",
       "      <td>4</td>\n",
       "      <td>2</td>\n",
       "      <td>38</td>\n",
       "      <td>1</td>\n",
       "      <td>2</td>\n",
       "      <td>2</td>\n",
       "      <td>2</td>\n",
       "      <td>1</td>\n",
       "      <td>1</td>\n",
       "      <td>2</td>\n",
       "    </tr>\n",
       "  </tbody>\n",
       "</table>\n",
       "</div>"
      ],
      "text/plain": [
       "   classificação_crédito  conta.saldo  crédito.duração.meses  \\\n",
       "0                      1            1                     18   \n",
       "1                      1            1                      9   \n",
       "2                      1            2                     12   \n",
       "3                      1            1                     12   \n",
       "4                      1            1                     12   \n",
       "\n",
       "   pagamento.crédito.anterior.status  crédito.propósito  crédito.valor  \\\n",
       "0                                  3                  2           1049   \n",
       "1                                  3                  4           2799   \n",
       "2                                  2                  4            841   \n",
       "3                                  3                  4           2122   \n",
       "4                                  3                  4           2171   \n",
       "\n",
       "   poupança  duração.emprego  taxa.parcelamento  estado_civil  fiador  \\\n",
       "0         1                1                  4             1       1   \n",
       "1         1                2                  2             3       1   \n",
       "2         2                3                  2             1       1   \n",
       "3         1                2                  3             3       1   \n",
       "4         1                2                  4             3       1   \n",
       "\n",
       "   residência.duração  ativos.atual  idade  outros.créditos  apartamento.tipo  \\\n",
       "0                   4             2     21                2                 1   \n",
       "1                   2             1     36                2                 1   \n",
       "2                   4             1     23                2                 1   \n",
       "3                   2             1     39                2                 1   \n",
       "4                   4             2     38                1                 2   \n",
       "\n",
       "   banco.crédito  ocupação  dependentes  telefone  trabalhador_estrangeiro  \n",
       "0              1         3            1         1                        1  \n",
       "1              2         3            2         1                        1  \n",
       "2              1         2            1         1                        1  \n",
       "3              2         2            2         1                        2  \n",
       "4              2         2            1         1                        2  "
      ]
     },
     "execution_count": 133,
     "metadata": {},
     "output_type": "execute_result"
    }
   ],
   "source": [
    "df.head()"
   ]
  },
  {
   "cell_type": "code",
   "execution_count": null,
   "metadata": {},
   "outputs": [],
   "source": []
  }
 ],
 "metadata": {
  "kernelspec": {
   "display_name": "Python 3 (ipykernel)",
   "language": "python",
   "name": "python3"
  },
  "language_info": {
   "codemirror_mode": {
    "name": "ipython",
    "version": 3
   },
   "file_extension": ".py",
   "mimetype": "text/x-python",
   "name": "python",
   "nbconvert_exporter": "python",
   "pygments_lexer": "ipython3",
   "version": "3.12.7"
  }
 },
 "nbformat": 4,
 "nbformat_minor": 4
}
