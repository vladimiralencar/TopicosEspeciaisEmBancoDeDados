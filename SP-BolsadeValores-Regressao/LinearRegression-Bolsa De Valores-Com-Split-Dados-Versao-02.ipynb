version https://git-lfs.github.com/spec/v1
oid sha256:b2dc225914cf843b4e52501976538e100ba33bdd9f29248106ec038d8d373ef8
size 103460
