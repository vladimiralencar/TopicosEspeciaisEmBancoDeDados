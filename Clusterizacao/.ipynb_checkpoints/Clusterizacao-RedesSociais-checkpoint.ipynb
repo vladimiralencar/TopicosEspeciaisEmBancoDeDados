{
 "cells": [
  {
   "cell_type": "markdown",
   "metadata": {},
   "source": [
    "# Clusterização - Classificação Não Supervisionada"
   ]
  },
  {
   "cell_type": "code",
   "execution_count": null,
   "metadata": {},
   "outputs": [],
   "source": [
    "import pandas as pd, numpy as np\n",
    "import sklearn.cluster, sklearn.preprocessing\n",
    "import matplotlib, matplotlib.pyplot as plt\n",
    "import warnings\n",
    "warnings.filterwarnings('ignore')\n",
    "pd.options.display.float_format = '{:,.0f}'.format"
   ]
  },
  {
   "cell_type": "code",
   "execution_count": null,
   "metadata": {},
   "outputs": [],
   "source": [
    "# Lendo o dataset mosn - Most Online Social Network\n",
    "df = pd.read_csv('mosn.csv', thousands=',',\n",
    "                   names=('Name', 'Description', 'Date', 'Registered Users',\n",
    "                          'Registration', 'Alexa Rank'))\n",
    "columns = ['Registered Users', 'Alexa Rank']\n",
    "df.head()"
   ]
  },
  {
   "cell_type": "code",
   "execution_count": null,
   "metadata": {},
   "outputs": [],
   "source": [
    "len(df)"
   ]
  },
  {
   "cell_type": "code",
   "execution_count": null,
   "metadata": {},
   "outputs": [],
   "source": [
    "df.tail()"
   ]
  },
  {
   "cell_type": "markdown",
   "metadata": {},
   "source": [
    "# Análise Descritiva"
   ]
  },
  {
   "cell_type": "code",
   "execution_count": null,
   "metadata": {},
   "outputs": [],
   "source": [
    "import seaborn as sns\n",
    "import numpy as np\n",
    "df2 = df.copy()\n",
    "df2 = df2.dropna(subset=['Registered Users'])\n",
    "sns.distplot(df2['Registered Users'])\n",
    "print(df2['Registered Users'].describe())"
   ]
  },
  {
   "cell_type": "code",
   "execution_count": null,
   "metadata": {},
   "outputs": [],
   "source": [
    "sns.distplot(np.log(df2['Registered Users']))"
   ]
  },
  {
   "cell_type": "code",
   "execution_count": null,
   "metadata": {},
   "outputs": [],
   "source": [
    "df2 = df2.dropna(subset=['Alexa Rank'])\n",
    "sns.distplot(df2['Alexa Rank'])\n",
    "print(df2['Alexa Rank'].describe())"
   ]
  },
  {
   "cell_type": "markdown",
   "metadata": {},
   "source": [
    "# Algumas redes socias..."
   ]
  },
  {
   "cell_type": "code",
   "execution_count": null,
   "metadata": {},
   "outputs": [],
   "source": [
    "# procurar Redes Sociais Específicas\n",
    "\n",
    "df[df['Registered Users'] == df['Registered Users'].max() ]"
   ]
  },
  {
   "cell_type": "code",
   "execution_count": null,
   "metadata": {},
   "outputs": [],
   "source": [
    "df[df.Name == \"Facebook\"]"
   ]
  },
  {
   "cell_type": "code",
   "execution_count": null,
   "metadata": {},
   "outputs": [],
   "source": [
    "# procurar Redes Sociais Específicas\n",
    "df[df['Name'].isin([\"Twitter\", \"Facebook\", \"Instagram\"])]"
   ]
  },
  {
   "cell_type": "code",
   "execution_count": null,
   "metadata": {},
   "outputs": [],
   "source": [
    "len(df)"
   ]
  },
  {
   "cell_type": "markdown",
   "metadata": {},
   "source": [
    "# Pré-processamento"
   ]
  },
  {
   "cell_type": "code",
   "execution_count": null,
   "metadata": {
    "scrolled": true
   },
   "outputs": [],
   "source": [
    "# Elimina linhas com dados \"missing\" (faltosos-Nulos) e zeros\n",
    "df2 = df[np.log(df[columns]).notnull().all(axis=1)].copy()\n",
    "df2.head()"
   ]
  },
  {
   "cell_type": "code",
   "execution_count": null,
   "metadata": {},
   "outputs": [],
   "source": [
    "len(df2)"
   ]
  },
  {
   "cell_type": "markdown",
   "metadata": {},
   "source": [
    "# Clusterização"
   ]
  },
  {
   "cell_type": "code",
   "execution_count": null,
   "metadata": {},
   "outputs": [],
   "source": [
    "columns"
   ]
  },
  {
   "cell_type": "code",
   "execution_count": null,
   "metadata": {},
   "outputs": [],
   "source": [
    "df2.loc[:, columns].head()"
   ]
  },
  {
   "cell_type": "code",
   "execution_count": null,
   "metadata": {},
   "outputs": [],
   "source": [
    "# aplicar o algoritmo de clusterização\n",
    "from sklearn.cluster import KMeans\n",
    "kmeans = KMeans()\n",
    "kmeans.fit(np.log(df2[columns]))\n",
    "df2[\"Clusters\"] = kmeans.labels_\n",
    "kmeans"
   ]
  },
  {
   "cell_type": "code",
   "execution_count": null,
   "metadata": {},
   "outputs": [],
   "source": [
    "df2.head()"
   ]
  },
  {
   "cell_type": "code",
   "execution_count": null,
   "metadata": {},
   "outputs": [],
   "source": [
    "# acessando a tupla que contém o Facebook\n",
    "fb = df2.set_index('Name').loc['Facebook']['Clusters']\n",
    "df2.iloc[fb,:]"
   ]
  },
  {
   "cell_type": "code",
   "execution_count": null,
   "metadata": {},
   "outputs": [],
   "source": [
    "df2[df2.Name == \"Facebook\"]"
   ]
  },
  {
   "cell_type": "code",
   "execution_count": null,
   "metadata": {},
   "outputs": [],
   "source": [
    "df2.head()"
   ]
  },
  {
   "cell_type": "code",
   "execution_count": null,
   "metadata": {},
   "outputs": [],
   "source": [
    "df2.Clusters.value_counts()"
   ]
  },
  {
   "cell_type": "code",
   "execution_count": null,
   "metadata": {},
   "outputs": [],
   "source": [
    "import numpy as np\n",
    "import matplotlib.pyplot as plt\n",
    "\n",
    "from mpl_toolkits.mplot3d import Axes3D\n",
    "colors=['#12efff','#eee111','#eee00f','#e00fff','#123456','#abc222','#000000','#123fff','#1eff1f','#2edf4f','#2eaf9f',\n",
    "        '#22222f',\n",
    "        '#eeeff1','#eee112','#00ef00','#aa0000','#0000aa','#000999','#32efff','#23ef68','#2e3f56','#7eef1f','#eeef11']\n",
    "\n",
    "C=1\n",
    "\n",
    "x = df2['Registered Users'] \n",
    "y = df2['Alexa Rank']\n",
    "Cluster = df2[\"Clusters\"]    # Labels of cluster 0 to 3\n",
    "\n",
    "dim_plot = (14,9)\n",
    "fig = plt.figure(figsize=dim_plot)\n",
    "ax = fig.add_subplot(111)\n",
    "scatter = ax.scatter(x,y,c=Cluster,s=100)\n",
    "\n",
    "ax.set_xlabel('Número de Usuários Registrados')\n",
    "ax.set_ylabel('Alexa Rank')\n",
    "plt.colorbar(scatter)\n",
    "plt.title(\"Sites de Redes Sociais\")\n",
    "plt.xscale(\"log\")\n",
    "plt.yscale(\"log\")\n",
    "ax.set_aspect('auto')\n",
    "#plt.figure(figsize=(18,12))\n",
    "#plt.subplots(figsize=(12, 10))\n",
    "\n",
    "#fig.show()\n",
    "plt.show()"
   ]
  },
  {
   "cell_type": "code",
   "execution_count": null,
   "metadata": {},
   "outputs": [],
   "source": [
    "# Select a good-locking style\n",
    "matplotlib.style.use(\"ggplot\")\n",
    "\n",
    "dim_plot = (18,9.5)\n",
    "fig = plt.figure(figsize=dim_plot)\n",
    "ax = fig.add_subplot(111)\n",
    "\n",
    "x = df2['Registered Users'] \n",
    "y = df2['Alexa Rank']\n",
    "Cluster = df2[\"Clusters\"]\n",
    "# Display the results\n",
    "scatter = ax.scatter(x,y,c=Cluster,  cmap=plt.cm.Accent,s=100)\n",
    "\n",
    "#scatter = df2.plot.scatter(columns[0], columns[1], c=\"Clusters\", \n",
    "#                       cmap=plt.cm.Accent, s=100)\n",
    "\n",
    "plt.colorbar(scatter)\n",
    "plt.title(\"Massive online social networking sites\")\n",
    "plt.xscale(\"log\")\n",
    "plt.yscale(\"log\")\n",
    "ax.set_aspect('auto')\n",
    "\n",
    "\n",
    "# Annotate the most prominent sites\n",
    "def add_abbr(site):\n",
    "    if site['Clusters'] == fb:\n",
    "        _ = ax.annotate(site[\"Name\"], site[columns], xytext=(1, 5), \n",
    "                        textcoords=\"offset points\", size=8,\n",
    "                        color=\"darkslategrey\")\n",
    "df2.apply(add_abbr, axis=1)\n",
    "#ax.set_aspect('auto')\n",
    "#ax.set_aspect(.5)\n",
    "plt.show()"
   ]
  },
  {
   "cell_type": "code",
   "execution_count": null,
   "metadata": {},
   "outputs": [],
   "source": [
    "df2.head()"
   ]
  },
  {
   "cell_type": "code",
   "execution_count": null,
   "metadata": {},
   "outputs": [],
   "source": [
    "# Cluster do Facebook\n",
    "df2[df2.Name == \"Facebook\"]"
   ]
  },
  {
   "cell_type": "code",
   "execution_count": null,
   "metadata": {},
   "outputs": [],
   "source": [
    "# Cluster do Twitter\n",
    "df2[df2.Name == \"Twitter\"]"
   ]
  },
  {
   "cell_type": "code",
   "execution_count": null,
   "metadata": {},
   "outputs": [],
   "source": [
    "# Cluster do Academia.edu \n",
    "df2[df2.Name == \"Academia.edu\"]"
   ]
  },
  {
   "cell_type": "code",
   "execution_count": null,
   "metadata": {},
   "outputs": [],
   "source": [
    "df2[df2.Name == \"Instagram\"]"
   ]
  },
  {
   "cell_type": "markdown",
   "metadata": {},
   "source": [
    "# Predição de novos dados"
   ]
  },
  {
   "cell_type": "code",
   "execution_count": null,
   "metadata": {},
   "outputs": [],
   "source": [
    "df2.head()"
   ]
  },
  {
   "cell_type": "code",
   "execution_count": null,
   "metadata": {},
   "outputs": [],
   "source": [
    "df2.tail()"
   ]
  },
  {
   "cell_type": "code",
   "execution_count": null,
   "metadata": {},
   "outputs": [],
   "source": [
    "import numpy as np\n",
    "\n",
    "columns = ['Registered Users', 'Alexa Rank']\n",
    "dados_x = [[1800000, 842], [5000000, 1200], [60000, 35000] ]\n",
    "filmes = np.log([[1800000, 842], [5000000, 1200], [60000, 35000]])\n",
    "kmeans.predict(filmes)"
   ]
  },
  {
   "cell_type": "code",
   "execution_count": null,
   "metadata": {},
   "outputs": [],
   "source": [
    "# Select a good-locking style\n",
    "matplotlib.style.use(\"ggplot\")\n",
    "\n",
    "dim_plot = (18,9.5)\n",
    "fig = plt.figure(figsize=dim_plot)\n",
    "ax = fig.add_subplot(111)\n",
    "\n",
    "x = df2['Registered Users'] \n",
    "y = df2['Alexa Rank']\n",
    "Cluster = df2[\"Clusters\"]\n",
    "# Display the results\n",
    "scatter = ax.scatter(x,y,c=Cluster,  cmap=plt.cm.Accent,s=100)\n",
    "\n",
    "#scatter = df2.plot.scatter(columns[0], columns[1], c=\"Clusters\", \n",
    "#                       cmap=plt.cm.Accent, s=100)\n",
    "\n",
    "plt.colorbar(scatter)\n",
    "plt.title(\"Massive online social networking sites\")\n",
    "plt.xscale(\"log\")\n",
    "plt.yscale(\"log\")\n",
    "ax.set_aspect('auto')\n",
    "\n",
    "\n",
    "# Annotate the most prominent sites\n",
    "def add_abbr(site):\n",
    "    if site['Clusters'] == fb:\n",
    "        _ = ax.annotate(site[\"Name\"], site[columns], xytext=(1, 5), \n",
    "                        textcoords=\"offset points\", size=8,\n",
    "                        color=\"darkslategrey\")\n",
    "df2.apply(add_abbr, axis=1)\n",
    "#ax.set_aspect('auto')\n",
    "#ax.set_aspect(.5)\n",
    "\n",
    "# os novos dados\n",
    "dados_x = [[1800000, 842], [5000000, 1200], [60000, 35000] ]\n",
    "x_new = [x[0] for x in dados_x]\n",
    "y_new = [y[1] for y in dados_x]\n",
    "plt.scatter(x_new,y_new, c='red', marker='x', s=100)\n",
    "\n",
    "plt.show()"
   ]
  },
  {
   "cell_type": "markdown",
   "metadata": {
    "collapsed": true
   },
   "source": [
    "#  Determinando o melhor número de Clusters (Elbow Method)"
   ]
  },
  {
   "cell_type": "code",
   "execution_count": null,
   "metadata": {},
   "outputs": [],
   "source": [
    "import numpy as np\n",
    "np.set_printoptions(suppress=True, precision=4)\n",
    "\n",
    "Xy = df2.loc[:, ['Registered Users', 'Alexa Rank']]\n",
    "\n",
    "Ks = range(1, 10)\n",
    "km = [KMeans(n_clusters=i) for i in Ks]\n",
    "score = [km[i].fit(Xy).score(Xy) for i in range(len(km))]\n",
    "formatted_score = map(lambda x : '{:,.0f}'.format(x), score)\n",
    "print(list(formatted_score))"
   ]
  },
  {
   "cell_type": "code",
   "execution_count": null,
   "metadata": {},
   "outputs": [],
   "source": [
    "plt.scatter( list(range(len(score))), score, c=\"b\")\n",
    "plt.title(\"Curva de Elbow\")\n",
    "plt.xlabel(\"Clusters\")\n",
    "plt.ylabel(\"Distorção\")\n",
    "plt.show()"
   ]
  },
  {
   "cell_type": "code",
   "execution_count": null,
   "metadata": {},
   "outputs": [],
   "source": []
  }
 ],
 "metadata": {
  "kernelspec": {
   "display_name": "Python 3",
   "language": "python",
   "name": "python3"
  },
  "language_info": {
   "codemirror_mode": {
    "name": "ipython",
    "version": 3
   },
   "file_extension": ".py",
   "mimetype": "text/x-python",
   "name": "python",
   "nbconvert_exporter": "python",
   "pygments_lexer": "ipython3",
   "version": "3.8.5"
  }
 },
 "nbformat": 4,
 "nbformat_minor": 2
}
