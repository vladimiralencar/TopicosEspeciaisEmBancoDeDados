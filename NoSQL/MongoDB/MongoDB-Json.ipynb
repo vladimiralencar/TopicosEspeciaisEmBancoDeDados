{
 "cells": [
  {
   "cell_type": "markdown",
   "metadata": {},
   "source": [
    "# MongoDB-Json"
   ]
  },
  {
   "cell_type": "code",
   "execution_count": 35,
   "metadata": {},
   "outputs": [
    {
     "name": "stdout",
     "output_type": "stream",
     "text": [
      "\u001b[31mclientes.json\u001b[m\u001b[m  clientes2.json\r\n"
     ]
    }
   ],
   "source": [
    "!ls *.json"
   ]
  },
  {
   "cell_type": "code",
   "execution_count": 16,
   "metadata": {},
   "outputs": [
    {
     "name": "stdout",
     "output_type": "stream",
     "text": [
      "{ \"nome\" : \"Anibal Monteiro Machado\" , \"uf\" : \"MG\", \"ativo\" : true }     \r\n",
      "{ \"nome\" : \"Mario Raul de Morais Andrade\", \"uf\" : \"MG\"  , \"ativo\" : false, \"dependentes\" : [ { \"nome\" : \"Tais\", \"grau\" : \"e\"} ] } \r\n",
      "{ \"nome\" : \"Bernardo Elis Fleury de Campos Curado\", \"uf\" : \"SP\" , \"ativo\" : false  }\r\n",
      "{ \"nome\" : \"Carlos Drummond de Andrade\", \"uf\" : \"SP\"  , \"ativo\" : true , \"dtNasc\": \"1902-10-31T00:00:00Z\", \"biografia\": \"http://www.releituras.com/drummond_bio.asp\" }\r\n",
      "{ \"nome\" : \"Osman da Costa Lins\", \"uf\" : \"ES\" , \"grauFidelidade\" : 60.8 , \"ativo\" : true }\r\n",
      "{ \"nome\" : \"Murilo Eugenio Rubiao\", \"uf\" : \"MG\" , \"ativo\" : false  }\r\n",
      "{ \"nome\" : \"Samuel Rawet\" , \"uf\" : \"MG\" , \"ativo\" : false }\r\n",
      "{ \"nome\" : \"Rubem Braga\" , \"uf\" : \"RJ\", \"dependentes\" : [ { \"nome\" : \"Zelia\", \"grau\" : \"e\"}, { \"nome\" : \"Gilberto\", \"grau\" : \"f\"}, { \"nome\" : \"Hugo\", \"grau\" : \"f\"}, { \"nome\" : \"Ines\", \"grau\" : \"f\"}, { \"nome\" : \"Jose Augusto\", \"grau\" : \"f\"}, { \"nome\" : \"Luisa\", \"grau\" : \"f\"}, { \"nome\" : \"Madalena\", \"grau\" : \"f\"} ] } \r\n",
      "{ \"nome\" : \"Rachel de Queiroz\", \"uf\" : \"MG\"  }\r\n",
      "{ \"nome\" : \"Erico Lopes Verissimo\" , \"uf\" : \"MG\" , \"dtNasc\":\"1905-12-17T00:00:00Z\", \"biografia\": \"http://www.releituras.com/everissimo_bio.asp\" }\r\n"
     ]
    }
   ],
   "source": [
    "!head clientes2.json"
   ]
  },
  {
   "cell_type": "code",
   "execution_count": 33,
   "metadata": {},
   "outputs": [],
   "source": [
    "import json\n",
    "from pymongo import MongoClient\n",
    "\n",
    "json_file = 'clientes2.json'\n",
    "database = 'loja3'\n",
    "collection = 'clientes'\n",
    "\n",
    "client = MongoClient('localhost', 27017)\n",
    "db = client[database] \n",
    "collection_currency = db[collection]\n",
    "\n",
    "\n",
    "file_data = []\n",
    "for line in open(json_file, 'r'):\n",
    "    file_data.append(json.loads(line))\n",
    "\n",
    "# insere no MongoDB\n",
    "collection_currency.insert_many(file_data) \n",
    "\n",
    "client.close()"
   ]
  },
  {
   "cell_type": "code",
   "execution_count": 34,
   "metadata": {},
   "outputs": [
    {
     "name": "stdout",
     "output_type": "stream",
     "text": [
      "{'_id': ObjectId('5df1e34455def7de1b30055a'), 'nome': 'Anibal Monteiro Machado', 'uf': 'MG', 'ativo': True}\n",
      "{'_id': ObjectId('5df1e34455def7de1b30055b'), 'nome': 'Mario Raul de Morais Andrade', 'uf': 'MG', 'ativo': False, 'dependentes': [{'nome': 'Tais', 'grau': 'e'}]}\n",
      "{'_id': ObjectId('5df1e34455def7de1b30055c'), 'nome': 'Bernardo Elis Fleury de Campos Curado', 'uf': 'SP', 'ativo': False}\n",
      "{'_id': ObjectId('5df1e34455def7de1b30055d'), 'nome': 'Carlos Drummond de Andrade', 'uf': 'SP', 'ativo': True, 'dtNasc': '1902-10-31T00:00:00Z', 'biografia': 'http://www.releituras.com/drummond_bio.asp'}\n",
      "{'_id': ObjectId('5df1e34455def7de1b30055e'), 'nome': 'Osman da Costa Lins', 'uf': 'ES', 'grauFidelidade': 60.8, 'ativo': True}\n",
      "{'_id': ObjectId('5df1e34455def7de1b30055f'), 'nome': 'Murilo Eugenio Rubiao', 'uf': 'MG', 'ativo': False}\n",
      "{'_id': ObjectId('5df1e34455def7de1b300560'), 'nome': 'Samuel Rawet', 'uf': 'MG', 'ativo': False}\n",
      "{'_id': ObjectId('5df1e34455def7de1b300561'), 'nome': 'Rubem Braga', 'uf': 'RJ', 'dependentes': [{'nome': 'Zelia', 'grau': 'e'}, {'nome': 'Gilberto', 'grau': 'f'}, {'nome': 'Hugo', 'grau': 'f'}, {'nome': 'Ines', 'grau': 'f'}, {'nome': 'Jose Augusto', 'grau': 'f'}, {'nome': 'Luisa', 'grau': 'f'}, {'nome': 'Madalena', 'grau': 'f'}]}\n",
      "{'_id': ObjectId('5df1e34455def7de1b300562'), 'nome': 'Rachel de Queiroz', 'uf': 'MG'}\n",
      "{'_id': ObjectId('5df1e34455def7de1b300563'), 'nome': 'Erico Lopes Verissimo', 'uf': 'MG', 'dtNasc': '1905-12-17T00:00:00Z', 'biografia': 'http://www.releituras.com/everissimo_bio.asp'}\n",
      "{'_id': ObjectId('5df1e34455def7de1b300564'), 'nome': 'Jose J. Veiga', 'uf': 'SP'}\n",
      "{'_id': ObjectId('5df1e34455def7de1b300565'), 'nome': 'Jose Rubem Fonseca', 'uf': 'SP'}\n",
      "{'_id': ObjectId('5df1e34455def7de1b300566'), 'nome': 'Dinah Silveira de Queiroz', 'uf': 'MG', 'dependentes': [{'nome': 'Zelio', 'grau': 'e'}]}\n",
      "{'_id': ObjectId('5df1e34455def7de1b300567'), 'nome': 'Clarice Lispector', 'uf': 'MG'}\n",
      "{'_id': ObjectId('5df1e34455def7de1b300568'), 'nome': 'Otto de Oliveira Lara Resende', 'uf': 'MG'}\n",
      "{'_id': ObjectId('5df1e34455def7de1b300569'), 'nome': 'Origenes Lessa', 'uf': 'RJ'}\n",
      "{'_id': ObjectId('5df1e34455def7de1b30056a'), 'nome': 'Lygia Fagundes Telles', 'dtNasc': '1923-04-19T00:00:00Z', 'biografia': 'http://www.releituras.com/lftelles_bio.asp'}\n",
      "{'_id': ObjectId('5df1e34455def7de1b30056b'), 'nome': 'Fernando Tavares Sabino'}\n",
      "{'_id': ObjectId('5df1e34455def7de1b30056c'), 'nome': 'Dalton Jérson Trevisan'}\n",
      "{'_id': ObjectId('5df1e34455def7de1b30056d'), 'nome': 'Carlos Heitor Cony'}\n",
      "{'_id': ObjectId('5df1e34455def7de1b30056e'), 'nome': 'Roberto Francis Drummond'}\n",
      "{'_id': ObjectId('5df1e34455def7de1b30056f'), 'nome': 'Nélida Cuiñas Piñon', 'grauFidelidade': 32.7}\n",
      "{'_id': ObjectId('5df1e34455def7de1b300570'), 'nome': 'Joao Ubaldo Osorio Pimentel Ribeiro', 'grauFidelidade': 98, 'dtNasc': '1941-01-23T00:00:00Z'}\n",
      "{'_id': ObjectId('5df1e34455def7de1b300571'), 'nome': \"Sergio Sant''Anna\", 'grauFidelidade': 2}\n",
      "{'_id': ObjectId('5df1e34455def7de1b300572'), 'nome': 'Cecília Benevides de Carvalho Meireles', 'uf': 'RJ', 'dtNasc': '1901-11-07T00:00:00Z'}\n"
     ]
    }
   ],
   "source": [
    "# verificar se foi gravado\n",
    "import pymongo\n",
    "\n",
    "myclient = pymongo.MongoClient(\"mongodb://localhost:27017/\")\n",
    "database = 'loja3'\n",
    "collection = 'clientes'\n",
    "mydb = myclient[database]\n",
    "mycol = mydb[collection]\n",
    "\n",
    "for x in mycol.find():\n",
    "  print(x)"
   ]
  },
  {
   "cell_type": "code",
   "execution_count": null,
   "metadata": {},
   "outputs": [],
   "source": []
  }
 ],
 "metadata": {
  "kernelspec": {
   "display_name": "tf366",
   "language": "python",
   "name": "tf366"
  },
  "language_info": {
   "codemirror_mode": {
    "name": "ipython",
    "version": 3
   },
   "file_extension": ".py",
   "mimetype": "text/x-python",
   "name": "python",
   "nbconvert_exporter": "python",
   "pygments_lexer": "ipython3",
   "version": "3.6.6"
  }
 },
 "nbformat": 4,
 "nbformat_minor": 2
}
