{
 "cells": [
  {
   "cell_type": "markdown",
   "metadata": {},
   "source": [
    "# Análise de Mídias Sociais - Usando Scrapy (Facebook - 2017) "
   ]
  },
  {
   "cell_type": "markdown",
   "metadata": {},
   "source": [
    "## Scrapy"
   ]
  },
  {
   "cell_type": "code",
   "execution_count": 1,
   "metadata": {},
   "outputs": [
    {
     "name": "stdout",
     "output_type": "stream",
     "text": [
      "105000000.0\n"
     ]
    }
   ],
   "source": [
    "from bs4 import BeautifulSoup\n",
    "import requests\n",
    "def scrapy_facebook_likes(name_page):\n",
    "    \n",
    "    dict_dimensao_dados = {\n",
    "        'mi': 1000000, # milhao\n",
    "        'mil': 1000\n",
    "    }\n",
    "    \n",
    "    url = 'https://www.facebook.com/pg/' + name_page + '/community/?ref=page_internal'\n",
    "    \n",
    "    response = requests.get(url)\n",
    "    html = response.content\n",
    "    soup = BeautifulSoup(html, \"lxml\") # \"html\") \"lxml\"\n",
    "    total_curtidas = soup.find('div', attrs={'class': '_3xom'})\n",
    "    \n",
    "    total_curtidas_str = ''.join(total_curtidas.contents)\n",
    "    total_curtidas_str  = total_curtidas_str.replace('\\xa0', ' ')\n",
    "    total_curtidas_str  = total_curtidas_str.replace(',','.')\n",
    "    likes, dimensao = total_curtidas_str.split() # mi - milhoes, mil = 1000\n",
    "    likes = float(likes)\n",
    "    dimensao = dict_dimensao_dados[dimensao]\n",
    "     \n",
    "    return(likes, dimensao)\n",
    "\n",
    "name_page = 'cocacolabr'\n",
    "likes, dimensao = scrapy_facebook_likes(name_page)\n",
    "print(likes*dimensao)"
   ]
  },
  {
   "cell_type": "code",
   "execution_count": 2,
   "metadata": {},
   "outputs": [
    {
     "ename": "AttributeError",
     "evalue": "'NoneType' object has no attribute 'contents'",
     "output_type": "error",
     "traceback": [
      "\u001b[0;31m---------------------------------------------------------------------------\u001b[0m",
      "\u001b[0;31mAttributeError\u001b[0m                            Traceback (most recent call last)",
      "\u001b[0;32m<ipython-input-2-2a2e761b5d20>\u001b[0m in \u001b[0;36m<module>\u001b[0;34m\u001b[0m\n\u001b[1;32m     16\u001b[0m \u001b[0;34m\u001b[0m\u001b[0m\n\u001b[1;32m     17\u001b[0m \u001b[0mdivas\u001b[0m \u001b[0;34m=\u001b[0m \u001b[0;34m[\u001b[0m\u001b[0;34m'TaylorSwift'\u001b[0m\u001b[0;34m,\u001b[0m \u001b[0;34m'katyperry'\u001b[0m\u001b[0;34m,\u001b[0m \u001b[0;34m'beyonce'\u001b[0m\u001b[0;34m,\u001b[0m \u001b[0;34m'rihanna'\u001b[0m\u001b[0;34m,\u001b[0m \u001b[0;34m'ladygaga'\u001b[0m\u001b[0;34m]\u001b[0m\u001b[0;34m\u001b[0m\u001b[0;34m\u001b[0m\u001b[0m\n\u001b[0;32m---> 18\u001b[0;31m \u001b[0mdf\u001b[0m \u001b[0;34m=\u001b[0m \u001b[0manalyze_facebook_likes\u001b[0m\u001b[0;34m(\u001b[0m\u001b[0mdivas\u001b[0m\u001b[0;34m)\u001b[0m\u001b[0;34m\u001b[0m\u001b[0;34m\u001b[0m\u001b[0m\n\u001b[0m\u001b[1;32m     19\u001b[0m \u001b[0mdf\u001b[0m\u001b[0;34m.\u001b[0m\u001b[0msort_values\u001b[0m\u001b[0;34m(\u001b[0m\u001b[0;34m'likes'\u001b[0m\u001b[0;34m)\u001b[0m\u001b[0;34m\u001b[0m\u001b[0;34m\u001b[0m\u001b[0m\n",
      "\u001b[0;32m<ipython-input-2-2a2e761b5d20>\u001b[0m in \u001b[0;36manalyze_facebook_likes\u001b[0;34m(names)\u001b[0m\n\u001b[1;32m      5\u001b[0m     \u001b[0mi\u001b[0m \u001b[0;34m=\u001b[0m \u001b[0;36m0\u001b[0m\u001b[0;34m\u001b[0m\u001b[0;34m\u001b[0m\u001b[0m\n\u001b[1;32m      6\u001b[0m     \u001b[0;32mfor\u001b[0m \u001b[0mname\u001b[0m \u001b[0;32min\u001b[0m \u001b[0mnames\u001b[0m\u001b[0;34m:\u001b[0m\u001b[0;34m\u001b[0m\u001b[0;34m\u001b[0m\u001b[0m\n\u001b[0;32m----> 7\u001b[0;31m         \u001b[0mlikes\u001b[0m\u001b[0;34m,\u001b[0m \u001b[0mdimensao\u001b[0m \u001b[0;34m=\u001b[0m \u001b[0mscrapy_facebook_likes\u001b[0m\u001b[0;34m(\u001b[0m\u001b[0mname\u001b[0m\u001b[0;34m)\u001b[0m\u001b[0;34m\u001b[0m\u001b[0;34m\u001b[0m\u001b[0m\n\u001b[0m\u001b[1;32m      8\u001b[0m         \u001b[0mlikes\u001b[0m \u001b[0;34m=\u001b[0m \u001b[0mlikes\u001b[0m \u001b[0;34m*\u001b[0m \u001b[0mdimensao\u001b[0m\u001b[0;34m\u001b[0m\u001b[0;34m\u001b[0m\u001b[0m\n\u001b[1;32m      9\u001b[0m         df.loc[i] = {\n",
      "\u001b[0;32m<ipython-input-1-ed1e26d99b72>\u001b[0m in \u001b[0;36mscrapy_facebook_likes\u001b[0;34m(name_page)\u001b[0m\n\u001b[1;32m     15\u001b[0m     \u001b[0mtotal_curtidas\u001b[0m \u001b[0;34m=\u001b[0m \u001b[0msoup\u001b[0m\u001b[0;34m.\u001b[0m\u001b[0mfind\u001b[0m\u001b[0;34m(\u001b[0m\u001b[0;34m'div'\u001b[0m\u001b[0;34m,\u001b[0m \u001b[0mattrs\u001b[0m\u001b[0;34m=\u001b[0m\u001b[0;34m{\u001b[0m\u001b[0;34m'class'\u001b[0m\u001b[0;34m:\u001b[0m \u001b[0;34m'_3xom'\u001b[0m\u001b[0;34m}\u001b[0m\u001b[0;34m)\u001b[0m\u001b[0;34m\u001b[0m\u001b[0;34m\u001b[0m\u001b[0m\n\u001b[1;32m     16\u001b[0m \u001b[0;34m\u001b[0m\u001b[0m\n\u001b[0;32m---> 17\u001b[0;31m     \u001b[0mtotal_curtidas_str\u001b[0m \u001b[0;34m=\u001b[0m \u001b[0;34m''\u001b[0m\u001b[0;34m.\u001b[0m\u001b[0mjoin\u001b[0m\u001b[0;34m(\u001b[0m\u001b[0mtotal_curtidas\u001b[0m\u001b[0;34m.\u001b[0m\u001b[0mcontents\u001b[0m\u001b[0;34m)\u001b[0m\u001b[0;34m\u001b[0m\u001b[0;34m\u001b[0m\u001b[0m\n\u001b[0m\u001b[1;32m     18\u001b[0m     \u001b[0mtotal_curtidas_str\u001b[0m  \u001b[0;34m=\u001b[0m \u001b[0mtotal_curtidas_str\u001b[0m\u001b[0;34m.\u001b[0m\u001b[0mreplace\u001b[0m\u001b[0;34m(\u001b[0m\u001b[0;34m'\\xa0'\u001b[0m\u001b[0;34m,\u001b[0m \u001b[0;34m' '\u001b[0m\u001b[0;34m)\u001b[0m\u001b[0;34m\u001b[0m\u001b[0;34m\u001b[0m\u001b[0m\n\u001b[1;32m     19\u001b[0m     \u001b[0mtotal_curtidas_str\u001b[0m  \u001b[0;34m=\u001b[0m \u001b[0mtotal_curtidas_str\u001b[0m\u001b[0;34m.\u001b[0m\u001b[0mreplace\u001b[0m\u001b[0;34m(\u001b[0m\u001b[0;34m','\u001b[0m\u001b[0;34m,\u001b[0m\u001b[0;34m'.'\u001b[0m\u001b[0;34m)\u001b[0m\u001b[0;34m\u001b[0m\u001b[0;34m\u001b[0m\u001b[0m\n",
      "\u001b[0;31mAttributeError\u001b[0m: 'NoneType' object has no attribute 'contents'"
     ]
    }
   ],
   "source": [
    "import pandas as pd\n",
    "def analyze_facebook_likes(names):\n",
    "    \n",
    "    df = pd.DataFrame(columns=['name','likes'])\n",
    "    i = 0\n",
    "    for name in names:   \n",
    "        likes, dimensao = scrapy_facebook_likes(name)\n",
    "        likes = likes * dimensao  \n",
    "        df.loc[i] = {\n",
    "         \"name\": name,\n",
    "         \"likes\": likes,\n",
    "          } \n",
    "        i = i + 1\n",
    "        #print(dfdivas)        \n",
    "    return df\n",
    "\n",
    "divas = ['TaylorSwift', 'katyperry', 'beyonce', 'rihanna', 'ladygaga']\n",
    "df = analyze_facebook_likes(divas)\n",
    "df.sort_values('likes')"
   ]
  },
  {
   "cell_type": "code",
   "execution_count": null,
   "metadata": {},
   "outputs": [],
   "source": [
    "import matplotlib.pyplot as plt\n",
    "import seaborn as sns\n",
    "import datetime\n",
    "def plot_data(df):\n",
    "    title = \"Facebook - Likes em Milhões - \" +  datetime.datetime.now().strftime('%Y-%m-%d %H:%M:%S')\n",
    "    plt.figure(figsize=(10,6))\n",
    "    plt.title(title, fontsize=20)\n",
    "    ax = sns.barplot(y='name',x='likes', data = df, palette=\"RdBu_r\")\n",
    "    #ax.set_title(title)\n",
    "    #fig = plt.figure(1111)\n",
    "    #fig.suptitle('Facebook - Likes em Milhões - Setembro 2017', fontsize=20)\n",
    "    ax.set_xlabel('Likes (Milhões)', fontsize=16)\n",
    "    ax.set_ylabel('Nome', fontsize=16)\n",
    "    #ax.figure()\n",
    "    #print (\"Facebook - Likes em Milhões - \" +  datetime.datetime.now().strftime('%Y-%m-%d  %H:%M:%S'))\n",
    "    plt.show()"
   ]
  },
  {
   "cell_type": "markdown",
   "metadata": {},
   "source": [
    "### API facebook-sdk\n",
    "Na Api do facebook você pode accesar alguns dados (ela está cada vez mais restrita).<br />\n",
    "Você precisa criar um token de acesso, para ter direito a acessar a API do facebook. <br />\n",
    "Acesse https://developers.facebook.com/tools/explorer/ para criar o seu token de acesso.<br />\n",
    "Exemplo de token<br />\n",
    "token = \"EAACEdEose0cBAOL7ncuPpluMIvn1gdM6jT1KdgIKR7KQqnkD5Ikt1YZCOZBnFlej9ECVgwV4azdvO7omFJXjTakPZAa6oIvUX45mAMSYGMCMn9gi6Nol8w6bUkFNXtwu1RLCT2LkucQPsC1lc7vDxoXXvnZAb3IL1PsLSragmvkQcdrkcoLdQTKKyBCzWhoZD\""
   ]
  },
  {
   "cell_type": "markdown",
   "metadata": {},
   "source": [
    "## Facebook - Coca-Cola X Pepsi"
   ]
  },
  {
   "cell_type": "code",
   "execution_count": null,
   "metadata": {},
   "outputs": [],
   "source": [
    "produtos = ['cocacolabr', 'pepsi']\n",
    "\n",
    "df = analyze_facebook_likes(produtos)\n",
    "df.sort_values('likes')"
   ]
  },
  {
   "cell_type": "code",
   "execution_count": null,
   "metadata": {},
   "outputs": [],
   "source": [
    "plot_data(df)"
   ]
  },
  {
   "cell_type": "markdown",
   "metadata": {},
   "source": [
    "## Análise de Mídias Sociais (facebook) - Celebridades Divas Internacionais"
   ]
  },
  {
   "cell_type": "code",
   "execution_count": null,
   "metadata": {},
   "outputs": [],
   "source": [
    "import pandas as pd\n",
    "divas = ['TaylorSwift', 'katyperry', 'beyonce', 'rihanna', 'ladygaga']\n",
    "df = analyze_facebook_likes(divas)\n",
    "# sort by likes\n",
    "df2 = df.sort_values('likes')\n",
    "df2"
   ]
  },
  {
   "cell_type": "markdown",
   "metadata": {},
   "source": [
    "## Nomalizar os dados para mesma escala"
   ]
  },
  {
   "cell_type": "code",
   "execution_count": null,
   "metadata": {},
   "outputs": [],
   "source": [
    "# normalyze Data\n",
    "df3 = df2\n",
    "milion = 1000000\n",
    "desred_decimals = 2    \n",
    "df3['likes'] = df3.likes.apply(lambda x: round(x/milion,desred_decimals))\n",
    "print (\"likes em Milhões\")\n",
    "df3"
   ]
  },
  {
   "cell_type": "code",
   "execution_count": null,
   "metadata": {},
   "outputs": [],
   "source": [
    "plot_data(df3)"
   ]
  },
  {
   "cell_type": "markdown",
   "metadata": {},
   "source": [
    "## Análise de Mídias Sociais (facebook) - Celebridades Brasileiras"
   ]
  },
  {
   "cell_type": "code",
   "execution_count": null,
   "metadata": {},
   "outputs": [],
   "source": [
    "names_facebook = ['WesleySafadao', 'whinderssonnunesoficial', 'mariliamendoncaoficial', '5incominutos']\n",
    "df = analyze_facebook_likes(names_facebook)\n",
    "# sort by likes\n",
    "# sort by likespage\n",
    "df2 = df.sort_values('likes')\n",
    "df2"
   ]
  },
  {
   "cell_type": "markdown",
   "metadata": {},
   "source": [
    "### Normalizar os dados para a mesma escala"
   ]
  },
  {
   "cell_type": "code",
   "execution_count": null,
   "metadata": {},
   "outputs": [],
   "source": [
    "# normalyze Data\n",
    "df3 = df2\n",
    "milion = 1000000\n",
    "desred_decimals = 2    \n",
    "df3.likes = df3.likes.apply(lambda x: round(x/milion,desred_decimals))\n",
    "\n",
    "print (\"Likes em Milhões\")\n",
    "df3"
   ]
  },
  {
   "cell_type": "code",
   "execution_count": null,
   "metadata": {},
   "outputs": [],
   "source": [
    "plot_data(df3)"
   ]
  },
  {
   "cell_type": "markdown",
   "metadata": {
    "collapsed": true
   },
   "source": [
    "## Análise de Mídias Sociais (facebook) - Mais análises"
   ]
  },
  {
   "cell_type": "code",
   "execution_count": null,
   "metadata": {},
   "outputs": [],
   "source": [
    "names_facebook = [ 'olhardigital', 'revistainfo', 'canalnerdologia']\n",
    "#names_facebook = [ name.lower() for name in names_facebook]\n",
    "df = analyze_facebook_likes(names_facebook)\n",
    "# sort by likes\n",
    "# sort by likespage\n",
    "df2 = df.sort_values('likes')\n",
    "df2"
   ]
  },
  {
   "cell_type": "code",
   "execution_count": null,
   "metadata": {},
   "outputs": [],
   "source": [
    "# normalyze Data\n",
    "df3 = df2\n",
    "milion = 1000000\n",
    "desred_decimals = 2    \n",
    "df3.likes = df3.likes.apply(lambda x: round(x/milion,desred_decimals))\n",
    "\n",
    "print (\"Likes em Milhões\")\n",
    "df3"
   ]
  },
  {
   "cell_type": "code",
   "execution_count": null,
   "metadata": {},
   "outputs": [],
   "source": [
    "plot_data(df2)"
   ]
  }
 ],
 "metadata": {
  "kernelspec": {
   "display_name": "Python 3",
   "language": "python",
   "name": "python3"
  },
  "language_info": {
   "codemirror_mode": {
    "name": "ipython",
    "version": 3
   },
   "file_extension": ".py",
   "mimetype": "text/x-python",
   "name": "python",
   "nbconvert_exporter": "python",
   "pygments_lexer": "ipython3",
   "version": "3.8.3"
  }
 },
 "nbformat": 4,
 "nbformat_minor": 2
}
