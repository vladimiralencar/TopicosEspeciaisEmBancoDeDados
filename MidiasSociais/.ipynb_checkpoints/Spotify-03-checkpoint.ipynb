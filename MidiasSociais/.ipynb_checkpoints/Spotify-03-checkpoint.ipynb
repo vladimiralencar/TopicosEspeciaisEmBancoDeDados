{
 "cells": [
  {
   "cell_type": "markdown",
   "metadata": {},
   "source": [
    "# Análises de Mídias Sociais - Spotify"
   ]
  },
  {
   "cell_type": "code",
   "execution_count": null,
   "metadata": {},
   "outputs": [],
   "source": [
    "#!pip install spotipy"
   ]
  },
  {
   "cell_type": "markdown",
   "metadata": {},
   "source": [
    "Acesse: https://beta.developer.spotify.com/dashboard/applications\n",
    "para criar o Client_ID e o Client_Secret"
   ]
  },
  {
   "cell_type": "code",
   "execution_count": null,
   "metadata": {},
   "outputs": [],
   "source": [
    "import sys\n",
    "from spotipy.oauth2 import SpotifyClientCredentials\n",
    "import spotipy\n",
    "import pprint\n",
    "import pandas as pd\n",
    "\n",
    "def login_spotify():\n",
    "    client_id = \"da1effa23714436a93368fff6f869de2\"\n",
    "    client_secret = \"b81bb02ba7e3494bbd9d28489f5a7b7f\"\n",
    "\n",
    "    client_credentials_manager = SpotifyClientCredentials(client_id=client_id, client_secret=client_secret)\n",
    "    sp = spotipy.Spotify(client_credentials_manager=client_credentials_manager)\n",
    "    return sp"
   ]
  },
  {
   "cell_type": "code",
   "execution_count": null,
   "metadata": {},
   "outputs": [],
   "source": [
    "sp = login_spotify()\n",
    "sp"
   ]
  },
  {
   "cell_type": "markdown",
   "metadata": {},
   "source": [
    "## busca as músicas do artista"
   ]
  },
  {
   "cell_type": "code",
   "execution_count": null,
   "metadata": {},
   "outputs": [],
   "source": [
    "def search_musics_artist(sp,artist):\n",
    "\n",
    "    results = sp.search(artist, limit=30)\n",
    "    df = pd.DataFrame(columns=['artist','name', 'popularity', 'release_date'])\n",
    "    for i, t in enumerate(results['tracks']['items']):\n",
    "        df.loc[i] = [q, t['name'], t['popularity'], t['album']['release_date'] ]\n",
    "        #print(' ', i, t['name'] , t['popularity'], t['album']['release_date']) # t['release_date']\n",
    "    return df.sort_values('popularity', ascending=False)\n",
    "\n",
    "sp = login_spotify()\n",
    "q='beyonce'\n",
    "df = search_musics_artist(sp,q)\n",
    "df[:15]"
   ]
  },
  {
   "cell_type": "code",
   "execution_count": null,
   "metadata": {},
   "outputs": [],
   "source": [
    "#sp = login_spotify()\n",
    "q='Rihanna'\n",
    "df = search_musics_artist(sp,q)\n",
    "df[:15]"
   ]
  },
  {
   "cell_type": "code",
   "execution_count": null,
   "metadata": {},
   "outputs": [],
   "source": [
    "#sp = login_spotify()\n",
    "q='Mariah Carey'\n",
    "df = search_musics_artist(sp,q)\n",
    "df[:10]"
   ]
  },
  {
   "cell_type": "code",
   "execution_count": null,
   "metadata": {},
   "outputs": [],
   "source": [
    "#sp = login_spotify()\n",
    "q='Anitta'\n",
    "df = search_musics_artist(sp,q)\n",
    "df"
   ]
  },
  {
   "cell_type": "code",
   "execution_count": null,
   "metadata": {},
   "outputs": [],
   "source": [
    "len(df)"
   ]
  },
  {
   "cell_type": "code",
   "execution_count": null,
   "metadata": {},
   "outputs": [],
   "source": [
    "#sp = login_spotify()\n",
    "q='Paralamas'\n",
    "df = search_musics_artist(sp,q)\n",
    "df[:10]"
   ]
  },
  {
   "cell_type": "code",
   "execution_count": null,
   "metadata": {},
   "outputs": [],
   "source": [
    "#sp = login_spotify()\n",
    "q='Ivete Sangalo'\n",
    "df = search_musics_artist(sp,q)\n",
    "df[:5]"
   ]
  },
  {
   "cell_type": "code",
   "execution_count": null,
   "metadata": {},
   "outputs": [],
   "source": [
    "#sp = login_spotify()\n",
    "q='Marilia Mendonca'\n",
    "df = search_musics_artist(sp,q)\n",
    "df[:10]"
   ]
  },
  {
   "cell_type": "markdown",
   "metadata": {},
   "source": [
    "## Obter a musica mais popular de cada cantor/cantora"
   ]
  },
  {
   "cell_type": "code",
   "execution_count": null,
   "metadata": {},
   "outputs": [],
   "source": [
    "cantoras = ['Beyonce', 'Rihanna', 'Anitta', 'Marilia Mendonca', 'Ivete Sangalo', 'Claudia Leitte' ]\n",
    "df = pd.DataFrame(columns=['artist','name', 'popularity', 'release_date'])\n",
    "linha = 0\n",
    "for artist in cantoras:\n",
    "    popularidade = 0\n",
    "    results = sp.search(artist, limit=30)\n",
    "    for i, t in enumerate(results['tracks']['items']):\n",
    "        if t['popularity'] > popularidade:\n",
    "            musica_mais_popular = [artist, t['name'], t['popularity'], t['album']['release_date'] ]\n",
    "            popularidade = t['popularity']\n",
    "    df.loc[linha] = musica_mais_popular\n",
    "    linha += 1   \n",
    "df2 = df.sort_values('popularity', ascending=False)\n",
    "df2"
   ]
  },
  {
   "cell_type": "markdown",
   "metadata": {},
   "source": [
    "## plota num gráfico"
   ]
  },
  {
   "cell_type": "code",
   "execution_count": null,
   "metadata": {},
   "outputs": [],
   "source": [
    "import matplotlib.pyplot as plt\n",
    "import seaborn as sns\n",
    "%matplotlib inline\n",
    "\n",
    "fig = plt.figure(figsize=(10,8))\n",
    "fig.add_subplot(1,1,1)\n",
    "\n",
    "ax = sns.barplot(y='artist', x = 'popularity', data=df2, palette=\"Set3\" )\n",
    "\n",
    "ax.axes.set_title(\"Best Popular Songs\",fontsize=40)\n",
    "ax.set_xlabel(\"Popularity\",fontsize=26)\n",
    "ax.set_ylabel(\"Artist\",fontsize=20)\n",
    "ax.tick_params(labelsize=15)\n",
    "#sns.plt.show()\n",
    "plt.show()"
   ]
  },
  {
   "cell_type": "markdown",
   "metadata": {},
   "source": [
    "## Banda, Músicas"
   ]
  },
  {
   "cell_type": "code",
   "execution_count": null,
   "metadata": {},
   "outputs": [],
   "source": [
    "import spotipy\n",
    "sp = login_spotify()\n",
    "\n",
    "results = sp.search(q='weezer', limit=20)\n",
    "for i, t in enumerate(results['tracks']['items']):\n",
    "    print (' ', i, t['name'])"
   ]
  },
  {
   "cell_type": "markdown",
   "metadata": {},
   "source": [
    "## Mostra todos os albuns de um cantor/cantora"
   ]
  },
  {
   "cell_type": "code",
   "execution_count": null,
   "metadata": {},
   "outputs": [],
   "source": [
    "import sys\n",
    "import spotipy\n",
    "\n",
    "''' shows the albums and tracks for a given artist.\n",
    "'''\n",
    "\n",
    "def get_artist(name):\n",
    "    results = sp.search(q='artist:' + name, type='artist')\n",
    "    items = results['artists']['items']\n",
    "    if len(items) > 0:\n",
    "        return items[0]\n",
    "    else:\n",
    "        return None\n",
    "\n",
    "def show_artist_albums(artist):\n",
    "    albums = []\n",
    "    results = sp.artist_albums(artist['id'], album_type='album')\n",
    "    albums.extend(results['items'])\n",
    "    while results['next']:\n",
    "        results = sp.next(results)\n",
    "        albums.extend(results['items'])\n",
    "    seen = set() # to avoid dups\n",
    "    albums.sort(key=lambda album:album['name'].lower())\n",
    "    for album in albums:\n",
    "        name = album['name']\n",
    "        if name not in seen:\n",
    "            print((' ' + name))\n",
    "            seen.add(name)\n",
    "\n",
    "if __name__ == '__main__':\n",
    "    sp = login_spotify()\n",
    "\n",
    "    name = 'Beyonce'\n",
    "    artist = get_artist(name)\n",
    "    if artist:\n",
    "        print('Albuns de: ', name)\n",
    "        show_artist_albums(artist)\n",
    "    else:\n",
    "        print(\"Can't find that artist\")"
   ]
  },
  {
   "cell_type": "markdown",
   "metadata": {},
   "source": [
    "## Obtém informações do Artista"
   ]
  },
  {
   "cell_type": "code",
   "execution_count": null,
   "metadata": {},
   "outputs": [],
   "source": [
    "def obter_informacoes(nome_artista):\n",
    "    from PIL import Image\n",
    "    from urllib.request import urlopen\n",
    "    artista = get_artist(nome_artista)\n",
    "    seguidores = artista['followers']['total']\n",
    "    genero = artista['genres']\n",
    "    foto_url = artista['images'][0]['url']\n",
    "    popularidade = artista['popularity']\n",
    "    uri = artista['uri']\n",
    "    url_spotify = artista['external_urls']['spotify']\n",
    "    print('Artista: ', artista['name'])\n",
    "    print('Número de Seguidores: ', '{:,d}'.format(seguidores))\n",
    "    print('Gênero: ', genero)\n",
    "    print('Popularidade: ', popularidade)\n",
    "    print('Spotify uri:', uri)\n",
    "    print('Spotify url:',url_spotify)\n",
    "    foto = Image.open(urlopen(foto_url))\n",
    "    return foto #seguidores, genero, popularidade, foto_url, uri, url_spotify\n",
    "\n",
    "nome_artista = 'Beyonce'\n",
    "foto = obter_informacoes(nome_artista)\n",
    "foto"
   ]
  },
  {
   "cell_type": "code",
   "execution_count": null,
   "metadata": {},
   "outputs": [],
   "source": [
    "nome_artista = 'Anitta'\n",
    "foto = obter_informacoes(nome_artista)\n",
    "foto"
   ]
  }
 ],
 "metadata": {
  "kernelspec": {
   "display_name": "Python 3",
   "language": "python",
   "name": "python3"
  },
  "language_info": {
   "codemirror_mode": {
    "name": "ipython",
    "version": 3
   },
   "file_extension": ".py",
   "mimetype": "text/x-python",
   "name": "python",
   "nbconvert_exporter": "python",
   "pygments_lexer": "ipython3",
   "version": "3.8.5"
  }
 },
 "nbformat": 4,
 "nbformat_minor": 2
}
