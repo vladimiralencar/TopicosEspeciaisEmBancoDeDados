{
 "cells": [
  {
   "cell_type": "markdown",
   "metadata": {},
   "source": [
    "# Análise de Mídias Sociais - Usando Scrapy (Facebook) "
   ]
  },
  {
   "cell_type": "markdown",
   "metadata": {},
   "source": [
    "## Scrapy"
   ]
  },
  {
   "cell_type": "code",
   "execution_count": 1,
   "metadata": {},
   "outputs": [
    {
     "ename": "AttributeError",
     "evalue": "'NoneType' object has no attribute 'contents'",
     "output_type": "error",
     "traceback": [
      "\u001b[0;31m---------------------------------------------------------------------------\u001b[0m",
      "\u001b[0;31mAttributeError\u001b[0m                            Traceback (most recent call last)",
      "Cell \u001b[0;32mIn[1], line 27\u001b[0m\n\u001b[1;32m     24\u001b[0m     \u001b[38;5;28;01mreturn\u001b[39;00m(likes, dimensao)\n\u001b[1;32m     26\u001b[0m name_page \u001b[38;5;241m=\u001b[39m \u001b[38;5;124m'\u001b[39m\u001b[38;5;124mcocacolabr\u001b[39m\u001b[38;5;124m'\u001b[39m\n\u001b[0;32m---> 27\u001b[0m likes, dimensao \u001b[38;5;241m=\u001b[39m scrapy_facebook_likes(name_page)\n\u001b[1;32m     28\u001b[0m \u001b[38;5;28mprint\u001b[39m(likes\u001b[38;5;241m*\u001b[39mdimensao)\n",
      "Cell \u001b[0;32mIn[1], line 17\u001b[0m, in \u001b[0;36mscrapy_facebook_likes\u001b[0;34m(name_page)\u001b[0m\n\u001b[1;32m     14\u001b[0m soup \u001b[38;5;241m=\u001b[39m BeautifulSoup(html, \u001b[38;5;124m\"\u001b[39m\u001b[38;5;124mlxml\u001b[39m\u001b[38;5;124m\"\u001b[39m) \u001b[38;5;66;03m# \"html\") \"lxml\"\u001b[39;00m\n\u001b[1;32m     15\u001b[0m total_curtidas \u001b[38;5;241m=\u001b[39m soup\u001b[38;5;241m.\u001b[39mfind(\u001b[38;5;124m'\u001b[39m\u001b[38;5;124mdiv\u001b[39m\u001b[38;5;124m'\u001b[39m, attrs\u001b[38;5;241m=\u001b[39m{\u001b[38;5;124m'\u001b[39m\u001b[38;5;124mclass\u001b[39m\u001b[38;5;124m'\u001b[39m: \u001b[38;5;124m'\u001b[39m\u001b[38;5;124m_3xom\u001b[39m\u001b[38;5;124m'\u001b[39m})\n\u001b[0;32m---> 17\u001b[0m total_curtidas_str \u001b[38;5;241m=\u001b[39m \u001b[38;5;124m'\u001b[39m\u001b[38;5;124m'\u001b[39m\u001b[38;5;241m.\u001b[39mjoin(total_curtidas\u001b[38;5;241m.\u001b[39mcontents)\n\u001b[1;32m     18\u001b[0m total_curtidas_str  \u001b[38;5;241m=\u001b[39m total_curtidas_str\u001b[38;5;241m.\u001b[39mreplace(\u001b[38;5;124m'\u001b[39m\u001b[38;5;130;01m\\xa0\u001b[39;00m\u001b[38;5;124m'\u001b[39m, \u001b[38;5;124m'\u001b[39m\u001b[38;5;124m \u001b[39m\u001b[38;5;124m'\u001b[39m)\n\u001b[1;32m     19\u001b[0m total_curtidas_str  \u001b[38;5;241m=\u001b[39m total_curtidas_str\u001b[38;5;241m.\u001b[39mreplace(\u001b[38;5;124m'\u001b[39m\u001b[38;5;124m,\u001b[39m\u001b[38;5;124m'\u001b[39m,\u001b[38;5;124m'\u001b[39m\u001b[38;5;124m.\u001b[39m\u001b[38;5;124m'\u001b[39m)\n",
      "\u001b[0;31mAttributeError\u001b[0m: 'NoneType' object has no attribute 'contents'"
     ]
    }
   ],
   "source": [
    "from bs4 import BeautifulSoup\n",
    "import requests\n",
    "def scrapy_facebook_likes(name_page):\n",
    "    \n",
    "    dict_dimensao_dados = {\n",
    "        'mi': 1000000, # milhao\n",
    "        'mil': 1000\n",
    "    }\n",
    "    \n",
    "    url = 'https://www.facebook.com/pg/' + name_page + '/community/?ref=page_internal'\n",
    "    \n",
    "    response = requests.get(url)\n",
    "    html = response.content\n",
    "    soup = BeautifulSoup(html, \"lxml\") # \"html\") \"lxml\"\n",
    "    total_curtidas = soup.find('div', attrs={'class': '_3xom'})\n",
    "    \n",
    "    total_curtidas_str = ''.join(total_curtidas.contents)\n",
    "    total_curtidas_str  = total_curtidas_str.replace('\\xa0', ' ')\n",
    "    total_curtidas_str  = total_curtidas_str.replace(',','.')\n",
    "    likes, dimensao = total_curtidas_str.split() # mi - milhoes, mil = 1000\n",
    "    likes = float(likes)\n",
    "    dimensao = dict_dimensao_dados[dimensao]\n",
    "     \n",
    "    return(likes, dimensao)\n",
    "\n",
    "name_page = 'cocacolabr'\n",
    "likes, dimensao = scrapy_facebook_likes(name_page)\n",
    "print(likes*dimensao)"
   ]
  },
  {
   "cell_type": "code",
   "execution_count": null,
   "metadata": {},
   "outputs": [],
   "source": [
    "# 105000000.0"
   ]
  },
  {
   "cell_type": "code",
   "execution_count": null,
   "metadata": {},
   "outputs": [],
   "source": [
    "import pandas as pd\n",
    "def analyze_facebook_likes(names):\n",
    "    \n",
    "    df = pd.DataFrame(columns=['name','likes'])\n",
    "    i = 0\n",
    "    for name in names:   \n",
    "        likes, dimensao = scrapy_facebook_likes(name)\n",
    "        likes = likes * dimensao  \n",
    "        df.loc[i] = {\n",
    "         \"name\": name,\n",
    "         \"likes\": likes,\n",
    "          } \n",
    "        i = i + 1\n",
    "        #print(dfdivas)        \n",
    "    return df\n",
    "\n",
    "divas = ['TaylorSwift', 'katyperry', 'beyonce', 'rihanna', 'ladygaga']\n",
    "df = analyze_facebook_likes(divas)\n",
    "df.sort_values('likes')"
   ]
  },
  {
   "cell_type": "code",
   "execution_count": null,
   "metadata": {},
   "outputs": [],
   "source": [
    "import matplotlib.pyplot as plt\n",
    "import seaborn as sns\n",
    "import datetime\n",
    "def plot_data(df):\n",
    "    title = \"Facebook - Likes em Milhões - \" +  datetime.datetime.now().strftime('%Y-%m-%d %H:%M:%S')\n",
    "    plt.figure(figsize=(10,6))\n",
    "    plt.title(title, fontsize=20)\n",
    "    ax = sns.barplot(y='name',x='likes', data = df, palette=\"RdBu_r\")\n",
    "    #ax.set_title(title)\n",
    "    #fig = plt.figure(1111)\n",
    "    #fig.suptitle('Facebook - Likes em Milhões - Setembro 2017', fontsize=20)\n",
    "    ax.set_xlabel('Likes (Milhões)', fontsize=16)\n",
    "    ax.set_ylabel('Nome', fontsize=16)\n",
    "    #ax.figure()\n",
    "    #print (\"Facebook - Likes em Milhões - \" +  datetime.datetime.now().strftime('%Y-%m-%d  %H:%M:%S'))\n",
    "    plt.show()"
   ]
  },
  {
   "cell_type": "markdown",
   "metadata": {},
   "source": [
    "### API facebook-sdk\n",
    "Na Api do facebook você pode accesar alguns dados (ela está cada vez mais restrita).<br />\n",
    "Você precisa criar um token de acesso, para ter direito a acessar a API do facebook. <br />\n",
    "Acesse https://developers.facebook.com/tools/explorer/ para criar o seu token de acesso.<br />\n",
    "Exemplo de token<br />\n",
    "token = \"EAACEdEose0cBAOL7ncuPpluMIvn1gdM6jT1KdgIKR7KQqnkD5Ikt1YZCOZBnFlej9ECVgwV4azdvO7omFJXjTakPZAa6oIvUX45mAMSYGMCMn9gi6Nol8w6bUkFNXtwu1RLCT2LkucQPsC1lc7vDxoXXvnZAb3IL1PsLSragmvkQcdrkcoLdQTKKyBCzWhoZD\""
   ]
  },
  {
   "cell_type": "markdown",
   "metadata": {},
   "source": [
    "## Facebook - Coca-Cola X Pepsi"
   ]
  },
  {
   "cell_type": "code",
   "execution_count": null,
   "metadata": {},
   "outputs": [],
   "source": [
    "produtos = ['cocacolabr', 'pepsi']\n",
    "\n",
    "df = analyze_facebook_likes(produtos)\n",
    "df.sort_values('likes')"
   ]
  },
  {
   "cell_type": "code",
   "execution_count": null,
   "metadata": {},
   "outputs": [],
   "source": [
    "plot_data(df)"
   ]
  },
  {
   "cell_type": "markdown",
   "metadata": {},
   "source": [
    "## Análise de Mídias Sociais (facebook) - Celebridades Divas Internacionais"
   ]
  },
  {
   "cell_type": "code",
   "execution_count": null,
   "metadata": {},
   "outputs": [],
   "source": [
    "import pandas as pd\n",
    "divas = [ 'beyonce', 'rihanna', 'ladygaga']\n",
    "df = analyze_facebook_likes(divas)\n",
    "# sort by likes\n",
    "df2 = df.sort_values('likes')\n",
    "df2"
   ]
  },
  {
   "cell_type": "markdown",
   "metadata": {},
   "source": [
    "## Nomalizar os dados para mesma escala"
   ]
  },
  {
   "cell_type": "code",
   "execution_count": null,
   "metadata": {},
   "outputs": [],
   "source": [
    "# normalyze Data\n",
    "df3 = df2\n",
    "milion = 1000000\n",
    "desred_decimals = 2    \n",
    "df3['likes'] = df3.likes.apply(lambda x: round(x/milion,desred_decimals))\n",
    "print (\"likes em Milhões\")\n",
    "df3"
   ]
  },
  {
   "cell_type": "code",
   "execution_count": null,
   "metadata": {},
   "outputs": [],
   "source": [
    "plot_data(df3)"
   ]
  },
  {
   "cell_type": "markdown",
   "metadata": {},
   "source": [
    "## Análise de Mídias Sociais (facebook) - Celebridades Brasileiras"
   ]
  },
  {
   "cell_type": "code",
   "execution_count": null,
   "metadata": {},
   "outputs": [],
   "source": [
    "names_facebook = ['WesleySafadao', 'whinderssonnunesoficial', 'mariliamendoncaoficial', '5incominutos']\n",
    "df = analyze_facebook_likes(names_facebook)\n",
    "# sort by likes\n",
    "# sort by likespage\n",
    "df2 = df.sort_values('likes')\n",
    "df2"
   ]
  },
  {
   "cell_type": "markdown",
   "metadata": {},
   "source": [
    "### Normalizar os dados para a mesma escala"
   ]
  },
  {
   "cell_type": "code",
   "execution_count": null,
   "metadata": {},
   "outputs": [],
   "source": [
    "# normalyze Data\n",
    "df3 = df2\n",
    "milion = 1000000\n",
    "desred_decimals = 2    \n",
    "df3.likes = df3.likes.apply(lambda x: round(x/milion,desred_decimals))\n",
    "\n",
    "print (\"Likes em Milhões\")\n",
    "df3"
   ]
  },
  {
   "cell_type": "code",
   "execution_count": null,
   "metadata": {},
   "outputs": [],
   "source": [
    "plot_data(df3)"
   ]
  },
  {
   "cell_type": "markdown",
   "metadata": {
    "collapsed": true,
    "jupyter": {
     "outputs_hidden": true
    }
   },
   "source": [
    "## Análise de Mídias Sociais (facebook) - Mais análises"
   ]
  },
  {
   "cell_type": "code",
   "execution_count": null,
   "metadata": {},
   "outputs": [],
   "source": [
    "names_facebook = [ 'olhardigital', 'revistainfo', 'canalnerdologia']\n",
    "#names_facebook = [ name.lower() for name in names_facebook]\n",
    "df = analyze_facebook_likes(names_facebook)\n",
    "# sort by likes\n",
    "# sort by likespage\n",
    "df2 = df.sort_values('likes')\n",
    "df2"
   ]
  },
  {
   "cell_type": "code",
   "execution_count": null,
   "metadata": {},
   "outputs": [],
   "source": [
    "# normalyze Data\n",
    "df3 = df2\n",
    "milion = 1000000\n",
    "desred_decimals = 2    \n",
    "df3.likes = df3.likes.apply(lambda x: round(x/milion,desred_decimals))\n",
    "\n",
    "print (\"Likes em Milhões\")\n",
    "df3"
   ]
  },
  {
   "cell_type": "code",
   "execution_count": null,
   "metadata": {},
   "outputs": [],
   "source": [
    "plot_data(df2)"
   ]
  },
  {
   "cell_type": "code",
   "execution_count": null,
   "metadata": {},
   "outputs": [],
   "source": []
  }
 ],
 "metadata": {
  "kernelspec": {
   "display_name": "Python 3 (ipykernel)",
   "language": "python",
   "name": "python3"
  },
  "language_info": {
   "codemirror_mode": {
    "name": "ipython",
    "version": 3
   },
   "file_extension": ".py",
   "mimetype": "text/x-python",
   "name": "python",
   "nbconvert_exporter": "python",
   "pygments_lexer": "ipython3",
   "version": "3.12.4"
  }
 },
 "nbformat": 4,
 "nbformat_minor": 4
}
